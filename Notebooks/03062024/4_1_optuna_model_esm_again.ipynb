{
 "cells": [
  {
   "cell_type": "markdown",
   "id": "9a2319a5",
   "metadata": {},
   "source": [
    "This notebook will implement changing lora settings and separate dataloader"
   ]
  },
  {
   "cell_type": "code",
   "execution_count": 1,
   "id": "1f1959ca-a3c9-46d8-8519-064c38f52007",
   "metadata": {
    "execution": {
     "iopub.execute_input": "2024-04-05T12:48:44.051741Z",
     "iopub.status.busy": "2024-04-05T12:48:44.050047Z",
     "iopub.status.idle": "2024-04-05T12:52:49.260801Z",
     "shell.execute_reply": "2024-04-05T12:52:49.259100Z",
     "shell.execute_reply.started": "2024-04-05T12:48:44.051657Z"
    },
    "tags": []
   },
   "outputs": [],
   "source": [
    "# !pip install torch==2.1.1 torchaudio torchvision tqdm==4.66.1 accelerate==0.24.1 biopython==1.81 numpy==1.26.2 pandas==2.1.3 \\\n",
    "# transformers==4.35.2 datasets==2.15.0 scikit-learn==1.3.2 umap-learn==0.5.5 sentencepiece==0.1.99 seaborn==0.13.0 scipy==1.11.4 \\\n",
    "# matplotlib==3.8.2 evaluate==0.4.1 deepspeed==0.12.3"
   ]
  },
  {
   "cell_type": "code",
   "execution_count": 2,
   "id": "060d0bba-32ad-4dc9-b1b8-d1124da1336c",
   "metadata": {
    "tags": []
   },
   "outputs": [],
   "source": [
    "# try with UMAP"
   ]
  },
  {
   "cell_type": "code",
   "execution_count": 2,
   "id": "8a377270-2995-4da1-a673-5369769a6279",
   "metadata": {
    "execution": {
     "iopub.execute_input": "2024-04-05T12:52:49.264011Z",
     "iopub.status.busy": "2024-04-05T12:52:49.263502Z",
     "iopub.status.idle": "2024-04-05T12:53:29.491461Z",
     "shell.execute_reply": "2024-04-05T12:53:29.490156Z",
     "shell.execute_reply.started": "2024-04-05T12:52:49.263956Z"
    },
    "tags": []
   },
   "outputs": [
    {
     "name": "stderr",
     "output_type": "stream",
     "text": [
      "/home/ubuntu/data/miniconda3/envs/finetune-dephos/lib/python3.9/site-packages/tqdm/auto.py:21: TqdmWarning: IProgress not found. Please update jupyter and ipywidgets. See https://ipywidgets.readthedocs.io/en/stable/user_install.html\n",
      "  from .autonotebook import tqdm as notebook_tqdm\n"
     ]
    }
   ],
   "source": [
    "import os.path\n",
    "\n",
    "import torch\n",
    "import torch.nn as nn\n",
    "import torch.nn.functional as F\n",
    "from torch.nn import BCEWithLogitsLoss, CrossEntropyLoss, MSELoss\n",
    "from torch.utils.data import DataLoader\n",
    "\n",
    "import re\n",
    "import numpy as np\n",
    "import pandas as pd\n",
    "import copy\n",
    "\n",
    "import transformers, datasets\n",
    "from transformers.modeling_outputs import SequenceClassifierOutput\n",
    "# from transformers.models.t5.modeling_t5 import T5Config, T5PreTrainedModel, T5Stack\n",
    "from transformers.utils.model_parallel_utils import assert_device_map, get_device_map\n",
    "# from transformers import T5EncoderModel, T5Tokenizer\n",
    "from transformers import TrainingArguments, Trainer, set_seed\n",
    "from transformers import AutoTokenizer\n",
    "from transformers import AutoModelForSequenceClassification, TrainingArguments, Trainer\n",
    "\n",
    "from transformers import EsmModel, EsmConfig, EsmTokenizer\n",
    "\n",
    "\n",
    "# Initializing a ESM facebook/esm-1b style configuration >>> configuration = EsmConfig()\n",
    "\n",
    "# Initializing a model from the configuration >>> model = ESMModel(configuration)\n",
    "\n",
    "# Accessing the model configuration >>> configuration = model.config\n",
    "\n",
    "from evaluate import load\n",
    "from datasets import Dataset\n",
    "\n",
    "from tqdm import tqdm\n",
    "import random\n",
    "\n",
    "from scipy import stats\n",
    "from sklearn.metrics import accuracy_score\n",
    "\n",
    "import matplotlib.pyplot as plt\n",
    "#!pip install umap-learn\n",
    "import umap"
   ]
  },
  {
   "cell_type": "code",
   "execution_count": 3,
   "id": "0148ff8f-80eb-4bbd-aac7-fe1f371da27a",
   "metadata": {
    "execution": {
     "iopub.execute_input": "2024-04-05T12:53:29.508233Z",
     "iopub.status.busy": "2024-04-05T12:53:29.507801Z",
     "iopub.status.idle": "2024-04-05T12:53:29.536614Z",
     "shell.execute_reply": "2024-04-05T12:53:29.514877Z",
     "shell.execute_reply.started": "2024-04-05T12:53:29.508197Z"
    },
    "tags": []
   },
   "outputs": [
    {
     "name": "stdout",
     "output_type": "stream",
     "text": [
      "Torch version:  2.1.1+cu121\n",
      "Cuda version:  12.1\n",
      "Numpy version:  1.26.4\n",
      "Pandas version:  2.2.2\n",
      "Transformers version:  4.35.2\n",
      "Datasets version:  2.19.1\n"
     ]
    }
   ],
   "source": [
    "print(\"Torch version: \",torch.__version__)\n",
    "print(\"Cuda version: \",torch.version.cuda)\n",
    "print(\"Numpy version: \",np.__version__)\n",
    "print(\"Pandas version: \",pd.__version__)\n",
    "print(\"Transformers version: \",transformers.__version__)\n",
    "print(\"Datasets version: \",datasets.__version__)"
   ]
  },
  {
   "cell_type": "code",
   "execution_count": 4,
   "id": "96bd9396-a81c-4d87-a722-0d2020627dbd",
   "metadata": {
    "execution": {
     "iopub.execute_input": "2024-04-05T12:53:29.538488Z",
     "iopub.status.busy": "2024-04-05T12:53:29.538089Z",
     "iopub.status.idle": "2024-04-05T12:53:29.768968Z",
     "shell.execute_reply": "2024-04-05T12:53:29.767620Z",
     "shell.execute_reply.started": "2024-04-05T12:53:29.538452Z"
    },
    "tags": []
   },
   "outputs": [
    {
     "data": {
      "text/html": [
       "<div>\n",
       "<style scoped>\n",
       "    .dataframe tbody tr th:only-of-type {\n",
       "        vertical-align: middle;\n",
       "    }\n",
       "\n",
       "    .dataframe tbody tr th {\n",
       "        vertical-align: top;\n",
       "    }\n",
       "\n",
       "    .dataframe thead th {\n",
       "        text-align: right;\n",
       "    }\n",
       "</style>\n",
       "<table border=\"1\" class=\"dataframe\">\n",
       "  <thead>\n",
       "    <tr style=\"text-align: right;\">\n",
       "      <th></th>\n",
       "      <th>name</th>\n",
       "      <th>sequence</th>\n",
       "      <th>label</th>\n",
       "    </tr>\n",
       "  </thead>\n",
       "  <tbody>\n",
       "    <tr>\n",
       "      <th>0</th>\n",
       "      <td>sp|P24928|RPB1_HUMAN%1775%1791</td>\n",
       "      <td>NYTPTSPNYSPTSPSYSPTSPSYSPTSPSYSPS</td>\n",
       "      <td>1</td>\n",
       "    </tr>\n",
       "    <tr>\n",
       "      <th>1</th>\n",
       "      <td>sp|P05787|K2C8_HUMAN%58%74</td>\n",
       "      <td>SGMGGITAVTVNQSLLSPLVLEVDPNIQAVRTQ</td>\n",
       "      <td>1</td>\n",
       "    </tr>\n",
       "    <tr>\n",
       "      <th>2</th>\n",
       "      <td>sp|Q14832|GRM3_HUMAN%829%845</td>\n",
       "      <td>QPQKNVVTHRLHLNRFSVSGTGTTYSQSSASTY</td>\n",
       "      <td>1</td>\n",
       "    </tr>\n",
       "    <tr>\n",
       "      <th>3</th>\n",
       "      <td>sp|P01106|MYC_HUMAN%46%62</td>\n",
       "      <td>SEDIWKKFELLPTPPLSPSRRSGLCSPSYVAVT</td>\n",
       "      <td>1</td>\n",
       "    </tr>\n",
       "    <tr>\n",
       "      <th>4</th>\n",
       "      <td>sp|Q92736|RYR2_HUMAN%2792%2808</td>\n",
       "      <td>TREGDSMALYNRTRRISQTSQVSVDAAHGYSPR</td>\n",
       "      <td>1</td>\n",
       "    </tr>\n",
       "  </tbody>\n",
       "</table>\n",
       "</div>"
      ],
      "text/plain": [
       "                             name                           sequence  label\n",
       "0  sp|P24928|RPB1_HUMAN%1775%1791  NYTPTSPNYSPTSPSYSPTSPSYSPTSPSYSPS      1\n",
       "1      sp|P05787|K2C8_HUMAN%58%74  SGMGGITAVTVNQSLLSPLVLEVDPNIQAVRTQ      1\n",
       "2    sp|Q14832|GRM3_HUMAN%829%845  QPQKNVVTHRLHLNRFSVSGTGTTYSQSSASTY      1\n",
       "3       sp|P01106|MYC_HUMAN%46%62  SEDIWKKFELLPTPPLSPSRRSGLCSPSYVAVT      1\n",
       "4  sp|Q92736|RYR2_HUMAN%2792%2808  TREGDSMALYNRTRRISQTSQVSVDAAHGYSPR      1"
      ]
     },
     "execution_count": 4,
     "metadata": {},
     "output_type": "execute_result"
    }
   ],
   "source": [
    "from Bio import SeqIO\n",
    "import pandas as pd\n",
    "\n",
    "sequences = []\n",
    "\n",
    "local_fasta_path = '../src/input_datasets/train_Pos_Neg_ST.fasta'\n",
    "\n",
    "# Load FASTA file using Biopython\n",
    "for record in SeqIO.parse(local_fasta_path, \"fasta\"):\n",
    "    # Split the description to extract label\n",
    "    description_parts = record.description.split(\"%\")\n",
    "    label = int(description_parts[-1].split(\"LABEL=\")[1])  # Extracting the numeric part of the label\n",
    "    sequences.append([record.name, str(record.seq), label])\n",
    "\n",
    "local_fasta_path = '../src/input_datasets/train_Pos_Neg_Y.fasta'\n",
    "\n",
    "for record in SeqIO.parse(local_fasta_path, \"fasta\"):\n",
    "    # Split the description to extract label\n",
    "    description_parts = record.description.split(\"%\")\n",
    "    label = int(description_parts[-1].split(\"LABEL=\")[1])  # Extracting the numeric part of the label\n",
    "    sequences.append([record.name, str(record.seq), label])\n",
    "\n",
    "# Create dataframe\n",
    "df = pd.DataFrame(sequences, columns=[\"name\", \"sequence\", \"label\"])\n",
    "\n",
    "# Display the dataframe\n",
    "df.head(5)\n"
   ]
  },
  {
   "cell_type": "code",
   "execution_count": 6,
   "id": "c5b784f7",
   "metadata": {},
   "outputs": [],
   "source": [
    "# # Function to get the middle character\n",
    "# def get_middle_char(sequence):\n",
    "#     chars = list(sequence)\n",
    "#     middle_index = len(chars) // 2\n",
    "#     return chars[middle_index]\n",
    "\n",
    "# # Apply the function to get the middle characters\n",
    "# df['middle_char'] = df['sequence'].apply(get_middle_char)"
   ]
  },
  {
   "cell_type": "code",
   "execution_count": 7,
   "id": "25a68724",
   "metadata": {},
   "outputs": [],
   "source": [
    "# # Function to count 'S', 'T', 'Y' in a sequence\n",
    "# def count_chars(sequence, char):\n",
    "#     return sequence.count(char)\n",
    "\n",
    "# # Count the occurrences of 'S', 'T', and 'Y' in the sequences\n",
    "# df['count_S'] = df['middle_char'].apply(lambda seq: count_chars(seq, 'S'))\n",
    "# df['count_T'] = df['middle_char'].apply(lambda seq: count_chars(seq, 'T'))\n",
    "# df['count_Y'] = df['middle_char'].apply(lambda seq: count_chars(seq, 'Y'))\n",
    "\n",
    "# # Sum the counts to get the total occurrences in the DataFrame\n",
    "# total_S = df['count_S'].sum()\n",
    "# total_T = df['count_T'].sum()\n",
    "# total_Y = df['count_Y'].sum()\n",
    "\n",
    "# print(f\"Total number of 'S': {total_S}\")\n",
    "# print(f\"Total number of 'T': {total_T}\")\n",
    "# print(f\"Total number of 'Y': {total_Y}\")"
   ]
  },
  {
   "cell_type": "code",
   "execution_count": 8,
   "id": "6f9c28e2",
   "metadata": {},
   "outputs": [],
   "source": [
    "# # Group by label and sum the counts\n",
    "# grouped_counts = df.groupby('label')[['count_S', 'count_T', 'count_Y']].sum().reset_index()\n",
    "\n",
    "# # Display the grouped counts\n",
    "# print(grouped_counts)"
   ]
  },
  {
   "cell_type": "code",
   "execution_count": 9,
   "id": "14c189b6",
   "metadata": {},
   "outputs": [],
   "source": [
    "# # Separate the DataFrame by middle character\n",
    "# df_S = df[df['middle_char'] == 'S']\n",
    "# df_T = df[df['middle_char'] == 'T']\n",
    "# df_Y = df[df['middle_char'] == 'Y']\n",
    "\n",
    "# # Separate each subset by label\n",
    "# df_S_0 = df_S[df_S['label'] == 0]\n",
    "# df_S_1 = df_S[df_S['label'] == 1]\n",
    "# df_T_0 = df_T[df_T['label'] == 0]\n",
    "# df_T_1 = df_T[df_T['label'] == 1]\n",
    "# df_Y_0 = df_Y[df_Y['label'] == 0]\n",
    "# df_Y_1 = df_Y[df_Y['label'] == 1]\n"
   ]
  },
  {
   "cell_type": "code",
   "execution_count": 10,
   "id": "333000b7",
   "metadata": {},
   "outputs": [],
   "source": [
    "# from sklearn.utils import resample\n",
    "# # Desired number of samples per group\n",
    "# n_samples_S = 500\n",
    "# n_sampple_T = 300\n",
    "# n_sampple_Y = 200\n",
    "# # Perform stratified sampling\n",
    "# df_S_0_resampled = resample(df_S_0, replace=False, n_samples=n_samples_S, random_state=42)\n",
    "# df_S_1_resampled = resample(df_S_1, replace=False, n_samples=n_samples_S, random_state=42)\n",
    "# df_T_0_resampled = resample(df_T_0, replace=True, n_samples=n_sampple_T, random_state=42)\n",
    "# df_T_1_resampled = resample(df_T_1, replace=True, n_samples=n_sampple_T, random_state=42)\n",
    "# df_Y_0_resampled = resample(df_Y_0, replace=True, n_samples=n_sampple_Y, random_state=42)\n",
    "# df_Y_1_resampled = resample(df_Y_1, replace=True, n_samples=n_sampple_Y, random_state=42)\n",
    "\n"
   ]
  },
  {
   "cell_type": "code",
   "execution_count": 11,
   "id": "31710914",
   "metadata": {},
   "outputs": [],
   "source": [
    "# # Combine the resampled subsets\n",
    "# balanced_df = pd.concat([\n",
    "#     df_S_0_resampled, df_S_1_resampled,\n",
    "#     df_T_0_resampled, df_T_1_resampled,\n",
    "#     df_Y_0_resampled, df_Y_1_resampled\n",
    "# ])\n",
    "\n",
    "# # Shuffle the combined DataFrame\n",
    "# balanced_df = balanced_df.sample(frac=1, random_state=42).reset_index(drop=True)\n",
    "\n",
    "# print(\"Balanced DataFrame:\")\n",
    "# print(balanced_df)\n"
   ]
  },
  {
   "cell_type": "code",
   "execution_count": 12,
   "id": "46617eaa-de6d-4d12-82cb-08ec66b4f56a",
   "metadata": {
    "execution": {
     "iopub.execute_input": "2024-04-05T12:53:29.771322Z",
     "iopub.status.busy": "2024-04-05T12:53:29.770859Z",
     "iopub.status.idle": "2024-04-05T12:53:29.786558Z",
     "shell.execute_reply": "2024-04-05T12:53:29.785263Z",
     "shell.execute_reply.started": "2024-04-05T12:53:29.771275Z"
    },
    "tags": []
   },
   "outputs": [],
   "source": [
    "# from sklearn.model_selection import train_test_split\n",
    "\n",
    "# # Split the dataset into training and validation sets\n",
    "# my_train, my_valid = train_test_split(\n",
    "#     balanced_df, \n",
    "#     test_size=0.2, \n",
    "#     random_state=42, \n",
    "#     stratify=balanced_df[['label', 'middle_char']]\n",
    "# )\n",
    "\n",
    "# my_train=my_train[[\"sequence\", \"label\"]]\n",
    "# my_valid=my_valid[[\"sequence\",\"label\"]]\n",
    "\n",
    "\n",
    "# # Print the first 5 rows of the training set\n",
    "# print(\"Training Set:\")\n",
    "# print(my_train.shape)\n",
    "\n",
    "# # Print the first 5 rows of the validation set\n",
    "# print(\"\\nValidation Set:\")\n",
    "# print(my_valid.shape)"
   ]
  },
  {
   "cell_type": "code",
   "execution_count": 5,
   "id": "76760f9d",
   "metadata": {},
   "outputs": [
    {
     "name": "stdout",
     "output_type": "stream",
     "text": [
      "Training Set:\n",
      "(1584, 2)\n",
      "\n",
      "Validation Set:\n",
      "(396, 2)\n"
     ]
    }
   ],
   "source": [
    "from sklearn.model_selection import train_test_split\n",
    "\n",
    "# Split the dataset into training and validation sets\n",
    "my_train, my_valid = train_test_split(df, test_size=0.2, random_state=42)\n",
    "\n",
    "my_train=my_train[[\"sequence\", \"label\"]]\n",
    "my_valid=my_valid[[\"sequence\",\"label\"]]\n",
    "\n",
    "\n",
    "# Print the first 5 rows of the training set\n",
    "print(\"Training Set:\")\n",
    "print(my_train.shape)\n",
    "\n",
    "# Print the first 5 rows of the validation set\n",
    "print(\"\\nValidation Set:\")\n",
    "print(my_valid.shape)"
   ]
  },
  {
   "cell_type": "code",
   "execution_count": 6,
   "id": "a424877b-787c-44fe-bf87-33346ffd3be5",
   "metadata": {
    "execution": {
     "iopub.execute_input": "2024-04-05T12:53:29.789138Z",
     "iopub.status.busy": "2024-04-05T12:53:29.788675Z",
     "iopub.status.idle": "2024-04-05T12:53:29.816779Z",
     "shell.execute_reply": "2024-04-05T12:53:29.815341Z",
     "shell.execute_reply.started": "2024-04-05T12:53:29.789094Z"
    },
    "tags": []
   },
   "outputs": [],
   "source": [
    "# Modifies an existing transformer and introduce the LoRA layers\n",
    "\n",
    "class LoRAConfig:\n",
    "    def __init__(self, lora_rank=8, lora_init_scale=0.01, lora_scaling_rank=2):\n",
    "        self.lora_rank = lora_rank\n",
    "        self.lora_init_scale = lora_init_scale\n",
    "        self.lora_modules = \".*SelfAttention|.*EncDecAttention\"\n",
    "        self.lora_layers = \"q|k|v|o\"\n",
    "        self.trainable_param_names = \".*layer_norm.*|.*lora_[ab].*\"\n",
    "        self.lora_scaling_rank = lora_scaling_rank\n",
    "        # lora_modules and lora_layers are specified with regular expressions\n",
    "        # see https://www.w3schools.com/python/python_regex.asp for reference\n",
    "        \n",
    "class LoRALinear(nn.Module):\n",
    "    def __init__(self, linear_layer, rank, scaling_rank, init_scale):\n",
    "        super().__init__()\n",
    "        self.in_features = linear_layer.in_features\n",
    "        self.out_features = linear_layer.out_features\n",
    "        self.rank = rank\n",
    "        self.scaling_rank = scaling_rank\n",
    "        self.weight = linear_layer.weight\n",
    "        self.bias = linear_layer.bias\n",
    "        if self.rank > 0:\n",
    "            self.lora_a = nn.Parameter(torch.randn(rank, linear_layer.in_features) * init_scale)\n",
    "            if init_scale < 0:\n",
    "                self.lora_b = nn.Parameter(torch.randn(linear_layer.out_features, rank) * init_scale)\n",
    "            else:\n",
    "                self.lora_b = nn.Parameter(torch.zeros(linear_layer.out_features, rank))\n",
    "        if self.scaling_rank:\n",
    "            self.multi_lora_a = nn.Parameter(\n",
    "                torch.ones(self.scaling_rank, linear_layer.in_features)\n",
    "                + torch.randn(self.scaling_rank, linear_layer.in_features) * init_scale\n",
    "            )\n",
    "            if init_scale < 0:\n",
    "                self.multi_lora_b = nn.Parameter(\n",
    "                    torch.ones(linear_layer.out_features, self.scaling_rank)\n",
    "                    + torch.randn(linear_layer.out_features, self.scaling_rank) * init_scale\n",
    "                )\n",
    "            else:\n",
    "                self.multi_lora_b = nn.Parameter(torch.ones(linear_layer.out_features, self.scaling_rank))\n",
    "\n",
    "    def forward(self, input):\n",
    "        if self.scaling_rank == 1 and self.rank == 0:\n",
    "            # parsimonious implementation for ia3 and lora scaling\n",
    "            if self.multi_lora_a.requires_grad:\n",
    "                hidden = F.linear((input * self.multi_lora_a.flatten()), self.weight, self.bias)\n",
    "            else:\n",
    "                hidden = F.linear(input, self.weight, self.bias)\n",
    "            if self.multi_lora_b.requires_grad:\n",
    "                hidden = hidden * self.multi_lora_b.flatten()\n",
    "            return hidden\n",
    "        else:\n",
    "            # general implementation for lora (adding and scaling)\n",
    "            weight = self.weight\n",
    "            if self.scaling_rank:\n",
    "                weight = weight * torch.matmul(self.multi_lora_b, self.multi_lora_a) / self.scaling_rank\n",
    "            if self.rank:\n",
    "                weight = weight + torch.matmul(self.lora_b, self.lora_a) / self.rank\n",
    "            return F.linear(input, weight, self.bias)\n",
    "\n",
    "    def extra_repr(self):\n",
    "        return \"in_features={}, out_features={}, bias={}, rank={}, scaling_rank={}\".format(\n",
    "            self.in_features, self.out_features, self.bias is not None, self.rank, self.scaling_rank\n",
    "        )\n",
    "\n",
    "\n",
    "def modify_with_lora(transformer, config):\n",
    "    for m_name, module in dict(transformer.named_modules()).items():\n",
    "        if re.fullmatch(config.lora_modules, m_name):\n",
    "            for c_name, layer in dict(module.named_children()).items():\n",
    "                if re.fullmatch(config.lora_layers, c_name):\n",
    "                    assert isinstance(\n",
    "                        layer, nn.Linear\n",
    "                    ), f\"LoRA can only be applied to torch.nn.Linear, but {layer} is {type(layer)}.\"\n",
    "                    setattr(\n",
    "                        module,\n",
    "                        c_name,\n",
    "                        LoRALinear(layer, config.lora_rank, config.lora_scaling_rank, config.lora_init_scale),\n",
    "                    )\n",
    "    return transformer"
   ]
  },
  {
   "cell_type": "code",
   "execution_count": 7,
   "id": "9e79b323-4677-4723-a5fd-a60dc13a3b0d",
   "metadata": {
    "execution": {
     "iopub.execute_input": "2024-04-05T12:53:29.819433Z",
     "iopub.status.busy": "2024-04-05T12:53:29.818965Z",
     "iopub.status.idle": "2024-04-05T12:53:29.845976Z",
     "shell.execute_reply": "2024-04-05T12:53:29.844438Z",
     "shell.execute_reply.started": "2024-04-05T12:53:29.819335Z"
    },
    "tags": []
   },
   "outputs": [],
   "source": [
    "class ClassConfig:\n",
    "    def __init__(self, dropout=0.7, num_labels=2):\n",
    "        self.dropout_rate = dropout\n",
    "        self.num_labels = num_labels\n",
    "\n",
    "class ESMClassificationHead(nn.Module):\n",
    "    \"\"\"Head for sentence-level classification tasks.\"\"\"\n",
    "\n",
    "    def __init__(self, config, class_config):\n",
    "        super().__init__()\n",
    "        self.dense = nn.Linear(config.hidden_size, config.hidden_size)\n",
    "        self.dropout = nn.Dropout(class_config.dropout_rate)\n",
    "        self.out_proj = nn.Linear(config.hidden_size, class_config.num_labels)\n",
    "   \n",
    "        # Trainable emphasis factor\n",
    "        self.emphasis_factor = nn.Parameter(torch.tensor(1.0))\n",
    "        \n",
    "    def forward(self, hidden_states):\n",
    "        seq_length = hidden_states.size(1)\n",
    "        middle_idx = seq_length // 2\n",
    "        middle_embedding = hidden_states[:, middle_idx, :]\n",
    "\n",
    "        # Apply trainable emphasis factor\n",
    "        emphasized_middle_embedding = middle_embedding * self.emphasis_factor\n",
    "\n",
    "        # Combine with the average embedding\n",
    "        average_embedding = torch.mean(hidden_states, dim=1)\n",
    "        combined_embedding = emphasized_middle_embedding + average_embedding\n",
    "\n",
    "        x = self.dropout(combined_embedding)\n",
    "        x = self.dense(x)\n",
    "        x = torch.tanh(x)\n",
    "        x = self.dropout(x)\n",
    "        logits = self.out_proj(x)\n",
    "        return logits\n",
    "    \n",
    "from transformers import PreTrainedModel, EsmModel, EsmConfig\n",
    "\n",
    "class ESMForSequenceClassification(PreTrainedModel):\n",
    "    config_class = EsmConfig\n",
    "\n",
    "    def __init__(self, config: EsmConfig, class_config):\n",
    "        super().__init__(config)\n",
    "        self.num_labels = class_config.num_labels\n",
    "        self.esm_model = EsmModel(config)\n",
    "        self.classifier = ESMClassificationHead(config, class_config)\n",
    "        self.init_weights()\n",
    "\n",
    "    def forward(self, input_ids=None, attention_mask=None, labels=None):\n",
    "        outputs = self.esm_model(input_ids, attention_mask=attention_mask)\n",
    "        hidden_states = outputs.last_hidden_state\n",
    "\n",
    "        logits = self.classifier(hidden_states)\n",
    "\n",
    "        loss = None\n",
    "        if labels is not None:\n",
    "            if self.num_labels == 1:\n",
    "                loss_fct = MSELoss()\n",
    "                loss = loss_fct(logits.squeeze(), labels.squeeze())\n",
    "            elif self.num_labels > 1 and labels.dtype in (torch.long, torch.int):\n",
    "                loss_fct = CrossEntropyLoss()\n",
    "                loss = loss_fct(logits.view(-1, self.num_labels), labels.view(-1))\n",
    "            else:\n",
    "                loss_fct = BCEWithLogitsLoss()\n",
    "                loss = loss_fct(logits, labels)\n",
    "        \n",
    "        return SequenceClassifierOutput(\n",
    "            loss=loss,\n",
    "            logits=logits,\n",
    "            hidden_states=outputs.hidden_states,\n",
    "            attentions=outputs.attentions,\n",
    "        )"
   ]
  },
  {
   "cell_type": "code",
   "execution_count": 8,
   "id": "71394626-6f8b-4ca5-80f3-c697e4320bf7",
   "metadata": {
    "execution": {
     "iopub.execute_input": "2024-04-05T12:53:29.848217Z",
     "iopub.status.busy": "2024-04-05T12:53:29.847782Z",
     "iopub.status.idle": "2024-04-05T12:53:29.859841Z",
     "shell.execute_reply": "2024-04-05T12:53:29.858398Z",
     "shell.execute_reply.started": "2024-04-05T12:53:29.848182Z"
    },
    "tags": []
   },
   "outputs": [],
   "source": [
    "from transformers import AutoTokenizer\n",
    "from transformers import AutoModelForSequenceClassification, TrainingArguments, Trainer\n",
    "\n",
    "\n",
    "def ESM_classification_model(num_labels, dropout, lora_rank, lora_init_scale, lora_scaling_rank):\n",
    "    model_checkpoint = \"facebook/esm2_t36_3B_UR50D\"\n",
    "\n",
    "    # Load PT5 and tokenizer\n",
    "    tokenizer = EsmTokenizer.from_pretrained(model_checkpoint, cache_dir=\"/home/ubuntu/data/hai/huggingface_cache/\", force_download=True)\n",
    "    model = EsmModel.from_pretrained(model_checkpoint, cache_dir=\"/home/ubuntu/data/hai/huggingface_cache/\", force_download=True)\n",
    "    # model = T5EncoderModel.from_pretrained(\"Rostlab/prot_t5_xl_bfd\", cache_dir=\"/home/ubuntu/data/hai/huggingface_cache/\", force_download=True)\n",
    "    # tokenizer = T5Tokenizer.from_pretrained(\"Rostlab/prot_t5_xl_bfd\", cache_dir=\"/home/ubuntu/data/hai/huggingface_cache/\", do_lower_case=False, force_download=True) \n",
    "    \n",
    "    # Create new Classifier model with PT5 dimensions\n",
    "    class_config=ClassConfig(num_labels=num_labels, dropout=dropout)\n",
    "    class_model = ESMForSequenceClassification(model.config, class_config)\n",
    "    \n",
    "    # # Set encoder and embedding weights to checkpoint weights\n",
    "    # class_model.shared=model.shared\n",
    "    # class_model.encoder=model.encoder    \n",
    "    \n",
    "    # # Delete the checkpoint model\n",
    "    class_model.esm_model = model\n",
    "    model=class_model\n",
    "    del class_model\n",
    "    \n",
    "    # Print number of trainable parameters\n",
    "    model_parameters = filter(lambda p: p.requires_grad, model.parameters())\n",
    "    params = sum([np.prod(p.size()) for p in model_parameters])\n",
    "    print(\"ESM_LoRA_Classfier\\nTrainable Parameter: \"+ str(params))    \n",
    " \n",
    "    # Add model modification lora\n",
    "    config = LoRAConfig(lora_rank=lora_rank, lora_init_scale=lora_init_scale, lora_scaling_rank=lora_scaling_rank)\n",
    "    \n",
    "    # Add LoRA layers\n",
    "    model = modify_with_lora(model, config)\n",
    "    \n",
    "    # Freeze Embeddings and Encoder (except LoRA)\n",
    "    for (param_name, param) in model.named_parameters():\n",
    "                param.requires_grad = False\n",
    "    for (param_name, param) in model.classifier.named_parameters():\n",
    "        param.requires_grad = True\n",
    "\n",
    "    # for (param_name, param) in model.named_parameters():\n",
    "    #         if re.fullmatch(config.trainable_param_names, param_name):\n",
    "    #             param.requires_grad = True\n",
    "\n",
    "    # Print trainable Parameter          \n",
    "    model_parameters = filter(lambda p: p.requires_grad, model.parameters())\n",
    "    params = sum([np.prod(p.size()) for p in model_parameters])\n",
    "    print(\"ESM_LoRA_Classfier\\nTrainable Parameter: \"+ str(params) + \"\\n\")\n",
    "    \n",
    "    return model, tokenizer"
   ]
  },
  {
   "cell_type": "code",
   "execution_count": 9,
   "id": "6c4d56b2-c9ca-460d-b977-a1e4ae1e9568",
   "metadata": {
    "execution": {
     "iopub.execute_input": "2024-04-05T12:53:29.864172Z",
     "iopub.status.busy": "2024-04-05T12:53:29.863760Z",
     "iopub.status.idle": "2024-04-05T12:53:29.873119Z",
     "shell.execute_reply": "2024-04-05T12:53:29.871609Z",
     "shell.execute_reply.started": "2024-04-05T12:53:29.864135Z"
    },
    "tags": []
   },
   "outputs": [],
   "source": [
    "# Deepspeed config for optimizer CPU offload\n",
    "\n",
    "ds_config = {\n",
    "    \"fp16\": {\n",
    "        \"enabled\": \"auto\",\n",
    "        \"loss_scale\": 0,\n",
    "        \"loss_scale_window\": 1000,\n",
    "        \"initial_scale_power\": 16,\n",
    "        \"hysteresis\": 2,\n",
    "        \"min_loss_scale\": 1\n",
    "    },\n",
    "\n",
    "    \"optimizer\": {\n",
    "        \"type\": \"AdamW\",\n",
    "        \"params\": {\n",
    "            \"lr\": \"auto\",\n",
    "            \"betas\": \"auto\",\n",
    "            \"eps\": \"auto\",\n",
    "            \"weight_decay\": \"auto\"\n",
    "        }\n",
    "    },\n",
    "\n",
    "    \"scheduler\": {\n",
    "        \"type\": \"WarmupLR\",\n",
    "        \"params\": {\n",
    "            \"warmup_min_lr\": \"auto\",\n",
    "            \"warmup_max_lr\": \"auto\",\n",
    "            \"warmup_num_steps\": \"auto\"\n",
    "        }\n",
    "    },\n",
    "\n",
    "    \"zero_optimization\": {\n",
    "        \"stage\": 2,\n",
    "        \"offload_optimizer\": {\n",
    "            \"device\": \"cpu\",\n",
    "            \"pin_memory\": True\n",
    "        },\n",
    "        \"allgather_partitions\": True,\n",
    "        \"allgather_bucket_size\": 2e8,\n",
    "        \"overlap_comm\": True,\n",
    "        \"reduce_scatter\": True,\n",
    "        \"reduce_bucket_size\": 2e8,\n",
    "        \"contiguous_gradients\": True\n",
    "    },\n",
    "\n",
    "    \"gradient_accumulation_steps\": \"auto\",\n",
    "    \"gradient_clipping\": \"auto\",\n",
    "    \"steps_per_print\": 2000,\n",
    "    \"train_batch_size\": \"auto\",\n",
    "    \"train_micro_batch_size_per_gpu\": \"auto\",\n",
    "    \"wall_clock_breakdown\": False\n",
    "}"
   ]
  },
  {
   "cell_type": "code",
   "execution_count": 10,
   "id": "d4550fdb",
   "metadata": {},
   "outputs": [],
   "source": [
    "from transformers import TrainerCallback, TrainerState, TrainerControl\n",
    "\n",
    "class EarlyStoppingCallback(TrainerCallback):\n",
    "    \"\"\"Custom early stopping callback that can monitor loss or accuracy.\"\"\"\n",
    "    \n",
    "    def __init__(self, metric_name='eval_loss', early_stopping_patience=3, minimize=True):\n",
    "        \"\"\"\n",
    "        Args:\n",
    "            metric_name (str): Metric to monitor, default 'eval_loss'.\n",
    "            early_stopping_patience (int): Number of checks with no improvement after which training will be stopped.\n",
    "            minimize (bool): Set to True if the metric should be minimized, False if it should be maximized.\n",
    "        \"\"\"\n",
    "        self.metric_name = metric_name\n",
    "        self.early_stopping_patience = early_stopping_patience\n",
    "        self.early_stopping_counter = 0\n",
    "        self.minimize = minimize\n",
    "        self.best_metric = float('inf') if minimize else float('-inf')\n",
    "    \n",
    "    def on_evaluate(self, args, state, control, **kwargs):\n",
    "        current_metric = kwargs['metrics'][self.metric_name]\n",
    "        \n",
    "        if (self.minimize and current_metric < self.best_metric) or (not self.minimize and current_metric > self.best_metric):\n",
    "            self.best_metric = current_metric\n",
    "            self.early_stopping_counter = 0\n",
    "        else:\n",
    "            self.early_stopping_counter += 1\n",
    "        \n",
    "        if self.early_stopping_counter >= self.early_stopping_patience:\n",
    "            control.should_training_stop = True\n",
    "            print(f'Stopping early! No improvement in {self.metric_name} for {self.early_stopping_patience} evaluation steps.')\n",
    "\n",
    "\n",
    "class MultiObjectiveEarlyStoppingCallback(TrainerCallback):\n",
    "    def __init__(self, early_stopping_patience, min_delta=0.001):\n",
    "        self.early_stopping_patience = early_stopping_patience\n",
    "        self.min_delta = min_delta\n",
    "        self.best_val_loss = float('inf')\n",
    "        self.best_val_accuracy = float('-inf')\n",
    "        self.wait = 0\n",
    "\n",
    "    def on_evaluate(self, args, state: TrainerState, control: TrainerControl, **kwargs):\n",
    "        # Extract current validation loss and accuracy\n",
    "        val_loss = kwargs['metrics']['eval_loss']\n",
    "        val_accuracy = kwargs['metrics']['eval_accuracy']\n",
    "\n",
    "        # Check if current loss and accuracy improved significantly\n",
    "        loss_improved = (self.best_val_loss - val_loss) > self.min_delta\n",
    "        accuracy_improved = (val_accuracy - self.best_val_accuracy) > self.min_delta\n",
    "\n",
    "        if loss_improved or accuracy_improved:\n",
    "            # Update best scores and reset wait time\n",
    "            self.best_val_loss = min(self.best_val_loss, val_loss)\n",
    "            self.best_val_accuracy = max(self.best_val_accuracy, val_accuracy)\n",
    "            self.wait = 0\n",
    "        else:\n",
    "            # If no improvement, increment the wait counter\n",
    "            self.wait += 1\n",
    "            if self.wait >= self.early_stopping_patience:\n",
    "                # If wait exceeds the patience, stop training\n",
    "                control.should_training_stop = True\n",
    "                print(f\"Stopping early at epoch {state.epoch}: No improvement in loss or accuracy for {self.early_stopping_patience} evaluations.\")\n",
    "                \n",
    "class MultiObjectiveEarlyStoppingAndSaveCallback(TrainerCallback):\n",
    "    def __init__(self, early_stopping_patience, min_delta=0.001, output_dir='./model_output', filename='finetuned_model'):\n",
    "        self.early_stopping_patience = early_stopping_patience\n",
    "        self.min_delta = min_delta\n",
    "        self.best_val_loss = float('inf')\n",
    "        self.best_val_accuracy = float('-inf')\n",
    "        self.wait = 0\n",
    "        self.output_dir = output_dir\n",
    "        self.filename = filename\n",
    "        if not os.path.exists(output_dir):\n",
    "            os.makedirs(output_dir)\n",
    "\n",
    "    def on_evaluate(self, args, state: TrainerState, control: TrainerControl, **kwargs):\n",
    "        val_loss = kwargs['metrics']['eval_loss']\n",
    "        val_accuracy = kwargs['metrics']['eval_accuracy']\n",
    "        model = kwargs['model']\n",
    "\n",
    "        loss_improved = (self.best_val_loss - val_loss) > self.min_delta\n",
    "        accuracy_improved = (val_accuracy - self.best_val_accuracy) > self.min_delta\n",
    "\n",
    "        if loss_improved or accuracy_improved:\n",
    "            self.best_val_loss = min(self.best_val_loss, val_loss)\n",
    "            self.best_val_accuracy = max(self.best_val_accuracy, val_accuracy)\n",
    "            self.wait = 0\n",
    "            # Save the model as the best so far\n",
    "            self.save_finetuned_parameters(model, os.path.join(self.output_dir, self.filename))\n",
    "            print(f\"Saved improved model to {self.output_dir}/{self.filename}\")\n",
    "        else:\n",
    "            self.wait += 1\n",
    "            if self.wait >= self.early_stopping_patience:\n",
    "                control.should_training_stop = True\n",
    "                print(f\"Stopping early at epoch {state.epoch}: No improvement in loss or accuracy for {self.early_stopping_patience} evaluations.\")\n",
    "                \n",
    "    def save_finetuned_parameters(self, model, filepath):\n",
    "        # Create a dictionary to hold the non-frozen parameters\n",
    "        non_frozen_params = {n: p for n, p in model.named_parameters() if p.requires_grad}\n",
    "        # Save only the finetuned parameters \n",
    "        torch.save(non_frozen_params, filepath)"
   ]
  },
  {
   "cell_type": "code",
   "execution_count": 11,
   "id": "bfb8bb11-79b0-4936-9099-f9f8ef97e105",
   "metadata": {
    "execution": {
     "iopub.execute_input": "2024-04-05T12:53:29.875565Z",
     "iopub.status.busy": "2024-04-05T12:53:29.875038Z",
     "iopub.status.idle": "2024-04-05T12:53:30.214710Z",
     "shell.execute_reply": "2024-04-05T12:53:30.213349Z",
     "shell.execute_reply.started": "2024-04-05T12:53:29.875495Z"
    },
    "tags": []
   },
   "outputs": [],
   "source": [
    "from sklearn.metrics import accuracy_score\n",
    "#!pip install seaborn\n",
    "import seaborn as sns\n",
    "import gc\n",
    "\n",
    "# Set random seeds for reproducibility of your trainings run\n",
    "def set_seeds(s):\n",
    "    torch.manual_seed(s)\n",
    "    np.random.seed(s)\n",
    "    random.seed(s)\n",
    "    set_seed(s)\n",
    "\n",
    "def apply_umap(embeddings, n_components=2, min_dist=0.01):\n",
    "    umap_model = umap.UMAP(n_components=n_components)\n",
    "    umap_embeddings = umap_model.fit_transform(embeddings)\n",
    "    return umap_embeddings\n",
    "\n",
    "def plot_umap(embeddings, labels):\n",
    "    data = {\"UMAP1\": embeddings[:, 0], \"UMAP2\": embeddings[:, 1], \"Label\": labels}\n",
    "    df = pd.DataFrame(data)\n",
    "    \n",
    "    plt.figure(figsize=(8, 6))\n",
    "    sns.scatterplot(x=\"UMAP1\", y=\"UMAP2\", hue=\"Label\", data=df, palette={0: \"blue\", 1: \"magenta\"}, s=50, alpha=0.9)\n",
    "    plt.title(\"UMAP Visualization of Embeddings\")\n",
    "    plt.savefig(\"../Plots/UMAP_Visualization_of_Embeddings_new.pdf\")\n",
    "    plt.show()\n",
    "    \n",
    "# Main training fuction\n",
    "def train_per_protein(\n",
    "        train_dataset,         #training data\n",
    "        valid_dataset,         #validation data      \n",
    "        weight_decay,\n",
    "        warmup_pct,\n",
    "        num_labels= 2,    #1 for regression, >1 for classification\n",
    "    \n",
    "        # effective training batch size is batch * accum\n",
    "        # we recommend an effective batch size of 8 \n",
    "        batch= 4,         #for training\n",
    "        accum= 2,         #gradient accumulation\n",
    "    \n",
    "        val_batch = 16,   #batch size for evaluation\n",
    "        epochs=1,       #training epochs\n",
    "        lr= 3e-4,         #recommended learning rate\n",
    "        seed= 42,         #random seed\n",
    "        deepspeed=False,  #if gpu is large enough disable deepspeed for training speedup\n",
    "        gpu= 1,\n",
    "        dropout=0.5, #dropout rate\n",
    "         #L2 weight regularization\n",
    "        lora_rank=4,      #lora rank\n",
    "        lora_init_scale=0.01, #lora scaling rank\n",
    "        lora_scaling_rank=1,       #lora a\n",
    "        ):         #gpu selection (1 for first gpu)\n",
    "\n",
    "    # Set gpu device\n",
    "    os.environ[\"CUDA_VISIBLE_DEVICES\"]=str(gpu-1)\n",
    "    \n",
    "    # Set all random seeds\n",
    "    set_seeds(seed)\n",
    "    \n",
    "    # load model\n",
    "    model, tokenizer = ESM_classification_model(num_labels=num_labels, dropout=dropout, lora_rank=lora_rank, lora_init_scale=lora_init_scale, lora_scaling_rank=lora_scaling_rank)\n",
    "    # model_checkpoint = \"facebook/esm2_t36_3B_UR50D\"\n",
    "    # tokenizer = EsmTokenizer.from_pretrained(model_checkpoint, cache_dir=\"/home/ubuntu/data/hai/huggingface_cache/\", force_download=True)\n",
    "    # model = EsmModel.from_pretrained(model_checkpoint, cache_dir=\"/home/ubuntu/data/hai/huggingface_cache/\", force_download=True)\n",
    "\n",
    "    # Huggingface Trainer arguments\n",
    "    total_steps = epochs * len(train_dataset) // batch\n",
    "    warmup_steps = int(warmup_pct * total_steps)\n",
    "     \n",
    "    # Define TrainingArguments\n",
    "    args = TrainingArguments(\n",
    "        output_dir='./results',              # where to save the model\n",
    "        evaluation_strategy='epoch',         # evaluation is done at the end of each epoch\n",
    "        logging_strategy='epoch',\n",
    "        save_strategy='no',\n",
    "        learning_rate=lr,                    # initial learning rate\n",
    "        per_device_train_batch_size=batch,   # batch size per device\n",
    "        gradient_accumulation_steps=accum,   # gradient accumulation steps\n",
    "        num_train_epochs=epochs,             # number of epochs to train\n",
    "        weight_decay=weight_decay,           # L2 weight regularization\n",
    "        warmup_steps=warmup_steps,           # 10% of total steps\n",
    "        load_best_model_at_end=False,         # load the best model at the end of training\n",
    "        seed=seed,                           # random seed\n",
    "        push_to_hub=False,                   # if you want to push model to the hub (Hugging Face Model Hub)\n",
    "        logging_dir='./logs',\n",
    "    )\n",
    "    # metric_for_best_model='eval_loss|accuracy'\n",
    "\n",
    "    # Metric definition for validation data\n",
    "    def compute_metrics(eval_pred):\n",
    "        predictions, labels = eval_pred.predictions, eval_pred.label_ids\n",
    "        # Check if predictions have the expected shape\n",
    "        if isinstance(predictions, tuple):\n",
    "            predictions = predictions[0]\n",
    "        if predictions.ndim > 1 and predictions.shape[1] > 1:\n",
    "            predictions = np.argmax(predictions, axis=1)\n",
    "        # Now, compute the metric (e.g., accuracy)\n",
    "        accuracy = accuracy_score(labels, predictions)\n",
    "        \n",
    "        # Return the metric(s) as a dictionary\n",
    "        return {\"accuracy\": accuracy}\n",
    "    \n",
    "    # For minimizing loss\n",
    "    early_stopping_loss = EarlyStoppingCallback(metric_name='eval_loss', early_stopping_patience=3, minimize=True)\n",
    "\n",
    "    # For maximizing accuracy\n",
    "    early_stopping_accuracy = EarlyStoppingCallback(metric_name='eval_accuracy', early_stopping_patience=3, minimize=False)\n",
    "    # Trainer          \n",
    "    trainer = Trainer(\n",
    "        model,\n",
    "        args,\n",
    "        train_dataset=train_dataset,\n",
    "        eval_dataset=valid_dataset,\n",
    "        tokenizer=tokenizer,\n",
    "        compute_metrics=compute_metrics,\n",
    "        callbacks=[MultiObjectiveEarlyStoppingAndSaveCallback(\n",
    "            early_stopping_patience=3,\n",
    "            min_delta=0.001,\n",
    "            output_dir='./model_output',\n",
    "            filename='finetuned_model_all_esm2.pth'\n",
    "        )],\n",
    "    )    \n",
    "\n",
    "    def get_embeddings(model, tokenizer, sequences, batch_size=32, device=\"cuda\"):\n",
    "        embeddings = []\n",
    "        model = model.to(device)\n",
    "        model.eval()\n",
    "    \n",
    "        # Iterate over the sequences in batches\n",
    "        for i in range(0, len(sequences), batch_size):\n",
    "            # Extract a batch of sequences\n",
    "            batch = sequences[i:i + batch_size]\n",
    "    \n",
    "            # Tokenize the batch using the specified tokenizer and convert to PyTorch tensors\n",
    "            inputs = tokenizer(batch, return_tensors=\"pt\", padding=True, truncation=True, max_length=512).to(device)\n",
    "    \n",
    "            with torch.no_grad():\n",
    "                # Forward pass through the model to obtain outputs\n",
    "                outputs = model(**inputs)\n",
    "    \n",
    "            # Extract hidden states from the second-to-last layer (penultimate layer)\n",
    "            hidden_states = outputs.hidden_states[-2].detach().cpu().numpy()\n",
    "    \n",
    "            # Take the embeddings from the second-to-last layer\n",
    "            embeddings_from_layer = hidden_states[:, 0, :]\n",
    "    \n",
    "            # Extend the list with the generated embeddings\n",
    "            embeddings.extend(embeddings_from_layer)\n",
    "    \n",
    "            print(f\"Batch {i // batch_size + 1}, Second-to-Last Layer Embeddings Shape: {embeddings_from_layer.shape}\")\n",
    "    \n",
    "        return np.array(embeddings)\n",
    "\n",
    "        \n",
    "    # Train model\n",
    "    trainer.train()\n",
    "\n",
    "    # Get the best model\n",
    "    # model = trainer.model\n",
    "    # Ensure the best model is loaded\n",
    "    best_model_path = os.path.join('./model_output', 'finetuned_model_all_esm2.pth')\n",
    "    if os.path.exists(best_model_path):\n",
    "        state_dict = torch.load(best_model_path)\n",
    "        model.load_state_dict(state_dict, strict=False)\n",
    "        print(f\"Loaded best model from {best_model_path}\")\n",
    "        \n",
    "    # Evaluate the best model\n",
    "    eval_results = trainer.evaluate()\n",
    "    print(eval_results)\n",
    "    \n",
    "    # Print the current learning rate\n",
    "    # current_lr = trainer.optimizer.param_groups[0]['lr']\n",
    "    # print(f\"Current learning rate: {current_lr}\")\n",
    "    \n",
    "    # valid_sequences = list(valid_dataset['sequence'])\n",
    "    # valid_embeddings = get_embeddings(model, tokenizer, valid_sequences)\n",
    "\n",
    "    # # Apply UMAP for dimensionality reduction\n",
    "    # umap_embeddings = apply_umap(valid_embeddings)\n",
    "\n",
    "    # # Plot UMAP embeddings\n",
    "    # labels = list(valid_dataset['label'])\n",
    "    # plot_umap(umap_embeddings, labels)\n",
    "    \n",
    "    torch.cuda.empty_cache()\n",
    "    gc.collect()\n",
    "\n",
    "    return tokenizer, model, trainer.state.log_history\n"
   ]
  },
  {
   "cell_type": "code",
   "execution_count": 12,
   "id": "b300952b",
   "metadata": {},
   "outputs": [
    {
     "name": "stderr",
     "output_type": "stream",
     "text": [
      "/home/ubuntu/data/miniconda3/envs/finetune-dephos/lib/python3.9/site-packages/huggingface_hub/file_download.py:1132: FutureWarning: `resume_download` is deprecated and will be removed in version 1.0.0. Downloads always resume when possible. If you want to force a new download, use `force_download=True`.\n",
      "  warnings.warn(\n"
     ]
    }
   ],
   "source": [
    "# Dataset creation\n",
    "def create_dataset(tokenizer,seqs,labels):\n",
    "    tokenized = tokenizer(seqs, max_length=1024, padding=True, truncation=True)\n",
    "    dataset = Dataset.from_dict(tokenized)\n",
    "    dataset = dataset.add_column(\"labels\", labels)\n",
    "\n",
    "    return dataset\n",
    "\n",
    "# Initialize the tokenizer\n",
    "model_checkpoint = \"facebook/esm2_t36_3B_UR50D\"\n",
    "tokenizer = EsmTokenizer.from_pretrained(model_checkpoint, cache_dir=\"/home/ubuntu/data/hai/huggingface_cache/\", force_download=True)\n",
    "# tokenizer = T5Tokenizer.from_pretrained(\"Rostlab/prot_t5_xl_bfd\", cache_dir=\"/home/ubuntu/data/hai/huggingface_cache/\", do_lower_case=False, force_download=True) \n",
    "\n",
    "train_df = my_train\n",
    "valid_df = my_valid\n",
    "\n",
    "# Preprocess inputs\n",
    "# Replace uncommon AAs with \"X\"\n",
    "train_df[\"sequence\"]=train_df[\"sequence\"].str.replace('|'.join([\"O\",\"B\",\"U\",\"Z\"]),\"X\",regex=True)\n",
    "valid_df[\"sequence\"]=valid_df[\"sequence\"].str.replace('|'.join([\"O\",\"B\",\"U\",\"Z\"]),\"X\",regex=True)\n",
    "# Add spaces between each amino acid for PT5 to correctly use them\n",
    "train_df['sequence']=train_df.apply(lambda row : \" \".join(row[\"sequence\"]), axis = 1)\n",
    "valid_df['sequence']=valid_df.apply(lambda row : \" \".join(row[\"sequence\"]), axis = 1)\n",
    "\n",
    "# Create Datasets\n",
    "train_set=create_dataset(tokenizer,list(train_df['sequence']),list(train_df['label']))\n",
    "valid_set=create_dataset(tokenizer,list(valid_df['sequence']),list(valid_df['label']))"
   ]
  },
  {
   "cell_type": "code",
   "execution_count": 24,
   "id": "f20a2048",
   "metadata": {},
   "outputs": [],
   "source": [
    "%rm all_dephos_withLORA_datasetloader.sqlite3"
   ]
  },
  {
   "cell_type": "markdown",
   "id": "96bcbe5f",
   "metadata": {},
   "source": [
    "lr 0.0003459380673689418\n",
    "batch 4\n",
    "accum 4\n",
    "dropout_rate 0.6303139405233136\n",
    "weight_decay 7.145415686725527e-05\n",
    "warmup_pct 0.12121786012551566\n",
    "lora_rank 20\n",
    "lora_init_scale 0.004413381171295235\n",
    "lora_scaling_rank 3"
   ]
  },
  {
   "cell_type": "code",
   "execution_count": 24,
   "id": "5a57f7fa",
   "metadata": {},
   "outputs": [],
   "source": [
    "# torch.cuda.empty_cache()"
   ]
  },
  {
   "cell_type": "code",
   "execution_count": 13,
   "id": "ddfce510-da2b-4b95-9491-49f9ae8efb06",
   "metadata": {
    "execution": {
     "iopub.execute_input": "2024-04-05T13:08:03.246094Z",
     "iopub.status.busy": "2024-04-05T13:08:03.244479Z",
     "iopub.status.idle": "2024-04-05T14:04:37.162324Z",
     "shell.execute_reply": "2024-04-05T14:04:37.160516Z",
     "shell.execute_reply.started": "2024-04-05T13:08:03.246029Z"
    },
    "tags": []
   },
   "outputs": [
    {
     "name": "stderr",
     "output_type": "stream",
     "text": [
      "Downloading shards: 100%|█████████████████████████████████████████████████████████████| 2/2 [01:18<00:00, 39.18s/it]\n",
      "Loading checkpoint shards: 100%|██████████████████████████████████████████████████████| 2/2 [00:07<00:00,  4.00s/it]\n",
      "Some weights of EsmModel were not initialized from the model checkpoint at facebook/esm2_t36_3B_UR50D and are newly initialized: ['esm.pooler.dense.weight', 'esm.pooler.dense.bias']\n",
      "You should probably TRAIN this model on a down-stream task to be able to use it for predictions and inference.\n"
     ]
    },
    {
     "name": "stdout",
     "output_type": "stream",
     "text": [
      "ESM_LoRA_Classfier\n",
      "Trainable Parameter: 2848188324.0\n",
      "ESM_LoRA_Classfier\n",
      "Trainable Parameter: 6561283.0\n",
      "\n"
     ]
    },
    {
     "name": "stderr",
     "output_type": "stream",
     "text": [
      "/home/ubuntu/data/miniconda3/envs/finetune-dephos/lib/python3.9/site-packages/accelerate/accelerator.py:446: FutureWarning: Passing the following arguments to `Accelerator` is deprecated and will be removed in version 1.0 of Accelerate: dict_keys(['dispatch_batches', 'split_batches']). Please pass an `accelerate.DataLoaderConfiguration` instead: \n",
      "dataloader_config = DataLoaderConfiguration(dispatch_batches=None, split_batches=False)\n",
      "  warnings.warn(\n"
     ]
    },
    {
     "data": {
      "text/html": [
       "\n",
       "    <div>\n",
       "      \n",
       "      <progress value='1188' max='1980' style='width:300px; height:20px; vertical-align: middle;'></progress>\n",
       "      [1188/1980 11:02 < 07:22, 1.79 it/s, Epoch 12/20]\n",
       "    </div>\n",
       "    <table border=\"1\" class=\"dataframe\">\n",
       "  <thead>\n",
       " <tr style=\"text-align: left;\">\n",
       "      <th>Epoch</th>\n",
       "      <th>Training Loss</th>\n",
       "      <th>Validation Loss</th>\n",
       "      <th>Accuracy</th>\n",
       "    </tr>\n",
       "  </thead>\n",
       "  <tbody>\n",
       "    <tr>\n",
       "      <td>1</td>\n",
       "      <td>0.706800</td>\n",
       "      <td>0.642258</td>\n",
       "      <td>0.704545</td>\n",
       "    </tr>\n",
       "    <tr>\n",
       "      <td>2</td>\n",
       "      <td>0.648500</td>\n",
       "      <td>0.584324</td>\n",
       "      <td>0.709596</td>\n",
       "    </tr>\n",
       "    <tr>\n",
       "      <td>3</td>\n",
       "      <td>0.601200</td>\n",
       "      <td>0.550624</td>\n",
       "      <td>0.729798</td>\n",
       "    </tr>\n",
       "    <tr>\n",
       "      <td>4</td>\n",
       "      <td>0.567000</td>\n",
       "      <td>0.545805</td>\n",
       "      <td>0.719697</td>\n",
       "    </tr>\n",
       "    <tr>\n",
       "      <td>5</td>\n",
       "      <td>0.553400</td>\n",
       "      <td>0.528095</td>\n",
       "      <td>0.734848</td>\n",
       "    </tr>\n",
       "    <tr>\n",
       "      <td>6</td>\n",
       "      <td>0.562000</td>\n",
       "      <td>0.539324</td>\n",
       "      <td>0.727273</td>\n",
       "    </tr>\n",
       "    <tr>\n",
       "      <td>7</td>\n",
       "      <td>0.562800</td>\n",
       "      <td>0.544778</td>\n",
       "      <td>0.727273</td>\n",
       "    </tr>\n",
       "    <tr>\n",
       "      <td>8</td>\n",
       "      <td>0.550300</td>\n",
       "      <td>0.523778</td>\n",
       "      <td>0.729798</td>\n",
       "    </tr>\n",
       "    <tr>\n",
       "      <td>9</td>\n",
       "      <td>0.535300</td>\n",
       "      <td>0.531071</td>\n",
       "      <td>0.739899</td>\n",
       "    </tr>\n",
       "    <tr>\n",
       "      <td>10</td>\n",
       "      <td>0.524700</td>\n",
       "      <td>0.548785</td>\n",
       "      <td>0.732323</td>\n",
       "    </tr>\n",
       "    <tr>\n",
       "      <td>11</td>\n",
       "      <td>0.546800</td>\n",
       "      <td>0.574609</td>\n",
       "      <td>0.717172</td>\n",
       "    </tr>\n",
       "    <tr>\n",
       "      <td>12</td>\n",
       "      <td>0.555900</td>\n",
       "      <td>0.542341</td>\n",
       "      <td>0.729798</td>\n",
       "    </tr>\n",
       "  </tbody>\n",
       "</table><p>"
      ],
      "text/plain": [
       "<IPython.core.display.HTML object>"
      ]
     },
     "metadata": {},
     "output_type": "display_data"
    },
    {
     "name": "stdout",
     "output_type": "stream",
     "text": [
      "Saved improved model to ./model_output/finetuned_model_all_esm2.pth\n",
      "Saved improved model to ./model_output/finetuned_model_all_esm2.pth\n",
      "Saved improved model to ./model_output/finetuned_model_all_esm2.pth\n",
      "Saved improved model to ./model_output/finetuned_model_all_esm2.pth\n",
      "Saved improved model to ./model_output/finetuned_model_all_esm2.pth\n",
      "Saved improved model to ./model_output/finetuned_model_all_esm2.pth\n",
      "Saved improved model to ./model_output/finetuned_model_all_esm2.pth\n",
      "Stopping early at epoch 12.0: No improvement in loss or accuracy for 3 evaluations.\n",
      "Loaded best model from ./model_output/finetuned_model_all_esm2.pth\n"
     ]
    },
    {
     "data": {
      "text/html": [
       "\n",
       "    <div>\n",
       "      \n",
       "      <progress value='50' max='50' style='width:300px; height:20px; vertical-align: middle;'></progress>\n",
       "      [50/50 00:08]\n",
       "    </div>\n",
       "    "
      ],
      "text/plain": [
       "<IPython.core.display.HTML object>"
      ]
     },
     "metadata": {},
     "output_type": "display_data"
    },
    {
     "name": "stdout",
     "output_type": "stream",
     "text": [
      "Stopping early at epoch 12.0: No improvement in loss or accuracy for 3 evaluations.\n",
      "{'eval_loss': 0.5310714244842529, 'eval_accuracy': 0.73989898989899, 'eval_runtime': 8.6859, 'eval_samples_per_second': 45.591, 'eval_steps_per_second': 5.756, 'epoch': 12.0}\n"
     ]
    }
   ],
   "source": [
    "tokenizer, model, history = train_per_protein(train_set, valid_set, num_labels=2, batch=4, accum=4, epochs=20, seed=42, lr=0.0003459380673689418, dropout=0.6303139405233136, weight_decay=7.145415686725527e-05, warmup_pct=0.12121786012551566, lora_rank=20, lora_init_scale=0.004413381171295235, lora_scaling_rank=3)"
   ]
  },
  {
   "cell_type": "code",
   "execution_count": 12,
   "id": "8ebf90f6",
   "metadata": {},
   "outputs": [
    {
     "name": "stderr",
     "output_type": "stream",
     "text": [
      "[I 2024-06-09 17:26:58,506] A new study created in RDB with name: all_dephos_withLORA_esm2_10epochs\n",
      "Downloading shards: 100%|████████████████████████████████████████████████████████████| 2/2 [17:41<00:00, 530.59s/it]\n",
      "Loading checkpoint shards: 100%|██████████████████████████████████████████████████████| 2/2 [00:08<00:00,  4.12s/it]\n",
      "Some weights of EsmModel were not initialized from the model checkpoint at facebook/esm2_t36_3B_UR50D and are newly initialized: ['esm.pooler.dense.bias', 'esm.pooler.dense.weight']\n",
      "You should probably TRAIN this model on a down-stream task to be able to use it for predictions and inference.\n"
     ]
    },
    {
     "name": "stdout",
     "output_type": "stream",
     "text": [
      "ESM_LoRA_Classfier\n",
      "Trainable Parameter: 2848188324.0\n",
      "ESM_LoRA_Classfier\n",
      "Trainable Parameter: 6561283.0\n",
      "\n"
     ]
    },
    {
     "name": "stderr",
     "output_type": "stream",
     "text": [
      "/home/ubuntu/data/miniconda3/envs/finetune-dephos/lib/python3.9/site-packages/accelerate/accelerator.py:446: FutureWarning: Passing the following arguments to `Accelerator` is deprecated and will be removed in version 1.0 of Accelerate: dict_keys(['dispatch_batches', 'split_batches']). Please pass an `accelerate.DataLoaderConfiguration` instead: \n",
      "dataloader_config = DataLoaderConfiguration(dispatch_batches=None, split_batches=False)\n",
      "  warnings.warn(\n"
     ]
    },
    {
     "data": {
      "text/html": [
       "\n",
       "    <div>\n",
       "      \n",
       "      <progress value='3960' max='3960' style='width:300px; height:20px; vertical-align: middle;'></progress>\n",
       "      [3960/3960 10:45, Epoch 10/10]\n",
       "    </div>\n",
       "    <table border=\"1\" class=\"dataframe\">\n",
       "  <thead>\n",
       " <tr style=\"text-align: left;\">\n",
       "      <th>Epoch</th>\n",
       "      <th>Training Loss</th>\n",
       "      <th>Validation Loss</th>\n",
       "      <th>Accuracy</th>\n",
       "    </tr>\n",
       "  </thead>\n",
       "  <tbody>\n",
       "    <tr>\n",
       "      <td>1</td>\n",
       "      <td>0.778900</td>\n",
       "      <td>0.689405</td>\n",
       "      <td>0.520202</td>\n",
       "    </tr>\n",
       "    <tr>\n",
       "      <td>2</td>\n",
       "      <td>0.788500</td>\n",
       "      <td>0.675592</td>\n",
       "      <td>0.676768</td>\n",
       "    </tr>\n",
       "    <tr>\n",
       "      <td>3</td>\n",
       "      <td>0.761900</td>\n",
       "      <td>0.659121</td>\n",
       "      <td>0.684343</td>\n",
       "    </tr>\n",
       "    <tr>\n",
       "      <td>4</td>\n",
       "      <td>0.733200</td>\n",
       "      <td>0.645654</td>\n",
       "      <td>0.707071</td>\n",
       "    </tr>\n",
       "    <tr>\n",
       "      <td>5</td>\n",
       "      <td>0.737900</td>\n",
       "      <td>0.634749</td>\n",
       "      <td>0.709596</td>\n",
       "    </tr>\n",
       "    <tr>\n",
       "      <td>6</td>\n",
       "      <td>0.737200</td>\n",
       "      <td>0.627298</td>\n",
       "      <td>0.714646</td>\n",
       "    </tr>\n",
       "    <tr>\n",
       "      <td>7</td>\n",
       "      <td>0.716100</td>\n",
       "      <td>0.622683</td>\n",
       "      <td>0.699495</td>\n",
       "    </tr>\n",
       "    <tr>\n",
       "      <td>8</td>\n",
       "      <td>0.705200</td>\n",
       "      <td>0.619486</td>\n",
       "      <td>0.707071</td>\n",
       "    </tr>\n",
       "    <tr>\n",
       "      <td>9</td>\n",
       "      <td>0.716700</td>\n",
       "      <td>0.617758</td>\n",
       "      <td>0.712121</td>\n",
       "    </tr>\n",
       "    <tr>\n",
       "      <td>10</td>\n",
       "      <td>0.717500</td>\n",
       "      <td>0.617190</td>\n",
       "      <td>0.709596</td>\n",
       "    </tr>\n",
       "  </tbody>\n",
       "</table><p>"
      ],
      "text/plain": [
       "<IPython.core.display.HTML object>"
      ]
     },
     "metadata": {},
     "output_type": "display_data"
    },
    {
     "name": "stdout",
     "output_type": "stream",
     "text": [
      "Saved improved model to ./model_output/finetuned_model_all_esm2.pth\n",
      "Saved improved model to ./model_output/finetuned_model_all_esm2.pth\n",
      "Saved improved model to ./model_output/finetuned_model_all_esm2.pth\n",
      "Saved improved model to ./model_output/finetuned_model_all_esm2.pth\n",
      "Saved improved model to ./model_output/finetuned_model_all_esm2.pth\n",
      "Saved improved model to ./model_output/finetuned_model_all_esm2.pth\n",
      "Saved improved model to ./model_output/finetuned_model_all_esm2.pth\n",
      "Saved improved model to ./model_output/finetuned_model_all_esm2.pth\n",
      "Saved improved model to ./model_output/finetuned_model_all_esm2.pth\n",
      "Loaded best model from ./model_output/finetuned_model_all_esm2.pth\n"
     ]
    },
    {
     "data": {
      "text/html": [
       "\n",
       "    <div>\n",
       "      \n",
       "      <progress value='50' max='50' style='width:300px; height:20px; vertical-align: middle;'></progress>\n",
       "      [50/50 00:08]\n",
       "    </div>\n",
       "    "
      ],
      "text/plain": [
       "<IPython.core.display.HTML object>"
      ]
     },
     "metadata": {},
     "output_type": "display_data"
    },
    {
     "name": "stderr",
     "output_type": "stream",
     "text": [
      "[I 2024-06-09 17:56:50,700] Trial 0 finished with values: [0.6177577972412109, 0.7121212121212122] and parameters: {'lr': 1.2096477090251053e-05, 'batch': 2, 'accum': 2, 'dropout_rate': 0.8862958691740843, 'weight_decay': 1.220828584650883e-05, 'warmup_pct': 0.1391730308918508, 'lora_rank': 20, 'lora_init_scale': 0.052007681690013734, 'lora_scaling_rank': 2}. \n"
     ]
    },
    {
     "name": "stdout",
     "output_type": "stream",
     "text": [
      "{'eval_loss': 0.6177577972412109, 'eval_accuracy': 0.7121212121212122, 'eval_runtime': 8.7018, 'eval_samples_per_second': 45.508, 'eval_steps_per_second': 5.746, 'epoch': 10.0}\n",
      "History:  [{'loss': 0.7789, 'learning_rate': 4.346828428075696e-06, 'epoch': 1.0, 'step': 396}, {'eval_loss': 0.6894054412841797, 'eval_accuracy': 0.5202020202020202, 'eval_runtime': 8.6165, 'eval_samples_per_second': 45.958, 'eval_steps_per_second': 5.803, 'epoch': 1.0, 'step': 396}, {'loss': 0.7885, 'learning_rate': 8.693656856151392e-06, 'epoch': 2.0, 'step': 792}, {'eval_loss': 0.675592303276062, 'eval_accuracy': 0.6767676767676768, 'eval_runtime': 8.6559, 'eval_samples_per_second': 45.749, 'eval_steps_per_second': 5.776, 'epoch': 2.0, 'step': 792}, {'loss': 0.7619, 'learning_rate': 1.1732482328263093e-05, 'epoch': 3.0, 'step': 1188}, {'eval_loss': 0.6591209769248962, 'eval_accuracy': 0.6843434343434344, 'eval_runtime': 8.6644, 'eval_samples_per_second': 45.704, 'eval_steps_per_second': 5.771, 'epoch': 3.0, 'step': 1188}, {'loss': 0.7332, 'learning_rate': 1.0056413424225508e-05, 'epoch': 4.0, 'step': 1584}, {'eval_loss': 0.6456542611122131, 'eval_accuracy': 0.7070707070707071, 'eval_runtime': 8.666, 'eval_samples_per_second': 45.696, 'eval_steps_per_second': 5.77, 'epoch': 4.0, 'step': 1584}, {'loss': 0.7379, 'learning_rate': 8.380344520187922e-06, 'epoch': 5.0, 'step': 1980}, {'eval_loss': 0.6347485780715942, 'eval_accuracy': 0.7095959595959596, 'eval_runtime': 8.6668, 'eval_samples_per_second': 45.692, 'eval_steps_per_second': 5.769, 'epoch': 5.0, 'step': 1980}, {'loss': 0.7372, 'learning_rate': 6.704275616150339e-06, 'epoch': 6.0, 'step': 2376}, {'eval_loss': 0.6272984743118286, 'eval_accuracy': 0.7146464646464646, 'eval_runtime': 8.6749, 'eval_samples_per_second': 45.649, 'eval_steps_per_second': 5.764, 'epoch': 6.0, 'step': 2376}, {'loss': 0.7161, 'learning_rate': 5.028206712112754e-06, 'epoch': 7.0, 'step': 2772}, {'eval_loss': 0.6226833462715149, 'eval_accuracy': 0.6994949494949495, 'eval_runtime': 8.6775, 'eval_samples_per_second': 45.635, 'eval_steps_per_second': 5.762, 'epoch': 7.0, 'step': 2772}, {'loss': 0.7052, 'learning_rate': 3.3521378080751695e-06, 'epoch': 8.0, 'step': 3168}, {'eval_loss': 0.6194855570793152, 'eval_accuracy': 0.7070707070707071, 'eval_runtime': 8.6829, 'eval_samples_per_second': 45.607, 'eval_steps_per_second': 5.758, 'epoch': 8.0, 'step': 3168}, {'loss': 0.7167, 'learning_rate': 1.6760689040375848e-06, 'epoch': 9.0, 'step': 3564}, {'eval_loss': 0.6177577972412109, 'eval_accuracy': 0.7121212121212122, 'eval_runtime': 8.6748, 'eval_samples_per_second': 45.649, 'eval_steps_per_second': 5.764, 'epoch': 9.0, 'step': 3564}, {'loss': 0.7175, 'learning_rate': 0.0, 'epoch': 10.0, 'step': 3960}, {'eval_loss': 0.6171899437904358, 'eval_accuracy': 0.7095959595959596, 'eval_runtime': 8.69, 'eval_samples_per_second': 45.57, 'eval_steps_per_second': 5.754, 'epoch': 10.0, 'step': 3960}, {'train_runtime': 652.8765, 'train_samples_per_second': 24.262, 'train_steps_per_second': 6.065, 'total_flos': 9465195637497600.0, 'train_loss': 0.7393106171579072, 'epoch': 10.0, 'step': 3960}, {'eval_loss': 0.6177577972412109, 'eval_accuracy': 0.7121212121212122, 'eval_runtime': 8.7018, 'eval_samples_per_second': 45.508, 'eval_steps_per_second': 5.746, 'epoch': 10.0, 'step': 3960}]\n"
     ]
    },
    {
     "name": "stderr",
     "output_type": "stream",
     "text": [
      "/home/ubuntu/data/miniconda3/envs/finetune-dephos/lib/python3.9/site-packages/huggingface_hub/file_download.py:1132: FutureWarning: `resume_download` is deprecated and will be removed in version 1.0.0. Downloads always resume when possible. If you want to force a new download, use `force_download=True`.\n",
      "  warnings.warn(\n",
      "Downloading shards: 100%|█████████████████████████████████████████████████████████████| 2/2 [01:07<00:00, 33.54s/it]\n",
      "Loading checkpoint shards: 100%|██████████████████████████████████████████████████████| 2/2 [00:07<00:00,  3.67s/it]\n",
      "Some weights of EsmModel were not initialized from the model checkpoint at facebook/esm2_t36_3B_UR50D and are newly initialized: ['esm.pooler.dense.bias', 'esm.pooler.dense.weight']\n",
      "You should probably TRAIN this model on a down-stream task to be able to use it for predictions and inference.\n"
     ]
    },
    {
     "name": "stdout",
     "output_type": "stream",
     "text": [
      "ESM_LoRA_Classfier\n",
      "Trainable Parameter: 2848188324.0\n",
      "ESM_LoRA_Classfier\n",
      "Trainable Parameter: 6561283.0\n",
      "\n"
     ]
    },
    {
     "name": "stderr",
     "output_type": "stream",
     "text": [
      "/home/ubuntu/data/miniconda3/envs/finetune-dephos/lib/python3.9/site-packages/accelerate/accelerator.py:446: FutureWarning: Passing the following arguments to `Accelerator` is deprecated and will be removed in version 1.0 of Accelerate: dict_keys(['dispatch_batches', 'split_batches']). Please pass an `accelerate.DataLoaderConfiguration` instead: \n",
      "dataloader_config = DataLoaderConfiguration(dispatch_batches=None, split_batches=False)\n",
      "  warnings.warn(\n"
     ]
    },
    {
     "data": {
      "text/html": [
       "\n",
       "    <div>\n",
       "      \n",
       "      <progress value='3960' max='3960' style='width:300px; height:20px; vertical-align: middle;'></progress>\n",
       "      [3960/3960 10:47, Epoch 10/10]\n",
       "    </div>\n",
       "    <table border=\"1\" class=\"dataframe\">\n",
       "  <thead>\n",
       " <tr style=\"text-align: left;\">\n",
       "      <th>Epoch</th>\n",
       "      <th>Training Loss</th>\n",
       "      <th>Validation Loss</th>\n",
       "      <th>Accuracy</th>\n",
       "    </tr>\n",
       "  </thead>\n",
       "  <tbody>\n",
       "    <tr>\n",
       "      <td>1</td>\n",
       "      <td>0.698500</td>\n",
       "      <td>0.681951</td>\n",
       "      <td>0.570707</td>\n",
       "    </tr>\n",
       "    <tr>\n",
       "      <td>2</td>\n",
       "      <td>0.677700</td>\n",
       "      <td>0.656033</td>\n",
       "      <td>0.691919</td>\n",
       "    </tr>\n",
       "    <tr>\n",
       "      <td>3</td>\n",
       "      <td>0.657100</td>\n",
       "      <td>0.628518</td>\n",
       "      <td>0.674242</td>\n",
       "    </tr>\n",
       "    <tr>\n",
       "      <td>4</td>\n",
       "      <td>0.628100</td>\n",
       "      <td>0.603374</td>\n",
       "      <td>0.691919</td>\n",
       "    </tr>\n",
       "    <tr>\n",
       "      <td>5</td>\n",
       "      <td>0.608800</td>\n",
       "      <td>0.578182</td>\n",
       "      <td>0.722222</td>\n",
       "    </tr>\n",
       "    <tr>\n",
       "      <td>6</td>\n",
       "      <td>0.584400</td>\n",
       "      <td>0.562656</td>\n",
       "      <td>0.729798</td>\n",
       "    </tr>\n",
       "    <tr>\n",
       "      <td>7</td>\n",
       "      <td>0.563700</td>\n",
       "      <td>0.552735</td>\n",
       "      <td>0.729798</td>\n",
       "    </tr>\n",
       "    <tr>\n",
       "      <td>8</td>\n",
       "      <td>0.557300</td>\n",
       "      <td>0.547726</td>\n",
       "      <td>0.737374</td>\n",
       "    </tr>\n",
       "    <tr>\n",
       "      <td>9</td>\n",
       "      <td>0.546600</td>\n",
       "      <td>0.546117</td>\n",
       "      <td>0.729798</td>\n",
       "    </tr>\n",
       "    <tr>\n",
       "      <td>10</td>\n",
       "      <td>0.542300</td>\n",
       "      <td>0.544772</td>\n",
       "      <td>0.734848</td>\n",
       "    </tr>\n",
       "  </tbody>\n",
       "</table><p>"
      ],
      "text/plain": [
       "<IPython.core.display.HTML object>"
      ]
     },
     "metadata": {},
     "output_type": "display_data"
    },
    {
     "name": "stdout",
     "output_type": "stream",
     "text": [
      "Saved improved model to ./model_output/finetuned_model_all_esm2.pth\n",
      "Saved improved model to ./model_output/finetuned_model_all_esm2.pth\n",
      "Saved improved model to ./model_output/finetuned_model_all_esm2.pth\n",
      "Saved improved model to ./model_output/finetuned_model_all_esm2.pth\n",
      "Saved improved model to ./model_output/finetuned_model_all_esm2.pth\n",
      "Saved improved model to ./model_output/finetuned_model_all_esm2.pth\n",
      "Saved improved model to ./model_output/finetuned_model_all_esm2.pth\n",
      "Saved improved model to ./model_output/finetuned_model_all_esm2.pth\n",
      "Saved improved model to ./model_output/finetuned_model_all_esm2.pth\n",
      "Saved improved model to ./model_output/finetuned_model_all_esm2.pth\n",
      "Loaded best model from ./model_output/finetuned_model_all_esm2.pth\n"
     ]
    },
    {
     "data": {
      "text/html": [
       "\n",
       "    <div>\n",
       "      \n",
       "      <progress value='50' max='50' style='width:300px; height:20px; vertical-align: middle;'></progress>\n",
       "      [50/50 00:08]\n",
       "    </div>\n",
       "    "
      ],
      "text/plain": [
       "<IPython.core.display.HTML object>"
      ]
     },
     "metadata": {},
     "output_type": "display_data"
    },
    {
     "name": "stderr",
     "output_type": "stream",
     "text": [
      "[I 2024-06-09 18:09:59,573] Trial 1 finished with values: [0.544771671295166, 0.7348484848484849] and parameters: {'lr': 1.0270200625557769e-05, 'batch': 2, 'accum': 2, 'dropout_rate': 0.413615614490198, 'weight_decay': 4.0930776655257883e-05, 'warmup_pct': 0.2608180667667771, 'lora_rank': 20, 'lora_init_scale': 0.027063844464573716, 'lora_scaling_rank': 1}. \n"
     ]
    },
    {
     "name": "stdout",
     "output_type": "stream",
     "text": [
      "{'eval_loss': 0.544771671295166, 'eval_accuracy': 0.7348484848484849, 'eval_runtime': 8.6933, 'eval_samples_per_second': 45.552, 'eval_steps_per_second': 5.752, 'epoch': 10.0}\n",
      "History:  [{'loss': 0.6985, 'learning_rate': 1.9694912579762113e-06, 'epoch': 1.0, 'step': 396}, {'eval_loss': 0.6819512248039246, 'eval_accuracy': 0.5707070707070707, 'eval_runtime': 8.6364, 'eval_samples_per_second': 45.853, 'eval_steps_per_second': 5.789, 'epoch': 1.0, 'step': 396}, {'loss': 0.6777, 'learning_rate': 3.938982515952423e-06, 'epoch': 2.0, 'step': 792}, {'eval_loss': 0.6560328602790833, 'eval_accuracy': 0.6919191919191919, 'eval_runtime': 8.6839, 'eval_samples_per_second': 45.602, 'eval_steps_per_second': 5.758, 'epoch': 2.0, 'step': 792}, {'loss': 0.6571, 'learning_rate': 5.908473773928634e-06, 'epoch': 3.0, 'step': 1188}, {'eval_loss': 0.6285179257392883, 'eval_accuracy': 0.6742424242424242, 'eval_runtime': 8.6796, 'eval_samples_per_second': 45.624, 'eval_steps_per_second': 5.761, 'epoch': 3.0, 'step': 1188}, {'loss': 0.6281, 'learning_rate': 7.877965031904845e-06, 'epoch': 4.0, 'step': 1584}, {'eval_loss': 0.6033744812011719, 'eval_accuracy': 0.6919191919191919, 'eval_runtime': 8.6677, 'eval_samples_per_second': 45.687, 'eval_steps_per_second': 5.769, 'epoch': 4.0, 'step': 1584}, {'loss': 0.6088, 'learning_rate': 9.847456289881058e-06, 'epoch': 5.0, 'step': 1980}, {'eval_loss': 0.5781817436218262, 'eval_accuracy': 0.7222222222222222, 'eval_runtime': 8.6803, 'eval_samples_per_second': 45.621, 'eval_steps_per_second': 5.76, 'epoch': 5.0, 'step': 1980}, {'loss': 0.5844, 'learning_rate': 8.584695404160162e-06, 'epoch': 6.0, 'step': 2376}, {'eval_loss': 0.5626562237739563, 'eval_accuracy': 0.7297979797979798, 'eval_runtime': 8.6802, 'eval_samples_per_second': 45.621, 'eval_steps_per_second': 5.76, 'epoch': 6.0, 'step': 2376}, {'loss': 0.5637, 'learning_rate': 6.438521553120121e-06, 'epoch': 7.0, 'step': 2772}, {'eval_loss': 0.5527352690696716, 'eval_accuracy': 0.7297979797979798, 'eval_runtime': 8.6757, 'eval_samples_per_second': 45.645, 'eval_steps_per_second': 5.763, 'epoch': 7.0, 'step': 2772}, {'loss': 0.5573, 'learning_rate': 4.292347702080081e-06, 'epoch': 8.0, 'step': 3168}, {'eval_loss': 0.5477255582809448, 'eval_accuracy': 0.7373737373737373, 'eval_runtime': 8.6768, 'eval_samples_per_second': 45.639, 'eval_steps_per_second': 5.763, 'epoch': 8.0, 'step': 3168}, {'loss': 0.5466, 'learning_rate': 2.1461738510400405e-06, 'epoch': 9.0, 'step': 3564}, {'eval_loss': 0.5461174845695496, 'eval_accuracy': 0.7297979797979798, 'eval_runtime': 8.6745, 'eval_samples_per_second': 45.651, 'eval_steps_per_second': 5.764, 'epoch': 9.0, 'step': 3564}, {'loss': 0.5423, 'learning_rate': 0.0, 'epoch': 10.0, 'step': 3960}, {'eval_loss': 0.544771671295166, 'eval_accuracy': 0.7348484848484849, 'eval_runtime': 8.6763, 'eval_samples_per_second': 45.642, 'eval_steps_per_second': 5.763, 'epoch': 10.0, 'step': 3960}, {'train_runtime': 648.0735, 'train_samples_per_second': 24.442, 'train_steps_per_second': 6.11, 'total_flos': 9465195637497600.0, 'train_loss': 0.6064531499689275, 'epoch': 10.0, 'step': 3960}, {'eval_loss': 0.544771671295166, 'eval_accuracy': 0.7348484848484849, 'eval_runtime': 8.6933, 'eval_samples_per_second': 45.552, 'eval_steps_per_second': 5.752, 'epoch': 10.0, 'step': 3960}]\n"
     ]
    },
    {
     "name": "stderr",
     "output_type": "stream",
     "text": [
      "/home/ubuntu/data/miniconda3/envs/finetune-dephos/lib/python3.9/site-packages/huggingface_hub/file_download.py:1132: FutureWarning: `resume_download` is deprecated and will be removed in version 1.0.0. Downloads always resume when possible. If you want to force a new download, use `force_download=True`.\n",
      "  warnings.warn(\n",
      "Downloading shards: 100%|█████████████████████████████████████████████████████████████| 2/2 [01:01<00:00, 30.66s/it]\n",
      "Loading checkpoint shards: 100%|██████████████████████████████████████████████████████| 2/2 [00:07<00:00,  3.64s/it]\n",
      "Some weights of EsmModel were not initialized from the model checkpoint at facebook/esm2_t36_3B_UR50D and are newly initialized: ['esm.pooler.dense.bias', 'esm.pooler.dense.weight']\n",
      "You should probably TRAIN this model on a down-stream task to be able to use it for predictions and inference.\n"
     ]
    },
    {
     "name": "stdout",
     "output_type": "stream",
     "text": [
      "ESM_LoRA_Classfier\n",
      "Trainable Parameter: 2848188324.0\n",
      "ESM_LoRA_Classfier\n",
      "Trainable Parameter: 6561283.0\n",
      "\n"
     ]
    },
    {
     "name": "stderr",
     "output_type": "stream",
     "text": [
      "/home/ubuntu/data/miniconda3/envs/finetune-dephos/lib/python3.9/site-packages/accelerate/accelerator.py:446: FutureWarning: Passing the following arguments to `Accelerator` is deprecated and will be removed in version 1.0 of Accelerate: dict_keys(['dispatch_batches', 'split_batches']). Please pass an `accelerate.DataLoaderConfiguration` instead: \n",
      "dataloader_config = DataLoaderConfiguration(dispatch_batches=None, split_batches=False)\n",
      "  warnings.warn(\n"
     ]
    },
    {
     "data": {
      "text/html": [
       "\n",
       "    <div>\n",
       "      \n",
       "      <progress value='990' max='990' style='width:300px; height:20px; vertical-align: middle;'></progress>\n",
       "      [990/990 10:33, Epoch 10/10]\n",
       "    </div>\n",
       "    <table border=\"1\" class=\"dataframe\">\n",
       "  <thead>\n",
       " <tr style=\"text-align: left;\">\n",
       "      <th>Epoch</th>\n",
       "      <th>Training Loss</th>\n",
       "      <th>Validation Loss</th>\n",
       "      <th>Accuracy</th>\n",
       "    </tr>\n",
       "  </thead>\n",
       "  <tbody>\n",
       "    <tr>\n",
       "      <td>1</td>\n",
       "      <td>0.783600</td>\n",
       "      <td>0.690641</td>\n",
       "      <td>0.522727</td>\n",
       "    </tr>\n",
       "    <tr>\n",
       "      <td>2</td>\n",
       "      <td>0.806800</td>\n",
       "      <td>0.680116</td>\n",
       "      <td>0.648990</td>\n",
       "    </tr>\n",
       "    <tr>\n",
       "      <td>3</td>\n",
       "      <td>0.769100</td>\n",
       "      <td>0.667798</td>\n",
       "      <td>0.686869</td>\n",
       "    </tr>\n",
       "    <tr>\n",
       "      <td>4</td>\n",
       "      <td>0.744000</td>\n",
       "      <td>0.652949</td>\n",
       "      <td>0.694444</td>\n",
       "    </tr>\n",
       "    <tr>\n",
       "      <td>5</td>\n",
       "      <td>0.749500</td>\n",
       "      <td>0.637399</td>\n",
       "      <td>0.691919</td>\n",
       "    </tr>\n",
       "    <tr>\n",
       "      <td>6</td>\n",
       "      <td>0.734000</td>\n",
       "      <td>0.623301</td>\n",
       "      <td>0.691919</td>\n",
       "    </tr>\n",
       "    <tr>\n",
       "      <td>7</td>\n",
       "      <td>0.728500</td>\n",
       "      <td>0.612817</td>\n",
       "      <td>0.712121</td>\n",
       "    </tr>\n",
       "    <tr>\n",
       "      <td>8</td>\n",
       "      <td>0.701300</td>\n",
       "      <td>0.603795</td>\n",
       "      <td>0.694444</td>\n",
       "    </tr>\n",
       "    <tr>\n",
       "      <td>9</td>\n",
       "      <td>0.701300</td>\n",
       "      <td>0.594605</td>\n",
       "      <td>0.707071</td>\n",
       "    </tr>\n",
       "    <tr>\n",
       "      <td>10</td>\n",
       "      <td>0.689600</td>\n",
       "      <td>0.585179</td>\n",
       "      <td>0.717172</td>\n",
       "    </tr>\n",
       "  </tbody>\n",
       "</table><p>"
      ],
      "text/plain": [
       "<IPython.core.display.HTML object>"
      ]
     },
     "metadata": {},
     "output_type": "display_data"
    },
    {
     "name": "stdout",
     "output_type": "stream",
     "text": [
      "Saved improved model to ./model_output/finetuned_model_all_esm2.pth\n",
      "Saved improved model to ./model_output/finetuned_model_all_esm2.pth\n",
      "Saved improved model to ./model_output/finetuned_model_all_esm2.pth\n",
      "Saved improved model to ./model_output/finetuned_model_all_esm2.pth\n",
      "Saved improved model to ./model_output/finetuned_model_all_esm2.pth\n",
      "Saved improved model to ./model_output/finetuned_model_all_esm2.pth\n",
      "Saved improved model to ./model_output/finetuned_model_all_esm2.pth\n",
      "Saved improved model to ./model_output/finetuned_model_all_esm2.pth\n",
      "Saved improved model to ./model_output/finetuned_model_all_esm2.pth\n",
      "Saved improved model to ./model_output/finetuned_model_all_esm2.pth\n",
      "Loaded best model from ./model_output/finetuned_model_all_esm2.pth\n"
     ]
    },
    {
     "data": {
      "text/html": [
       "\n",
       "    <div>\n",
       "      \n",
       "      <progress value='50' max='50' style='width:300px; height:20px; vertical-align: middle;'></progress>\n",
       "      [50/50 00:08]\n",
       "    </div>\n",
       "    "
      ],
      "text/plain": [
       "<IPython.core.display.HTML object>"
      ]
     },
     "metadata": {},
     "output_type": "display_data"
    },
    {
     "name": "stderr",
     "output_type": "stream",
     "text": [
      "[I 2024-06-09 18:22:47,587] Trial 2 finished with values: [0.5851788520812988, 0.7171717171717171] and parameters: {'lr': 0.00011898566699055648, 'batch': 2, 'accum': 8, 'dropout_rate': 0.8954826788437121, 'weight_decay': 0.00019241738449361328, 'warmup_pct': 0.23029762276671048, 'lora_rank': 4, 'lora_init_scale': 0.0707825015876256, 'lora_scaling_rank': 2}. \n"
     ]
    },
    {
     "name": "stdout",
     "output_type": "stream",
     "text": [
      "{'eval_loss': 0.5851788520812988, 'eval_accuracy': 0.7171717171717171, 'eval_runtime': 8.7076, 'eval_samples_per_second': 45.477, 'eval_steps_per_second': 5.742, 'epoch': 10.0}\n",
      "History:  [{'loss': 0.7836, 'learning_rate': 6.461646205192042e-06, 'epoch': 1.0, 'step': 99}, {'eval_loss': 0.6906406283378601, 'eval_accuracy': 0.5227272727272727, 'eval_runtime': 8.6295, 'eval_samples_per_second': 45.889, 'eval_steps_per_second': 5.794, 'epoch': 1.0, 'step': 99}, {'loss': 0.8068, 'learning_rate': 1.2923292410384083e-05, 'epoch': 2.0, 'step': 198}, {'eval_loss': 0.6801159977912903, 'eval_accuracy': 0.648989898989899, 'eval_runtime': 8.6747, 'eval_samples_per_second': 45.65, 'eval_steps_per_second': 5.764, 'epoch': 2.0, 'step': 198}, {'loss': 0.7691, 'learning_rate': 1.9384938615576124e-05, 'epoch': 3.0, 'step': 297}, {'eval_loss': 0.6677982807159424, 'eval_accuracy': 0.6868686868686869, 'eval_runtime': 8.6885, 'eval_samples_per_second': 45.578, 'eval_steps_per_second': 5.755, 'epoch': 3.0, 'step': 297}, {'loss': 0.744, 'learning_rate': 2.5846584820768167e-05, 'epoch': 4.0, 'step': 396}, {'eval_loss': 0.6529488563537598, 'eval_accuracy': 0.6944444444444444, 'eval_runtime': 8.6768, 'eval_samples_per_second': 45.639, 'eval_steps_per_second': 5.762, 'epoch': 4.0, 'step': 396}, {'loss': 0.7495, 'learning_rate': 3.2308231025960206e-05, 'epoch': 5.0, 'step': 495}, {'eval_loss': 0.6373993158340454, 'eval_accuracy': 0.6919191919191919, 'eval_runtime': 8.6791, 'eval_samples_per_second': 45.627, 'eval_steps_per_second': 5.761, 'epoch': 5.0, 'step': 495}, {'loss': 0.734, 'learning_rate': 3.876987723115225e-05, 'epoch': 6.0, 'step': 594}, {'eval_loss': 0.6233014464378357, 'eval_accuracy': 0.6919191919191919, 'eval_runtime': 8.6862, 'eval_samples_per_second': 45.59, 'eval_steps_per_second': 5.756, 'epoch': 6.0, 'step': 594}, {'loss': 0.7285, 'learning_rate': 4.523152343634429e-05, 'epoch': 7.0, 'step': 693}, {'eval_loss': 0.6128171682357788, 'eval_accuracy': 0.7121212121212122, 'eval_runtime': 8.7039, 'eval_samples_per_second': 45.497, 'eval_steps_per_second': 5.745, 'epoch': 7.0, 'step': 693}, {'loss': 0.7013, 'learning_rate': 5.1693169641536334e-05, 'epoch': 8.0, 'step': 792}, {'eval_loss': 0.6037947535514832, 'eval_accuracy': 0.6944444444444444, 'eval_runtime': 8.6912, 'eval_samples_per_second': 45.563, 'eval_steps_per_second': 5.753, 'epoch': 8.0, 'step': 792}, {'loss': 0.7013, 'learning_rate': 5.815481584672837e-05, 'epoch': 9.0, 'step': 891}, {'eval_loss': 0.5946054458618164, 'eval_accuracy': 0.7070707070707071, 'eval_runtime': 8.6911, 'eval_samples_per_second': 45.564, 'eval_steps_per_second': 5.753, 'epoch': 9.0, 'step': 891}, {'loss': 0.6896, 'learning_rate': 6.461646205192041e-05, 'epoch': 10.0, 'step': 990}, {'eval_loss': 0.5851788520812988, 'eval_accuracy': 0.7171717171717171, 'eval_runtime': 8.6904, 'eval_samples_per_second': 45.567, 'eval_steps_per_second': 5.753, 'epoch': 10.0, 'step': 990}, {'train_runtime': 634.3719, 'train_samples_per_second': 24.97, 'train_steps_per_second': 1.561, 'total_flos': 9465195637497600.0, 'train_loss': 0.7407679548167219, 'epoch': 10.0, 'step': 990}, {'eval_loss': 0.5851788520812988, 'eval_accuracy': 0.7171717171717171, 'eval_runtime': 8.7076, 'eval_samples_per_second': 45.477, 'eval_steps_per_second': 5.742, 'epoch': 10.0, 'step': 990}]\n"
     ]
    },
    {
     "name": "stderr",
     "output_type": "stream",
     "text": [
      "/home/ubuntu/data/miniconda3/envs/finetune-dephos/lib/python3.9/site-packages/huggingface_hub/file_download.py:1132: FutureWarning: `resume_download` is deprecated and will be removed in version 1.0.0. Downloads always resume when possible. If you want to force a new download, use `force_download=True`.\n",
      "  warnings.warn(\n",
      "Downloading shards: 100%|█████████████████████████████████████████████████████████████| 2/2 [01:02<00:00, 31.49s/it]\n",
      "Loading checkpoint shards: 100%|██████████████████████████████████████████████████████| 2/2 [00:08<00:00,  4.13s/it]\n",
      "Some weights of EsmModel were not initialized from the model checkpoint at facebook/esm2_t36_3B_UR50D and are newly initialized: ['esm.pooler.dense.bias', 'esm.pooler.dense.weight']\n",
      "You should probably TRAIN this model on a down-stream task to be able to use it for predictions and inference.\n"
     ]
    },
    {
     "name": "stdout",
     "output_type": "stream",
     "text": [
      "ESM_LoRA_Classfier\n",
      "Trainable Parameter: 2848188324.0\n",
      "ESM_LoRA_Classfier\n",
      "Trainable Parameter: 6561283.0\n",
      "\n"
     ]
    },
    {
     "name": "stderr",
     "output_type": "stream",
     "text": [
      "/home/ubuntu/data/miniconda3/envs/finetune-dephos/lib/python3.9/site-packages/accelerate/accelerator.py:446: FutureWarning: Passing the following arguments to `Accelerator` is deprecated and will be removed in version 1.0 of Accelerate: dict_keys(['dispatch_batches', 'split_batches']). Please pass an `accelerate.DataLoaderConfiguration` instead: \n",
      "dataloader_config = DataLoaderConfiguration(dispatch_batches=None, split_batches=False)\n",
      "  warnings.warn(\n"
     ]
    },
    {
     "data": {
      "text/html": [
       "\n",
       "    <div>\n",
       "      \n",
       "      <progress value='594' max='990' style='width:300px; height:20px; vertical-align: middle;'></progress>\n",
       "      [594/990 04:25 < 02:57, 2.23 it/s, Epoch 6/10]\n",
       "    </div>\n",
       "    <table border=\"1\" class=\"dataframe\">\n",
       "  <thead>\n",
       " <tr style=\"text-align: left;\">\n",
       "      <th>Epoch</th>\n",
       "      <th>Training Loss</th>\n",
       "      <th>Validation Loss</th>\n",
       "      <th>Accuracy</th>\n",
       "    </tr>\n",
       "  </thead>\n",
       "  <tbody>\n",
       "    <tr>\n",
       "      <td>1</td>\n",
       "      <td>0.713700</td>\n",
       "      <td>0.635564</td>\n",
       "      <td>0.686869</td>\n",
       "    </tr>\n",
       "    <tr>\n",
       "      <td>2</td>\n",
       "      <td>0.651800</td>\n",
       "      <td>0.585238</td>\n",
       "      <td>0.691919</td>\n",
       "    </tr>\n",
       "    <tr>\n",
       "      <td>3</td>\n",
       "      <td>0.636500</td>\n",
       "      <td>0.543815</td>\n",
       "      <td>0.750000</td>\n",
       "    </tr>\n",
       "    <tr>\n",
       "      <td>4</td>\n",
       "      <td>0.615000</td>\n",
       "      <td>0.557882</td>\n",
       "      <td>0.717172</td>\n",
       "    </tr>\n",
       "    <tr>\n",
       "      <td>5</td>\n",
       "      <td>0.605100</td>\n",
       "      <td>0.563470</td>\n",
       "      <td>0.699495</td>\n",
       "    </tr>\n",
       "    <tr>\n",
       "      <td>6</td>\n",
       "      <td>0.604100</td>\n",
       "      <td>0.548514</td>\n",
       "      <td>0.707071</td>\n",
       "    </tr>\n",
       "  </tbody>\n",
       "</table><p>"
      ],
      "text/plain": [
       "<IPython.core.display.HTML object>"
      ]
     },
     "metadata": {},
     "output_type": "display_data"
    },
    {
     "name": "stdout",
     "output_type": "stream",
     "text": [
      "Saved improved model to ./model_output/finetuned_model_all_esm2.pth\n",
      "Saved improved model to ./model_output/finetuned_model_all_esm2.pth\n",
      "Saved improved model to ./model_output/finetuned_model_all_esm2.pth\n",
      "Stopping early at epoch 6.0: No improvement in loss or accuracy for 3 evaluations.\n",
      "Loaded best model from ./model_output/finetuned_model_all_esm2.pth\n"
     ]
    },
    {
     "data": {
      "text/html": [
       "\n",
       "    <div>\n",
       "      \n",
       "      <progress value='50' max='50' style='width:300px; height:20px; vertical-align: middle;'></progress>\n",
       "      [50/50 00:08]\n",
       "    </div>\n",
       "    "
      ],
      "text/plain": [
       "<IPython.core.display.HTML object>"
      ]
     },
     "metadata": {},
     "output_type": "display_data"
    },
    {
     "name": "stderr",
     "output_type": "stream",
     "text": [
      "[I 2024-06-09 18:29:31,030] Trial 3 finished with values: [0.5438153147697449, 0.75] and parameters: {'lr': 0.0004081619465276262, 'batch': 8, 'accum': 2, 'dropout_rate': 0.7463317480416926, 'weight_decay': 4.9658112332606444e-05, 'warmup_pct': 0.2651769888445791, 'lora_rank': 28, 'lora_init_scale': 0.009364760913461176, 'lora_scaling_rank': 3}. \n"
     ]
    },
    {
     "name": "stdout",
     "output_type": "stream",
     "text": [
      "Stopping early at epoch 6.0: No improvement in loss or accuracy for 3 evaluations.\n",
      "{'eval_loss': 0.5438153147697449, 'eval_accuracy': 0.75, 'eval_runtime': 8.6719, 'eval_samples_per_second': 45.665, 'eval_steps_per_second': 5.766, 'epoch': 6.0}\n",
      "History:  [{'loss': 0.7137, 'learning_rate': 7.696768134520952e-05, 'epoch': 1.0, 'step': 99}, {'eval_loss': 0.6355636715888977, 'eval_accuracy': 0.6868686868686869, 'eval_runtime': 8.6175, 'eval_samples_per_second': 45.953, 'eval_steps_per_second': 5.802, 'epoch': 1.0, 'step': 99}, {'loss': 0.6518, 'learning_rate': 0.00015393536269041905, 'epoch': 2.0, 'step': 198}, {'eval_loss': 0.5852380990982056, 'eval_accuracy': 0.6919191919191919, 'eval_runtime': 8.6698, 'eval_samples_per_second': 45.676, 'eval_steps_per_second': 5.767, 'epoch': 2.0, 'step': 198}, {'loss': 0.6365, 'learning_rate': 0.00023090304403562855, 'epoch': 3.0, 'step': 297}, {'eval_loss': 0.5438153147697449, 'eval_accuracy': 0.75, 'eval_runtime': 8.7477, 'eval_samples_per_second': 45.269, 'eval_steps_per_second': 5.716, 'epoch': 3.0, 'step': 297}, {'loss': 0.615, 'learning_rate': 0.0003078707253808381, 'epoch': 4.0, 'step': 396}, {'eval_loss': 0.5578821301460266, 'eval_accuracy': 0.7171717171717171, 'eval_runtime': 8.6954, 'eval_samples_per_second': 45.541, 'eval_steps_per_second': 5.75, 'epoch': 4.0, 'step': 396}, {'loss': 0.6051, 'learning_rate': 0.00038483840672604757, 'epoch': 5.0, 'step': 495}, {'eval_loss': 0.563469648361206, 'eval_accuracy': 0.6994949494949495, 'eval_runtime': 8.6807, 'eval_samples_per_second': 45.618, 'eval_steps_per_second': 5.76, 'epoch': 5.0, 'step': 495}, {'loss': 0.6041, 'learning_rate': 0.00034759598026868813, 'epoch': 6.0, 'step': 594}, {'eval_loss': 0.548514187335968, 'eval_accuracy': 0.7070707070707071, 'eval_runtime': 8.6737, 'eval_samples_per_second': 45.655, 'eval_steps_per_second': 5.765, 'epoch': 6.0, 'step': 594}, {'train_runtime': 266.3569, 'train_samples_per_second': 59.469, 'train_steps_per_second': 3.717, 'total_flos': 5679117382498560.0, 'train_loss': 0.6377191896791812, 'epoch': 6.0, 'step': 594}, {'eval_loss': 0.5438153147697449, 'eval_accuracy': 0.75, 'eval_runtime': 8.6719, 'eval_samples_per_second': 45.665, 'eval_steps_per_second': 5.766, 'epoch': 6.0, 'step': 594}]\n"
     ]
    },
    {
     "name": "stderr",
     "output_type": "stream",
     "text": [
      "/home/ubuntu/data/miniconda3/envs/finetune-dephos/lib/python3.9/site-packages/huggingface_hub/file_download.py:1132: FutureWarning: `resume_download` is deprecated and will be removed in version 1.0.0. Downloads always resume when possible. If you want to force a new download, use `force_download=True`.\n",
      "  warnings.warn(\n",
      "Downloading shards: 100%|█████████████████████████████████████████████████████████████| 2/2 [00:54<00:00, 27.34s/it]\n",
      "Loading checkpoint shards: 100%|██████████████████████████████████████████████████████| 2/2 [01:09<00:00, 34.88s/it]\n",
      "Some weights of EsmModel were not initialized from the model checkpoint at facebook/esm2_t36_3B_UR50D and are newly initialized: ['esm.pooler.dense.bias', 'esm.pooler.dense.weight']\n",
      "You should probably TRAIN this model on a down-stream task to be able to use it for predictions and inference.\n"
     ]
    },
    {
     "name": "stdout",
     "output_type": "stream",
     "text": [
      "ESM_LoRA_Classfier\n",
      "Trainable Parameter: 2848188324.0\n",
      "ESM_LoRA_Classfier\n",
      "Trainable Parameter: 6561283.0\n",
      "\n"
     ]
    },
    {
     "name": "stderr",
     "output_type": "stream",
     "text": [
      "/home/ubuntu/data/miniconda3/envs/finetune-dephos/lib/python3.9/site-packages/accelerate/accelerator.py:446: FutureWarning: Passing the following arguments to `Accelerator` is deprecated and will be removed in version 1.0 of Accelerate: dict_keys(['dispatch_batches', 'split_batches']). Please pass an `accelerate.DataLoaderConfiguration` instead: \n",
      "dataloader_config = DataLoaderConfiguration(dispatch_batches=None, split_batches=False)\n",
      "  warnings.warn(\n"
     ]
    },
    {
     "data": {
      "text/html": [
       "\n",
       "    <div>\n",
       "      \n",
       "      <progress value='490' max='490' style='width:300px; height:20px; vertical-align: middle;'></progress>\n",
       "      [490/490 07:18, Epoch 9/10]\n",
       "    </div>\n",
       "    <table border=\"1\" class=\"dataframe\">\n",
       "  <thead>\n",
       " <tr style=\"text-align: left;\">\n",
       "      <th>Epoch</th>\n",
       "      <th>Training Loss</th>\n",
       "      <th>Validation Loss</th>\n",
       "      <th>Accuracy</th>\n",
       "    </tr>\n",
       "  </thead>\n",
       "  <tbody>\n",
       "    <tr>\n",
       "      <td>0</td>\n",
       "      <td>0.714400</td>\n",
       "      <td>0.652686</td>\n",
       "      <td>0.664141</td>\n",
       "    </tr>\n",
       "    <tr>\n",
       "      <td>2</td>\n",
       "      <td>0.628100</td>\n",
       "      <td>0.578825</td>\n",
       "      <td>0.686869</td>\n",
       "    </tr>\n",
       "    <tr>\n",
       "      <td>4</td>\n",
       "      <td>0.557100</td>\n",
       "      <td>0.537681</td>\n",
       "      <td>0.719697</td>\n",
       "    </tr>\n",
       "    <tr>\n",
       "      <td>6</td>\n",
       "      <td>0.539300</td>\n",
       "      <td>0.524937</td>\n",
       "      <td>0.739899</td>\n",
       "    </tr>\n",
       "    <tr>\n",
       "      <td>8</td>\n",
       "      <td>0.511400</td>\n",
       "      <td>0.524301</td>\n",
       "      <td>0.739899</td>\n",
       "    </tr>\n",
       "    <tr>\n",
       "      <td>9</td>\n",
       "      <td>0.499700</td>\n",
       "      <td>0.523429</td>\n",
       "      <td>0.744949</td>\n",
       "    </tr>\n",
       "  </tbody>\n",
       "</table><p>"
      ],
      "text/plain": [
       "<IPython.core.display.HTML object>"
      ]
     },
     "metadata": {},
     "output_type": "display_data"
    },
    {
     "name": "stdout",
     "output_type": "stream",
     "text": [
      "Saved improved model to ./model_output/finetuned_model_all_esm2.pth\n",
      "Saved improved model to ./model_output/finetuned_model_all_esm2.pth\n",
      "Saved improved model to ./model_output/finetuned_model_all_esm2.pth\n",
      "Saved improved model to ./model_output/finetuned_model_all_esm2.pth\n",
      "Saved improved model to ./model_output/finetuned_model_all_esm2.pth\n",
      "Saved improved model to ./model_output/finetuned_model_all_esm2.pth\n",
      "Saved improved model to ./model_output/finetuned_model_all_esm2.pth\n",
      "Saved improved model to ./model_output/finetuned_model_all_esm2.pth\n",
      "Loaded best model from ./model_output/finetuned_model_all_esm2.pth\n"
     ]
    },
    {
     "data": {
      "text/html": [
       "\n",
       "    <div>\n",
       "      \n",
       "      <progress value='50' max='50' style='width:300px; height:20px; vertical-align: middle;'></progress>\n",
       "      [50/50 00:08]\n",
       "    </div>\n",
       "    "
      ],
      "text/plain": [
       "<IPython.core.display.HTML object>"
      ]
     },
     "metadata": {},
     "output_type": "display_data"
    },
    {
     "name": "stderr",
     "output_type": "stream",
     "text": [
      "[I 2024-06-09 18:40:00,259] Trial 4 finished with values: [0.5234290361404419, 0.7449494949494949] and parameters: {'lr': 0.00017928695155936908, 'batch': 8, 'accum': 4, 'dropout_rate': 0.6476080215943276, 'weight_decay': 6.181385782136418e-05, 'warmup_pct': 0.09463956710801381, 'lora_rank': 20, 'lora_init_scale': 0.0005059760844739306, 'lora_scaling_rank': 8}. \n"
     ]
    },
    {
     "name": "stdout",
     "output_type": "stream",
     "text": [
      "{'eval_loss': 0.5234290361404419, 'eval_accuracy': 0.7449494949494949, 'eval_runtime': 8.6683, 'eval_samples_per_second': 45.684, 'eval_steps_per_second': 5.768, 'epoch': 9.9}\n",
      "History:  [{'loss': 0.7144, 'learning_rate': 4.697893383106462e-05, 'epoch': 0.99, 'step': 49}, {'eval_loss': 0.6526862382888794, 'eval_accuracy': 0.6641414141414141, 'eval_runtime': 8.634, 'eval_samples_per_second': 45.865, 'eval_steps_per_second': 5.791, 'epoch': 0.99, 'step': 49}, {'loss': 0.647, 'learning_rate': 9.491662141378363e-05, 'epoch': 2.0, 'step': 99}, {'eval_loss': 0.59687340259552, 'eval_accuracy': 0.6944444444444444, 'eval_runtime': 8.6883, 'eval_samples_per_second': 45.578, 'eval_steps_per_second': 5.755, 'epoch': 2.0, 'step': 99}, {'loss': 0.6281, 'learning_rate': 0.00014189555524484826, 'epoch': 2.99, 'step': 148}, {'eval_loss': 0.5788245797157288, 'eval_accuracy': 0.6868686868686869, 'eval_runtime': 8.7324, 'eval_samples_per_second': 45.348, 'eval_steps_per_second': 5.726, 'epoch': 2.99, 'step': 148}, {'loss': 0.5722, 'learning_rate': 0.00017277818434104214, 'epoch': 4.0, 'step': 198}, {'eval_loss': 0.5678238272666931, 'eval_accuracy': 0.6944444444444444, 'eval_runtime': 8.7046, 'eval_samples_per_second': 45.493, 'eval_steps_per_second': 5.744, 'epoch': 4.0, 'step': 198}, {'loss': 0.5571, 'learning_rate': 0.00014378458491394946, 'epoch': 4.99, 'step': 247}, {'eval_loss': 0.537680983543396, 'eval_accuracy': 0.7196969696969697, 'eval_runtime': 8.6706, 'eval_samples_per_second': 45.671, 'eval_steps_per_second': 5.767, 'epoch': 4.99, 'step': 247}, {'loss': 0.5334, 'learning_rate': 0.00011419927937609978, 'epoch': 6.0, 'step': 297}, {'eval_loss': 0.5269480347633362, 'eval_accuracy': 0.7323232323232324, 'eval_runtime': 8.6672, 'eval_samples_per_second': 45.69, 'eval_steps_per_second': 5.769, 'epoch': 6.0, 'step': 297}, {'loss': 0.5393, 'learning_rate': 8.520567994900709e-05, 'epoch': 6.99, 'step': 346}, {'eval_loss': 0.5249372124671936, 'eval_accuracy': 0.73989898989899, 'eval_runtime': 8.6708, 'eval_samples_per_second': 45.671, 'eval_steps_per_second': 5.766, 'epoch': 6.99, 'step': 346}, {'loss': 0.51, 'learning_rate': 5.56203744111574e-05, 'epoch': 8.0, 'step': 396}, {'eval_loss': 0.5276600122451782, 'eval_accuracy': 0.7323232323232324, 'eval_runtime': 8.6743, 'eval_samples_per_second': 45.652, 'eval_steps_per_second': 5.764, 'epoch': 8.0, 'step': 396}, {'loss': 0.5114, 'learning_rate': 2.6626774984064714e-05, 'epoch': 8.99, 'step': 445}, {'eval_loss': 0.5243010520935059, 'eval_accuracy': 0.73989898989899, 'eval_runtime': 8.6731, 'eval_samples_per_second': 45.658, 'eval_steps_per_second': 5.765, 'epoch': 8.99, 'step': 445}, {'loss': 0.4997, 'learning_rate': 0.0, 'epoch': 9.9, 'step': 490}, {'eval_loss': 0.5234290361404419, 'eval_accuracy': 0.7449494949494949, 'eval_runtime': 8.6765, 'eval_samples_per_second': 45.641, 'eval_steps_per_second': 5.763, 'epoch': 9.9, 'step': 490}, {'train_runtime': 439.1554, 'train_samples_per_second': 36.069, 'train_steps_per_second': 1.116, 'total_flos': 9369587600755200.0, 'train_loss': 0.5718005433374521, 'epoch': 9.9, 'step': 490}, {'eval_loss': 0.5234290361404419, 'eval_accuracy': 0.7449494949494949, 'eval_runtime': 8.6683, 'eval_samples_per_second': 45.684, 'eval_steps_per_second': 5.768, 'epoch': 9.9, 'step': 490}]\n"
     ]
    },
    {
     "name": "stderr",
     "output_type": "stream",
     "text": [
      "/home/ubuntu/data/miniconda3/envs/finetune-dephos/lib/python3.9/site-packages/huggingface_hub/file_download.py:1132: FutureWarning: `resume_download` is deprecated and will be removed in version 1.0.0. Downloads always resume when possible. If you want to force a new download, use `force_download=True`.\n",
      "  warnings.warn(\n",
      "Downloading shards: 100%|█████████████████████████████████████████████████████████████| 2/2 [00:56<00:00, 28.35s/it]\n",
      "Loading checkpoint shards: 100%|██████████████████████████████████████████████████████| 2/2 [01:17<00:00, 38.98s/it]\n",
      "Some weights of EsmModel were not initialized from the model checkpoint at facebook/esm2_t36_3B_UR50D and are newly initialized: ['esm.pooler.dense.bias', 'esm.pooler.dense.weight']\n",
      "You should probably TRAIN this model on a down-stream task to be able to use it for predictions and inference.\n"
     ]
    },
    {
     "name": "stdout",
     "output_type": "stream",
     "text": [
      "ESM_LoRA_Classfier\n",
      "Trainable Parameter: 2848188324.0\n",
      "ESM_LoRA_Classfier\n",
      "Trainable Parameter: 6561283.0\n",
      "\n"
     ]
    },
    {
     "name": "stderr",
     "output_type": "stream",
     "text": [
      "/home/ubuntu/data/miniconda3/envs/finetune-dephos/lib/python3.9/site-packages/accelerate/accelerator.py:446: FutureWarning: Passing the following arguments to `Accelerator` is deprecated and will be removed in version 1.0 of Accelerate: dict_keys(['dispatch_batches', 'split_batches']). Please pass an `accelerate.DataLoaderConfiguration` instead: \n",
      "dataloader_config = DataLoaderConfiguration(dispatch_batches=None, split_batches=False)\n",
      "  warnings.warn(\n"
     ]
    },
    {
     "data": {
      "text/html": [
       "\n",
       "    <div>\n",
       "      \n",
       "      <progress value='990' max='990' style='width:300px; height:20px; vertical-align: middle;'></progress>\n",
       "      [990/990 10:31, Epoch 10/10]\n",
       "    </div>\n",
       "    <table border=\"1\" class=\"dataframe\">\n",
       "  <thead>\n",
       " <tr style=\"text-align: left;\">\n",
       "      <th>Epoch</th>\n",
       "      <th>Training Loss</th>\n",
       "      <th>Validation Loss</th>\n",
       "      <th>Accuracy</th>\n",
       "    </tr>\n",
       "  </thead>\n",
       "  <tbody>\n",
       "    <tr>\n",
       "      <td>1</td>\n",
       "      <td>0.634900</td>\n",
       "      <td>0.575756</td>\n",
       "      <td>0.686869</td>\n",
       "    </tr>\n",
       "    <tr>\n",
       "      <td>2</td>\n",
       "      <td>0.583700</td>\n",
       "      <td>0.613072</td>\n",
       "      <td>0.681818</td>\n",
       "    </tr>\n",
       "    <tr>\n",
       "      <td>3</td>\n",
       "      <td>0.545700</td>\n",
       "      <td>0.698903</td>\n",
       "      <td>0.654040</td>\n",
       "    </tr>\n",
       "    <tr>\n",
       "      <td>4</td>\n",
       "      <td>0.534200</td>\n",
       "      <td>0.574348</td>\n",
       "      <td>0.694444</td>\n",
       "    </tr>\n",
       "    <tr>\n",
       "      <td>5</td>\n",
       "      <td>0.575600</td>\n",
       "      <td>0.662424</td>\n",
       "      <td>0.694444</td>\n",
       "    </tr>\n",
       "    <tr>\n",
       "      <td>6</td>\n",
       "      <td>0.560300</td>\n",
       "      <td>0.778092</td>\n",
       "      <td>0.643939</td>\n",
       "    </tr>\n",
       "    <tr>\n",
       "      <td>7</td>\n",
       "      <td>0.596700</td>\n",
       "      <td>0.711759</td>\n",
       "      <td>0.696970</td>\n",
       "    </tr>\n",
       "    <tr>\n",
       "      <td>8</td>\n",
       "      <td>0.624200</td>\n",
       "      <td>0.634829</td>\n",
       "      <td>0.729798</td>\n",
       "    </tr>\n",
       "    <tr>\n",
       "      <td>9</td>\n",
       "      <td>0.644600</td>\n",
       "      <td>0.935111</td>\n",
       "      <td>0.659091</td>\n",
       "    </tr>\n",
       "    <tr>\n",
       "      <td>10</td>\n",
       "      <td>0.964100</td>\n",
       "      <td>0.856252</td>\n",
       "      <td>0.704545</td>\n",
       "    </tr>\n",
       "  </tbody>\n",
       "</table><p>"
      ],
      "text/plain": [
       "<IPython.core.display.HTML object>"
      ]
     },
     "metadata": {},
     "output_type": "display_data"
    },
    {
     "name": "stdout",
     "output_type": "stream",
     "text": [
      "Saved improved model to ./model_output/finetuned_model_all_esm2.pth\n",
      "Saved improved model to ./model_output/finetuned_model_all_esm2.pth\n",
      "Saved improved model to ./model_output/finetuned_model_all_esm2.pth\n",
      "Saved improved model to ./model_output/finetuned_model_all_esm2.pth\n",
      "Loaded best model from ./model_output/finetuned_model_all_esm2.pth\n"
     ]
    },
    {
     "data": {
      "text/html": [
       "\n",
       "    <div>\n",
       "      \n",
       "      <progress value='50' max='50' style='width:300px; height:20px; vertical-align: middle;'></progress>\n",
       "      [50/50 00:08]\n",
       "    </div>\n",
       "    "
      ],
      "text/plain": [
       "<IPython.core.display.HTML object>"
      ]
     },
     "metadata": {},
     "output_type": "display_data"
    },
    {
     "name": "stdout",
     "output_type": "stream",
     "text": [
      "Stopping early at epoch 10.0: No improvement in loss or accuracy for 3 evaluations.\n",
      "{'eval_loss': 0.6348291039466858, 'eval_accuracy': 0.7297979797979798, 'eval_runtime': 8.7144, 'eval_samples_per_second': 45.442, 'eval_steps_per_second': 5.738, 'epoch': 10.0}\n",
      "History:  [{'loss': 0.6349, 'learning_rate': 0.00024004770671633355, 'epoch': 1.0, 'step': 99}, {'eval_loss': 0.5757564902305603, 'eval_accuracy': 0.6868686868686869, 'eval_runtime': 8.6193, 'eval_samples_per_second': 45.943, 'eval_steps_per_second': 5.801, 'epoch': 1.0, 'step': 99}, {'loss': 0.5837, 'learning_rate': 0.0004800954134326671, 'epoch': 2.0, 'step': 198}, {'eval_loss': 0.6130723357200623, 'eval_accuracy': 0.6818181818181818, 'eval_runtime': 8.6668, 'eval_samples_per_second': 45.692, 'eval_steps_per_second': 5.769, 'epoch': 2.0, 'step': 198}, {'loss': 0.5457, 'learning_rate': 0.0007201431201490007, 'epoch': 3.0, 'step': 297}, {'eval_loss': 0.6989028453826904, 'eval_accuracy': 0.6540404040404041, 'eval_runtime': 8.6733, 'eval_samples_per_second': 45.657, 'eval_steps_per_second': 5.765, 'epoch': 3.0, 'step': 297}, {'loss': 0.5342, 'learning_rate': 0.0009601908268653342, 'epoch': 4.0, 'step': 396}, {'eval_loss': 0.5743482112884521, 'eval_accuracy': 0.6944444444444444, 'eval_runtime': 8.6792, 'eval_samples_per_second': 45.626, 'eval_steps_per_second': 5.761, 'epoch': 4.0, 'step': 396}, {'loss': 0.5756, 'learning_rate': 0.0012002385335816677, 'epoch': 5.0, 'step': 495}, {'eval_loss': 0.6624235510826111, 'eval_accuracy': 0.6944444444444444, 'eval_runtime': 8.6838, 'eval_samples_per_second': 45.602, 'eval_steps_per_second': 5.758, 'epoch': 5.0, 'step': 495}, {'loss': 0.5603, 'learning_rate': 0.0014402862402980014, 'epoch': 6.0, 'step': 594}, {'eval_loss': 0.7780922055244446, 'eval_accuracy': 0.6439393939393939, 'eval_runtime': 8.6938, 'eval_samples_per_second': 45.549, 'eval_steps_per_second': 5.751, 'epoch': 6.0, 'step': 594}, {'loss': 0.5967, 'learning_rate': 0.001680333947014335, 'epoch': 7.0, 'step': 693}, {'eval_loss': 0.7117588520050049, 'eval_accuracy': 0.696969696969697, 'eval_runtime': 8.6821, 'eval_samples_per_second': 45.611, 'eval_steps_per_second': 5.759, 'epoch': 7.0, 'step': 693}, {'loss': 0.6242, 'learning_rate': 0.0019203816537306684, 'epoch': 8.0, 'step': 792}, {'eval_loss': 0.6348291039466858, 'eval_accuracy': 0.7297979797979798, 'eval_runtime': 8.6833, 'eval_samples_per_second': 45.605, 'eval_steps_per_second': 5.758, 'epoch': 8.0, 'step': 792}, {'loss': 0.6446, 'learning_rate': 0.002160429360447002, 'epoch': 9.0, 'step': 891}, {'eval_loss': 0.9351105093955994, 'eval_accuracy': 0.6590909090909091, 'eval_runtime': 8.6983, 'eval_samples_per_second': 45.526, 'eval_steps_per_second': 5.748, 'epoch': 9.0, 'step': 891}, {'loss': 0.9641, 'learning_rate': 0.0024004770671633355, 'epoch': 10.0, 'step': 990}, {'eval_loss': 0.856252133846283, 'eval_accuracy': 0.7045454545454546, 'eval_runtime': 8.6933, 'eval_samples_per_second': 45.552, 'eval_steps_per_second': 5.752, 'epoch': 10.0, 'step': 990}, {'train_runtime': 632.2289, 'train_samples_per_second': 25.054, 'train_steps_per_second': 1.566, 'total_flos': 9465195637497600.0, 'train_loss': 0.6264164317737926, 'epoch': 10.0, 'step': 990}, {'eval_loss': 0.6348291039466858, 'eval_accuracy': 0.7297979797979798, 'eval_runtime': 8.7144, 'eval_samples_per_second': 45.442, 'eval_steps_per_second': 5.738, 'epoch': 10.0, 'step': 990}]\n"
     ]
    },
    {
     "name": "stderr",
     "output_type": "stream",
     "text": [
      "[I 2024-06-09 18:53:52,764] Trial 5 finished with values: [0.6348291039466858, 0.7297979797979798] and parameters: {'lr': 0.0027569115407724367, 'batch': 2, 'accum': 8, 'dropout_rate': 0.2607211054985855, 'weight_decay': 9.5787229327352e-05, 'warmup_pct': 0.14362119201668178, 'lora_rank': 20, 'lora_init_scale': 0.00019059880354827463, 'lora_scaling_rank': 5}. \n",
      "/home/ubuntu/data/miniconda3/envs/finetune-dephos/lib/python3.9/site-packages/huggingface_hub/file_download.py:1132: FutureWarning: `resume_download` is deprecated and will be removed in version 1.0.0. Downloads always resume when possible. If you want to force a new download, use `force_download=True`.\n",
      "  warnings.warn(\n",
      "Downloading shards: 100%|█████████████████████████████████████████████████████████████| 2/2 [01:03<00:00, 31.69s/it]\n",
      "Loading checkpoint shards: 100%|██████████████████████████████████████████████████████| 2/2 [01:04<00:00, 32.22s/it]\n",
      "Some weights of EsmModel were not initialized from the model checkpoint at facebook/esm2_t36_3B_UR50D and are newly initialized: ['esm.pooler.dense.bias', 'esm.pooler.dense.weight']\n",
      "You should probably TRAIN this model on a down-stream task to be able to use it for predictions and inference.\n"
     ]
    },
    {
     "name": "stdout",
     "output_type": "stream",
     "text": [
      "ESM_LoRA_Classfier\n",
      "Trainable Parameter: 2848188324.0\n",
      "ESM_LoRA_Classfier\n",
      "Trainable Parameter: 6561283.0\n",
      "\n"
     ]
    },
    {
     "name": "stderr",
     "output_type": "stream",
     "text": [
      "/home/ubuntu/data/miniconda3/envs/finetune-dephos/lib/python3.9/site-packages/accelerate/accelerator.py:446: FutureWarning: Passing the following arguments to `Accelerator` is deprecated and will be removed in version 1.0 of Accelerate: dict_keys(['dispatch_batches', 'split_batches']). Please pass an `accelerate.DataLoaderConfiguration` instead: \n",
      "dataloader_config = DataLoaderConfiguration(dispatch_batches=None, split_batches=False)\n",
      "  warnings.warn(\n"
     ]
    },
    {
     "data": {
      "text/html": [
       "\n",
       "    <div>\n",
       "      \n",
       "      <progress value='396' max='990' style='width:300px; height:20px; vertical-align: middle;'></progress>\n",
       "      [396/990 03:40 < 05:31, 1.79 it/s, Epoch 4/10]\n",
       "    </div>\n",
       "    <table border=\"1\" class=\"dataframe\">\n",
       "  <thead>\n",
       " <tr style=\"text-align: left;\">\n",
       "      <th>Epoch</th>\n",
       "      <th>Training Loss</th>\n",
       "      <th>Validation Loss</th>\n",
       "      <th>Accuracy</th>\n",
       "    </tr>\n",
       "  </thead>\n",
       "  <tbody>\n",
       "    <tr>\n",
       "      <td>1</td>\n",
       "      <td>0.711700</td>\n",
       "      <td>0.578993</td>\n",
       "      <td>0.694444</td>\n",
       "    </tr>\n",
       "    <tr>\n",
       "      <td>2</td>\n",
       "      <td>0.616600</td>\n",
       "      <td>0.847660</td>\n",
       "      <td>0.626263</td>\n",
       "    </tr>\n",
       "    <tr>\n",
       "      <td>3</td>\n",
       "      <td>0.734100</td>\n",
       "      <td>1.358792</td>\n",
       "      <td>0.583333</td>\n",
       "    </tr>\n",
       "    <tr>\n",
       "      <td>4</td>\n",
       "      <td>0.816700</td>\n",
       "      <td>0.748836</td>\n",
       "      <td>0.643939</td>\n",
       "    </tr>\n",
       "  </tbody>\n",
       "</table><p>"
      ],
      "text/plain": [
       "<IPython.core.display.HTML object>"
      ]
     },
     "metadata": {},
     "output_type": "display_data"
    },
    {
     "name": "stdout",
     "output_type": "stream",
     "text": [
      "Saved improved model to ./model_output/finetuned_model_all_esm2.pth\n",
      "Stopping early at epoch 4.0: No improvement in loss or accuracy for 3 evaluations.\n",
      "Loaded best model from ./model_output/finetuned_model_all_esm2.pth\n"
     ]
    },
    {
     "data": {
      "text/html": [
       "\n",
       "    <div>\n",
       "      \n",
       "      <progress value='50' max='50' style='width:300px; height:20px; vertical-align: middle;'></progress>\n",
       "      [50/50 00:08]\n",
       "    </div>\n",
       "    "
      ],
      "text/plain": [
       "<IPython.core.display.HTML object>"
      ]
     },
     "metadata": {},
     "output_type": "display_data"
    },
    {
     "name": "stdout",
     "output_type": "stream",
     "text": [
      "Stopping early at epoch 4.0: No improvement in loss or accuracy for 3 evaluations.\n",
      "{'eval_loss': 0.5789932608604431, 'eval_accuracy': 0.6944444444444444, 'eval_runtime': 8.7554, 'eval_samples_per_second': 45.229, 'eval_steps_per_second': 5.711, 'epoch': 4.0}\n",
      "History:  [{'loss': 0.7117, 'learning_rate': 0.0009528941035639227, 'epoch': 1.0, 'step': 99}, {'eval_loss': 0.5789932608604431, 'eval_accuracy': 0.6944444444444444, 'eval_runtime': 8.6216, 'eval_samples_per_second': 45.931, 'eval_steps_per_second': 5.799, 'epoch': 1.0, 'step': 99}, {'loss': 0.6166, 'learning_rate': 0.0019057882071278453, 'epoch': 2.0, 'step': 198}, {'eval_loss': 0.8476597666740417, 'eval_accuracy': 0.6262626262626263, 'eval_runtime': 8.6707, 'eval_samples_per_second': 45.671, 'eval_steps_per_second': 5.767, 'epoch': 2.0, 'step': 198}, {'loss': 0.7341, 'learning_rate': 0.002858682310691768, 'epoch': 3.0, 'step': 297}, {'eval_loss': 1.3587924242019653, 'eval_accuracy': 0.5833333333333334, 'eval_runtime': 8.6991, 'eval_samples_per_second': 45.522, 'eval_steps_per_second': 5.748, 'epoch': 3.0, 'step': 297}, {'loss': 0.8167, 'learning_rate': 0.0038115764142556906, 'epoch': 4.0, 'step': 396}, {'eval_loss': 0.748835563659668, 'eval_accuracy': 0.6439393939393939, 'eval_runtime': 8.7392, 'eval_samples_per_second': 45.313, 'eval_steps_per_second': 5.721, 'epoch': 4.0, 'step': 396}, {'train_runtime': 220.7336, 'train_samples_per_second': 71.761, 'train_steps_per_second': 4.485, 'total_flos': 3786078254999040.0, 'train_loss': 0.7197757393422753, 'epoch': 4.0, 'step': 396}, {'eval_loss': 0.5789932608604431, 'eval_accuracy': 0.6944444444444444, 'eval_runtime': 8.7554, 'eval_samples_per_second': 45.229, 'eval_steps_per_second': 5.711, 'epoch': 4.0, 'step': 396}]\n"
     ]
    },
    {
     "name": "stderr",
     "output_type": "stream",
     "text": [
      "[I 2024-06-09 19:00:52,105] Trial 6 finished with values: [0.5789932608604431, 0.6944444444444444] and parameters: {'lr': 0.008999555422548159, 'batch': 4, 'accum': 4, 'dropout_rate': 0.14761758691258767, 'weight_decay': 0.0007377900983509194, 'warmup_pct': 0.23612315033252695, 'lora_rank': 16, 'lora_init_scale': 0.010160199572123862, 'lora_scaling_rank': 4}. \n",
      "/home/ubuntu/data/miniconda3/envs/finetune-dephos/lib/python3.9/site-packages/huggingface_hub/file_download.py:1132: FutureWarning: `resume_download` is deprecated and will be removed in version 1.0.0. Downloads always resume when possible. If you want to force a new download, use `force_download=True`.\n",
      "  warnings.warn(\n",
      "Downloading shards: 100%|█████████████████████████████████████████████████████████████| 2/2 [00:59<00:00, 29.61s/it]\n",
      "Loading checkpoint shards: 100%|██████████████████████████████████████████████████████| 2/2 [01:06<00:00, 33.26s/it]\n",
      "Some weights of EsmModel were not initialized from the model checkpoint at facebook/esm2_t36_3B_UR50D and are newly initialized: ['esm.pooler.dense.bias', 'esm.pooler.dense.weight']\n",
      "You should probably TRAIN this model on a down-stream task to be able to use it for predictions and inference.\n"
     ]
    },
    {
     "name": "stdout",
     "output_type": "stream",
     "text": [
      "ESM_LoRA_Classfier\n",
      "Trainable Parameter: 2848188324.0\n",
      "ESM_LoRA_Classfier\n",
      "Trainable Parameter: 6561283.0\n",
      "\n"
     ]
    },
    {
     "name": "stderr",
     "output_type": "stream",
     "text": [
      "/home/ubuntu/data/miniconda3/envs/finetune-dephos/lib/python3.9/site-packages/accelerate/accelerator.py:446: FutureWarning: Passing the following arguments to `Accelerator` is deprecated and will be removed in version 1.0 of Accelerate: dict_keys(['dispatch_batches', 'split_batches']). Please pass an `accelerate.DataLoaderConfiguration` instead: \n",
      "dataloader_config = DataLoaderConfiguration(dispatch_batches=None, split_batches=False)\n",
      "  warnings.warn(\n"
     ]
    },
    {
     "data": {
      "text/html": [
       "\n",
       "    <div>\n",
       "      \n",
       "      <progress value='792' max='1980' style='width:300px; height:20px; vertical-align: middle;'></progress>\n",
       "      [ 792/1980 05:26 < 08:11, 2.42 it/s, Epoch 4/10]\n",
       "    </div>\n",
       "    <table border=\"1\" class=\"dataframe\">\n",
       "  <thead>\n",
       " <tr style=\"text-align: left;\">\n",
       "      <th>Epoch</th>\n",
       "      <th>Training Loss</th>\n",
       "      <th>Validation Loss</th>\n",
       "      <th>Accuracy</th>\n",
       "    </tr>\n",
       "  </thead>\n",
       "  <tbody>\n",
       "    <tr>\n",
       "      <td>1</td>\n",
       "      <td>0.653600</td>\n",
       "      <td>0.577994</td>\n",
       "      <td>0.684343</td>\n",
       "    </tr>\n",
       "    <tr>\n",
       "      <td>2</td>\n",
       "      <td>0.714200</td>\n",
       "      <td>1.045694</td>\n",
       "      <td>0.616162</td>\n",
       "    </tr>\n",
       "    <tr>\n",
       "      <td>3</td>\n",
       "      <td>1.310000</td>\n",
       "      <td>1.967021</td>\n",
       "      <td>0.573232</td>\n",
       "    </tr>\n",
       "    <tr>\n",
       "      <td>4</td>\n",
       "      <td>1.307100</td>\n",
       "      <td>1.942472</td>\n",
       "      <td>0.550505</td>\n",
       "    </tr>\n",
       "  </tbody>\n",
       "</table><p>"
      ],
      "text/plain": [
       "<IPython.core.display.HTML object>"
      ]
     },
     "metadata": {},
     "output_type": "display_data"
    },
    {
     "name": "stdout",
     "output_type": "stream",
     "text": [
      "Saved improved model to ./model_output/finetuned_model_all_esm2.pth\n",
      "Stopping early at epoch 4.0: No improvement in loss or accuracy for 3 evaluations.\n",
      "Loaded best model from ./model_output/finetuned_model_all_esm2.pth\n"
     ]
    },
    {
     "data": {
      "text/html": [
       "\n",
       "    <div>\n",
       "      \n",
       "      <progress value='50' max='50' style='width:300px; height:20px; vertical-align: middle;'></progress>\n",
       "      [50/50 00:08]\n",
       "    </div>\n",
       "    "
      ],
      "text/plain": [
       "<IPython.core.display.HTML object>"
      ]
     },
     "metadata": {},
     "output_type": "display_data"
    },
    {
     "name": "stderr",
     "output_type": "stream",
     "text": [
      "[I 2024-06-09 19:09:33,404] Trial 7 finished with values: [0.5779942274093628, 0.6843434343434344] and parameters: {'lr': 0.004934926329922867, 'batch': 1, 'accum': 8, 'dropout_rate': 0.22195362227820523, 'weight_decay': 2.3351776819301044e-05, 'warmup_pct': 0.057928989187117155, 'lora_rank': 32, 'lora_init_scale': 0.008641960750323212, 'lora_scaling_rank': 1}. \n"
     ]
    },
    {
     "name": "stdout",
     "output_type": "stream",
     "text": [
      "Stopping early at epoch 4.0: No improvement in loss or accuracy for 3 evaluations.\n",
      "{'eval_loss': 0.5779942274093628, 'eval_accuracy': 0.6843434343434344, 'eval_runtime': 8.6768, 'eval_samples_per_second': 45.639, 'eval_steps_per_second': 5.762, 'epoch': 4.0}\n",
      "History:  [{'loss': 0.6536, 'learning_rate': 0.0010655566121316549, 'epoch': 1.0, 'step': 198}, {'eval_loss': 0.5779942274093628, 'eval_accuracy': 0.6843434343434344, 'eval_runtime': 8.6408, 'eval_samples_per_second': 45.829, 'eval_steps_per_second': 5.786, 'epoch': 1.0, 'step': 198}, {'loss': 0.7142, 'learning_rate': 0.0021311132242633098, 'epoch': 2.0, 'step': 396}, {'eval_loss': 1.0456938743591309, 'eval_accuracy': 0.6161616161616161, 'eval_runtime': 8.6584, 'eval_samples_per_second': 45.736, 'eval_steps_per_second': 5.775, 'epoch': 2.0, 'step': 396}, {'loss': 1.31, 'learning_rate': 0.003196669836394965, 'epoch': 3.0, 'step': 594}, {'eval_loss': 1.9670205116271973, 'eval_accuracy': 0.5732323232323232, 'eval_runtime': 8.6807, 'eval_samples_per_second': 45.618, 'eval_steps_per_second': 5.76, 'epoch': 3.0, 'step': 594}, {'loss': 1.3071, 'learning_rate': 0.0042622264485266195, 'epoch': 4.0, 'step': 792}, {'eval_loss': 1.9424716234207153, 'eval_accuracy': 0.5505050505050505, 'eval_runtime': 8.6657, 'eval_samples_per_second': 45.697, 'eval_steps_per_second': 5.77, 'epoch': 4.0, 'step': 792}, {'train_runtime': 327.32, 'train_samples_per_second': 48.393, 'train_steps_per_second': 6.049, 'total_flos': 3786078254999040.0, 'train_loss': 0.9962206753817472, 'epoch': 4.0, 'step': 792}, {'eval_loss': 0.5779942274093628, 'eval_accuracy': 0.6843434343434344, 'eval_runtime': 8.6768, 'eval_samples_per_second': 45.639, 'eval_steps_per_second': 5.762, 'epoch': 4.0, 'step': 792}]\n"
     ]
    },
    {
     "name": "stderr",
     "output_type": "stream",
     "text": [
      "/home/ubuntu/data/miniconda3/envs/finetune-dephos/lib/python3.9/site-packages/huggingface_hub/file_download.py:1132: FutureWarning: `resume_download` is deprecated and will be removed in version 1.0.0. Downloads always resume when possible. If you want to force a new download, use `force_download=True`.\n",
      "  warnings.warn(\n",
      "Downloading shards: 100%|█████████████████████████████████████████████████████████████| 2/2 [00:55<00:00, 27.61s/it]\n",
      "Loading checkpoint shards: 100%|██████████████████████████████████████████████████████| 2/2 [01:11<00:00, 35.96s/it]\n",
      "Some weights of EsmModel were not initialized from the model checkpoint at facebook/esm2_t36_3B_UR50D and are newly initialized: ['esm.pooler.dense.bias', 'esm.pooler.dense.weight']\n",
      "You should probably TRAIN this model on a down-stream task to be able to use it for predictions and inference.\n"
     ]
    },
    {
     "name": "stdout",
     "output_type": "stream",
     "text": [
      "ESM_LoRA_Classfier\n",
      "Trainable Parameter: 2848188324.0\n",
      "ESM_LoRA_Classfier\n",
      "Trainable Parameter: 6561283.0\n",
      "\n"
     ]
    },
    {
     "name": "stderr",
     "output_type": "stream",
     "text": [
      "/home/ubuntu/data/miniconda3/envs/finetune-dephos/lib/python3.9/site-packages/accelerate/accelerator.py:446: FutureWarning: Passing the following arguments to `Accelerator` is deprecated and will be removed in version 1.0 of Accelerate: dict_keys(['dispatch_batches', 'split_batches']). Please pass an `accelerate.DataLoaderConfiguration` instead: \n",
      "dataloader_config = DataLoaderConfiguration(dispatch_batches=None, split_batches=False)\n",
      "  warnings.warn(\n"
     ]
    },
    {
     "data": {
      "text/html": [
       "\n",
       "    <div>\n",
       "      \n",
       "      <progress value='3960' max='3960' style='width:300px; height:20px; vertical-align: middle;'></progress>\n",
       "      [3960/3960 13:46, Epoch 10/10]\n",
       "    </div>\n",
       "    <table border=\"1\" class=\"dataframe\">\n",
       "  <thead>\n",
       " <tr style=\"text-align: left;\">\n",
       "      <th>Epoch</th>\n",
       "      <th>Training Loss</th>\n",
       "      <th>Validation Loss</th>\n",
       "      <th>Accuracy</th>\n",
       "    </tr>\n",
       "  </thead>\n",
       "  <tbody>\n",
       "    <tr>\n",
       "      <td>1</td>\n",
       "      <td>0.961700</td>\n",
       "      <td>0.797144</td>\n",
       "      <td>0.631313</td>\n",
       "    </tr>\n",
       "    <tr>\n",
       "      <td>2</td>\n",
       "      <td>1.909900</td>\n",
       "      <td>0.791030</td>\n",
       "      <td>0.659091</td>\n",
       "    </tr>\n",
       "    <tr>\n",
       "      <td>3</td>\n",
       "      <td>2.131100</td>\n",
       "      <td>1.909006</td>\n",
       "      <td>0.618687</td>\n",
       "    </tr>\n",
       "    <tr>\n",
       "      <td>4</td>\n",
       "      <td>2.030700</td>\n",
       "      <td>0.923296</td>\n",
       "      <td>0.712121</td>\n",
       "    </tr>\n",
       "    <tr>\n",
       "      <td>5</td>\n",
       "      <td>1.969100</td>\n",
       "      <td>2.181805</td>\n",
       "      <td>0.598485</td>\n",
       "    </tr>\n",
       "    <tr>\n",
       "      <td>6</td>\n",
       "      <td>1.756700</td>\n",
       "      <td>1.034025</td>\n",
       "      <td>0.724747</td>\n",
       "    </tr>\n",
       "    <tr>\n",
       "      <td>7</td>\n",
       "      <td>1.568400</td>\n",
       "      <td>0.990446</td>\n",
       "      <td>0.734848</td>\n",
       "    </tr>\n",
       "    <tr>\n",
       "      <td>8</td>\n",
       "      <td>1.270400</td>\n",
       "      <td>0.961296</td>\n",
       "      <td>0.717172</td>\n",
       "    </tr>\n",
       "    <tr>\n",
       "      <td>9</td>\n",
       "      <td>1.219900</td>\n",
       "      <td>0.891583</td>\n",
       "      <td>0.734848</td>\n",
       "    </tr>\n",
       "    <tr>\n",
       "      <td>10</td>\n",
       "      <td>1.059500</td>\n",
       "      <td>0.888879</td>\n",
       "      <td>0.734848</td>\n",
       "    </tr>\n",
       "  </tbody>\n",
       "</table><p>"
      ],
      "text/plain": [
       "<IPython.core.display.HTML object>"
      ]
     },
     "metadata": {},
     "output_type": "display_data"
    },
    {
     "name": "stdout",
     "output_type": "stream",
     "text": [
      "Saved improved model to ./model_output/finetuned_model_all_esm2.pth\n",
      "Saved improved model to ./model_output/finetuned_model_all_esm2.pth\n",
      "Saved improved model to ./model_output/finetuned_model_all_esm2.pth\n",
      "Saved improved model to ./model_output/finetuned_model_all_esm2.pth\n",
      "Saved improved model to ./model_output/finetuned_model_all_esm2.pth\n",
      "Stopping early at epoch 10.0: No improvement in loss or accuracy for 3 evaluations.\n",
      "Loaded best model from ./model_output/finetuned_model_all_esm2.pth\n"
     ]
    },
    {
     "data": {
      "text/html": [
       "\n",
       "    <div>\n",
       "      \n",
       "      <progress value='50' max='50' style='width:300px; height:20px; vertical-align: middle;'></progress>\n",
       "      [50/50 00:08]\n",
       "    </div>\n",
       "    "
      ],
      "text/plain": [
       "<IPython.core.display.HTML object>"
      ]
     },
     "metadata": {},
     "output_type": "display_data"
    },
    {
     "name": "stdout",
     "output_type": "stream",
     "text": [
      "Stopping early at epoch 10.0: No improvement in loss or accuracy for 3 evaluations.\n",
      "{'eval_loss': 0.9904463887214661, 'eval_accuracy': 0.7348484848484849, 'eval_runtime': 8.6762, 'eval_samples_per_second': 45.642, 'eval_steps_per_second': 5.763, 'epoch': 10.0}\n"
     ]
    },
    {
     "name": "stderr",
     "output_type": "stream",
     "text": [
      "[I 2024-06-09 19:26:32,546] Trial 8 finished with values: [0.9904463887214661, 0.7348484848484849] and parameters: {'lr': 0.002912953408907577, 'batch': 1, 'accum': 4, 'dropout_rate': 0.4902359944474415, 'weight_decay': 2.0702484546489544e-05, 'warmup_pct': 0.031052102466765805, 'lora_rank': 20, 'lora_init_scale': 0.007870251763224553, 'lora_scaling_rank': 7}. \n"
     ]
    },
    {
     "name": "stdout",
     "output_type": "stream",
     "text": [
      "History:  [{'loss': 0.9617, 'learning_rate': 0.0023493473521942984, 'epoch': 1.0, 'step': 396}, {'eval_loss': 0.7971442341804504, 'eval_accuracy': 0.6313131313131313, 'eval_runtime': 8.6081, 'eval_samples_per_second': 46.003, 'eval_steps_per_second': 5.808, 'epoch': 1.0, 'step': 396}, {'loss': 1.9099, 'learning_rate': 0.002660200749328107, 'epoch': 2.0, 'step': 792}, {'eval_loss': 0.7910295724868774, 'eval_accuracy': 0.6590909090909091, 'eval_runtime': 8.6499, 'eval_samples_per_second': 45.781, 'eval_steps_per_second': 5.78, 'epoch': 2.0, 'step': 792}, {'loss': 2.1311, 'learning_rate': 0.002327675655662094, 'epoch': 3.0, 'step': 1188}, {'eval_loss': 1.909005880355835, 'eval_accuracy': 0.6186868686868687, 'eval_runtime': 8.6704, 'eval_samples_per_second': 45.673, 'eval_steps_per_second': 5.767, 'epoch': 3.0, 'step': 1188}, {'loss': 2.0307, 'learning_rate': 0.0019951505619960805, 'epoch': 4.0, 'step': 1584}, {'eval_loss': 0.9232956171035767, 'eval_accuracy': 0.7121212121212122, 'eval_runtime': 8.6697, 'eval_samples_per_second': 45.676, 'eval_steps_per_second': 5.767, 'epoch': 4.0, 'step': 1584}, {'loss': 1.9691, 'learning_rate': 0.001662625468330067, 'epoch': 5.0, 'step': 1980}, {'eval_loss': 2.18180513381958, 'eval_accuracy': 0.5984848484848485, 'eval_runtime': 8.6769, 'eval_samples_per_second': 45.639, 'eval_steps_per_second': 5.762, 'epoch': 5.0, 'step': 1980}, {'loss': 1.7567, 'learning_rate': 0.0013301003746640535, 'epoch': 6.0, 'step': 2376}, {'eval_loss': 1.0340253114700317, 'eval_accuracy': 0.7247474747474747, 'eval_runtime': 8.6715, 'eval_samples_per_second': 45.667, 'eval_steps_per_second': 5.766, 'epoch': 6.0, 'step': 2376}, {'loss': 1.5684, 'learning_rate': 0.0009975752809980403, 'epoch': 7.0, 'step': 2772}, {'eval_loss': 0.9904463887214661, 'eval_accuracy': 0.7348484848484849, 'eval_runtime': 8.6717, 'eval_samples_per_second': 45.666, 'eval_steps_per_second': 5.766, 'epoch': 7.0, 'step': 2772}, {'loss': 1.2704, 'learning_rate': 0.0006650501873320268, 'epoch': 8.0, 'step': 3168}, {'eval_loss': 0.9612960815429688, 'eval_accuracy': 0.7171717171717171, 'eval_runtime': 8.677, 'eval_samples_per_second': 45.638, 'eval_steps_per_second': 5.762, 'epoch': 8.0, 'step': 3168}, {'loss': 1.2199, 'learning_rate': 0.0003325250936660134, 'epoch': 9.0, 'step': 3564}, {'eval_loss': 0.8915832042694092, 'eval_accuracy': 0.7348484848484849, 'eval_runtime': 8.6682, 'eval_samples_per_second': 45.684, 'eval_steps_per_second': 5.768, 'epoch': 9.0, 'step': 3564}, {'loss': 1.0595, 'learning_rate': 0.0, 'epoch': 10.0, 'step': 3960}, {'eval_loss': 0.8888789415359497, 'eval_accuracy': 0.7348484848484849, 'eval_runtime': 8.6728, 'eval_samples_per_second': 45.66, 'eval_steps_per_second': 5.765, 'epoch': 10.0, 'step': 3960}, {'train_runtime': 826.5267, 'train_samples_per_second': 19.165, 'train_steps_per_second': 4.791, 'total_flos': 9465195637497600.0, 'train_loss': 1.5877514694676256, 'epoch': 10.0, 'step': 3960}, {'eval_loss': 0.9904463887214661, 'eval_accuracy': 0.7348484848484849, 'eval_runtime': 8.6762, 'eval_samples_per_second': 45.642, 'eval_steps_per_second': 5.763, 'epoch': 10.0, 'step': 3960}]\n"
     ]
    },
    {
     "name": "stderr",
     "output_type": "stream",
     "text": [
      "/home/ubuntu/data/miniconda3/envs/finetune-dephos/lib/python3.9/site-packages/huggingface_hub/file_download.py:1132: FutureWarning: `resume_download` is deprecated and will be removed in version 1.0.0. Downloads always resume when possible. If you want to force a new download, use `force_download=True`.\n",
      "  warnings.warn(\n",
      "Downloading shards: 100%|█████████████████████████████████████████████████████████████| 2/2 [00:56<00:00, 28.44s/it]\n",
      "Loading checkpoint shards: 100%|██████████████████████████████████████████████████████| 2/2 [01:03<00:00, 31.98s/it]\n",
      "Some weights of EsmModel were not initialized from the model checkpoint at facebook/esm2_t36_3B_UR50D and are newly initialized: ['esm.pooler.dense.bias', 'esm.pooler.dense.weight']\n",
      "You should probably TRAIN this model on a down-stream task to be able to use it for predictions and inference.\n"
     ]
    },
    {
     "name": "stdout",
     "output_type": "stream",
     "text": [
      "ESM_LoRA_Classfier\n",
      "Trainable Parameter: 2848188324.0\n",
      "ESM_LoRA_Classfier\n",
      "Trainable Parameter: 6561283.0\n",
      "\n"
     ]
    },
    {
     "name": "stderr",
     "output_type": "stream",
     "text": [
      "/home/ubuntu/data/miniconda3/envs/finetune-dephos/lib/python3.9/site-packages/accelerate/accelerator.py:446: FutureWarning: Passing the following arguments to `Accelerator` is deprecated and will be removed in version 1.0 of Accelerate: dict_keys(['dispatch_batches', 'split_batches']). Please pass an `accelerate.DataLoaderConfiguration` instead: \n",
      "dataloader_config = DataLoaderConfiguration(dispatch_batches=None, split_batches=False)\n",
      "  warnings.warn(\n"
     ]
    },
    {
     "data": {
      "text/html": [
       "\n",
       "    <div>\n",
       "      \n",
       "      <progress value='990' max='1980' style='width:300px; height:20px; vertical-align: middle;'></progress>\n",
       "      [ 990/1980 05:18 < 05:19, 3.10 it/s, Epoch 5/10]\n",
       "    </div>\n",
       "    <table border=\"1\" class=\"dataframe\">\n",
       "  <thead>\n",
       " <tr style=\"text-align: left;\">\n",
       "      <th>Epoch</th>\n",
       "      <th>Training Loss</th>\n",
       "      <th>Validation Loss</th>\n",
       "      <th>Accuracy</th>\n",
       "    </tr>\n",
       "  </thead>\n",
       "  <tbody>\n",
       "    <tr>\n",
       "      <td>1</td>\n",
       "      <td>0.666600</td>\n",
       "      <td>0.584397</td>\n",
       "      <td>0.689394</td>\n",
       "    </tr>\n",
       "    <tr>\n",
       "      <td>2</td>\n",
       "      <td>0.593000</td>\n",
       "      <td>0.528101</td>\n",
       "      <td>0.744949</td>\n",
       "    </tr>\n",
       "    <tr>\n",
       "      <td>3</td>\n",
       "      <td>0.548600</td>\n",
       "      <td>0.597071</td>\n",
       "      <td>0.684343</td>\n",
       "    </tr>\n",
       "    <tr>\n",
       "      <td>4</td>\n",
       "      <td>0.548100</td>\n",
       "      <td>0.551524</td>\n",
       "      <td>0.712121</td>\n",
       "    </tr>\n",
       "    <tr>\n",
       "      <td>5</td>\n",
       "      <td>0.535600</td>\n",
       "      <td>0.560311</td>\n",
       "      <td>0.704545</td>\n",
       "    </tr>\n",
       "  </tbody>\n",
       "</table><p>"
      ],
      "text/plain": [
       "<IPython.core.display.HTML object>"
      ]
     },
     "metadata": {},
     "output_type": "display_data"
    },
    {
     "name": "stdout",
     "output_type": "stream",
     "text": [
      "Saved improved model to ./model_output/finetuned_model_all_esm2.pth\n",
      "Saved improved model to ./model_output/finetuned_model_all_esm2.pth\n",
      "Stopping early at epoch 5.0: No improvement in loss or accuracy for 3 evaluations.\n",
      "Loaded best model from ./model_output/finetuned_model_all_esm2.pth\n"
     ]
    },
    {
     "data": {
      "text/html": [
       "\n",
       "    <div>\n",
       "      \n",
       "      <progress value='50' max='50' style='width:300px; height:20px; vertical-align: middle;'></progress>\n",
       "      [50/50 00:08]\n",
       "    </div>\n",
       "    "
      ],
      "text/plain": [
       "<IPython.core.display.HTML object>"
      ]
     },
     "metadata": {},
     "output_type": "display_data"
    },
    {
     "name": "stderr",
     "output_type": "stream",
     "text": [
      "[I 2024-06-09 19:35:00,206] Trial 9 finished with values: [0.5281009078025818, 0.7449494949494949] and parameters: {'lr': 0.0007104344311914382, 'batch': 2, 'accum': 4, 'dropout_rate': 0.47515628014197364, 'weight_decay': 4.2680689464591e-05, 'warmup_pct': 0.25978311686311467, 'lora_rank': 24, 'lora_init_scale': 0.00015138221835655442, 'lora_scaling_rank': 7}. \n"
     ]
    },
    {
     "name": "stdout",
     "output_type": "stream",
     "text": [
      "Stopping early at epoch 5.0: No improvement in loss or accuracy for 3 evaluations.\n",
      "{'eval_loss': 0.5281009078025818, 'eval_accuracy': 0.7449494949494949, 'eval_runtime': 8.7153, 'eval_samples_per_second': 45.437, 'eval_steps_per_second': 5.737, 'epoch': 5.0}\n",
      "History:  [{'loss': 0.6666, 'learning_rate': 6.838406289543254e-05, 'epoch': 1.0, 'step': 198}, {'eval_loss': 0.5843965411186218, 'eval_accuracy': 0.6893939393939394, 'eval_runtime': 8.6355, 'eval_samples_per_second': 45.857, 'eval_steps_per_second': 5.79, 'epoch': 1.0, 'step': 198}, {'loss': 0.593, 'learning_rate': 0.00013676812579086509, 'epoch': 2.0, 'step': 396}, {'eval_loss': 0.5281009078025818, 'eval_accuracy': 0.7449494949494949, 'eval_runtime': 8.6906, 'eval_samples_per_second': 45.566, 'eval_steps_per_second': 5.753, 'epoch': 2.0, 'step': 396}, {'loss': 0.5486, 'learning_rate': 0.00020515218868629763, 'epoch': 3.0, 'step': 594}, {'eval_loss': 0.5970714092254639, 'eval_accuracy': 0.6843434343434344, 'eval_runtime': 8.6927, 'eval_samples_per_second': 45.556, 'eval_steps_per_second': 5.752, 'epoch': 3.0, 'step': 594}, {'loss': 0.5481, 'learning_rate': 0.00027353625158173017, 'epoch': 4.0, 'step': 792}, {'eval_loss': 0.5515238046646118, 'eval_accuracy': 0.7121212121212122, 'eval_runtime': 8.6788, 'eval_samples_per_second': 45.628, 'eval_steps_per_second': 5.761, 'epoch': 4.0, 'step': 792}, {'loss': 0.5356, 'learning_rate': 0.00034192031447716274, 'epoch': 5.0, 'step': 990}, {'eval_loss': 0.5603107213973999, 'eval_accuracy': 0.7045454545454546, 'eval_runtime': 8.6867, 'eval_samples_per_second': 45.587, 'eval_steps_per_second': 5.756, 'epoch': 5.0, 'step': 990}, {'train_runtime': 318.8112, 'train_samples_per_second': 49.685, 'train_steps_per_second': 6.211, 'total_flos': 4732597818748800.0, 'train_loss': 0.578352024579289, 'epoch': 5.0, 'step': 990}, {'eval_loss': 0.5281009078025818, 'eval_accuracy': 0.7449494949494949, 'eval_runtime': 8.7153, 'eval_samples_per_second': 45.437, 'eval_steps_per_second': 5.737, 'epoch': 5.0, 'step': 990}]\n"
     ]
    },
    {
     "name": "stderr",
     "output_type": "stream",
     "text": [
      "/home/ubuntu/data/miniconda3/envs/finetune-dephos/lib/python3.9/site-packages/huggingface_hub/file_download.py:1132: FutureWarning: `resume_download` is deprecated and will be removed in version 1.0.0. Downloads always resume when possible. If you want to force a new download, use `force_download=True`.\n",
      "  warnings.warn(\n",
      "Downloading shards: 100%|█████████████████████████████████████████████████████████████| 2/2 [00:55<00:00, 27.51s/it]\n",
      "Loading checkpoint shards: 100%|██████████████████████████████████████████████████████| 2/2 [01:07<00:00, 33.51s/it]\n",
      "Some weights of EsmModel were not initialized from the model checkpoint at facebook/esm2_t36_3B_UR50D and are newly initialized: ['esm.pooler.dense.bias', 'esm.pooler.dense.weight']\n",
      "You should probably TRAIN this model on a down-stream task to be able to use it for predictions and inference.\n"
     ]
    },
    {
     "name": "stdout",
     "output_type": "stream",
     "text": [
      "ESM_LoRA_Classfier\n",
      "Trainable Parameter: 2848188324.0\n",
      "ESM_LoRA_Classfier\n",
      "Trainable Parameter: 6561283.0\n",
      "\n"
     ]
    },
    {
     "name": "stderr",
     "output_type": "stream",
     "text": [
      "/home/ubuntu/data/miniconda3/envs/finetune-dephos/lib/python3.9/site-packages/accelerate/accelerator.py:446: FutureWarning: Passing the following arguments to `Accelerator` is deprecated and will be removed in version 1.0 of Accelerate: dict_keys(['dispatch_batches', 'split_batches']). Please pass an `accelerate.DataLoaderConfiguration` instead: \n",
      "dataloader_config = DataLoaderConfiguration(dispatch_batches=None, split_batches=False)\n",
      "  warnings.warn(\n"
     ]
    },
    {
     "data": {
      "text/html": [
       "\n",
       "    <div>\n",
       "      \n",
       "      <progress value='490' max='490' style='width:300px; height:20px; vertical-align: middle;'></progress>\n",
       "      [490/490 09:07, Epoch 9/10]\n",
       "    </div>\n",
       "    <table border=\"1\" class=\"dataframe\">\n",
       "  <thead>\n",
       " <tr style=\"text-align: left;\">\n",
       "      <th>Epoch</th>\n",
       "      <th>Training Loss</th>\n",
       "      <th>Validation Loss</th>\n",
       "      <th>Accuracy</th>\n",
       "    </tr>\n",
       "  </thead>\n",
       "  <tbody>\n",
       "    <tr>\n",
       "      <td>0</td>\n",
       "      <td>0.715300</td>\n",
       "      <td>0.682685</td>\n",
       "      <td>0.550505</td>\n",
       "    </tr>\n",
       "    <tr>\n",
       "      <td>2</td>\n",
       "      <td>0.667500</td>\n",
       "      <td>0.631262</td>\n",
       "      <td>0.656566</td>\n",
       "    </tr>\n",
       "    <tr>\n",
       "      <td>4</td>\n",
       "      <td>0.612300</td>\n",
       "      <td>0.581222</td>\n",
       "      <td>0.714646</td>\n",
       "    </tr>\n",
       "    <tr>\n",
       "      <td>6</td>\n",
       "      <td>0.575300</td>\n",
       "      <td>0.553331</td>\n",
       "      <td>0.729798</td>\n",
       "    </tr>\n",
       "    <tr>\n",
       "      <td>8</td>\n",
       "      <td>0.535000</td>\n",
       "      <td>0.535118</td>\n",
       "      <td>0.737374</td>\n",
       "    </tr>\n",
       "    <tr>\n",
       "      <td>9</td>\n",
       "      <td>0.511800</td>\n",
       "      <td>0.529092</td>\n",
       "      <td>0.729798</td>\n",
       "    </tr>\n",
       "  </tbody>\n",
       "</table><p>"
      ],
      "text/plain": [
       "<IPython.core.display.HTML object>"
      ]
     },
     "metadata": {},
     "output_type": "display_data"
    },
    {
     "name": "stdout",
     "output_type": "stream",
     "text": [
      "Saved improved model to ./model_output/finetuned_model_all_esm2.pth\n",
      "Saved improved model to ./model_output/finetuned_model_all_esm2.pth\n",
      "Saved improved model to ./model_output/finetuned_model_all_esm2.pth\n",
      "Saved improved model to ./model_output/finetuned_model_all_esm2.pth\n",
      "Saved improved model to ./model_output/finetuned_model_all_esm2.pth\n",
      "Saved improved model to ./model_output/finetuned_model_all_esm2.pth\n",
      "Saved improved model to ./model_output/finetuned_model_all_esm2.pth\n",
      "Saved improved model to ./model_output/finetuned_model_all_esm2.pth\n",
      "Saved improved model to ./model_output/finetuned_model_all_esm2.pth\n",
      "Saved improved model to ./model_output/finetuned_model_all_esm2.pth\n",
      "Loaded best model from ./model_output/finetuned_model_all_esm2.pth\n"
     ]
    },
    {
     "data": {
      "text/html": [
       "\n",
       "    <div>\n",
       "      \n",
       "      <progress value='50' max='50' style='width:300px; height:20px; vertical-align: middle;'></progress>\n",
       "      [50/50 00:08]\n",
       "    </div>\n",
       "    "
      ],
      "text/plain": [
       "<IPython.core.display.HTML object>"
      ]
     },
     "metadata": {},
     "output_type": "display_data"
    },
    {
     "name": "stderr",
     "output_type": "stream",
     "text": [
      "[I 2024-06-09 19:47:19,390] Trial 10 finished with values: [0.5290924906730652, 0.7297979797979798] and parameters: {'lr': 5.89484696049294e-05, 'batch': 4, 'accum': 8, 'dropout_rate': 0.5203078434895401, 'weight_decay': 0.0008194509123821745, 'warmup_pct': 0.11303351581895987, 'lora_rank': 4, 'lora_init_scale': 0.015064076499209917, 'lora_scaling_rank': 8}. \n"
     ]
    },
    {
     "name": "stdout",
     "output_type": "stream",
     "text": [
      "{'eval_loss': 0.5290924906730652, 'eval_accuracy': 0.7297979797979798, 'eval_runtime': 8.6806, 'eval_samples_per_second': 45.619, 'eval_steps_per_second': 5.76, 'epoch': 9.9}\n",
      "History:  [{'loss': 0.7153, 'learning_rate': 6.461912775484431e-06, 'epoch': 0.99, 'step': 49}, {'eval_loss': 0.6826848387718201, 'eval_accuracy': 0.5505050505050505, 'eval_runtime': 8.6355, 'eval_samples_per_second': 45.857, 'eval_steps_per_second': 5.79, 'epoch': 0.99, 'step': 49}, {'loss': 0.6837, 'learning_rate': 1.3055701321897117e-05, 'epoch': 2.0, 'step': 99}, {'eval_loss': 0.6560442447662354, 'eval_accuracy': 0.6691919191919192, 'eval_runtime': 8.6945, 'eval_samples_per_second': 45.546, 'eval_steps_per_second': 5.751, 'epoch': 2.0, 'step': 99}, {'loss': 0.6675, 'learning_rate': 1.9517614097381544e-05, 'epoch': 2.99, 'step': 148}, {'eval_loss': 0.6312618255615234, 'eval_accuracy': 0.6565656565656566, 'eval_runtime': 8.7225, 'eval_samples_per_second': 45.4, 'eval_steps_per_second': 5.732, 'epoch': 2.99, 'step': 148}, {'loss': 0.6282, 'learning_rate': 2.6111402643794233e-05, 'epoch': 4.0, 'step': 198}, {'eval_loss': 0.6022919416427612, 'eval_accuracy': 0.7121212121212122, 'eval_runtime': 8.7541, 'eval_samples_per_second': 45.236, 'eval_steps_per_second': 5.712, 'epoch': 4.0, 'step': 198}, {'loss': 0.6123, 'learning_rate': 3.257331541927866e-05, 'epoch': 4.99, 'step': 247}, {'eval_loss': 0.5812215209007263, 'eval_accuracy': 0.7146464646464646, 'eval_runtime': 8.7258, 'eval_samples_per_second': 45.383, 'eval_steps_per_second': 5.73, 'epoch': 4.99, 'step': 247}, {'loss': 0.5802, 'learning_rate': 3.916710396569135e-05, 'epoch': 6.0, 'step': 297}, {'eval_loss': 0.5652943849563599, 'eval_accuracy': 0.7272727272727273, 'eval_runtime': 8.6779, 'eval_samples_per_second': 45.633, 'eval_steps_per_second': 5.762, 'epoch': 6.0, 'step': 297}, {'loss': 0.5753, 'learning_rate': 4.5629016741175774e-05, 'epoch': 6.99, 'step': 346}, {'eval_loss': 0.5533308386802673, 'eval_accuracy': 0.7297979797979798, 'eval_runtime': 8.6875, 'eval_samples_per_second': 45.583, 'eval_steps_per_second': 5.755, 'epoch': 6.99, 'step': 346}, {'loss': 0.5467, 'learning_rate': 5.2222805287588466e-05, 'epoch': 8.0, 'step': 396}, {'eval_loss': 0.5424785614013672, 'eval_accuracy': 0.7272727272727273, 'eval_runtime': 8.6823, 'eval_samples_per_second': 45.61, 'eval_steps_per_second': 5.759, 'epoch': 8.0, 'step': 396}, {'loss': 0.535, 'learning_rate': 5.868471806307289e-05, 'epoch': 8.99, 'step': 445}, {'eval_loss': 0.535118043422699, 'eval_accuracy': 0.7373737373737373, 'eval_runtime': 8.6801, 'eval_samples_per_second': 45.621, 'eval_steps_per_second': 5.76, 'epoch': 8.99, 'step': 445}, {'loss': 0.5118, 'learning_rate': 0.0, 'epoch': 9.9, 'step': 490}, {'eval_loss': 0.5290924906730652, 'eval_accuracy': 0.7297979797979798, 'eval_runtime': 8.685, 'eval_samples_per_second': 45.596, 'eval_steps_per_second': 5.757, 'epoch': 9.9, 'step': 490}, {'train_runtime': 548.5851, 'train_samples_per_second': 28.874, 'train_steps_per_second': 0.893, 'total_flos': 9369587600755200.0, 'train_loss': 0.6063753244828205, 'epoch': 9.9, 'step': 490}, {'eval_loss': 0.5290924906730652, 'eval_accuracy': 0.7297979797979798, 'eval_runtime': 8.6806, 'eval_samples_per_second': 45.619, 'eval_steps_per_second': 5.76, 'epoch': 9.9, 'step': 490}]\n"
     ]
    },
    {
     "name": "stderr",
     "output_type": "stream",
     "text": [
      "/home/ubuntu/data/miniconda3/envs/finetune-dephos/lib/python3.9/site-packages/huggingface_hub/file_download.py:1132: FutureWarning: `resume_download` is deprecated and will be removed in version 1.0.0. Downloads always resume when possible. If you want to force a new download, use `force_download=True`.\n",
      "  warnings.warn(\n",
      "Downloading shards: 100%|█████████████████████████████████████████████████████████████| 2/2 [00:52<00:00, 26.37s/it]\n",
      "Loading checkpoint shards: 100%|██████████████████████████████████████████████████████| 2/2 [01:06<00:00, 33.02s/it]\n",
      "Some weights of EsmModel were not initialized from the model checkpoint at facebook/esm2_t36_3B_UR50D and are newly initialized: ['esm.pooler.dense.bias', 'esm.pooler.dense.weight']\n",
      "You should probably TRAIN this model on a down-stream task to be able to use it for predictions and inference.\n"
     ]
    },
    {
     "name": "stdout",
     "output_type": "stream",
     "text": [
      "ESM_LoRA_Classfier\n",
      "Trainable Parameter: 2848188324.0\n",
      "ESM_LoRA_Classfier\n",
      "Trainable Parameter: 6561283.0\n",
      "\n"
     ]
    },
    {
     "name": "stderr",
     "output_type": "stream",
     "text": [
      "/home/ubuntu/data/miniconda3/envs/finetune-dephos/lib/python3.9/site-packages/accelerate/accelerator.py:446: FutureWarning: Passing the following arguments to `Accelerator` is deprecated and will be removed in version 1.0 of Accelerate: dict_keys(['dispatch_batches', 'split_batches']). Please pass an `accelerate.DataLoaderConfiguration` instead: \n",
      "dataloader_config = DataLoaderConfiguration(dispatch_batches=None, split_batches=False)\n",
      "  warnings.warn(\n"
     ]
    },
    {
     "data": {
      "text/html": [
       "\n",
       "    <div>\n",
       "      \n",
       "      <progress value='594' max='990' style='width:300px; height:20px; vertical-align: middle;'></progress>\n",
       "      [594/990 06:19 < 04:13, 1.56 it/s, Epoch 6/10]\n",
       "    </div>\n",
       "    <table border=\"1\" class=\"dataframe\">\n",
       "  <thead>\n",
       " <tr style=\"text-align: left;\">\n",
       "      <th>Epoch</th>\n",
       "      <th>Training Loss</th>\n",
       "      <th>Validation Loss</th>\n",
       "      <th>Accuracy</th>\n",
       "    </tr>\n",
       "  </thead>\n",
       "  <tbody>\n",
       "    <tr>\n",
       "      <td>1</td>\n",
       "      <td>0.674100</td>\n",
       "      <td>0.625699</td>\n",
       "      <td>0.699495</td>\n",
       "    </tr>\n",
       "    <tr>\n",
       "      <td>2</td>\n",
       "      <td>0.606100</td>\n",
       "      <td>0.560903</td>\n",
       "      <td>0.729798</td>\n",
       "    </tr>\n",
       "    <tr>\n",
       "      <td>3</td>\n",
       "      <td>0.550100</td>\n",
       "      <td>0.528058</td>\n",
       "      <td>0.739899</td>\n",
       "    </tr>\n",
       "    <tr>\n",
       "      <td>4</td>\n",
       "      <td>0.504200</td>\n",
       "      <td>0.529247</td>\n",
       "      <td>0.729798</td>\n",
       "    </tr>\n",
       "    <tr>\n",
       "      <td>5</td>\n",
       "      <td>0.472900</td>\n",
       "      <td>0.582825</td>\n",
       "      <td>0.681818</td>\n",
       "    </tr>\n",
       "    <tr>\n",
       "      <td>6</td>\n",
       "      <td>0.453300</td>\n",
       "      <td>0.590922</td>\n",
       "      <td>0.709596</td>\n",
       "    </tr>\n",
       "  </tbody>\n",
       "</table><p>"
      ],
      "text/plain": [
       "<IPython.core.display.HTML object>"
      ]
     },
     "metadata": {},
     "output_type": "display_data"
    },
    {
     "name": "stdout",
     "output_type": "stream",
     "text": [
      "Saved improved model to ./model_output/finetuned_model_all_esm2.pth\n",
      "Saved improved model to ./model_output/finetuned_model_all_esm2.pth\n",
      "Saved improved model to ./model_output/finetuned_model_all_esm2.pth\n",
      "Stopping early at epoch 6.0: No improvement in loss or accuracy for 3 evaluations.\n",
      "Loaded best model from ./model_output/finetuned_model_all_esm2.pth\n"
     ]
    },
    {
     "data": {
      "text/html": [
       "\n",
       "    <div>\n",
       "      \n",
       "      <progress value='50' max='50' style='width:300px; height:20px; vertical-align: middle;'></progress>\n",
       "      [50/50 00:08]\n",
       "    </div>\n",
       "    "
      ],
      "text/plain": [
       "<IPython.core.display.HTML object>"
      ]
     },
     "metadata": {},
     "output_type": "display_data"
    },
    {
     "name": "stdout",
     "output_type": "stream",
     "text": [
      "Stopping early at epoch 6.0: No improvement in loss or accuracy for 3 evaluations.\n",
      "{'eval_loss': 0.5280579328536987, 'eval_accuracy': 0.73989898989899, 'eval_runtime': 8.6919, 'eval_samples_per_second': 45.56, 'eval_steps_per_second': 5.752, 'epoch': 6.0}\n"
     ]
    },
    {
     "name": "stderr",
     "output_type": "stream",
     "text": [
      "[I 2024-06-09 19:56:46,822] Trial 11 finished with values: [0.5280579328536987, 0.73989898989899] and parameters: {'lr': 0.000446961084768937, 'batch': 2, 'accum': 8, 'dropout_rate': 0.13593676381148, 'weight_decay': 1.792856327687685e-05, 'warmup_pct': 0.2321417677406349, 'lora_rank': 8, 'lora_init_scale': 0.029424776459038814, 'lora_scaling_rank': 4}. \n"
     ]
    },
    {
     "name": "stdout",
     "output_type": "stream",
     "text": [
      "History:  [{'loss': 0.6741, 'learning_rate': 2.4074617732385616e-05, 'epoch': 1.0, 'step': 99}, {'eval_loss': 0.6256986856460571, 'eval_accuracy': 0.6994949494949495, 'eval_runtime': 8.6382, 'eval_samples_per_second': 45.843, 'eval_steps_per_second': 5.788, 'epoch': 1.0, 'step': 99}, {'loss': 0.6061, 'learning_rate': 4.814923546477123e-05, 'epoch': 2.0, 'step': 198}, {'eval_loss': 0.5609028935432434, 'eval_accuracy': 0.7297979797979798, 'eval_runtime': 8.6816, 'eval_samples_per_second': 45.614, 'eval_steps_per_second': 5.759, 'epoch': 2.0, 'step': 198}, {'loss': 0.5501, 'learning_rate': 7.222385319715685e-05, 'epoch': 3.0, 'step': 297}, {'eval_loss': 0.5280579328536987, 'eval_accuracy': 0.73989898989899, 'eval_runtime': 8.6687, 'eval_samples_per_second': 45.681, 'eval_steps_per_second': 5.768, 'epoch': 3.0, 'step': 297}, {'loss': 0.5042, 'learning_rate': 9.629847092954246e-05, 'epoch': 4.0, 'step': 396}, {'eval_loss': 0.5292474031448364, 'eval_accuracy': 0.7297979797979798, 'eval_runtime': 8.68, 'eval_samples_per_second': 45.622, 'eval_steps_per_second': 5.76, 'epoch': 4.0, 'step': 396}, {'loss': 0.4729, 'learning_rate': 0.00012037308866192808, 'epoch': 5.0, 'step': 495}, {'eval_loss': 0.5828250050544739, 'eval_accuracy': 0.6818181818181818, 'eval_runtime': 8.6866, 'eval_samples_per_second': 45.588, 'eval_steps_per_second': 5.756, 'epoch': 5.0, 'step': 495}, {'loss': 0.4533, 'learning_rate': 0.0001444477063943137, 'epoch': 6.0, 'step': 594}, {'eval_loss': 0.5909222960472107, 'eval_accuracy': 0.7095959595959596, 'eval_runtime': 8.6738, 'eval_samples_per_second': 45.655, 'eval_steps_per_second': 5.764, 'epoch': 6.0, 'step': 594}, {'train_runtime': 380.1107, 'train_samples_per_second': 41.672, 'train_steps_per_second': 2.605, 'total_flos': 5679117382498560.0, 'train_loss': 0.5434402632793593, 'epoch': 6.0, 'step': 594}, {'eval_loss': 0.5280579328536987, 'eval_accuracy': 0.73989898989899, 'eval_runtime': 8.6919, 'eval_samples_per_second': 45.56, 'eval_steps_per_second': 5.752, 'epoch': 6.0, 'step': 594}]\n"
     ]
    },
    {
     "name": "stderr",
     "output_type": "stream",
     "text": [
      "/home/ubuntu/data/miniconda3/envs/finetune-dephos/lib/python3.9/site-packages/huggingface_hub/file_download.py:1132: FutureWarning: `resume_download` is deprecated and will be removed in version 1.0.0. Downloads always resume when possible. If you want to force a new download, use `force_download=True`.\n",
      "  warnings.warn(\n",
      "Downloading shards: 100%|█████████████████████████████████████████████████████████████| 2/2 [00:53<00:00, 26.61s/it]\n",
      "Loading checkpoint shards: 100%|██████████████████████████████████████████████████████| 2/2 [01:05<00:00, 32.85s/it]\n",
      "Some weights of EsmModel were not initialized from the model checkpoint at facebook/esm2_t36_3B_UR50D and are newly initialized: ['esm.pooler.dense.bias', 'esm.pooler.dense.weight']\n",
      "You should probably TRAIN this model on a down-stream task to be able to use it for predictions and inference.\n"
     ]
    },
    {
     "name": "stdout",
     "output_type": "stream",
     "text": [
      "ESM_LoRA_Classfier\n",
      "Trainable Parameter: 2848188324.0\n",
      "ESM_LoRA_Classfier\n",
      "Trainable Parameter: 6561283.0\n",
      "\n"
     ]
    },
    {
     "name": "stderr",
     "output_type": "stream",
     "text": [
      "/home/ubuntu/data/miniconda3/envs/finetune-dephos/lib/python3.9/site-packages/accelerate/accelerator.py:446: FutureWarning: Passing the following arguments to `Accelerator` is deprecated and will be removed in version 1.0 of Accelerate: dict_keys(['dispatch_batches', 'split_batches']). Please pass an `accelerate.DataLoaderConfiguration` instead: \n",
      "dataloader_config = DataLoaderConfiguration(dispatch_batches=None, split_batches=False)\n",
      "  warnings.warn(\n"
     ]
    },
    {
     "data": {
      "text/html": [
       "\n",
       "    <div>\n",
       "      \n",
       "      <progress value='2376' max='3960' style='width:300px; height:20px; vertical-align: middle;'></progress>\n",
       "      [2376/3960 06:27 < 04:18, 6.12 it/s, Epoch 6/10]\n",
       "    </div>\n",
       "    <table border=\"1\" class=\"dataframe\">\n",
       "  <thead>\n",
       " <tr style=\"text-align: left;\">\n",
       "      <th>Epoch</th>\n",
       "      <th>Training Loss</th>\n",
       "      <th>Validation Loss</th>\n",
       "      <th>Accuracy</th>\n",
       "    </tr>\n",
       "  </thead>\n",
       "  <tbody>\n",
       "    <tr>\n",
       "      <td>1</td>\n",
       "      <td>0.680900</td>\n",
       "      <td>0.629230</td>\n",
       "      <td>0.689394</td>\n",
       "    </tr>\n",
       "    <tr>\n",
       "      <td>2</td>\n",
       "      <td>0.618100</td>\n",
       "      <td>0.566937</td>\n",
       "      <td>0.727273</td>\n",
       "    </tr>\n",
       "    <tr>\n",
       "      <td>3</td>\n",
       "      <td>0.567100</td>\n",
       "      <td>0.535487</td>\n",
       "      <td>0.739899</td>\n",
       "    </tr>\n",
       "    <tr>\n",
       "      <td>4</td>\n",
       "      <td>0.536400</td>\n",
       "      <td>0.539764</td>\n",
       "      <td>0.719697</td>\n",
       "    </tr>\n",
       "    <tr>\n",
       "      <td>5</td>\n",
       "      <td>0.501100</td>\n",
       "      <td>0.547785</td>\n",
       "      <td>0.722222</td>\n",
       "    </tr>\n",
       "    <tr>\n",
       "      <td>6</td>\n",
       "      <td>0.500700</td>\n",
       "      <td>0.599630</td>\n",
       "      <td>0.717172</td>\n",
       "    </tr>\n",
       "  </tbody>\n",
       "</table><p>"
      ],
      "text/plain": [
       "<IPython.core.display.HTML object>"
      ]
     },
     "metadata": {},
     "output_type": "display_data"
    },
    {
     "name": "stdout",
     "output_type": "stream",
     "text": [
      "Saved improved model to ./model_output/finetuned_model_all_esm2.pth\n",
      "Saved improved model to ./model_output/finetuned_model_all_esm2.pth\n",
      "Saved improved model to ./model_output/finetuned_model_all_esm2.pth\n",
      "Stopping early at epoch 6.0: No improvement in loss or accuracy for 3 evaluations.\n",
      "Loaded best model from ./model_output/finetuned_model_all_esm2.pth\n"
     ]
    },
    {
     "data": {
      "text/html": [
       "\n",
       "    <div>\n",
       "      \n",
       "      <progress value='50' max='50' style='width:300px; height:20px; vertical-align: middle;'></progress>\n",
       "      [50/50 00:08]\n",
       "    </div>\n",
       "    "
      ],
      "text/plain": [
       "<IPython.core.display.HTML object>"
      ]
     },
     "metadata": {},
     "output_type": "display_data"
    },
    {
     "name": "stderr",
     "output_type": "stream",
     "text": [
      "[I 2024-06-09 20:06:19,561] Trial 12 finished with values: [0.5354869365692139, 0.73989898989899] and parameters: {'lr': 6.713090842842659e-05, 'batch': 2, 'accum': 2, 'dropout_rate': 0.3042910427615749, 'weight_decay': 1.1285404750170886e-05, 'warmup_pct': 0.2804275853982079, 'lora_rank': 20, 'lora_init_scale': 0.00032162137363651595, 'lora_scaling_rank': 4}. \n"
     ]
    },
    {
     "name": "stdout",
     "output_type": "stream",
     "text": [
      "Stopping early at epoch 6.0: No improvement in loss or accuracy for 3 evaluations.\n",
      "{'eval_loss': 0.5354869365692139, 'eval_accuracy': 0.73989898989899, 'eval_runtime': 8.7196, 'eval_samples_per_second': 45.415, 'eval_steps_per_second': 5.734, 'epoch': 6.0}\n",
      "History:  [{'loss': 0.6809, 'learning_rate': 1.1974702584530149e-05, 'epoch': 1.0, 'step': 396}, {'eval_loss': 0.6292296648025513, 'eval_accuracy': 0.6893939393939394, 'eval_runtime': 8.6177, 'eval_samples_per_second': 45.952, 'eval_steps_per_second': 5.802, 'epoch': 1.0, 'step': 396}, {'loss': 0.6181, 'learning_rate': 2.3949405169060297e-05, 'epoch': 2.0, 'step': 792}, {'eval_loss': 0.5669369101524353, 'eval_accuracy': 0.7272727272727273, 'eval_runtime': 8.6661, 'eval_samples_per_second': 45.695, 'eval_steps_per_second': 5.77, 'epoch': 2.0, 'step': 792}, {'loss': 0.5671, 'learning_rate': 3.5924107753590444e-05, 'epoch': 3.0, 'step': 1188}, {'eval_loss': 0.5354869365692139, 'eval_accuracy': 0.73989898989899, 'eval_runtime': 8.6707, 'eval_samples_per_second': 45.671, 'eval_steps_per_second': 5.767, 'epoch': 3.0, 'step': 1188}, {'loss': 0.5364, 'learning_rate': 4.7898810338120594e-05, 'epoch': 4.0, 'step': 1584}, {'eval_loss': 0.5397644639015198, 'eval_accuracy': 0.7196969696969697, 'eval_runtime': 8.7045, 'eval_samples_per_second': 45.494, 'eval_steps_per_second': 5.744, 'epoch': 4.0, 'step': 1584}, {'loss': 0.5011, 'learning_rate': 5.987351292265074e-05, 'epoch': 5.0, 'step': 1980}, {'eval_loss': 0.547784686088562, 'eval_accuracy': 0.7222222222222222, 'eval_runtime': 8.7022, 'eval_samples_per_second': 45.506, 'eval_steps_per_second': 5.746, 'epoch': 5.0, 'step': 1980}, {'loss': 0.5007, 'learning_rate': 6.111227525898145e-05, 'epoch': 6.0, 'step': 2376}, {'eval_loss': 0.5996296405792236, 'eval_accuracy': 0.7171717171717171, 'eval_runtime': 8.6823, 'eval_samples_per_second': 45.61, 'eval_steps_per_second': 5.759, 'epoch': 6.0, 'step': 2376}, {'train_runtime': 387.9682, 'train_samples_per_second': 40.828, 'train_steps_per_second': 10.207, 'total_flos': 5679117382498560.0, 'train_loss': 0.5673972556888054, 'epoch': 6.0, 'step': 2376}, {'eval_loss': 0.5354869365692139, 'eval_accuracy': 0.73989898989899, 'eval_runtime': 8.7196, 'eval_samples_per_second': 45.415, 'eval_steps_per_second': 5.734, 'epoch': 6.0, 'step': 2376}]\n"
     ]
    },
    {
     "name": "stderr",
     "output_type": "stream",
     "text": [
      "/home/ubuntu/data/miniconda3/envs/finetune-dephos/lib/python3.9/site-packages/huggingface_hub/file_download.py:1132: FutureWarning: `resume_download` is deprecated and will be removed in version 1.0.0. Downloads always resume when possible. If you want to force a new download, use `force_download=True`.\n",
      "  warnings.warn(\n",
      "Downloading shards: 100%|█████████████████████████████████████████████████████████████| 2/2 [00:57<00:00, 28.68s/it]\n",
      "Loading checkpoint shards: 100%|██████████████████████████████████████████████████████| 2/2 [01:08<00:00, 34.47s/it]\n",
      "Some weights of EsmModel were not initialized from the model checkpoint at facebook/esm2_t36_3B_UR50D and are newly initialized: ['esm.pooler.dense.bias', 'esm.pooler.dense.weight']\n",
      "You should probably TRAIN this model on a down-stream task to be able to use it for predictions and inference.\n"
     ]
    },
    {
     "name": "stdout",
     "output_type": "stream",
     "text": [
      "ESM_LoRA_Classfier\n",
      "Trainable Parameter: 2848188324.0\n",
      "ESM_LoRA_Classfier\n",
      "Trainable Parameter: 6561283.0\n",
      "\n"
     ]
    },
    {
     "name": "stderr",
     "output_type": "stream",
     "text": [
      "/home/ubuntu/data/miniconda3/envs/finetune-dephos/lib/python3.9/site-packages/accelerate/accelerator.py:446: FutureWarning: Passing the following arguments to `Accelerator` is deprecated and will be removed in version 1.0 of Accelerate: dict_keys(['dispatch_batches', 'split_batches']). Please pass an `accelerate.DataLoaderConfiguration` instead: \n",
      "dataloader_config = DataLoaderConfiguration(dispatch_batches=None, split_batches=False)\n",
      "  warnings.warn(\n"
     ]
    },
    {
     "data": {
      "text/html": [
       "\n",
       "    <div>\n",
       "      \n",
       "      <progress value='990' max='990' style='width:300px; height:20px; vertical-align: middle;'></progress>\n",
       "      [990/990 10:33, Epoch 10/10]\n",
       "    </div>\n",
       "    <table border=\"1\" class=\"dataframe\">\n",
       "  <thead>\n",
       " <tr style=\"text-align: left;\">\n",
       "      <th>Epoch</th>\n",
       "      <th>Training Loss</th>\n",
       "      <th>Validation Loss</th>\n",
       "      <th>Accuracy</th>\n",
       "    </tr>\n",
       "  </thead>\n",
       "  <tbody>\n",
       "    <tr>\n",
       "      <td>1</td>\n",
       "      <td>0.731200</td>\n",
       "      <td>0.691921</td>\n",
       "      <td>0.512626</td>\n",
       "    </tr>\n",
       "    <tr>\n",
       "      <td>2</td>\n",
       "      <td>0.724200</td>\n",
       "      <td>0.683760</td>\n",
       "      <td>0.588384</td>\n",
       "    </tr>\n",
       "    <tr>\n",
       "      <td>3</td>\n",
       "      <td>0.732800</td>\n",
       "      <td>0.674603</td>\n",
       "      <td>0.656566</td>\n",
       "    </tr>\n",
       "    <tr>\n",
       "      <td>4</td>\n",
       "      <td>0.708800</td>\n",
       "      <td>0.662667</td>\n",
       "      <td>0.664141</td>\n",
       "    </tr>\n",
       "    <tr>\n",
       "      <td>5</td>\n",
       "      <td>0.715900</td>\n",
       "      <td>0.650353</td>\n",
       "      <td>0.689394</td>\n",
       "    </tr>\n",
       "    <tr>\n",
       "      <td>6</td>\n",
       "      <td>0.700000</td>\n",
       "      <td>0.637896</td>\n",
       "      <td>0.681818</td>\n",
       "    </tr>\n",
       "    <tr>\n",
       "      <td>7</td>\n",
       "      <td>0.688300</td>\n",
       "      <td>0.625463</td>\n",
       "      <td>0.712121</td>\n",
       "    </tr>\n",
       "    <tr>\n",
       "      <td>8</td>\n",
       "      <td>0.666900</td>\n",
       "      <td>0.616140</td>\n",
       "      <td>0.686869</td>\n",
       "    </tr>\n",
       "    <tr>\n",
       "      <td>9</td>\n",
       "      <td>0.654700</td>\n",
       "      <td>0.604880</td>\n",
       "      <td>0.712121</td>\n",
       "    </tr>\n",
       "    <tr>\n",
       "      <td>10</td>\n",
       "      <td>0.662100</td>\n",
       "      <td>0.594351</td>\n",
       "      <td>0.714646</td>\n",
       "    </tr>\n",
       "  </tbody>\n",
       "</table><p>"
      ],
      "text/plain": [
       "<IPython.core.display.HTML object>"
      ]
     },
     "metadata": {},
     "output_type": "display_data"
    },
    {
     "name": "stdout",
     "output_type": "stream",
     "text": [
      "Saved improved model to ./model_output/finetuned_model_all_esm2.pth\n",
      "Saved improved model to ./model_output/finetuned_model_all_esm2.pth\n",
      "Saved improved model to ./model_output/finetuned_model_all_esm2.pth\n",
      "Saved improved model to ./model_output/finetuned_model_all_esm2.pth\n",
      "Saved improved model to ./model_output/finetuned_model_all_esm2.pth\n",
      "Saved improved model to ./model_output/finetuned_model_all_esm2.pth\n",
      "Saved improved model to ./model_output/finetuned_model_all_esm2.pth\n",
      "Saved improved model to ./model_output/finetuned_model_all_esm2.pth\n",
      "Saved improved model to ./model_output/finetuned_model_all_esm2.pth\n",
      "Saved improved model to ./model_output/finetuned_model_all_esm2.pth\n",
      "Loaded best model from ./model_output/finetuned_model_all_esm2.pth\n"
     ]
    },
    {
     "data": {
      "text/html": [
       "\n",
       "    <div>\n",
       "      \n",
       "      <progress value='50' max='50' style='width:300px; height:20px; vertical-align: middle;'></progress>\n",
       "      [50/50 00:08]\n",
       "    </div>\n",
       "    "
      ],
      "text/plain": [
       "<IPython.core.display.HTML object>"
      ]
     },
     "metadata": {},
     "output_type": "display_data"
    },
    {
     "name": "stderr",
     "output_type": "stream",
     "text": [
      "[I 2024-06-09 20:20:08,442] Trial 13 finished with values: [0.5943505167961121, 0.7146464646464646] and parameters: {'lr': 4.696911119100029e-05, 'batch': 2, 'accum': 8, 'dropout_rate': 0.7658440013151991, 'weight_decay': 0.00037146872962171934, 'warmup_pct': 0.28380215241353346, 'lora_rank': 32, 'lora_init_scale': 0.0002079086093280365, 'lora_scaling_rank': 6}. \n"
     ]
    },
    {
     "name": "stdout",
     "output_type": "stream",
     "text": [
      "{'eval_loss': 0.5943505167961121, 'eval_accuracy': 0.7146464646464646, 'eval_runtime': 8.706, 'eval_samples_per_second': 45.486, 'eval_steps_per_second': 5.743, 'epoch': 10.0}\n",
      "History:  [{'loss': 0.7312, 'learning_rate': 2.0694000925273826e-06, 'epoch': 1.0, 'step': 99}, {'eval_loss': 0.6919211745262146, 'eval_accuracy': 0.5126262626262627, 'eval_runtime': 8.6207, 'eval_samples_per_second': 45.936, 'eval_steps_per_second': 5.8, 'epoch': 1.0, 'step': 99}, {'loss': 0.7242, 'learning_rate': 4.138800185054765e-06, 'epoch': 2.0, 'step': 198}, {'eval_loss': 0.6837600469589233, 'eval_accuracy': 0.5883838383838383, 'eval_runtime': 8.6659, 'eval_samples_per_second': 45.697, 'eval_steps_per_second': 5.77, 'epoch': 2.0, 'step': 198}, {'loss': 0.7328, 'learning_rate': 6.208200277582148e-06, 'epoch': 3.0, 'step': 297}, {'eval_loss': 0.6746031045913696, 'eval_accuracy': 0.6565656565656566, 'eval_runtime': 8.6737, 'eval_samples_per_second': 45.655, 'eval_steps_per_second': 5.765, 'epoch': 3.0, 'step': 297}, {'loss': 0.7088, 'learning_rate': 8.27760037010953e-06, 'epoch': 4.0, 'step': 396}, {'eval_loss': 0.662667453289032, 'eval_accuracy': 0.6641414141414141, 'eval_runtime': 8.667, 'eval_samples_per_second': 45.691, 'eval_steps_per_second': 5.769, 'epoch': 4.0, 'step': 396}, {'loss': 0.7159, 'learning_rate': 1.0347000462636913e-05, 'epoch': 5.0, 'step': 495}, {'eval_loss': 0.650353193283081, 'eval_accuracy': 0.6893939393939394, 'eval_runtime': 8.6777, 'eval_samples_per_second': 45.634, 'eval_steps_per_second': 5.762, 'epoch': 5.0, 'step': 495}, {'loss': 0.7, 'learning_rate': 1.2416400555164296e-05, 'epoch': 6.0, 'step': 594}, {'eval_loss': 0.6378961205482483, 'eval_accuracy': 0.6818181818181818, 'eval_runtime': 8.6902, 'eval_samples_per_second': 45.569, 'eval_steps_per_second': 5.754, 'epoch': 6.0, 'step': 594}, {'loss': 0.6883, 'learning_rate': 1.4485800647691678e-05, 'epoch': 7.0, 'step': 693}, {'eval_loss': 0.6254627108573914, 'eval_accuracy': 0.7121212121212122, 'eval_runtime': 8.6912, 'eval_samples_per_second': 45.563, 'eval_steps_per_second': 5.753, 'epoch': 7.0, 'step': 693}, {'loss': 0.6669, 'learning_rate': 1.655520074021906e-05, 'epoch': 8.0, 'step': 792}, {'eval_loss': 0.6161403656005859, 'eval_accuracy': 0.6868686868686869, 'eval_runtime': 8.6902, 'eval_samples_per_second': 45.569, 'eval_steps_per_second': 5.754, 'epoch': 8.0, 'step': 792}, {'loss': 0.6547, 'learning_rate': 1.8624600832746444e-05, 'epoch': 9.0, 'step': 891}, {'eval_loss': 0.6048795580863953, 'eval_accuracy': 0.7121212121212122, 'eval_runtime': 8.6859, 'eval_samples_per_second': 45.591, 'eval_steps_per_second': 5.756, 'epoch': 9.0, 'step': 891}, {'loss': 0.6621, 'learning_rate': 2.0694000925273827e-05, 'epoch': 10.0, 'step': 990}, {'eval_loss': 0.5943505167961121, 'eval_accuracy': 0.7146464646464646, 'eval_runtime': 8.6901, 'eval_samples_per_second': 45.569, 'eval_steps_per_second': 5.754, 'epoch': 10.0, 'step': 990}, {'train_runtime': 633.8989, 'train_samples_per_second': 24.988, 'train_steps_per_second': 1.562, 'total_flos': 9465195637497600.0, 'train_loss': 0.6984928632023358, 'epoch': 10.0, 'step': 990}, {'eval_loss': 0.5943505167961121, 'eval_accuracy': 0.7146464646464646, 'eval_runtime': 8.706, 'eval_samples_per_second': 45.486, 'eval_steps_per_second': 5.743, 'epoch': 10.0, 'step': 990}]\n"
     ]
    },
    {
     "name": "stderr",
     "output_type": "stream",
     "text": [
      "/home/ubuntu/data/miniconda3/envs/finetune-dephos/lib/python3.9/site-packages/huggingface_hub/file_download.py:1132: FutureWarning: `resume_download` is deprecated and will be removed in version 1.0.0. Downloads always resume when possible. If you want to force a new download, use `force_download=True`.\n",
      "  warnings.warn(\n",
      "Downloading shards: 100%|█████████████████████████████████████████████████████████████| 2/2 [00:58<00:00, 29.12s/it]\n",
      "Loading checkpoint shards: 100%|██████████████████████████████████████████████████████| 2/2 [01:13<00:00, 36.51s/it]\n",
      "Some weights of EsmModel were not initialized from the model checkpoint at facebook/esm2_t36_3B_UR50D and are newly initialized: ['esm.pooler.dense.bias', 'esm.pooler.dense.weight']\n",
      "You should probably TRAIN this model on a down-stream task to be able to use it for predictions and inference.\n"
     ]
    },
    {
     "name": "stdout",
     "output_type": "stream",
     "text": [
      "ESM_LoRA_Classfier\n",
      "Trainable Parameter: 2848188324.0\n",
      "ESM_LoRA_Classfier\n",
      "Trainable Parameter: 6561283.0\n",
      "\n"
     ]
    },
    {
     "name": "stderr",
     "output_type": "stream",
     "text": [
      "/home/ubuntu/data/miniconda3/envs/finetune-dephos/lib/python3.9/site-packages/accelerate/accelerator.py:446: FutureWarning: Passing the following arguments to `Accelerator` is deprecated and will be removed in version 1.0 of Accelerate: dict_keys(['dispatch_batches', 'split_batches']). Please pass an `accelerate.DataLoaderConfiguration` instead: \n",
      "dataloader_config = DataLoaderConfiguration(dispatch_batches=None, split_batches=False)\n",
      "  warnings.warn(\n"
     ]
    },
    {
     "data": {
      "text/html": [
       "\n",
       "    <div>\n",
       "      \n",
       "      <progress value='990' max='1980' style='width:300px; height:20px; vertical-align: middle;'></progress>\n",
       "      [ 990/1980 04:38 < 04:38, 3.55 it/s, Epoch 5/10]\n",
       "    </div>\n",
       "    <table border=\"1\" class=\"dataframe\">\n",
       "  <thead>\n",
       " <tr style=\"text-align: left;\">\n",
       "      <th>Epoch</th>\n",
       "      <th>Training Loss</th>\n",
       "      <th>Validation Loss</th>\n",
       "      <th>Accuracy</th>\n",
       "    </tr>\n",
       "  </thead>\n",
       "  <tbody>\n",
       "    <tr>\n",
       "      <td>1</td>\n",
       "      <td>0.854600</td>\n",
       "      <td>0.634045</td>\n",
       "      <td>0.654040</td>\n",
       "    </tr>\n",
       "    <tr>\n",
       "      <td>2</td>\n",
       "      <td>1.751700</td>\n",
       "      <td>0.751921</td>\n",
       "      <td>0.674242</td>\n",
       "    </tr>\n",
       "    <tr>\n",
       "      <td>3</td>\n",
       "      <td>3.065300</td>\n",
       "      <td>3.188093</td>\n",
       "      <td>0.540404</td>\n",
       "    </tr>\n",
       "    <tr>\n",
       "      <td>4</td>\n",
       "      <td>4.899400</td>\n",
       "      <td>8.150720</td>\n",
       "      <td>0.510101</td>\n",
       "    </tr>\n",
       "    <tr>\n",
       "      <td>5</td>\n",
       "      <td>5.963400</td>\n",
       "      <td>2.977379</td>\n",
       "      <td>0.603535</td>\n",
       "    </tr>\n",
       "  </tbody>\n",
       "</table><p>"
      ],
      "text/plain": [
       "<IPython.core.display.HTML object>"
      ]
     },
     "metadata": {},
     "output_type": "display_data"
    },
    {
     "name": "stdout",
     "output_type": "stream",
     "text": [
      "Saved improved model to ./model_output/finetuned_model_all_esm2.pth\n",
      "Saved improved model to ./model_output/finetuned_model_all_esm2.pth\n",
      "Stopping early at epoch 5.0: No improvement in loss or accuracy for 3 evaluations.\n",
      "Loaded best model from ./model_output/finetuned_model_all_esm2.pth\n"
     ]
    },
    {
     "data": {
      "text/html": [
       "\n",
       "    <div>\n",
       "      \n",
       "      <progress value='50' max='50' style='width:300px; height:20px; vertical-align: middle;'></progress>\n",
       "      [50/50 00:08]\n",
       "    </div>\n",
       "    "
      ],
      "text/plain": [
       "<IPython.core.display.HTML object>"
      ]
     },
     "metadata": {},
     "output_type": "display_data"
    },
    {
     "name": "stderr",
     "output_type": "stream",
     "text": [
      "[I 2024-06-09 20:28:05,212] Trial 14 finished with values: [0.7519211173057556, 0.6742424242424242] and parameters: {'lr': 0.007153278299969591, 'batch': 4, 'accum': 2, 'dropout_rate': 0.8286598765454943, 'weight_decay': 0.00020522558639561155, 'warmup_pct': 0.22184335115957465, 'lora_rank': 4, 'lora_init_scale': 0.012036324913925051, 'lora_scaling_rank': 4}. \n"
     ]
    },
    {
     "name": "stdout",
     "output_type": "stream",
     "text": [
      "Stopping early at epoch 5.0: No improvement in loss or accuracy for 3 evaluations.\n",
      "{'eval_loss': 0.7519211173057556, 'eval_accuracy': 0.6742424242424242, 'eval_runtime': 8.7305, 'eval_samples_per_second': 45.358, 'eval_steps_per_second': 5.727, 'epoch': 5.0}\n",
      "History:  [{'loss': 0.8546, 'learning_rate': 0.0016131538763029373, 'epoch': 1.0, 'step': 198}, {'eval_loss': 0.6340451240539551, 'eval_accuracy': 0.6540404040404041, 'eval_runtime': 8.622, 'eval_samples_per_second': 45.929, 'eval_steps_per_second': 5.799, 'epoch': 1.0, 'step': 198}, {'loss': 1.7517, 'learning_rate': 0.0032263077526058746, 'epoch': 2.0, 'step': 396}, {'eval_loss': 0.7519211173057556, 'eval_accuracy': 0.6742424242424242, 'eval_runtime': 8.6686, 'eval_samples_per_second': 45.682, 'eval_steps_per_second': 5.768, 'epoch': 2.0, 'step': 396}, {'loss': 3.0653, 'learning_rate': 0.004839461628908812, 'epoch': 3.0, 'step': 594}, {'eval_loss': 3.188093423843384, 'eval_accuracy': 0.5404040404040404, 'eval_runtime': 8.6771, 'eval_samples_per_second': 45.637, 'eval_steps_per_second': 5.762, 'epoch': 3.0, 'step': 594}, {'loss': 4.8994, 'learning_rate': 0.006452615505211749, 'epoch': 4.0, 'step': 792}, {'eval_loss': 8.15071964263916, 'eval_accuracy': 0.51010101010101, 'eval_runtime': 8.6936, 'eval_samples_per_second': 45.551, 'eval_steps_per_second': 5.751, 'epoch': 4.0, 'step': 792}, {'loss': 5.9634, 'learning_rate': 0.006426266349337473, 'epoch': 5.0, 'step': 990}, {'eval_loss': 2.977379083633423, 'eval_accuracy': 0.6035353535353535, 'eval_runtime': 8.7191, 'eval_samples_per_second': 45.418, 'eval_steps_per_second': 5.735, 'epoch': 5.0, 'step': 990}, {'train_runtime': 278.6598, 'train_samples_per_second': 56.844, 'train_steps_per_second': 7.105, 'total_flos': 4732597818748800.0, 'train_loss': 3.30686966096512, 'epoch': 5.0, 'step': 990}, {'eval_loss': 0.7519211173057556, 'eval_accuracy': 0.6742424242424242, 'eval_runtime': 8.7305, 'eval_samples_per_second': 45.358, 'eval_steps_per_second': 5.727, 'epoch': 5.0, 'step': 990}]\n"
     ]
    },
    {
     "name": "stderr",
     "output_type": "stream",
     "text": [
      "/home/ubuntu/data/miniconda3/envs/finetune-dephos/lib/python3.9/site-packages/huggingface_hub/file_download.py:1132: FutureWarning: `resume_download` is deprecated and will be removed in version 1.0.0. Downloads always resume when possible. If you want to force a new download, use `force_download=True`.\n",
      "  warnings.warn(\n",
      "Downloading shards: 100%|█████████████████████████████████████████████████████████████| 2/2 [00:58<00:00, 29.32s/it]\n",
      "Loading checkpoint shards: 100%|██████████████████████████████████████████████████████| 2/2 [01:08<00:00, 34.23s/it]\n",
      "Some weights of EsmModel were not initialized from the model checkpoint at facebook/esm2_t36_3B_UR50D and are newly initialized: ['esm.pooler.dense.bias', 'esm.pooler.dense.weight']\n",
      "You should probably TRAIN this model on a down-stream task to be able to use it for predictions and inference.\n"
     ]
    },
    {
     "name": "stdout",
     "output_type": "stream",
     "text": [
      "ESM_LoRA_Classfier\n",
      "Trainable Parameter: 2848188324.0\n",
      "ESM_LoRA_Classfier\n",
      "Trainable Parameter: 6561283.0\n",
      "\n"
     ]
    },
    {
     "name": "stderr",
     "output_type": "stream",
     "text": [
      "/home/ubuntu/data/miniconda3/envs/finetune-dephos/lib/python3.9/site-packages/accelerate/accelerator.py:446: FutureWarning: Passing the following arguments to `Accelerator` is deprecated and will be removed in version 1.0 of Accelerate: dict_keys(['dispatch_batches', 'split_batches']). Please pass an `accelerate.DataLoaderConfiguration` instead: \n",
      "dataloader_config = DataLoaderConfiguration(dispatch_batches=None, split_batches=False)\n",
      "  warnings.warn(\n"
     ]
    },
    {
     "data": {
      "text/html": [
       "\n",
       "    <div>\n",
       "      \n",
       "      <progress value='990' max='1980' style='width:300px; height:20px; vertical-align: middle;'></progress>\n",
       "      [ 990/1980 05:18 < 05:18, 3.10 it/s, Epoch 5/10]\n",
       "    </div>\n",
       "    <table border=\"1\" class=\"dataframe\">\n",
       "  <thead>\n",
       " <tr style=\"text-align: left;\">\n",
       "      <th>Epoch</th>\n",
       "      <th>Training Loss</th>\n",
       "      <th>Validation Loss</th>\n",
       "      <th>Accuracy</th>\n",
       "    </tr>\n",
       "  </thead>\n",
       "  <tbody>\n",
       "    <tr>\n",
       "      <td>1</td>\n",
       "      <td>0.657900</td>\n",
       "      <td>0.582913</td>\n",
       "      <td>0.702020</td>\n",
       "    </tr>\n",
       "    <tr>\n",
       "      <td>2</td>\n",
       "      <td>0.583500</td>\n",
       "      <td>0.525097</td>\n",
       "      <td>0.729798</td>\n",
       "    </tr>\n",
       "    <tr>\n",
       "      <td>3</td>\n",
       "      <td>0.530600</td>\n",
       "      <td>0.568752</td>\n",
       "      <td>0.712121</td>\n",
       "    </tr>\n",
       "    <tr>\n",
       "      <td>4</td>\n",
       "      <td>0.525500</td>\n",
       "      <td>0.564094</td>\n",
       "      <td>0.704545</td>\n",
       "    </tr>\n",
       "    <tr>\n",
       "      <td>5</td>\n",
       "      <td>0.477800</td>\n",
       "      <td>0.613333</td>\n",
       "      <td>0.699495</td>\n",
       "    </tr>\n",
       "  </tbody>\n",
       "</table><p>"
      ],
      "text/plain": [
       "<IPython.core.display.HTML object>"
      ]
     },
     "metadata": {},
     "output_type": "display_data"
    },
    {
     "name": "stdout",
     "output_type": "stream",
     "text": [
      "Saved improved model to ./model_output/finetuned_model_all_esm2.pth\n",
      "Saved improved model to ./model_output/finetuned_model_all_esm2.pth\n",
      "Stopping early at epoch 5.0: No improvement in loss or accuracy for 3 evaluations.\n",
      "Loaded best model from ./model_output/finetuned_model_all_esm2.pth\n"
     ]
    },
    {
     "data": {
      "text/html": [
       "\n",
       "    <div>\n",
       "      \n",
       "      <progress value='50' max='50' style='width:300px; height:20px; vertical-align: middle;'></progress>\n",
       "      [50/50 00:08]\n",
       "    </div>\n",
       "    "
      ],
      "text/plain": [
       "<IPython.core.display.HTML object>"
      ]
     },
     "metadata": {},
     "output_type": "display_data"
    },
    {
     "name": "stderr",
     "output_type": "stream",
     "text": [
      "[I 2024-06-09 20:36:36,911] Trial 15 finished with values: [0.5250969529151917, 0.7297979797979798] and parameters: {'lr': 0.0005719016304640616, 'batch': 2, 'accum': 4, 'dropout_rate': 0.25342054257467544, 'weight_decay': 4.28892229326991e-05, 'warmup_pct': 0.2662589690747499, 'lora_rank': 4, 'lora_init_scale': 0.0002775263788030031, 'lora_scaling_rank': 7}. \n"
     ]
    },
    {
     "name": "stdout",
     "output_type": "stream",
     "text": [
      "Stopping early at epoch 5.0: No improvement in loss or accuracy for 3 evaluations.\n",
      "{'eval_loss': 0.5250969529151917, 'eval_accuracy': 0.7297979797979798, 'eval_runtime': 8.6913, 'eval_samples_per_second': 45.563, 'eval_steps_per_second': 5.753, 'epoch': 5.0}\n",
      "History:  [{'loss': 0.6579, 'learning_rate': 5.371751557489763e-05, 'epoch': 1.0, 'step': 198}, {'eval_loss': 0.5829125046730042, 'eval_accuracy': 0.702020202020202, 'eval_runtime': 8.6261, 'eval_samples_per_second': 45.907, 'eval_steps_per_second': 5.796, 'epoch': 1.0, 'step': 198}, {'loss': 0.5835, 'learning_rate': 0.00010743503114979526, 'epoch': 2.0, 'step': 396}, {'eval_loss': 0.5250969529151917, 'eval_accuracy': 0.7297979797979798, 'eval_runtime': 8.7, 'eval_samples_per_second': 45.517, 'eval_steps_per_second': 5.747, 'epoch': 2.0, 'step': 396}, {'loss': 0.5306, 'learning_rate': 0.00016115254672469288, 'epoch': 3.0, 'step': 594}, {'eval_loss': 0.5687522292137146, 'eval_accuracy': 0.7121212121212122, 'eval_runtime': 8.6665, 'eval_samples_per_second': 45.693, 'eval_steps_per_second': 5.769, 'epoch': 3.0, 'step': 594}, {'loss': 0.5255, 'learning_rate': 0.00021487006229959052, 'epoch': 4.0, 'step': 792}, {'eval_loss': 0.5640941858291626, 'eval_accuracy': 0.7045454545454546, 'eval_runtime': 8.6717, 'eval_samples_per_second': 45.666, 'eval_steps_per_second': 5.766, 'epoch': 4.0, 'step': 792}, {'loss': 0.4778, 'learning_rate': 0.00026858757787448815, 'epoch': 5.0, 'step': 990}, {'eval_loss': 0.6133328080177307, 'eval_accuracy': 0.6994949494949495, 'eval_runtime': 8.6867, 'eval_samples_per_second': 45.587, 'eval_steps_per_second': 5.756, 'epoch': 5.0, 'step': 990}, {'train_runtime': 318.5761, 'train_samples_per_second': 49.721, 'train_steps_per_second': 6.215, 'total_flos': 4732597818748800.0, 'train_loss': 0.5550464514530067, 'epoch': 5.0, 'step': 990}, {'eval_loss': 0.5250969529151917, 'eval_accuracy': 0.7297979797979798, 'eval_runtime': 8.6913, 'eval_samples_per_second': 45.563, 'eval_steps_per_second': 5.753, 'epoch': 5.0, 'step': 990}]\n"
     ]
    },
    {
     "name": "stderr",
     "output_type": "stream",
     "text": [
      "/home/ubuntu/data/miniconda3/envs/finetune-dephos/lib/python3.9/site-packages/huggingface_hub/file_download.py:1132: FutureWarning: `resume_download` is deprecated and will be removed in version 1.0.0. Downloads always resume when possible. If you want to force a new download, use `force_download=True`.\n",
      "  warnings.warn(\n",
      "Downloading shards: 100%|█████████████████████████████████████████████████████████████| 2/2 [01:01<00:00, 30.95s/it]\n",
      "Loading checkpoint shards: 100%|██████████████████████████████████████████████████████| 2/2 [01:09<00:00, 34.93s/it]\n",
      "Some weights of EsmModel were not initialized from the model checkpoint at facebook/esm2_t36_3B_UR50D and are newly initialized: ['esm.pooler.dense.bias', 'esm.pooler.dense.weight']\n",
      "You should probably TRAIN this model on a down-stream task to be able to use it for predictions and inference.\n"
     ]
    },
    {
     "name": "stdout",
     "output_type": "stream",
     "text": [
      "ESM_LoRA_Classfier\n",
      "Trainable Parameter: 2848188324.0\n",
      "ESM_LoRA_Classfier\n",
      "Trainable Parameter: 6561283.0\n",
      "\n"
     ]
    },
    {
     "name": "stderr",
     "output_type": "stream",
     "text": [
      "/home/ubuntu/data/miniconda3/envs/finetune-dephos/lib/python3.9/site-packages/accelerate/accelerator.py:446: FutureWarning: Passing the following arguments to `Accelerator` is deprecated and will be removed in version 1.0 of Accelerate: dict_keys(['dispatch_batches', 'split_batches']). Please pass an `accelerate.DataLoaderConfiguration` instead: \n",
      "dataloader_config = DataLoaderConfiguration(dispatch_batches=None, split_batches=False)\n",
      "  warnings.warn(\n"
     ]
    },
    {
     "data": {
      "text/html": [
       "\n",
       "    <div>\n",
       "      \n",
       "      <progress value='148' max='240' style='width:300px; height:20px; vertical-align: middle;'></progress>\n",
       "      [148/240 04:22 < 02:45, 0.56 it/s, Epoch 5/10]\n",
       "    </div>\n",
       "    <table border=\"1\" class=\"dataframe\">\n",
       "  <thead>\n",
       " <tr style=\"text-align: left;\">\n",
       "      <th>Epoch</th>\n",
       "      <th>Training Loss</th>\n",
       "      <th>Validation Loss</th>\n",
       "      <th>Accuracy</th>\n",
       "    </tr>\n",
       "  </thead>\n",
       "  <tbody>\n",
       "    <tr>\n",
       "      <td>0</td>\n",
       "      <td>0.677300</td>\n",
       "      <td>0.564605</td>\n",
       "      <td>0.707071</td>\n",
       "    </tr>\n",
       "    <tr>\n",
       "      <td>1</td>\n",
       "      <td>0.547800</td>\n",
       "      <td>0.572294</td>\n",
       "      <td>0.712121</td>\n",
       "    </tr>\n",
       "    <tr>\n",
       "      <td>2</td>\n",
       "      <td>0.520300</td>\n",
       "      <td>0.555377</td>\n",
       "      <td>0.724747</td>\n",
       "    </tr>\n",
       "    <tr>\n",
       "      <td>4</td>\n",
       "      <td>0.528000</td>\n",
       "      <td>0.764412</td>\n",
       "      <td>0.626263</td>\n",
       "    </tr>\n",
       "    <tr>\n",
       "      <td>5</td>\n",
       "      <td>0.568200</td>\n",
       "      <td>0.600321</td>\n",
       "      <td>0.704545</td>\n",
       "    </tr>\n",
       "  </tbody>\n",
       "</table><p>"
      ],
      "text/plain": [
       "<IPython.core.display.HTML object>"
      ]
     },
     "metadata": {},
     "output_type": "display_data"
    },
    {
     "name": "stdout",
     "output_type": "stream",
     "text": [
      "Saved improved model to ./model_output/finetuned_model_all_esm2.pth\n",
      "Saved improved model to ./model_output/finetuned_model_all_esm2.pth\n",
      "Saved improved model to ./model_output/finetuned_model_all_esm2.pth\n",
      "Stopping early at epoch 5.97979797979798: No improvement in loss or accuracy for 3 evaluations.\n",
      "Loaded best model from ./model_output/finetuned_model_all_esm2.pth\n"
     ]
    },
    {
     "data": {
      "text/html": [
       "\n",
       "    <div>\n",
       "      \n",
       "      <progress value='50' max='50' style='width:300px; height:20px; vertical-align: middle;'></progress>\n",
       "      [50/50 00:08]\n",
       "    </div>\n",
       "    "
      ],
      "text/plain": [
       "<IPython.core.display.HTML object>"
      ]
     },
     "metadata": {},
     "output_type": "display_data"
    },
    {
     "name": "stderr",
     "output_type": "stream",
     "text": [
      "[I 2024-06-09 20:44:19,629] Trial 16 finished with values: [0.5553765296936035, 0.7247474747474747] and parameters: {'lr': 0.005314710286943046, 'batch': 8, 'accum': 8, 'dropout_rate': 0.35565103982944457, 'weight_decay': 3.1098047423612664e-05, 'warmup_pct': 0.22175643158537206, 'lora_rank': 32, 'lora_init_scale': 0.02692992927097065, 'lora_scaling_rank': 5}. \n"
     ]
    },
    {
     "name": "stdout",
     "output_type": "stream",
     "text": [
      "Stopping early at epoch 5.97979797979798: No improvement in loss or accuracy for 3 evaluations.\n",
      "{'eval_loss': 0.5553765296936035, 'eval_accuracy': 0.7247474747474747, 'eval_runtime': 8.6644, 'eval_samples_per_second': 45.704, 'eval_steps_per_second': 5.771, 'epoch': 5.98}\n",
      "History:  [{'loss': 0.6773, 'learning_rate': 0.0002905536375549729, 'epoch': 0.97, 'step': 24}, {'eval_loss': 0.5646046996116638, 'eval_accuracy': 0.7070707070707071, 'eval_runtime': 8.6426, 'eval_samples_per_second': 45.82, 'eval_steps_per_second': 5.785, 'epoch': 0.97, 'step': 24}, {'loss': 0.5478, 'learning_rate': 0.0005932136766747363, 'epoch': 1.98, 'step': 49}, {'eval_loss': 0.5722935199737549, 'eval_accuracy': 0.7121212121212122, 'eval_runtime': 8.6611, 'eval_samples_per_second': 45.721, 'eval_steps_per_second': 5.773, 'epoch': 1.98, 'step': 49}, {'loss': 0.5203, 'learning_rate': 0.0008958737157944998, 'epoch': 2.99, 'step': 74}, {'eval_loss': 0.5553765296936035, 'eval_accuracy': 0.7247474747474747, 'eval_runtime': 8.7111, 'eval_samples_per_second': 45.459, 'eval_steps_per_second': 5.74, 'epoch': 2.99, 'step': 74}, {'loss': 0.4893, 'learning_rate': 0.0011985337549142632, 'epoch': 4.0, 'step': 99}, {'eval_loss': 0.6917302012443542, 'eval_accuracy': 0.6565656565656566, 'eval_runtime': 8.6744, 'eval_samples_per_second': 45.651, 'eval_steps_per_second': 5.764, 'epoch': 4.0, 'step': 99}, {'loss': 0.528, 'learning_rate': 0.0014890873924692362, 'epoch': 4.97, 'step': 123}, {'eval_loss': 0.7644117474555969, 'eval_accuracy': 0.6262626262626263, 'eval_runtime': 8.6712, 'eval_samples_per_second': 45.669, 'eval_steps_per_second': 5.766, 'epoch': 4.97, 'step': 123}, {'loss': 0.5682, 'learning_rate': 0.0017917474315889996, 'epoch': 5.98, 'step': 148}, {'eval_loss': 0.6003207564353943, 'eval_accuracy': 0.7045454545454546, 'eval_runtime': 8.6707, 'eval_samples_per_second': 45.671, 'eval_steps_per_second': 5.767, 'epoch': 5.98, 'step': 148}, {'train_runtime': 263.7955, 'train_samples_per_second': 60.047, 'train_steps_per_second': 0.91, 'total_flos': 5679117382498560.0, 'train_loss': 0.5545170307159424, 'epoch': 5.98, 'step': 148}, {'eval_loss': 0.5553765296936035, 'eval_accuracy': 0.7247474747474747, 'eval_runtime': 8.6644, 'eval_samples_per_second': 45.704, 'eval_steps_per_second': 5.771, 'epoch': 5.98, 'step': 148}]\n"
     ]
    },
    {
     "name": "stderr",
     "output_type": "stream",
     "text": [
      "/home/ubuntu/data/miniconda3/envs/finetune-dephos/lib/python3.9/site-packages/huggingface_hub/file_download.py:1132: FutureWarning: `resume_download` is deprecated and will be removed in version 1.0.0. Downloads always resume when possible. If you want to force a new download, use `force_download=True`.\n",
      "  warnings.warn(\n",
      "Downloading shards: 100%|█████████████████████████████████████████████████████████████| 2/2 [00:56<00:00, 28.22s/it]\n",
      "Loading checkpoint shards: 100%|██████████████████████████████████████████████████████| 2/2 [01:07<00:00, 33.98s/it]\n",
      "Some weights of EsmModel were not initialized from the model checkpoint at facebook/esm2_t36_3B_UR50D and are newly initialized: ['esm.pooler.dense.bias', 'esm.pooler.dense.weight']\n",
      "You should probably TRAIN this model on a down-stream task to be able to use it for predictions and inference.\n"
     ]
    },
    {
     "name": "stdout",
     "output_type": "stream",
     "text": [
      "ESM_LoRA_Classfier\n",
      "Trainable Parameter: 2848188324.0\n",
      "ESM_LoRA_Classfier\n",
      "Trainable Parameter: 6561283.0\n",
      "\n"
     ]
    },
    {
     "name": "stderr",
     "output_type": "stream",
     "text": [
      "/home/ubuntu/data/miniconda3/envs/finetune-dephos/lib/python3.9/site-packages/accelerate/accelerator.py:446: FutureWarning: Passing the following arguments to `Accelerator` is deprecated and will be removed in version 1.0 of Accelerate: dict_keys(['dispatch_batches', 'split_batches']). Please pass an `accelerate.DataLoaderConfiguration` instead: \n",
      "dataloader_config = DataLoaderConfiguration(dispatch_batches=None, split_batches=False)\n",
      "  warnings.warn(\n"
     ]
    },
    {
     "data": {
      "text/html": [
       "\n",
       "    <div>\n",
       "      \n",
       "      <progress value='3564' max='3960' style='width:300px; height:20px; vertical-align: middle;'></progress>\n",
       "      [3564/3960 09:40 < 01:04, 6.13 it/s, Epoch 9/10]\n",
       "    </div>\n",
       "    <table border=\"1\" class=\"dataframe\">\n",
       "  <thead>\n",
       " <tr style=\"text-align: left;\">\n",
       "      <th>Epoch</th>\n",
       "      <th>Training Loss</th>\n",
       "      <th>Validation Loss</th>\n",
       "      <th>Accuracy</th>\n",
       "    </tr>\n",
       "  </thead>\n",
       "  <tbody>\n",
       "    <tr>\n",
       "      <td>1</td>\n",
       "      <td>0.659000</td>\n",
       "      <td>0.583222</td>\n",
       "      <td>0.717172</td>\n",
       "    </tr>\n",
       "    <tr>\n",
       "      <td>2</td>\n",
       "      <td>0.584600</td>\n",
       "      <td>0.540311</td>\n",
       "      <td>0.714646</td>\n",
       "    </tr>\n",
       "    <tr>\n",
       "      <td>3</td>\n",
       "      <td>0.532200</td>\n",
       "      <td>0.553353</td>\n",
       "      <td>0.717172</td>\n",
       "    </tr>\n",
       "    <tr>\n",
       "      <td>4</td>\n",
       "      <td>0.492900</td>\n",
       "      <td>0.560002</td>\n",
       "      <td>0.717172</td>\n",
       "    </tr>\n",
       "    <tr>\n",
       "      <td>5</td>\n",
       "      <td>0.454000</td>\n",
       "      <td>0.555174</td>\n",
       "      <td>0.734848</td>\n",
       "    </tr>\n",
       "    <tr>\n",
       "      <td>6</td>\n",
       "      <td>0.433200</td>\n",
       "      <td>0.579200</td>\n",
       "      <td>0.744949</td>\n",
       "    </tr>\n",
       "    <tr>\n",
       "      <td>7</td>\n",
       "      <td>0.423200</td>\n",
       "      <td>0.575328</td>\n",
       "      <td>0.742424</td>\n",
       "    </tr>\n",
       "    <tr>\n",
       "      <td>8</td>\n",
       "      <td>0.409200</td>\n",
       "      <td>0.573654</td>\n",
       "      <td>0.742424</td>\n",
       "    </tr>\n",
       "    <tr>\n",
       "      <td>9</td>\n",
       "      <td>0.389000</td>\n",
       "      <td>0.586916</td>\n",
       "      <td>0.737374</td>\n",
       "    </tr>\n",
       "  </tbody>\n",
       "</table><p>"
      ],
      "text/plain": [
       "<IPython.core.display.HTML object>"
      ]
     },
     "metadata": {},
     "output_type": "display_data"
    },
    {
     "name": "stdout",
     "output_type": "stream",
     "text": [
      "Saved improved model to ./model_output/finetuned_model_all_esm2.pth\n",
      "Saved improved model to ./model_output/finetuned_model_all_esm2.pth\n",
      "Saved improved model to ./model_output/finetuned_model_all_esm2.pth\n",
      "Saved improved model to ./model_output/finetuned_model_all_esm2.pth\n",
      "Stopping early at epoch 9.0: No improvement in loss or accuracy for 3 evaluations.\n",
      "Loaded best model from ./model_output/finetuned_model_all_esm2.pth\n"
     ]
    },
    {
     "data": {
      "text/html": [
       "\n",
       "    <div>\n",
       "      \n",
       "      <progress value='50' max='50' style='width:300px; height:20px; vertical-align: middle;'></progress>\n",
       "      [50/50 00:08]\n",
       "    </div>\n",
       "    "
      ],
      "text/plain": [
       "<IPython.core.display.HTML object>"
      ]
     },
     "metadata": {},
     "output_type": "display_data"
    },
    {
     "name": "stderr",
     "output_type": "stream",
     "text": [
      "[I 2024-06-09 20:57:11,145] Trial 17 finished with values: [0.5792003273963928, 0.7449494949494949] and parameters: {'lr': 5.861614685880086e-05, 'batch': 2, 'accum': 2, 'dropout_rate': 0.12363229222308601, 'weight_decay': 0.0001787909943778819, 'warmup_pct': 0.11976972429950468, 'lora_rank': 32, 'lora_init_scale': 0.031720788985642435, 'lora_scaling_rank': 6}. \n"
     ]
    },
    {
     "name": "stdout",
     "output_type": "stream",
     "text": [
      "Stopping early at epoch 9.0: No improvement in loss or accuracy for 3 evaluations.\n",
      "{'eval_loss': 0.5792003273963928, 'eval_accuracy': 0.7449494949494949, 'eval_runtime': 8.7152, 'eval_samples_per_second': 45.438, 'eval_steps_per_second': 5.737, 'epoch': 9.0}\n",
      "History:  [{'loss': 0.659, 'learning_rate': 2.4485225903043396e-05, 'epoch': 1.0, 'step': 396}, {'eval_loss': 0.5832223892211914, 'eval_accuracy': 0.7171717171717171, 'eval_runtime': 8.6161, 'eval_samples_per_second': 45.961, 'eval_steps_per_second': 5.803, 'epoch': 1.0, 'step': 396}, {'loss': 0.5846, 'learning_rate': 4.897045180608679e-05, 'epoch': 2.0, 'step': 792}, {'eval_loss': 0.5403109192848206, 'eval_accuracy': 0.7146464646464646, 'eval_runtime': 8.6666, 'eval_samples_per_second': 45.693, 'eval_steps_per_second': 5.769, 'epoch': 2.0, 'step': 792}, {'loss': 0.5322, 'learning_rate': 5.394553754734262e-05, 'epoch': 3.0, 'step': 1188}, {'eval_loss': 0.553352952003479, 'eval_accuracy': 0.7171717171717171, 'eval_runtime': 8.6699, 'eval_samples_per_second': 45.675, 'eval_steps_per_second': 5.767, 'epoch': 3.0, 'step': 1188}, {'loss': 0.4929, 'learning_rate': 4.6239032183436535e-05, 'epoch': 4.0, 'step': 1584}, {'eval_loss': 0.5600017309188843, 'eval_accuracy': 0.7171717171717171, 'eval_runtime': 8.6697, 'eval_samples_per_second': 45.676, 'eval_steps_per_second': 5.767, 'epoch': 4.0, 'step': 1584}, {'loss': 0.454, 'learning_rate': 3.853252681953045e-05, 'epoch': 5.0, 'step': 1980}, {'eval_loss': 0.5551736950874329, 'eval_accuracy': 0.7348484848484849, 'eval_runtime': 8.6789, 'eval_samples_per_second': 45.628, 'eval_steps_per_second': 5.761, 'epoch': 5.0, 'step': 1980}, {'loss': 0.4332, 'learning_rate': 3.082602145562435e-05, 'epoch': 6.0, 'step': 2376}, {'eval_loss': 0.5792003273963928, 'eval_accuracy': 0.7449494949494949, 'eval_runtime': 8.6799, 'eval_samples_per_second': 45.622, 'eval_steps_per_second': 5.76, 'epoch': 6.0, 'step': 2376}, {'loss': 0.4232, 'learning_rate': 2.3119516091718267e-05, 'epoch': 7.0, 'step': 2772}, {'eval_loss': 0.5753283500671387, 'eval_accuracy': 0.7424242424242424, 'eval_runtime': 8.6794, 'eval_samples_per_second': 45.625, 'eval_steps_per_second': 5.761, 'epoch': 7.0, 'step': 2772}, {'loss': 0.4092, 'learning_rate': 1.5413010727812176e-05, 'epoch': 8.0, 'step': 3168}, {'eval_loss': 0.5736544728279114, 'eval_accuracy': 0.7424242424242424, 'eval_runtime': 8.6784, 'eval_samples_per_second': 45.63, 'eval_steps_per_second': 5.761, 'epoch': 8.0, 'step': 3168}, {'loss': 0.389, 'learning_rate': 7.706505363906088e-06, 'epoch': 9.0, 'step': 3564}, {'eval_loss': 0.5869155526161194, 'eval_accuracy': 0.7373737373737373, 'eval_runtime': 8.6946, 'eval_samples_per_second': 45.546, 'eval_steps_per_second': 5.751, 'epoch': 9.0, 'step': 3564}, {'train_runtime': 580.898, 'train_samples_per_second': 27.268, 'train_steps_per_second': 6.817, 'total_flos': 8518676073747840.0, 'train_loss': 0.4863632407654014, 'epoch': 9.0, 'step': 3564}, {'eval_loss': 0.5792003273963928, 'eval_accuracy': 0.7449494949494949, 'eval_runtime': 8.7152, 'eval_samples_per_second': 45.438, 'eval_steps_per_second': 5.737, 'epoch': 9.0, 'step': 3564}]\n"
     ]
    },
    {
     "name": "stderr",
     "output_type": "stream",
     "text": [
      "/home/ubuntu/data/miniconda3/envs/finetune-dephos/lib/python3.9/site-packages/huggingface_hub/file_download.py:1132: FutureWarning: `resume_download` is deprecated and will be removed in version 1.0.0. Downloads always resume when possible. If you want to force a new download, use `force_download=True`.\n",
      "  warnings.warn(\n",
      "Downloading shards: 100%|█████████████████████████████████████████████████████████████| 2/2 [00:54<00:00, 27.25s/it]\n",
      "Loading checkpoint shards: 100%|██████████████████████████████████████████████████████| 2/2 [01:07<00:00, 33.67s/it]\n",
      "Some weights of EsmModel were not initialized from the model checkpoint at facebook/esm2_t36_3B_UR50D and are newly initialized: ['esm.pooler.dense.bias', 'esm.pooler.dense.weight']\n",
      "You should probably TRAIN this model on a down-stream task to be able to use it for predictions and inference.\n"
     ]
    },
    {
     "name": "stdout",
     "output_type": "stream",
     "text": [
      "ESM_LoRA_Classfier\n",
      "Trainable Parameter: 2848188324.0\n",
      "ESM_LoRA_Classfier\n",
      "Trainable Parameter: 6561283.0\n",
      "\n"
     ]
    },
    {
     "name": "stderr",
     "output_type": "stream",
     "text": [
      "/home/ubuntu/data/miniconda3/envs/finetune-dephos/lib/python3.9/site-packages/accelerate/accelerator.py:446: FutureWarning: Passing the following arguments to `Accelerator` is deprecated and will be removed in version 1.0 of Accelerate: dict_keys(['dispatch_batches', 'split_batches']). Please pass an `accelerate.DataLoaderConfiguration` instead: \n",
      "dataloader_config = DataLoaderConfiguration(dispatch_batches=None, split_batches=False)\n",
      "  warnings.warn(\n"
     ]
    },
    {
     "data": {
      "text/html": [
       "\n",
       "    <div>\n",
       "      \n",
       "      <progress value='990' max='990' style='width:300px; height:20px; vertical-align: middle;'></progress>\n",
       "      [990/990 10:35, Epoch 10/10]\n",
       "    </div>\n",
       "    <table border=\"1\" class=\"dataframe\">\n",
       "  <thead>\n",
       " <tr style=\"text-align: left;\">\n",
       "      <th>Epoch</th>\n",
       "      <th>Training Loss</th>\n",
       "      <th>Validation Loss</th>\n",
       "      <th>Accuracy</th>\n",
       "    </tr>\n",
       "  </thead>\n",
       "  <tbody>\n",
       "    <tr>\n",
       "      <td>1</td>\n",
       "      <td>0.707400</td>\n",
       "      <td>0.680873</td>\n",
       "      <td>0.621212</td>\n",
       "    </tr>\n",
       "    <tr>\n",
       "      <td>2</td>\n",
       "      <td>0.681600</td>\n",
       "      <td>0.653198</td>\n",
       "      <td>0.696970</td>\n",
       "    </tr>\n",
       "    <tr>\n",
       "      <td>3</td>\n",
       "      <td>0.670700</td>\n",
       "      <td>0.626701</td>\n",
       "      <td>0.669192</td>\n",
       "    </tr>\n",
       "    <tr>\n",
       "      <td>4</td>\n",
       "      <td>0.633500</td>\n",
       "      <td>0.599947</td>\n",
       "      <td>0.704545</td>\n",
       "    </tr>\n",
       "    <tr>\n",
       "      <td>5</td>\n",
       "      <td>0.629300</td>\n",
       "      <td>0.581536</td>\n",
       "      <td>0.714646</td>\n",
       "    </tr>\n",
       "    <tr>\n",
       "      <td>6</td>\n",
       "      <td>0.600700</td>\n",
       "      <td>0.562289</td>\n",
       "      <td>0.742424</td>\n",
       "    </tr>\n",
       "    <tr>\n",
       "      <td>7</td>\n",
       "      <td>0.570200</td>\n",
       "      <td>0.549191</td>\n",
       "      <td>0.742424</td>\n",
       "    </tr>\n",
       "    <tr>\n",
       "      <td>8</td>\n",
       "      <td>0.555400</td>\n",
       "      <td>0.540098</td>\n",
       "      <td>0.737374</td>\n",
       "    </tr>\n",
       "    <tr>\n",
       "      <td>9</td>\n",
       "      <td>0.548400</td>\n",
       "      <td>0.534835</td>\n",
       "      <td>0.739899</td>\n",
       "    </tr>\n",
       "    <tr>\n",
       "      <td>10</td>\n",
       "      <td>0.537100</td>\n",
       "      <td>0.531215</td>\n",
       "      <td>0.737374</td>\n",
       "    </tr>\n",
       "  </tbody>\n",
       "</table><p>"
      ],
      "text/plain": [
       "<IPython.core.display.HTML object>"
      ]
     },
     "metadata": {},
     "output_type": "display_data"
    },
    {
     "name": "stdout",
     "output_type": "stream",
     "text": [
      "Saved improved model to ./model_output/finetuned_model_all_esm2.pth\n",
      "Saved improved model to ./model_output/finetuned_model_all_esm2.pth\n",
      "Saved improved model to ./model_output/finetuned_model_all_esm2.pth\n",
      "Saved improved model to ./model_output/finetuned_model_all_esm2.pth\n",
      "Saved improved model to ./model_output/finetuned_model_all_esm2.pth\n",
      "Saved improved model to ./model_output/finetuned_model_all_esm2.pth\n",
      "Saved improved model to ./model_output/finetuned_model_all_esm2.pth\n",
      "Saved improved model to ./model_output/finetuned_model_all_esm2.pth\n",
      "Saved improved model to ./model_output/finetuned_model_all_esm2.pth\n",
      "Saved improved model to ./model_output/finetuned_model_all_esm2.pth\n",
      "Loaded best model from ./model_output/finetuned_model_all_esm2.pth\n"
     ]
    },
    {
     "data": {
      "text/html": [
       "\n",
       "    <div>\n",
       "      \n",
       "      <progress value='50' max='50' style='width:300px; height:20px; vertical-align: middle;'></progress>\n",
       "      [50/50 00:08]\n",
       "    </div>\n",
       "    "
      ],
      "text/plain": [
       "<IPython.core.display.HTML object>"
      ]
     },
     "metadata": {},
     "output_type": "display_data"
    },
    {
     "name": "stderr",
     "output_type": "stream",
     "text": [
      "[I 2024-06-09 21:10:56,683] Trial 18 finished with values: [0.531215488910675, 0.7373737373737373] and parameters: {'lr': 6.724006857418989e-05, 'batch': 2, 'accum': 8, 'dropout_rate': 0.5926798576128591, 'weight_decay': 2.6860258290557064e-05, 'warmup_pct': 0.14012714825778705, 'lora_rank': 16, 'lora_init_scale': 0.02787198897177987, 'lora_scaling_rank': 5}. \n"
     ]
    },
    {
     "name": "stdout",
     "output_type": "stream",
     "text": [
      "{'eval_loss': 0.531215488910675, 'eval_accuracy': 0.7373737373737373, 'eval_runtime': 8.7028, 'eval_samples_per_second': 45.503, 'eval_steps_per_second': 5.745, 'epoch': 10.0}\n",
      "History:  [{'loss': 0.7074, 'learning_rate': 6.002494850175653e-06, 'epoch': 1.0, 'step': 99}, {'eval_loss': 0.6808733940124512, 'eval_accuracy': 0.6212121212121212, 'eval_runtime': 8.6212, 'eval_samples_per_second': 45.934, 'eval_steps_per_second': 5.8, 'epoch': 1.0, 'step': 99}, {'loss': 0.6816, 'learning_rate': 1.2004989700351306e-05, 'epoch': 2.0, 'step': 198}, {'eval_loss': 0.6531978845596313, 'eval_accuracy': 0.696969696969697, 'eval_runtime': 8.6743, 'eval_samples_per_second': 45.652, 'eval_steps_per_second': 5.764, 'epoch': 2.0, 'step': 198}, {'loss': 0.6707, 'learning_rate': 1.800748455052696e-05, 'epoch': 3.0, 'step': 297}, {'eval_loss': 0.6267011165618896, 'eval_accuracy': 0.6691919191919192, 'eval_runtime': 8.6829, 'eval_samples_per_second': 45.607, 'eval_steps_per_second': 5.758, 'epoch': 3.0, 'step': 297}, {'loss': 0.6335, 'learning_rate': 2.400997940070261e-05, 'epoch': 4.0, 'step': 396}, {'eval_loss': 0.5999466776847839, 'eval_accuracy': 0.7045454545454546, 'eval_runtime': 8.691, 'eval_samples_per_second': 45.564, 'eval_steps_per_second': 5.753, 'epoch': 4.0, 'step': 396}, {'loss': 0.6293, 'learning_rate': 3.0012474250878264e-05, 'epoch': 5.0, 'step': 495}, {'eval_loss': 0.5815358757972717, 'eval_accuracy': 0.7146464646464646, 'eval_runtime': 8.6913, 'eval_samples_per_second': 45.563, 'eval_steps_per_second': 5.753, 'epoch': 5.0, 'step': 495}, {'loss': 0.6007, 'learning_rate': 3.601496910105392e-05, 'epoch': 6.0, 'step': 594}, {'eval_loss': 0.5622891783714294, 'eval_accuracy': 0.7424242424242424, 'eval_runtime': 8.6921, 'eval_samples_per_second': 45.559, 'eval_steps_per_second': 5.752, 'epoch': 6.0, 'step': 594}, {'loss': 0.5702, 'learning_rate': 4.2017463951229575e-05, 'epoch': 7.0, 'step': 693}, {'eval_loss': 0.5491910576820374, 'eval_accuracy': 0.7424242424242424, 'eval_runtime': 8.6994, 'eval_samples_per_second': 45.52, 'eval_steps_per_second': 5.748, 'epoch': 7.0, 'step': 693}, {'loss': 0.5554, 'learning_rate': 4.801995880140522e-05, 'epoch': 8.0, 'step': 792}, {'eval_loss': 0.5400984883308411, 'eval_accuracy': 0.7373737373737373, 'eval_runtime': 8.6949, 'eval_samples_per_second': 45.544, 'eval_steps_per_second': 5.75, 'epoch': 8.0, 'step': 792}, {'loss': 0.5484, 'learning_rate': 5.402245365158088e-05, 'epoch': 9.0, 'step': 891}, {'eval_loss': 0.5348349809646606, 'eval_accuracy': 0.73989898989899, 'eval_runtime': 8.7005, 'eval_samples_per_second': 45.515, 'eval_steps_per_second': 5.747, 'epoch': 9.0, 'step': 891}, {'loss': 0.5371, 'learning_rate': 6.002494850175653e-05, 'epoch': 10.0, 'step': 990}, {'eval_loss': 0.531215488910675, 'eval_accuracy': 0.7373737373737373, 'eval_runtime': 8.7076, 'eval_samples_per_second': 45.478, 'eval_steps_per_second': 5.742, 'epoch': 10.0, 'step': 990}, {'train_runtime': 635.973, 'train_samples_per_second': 24.907, 'train_steps_per_second': 1.557, 'total_flos': 9465195637497600.0, 'train_loss': 0.6134379724059442, 'epoch': 10.0, 'step': 990}, {'eval_loss': 0.531215488910675, 'eval_accuracy': 0.7373737373737373, 'eval_runtime': 8.7028, 'eval_samples_per_second': 45.503, 'eval_steps_per_second': 5.745, 'epoch': 10.0, 'step': 990}]\n"
     ]
    },
    {
     "name": "stderr",
     "output_type": "stream",
     "text": [
      "/home/ubuntu/data/miniconda3/envs/finetune-dephos/lib/python3.9/site-packages/huggingface_hub/file_download.py:1132: FutureWarning: `resume_download` is deprecated and will be removed in version 1.0.0. Downloads always resume when possible. If you want to force a new download, use `force_download=True`.\n",
      "  warnings.warn(\n",
      "Downloading shards: 100%|█████████████████████████████████████████████████████████████| 2/2 [00:54<00:00, 27.17s/it]\n",
      "Loading checkpoint shards: 100%|██████████████████████████████████████████████████████| 2/2 [01:10<00:00, 35.26s/it]\n",
      "Some weights of EsmModel were not initialized from the model checkpoint at facebook/esm2_t36_3B_UR50D and are newly initialized: ['esm.pooler.dense.bias', 'esm.pooler.dense.weight']\n",
      "You should probably TRAIN this model on a down-stream task to be able to use it for predictions and inference.\n"
     ]
    },
    {
     "name": "stdout",
     "output_type": "stream",
     "text": [
      "ESM_LoRA_Classfier\n",
      "Trainable Parameter: 2848188324.0\n",
      "ESM_LoRA_Classfier\n",
      "Trainable Parameter: 6561283.0\n",
      "\n"
     ]
    },
    {
     "name": "stderr",
     "output_type": "stream",
     "text": [
      "/home/ubuntu/data/miniconda3/envs/finetune-dephos/lib/python3.9/site-packages/accelerate/accelerator.py:446: FutureWarning: Passing the following arguments to `Accelerator` is deprecated and will be removed in version 1.0 of Accelerate: dict_keys(['dispatch_batches', 'split_batches']). Please pass an `accelerate.DataLoaderConfiguration` instead: \n",
      "dataloader_config = DataLoaderConfiguration(dispatch_batches=None, split_batches=False)\n",
      "  warnings.warn(\n"
     ]
    },
    {
     "data": {
      "text/html": [
       "\n",
       "    <div>\n",
       "      \n",
       "      <progress value='990' max='990' style='width:300px; height:20px; vertical-align: middle;'></progress>\n",
       "      [990/990 10:32, Epoch 10/10]\n",
       "    </div>\n",
       "    <table border=\"1\" class=\"dataframe\">\n",
       "  <thead>\n",
       " <tr style=\"text-align: left;\">\n",
       "      <th>Epoch</th>\n",
       "      <th>Training Loss</th>\n",
       "      <th>Validation Loss</th>\n",
       "      <th>Accuracy</th>\n",
       "    </tr>\n",
       "  </thead>\n",
       "  <tbody>\n",
       "    <tr>\n",
       "      <td>1</td>\n",
       "      <td>0.634900</td>\n",
       "      <td>0.575252</td>\n",
       "      <td>0.686869</td>\n",
       "    </tr>\n",
       "    <tr>\n",
       "      <td>2</td>\n",
       "      <td>0.557300</td>\n",
       "      <td>0.548165</td>\n",
       "      <td>0.712121</td>\n",
       "    </tr>\n",
       "    <tr>\n",
       "      <td>3</td>\n",
       "      <td>0.482700</td>\n",
       "      <td>0.534077</td>\n",
       "      <td>0.724747</td>\n",
       "    </tr>\n",
       "    <tr>\n",
       "      <td>4</td>\n",
       "      <td>0.451200</td>\n",
       "      <td>0.559693</td>\n",
       "      <td>0.727273</td>\n",
       "    </tr>\n",
       "    <tr>\n",
       "      <td>5</td>\n",
       "      <td>0.421700</td>\n",
       "      <td>0.614763</td>\n",
       "      <td>0.691919</td>\n",
       "    </tr>\n",
       "    <tr>\n",
       "      <td>6</td>\n",
       "      <td>0.399800</td>\n",
       "      <td>0.560401</td>\n",
       "      <td>0.732323</td>\n",
       "    </tr>\n",
       "    <tr>\n",
       "      <td>7</td>\n",
       "      <td>0.383800</td>\n",
       "      <td>0.582763</td>\n",
       "      <td>0.709596</td>\n",
       "    </tr>\n",
       "    <tr>\n",
       "      <td>8</td>\n",
       "      <td>0.382000</td>\n",
       "      <td>0.590178</td>\n",
       "      <td>0.719697</td>\n",
       "    </tr>\n",
       "    <tr>\n",
       "      <td>9</td>\n",
       "      <td>0.372800</td>\n",
       "      <td>0.573864</td>\n",
       "      <td>0.734848</td>\n",
       "    </tr>\n",
       "    <tr>\n",
       "      <td>10</td>\n",
       "      <td>0.344100</td>\n",
       "      <td>0.570909</td>\n",
       "      <td>0.742424</td>\n",
       "    </tr>\n",
       "  </tbody>\n",
       "</table><p>"
      ],
      "text/plain": [
       "<IPython.core.display.HTML object>"
      ]
     },
     "metadata": {},
     "output_type": "display_data"
    },
    {
     "name": "stdout",
     "output_type": "stream",
     "text": [
      "Saved improved model to ./model_output/finetuned_model_all_esm2.pth\n",
      "Saved improved model to ./model_output/finetuned_model_all_esm2.pth\n",
      "Saved improved model to ./model_output/finetuned_model_all_esm2.pth\n",
      "Saved improved model to ./model_output/finetuned_model_all_esm2.pth\n",
      "Saved improved model to ./model_output/finetuned_model_all_esm2.pth\n",
      "Saved improved model to ./model_output/finetuned_model_all_esm2.pth\n",
      "Saved improved model to ./model_output/finetuned_model_all_esm2.pth\n",
      "Loaded best model from ./model_output/finetuned_model_all_esm2.pth\n"
     ]
    },
    {
     "data": {
      "text/html": [
       "\n",
       "    <div>\n",
       "      \n",
       "      <progress value='50' max='50' style='width:300px; height:20px; vertical-align: middle;'></progress>\n",
       "      [50/50 00:08]\n",
       "    </div>\n",
       "    "
      ],
      "text/plain": [
       "<IPython.core.display.HTML object>"
      ]
     },
     "metadata": {},
     "output_type": "display_data"
    },
    {
     "name": "stderr",
     "output_type": "stream",
     "text": [
      "[I 2024-06-09 21:24:40,953] Trial 19 finished with values: [0.5709091424942017, 0.7424242424242424] and parameters: {'lr': 0.00025199343097331785, 'batch': 2, 'accum': 8, 'dropout_rate': 0.23385750980680556, 'weight_decay': 0.00017210624751179775, 'warmup_pct': 0.012806802442164446, 'lora_rank': 8, 'lora_init_scale': 0.09825405617337031, 'lora_scaling_rank': 8}. \n"
     ]
    },
    {
     "name": "stdout",
     "output_type": "stream",
     "text": [
      "{'eval_loss': 0.5709091424942017, 'eval_accuracy': 0.7424242424242424, 'eval_runtime': 8.7027, 'eval_samples_per_second': 45.503, 'eval_steps_per_second': 5.745, 'epoch': 10.0}\n",
      "History:  [{'loss': 0.6349, 'learning_rate': 0.0002470034620431531, 'epoch': 1.0, 'step': 99}, {'eval_loss': 0.5752522349357605, 'eval_accuracy': 0.6868686868686869, 'eval_runtime': 8.623, 'eval_samples_per_second': 45.924, 'eval_steps_per_second': 5.798, 'epoch': 1.0, 'step': 99}, {'loss': 0.5573, 'learning_rate': 0.00022449808473663414, 'epoch': 2.0, 'step': 198}, {'eval_loss': 0.5481652021408081, 'eval_accuracy': 0.7121212121212122, 'eval_runtime': 8.6717, 'eval_samples_per_second': 45.666, 'eval_steps_per_second': 5.766, 'epoch': 2.0, 'step': 198}, {'loss': 0.4827, 'learning_rate': 0.00019643582414455483, 'epoch': 3.0, 'step': 297}, {'eval_loss': 0.5340770483016968, 'eval_accuracy': 0.7247474747474747, 'eval_runtime': 8.6751, 'eval_samples_per_second': 45.648, 'eval_steps_per_second': 5.764, 'epoch': 3.0, 'step': 297}, {'loss': 0.4512, 'learning_rate': 0.00016837356355247558, 'epoch': 4.0, 'step': 396}, {'eval_loss': 0.5596926808357239, 'eval_accuracy': 0.7272727272727273, 'eval_runtime': 8.6784, 'eval_samples_per_second': 45.631, 'eval_steps_per_second': 5.761, 'epoch': 4.0, 'step': 396}, {'loss': 0.4217, 'learning_rate': 0.0001403113029603963, 'epoch': 5.0, 'step': 495}, {'eval_loss': 0.6147626042366028, 'eval_accuracy': 0.6919191919191919, 'eval_runtime': 8.6857, 'eval_samples_per_second': 45.592, 'eval_steps_per_second': 5.757, 'epoch': 5.0, 'step': 495}, {'loss': 0.3998, 'learning_rate': 0.00011224904236831707, 'epoch': 6.0, 'step': 594}, {'eval_loss': 0.5604007244110107, 'eval_accuracy': 0.7323232323232324, 'eval_runtime': 8.6879, 'eval_samples_per_second': 45.581, 'eval_steps_per_second': 5.755, 'epoch': 6.0, 'step': 594}, {'loss': 0.3838, 'learning_rate': 8.418678177623779e-05, 'epoch': 7.0, 'step': 693}, {'eval_loss': 0.5827627182006836, 'eval_accuracy': 0.7095959595959596, 'eval_runtime': 8.694, 'eval_samples_per_second': 45.548, 'eval_steps_per_second': 5.751, 'epoch': 7.0, 'step': 693}, {'loss': 0.382, 'learning_rate': 5.6124521184158534e-05, 'epoch': 8.0, 'step': 792}, {'eval_loss': 0.5901780724525452, 'eval_accuracy': 0.7196969696969697, 'eval_runtime': 8.7062, 'eval_samples_per_second': 45.485, 'eval_steps_per_second': 5.743, 'epoch': 8.0, 'step': 792}, {'loss': 0.3728, 'learning_rate': 2.8062260592079267e-05, 'epoch': 9.0, 'step': 891}, {'eval_loss': 0.5738635063171387, 'eval_accuracy': 0.7348484848484849, 'eval_runtime': 8.7109, 'eval_samples_per_second': 45.46, 'eval_steps_per_second': 5.74, 'epoch': 9.0, 'step': 891}, {'loss': 0.3441, 'learning_rate': 0.0, 'epoch': 10.0, 'step': 990}, {'eval_loss': 0.5709091424942017, 'eval_accuracy': 0.7424242424242424, 'eval_runtime': 8.7021, 'eval_samples_per_second': 45.506, 'eval_steps_per_second': 5.746, 'epoch': 10.0, 'step': 990}, {'train_runtime': 633.1754, 'train_samples_per_second': 25.017, 'train_steps_per_second': 1.564, 'total_flos': 9465195637497600.0, 'train_loss': 0.44302303044482916, 'epoch': 10.0, 'step': 990}, {'eval_loss': 0.5709091424942017, 'eval_accuracy': 0.7424242424242424, 'eval_runtime': 8.7027, 'eval_samples_per_second': 45.503, 'eval_steps_per_second': 5.745, 'epoch': 10.0, 'step': 990}]\n"
     ]
    },
    {
     "name": "stderr",
     "output_type": "stream",
     "text": [
      "/home/ubuntu/data/miniconda3/envs/finetune-dephos/lib/python3.9/site-packages/huggingface_hub/file_download.py:1132: FutureWarning: `resume_download` is deprecated and will be removed in version 1.0.0. Downloads always resume when possible. If you want to force a new download, use `force_download=True`.\n",
      "  warnings.warn(\n",
      "Downloading shards: 100%|█████████████████████████████████████████████████████████████| 2/2 [01:00<00:00, 30.03s/it]\n",
      "Loading checkpoint shards: 100%|██████████████████████████████████████████████████████| 2/2 [01:07<00:00, 33.61s/it]\n",
      "Some weights of EsmModel were not initialized from the model checkpoint at facebook/esm2_t36_3B_UR50D and are newly initialized: ['esm.pooler.dense.bias', 'esm.pooler.dense.weight']\n",
      "You should probably TRAIN this model on a down-stream task to be able to use it for predictions and inference.\n"
     ]
    },
    {
     "name": "stdout",
     "output_type": "stream",
     "text": [
      "ESM_LoRA_Classfier\n",
      "Trainable Parameter: 2848188324.0\n",
      "ESM_LoRA_Classfier\n",
      "Trainable Parameter: 6561283.0\n",
      "\n"
     ]
    },
    {
     "name": "stderr",
     "output_type": "stream",
     "text": [
      "/home/ubuntu/data/miniconda3/envs/finetune-dephos/lib/python3.9/site-packages/accelerate/accelerator.py:446: FutureWarning: Passing the following arguments to `Accelerator` is deprecated and will be removed in version 1.0 of Accelerate: dict_keys(['dispatch_batches', 'split_batches']). Please pass an `accelerate.DataLoaderConfiguration` instead: \n",
      "dataloader_config = DataLoaderConfiguration(dispatch_batches=None, split_batches=False)\n",
      "  warnings.warn(\n"
     ]
    },
    {
     "data": {
      "text/html": [
       "\n",
       "    <div>\n",
       "      \n",
       "      <progress value='1980' max='1980' style='width:300px; height:20px; vertical-align: middle;'></progress>\n",
       "      [1980/1980 09:19, Epoch 10/10]\n",
       "    </div>\n",
       "    <table border=\"1\" class=\"dataframe\">\n",
       "  <thead>\n",
       " <tr style=\"text-align: left;\">\n",
       "      <th>Epoch</th>\n",
       "      <th>Training Loss</th>\n",
       "      <th>Validation Loss</th>\n",
       "      <th>Accuracy</th>\n",
       "    </tr>\n",
       "  </thead>\n",
       "  <tbody>\n",
       "    <tr>\n",
       "      <td>1</td>\n",
       "      <td>1.673800</td>\n",
       "      <td>3.179976</td>\n",
       "      <td>0.517677</td>\n",
       "    </tr>\n",
       "    <tr>\n",
       "      <td>2</td>\n",
       "      <td>4.623800</td>\n",
       "      <td>5.690728</td>\n",
       "      <td>0.520202</td>\n",
       "    </tr>\n",
       "    <tr>\n",
       "      <td>3</td>\n",
       "      <td>4.799000</td>\n",
       "      <td>2.739230</td>\n",
       "      <td>0.601010</td>\n",
       "    </tr>\n",
       "    <tr>\n",
       "      <td>4</td>\n",
       "      <td>4.710000</td>\n",
       "      <td>1.354033</td>\n",
       "      <td>0.689394</td>\n",
       "    </tr>\n",
       "    <tr>\n",
       "      <td>5</td>\n",
       "      <td>4.705600</td>\n",
       "      <td>1.894738</td>\n",
       "      <td>0.659091</td>\n",
       "    </tr>\n",
       "    <tr>\n",
       "      <td>6</td>\n",
       "      <td>4.624200</td>\n",
       "      <td>1.387086</td>\n",
       "      <td>0.679293</td>\n",
       "    </tr>\n",
       "    <tr>\n",
       "      <td>7</td>\n",
       "      <td>4.052300</td>\n",
       "      <td>1.150091</td>\n",
       "      <td>0.699495</td>\n",
       "    </tr>\n",
       "    <tr>\n",
       "      <td>8</td>\n",
       "      <td>3.384200</td>\n",
       "      <td>1.113437</td>\n",
       "      <td>0.719697</td>\n",
       "    </tr>\n",
       "    <tr>\n",
       "      <td>9</td>\n",
       "      <td>3.163900</td>\n",
       "      <td>1.081378</td>\n",
       "      <td>0.709596</td>\n",
       "    </tr>\n",
       "    <tr>\n",
       "      <td>10</td>\n",
       "      <td>2.870700</td>\n",
       "      <td>1.010943</td>\n",
       "      <td>0.714646</td>\n",
       "    </tr>\n",
       "  </tbody>\n",
       "</table><p>"
      ],
      "text/plain": [
       "<IPython.core.display.HTML object>"
      ]
     },
     "metadata": {},
     "output_type": "display_data"
    },
    {
     "name": "stdout",
     "output_type": "stream",
     "text": [
      "Saved improved model to ./model_output/finetuned_model_all_esm2.pth\n",
      "Saved improved model to ./model_output/finetuned_model_all_esm2.pth\n",
      "Saved improved model to ./model_output/finetuned_model_all_esm2.pth\n",
      "Saved improved model to ./model_output/finetuned_model_all_esm2.pth\n",
      "Saved improved model to ./model_output/finetuned_model_all_esm2.pth\n",
      "Saved improved model to ./model_output/finetuned_model_all_esm2.pth\n",
      "Saved improved model to ./model_output/finetuned_model_all_esm2.pth\n",
      "Saved improved model to ./model_output/finetuned_model_all_esm2.pth\n",
      "Loaded best model from ./model_output/finetuned_model_all_esm2.pth\n"
     ]
    },
    {
     "data": {
      "text/html": [
       "\n",
       "    <div>\n",
       "      \n",
       "      <progress value='50' max='50' style='width:300px; height:20px; vertical-align: middle;'></progress>\n",
       "      [50/50 00:08]\n",
       "    </div>\n",
       "    "
      ],
      "text/plain": [
       "<IPython.core.display.HTML object>"
      ]
     },
     "metadata": {},
     "output_type": "display_data"
    },
    {
     "name": "stderr",
     "output_type": "stream",
     "text": [
      "[I 2024-06-09 21:37:16,243] Trial 20 finished with values: [1.0109426975250244, 0.7146464646464646] and parameters: {'lr': 0.005602460965274027, 'batch': 4, 'accum': 2, 'dropout_rate': 0.8134086411662094, 'weight_decay': 1.4705112642535287e-05, 'warmup_pct': 0.04649328663158226, 'lora_rank': 4, 'lora_init_scale': 0.002432657509044135, 'lora_scaling_rank': 7}. \n"
     ]
    },
    {
     "name": "stdout",
     "output_type": "stream",
     "text": [
      "{'eval_loss': 1.0109426975250244, 'eval_accuracy': 0.7146464646464646, 'eval_runtime': 8.6937, 'eval_samples_per_second': 45.55, 'eval_steps_per_second': 5.751, 'epoch': 10.0}\n",
      "History:  [{'loss': 1.6738, 'learning_rate': 0.0055587892205558554, 'epoch': 1.0, 'step': 198}, {'eval_loss': 3.1799755096435547, 'eval_accuracy': 0.5176767676767676, 'eval_runtime': 8.6195, 'eval_samples_per_second': 45.942, 'eval_steps_per_second': 5.801, 'epoch': 1.0, 'step': 198}, {'loss': 4.6238, 'learning_rate': 0.004941145973827427, 'epoch': 2.0, 'step': 396}, {'eval_loss': 5.690728187561035, 'eval_accuracy': 0.5202020202020202, 'eval_runtime': 8.6709, 'eval_samples_per_second': 45.67, 'eval_steps_per_second': 5.766, 'epoch': 2.0, 'step': 396}, {'loss': 4.799, 'learning_rate': 0.004323502727098998, 'epoch': 3.0, 'step': 594}, {'eval_loss': 2.739230155944824, 'eval_accuracy': 0.601010101010101, 'eval_runtime': 8.6784, 'eval_samples_per_second': 45.631, 'eval_steps_per_second': 5.761, 'epoch': 3.0, 'step': 594}, {'loss': 4.71, 'learning_rate': 0.00370585948037057, 'epoch': 4.0, 'step': 792}, {'eval_loss': 1.3540327548980713, 'eval_accuracy': 0.6893939393939394, 'eval_runtime': 8.7228, 'eval_samples_per_second': 45.398, 'eval_steps_per_second': 5.732, 'epoch': 4.0, 'step': 792}, {'loss': 4.7056, 'learning_rate': 0.0030882162336421416, 'epoch': 5.0, 'step': 990}, {'eval_loss': 1.8947378396987915, 'eval_accuracy': 0.6590909090909091, 'eval_runtime': 8.7273, 'eval_samples_per_second': 45.375, 'eval_steps_per_second': 5.729, 'epoch': 5.0, 'step': 990}, {'loss': 4.6242, 'learning_rate': 0.0024705729869137134, 'epoch': 6.0, 'step': 1188}, {'eval_loss': 1.3870861530303955, 'eval_accuracy': 0.6792929292929293, 'eval_runtime': 8.6893, 'eval_samples_per_second': 45.573, 'eval_steps_per_second': 5.754, 'epoch': 6.0, 'step': 1188}, {'loss': 4.0523, 'learning_rate': 0.001852929740185285, 'epoch': 7.0, 'step': 1386}, {'eval_loss': 1.1500906944274902, 'eval_accuracy': 0.6994949494949495, 'eval_runtime': 8.6872, 'eval_samples_per_second': 45.584, 'eval_steps_per_second': 5.756, 'epoch': 7.0, 'step': 1386}, {'loss': 3.3842, 'learning_rate': 0.0012352864934568567, 'epoch': 8.0, 'step': 1584}, {'eval_loss': 1.1134368181228638, 'eval_accuracy': 0.7196969696969697, 'eval_runtime': 8.6867, 'eval_samples_per_second': 45.587, 'eval_steps_per_second': 5.756, 'epoch': 8.0, 'step': 1584}, {'loss': 3.1639, 'learning_rate': 0.0006176432467284283, 'epoch': 9.0, 'step': 1782}, {'eval_loss': 1.0813778638839722, 'eval_accuracy': 0.7095959595959596, 'eval_runtime': 8.6987, 'eval_samples_per_second': 45.524, 'eval_steps_per_second': 5.748, 'epoch': 9.0, 'step': 1782}, {'loss': 2.8707, 'learning_rate': 0.0, 'epoch': 10.0, 'step': 1980}, {'eval_loss': 1.0109426975250244, 'eval_accuracy': 0.7146464646464646, 'eval_runtime': 8.6944, 'eval_samples_per_second': 45.547, 'eval_steps_per_second': 5.751, 'epoch': 10.0, 'step': 1980}, {'train_runtime': 559.6495, 'train_samples_per_second': 28.303, 'train_steps_per_second': 3.538, 'total_flos': 9465195637497600.0, 'train_loss': 3.860762116403291, 'epoch': 10.0, 'step': 1980}, {'eval_loss': 1.0109426975250244, 'eval_accuracy': 0.7146464646464646, 'eval_runtime': 8.6937, 'eval_samples_per_second': 45.55, 'eval_steps_per_second': 5.751, 'epoch': 10.0, 'step': 1980}]\n"
     ]
    },
    {
     "name": "stderr",
     "output_type": "stream",
     "text": [
      "/home/ubuntu/data/miniconda3/envs/finetune-dephos/lib/python3.9/site-packages/huggingface_hub/file_download.py:1132: FutureWarning: `resume_download` is deprecated and will be removed in version 1.0.0. Downloads always resume when possible. If you want to force a new download, use `force_download=True`.\n",
      "  warnings.warn(\n",
      "Downloading shards: 100%|█████████████████████████████████████████████████████████████| 2/2 [00:56<00:00, 28.41s/it]\n",
      "Loading checkpoint shards: 100%|██████████████████████████████████████████████████████| 2/2 [01:00<00:00, 30.12s/it]\n",
      "Some weights of EsmModel were not initialized from the model checkpoint at facebook/esm2_t36_3B_UR50D and are newly initialized: ['esm.pooler.dense.bias', 'esm.pooler.dense.weight']\n",
      "You should probably TRAIN this model on a down-stream task to be able to use it for predictions and inference.\n"
     ]
    },
    {
     "name": "stdout",
     "output_type": "stream",
     "text": [
      "ESM_LoRA_Classfier\n",
      "Trainable Parameter: 2848188324.0\n",
      "ESM_LoRA_Classfier\n",
      "Trainable Parameter: 6561283.0\n",
      "\n"
     ]
    },
    {
     "name": "stderr",
     "output_type": "stream",
     "text": [
      "/home/ubuntu/data/miniconda3/envs/finetune-dephos/lib/python3.9/site-packages/accelerate/accelerator.py:446: FutureWarning: Passing the following arguments to `Accelerator` is deprecated and will be removed in version 1.0 of Accelerate: dict_keys(['dispatch_batches', 'split_batches']). Please pass an `accelerate.DataLoaderConfiguration` instead: \n",
      "dataloader_config = DataLoaderConfiguration(dispatch_batches=None, split_batches=False)\n",
      "  warnings.warn(\n"
     ]
    },
    {
     "data": {
      "text/html": [
       "\n",
       "    <div>\n",
       "      \n",
       "      <progress value='990' max='990' style='width:300px; height:20px; vertical-align: middle;'></progress>\n",
       "      [990/990 10:32, Epoch 10/10]\n",
       "    </div>\n",
       "    <table border=\"1\" class=\"dataframe\">\n",
       "  <thead>\n",
       " <tr style=\"text-align: left;\">\n",
       "      <th>Epoch</th>\n",
       "      <th>Training Loss</th>\n",
       "      <th>Validation Loss</th>\n",
       "      <th>Accuracy</th>\n",
       "    </tr>\n",
       "  </thead>\n",
       "  <tbody>\n",
       "    <tr>\n",
       "      <td>1</td>\n",
       "      <td>0.745300</td>\n",
       "      <td>0.691377</td>\n",
       "      <td>0.517677</td>\n",
       "    </tr>\n",
       "    <tr>\n",
       "      <td>2</td>\n",
       "      <td>0.739700</td>\n",
       "      <td>0.682610</td>\n",
       "      <td>0.616162</td>\n",
       "    </tr>\n",
       "    <tr>\n",
       "      <td>3</td>\n",
       "      <td>0.750900</td>\n",
       "      <td>0.672260</td>\n",
       "      <td>0.664141</td>\n",
       "    </tr>\n",
       "    <tr>\n",
       "      <td>4</td>\n",
       "      <td>0.713200</td>\n",
       "      <td>0.660251</td>\n",
       "      <td>0.636364</td>\n",
       "    </tr>\n",
       "    <tr>\n",
       "      <td>5</td>\n",
       "      <td>0.729000</td>\n",
       "      <td>0.650711</td>\n",
       "      <td>0.691919</td>\n",
       "    </tr>\n",
       "    <tr>\n",
       "      <td>6</td>\n",
       "      <td>0.714700</td>\n",
       "      <td>0.644576</td>\n",
       "      <td>0.686869</td>\n",
       "    </tr>\n",
       "    <tr>\n",
       "      <td>7</td>\n",
       "      <td>0.712500</td>\n",
       "      <td>0.640212</td>\n",
       "      <td>0.689394</td>\n",
       "    </tr>\n",
       "    <tr>\n",
       "      <td>8</td>\n",
       "      <td>0.704700</td>\n",
       "      <td>0.637500</td>\n",
       "      <td>0.689394</td>\n",
       "    </tr>\n",
       "    <tr>\n",
       "      <td>9</td>\n",
       "      <td>0.695800</td>\n",
       "      <td>0.636107</td>\n",
       "      <td>0.686869</td>\n",
       "    </tr>\n",
       "    <tr>\n",
       "      <td>10</td>\n",
       "      <td>0.714100</td>\n",
       "      <td>0.635652</td>\n",
       "      <td>0.689394</td>\n",
       "    </tr>\n",
       "  </tbody>\n",
       "</table><p>"
      ],
      "text/plain": [
       "<IPython.core.display.HTML object>"
      ]
     },
     "metadata": {},
     "output_type": "display_data"
    },
    {
     "name": "stdout",
     "output_type": "stream",
     "text": [
      "Saved improved model to ./model_output/finetuned_model_all_esm2.pth\n",
      "Saved improved model to ./model_output/finetuned_model_all_esm2.pth\n",
      "Saved improved model to ./model_output/finetuned_model_all_esm2.pth\n",
      "Saved improved model to ./model_output/finetuned_model_all_esm2.pth\n",
      "Saved improved model to ./model_output/finetuned_model_all_esm2.pth\n",
      "Saved improved model to ./model_output/finetuned_model_all_esm2.pth\n",
      "Saved improved model to ./model_output/finetuned_model_all_esm2.pth\n",
      "Saved improved model to ./model_output/finetuned_model_all_esm2.pth\n",
      "Saved improved model to ./model_output/finetuned_model_all_esm2.pth\n",
      "Loaded best model from ./model_output/finetuned_model_all_esm2.pth\n"
     ]
    },
    {
     "data": {
      "text/html": [
       "\n",
       "    <div>\n",
       "      \n",
       "      <progress value='50' max='50' style='width:300px; height:20px; vertical-align: middle;'></progress>\n",
       "      [50/50 00:08]\n",
       "    </div>\n",
       "    "
      ],
      "text/plain": [
       "<IPython.core.display.HTML object>"
      ]
     },
     "metadata": {},
     "output_type": "display_data"
    },
    {
     "name": "stderr",
     "output_type": "stream",
     "text": [
      "[I 2024-06-09 21:50:56,931] Trial 21 finished with values: [0.6361071467399597, 0.6868686868686869] and parameters: {'lr': 1.0530778995478443e-05, 'batch': 2, 'accum': 8, 'dropout_rate': 0.8248599691883842, 'weight_decay': 0.0003576256038918507, 'warmup_pct': 0.04039230697820164, 'lora_rank': 8, 'lora_init_scale': 0.00016339490523512506, 'lora_scaling_rank': 8}. \n"
     ]
    },
    {
     "name": "stdout",
     "output_type": "stream",
     "text": [
      "{'eval_loss': 0.6361071467399597, 'eval_accuracy': 0.6868686868686869, 'eval_runtime': 8.7187, 'eval_samples_per_second': 45.42, 'eval_steps_per_second': 5.735, 'epoch': 10.0}\n",
      "History:  [{'loss': 0.7453, 'learning_rate': 3.2681727917002065e-06, 'epoch': 1.0, 'step': 99}, {'eval_loss': 0.6913770437240601, 'eval_accuracy': 0.5176767676767676, 'eval_runtime': 8.6119, 'eval_samples_per_second': 45.983, 'eval_steps_per_second': 5.806, 'epoch': 1.0, 'step': 99}, {'loss': 0.7397, 'learning_rate': 6.536345583400413e-06, 'epoch': 2.0, 'step': 198}, {'eval_loss': 0.6826096177101135, 'eval_accuracy': 0.6161616161616161, 'eval_runtime': 8.6687, 'eval_samples_per_second': 45.681, 'eval_steps_per_second': 5.768, 'epoch': 2.0, 'step': 198}, {'loss': 0.7509, 'learning_rate': 9.80451837510062e-06, 'epoch': 3.0, 'step': 297}, {'eval_loss': 0.6722596883773804, 'eval_accuracy': 0.6641414141414141, 'eval_runtime': 8.6741, 'eval_samples_per_second': 45.653, 'eval_steps_per_second': 5.764, 'epoch': 3.0, 'step': 297}, {'loss': 0.7132, 'learning_rate': 9.322328946816983e-06, 'epoch': 4.0, 'step': 396}, {'eval_loss': 0.660250723361969, 'eval_accuracy': 0.6363636363636364, 'eval_runtime': 8.6845, 'eval_samples_per_second': 45.598, 'eval_steps_per_second': 5.757, 'epoch': 4.0, 'step': 396}, {'loss': 0.729, 'learning_rate': 7.76860745568082e-06, 'epoch': 5.0, 'step': 495}, {'eval_loss': 0.6507112383842468, 'eval_accuracy': 0.6919191919191919, 'eval_runtime': 8.6844, 'eval_samples_per_second': 45.599, 'eval_steps_per_second': 5.757, 'epoch': 5.0, 'step': 495}, {'loss': 0.7147, 'learning_rate': 6.214885964544655e-06, 'epoch': 6.0, 'step': 594}, {'eval_loss': 0.6445762515068054, 'eval_accuracy': 0.6868686868686869, 'eval_runtime': 8.6853, 'eval_samples_per_second': 45.594, 'eval_steps_per_second': 5.757, 'epoch': 6.0, 'step': 594}, {'loss': 0.7125, 'learning_rate': 4.6611644734084915e-06, 'epoch': 7.0, 'step': 693}, {'eval_loss': 0.6402124762535095, 'eval_accuracy': 0.6893939393939394, 'eval_runtime': 8.6855, 'eval_samples_per_second': 45.593, 'eval_steps_per_second': 5.757, 'epoch': 7.0, 'step': 693}, {'loss': 0.7047, 'learning_rate': 3.1074429822723274e-06, 'epoch': 8.0, 'step': 792}, {'eval_loss': 0.6375002264976501, 'eval_accuracy': 0.6893939393939394, 'eval_runtime': 8.6862, 'eval_samples_per_second': 45.589, 'eval_steps_per_second': 5.756, 'epoch': 8.0, 'step': 792}, {'loss': 0.6958, 'learning_rate': 1.5537214911361637e-06, 'epoch': 9.0, 'step': 891}, {'eval_loss': 0.6361071467399597, 'eval_accuracy': 0.6868686868686869, 'eval_runtime': 8.6903, 'eval_samples_per_second': 45.568, 'eval_steps_per_second': 5.754, 'epoch': 9.0, 'step': 891}, {'loss': 0.7141, 'learning_rate': 0.0, 'epoch': 10.0, 'step': 990}, {'eval_loss': 0.635651707649231, 'eval_accuracy': 0.6893939393939394, 'eval_runtime': 8.6914, 'eval_samples_per_second': 45.562, 'eval_steps_per_second': 5.753, 'epoch': 10.0, 'step': 990}, {'train_runtime': 633.4259, 'train_samples_per_second': 25.007, 'train_steps_per_second': 1.563, 'total_flos': 9465195637497600.0, 'train_loss': 0.7219695351340554, 'epoch': 10.0, 'step': 990}, {'eval_loss': 0.6361071467399597, 'eval_accuracy': 0.6868686868686869, 'eval_runtime': 8.7187, 'eval_samples_per_second': 45.42, 'eval_steps_per_second': 5.735, 'epoch': 10.0, 'step': 990}]\n"
     ]
    },
    {
     "name": "stderr",
     "output_type": "stream",
     "text": [
      "/home/ubuntu/data/miniconda3/envs/finetune-dephos/lib/python3.9/site-packages/huggingface_hub/file_download.py:1132: FutureWarning: `resume_download` is deprecated and will be removed in version 1.0.0. Downloads always resume when possible. If you want to force a new download, use `force_download=True`.\n",
      "  warnings.warn(\n",
      "Downloading shards: 100%|█████████████████████████████████████████████████████████████| 2/2 [00:53<00:00, 27.00s/it]\n",
      "Loading checkpoint shards: 100%|██████████████████████████████████████████████████████| 2/2 [00:59<00:00, 29.71s/it]\n",
      "Some weights of EsmModel were not initialized from the model checkpoint at facebook/esm2_t36_3B_UR50D and are newly initialized: ['esm.pooler.dense.bias', 'esm.pooler.dense.weight']\n",
      "You should probably TRAIN this model on a down-stream task to be able to use it for predictions and inference.\n"
     ]
    },
    {
     "name": "stdout",
     "output_type": "stream",
     "text": [
      "ESM_LoRA_Classfier\n",
      "Trainable Parameter: 2848188324.0\n",
      "ESM_LoRA_Classfier\n",
      "Trainable Parameter: 6561283.0\n",
      "\n"
     ]
    },
    {
     "name": "stderr",
     "output_type": "stream",
     "text": [
      "/home/ubuntu/data/miniconda3/envs/finetune-dephos/lib/python3.9/site-packages/accelerate/accelerator.py:446: FutureWarning: Passing the following arguments to `Accelerator` is deprecated and will be removed in version 1.0 of Accelerate: dict_keys(['dispatch_batches', 'split_batches']). Please pass an `accelerate.DataLoaderConfiguration` instead: \n",
      "dataloader_config = DataLoaderConfiguration(dispatch_batches=None, split_batches=False)\n",
      "  warnings.warn(\n"
     ]
    },
    {
     "data": {
      "text/html": [
       "\n",
       "    <div>\n",
       "      \n",
       "      <progress value='1980' max='1980' style='width:300px; height:20px; vertical-align: middle;'></progress>\n",
       "      [1980/1980 13:38, Epoch 10/10]\n",
       "    </div>\n",
       "    <table border=\"1\" class=\"dataframe\">\n",
       "  <thead>\n",
       " <tr style=\"text-align: left;\">\n",
       "      <th>Epoch</th>\n",
       "      <th>Training Loss</th>\n",
       "      <th>Validation Loss</th>\n",
       "      <th>Accuracy</th>\n",
       "    </tr>\n",
       "  </thead>\n",
       "  <tbody>\n",
       "    <tr>\n",
       "      <td>1</td>\n",
       "      <td>0.709400</td>\n",
       "      <td>0.678956</td>\n",
       "      <td>0.626263</td>\n",
       "    </tr>\n",
       "    <tr>\n",
       "      <td>2</td>\n",
       "      <td>0.682400</td>\n",
       "      <td>0.651403</td>\n",
       "      <td>0.676768</td>\n",
       "    </tr>\n",
       "    <tr>\n",
       "      <td>3</td>\n",
       "      <td>0.654900</td>\n",
       "      <td>0.616656</td>\n",
       "      <td>0.696970</td>\n",
       "    </tr>\n",
       "    <tr>\n",
       "      <td>4</td>\n",
       "      <td>0.623800</td>\n",
       "      <td>0.589414</td>\n",
       "      <td>0.719697</td>\n",
       "    </tr>\n",
       "    <tr>\n",
       "      <td>5</td>\n",
       "      <td>0.600700</td>\n",
       "      <td>0.570029</td>\n",
       "      <td>0.717172</td>\n",
       "    </tr>\n",
       "    <tr>\n",
       "      <td>6</td>\n",
       "      <td>0.567200</td>\n",
       "      <td>0.550380</td>\n",
       "      <td>0.734848</td>\n",
       "    </tr>\n",
       "    <tr>\n",
       "      <td>7</td>\n",
       "      <td>0.560100</td>\n",
       "      <td>0.542270</td>\n",
       "      <td>0.722222</td>\n",
       "    </tr>\n",
       "    <tr>\n",
       "      <td>8</td>\n",
       "      <td>0.541200</td>\n",
       "      <td>0.534422</td>\n",
       "      <td>0.727273</td>\n",
       "    </tr>\n",
       "    <tr>\n",
       "      <td>9</td>\n",
       "      <td>0.527000</td>\n",
       "      <td>0.526550</td>\n",
       "      <td>0.742424</td>\n",
       "    </tr>\n",
       "    <tr>\n",
       "      <td>10</td>\n",
       "      <td>0.510100</td>\n",
       "      <td>0.525596</td>\n",
       "      <td>0.729798</td>\n",
       "    </tr>\n",
       "  </tbody>\n",
       "</table><p>"
      ],
      "text/plain": [
       "<IPython.core.display.HTML object>"
      ]
     },
     "metadata": {},
     "output_type": "display_data"
    },
    {
     "name": "stdout",
     "output_type": "stream",
     "text": [
      "Saved improved model to ./model_output/finetuned_model_all_esm2.pth\n",
      "Saved improved model to ./model_output/finetuned_model_all_esm2.pth\n",
      "Saved improved model to ./model_output/finetuned_model_all_esm2.pth\n",
      "Saved improved model to ./model_output/finetuned_model_all_esm2.pth\n",
      "Saved improved model to ./model_output/finetuned_model_all_esm2.pth\n",
      "Saved improved model to ./model_output/finetuned_model_all_esm2.pth\n",
      "Saved improved model to ./model_output/finetuned_model_all_esm2.pth\n",
      "Saved improved model to ./model_output/finetuned_model_all_esm2.pth\n",
      "Saved improved model to ./model_output/finetuned_model_all_esm2.pth\n",
      "Loaded best model from ./model_output/finetuned_model_all_esm2.pth\n"
     ]
    },
    {
     "data": {
      "text/html": [
       "\n",
       "    <div>\n",
       "      \n",
       "      <progress value='50' max='50' style='width:300px; height:20px; vertical-align: middle;'></progress>\n",
       "      [50/50 00:08]\n",
       "    </div>\n",
       "    "
      ],
      "text/plain": [
       "<IPython.core.display.HTML object>"
      ]
     },
     "metadata": {},
     "output_type": "display_data"
    },
    {
     "name": "stderr",
     "output_type": "stream",
     "text": [
      "[I 2024-06-09 22:07:35,548] Trial 22 finished with values: [0.5265498161315918, 0.7424242424242424] and parameters: {'lr': 9.973090263778709e-05, 'batch': 1, 'accum': 8, 'dropout_rate': 0.5203586360557492, 'weight_decay': 1.539235265329458e-05, 'warmup_pct': 0.29233682033676406, 'lora_rank': 12, 'lora_init_scale': 0.0011417955315952306, 'lora_scaling_rank': 4}. \n"
     ]
    },
    {
     "name": "stdout",
     "output_type": "stream",
     "text": [
      "{'eval_loss': 0.5265498161315918, 'eval_accuracy': 0.7424242424242424, 'eval_runtime': 8.6822, 'eval_samples_per_second': 45.61, 'eval_steps_per_second': 5.759, 'epoch': 10.0}\n",
      "History:  [{'loss': 0.7094, 'learning_rate': 4.264950048009038e-06, 'epoch': 1.0, 'step': 198}, {'eval_loss': 0.6789560317993164, 'eval_accuracy': 0.6262626262626263, 'eval_runtime': 8.6293, 'eval_samples_per_second': 45.89, 'eval_steps_per_second': 5.794, 'epoch': 1.0, 'step': 198}, {'loss': 0.6824, 'learning_rate': 8.529900096018075e-06, 'epoch': 2.0, 'step': 396}, {'eval_loss': 0.6514033079147339, 'eval_accuracy': 0.6767676767676768, 'eval_runtime': 8.6594, 'eval_samples_per_second': 45.731, 'eval_steps_per_second': 5.774, 'epoch': 2.0, 'step': 396}, {'loss': 0.6549, 'learning_rate': 1.2794850144027112e-05, 'epoch': 3.0, 'step': 594}, {'eval_loss': 0.6166558265686035, 'eval_accuracy': 0.696969696969697, 'eval_runtime': 8.6729, 'eval_samples_per_second': 45.66, 'eval_steps_per_second': 5.765, 'epoch': 3.0, 'step': 594}, {'loss': 0.6238, 'learning_rate': 1.705980019203615e-05, 'epoch': 4.0, 'step': 792}, {'eval_loss': 0.589413583278656, 'eval_accuracy': 0.7196969696969697, 'eval_runtime': 8.675, 'eval_samples_per_second': 45.649, 'eval_steps_per_second': 5.764, 'epoch': 4.0, 'step': 792}, {'loss': 0.6007, 'learning_rate': 2.132475024004519e-05, 'epoch': 5.0, 'step': 990}, {'eval_loss': 0.570029079914093, 'eval_accuracy': 0.7171717171717171, 'eval_runtime': 8.672, 'eval_samples_per_second': 45.664, 'eval_steps_per_second': 5.766, 'epoch': 5.0, 'step': 990}, {'loss': 0.5672, 'learning_rate': 2.5589700288054225e-05, 'epoch': 6.0, 'step': 1188}, {'eval_loss': 0.5503802299499512, 'eval_accuracy': 0.7348484848484849, 'eval_runtime': 8.674, 'eval_samples_per_second': 45.654, 'eval_steps_per_second': 5.764, 'epoch': 6.0, 'step': 1188}, {'loss': 0.5601, 'learning_rate': 2.985465033606326e-05, 'epoch': 7.0, 'step': 1386}, {'eval_loss': 0.5422698259353638, 'eval_accuracy': 0.7222222222222222, 'eval_runtime': 8.6744, 'eval_samples_per_second': 45.652, 'eval_steps_per_second': 5.764, 'epoch': 7.0, 'step': 1386}, {'loss': 0.5412, 'learning_rate': 3.41196003840723e-05, 'epoch': 8.0, 'step': 1584}, {'eval_loss': 0.5344220399856567, 'eval_accuracy': 0.7272727272727273, 'eval_runtime': 8.676, 'eval_samples_per_second': 45.643, 'eval_steps_per_second': 5.763, 'epoch': 8.0, 'step': 1584}, {'loss': 0.527, 'learning_rate': 3.8384550432081334e-05, 'epoch': 9.0, 'step': 1782}, {'eval_loss': 0.5265498161315918, 'eval_accuracy': 0.7424242424242424, 'eval_runtime': 8.6657, 'eval_samples_per_second': 45.698, 'eval_steps_per_second': 5.77, 'epoch': 9.0, 'step': 1782}, {'loss': 0.5101, 'learning_rate': 4.264950048009038e-05, 'epoch': 10.0, 'step': 1980}, {'eval_loss': 0.525596022605896, 'eval_accuracy': 0.7297979797979798, 'eval_runtime': 8.683, 'eval_samples_per_second': 45.606, 'eval_steps_per_second': 5.758, 'epoch': 10.0, 'step': 1980}, {'train_runtime': 818.7113, 'train_samples_per_second': 19.347, 'train_steps_per_second': 2.418, 'total_flos': 9465195637497600.0, 'train_loss': 0.5976963274406665, 'epoch': 10.0, 'step': 1980}, {'eval_loss': 0.5265498161315918, 'eval_accuracy': 0.7424242424242424, 'eval_runtime': 8.6822, 'eval_samples_per_second': 45.61, 'eval_steps_per_second': 5.759, 'epoch': 10.0, 'step': 1980}]\n"
     ]
    },
    {
     "name": "stderr",
     "output_type": "stream",
     "text": [
      "/home/ubuntu/data/miniconda3/envs/finetune-dephos/lib/python3.9/site-packages/huggingface_hub/file_download.py:1132: FutureWarning: `resume_download` is deprecated and will be removed in version 1.0.0. Downloads always resume when possible. If you want to force a new download, use `force_download=True`.\n",
      "  warnings.warn(\n",
      "Downloading shards: 100%|█████████████████████████████████████████████████████████████| 2/2 [00:51<00:00, 25.95s/it]\n",
      "Loading checkpoint shards: 100%|██████████████████████████████████████████████████████| 2/2 [01:05<00:00, 32.75s/it]\n",
      "Some weights of EsmModel were not initialized from the model checkpoint at facebook/esm2_t36_3B_UR50D and are newly initialized: ['esm.pooler.dense.bias', 'esm.pooler.dense.weight']\n",
      "You should probably TRAIN this model on a down-stream task to be able to use it for predictions and inference.\n"
     ]
    },
    {
     "name": "stdout",
     "output_type": "stream",
     "text": [
      "ESM_LoRA_Classfier\n",
      "Trainable Parameter: 2848188324.0\n",
      "ESM_LoRA_Classfier\n",
      "Trainable Parameter: 6561283.0\n",
      "\n"
     ]
    },
    {
     "name": "stderr",
     "output_type": "stream",
     "text": [
      "/home/ubuntu/data/miniconda3/envs/finetune-dephos/lib/python3.9/site-packages/accelerate/accelerator.py:446: FutureWarning: Passing the following arguments to `Accelerator` is deprecated and will be removed in version 1.0 of Accelerate: dict_keys(['dispatch_batches', 'split_batches']). Please pass an `accelerate.DataLoaderConfiguration` instead: \n",
      "dataloader_config = DataLoaderConfiguration(dispatch_batches=None, split_batches=False)\n",
      "  warnings.warn(\n"
     ]
    },
    {
     "data": {
      "text/html": [
       "\n",
       "    <div>\n",
       "      \n",
       "      <progress value='495' max='990' style='width:300px; height:20px; vertical-align: middle;'></progress>\n",
       "      [495/990 05:15 < 05:17, 1.56 it/s, Epoch 5/10]\n",
       "    </div>\n",
       "    <table border=\"1\" class=\"dataframe\">\n",
       "  <thead>\n",
       " <tr style=\"text-align: left;\">\n",
       "      <th>Epoch</th>\n",
       "      <th>Training Loss</th>\n",
       "      <th>Validation Loss</th>\n",
       "      <th>Accuracy</th>\n",
       "    </tr>\n",
       "  </thead>\n",
       "  <tbody>\n",
       "    <tr>\n",
       "      <td>1</td>\n",
       "      <td>0.650100</td>\n",
       "      <td>0.559485</td>\n",
       "      <td>0.707071</td>\n",
       "    </tr>\n",
       "    <tr>\n",
       "      <td>2</td>\n",
       "      <td>0.589900</td>\n",
       "      <td>0.527175</td>\n",
       "      <td>0.747475</td>\n",
       "    </tr>\n",
       "    <tr>\n",
       "      <td>3</td>\n",
       "      <td>0.526300</td>\n",
       "      <td>0.575241</td>\n",
       "      <td>0.709596</td>\n",
       "    </tr>\n",
       "    <tr>\n",
       "      <td>4</td>\n",
       "      <td>0.524200</td>\n",
       "      <td>0.547058</td>\n",
       "      <td>0.724747</td>\n",
       "    </tr>\n",
       "    <tr>\n",
       "      <td>5</td>\n",
       "      <td>0.528100</td>\n",
       "      <td>0.598321</td>\n",
       "      <td>0.696970</td>\n",
       "    </tr>\n",
       "  </tbody>\n",
       "</table><p>"
      ],
      "text/plain": [
       "<IPython.core.display.HTML object>"
      ]
     },
     "metadata": {},
     "output_type": "display_data"
    },
    {
     "name": "stdout",
     "output_type": "stream",
     "text": [
      "Saved improved model to ./model_output/finetuned_model_all_esm2.pth\n",
      "Saved improved model to ./model_output/finetuned_model_all_esm2.pth\n",
      "Stopping early at epoch 5.0: No improvement in loss or accuracy for 3 evaluations.\n",
      "Loaded best model from ./model_output/finetuned_model_all_esm2.pth\n"
     ]
    },
    {
     "data": {
      "text/html": [
       "\n",
       "    <div>\n",
       "      \n",
       "      <progress value='50' max='50' style='width:300px; height:20px; vertical-align: middle;'></progress>\n",
       "      [50/50 00:08]\n",
       "    </div>\n",
       "    "
      ],
      "text/plain": [
       "<IPython.core.display.HTML object>"
      ]
     },
     "metadata": {},
     "output_type": "display_data"
    },
    {
     "name": "stderr",
     "output_type": "stream",
     "text": [
      "[I 2024-06-09 22:15:57,542] Trial 23 finished with values: [0.5271751284599304, 0.7474747474747475] and parameters: {'lr': 0.0028386044645149354, 'batch': 2, 'accum': 8, 'dropout_rate': 0.290601664676174, 'weight_decay': 0.0006659424553708593, 'warmup_pct': 0.27121130031529533, 'lora_rank': 32, 'lora_init_scale': 0.06526579395061742, 'lora_scaling_rank': 4}. \n"
     ]
    },
    {
     "name": "stdout",
     "output_type": "stream",
     "text": [
      "Stopping early at epoch 5.0: No improvement in loss or accuracy for 3 evaluations.\n",
      "{'eval_loss': 0.5271751284599304, 'eval_accuracy': 0.7474747474747475, 'eval_runtime': 8.7006, 'eval_samples_per_second': 45.514, 'eval_steps_per_second': 5.747, 'epoch': 5.0}\n",
      "History:  [{'loss': 0.6501, 'learning_rate': 0.00013089047134931468, 'epoch': 1.0, 'step': 99}, {'eval_loss': 0.5594850778579712, 'eval_accuracy': 0.7070707070707071, 'eval_runtime': 8.6669, 'eval_samples_per_second': 45.691, 'eval_steps_per_second': 5.769, 'epoch': 1.0, 'step': 99}, {'loss': 0.5899, 'learning_rate': 0.00026178094269862937, 'epoch': 2.0, 'step': 198}, {'eval_loss': 0.5271751284599304, 'eval_accuracy': 0.7474747474747475, 'eval_runtime': 8.6983, 'eval_samples_per_second': 45.526, 'eval_steps_per_second': 5.748, 'epoch': 2.0, 'step': 198}, {'loss': 0.5263, 'learning_rate': 0.0003926714140479441, 'epoch': 3.0, 'step': 297}, {'eval_loss': 0.5752407908439636, 'eval_accuracy': 0.7095959595959596, 'eval_runtime': 8.6924, 'eval_samples_per_second': 45.557, 'eval_steps_per_second': 5.752, 'epoch': 3.0, 'step': 297}, {'loss': 0.5242, 'learning_rate': 0.0005235618853972587, 'epoch': 4.0, 'step': 396}, {'eval_loss': 0.5470582842826843, 'eval_accuracy': 0.7247474747474747, 'eval_runtime': 8.6985, 'eval_samples_per_second': 45.525, 'eval_steps_per_second': 5.748, 'epoch': 4.0, 'step': 396}, {'loss': 0.5281, 'learning_rate': 0.0006544523567465734, 'epoch': 5.0, 'step': 495}, {'eval_loss': 0.5983213782310486, 'eval_accuracy': 0.696969696969697, 'eval_runtime': 8.6995, 'eval_samples_per_second': 45.52, 'eval_steps_per_second': 5.747, 'epoch': 5.0, 'step': 495}, {'train_runtime': 317.1914, 'train_samples_per_second': 49.938, 'train_steps_per_second': 3.121, 'total_flos': 4732597818748800.0, 'train_loss': 0.5637127192333491, 'epoch': 5.0, 'step': 495}, {'eval_loss': 0.5271751284599304, 'eval_accuracy': 0.7474747474747475, 'eval_runtime': 8.7006, 'eval_samples_per_second': 45.514, 'eval_steps_per_second': 5.747, 'epoch': 5.0, 'step': 495}]\n"
     ]
    },
    {
     "name": "stderr",
     "output_type": "stream",
     "text": [
      "/home/ubuntu/data/miniconda3/envs/finetune-dephos/lib/python3.9/site-packages/huggingface_hub/file_download.py:1132: FutureWarning: `resume_download` is deprecated and will be removed in version 1.0.0. Downloads always resume when possible. If you want to force a new download, use `force_download=True`.\n",
      "  warnings.warn(\n",
      "Downloading shards: 100%|█████████████████████████████████████████████████████████████| 2/2 [00:51<00:00, 25.99s/it]\n",
      "Loading checkpoint shards: 100%|██████████████████████████████████████████████████████| 2/2 [01:08<00:00, 34.04s/it]\n",
      "Some weights of EsmModel were not initialized from the model checkpoint at facebook/esm2_t36_3B_UR50D and are newly initialized: ['esm.pooler.dense.bias', 'esm.pooler.dense.weight']\n",
      "You should probably TRAIN this model on a down-stream task to be able to use it for predictions and inference.\n"
     ]
    },
    {
     "name": "stdout",
     "output_type": "stream",
     "text": [
      "ESM_LoRA_Classfier\n",
      "Trainable Parameter: 2848188324.0\n",
      "ESM_LoRA_Classfier\n",
      "Trainable Parameter: 6561283.0\n",
      "\n"
     ]
    },
    {
     "name": "stderr",
     "output_type": "stream",
     "text": [
      "/home/ubuntu/data/miniconda3/envs/finetune-dephos/lib/python3.9/site-packages/accelerate/accelerator.py:446: FutureWarning: Passing the following arguments to `Accelerator` is deprecated and will be removed in version 1.0 of Accelerate: dict_keys(['dispatch_batches', 'split_batches']). Please pass an `accelerate.DataLoaderConfiguration` instead: \n",
      "dataloader_config = DataLoaderConfiguration(dispatch_batches=None, split_batches=False)\n",
      "  warnings.warn(\n"
     ]
    },
    {
     "data": {
      "text/html": [
       "\n",
       "    <div>\n",
       "      \n",
       "      <progress value='990' max='990' style='width:300px; height:20px; vertical-align: middle;'></progress>\n",
       "      [990/990 09:14, Epoch 10/10]\n",
       "    </div>\n",
       "    <table border=\"1\" class=\"dataframe\">\n",
       "  <thead>\n",
       " <tr style=\"text-align: left;\">\n",
       "      <th>Epoch</th>\n",
       "      <th>Training Loss</th>\n",
       "      <th>Validation Loss</th>\n",
       "      <th>Accuracy</th>\n",
       "    </tr>\n",
       "  </thead>\n",
       "  <tbody>\n",
       "    <tr>\n",
       "      <td>1</td>\n",
       "      <td>0.698000</td>\n",
       "      <td>0.617059</td>\n",
       "      <td>0.666667</td>\n",
       "    </tr>\n",
       "    <tr>\n",
       "      <td>2</td>\n",
       "      <td>0.623400</td>\n",
       "      <td>0.550942</td>\n",
       "      <td>0.732323</td>\n",
       "    </tr>\n",
       "    <tr>\n",
       "      <td>3</td>\n",
       "      <td>0.588900</td>\n",
       "      <td>0.528076</td>\n",
       "      <td>0.737374</td>\n",
       "    </tr>\n",
       "    <tr>\n",
       "      <td>4</td>\n",
       "      <td>0.562200</td>\n",
       "      <td>0.528049</td>\n",
       "      <td>0.742424</td>\n",
       "    </tr>\n",
       "    <tr>\n",
       "      <td>5</td>\n",
       "      <td>0.569300</td>\n",
       "      <td>0.529215</td>\n",
       "      <td>0.742424</td>\n",
       "    </tr>\n",
       "    <tr>\n",
       "      <td>6</td>\n",
       "      <td>0.566700</td>\n",
       "      <td>0.572334</td>\n",
       "      <td>0.704545</td>\n",
       "    </tr>\n",
       "    <tr>\n",
       "      <td>7</td>\n",
       "      <td>0.553000</td>\n",
       "      <td>0.524937</td>\n",
       "      <td>0.737374</td>\n",
       "    </tr>\n",
       "    <tr>\n",
       "      <td>8</td>\n",
       "      <td>0.514900</td>\n",
       "      <td>0.520925</td>\n",
       "      <td>0.737374</td>\n",
       "    </tr>\n",
       "    <tr>\n",
       "      <td>9</td>\n",
       "      <td>0.501800</td>\n",
       "      <td>0.522543</td>\n",
       "      <td>0.752525</td>\n",
       "    </tr>\n",
       "    <tr>\n",
       "      <td>10</td>\n",
       "      <td>0.482700</td>\n",
       "      <td>0.520814</td>\n",
       "      <td>0.747475</td>\n",
       "    </tr>\n",
       "  </tbody>\n",
       "</table><p>"
      ],
      "text/plain": [
       "<IPython.core.display.HTML object>"
      ]
     },
     "metadata": {},
     "output_type": "display_data"
    },
    {
     "name": "stdout",
     "output_type": "stream",
     "text": [
      "Saved improved model to ./model_output/finetuned_model_all_esm2.pth\n",
      "Saved improved model to ./model_output/finetuned_model_all_esm2.pth\n",
      "Saved improved model to ./model_output/finetuned_model_all_esm2.pth\n",
      "Saved improved model to ./model_output/finetuned_model_all_esm2.pth\n",
      "Saved improved model to ./model_output/finetuned_model_all_esm2.pth\n",
      "Saved improved model to ./model_output/finetuned_model_all_esm2.pth\n",
      "Saved improved model to ./model_output/finetuned_model_all_esm2.pth\n",
      "Loaded best model from ./model_output/finetuned_model_all_esm2.pth\n"
     ]
    },
    {
     "data": {
      "text/html": [
       "\n",
       "    <div>\n",
       "      \n",
       "      <progress value='50' max='50' style='width:300px; height:20px; vertical-align: middle;'></progress>\n",
       "      [50/50 00:08]\n",
       "    </div>\n",
       "    "
      ],
      "text/plain": [
       "<IPython.core.display.HTML object>"
      ]
     },
     "metadata": {},
     "output_type": "display_data"
    },
    {
     "name": "stderr",
     "output_type": "stream",
     "text": [
      "[I 2024-06-09 22:28:21,355] Trial 24 finished with values: [0.5225428342819214, 0.7525252525252525] and parameters: {'lr': 0.0003459380673689418, 'batch': 4, 'accum': 4, 'dropout_rate': 0.6303139405233136, 'weight_decay': 7.145415686725527e-05, 'warmup_pct': 0.12121786012551566, 'lora_rank': 20, 'lora_init_scale': 0.004413381171295235, 'lora_scaling_rank': 3}. \n"
     ]
    },
    {
     "name": "stdout",
     "output_type": "stream",
     "text": [
      "{'eval_loss': 0.5225428342819214, 'eval_accuracy': 0.7525252525252525, 'eval_runtime': 8.7016, 'eval_samples_per_second': 45.509, 'eval_steps_per_second': 5.746, 'epoch': 10.0}\n",
      "History:  [{'loss': 0.698, 'learning_rate': 7.134972639484424e-05, 'epoch': 1.0, 'step': 99}, {'eval_loss': 0.6170588135719299, 'eval_accuracy': 0.6666666666666666, 'eval_runtime': 8.6428, 'eval_samples_per_second': 45.818, 'eval_steps_per_second': 5.785, 'epoch': 1.0, 'step': 99}, {'loss': 0.6234, 'learning_rate': 0.00014269945278968848, 'epoch': 2.0, 'step': 198}, {'eval_loss': 0.5509417057037354, 'eval_accuracy': 0.7323232323232324, 'eval_runtime': 8.6964, 'eval_samples_per_second': 45.536, 'eval_steps_per_second': 5.75, 'epoch': 2.0, 'step': 198}, {'loss': 0.5889, 'learning_rate': 0.00021404917918453275, 'epoch': 3.0, 'step': 297}, {'eval_loss': 0.5280761122703552, 'eval_accuracy': 0.7373737373737373, 'eval_runtime': 8.718, 'eval_samples_per_second': 45.423, 'eval_steps_per_second': 5.735, 'epoch': 3.0, 'step': 297}, {'loss': 0.5622, 'learning_rate': 0.00028539890557937697, 'epoch': 4.0, 'step': 396}, {'eval_loss': 0.5280488729476929, 'eval_accuracy': 0.7424242424242424, 'eval_runtime': 8.7187, 'eval_samples_per_second': 45.419, 'eval_steps_per_second': 5.735, 'epoch': 4.0, 'step': 396}, {'loss': 0.5693, 'learning_rate': 0.0003357634183286788, 'epoch': 5.0, 'step': 495}, {'eval_loss': 0.5292145013809204, 'eval_accuracy': 0.7424242424242424, 'eval_runtime': 8.7396, 'eval_samples_per_second': 45.311, 'eval_steps_per_second': 5.721, 'epoch': 5.0, 'step': 495}, {'loss': 0.5667, 'learning_rate': 0.0002686107346629431, 'epoch': 6.0, 'step': 594}, {'eval_loss': 0.5723336935043335, 'eval_accuracy': 0.7045454545454546, 'eval_runtime': 8.7164, 'eval_samples_per_second': 45.431, 'eval_steps_per_second': 5.736, 'epoch': 6.0, 'step': 594}, {'loss': 0.553, 'learning_rate': 0.0002014580509972073, 'epoch': 7.0, 'step': 693}, {'eval_loss': 0.5249371528625488, 'eval_accuracy': 0.7373737373737373, 'eval_runtime': 8.7208, 'eval_samples_per_second': 45.409, 'eval_steps_per_second': 5.733, 'epoch': 7.0, 'step': 693}, {'loss': 0.5149, 'learning_rate': 0.00013430536733147154, 'epoch': 8.0, 'step': 792}, {'eval_loss': 0.5209246277809143, 'eval_accuracy': 0.7373737373737373, 'eval_runtime': 8.7095, 'eval_samples_per_second': 45.467, 'eval_steps_per_second': 5.741, 'epoch': 8.0, 'step': 792}, {'loss': 0.5018, 'learning_rate': 6.715268366573577e-05, 'epoch': 9.0, 'step': 891}, {'eval_loss': 0.5225428342819214, 'eval_accuracy': 0.7525252525252525, 'eval_runtime': 8.6957, 'eval_samples_per_second': 45.54, 'eval_steps_per_second': 5.75, 'epoch': 9.0, 'step': 891}, {'loss': 0.4827, 'learning_rate': 0.0, 'epoch': 10.0, 'step': 990}, {'eval_loss': 0.5208140015602112, 'eval_accuracy': 0.7474747474747475, 'eval_runtime': 8.6959, 'eval_samples_per_second': 45.538, 'eval_steps_per_second': 5.75, 'epoch': 10.0, 'step': 990}, {'train_runtime': 555.1405, 'train_samples_per_second': 28.533, 'train_steps_per_second': 1.783, 'total_flos': 9465195637497600.0, 'train_loss': 0.5660824361473623, 'epoch': 10.0, 'step': 990}, {'eval_loss': 0.5225428342819214, 'eval_accuracy': 0.7525252525252525, 'eval_runtime': 8.7016, 'eval_samples_per_second': 45.509, 'eval_steps_per_second': 5.746, 'epoch': 10.0, 'step': 990}]\n"
     ]
    },
    {
     "name": "stderr",
     "output_type": "stream",
     "text": [
      "/home/ubuntu/data/miniconda3/envs/finetune-dephos/lib/python3.9/site-packages/huggingface_hub/file_download.py:1132: FutureWarning: `resume_download` is deprecated and will be removed in version 1.0.0. Downloads always resume when possible. If you want to force a new download, use `force_download=True`.\n",
      "  warnings.warn(\n",
      "Downloading shards: 100%|█████████████████████████████████████████████████████████████| 2/2 [00:50<00:00, 25.47s/it]\n",
      "Loading checkpoint shards: 100%|██████████████████████████████████████████████████████| 2/2 [01:04<00:00, 32.01s/it]\n",
      "Some weights of EsmModel were not initialized from the model checkpoint at facebook/esm2_t36_3B_UR50D and are newly initialized: ['esm.pooler.dense.bias', 'esm.pooler.dense.weight']\n",
      "You should probably TRAIN this model on a down-stream task to be able to use it for predictions and inference.\n"
     ]
    },
    {
     "name": "stdout",
     "output_type": "stream",
     "text": [
      "ESM_LoRA_Classfier\n",
      "Trainable Parameter: 2848188324.0\n",
      "ESM_LoRA_Classfier\n",
      "Trainable Parameter: 6561283.0\n",
      "\n"
     ]
    },
    {
     "name": "stderr",
     "output_type": "stream",
     "text": [
      "/home/ubuntu/data/miniconda3/envs/finetune-dephos/lib/python3.9/site-packages/accelerate/accelerator.py:446: FutureWarning: Passing the following arguments to `Accelerator` is deprecated and will be removed in version 1.0 of Accelerate: dict_keys(['dispatch_batches', 'split_batches']). Please pass an `accelerate.DataLoaderConfiguration` instead: \n",
      "dataloader_config = DataLoaderConfiguration(dispatch_batches=None, split_batches=False)\n",
      "  warnings.warn(\n"
     ]
    },
    {
     "data": {
      "text/html": [
       "\n",
       "    <div>\n",
       "      \n",
       "      <progress value='3960' max='3960' style='width:300px; height:20px; vertical-align: middle;'></progress>\n",
       "      [3960/3960 10:49, Epoch 10/10]\n",
       "    </div>\n",
       "    <table border=\"1\" class=\"dataframe\">\n",
       "  <thead>\n",
       " <tr style=\"text-align: left;\">\n",
       "      <th>Epoch</th>\n",
       "      <th>Training Loss</th>\n",
       "      <th>Validation Loss</th>\n",
       "      <th>Accuracy</th>\n",
       "    </tr>\n",
       "  </thead>\n",
       "  <tbody>\n",
       "    <tr>\n",
       "      <td>1</td>\n",
       "      <td>0.730700</td>\n",
       "      <td>0.685307</td>\n",
       "      <td>0.545455</td>\n",
       "    </tr>\n",
       "    <tr>\n",
       "      <td>2</td>\n",
       "      <td>0.723100</td>\n",
       "      <td>0.666578</td>\n",
       "      <td>0.651515</td>\n",
       "    </tr>\n",
       "    <tr>\n",
       "      <td>3</td>\n",
       "      <td>0.724100</td>\n",
       "      <td>0.647296</td>\n",
       "      <td>0.633838</td>\n",
       "    </tr>\n",
       "    <tr>\n",
       "      <td>4</td>\n",
       "      <td>0.679600</td>\n",
       "      <td>0.619159</td>\n",
       "      <td>0.699495</td>\n",
       "    </tr>\n",
       "    <tr>\n",
       "      <td>5</td>\n",
       "      <td>0.684200</td>\n",
       "      <td>0.598345</td>\n",
       "      <td>0.714646</td>\n",
       "    </tr>\n",
       "    <tr>\n",
       "      <td>6</td>\n",
       "      <td>0.669200</td>\n",
       "      <td>0.586314</td>\n",
       "      <td>0.689394</td>\n",
       "    </tr>\n",
       "    <tr>\n",
       "      <td>7</td>\n",
       "      <td>0.652400</td>\n",
       "      <td>0.573526</td>\n",
       "      <td>0.699495</td>\n",
       "    </tr>\n",
       "    <tr>\n",
       "      <td>8</td>\n",
       "      <td>0.631000</td>\n",
       "      <td>0.565149</td>\n",
       "      <td>0.722222</td>\n",
       "    </tr>\n",
       "    <tr>\n",
       "      <td>9</td>\n",
       "      <td>0.625800</td>\n",
       "      <td>0.562277</td>\n",
       "      <td>0.717172</td>\n",
       "    </tr>\n",
       "    <tr>\n",
       "      <td>10</td>\n",
       "      <td>0.637300</td>\n",
       "      <td>0.560573</td>\n",
       "      <td>0.719697</td>\n",
       "    </tr>\n",
       "  </tbody>\n",
       "</table><p>"
      ],
      "text/plain": [
       "<IPython.core.display.HTML object>"
      ]
     },
     "metadata": {},
     "output_type": "display_data"
    },
    {
     "name": "stdout",
     "output_type": "stream",
     "text": [
      "Saved improved model to ./model_output/finetuned_model_all_esm2.pth\n",
      "Saved improved model to ./model_output/finetuned_model_all_esm2.pth\n",
      "Saved improved model to ./model_output/finetuned_model_all_esm2.pth\n",
      "Saved improved model to ./model_output/finetuned_model_all_esm2.pth\n",
      "Saved improved model to ./model_output/finetuned_model_all_esm2.pth\n",
      "Saved improved model to ./model_output/finetuned_model_all_esm2.pth\n",
      "Saved improved model to ./model_output/finetuned_model_all_esm2.pth\n",
      "Saved improved model to ./model_output/finetuned_model_all_esm2.pth\n",
      "Saved improved model to ./model_output/finetuned_model_all_esm2.pth\n",
      "Saved improved model to ./model_output/finetuned_model_all_esm2.pth\n",
      "Loaded best model from ./model_output/finetuned_model_all_esm2.pth\n"
     ]
    },
    {
     "data": {
      "text/html": [
       "\n",
       "    <div>\n",
       "      \n",
       "      <progress value='50' max='50' style='width:300px; height:20px; vertical-align: middle;'></progress>\n",
       "      [50/50 00:08]\n",
       "    </div>\n",
       "    "
      ],
      "text/plain": [
       "<IPython.core.display.HTML object>"
      ]
     },
     "metadata": {},
     "output_type": "display_data"
    },
    {
     "name": "stderr",
     "output_type": "stream",
     "text": [
      "[I 2024-06-09 22:42:14,630] Trial 25 finished with values: [0.560573160648346, 0.7196969696969697] and parameters: {'lr': 2.4685297244203862e-05, 'batch': 2, 'accum': 2, 'dropout_rate': 0.8023980394643684, 'weight_decay': 0.00032258504304615476, 'warmup_pct': 0.29196768267226764, 'lora_rank': 16, 'lora_init_scale': 0.0008155565653351553, 'lora_scaling_rank': 8}. \n"
     ]
    },
    {
     "name": "stdout",
     "output_type": "stream",
     "text": [
      "{'eval_loss': 0.560573160648346, 'eval_accuracy': 0.7196969696969697, 'eval_runtime': 8.7116, 'eval_samples_per_second': 45.456, 'eval_steps_per_second': 5.739, 'epoch': 10.0}\n",
      "History:  [{'loss': 0.7307, 'learning_rate': 4.228104545287513e-06, 'epoch': 1.0, 'step': 396}, {'eval_loss': 0.6853069067001343, 'eval_accuracy': 0.5454545454545454, 'eval_runtime': 8.6288, 'eval_samples_per_second': 45.893, 'eval_steps_per_second': 5.795, 'epoch': 1.0, 'step': 396}, {'loss': 0.7231, 'learning_rate': 8.456209090575025e-06, 'epoch': 2.0, 'step': 792}, {'eval_loss': 0.6665775775909424, 'eval_accuracy': 0.6515151515151515, 'eval_runtime': 8.6869, 'eval_samples_per_second': 45.586, 'eval_steps_per_second': 5.756, 'epoch': 2.0, 'step': 792}, {'loss': 0.7241, 'learning_rate': 1.2684313635862538e-05, 'epoch': 3.0, 'step': 1188}, {'eval_loss': 0.6472959518432617, 'eval_accuracy': 0.6338383838383839, 'eval_runtime': 8.6904, 'eval_samples_per_second': 45.567, 'eval_steps_per_second': 5.753, 'epoch': 3.0, 'step': 1188}, {'loss': 0.6796, 'learning_rate': 1.691241818115005e-05, 'epoch': 4.0, 'step': 1584}, {'eval_loss': 0.6191592216491699, 'eval_accuracy': 0.6994949494949495, 'eval_runtime': 8.6872, 'eval_samples_per_second': 45.584, 'eval_steps_per_second': 5.756, 'epoch': 4.0, 'step': 1584}, {'loss': 0.6842, 'learning_rate': 2.1140522726437565e-05, 'epoch': 5.0, 'step': 1980}, {'eval_loss': 0.5983450412750244, 'eval_accuracy': 0.7146464646464646, 'eval_runtime': 8.6886, 'eval_samples_per_second': 45.577, 'eval_steps_per_second': 5.755, 'epoch': 5.0, 'step': 1980}, {'loss': 0.6692, 'learning_rate': 2.3726644924040607e-05, 'epoch': 6.0, 'step': 2376}, {'eval_loss': 0.5863141417503357, 'eval_accuracy': 0.6893939393939394, 'eval_runtime': 8.693, 'eval_samples_per_second': 45.554, 'eval_steps_per_second': 5.752, 'epoch': 6.0, 'step': 2376}, {'loss': 0.6524, 'learning_rate': 1.7794983693030453e-05, 'epoch': 7.0, 'step': 2772}, {'eval_loss': 0.5735262632369995, 'eval_accuracy': 0.6994949494949495, 'eval_runtime': 8.6948, 'eval_samples_per_second': 45.544, 'eval_steps_per_second': 5.751, 'epoch': 7.0, 'step': 2772}, {'loss': 0.631, 'learning_rate': 1.1863322462020303e-05, 'epoch': 8.0, 'step': 3168}, {'eval_loss': 0.5651485323905945, 'eval_accuracy': 0.7222222222222222, 'eval_runtime': 8.6938, 'eval_samples_per_second': 45.55, 'eval_steps_per_second': 5.751, 'epoch': 8.0, 'step': 3168}, {'loss': 0.6258, 'learning_rate': 5.931661231010152e-06, 'epoch': 9.0, 'step': 3564}, {'eval_loss': 0.5622768402099609, 'eval_accuracy': 0.7171717171717171, 'eval_runtime': 8.6991, 'eval_samples_per_second': 45.522, 'eval_steps_per_second': 5.748, 'epoch': 9.0, 'step': 3564}, {'loss': 0.6373, 'learning_rate': 0.0, 'epoch': 10.0, 'step': 3960}, {'eval_loss': 0.560573160648346, 'eval_accuracy': 0.7196969696969697, 'eval_runtime': 8.7035, 'eval_samples_per_second': 45.499, 'eval_steps_per_second': 5.745, 'epoch': 10.0, 'step': 3960}, {'train_runtime': 649.78, 'train_samples_per_second': 24.377, 'train_steps_per_second': 6.094, 'total_flos': 9465195637497600.0, 'train_loss': 0.6757464668967507, 'epoch': 10.0, 'step': 3960}, {'eval_loss': 0.560573160648346, 'eval_accuracy': 0.7196969696969697, 'eval_runtime': 8.7116, 'eval_samples_per_second': 45.456, 'eval_steps_per_second': 5.739, 'epoch': 10.0, 'step': 3960}]\n"
     ]
    },
    {
     "name": "stderr",
     "output_type": "stream",
     "text": [
      "/home/ubuntu/data/miniconda3/envs/finetune-dephos/lib/python3.9/site-packages/huggingface_hub/file_download.py:1132: FutureWarning: `resume_download` is deprecated and will be removed in version 1.0.0. Downloads always resume when possible. If you want to force a new download, use `force_download=True`.\n",
      "  warnings.warn(\n",
      "Downloading shards: 100%|█████████████████████████████████████████████████████████████| 2/2 [01:12<00:00, 36.27s/it]\n",
      "Loading checkpoint shards: 100%|██████████████████████████████████████████████████████| 2/2 [01:08<00:00, 34.45s/it]\n",
      "Some weights of EsmModel were not initialized from the model checkpoint at facebook/esm2_t36_3B_UR50D and are newly initialized: ['esm.pooler.dense.bias', 'esm.pooler.dense.weight']\n",
      "You should probably TRAIN this model on a down-stream task to be able to use it for predictions and inference.\n"
     ]
    },
    {
     "name": "stdout",
     "output_type": "stream",
     "text": [
      "ESM_LoRA_Classfier\n",
      "Trainable Parameter: 2848188324.0\n",
      "ESM_LoRA_Classfier\n",
      "Trainable Parameter: 6561283.0\n",
      "\n"
     ]
    },
    {
     "name": "stderr",
     "output_type": "stream",
     "text": [
      "/home/ubuntu/data/miniconda3/envs/finetune-dephos/lib/python3.9/site-packages/accelerate/accelerator.py:446: FutureWarning: Passing the following arguments to `Accelerator` is deprecated and will be removed in version 1.0 of Accelerate: dict_keys(['dispatch_batches', 'split_batches']). Please pass an `accelerate.DataLoaderConfiguration` instead: \n",
      "dataloader_config = DataLoaderConfiguration(dispatch_batches=None, split_batches=False)\n",
      "  warnings.warn(\n"
     ]
    },
    {
     "data": {
      "text/html": [
       "\n",
       "    <div>\n",
       "      \n",
       "      <progress value='990' max='990' style='width:300px; height:20px; vertical-align: middle;'></progress>\n",
       "      [990/990 10:35, Epoch 10/10]\n",
       "    </div>\n",
       "    <table border=\"1\" class=\"dataframe\">\n",
       "  <thead>\n",
       " <tr style=\"text-align: left;\">\n",
       "      <th>Epoch</th>\n",
       "      <th>Training Loss</th>\n",
       "      <th>Validation Loss</th>\n",
       "      <th>Accuracy</th>\n",
       "    </tr>\n",
       "  </thead>\n",
       "  <tbody>\n",
       "    <tr>\n",
       "      <td>1</td>\n",
       "      <td>0.744700</td>\n",
       "      <td>0.677861</td>\n",
       "      <td>0.643939</td>\n",
       "    </tr>\n",
       "    <tr>\n",
       "      <td>2</td>\n",
       "      <td>0.719400</td>\n",
       "      <td>0.648837</td>\n",
       "      <td>0.656566</td>\n",
       "    </tr>\n",
       "    <tr>\n",
       "      <td>3</td>\n",
       "      <td>0.715300</td>\n",
       "      <td>0.626127</td>\n",
       "      <td>0.676768</td>\n",
       "    </tr>\n",
       "    <tr>\n",
       "      <td>4</td>\n",
       "      <td>0.673800</td>\n",
       "      <td>0.608383</td>\n",
       "      <td>0.696970</td>\n",
       "    </tr>\n",
       "    <tr>\n",
       "      <td>5</td>\n",
       "      <td>0.687100</td>\n",
       "      <td>0.598578</td>\n",
       "      <td>0.722222</td>\n",
       "    </tr>\n",
       "    <tr>\n",
       "      <td>6</td>\n",
       "      <td>0.673400</td>\n",
       "      <td>0.592852</td>\n",
       "      <td>0.712121</td>\n",
       "    </tr>\n",
       "    <tr>\n",
       "      <td>7</td>\n",
       "      <td>0.668200</td>\n",
       "      <td>0.588148</td>\n",
       "      <td>0.722222</td>\n",
       "    </tr>\n",
       "    <tr>\n",
       "      <td>8</td>\n",
       "      <td>0.657600</td>\n",
       "      <td>0.586289</td>\n",
       "      <td>0.709596</td>\n",
       "    </tr>\n",
       "    <tr>\n",
       "      <td>9</td>\n",
       "      <td>0.655700</td>\n",
       "      <td>0.585043</td>\n",
       "      <td>0.717172</td>\n",
       "    </tr>\n",
       "    <tr>\n",
       "      <td>10</td>\n",
       "      <td>0.661800</td>\n",
       "      <td>0.584541</td>\n",
       "      <td>0.712121</td>\n",
       "    </tr>\n",
       "  </tbody>\n",
       "</table><p>"
      ],
      "text/plain": [
       "<IPython.core.display.HTML object>"
      ]
     },
     "metadata": {},
     "output_type": "display_data"
    },
    {
     "name": "stdout",
     "output_type": "stream",
     "text": [
      "Saved improved model to ./model_output/finetuned_model_all_esm2.pth\n",
      "Saved improved model to ./model_output/finetuned_model_all_esm2.pth\n",
      "Saved improved model to ./model_output/finetuned_model_all_esm2.pth\n",
      "Saved improved model to ./model_output/finetuned_model_all_esm2.pth\n",
      "Saved improved model to ./model_output/finetuned_model_all_esm2.pth\n",
      "Saved improved model to ./model_output/finetuned_model_all_esm2.pth\n",
      "Saved improved model to ./model_output/finetuned_model_all_esm2.pth\n",
      "Saved improved model to ./model_output/finetuned_model_all_esm2.pth\n",
      "Saved improved model to ./model_output/finetuned_model_all_esm2.pth\n",
      "Loaded best model from ./model_output/finetuned_model_all_esm2.pth\n"
     ]
    },
    {
     "data": {
      "text/html": [
       "\n",
       "    <div>\n",
       "      \n",
       "      <progress value='50' max='50' style='width:300px; height:20px; vertical-align: middle;'></progress>\n",
       "      [50/50 00:08]\n",
       "    </div>\n",
       "    "
      ],
      "text/plain": [
       "<IPython.core.display.HTML object>"
      ]
     },
     "metadata": {},
     "output_type": "display_data"
    },
    {
     "name": "stderr",
     "output_type": "stream",
     "text": [
      "[I 2024-06-09 22:56:21,588] Trial 26 finished with values: [0.5850428342819214, 0.7171717171717171] and parameters: {'lr': 3.8071338526048985e-05, 'batch': 2, 'accum': 8, 'dropout_rate': 0.835063446971687, 'weight_decay': 0.0004807502609027021, 'warmup_pct': 0.024105438799975704, 'lora_rank': 4, 'lora_init_scale': 0.00018005405350406627, 'lora_scaling_rank': 2}. \n"
     ]
    },
    {
     "name": "stdout",
     "output_type": "stream",
     "text": [
      "{'eval_loss': 0.5850428342819214, 'eval_accuracy': 0.7171717171717171, 'eval_runtime': 8.7293, 'eval_samples_per_second': 45.364, 'eval_steps_per_second': 5.728, 'epoch': 10.0}\n",
      "History:  [{'loss': 0.7447, 'learning_rate': 1.9837171126730784e-05, 'epoch': 1.0, 'step': 99}, {'eval_loss': 0.6778614521026611, 'eval_accuracy': 0.6439393939393939, 'eval_runtime': 8.635, 'eval_samples_per_second': 45.86, 'eval_steps_per_second': 5.79, 'epoch': 1.0, 'step': 99}, {'loss': 0.7194, 'learning_rate': 3.7690625140788493e-05, 'epoch': 2.0, 'step': 198}, {'eval_loss': 0.6488370895385742, 'eval_accuracy': 0.6565656565656566, 'eval_runtime': 8.6868, 'eval_samples_per_second': 45.586, 'eval_steps_per_second': 5.756, 'epoch': 2.0, 'step': 198}, {'loss': 0.7153, 'learning_rate': 3.2979296998189934e-05, 'epoch': 3.0, 'step': 297}, {'eval_loss': 0.6261269450187683, 'eval_accuracy': 0.6767676767676768, 'eval_runtime': 8.6912, 'eval_samples_per_second': 45.563, 'eval_steps_per_second': 5.753, 'epoch': 3.0, 'step': 297}, {'loss': 0.6738, 'learning_rate': 2.8267968855591372e-05, 'epoch': 4.0, 'step': 396}, {'eval_loss': 0.6083831191062927, 'eval_accuracy': 0.696969696969697, 'eval_runtime': 8.6806, 'eval_samples_per_second': 45.619, 'eval_steps_per_second': 5.76, 'epoch': 4.0, 'step': 396}, {'loss': 0.6871, 'learning_rate': 2.355664071299281e-05, 'epoch': 5.0, 'step': 495}, {'eval_loss': 0.5985782742500305, 'eval_accuracy': 0.7222222222222222, 'eval_runtime': 8.7074, 'eval_samples_per_second': 45.479, 'eval_steps_per_second': 5.742, 'epoch': 5.0, 'step': 495}, {'loss': 0.6734, 'learning_rate': 1.8845312570394247e-05, 'epoch': 6.0, 'step': 594}, {'eval_loss': 0.5928522944450378, 'eval_accuracy': 0.7121212121212122, 'eval_runtime': 8.7068, 'eval_samples_per_second': 45.482, 'eval_steps_per_second': 5.743, 'epoch': 6.0, 'step': 594}, {'loss': 0.6682, 'learning_rate': 1.4133984427795686e-05, 'epoch': 7.0, 'step': 693}, {'eval_loss': 0.5881479978561401, 'eval_accuracy': 0.7222222222222222, 'eval_runtime': 8.7159, 'eval_samples_per_second': 45.434, 'eval_steps_per_second': 5.737, 'epoch': 7.0, 'step': 693}, {'loss': 0.6576, 'learning_rate': 9.422656285197123e-06, 'epoch': 8.0, 'step': 792}, {'eval_loss': 0.5862890481948853, 'eval_accuracy': 0.7095959595959596, 'eval_runtime': 8.723, 'eval_samples_per_second': 45.397, 'eval_steps_per_second': 5.732, 'epoch': 8.0, 'step': 792}, {'loss': 0.6557, 'learning_rate': 4.711328142598562e-06, 'epoch': 9.0, 'step': 891}, {'eval_loss': 0.5850428342819214, 'eval_accuracy': 0.7171717171717171, 'eval_runtime': 8.7224, 'eval_samples_per_second': 45.4, 'eval_steps_per_second': 5.732, 'epoch': 9.0, 'step': 891}, {'loss': 0.6618, 'learning_rate': 0.0, 'epoch': 10.0, 'step': 990}, {'eval_loss': 0.5845409631729126, 'eval_accuracy': 0.7121212121212122, 'eval_runtime': 8.7105, 'eval_samples_per_second': 45.462, 'eval_steps_per_second': 5.74, 'epoch': 10.0, 'step': 990}, {'train_runtime': 636.2233, 'train_samples_per_second': 24.897, 'train_steps_per_second': 1.556, 'total_flos': 9465195637497600.0, 'train_loss': 0.6856912323922822, 'epoch': 10.0, 'step': 990}, {'eval_loss': 0.5850428342819214, 'eval_accuracy': 0.7171717171717171, 'eval_runtime': 8.7293, 'eval_samples_per_second': 45.364, 'eval_steps_per_second': 5.728, 'epoch': 10.0, 'step': 990}]\n"
     ]
    },
    {
     "name": "stderr",
     "output_type": "stream",
     "text": [
      "/home/ubuntu/data/miniconda3/envs/finetune-dephos/lib/python3.9/site-packages/huggingface_hub/file_download.py:1132: FutureWarning: `resume_download` is deprecated and will be removed in version 1.0.0. Downloads always resume when possible. If you want to force a new download, use `force_download=True`.\n",
      "  warnings.warn(\n",
      "Downloading shards: 100%|█████████████████████████████████████████████████████████████| 2/2 [00:53<00:00, 26.60s/it]\n",
      "Loading checkpoint shards: 100%|██████████████████████████████████████████████████████| 2/2 [01:03<00:00, 31.71s/it]\n",
      "Some weights of EsmModel were not initialized from the model checkpoint at facebook/esm2_t36_3B_UR50D and are newly initialized: ['esm.pooler.dense.bias', 'esm.pooler.dense.weight']\n",
      "You should probably TRAIN this model on a down-stream task to be able to use it for predictions and inference.\n"
     ]
    },
    {
     "name": "stdout",
     "output_type": "stream",
     "text": [
      "ESM_LoRA_Classfier\n",
      "Trainable Parameter: 2848188324.0\n",
      "ESM_LoRA_Classfier\n",
      "Trainable Parameter: 6561283.0\n",
      "\n"
     ]
    },
    {
     "name": "stderr",
     "output_type": "stream",
     "text": [
      "/home/ubuntu/data/miniconda3/envs/finetune-dephos/lib/python3.9/site-packages/accelerate/accelerator.py:446: FutureWarning: Passing the following arguments to `Accelerator` is deprecated and will be removed in version 1.0 of Accelerate: dict_keys(['dispatch_batches', 'split_batches']). Please pass an `accelerate.DataLoaderConfiguration` instead: \n",
      "dataloader_config = DataLoaderConfiguration(dispatch_batches=None, split_batches=False)\n",
      "  warnings.warn(\n"
     ]
    },
    {
     "data": {
      "text/html": [
       "\n",
       "    <div>\n",
       "      \n",
       "      <progress value='3960' max='3960' style='width:300px; height:20px; vertical-align: middle;'></progress>\n",
       "      [3960/3960 13:48, Epoch 10/10]\n",
       "    </div>\n",
       "    <table border=\"1\" class=\"dataframe\">\n",
       "  <thead>\n",
       " <tr style=\"text-align: left;\">\n",
       "      <th>Epoch</th>\n",
       "      <th>Training Loss</th>\n",
       "      <th>Validation Loss</th>\n",
       "      <th>Accuracy</th>\n",
       "    </tr>\n",
       "  </thead>\n",
       "  <tbody>\n",
       "    <tr>\n",
       "      <td>1</td>\n",
       "      <td>0.709000</td>\n",
       "      <td>0.616595</td>\n",
       "      <td>0.666667</td>\n",
       "    </tr>\n",
       "    <tr>\n",
       "      <td>2</td>\n",
       "      <td>0.660900</td>\n",
       "      <td>0.566880</td>\n",
       "      <td>0.694444</td>\n",
       "    </tr>\n",
       "    <tr>\n",
       "      <td>3</td>\n",
       "      <td>0.620500</td>\n",
       "      <td>0.556684</td>\n",
       "      <td>0.714646</td>\n",
       "    </tr>\n",
       "    <tr>\n",
       "      <td>4</td>\n",
       "      <td>0.653300</td>\n",
       "      <td>0.555915</td>\n",
       "      <td>0.714646</td>\n",
       "    </tr>\n",
       "    <tr>\n",
       "      <td>5</td>\n",
       "      <td>0.678800</td>\n",
       "      <td>0.580378</td>\n",
       "      <td>0.709596</td>\n",
       "    </tr>\n",
       "    <tr>\n",
       "      <td>6</td>\n",
       "      <td>0.689600</td>\n",
       "      <td>0.573139</td>\n",
       "      <td>0.744949</td>\n",
       "    </tr>\n",
       "    <tr>\n",
       "      <td>7</td>\n",
       "      <td>0.711700</td>\n",
       "      <td>0.549602</td>\n",
       "      <td>0.722222</td>\n",
       "    </tr>\n",
       "    <tr>\n",
       "      <td>8</td>\n",
       "      <td>0.672700</td>\n",
       "      <td>0.611065</td>\n",
       "      <td>0.707071</td>\n",
       "    </tr>\n",
       "    <tr>\n",
       "      <td>9</td>\n",
       "      <td>0.660000</td>\n",
       "      <td>0.571962</td>\n",
       "      <td>0.732323</td>\n",
       "    </tr>\n",
       "    <tr>\n",
       "      <td>10</td>\n",
       "      <td>0.600900</td>\n",
       "      <td>0.565993</td>\n",
       "      <td>0.742424</td>\n",
       "    </tr>\n",
       "  </tbody>\n",
       "</table><p>"
      ],
      "text/plain": [
       "<IPython.core.display.HTML object>"
      ]
     },
     "metadata": {},
     "output_type": "display_data"
    },
    {
     "name": "stdout",
     "output_type": "stream",
     "text": [
      "Saved improved model to ./model_output/finetuned_model_all_esm2.pth\n",
      "Saved improved model to ./model_output/finetuned_model_all_esm2.pth\n",
      "Saved improved model to ./model_output/finetuned_model_all_esm2.pth\n",
      "Saved improved model to ./model_output/finetuned_model_all_esm2.pth\n",
      "Saved improved model to ./model_output/finetuned_model_all_esm2.pth\n",
      "Stopping early at epoch 10.0: No improvement in loss or accuracy for 3 evaluations.\n",
      "Loaded best model from ./model_output/finetuned_model_all_esm2.pth\n"
     ]
    },
    {
     "data": {
      "text/html": [
       "\n",
       "    <div>\n",
       "      \n",
       "      <progress value='50' max='50' style='width:300px; height:20px; vertical-align: middle;'></progress>\n",
       "      [50/50 00:08]\n",
       "    </div>\n",
       "    "
      ],
      "text/plain": [
       "<IPython.core.display.HTML object>"
      ]
     },
     "metadata": {},
     "output_type": "display_data"
    },
    {
     "name": "stderr",
     "output_type": "stream",
     "text": [
      "[I 2024-06-09 23:13:15,290] Trial 27 finished with values: [0.5496017932891846, 0.7222222222222222] and parameters: {'lr': 0.00036211202411594545, 'batch': 1, 'accum': 4, 'dropout_rate': 0.7218944288174935, 'weight_decay': 0.0001544159178025411, 'warmup_pct': 0.15508328048386155, 'lora_rank': 32, 'lora_init_scale': 0.000898900407884569, 'lora_scaling_rank': 5}. \n"
     ]
    },
    {
     "name": "stdout",
     "output_type": "stream",
     "text": [
      "Stopping early at epoch 10.0: No improvement in loss or accuracy for 3 evaluations.\n",
      "{'eval_loss': 0.5496017932891846, 'eval_accuracy': 0.7222222222222222, 'eval_runtime': 8.6871, 'eval_samples_per_second': 45.585, 'eval_steps_per_second': 5.756, 'epoch': 10.0}\n",
      "History:  [{'loss': 0.709, 'learning_rate': 5.8386140696219215e-05, 'epoch': 1.0, 'step': 396}, {'eval_loss': 0.6165952086448669, 'eval_accuracy': 0.6666666666666666, 'eval_runtime': 8.6364, 'eval_samples_per_second': 45.852, 'eval_steps_per_second': 5.789, 'epoch': 1.0, 'step': 396}, {'loss': 0.6609, 'learning_rate': 0.00011677228139243843, 'epoch': 2.0, 'step': 792}, {'eval_loss': 0.5668798685073853, 'eval_accuracy': 0.6944444444444444, 'eval_runtime': 8.6711, 'eval_samples_per_second': 45.669, 'eval_steps_per_second': 5.766, 'epoch': 2.0, 'step': 792}, {'loss': 0.6205, 'learning_rate': 0.00017515842208865764, 'epoch': 3.0, 'step': 1188}, {'eval_loss': 0.5566835403442383, 'eval_accuracy': 0.7146464646464646, 'eval_runtime': 8.6902, 'eval_samples_per_second': 45.569, 'eval_steps_per_second': 5.754, 'epoch': 3.0, 'step': 1188}, {'loss': 0.6533, 'learning_rate': 0.00023354456278487686, 'epoch': 4.0, 'step': 1584}, {'eval_loss': 0.5559149980545044, 'eval_accuracy': 0.7146464646464646, 'eval_runtime': 8.6882, 'eval_samples_per_second': 45.579, 'eval_steps_per_second': 5.755, 'epoch': 4.0, 'step': 1584}, {'loss': 0.6788, 'learning_rate': 0.0002919307034810961, 'epoch': 5.0, 'step': 1980}, {'eval_loss': 0.5803782343864441, 'eval_accuracy': 0.7095959595959596, 'eval_runtime': 8.686, 'eval_samples_per_second': 45.59, 'eval_steps_per_second': 5.756, 'epoch': 5.0, 'step': 1980}, {'loss': 0.6896, 'learning_rate': 0.0003503168441773153, 'epoch': 6.0, 'step': 2376}, {'eval_loss': 0.5731387734413147, 'eval_accuracy': 0.7449494949494949, 'eval_runtime': 8.6813, 'eval_samples_per_second': 45.616, 'eval_steps_per_second': 5.76, 'epoch': 6.0, 'step': 2376}, {'loss': 0.7117, 'learning_rate': 0.0002860299764958399, 'epoch': 7.0, 'step': 2772}, {'eval_loss': 0.5496017932891846, 'eval_accuracy': 0.7222222222222222, 'eval_runtime': 8.6829, 'eval_samples_per_second': 45.607, 'eval_steps_per_second': 5.758, 'epoch': 7.0, 'step': 2772}, {'loss': 0.6727, 'learning_rate': 0.00019068665099722658, 'epoch': 8.0, 'step': 3168}, {'eval_loss': 0.6110650300979614, 'eval_accuracy': 0.7070707070707071, 'eval_runtime': 8.6808, 'eval_samples_per_second': 45.618, 'eval_steps_per_second': 5.76, 'epoch': 8.0, 'step': 3168}, {'loss': 0.66, 'learning_rate': 9.534332549861329e-05, 'epoch': 9.0, 'step': 3564}, {'eval_loss': 0.5719619393348694, 'eval_accuracy': 0.7323232323232324, 'eval_runtime': 8.6817, 'eval_samples_per_second': 45.613, 'eval_steps_per_second': 5.759, 'epoch': 9.0, 'step': 3564}, {'loss': 0.6009, 'learning_rate': 0.0, 'epoch': 10.0, 'step': 3960}, {'eval_loss': 0.5659925937652588, 'eval_accuracy': 0.7424242424242424, 'eval_runtime': 8.6923, 'eval_samples_per_second': 45.558, 'eval_steps_per_second': 5.752, 'epoch': 10.0, 'step': 3960}, {'train_runtime': 828.5144, 'train_samples_per_second': 19.119, 'train_steps_per_second': 4.78, 'total_flos': 9465195637497600.0, 'train_loss': 0.6657405814739189, 'epoch': 10.0, 'step': 3960}, {'eval_loss': 0.5496017932891846, 'eval_accuracy': 0.7222222222222222, 'eval_runtime': 8.6871, 'eval_samples_per_second': 45.585, 'eval_steps_per_second': 5.756, 'epoch': 10.0, 'step': 3960}]\n"
     ]
    },
    {
     "name": "stderr",
     "output_type": "stream",
     "text": [
      "/home/ubuntu/data/miniconda3/envs/finetune-dephos/lib/python3.9/site-packages/huggingface_hub/file_download.py:1132: FutureWarning: `resume_download` is deprecated and will be removed in version 1.0.0. Downloads always resume when possible. If you want to force a new download, use `force_download=True`.\n",
      "  warnings.warn(\n",
      "Downloading shards: 100%|█████████████████████████████████████████████████████████████| 2/2 [01:14<00:00, 37.47s/it]\n",
      "Loading checkpoint shards: 100%|██████████████████████████████████████████████████████| 2/2 [01:11<00:00, 35.87s/it]\n",
      "Some weights of EsmModel were not initialized from the model checkpoint at facebook/esm2_t36_3B_UR50D and are newly initialized: ['esm.pooler.dense.bias', 'esm.pooler.dense.weight']\n",
      "You should probably TRAIN this model on a down-stream task to be able to use it for predictions and inference.\n"
     ]
    },
    {
     "name": "stdout",
     "output_type": "stream",
     "text": [
      "ESM_LoRA_Classfier\n",
      "Trainable Parameter: 2848188324.0\n",
      "ESM_LoRA_Classfier\n",
      "Trainable Parameter: 6561283.0\n",
      "\n"
     ]
    },
    {
     "name": "stderr",
     "output_type": "stream",
     "text": [
      "/home/ubuntu/data/miniconda3/envs/finetune-dephos/lib/python3.9/site-packages/accelerate/accelerator.py:446: FutureWarning: Passing the following arguments to `Accelerator` is deprecated and will be removed in version 1.0 of Accelerate: dict_keys(['dispatch_batches', 'split_batches']). Please pass an `accelerate.DataLoaderConfiguration` instead: \n",
      "dataloader_config = DataLoaderConfiguration(dispatch_batches=None, split_batches=False)\n",
      "  warnings.warn(\n"
     ]
    },
    {
     "data": {
      "text/html": [
       "\n",
       "    <div>\n",
       "      \n",
       "      <progress value='99' max='240' style='width:300px; height:20px; vertical-align: middle;'></progress>\n",
       "      [ 99/240 02:54 < 04:13, 0.56 it/s, Epoch 4/10]\n",
       "    </div>\n",
       "    <table border=\"1\" class=\"dataframe\">\n",
       "  <thead>\n",
       " <tr style=\"text-align: left;\">\n",
       "      <th>Epoch</th>\n",
       "      <th>Training Loss</th>\n",
       "      <th>Validation Loss</th>\n",
       "      <th>Accuracy</th>\n",
       "    </tr>\n",
       "  </thead>\n",
       "  <tbody>\n",
       "    <tr>\n",
       "      <td>0</td>\n",
       "      <td>0.689300</td>\n",
       "      <td>0.547782</td>\n",
       "      <td>0.724747</td>\n",
       "    </tr>\n",
       "    <tr>\n",
       "      <td>1</td>\n",
       "      <td>0.589000</td>\n",
       "      <td>0.571554</td>\n",
       "      <td>0.704545</td>\n",
       "    </tr>\n",
       "    <tr>\n",
       "      <td>2</td>\n",
       "      <td>0.592100</td>\n",
       "      <td>0.634950</td>\n",
       "      <td>0.674242</td>\n",
       "    </tr>\n",
       "    <tr>\n",
       "      <td>4</td>\n",
       "      <td>0.616900</td>\n",
       "      <td>0.558932</td>\n",
       "      <td>0.707071</td>\n",
       "    </tr>\n",
       "  </tbody>\n",
       "</table><p>"
      ],
      "text/plain": [
       "<IPython.core.display.HTML object>"
      ]
     },
     "metadata": {},
     "output_type": "display_data"
    },
    {
     "name": "stdout",
     "output_type": "stream",
     "text": [
      "Saved improved model to ./model_output/finetuned_model_all_esm2.pth\n",
      "Stopping early at epoch 4.0: No improvement in loss or accuracy for 3 evaluations.\n",
      "Loaded best model from ./model_output/finetuned_model_all_esm2.pth\n"
     ]
    },
    {
     "data": {
      "text/html": [
       "\n",
       "    <div>\n",
       "      \n",
       "      <progress value='50' max='50' style='width:300px; height:20px; vertical-align: middle;'></progress>\n",
       "      [50/50 00:08]\n",
       "    </div>\n",
       "    "
      ],
      "text/plain": [
       "<IPython.core.display.HTML object>"
      ]
     },
     "metadata": {},
     "output_type": "display_data"
    },
    {
     "name": "stdout",
     "output_type": "stream",
     "text": [
      "Stopping early at epoch 4.0: No improvement in loss or accuracy for 3 evaluations.\n",
      "{'eval_loss': 0.5477822422981262, 'eval_accuracy': 0.7247474747474747, 'eval_runtime': 8.6807, 'eval_samples_per_second': 45.619, 'eval_steps_per_second': 5.76, 'epoch': 4.0}\n"
     ]
    },
    {
     "name": "stderr",
     "output_type": "stream",
     "text": [
      "[I 2024-06-09 23:19:46,127] Trial 28 finished with values: [0.5477822422981262, 0.7247474747474747] and parameters: {'lr': 0.004107622813659247, 'batch': 8, 'accum': 8, 'dropout_rate': 0.6052216458578873, 'weight_decay': 1.7852317440854752e-05, 'warmup_pct': 0.08892559904333748, 'lora_rank': 28, 'lora_init_scale': 0.014581147376230933, 'lora_scaling_rank': 7}. \n"
     ]
    },
    {
     "name": "stdout",
     "output_type": "stream",
     "text": [
      "History:  [{'loss': 0.6893, 'learning_rate': 0.0005601303836808064, 'epoch': 0.97, 'step': 24}, {'eval_loss': 0.5477822422981262, 'eval_accuracy': 0.7247474747474747, 'eval_runtime': 8.6067, 'eval_samples_per_second': 46.011, 'eval_steps_per_second': 5.809, 'epoch': 0.97, 'step': 24}, {'loss': 0.589, 'learning_rate': 0.001143599533348313, 'epoch': 1.98, 'step': 49}, {'eval_loss': 0.5715540647506714, 'eval_accuracy': 0.7045454545454546, 'eval_runtime': 8.6633, 'eval_samples_per_second': 45.71, 'eval_steps_per_second': 5.771, 'epoch': 1.98, 'step': 49}, {'loss': 0.5921, 'learning_rate': 0.0017270686830158197, 'epoch': 2.99, 'step': 74}, {'eval_loss': 0.6349501013755798, 'eval_accuracy': 0.6742424242424242, 'eval_runtime': 8.7083, 'eval_samples_per_second': 45.474, 'eval_steps_per_second': 5.742, 'epoch': 2.99, 'step': 74}, {'loss': 0.6169, 'learning_rate': 0.0023105378326833265, 'epoch': 4.0, 'step': 99}, {'eval_loss': 0.5589317679405212, 'eval_accuracy': 0.7070707070707071, 'eval_runtime': 8.6717, 'eval_samples_per_second': 45.666, 'eval_steps_per_second': 5.766, 'epoch': 4.0, 'step': 99}, {'train_runtime': 175.6712, 'train_samples_per_second': 90.168, 'train_steps_per_second': 1.366, 'total_flos': 3786078254999040.0, 'train_loss': 0.6211537255181206, 'epoch': 4.0, 'step': 99}, {'eval_loss': 0.5477822422981262, 'eval_accuracy': 0.7247474747474747, 'eval_runtime': 8.6807, 'eval_samples_per_second': 45.619, 'eval_steps_per_second': 5.76, 'epoch': 4.0, 'step': 99}]\n"
     ]
    },
    {
     "name": "stderr",
     "output_type": "stream",
     "text": [
      "/home/ubuntu/data/miniconda3/envs/finetune-dephos/lib/python3.9/site-packages/huggingface_hub/file_download.py:1132: FutureWarning: `resume_download` is deprecated and will be removed in version 1.0.0. Downloads always resume when possible. If you want to force a new download, use `force_download=True`.\n",
      "  warnings.warn(\n",
      "Downloading shards: 100%|█████████████████████████████████████████████████████████████| 2/2 [00:53<00:00, 26.68s/it]\n",
      "Loading checkpoint shards: 100%|██████████████████████████████████████████████████████| 2/2 [01:03<00:00, 31.94s/it]\n",
      "Some weights of EsmModel were not initialized from the model checkpoint at facebook/esm2_t36_3B_UR50D and are newly initialized: ['esm.pooler.dense.bias', 'esm.pooler.dense.weight']\n",
      "You should probably TRAIN this model on a down-stream task to be able to use it for predictions and inference.\n"
     ]
    },
    {
     "name": "stdout",
     "output_type": "stream",
     "text": [
      "ESM_LoRA_Classfier\n",
      "Trainable Parameter: 2848188324.0\n",
      "ESM_LoRA_Classfier\n",
      "Trainable Parameter: 6561283.0\n",
      "\n"
     ]
    },
    {
     "name": "stderr",
     "output_type": "stream",
     "text": [
      "/home/ubuntu/data/miniconda3/envs/finetune-dephos/lib/python3.9/site-packages/accelerate/accelerator.py:446: FutureWarning: Passing the following arguments to `Accelerator` is deprecated and will be removed in version 1.0 of Accelerate: dict_keys(['dispatch_batches', 'split_batches']). Please pass an `accelerate.DataLoaderConfiguration` instead: \n",
      "dataloader_config = DataLoaderConfiguration(dispatch_batches=None, split_batches=False)\n",
      "  warnings.warn(\n"
     ]
    },
    {
     "data": {
      "text/html": [
       "\n",
       "    <div>\n",
       "      \n",
       "      <progress value='990' max='990' style='width:300px; height:20px; vertical-align: middle;'></progress>\n",
       "      [990/990 10:34, Epoch 10/10]\n",
       "    </div>\n",
       "    <table border=\"1\" class=\"dataframe\">\n",
       "  <thead>\n",
       " <tr style=\"text-align: left;\">\n",
       "      <th>Epoch</th>\n",
       "      <th>Training Loss</th>\n",
       "      <th>Validation Loss</th>\n",
       "      <th>Accuracy</th>\n",
       "    </tr>\n",
       "  </thead>\n",
       "  <tbody>\n",
       "    <tr>\n",
       "      <td>1</td>\n",
       "      <td>0.702100</td>\n",
       "      <td>0.683885</td>\n",
       "      <td>0.555556</td>\n",
       "    </tr>\n",
       "    <tr>\n",
       "      <td>2</td>\n",
       "      <td>0.681900</td>\n",
       "      <td>0.660768</td>\n",
       "      <td>0.681818</td>\n",
       "    </tr>\n",
       "    <tr>\n",
       "      <td>3</td>\n",
       "      <td>0.671900</td>\n",
       "      <td>0.635683</td>\n",
       "      <td>0.676768</td>\n",
       "    </tr>\n",
       "    <tr>\n",
       "      <td>4</td>\n",
       "      <td>0.639800</td>\n",
       "      <td>0.612431</td>\n",
       "      <td>0.689394</td>\n",
       "    </tr>\n",
       "    <tr>\n",
       "      <td>5</td>\n",
       "      <td>0.633300</td>\n",
       "      <td>0.593116</td>\n",
       "      <td>0.691919</td>\n",
       "    </tr>\n",
       "    <tr>\n",
       "      <td>6</td>\n",
       "      <td>0.608200</td>\n",
       "      <td>0.573765</td>\n",
       "      <td>0.737374</td>\n",
       "    </tr>\n",
       "    <tr>\n",
       "      <td>7</td>\n",
       "      <td>0.579400</td>\n",
       "      <td>0.559802</td>\n",
       "      <td>0.739899</td>\n",
       "    </tr>\n",
       "    <tr>\n",
       "      <td>8</td>\n",
       "      <td>0.562800</td>\n",
       "      <td>0.547623</td>\n",
       "      <td>0.742424</td>\n",
       "    </tr>\n",
       "    <tr>\n",
       "      <td>9</td>\n",
       "      <td>0.552400</td>\n",
       "      <td>0.540495</td>\n",
       "      <td>0.732323</td>\n",
       "    </tr>\n",
       "    <tr>\n",
       "      <td>10</td>\n",
       "      <td>0.537100</td>\n",
       "      <td>0.532198</td>\n",
       "      <td>0.742424</td>\n",
       "    </tr>\n",
       "  </tbody>\n",
       "</table><p>"
      ],
      "text/plain": [
       "<IPython.core.display.HTML object>"
      ]
     },
     "metadata": {},
     "output_type": "display_data"
    },
    {
     "name": "stdout",
     "output_type": "stream",
     "text": [
      "Saved improved model to ./model_output/finetuned_model_all_esm2.pth\n",
      "Saved improved model to ./model_output/finetuned_model_all_esm2.pth\n",
      "Saved improved model to ./model_output/finetuned_model_all_esm2.pth\n",
      "Saved improved model to ./model_output/finetuned_model_all_esm2.pth\n",
      "Saved improved model to ./model_output/finetuned_model_all_esm2.pth\n",
      "Saved improved model to ./model_output/finetuned_model_all_esm2.pth\n",
      "Saved improved model to ./model_output/finetuned_model_all_esm2.pth\n",
      "Saved improved model to ./model_output/finetuned_model_all_esm2.pth\n",
      "Saved improved model to ./model_output/finetuned_model_all_esm2.pth\n",
      "Saved improved model to ./model_output/finetuned_model_all_esm2.pth\n",
      "Loaded best model from ./model_output/finetuned_model_all_esm2.pth\n"
     ]
    },
    {
     "data": {
      "text/html": [
       "\n",
       "    <div>\n",
       "      \n",
       "      <progress value='50' max='50' style='width:300px; height:20px; vertical-align: middle;'></progress>\n",
       "      [50/50 00:08]\n",
       "    </div>\n",
       "    "
      ],
      "text/plain": [
       "<IPython.core.display.HTML object>"
      ]
     },
     "metadata": {},
     "output_type": "display_data"
    },
    {
     "name": "stderr",
     "output_type": "stream",
     "text": [
      "[I 2024-06-09 23:33:25,541] Trial 29 finished with values: [0.5321978330612183, 0.7424242424242424] and parameters: {'lr': 3.8063604168568044e-05, 'batch': 2, 'accum': 8, 'dropout_rate': 0.5266248075117914, 'weight_decay': 0.00016809927271691145, 'warmup_pct': 0.11948298552698644, 'lora_rank': 28, 'lora_init_scale': 0.00011535723452315945, 'lora_scaling_rank': 3}. \n"
     ]
    },
    {
     "name": "stdout",
     "output_type": "stream",
     "text": [
      "{'eval_loss': 0.5321978330612183, 'eval_accuracy': 0.7424242424242424, 'eval_runtime': 8.7322, 'eval_samples_per_second': 45.349, 'eval_steps_per_second': 5.726, 'epoch': 10.0}\n",
      "History:  [{'loss': 0.7021, 'learning_rate': 3.983400436245493e-06, 'epoch': 1.0, 'step': 99}, {'eval_loss': 0.6838853359222412, 'eval_accuracy': 0.5555555555555556, 'eval_runtime': 8.6254, 'eval_samples_per_second': 45.911, 'eval_steps_per_second': 5.797, 'epoch': 1.0, 'step': 99}, {'loss': 0.6819, 'learning_rate': 7.966800872490986e-06, 'epoch': 2.0, 'step': 198}, {'eval_loss': 0.660768449306488, 'eval_accuracy': 0.6818181818181818, 'eval_runtime': 8.6988, 'eval_samples_per_second': 45.523, 'eval_steps_per_second': 5.748, 'epoch': 2.0, 'step': 198}, {'loss': 0.6719, 'learning_rate': 1.195020130873648e-05, 'epoch': 3.0, 'step': 297}, {'eval_loss': 0.6356831789016724, 'eval_accuracy': 0.6767676767676768, 'eval_runtime': 8.7054, 'eval_samples_per_second': 45.489, 'eval_steps_per_second': 5.744, 'epoch': 3.0, 'step': 297}, {'loss': 0.6398, 'learning_rate': 1.5933601744981973e-05, 'epoch': 4.0, 'step': 396}, {'eval_loss': 0.6124306321144104, 'eval_accuracy': 0.6893939393939394, 'eval_runtime': 8.705, 'eval_samples_per_second': 45.491, 'eval_steps_per_second': 5.744, 'epoch': 4.0, 'step': 396}, {'loss': 0.6333, 'learning_rate': 1.9917002181227468e-05, 'epoch': 5.0, 'step': 495}, {'eval_loss': 0.5931156277656555, 'eval_accuracy': 0.6919191919191919, 'eval_runtime': 8.6741, 'eval_samples_per_second': 45.653, 'eval_steps_per_second': 5.764, 'epoch': 5.0, 'step': 495}, {'loss': 0.6082, 'learning_rate': 2.390040261747296e-05, 'epoch': 6.0, 'step': 594}, {'eval_loss': 0.5737652778625488, 'eval_accuracy': 0.7373737373737373, 'eval_runtime': 8.7169, 'eval_samples_per_second': 45.429, 'eval_steps_per_second': 5.736, 'epoch': 6.0, 'step': 594}, {'loss': 0.5794, 'learning_rate': 2.788380305371845e-05, 'epoch': 7.0, 'step': 693}, {'eval_loss': 0.5598017573356628, 'eval_accuracy': 0.73989898989899, 'eval_runtime': 8.733, 'eval_samples_per_second': 45.345, 'eval_steps_per_second': 5.725, 'epoch': 7.0, 'step': 693}, {'loss': 0.5628, 'learning_rate': 3.1867203489963945e-05, 'epoch': 8.0, 'step': 792}, {'eval_loss': 0.5476233959197998, 'eval_accuracy': 0.7424242424242424, 'eval_runtime': 8.7407, 'eval_samples_per_second': 45.305, 'eval_steps_per_second': 5.72, 'epoch': 8.0, 'step': 792}, {'loss': 0.5524, 'learning_rate': 3.585060392620944e-05, 'epoch': 9.0, 'step': 891}, {'eval_loss': 0.5404949188232422, 'eval_accuracy': 0.7323232323232324, 'eval_runtime': 8.6935, 'eval_samples_per_second': 45.552, 'eval_steps_per_second': 5.751, 'epoch': 9.0, 'step': 891}, {'loss': 0.5371, 'learning_rate': 0.0, 'epoch': 10.0, 'step': 990}, {'eval_loss': 0.5321978330612183, 'eval_accuracy': 0.7424242424242424, 'eval_runtime': 8.6925, 'eval_samples_per_second': 45.556, 'eval_steps_per_second': 5.752, 'epoch': 10.0, 'step': 990}, {'train_runtime': 635.5188, 'train_samples_per_second': 24.925, 'train_steps_per_second': 1.558, 'total_flos': 9465195637497600.0, 'train_loss': 0.616914255932124, 'epoch': 10.0, 'step': 990}, {'eval_loss': 0.5321978330612183, 'eval_accuracy': 0.7424242424242424, 'eval_runtime': 8.7322, 'eval_samples_per_second': 45.349, 'eval_steps_per_second': 5.726, 'epoch': 10.0, 'step': 990}]\n"
     ]
    },
    {
     "name": "stderr",
     "output_type": "stream",
     "text": [
      "/home/ubuntu/data/miniconda3/envs/finetune-dephos/lib/python3.9/site-packages/huggingface_hub/file_download.py:1132: FutureWarning: `resume_download` is deprecated and will be removed in version 1.0.0. Downloads always resume when possible. If you want to force a new download, use `force_download=True`.\n",
      "  warnings.warn(\n",
      "Downloading shards: 100%|█████████████████████████████████████████████████████████████| 2/2 [00:54<00:00, 27.04s/it]\n",
      "Loading checkpoint shards: 100%|██████████████████████████████████████████████████████| 2/2 [01:02<00:00, 31.37s/it]\n",
      "Some weights of EsmModel were not initialized from the model checkpoint at facebook/esm2_t36_3B_UR50D and are newly initialized: ['esm.pooler.dense.bias', 'esm.pooler.dense.weight']\n",
      "You should probably TRAIN this model on a down-stream task to be able to use it for predictions and inference.\n"
     ]
    },
    {
     "name": "stdout",
     "output_type": "stream",
     "text": [
      "ESM_LoRA_Classfier\n",
      "Trainable Parameter: 2848188324.0\n",
      "ESM_LoRA_Classfier\n",
      "Trainable Parameter: 6561283.0\n",
      "\n"
     ]
    },
    {
     "name": "stderr",
     "output_type": "stream",
     "text": [
      "/home/ubuntu/data/miniconda3/envs/finetune-dephos/lib/python3.9/site-packages/accelerate/accelerator.py:446: FutureWarning: Passing the following arguments to `Accelerator` is deprecated and will be removed in version 1.0 of Accelerate: dict_keys(['dispatch_batches', 'split_batches']). Please pass an `accelerate.DataLoaderConfiguration` instead: \n",
      "dataloader_config = DataLoaderConfiguration(dispatch_batches=None, split_batches=False)\n",
      "  warnings.warn(\n"
     ]
    },
    {
     "data": {
      "text/html": [
       "\n",
       "    <div>\n",
       "      \n",
       "      <progress value='3960' max='3960' style='width:300px; height:20px; vertical-align: middle;'></progress>\n",
       "      [3960/3960 10:48, Epoch 10/10]\n",
       "    </div>\n",
       "    <table border=\"1\" class=\"dataframe\">\n",
       "  <thead>\n",
       " <tr style=\"text-align: left;\">\n",
       "      <th>Epoch</th>\n",
       "      <th>Training Loss</th>\n",
       "      <th>Validation Loss</th>\n",
       "      <th>Accuracy</th>\n",
       "    </tr>\n",
       "  </thead>\n",
       "  <tbody>\n",
       "    <tr>\n",
       "      <td>1</td>\n",
       "      <td>0.705800</td>\n",
       "      <td>0.617574</td>\n",
       "      <td>0.669192</td>\n",
       "    </tr>\n",
       "    <tr>\n",
       "      <td>2</td>\n",
       "      <td>0.669700</td>\n",
       "      <td>0.569025</td>\n",
       "      <td>0.717172</td>\n",
       "    </tr>\n",
       "    <tr>\n",
       "      <td>3</td>\n",
       "      <td>0.653200</td>\n",
       "      <td>0.559389</td>\n",
       "      <td>0.712121</td>\n",
       "    </tr>\n",
       "    <tr>\n",
       "      <td>4</td>\n",
       "      <td>0.623500</td>\n",
       "      <td>0.538313</td>\n",
       "      <td>0.727273</td>\n",
       "    </tr>\n",
       "    <tr>\n",
       "      <td>5</td>\n",
       "      <td>0.624200</td>\n",
       "      <td>0.537909</td>\n",
       "      <td>0.724747</td>\n",
       "    </tr>\n",
       "    <tr>\n",
       "      <td>6</td>\n",
       "      <td>0.627300</td>\n",
       "      <td>0.538384</td>\n",
       "      <td>0.732323</td>\n",
       "    </tr>\n",
       "    <tr>\n",
       "      <td>7</td>\n",
       "      <td>0.620400</td>\n",
       "      <td>0.532636</td>\n",
       "      <td>0.719697</td>\n",
       "    </tr>\n",
       "    <tr>\n",
       "      <td>8</td>\n",
       "      <td>0.591400</td>\n",
       "      <td>0.529070</td>\n",
       "      <td>0.727273</td>\n",
       "    </tr>\n",
       "    <tr>\n",
       "      <td>9</td>\n",
       "      <td>0.600800</td>\n",
       "      <td>0.529373</td>\n",
       "      <td>0.732323</td>\n",
       "    </tr>\n",
       "    <tr>\n",
       "      <td>10</td>\n",
       "      <td>0.605100</td>\n",
       "      <td>0.527905</td>\n",
       "      <td>0.732323</td>\n",
       "    </tr>\n",
       "  </tbody>\n",
       "</table><p>"
      ],
      "text/plain": [
       "<IPython.core.display.HTML object>"
      ]
     },
     "metadata": {},
     "output_type": "display_data"
    },
    {
     "name": "stdout",
     "output_type": "stream",
     "text": [
      "Saved improved model to ./model_output/finetuned_model_all_esm2.pth\n",
      "Saved improved model to ./model_output/finetuned_model_all_esm2.pth\n",
      "Saved improved model to ./model_output/finetuned_model_all_esm2.pth\n",
      "Saved improved model to ./model_output/finetuned_model_all_esm2.pth\n",
      "Saved improved model to ./model_output/finetuned_model_all_esm2.pth\n",
      "Saved improved model to ./model_output/finetuned_model_all_esm2.pth\n",
      "Saved improved model to ./model_output/finetuned_model_all_esm2.pth\n",
      "Saved improved model to ./model_output/finetuned_model_all_esm2.pth\n",
      "Loaded best model from ./model_output/finetuned_model_all_esm2.pth\n"
     ]
    },
    {
     "data": {
      "text/html": [
       "\n",
       "    <div>\n",
       "      \n",
       "      <progress value='50' max='50' style='width:300px; height:20px; vertical-align: middle;'></progress>\n",
       "      [50/50 00:08]\n",
       "    </div>\n",
       "    "
      ],
      "text/plain": [
       "<IPython.core.display.HTML object>"
      ]
     },
     "metadata": {},
     "output_type": "display_data"
    },
    {
     "name": "stderr",
     "output_type": "stream",
     "text": [
      "[I 2024-06-09 23:47:16,773] Trial 30 finished with values: [0.5279045701026917, 0.7323232323232324] and parameters: {'lr': 8.04650360563304e-05, 'batch': 2, 'accum': 2, 'dropout_rate': 0.7980894556694724, 'weight_decay': 1.645122634530466e-05, 'warmup_pct': 0.06077209353998927, 'lora_rank': 32, 'lora_init_scale': 0.0001783091925520885, 'lora_scaling_rank': 3}. \n"
     ]
    },
    {
     "name": "stdout",
     "output_type": "stream",
     "text": [
      "{'eval_loss': 0.5279045701026917, 'eval_accuracy': 0.7323232323232324, 'eval_runtime': 8.7, 'eval_samples_per_second': 45.517, 'eval_steps_per_second': 5.747, 'epoch': 10.0}\n",
      "History:  [{'loss': 0.7058, 'learning_rate': 6.624564299024292e-05, 'epoch': 1.0, 'step': 396}, {'eval_loss': 0.6175742149353027, 'eval_accuracy': 0.6691919191919192, 'eval_runtime': 8.6635, 'eval_samples_per_second': 45.709, 'eval_steps_per_second': 5.771, 'epoch': 1.0, 'step': 396}, {'loss': 0.6697, 'learning_rate': 7.327198454339025e-05, 'epoch': 2.0, 'step': 792}, {'eval_loss': 0.5690245032310486, 'eval_accuracy': 0.7171717171717171, 'eval_runtime': 8.6923, 'eval_samples_per_second': 45.557, 'eval_steps_per_second': 5.752, 'epoch': 2.0, 'step': 792}, {'loss': 0.6532, 'learning_rate': 6.411298647546648e-05, 'epoch': 3.0, 'step': 1188}, {'eval_loss': 0.5593888163566589, 'eval_accuracy': 0.7121212121212122, 'eval_runtime': 8.6916, 'eval_samples_per_second': 45.561, 'eval_steps_per_second': 5.753, 'epoch': 3.0, 'step': 1188}, {'loss': 0.6235, 'learning_rate': 5.4953988407542696e-05, 'epoch': 4.0, 'step': 1584}, {'eval_loss': 0.5383133888244629, 'eval_accuracy': 0.7272727272727273, 'eval_runtime': 8.6696, 'eval_samples_per_second': 45.677, 'eval_steps_per_second': 5.767, 'epoch': 4.0, 'step': 1584}, {'loss': 0.6242, 'learning_rate': 4.579499033961891e-05, 'epoch': 5.0, 'step': 1980}, {'eval_loss': 0.537908673286438, 'eval_accuracy': 0.7247474747474747, 'eval_runtime': 8.6748, 'eval_samples_per_second': 45.649, 'eval_steps_per_second': 5.764, 'epoch': 5.0, 'step': 1980}, {'loss': 0.6273, 'learning_rate': 3.6635992271695126e-05, 'epoch': 6.0, 'step': 2376}, {'eval_loss': 0.5383840203285217, 'eval_accuracy': 0.7323232323232324, 'eval_runtime': 8.6805, 'eval_samples_per_second': 45.62, 'eval_steps_per_second': 5.76, 'epoch': 6.0, 'step': 2376}, {'loss': 0.6204, 'learning_rate': 2.7476994203771348e-05, 'epoch': 7.0, 'step': 2772}, {'eval_loss': 0.5326359868049622, 'eval_accuracy': 0.7196969696969697, 'eval_runtime': 8.6819, 'eval_samples_per_second': 45.612, 'eval_steps_per_second': 5.759, 'epoch': 7.0, 'step': 2772}, {'loss': 0.5914, 'learning_rate': 1.8317996135847563e-05, 'epoch': 8.0, 'step': 3168}, {'eval_loss': 0.5290700197219849, 'eval_accuracy': 0.7272727272727273, 'eval_runtime': 8.6781, 'eval_samples_per_second': 45.632, 'eval_steps_per_second': 5.762, 'epoch': 8.0, 'step': 3168}, {'loss': 0.6008, 'learning_rate': 9.158998067923782e-06, 'epoch': 9.0, 'step': 3564}, {'eval_loss': 0.5293727517127991, 'eval_accuracy': 0.7323232323232324, 'eval_runtime': 8.6774, 'eval_samples_per_second': 45.636, 'eval_steps_per_second': 5.762, 'epoch': 9.0, 'step': 3564}, {'loss': 0.6051, 'learning_rate': 0.0, 'epoch': 10.0, 'step': 3960}, {'eval_loss': 0.5279045701026917, 'eval_accuracy': 0.7323232323232324, 'eval_runtime': 8.6886, 'eval_samples_per_second': 45.577, 'eval_steps_per_second': 5.755, 'epoch': 10.0, 'step': 3960}, {'train_runtime': 648.2832, 'train_samples_per_second': 24.434, 'train_steps_per_second': 6.108, 'total_flos': 9465195637497600.0, 'train_loss': 0.6321547267412898, 'epoch': 10.0, 'step': 3960}, {'eval_loss': 0.5279045701026917, 'eval_accuracy': 0.7323232323232324, 'eval_runtime': 8.7, 'eval_samples_per_second': 45.517, 'eval_steps_per_second': 5.747, 'epoch': 10.0, 'step': 3960}]\n"
     ]
    },
    {
     "name": "stderr",
     "output_type": "stream",
     "text": [
      "/home/ubuntu/data/miniconda3/envs/finetune-dephos/lib/python3.9/site-packages/huggingface_hub/file_download.py:1132: FutureWarning: `resume_download` is deprecated and will be removed in version 1.0.0. Downloads always resume when possible. If you want to force a new download, use `force_download=True`.\n",
      "  warnings.warn(\n",
      "Downloading shards: 100%|█████████████████████████████████████████████████████████████| 2/2 [01:11<00:00, 35.74s/it]\n",
      "Loading checkpoint shards: 100%|██████████████████████████████████████████████████████| 2/2 [01:07<00:00, 33.78s/it]\n",
      "Some weights of EsmModel were not initialized from the model checkpoint at facebook/esm2_t36_3B_UR50D and are newly initialized: ['esm.pooler.dense.bias', 'esm.pooler.dense.weight']\n",
      "You should probably TRAIN this model on a down-stream task to be able to use it for predictions and inference.\n"
     ]
    },
    {
     "name": "stdout",
     "output_type": "stream",
     "text": [
      "ESM_LoRA_Classfier\n",
      "Trainable Parameter: 2848188324.0\n",
      "ESM_LoRA_Classfier\n",
      "Trainable Parameter: 6561283.0\n",
      "\n"
     ]
    },
    {
     "name": "stderr",
     "output_type": "stream",
     "text": [
      "/home/ubuntu/data/miniconda3/envs/finetune-dephos/lib/python3.9/site-packages/accelerate/accelerator.py:446: FutureWarning: Passing the following arguments to `Accelerator` is deprecated and will be removed in version 1.0 of Accelerate: dict_keys(['dispatch_batches', 'split_batches']). Please pass an `accelerate.DataLoaderConfiguration` instead: \n",
      "dataloader_config = DataLoaderConfiguration(dispatch_batches=None, split_batches=False)\n",
      "  warnings.warn(\n"
     ]
    },
    {
     "data": {
      "text/html": [
       "\n",
       "    <div>\n",
       "      \n",
       "      <progress value='1980' max='1980' style='width:300px; height:20px; vertical-align: middle;'></progress>\n",
       "      [1980/1980 13:40, Epoch 10/10]\n",
       "    </div>\n",
       "    <table border=\"1\" class=\"dataframe\">\n",
       "  <thead>\n",
       " <tr style=\"text-align: left;\">\n",
       "      <th>Epoch</th>\n",
       "      <th>Training Loss</th>\n",
       "      <th>Validation Loss</th>\n",
       "      <th>Accuracy</th>\n",
       "    </tr>\n",
       "  </thead>\n",
       "  <tbody>\n",
       "    <tr>\n",
       "      <td>1</td>\n",
       "      <td>0.762100</td>\n",
       "      <td>0.680454</td>\n",
       "      <td>0.646465</td>\n",
       "    </tr>\n",
       "    <tr>\n",
       "      <td>2</td>\n",
       "      <td>0.724400</td>\n",
       "      <td>0.651431</td>\n",
       "      <td>0.689394</td>\n",
       "    </tr>\n",
       "    <tr>\n",
       "      <td>3</td>\n",
       "      <td>0.702200</td>\n",
       "      <td>0.621209</td>\n",
       "      <td>0.686869</td>\n",
       "    </tr>\n",
       "    <tr>\n",
       "      <td>4</td>\n",
       "      <td>0.667400</td>\n",
       "      <td>0.600964</td>\n",
       "      <td>0.717172</td>\n",
       "    </tr>\n",
       "    <tr>\n",
       "      <td>5</td>\n",
       "      <td>0.664200</td>\n",
       "      <td>0.589349</td>\n",
       "      <td>0.722222</td>\n",
       "    </tr>\n",
       "    <tr>\n",
       "      <td>6</td>\n",
       "      <td>0.647200</td>\n",
       "      <td>0.580383</td>\n",
       "      <td>0.722222</td>\n",
       "    </tr>\n",
       "    <tr>\n",
       "      <td>7</td>\n",
       "      <td>0.647400</td>\n",
       "      <td>0.575496</td>\n",
       "      <td>0.727273</td>\n",
       "    </tr>\n",
       "    <tr>\n",
       "      <td>8</td>\n",
       "      <td>0.655100</td>\n",
       "      <td>0.574599</td>\n",
       "      <td>0.717172</td>\n",
       "    </tr>\n",
       "    <tr>\n",
       "      <td>9</td>\n",
       "      <td>0.642300</td>\n",
       "      <td>0.571530</td>\n",
       "      <td>0.719697</td>\n",
       "    </tr>\n",
       "    <tr>\n",
       "      <td>10</td>\n",
       "      <td>0.633500</td>\n",
       "      <td>0.570795</td>\n",
       "      <td>0.724747</td>\n",
       "    </tr>\n",
       "  </tbody>\n",
       "</table><p>"
      ],
      "text/plain": [
       "<IPython.core.display.HTML object>"
      ]
     },
     "metadata": {},
     "output_type": "display_data"
    },
    {
     "name": "stdout",
     "output_type": "stream",
     "text": [
      "Saved improved model to ./model_output/finetuned_model_all_esm2.pth\n",
      "Saved improved model to ./model_output/finetuned_model_all_esm2.pth\n",
      "Saved improved model to ./model_output/finetuned_model_all_esm2.pth\n",
      "Saved improved model to ./model_output/finetuned_model_all_esm2.pth\n",
      "Saved improved model to ./model_output/finetuned_model_all_esm2.pth\n",
      "Saved improved model to ./model_output/finetuned_model_all_esm2.pth\n",
      "Saved improved model to ./model_output/finetuned_model_all_esm2.pth\n",
      "Saved improved model to ./model_output/finetuned_model_all_esm2.pth\n",
      "Loaded best model from ./model_output/finetuned_model_all_esm2.pth\n"
     ]
    },
    {
     "data": {
      "text/html": [
       "\n",
       "    <div>\n",
       "      \n",
       "      <progress value='50' max='50' style='width:300px; height:20px; vertical-align: middle;'></progress>\n",
       "      [50/50 00:08]\n",
       "    </div>\n",
       "    "
      ],
      "text/plain": [
       "<IPython.core.display.HTML object>"
      ]
     },
     "metadata": {},
     "output_type": "display_data"
    },
    {
     "name": "stderr",
     "output_type": "stream",
     "text": [
      "[I 2024-06-10 00:04:25,934] Trial 31 finished with values: [0.571530282497406, 0.7196969696969697] and parameters: {'lr': 3.1719328701763405e-05, 'batch': 1, 'accum': 8, 'dropout_rate': 0.8183205435710353, 'weight_decay': 0.0007893888883924941, 'warmup_pct': 0.03314033573338419, 'lora_rank': 16, 'lora_init_scale': 0.0001409865183358008, 'lora_scaling_rank': 1}. \n"
     ]
    },
    {
     "name": "stdout",
     "output_type": "stream",
     "text": [
      "{'eval_loss': 0.571530282497406, 'eval_accuracy': 0.7196969696969697, 'eval_runtime': 8.6782, 'eval_samples_per_second': 45.632, 'eval_steps_per_second': 5.762, 'epoch': 10.0}\n",
      "History:  [{'loss': 0.7621, 'learning_rate': 1.1985547868223578e-05, 'epoch': 1.0, 'step': 198}, {'eval_loss': 0.6804540753364563, 'eval_accuracy': 0.6464646464646465, 'eval_runtime': 8.6207, 'eval_samples_per_second': 45.936, 'eval_steps_per_second': 5.8, 'epoch': 1.0, 'step': 198}, {'loss': 0.7244, 'learning_rate': 2.3971095736447156e-05, 'epoch': 2.0, 'step': 396}, {'eval_loss': 0.6514310240745544, 'eval_accuracy': 0.6893939393939394, 'eval_runtime': 8.657, 'eval_samples_per_second': 45.743, 'eval_steps_per_second': 5.776, 'epoch': 2.0, 'step': 396}, {'loss': 0.7022, 'learning_rate': 3.0194360975717087e-05, 'epoch': 3.0, 'step': 594}, {'eval_loss': 0.6212090849876404, 'eval_accuracy': 0.6868686868686869, 'eval_runtime': 8.673, 'eval_samples_per_second': 45.659, 'eval_steps_per_second': 5.765, 'epoch': 3.0, 'step': 594}, {'loss': 0.6674, 'learning_rate': 2.588088083632893e-05, 'epoch': 4.0, 'step': 792}, {'eval_loss': 0.600963830947876, 'eval_accuracy': 0.7171717171717171, 'eval_runtime': 8.6791, 'eval_samples_per_second': 45.627, 'eval_steps_per_second': 5.761, 'epoch': 4.0, 'step': 792}, {'loss': 0.6642, 'learning_rate': 2.156740069694078e-05, 'epoch': 5.0, 'step': 990}, {'eval_loss': 0.5893494486808777, 'eval_accuracy': 0.7222222222222222, 'eval_runtime': 8.6845, 'eval_samples_per_second': 45.598, 'eval_steps_per_second': 5.757, 'epoch': 5.0, 'step': 990}, {'loss': 0.6472, 'learning_rate': 1.725392055755262e-05, 'epoch': 6.0, 'step': 1188}, {'eval_loss': 0.5803828835487366, 'eval_accuracy': 0.7222222222222222, 'eval_runtime': 8.6778, 'eval_samples_per_second': 45.634, 'eval_steps_per_second': 5.762, 'epoch': 6.0, 'step': 1188}, {'loss': 0.6474, 'learning_rate': 1.2940440418164466e-05, 'epoch': 7.0, 'step': 1386}, {'eval_loss': 0.5754960775375366, 'eval_accuracy': 0.7272727272727273, 'eval_runtime': 8.67, 'eval_samples_per_second': 45.675, 'eval_steps_per_second': 5.767, 'epoch': 7.0, 'step': 1386}, {'loss': 0.6551, 'learning_rate': 8.62696027877631e-06, 'epoch': 8.0, 'step': 1584}, {'eval_loss': 0.5745989084243774, 'eval_accuracy': 0.7171717171717171, 'eval_runtime': 8.6694, 'eval_samples_per_second': 45.678, 'eval_steps_per_second': 5.767, 'epoch': 8.0, 'step': 1584}, {'loss': 0.6423, 'learning_rate': 4.313480139388155e-06, 'epoch': 9.0, 'step': 1782}, {'eval_loss': 0.571530282497406, 'eval_accuracy': 0.7196969696969697, 'eval_runtime': 8.667, 'eval_samples_per_second': 45.69, 'eval_steps_per_second': 5.769, 'epoch': 9.0, 'step': 1782}, {'loss': 0.6335, 'learning_rate': 0.0, 'epoch': 10.0, 'step': 1980}, {'eval_loss': 0.5707951784133911, 'eval_accuracy': 0.7247474747474747, 'eval_runtime': 8.6726, 'eval_samples_per_second': 45.661, 'eval_steps_per_second': 5.765, 'epoch': 10.0, 'step': 1980}, {'train_runtime': 820.8714, 'train_samples_per_second': 19.297, 'train_steps_per_second': 2.412, 'total_flos': 9465195637497600.0, 'train_loss': 0.6745649048776338, 'epoch': 10.0, 'step': 1980}, {'eval_loss': 0.571530282497406, 'eval_accuracy': 0.7196969696969697, 'eval_runtime': 8.6782, 'eval_samples_per_second': 45.632, 'eval_steps_per_second': 5.762, 'epoch': 10.0, 'step': 1980}]\n"
     ]
    },
    {
     "name": "stderr",
     "output_type": "stream",
     "text": [
      "/home/ubuntu/data/miniconda3/envs/finetune-dephos/lib/python3.9/site-packages/huggingface_hub/file_download.py:1132: FutureWarning: `resume_download` is deprecated and will be removed in version 1.0.0. Downloads always resume when possible. If you want to force a new download, use `force_download=True`.\n",
      "  warnings.warn(\n",
      "Downloading shards: 100%|████████████████████████████████████████████| 2/2 [00:55<00:00, 27.50s/it]\n",
      "Loading checkpoint shards: 100%|█████████████████████████████████████| 2/2 [01:22<00:00, 41.32s/it]\n",
      "Some weights of EsmModel were not initialized from the model checkpoint at facebook/esm2_t36_3B_UR50D and are newly initialized: ['esm.pooler.dense.bias', 'esm.pooler.dense.weight']\n",
      "You should probably TRAIN this model on a down-stream task to be able to use it for predictions and inference.\n"
     ]
    },
    {
     "name": "stdout",
     "output_type": "stream",
     "text": [
      "ESM_LoRA_Classfier\n",
      "Trainable Parameter: 2848188324.0\n",
      "ESM_LoRA_Classfier\n",
      "Trainable Parameter: 6561283.0\n",
      "\n"
     ]
    },
    {
     "name": "stderr",
     "output_type": "stream",
     "text": [
      "/home/ubuntu/data/miniconda3/envs/finetune-dephos/lib/python3.9/site-packages/accelerate/accelerator.py:446: FutureWarning: Passing the following arguments to `Accelerator` is deprecated and will be removed in version 1.0 of Accelerate: dict_keys(['dispatch_batches', 'split_batches']). Please pass an `accelerate.DataLoaderConfiguration` instead: \n",
      "dataloader_config = DataLoaderConfiguration(dispatch_batches=None, split_batches=False)\n",
      "  warnings.warn(\n"
     ]
    },
    {
     "data": {
      "text/html": [
       "\n",
       "    <div>\n",
       "      \n",
       "      <progress value='990' max='1980' style='width:300px; height:20px; vertical-align: middle;'></progress>\n",
       "      [ 990/1980 05:20 < 05:20, 3.09 it/s, Epoch 5/10]\n",
       "    </div>\n",
       "    <table border=\"1\" class=\"dataframe\">\n",
       "  <thead>\n",
       " <tr style=\"text-align: left;\">\n",
       "      <th>Epoch</th>\n",
       "      <th>Training Loss</th>\n",
       "      <th>Validation Loss</th>\n",
       "      <th>Accuracy</th>\n",
       "    </tr>\n",
       "  </thead>\n",
       "  <tbody>\n",
       "    <tr>\n",
       "      <td>1</td>\n",
       "      <td>0.682600</td>\n",
       "      <td>0.594057</td>\n",
       "      <td>0.691919</td>\n",
       "    </tr>\n",
       "    <tr>\n",
       "      <td>2</td>\n",
       "      <td>0.605100</td>\n",
       "      <td>0.537582</td>\n",
       "      <td>0.737374</td>\n",
       "    </tr>\n",
       "    <tr>\n",
       "      <td>3</td>\n",
       "      <td>0.582800</td>\n",
       "      <td>0.550787</td>\n",
       "      <td>0.707071</td>\n",
       "    </tr>\n",
       "    <tr>\n",
       "      <td>4</td>\n",
       "      <td>0.582500</td>\n",
       "      <td>0.549326</td>\n",
       "      <td>0.729798</td>\n",
       "    </tr>\n",
       "    <tr>\n",
       "      <td>5</td>\n",
       "      <td>0.584900</td>\n",
       "      <td>0.579326</td>\n",
       "      <td>0.717172</td>\n",
       "    </tr>\n",
       "  </tbody>\n",
       "</table><p>"
      ],
      "text/plain": [
       "<IPython.core.display.HTML object>"
      ]
     },
     "metadata": {},
     "output_type": "display_data"
    },
    {
     "name": "stdout",
     "output_type": "stream",
     "text": [
      "Saved improved model to ./model_output/finetuned_model_all_esm2.pth\n",
      "Saved improved model to ./model_output/finetuned_model_all_esm2.pth\n",
      "Stopping early at epoch 5.0: No improvement in loss or accuracy for 3 evaluations.\n",
      "Loaded best model from ./model_output/finetuned_model_all_esm2.pth\n"
     ]
    },
    {
     "data": {
      "text/html": [
       "\n",
       "    <div>\n",
       "      \n",
       "      <progress value='50' max='50' style='width:300px; height:20px; vertical-align: middle;'></progress>\n",
       "      [50/50 00:08]\n",
       "    </div>\n",
       "    "
      ],
      "text/plain": [
       "<IPython.core.display.HTML object>"
      ]
     },
     "metadata": {},
     "output_type": "display_data"
    },
    {
     "name": "stderr",
     "output_type": "stream",
     "text": [
      "[I 2024-06-10 00:13:13,966] Trial 32 finished with values: [0.5375822186470032, 0.7373737373737373] and parameters: {'lr': 0.0004221456911762967, 'batch': 2, 'accum': 4, 'dropout_rate': 0.6099816609620968, 'weight_decay': 4.182198217267681e-05, 'warmup_pct': 0.1357540026864248, 'lora_rank': 20, 'lora_init_scale': 0.04471507214796212, 'lora_scaling_rank': 5}. \n"
     ]
    },
    {
     "name": "stdout",
     "output_type": "stream",
     "text": [
      "Stopping early at epoch 5.0: No improvement in loss or accuracy for 3 evaluations.\n",
      "{'eval_loss': 0.5375822186470032, 'eval_accuracy': 0.7373737373737373, 'eval_runtime': 8.7258, 'eval_samples_per_second': 45.383, 'eval_steps_per_second': 5.73, 'epoch': 5.0}\n",
      "History:  [{'loss': 0.6826, 'learning_rate': 7.77533459096807e-05, 'epoch': 1.0, 'step': 198}, {'eval_loss': 0.5940570831298828, 'eval_accuracy': 0.6919191919191919, 'eval_runtime': 8.6539, 'eval_samples_per_second': 45.76, 'eval_steps_per_second': 5.778, 'epoch': 1.0, 'step': 198}, {'loss': 0.6051, 'learning_rate': 0.0001555066918193614, 'epoch': 2.0, 'step': 396}, {'eval_loss': 0.5375822186470032, 'eval_accuracy': 0.7373737373737373, 'eval_runtime': 8.6971, 'eval_samples_per_second': 45.533, 'eval_steps_per_second': 5.749, 'epoch': 2.0, 'step': 396}, {'loss': 0.5828, 'learning_rate': 0.0002332600377290421, 'epoch': 3.0, 'step': 594}, {'eval_loss': 0.5507866740226746, 'eval_accuracy': 0.7070707070707071, 'eval_runtime': 8.7001, 'eval_samples_per_second': 45.517, 'eval_steps_per_second': 5.747, 'epoch': 3.0, 'step': 594}, {'loss': 0.5825, 'learning_rate': 0.0003110133836387228, 'epoch': 4.0, 'step': 792}, {'eval_loss': 0.5493258237838745, 'eval_accuracy': 0.7297979797979798, 'eval_runtime': 8.7025, 'eval_samples_per_second': 45.504, 'eval_steps_per_second': 5.745, 'epoch': 4.0, 'step': 792}, {'loss': 0.5849, 'learning_rate': 0.0003887667295484035, 'epoch': 5.0, 'step': 990}, {'eval_loss': 0.5793264508247375, 'eval_accuracy': 0.7171717171717171, 'eval_runtime': 8.7024, 'eval_samples_per_second': 45.505, 'eval_steps_per_second': 5.746, 'epoch': 5.0, 'step': 990}, {'train_runtime': 320.3759, 'train_samples_per_second': 49.442, 'train_steps_per_second': 6.18, 'total_flos': 4732597818748800.0, 'train_loss': 0.6075794412632182, 'epoch': 5.0, 'step': 990}, {'eval_loss': 0.5375822186470032, 'eval_accuracy': 0.7373737373737373, 'eval_runtime': 8.7258, 'eval_samples_per_second': 45.383, 'eval_steps_per_second': 5.73, 'epoch': 5.0, 'step': 990}]\n"
     ]
    },
    {
     "name": "stderr",
     "output_type": "stream",
     "text": [
      "/home/ubuntu/data/miniconda3/envs/finetune-dephos/lib/python3.9/site-packages/huggingface_hub/file_download.py:1132: FutureWarning: `resume_download` is deprecated and will be removed in version 1.0.0. Downloads always resume when possible. If you want to force a new download, use `force_download=True`.\n",
      "  warnings.warn(\n",
      "Downloading shards: 100%|████████████████████████████████████████████| 2/2 [00:55<00:00, 27.57s/it]\n",
      "Loading checkpoint shards: 100%|█████████████████████████████████████| 2/2 [01:03<00:00, 31.65s/it]\n",
      "Some weights of EsmModel were not initialized from the model checkpoint at facebook/esm2_t36_3B_UR50D and are newly initialized: ['esm.pooler.dense.bias', 'esm.pooler.dense.weight']\n",
      "You should probably TRAIN this model on a down-stream task to be able to use it for predictions and inference.\n"
     ]
    },
    {
     "name": "stdout",
     "output_type": "stream",
     "text": [
      "ESM_LoRA_Classfier\n",
      "Trainable Parameter: 2848188324.0\n",
      "ESM_LoRA_Classfier\n",
      "Trainable Parameter: 6561283.0\n",
      "\n"
     ]
    },
    {
     "name": "stderr",
     "output_type": "stream",
     "text": [
      "/home/ubuntu/data/miniconda3/envs/finetune-dephos/lib/python3.9/site-packages/accelerate/accelerator.py:446: FutureWarning: Passing the following arguments to `Accelerator` is deprecated and will be removed in version 1.0 of Accelerate: dict_keys(['dispatch_batches', 'split_batches']). Please pass an `accelerate.DataLoaderConfiguration` instead: \n",
      "dataloader_config = DataLoaderConfiguration(dispatch_batches=None, split_batches=False)\n",
      "  warnings.warn(\n"
     ]
    },
    {
     "data": {
      "text/html": [
       "\n",
       "    <div>\n",
       "      \n",
       "      <progress value='990' max='990' style='width:300px; height:20px; vertical-align: middle;'></progress>\n",
       "      [990/990 10:33, Epoch 10/10]\n",
       "    </div>\n",
       "    <table border=\"1\" class=\"dataframe\">\n",
       "  <thead>\n",
       " <tr style=\"text-align: left;\">\n",
       "      <th>Epoch</th>\n",
       "      <th>Training Loss</th>\n",
       "      <th>Validation Loss</th>\n",
       "      <th>Accuracy</th>\n",
       "    </tr>\n",
       "  </thead>\n",
       "  <tbody>\n",
       "    <tr>\n",
       "      <td>1</td>\n",
       "      <td>0.703500</td>\n",
       "      <td>0.680528</td>\n",
       "      <td>0.601010</td>\n",
       "    </tr>\n",
       "    <tr>\n",
       "      <td>2</td>\n",
       "      <td>0.676500</td>\n",
       "      <td>0.652146</td>\n",
       "      <td>0.681818</td>\n",
       "    </tr>\n",
       "    <tr>\n",
       "      <td>3</td>\n",
       "      <td>0.660500</td>\n",
       "      <td>0.622971</td>\n",
       "      <td>0.679293</td>\n",
       "    </tr>\n",
       "    <tr>\n",
       "      <td>4</td>\n",
       "      <td>0.625100</td>\n",
       "      <td>0.597781</td>\n",
       "      <td>0.702020</td>\n",
       "    </tr>\n",
       "    <tr>\n",
       "      <td>5</td>\n",
       "      <td>0.616700</td>\n",
       "      <td>0.577347</td>\n",
       "      <td>0.717172</td>\n",
       "    </tr>\n",
       "    <tr>\n",
       "      <td>6</td>\n",
       "      <td>0.587000</td>\n",
       "      <td>0.558146</td>\n",
       "      <td>0.742424</td>\n",
       "    </tr>\n",
       "    <tr>\n",
       "      <td>7</td>\n",
       "      <td>0.560300</td>\n",
       "      <td>0.548562</td>\n",
       "      <td>0.739899</td>\n",
       "    </tr>\n",
       "    <tr>\n",
       "      <td>8</td>\n",
       "      <td>0.551000</td>\n",
       "      <td>0.542203</td>\n",
       "      <td>0.744949</td>\n",
       "    </tr>\n",
       "    <tr>\n",
       "      <td>9</td>\n",
       "      <td>0.540300</td>\n",
       "      <td>0.539573</td>\n",
       "      <td>0.739899</td>\n",
       "    </tr>\n",
       "    <tr>\n",
       "      <td>10</td>\n",
       "      <td>0.535500</td>\n",
       "      <td>0.538478</td>\n",
       "      <td>0.742424</td>\n",
       "    </tr>\n",
       "  </tbody>\n",
       "</table><p>"
      ],
      "text/plain": [
       "<IPython.core.display.HTML object>"
      ]
     },
     "metadata": {},
     "output_type": "display_data"
    },
    {
     "name": "stdout",
     "output_type": "stream",
     "text": [
      "Saved improved model to ./model_output/finetuned_model_all_esm2.pth\n",
      "Saved improved model to ./model_output/finetuned_model_all_esm2.pth\n",
      "Saved improved model to ./model_output/finetuned_model_all_esm2.pth\n",
      "Saved improved model to ./model_output/finetuned_model_all_esm2.pth\n",
      "Saved improved model to ./model_output/finetuned_model_all_esm2.pth\n",
      "Saved improved model to ./model_output/finetuned_model_all_esm2.pth\n",
      "Saved improved model to ./model_output/finetuned_model_all_esm2.pth\n",
      "Saved improved model to ./model_output/finetuned_model_all_esm2.pth\n",
      "Saved improved model to ./model_output/finetuned_model_all_esm2.pth\n",
      "Saved improved model to ./model_output/finetuned_model_all_esm2.pth\n",
      "Loaded best model from ./model_output/finetuned_model_all_esm2.pth\n"
     ]
    },
    {
     "data": {
      "text/html": [
       "\n",
       "    <div>\n",
       "      \n",
       "      <progress value='50' max='50' style='width:300px; height:20px; vertical-align: middle;'></progress>\n",
       "      [50/50 00:08]\n",
       "    </div>\n",
       "    "
      ],
      "text/plain": [
       "<IPython.core.display.HTML object>"
      ]
     },
     "metadata": {},
     "output_type": "display_data"
    },
    {
     "name": "stdout",
     "output_type": "stream",
     "text": [
      "{'eval_loss': 0.5384779572486877, 'eval_accuracy': 0.7424242424242424, 'eval_runtime': 8.7237, 'eval_samples_per_second': 45.393, 'eval_steps_per_second': 5.732, 'epoch': 10.0}\n",
      "History:  [{'loss': 0.7035, 'learning_rate': 5.165856275298698e-06, 'epoch': 1.0, 'step': 99}, {'eval_loss': 0.6805280447006226, 'eval_accuracy': 0.601010101010101, 'eval_runtime': 8.6313, 'eval_samples_per_second': 45.88, 'eval_steps_per_second': 5.793, 'epoch': 1.0, 'step': 99}, {'loss': 0.6765, 'learning_rate': 1.0331712550597397e-05, 'epoch': 2.0, 'step': 198}, {'eval_loss': 0.6521461606025696, 'eval_accuracy': 0.6818181818181818, 'eval_runtime': 8.6602, 'eval_samples_per_second': 45.726, 'eval_steps_per_second': 5.774, 'epoch': 2.0, 'step': 198}, {'loss': 0.6605, 'learning_rate': 1.5497568825896095e-05, 'epoch': 3.0, 'step': 297}, {'eval_loss': 0.6229706406593323, 'eval_accuracy': 0.6792929292929293, 'eval_runtime': 8.6735, 'eval_samples_per_second': 45.656, 'eval_steps_per_second': 5.765, 'epoch': 3.0, 'step': 297}, {'loss': 0.6251, 'learning_rate': 2.0663425101194794e-05, 'epoch': 4.0, 'step': 396}, {'eval_loss': 0.5977808833122253, 'eval_accuracy': 0.702020202020202, 'eval_runtime': 8.6769, 'eval_samples_per_second': 45.638, 'eval_steps_per_second': 5.762, 'epoch': 4.0, 'step': 396}, {'loss': 0.6167, 'learning_rate': 2.5829281376493492e-05, 'epoch': 5.0, 'step': 495}, {'eval_loss': 0.5773470997810364, 'eval_accuracy': 0.7171717171717171, 'eval_runtime': 8.6828, 'eval_samples_per_second': 45.607, 'eval_steps_per_second': 5.758, 'epoch': 5.0, 'step': 495}, {'loss': 0.587, 'learning_rate': 2.863004682695664e-05, 'epoch': 6.0, 'step': 594}, {'eval_loss': 0.5581462979316711, 'eval_accuracy': 0.7424242424242424, 'eval_runtime': 8.6823, 'eval_samples_per_second': 45.61, 'eval_steps_per_second': 5.759, 'epoch': 6.0, 'step': 594}, {'loss': 0.5603, 'learning_rate': 2.147253512021748e-05, 'epoch': 7.0, 'step': 693}, {'eval_loss': 0.5485624670982361, 'eval_accuracy': 0.73989898989899, 'eval_runtime': 8.6874, 'eval_samples_per_second': 45.584, 'eval_steps_per_second': 5.755, 'epoch': 7.0, 'step': 693}, {'loss': 0.551, 'learning_rate': 1.431502341347832e-05, 'epoch': 8.0, 'step': 792}, {'eval_loss': 0.5422030687332153, 'eval_accuracy': 0.7449494949494949, 'eval_runtime': 8.6854, 'eval_samples_per_second': 45.594, 'eval_steps_per_second': 5.757, 'epoch': 8.0, 'step': 792}, {'loss': 0.5403, 'learning_rate': 7.15751170673916e-06, 'epoch': 9.0, 'step': 891}, {'eval_loss': 0.5395727157592773, 'eval_accuracy': 0.73989898989899, 'eval_runtime': 8.6862, 'eval_samples_per_second': 45.589, 'eval_steps_per_second': 5.756, 'epoch': 9.0, 'step': 891}, {'loss': 0.5355, 'learning_rate': 0.0, 'epoch': 10.0, 'step': 990}, {'eval_loss': 0.5384779572486877, 'eval_accuracy': 0.7424242424242424, 'eval_runtime': 8.7082, 'eval_samples_per_second': 45.474, 'eval_steps_per_second': 5.742, 'epoch': 10.0, 'step': 990}, {'train_runtime': 634.3344, 'train_samples_per_second': 24.971, 'train_steps_per_second': 1.561, 'total_flos': 9465195637497600.0, 'train_loss': 0.6056491736209754, 'epoch': 10.0, 'step': 990}, {'eval_loss': 0.5384779572486877, 'eval_accuracy': 0.7424242424242424, 'eval_runtime': 8.7237, 'eval_samples_per_second': 45.393, 'eval_steps_per_second': 5.732, 'epoch': 10.0, 'step': 990}]\n"
     ]
    },
    {
     "name": "stderr",
     "output_type": "stream",
     "text": [
      "[I 2024-06-10 00:26:56,699] Trial 33 finished with values: [0.5384779572486877, 0.7424242424242424] and parameters: {'lr': 3.0003710689866176e-05, 'batch': 2, 'accum': 8, 'dropout_rate': 0.5030553147177205, 'weight_decay': 0.00022564844724190592, 'warmup_pct': 0.07270636561006796, 'lora_rank': 4, 'lora_init_scale': 0.00044213716629277236, 'lora_scaling_rank': 4}. \n",
      "/home/ubuntu/data/miniconda3/envs/finetune-dephos/lib/python3.9/site-packages/huggingface_hub/file_download.py:1132: FutureWarning: `resume_download` is deprecated and will be removed in version 1.0.0. Downloads always resume when possible. If you want to force a new download, use `force_download=True`.\n",
      "  warnings.warn(\n",
      "Downloading shards: 100%|████████████████████████████████████████████| 2/2 [00:55<00:00, 27.93s/it]\n",
      "Loading checkpoint shards: 100%|█████████████████████████████████████| 2/2 [01:08<00:00, 34.22s/it]\n",
      "Some weights of EsmModel were not initialized from the model checkpoint at facebook/esm2_t36_3B_UR50D and are newly initialized: ['esm.pooler.dense.bias', 'esm.pooler.dense.weight']\n",
      "You should probably TRAIN this model on a down-stream task to be able to use it for predictions and inference.\n"
     ]
    },
    {
     "ename": "",
     "evalue": "",
     "output_type": "error",
     "traceback": [
      "\u001b[1;31mThe Kernel crashed while executing code in the current cell or a previous cell. \n",
      "\u001b[1;31mPlease review the code in the cell(s) to identify a possible cause of the failure. \n",
      "\u001b[1;31mClick <a href='https://aka.ms/vscodeJupyterKernelCrash'>here</a> for more info. \n",
      "\u001b[1;31mView Jupyter <a href='command:jupyter.viewOutput'>log</a> for further details."
     ]
    },
    {
     "ename": "",
     "evalue": "",
     "output_type": "error",
     "traceback": [
      "\u001b[1;31mCanceled future for execute_request message before replies were done"
     ]
    },
    {
     "ename": "",
     "evalue": "",
     "output_type": "error",
     "traceback": [
      "\u001b[1;31mCanceled future for execute_request message before replies were done. \n",
      "\u001b[1;31mView Jupyter <a href='command:jupyter.viewOutput'>log</a> for further details."
     ]
    }
   ],
   "source": [
    "import optuna\n",
    "\n",
    "def objective(trial):\n",
    "    # Hyperparameters to be optimized\n",
    "    # Updated to use suggest_float with log=True for loguniform distribution\n",
    "    lr = trial.suggest_float('lr', 1e-5, 1e-2, log=True)\n",
    "    batch = trial.suggest_categorical('batch', [1, 2, 4, 8])\n",
    "    accum = trial.suggest_categorical('accum', [2, 4, 8])\n",
    "    # Updated to use suggest_float for uniform distribution\n",
    "    dropout = trial.suggest_float('dropout_rate', 0.1, 0.9)\n",
    "    weight_decay = trial.suggest_float('weight_decay', 1e-5, 1e-3, log=True)\n",
    "    warmup_pct = trial.suggest_float(\"warmup_pct\", 0.01, 0.3)  # Warmup percentage between 1% and 30%\n",
    "    lora_rank = trial.suggest_int('lora_rank', 4, 32, step=4)\n",
    "    lora_init_scale = trial.suggest_float('lora_init_scale', 1e-4, 1e-1, log=True)\n",
    "    lora_scaling_rank = trial.suggest_int('lora_scaling_rank', 1, 8)\n",
    "\n",
    "\n",
    "    # Training and evaluation\n",
    "    tokenizer, model, history = train_per_protein(\n",
    "        train_dataset=train_set, \n",
    "        valid_dataset=valid_set, \n",
    "        num_labels=2, \n",
    "        batch=batch, \n",
    "        accum=accum, \n",
    "        epochs=10,  # Fewer epochs for the trial runs\n",
    "        lr=lr,\n",
    "        dropout=dropout,\n",
    "        weight_decay=weight_decay,\n",
    "        warmup_pct=warmup_pct,\n",
    "        lora_rank=lora_rank,\n",
    "        lora_init_scale=lora_init_scale,\n",
    "        lora_scaling_rank=lora_scaling_rank,\n",
    "    )\n",
    "    \n",
    "    # Clear GPU memory\n",
    "    # torch.cuda.empty_cache()\n",
    "    \n",
    "    print(\"History: \", history)\n",
    "    \n",
    "    # Extract the last validation accuracy from the history\n",
    "    val_accuracy = [entry['eval_accuracy'] for entry in history if 'eval_accuracy' in entry][-1]\n",
    "    val_loss = [entry['eval_loss'] for entry in history if 'eval_loss' in entry][-1]\n",
    "    return val_loss, val_accuracy\n",
    "\n",
    "directions=['minimize', 'maximize']  # Set the direction to maximize the validation accuracy, can also be 'minimize'\n",
    "study = optuna.create_study(directions=directions,\n",
    "                            storage=\"sqlite:///all_dephos_withLORA_esm2_10epochs.sqlite3\",  # Specify the storage URL here.\n",
    "                            study_name=\"all_dephos_withLORA_esm2_10epochs\")\n",
    "study.optimize(objective, n_trials=50)  # Adjust the number of trials based on your computational resources\n",
    "\n",
    "# Analyzing results\n",
    "pareto_front = study.best_trials  # Get the Pareto front (best non-dominated solutions)\n",
    "for trial in pareto_front:\n",
    "    print(f\"Loss: {trial.values[0]}, Accuracy: {trial.values[1]}\")  # Note the negation of accuracy\n",
    "\n",
    "# print(\"Best trial:\")\n",
    "# print(\"  Value: \", study.best_trial.value)\n",
    "# print(\"  Params: \")\n",
    "# for key, value in study.best_trial.params.items():\n",
    "#     print(f\"    {key}: {value}\")\n"
   ]
  },
  {
   "cell_type": "code",
   "execution_count": 14,
   "id": "3a28d3c1-8e24-4437-a1d9-dda9cefccfd7",
   "metadata": {
    "execution": {
     "iopub.execute_input": "2024-04-05T14:04:37.168731Z",
     "iopub.status.busy": "2024-04-05T14:04:37.168220Z",
     "iopub.status.idle": "2024-04-05T14:04:38.081706Z",
     "shell.execute_reply": "2024-04-05T14:04:38.080275Z",
     "shell.execute_reply.started": "2024-04-05T14:04:37.168675Z"
    },
    "tags": []
   },
   "outputs": [
    {
     "data": {
      "image/png": "[encoded data removed]",
      "text/plain": [
       "<Figure size 1000x500 with 2 Axes>"
      ]
     },
     "metadata": {},
     "output_type": "display_data"
    }
   ],
   "source": [
    "# Get loss, val_loss, and the computed metric from history\n",
    "loss = [x['loss'] for x in history if 'loss' in x]\n",
    "val_loss = [x['eval_loss'] for x in history if 'eval_loss' in x]\n",
    "\n",
    "# Truncate the longer list to the size of the shorter one\n",
    "min_length = min(len(loss), len(val_loss))\n",
    "loss = loss[:min_length]\n",
    "val_loss = val_loss[:min_length]\n",
    "\n",
    "# Get spearman (for regression) or accuracy value (for classification)\n",
    "if [x['eval_spearmanr'] for x in history if 'eval_spearmanr' in x] != []:\n",
    "    metric = [x['eval_spearmanr'] for x in history if 'eval_spearmanr' in x]\n",
    "else:\n",
    "    metric = [x['eval_accuracy'] for x in history if 'eval_accuracy' in x]\n",
    "\n",
    "epochs = [x['epoch'] for x in history if 'loss' in x]\n",
    "\n",
    "# Create a figure with two y-axes\n",
    "fig, ax1 = plt.subplots(figsize=(10, 5))\n",
    "ax2 = ax1.twinx()\n",
    "\n",
    "# Plot loss and val_loss on the first y-axis\n",
    "line1 = ax1.plot(epochs, loss, label='train_loss')\n",
    "line2 = ax1.plot(epochs, val_loss, label='validation_loss')\n",
    "ax1.set_xlabel('Epoch')\n",
    "ax1.set_ylabel('Loss')\n",
    "\n",
    "# Plot the computed metric on the second y-axis\n",
    "#line3 = ax2.plot(epochs, metric, color='red', label='validation_metric')\n",
    "ax2.set_ylabel('Metric')\n",
    "ax2.set_ylim([0, 1])\n",
    "\n",
    "# Add grid lines\n",
    "ax1.grid(True)\n",
    "ax2.grid(True)\n",
    "\n",
    "# Combine the lines from both y-axes and create a single legend\n",
    "lines = line1 + line2 \n",
    "labels = [line.get_label() for line in lines]\n",
    "ax1.legend(lines, labels, loc='lower left')\n",
    "\n",
    "# Show the plot\n",
    "plt.title(\"Training History for fine-tuning\")\n",
    "plt.savefig(f\"../Plots/Without_3rdline_Training_History_new.pdf\")\n",
    "plt.show()"
   ]
  },
  {
   "cell_type": "markdown",
   "id": "bfb4ef6f",
   "metadata": {},
   "source": [
    "lr 0.0003459380673689418\n",
    "batch 4\n",
    "accum 4\n",
    "dropout_rate 0.6303139405233136\n",
    "weight_decay 7.145415686725527e-05\n",
    "warmup_pct 0.12121786012551566\n",
    "lora_rank 20\n",
    "lora_init_scale 0.004413381171295235\n",
    "lora_scaling_rank 3"
   ]
  },
  {
   "cell_type": "code",
   "execution_count": 15,
   "id": "ccb1bbda-d70e-4b4c-a8d4-24600495171a",
   "metadata": {
    "execution": {
     "iopub.execute_input": "2024-04-05T14:04:38.083526Z",
     "iopub.status.busy": "2024-04-05T14:04:38.083162Z",
     "iopub.status.idle": "2024-04-05T14:04:38.092729Z",
     "shell.execute_reply": "2024-04-05T14:04:38.091278Z",
     "shell.execute_reply.started": "2024-04-05T14:04:38.083490Z"
    },
    "tags": []
   },
   "outputs": [],
   "source": [
    "def save_model(model,filepath):\n",
    "# Saves all parameters that were changed during finetuning\n",
    "\n",
    "    # Create a dictionary to hold the non-frozen parameters\n",
    "    non_frozen_params = {}\n",
    "\n",
    "    # Iterate through all the model parameters\n",
    "    for param_name, param in model.named_parameters():\n",
    "        # If the parameter has requires_grad=True, add it to the dictionary\n",
    "        if param.requires_grad:\n",
    "            non_frozen_params[param_name] = param\n",
    "\n",
    "    # Save only the finetuned parameters \n",
    "    torch.save(non_frozen_params, filepath)\n",
    "\n",
    "    \n",
    "def load_model(filepath, num_labels=2):\n",
    "# Creates a new PT5 model and loads the finetuned weights from a file\n",
    "\n",
    "    # load a new model\n",
    "    model, tokenizer = ESM_classification_model(num_labels=num_labels, dropout=0.6303139405233136, lora_rank=20, lora_init_scale=0.004413381171295235, lora_scaling_rank=3)\n",
    "    # model_checkpoint = \"facebook/esm2_t36_3B_UR50D\"\n",
    "    # tokenizer = AutoTokenizer.from_pretrained(model_checkpoint, cache_dir=\"/home/ubuntu/data/hai/huggingface_cache/\", force_download=True)\n",
    "    # model = AutoModelForSequenceClassification.from_pretrained(model_checkpoint, num_labels=2, cache_dir=\"/home/ubuntu/data/hai/huggingface_cache/\", force_download=True)\n",
    "    \n",
    "    # Load the non-frozen parameters from the saved file\n",
    "    non_frozen_params = torch.load(filepath)\n",
    "\n",
    "    # Assign the non-frozen parameters to the corresponding parameters of the model\n",
    "    for param_name, param in model.named_parameters():\n",
    "        if param_name in non_frozen_params:\n",
    "            param.data = non_frozen_params[param_name].data\n",
    "\n",
    "    return tokenizer, model"
   ]
  },
  {
   "cell_type": "code",
   "execution_count": 16,
   "id": "7c97fa52-3aea-42e8-b72f-c4bb84808576",
   "metadata": {
    "execution": {
     "iopub.execute_input": "2024-04-05T14:05:24.020589Z",
     "iopub.status.busy": "2024-04-05T14:05:24.019788Z",
     "iopub.status.idle": "2024-04-05T14:08:10.428922Z",
     "shell.execute_reply": "2024-04-05T14:08:10.426805Z",
     "shell.execute_reply.started": "2024-04-05T14:05:24.020524Z"
    },
    "tags": []
   },
   "outputs": [
    {
     "name": "stderr",
     "output_type": "stream",
     "text": [
      "/home/ubuntu/data/miniconda3/envs/finetune-dephos/lib/python3.9/site-packages/huggingface_hub/file_download.py:1132: FutureWarning: `resume_download` is deprecated and will be removed in version 1.0.0. Downloads always resume when possible. If you want to force a new download, use `force_download=True`.\n",
      "  warnings.warn(\n",
      "Downloading shards: 100%|█████████████████████████████████████████████████████████████| 2/2 [01:10<00:00, 35.41s/it]\n",
      "Loading checkpoint shards: 100%|██████████████████████████████████████████████████████| 2/2 [00:09<00:00,  4.55s/it]\n",
      "Some weights of EsmModel were not initialized from the model checkpoint at facebook/esm2_t36_3B_UR50D and are newly initialized: ['esm.pooler.dense.weight', 'esm.pooler.dense.bias']\n",
      "You should probably TRAIN this model on a down-stream task to be able to use it for predictions and inference.\n"
     ]
    },
    {
     "name": "stdout",
     "output_type": "stream",
     "text": [
      "ESM_LoRA_Classfier\n",
      "Trainable Parameter: 2848188324.0\n",
      "ESM_LoRA_Classfier\n",
      "Trainable Parameter: 6561283.0\n",
      "\n"
     ]
    }
   ],
   "source": [
    "# tokenizer, model_reload = load_model(\"../finetuned_model.pth\", num_labels=2)\n",
    "tokenizer, model_reload = load_model(\"model_output/finetuned_model_all_esm2.pth\",num_labels=2)"
   ]
  },
  {
   "cell_type": "code",
   "execution_count": 17,
   "id": "b2c20e75-5f40-4ca1-9579-5df49b738fd6",
   "metadata": {
    "execution": {
     "iopub.execute_input": "2024-04-05T14:08:10.432313Z",
     "iopub.status.busy": "2024-04-05T14:08:10.431835Z",
     "iopub.status.idle": "2024-04-05T14:08:19.838631Z",
     "shell.execute_reply": "2024-04-05T14:08:19.836988Z",
     "shell.execute_reply.started": "2024-04-05T14:08:10.432274Z"
    },
    "tags": []
   },
   "outputs": [
    {
     "name": "stdout",
     "output_type": "stream",
     "text": [
      "Models have different weights\n"
     ]
    }
   ],
   "source": [
    "# Put both models to the same device\n",
    "model=model.to(\"cpu\")\n",
    "model_reload=model_reload.to(\"cpu\")\n",
    "\n",
    "# Iterate through the parameters of the two models and compare the data\n",
    "for param1, param2 in zip(model.parameters(), model_reload.parameters()):\n",
    "    if not torch.equal(param1.data, param2.data):\n",
    "        print(\"Models have different weights\")\n",
    "        break\n",
    "else:\n",
    "    print(\"Models have identical weights\")"
   ]
  },
  {
   "cell_type": "code",
   "execution_count": 18,
   "id": "50b8a403-e7c5-4912-9c7a-f404c060c32a",
   "metadata": {
    "execution": {
     "iopub.execute_input": "2024-04-05T14:08:19.841225Z",
     "iopub.status.busy": "2024-04-05T14:08:19.840752Z",
     "iopub.status.idle": "2024-04-05T14:08:19.864579Z",
     "shell.execute_reply": "2024-04-05T14:08:19.862993Z",
     "shell.execute_reply.started": "2024-04-05T14:08:19.841173Z"
    },
    "tags": []
   },
   "outputs": [
    {
     "data": {
      "text/html": [
       "<div>\n",
       "<style scoped>\n",
       "    .dataframe tbody tr th:only-of-type {\n",
       "        vertical-align: middle;\n",
       "    }\n",
       "\n",
       "    .dataframe tbody tr th {\n",
       "        vertical-align: top;\n",
       "    }\n",
       "\n",
       "    .dataframe thead th {\n",
       "        text-align: right;\n",
       "    }\n",
       "</style>\n",
       "<table border=\"1\" class=\"dataframe\">\n",
       "  <thead>\n",
       "    <tr style=\"text-align: right;\">\n",
       "      <th></th>\n",
       "      <th>name</th>\n",
       "      <th>sequence</th>\n",
       "      <th>label</th>\n",
       "    </tr>\n",
       "  </thead>\n",
       "  <tbody>\n",
       "    <tr>\n",
       "      <th>0</th>\n",
       "      <td>sp|Q8WUI4|HDAC7_HUMAN%342%358</td>\n",
       "      <td>ERLSGSGLHWPLSRTRSEPLPPSATAPPPPGPM</td>\n",
       "      <td>1</td>\n",
       "    </tr>\n",
       "    <tr>\n",
       "      <th>1</th>\n",
       "      <td>sp|Q13950|RUNX2_HUMAN%416%432</td>\n",
       "      <td>THYHTYLPPPYPGSSQSQSGPFQTSSTPYLYYG</td>\n",
       "      <td>1</td>\n",
       "    </tr>\n",
       "    <tr>\n",
       "      <th>2</th>\n",
       "      <td>sp|Q15796|SMAD2_HUMAN%229%245</td>\n",
       "      <td>DGETSDQQLNQSMDTGSPAELSPTTLSPVNHSL</td>\n",
       "      <td>1</td>\n",
       "    </tr>\n",
       "    <tr>\n",
       "      <th>3</th>\n",
       "      <td>sp|P05787|K2C8_HUMAN%416%432</td>\n",
       "      <td>TSGYAGGLSSAYGGLTSPGLSYSLGSSFGSGAG</td>\n",
       "      <td>1</td>\n",
       "    </tr>\n",
       "    <tr>\n",
       "      <th>4</th>\n",
       "      <td>sp|Q92736|RYR2_HUMAN%2798%2814</td>\n",
       "      <td>MALYNRTRRISQTSQVSVDAAHGYSPRAIDMSN</td>\n",
       "      <td>1</td>\n",
       "    </tr>\n",
       "  </tbody>\n",
       "</table>\n",
       "</div>"
      ],
      "text/plain": [
       "                             name                           sequence  label\n",
       "0   sp|Q8WUI4|HDAC7_HUMAN%342%358  ERLSGSGLHWPLSRTRSEPLPPSATAPPPPGPM      1\n",
       "1   sp|Q13950|RUNX2_HUMAN%416%432  THYHTYLPPPYPGSSQSQSGPFQTSSTPYLYYG      1\n",
       "2   sp|Q15796|SMAD2_HUMAN%229%245  DGETSDQQLNQSMDTGSPAELSPTTLSPVNHSL      1\n",
       "3    sp|P05787|K2C8_HUMAN%416%432  TSGYAGGLSSAYGGLTSPGLSYSLGSSFGSGAG      1\n",
       "4  sp|Q92736|RYR2_HUMAN%2798%2814  MALYNRTRRISQTSQVSVDAAHGYSPRAIDMSN      1"
      ]
     },
     "execution_count": 18,
     "metadata": {},
     "output_type": "execute_result"
    }
   ],
   "source": [
    "from Bio import SeqIO\n",
    "import pandas as pd\n",
    "\n",
    "sequences = []\n",
    "\n",
    "local_fasta_path = '../src/input_datasets/test_Pos_Neg_ST.fasta'\n",
    "\n",
    "# Load FASTA file using Biopython\n",
    "for record in SeqIO.parse(local_fasta_path, \"fasta\"):\n",
    "    # Split the description to extract label\n",
    "    description_parts = record.description.split(\"%\")\n",
    "    label = int(description_parts[-1].split(\"LABEL=\")[1])  # Extracting the numeric part of the label\n",
    "    sequences.append([record.name, str(record.seq), label])\n",
    "    \n",
    "local_fasta_path = '../src/input_datasets/test_Pos_Neg_Y.fasta'\n",
    "\n",
    "# Load FASTA file using Biopython\n",
    "for record in SeqIO.parse(local_fasta_path, \"fasta\"):\n",
    "    # Split the description to extract label\n",
    "    description_parts = record.description.split(\"%\")\n",
    "    label = int(description_parts[-1].split(\"LABEL=\")[1])  # Extracting the numeric part of the label\n",
    "    sequences.append([record.name, str(record.seq), label])\n",
    "\n",
    "# Create dataframe\n",
    "df = pd.DataFrame(sequences, columns=[\"name\", \"sequence\", \"label\"])\n",
    "\n",
    "# Display the dataframe\n",
    "df.head(5)\n"
   ]
  },
  {
   "cell_type": "code",
   "execution_count": 19,
   "id": "d2d18716-fd26-49fe-9ba4-b84c936a364c",
   "metadata": {
    "execution": {
     "iopub.execute_input": "2024-04-05T14:08:19.867076Z",
     "iopub.status.busy": "2024-04-05T14:08:19.866598Z",
     "iopub.status.idle": "2024-04-05T14:08:19.887853Z",
     "shell.execute_reply": "2024-04-05T14:08:19.886215Z",
     "shell.execute_reply.started": "2024-04-05T14:08:19.867024Z"
    },
    "tags": []
   },
   "outputs": [
    {
     "name": "stdout",
     "output_type": "stream",
     "text": [
      "                            sequence  label\n",
      "0  ERLSGSGLHWPLSRTRSEPLPPSATAPPPPGPM      1\n",
      "1  THYHTYLPPPYPGSSQSQSGPFQTSSTPYLYYG      1\n",
      "2  DGETSDQQLNQSMDTGSPAELSPTTLSPVNHSL      1\n",
      "3  TSGYAGGLSSAYGGLTSPGLSYSLGSSFGSGAG      1\n",
      "4  MALYNRTRRISQTSQVSVDAAHGYSPRAIDMSN      1\n"
     ]
    }
   ],
   "source": [
    "my_test=df[[\"sequence\", \"label\"]]\n",
    "\n",
    "print(my_test.head(5))\n",
    "\n",
    "'''\n",
    "my_test[\"sequence\"]=my_test[\"sequence\"].str.replace('|'.join([\"O\",\"B\",\"U\",\"Z\"]),\"X\",regex=True)\n",
    "my_test['sequence']=my_test.apply(lambda row : \" \".join(row[\"sequence\"]), axis = 1)\n",
    "'''\n",
    "\n",
    "#Using .loc ensures that you are modifying the original DataFrame rather than a view of it, which helps avoid the SettingWithCopyWarning.\n",
    "# Replace characters in the \"sequence\" column\n",
    "my_test.loc[:, \"sequence\"] = my_test[\"sequence\"].str.replace('|'.join([\"O\", \"B\", \"U\", \"Z\"]), \"X\", regex=True)\n",
    "\n",
    "# Convert each sequence to a space-separated string\n",
    "my_test.loc[:, 'sequence'] = my_test.apply(lambda row: \" \".join(row[\"sequence\"]), axis=1)\n"
   ]
  },
  {
   "cell_type": "code",
   "execution_count": 20,
   "id": "eee8fe3a",
   "metadata": {},
   "outputs": [],
   "source": [
    "# Function to get the middle character\n",
    "def get_middle_char(sequence):\n",
    "    chars = sequence.split()\n",
    "    middle_index = len(chars) // 2\n",
    "    return chars[middle_index]\n",
    "\n",
    "# Apply the function to get the middle characters\n",
    "my_test['middle_char'] = my_test['sequence'].apply(get_middle_char)\n",
    "\n",
    "# Split the DataFrame\n",
    "my_test_S = my_test[my_test['middle_char'] == 'S'].drop(columns=['middle_char'])\n",
    "my_test_T = my_test[my_test['middle_char'] == 'T'].drop(columns=['middle_char'])\n",
    "my_test_Y = my_test[my_test['middle_char'] == 'Y'].drop(columns=['middle_char'])\n",
    "my_test_ST = my_test[my_test['middle_char'].isin(['S', 'T'])].drop(columns=['middle_char'])"
   ]
  },
  {
   "cell_type": "code",
   "execution_count": 21,
   "id": "fcd9ee79",
   "metadata": {},
   "outputs": [],
   "source": [
    "my_test = my_test_Y"
   ]
  },
  {
   "cell_type": "code",
   "execution_count": 22,
   "id": "d0dff151-a667-4717-af18-401818bc4c22",
   "metadata": {
    "execution": {
     "iopub.execute_input": "2024-04-05T14:08:19.889951Z",
     "iopub.status.busy": "2024-04-05T14:08:19.889601Z",
     "iopub.status.idle": "2024-04-05T14:08:22.641629Z",
     "shell.execute_reply": "2024-04-05T14:08:22.639919Z",
     "shell.execute_reply.started": "2024-04-05T14:08:19.889916Z"
    },
    "tags": []
   },
   "outputs": [
    {
     "name": "stderr",
     "output_type": "stream",
     "text": [
      "100%|█████████████████████████████████████████████████████████████████████████████████| 4/4 [00:01<00:00,  3.77it/s]"
     ]
    },
    {
     "name": "stdout",
     "output_type": "stream",
     "text": [
      "+----------+---------------+---------------+------------+-----------+\n",
      "|      MCC |   Specificity |   Sensitivity |   Accuracy |   ROC-AUC |\n",
      "+==========+===============+===============+============+===========+\n",
      "| 0.762821 |      0.846154 |      0.916667 |       0.88 |  0.956731 |\n",
      "+----------+---------------+---------------+------------+-----------+\n",
      "[[22  4]\n",
      " [ 2 22]]\n"
     ]
    },
    {
     "name": "stderr",
     "output_type": "stream",
     "text": [
      "\n"
     ]
    }
   ],
   "source": [
    "from sklearn.metrics import confusion_matrix, matthews_corrcoef, roc_auc_score\n",
    "from tabulate import tabulate\n",
    "\n",
    "# Set the device to use\n",
    "device = torch.device('cuda') if torch.cuda.is_available() else torch.device('cpu')\n",
    "model_reload.to(device)\n",
    "\n",
    "# create Dataset\n",
    "test_set=create_dataset(tokenizer,list(my_test['sequence']),list(my_test['label']))\n",
    "# make compatible with torch DataLoader\n",
    "test_set = test_set.with_format(\"torch\", device=device)\n",
    "\n",
    "# Create a dataloader for the test dataset\n",
    "test_dataloader = DataLoader(test_set, batch_size=16, shuffle=False)\n",
    "\n",
    "# Put the model in evaluation mode\n",
    "model_reload.eval()\n",
    "\n",
    "# Make predictions on the test dataset\n",
    "raw_logits = []\n",
    "labels = []\n",
    "with torch.no_grad():\n",
    "    for batch in tqdm(test_dataloader):\n",
    "        input_ids = batch['input_ids'].to(device)\n",
    "        attention_mask = batch['attention_mask'].to(device)\n",
    "        # add batch results (logits) to predictions\n",
    "        raw_logits += model_reload(input_ids, attention_mask=attention_mask).logits.tolist()\n",
    "        labels += batch[\"labels\"].tolist()\n",
    "\n",
    "# Convert logits to predictions\n",
    "raw_logits = np.array(raw_logits)\n",
    "predictions = np.argmax(raw_logits, axis=1)\n",
    "\n",
    "# Calculate metrics\n",
    "conf_matrix = confusion_matrix(labels, predictions)\n",
    "tn, fp, fn, tp = conf_matrix.ravel()\n",
    "\n",
    "mcc = matthews_corrcoef(labels, predictions)\n",
    "specificity = tn / (tn + fp)\n",
    "sensitivity = tp / (tp + fn)\n",
    "accuracy = accuracy_score(labels, predictions)\n",
    "roc_auc = roc_auc_score(labels, raw_logits[:, 1])  # Assuming binary classification, adjust accordingly\n",
    "\n",
    "\n",
    "metrics_table = [\n",
    "    [\"MCC\", \"Specificity\", \"Sensitivity\", \"Accuracy\", \"ROC-AUC\"],\n",
    "    [mcc, specificity, sensitivity, accuracy, roc_auc]\n",
    "]\n",
    "\n",
    "print(tabulate(metrics_table, headers=\"firstrow\", tablefmt=\"grid\"))\n",
    "print(conf_matrix)\n"
   ]
  },
  {
   "cell_type": "code",
   "execution_count": 23,
   "id": "9ce2f51a-887c-4684-82b9-22ea5fffd334",
   "metadata": {
    "execution": {
     "iopub.execute_input": "2024-04-05T14:08:22.647264Z",
     "iopub.status.busy": "2024-04-05T14:08:22.646121Z",
     "iopub.status.idle": "2024-04-05T14:08:23.557189Z",
     "shell.execute_reply": "2024-04-05T14:08:23.555594Z",
     "shell.execute_reply.started": "2024-04-05T14:08:22.647207Z"
    },
    "tags": []
   },
   "outputs": [
    {
     "data": {
      "image/png": "[encoded data removed]",
      "text/plain": [
       "<Figure size 800x600 with 2 Axes>"
      ]
     },
     "metadata": {},
     "output_type": "display_data"
    }
   ],
   "source": [
    "import seaborn as sns\n",
    "import matplotlib.pyplot as plt\n",
    "\n",
    "# Define class labels\n",
    "class_labels = ['0', '1']\n",
    "\n",
    "# Plot confusion matrix\n",
    "plt.figure(figsize=(8, 6))\n",
    "sns.heatmap(conf_matrix, annot=True, fmt='d', cmap='Blues', xticklabels=class_labels, yticklabels=class_labels)\n",
    "plt.xlabel('Predicted')\n",
    "plt.ylabel('Actual')\n",
    "plt.title('Confusion Matrix')\n",
    "plt.savefig(f\"../Plots/Confusion_matrix_for_dephos_new.pdf\")\n",
    "plt.show()\n"
   ]
  },
  {
   "cell_type": "code",
   "execution_count": 24,
   "id": "07603226",
   "metadata": {},
   "outputs": [],
   "source": [
    "my_test = my_test_ST"
   ]
  },
  {
   "cell_type": "code",
   "execution_count": 25,
   "id": "b5e0d80c",
   "metadata": {},
   "outputs": [
    {
     "name": "stderr",
     "output_type": "stream",
     "text": [
      "100%|███████████████████████████████████████████████████████████████████████████████| 28/28 [00:08<00:00,  3.29it/s]"
     ]
    },
    {
     "name": "stdout",
     "output_type": "stream",
     "text": [
      "+----------+---------------+---------------+------------+-----------+\n",
      "|      MCC |   Specificity |   Sensitivity |   Accuracy |   ROC-AUC |\n",
      "+==========+===============+===============+============+===========+\n",
      "| 0.536105 |        0.6875 |      0.842342 |   0.764574 |  0.854448 |\n",
      "+----------+---------------+---------------+------------+-----------+\n",
      "[[154  70]\n",
      " [ 35 187]]\n"
     ]
    },
    {
     "name": "stderr",
     "output_type": "stream",
     "text": [
      "\n"
     ]
    }
   ],
   "source": [
    "from sklearn.metrics import confusion_matrix, matthews_corrcoef, roc_auc_score\n",
    "from tabulate import tabulate\n",
    "\n",
    "# Set the device to use\n",
    "device = torch.device('cuda') if torch.cuda.is_available() else torch.device('cpu')\n",
    "model_reload.to(device)\n",
    "\n",
    "# create Dataset\n",
    "test_set=create_dataset(tokenizer,list(my_test['sequence']),list(my_test['label']))\n",
    "# make compatible with torch DataLoader\n",
    "test_set = test_set.with_format(\"torch\", device=device)\n",
    "\n",
    "# Create a dataloader for the test dataset\n",
    "test_dataloader = DataLoader(test_set, batch_size=16, shuffle=False)\n",
    "\n",
    "# Put the model in evaluation mode\n",
    "model_reload.eval()\n",
    "\n",
    "# Make predictions on the test dataset\n",
    "raw_logits = []\n",
    "labels = []\n",
    "with torch.no_grad():\n",
    "    for batch in tqdm(test_dataloader):\n",
    "        input_ids = batch['input_ids'].to(device)\n",
    "        attention_mask = batch['attention_mask'].to(device)\n",
    "        # add batch results (logits) to predictions\n",
    "        raw_logits += model_reload(input_ids, attention_mask=attention_mask).logits.tolist()\n",
    "        labels += batch[\"labels\"].tolist()\n",
    "\n",
    "# Convert logits to predictions\n",
    "raw_logits = np.array(raw_logits)\n",
    "predictions = np.argmax(raw_logits, axis=1)\n",
    "\n",
    "# Calculate metrics\n",
    "conf_matrix = confusion_matrix(labels, predictions)\n",
    "tn, fp, fn, tp = conf_matrix.ravel()\n",
    "\n",
    "mcc = matthews_corrcoef(labels, predictions)\n",
    "specificity = tn / (tn + fp)\n",
    "sensitivity = tp / (tp + fn)\n",
    "accuracy = accuracy_score(labels, predictions)\n",
    "roc_auc = roc_auc_score(labels, raw_logits[:, 1])  # Assuming binary classification, adjust accordingly\n",
    "\n",
    "\n",
    "metrics_table = [\n",
    "    [\"MCC\", \"Specificity\", \"Sensitivity\", \"Accuracy\", \"ROC-AUC\"],\n",
    "    [mcc, specificity, sensitivity, accuracy, roc_auc]\n",
    "]\n",
    "\n",
    "print(tabulate(metrics_table, headers=\"firstrow\", tablefmt=\"grid\"))\n",
    "print(conf_matrix)\n"
   ]
  },
  {
   "cell_type": "code",
   "execution_count": 20,
   "id": "5c5528dc-6e06-456d-920f-8f05055d0b8b",
   "metadata": {},
   "outputs": [],
   "source": [
    "import umap\n",
    "\n",
    "def apply_umap(embeddings, n_components=2, n_neighbors=5, min_dist=0.01, metric='euclidean'):\n",
    "    umap_model = umap.UMAP(\n",
    "        n_components=n_components,\n",
    "        n_neighbors=n_neighbors,\n",
    "        min_dist=min_dist,\n",
    "        metric=metric\n",
    "    )\n",
    "    umap_embeddings = umap_model.fit_transform(embeddings)\n",
    "    return umap_embeddings\n",
    "\n",
    "import matplotlib.pyplot as plt\n",
    "import seaborn as sns\n",
    "import pandas as pd\n",
    "\n",
    "def plot_umap(embeddings, labels):\n",
    "    df = pd.DataFrame({\n",
    "        \"UMAP1\": embeddings[:, 0],\n",
    "        \"UMAP2\": embeddings[:, 1],\n",
    "        \"Label\": labels\n",
    "    })\n",
    "    plt.figure(figsize=(10, 8))\n",
    "    scatter = sns.scatterplot(\n",
    "        x=\"UMAP1\", y=\"UMAP2\", hue=\"Label\", data=df, palette={0: \"blue\", 1: \"magenta\"}, s=50, alpha=0.9\n",
    "    )\n",
    "    plt.title(\"UMAP Visualization of Embeddings\")\n",
    "    plt.legend(title='Label', bbox_to_anchor=(1.05, 1), loc=2)\n",
    "    plt.savefig(\"../Plots/UMAP_Visualization_of_Embeddings_ST.pdf\", bbox_inches='tight')\n",
    "    plt.show()\n",
    "    \n",
    "def get_embeddings(model, tokenizer, sequences, batch_size=32, device=\"cuda\"):\n",
    "    embeddings = []\n",
    "    model = model.to(device)\n",
    "    model.eval()\n",
    "\n",
    "    for i in range(0, len(sequences), batch_size):\n",
    "        batch = sequences[i:i + batch_size]\n",
    "        inputs = tokenizer(batch, return_tensors=\"pt\", padding=True, truncation=True, max_length=512).to(device)\n",
    "\n",
    "        with torch.no_grad():\n",
    "            outputs = model(**inputs)\n",
    "            hidden_states = outputs.hidden_states[-2].detach().cpu().numpy()\n",
    "            embeddings.extend(hidden_states[:, 0, :])\n",
    "\n",
    "        print(f\"Processed batch {i // batch_size + 1}/{len(sequences) // batch_size + 1}\")\n",
    "\n",
    "    return np.array(embeddings)"
   ]
  },
  {
   "cell_type": "code",
   "execution_count": 38,
   "id": "7718f400",
   "metadata": {},
   "outputs": [],
   "source": [
    "# Function to get the middle character\n",
    "def get_middle_char(sequence):\n",
    "    chars = list(sequence)\n",
    "    middle_index = len(chars) // 2\n",
    "    return chars[middle_index]\n",
    "\n",
    "valid_df = df\n",
    "\n",
    "# Apply the function to get the middle characters\n",
    "valid_df['middle_char'] = valid_df['sequence'].apply(get_middle_char)\n",
    "\n",
    "valid_df = valid_df[valid_df['middle_char'] == 'T'].drop(columns=['middle_char'])"
   ]
  },
  {
   "cell_type": "code",
   "execution_count": 39,
   "id": "a162964f",
   "metadata": {},
   "outputs": [
    {
     "data": {
      "text/html": [
       "<div>\n",
       "<style scoped>\n",
       "    .dataframe tbody tr th:only-of-type {\n",
       "        vertical-align: middle;\n",
       "    }\n",
       "\n",
       "    .dataframe tbody tr th {\n",
       "        vertical-align: top;\n",
       "    }\n",
       "\n",
       "    .dataframe thead th {\n",
       "        text-align: right;\n",
       "    }\n",
       "</style>\n",
       "<table border=\"1\" class=\"dataframe\">\n",
       "  <thead>\n",
       "    <tr style=\"text-align: right;\">\n",
       "      <th></th>\n",
       "      <th>name</th>\n",
       "      <th>sequence</th>\n",
       "      <th>label</th>\n",
       "    </tr>\n",
       "  </thead>\n",
       "  <tbody>\n",
       "    <tr>\n",
       "      <th>180</th>\n",
       "      <td>sp|Q9GZM8|NDEL1_HUMAN%203%219</td>\n",
       "      <td>CEKMDSAVQASLSLPATPVGKGTENTFPSPKAI</td>\n",
       "      <td>1</td>\n",
       "    </tr>\n",
       "    <tr>\n",
       "      <th>181</th>\n",
       "      <td>sp|Q8N163|CCAR2_HUMAN%438%454</td>\n",
       "      <td>EWEALCQQKAAEAAPPTQEAQGETEPTEQAPDA</td>\n",
       "      <td>1</td>\n",
       "    </tr>\n",
       "    <tr>\n",
       "      <th>182</th>\n",
       "      <td>sp|P10636-8|TAU_HUMAN%196%212</td>\n",
       "      <td>GYSSPGSPGTPGSRSRTPSLPTPPTREPKKVAV</td>\n",
       "      <td>1</td>\n",
       "    </tr>\n",
       "    <tr>\n",
       "      <th>183</th>\n",
       "      <td>sp|Q02241|KIF23_HUMAN%434%450</td>\n",
       "      <td>QEVEVARPVDKAICGLTPGRRYRNQPRGPVGNE</td>\n",
       "      <td>1</td>\n",
       "    </tr>\n",
       "    <tr>\n",
       "      <th>184</th>\n",
       "      <td>sp|Q04206|TF65_HUMAN%419%435</td>\n",
       "      <td>QAVAPPAPKPTQAGEGTLSEALLQLQFDDEDLG</td>\n",
       "      <td>1</td>\n",
       "    </tr>\n",
       "    <tr>\n",
       "      <th>...</th>\n",
       "      <td>...</td>\n",
       "      <td>...</td>\n",
       "      <td>...</td>\n",
       "    </tr>\n",
       "    <tr>\n",
       "      <th>441</th>\n",
       "      <td>sp|Q76N33|STALP_MOUSE%326%342</td>\n",
       "      <td>ENVEELFNVQDQHGLLTLGWIHTHPTQTAFLSS</td>\n",
       "      <td>0</td>\n",
       "    </tr>\n",
       "    <tr>\n",
       "      <th>442</th>\n",
       "      <td>sp|P49790|NU153_HUMAN%1098%1114</td>\n",
       "      <td>FVLGRTEEKQQEPVTSTSLVFGKKADNEEPKCQ</td>\n",
       "      <td>0</td>\n",
       "    </tr>\n",
       "    <tr>\n",
       "      <th>443</th>\n",
       "      <td>sp|Q8NFC6|BD1L1_HUMAN%2789%2805</td>\n",
       "      <td>DVLDSRIETAQRQCPETEPHDTKEENSRDLEEL</td>\n",
       "      <td>0</td>\n",
       "    </tr>\n",
       "    <tr>\n",
       "      <th>444</th>\n",
       "      <td>sp|Q5T6F2|UBAP2_HUMAN%514%530</td>\n",
       "      <td>SKIPASAVEMPGSADVTGLNVQFGALEFGSEPS</td>\n",
       "      <td>0</td>\n",
       "    </tr>\n",
       "    <tr>\n",
       "      <th>445</th>\n",
       "      <td>sp|Q9H040|SPRTN_HUMAN%265%281</td>\n",
       "      <td>NLPSPGKLITSHAINKTQDLLNQNHSANAVRPN</td>\n",
       "      <td>0</td>\n",
       "    </tr>\n",
       "  </tbody>\n",
       "</table>\n",
       "<p>85 rows × 3 columns</p>\n",
       "</div>"
      ],
      "text/plain": [
       "                                name                           sequence  label\n",
       "180    sp|Q9GZM8|NDEL1_HUMAN%203%219  CEKMDSAVQASLSLPATPVGKGTENTFPSPKAI      1\n",
       "181    sp|Q8N163|CCAR2_HUMAN%438%454  EWEALCQQKAAEAAPPTQEAQGETEPTEQAPDA      1\n",
       "182    sp|P10636-8|TAU_HUMAN%196%212  GYSSPGSPGTPGSRSRTPSLPTPPTREPKKVAV      1\n",
       "183    sp|Q02241|KIF23_HUMAN%434%450  QEVEVARPVDKAICGLTPGRRYRNQPRGPVGNE      1\n",
       "184     sp|Q04206|TF65_HUMAN%419%435  QAVAPPAPKPTQAGEGTLSEALLQLQFDDEDLG      1\n",
       "..                               ...                                ...    ...\n",
       "441    sp|Q76N33|STALP_MOUSE%326%342  ENVEELFNVQDQHGLLTLGWIHTHPTQTAFLSS      0\n",
       "442  sp|P49790|NU153_HUMAN%1098%1114  FVLGRTEEKQQEPVTSTSLVFGKKADNEEPKCQ      0\n",
       "443  sp|Q8NFC6|BD1L1_HUMAN%2789%2805  DVLDSRIETAQRQCPETEPHDTKEENSRDLEEL      0\n",
       "444    sp|Q5T6F2|UBAP2_HUMAN%514%530  SKIPASAVEMPGSADVTGLNVQFGALEFGSEPS      0\n",
       "445    sp|Q9H040|SPRTN_HUMAN%265%281  NLPSPGKLITSHAINKTQDLLNQNHSANAVRPN      0\n",
       "\n",
       "[85 rows x 3 columns]"
      ]
     },
     "execution_count": 39,
     "metadata": {},
     "output_type": "execute_result"
    }
   ],
   "source": [
    "valid_df"
   ]
  },
  {
   "cell_type": "code",
   "execution_count": 40,
   "id": "a44d9187-1ac5-4e36-89a0-8f827a7f0077",
   "metadata": {},
   "outputs": [
    {
     "name": "stderr",
     "output_type": "stream",
     "text": [
      "/home/ubuntu/data/miniconda3/envs/finetune-dephos/lib/python3.9/site-packages/huggingface_hub/file_download.py:1132: FutureWarning: `resume_download` is deprecated and will be removed in version 1.0.0. Downloads always resume when possible. If you want to force a new download, use `force_download=True`.\n",
      "  warnings.warn(\n"
     ]
    },
    {
     "name": "stdout",
     "output_type": "stream",
     "text": [
      "ProtT5_Classfier\n",
      "Trainable Parameter: 1209193475.0\n",
      "ProtT5_LoRA_Classfier\n",
      "Trainable Parameter: 3559427.0\n",
      "\n",
      "Processed batch 1/3\n",
      "Processed batch 2/3\n",
      "Processed batch 3/3\n"
     ]
    },
    {
     "data": {
      "image/png": "[encoded data removed]",
      "text/plain": [
       "<Figure size 1000x800 with 1 Axes>"
      ]
     },
     "metadata": {},
     "output_type": "display_data"
    }
   ],
   "source": [
    "# valid_df = my_valid\n",
    "\n",
    "# tokenizer, model_reload = load_model(\"../finetuned_model.pth\", num_labels=2)\n",
    "tokenizer, model_reload = load_model(\"model_output/finetuned_model_ST.pth\",num_labels=2)\n",
    "\n",
    "valid_df[\"sequence\"] = valid_df[\"sequence\"].str.replace('|'.join([\"O\", \"B\", \"U\", \"Z\"]), \"X\", regex=True)\n",
    "valid_df[\"sequence\"] = valid_df[\"sequence\"].apply(lambda x: \" \".join(x))\n",
    "\n",
    "valid_sequences = list(valid_df['sequence'])\n",
    "valid_embeddings = get_embeddings(model_reload, tokenizer, valid_sequences)\n",
    "\n",
    "umap_embeddings = apply_umap(valid_embeddings)\n",
    "\n",
    "\n",
    "labels = list(valid_df['label'])\n",
    "\n",
    "plot_umap(umap_embeddings, labels)\n"
   ]
  },
  {
   "cell_type": "code",
   "execution_count": null,
   "id": "9f029bcf-42ef-4476-b575-3c14adb71b25",
   "metadata": {},
   "outputs": [],
   "source": []
  },
  {
   "cell_type": "code",
   "execution_count": null,
   "id": "f8da0e6c-e921-493b-9304-8ba9aad07d9c",
   "metadata": {},
   "outputs": [],
   "source": []
  }
 ],
 "metadata": {
  "kernelspec": {
   "display_name": "Python 3 (ipykernel)",
   "language": "python",
   "name": "python3"
  },
  "language_info": {
   "codemirror_mode": {
    "name": "ipython",
    "version": 3
   },
   "file_extension": ".py",
   "mimetype": "text/x-python",
   "name": "python",
   "nbconvert_exporter": "python",
   "pygments_lexer": "ipython3",
   "version": "3.9.18"
  }
 },
 "nbformat": 4,
 "nbformat_minor": 5
}
