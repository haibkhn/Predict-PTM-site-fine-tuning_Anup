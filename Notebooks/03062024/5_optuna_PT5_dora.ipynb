{
 "cells": [
  {
   "cell_type": "markdown",
   "id": "9a2319a5",
   "metadata": {},
   "source": [
    "This notebook will implement changing lora settings and separate dataloader"
   ]
  },
  {
   "cell_type": "code",
   "execution_count": 1,
   "id": "1f1959ca-a3c9-46d8-8519-064c38f52007",
   "metadata": {
    "execution": {
     "iopub.execute_input": "2024-04-05T12:48:44.051741Z",
     "iopub.status.busy": "2024-04-05T12:48:44.050047Z",
     "iopub.status.idle": "2024-04-05T12:52:49.260801Z",
     "shell.execute_reply": "2024-04-05T12:52:49.259100Z",
     "shell.execute_reply.started": "2024-04-05T12:48:44.051657Z"
    },
    "tags": []
   },
   "outputs": [],
   "source": [
    "# !pip install torch==2.1.1 torchaudio torchvision tqdm==4.66.1 accelerate==0.24.1 biopython==1.81 numpy==1.26.2 pandas==2.1.3 \\\n",
    "# transformers==4.35.2 datasets==2.15.0 scikit-learn==1.3.2 umap-learn==0.5.5 sentencepiece==0.1.99 seaborn==0.13.0 scipy==1.11.4 \\\n",
    "# matplotlib==3.8.2 evaluate==0.4.1 deepspeed==0.12.3"
   ]
  },
  {
   "cell_type": "code",
   "execution_count": 2,
   "id": "060d0bba-32ad-4dc9-b1b8-d1124da1336c",
   "metadata": {
    "tags": []
   },
   "outputs": [],
   "source": [
    "# try with UMAP"
   ]
  },
  {
   "cell_type": "code",
   "execution_count": 1,
   "id": "8a377270-2995-4da1-a673-5369769a6279",
   "metadata": {
    "execution": {
     "iopub.execute_input": "2024-04-05T12:52:49.264011Z",
     "iopub.status.busy": "2024-04-05T12:52:49.263502Z",
     "iopub.status.idle": "2024-04-05T12:53:29.491461Z",
     "shell.execute_reply": "2024-04-05T12:53:29.490156Z",
     "shell.execute_reply.started": "2024-04-05T12:52:49.263956Z"
    },
    "tags": []
   },
   "outputs": [
    {
     "name": "stderr",
     "output_type": "stream",
     "text": [
      "/home/ubuntu/data/miniconda3/envs/finetune-dephos/lib/python3.9/site-packages/tqdm/auto.py:21: TqdmWarning: IProgress not found. Please update jupyter and ipywidgets. See https://ipywidgets.readthedocs.io/en/stable/user_install.html\n",
      "  from .autonotebook import tqdm as notebook_tqdm\n"
     ]
    }
   ],
   "source": [
    "import os.path\n",
    "\n",
    "import torch\n",
    "import torch.nn as nn\n",
    "import torch.nn.functional as F\n",
    "from torch.nn import BCEWithLogitsLoss, CrossEntropyLoss, MSELoss\n",
    "from torch.utils.data import DataLoader\n",
    "\n",
    "import re\n",
    "import numpy as np\n",
    "import pandas as pd\n",
    "import copy\n",
    "\n",
    "import transformers, datasets\n",
    "from transformers.modeling_outputs import SequenceClassifierOutput\n",
    "from transformers.models.t5.modeling_t5 import T5Config, T5PreTrainedModel, T5Stack\n",
    "from transformers.utils.model_parallel_utils import assert_device_map, get_device_map\n",
    "from transformers import T5EncoderModel, T5Tokenizer\n",
    "from transformers import TrainingArguments, Trainer, set_seed\n",
    "\n",
    "from evaluate import load\n",
    "from datasets import Dataset\n",
    "\n",
    "from tqdm import tqdm\n",
    "import random\n",
    "\n",
    "from scipy import stats\n",
    "from sklearn.metrics import accuracy_score\n",
    "\n",
    "import matplotlib.pyplot as plt\n",
    "#!pip install umap-learn\n",
    "import umap"
   ]
  },
  {
   "cell_type": "code",
   "execution_count": 2,
   "id": "0148ff8f-80eb-4bbd-aac7-fe1f371da27a",
   "metadata": {
    "execution": {
     "iopub.execute_input": "2024-04-05T12:53:29.508233Z",
     "iopub.status.busy": "2024-04-05T12:53:29.507801Z",
     "iopub.status.idle": "2024-04-05T12:53:29.536614Z",
     "shell.execute_reply": "2024-04-05T12:53:29.514877Z",
     "shell.execute_reply.started": "2024-04-05T12:53:29.508197Z"
    },
    "tags": []
   },
   "outputs": [
    {
     "name": "stdout",
     "output_type": "stream",
     "text": [
      "Torch version:  2.1.1+cu121\n",
      "Cuda version:  12.1\n",
      "Numpy version:  1.26.4\n",
      "Pandas version:  2.2.2\n",
      "Transformers version:  4.35.2\n",
      "Datasets version:  2.19.1\n"
     ]
    }
   ],
   "source": [
    "print(\"Torch version: \",torch.__version__)\n",
    "print(\"Cuda version: \",torch.version.cuda)\n",
    "print(\"Numpy version: \",np.__version__)\n",
    "print(\"Pandas version: \",pd.__version__)\n",
    "print(\"Transformers version: \",transformers.__version__)\n",
    "print(\"Datasets version: \",datasets.__version__)"
   ]
  },
  {
   "cell_type": "code",
   "execution_count": 3,
   "id": "96bd9396-a81c-4d87-a722-0d2020627dbd",
   "metadata": {
    "execution": {
     "iopub.execute_input": "2024-04-05T12:53:29.538488Z",
     "iopub.status.busy": "2024-04-05T12:53:29.538089Z",
     "iopub.status.idle": "2024-04-05T12:53:29.768968Z",
     "shell.execute_reply": "2024-04-05T12:53:29.767620Z",
     "shell.execute_reply.started": "2024-04-05T12:53:29.538452Z"
    },
    "tags": []
   },
   "outputs": [
    {
     "data": {
      "text/html": [
       "<div>\n",
       "<style scoped>\n",
       "    .dataframe tbody tr th:only-of-type {\n",
       "        vertical-align: middle;\n",
       "    }\n",
       "\n",
       "    .dataframe tbody tr th {\n",
       "        vertical-align: top;\n",
       "    }\n",
       "\n",
       "    .dataframe thead th {\n",
       "        text-align: right;\n",
       "    }\n",
       "</style>\n",
       "<table border=\"1\" class=\"dataframe\">\n",
       "  <thead>\n",
       "    <tr style=\"text-align: right;\">\n",
       "      <th></th>\n",
       "      <th>name</th>\n",
       "      <th>sequence</th>\n",
       "      <th>label</th>\n",
       "    </tr>\n",
       "  </thead>\n",
       "  <tbody>\n",
       "    <tr>\n",
       "      <th>0</th>\n",
       "      <td>sp|P24928|RPB1_HUMAN%1775%1791</td>\n",
       "      <td>NYTPTSPNYSPTSPSYSPTSPSYSPTSPSYSPS</td>\n",
       "      <td>1</td>\n",
       "    </tr>\n",
       "    <tr>\n",
       "      <th>1</th>\n",
       "      <td>sp|P05787|K2C8_HUMAN%58%74</td>\n",
       "      <td>SGMGGITAVTVNQSLLSPLVLEVDPNIQAVRTQ</td>\n",
       "      <td>1</td>\n",
       "    </tr>\n",
       "    <tr>\n",
       "      <th>2</th>\n",
       "      <td>sp|Q14832|GRM3_HUMAN%829%845</td>\n",
       "      <td>QPQKNVVTHRLHLNRFSVSGTGTTYSQSSASTY</td>\n",
       "      <td>1</td>\n",
       "    </tr>\n",
       "    <tr>\n",
       "      <th>3</th>\n",
       "      <td>sp|P01106|MYC_HUMAN%46%62</td>\n",
       "      <td>SEDIWKKFELLPTPPLSPSRRSGLCSPSYVAVT</td>\n",
       "      <td>1</td>\n",
       "    </tr>\n",
       "    <tr>\n",
       "      <th>4</th>\n",
       "      <td>sp|Q92736|RYR2_HUMAN%2792%2808</td>\n",
       "      <td>TREGDSMALYNRTRRISQTSQVSVDAAHGYSPR</td>\n",
       "      <td>1</td>\n",
       "    </tr>\n",
       "  </tbody>\n",
       "</table>\n",
       "</div>"
      ],
      "text/plain": [
       "                             name                           sequence  label\n",
       "0  sp|P24928|RPB1_HUMAN%1775%1791  NYTPTSPNYSPTSPSYSPTSPSYSPTSPSYSPS      1\n",
       "1      sp|P05787|K2C8_HUMAN%58%74  SGMGGITAVTVNQSLLSPLVLEVDPNIQAVRTQ      1\n",
       "2    sp|Q14832|GRM3_HUMAN%829%845  QPQKNVVTHRLHLNRFSVSGTGTTYSQSSASTY      1\n",
       "3       sp|P01106|MYC_HUMAN%46%62  SEDIWKKFELLPTPPLSPSRRSGLCSPSYVAVT      1\n",
       "4  sp|Q92736|RYR2_HUMAN%2792%2808  TREGDSMALYNRTRRISQTSQVSVDAAHGYSPR      1"
      ]
     },
     "execution_count": 3,
     "metadata": {},
     "output_type": "execute_result"
    }
   ],
   "source": [
    "from Bio import SeqIO\n",
    "import pandas as pd\n",
    "\n",
    "sequences = []\n",
    "\n",
    "local_fasta_path = '../src/input_datasets/train_Pos_Neg_ST.fasta'\n",
    "\n",
    "# Load FASTA file using Biopython\n",
    "for record in SeqIO.parse(local_fasta_path, \"fasta\"):\n",
    "    # Split the description to extract label\n",
    "    description_parts = record.description.split(\"%\")\n",
    "    label = int(description_parts[-1].split(\"LABEL=\")[1])  # Extracting the numeric part of the label\n",
    "    sequences.append([record.name, str(record.seq), label])\n",
    "\n",
    "local_fasta_path = '../src/input_datasets/train_Pos_Neg_Y.fasta'\n",
    "\n",
    "for record in SeqIO.parse(local_fasta_path, \"fasta\"):\n",
    "    # Split the description to extract label\n",
    "    description_parts = record.description.split(\"%\")\n",
    "    label = int(description_parts[-1].split(\"LABEL=\")[1])  # Extracting the numeric part of the label\n",
    "    sequences.append([record.name, str(record.seq), label])\n",
    "\n",
    "# Create dataframe\n",
    "df = pd.DataFrame(sequences, columns=[\"name\", \"sequence\", \"label\"])\n",
    "\n",
    "# Display the dataframe\n",
    "df.head(5)\n"
   ]
  },
  {
   "cell_type": "code",
   "execution_count": 6,
   "id": "c5b784f7",
   "metadata": {},
   "outputs": [],
   "source": [
    "# # Function to get the middle character\n",
    "# def get_middle_char(sequence):\n",
    "#     chars = list(sequence)\n",
    "#     middle_index = len(chars) // 2\n",
    "#     return chars[middle_index]\n",
    "\n",
    "# # Apply the function to get the middle characters\n",
    "# df['middle_char'] = df['sequence'].apply(get_middle_char)"
   ]
  },
  {
   "cell_type": "code",
   "execution_count": 7,
   "id": "25a68724",
   "metadata": {},
   "outputs": [],
   "source": [
    "# # Function to count 'S', 'T', 'Y' in a sequence\n",
    "# def count_chars(sequence, char):\n",
    "#     return sequence.count(char)\n",
    "\n",
    "# # Count the occurrences of 'S', 'T', and 'Y' in the sequences\n",
    "# df['count_S'] = df['middle_char'].apply(lambda seq: count_chars(seq, 'S'))\n",
    "# df['count_T'] = df['middle_char'].apply(lambda seq: count_chars(seq, 'T'))\n",
    "# df['count_Y'] = df['middle_char'].apply(lambda seq: count_chars(seq, 'Y'))\n",
    "\n",
    "# # Sum the counts to get the total occurrences in the DataFrame\n",
    "# total_S = df['count_S'].sum()\n",
    "# total_T = df['count_T'].sum()\n",
    "# total_Y = df['count_Y'].sum()\n",
    "\n",
    "# print(f\"Total number of 'S': {total_S}\")\n",
    "# print(f\"Total number of 'T': {total_T}\")\n",
    "# print(f\"Total number of 'Y': {total_Y}\")"
   ]
  },
  {
   "cell_type": "code",
   "execution_count": 8,
   "id": "6f9c28e2",
   "metadata": {},
   "outputs": [],
   "source": [
    "# # Group by label and sum the counts\n",
    "# grouped_counts = df.groupby('label')[['count_S', 'count_T', 'count_Y']].sum().reset_index()\n",
    "\n",
    "# # Display the grouped counts\n",
    "# print(grouped_counts)"
   ]
  },
  {
   "cell_type": "code",
   "execution_count": 9,
   "id": "14c189b6",
   "metadata": {},
   "outputs": [],
   "source": [
    "# # Separate the DataFrame by middle character\n",
    "# df_S = df[df['middle_char'] == 'S']\n",
    "# df_T = df[df['middle_char'] == 'T']\n",
    "# df_Y = df[df['middle_char'] == 'Y']\n",
    "\n",
    "# # Separate each subset by label\n",
    "# df_S_0 = df_S[df_S['label'] == 0]\n",
    "# df_S_1 = df_S[df_S['label'] == 1]\n",
    "# df_T_0 = df_T[df_T['label'] == 0]\n",
    "# df_T_1 = df_T[df_T['label'] == 1]\n",
    "# df_Y_0 = df_Y[df_Y['label'] == 0]\n",
    "# df_Y_1 = df_Y[df_Y['label'] == 1]\n"
   ]
  },
  {
   "cell_type": "code",
   "execution_count": 10,
   "id": "333000b7",
   "metadata": {},
   "outputs": [],
   "source": [
    "# from sklearn.utils import resample\n",
    "# # Desired number of samples per group\n",
    "# n_samples_S = 500\n",
    "# n_sampple_T = 300\n",
    "# n_sampple_Y = 200\n",
    "# # Perform stratified sampling\n",
    "# df_S_0_resampled = resample(df_S_0, replace=False, n_samples=n_samples_S, random_state=42)\n",
    "# df_S_1_resampled = resample(df_S_1, replace=False, n_samples=n_samples_S, random_state=42)\n",
    "# df_T_0_resampled = resample(df_T_0, replace=True, n_samples=n_sampple_T, random_state=42)\n",
    "# df_T_1_resampled = resample(df_T_1, replace=True, n_samples=n_sampple_T, random_state=42)\n",
    "# df_Y_0_resampled = resample(df_Y_0, replace=True, n_samples=n_sampple_Y, random_state=42)\n",
    "# df_Y_1_resampled = resample(df_Y_1, replace=True, n_samples=n_sampple_Y, random_state=42)\n",
    "\n"
   ]
  },
  {
   "cell_type": "code",
   "execution_count": 11,
   "id": "31710914",
   "metadata": {},
   "outputs": [],
   "source": [
    "# # Combine the resampled subsets\n",
    "# balanced_df = pd.concat([\n",
    "#     df_S_0_resampled, df_S_1_resampled,\n",
    "#     df_T_0_resampled, df_T_1_resampled,\n",
    "#     df_Y_0_resampled, df_Y_1_resampled\n",
    "# ])\n",
    "\n",
    "# # Shuffle the combined DataFrame\n",
    "# balanced_df = balanced_df.sample(frac=1, random_state=42).reset_index(drop=True)\n",
    "\n",
    "# print(\"Balanced DataFrame:\")\n",
    "# print(balanced_df)\n"
   ]
  },
  {
   "cell_type": "code",
   "execution_count": 12,
   "id": "46617eaa-de6d-4d12-82cb-08ec66b4f56a",
   "metadata": {
    "execution": {
     "iopub.execute_input": "2024-04-05T12:53:29.771322Z",
     "iopub.status.busy": "2024-04-05T12:53:29.770859Z",
     "iopub.status.idle": "2024-04-05T12:53:29.786558Z",
     "shell.execute_reply": "2024-04-05T12:53:29.785263Z",
     "shell.execute_reply.started": "2024-04-05T12:53:29.771275Z"
    },
    "tags": []
   },
   "outputs": [],
   "source": [
    "# from sklearn.model_selection import train_test_split\n",
    "\n",
    "# # Split the dataset into training and validation sets\n",
    "# my_train, my_valid = train_test_split(\n",
    "#     balanced_df, \n",
    "#     test_size=0.2, \n",
    "#     random_state=42, \n",
    "#     stratify=balanced_df[['label', 'middle_char']]\n",
    "# )\n",
    "\n",
    "# my_train=my_train[[\"sequence\", \"label\"]]\n",
    "# my_valid=my_valid[[\"sequence\",\"label\"]]\n",
    "\n",
    "\n",
    "# # Print the first 5 rows of the training set\n",
    "# print(\"Training Set:\")\n",
    "# print(my_train.shape)\n",
    "\n",
    "# # Print the first 5 rows of the validation set\n",
    "# print(\"\\nValidation Set:\")\n",
    "# print(my_valid.shape)"
   ]
  },
  {
   "cell_type": "code",
   "execution_count": 4,
   "id": "76760f9d",
   "metadata": {},
   "outputs": [
    {
     "name": "stdout",
     "output_type": "stream",
     "text": [
      "Training Set:\n",
      "(1584, 2)\n",
      "\n",
      "Validation Set:\n",
      "(396, 2)\n"
     ]
    }
   ],
   "source": [
    "from sklearn.model_selection import train_test_split\n",
    "\n",
    "# Split the dataset into training and validation sets\n",
    "my_train, my_valid = train_test_split(df, test_size=0.2, random_state=42)\n",
    "\n",
    "my_train=my_train[[\"sequence\", \"label\"]]\n",
    "my_valid=my_valid[[\"sequence\",\"label\"]]\n",
    "\n",
    "\n",
    "# Print the first 5 rows of the training set\n",
    "print(\"Training Set:\")\n",
    "print(my_train.shape)\n",
    "\n",
    "# Print the first 5 rows of the validation set\n",
    "print(\"\\nValidation Set:\")\n",
    "print(my_valid.shape)"
   ]
  },
  {
   "cell_type": "code",
   "execution_count": 5,
   "id": "a424877b-787c-44fe-bf87-33346ffd3be5",
   "metadata": {
    "execution": {
     "iopub.execute_input": "2024-04-05T12:53:29.789138Z",
     "iopub.status.busy": "2024-04-05T12:53:29.788675Z",
     "iopub.status.idle": "2024-04-05T12:53:29.816779Z",
     "shell.execute_reply": "2024-04-05T12:53:29.815341Z",
     "shell.execute_reply.started": "2024-04-05T12:53:29.789094Z"
    },
    "tags": []
   },
   "outputs": [],
   "source": [
    "# Modifies an existing transformer and introduce the LoRA layers\n",
    "\n",
    "class LoRAConfig:\n",
    "    def __init__(self, lora_rank=8, lora_init_scale=0.01, lora_scaling_rank=2):\n",
    "        self.lora_rank = lora_rank\n",
    "        self.lora_init_scale = lora_init_scale\n",
    "        self.lora_modules = \".*SelfAttention|.*EncDecAttention\"\n",
    "        self.lora_layers = \"q|k|v|o\"\n",
    "        self.trainable_param_names = \".*layer_norm.*|.*lora_[ab].*\"\n",
    "        self.lora_scaling_rank = lora_scaling_rank\n",
    "        # lora_modules and lora_layers are specified with regular expressions\n",
    "        # see https://www.w3schools.com/python/python_regex.asp for reference\n",
    "        \n",
    "class LoRALinear(nn.Module):\n",
    "    def __init__(self, linear_layer, rank, scaling_rank, init_scale):\n",
    "        super().__init__()\n",
    "        self.in_features = linear_layer.in_features\n",
    "        self.out_features = linear_layer.out_features\n",
    "        self.rank = rank\n",
    "        self.scaling_rank = scaling_rank\n",
    "        self.weight = linear_layer.weight\n",
    "        self.bias = linear_layer.bias\n",
    "        if self.rank > 0:\n",
    "            self.lora_a = nn.Parameter(torch.randn(rank, linear_layer.in_features) * init_scale)\n",
    "            if init_scale < 0:\n",
    "                self.lora_b = nn.Parameter(torch.randn(linear_layer.out_features, rank) * init_scale)\n",
    "            else:\n",
    "                self.lora_b = nn.Parameter(torch.zeros(linear_layer.out_features, rank))\n",
    "        if self.scaling_rank:\n",
    "            self.multi_lora_a = nn.Parameter(\n",
    "                torch.ones(self.scaling_rank, linear_layer.in_features)\n",
    "                + torch.randn(self.scaling_rank, linear_layer.in_features) * init_scale\n",
    "            )\n",
    "            if init_scale < 0:\n",
    "                self.multi_lora_b = nn.Parameter(\n",
    "                    torch.ones(linear_layer.out_features, self.scaling_rank)\n",
    "                    + torch.randn(linear_layer.out_features, self.scaling_rank) * init_scale\n",
    "                )\n",
    "            else:\n",
    "                self.multi_lora_b = nn.Parameter(torch.ones(linear_layer.out_features, self.scaling_rank))\n",
    "\n",
    "    def forward(self, input):\n",
    "        if self.scaling_rank == 1 and self.rank == 0:\n",
    "            # parsimonious implementation for ia3 and lora scaling\n",
    "            if self.multi_lora_a.requires_grad:\n",
    "                hidden = F.linear((input * self.multi_lora_a.flatten()), self.weight, self.bias)\n",
    "            else:\n",
    "                hidden = F.linear(input, self.weight, self.bias)\n",
    "            if self.multi_lora_b.requires_grad:\n",
    "                hidden = hidden * self.multi_lora_b.flatten()\n",
    "            return hidden\n",
    "        else:\n",
    "            # general implementation for lora (adding and scaling)\n",
    "            weight = self.weight\n",
    "            if self.scaling_rank:\n",
    "                weight = weight * torch.matmul(self.multi_lora_b, self.multi_lora_a) / self.scaling_rank\n",
    "            if self.rank:\n",
    "                weight = weight + torch.matmul(self.lora_b, self.lora_a) / self.rank\n",
    "            return F.linear(input, weight, self.bias)\n",
    "\n",
    "    def extra_repr(self):\n",
    "        return \"in_features={}, out_features={}, bias={}, rank={}, scaling_rank={}\".format(\n",
    "            self.in_features, self.out_features, self.bias is not None, self.rank, self.scaling_rank\n",
    "        )\n",
    "\n",
    "\n",
    "def modify_with_lora(transformer, config):\n",
    "    for m_name, module in dict(transformer.named_modules()).items():\n",
    "        if re.fullmatch(config.lora_modules, m_name):\n",
    "            for c_name, layer in dict(module.named_children()).items():\n",
    "                if re.fullmatch(config.lora_layers, c_name):\n",
    "                    assert isinstance(\n",
    "                        layer, nn.Linear\n",
    "                    ), f\"LoRA can only be applied to torch.nn.Linear, but {layer} is {type(layer)}.\"\n",
    "                    setattr(\n",
    "                        module,\n",
    "                        c_name,\n",
    "                        LoRALinear(layer, config.lora_rank, config.lora_scaling_rank, config.lora_init_scale),\n",
    "                    )\n",
    "    return transformer"
   ]
  },
  {
   "cell_type": "code",
   "execution_count": 5,
   "id": "7762c927",
   "metadata": {},
   "outputs": [],
   "source": [
    "class DoRAConfig:\n",
    "    def __init__(self, dora_rank=8, dora_init_scale=0.01):\n",
    "        self.dora_rank = dora_rank\n",
    "        self.dora_init_scale = dora_init_scale\n",
    "        self.dora_modules = \".*SelfAttention|.*EncDecAttention\"\n",
    "        self.dora_layers = \"q|k|v|o\"\n",
    "        self.trainable_param_names = \".*layer_norm.*|.*dora_diag.*\"\n",
    "\n",
    "class DoRALinear(nn.Module):\n",
    "    def __init__(self, linear_layer, rank, init_scale):\n",
    "        super().__init__()\n",
    "        self.in_features = linear_layer.in_features\n",
    "        self.out_features = linear_layer.out_features\n",
    "        self.rank = rank\n",
    "        self.weight = linear_layer.weight\n",
    "        self.bias = linear_layer.bias\n",
    "        if self.rank > 0:\n",
    "            self.dora_diag = nn.Parameter(torch.randn(min(self.in_features, self.out_features)) * init_scale)\n",
    "\n",
    "    def forward(self, input):\n",
    "        weight = self.weight\n",
    "        if self.rank:\n",
    "            diag_matrix = torch.diag(self.dora_diag)  # Create a diagonal matrix from the parameters\n",
    "            diag_matrix_padded = torch.zeros_like(weight)\n",
    "            diag_matrix_padded[:diag_matrix.shape[0], :diag_matrix.shape[1]] = diag_matrix\n",
    "            weight = weight + diag_matrix_padded  # Ensure correct size\n",
    "        return F.linear(input, weight, self.bias)\n",
    "\n",
    "    def extra_repr(self):\n",
    "        return \"in_features={}, out_features={}, bias={}, rank={}\".format(\n",
    "            self.in_features, self.out_features, self.bias is not None, self.rank\n",
    "        )\n",
    "\n",
    "\n",
    "def modify_with_dora(transformer, config):\n",
    "    for m_name, module in dict(transformer.named_modules()).items():\n",
    "        if re.fullmatch(config.dora_modules, m_name):\n",
    "            for c_name, layer in dict(module.named_children()).items():\n",
    "                if re.fullmatch(config.dora_layers, c_name):\n",
    "                    assert isinstance(\n",
    "                        layer, nn.Linear\n",
    "                    ), f\"DoRA can only be applied to torch.nn.Linear, but {layer} is {type(layer)}.\"\n",
    "                    setattr(\n",
    "                        module,\n",
    "                        c_name,\n",
    "                        DoRALinear(layer, config.dora_rank, config.dora_init_scale),\n",
    "                    )\n",
    "    return transformer\n",
    "\n"
   ]
  },
  {
   "cell_type": "code",
   "execution_count": 6,
   "id": "9e79b323-4677-4723-a5fd-a60dc13a3b0d",
   "metadata": {
    "execution": {
     "iopub.execute_input": "2024-04-05T12:53:29.819433Z",
     "iopub.status.busy": "2024-04-05T12:53:29.818965Z",
     "iopub.status.idle": "2024-04-05T12:53:29.845976Z",
     "shell.execute_reply": "2024-04-05T12:53:29.844438Z",
     "shell.execute_reply.started": "2024-04-05T12:53:29.819335Z"
    },
    "tags": []
   },
   "outputs": [],
   "source": [
    "class ClassConfig:\n",
    "    def __init__(self, dropout=0.7, num_labels=2):\n",
    "        self.dropout_rate = dropout\n",
    "        self.num_labels = num_labels\n",
    "\n",
    "class T5EncoderClassificationHead(nn.Module):\n",
    "    \"\"\"Head for sentence-level classification tasks.\"\"\"\n",
    "\n",
    "    def __init__(self, config, class_config):\n",
    "        super().__init__()\n",
    "        self.dense = nn.Linear(config.hidden_size, config.hidden_size)\n",
    "        self.dropout = nn.Dropout(class_config.dropout_rate)\n",
    "        self.out_proj = nn.Linear(config.hidden_size, class_config.num_labels)\n",
    "        \n",
    "        # Trainable emphasis factor\n",
    "        self.emphasis_factor = nn.Parameter(torch.tensor(1.0))\n",
    "        \n",
    "    def forward(self, hidden_states):\n",
    "        seq_length = hidden_states.size(1)\n",
    "        middle_idx = seq_length // 2\n",
    "        middle_embedding = hidden_states[:, middle_idx, :]\n",
    "\n",
    "        # Apply trainable emphasis factor\n",
    "        emphasized_middle_embedding = middle_embedding * self.emphasis_factor\n",
    "\n",
    "        # Combine with the average embedding\n",
    "        average_embedding = torch.mean(hidden_states, dim=1)\n",
    "        combined_embedding = emphasized_middle_embedding + average_embedding\n",
    "\n",
    "        x = self.dropout(combined_embedding)\n",
    "        x = self.dense(x)\n",
    "        x = torch.tanh(x)\n",
    "        x = self.dropout(x)\n",
    "        logits = self.out_proj(x)\n",
    "        return logits\n",
    "\n",
    "    # def forward(self, hidden_states):\n",
    "\n",
    "    #     hidden_states =  torch.mean(hidden_states,dim=1)  # avg embedding\n",
    "\n",
    "    #     hidden_states = self.dropout(hidden_states)\n",
    "    #     hidden_states = self.dense(hidden_states)\n",
    "    #     hidden_states = torch.tanh(hidden_states)\n",
    "    #     hidden_states = self.dropout(hidden_states)\n",
    "    #     hidden_states = self.out_proj(hidden_states)\n",
    "    #     return hidden_states\n",
    "    \n",
    "    # def forward(self, hidden_states):\n",
    "    #     # Original sequence length and middle index\n",
    "    #     seq_length = hidden_states.size(1)\n",
    "    #     middle_idx = seq_length // 2\n",
    "\n",
    "    #     # Extract the middle embedding vector\n",
    "    #     middle_embedding = hidden_states[:, middle_idx, :]\n",
    "\n",
    "    #     # Amplify the influence of the middle embedding\n",
    "    #     amplified_middle_embedding = middle_embedding * 2\n",
    "\n",
    "    #     # Combine with average to retain context\n",
    "    #     average_embedding = torch.mean(hidden_states, dim=1)\n",
    "    #     combined_embedding = 0.5 * amplified_middle_embedding + 0.5 * average_embedding\n",
    "\n",
    "    #     # Classification layers\n",
    "    #     x = self.dropout(combined_embedding)\n",
    "    #     x = self.dense(x)\n",
    "    #     x = torch.tanh(x)\n",
    "    #     x = self.dropout(x)\n",
    "    #     logits = self.out_proj(x)\n",
    "    #     return logits\n",
    "\n",
    "\n",
    "class T5EncoderForSimpleSequenceClassification(T5PreTrainedModel):\n",
    "\n",
    "    def __init__(self, config: T5Config, class_config):\n",
    "        super().__init__(config)\n",
    "        self.num_labels = class_config.num_labels\n",
    "        self.config = config\n",
    "\n",
    "        self.shared = nn.Embedding(config.vocab_size, config.d_model)\n",
    "\n",
    "        encoder_config = copy.deepcopy(config)\n",
    "        encoder_config.use_cache = False\n",
    "        encoder_config.is_encoder_decoder = False\n",
    "        self.encoder = T5Stack(encoder_config, self.shared)\n",
    "\n",
    "        self.dropout = nn.Dropout(class_config.dropout_rate) \n",
    "        self.classifier = T5EncoderClassificationHead(config, class_config)\n",
    "\n",
    "        # Initialize weights and apply final processing\n",
    "        self.post_init()\n",
    "\n",
    "        # Model parallel\n",
    "        self.model_parallel = False\n",
    "        self.device_map = None\n",
    "\n",
    "    def parallelize(self, device_map=None):\n",
    "        self.device_map = (\n",
    "            get_device_map(len(self.encoder.block), range(torch.cuda.device_count()))\n",
    "            if device_map is None\n",
    "            else device_map\n",
    "        )\n",
    "        assert_device_map(self.device_map, len(self.encoder.block))\n",
    "        self.encoder.parallelize(self.device_map)\n",
    "        self.classifier = self.classifier.to(self.encoder.first_device)\n",
    "        self.model_parallel = True\n",
    "\n",
    "    def deparallelize(self):\n",
    "        self.encoder.deparallelize()\n",
    "        self.encoder = self.encoder.to(\"cpu\")\n",
    "        self.model_parallel = False\n",
    "        self.device_map = None\n",
    "        torch.cuda.empty_cache()\n",
    "\n",
    "    def get_input_embeddings(self):\n",
    "        return self.shared\n",
    "\n",
    "    def set_input_embeddings(self, new_embeddings):\n",
    "        self.shared = new_embeddings\n",
    "        self.encoder.set_input_embeddings(new_embeddings)\n",
    "\n",
    "    def get_encoder(self):\n",
    "        return self.encoder\n",
    "\n",
    "    def _prune_heads(self, heads_to_prune):\n",
    "        \"\"\"\n",
    "        Prunes heads of the model. heads_to_prune: dict of {layer_num: list of heads to prune in this layer} See base\n",
    "        class PreTrainedModel\n",
    "        \"\"\"\n",
    "        for layer, heads in heads_to_prune.items():\n",
    "            self.encoder.layer[layer].attention.prune_heads(heads)\n",
    "\n",
    "    def forward(\n",
    "        self,\n",
    "        input_ids=None,\n",
    "        attention_mask=None,\n",
    "        head_mask=None,\n",
    "        inputs_embeds=None,\n",
    "        labels=None,\n",
    "        output_attentions=None,\n",
    "        output_hidden_states=None,\n",
    "        return_dict=None,\n",
    "    ):\n",
    "        return_dict = return_dict if return_dict is not None else self.config.use_return_dict\n",
    "\n",
    "        outputs = self.encoder(\n",
    "            input_ids=input_ids,\n",
    "            attention_mask=attention_mask,\n",
    "            inputs_embeds=inputs_embeds,\n",
    "            head_mask=head_mask,\n",
    "            output_attentions=output_attentions,\n",
    "            output_hidden_states=True,\n",
    "            return_dict=return_dict,\n",
    "        )\n",
    "\n",
    "        hidden_states = outputs[0]\n",
    "        logits = self.classifier(hidden_states)\n",
    "\n",
    "        loss = None\n",
    "        if labels is not None:\n",
    "            if self.config.problem_type is None:\n",
    "                if self.num_labels == 1:\n",
    "                    self.config.problem_type = \"regression\"\n",
    "                elif self.num_labels > 1 and (labels.dtype == torch.long or labels.dtype == torch.int):\n",
    "                    self.config.problem_type = \"single_label_classification\"\n",
    "                else:\n",
    "                    self.config.problem_type = \"multi_label_classification\"\n",
    "\n",
    "            if self.config.problem_type == \"regression\":\n",
    "                loss_fct = MSELoss()\n",
    "                if self.num_labels == 1:\n",
    "                    loss = loss_fct(logits.squeeze(), labels.squeeze())\n",
    "                else:\n",
    "                    loss = loss_fct(logits, labels)\n",
    "            elif self.config.problem_type == \"single_label_classification\":\n",
    "                loss_fct = CrossEntropyLoss()\n",
    "                loss = loss_fct(logits.view(-1, self.num_labels), labels.view(-1))\n",
    "            elif self.config.problem_type == \"multi_label_classification\":\n",
    "                loss_fct = BCEWithLogitsLoss()\n",
    "                loss = loss_fct(logits, labels)\n",
    "        if not return_dict:\n",
    "            output = (logits,) + outputs[1:]\n",
    "            return ((loss,) + output) if loss is not None else output\n",
    "\n",
    "        return SequenceClassifierOutput(\n",
    "            loss=loss,\n",
    "            logits=logits,\n",
    "            hidden_states=outputs.hidden_states,\n",
    "            attentions=outputs.attentions,\n",
    "        )"
   ]
  },
  {
   "cell_type": "code",
   "execution_count": 7,
   "id": "71394626-6f8b-4ca5-80f3-c697e4320bf7",
   "metadata": {
    "execution": {
     "iopub.execute_input": "2024-04-05T12:53:29.848217Z",
     "iopub.status.busy": "2024-04-05T12:53:29.847782Z",
     "iopub.status.idle": "2024-04-05T12:53:29.859841Z",
     "shell.execute_reply": "2024-04-05T12:53:29.858398Z",
     "shell.execute_reply.started": "2024-04-05T12:53:29.848182Z"
    },
    "tags": []
   },
   "outputs": [],
   "source": [
    "def PT5_classification_model(num_labels, dropout, dora_rank, dora_init_scale):\n",
    "    # Load PT5 and tokenizer\n",
    "    model = T5EncoderModel.from_pretrained(\"Rostlab/prot_t5_xl_uniref50\", force_download=True)\n",
    "    tokenizer = T5Tokenizer.from_pretrained(\"Rostlab/prot_t5_xl_uniref50\", force_download=True) \n",
    "    \n",
    "    # Create new Classifier model with PT5 dimensions\n",
    "    class_config=ClassConfig(num_labels=num_labels, dropout=dropout)\n",
    "    class_model=T5EncoderForSimpleSequenceClassification(model.config,class_config)\n",
    "    \n",
    "    # Set encoder and embedding weights to checkpoint weights\n",
    "    class_model.shared=model.shared\n",
    "    class_model.encoder=model.encoder    \n",
    "    \n",
    "    # Delete the checkpoint model\n",
    "    model=class_model\n",
    "    del class_model\n",
    "    \n",
    "    # Print number of trainable parameters\n",
    "    model_parameters = filter(lambda p: p.requires_grad, model.parameters())\n",
    "    params = sum([np.prod(p.size()) for p in model_parameters])\n",
    "    print(\"ProtT5_Classfier\\nTrainable Parameter: \"+ str(params))    \n",
    " \n",
    "    # Add model modification lora\n",
    "    config = DoRAConfig(dora_rank=dora_rank, dora_init_scale=dora_init_scale)\n",
    "    \n",
    "    # Add LoRA layers\n",
    "    model = modify_with_dora(model, config)\n",
    "    \n",
    "    # Freeze Embeddings and Encoder (except LoRA)\n",
    "    for (param_name, param) in model.shared.named_parameters():\n",
    "                param.requires_grad = False\n",
    "    for (param_name, param) in model.encoder.named_parameters():\n",
    "                param.requires_grad = False       \n",
    "\n",
    "    for (param_name, param) in model.named_parameters():\n",
    "            if re.fullmatch(config.trainable_param_names, param_name):\n",
    "                param.requires_grad = True\n",
    "\n",
    "    # Print trainable Parameter          \n",
    "    model_parameters = filter(lambda p: p.requires_grad, model.parameters())\n",
    "    params = sum([np.prod(p.size()) for p in model_parameters])\n",
    "    print(\"ProtT5_DoRA_Classfier\\nTrainable Parameter: \"+ str(params) + \"\\n\")\n",
    "    \n",
    "    return model, tokenizer"
   ]
  },
  {
   "cell_type": "code",
   "execution_count": 8,
   "id": "6c4d56b2-c9ca-460d-b977-a1e4ae1e9568",
   "metadata": {
    "execution": {
     "iopub.execute_input": "2024-04-05T12:53:29.864172Z",
     "iopub.status.busy": "2024-04-05T12:53:29.863760Z",
     "iopub.status.idle": "2024-04-05T12:53:29.873119Z",
     "shell.execute_reply": "2024-04-05T12:53:29.871609Z",
     "shell.execute_reply.started": "2024-04-05T12:53:29.864135Z"
    },
    "tags": []
   },
   "outputs": [],
   "source": [
    "# Deepspeed config for optimizer CPU offload\n",
    "\n",
    "ds_config = {\n",
    "    \"fp16\": {\n",
    "        \"enabled\": \"auto\",\n",
    "        \"loss_scale\": 0,\n",
    "        \"loss_scale_window\": 1000,\n",
    "        \"initial_scale_power\": 16,\n",
    "        \"hysteresis\": 2,\n",
    "        \"min_loss_scale\": 1\n",
    "    },\n",
    "\n",
    "    \"optimizer\": {\n",
    "        \"type\": \"AdamW\",\n",
    "        \"params\": {\n",
    "            \"lr\": \"auto\",\n",
    "            \"betas\": \"auto\",\n",
    "            \"eps\": \"auto\",\n",
    "            \"weight_decay\": \"auto\"\n",
    "        }\n",
    "    },\n",
    "\n",
    "    \"scheduler\": {\n",
    "        \"type\": \"WarmupLR\",\n",
    "        \"params\": {\n",
    "            \"warmup_min_lr\": \"auto\",\n",
    "            \"warmup_max_lr\": \"auto\",\n",
    "            \"warmup_num_steps\": \"auto\"\n",
    "        }\n",
    "    },\n",
    "\n",
    "    \"zero_optimization\": {\n",
    "        \"stage\": 2,\n",
    "        \"offload_optimizer\": {\n",
    "            \"device\": \"cpu\",\n",
    "            \"pin_memory\": True\n",
    "        },\n",
    "        \"allgather_partitions\": True,\n",
    "        \"allgather_bucket_size\": 2e8,\n",
    "        \"overlap_comm\": True,\n",
    "        \"reduce_scatter\": True,\n",
    "        \"reduce_bucket_size\": 2e8,\n",
    "        \"contiguous_gradients\": True\n",
    "    },\n",
    "\n",
    "    \"gradient_accumulation_steps\": \"auto\",\n",
    "    \"gradient_clipping\": \"auto\",\n",
    "    \"steps_per_print\": 2000,\n",
    "    \"train_batch_size\": \"auto\",\n",
    "    \"train_micro_batch_size_per_gpu\": \"auto\",\n",
    "    \"wall_clock_breakdown\": False\n",
    "}"
   ]
  },
  {
   "cell_type": "code",
   "execution_count": 9,
   "id": "d4550fdb",
   "metadata": {},
   "outputs": [],
   "source": [
    "from transformers import TrainerCallback, TrainerState, TrainerControl\n",
    "\n",
    "class EarlyStoppingCallback(TrainerCallback):\n",
    "    \"\"\"Custom early stopping callback that can monitor loss or accuracy.\"\"\"\n",
    "    \n",
    "    def __init__(self, metric_name='eval_loss', early_stopping_patience=3, minimize=True):\n",
    "        \"\"\"\n",
    "        Args:\n",
    "            metric_name (str): Metric to monitor, default 'eval_loss'.\n",
    "            early_stopping_patience (int): Number of checks with no improvement after which training will be stopped.\n",
    "            minimize (bool): Set to True if the metric should be minimized, False if it should be maximized.\n",
    "        \"\"\"\n",
    "        self.metric_name = metric_name\n",
    "        self.early_stopping_patience = early_stopping_patience\n",
    "        self.early_stopping_counter = 0\n",
    "        self.minimize = minimize\n",
    "        self.best_metric = float('inf') if minimize else float('-inf')\n",
    "    \n",
    "    def on_evaluate(self, args, state, control, **kwargs):\n",
    "        current_metric = kwargs['metrics'][self.metric_name]\n",
    "        \n",
    "        if (self.minimize and current_metric < self.best_metric) or (not self.minimize and current_metric > self.best_metric):\n",
    "            self.best_metric = current_metric\n",
    "            self.early_stopping_counter = 0\n",
    "        else:\n",
    "            self.early_stopping_counter += 1\n",
    "        \n",
    "        if self.early_stopping_counter >= self.early_stopping_patience:\n",
    "            control.should_training_stop = True\n",
    "            print(f'Stopping early! No improvement in {self.metric_name} for {self.early_stopping_patience} evaluation steps.')\n",
    "\n",
    "\n",
    "class MultiObjectiveEarlyStoppingCallback(TrainerCallback):\n",
    "    def __init__(self, early_stopping_patience, min_delta=0.001):\n",
    "        self.early_stopping_patience = early_stopping_patience\n",
    "        self.min_delta = min_delta\n",
    "        self.best_val_loss = float('inf')\n",
    "        self.best_val_accuracy = float('-inf')\n",
    "        self.wait = 0\n",
    "\n",
    "    def on_evaluate(self, args, state: TrainerState, control: TrainerControl, **kwargs):\n",
    "        # Extract current validation loss and accuracy\n",
    "        val_loss = kwargs['metrics']['eval_loss']\n",
    "        val_accuracy = kwargs['metrics']['eval_accuracy']\n",
    "\n",
    "        # Check if current loss and accuracy improved significantly\n",
    "        loss_improved = (self.best_val_loss - val_loss) > self.min_delta\n",
    "        accuracy_improved = (val_accuracy - self.best_val_accuracy) > self.min_delta\n",
    "\n",
    "        if loss_improved or accuracy_improved:\n",
    "            # Update best scores and reset wait time\n",
    "            self.best_val_loss = min(self.best_val_loss, val_loss)\n",
    "            self.best_val_accuracy = max(self.best_val_accuracy, val_accuracy)\n",
    "            self.wait = 0\n",
    "        else:\n",
    "            # If no improvement, increment the wait counter\n",
    "            self.wait += 1\n",
    "            if self.wait >= self.early_stopping_patience:\n",
    "                # If wait exceeds the patience, stop training\n",
    "                control.should_training_stop = True\n",
    "                print(f\"Stopping early at epoch {state.epoch}: No improvement in loss or accuracy for {self.early_stopping_patience} evaluations.\")\n",
    "                \n",
    "class MultiObjectiveEarlyStoppingAndSaveCallback(TrainerCallback):\n",
    "    def __init__(self, early_stopping_patience, min_delta=0.001, output_dir='./model_output', filename='finetuned_model'):\n",
    "        self.early_stopping_patience = early_stopping_patience\n",
    "        self.min_delta = min_delta\n",
    "        self.best_val_loss = float('inf')\n",
    "        self.best_val_accuracy = float('-inf')\n",
    "        self.wait = 0\n",
    "        self.output_dir = output_dir\n",
    "        self.filename = filename\n",
    "        if not os.path.exists(output_dir):\n",
    "            os.makedirs(output_dir)\n",
    "\n",
    "    def on_evaluate(self, args, state: TrainerState, control: TrainerControl, **kwargs):\n",
    "        val_loss = kwargs['metrics']['eval_loss']\n",
    "        val_accuracy = kwargs['metrics']['eval_accuracy']\n",
    "        model = kwargs['model']\n",
    "\n",
    "        loss_improved = (self.best_val_loss - val_loss) > self.min_delta\n",
    "        accuracy_improved = (val_accuracy - self.best_val_accuracy) > self.min_delta\n",
    "\n",
    "        if loss_improved or accuracy_improved:\n",
    "            self.best_val_loss = min(self.best_val_loss, val_loss)\n",
    "            self.best_val_accuracy = max(self.best_val_accuracy, val_accuracy)\n",
    "            self.wait = 0\n",
    "            # Save the model as the best so far\n",
    "            self.save_finetuned_parameters(model, os.path.join(self.output_dir, self.filename))\n",
    "            print(f\"Saved improved model to {self.output_dir}/{self.filename}\")\n",
    "        else:\n",
    "            self.wait += 1\n",
    "            if self.wait >= self.early_stopping_patience:\n",
    "                control.should_training_stop = True\n",
    "                print(f\"Stopping early at epoch {state.epoch}: No improvement in loss or accuracy for {self.early_stopping_patience} evaluations.\")\n",
    "                \n",
    "    def save_finetuned_parameters(self, model, filepath):\n",
    "        # Create a dictionary to hold the non-frozen parameters\n",
    "        non_frozen_params = {n: p for n, p in model.named_parameters() if p.requires_grad}\n",
    "        # Save only the finetuned parameters \n",
    "        torch.save(non_frozen_params, filepath)"
   ]
  },
  {
   "cell_type": "code",
   "execution_count": 10,
   "id": "bfb8bb11-79b0-4936-9099-f9f8ef97e105",
   "metadata": {
    "execution": {
     "iopub.execute_input": "2024-04-05T12:53:29.875565Z",
     "iopub.status.busy": "2024-04-05T12:53:29.875038Z",
     "iopub.status.idle": "2024-04-05T12:53:30.214710Z",
     "shell.execute_reply": "2024-04-05T12:53:30.213349Z",
     "shell.execute_reply.started": "2024-04-05T12:53:29.875495Z"
    },
    "tags": []
   },
   "outputs": [],
   "source": [
    "from sklearn.metrics import accuracy_score\n",
    "#!pip install seaborn\n",
    "import seaborn as sns\n",
    "import gc\n",
    "\n",
    "# Set random seeds for reproducibility of your trainings run\n",
    "def set_seeds(s):\n",
    "    torch.manual_seed(s)\n",
    "    np.random.seed(s)\n",
    "    random.seed(s)\n",
    "    set_seed(s)\n",
    "\n",
    "def apply_umap(embeddings, n_components=2, min_dist=0.01):\n",
    "    umap_model = umap.UMAP(n_components=n_components)\n",
    "    umap_embeddings = umap_model.fit_transform(embeddings)\n",
    "    return umap_embeddings\n",
    "\n",
    "def plot_umap(embeddings, labels):\n",
    "    data = {\"UMAP1\": embeddings[:, 0], \"UMAP2\": embeddings[:, 1], \"Label\": labels}\n",
    "    df = pd.DataFrame(data)\n",
    "    \n",
    "    plt.figure(figsize=(8, 6))\n",
    "    sns.scatterplot(x=\"UMAP1\", y=\"UMAP2\", hue=\"Label\", data=df, palette={0: \"blue\", 1: \"magenta\"}, s=50, alpha=0.9)\n",
    "    plt.title(\"UMAP Visualization of Embeddings\")\n",
    "    plt.savefig(\"../Plots/UMAP_Visualization_of_Embeddings_new.pdf\")\n",
    "    plt.show()\n",
    "    \n",
    "# Main training fuction\n",
    "def train_per_protein(\n",
    "        train_dataset,         #training data\n",
    "        valid_dataset,         #validation data      \n",
    "        weight_decay,\n",
    "        warmup_pct,\n",
    "        num_labels= 2,    #1 for regression, >1 for classification\n",
    "    \n",
    "        # effective training batch size is batch * accum\n",
    "        # we recommend an effective batch size of 8 \n",
    "        batch= 4,         #for training\n",
    "        accum= 2,         #gradient accumulation\n",
    "    \n",
    "        val_batch = 16,   #batch size for evaluation\n",
    "        epochs=1,       #training epochs\n",
    "        lr= 3e-4,         #recommended learning rate\n",
    "        seed= 42,         #random seed\n",
    "        deepspeed=False,  #if gpu is large enough disable deepspeed for training speedup\n",
    "        gpu= 1,\n",
    "        dropout=0.5, #dropout rate\n",
    "         #L2 weight regularization\n",
    "        dora_rank=4,      #dora rank\n",
    "        dora_init_scale=0.01, #dora scaling rank\n",
    "        ):         #gpu selection (1 for first gpu)\n",
    "\n",
    "    # Set gpu device\n",
    "    os.environ[\"CUDA_VISIBLE_DEVICES\"]=str(gpu-1)\n",
    "    \n",
    "    # Set all random seeds\n",
    "    set_seeds(seed)\n",
    "    \n",
    "    # load model\n",
    "    model, tokenizer = PT5_classification_model(num_labels=num_labels, dropout=dropout, dora_rank=dora_rank, dora_init_scale=dora_init_scale)\n",
    "\n",
    "    # Huggingface Trainer arguments\n",
    "    total_steps = epochs * len(train_dataset) // batch\n",
    "    warmup_steps = int(warmup_pct * total_steps)\n",
    "     \n",
    "    # Define TrainingArguments\n",
    "    args = TrainingArguments(\n",
    "        output_dir='./results',              # where to save the model\n",
    "        evaluation_strategy='epoch',         # evaluation is done at the end of each epoch\n",
    "        logging_strategy='epoch',\n",
    "        save_strategy='no',\n",
    "        learning_rate=lr,                    # initial learning rate\n",
    "        per_device_train_batch_size=batch,   # batch size per device\n",
    "        gradient_accumulation_steps=accum,   # gradient accumulation steps\n",
    "        num_train_epochs=epochs,             # number of epochs to train\n",
    "        weight_decay=weight_decay,           # L2 weight regularization\n",
    "        warmup_steps=warmup_steps,           # 10% of total steps\n",
    "        load_best_model_at_end=False,         # load the best model at the end of training\n",
    "        seed=seed,                           # random seed\n",
    "        push_to_hub=False,                   # if you want to push model to the hub (Hugging Face Model Hub)\n",
    "        logging_dir='./logs',\n",
    "    )\n",
    "    # metric_for_best_model='eval_loss|accuracy'\n",
    "\n",
    "    # Metric definition for validation data\n",
    "    def compute_metrics(eval_pred):\n",
    "        predictions, labels = eval_pred.predictions, eval_pred.label_ids\n",
    "        # Check if predictions have the expected shape\n",
    "        if isinstance(predictions, tuple):\n",
    "            predictions = predictions[0]\n",
    "        if predictions.ndim > 1 and predictions.shape[1] > 1:\n",
    "            predictions = np.argmax(predictions, axis=1)\n",
    "        # Now, compute the metric (e.g., accuracy)\n",
    "        accuracy = accuracy_score(labels, predictions)\n",
    "        \n",
    "        # Return the metric(s) as a dictionary\n",
    "        return {\"accuracy\": accuracy}\n",
    "    \n",
    "    # For minimizing loss\n",
    "    early_stopping_loss = EarlyStoppingCallback(metric_name='eval_loss', early_stopping_patience=3, minimize=True)\n",
    "\n",
    "    # For maximizing accuracy\n",
    "    early_stopping_accuracy = EarlyStoppingCallback(metric_name='eval_accuracy', early_stopping_patience=3, minimize=False)\n",
    "    # Trainer          \n",
    "    trainer = Trainer(\n",
    "        model,\n",
    "        args,\n",
    "        train_dataset=train_dataset,\n",
    "        eval_dataset=valid_dataset,\n",
    "        tokenizer=tokenizer,\n",
    "        compute_metrics=compute_metrics,\n",
    "        callbacks=[MultiObjectiveEarlyStoppingAndSaveCallback(\n",
    "            early_stopping_patience=3,\n",
    "            min_delta=0.001,\n",
    "            output_dir='./model_output',\n",
    "            filename='finetuned_model_all_dora.pth'\n",
    "        )],\n",
    "    )    \n",
    "\n",
    "    def get_embeddings(model, tokenizer, sequences, batch_size=32, device=\"cuda\"):\n",
    "        embeddings = []\n",
    "        model = model.to(device)\n",
    "        model.eval()\n",
    "    \n",
    "        # Iterate over the sequences in batches\n",
    "        for i in range(0, len(sequences), batch_size):\n",
    "            # Extract a batch of sequences\n",
    "            batch = sequences[i:i + batch_size]\n",
    "    \n",
    "            # Tokenize the batch using the specified tokenizer and convert to PyTorch tensors\n",
    "            inputs = tokenizer(batch, return_tensors=\"pt\", padding=True, truncation=True, max_length=512).to(device)\n",
    "    \n",
    "            with torch.no_grad():\n",
    "                # Forward pass through the model to obtain outputs\n",
    "                outputs = model(**inputs)\n",
    "    \n",
    "            # Extract hidden states from the second-to-last layer (penultimate layer)\n",
    "            hidden_states = outputs.hidden_states[-2].detach().cpu().numpy()\n",
    "    \n",
    "            # Take the embeddings from the second-to-last layer\n",
    "            embeddings_from_layer = hidden_states[:, 0, :]\n",
    "    \n",
    "            # Extend the list with the generated embeddings\n",
    "            embeddings.extend(embeddings_from_layer)\n",
    "    \n",
    "            print(f\"Batch {i // batch_size + 1}, Second-to-Last Layer Embeddings Shape: {embeddings_from_layer.shape}\")\n",
    "    \n",
    "        return np.array(embeddings)\n",
    "\n",
    "        \n",
    "    # Train model\n",
    "    trainer.train()\n",
    "\n",
    "    # Get the best model\n",
    "    # model = trainer.model\n",
    "    # Ensure the best model is loaded\n",
    "    best_model_path = os.path.join('./model_output', 'finetuned_model_all_dora.pth')\n",
    "    if os.path.exists(best_model_path):\n",
    "        state_dict = torch.load(best_model_path)\n",
    "        model.load_state_dict(state_dict, strict=False)\n",
    "        print(f\"Loaded best model from {best_model_path}\")\n",
    "        \n",
    "    # Evaluate the best model\n",
    "    eval_results = trainer.evaluate()\n",
    "    print(eval_results)\n",
    "    \n",
    "    # Print the current learning rate\n",
    "    # current_lr = trainer.optimizer.param_groups[0]['lr']\n",
    "    # print(f\"Current learning rate: {current_lr}\")\n",
    "    \n",
    "    # valid_sequences = list(valid_dataset['sequence'])\n",
    "    # valid_embeddings = get_embeddings(model, tokenizer, valid_sequences)\n",
    "\n",
    "    # # Apply UMAP for dimensionality reduction\n",
    "    # umap_embeddings = apply_umap(valid_embeddings)\n",
    "\n",
    "    # # Plot UMAP embeddings\n",
    "    # labels = list(valid_dataset['label'])\n",
    "    # plot_umap(umap_embeddings, labels)\n",
    "    \n",
    "    torch.cuda.empty_cache()\n",
    "    gc.collect()\n",
    "\n",
    "    return tokenizer, model, trainer.state.log_history\n"
   ]
  },
  {
   "cell_type": "code",
   "execution_count": 11,
   "id": "b300952b",
   "metadata": {},
   "outputs": [
    {
     "name": "stderr",
     "output_type": "stream",
     "text": [
      "/home/ubuntu/data/miniconda3/envs/finetune-dephos/lib/python3.9/site-packages/huggingface_hub/file_download.py:1132: FutureWarning: `resume_download` is deprecated and will be removed in version 1.0.0. Downloads always resume when possible. If you want to force a new download, use `force_download=True`.\n",
      "  warnings.warn(\n",
      "You are using the default legacy behaviour of the <class 'transformers.models.t5.tokenization_t5.T5Tokenizer'>. This is expected, and simply means that the `legacy` (previous) behavior will be used so nothing changes for you. If you want to use the new behaviour, set `legacy=False`. This should only be set if you understand what it means, and thouroughly read the reason why this was added as explained in https://github.com/huggingface/transformers/pull/24565\n"
     ]
    }
   ],
   "source": [
    "# Dataset creation\n",
    "def create_dataset(tokenizer,seqs,labels):\n",
    "    tokenized = tokenizer(seqs, max_length=1024, padding=True, truncation=True)\n",
    "    dataset = Dataset.from_dict(tokenized)\n",
    "    dataset = dataset.add_column(\"labels\", labels)\n",
    "\n",
    "    return dataset\n",
    "\n",
    "# Initialize the tokenizer\n",
    "tokenizer = T5Tokenizer.from_pretrained(\"Rostlab/prot_t5_xl_uniref50\", force_download=True) \n",
    "\n",
    "train_df = my_train\n",
    "valid_df = my_valid\n",
    "\n",
    "# Preprocess inputs\n",
    "# Replace uncommon AAs with \"X\"\n",
    "train_df[\"sequence\"]=train_df[\"sequence\"].str.replace('|'.join([\"O\",\"B\",\"U\",\"Z\"]),\"X\",regex=True)\n",
    "valid_df[\"sequence\"]=valid_df[\"sequence\"].str.replace('|'.join([\"O\",\"B\",\"U\",\"Z\"]),\"X\",regex=True)\n",
    "# Add spaces between each amino acid for PT5 to correctly use them\n",
    "train_df['sequence']=train_df.apply(lambda row : \" \".join(row[\"sequence\"]), axis = 1)\n",
    "valid_df['sequence']=valid_df.apply(lambda row : \" \".join(row[\"sequence\"]), axis = 1)\n",
    "\n",
    "# Create Datasets\n",
    "train_set=create_dataset(tokenizer,list(train_df['sequence']),list(train_df['label']))\n",
    "valid_set=create_dataset(tokenizer,list(valid_df['sequence']),list(valid_df['label']))"
   ]
  },
  {
   "cell_type": "code",
   "execution_count": 12,
   "id": "f20a2048",
   "metadata": {},
   "outputs": [],
   "source": [
    "%rm all_dephos_withDORA_datasetloader.sqlite3"
   ]
  },
  {
   "cell_type": "markdown",
   "id": "96bcbe5f",
   "metadata": {},
   "source": [
    "lr 1.7766264479059515e-05\n",
    "\n",
    "batch 2\n",
    "\n",
    "accum 2\n",
    "\n",
    "dropout_rate 0.24107261119395096\n",
    "\n",
    "weight_decay 2.9581617543411885e-05\n",
    "\n",
    "warmup_pct 0.2042811860877174\n",
    "\n",
    "dora_rank 24\n",
    "\n",
    "dora_init_scale 0.00035088954398140827"
   ]
  },
  {
   "cell_type": "code",
   "execution_count": 24,
   "id": "5a57f7fa",
   "metadata": {},
   "outputs": [],
   "source": [
    "# torch.cuda.empty_cache()"
   ]
  },
  {
   "cell_type": "code",
   "execution_count": 14,
   "id": "ddfce510-da2b-4b95-9491-49f9ae8efb06",
   "metadata": {
    "execution": {
     "iopub.execute_input": "2024-04-05T13:08:03.246094Z",
     "iopub.status.busy": "2024-04-05T13:08:03.244479Z",
     "iopub.status.idle": "2024-04-05T14:04:37.162324Z",
     "shell.execute_reply": "2024-04-05T14:04:37.160516Z",
     "shell.execute_reply.started": "2024-04-05T13:08:03.246029Z"
    },
    "tags": []
   },
   "outputs": [
    {
     "name": "stderr",
     "output_type": "stream",
     "text": [
      "/home/ubuntu/data/miniconda3/envs/finetune-dephos/lib/python3.9/site-packages/huggingface_hub/file_download.py:1132: FutureWarning: `resume_download` is deprecated and will be removed in version 1.0.0. Downloads always resume when possible. If you want to force a new download, use `force_download=True`.\n",
      "  warnings.warn(\n"
     ]
    },
    {
     "name": "stdout",
     "output_type": "stream",
     "text": [
      "ProtT5_Classfier\n",
      "Trainable Parameter: 1209193475.0\n",
      "ProtT5_DoRA_Classfier\n",
      "Trainable Parameter: 1200131.0\n",
      "\n"
     ]
    },
    {
     "name": "stderr",
     "output_type": "stream",
     "text": [
      "/home/ubuntu/data/miniconda3/envs/finetune-dephos/lib/python3.9/site-packages/accelerate/accelerator.py:446: FutureWarning: Passing the following arguments to `Accelerator` is deprecated and will be removed in version 1.0 of Accelerate: dict_keys(['dispatch_batches', 'split_batches']). Please pass an `accelerate.DataLoaderConfiguration` instead: \n",
      "dataloader_config = DataLoaderConfiguration(dispatch_batches=None, split_batches=False)\n",
      "  warnings.warn(\n"
     ]
    },
    {
     "data": {
      "text/html": [
       "\n",
       "    <div>\n",
       "      \n",
       "      <progress value='5148' max='7920' style='width:300px; height:20px; vertical-align: middle;'></progress>\n",
       "      [5148/7920 15:37 < 08:25, 5.49 it/s, Epoch 13/20]\n",
       "    </div>\n",
       "    <table border=\"1\" class=\"dataframe\">\n",
       "  <thead>\n",
       " <tr style=\"text-align: left;\">\n",
       "      <th>Epoch</th>\n",
       "      <th>Training Loss</th>\n",
       "      <th>Validation Loss</th>\n",
       "      <th>Accuracy</th>\n",
       "    </tr>\n",
       "  </thead>\n",
       "  <tbody>\n",
       "    <tr>\n",
       "      <td>1</td>\n",
       "      <td>0.694200</td>\n",
       "      <td>0.687953</td>\n",
       "      <td>0.522727</td>\n",
       "    </tr>\n",
       "    <tr>\n",
       "      <td>2</td>\n",
       "      <td>0.676100</td>\n",
       "      <td>0.665149</td>\n",
       "      <td>0.654040</td>\n",
       "    </tr>\n",
       "    <tr>\n",
       "      <td>3</td>\n",
       "      <td>0.649000</td>\n",
       "      <td>0.635646</td>\n",
       "      <td>0.681818</td>\n",
       "    </tr>\n",
       "    <tr>\n",
       "      <td>4</td>\n",
       "      <td>0.619900</td>\n",
       "      <td>0.607277</td>\n",
       "      <td>0.729798</td>\n",
       "    </tr>\n",
       "    <tr>\n",
       "      <td>5</td>\n",
       "      <td>0.591700</td>\n",
       "      <td>0.582412</td>\n",
       "      <td>0.755051</td>\n",
       "    </tr>\n",
       "    <tr>\n",
       "      <td>6</td>\n",
       "      <td>0.566700</td>\n",
       "      <td>0.560210</td>\n",
       "      <td>0.762626</td>\n",
       "    </tr>\n",
       "    <tr>\n",
       "      <td>7</td>\n",
       "      <td>0.544200</td>\n",
       "      <td>0.545460</td>\n",
       "      <td>0.762626</td>\n",
       "    </tr>\n",
       "    <tr>\n",
       "      <td>8</td>\n",
       "      <td>0.527700</td>\n",
       "      <td>0.534782</td>\n",
       "      <td>0.777778</td>\n",
       "    </tr>\n",
       "    <tr>\n",
       "      <td>9</td>\n",
       "      <td>0.517900</td>\n",
       "      <td>0.530701</td>\n",
       "      <td>0.772727</td>\n",
       "    </tr>\n",
       "    <tr>\n",
       "      <td>10</td>\n",
       "      <td>0.502600</td>\n",
       "      <td>0.527482</td>\n",
       "      <td>0.775253</td>\n",
       "    </tr>\n",
       "    <tr>\n",
       "      <td>11</td>\n",
       "      <td>0.492400</td>\n",
       "      <td>0.528610</td>\n",
       "      <td>0.770202</td>\n",
       "    </tr>\n",
       "    <tr>\n",
       "      <td>12</td>\n",
       "      <td>0.482100</td>\n",
       "      <td>0.530331</td>\n",
       "      <td>0.765152</td>\n",
       "    </tr>\n",
       "    <tr>\n",
       "      <td>13</td>\n",
       "      <td>0.472300</td>\n",
       "      <td>0.536322</td>\n",
       "      <td>0.762626</td>\n",
       "    </tr>\n",
       "  </tbody>\n",
       "</table><p>"
      ],
      "text/plain": [
       "<IPython.core.display.HTML object>"
      ]
     },
     "metadata": {},
     "output_type": "display_data"
    },
    {
     "name": "stdout",
     "output_type": "stream",
     "text": [
      "Saved improved model to ./model_output/finetuned_model_all_dora.pth\n",
      "Saved improved model to ./model_output/finetuned_model_all_dora.pth\n",
      "Saved improved model to ./model_output/finetuned_model_all_dora.pth\n",
      "Saved improved model to ./model_output/finetuned_model_all_dora.pth\n",
      "Saved improved model to ./model_output/finetuned_model_all_dora.pth\n",
      "Saved improved model to ./model_output/finetuned_model_all_dora.pth\n",
      "Saved improved model to ./model_output/finetuned_model_all_dora.pth\n",
      "Saved improved model to ./model_output/finetuned_model_all_dora.pth\n",
      "Saved improved model to ./model_output/finetuned_model_all_dora.pth\n",
      "Saved improved model to ./model_output/finetuned_model_all_dora.pth\n",
      "Stopping early at epoch 13.0: No improvement in loss or accuracy for 3 evaluations.\n",
      "Loaded best model from ./model_output/finetuned_model_all_dora.pth\n"
     ]
    },
    {
     "data": {
      "text/html": [
       "\n",
       "    <div>\n",
       "      \n",
       "      <progress value='50' max='50' style='width:300px; height:20px; vertical-align: middle;'></progress>\n",
       "      [50/50 00:04]\n",
       "    </div>\n",
       "    "
      ],
      "text/plain": [
       "<IPython.core.display.HTML object>"
      ]
     },
     "metadata": {},
     "output_type": "display_data"
    },
    {
     "name": "stdout",
     "output_type": "stream",
     "text": [
      "Stopping early at epoch 13.0: No improvement in loss or accuracy for 3 evaluations.\n",
      "{'eval_loss': 0.5274824500083923, 'eval_accuracy': 0.7752525252525253, 'eval_runtime': 4.6663, 'eval_samples_per_second': 84.863, 'eval_steps_per_second': 10.715, 'epoch': 13.0}\n"
     ]
    }
   ],
   "source": [
    "tokenizer, model, history = train_per_protein(train_set, valid_set, num_labels=2, batch=2, accum=2, epochs=20, seed=42, lr=1.7766264479059515e-05, dropout=0.24107261119395096, weight_decay=2.9581617543411885e-05, warmup_pct=0.2042811860877174, dora_rank=24, dora_init_scale=0.00035088954398140827)"
   ]
  },
  {
   "cell_type": "code",
   "execution_count": 13,
   "id": "8ebf90f6",
   "metadata": {},
   "outputs": [
    {
     "name": "stderr",
     "output_type": "stream",
     "text": [
      "[I 2024-06-08 18:49:47,150] A new study created in RDB with name: all_dephos_withDORA_datasetloader\n"
     ]
    },
    {
     "name": "stdout",
     "output_type": "stream",
     "text": [
      "ProtT5_Classfier\n",
      "Trainable Parameter: 1209193475.0\n",
      "ProtT5_DoRA_Classfier\n",
      "Trainable Parameter: 1200131.0\n",
      "\n"
     ]
    },
    {
     "name": "stderr",
     "output_type": "stream",
     "text": [
      "/home/ubuntu/data/miniconda3/envs/finetune-dephos/lib/python3.9/site-packages/accelerate/accelerator.py:446: FutureWarning: Passing the following arguments to `Accelerator` is deprecated and will be removed in version 1.0 of Accelerate: dict_keys(['dispatch_batches', 'split_batches']). Please pass an `accelerate.DataLoaderConfiguration` instead: \n",
      "dataloader_config = DataLoaderConfiguration(dispatch_batches=None, split_batches=False)\n",
      "  warnings.warn(\n"
     ]
    },
    {
     "data": {
      "text/html": [
       "\n",
       "    <div>\n",
       "      \n",
       "      <progress value='990' max='990' style='width:300px; height:20px; vertical-align: middle;'></progress>\n",
       "      [990/990 08:17, Epoch 10/10]\n",
       "    </div>\n",
       "    <table border=\"1\" class=\"dataframe\">\n",
       "  <thead>\n",
       " <tr style=\"text-align: left;\">\n",
       "      <th>Epoch</th>\n",
       "      <th>Training Loss</th>\n",
       "      <th>Validation Loss</th>\n",
       "      <th>Accuracy</th>\n",
       "    </tr>\n",
       "  </thead>\n",
       "  <tbody>\n",
       "    <tr>\n",
       "      <td>1</td>\n",
       "      <td>0.764700</td>\n",
       "      <td>0.676708</td>\n",
       "      <td>0.621212</td>\n",
       "    </tr>\n",
       "    <tr>\n",
       "      <td>2</td>\n",
       "      <td>0.747700</td>\n",
       "      <td>0.641044</td>\n",
       "      <td>0.679293</td>\n",
       "    </tr>\n",
       "    <tr>\n",
       "      <td>3</td>\n",
       "      <td>0.694200</td>\n",
       "      <td>0.605918</td>\n",
       "      <td>0.694444</td>\n",
       "    </tr>\n",
       "    <tr>\n",
       "      <td>4</td>\n",
       "      <td>0.657700</td>\n",
       "      <td>0.578895</td>\n",
       "      <td>0.729798</td>\n",
       "    </tr>\n",
       "    <tr>\n",
       "      <td>5</td>\n",
       "      <td>0.650000</td>\n",
       "      <td>0.565558</td>\n",
       "      <td>0.742424</td>\n",
       "    </tr>\n",
       "    <tr>\n",
       "      <td>6</td>\n",
       "      <td>0.644800</td>\n",
       "      <td>0.554986</td>\n",
       "      <td>0.757576</td>\n",
       "    </tr>\n",
       "    <tr>\n",
       "      <td>7</td>\n",
       "      <td>0.636200</td>\n",
       "      <td>0.544463</td>\n",
       "      <td>0.755051</td>\n",
       "    </tr>\n",
       "    <tr>\n",
       "      <td>8</td>\n",
       "      <td>0.647200</td>\n",
       "      <td>0.550565</td>\n",
       "      <td>0.739899</td>\n",
       "    </tr>\n",
       "    <tr>\n",
       "      <td>9</td>\n",
       "      <td>0.647200</td>\n",
       "      <td>0.544536</td>\n",
       "      <td>0.757576</td>\n",
       "    </tr>\n",
       "    <tr>\n",
       "      <td>10</td>\n",
       "      <td>0.613900</td>\n",
       "      <td>0.542639</td>\n",
       "      <td>0.757576</td>\n",
       "    </tr>\n",
       "  </tbody>\n",
       "</table><p>"
      ],
      "text/plain": [
       "<IPython.core.display.HTML object>"
      ]
     },
     "metadata": {},
     "output_type": "display_data"
    },
    {
     "name": "stdout",
     "output_type": "stream",
     "text": [
      "Saved improved model to ./model_output/finetuned_model_all_dora.pth\n",
      "Saved improved model to ./model_output/finetuned_model_all_dora.pth\n",
      "Saved improved model to ./model_output/finetuned_model_all_dora.pth\n",
      "Saved improved model to ./model_output/finetuned_model_all_dora.pth\n",
      "Saved improved model to ./model_output/finetuned_model_all_dora.pth\n",
      "Saved improved model to ./model_output/finetuned_model_all_dora.pth\n",
      "Saved improved model to ./model_output/finetuned_model_all_dora.pth\n",
      "Saved improved model to ./model_output/finetuned_model_all_dora.pth\n",
      "Loaded best model from ./model_output/finetuned_model_all_dora.pth\n"
     ]
    },
    {
     "data": {
      "text/html": [
       "\n",
       "    <div>\n",
       "      \n",
       "      <progress value='50' max='50' style='width:300px; height:20px; vertical-align: middle;'></progress>\n",
       "      [50/50 00:04]\n",
       "    </div>\n",
       "    "
      ],
      "text/plain": [
       "<IPython.core.display.HTML object>"
      ]
     },
     "metadata": {},
     "output_type": "display_data"
    },
    {
     "name": "stdout",
     "output_type": "stream",
     "text": [
      "{'eval_loss': 0.5426385402679443, 'eval_accuracy': 0.7575757575757576, 'eval_runtime': 4.7683, 'eval_samples_per_second': 83.049, 'eval_steps_per_second': 10.486, 'epoch': 10.0}\n"
     ]
    },
    {
     "name": "stderr",
     "output_type": "stream",
     "text": [
      "[I 2024-06-08 18:59:48,396] Trial 0 finished with values: [0.5426385402679443, 0.7575757575757576] and parameters: {'lr': 0.0005755257503446922, 'batch': 4, 'accum': 4, 'dropout_rate': 0.8858084520056255, 'weight_decay': 0.00012622370648377249, 'warmup_pct': 0.1995138368951573, 'dora_rank': 24, 'dora_init_scale': 0.03531481729691075}. \n"
     ]
    },
    {
     "name": "stdout",
     "output_type": "stream",
     "text": [
      "History:  [{'loss': 0.7647, 'learning_rate': 7.212284719509434e-05, 'epoch': 1.0, 'step': 99}, {'eval_loss': 0.676707923412323, 'eval_accuracy': 0.6212121212121212, 'eval_runtime': 5.1655, 'eval_samples_per_second': 76.662, 'eval_steps_per_second': 9.68, 'epoch': 1.0, 'step': 99}, {'loss': 0.7477, 'learning_rate': 0.00014424569439018867, 'epoch': 2.0, 'step': 198}, {'eval_loss': 0.641044020652771, 'eval_accuracy': 0.6792929292929293, 'eval_runtime': 4.7776, 'eval_samples_per_second': 82.887, 'eval_steps_per_second': 10.465, 'epoch': 2.0, 'step': 198}, {'loss': 0.6942, 'learning_rate': 0.00021636854158528304, 'epoch': 3.0, 'step': 297}, {'eval_loss': 0.605917751789093, 'eval_accuracy': 0.6944444444444444, 'eval_runtime': 4.7649, 'eval_samples_per_second': 83.108, 'eval_steps_per_second': 10.493, 'epoch': 3.0, 'step': 297}, {'loss': 0.6577, 'learning_rate': 0.00028849138878037734, 'epoch': 4.0, 'step': 396}, {'eval_loss': 0.5788949728012085, 'eval_accuracy': 0.7297979797979798, 'eval_runtime': 4.766, 'eval_samples_per_second': 83.089, 'eval_steps_per_second': 10.491, 'epoch': 4.0, 'step': 396}, {'loss': 0.65, 'learning_rate': 0.00036061423597547173, 'epoch': 5.0, 'step': 495}, {'eval_loss': 0.5655577778816223, 'eval_accuracy': 0.7424242424242424, 'eval_runtime': 4.7517, 'eval_samples_per_second': 83.339, 'eval_steps_per_second': 10.523, 'epoch': 5.0, 'step': 495}, {'loss': 0.6448, 'learning_rate': 0.00043273708317056607, 'epoch': 6.0, 'step': 594}, {'eval_loss': 0.5549860000610352, 'eval_accuracy': 0.7575757575757576, 'eval_runtime': 4.7499, 'eval_samples_per_second': 83.371, 'eval_steps_per_second': 10.527, 'epoch': 6.0, 'step': 594}, {'loss': 0.6362, 'learning_rate': 0.0005048599303656604, 'epoch': 7.0, 'step': 693}, {'eval_loss': 0.5444629788398743, 'eval_accuracy': 0.7550505050505051, 'eval_runtime': 4.7667, 'eval_samples_per_second': 83.076, 'eval_steps_per_second': 10.489, 'epoch': 7.0, 'step': 693}, {'loss': 0.6472, 'learning_rate': 0.0005697704928412453, 'epoch': 8.0, 'step': 792}, {'eval_loss': 0.5505649447441101, 'eval_accuracy': 0.73989898989899, 'eval_runtime': 4.7512, 'eval_samples_per_second': 83.347, 'eval_steps_per_second': 10.524, 'epoch': 8.0, 'step': 792}, {'loss': 0.6472, 'learning_rate': 0.00028488524642062264, 'epoch': 9.0, 'step': 891}, {'eval_loss': 0.5445362329483032, 'eval_accuracy': 0.7575757575757576, 'eval_runtime': 4.7693, 'eval_samples_per_second': 83.031, 'eval_steps_per_second': 10.484, 'epoch': 9.0, 'step': 891}, {'loss': 0.6139, 'learning_rate': 0.0, 'epoch': 10.0, 'step': 990}, {'eval_loss': 0.5426385402679443, 'eval_accuracy': 0.7575757575757576, 'eval_runtime': 4.7584, 'eval_samples_per_second': 83.221, 'eval_steps_per_second': 10.508, 'epoch': 10.0, 'step': 990}, {'train_runtime': 504.0037, 'train_samples_per_second': 31.428, 'train_steps_per_second': 1.964, 'total_flos': 3907230233258880.0, 'train_loss': 0.6703662795249862, 'epoch': 10.0, 'step': 990}, {'eval_loss': 0.5426385402679443, 'eval_accuracy': 0.7575757575757576, 'eval_runtime': 4.7683, 'eval_samples_per_second': 83.049, 'eval_steps_per_second': 10.486, 'epoch': 10.0, 'step': 990}]\n"
     ]
    },
    {
     "name": "stderr",
     "output_type": "stream",
     "text": [
      "/home/ubuntu/data/miniconda3/envs/finetune-dephos/lib/python3.9/site-packages/huggingface_hub/file_download.py:1132: FutureWarning: `resume_download` is deprecated and will be removed in version 1.0.0. Downloads always resume when possible. If you want to force a new download, use `force_download=True`.\n",
      "  warnings.warn(\n"
     ]
    },
    {
     "name": "stdout",
     "output_type": "stream",
     "text": [
      "ProtT5_Classfier\n",
      "Trainable Parameter: 1209193475.0\n",
      "ProtT5_DoRA_Classfier\n",
      "Trainable Parameter: 1200131.0\n",
      "\n"
     ]
    },
    {
     "name": "stderr",
     "output_type": "stream",
     "text": [
      "/home/ubuntu/data/miniconda3/envs/finetune-dephos/lib/python3.9/site-packages/accelerate/accelerator.py:446: FutureWarning: Passing the following arguments to `Accelerator` is deprecated and will be removed in version 1.0 of Accelerate: dict_keys(['dispatch_batches', 'split_batches']). Please pass an `accelerate.DataLoaderConfiguration` instead: \n",
      "dataloader_config = DataLoaderConfiguration(dispatch_batches=None, split_batches=False)\n",
      "  warnings.warn(\n"
     ]
    },
    {
     "data": {
      "text/html": [
       "\n",
       "    <div>\n",
       "      \n",
       "      <progress value='7128' max='7920' style='width:300px; height:20px; vertical-align: middle;'></progress>\n",
       "      [7128/7920 16:30 < 01:50, 7.19 it/s, Epoch 9/10]\n",
       "    </div>\n",
       "    <table border=\"1\" class=\"dataframe\">\n",
       "  <thead>\n",
       " <tr style=\"text-align: left;\">\n",
       "      <th>Epoch</th>\n",
       "      <th>Training Loss</th>\n",
       "      <th>Validation Loss</th>\n",
       "      <th>Accuracy</th>\n",
       "    </tr>\n",
       "  </thead>\n",
       "  <tbody>\n",
       "    <tr>\n",
       "      <td>1</td>\n",
       "      <td>0.683600</td>\n",
       "      <td>0.671986</td>\n",
       "      <td>0.717172</td>\n",
       "    </tr>\n",
       "    <tr>\n",
       "      <td>2</td>\n",
       "      <td>0.899000</td>\n",
       "      <td>0.652935</td>\n",
       "      <td>0.732323</td>\n",
       "    </tr>\n",
       "    <tr>\n",
       "      <td>3</td>\n",
       "      <td>0.881200</td>\n",
       "      <td>0.809927</td>\n",
       "      <td>0.729798</td>\n",
       "    </tr>\n",
       "    <tr>\n",
       "      <td>4</td>\n",
       "      <td>0.852400</td>\n",
       "      <td>0.728716</td>\n",
       "      <td>0.739899</td>\n",
       "    </tr>\n",
       "    <tr>\n",
       "      <td>5</td>\n",
       "      <td>0.850200</td>\n",
       "      <td>0.877247</td>\n",
       "      <td>0.742424</td>\n",
       "    </tr>\n",
       "    <tr>\n",
       "      <td>6</td>\n",
       "      <td>0.817400</td>\n",
       "      <td>0.851574</td>\n",
       "      <td>0.757576</td>\n",
       "    </tr>\n",
       "    <tr>\n",
       "      <td>7</td>\n",
       "      <td>0.778900</td>\n",
       "      <td>0.932205</td>\n",
       "      <td>0.729798</td>\n",
       "    </tr>\n",
       "    <tr>\n",
       "      <td>8</td>\n",
       "      <td>0.772200</td>\n",
       "      <td>0.850293</td>\n",
       "      <td>0.742424</td>\n",
       "    </tr>\n",
       "    <tr>\n",
       "      <td>9</td>\n",
       "      <td>0.751300</td>\n",
       "      <td>0.901511</td>\n",
       "      <td>0.737374</td>\n",
       "    </tr>\n",
       "  </tbody>\n",
       "</table><p>"
      ],
      "text/plain": [
       "<IPython.core.display.HTML object>"
      ]
     },
     "metadata": {},
     "output_type": "display_data"
    },
    {
     "name": "stdout",
     "output_type": "stream",
     "text": [
      "Saved improved model to ./model_output/finetuned_model_all_dora.pth\n",
      "Saved improved model to ./model_output/finetuned_model_all_dora.pth\n",
      "Saved improved model to ./model_output/finetuned_model_all_dora.pth\n",
      "Saved improved model to ./model_output/finetuned_model_all_dora.pth\n",
      "Saved improved model to ./model_output/finetuned_model_all_dora.pth\n",
      "Stopping early at epoch 9.0: No improvement in loss or accuracy for 3 evaluations.\n",
      "Loaded best model from ./model_output/finetuned_model_all_dora.pth\n"
     ]
    },
    {
     "data": {
      "text/html": [
       "\n",
       "    <div>\n",
       "      \n",
       "      <progress value='50' max='50' style='width:300px; height:20px; vertical-align: middle;'></progress>\n",
       "      [50/50 00:04]\n",
       "    </div>\n",
       "    "
      ],
      "text/plain": [
       "<IPython.core.display.HTML object>"
      ]
     },
     "metadata": {},
     "output_type": "display_data"
    },
    {
     "name": "stdout",
     "output_type": "stream",
     "text": [
      "Stopping early at epoch 9.0: No improvement in loss or accuracy for 3 evaluations.\n",
      "{'eval_loss': 0.8515735268592834, 'eval_accuracy': 0.7575757575757576, 'eval_runtime': 4.6134, 'eval_samples_per_second': 85.837, 'eval_steps_per_second': 10.838, 'epoch': 9.0}\n"
     ]
    },
    {
     "name": "stderr",
     "output_type": "stream",
     "text": [
      "[I 2024-06-08 19:17:51,110] Trial 1 finished with values: [0.8515735268592834, 0.7575757575757576] and parameters: {'lr': 0.0006801299821115514, 'batch': 1, 'accum': 2, 'dropout_rate': 0.7253989853801078, 'weight_decay': 0.00032347439085632216, 'warmup_pct': 0.060458663881078116, 'dora_rank': 24, 'dora_init_scale': 0.0007998283623866743}. \n"
     ]
    },
    {
     "name": "stdout",
     "output_type": "stream",
     "text": [
      "History:  [{'loss': 0.6836, 'learning_rate': 0.0005628661920923184, 'epoch': 1.0, 'step': 792}, {'eval_loss': 0.6719859838485718, 'eval_accuracy': 0.7171717171717171, 'eval_runtime': 5.1128, 'eval_samples_per_second': 77.452, 'eval_steps_per_second': 9.779, 'epoch': 1.0, 'step': 792}, {'loss': 0.899, 'learning_rate': 0.0006188860500730704, 'epoch': 2.0, 'step': 1584}, {'eval_loss': 0.6529348492622375, 'eval_accuracy': 0.7323232323232324, 'eval_runtime': 4.6743, 'eval_samples_per_second': 84.719, 'eval_steps_per_second': 10.697, 'epoch': 2.0, 'step': 1584}, {'loss': 0.8812, 'learning_rate': 0.0005415252938139367, 'epoch': 3.0, 'step': 2376}, {'eval_loss': 0.8099272847175598, 'eval_accuracy': 0.7297979797979798, 'eval_runtime': 4.6651, 'eval_samples_per_second': 84.885, 'eval_steps_per_second': 10.718, 'epoch': 3.0, 'step': 2376}, {'loss': 0.8524, 'learning_rate': 0.0004641645375548029, 'epoch': 4.0, 'step': 3168}, {'eval_loss': 0.7287155389785767, 'eval_accuracy': 0.73989898989899, 'eval_runtime': 4.6249, 'eval_samples_per_second': 85.624, 'eval_steps_per_second': 10.811, 'epoch': 4.0, 'step': 3168}, {'loss': 0.8502, 'learning_rate': 0.000386803781295669, 'epoch': 5.0, 'step': 3960}, {'eval_loss': 0.8772469162940979, 'eval_accuracy': 0.7424242424242424, 'eval_runtime': 4.6295, 'eval_samples_per_second': 85.538, 'eval_steps_per_second': 10.8, 'epoch': 5.0, 'step': 3960}, {'loss': 0.8174, 'learning_rate': 0.0003094430250365352, 'epoch': 6.0, 'step': 4752}, {'eval_loss': 0.8515735268592834, 'eval_accuracy': 0.7575757575757576, 'eval_runtime': 4.614, 'eval_samples_per_second': 85.826, 'eval_steps_per_second': 10.837, 'epoch': 6.0, 'step': 4752}, {'loss': 0.7789, 'learning_rate': 0.00023208226877740145, 'epoch': 7.0, 'step': 5544}, {'eval_loss': 0.9322052597999573, 'eval_accuracy': 0.7297979797979798, 'eval_runtime': 4.6185, 'eval_samples_per_second': 85.742, 'eval_steps_per_second': 10.826, 'epoch': 7.0, 'step': 5544}, {'loss': 0.7722, 'learning_rate': 0.0001547215125182676, 'epoch': 8.0, 'step': 6336}, {'eval_loss': 0.8502930402755737, 'eval_accuracy': 0.7424242424242424, 'eval_runtime': 4.617, 'eval_samples_per_second': 85.771, 'eval_steps_per_second': 10.83, 'epoch': 8.0, 'step': 6336}, {'loss': 0.7513, 'learning_rate': 7.73607562591338e-05, 'epoch': 9.0, 'step': 7128}, {'eval_loss': 0.9015108346939087, 'eval_accuracy': 0.7373737373737373, 'eval_runtime': 4.6239, 'eval_samples_per_second': 85.642, 'eval_steps_per_second': 10.813, 'epoch': 9.0, 'step': 7128}, {'train_runtime': 992.2384, 'train_samples_per_second': 15.964, 'train_steps_per_second': 7.982, 'total_flos': 3516507209932992.0, 'train_loss': 0.8095845523239119, 'epoch': 9.0, 'step': 7128}, {'eval_loss': 0.8515735268592834, 'eval_accuracy': 0.7575757575757576, 'eval_runtime': 4.6134, 'eval_samples_per_second': 85.837, 'eval_steps_per_second': 10.838, 'epoch': 9.0, 'step': 7128}]\n"
     ]
    },
    {
     "name": "stderr",
     "output_type": "stream",
     "text": [
      "/home/ubuntu/data/miniconda3/envs/finetune-dephos/lib/python3.9/site-packages/huggingface_hub/file_download.py:1132: FutureWarning: `resume_download` is deprecated and will be removed in version 1.0.0. Downloads always resume when possible. If you want to force a new download, use `force_download=True`.\n",
      "  warnings.warn(\n"
     ]
    },
    {
     "name": "stdout",
     "output_type": "stream",
     "text": [
      "ProtT5_Classfier\n",
      "Trainable Parameter: 1209193475.0\n",
      "ProtT5_DoRA_Classfier\n",
      "Trainable Parameter: 1200131.0\n",
      "\n"
     ]
    },
    {
     "name": "stderr",
     "output_type": "stream",
     "text": [
      "/home/ubuntu/data/miniconda3/envs/finetune-dephos/lib/python3.9/site-packages/accelerate/accelerator.py:446: FutureWarning: Passing the following arguments to `Accelerator` is deprecated and will be removed in version 1.0 of Accelerate: dict_keys(['dispatch_batches', 'split_batches']). Please pass an `accelerate.DataLoaderConfiguration` instead: \n",
      "dataloader_config = DataLoaderConfiguration(dispatch_batches=None, split_batches=False)\n",
      "  warnings.warn(\n"
     ]
    },
    {
     "data": {
      "text/html": [
       "\n",
       "    <div>\n",
       "      \n",
       "      <progress value='990' max='1980' style='width:300px; height:20px; vertical-align: middle;'></progress>\n",
       "      [ 990/1980 08:56 < 08:58, 1.84 it/s, Epoch 5/10]\n",
       "    </div>\n",
       "    <table border=\"1\" class=\"dataframe\">\n",
       "  <thead>\n",
       " <tr style=\"text-align: left;\">\n",
       "      <th>Epoch</th>\n",
       "      <th>Training Loss</th>\n",
       "      <th>Validation Loss</th>\n",
       "      <th>Accuracy</th>\n",
       "    </tr>\n",
       "  </thead>\n",
       "  <tbody>\n",
       "    <tr>\n",
       "      <td>1</td>\n",
       "      <td>0.657100</td>\n",
       "      <td>0.597465</td>\n",
       "      <td>0.739899</td>\n",
       "    </tr>\n",
       "    <tr>\n",
       "      <td>2</td>\n",
       "      <td>0.553700</td>\n",
       "      <td>0.535402</td>\n",
       "      <td>0.755051</td>\n",
       "    </tr>\n",
       "    <tr>\n",
       "      <td>3</td>\n",
       "      <td>0.502000</td>\n",
       "      <td>0.547127</td>\n",
       "      <td>0.734848</td>\n",
       "    </tr>\n",
       "    <tr>\n",
       "      <td>4</td>\n",
       "      <td>0.491800</td>\n",
       "      <td>0.548192</td>\n",
       "      <td>0.739899</td>\n",
       "    </tr>\n",
       "    <tr>\n",
       "      <td>5</td>\n",
       "      <td>0.491800</td>\n",
       "      <td>0.569176</td>\n",
       "      <td>0.744949</td>\n",
       "    </tr>\n",
       "  </tbody>\n",
       "</table><p>"
      ],
      "text/plain": [
       "<IPython.core.display.HTML object>"
      ]
     },
     "metadata": {},
     "output_type": "display_data"
    },
    {
     "name": "stdout",
     "output_type": "stream",
     "text": [
      "Saved improved model to ./model_output/finetuned_model_all_dora.pth\n",
      "Saved improved model to ./model_output/finetuned_model_all_dora.pth\n",
      "Stopping early at epoch 5.0: No improvement in loss or accuracy for 3 evaluations.\n",
      "Loaded best model from ./model_output/finetuned_model_all_dora.pth\n"
     ]
    },
    {
     "data": {
      "text/html": [
       "\n",
       "    <div>\n",
       "      \n",
       "      <progress value='50' max='50' style='width:300px; height:20px; vertical-align: middle;'></progress>\n",
       "      [50/50 00:04]\n",
       "    </div>\n",
       "    "
      ],
      "text/plain": [
       "<IPython.core.display.HTML object>"
      ]
     },
     "metadata": {},
     "output_type": "display_data"
    },
    {
     "name": "stdout",
     "output_type": "stream",
     "text": [
      "Stopping early at epoch 5.0: No improvement in loss or accuracy for 3 evaluations.\n",
      "{'eval_loss': 0.5354021787643433, 'eval_accuracy': 0.7550505050505051, 'eval_runtime': 4.6202, 'eval_samples_per_second': 85.711, 'eval_steps_per_second': 10.822, 'epoch': 5.0}\n"
     ]
    },
    {
     "name": "stderr",
     "output_type": "stream",
     "text": [
      "[I 2024-06-08 19:28:17,886] Trial 2 finished with values: [0.5354021787643433, 0.7550505050505051] and parameters: {'lr': 0.0005103551230048675, 'batch': 1, 'accum': 8, 'dropout_rate': 0.2324424429239456, 'weight_decay': 0.00032383842656122716, 'warmup_pct': 0.10989903610048304, 'dora_rank': 12, 'dora_init_scale': 0.005269504218104102}. \n"
     ]
    },
    {
     "name": "stdout",
     "output_type": "stream",
     "text": [
      "History:  [{'loss': 0.6571, 'learning_rate': 5.807489330745044e-05, 'epoch': 1.0, 'step': 198}, {'eval_loss': 0.5974645614624023, 'eval_accuracy': 0.73989898989899, 'eval_runtime': 5.111, 'eval_samples_per_second': 77.48, 'eval_steps_per_second': 9.783, 'epoch': 1.0, 'step': 198}, {'loss': 0.5537, 'learning_rate': 0.00011614978661490088, 'epoch': 2.0, 'step': 396}, {'eval_loss': 0.5354021787643433, 'eval_accuracy': 0.7550505050505051, 'eval_runtime': 4.7163, 'eval_samples_per_second': 83.964, 'eval_steps_per_second': 10.601, 'epoch': 2.0, 'step': 396}, {'loss': 0.502, 'learning_rate': 0.0001742246799223513, 'epoch': 3.0, 'step': 594}, {'eval_loss': 0.5471273064613342, 'eval_accuracy': 0.7348484848484849, 'eval_runtime': 4.6224, 'eval_samples_per_second': 85.67, 'eval_steps_per_second': 10.817, 'epoch': 3.0, 'step': 594}, {'loss': 0.4918, 'learning_rate': 0.00023229957322980175, 'epoch': 4.0, 'step': 792}, {'eval_loss': 0.5481920838356018, 'eval_accuracy': 0.73989898989899, 'eval_runtime': 4.625, 'eval_samples_per_second': 85.621, 'eval_steps_per_second': 10.811, 'epoch': 4.0, 'step': 792}, {'loss': 0.4918, 'learning_rate': 0.00029037446653725217, 'epoch': 5.0, 'step': 990}, {'eval_loss': 0.5691760182380676, 'eval_accuracy': 0.7449494949494949, 'eval_runtime': 4.6218, 'eval_samples_per_second': 85.681, 'eval_steps_per_second': 10.818, 'epoch': 5.0, 'step': 990}, {'train_runtime': 537.4784, 'train_samples_per_second': 29.471, 'train_steps_per_second': 3.684, 'total_flos': 1953615116629440.0, 'train_loss': 0.5392755758882773, 'epoch': 5.0, 'step': 990}, {'eval_loss': 0.5354021787643433, 'eval_accuracy': 0.7550505050505051, 'eval_runtime': 4.6202, 'eval_samples_per_second': 85.711, 'eval_steps_per_second': 10.822, 'epoch': 5.0, 'step': 990}]\n"
     ]
    },
    {
     "name": "stderr",
     "output_type": "stream",
     "text": [
      "/home/ubuntu/data/miniconda3/envs/finetune-dephos/lib/python3.9/site-packages/huggingface_hub/file_download.py:1132: FutureWarning: `resume_download` is deprecated and will be removed in version 1.0.0. Downloads always resume when possible. If you want to force a new download, use `force_download=True`.\n",
      "  warnings.warn(\n"
     ]
    },
    {
     "name": "stdout",
     "output_type": "stream",
     "text": [
      "ProtT5_Classfier\n",
      "Trainable Parameter: 1209193475.0\n",
      "ProtT5_DoRA_Classfier\n",
      "Trainable Parameter: 1200131.0\n",
      "\n"
     ]
    },
    {
     "name": "stderr",
     "output_type": "stream",
     "text": [
      "/home/ubuntu/data/miniconda3/envs/finetune-dephos/lib/python3.9/site-packages/accelerate/accelerator.py:446: FutureWarning: Passing the following arguments to `Accelerator` is deprecated and will be removed in version 1.0 of Accelerate: dict_keys(['dispatch_batches', 'split_batches']). Please pass an `accelerate.DataLoaderConfiguration` instead: \n",
      "dataloader_config = DataLoaderConfiguration(dispatch_batches=None, split_batches=False)\n",
      "  warnings.warn(\n"
     ]
    },
    {
     "data": {
      "text/html": [
       "\n",
       "    <div>\n",
       "      \n",
       "      <progress value='990' max='990' style='width:300px; height:20px; vertical-align: middle;'></progress>\n",
       "      [990/990 06:48, Epoch 10/10]\n",
       "    </div>\n",
       "    <table border=\"1\" class=\"dataframe\">\n",
       "  <thead>\n",
       " <tr style=\"text-align: left;\">\n",
       "      <th>Epoch</th>\n",
       "      <th>Training Loss</th>\n",
       "      <th>Validation Loss</th>\n",
       "      <th>Accuracy</th>\n",
       "    </tr>\n",
       "  </thead>\n",
       "  <tbody>\n",
       "    <tr>\n",
       "      <td>1</td>\n",
       "      <td>0.693600</td>\n",
       "      <td>0.685972</td>\n",
       "      <td>0.545455</td>\n",
       "    </tr>\n",
       "    <tr>\n",
       "      <td>2</td>\n",
       "      <td>0.675800</td>\n",
       "      <td>0.659207</td>\n",
       "      <td>0.659091</td>\n",
       "    </tr>\n",
       "    <tr>\n",
       "      <td>3</td>\n",
       "      <td>0.649600</td>\n",
       "      <td>0.635460</td>\n",
       "      <td>0.707071</td>\n",
       "    </tr>\n",
       "    <tr>\n",
       "      <td>4</td>\n",
       "      <td>0.628600</td>\n",
       "      <td>0.619403</td>\n",
       "      <td>0.734848</td>\n",
       "    </tr>\n",
       "    <tr>\n",
       "      <td>5</td>\n",
       "      <td>0.613700</td>\n",
       "      <td>0.607747</td>\n",
       "      <td>0.742424</td>\n",
       "    </tr>\n",
       "    <tr>\n",
       "      <td>6</td>\n",
       "      <td>0.601400</td>\n",
       "      <td>0.599048</td>\n",
       "      <td>0.739899</td>\n",
       "    </tr>\n",
       "    <tr>\n",
       "      <td>7</td>\n",
       "      <td>0.593800</td>\n",
       "      <td>0.593395</td>\n",
       "      <td>0.744949</td>\n",
       "    </tr>\n",
       "    <tr>\n",
       "      <td>8</td>\n",
       "      <td>0.585900</td>\n",
       "      <td>0.589490</td>\n",
       "      <td>0.744949</td>\n",
       "    </tr>\n",
       "    <tr>\n",
       "      <td>9</td>\n",
       "      <td>0.584900</td>\n",
       "      <td>0.587273</td>\n",
       "      <td>0.747475</td>\n",
       "    </tr>\n",
       "    <tr>\n",
       "      <td>10</td>\n",
       "      <td>0.582700</td>\n",
       "      <td>0.586591</td>\n",
       "      <td>0.747475</td>\n",
       "    </tr>\n",
       "  </tbody>\n",
       "</table><p>"
      ],
      "text/plain": [
       "<IPython.core.display.HTML object>"
      ]
     },
     "metadata": {},
     "output_type": "display_data"
    },
    {
     "name": "stdout",
     "output_type": "stream",
     "text": [
      "Saved improved model to ./model_output/finetuned_model_all_dora.pth\n",
      "Saved improved model to ./model_output/finetuned_model_all_dora.pth\n",
      "Saved improved model to ./model_output/finetuned_model_all_dora.pth\n",
      "Saved improved model to ./model_output/finetuned_model_all_dora.pth\n",
      "Saved improved model to ./model_output/finetuned_model_all_dora.pth\n",
      "Saved improved model to ./model_output/finetuned_model_all_dora.pth\n",
      "Saved improved model to ./model_output/finetuned_model_all_dora.pth\n",
      "Saved improved model to ./model_output/finetuned_model_all_dora.pth\n",
      "Saved improved model to ./model_output/finetuned_model_all_dora.pth\n",
      "Loaded best model from ./model_output/finetuned_model_all_dora.pth\n"
     ]
    },
    {
     "data": {
      "text/html": [
       "\n",
       "    <div>\n",
       "      \n",
       "      <progress value='50' max='50' style='width:300px; height:20px; vertical-align: middle;'></progress>\n",
       "      [50/50 00:04]\n",
       "    </div>\n",
       "    "
      ],
      "text/plain": [
       "<IPython.core.display.HTML object>"
      ]
     },
     "metadata": {},
     "output_type": "display_data"
    },
    {
     "name": "stdout",
     "output_type": "stream",
     "text": [
      "{'eval_loss': 0.5872732400894165, 'eval_accuracy': 0.7474747474747475, 'eval_runtime': 4.617, 'eval_samples_per_second': 85.77, 'eval_steps_per_second': 10.83, 'epoch': 10.0}\n"
     ]
    },
    {
     "name": "stderr",
     "output_type": "stream",
     "text": [
      "[I 2024-06-08 19:36:36,905] Trial 3 finished with values: [0.5872732400894165, 0.7474747474747475] and parameters: {'lr': 1.6373143158479883e-05, 'batch': 8, 'accum': 2, 'dropout_rate': 0.5069286776884707, 'weight_decay': 0.00038201573080993143, 'warmup_pct': 0.09692605239160704, 'dora_rank': 28, 'dora_init_scale': 0.0024973300980741775}. \n"
     ]
    },
    {
     "name": "stdout",
     "output_type": "stream",
     "text": [
      "History:  [{'loss': 0.6936, 'learning_rate': 8.48660299837439e-06, 'epoch': 1.0, 'step': 99}, {'eval_loss': 0.6859720945358276, 'eval_accuracy': 0.5454545454545454, 'eval_runtime': 5.0945, 'eval_samples_per_second': 77.731, 'eval_steps_per_second': 9.814, 'epoch': 1.0, 'step': 99}, {'loss': 0.6758, 'learning_rate': 1.6229698850458158e-05, 'epoch': 2.0, 'step': 198}, {'eval_loss': 0.6592069864273071, 'eval_accuracy': 0.6590909090909091, 'eval_runtime': 4.6324, 'eval_samples_per_second': 85.485, 'eval_steps_per_second': 10.794, 'epoch': 2.0, 'step': 198}, {'loss': 0.6496, 'learning_rate': 1.4200986494150887e-05, 'epoch': 3.0, 'step': 297}, {'eval_loss': 0.6354595422744751, 'eval_accuracy': 0.7070707070707071, 'eval_runtime': 4.6366, 'eval_samples_per_second': 85.407, 'eval_steps_per_second': 10.784, 'epoch': 3.0, 'step': 297}, {'loss': 0.6286, 'learning_rate': 1.2172274137843619e-05, 'epoch': 4.0, 'step': 396}, {'eval_loss': 0.6194028854370117, 'eval_accuracy': 0.7348484848484849, 'eval_runtime': 4.6303, 'eval_samples_per_second': 85.524, 'eval_steps_per_second': 10.799, 'epoch': 4.0, 'step': 396}, {'loss': 0.6137, 'learning_rate': 1.0143561781536347e-05, 'epoch': 5.0, 'step': 495}, {'eval_loss': 0.6077473759651184, 'eval_accuracy': 0.7424242424242424, 'eval_runtime': 4.6258, 'eval_samples_per_second': 85.606, 'eval_steps_per_second': 10.809, 'epoch': 5.0, 'step': 495}, {'loss': 0.6014, 'learning_rate': 8.114849425229079e-06, 'epoch': 6.0, 'step': 594}, {'eval_loss': 0.5990483164787292, 'eval_accuracy': 0.73989898989899, 'eval_runtime': 4.6327, 'eval_samples_per_second': 85.479, 'eval_steps_per_second': 10.793, 'epoch': 6.0, 'step': 594}, {'loss': 0.5938, 'learning_rate': 6.086137068921809e-06, 'epoch': 7.0, 'step': 693}, {'eval_loss': 0.593394935131073, 'eval_accuracy': 0.7449494949494949, 'eval_runtime': 4.6137, 'eval_samples_per_second': 85.831, 'eval_steps_per_second': 10.837, 'epoch': 7.0, 'step': 693}, {'loss': 0.5859, 'learning_rate': 4.0574247126145395e-06, 'epoch': 8.0, 'step': 792}, {'eval_loss': 0.5894901156425476, 'eval_accuracy': 0.7449494949494949, 'eval_runtime': 4.6152, 'eval_samples_per_second': 85.803, 'eval_steps_per_second': 10.834, 'epoch': 8.0, 'step': 792}, {'loss': 0.5849, 'learning_rate': 2.0287123563072698e-06, 'epoch': 9.0, 'step': 891}, {'eval_loss': 0.5872732400894165, 'eval_accuracy': 0.7474747474747475, 'eval_runtime': 4.6154, 'eval_samples_per_second': 85.8, 'eval_steps_per_second': 10.833, 'epoch': 9.0, 'step': 891}, {'loss': 0.5827, 'learning_rate': 0.0, 'epoch': 10.0, 'step': 990}, {'eval_loss': 0.5865912437438965, 'eval_accuracy': 0.7474747474747475, 'eval_runtime': 4.6136, 'eval_samples_per_second': 85.833, 'eval_steps_per_second': 10.838, 'epoch': 10.0, 'step': 990}, {'train_runtime': 408.5668, 'train_samples_per_second': 38.77, 'train_steps_per_second': 2.423, 'total_flos': 3907230233258880.0, 'train_loss': 0.6210127628210819, 'epoch': 10.0, 'step': 990}, {'eval_loss': 0.5872732400894165, 'eval_accuracy': 0.7474747474747475, 'eval_runtime': 4.617, 'eval_samples_per_second': 85.77, 'eval_steps_per_second': 10.83, 'epoch': 10.0, 'step': 990}]\n"
     ]
    },
    {
     "name": "stderr",
     "output_type": "stream",
     "text": [
      "/home/ubuntu/data/miniconda3/envs/finetune-dephos/lib/python3.9/site-packages/huggingface_hub/file_download.py:1132: FutureWarning: `resume_download` is deprecated and will be removed in version 1.0.0. Downloads always resume when possible. If you want to force a new download, use `force_download=True`.\n",
      "  warnings.warn(\n"
     ]
    },
    {
     "name": "stdout",
     "output_type": "stream",
     "text": [
      "ProtT5_Classfier\n",
      "Trainable Parameter: 1209193475.0\n",
      "ProtT5_DoRA_Classfier\n",
      "Trainable Parameter: 1200131.0\n",
      "\n"
     ]
    },
    {
     "name": "stderr",
     "output_type": "stream",
     "text": [
      "/home/ubuntu/data/miniconda3/envs/finetune-dephos/lib/python3.9/site-packages/accelerate/accelerator.py:446: FutureWarning: Passing the following arguments to `Accelerator` is deprecated and will be removed in version 1.0 of Accelerate: dict_keys(['dispatch_batches', 'split_batches']). Please pass an `accelerate.DataLoaderConfiguration` instead: \n",
      "dataloader_config = DataLoaderConfiguration(dispatch_batches=None, split_batches=False)\n",
      "  warnings.warn(\n"
     ]
    },
    {
     "data": {
      "text/html": [
       "\n",
       "    <div>\n",
       "      \n",
       "      <progress value='990' max='990' style='width:300px; height:20px; vertical-align: middle;'></progress>\n",
       "      [990/990 11:42, Epoch 10/10]\n",
       "    </div>\n",
       "    <table border=\"1\" class=\"dataframe\">\n",
       "  <thead>\n",
       " <tr style=\"text-align: left;\">\n",
       "      <th>Epoch</th>\n",
       "      <th>Training Loss</th>\n",
       "      <th>Validation Loss</th>\n",
       "      <th>Accuracy</th>\n",
       "    </tr>\n",
       "  </thead>\n",
       "  <tbody>\n",
       "    <tr>\n",
       "      <td>1</td>\n",
       "      <td>0.693000</td>\n",
       "      <td>0.686449</td>\n",
       "      <td>0.535354</td>\n",
       "    </tr>\n",
       "    <tr>\n",
       "      <td>2</td>\n",
       "      <td>0.672700</td>\n",
       "      <td>0.659686</td>\n",
       "      <td>0.664141</td>\n",
       "    </tr>\n",
       "    <tr>\n",
       "      <td>3</td>\n",
       "      <td>0.642000</td>\n",
       "      <td>0.626864</td>\n",
       "      <td>0.714646</td>\n",
       "    </tr>\n",
       "    <tr>\n",
       "      <td>4</td>\n",
       "      <td>0.609500</td>\n",
       "      <td>0.597437</td>\n",
       "      <td>0.747475</td>\n",
       "    </tr>\n",
       "    <tr>\n",
       "      <td>5</td>\n",
       "      <td>0.580600</td>\n",
       "      <td>0.573378</td>\n",
       "      <td>0.752525</td>\n",
       "    </tr>\n",
       "    <tr>\n",
       "      <td>6</td>\n",
       "      <td>0.554500</td>\n",
       "      <td>0.553207</td>\n",
       "      <td>0.760101</td>\n",
       "    </tr>\n",
       "    <tr>\n",
       "      <td>7</td>\n",
       "      <td>0.532100</td>\n",
       "      <td>0.540722</td>\n",
       "      <td>0.767677</td>\n",
       "    </tr>\n",
       "    <tr>\n",
       "      <td>8</td>\n",
       "      <td>0.512500</td>\n",
       "      <td>0.530423</td>\n",
       "      <td>0.767677</td>\n",
       "    </tr>\n",
       "    <tr>\n",
       "      <td>9</td>\n",
       "      <td>0.498000</td>\n",
       "      <td>0.525668</td>\n",
       "      <td>0.765152</td>\n",
       "    </tr>\n",
       "    <tr>\n",
       "      <td>10</td>\n",
       "      <td>0.481100</td>\n",
       "      <td>0.521368</td>\n",
       "      <td>0.757576</td>\n",
       "    </tr>\n",
       "  </tbody>\n",
       "</table><p>"
      ],
      "text/plain": [
       "<IPython.core.display.HTML object>"
      ]
     },
     "metadata": {},
     "output_type": "display_data"
    },
    {
     "name": "stdout",
     "output_type": "stream",
     "text": [
      "Saved improved model to ./model_output/finetuned_model_all_dora.pth\n",
      "Saved improved model to ./model_output/finetuned_model_all_dora.pth\n",
      "Saved improved model to ./model_output/finetuned_model_all_dora.pth\n",
      "Saved improved model to ./model_output/finetuned_model_all_dora.pth\n",
      "Saved improved model to ./model_output/finetuned_model_all_dora.pth\n",
      "Saved improved model to ./model_output/finetuned_model_all_dora.pth\n",
      "Saved improved model to ./model_output/finetuned_model_all_dora.pth\n",
      "Saved improved model to ./model_output/finetuned_model_all_dora.pth\n",
      "Saved improved model to ./model_output/finetuned_model_all_dora.pth\n",
      "Saved improved model to ./model_output/finetuned_model_all_dora.pth\n",
      "Loaded best model from ./model_output/finetuned_model_all_dora.pth\n"
     ]
    },
    {
     "data": {
      "text/html": [
       "\n",
       "    <div>\n",
       "      \n",
       "      <progress value='50' max='50' style='width:300px; height:20px; vertical-align: middle;'></progress>\n",
       "      [50/50 00:04]\n",
       "    </div>\n",
       "    "
      ],
      "text/plain": [
       "<IPython.core.display.HTML object>"
      ]
     },
     "metadata": {},
     "output_type": "display_data"
    },
    {
     "name": "stdout",
     "output_type": "stream",
     "text": [
      "{'eval_loss': 0.5213677287101746, 'eval_accuracy': 0.7575757575757576, 'eval_runtime': 4.6213, 'eval_samples_per_second': 85.691, 'eval_steps_per_second': 10.82, 'epoch': 10.0}\n"
     ]
    },
    {
     "name": "stderr",
     "output_type": "stream",
     "text": [
      "[I 2024-06-08 19:50:05,179] Trial 4 finished with values: [0.5213677287101746, 0.7575757575757576] and parameters: {'lr': 0.0001187765192208992, 'batch': 2, 'accum': 8, 'dropout_rate': 0.16396074598810373, 'weight_decay': 0.00012416069806122894, 'warmup_pct': 0.2872929826542094, 'dora_rank': 32, 'dora_init_scale': 0.0043137320235421064}. \n"
     ]
    },
    {
     "name": "stdout",
     "output_type": "stream",
     "text": [
      "History:  [{'loss': 0.693, 'learning_rate': 5.168736440821548e-06, 'epoch': 1.0, 'step': 99}, {'eval_loss': 0.6864491701126099, 'eval_accuracy': 0.5353535353535354, 'eval_runtime': 5.0892, 'eval_samples_per_second': 77.813, 'eval_steps_per_second': 9.825, 'epoch': 1.0, 'step': 99}, {'loss': 0.6727, 'learning_rate': 1.0337472881643095e-05, 'epoch': 2.0, 'step': 198}, {'eval_loss': 0.6596860289573669, 'eval_accuracy': 0.6641414141414141, 'eval_runtime': 4.6126, 'eval_samples_per_second': 85.852, 'eval_steps_per_second': 10.84, 'epoch': 2.0, 'step': 198}, {'loss': 0.642, 'learning_rate': 1.5506209322464642e-05, 'epoch': 3.0, 'step': 297}, {'eval_loss': 0.6268636584281921, 'eval_accuracy': 0.7146464646464646, 'eval_runtime': 4.6234, 'eval_samples_per_second': 85.652, 'eval_steps_per_second': 10.815, 'epoch': 3.0, 'step': 297}, {'loss': 0.6095, 'learning_rate': 2.067494576328619e-05, 'epoch': 4.0, 'step': 396}, {'eval_loss': 0.5974374413490295, 'eval_accuracy': 0.7474747474747475, 'eval_runtime': 4.6132, 'eval_samples_per_second': 85.841, 'eval_steps_per_second': 10.839, 'epoch': 4.0, 'step': 396}, {'loss': 0.5806, 'learning_rate': 2.584368220410774e-05, 'epoch': 5.0, 'step': 495}, {'eval_loss': 0.5733776092529297, 'eval_accuracy': 0.7525252525252525, 'eval_runtime': 4.6105, 'eval_samples_per_second': 85.891, 'eval_steps_per_second': 10.845, 'epoch': 5.0, 'step': 495}, {'loss': 0.5545, 'learning_rate': 3.1012418644929284e-05, 'epoch': 6.0, 'step': 594}, {'eval_loss': 0.5532069206237793, 'eval_accuracy': 0.76010101010101, 'eval_runtime': 4.6138, 'eval_samples_per_second': 85.829, 'eval_steps_per_second': 10.837, 'epoch': 6.0, 'step': 594}, {'loss': 0.5321, 'learning_rate': 3.618115508575083e-05, 'epoch': 7.0, 'step': 693}, {'eval_loss': 0.540721595287323, 'eval_accuracy': 0.7676767676767676, 'eval_runtime': 4.4543, 'eval_samples_per_second': 88.903, 'eval_steps_per_second': 11.225, 'epoch': 7.0, 'step': 693}, {'loss': 0.5125, 'learning_rate': 4.134989152657238e-05, 'epoch': 8.0, 'step': 792}, {'eval_loss': 0.5304228067398071, 'eval_accuracy': 0.7676767676767676, 'eval_runtime': 4.6141, 'eval_samples_per_second': 85.823, 'eval_steps_per_second': 10.836, 'epoch': 8.0, 'step': 792}, {'loss': 0.498, 'learning_rate': 4.651862796739393e-05, 'epoch': 9.0, 'step': 891}, {'eval_loss': 0.5256677269935608, 'eval_accuracy': 0.7651515151515151, 'eval_runtime': 4.6161, 'eval_samples_per_second': 85.787, 'eval_steps_per_second': 10.832, 'epoch': 9.0, 'step': 891}, {'loss': 0.4811, 'learning_rate': 5.168736440821548e-05, 'epoch': 10.0, 'step': 990}, {'eval_loss': 0.5213677287101746, 'eval_accuracy': 0.7575757575757576, 'eval_runtime': 4.6198, 'eval_samples_per_second': 85.718, 'eval_steps_per_second': 10.823, 'epoch': 10.0, 'step': 990}, {'train_runtime': 702.8749, 'train_samples_per_second': 22.536, 'train_steps_per_second': 1.409, 'total_flos': 3907230233258880.0, 'train_loss': 0.5776133219401042, 'epoch': 10.0, 'step': 990}, {'eval_loss': 0.5213677287101746, 'eval_accuracy': 0.7575757575757576, 'eval_runtime': 4.6213, 'eval_samples_per_second': 85.691, 'eval_steps_per_second': 10.82, 'epoch': 10.0, 'step': 990}]\n"
     ]
    },
    {
     "name": "stderr",
     "output_type": "stream",
     "text": [
      "/home/ubuntu/data/miniconda3/envs/finetune-dephos/lib/python3.9/site-packages/huggingface_hub/file_download.py:1132: FutureWarning: `resume_download` is deprecated and will be removed in version 1.0.0. Downloads always resume when possible. If you want to force a new download, use `force_download=True`.\n",
      "  warnings.warn(\n"
     ]
    },
    {
     "name": "stdout",
     "output_type": "stream",
     "text": [
      "ProtT5_Classfier\n",
      "Trainable Parameter: 1209193475.0\n",
      "ProtT5_DoRA_Classfier\n",
      "Trainable Parameter: 1200131.0\n",
      "\n"
     ]
    },
    {
     "name": "stderr",
     "output_type": "stream",
     "text": [
      "/home/ubuntu/data/miniconda3/envs/finetune-dephos/lib/python3.9/site-packages/accelerate/accelerator.py:446: FutureWarning: Passing the following arguments to `Accelerator` is deprecated and will be removed in version 1.0 of Accelerate: dict_keys(['dispatch_batches', 'split_batches']). Please pass an `accelerate.DataLoaderConfiguration` instead: \n",
      "dataloader_config = DataLoaderConfiguration(dispatch_batches=None, split_batches=False)\n",
      "  warnings.warn(\n"
     ]
    },
    {
     "data": {
      "text/html": [
       "\n",
       "    <div>\n",
       "      \n",
       "      <progress value='1980' max='3960' style='width:300px; height:20px; vertical-align: middle;'></progress>\n",
       "      [1980/3960 06:00 < 06:00, 5.49 it/s, Epoch 5/10]\n",
       "    </div>\n",
       "    <table border=\"1\" class=\"dataframe\">\n",
       "  <thead>\n",
       " <tr style=\"text-align: left;\">\n",
       "      <th>Epoch</th>\n",
       "      <th>Training Loss</th>\n",
       "      <th>Validation Loss</th>\n",
       "      <th>Accuracy</th>\n",
       "    </tr>\n",
       "  </thead>\n",
       "  <tbody>\n",
       "    <tr>\n",
       "      <td>1</td>\n",
       "      <td>0.675000</td>\n",
       "      <td>0.579793</td>\n",
       "      <td>0.694444</td>\n",
       "    </tr>\n",
       "    <tr>\n",
       "      <td>2</td>\n",
       "      <td>0.672400</td>\n",
       "      <td>0.623592</td>\n",
       "      <td>0.767677</td>\n",
       "    </tr>\n",
       "    <tr>\n",
       "      <td>3</td>\n",
       "      <td>0.609100</td>\n",
       "      <td>0.597533</td>\n",
       "      <td>0.747475</td>\n",
       "    </tr>\n",
       "    <tr>\n",
       "      <td>4</td>\n",
       "      <td>0.585100</td>\n",
       "      <td>0.671774</td>\n",
       "      <td>0.752525</td>\n",
       "    </tr>\n",
       "    <tr>\n",
       "      <td>5</td>\n",
       "      <td>0.542200</td>\n",
       "      <td>0.813204</td>\n",
       "      <td>0.752525</td>\n",
       "    </tr>\n",
       "  </tbody>\n",
       "</table><p>"
      ],
      "text/plain": [
       "<IPython.core.display.HTML object>"
      ]
     },
     "metadata": {},
     "output_type": "display_data"
    },
    {
     "name": "stdout",
     "output_type": "stream",
     "text": [
      "Saved improved model to ./model_output/finetuned_model_all_dora.pth\n",
      "Saved improved model to ./model_output/finetuned_model_all_dora.pth\n",
      "Stopping early at epoch 5.0: No improvement in loss or accuracy for 3 evaluations.\n",
      "Loaded best model from ./model_output/finetuned_model_all_dora.pth\n"
     ]
    },
    {
     "data": {
      "text/html": [
       "\n",
       "    <div>\n",
       "      \n",
       "      <progress value='50' max='50' style='width:300px; height:20px; vertical-align: middle;'></progress>\n",
       "      [50/50 00:04]\n",
       "    </div>\n",
       "    "
      ],
      "text/plain": [
       "<IPython.core.display.HTML object>"
      ]
     },
     "metadata": {},
     "output_type": "display_data"
    },
    {
     "name": "stdout",
     "output_type": "stream",
     "text": [
      "Stopping early at epoch 5.0: No improvement in loss or accuracy for 3 evaluations.\n",
      "{'eval_loss': 0.6235920190811157, 'eval_accuracy': 0.7676767676767676, 'eval_runtime': 4.7994, 'eval_samples_per_second': 82.511, 'eval_steps_per_second': 10.418, 'epoch': 5.0}\n"
     ]
    },
    {
     "name": "stderr",
     "output_type": "stream",
     "text": [
      "[I 2024-06-08 19:57:51,495] Trial 5 finished with values: [0.6235920190811157, 0.7676767676767676] and parameters: {'lr': 0.0018379275435176994, 'batch': 2, 'accum': 2, 'dropout_rate': 0.41472635538986125, 'weight_decay': 0.0007850247427463558, 'warmup_pct': 0.043810045733507795, 'dora_rank': 24, 'dora_init_scale': 0.0008870299769205696}. \n"
     ]
    },
    {
     "name": "stdout",
     "output_type": "stream",
     "text": [
      "History:  [{'loss': 0.675, 'learning_rate': 0.0018124996583002437, 'epoch': 1.0, 'step': 396}, {'eval_loss': 0.5797932744026184, 'eval_accuracy': 0.6944444444444444, 'eval_runtime': 5.0959, 'eval_samples_per_second': 77.709, 'eval_steps_per_second': 9.812, 'epoch': 1.0, 'step': 396}, {'loss': 0.6724, 'learning_rate': 0.0016111108073779943, 'epoch': 2.0, 'step': 792}, {'eval_loss': 0.6235920190811157, 'eval_accuracy': 0.7676767676767676, 'eval_runtime': 4.6162, 'eval_samples_per_second': 85.784, 'eval_steps_per_second': 10.831, 'epoch': 2.0, 'step': 792}, {'loss': 0.6091, 'learning_rate': 0.0014097219564557452, 'epoch': 3.0, 'step': 1188}, {'eval_loss': 0.5975325703620911, 'eval_accuracy': 0.7474747474747475, 'eval_runtime': 4.6157, 'eval_samples_per_second': 85.794, 'eval_steps_per_second': 10.833, 'epoch': 3.0, 'step': 1188}, {'loss': 0.5851, 'learning_rate': 0.0012083331055334958, 'epoch': 4.0, 'step': 1584}, {'eval_loss': 0.6717737317085266, 'eval_accuracy': 0.7525252525252525, 'eval_runtime': 4.6154, 'eval_samples_per_second': 85.799, 'eval_steps_per_second': 10.833, 'epoch': 4.0, 'step': 1584}, {'loss': 0.5422, 'learning_rate': 0.0010069442546112467, 'epoch': 5.0, 'step': 1980}, {'eval_loss': 0.8132039308547974, 'eval_accuracy': 0.7525252525252525, 'eval_runtime': 4.6187, 'eval_samples_per_second': 85.739, 'eval_steps_per_second': 10.826, 'epoch': 5.0, 'step': 1980}, {'train_runtime': 360.5026, 'train_samples_per_second': 43.939, 'train_steps_per_second': 10.985, 'total_flos': 1953615116629440.0, 'train_loss': 0.6167450644753196, 'epoch': 5.0, 'step': 1980}, {'eval_loss': 0.6235920190811157, 'eval_accuracy': 0.7676767676767676, 'eval_runtime': 4.7994, 'eval_samples_per_second': 82.511, 'eval_steps_per_second': 10.418, 'epoch': 5.0, 'step': 1980}]\n"
     ]
    },
    {
     "name": "stderr",
     "output_type": "stream",
     "text": [
      "/home/ubuntu/data/miniconda3/envs/finetune-dephos/lib/python3.9/site-packages/huggingface_hub/file_download.py:1132: FutureWarning: `resume_download` is deprecated and will be removed in version 1.0.0. Downloads always resume when possible. If you want to force a new download, use `force_download=True`.\n",
      "  warnings.warn(\n"
     ]
    },
    {
     "name": "stdout",
     "output_type": "stream",
     "text": [
      "ProtT5_Classfier\n",
      "Trainable Parameter: 1209193475.0\n",
      "ProtT5_DoRA_Classfier\n",
      "Trainable Parameter: 1200131.0\n",
      "\n"
     ]
    },
    {
     "name": "stderr",
     "output_type": "stream",
     "text": [
      "/home/ubuntu/data/miniconda3/envs/finetune-dephos/lib/python3.9/site-packages/accelerate/accelerator.py:446: FutureWarning: Passing the following arguments to `Accelerator` is deprecated and will be removed in version 1.0 of Accelerate: dict_keys(['dispatch_batches', 'split_batches']). Please pass an `accelerate.DataLoaderConfiguration` instead: \n",
      "dataloader_config = DataLoaderConfiguration(dispatch_batches=None, split_batches=False)\n",
      "  warnings.warn(\n"
     ]
    },
    {
     "data": {
      "text/html": [
       "\n",
       "    <div>\n",
       "      \n",
       "      <progress value='990' max='1980' style='width:300px; height:20px; vertical-align: middle;'></progress>\n",
       "      [ 990/1980 05:54 < 05:55, 2.79 it/s, Epoch 5/10]\n",
       "    </div>\n",
       "    <table border=\"1\" class=\"dataframe\">\n",
       "  <thead>\n",
       " <tr style=\"text-align: left;\">\n",
       "      <th>Epoch</th>\n",
       "      <th>Training Loss</th>\n",
       "      <th>Validation Loss</th>\n",
       "      <th>Accuracy</th>\n",
       "    </tr>\n",
       "  </thead>\n",
       "  <tbody>\n",
       "    <tr>\n",
       "      <td>1</td>\n",
       "      <td>0.626700</td>\n",
       "      <td>0.554022</td>\n",
       "      <td>0.737374</td>\n",
       "    </tr>\n",
       "    <tr>\n",
       "      <td>2</td>\n",
       "      <td>0.538700</td>\n",
       "      <td>0.551755</td>\n",
       "      <td>0.752525</td>\n",
       "    </tr>\n",
       "    <tr>\n",
       "      <td>3</td>\n",
       "      <td>0.516000</td>\n",
       "      <td>0.565987</td>\n",
       "      <td>0.722222</td>\n",
       "    </tr>\n",
       "    <tr>\n",
       "      <td>4</td>\n",
       "      <td>0.523400</td>\n",
       "      <td>0.560685</td>\n",
       "      <td>0.729798</td>\n",
       "    </tr>\n",
       "    <tr>\n",
       "      <td>5</td>\n",
       "      <td>0.498500</td>\n",
       "      <td>0.623852</td>\n",
       "      <td>0.734848</td>\n",
       "    </tr>\n",
       "  </tbody>\n",
       "</table><p>"
      ],
      "text/plain": [
       "<IPython.core.display.HTML object>"
      ]
     },
     "metadata": {},
     "output_type": "display_data"
    },
    {
     "name": "stdout",
     "output_type": "stream",
     "text": [
      "Saved improved model to ./model_output/finetuned_model_all_dora.pth\n",
      "Saved improved model to ./model_output/finetuned_model_all_dora.pth\n",
      "Stopping early at epoch 5.0: No improvement in loss or accuracy for 3 evaluations.\n",
      "Loaded best model from ./model_output/finetuned_model_all_dora.pth\n"
     ]
    },
    {
     "data": {
      "text/html": [
       "\n",
       "    <div>\n",
       "      \n",
       "      <progress value='50' max='50' style='width:300px; height:20px; vertical-align: middle;'></progress>\n",
       "      [50/50 00:04]\n",
       "    </div>\n",
       "    "
      ],
      "text/plain": [
       "<IPython.core.display.HTML object>"
      ]
     },
     "metadata": {},
     "output_type": "display_data"
    },
    {
     "name": "stdout",
     "output_type": "stream",
     "text": [
      "Stopping early at epoch 5.0: No improvement in loss or accuracy for 3 evaluations.\n",
      "{'eval_loss': 0.5517554879188538, 'eval_accuracy': 0.7525252525252525, 'eval_runtime': 4.6093, 'eval_samples_per_second': 85.913, 'eval_steps_per_second': 10.848, 'epoch': 5.0}\n"
     ]
    },
    {
     "name": "stderr",
     "output_type": "stream",
     "text": [
      "[I 2024-06-08 20:05:33,617] Trial 6 finished with values: [0.5517554879188538, 0.7525252525252525] and parameters: {'lr': 0.0008397156722815591, 'batch': 2, 'accum': 4, 'dropout_rate': 0.3621431319284668, 'weight_decay': 6.672825233879586e-05, 'warmup_pct': 0.09783484093879549, 'dora_rank': 32, 'dora_init_scale': 0.035542363096864385}. \n"
     ]
    },
    {
     "name": "stdout",
     "output_type": "stream",
     "text": [
      "History:  [{'loss': 0.6267, 'learning_rate': 0.00021481098593249186, 'epoch': 1.0, 'step': 198}, {'eval_loss': 0.5540224313735962, 'eval_accuracy': 0.7373737373737373, 'eval_runtime': 5.0821, 'eval_samples_per_second': 77.921, 'eval_steps_per_second': 9.838, 'epoch': 1.0, 'step': 198}, {'loss': 0.5387, 'learning_rate': 0.0004296219718649837, 'epoch': 2.0, 'step': 396}, {'eval_loss': 0.5517554879188538, 'eval_accuracy': 0.7525252525252525, 'eval_runtime': 4.6101, 'eval_samples_per_second': 85.899, 'eval_steps_per_second': 10.846, 'epoch': 2.0, 'step': 396}, {'loss': 0.516, 'learning_rate': 0.0006444329577974756, 'epoch': 3.0, 'step': 594}, {'eval_loss': 0.5659874677658081, 'eval_accuracy': 0.7222222222222222, 'eval_runtime': 4.6605, 'eval_samples_per_second': 84.969, 'eval_steps_per_second': 10.728, 'epoch': 3.0, 'step': 594}, {'loss': 0.5234, 'learning_rate': 0.0008271826025460134, 'epoch': 4.0, 'step': 792}, {'eval_loss': 0.5606854557991028, 'eval_accuracy': 0.7297979797979798, 'eval_runtime': 4.6453, 'eval_samples_per_second': 85.247, 'eval_steps_per_second': 10.763, 'epoch': 4.0, 'step': 792}, {'loss': 0.4985, 'learning_rate': 0.0006893188354550112, 'epoch': 5.0, 'step': 990}, {'eval_loss': 0.6238520741462708, 'eval_accuracy': 0.7348484848484849, 'eval_runtime': 4.613, 'eval_samples_per_second': 85.844, 'eval_steps_per_second': 10.839, 'epoch': 5.0, 'step': 990}, {'train_runtime': 355.0308, 'train_samples_per_second': 44.616, 'train_steps_per_second': 5.577, 'total_flos': 1953615116629440.0, 'train_loss': 0.5406494834206321, 'epoch': 5.0, 'step': 990}, {'eval_loss': 0.5517554879188538, 'eval_accuracy': 0.7525252525252525, 'eval_runtime': 4.6093, 'eval_samples_per_second': 85.913, 'eval_steps_per_second': 10.848, 'epoch': 5.0, 'step': 990}]\n"
     ]
    },
    {
     "name": "stderr",
     "output_type": "stream",
     "text": [
      "/home/ubuntu/data/miniconda3/envs/finetune-dephos/lib/python3.9/site-packages/huggingface_hub/file_download.py:1132: FutureWarning: `resume_download` is deprecated and will be removed in version 1.0.0. Downloads always resume when possible. If you want to force a new download, use `force_download=True`.\n",
      "  warnings.warn(\n"
     ]
    },
    {
     "name": "stdout",
     "output_type": "stream",
     "text": [
      "ProtT5_Classfier\n",
      "Trainable Parameter: 1209193475.0\n",
      "ProtT5_DoRA_Classfier\n",
      "Trainable Parameter: 1200131.0\n",
      "\n"
     ]
    },
    {
     "name": "stderr",
     "output_type": "stream",
     "text": [
      "/home/ubuntu/data/miniconda3/envs/finetune-dephos/lib/python3.9/site-packages/accelerate/accelerator.py:446: FutureWarning: Passing the following arguments to `Accelerator` is deprecated and will be removed in version 1.0 of Accelerate: dict_keys(['dispatch_batches', 'split_batches']). Please pass an `accelerate.DataLoaderConfiguration` instead: \n",
      "dataloader_config = DataLoaderConfiguration(dispatch_batches=None, split_batches=False)\n",
      "  warnings.warn(\n"
     ]
    },
    {
     "data": {
      "text/html": [
       "\n",
       "    <div>\n",
       "      \n",
       "      <progress value='490' max='490' style='width:300px; height:20px; vertical-align: middle;'></progress>\n",
       "      [490/490 06:40, Epoch 9/10]\n",
       "    </div>\n",
       "    <table border=\"1\" class=\"dataframe\">\n",
       "  <thead>\n",
       " <tr style=\"text-align: left;\">\n",
       "      <th>Epoch</th>\n",
       "      <th>Training Loss</th>\n",
       "      <th>Validation Loss</th>\n",
       "      <th>Accuracy</th>\n",
       "    </tr>\n",
       "  </thead>\n",
       "  <tbody>\n",
       "    <tr>\n",
       "      <td>0</td>\n",
       "      <td>0.701400</td>\n",
       "      <td>0.691782</td>\n",
       "      <td>0.505051</td>\n",
       "    </tr>\n",
       "    <tr>\n",
       "      <td>2</td>\n",
       "      <td>0.675800</td>\n",
       "      <td>0.657584</td>\n",
       "      <td>0.661616</td>\n",
       "    </tr>\n",
       "    <tr>\n",
       "      <td>4</td>\n",
       "      <td>0.645200</td>\n",
       "      <td>0.632904</td>\n",
       "      <td>0.704545</td>\n",
       "    </tr>\n",
       "    <tr>\n",
       "      <td>6</td>\n",
       "      <td>0.627200</td>\n",
       "      <td>0.619506</td>\n",
       "      <td>0.729798</td>\n",
       "    </tr>\n",
       "    <tr>\n",
       "      <td>8</td>\n",
       "      <td>0.620100</td>\n",
       "      <td>0.613564</td>\n",
       "      <td>0.734848</td>\n",
       "    </tr>\n",
       "    <tr>\n",
       "      <td>9</td>\n",
       "      <td>0.602200</td>\n",
       "      <td>0.612965</td>\n",
       "      <td>0.734848</td>\n",
       "    </tr>\n",
       "  </tbody>\n",
       "</table><p>"
      ],
      "text/plain": [
       "<IPython.core.display.HTML object>"
      ]
     },
     "metadata": {},
     "output_type": "display_data"
    },
    {
     "name": "stdout",
     "output_type": "stream",
     "text": [
      "Saved improved model to ./model_output/finetuned_model_all_dora.pth\n",
      "Saved improved model to ./model_output/finetuned_model_all_dora.pth\n",
      "Saved improved model to ./model_output/finetuned_model_all_dora.pth\n",
      "Saved improved model to ./model_output/finetuned_model_all_dora.pth\n",
      "Saved improved model to ./model_output/finetuned_model_all_dora.pth\n",
      "Saved improved model to ./model_output/finetuned_model_all_dora.pth\n",
      "Saved improved model to ./model_output/finetuned_model_all_dora.pth\n",
      "Saved improved model to ./model_output/finetuned_model_all_dora.pth\n",
      "Saved improved model to ./model_output/finetuned_model_all_dora.pth\n",
      "Loaded best model from ./model_output/finetuned_model_all_dora.pth\n"
     ]
    },
    {
     "data": {
      "text/html": [
       "\n",
       "    <div>\n",
       "      \n",
       "      <progress value='50' max='50' style='width:300px; height:20px; vertical-align: middle;'></progress>\n",
       "      [50/50 00:04]\n",
       "    </div>\n",
       "    "
      ],
      "text/plain": [
       "<IPython.core.display.HTML object>"
      ]
     },
     "metadata": {},
     "output_type": "display_data"
    },
    {
     "name": "stdout",
     "output_type": "stream",
     "text": [
      "{'eval_loss': 0.613564133644104, 'eval_accuracy': 0.7348484848484849, 'eval_runtime': 4.6206, 'eval_samples_per_second': 85.703, 'eval_steps_per_second': 10.821, 'epoch': 9.9}\n"
     ]
    },
    {
     "name": "stderr",
     "output_type": "stream",
     "text": [
      "[I 2024-06-08 20:13:45,580] Trial 7 finished with values: [0.613564133644104, 0.7348484848484849] and parameters: {'lr': 1.3451419358895905e-05, 'batch': 8, 'accum': 4, 'dropout_rate': 0.4511012824511592, 'weight_decay': 4.2046880043101194e-05, 'warmup_pct': 0.06135030734682676, 'dora_rank': 28, 'dora_init_scale': 0.0037495867344657986}. \n"
     ]
    },
    {
     "name": "stdout",
     "output_type": "stream",
     "text": [
      "History:  [{'loss': 0.7014, 'learning_rate': 5.44726899657768e-06, 'epoch': 0.99, 'step': 49}, {'eval_loss': 0.6917821764945984, 'eval_accuracy': 0.5050505050505051, 'eval_runtime': 5.0976, 'eval_samples_per_second': 77.684, 'eval_steps_per_second': 9.809, 'epoch': 0.99, 'step': 49}, {'loss': 0.6792, 'learning_rate': 1.1005706748187558e-05, 'epoch': 2.0, 'step': 99}, {'eval_loss': 0.6762475967407227, 'eval_accuracy': 0.6161616161616161, 'eval_runtime': 4.6146, 'eval_samples_per_second': 85.814, 'eval_steps_per_second': 10.835, 'epoch': 2.0, 'step': 99}, {'loss': 0.6758, 'learning_rate': 1.2467169161903523e-05, 'epoch': 2.99, 'step': 148}, {'eval_loss': 0.6575843095779419, 'eval_accuracy': 0.6616161616161617, 'eval_runtime': 4.6181, 'eval_samples_per_second': 85.749, 'eval_steps_per_second': 10.827, 'epoch': 2.99, 'step': 148}, {'loss': 0.6444, 'learning_rate': 1.0644483611917626e-05, 'epoch': 4.0, 'step': 198}, {'eval_loss': 0.643255889415741, 'eval_accuracy': 0.696969696969697, 'eval_runtime': 4.6259, 'eval_samples_per_second': 85.605, 'eval_steps_per_second': 10.809, 'epoch': 4.0, 'step': 198}, {'loss': 0.6452, 'learning_rate': 8.85825177293145e-06, 'epoch': 4.99, 'step': 247}, {'eval_loss': 0.6329038143157959, 'eval_accuracy': 0.7045454545454546, 'eval_runtime': 4.6215, 'eval_samples_per_second': 85.687, 'eval_steps_per_second': 10.819, 'epoch': 4.99, 'step': 247}, {'loss': 0.6215, 'learning_rate': 7.035566222945554e-06, 'epoch': 6.0, 'step': 297}, {'eval_loss': 0.6248540282249451, 'eval_accuracy': 0.7171717171717171, 'eval_runtime': 4.6163, 'eval_samples_per_second': 85.783, 'eval_steps_per_second': 10.831, 'epoch': 6.0, 'step': 297}, {'loss': 0.6272, 'learning_rate': 5.249334383959378e-06, 'epoch': 6.99, 'step': 346}, {'eval_loss': 0.6195056438446045, 'eval_accuracy': 0.7297979797979798, 'eval_runtime': 4.6233, 'eval_samples_per_second': 85.653, 'eval_steps_per_second': 10.815, 'epoch': 6.99, 'step': 346}, {'loss': 0.6079, 'learning_rate': 3.4266488339734826e-06, 'epoch': 8.0, 'step': 396}, {'eval_loss': 0.6156100630760193, 'eval_accuracy': 0.7297979797979798, 'eval_runtime': 4.6178, 'eval_samples_per_second': 85.755, 'eval_steps_per_second': 10.828, 'epoch': 8.0, 'step': 396}, {'loss': 0.6201, 'learning_rate': 1.6404169949873054e-06, 'epoch': 8.99, 'step': 445}, {'eval_loss': 0.613564133644104, 'eval_accuracy': 0.7348484848484849, 'eval_runtime': 4.6194, 'eval_samples_per_second': 85.725, 'eval_steps_per_second': 10.824, 'epoch': 8.99, 'step': 445}, {'loss': 0.6022, 'learning_rate': 0.0, 'epoch': 9.9, 'step': 490}, {'eval_loss': 0.612964928150177, 'eval_accuracy': 0.7348484848484849, 'eval_runtime': 4.6172, 'eval_samples_per_second': 85.766, 'eval_steps_per_second': 10.829, 'epoch': 9.9, 'step': 490}, {'train_runtime': 400.9738, 'train_samples_per_second': 39.504, 'train_steps_per_second': 1.222, 'total_flos': 3867763261205760.0, 'train_loss': 0.6428009772787289, 'epoch': 9.9, 'step': 490}, {'eval_loss': 0.613564133644104, 'eval_accuracy': 0.7348484848484849, 'eval_runtime': 4.6206, 'eval_samples_per_second': 85.703, 'eval_steps_per_second': 10.821, 'epoch': 9.9, 'step': 490}]\n"
     ]
    },
    {
     "name": "stderr",
     "output_type": "stream",
     "text": [
      "/home/ubuntu/data/miniconda3/envs/finetune-dephos/lib/python3.9/site-packages/huggingface_hub/file_download.py:1132: FutureWarning: `resume_download` is deprecated and will be removed in version 1.0.0. Downloads always resume when possible. If you want to force a new download, use `force_download=True`.\n",
      "  warnings.warn(\n"
     ]
    },
    {
     "name": "stdout",
     "output_type": "stream",
     "text": [
      "ProtT5_Classfier\n",
      "Trainable Parameter: 1209193475.0\n",
      "ProtT5_DoRA_Classfier\n",
      "Trainable Parameter: 1200131.0\n",
      "\n"
     ]
    },
    {
     "name": "stderr",
     "output_type": "stream",
     "text": [
      "/home/ubuntu/data/miniconda3/envs/finetune-dephos/lib/python3.9/site-packages/accelerate/accelerator.py:446: FutureWarning: Passing the following arguments to `Accelerator` is deprecated and will be removed in version 1.0 of Accelerate: dict_keys(['dispatch_batches', 'split_batches']). Please pass an `accelerate.DataLoaderConfiguration` instead: \n",
      "dataloader_config = DataLoaderConfiguration(dispatch_batches=None, split_batches=False)\n",
      "  warnings.warn(\n"
     ]
    },
    {
     "data": {
      "text/html": [
       "\n",
       "    <div>\n",
       "      \n",
       "      <progress value='148' max='240' style='width:300px; height:20px; vertical-align: middle;'></progress>\n",
       "      [148/240 04:00 < 02:31, 0.61 it/s, Epoch 5/10]\n",
       "    </div>\n",
       "    <table border=\"1\" class=\"dataframe\">\n",
       "  <thead>\n",
       " <tr style=\"text-align: left;\">\n",
       "      <th>Epoch</th>\n",
       "      <th>Training Loss</th>\n",
       "      <th>Validation Loss</th>\n",
       "      <th>Accuracy</th>\n",
       "    </tr>\n",
       "  </thead>\n",
       "  <tbody>\n",
       "    <tr>\n",
       "      <td>0</td>\n",
       "      <td>0.689900</td>\n",
       "      <td>0.617753</td>\n",
       "      <td>0.727273</td>\n",
       "    </tr>\n",
       "    <tr>\n",
       "      <td>1</td>\n",
       "      <td>0.571200</td>\n",
       "      <td>0.546391</td>\n",
       "      <td>0.752525</td>\n",
       "    </tr>\n",
       "    <tr>\n",
       "      <td>2</td>\n",
       "      <td>0.512400</td>\n",
       "      <td>0.530344</td>\n",
       "      <td>0.747475</td>\n",
       "    </tr>\n",
       "    <tr>\n",
       "      <td>4</td>\n",
       "      <td>0.493300</td>\n",
       "      <td>0.569342</td>\n",
       "      <td>0.709596</td>\n",
       "    </tr>\n",
       "    <tr>\n",
       "      <td>5</td>\n",
       "      <td>0.476700</td>\n",
       "      <td>0.550642</td>\n",
       "      <td>0.734848</td>\n",
       "    </tr>\n",
       "  </tbody>\n",
       "</table><p>"
      ],
      "text/plain": [
       "<IPython.core.display.HTML object>"
      ]
     },
     "metadata": {},
     "output_type": "display_data"
    },
    {
     "name": "stdout",
     "output_type": "stream",
     "text": [
      "Saved improved model to ./model_output/finetuned_model_all_dora.pth\n",
      "Saved improved model to ./model_output/finetuned_model_all_dora.pth\n",
      "Saved improved model to ./model_output/finetuned_model_all_dora.pth\n",
      "Stopping early at epoch 5.97979797979798: No improvement in loss or accuracy for 3 evaluations.\n",
      "Loaded best model from ./model_output/finetuned_model_all_dora.pth\n"
     ]
    },
    {
     "data": {
      "text/html": [
       "\n",
       "    <div>\n",
       "      \n",
       "      <progress value='50' max='50' style='width:300px; height:20px; vertical-align: middle;'></progress>\n",
       "      [50/50 00:04]\n",
       "    </div>\n",
       "    "
      ],
      "text/plain": [
       "<IPython.core.display.HTML object>"
      ]
     },
     "metadata": {},
     "output_type": "display_data"
    },
    {
     "name": "stdout",
     "output_type": "stream",
     "text": [
      "Stopping early at epoch 5.97979797979798: No improvement in loss or accuracy for 3 evaluations.\n",
      "{'eval_loss': 0.5303444266319275, 'eval_accuracy': 0.7474747474747475, 'eval_runtime': 4.4526, 'eval_samples_per_second': 88.937, 'eval_steps_per_second': 11.229, 'epoch': 5.98}\n"
     ]
    },
    {
     "name": "stderr",
     "output_type": "stream",
     "text": [
      "[I 2024-06-08 20:19:25,319] Trial 8 finished with values: [0.5303444266319275, 0.7474747474747475] and parameters: {'lr': 0.003627268840109211, 'batch': 8, 'accum': 8, 'dropout_rate': 0.40903711391976894, 'weight_decay': 1.9408260813474534e-05, 'warmup_pct': 0.25874037846241715, 'dora_rank': 24, 'dora_init_scale': 0.0005137322550381958}. \n"
     ]
    },
    {
     "name": "stdout",
     "output_type": "stream",
     "text": [
      "History:  [{'loss': 0.6899, 'learning_rate': 0.00017002822688011926, 'epoch': 0.97, 'step': 24}, {'eval_loss': 0.6177532076835632, 'eval_accuracy': 0.7272727272727273, 'eval_runtime': 5.097, 'eval_samples_per_second': 77.692, 'eval_steps_per_second': 9.81, 'epoch': 0.97, 'step': 24}, {'loss': 0.5712, 'learning_rate': 0.00034714096321357684, 'epoch': 1.98, 'step': 49}, {'eval_loss': 0.5463910102844238, 'eval_accuracy': 0.7525252525252525, 'eval_runtime': 4.4504, 'eval_samples_per_second': 88.98, 'eval_steps_per_second': 11.235, 'epoch': 1.98, 'step': 49}, {'loss': 0.5124, 'learning_rate': 0.0005242536995470344, 'epoch': 2.99, 'step': 74}, {'eval_loss': 0.5303444266319275, 'eval_accuracy': 0.7474747474747475, 'eval_runtime': 4.4441, 'eval_samples_per_second': 89.106, 'eval_steps_per_second': 11.251, 'epoch': 2.99, 'step': 74}, {'loss': 0.5025, 'learning_rate': 0.0007013664358804919, 'epoch': 4.0, 'step': 99}, {'eval_loss': 0.5617257356643677, 'eval_accuracy': 0.7348484848484849, 'eval_runtime': 4.4486, 'eval_samples_per_second': 89.017, 'eval_steps_per_second': 11.24, 'epoch': 4.0, 'step': 99}, {'loss': 0.4933, 'learning_rate': 0.0008713946627606112, 'epoch': 4.97, 'step': 123}, {'eval_loss': 0.5693423748016357, 'eval_accuracy': 0.7095959595959596, 'eval_runtime': 4.4529, 'eval_samples_per_second': 88.931, 'eval_steps_per_second': 11.229, 'epoch': 4.97, 'step': 123}, {'loss': 0.4767, 'learning_rate': 0.0010485073990940687, 'epoch': 5.98, 'step': 148}, {'eval_loss': 0.5506421327590942, 'eval_accuracy': 0.7348484848484849, 'eval_runtime': 4.4414, 'eval_samples_per_second': 89.162, 'eval_steps_per_second': 11.258, 'epoch': 5.98, 'step': 148}, {'train_runtime': 241.5558, 'train_samples_per_second': 65.575, 'train_steps_per_second': 0.994, 'total_flos': 2344338139955328.0, 'train_loss': 0.5403269303811563, 'epoch': 5.98, 'step': 148}, {'eval_loss': 0.5303444266319275, 'eval_accuracy': 0.7474747474747475, 'eval_runtime': 4.4526, 'eval_samples_per_second': 88.937, 'eval_steps_per_second': 11.229, 'epoch': 5.98, 'step': 148}]\n"
     ]
    },
    {
     "name": "stderr",
     "output_type": "stream",
     "text": [
      "/home/ubuntu/data/miniconda3/envs/finetune-dephos/lib/python3.9/site-packages/huggingface_hub/file_download.py:1132: FutureWarning: `resume_download` is deprecated and will be removed in version 1.0.0. Downloads always resume when possible. If you want to force a new download, use `force_download=True`.\n",
      "  warnings.warn(\n"
     ]
    },
    {
     "name": "stdout",
     "output_type": "stream",
     "text": [
      "ProtT5_Classfier\n",
      "Trainable Parameter: 1209193475.0\n",
      "ProtT5_DoRA_Classfier\n",
      "Trainable Parameter: 1200131.0\n",
      "\n"
     ]
    },
    {
     "name": "stderr",
     "output_type": "stream",
     "text": [
      "/home/ubuntu/data/miniconda3/envs/finetune-dephos/lib/python3.9/site-packages/accelerate/accelerator.py:446: FutureWarning: Passing the following arguments to `Accelerator` is deprecated and will be removed in version 1.0 of Accelerate: dict_keys(['dispatch_batches', 'split_batches']). Please pass an `accelerate.DataLoaderConfiguration` instead: \n",
      "dataloader_config = DataLoaderConfiguration(dispatch_batches=None, split_batches=False)\n",
      "  warnings.warn(\n"
     ]
    },
    {
     "data": {
      "text/html": [
       "\n",
       "    <div>\n",
       "      \n",
       "      <progress value='1980' max='1980' style='width:300px; height:20px; vertical-align: middle;'></progress>\n",
       "      [1980/1980 08:20, Epoch 10/10]\n",
       "    </div>\n",
       "    <table border=\"1\" class=\"dataframe\">\n",
       "  <thead>\n",
       " <tr style=\"text-align: left;\">\n",
       "      <th>Epoch</th>\n",
       "      <th>Training Loss</th>\n",
       "      <th>Validation Loss</th>\n",
       "      <th>Accuracy</th>\n",
       "    </tr>\n",
       "  </thead>\n",
       "  <tbody>\n",
       "    <tr>\n",
       "      <td>1</td>\n",
       "      <td>0.697700</td>\n",
       "      <td>0.684837</td>\n",
       "      <td>0.560606</td>\n",
       "    </tr>\n",
       "    <tr>\n",
       "      <td>2</td>\n",
       "      <td>0.677700</td>\n",
       "      <td>0.657100</td>\n",
       "      <td>0.664141</td>\n",
       "    </tr>\n",
       "    <tr>\n",
       "      <td>3</td>\n",
       "      <td>0.646700</td>\n",
       "      <td>0.633920</td>\n",
       "      <td>0.704545</td>\n",
       "    </tr>\n",
       "    <tr>\n",
       "      <td>4</td>\n",
       "      <td>0.626200</td>\n",
       "      <td>0.617494</td>\n",
       "      <td>0.739899</td>\n",
       "    </tr>\n",
       "    <tr>\n",
       "      <td>5</td>\n",
       "      <td>0.606600</td>\n",
       "      <td>0.605424</td>\n",
       "      <td>0.747475</td>\n",
       "    </tr>\n",
       "    <tr>\n",
       "      <td>6</td>\n",
       "      <td>0.601500</td>\n",
       "      <td>0.596800</td>\n",
       "      <td>0.752525</td>\n",
       "    </tr>\n",
       "    <tr>\n",
       "      <td>7</td>\n",
       "      <td>0.592800</td>\n",
       "      <td>0.591238</td>\n",
       "      <td>0.767677</td>\n",
       "    </tr>\n",
       "    <tr>\n",
       "      <td>8</td>\n",
       "      <td>0.583300</td>\n",
       "      <td>0.587385</td>\n",
       "      <td>0.767677</td>\n",
       "    </tr>\n",
       "    <tr>\n",
       "      <td>9</td>\n",
       "      <td>0.586100</td>\n",
       "      <td>0.585338</td>\n",
       "      <td>0.767677</td>\n",
       "    </tr>\n",
       "    <tr>\n",
       "      <td>10</td>\n",
       "      <td>0.579600</td>\n",
       "      <td>0.584655</td>\n",
       "      <td>0.767677</td>\n",
       "    </tr>\n",
       "  </tbody>\n",
       "</table><p>"
      ],
      "text/plain": [
       "<IPython.core.display.HTML object>"
      ]
     },
     "metadata": {},
     "output_type": "display_data"
    },
    {
     "name": "stdout",
     "output_type": "stream",
     "text": [
      "Saved improved model to ./model_output/finetuned_model_all_dora.pth\n",
      "Saved improved model to ./model_output/finetuned_model_all_dora.pth\n",
      "Saved improved model to ./model_output/finetuned_model_all_dora.pth\n",
      "Saved improved model to ./model_output/finetuned_model_all_dora.pth\n",
      "Saved improved model to ./model_output/finetuned_model_all_dora.pth\n",
      "Saved improved model to ./model_output/finetuned_model_all_dora.pth\n",
      "Saved improved model to ./model_output/finetuned_model_all_dora.pth\n",
      "Saved improved model to ./model_output/finetuned_model_all_dora.pth\n",
      "Saved improved model to ./model_output/finetuned_model_all_dora.pth\n",
      "Loaded best model from ./model_output/finetuned_model_all_dora.pth\n"
     ]
    },
    {
     "data": {
      "text/html": [
       "\n",
       "    <div>\n",
       "      \n",
       "      <progress value='50' max='50' style='width:300px; height:20px; vertical-align: middle;'></progress>\n",
       "      [50/50 00:04]\n",
       "    </div>\n",
       "    "
      ],
      "text/plain": [
       "<IPython.core.display.HTML object>"
      ]
     },
     "metadata": {},
     "output_type": "display_data"
    },
    {
     "name": "stdout",
     "output_type": "stream",
     "text": [
      "{'eval_loss': 0.5853376388549805, 'eval_accuracy': 0.7676767676767676, 'eval_runtime': 4.9102, 'eval_samples_per_second': 80.648, 'eval_steps_per_second': 10.183, 'epoch': 10.0}\n"
     ]
    },
    {
     "name": "stderr",
     "output_type": "stream",
     "text": [
      "[I 2024-06-08 20:29:15,695] Trial 9 finished with values: [0.5853376388549805, 0.7676767676767676] and parameters: {'lr': 1.102250617221136e-05, 'batch': 4, 'accum': 2, 'dropout_rate': 0.47557273112039933, 'weight_decay': 0.00037548715224934603, 'warmup_pct': 0.0893830574505748, 'dora_rank': 12, 'dora_init_scale': 0.07754120525312494}. \n"
     ]
    },
    {
     "name": "stdout",
     "output_type": "stream",
     "text": [
      "History:  [{'loss': 0.6977, 'learning_rate': 6.182595530022237e-06, 'epoch': 1.0, 'step': 198}, {'eval_loss': 0.6848368048667908, 'eval_accuracy': 0.5606060606060606, 'eval_runtime': 5.0879, 'eval_samples_per_second': 77.832, 'eval_steps_per_second': 9.827, 'epoch': 1.0, 'step': 198}, {'loss': 0.6777, 'learning_rate': 1.0731192241415364e-05, 'epoch': 2.0, 'step': 396}, {'eval_loss': 0.657099723815918, 'eval_accuracy': 0.6641414141414141, 'eval_runtime': 4.6175, 'eval_samples_per_second': 85.76, 'eval_steps_per_second': 10.828, 'epoch': 2.0, 'step': 396}, {'loss': 0.6467, 'learning_rate': 9.389793211238443e-06, 'epoch': 3.0, 'step': 594}, {'eval_loss': 0.6339199542999268, 'eval_accuracy': 0.7045454545454546, 'eval_runtime': 4.6099, 'eval_samples_per_second': 85.903, 'eval_steps_per_second': 10.846, 'epoch': 3.0, 'step': 594}, {'loss': 0.6262, 'learning_rate': 8.048394181061523e-06, 'epoch': 4.0, 'step': 792}, {'eval_loss': 0.6174942255020142, 'eval_accuracy': 0.73989898989899, 'eval_runtime': 4.6124, 'eval_samples_per_second': 85.856, 'eval_steps_per_second': 10.84, 'epoch': 4.0, 'step': 792}, {'loss': 0.6066, 'learning_rate': 6.706995150884601e-06, 'epoch': 5.0, 'step': 990}, {'eval_loss': 0.6054243445396423, 'eval_accuracy': 0.7474747474747475, 'eval_runtime': 4.608, 'eval_samples_per_second': 85.937, 'eval_steps_per_second': 10.851, 'epoch': 5.0, 'step': 990}, {'loss': 0.6015, 'learning_rate': 5.365596120707682e-06, 'epoch': 6.0, 'step': 1188}, {'eval_loss': 0.5967999696731567, 'eval_accuracy': 0.7525252525252525, 'eval_runtime': 4.6069, 'eval_samples_per_second': 85.957, 'eval_steps_per_second': 10.853, 'epoch': 6.0, 'step': 1188}, {'loss': 0.5928, 'learning_rate': 4.024197090530762e-06, 'epoch': 7.0, 'step': 1386}, {'eval_loss': 0.5912378430366516, 'eval_accuracy': 0.7676767676767676, 'eval_runtime': 4.6118, 'eval_samples_per_second': 85.867, 'eval_steps_per_second': 10.842, 'epoch': 7.0, 'step': 1386}, {'loss': 0.5833, 'learning_rate': 2.682798060353841e-06, 'epoch': 8.0, 'step': 1584}, {'eval_loss': 0.5873852372169495, 'eval_accuracy': 0.7676767676767676, 'eval_runtime': 4.614, 'eval_samples_per_second': 85.826, 'eval_steps_per_second': 10.837, 'epoch': 8.0, 'step': 1584}, {'loss': 0.5861, 'learning_rate': 1.3413990301769205e-06, 'epoch': 9.0, 'step': 1782}, {'eval_loss': 0.5853376388549805, 'eval_accuracy': 0.7676767676767676, 'eval_runtime': 4.6151, 'eval_samples_per_second': 85.805, 'eval_steps_per_second': 10.834, 'epoch': 9.0, 'step': 1782}, {'loss': 0.5796, 'learning_rate': 0.0, 'epoch': 10.0, 'step': 1980}, {'eval_loss': 0.5846554636955261, 'eval_accuracy': 0.7676767676767676, 'eval_runtime': 4.6421, 'eval_samples_per_second': 85.306, 'eval_steps_per_second': 10.771, 'epoch': 10.0, 'step': 1980}, {'train_runtime': 501.1878, 'train_samples_per_second': 31.605, 'train_steps_per_second': 3.951, 'total_flos': 3907230233258880.0, 'train_loss': 0.6198087326203934, 'epoch': 10.0, 'step': 1980}, {'eval_loss': 0.5853376388549805, 'eval_accuracy': 0.7676767676767676, 'eval_runtime': 4.9102, 'eval_samples_per_second': 80.648, 'eval_steps_per_second': 10.183, 'epoch': 10.0, 'step': 1980}]\n"
     ]
    },
    {
     "name": "stderr",
     "output_type": "stream",
     "text": [
      "/home/ubuntu/data/miniconda3/envs/finetune-dephos/lib/python3.9/site-packages/huggingface_hub/file_download.py:1132: FutureWarning: `resume_download` is deprecated and will be removed in version 1.0.0. Downloads always resume when possible. If you want to force a new download, use `force_download=True`.\n",
      "  warnings.warn(\n"
     ]
    },
    {
     "name": "stdout",
     "output_type": "stream",
     "text": [
      "ProtT5_Classfier\n",
      "Trainable Parameter: 1209193475.0\n",
      "ProtT5_DoRA_Classfier\n",
      "Trainable Parameter: 1200131.0\n",
      "\n"
     ]
    },
    {
     "name": "stderr",
     "output_type": "stream",
     "text": [
      "/home/ubuntu/data/miniconda3/envs/finetune-dephos/lib/python3.9/site-packages/accelerate/accelerator.py:446: FutureWarning: Passing the following arguments to `Accelerator` is deprecated and will be removed in version 1.0 of Accelerate: dict_keys(['dispatch_batches', 'split_batches']). Please pass an `accelerate.DataLoaderConfiguration` instead: \n",
      "dataloader_config = DataLoaderConfiguration(dispatch_batches=None, split_batches=False)\n",
      "  warnings.warn(\n"
     ]
    },
    {
     "data": {
      "text/html": [
       "\n",
       "    <div>\n",
       "      \n",
       "      <progress value='1584' max='1980' style='width:300px; height:20px; vertical-align: middle;'></progress>\n",
       "      [1584/1980 15:18 < 03:49, 1.72 it/s, Epoch 8/10]\n",
       "    </div>\n",
       "    <table border=\"1\" class=\"dataframe\">\n",
       "  <thead>\n",
       " <tr style=\"text-align: left;\">\n",
       "      <th>Epoch</th>\n",
       "      <th>Training Loss</th>\n",
       "      <th>Validation Loss</th>\n",
       "      <th>Accuracy</th>\n",
       "    </tr>\n",
       "  </thead>\n",
       "  <tbody>\n",
       "    <tr>\n",
       "      <td>1</td>\n",
       "      <td>0.683000</td>\n",
       "      <td>0.661942</td>\n",
       "      <td>0.656566</td>\n",
       "    </tr>\n",
       "    <tr>\n",
       "      <td>2</td>\n",
       "      <td>0.631500</td>\n",
       "      <td>0.602638</td>\n",
       "      <td>0.739899</td>\n",
       "    </tr>\n",
       "    <tr>\n",
       "      <td>3</td>\n",
       "      <td>0.571700</td>\n",
       "      <td>0.557014</td>\n",
       "      <td>0.747475</td>\n",
       "    </tr>\n",
       "    <tr>\n",
       "      <td>4</td>\n",
       "      <td>0.532100</td>\n",
       "      <td>0.533184</td>\n",
       "      <td>0.767677</td>\n",
       "    </tr>\n",
       "    <tr>\n",
       "      <td>5</td>\n",
       "      <td>0.509800</td>\n",
       "      <td>0.522034</td>\n",
       "      <td>0.767677</td>\n",
       "    </tr>\n",
       "    <tr>\n",
       "      <td>6</td>\n",
       "      <td>0.480100</td>\n",
       "      <td>0.528687</td>\n",
       "      <td>0.750000</td>\n",
       "    </tr>\n",
       "    <tr>\n",
       "      <td>7</td>\n",
       "      <td>0.468800</td>\n",
       "      <td>0.528099</td>\n",
       "      <td>0.737374</td>\n",
       "    </tr>\n",
       "    <tr>\n",
       "      <td>8</td>\n",
       "      <td>0.450000</td>\n",
       "      <td>0.532441</td>\n",
       "      <td>0.739899</td>\n",
       "    </tr>\n",
       "  </tbody>\n",
       "</table><p>"
      ],
      "text/plain": [
       "<IPython.core.display.HTML object>"
      ]
     },
     "metadata": {},
     "output_type": "display_data"
    },
    {
     "name": "stdout",
     "output_type": "stream",
     "text": [
      "Saved improved model to ./model_output/finetuned_model_all_dora.pth\n",
      "Saved improved model to ./model_output/finetuned_model_all_dora.pth\n",
      "Saved improved model to ./model_output/finetuned_model_all_dora.pth\n",
      "Saved improved model to ./model_output/finetuned_model_all_dora.pth\n",
      "Saved improved model to ./model_output/finetuned_model_all_dora.pth\n",
      "Stopping early at epoch 8.0: No improvement in loss or accuracy for 3 evaluations.\n",
      "Loaded best model from ./model_output/finetuned_model_all_dora.pth\n"
     ]
    },
    {
     "data": {
      "text/html": [
       "\n",
       "    <div>\n",
       "      \n",
       "      <progress value='50' max='50' style='width:300px; height:20px; vertical-align: middle;'></progress>\n",
       "      [50/50 00:04]\n",
       "    </div>\n",
       "    "
      ],
      "text/plain": [
       "<IPython.core.display.HTML object>"
      ]
     },
     "metadata": {},
     "output_type": "display_data"
    },
    {
     "name": "stdout",
     "output_type": "stream",
     "text": [
      "Stopping early at epoch 8.0: No improvement in loss or accuracy for 3 evaluations.\n",
      "{'eval_loss': 0.5220340490341187, 'eval_accuracy': 0.7676767676767676, 'eval_runtime': 4.65, 'eval_samples_per_second': 85.161, 'eval_steps_per_second': 10.753, 'epoch': 8.0}\n"
     ]
    },
    {
     "name": "stderr",
     "output_type": "stream",
     "text": [
      "[I 2024-06-08 20:46:02,350] Trial 10 finished with values: [0.5220340490341187, 0.7676767676767676] and parameters: {'lr': 8.148818481742444e-05, 'batch': 1, 'accum': 8, 'dropout_rate': 0.1740288276729447, 'weight_decay': 0.0006984160773141537, 'warmup_pct': 0.0795588664717225, 'dora_rank': 24, 'dora_init_scale': 0.06687281697303331}. \n"
     ]
    },
    {
     "name": "stdout",
     "output_type": "stream",
     "text": [
      "History:  [{'loss': 0.683, 'learning_rate': 1.2805286185595269e-05, 'epoch': 1.0, 'step': 198}, {'eval_loss': 0.6619423031806946, 'eval_accuracy': 0.6565656565656566, 'eval_runtime': 5.0948, 'eval_samples_per_second': 77.727, 'eval_steps_per_second': 9.814, 'epoch': 1.0, 'step': 198}, {'loss': 0.6315, 'learning_rate': 2.5610572371190537e-05, 'epoch': 2.0, 'step': 396}, {'eval_loss': 0.6026378870010376, 'eval_accuracy': 0.73989898989899, 'eval_runtime': 4.6218, 'eval_samples_per_second': 85.681, 'eval_steps_per_second': 10.818, 'epoch': 2.0, 'step': 396}, {'loss': 0.5717, 'learning_rate': 3.841585855678581e-05, 'epoch': 3.0, 'step': 594}, {'eval_loss': 0.5570144653320312, 'eval_accuracy': 0.7474747474747475, 'eval_runtime': 4.6251, 'eval_samples_per_second': 85.62, 'eval_steps_per_second': 10.811, 'epoch': 3.0, 'step': 594}, {'loss': 0.5321, 'learning_rate': 5.1221144742381075e-05, 'epoch': 4.0, 'step': 792}, {'eval_loss': 0.5331839919090271, 'eval_accuracy': 0.7676767676767676, 'eval_runtime': 4.6548, 'eval_samples_per_second': 85.074, 'eval_steps_per_second': 10.742, 'epoch': 4.0, 'step': 792}, {'loss': 0.5098, 'learning_rate': 6.402643092797634e-05, 'epoch': 5.0, 'step': 990}, {'eval_loss': 0.5220340490341187, 'eval_accuracy': 0.7676767676767676, 'eval_runtime': 4.6122, 'eval_samples_per_second': 85.859, 'eval_steps_per_second': 10.841, 'epoch': 5.0, 'step': 990}, {'loss': 0.4801, 'learning_rate': 7.683171711357162e-05, 'epoch': 6.0, 'step': 1188}, {'eval_loss': 0.528687059879303, 'eval_accuracy': 0.75, 'eval_runtime': 4.6214, 'eval_samples_per_second': 85.689, 'eval_steps_per_second': 10.819, 'epoch': 6.0, 'step': 1188}, {'loss': 0.4688, 'learning_rate': 6.722775247437517e-05, 'epoch': 7.0, 'step': 1386}, {'eval_loss': 0.5280988216400146, 'eval_accuracy': 0.7373737373737373, 'eval_runtime': 4.6219, 'eval_samples_per_second': 85.679, 'eval_steps_per_second': 10.818, 'epoch': 7.0, 'step': 1386}, {'loss': 0.45, 'learning_rate': 4.481850164958345e-05, 'epoch': 8.0, 'step': 1584}, {'eval_loss': 0.5324414372444153, 'eval_accuracy': 0.73989898989899, 'eval_runtime': 4.6831, 'eval_samples_per_second': 84.56, 'eval_steps_per_second': 10.677, 'epoch': 8.0, 'step': 1584}, {'train_runtime': 919.2544, 'train_samples_per_second': 17.231, 'train_steps_per_second': 2.154, 'total_flos': 3125784186607104.0, 'train_loss': 0.540890674398403, 'epoch': 8.0, 'step': 1584}, {'eval_loss': 0.5220340490341187, 'eval_accuracy': 0.7676767676767676, 'eval_runtime': 4.65, 'eval_samples_per_second': 85.161, 'eval_steps_per_second': 10.753, 'epoch': 8.0, 'step': 1584}]\n"
     ]
    },
    {
     "name": "stderr",
     "output_type": "stream",
     "text": [
      "/home/ubuntu/data/miniconda3/envs/finetune-dephos/lib/python3.9/site-packages/huggingface_hub/file_download.py:1132: FutureWarning: `resume_download` is deprecated and will be removed in version 1.0.0. Downloads always resume when possible. If you want to force a new download, use `force_download=True`.\n",
      "  warnings.warn(\n"
     ]
    },
    {
     "name": "stdout",
     "output_type": "stream",
     "text": [
      "ProtT5_Classfier\n",
      "Trainable Parameter: 1209193475.0\n",
      "ProtT5_DoRA_Classfier\n",
      "Trainable Parameter: 1200131.0\n",
      "\n"
     ]
    },
    {
     "name": "stderr",
     "output_type": "stream",
     "text": [
      "/home/ubuntu/data/miniconda3/envs/finetune-dephos/lib/python3.9/site-packages/accelerate/accelerator.py:446: FutureWarning: Passing the following arguments to `Accelerator` is deprecated and will be removed in version 1.0 of Accelerate: dict_keys(['dispatch_batches', 'split_batches']). Please pass an `accelerate.DataLoaderConfiguration` instead: \n",
      "dataloader_config = DataLoaderConfiguration(dispatch_batches=None, split_batches=False)\n",
      "  warnings.warn(\n"
     ]
    },
    {
     "data": {
      "text/html": [
       "\n",
       "    <div>\n",
       "      \n",
       "      <progress value='990' max='990' style='width:300px; height:20px; vertical-align: middle;'></progress>\n",
       "      [990/990 06:47, Epoch 10/10]\n",
       "    </div>\n",
       "    <table border=\"1\" class=\"dataframe\">\n",
       "  <thead>\n",
       " <tr style=\"text-align: left;\">\n",
       "      <th>Epoch</th>\n",
       "      <th>Training Loss</th>\n",
       "      <th>Validation Loss</th>\n",
       "      <th>Accuracy</th>\n",
       "    </tr>\n",
       "  </thead>\n",
       "  <tbody>\n",
       "    <tr>\n",
       "      <td>1</td>\n",
       "      <td>0.717100</td>\n",
       "      <td>0.689523</td>\n",
       "      <td>0.520202</td>\n",
       "    </tr>\n",
       "    <tr>\n",
       "      <td>2</td>\n",
       "      <td>0.710300</td>\n",
       "      <td>0.669332</td>\n",
       "      <td>0.641414</td>\n",
       "    </tr>\n",
       "    <tr>\n",
       "      <td>3</td>\n",
       "      <td>0.692000</td>\n",
       "      <td>0.644012</td>\n",
       "      <td>0.681818</td>\n",
       "    </tr>\n",
       "    <tr>\n",
       "      <td>4</td>\n",
       "      <td>0.671900</td>\n",
       "      <td>0.623540</td>\n",
       "      <td>0.709596</td>\n",
       "    </tr>\n",
       "    <tr>\n",
       "      <td>5</td>\n",
       "      <td>0.640200</td>\n",
       "      <td>0.609367</td>\n",
       "      <td>0.724747</td>\n",
       "    </tr>\n",
       "    <tr>\n",
       "      <td>6</td>\n",
       "      <td>0.641700</td>\n",
       "      <td>0.600399</td>\n",
       "      <td>0.739899</td>\n",
       "    </tr>\n",
       "    <tr>\n",
       "      <td>7</td>\n",
       "      <td>0.629900</td>\n",
       "      <td>0.594013</td>\n",
       "      <td>0.750000</td>\n",
       "    </tr>\n",
       "    <tr>\n",
       "      <td>8</td>\n",
       "      <td>0.613900</td>\n",
       "      <td>0.589577</td>\n",
       "      <td>0.752525</td>\n",
       "    </tr>\n",
       "    <tr>\n",
       "      <td>9</td>\n",
       "      <td>0.617500</td>\n",
       "      <td>0.587100</td>\n",
       "      <td>0.750000</td>\n",
       "    </tr>\n",
       "    <tr>\n",
       "      <td>10</td>\n",
       "      <td>0.617700</td>\n",
       "      <td>0.586433</td>\n",
       "      <td>0.750000</td>\n",
       "    </tr>\n",
       "  </tbody>\n",
       "</table><p>"
      ],
      "text/plain": [
       "<IPython.core.display.HTML object>"
      ]
     },
     "metadata": {},
     "output_type": "display_data"
    },
    {
     "name": "stdout",
     "output_type": "stream",
     "text": [
      "Saved improved model to ./model_output/finetuned_model_all_dora.pth\n",
      "Saved improved model to ./model_output/finetuned_model_all_dora.pth\n",
      "Saved improved model to ./model_output/finetuned_model_all_dora.pth\n",
      "Saved improved model to ./model_output/finetuned_model_all_dora.pth\n",
      "Saved improved model to ./model_output/finetuned_model_all_dora.pth\n",
      "Saved improved model to ./model_output/finetuned_model_all_dora.pth\n",
      "Saved improved model to ./model_output/finetuned_model_all_dora.pth\n",
      "Saved improved model to ./model_output/finetuned_model_all_dora.pth\n",
      "Saved improved model to ./model_output/finetuned_model_all_dora.pth\n",
      "Loaded best model from ./model_output/finetuned_model_all_dora.pth\n"
     ]
    },
    {
     "data": {
      "text/html": [
       "\n",
       "    <div>\n",
       "      \n",
       "      <progress value='50' max='50' style='width:300px; height:20px; vertical-align: middle;'></progress>\n",
       "      [50/50 00:04]\n",
       "    </div>\n",
       "    "
      ],
      "text/plain": [
       "<IPython.core.display.HTML object>"
      ]
     },
     "metadata": {},
     "output_type": "display_data"
    },
    {
     "name": "stdout",
     "output_type": "stream",
     "text": [
      "{'eval_loss': 0.5871001482009888, 'eval_accuracy': 0.75, 'eval_runtime': 4.7734, 'eval_samples_per_second': 82.959, 'eval_steps_per_second': 10.475, 'epoch': 10.0}\n"
     ]
    },
    {
     "name": "stderr",
     "output_type": "stream",
     "text": [
      "[I 2024-06-08 20:54:31,347] Trial 11 finished with values: [0.5871001482009888, 0.75] and parameters: {'lr': 5.094983872743364e-05, 'batch': 8, 'accum': 2, 'dropout_rate': 0.8258618479708277, 'weight_decay': 0.00034172734439876716, 'warmup_pct': 0.15105319774655365, 'dora_rank': 28, 'dora_init_scale': 0.03348976824164507}. \n"
     ]
    },
    {
     "name": "stdout",
     "output_type": "stream",
     "text": [
      "History:  [{'loss': 0.7171, 'learning_rate': 1.686967904353154e-05, 'epoch': 1.0, 'step': 99}, {'eval_loss': 0.6895232796669006, 'eval_accuracy': 0.5202020202020202, 'eval_runtime': 5.1124, 'eval_samples_per_second': 77.459, 'eval_steps_per_second': 9.78, 'epoch': 1.0, 'step': 99}, {'loss': 0.7103, 'learning_rate': 3.373935808706308e-05, 'epoch': 2.0, 'step': 198}, {'eval_loss': 0.6693320274353027, 'eval_accuracy': 0.6414141414141414, 'eval_runtime': 4.4551, 'eval_samples_per_second': 88.887, 'eval_steps_per_second': 11.223, 'epoch': 2.0, 'step': 198}, {'loss': 0.692, 'learning_rate': 5.0609037130594616e-05, 'epoch': 3.0, 'step': 297}, {'eval_loss': 0.6440116167068481, 'eval_accuracy': 0.6818181818181818, 'eval_runtime': 4.4475, 'eval_samples_per_second': 89.039, 'eval_steps_per_second': 11.242, 'epoch': 3.0, 'step': 297}, {'loss': 0.6719, 'learning_rate': 4.379769059927002e-05, 'epoch': 4.0, 'step': 396}, {'eval_loss': 0.6235395669937134, 'eval_accuracy': 0.7095959595959596, 'eval_runtime': 4.4551, 'eval_samples_per_second': 88.888, 'eval_steps_per_second': 11.223, 'epoch': 4.0, 'step': 396}, {'loss': 0.6402, 'learning_rate': 3.649807549939168e-05, 'epoch': 5.0, 'step': 495}, {'eval_loss': 0.6093668341636658, 'eval_accuracy': 0.7247474747474747, 'eval_runtime': 4.4519, 'eval_samples_per_second': 88.951, 'eval_steps_per_second': 11.231, 'epoch': 5.0, 'step': 495}, {'loss': 0.6417, 'learning_rate': 2.9198460399513344e-05, 'epoch': 6.0, 'step': 594}, {'eval_loss': 0.6003990769386292, 'eval_accuracy': 0.73989898989899, 'eval_runtime': 4.442, 'eval_samples_per_second': 89.149, 'eval_steps_per_second': 11.256, 'epoch': 6.0, 'step': 594}, {'loss': 0.6299, 'learning_rate': 2.189884529963501e-05, 'epoch': 7.0, 'step': 693}, {'eval_loss': 0.5940133929252625, 'eval_accuracy': 0.75, 'eval_runtime': 4.4466, 'eval_samples_per_second': 89.057, 'eval_steps_per_second': 11.245, 'epoch': 7.0, 'step': 693}, {'loss': 0.6139, 'learning_rate': 1.4599230199756672e-05, 'epoch': 8.0, 'step': 792}, {'eval_loss': 0.5895770788192749, 'eval_accuracy': 0.7525252525252525, 'eval_runtime': 4.4442, 'eval_samples_per_second': 89.106, 'eval_steps_per_second': 11.251, 'epoch': 8.0, 'step': 792}, {'loss': 0.6175, 'learning_rate': 7.299615099878336e-06, 'epoch': 9.0, 'step': 891}, {'eval_loss': 0.5871001482009888, 'eval_accuracy': 0.75, 'eval_runtime': 4.455, 'eval_samples_per_second': 88.889, 'eval_steps_per_second': 11.223, 'epoch': 9.0, 'step': 891}, {'loss': 0.6177, 'learning_rate': 0.0, 'epoch': 10.0, 'step': 990}, {'eval_loss': 0.5864326357841492, 'eval_accuracy': 0.75, 'eval_runtime': 4.4511, 'eval_samples_per_second': 88.966, 'eval_steps_per_second': 11.233, 'epoch': 10.0, 'step': 990}, {'train_runtime': 407.7145, 'train_samples_per_second': 38.851, 'train_steps_per_second': 2.428, 'total_flos': 3907230233258880.0, 'train_loss': 0.6552211106425584, 'epoch': 10.0, 'step': 990}, {'eval_loss': 0.5871001482009888, 'eval_accuracy': 0.75, 'eval_runtime': 4.7734, 'eval_samples_per_second': 82.959, 'eval_steps_per_second': 10.475, 'epoch': 10.0, 'step': 990}]\n"
     ]
    },
    {
     "name": "stderr",
     "output_type": "stream",
     "text": [
      "/home/ubuntu/data/miniconda3/envs/finetune-dephos/lib/python3.9/site-packages/huggingface_hub/file_download.py:1132: FutureWarning: `resume_download` is deprecated and will be removed in version 1.0.0. Downloads always resume when possible. If you want to force a new download, use `force_download=True`.\n",
      "  warnings.warn(\n"
     ]
    },
    {
     "name": "stdout",
     "output_type": "stream",
     "text": [
      "ProtT5_Classfier\n",
      "Trainable Parameter: 1209193475.0\n",
      "ProtT5_DoRA_Classfier\n",
      "Trainable Parameter: 1200131.0\n",
      "\n"
     ]
    },
    {
     "name": "stderr",
     "output_type": "stream",
     "text": [
      "/home/ubuntu/data/miniconda3/envs/finetune-dephos/lib/python3.9/site-packages/accelerate/accelerator.py:446: FutureWarning: Passing the following arguments to `Accelerator` is deprecated and will be removed in version 1.0 of Accelerate: dict_keys(['dispatch_batches', 'split_batches']). Please pass an `accelerate.DataLoaderConfiguration` instead: \n",
      "dataloader_config = DataLoaderConfiguration(dispatch_batches=None, split_batches=False)\n",
      "  warnings.warn(\n"
     ]
    },
    {
     "data": {
      "text/html": [
       "\n",
       "    <div>\n",
       "      \n",
       "      <progress value='490' max='490' style='width:300px; height:20px; vertical-align: middle;'></progress>\n",
       "      [490/490 08:06, Epoch 9/10]\n",
       "    </div>\n",
       "    <table border=\"1\" class=\"dataframe\">\n",
       "  <thead>\n",
       " <tr style=\"text-align: left;\">\n",
       "      <th>Epoch</th>\n",
       "      <th>Training Loss</th>\n",
       "      <th>Validation Loss</th>\n",
       "      <th>Accuracy</th>\n",
       "    </tr>\n",
       "  </thead>\n",
       "  <tbody>\n",
       "    <tr>\n",
       "      <td>0</td>\n",
       "      <td>0.720600</td>\n",
       "      <td>0.688518</td>\n",
       "      <td>0.505051</td>\n",
       "    </tr>\n",
       "    <tr>\n",
       "      <td>2</td>\n",
       "      <td>0.675400</td>\n",
       "      <td>0.641564</td>\n",
       "      <td>0.694444</td>\n",
       "    </tr>\n",
       "    <tr>\n",
       "      <td>4</td>\n",
       "      <td>0.612300</td>\n",
       "      <td>0.590905</td>\n",
       "      <td>0.739899</td>\n",
       "    </tr>\n",
       "    <tr>\n",
       "      <td>6</td>\n",
       "      <td>0.578100</td>\n",
       "      <td>0.553158</td>\n",
       "      <td>0.755051</td>\n",
       "    </tr>\n",
       "    <tr>\n",
       "      <td>8</td>\n",
       "      <td>0.562900</td>\n",
       "      <td>0.535706</td>\n",
       "      <td>0.772727</td>\n",
       "    </tr>\n",
       "    <tr>\n",
       "      <td>9</td>\n",
       "      <td>0.537000</td>\n",
       "      <td>0.530283</td>\n",
       "      <td>0.767677</td>\n",
       "    </tr>\n",
       "  </tbody>\n",
       "</table><p>"
      ],
      "text/plain": [
       "<IPython.core.display.HTML object>"
      ]
     },
     "metadata": {},
     "output_type": "display_data"
    },
    {
     "name": "stdout",
     "output_type": "stream",
     "text": [
      "Saved improved model to ./model_output/finetuned_model_all_dora.pth\n",
      "Saved improved model to ./model_output/finetuned_model_all_dora.pth\n",
      "Saved improved model to ./model_output/finetuned_model_all_dora.pth\n",
      "Saved improved model to ./model_output/finetuned_model_all_dora.pth\n",
      "Saved improved model to ./model_output/finetuned_model_all_dora.pth\n",
      "Saved improved model to ./model_output/finetuned_model_all_dora.pth\n",
      "Saved improved model to ./model_output/finetuned_model_all_dora.pth\n",
      "Saved improved model to ./model_output/finetuned_model_all_dora.pth\n",
      "Saved improved model to ./model_output/finetuned_model_all_dora.pth\n",
      "Saved improved model to ./model_output/finetuned_model_all_dora.pth\n",
      "Loaded best model from ./model_output/finetuned_model_all_dora.pth\n"
     ]
    },
    {
     "data": {
      "text/html": [
       "\n",
       "    <div>\n",
       "      \n",
       "      <progress value='50' max='50' style='width:300px; height:20px; vertical-align: middle;'></progress>\n",
       "      [50/50 00:04]\n",
       "    </div>\n",
       "    "
      ],
      "text/plain": [
       "<IPython.core.display.HTML object>"
      ]
     },
     "metadata": {},
     "output_type": "display_data"
    },
    {
     "name": "stdout",
     "output_type": "stream",
     "text": [
      "{'eval_loss': 0.5302826762199402, 'eval_accuracy': 0.7676767676767676, 'eval_runtime': 4.664, 'eval_samples_per_second': 84.906, 'eval_steps_per_second': 10.72, 'epoch': 9.9}\n"
     ]
    },
    {
     "name": "stderr",
     "output_type": "stream",
     "text": [
      "[I 2024-06-08 21:04:04,423] Trial 12 finished with values: [0.5302826762199402, 0.7676767676767676] and parameters: {'lr': 0.0003711797472474912, 'batch': 4, 'accum': 8, 'dropout_rate': 0.728410455402042, 'weight_decay': 8.269509058546658e-05, 'warmup_pct': 0.27550070783301595, 'dora_rank': 20, 'dora_init_scale': 0.000199160718467518}. \n"
     ]
    },
    {
     "name": "stdout",
     "output_type": "stream",
     "text": [
      "History:  [{'loss': 0.7206, 'learning_rate': 1.668606203222667e-05, 'epoch': 0.99, 'step': 49}, {'eval_loss': 0.6885175108909607, 'eval_accuracy': 0.5050505050505051, 'eval_runtime': 5.1486, 'eval_samples_per_second': 76.915, 'eval_steps_per_second': 9.711, 'epoch': 0.99, 'step': 49}, {'loss': 0.6893, 'learning_rate': 3.371265594266205e-05, 'epoch': 2.0, 'step': 99}, {'eval_loss': 0.6672664880752563, 'eval_accuracy': 0.6414141414141414, 'eval_runtime': 4.6236, 'eval_samples_per_second': 85.648, 'eval_steps_per_second': 10.814, 'epoch': 2.0, 'step': 99}, {'loss': 0.6754, 'learning_rate': 5.039871797488872e-05, 'epoch': 2.99, 'step': 148}, {'eval_loss': 0.6415643692016602, 'eval_accuracy': 0.6944444444444444, 'eval_runtime': 4.61, 'eval_samples_per_second': 85.9, 'eval_steps_per_second': 10.846, 'epoch': 2.99, 'step': 148}, {'loss': 0.6397, 'learning_rate': 6.74253118853241e-05, 'epoch': 4.0, 'step': 198}, {'eval_loss': 0.6148297190666199, 'eval_accuracy': 0.7196969696969697, 'eval_runtime': 4.6153, 'eval_samples_per_second': 85.802, 'eval_steps_per_second': 10.834, 'epoch': 4.0, 'step': 198}, {'loss': 0.6123, 'learning_rate': 8.411137391755077e-05, 'epoch': 4.99, 'step': 247}, {'eval_loss': 0.5909051895141602, 'eval_accuracy': 0.73989898989899, 'eval_runtime': 4.6096, 'eval_samples_per_second': 85.907, 'eval_steps_per_second': 10.847, 'epoch': 4.99, 'step': 247}, {'loss': 0.5908, 'learning_rate': 0.00010113796782798613, 'epoch': 6.0, 'step': 297}, {'eval_loss': 0.5686858296394348, 'eval_accuracy': 0.75, 'eval_runtime': 4.6075, 'eval_samples_per_second': 85.947, 'eval_steps_per_second': 10.852, 'epoch': 6.0, 'step': 297}, {'loss': 0.5781, 'learning_rate': 0.00011782402986021282, 'epoch': 6.99, 'step': 346}, {'eval_loss': 0.5531582832336426, 'eval_accuracy': 0.7550505050505051, 'eval_runtime': 4.6082, 'eval_samples_per_second': 85.933, 'eval_steps_per_second': 10.85, 'epoch': 6.99, 'step': 346}, {'loss': 0.5608, 'learning_rate': 0.0001348506237706482, 'epoch': 8.0, 'step': 396}, {'eval_loss': 0.5464190244674683, 'eval_accuracy': 0.7550505050505051, 'eval_runtime': 4.6043, 'eval_samples_per_second': 86.007, 'eval_steps_per_second': 10.859, 'epoch': 8.0, 'step': 396}, {'loss': 0.5629, 'learning_rate': 0.00015153668580287485, 'epoch': 8.99, 'step': 445}, {'eval_loss': 0.5357056260108948, 'eval_accuracy': 0.7727272727272727, 'eval_runtime': 4.6475, 'eval_samples_per_second': 85.207, 'eval_steps_per_second': 10.758, 'epoch': 8.99, 'step': 445}, {'loss': 0.537, 'learning_rate': 0.0001668606203222667, 'epoch': 9.9, 'step': 490}, {'eval_loss': 0.5302826762199402, 'eval_accuracy': 0.7676767676767676, 'eval_runtime': 4.6498, 'eval_samples_per_second': 85.164, 'eval_steps_per_second': 10.753, 'epoch': 9.9, 'step': 490}, {'train_runtime': 487.2683, 'train_samples_per_second': 32.508, 'train_steps_per_second': 1.006, 'total_flos': 3867763261205760.0, 'train_loss': 0.6173755451124542, 'epoch': 9.9, 'step': 490}, {'eval_loss': 0.5302826762199402, 'eval_accuracy': 0.7676767676767676, 'eval_runtime': 4.664, 'eval_samples_per_second': 84.906, 'eval_steps_per_second': 10.72, 'epoch': 9.9, 'step': 490}]\n"
     ]
    },
    {
     "name": "stderr",
     "output_type": "stream",
     "text": [
      "/home/ubuntu/data/miniconda3/envs/finetune-dephos/lib/python3.9/site-packages/huggingface_hub/file_download.py:1132: FutureWarning: `resume_download` is deprecated and will be removed in version 1.0.0. Downloads always resume when possible. If you want to force a new download, use `force_download=True`.\n",
      "  warnings.warn(\n"
     ]
    },
    {
     "name": "stdout",
     "output_type": "stream",
     "text": [
      "ProtT5_Classfier\n",
      "Trainable Parameter: 1209193475.0\n",
      "ProtT5_DoRA_Classfier\n",
      "Trainable Parameter: 1200131.0\n",
      "\n"
     ]
    },
    {
     "name": "stderr",
     "output_type": "stream",
     "text": [
      "/home/ubuntu/data/miniconda3/envs/finetune-dephos/lib/python3.9/site-packages/accelerate/accelerator.py:446: FutureWarning: Passing the following arguments to `Accelerator` is deprecated and will be removed in version 1.0 of Accelerate: dict_keys(['dispatch_batches', 'split_batches']). Please pass an `accelerate.DataLoaderConfiguration` instead: \n",
      "dataloader_config = DataLoaderConfiguration(dispatch_batches=None, split_batches=False)\n",
      "  warnings.warn(\n"
     ]
    },
    {
     "data": {
      "text/html": [
       "\n",
       "    <div>\n",
       "      \n",
       "      <progress value='1584' max='3960' style='width:300px; height:20px; vertical-align: middle;'></progress>\n",
       "      [1584/3960 07:18 < 10:59, 3.61 it/s, Epoch 4/10]\n",
       "    </div>\n",
       "    <table border=\"1\" class=\"dataframe\">\n",
       "  <thead>\n",
       " <tr style=\"text-align: left;\">\n",
       "      <th>Epoch</th>\n",
       "      <th>Training Loss</th>\n",
       "      <th>Validation Loss</th>\n",
       "      <th>Accuracy</th>\n",
       "    </tr>\n",
       "  </thead>\n",
       "  <tbody>\n",
       "    <tr>\n",
       "      <td>1</td>\n",
       "      <td>0.625000</td>\n",
       "      <td>0.545694</td>\n",
       "      <td>0.744949</td>\n",
       "    </tr>\n",
       "    <tr>\n",
       "      <td>2</td>\n",
       "      <td>0.616000</td>\n",
       "      <td>0.582365</td>\n",
       "      <td>0.737374</td>\n",
       "    </tr>\n",
       "    <tr>\n",
       "      <td>3</td>\n",
       "      <td>0.666600</td>\n",
       "      <td>0.714132</td>\n",
       "      <td>0.737374</td>\n",
       "    </tr>\n",
       "    <tr>\n",
       "      <td>4</td>\n",
       "      <td>0.712100</td>\n",
       "      <td>0.713152</td>\n",
       "      <td>0.702020</td>\n",
       "    </tr>\n",
       "  </tbody>\n",
       "</table><p>"
      ],
      "text/plain": [
       "<IPython.core.display.HTML object>"
      ]
     },
     "metadata": {},
     "output_type": "display_data"
    },
    {
     "name": "stdout",
     "output_type": "stream",
     "text": [
      "Saved improved model to ./model_output/finetuned_model_all_dora.pth\n",
      "Stopping early at epoch 4.0: No improvement in loss or accuracy for 3 evaluations.\n",
      "Loaded best model from ./model_output/finetuned_model_all_dora.pth\n"
     ]
    },
    {
     "data": {
      "text/html": [
       "\n",
       "    <div>\n",
       "      \n",
       "      <progress value='50' max='50' style='width:300px; height:20px; vertical-align: middle;'></progress>\n",
       "      [50/50 00:04]\n",
       "    </div>\n",
       "    "
      ],
      "text/plain": [
       "<IPython.core.display.HTML object>"
      ]
     },
     "metadata": {},
     "output_type": "display_data"
    },
    {
     "name": "stdout",
     "output_type": "stream",
     "text": [
      "Stopping early at epoch 4.0: No improvement in loss or accuracy for 3 evaluations.\n",
      "{'eval_loss': 0.5456939339637756, 'eval_accuracy': 0.7449494949494949, 'eval_runtime': 4.8656, 'eval_samples_per_second': 81.387, 'eval_steps_per_second': 10.276, 'epoch': 4.0}\n"
     ]
    },
    {
     "name": "stderr",
     "output_type": "stream",
     "text": [
      "[I 2024-06-08 21:12:51,615] Trial 13 finished with values: [0.5456939339637756, 0.7449494949494949] and parameters: {'lr': 0.0057475306865970265, 'batch': 1, 'accum': 4, 'dropout_rate': 0.5520998801136806, 'weight_decay': 0.0009582500186797993, 'warmup_pct': 0.28363593651252345, 'dora_rank': 32, 'dora_init_scale': 0.004600310727980657}. \n"
     ]
    },
    {
     "name": "stdout",
     "output_type": "stream",
     "text": [
      "History:  [{'loss': 0.625, 'learning_rate': 0.0005066834710357129, 'epoch': 1.0, 'step': 396}, {'eval_loss': 0.5456939339637756, 'eval_accuracy': 0.7449494949494949, 'eval_runtime': 5.0838, 'eval_samples_per_second': 77.895, 'eval_steps_per_second': 9.835, 'epoch': 1.0, 'step': 396}, {'loss': 0.616, 'learning_rate': 0.0010133669420714258, 'epoch': 2.0, 'step': 792}, {'eval_loss': 0.5823647975921631, 'eval_accuracy': 0.7373737373737373, 'eval_runtime': 4.6271, 'eval_samples_per_second': 85.582, 'eval_steps_per_second': 10.806, 'epoch': 2.0, 'step': 792}, {'loss': 0.6666, 'learning_rate': 0.0015200504131071388, 'epoch': 3.0, 'step': 1188}, {'eval_loss': 0.7141316533088684, 'eval_accuracy': 0.7373737373737373, 'eval_runtime': 4.6175, 'eval_samples_per_second': 85.76, 'eval_steps_per_second': 10.828, 'epoch': 3.0, 'step': 1188}, {'loss': 0.7121, 'learning_rate': 0.0020267338841428516, 'epoch': 4.0, 'step': 1584}, {'eval_loss': 0.7131523489952087, 'eval_accuracy': 0.702020202020202, 'eval_runtime': 4.6171, 'eval_samples_per_second': 85.767, 'eval_steps_per_second': 10.829, 'epoch': 4.0, 'step': 1584}, {'train_runtime': 439.1064, 'train_samples_per_second': 36.073, 'train_steps_per_second': 9.018, 'total_flos': 1562892093303552.0, 'train_loss': 0.6549230248037011, 'epoch': 4.0, 'step': 1584}, {'eval_loss': 0.5456939339637756, 'eval_accuracy': 0.7449494949494949, 'eval_runtime': 4.8656, 'eval_samples_per_second': 81.387, 'eval_steps_per_second': 10.276, 'epoch': 4.0, 'step': 1584}]\n"
     ]
    },
    {
     "name": "stderr",
     "output_type": "stream",
     "text": [
      "/home/ubuntu/data/miniconda3/envs/finetune-dephos/lib/python3.9/site-packages/huggingface_hub/file_download.py:1132: FutureWarning: `resume_download` is deprecated and will be removed in version 1.0.0. Downloads always resume when possible. If you want to force a new download, use `force_download=True`.\n",
      "  warnings.warn(\n"
     ]
    },
    {
     "name": "stdout",
     "output_type": "stream",
     "text": [
      "ProtT5_Classfier\n",
      "Trainable Parameter: 1209193475.0\n",
      "ProtT5_DoRA_Classfier\n",
      "Trainable Parameter: 1200131.0\n",
      "\n"
     ]
    },
    {
     "name": "stderr",
     "output_type": "stream",
     "text": [
      "/home/ubuntu/data/miniconda3/envs/finetune-dephos/lib/python3.9/site-packages/accelerate/accelerator.py:446: FutureWarning: Passing the following arguments to `Accelerator` is deprecated and will be removed in version 1.0 of Accelerate: dict_keys(['dispatch_batches', 'split_batches']). Please pass an `accelerate.DataLoaderConfiguration` instead: \n",
      "dataloader_config = DataLoaderConfiguration(dispatch_batches=None, split_batches=False)\n",
      "  warnings.warn(\n"
     ]
    },
    {
     "data": {
      "text/html": [
       "\n",
       "    <div>\n",
       "      \n",
       "      <progress value='495' max='990' style='width:300px; height:20px; vertical-align: middle;'></progress>\n",
       "      [495/990 03:23 < 03:24, 2.42 it/s, Epoch 5/10]\n",
       "    </div>\n",
       "    <table border=\"1\" class=\"dataframe\">\n",
       "  <thead>\n",
       " <tr style=\"text-align: left;\">\n",
       "      <th>Epoch</th>\n",
       "      <th>Training Loss</th>\n",
       "      <th>Validation Loss</th>\n",
       "      <th>Accuracy</th>\n",
       "    </tr>\n",
       "  </thead>\n",
       "  <tbody>\n",
       "    <tr>\n",
       "      <td>1</td>\n",
       "      <td>0.606600</td>\n",
       "      <td>0.542732</td>\n",
       "      <td>0.760101</td>\n",
       "    </tr>\n",
       "    <tr>\n",
       "      <td>2</td>\n",
       "      <td>0.509200</td>\n",
       "      <td>0.524476</td>\n",
       "      <td>0.765152</td>\n",
       "    </tr>\n",
       "    <tr>\n",
       "      <td>3</td>\n",
       "      <td>0.475300</td>\n",
       "      <td>0.533210</td>\n",
       "      <td>0.744949</td>\n",
       "    </tr>\n",
       "    <tr>\n",
       "      <td>4</td>\n",
       "      <td>0.459100</td>\n",
       "      <td>0.534065</td>\n",
       "      <td>0.755051</td>\n",
       "    </tr>\n",
       "    <tr>\n",
       "      <td>5</td>\n",
       "      <td>0.450400</td>\n",
       "      <td>0.537401</td>\n",
       "      <td>0.752525</td>\n",
       "    </tr>\n",
       "  </tbody>\n",
       "</table><p>"
      ],
      "text/plain": [
       "<IPython.core.display.HTML object>"
      ]
     },
     "metadata": {},
     "output_type": "display_data"
    },
    {
     "name": "stdout",
     "output_type": "stream",
     "text": [
      "Saved improved model to ./model_output/finetuned_model_all_dora.pth\n",
      "Saved improved model to ./model_output/finetuned_model_all_dora.pth\n",
      "Stopping early at epoch 5.0: No improvement in loss or accuracy for 3 evaluations.\n",
      "Loaded best model from ./model_output/finetuned_model_all_dora.pth\n"
     ]
    },
    {
     "data": {
      "text/html": [
       "\n",
       "    <div>\n",
       "      \n",
       "      <progress value='50' max='50' style='width:300px; height:20px; vertical-align: middle;'></progress>\n",
       "      [50/50 00:04]\n",
       "    </div>\n",
       "    "
      ],
      "text/plain": [
       "<IPython.core.display.HTML object>"
      ]
     },
     "metadata": {},
     "output_type": "display_data"
    },
    {
     "name": "stdout",
     "output_type": "stream",
     "text": [
      "Stopping early at epoch 5.0: No improvement in loss or accuracy for 3 evaluations.\n",
      "{'eval_loss': 0.5244761109352112, 'eval_accuracy': 0.7651515151515151, 'eval_runtime': 4.6172, 'eval_samples_per_second': 85.766, 'eval_steps_per_second': 10.829, 'epoch': 5.0}\n"
     ]
    },
    {
     "name": "stderr",
     "output_type": "stream",
     "text": [
      "[I 2024-06-08 21:17:43,258] Trial 14 finished with values: [0.5244761109352112, 0.7651515151515151] and parameters: {'lr': 0.00012821217829454438, 'batch': 8, 'accum': 2, 'dropout_rate': 0.13251236826932883, 'weight_decay': 0.0008573908618648957, 'warmup_pct': 0.011554982539297024, 'dora_rank': 12, 'dora_init_scale': 0.008511372834097423}. \n"
     ]
    },
    {
     "name": "stdout",
     "output_type": "stream",
     "text": [
      "History:  [{'loss': 0.6066, 'learning_rate': 0.00011801348229384199, 'epoch': 1.0, 'step': 99}, {'eval_loss': 0.5427324771881104, 'eval_accuracy': 0.76010101010101, 'eval_runtime': 5.1015, 'eval_samples_per_second': 77.624, 'eval_steps_per_second': 9.801, 'epoch': 1.0, 'step': 99}, {'loss': 0.5092, 'learning_rate': 0.00010490087315008178, 'epoch': 2.0, 'step': 198}, {'eval_loss': 0.5244761109352112, 'eval_accuracy': 0.7651515151515151, 'eval_runtime': 4.7167, 'eval_samples_per_second': 83.956, 'eval_steps_per_second': 10.601, 'epoch': 2.0, 'step': 198}, {'loss': 0.4753, 'learning_rate': 9.178826400632155e-05, 'epoch': 3.0, 'step': 297}, {'eval_loss': 0.5332104563713074, 'eval_accuracy': 0.7449494949494949, 'eval_runtime': 4.6108, 'eval_samples_per_second': 85.886, 'eval_steps_per_second': 10.844, 'epoch': 3.0, 'step': 297}, {'loss': 0.4591, 'learning_rate': 7.867565486256133e-05, 'epoch': 4.0, 'step': 396}, {'eval_loss': 0.5340651273727417, 'eval_accuracy': 0.7550505050505051, 'eval_runtime': 4.6119, 'eval_samples_per_second': 85.864, 'eval_steps_per_second': 10.841, 'epoch': 4.0, 'step': 396}, {'loss': 0.4504, 'learning_rate': 6.556304571880111e-05, 'epoch': 5.0, 'step': 495}, {'eval_loss': 0.5374011993408203, 'eval_accuracy': 0.7525252525252525, 'eval_runtime': 4.623, 'eval_samples_per_second': 85.658, 'eval_steps_per_second': 10.815, 'epoch': 5.0, 'step': 495}, {'train_runtime': 204.1866, 'train_samples_per_second': 77.576, 'train_steps_per_second': 4.849, 'total_flos': 1953615116629440.0, 'train_loss': 0.5001183712121212, 'epoch': 5.0, 'step': 495}, {'eval_loss': 0.5244761109352112, 'eval_accuracy': 0.7651515151515151, 'eval_runtime': 4.6172, 'eval_samples_per_second': 85.766, 'eval_steps_per_second': 10.829, 'epoch': 5.0, 'step': 495}]\n"
     ]
    },
    {
     "name": "stderr",
     "output_type": "stream",
     "text": [
      "/home/ubuntu/data/miniconda3/envs/finetune-dephos/lib/python3.9/site-packages/huggingface_hub/file_download.py:1132: FutureWarning: `resume_download` is deprecated and will be removed in version 1.0.0. Downloads always resume when possible. If you want to force a new download, use `force_download=True`.\n",
      "  warnings.warn(\n"
     ]
    },
    {
     "name": "stdout",
     "output_type": "stream",
     "text": [
      "ProtT5_Classfier\n",
      "Trainable Parameter: 1209193475.0\n",
      "ProtT5_DoRA_Classfier\n",
      "Trainable Parameter: 1200131.0\n",
      "\n"
     ]
    },
    {
     "name": "stderr",
     "output_type": "stream",
     "text": [
      "/home/ubuntu/data/miniconda3/envs/finetune-dephos/lib/python3.9/site-packages/accelerate/accelerator.py:446: FutureWarning: Passing the following arguments to `Accelerator` is deprecated and will be removed in version 1.0 of Accelerate: dict_keys(['dispatch_batches', 'split_batches']). Please pass an `accelerate.DataLoaderConfiguration` instead: \n",
      "dataloader_config = DataLoaderConfiguration(dispatch_batches=None, split_batches=False)\n",
      "  warnings.warn(\n"
     ]
    },
    {
     "data": {
      "text/html": [
       "\n",
       "    <div>\n",
       "      \n",
       "      <progress value='240' max='240' style='width:300px; height:20px; vertical-align: middle;'></progress>\n",
       "      [240/240 06:30, Epoch 9/10]\n",
       "    </div>\n",
       "    <table border=\"1\" class=\"dataframe\">\n",
       "  <thead>\n",
       " <tr style=\"text-align: left;\">\n",
       "      <th>Epoch</th>\n",
       "      <th>Training Loss</th>\n",
       "      <th>Validation Loss</th>\n",
       "      <th>Accuracy</th>\n",
       "    </tr>\n",
       "  </thead>\n",
       "  <tbody>\n",
       "    <tr>\n",
       "      <td>0</td>\n",
       "      <td>0.730100</td>\n",
       "      <td>0.690575</td>\n",
       "      <td>0.500000</td>\n",
       "    </tr>\n",
       "    <tr>\n",
       "      <td>1</td>\n",
       "      <td>0.687900</td>\n",
       "      <td>0.671232</td>\n",
       "      <td>0.633838</td>\n",
       "    </tr>\n",
       "    <tr>\n",
       "      <td>2</td>\n",
       "      <td>0.665500</td>\n",
       "      <td>0.646703</td>\n",
       "      <td>0.671717</td>\n",
       "    </tr>\n",
       "    <tr>\n",
       "      <td>4</td>\n",
       "      <td>0.641300</td>\n",
       "      <td>0.601517</td>\n",
       "      <td>0.732323</td>\n",
       "    </tr>\n",
       "    <tr>\n",
       "      <td>5</td>\n",
       "      <td>0.599900</td>\n",
       "      <td>0.588139</td>\n",
       "      <td>0.752525</td>\n",
       "    </tr>\n",
       "    <tr>\n",
       "      <td>6</td>\n",
       "      <td>0.589300</td>\n",
       "      <td>0.580161</td>\n",
       "      <td>0.755051</td>\n",
       "    </tr>\n",
       "    <tr>\n",
       "      <td>8</td>\n",
       "      <td>0.605100</td>\n",
       "      <td>0.572552</td>\n",
       "      <td>0.762626</td>\n",
       "    </tr>\n",
       "    <tr>\n",
       "      <td>9</td>\n",
       "      <td>0.558100</td>\n",
       "      <td>0.572062</td>\n",
       "      <td>0.760101</td>\n",
       "    </tr>\n",
       "  </tbody>\n",
       "</table><p>"
      ],
      "text/plain": [
       "<IPython.core.display.HTML object>"
      ]
     },
     "metadata": {},
     "output_type": "display_data"
    },
    {
     "name": "stdout",
     "output_type": "stream",
     "text": [
      "Saved improved model to ./model_output/finetuned_model_all_dora.pth\n",
      "Saved improved model to ./model_output/finetuned_model_all_dora.pth\n",
      "Saved improved model to ./model_output/finetuned_model_all_dora.pth\n",
      "Saved improved model to ./model_output/finetuned_model_all_dora.pth\n",
      "Saved improved model to ./model_output/finetuned_model_all_dora.pth\n",
      "Saved improved model to ./model_output/finetuned_model_all_dora.pth\n",
      "Saved improved model to ./model_output/finetuned_model_all_dora.pth\n",
      "Saved improved model to ./model_output/finetuned_model_all_dora.pth\n",
      "Saved improved model to ./model_output/finetuned_model_all_dora.pth\n",
      "Loaded best model from ./model_output/finetuned_model_all_dora.pth\n"
     ]
    },
    {
     "data": {
      "text/html": [
       "\n",
       "    <div>\n",
       "      \n",
       "      <progress value='50' max='50' style='width:300px; height:20px; vertical-align: middle;'></progress>\n",
       "      [50/50 00:04]\n",
       "    </div>\n",
       "    "
      ],
      "text/plain": [
       "<IPython.core.display.HTML object>"
      ]
     },
     "metadata": {},
     "output_type": "display_data"
    },
    {
     "name": "stdout",
     "output_type": "stream",
     "text": [
      "{'eval_loss': 0.5725523233413696, 'eval_accuracy': 0.7626262626262627, 'eval_runtime': 4.6107, 'eval_samples_per_second': 85.886, 'eval_steps_per_second': 10.844, 'epoch': 9.7}\n",
      "History:  [{'loss': 0.7301, 'learning_rate': 1.9967589289639045e-05, 'epoch': 0.97, 'step': 24}, {'eval_loss': 0.690575361251831, 'eval_accuracy': 0.5, 'eval_runtime': 5.1074, 'eval_samples_per_second': 77.535, 'eval_steps_per_second': 9.79, 'epoch': 0.97, 'step': 24}, {'loss': 0.6879, 'learning_rate': 4.076716146634638e-05, 'epoch': 1.98, 'step': 49}, {'eval_loss': 0.671232283115387, 'eval_accuracy': 0.6338383838383839, 'eval_runtime': 4.6313, 'eval_samples_per_second': 85.505, 'eval_steps_per_second': 10.796, 'epoch': 1.98, 'step': 49}, {'loss': 0.6655, 'learning_rate': 6.156673364305372e-05, 'epoch': 2.99, 'step': 74}, {'eval_loss': 0.6467030048370361, 'eval_accuracy': 0.6717171717171717, 'eval_runtime': 4.6219, 'eval_samples_per_second': 85.678, 'eval_steps_per_second': 10.818, 'epoch': 2.99, 'step': 74}, {'loss': 0.6449, 'learning_rate': 8.236630581976105e-05, 'epoch': 4.0, 'step': 99}, {'eval_loss': 0.621649980545044, 'eval_accuracy': 0.7247474747474747, 'eval_runtime': 4.6283, 'eval_samples_per_second': 85.56, 'eval_steps_per_second': 10.803, 'epoch': 4.0, 'step': 99}, {'loss': 0.6413, 'learning_rate': 7.318412972306573e-05, 'epoch': 4.97, 'step': 123}, {'eval_loss': 0.6015167236328125, 'eval_accuracy': 0.7323232323232324, 'eval_runtime': 4.6219, 'eval_samples_per_second': 85.679, 'eval_steps_per_second': 10.818, 'epoch': 4.97, 'step': 123}, {'loss': 0.5999, 'learning_rate': 5.75464951668551e-05, 'epoch': 5.98, 'step': 148}, {'eval_loss': 0.5881390571594238, 'eval_accuracy': 0.7525252525252525, 'eval_runtime': 4.6226, 'eval_samples_per_second': 85.667, 'eval_steps_per_second': 10.817, 'epoch': 5.98, 'step': 148}, {'loss': 0.5893, 'learning_rate': 4.1908860610644475e-05, 'epoch': 6.99, 'step': 173}, {'eval_loss': 0.5801610946655273, 'eval_accuracy': 0.7550505050505051, 'eval_runtime': 4.6144, 'eval_samples_per_second': 85.818, 'eval_steps_per_second': 10.836, 'epoch': 6.99, 'step': 173}, {'loss': 0.5754, 'learning_rate': 2.6271226054433852e-05, 'epoch': 8.0, 'step': 198}, {'eval_loss': 0.5748186111450195, 'eval_accuracy': 0.76010101010101, 'eval_runtime': 4.6165, 'eval_samples_per_second': 85.779, 'eval_steps_per_second': 10.831, 'epoch': 8.0, 'step': 198}, {'loss': 0.6051, 'learning_rate': 1.125909688047165e-05, 'epoch': 8.97, 'step': 222}, {'eval_loss': 0.5725523233413696, 'eval_accuracy': 0.7626262626262627, 'eval_runtime': 4.6169, 'eval_samples_per_second': 85.771, 'eval_steps_per_second': 10.83, 'epoch': 8.97, 'step': 222}, {'loss': 0.5581, 'learning_rate': 0.0, 'epoch': 9.7, 'step': 240}, {'eval_loss': 0.5720619559288025, 'eval_accuracy': 0.76010101010101, 'eval_runtime': 4.6122, 'eval_samples_per_second': 85.86, 'eval_steps_per_second': 10.841, 'epoch': 9.7, 'step': 240}, {'train_runtime': 391.7108, 'train_samples_per_second': 40.438, 'train_steps_per_second': 0.613, 'total_flos': 3788829317099520.0, 'train_loss': 0.6314767400423685, 'epoch': 9.7, 'step': 240}, {'eval_loss': 0.5725523233413696, 'eval_accuracy': 0.7626262626262627, 'eval_runtime': 4.6107, 'eval_samples_per_second': 85.886, 'eval_steps_per_second': 10.844, 'epoch': 9.7, 'step': 240}]\n"
     ]
    },
    {
     "name": "stderr",
     "output_type": "stream",
     "text": [
      "[I 2024-06-08 21:25:41,427] Trial 15 finished with values: [0.5725523233413696, 0.7626262626262627] and parameters: {'lr': 8.569423736803423e-05, 'batch': 8, 'accum': 8, 'dropout_rate': 0.7314134758490626, 'weight_decay': 4.880356411563241e-05, 'warmup_pct': 0.052313387522549555, 'dora_rank': 24, 'dora_init_scale': 0.00014986983885239668}. \n",
      "/home/ubuntu/data/miniconda3/envs/finetune-dephos/lib/python3.9/site-packages/huggingface_hub/file_download.py:1132: FutureWarning: `resume_download` is deprecated and will be removed in version 1.0.0. Downloads always resume when possible. If you want to force a new download, use `force_download=True`.\n",
      "  warnings.warn(\n"
     ]
    },
    {
     "name": "stdout",
     "output_type": "stream",
     "text": [
      "ProtT5_Classfier\n",
      "Trainable Parameter: 1209193475.0\n",
      "ProtT5_DoRA_Classfier\n",
      "Trainable Parameter: 1200131.0\n",
      "\n"
     ]
    },
    {
     "name": "stderr",
     "output_type": "stream",
     "text": [
      "/home/ubuntu/data/miniconda3/envs/finetune-dephos/lib/python3.9/site-packages/accelerate/accelerator.py:446: FutureWarning: Passing the following arguments to `Accelerator` is deprecated and will be removed in version 1.0 of Accelerate: dict_keys(['dispatch_batches', 'split_batches']). Please pass an `accelerate.DataLoaderConfiguration` instead: \n",
      "dataloader_config = DataLoaderConfiguration(dispatch_batches=None, split_batches=False)\n",
      "  warnings.warn(\n"
     ]
    },
    {
     "data": {
      "text/html": [
       "\n",
       "    <div>\n",
       "      \n",
       "      <progress value='990' max='1980' style='width:300px; height:20px; vertical-align: middle;'></progress>\n",
       "      [ 990/1980 05:54 < 05:55, 2.79 it/s, Epoch 5/10]\n",
       "    </div>\n",
       "    <table border=\"1\" class=\"dataframe\">\n",
       "  <thead>\n",
       " <tr style=\"text-align: left;\">\n",
       "      <th>Epoch</th>\n",
       "      <th>Training Loss</th>\n",
       "      <th>Validation Loss</th>\n",
       "      <th>Accuracy</th>\n",
       "    </tr>\n",
       "  </thead>\n",
       "  <tbody>\n",
       "    <tr>\n",
       "      <td>1</td>\n",
       "      <td>0.630400</td>\n",
       "      <td>0.557564</td>\n",
       "      <td>0.739899</td>\n",
       "    </tr>\n",
       "    <tr>\n",
       "      <td>2</td>\n",
       "      <td>0.536800</td>\n",
       "      <td>0.547639</td>\n",
       "      <td>0.744949</td>\n",
       "    </tr>\n",
       "    <tr>\n",
       "      <td>3</td>\n",
       "      <td>0.510700</td>\n",
       "      <td>0.569064</td>\n",
       "      <td>0.732323</td>\n",
       "    </tr>\n",
       "    <tr>\n",
       "      <td>4</td>\n",
       "      <td>0.518500</td>\n",
       "      <td>0.548923</td>\n",
       "      <td>0.744949</td>\n",
       "    </tr>\n",
       "    <tr>\n",
       "      <td>5</td>\n",
       "      <td>0.509100</td>\n",
       "      <td>0.697105</td>\n",
       "      <td>0.739899</td>\n",
       "    </tr>\n",
       "  </tbody>\n",
       "</table><p>"
      ],
      "text/plain": [
       "<IPython.core.display.HTML object>"
      ]
     },
     "metadata": {},
     "output_type": "display_data"
    },
    {
     "name": "stdout",
     "output_type": "stream",
     "text": [
      "Saved improved model to ./model_output/finetuned_model_all_dora.pth\n",
      "Saved improved model to ./model_output/finetuned_model_all_dora.pth\n",
      "Stopping early at epoch 5.0: No improvement in loss or accuracy for 3 evaluations.\n",
      "Loaded best model from ./model_output/finetuned_model_all_dora.pth\n"
     ]
    },
    {
     "data": {
      "text/html": [
       "\n",
       "    <div>\n",
       "      \n",
       "      <progress value='50' max='50' style='width:300px; height:20px; vertical-align: middle;'></progress>\n",
       "      [50/50 00:04]\n",
       "    </div>\n",
       "    "
      ],
      "text/plain": [
       "<IPython.core.display.HTML object>"
      ]
     },
     "metadata": {},
     "output_type": "display_data"
    },
    {
     "name": "stdout",
     "output_type": "stream",
     "text": [
      "Stopping early at epoch 5.0: No improvement in loss or accuracy for 3 evaluations.\n",
      "{'eval_loss': 0.5476394295692444, 'eval_accuracy': 0.7449494949494949, 'eval_runtime': 4.6157, 'eval_samples_per_second': 85.794, 'eval_steps_per_second': 10.833, 'epoch': 5.0}\n"
     ]
    },
    {
     "name": "stderr",
     "output_type": "stream",
     "text": [
      "[I 2024-06-08 21:33:02,527] Trial 16 finished with values: [0.5476394295692444, 0.7449494949494949] and parameters: {'lr': 0.0015540338140848733, 'batch': 2, 'accum': 4, 'dropout_rate': 0.3332600821131274, 'weight_decay': 2.881261526670761e-05, 'warmup_pct': 0.20940259496682948, 'dora_rank': 8, 'dora_init_scale': 0.006753623798079155}. \n"
     ]
    },
    {
     "name": "stdout",
     "output_type": "stream",
     "text": [
      "History:  [{'loss': 0.6304, 'learning_rate': 0.00018558425524053374, 'epoch': 1.0, 'step': 198}, {'eval_loss': 0.5575636029243469, 'eval_accuracy': 0.73989898989899, 'eval_runtime': 5.0899, 'eval_samples_per_second': 77.802, 'eval_steps_per_second': 9.823, 'epoch': 1.0, 'step': 198}, {'loss': 0.5368, 'learning_rate': 0.00037116851048106747, 'epoch': 2.0, 'step': 396}, {'eval_loss': 0.5476394295692444, 'eval_accuracy': 0.7449494949494949, 'eval_runtime': 4.7199, 'eval_samples_per_second': 83.9, 'eval_steps_per_second': 10.593, 'epoch': 2.0, 'step': 396}, {'loss': 0.5107, 'learning_rate': 0.0005567527657216012, 'epoch': 3.0, 'step': 594}, {'eval_loss': 0.5690641403198242, 'eval_accuracy': 0.7323232323232324, 'eval_runtime': 4.6493, 'eval_samples_per_second': 85.173, 'eval_steps_per_second': 10.754, 'epoch': 3.0, 'step': 594}, {'loss': 0.5185, 'learning_rate': 0.0007423370209621349, 'epoch': 4.0, 'step': 792}, {'eval_loss': 0.548922598361969, 'eval_accuracy': 0.7449494949494949, 'eval_runtime': 4.6129, 'eval_samples_per_second': 85.847, 'eval_steps_per_second': 10.839, 'epoch': 4.0, 'step': 792}, {'loss': 0.5091, 'learning_rate': 0.0009279212762026687, 'epoch': 5.0, 'step': 990}, {'eval_loss': 0.6971046924591064, 'eval_accuracy': 0.73989898989899, 'eval_runtime': 4.6142, 'eval_samples_per_second': 85.823, 'eval_steps_per_second': 10.836, 'epoch': 5.0, 'step': 990}, {'train_runtime': 354.6809, 'train_samples_per_second': 44.66, 'train_steps_per_second': 5.582, 'total_flos': 1953615116629440.0, 'train_loss': 0.5410968819049874, 'epoch': 5.0, 'step': 990}, {'eval_loss': 0.5476394295692444, 'eval_accuracy': 0.7449494949494949, 'eval_runtime': 4.6157, 'eval_samples_per_second': 85.794, 'eval_steps_per_second': 10.833, 'epoch': 5.0, 'step': 990}]\n"
     ]
    },
    {
     "name": "stderr",
     "output_type": "stream",
     "text": [
      "/home/ubuntu/data/miniconda3/envs/finetune-dephos/lib/python3.9/site-packages/huggingface_hub/file_download.py:1132: FutureWarning: `resume_download` is deprecated and will be removed in version 1.0.0. Downloads always resume when possible. If you want to force a new download, use `force_download=True`.\n",
      "  warnings.warn(\n"
     ]
    },
    {
     "name": "stdout",
     "output_type": "stream",
     "text": [
      "ProtT5_Classfier\n",
      "Trainable Parameter: 1209193475.0\n",
      "ProtT5_DoRA_Classfier\n",
      "Trainable Parameter: 1200131.0\n",
      "\n"
     ]
    },
    {
     "name": "stderr",
     "output_type": "stream",
     "text": [
      "/home/ubuntu/data/miniconda3/envs/finetune-dephos/lib/python3.9/site-packages/accelerate/accelerator.py:446: FutureWarning: Passing the following arguments to `Accelerator` is deprecated and will be removed in version 1.0 of Accelerate: dict_keys(['dispatch_batches', 'split_batches']). Please pass an `accelerate.DataLoaderConfiguration` instead: \n",
      "dataloader_config = DataLoaderConfiguration(dispatch_batches=None, split_batches=False)\n",
      "  warnings.warn(\n"
     ]
    },
    {
     "data": {
      "text/html": [
       "\n",
       "    <div>\n",
       "      \n",
       "      <progress value='990' max='990' style='width:300px; height:20px; vertical-align: middle;'></progress>\n",
       "      [990/990 06:47, Epoch 10/10]\n",
       "    </div>\n",
       "    <table border=\"1\" class=\"dataframe\">\n",
       "  <thead>\n",
       " <tr style=\"text-align: left;\">\n",
       "      <th>Epoch</th>\n",
       "      <th>Training Loss</th>\n",
       "      <th>Validation Loss</th>\n",
       "      <th>Accuracy</th>\n",
       "    </tr>\n",
       "  </thead>\n",
       "  <tbody>\n",
       "    <tr>\n",
       "      <td>1</td>\n",
       "      <td>0.676600</td>\n",
       "      <td>0.638910</td>\n",
       "      <td>0.714646</td>\n",
       "    </tr>\n",
       "    <tr>\n",
       "      <td>2</td>\n",
       "      <td>0.619100</td>\n",
       "      <td>0.597744</td>\n",
       "      <td>0.739899</td>\n",
       "    </tr>\n",
       "    <tr>\n",
       "      <td>3</td>\n",
       "      <td>0.585200</td>\n",
       "      <td>0.574889</td>\n",
       "      <td>0.760101</td>\n",
       "    </tr>\n",
       "    <tr>\n",
       "      <td>4</td>\n",
       "      <td>0.567500</td>\n",
       "      <td>0.562091</td>\n",
       "      <td>0.752525</td>\n",
       "    </tr>\n",
       "    <tr>\n",
       "      <td>5</td>\n",
       "      <td>0.549500</td>\n",
       "      <td>0.552911</td>\n",
       "      <td>0.755051</td>\n",
       "    </tr>\n",
       "    <tr>\n",
       "      <td>6</td>\n",
       "      <td>0.540700</td>\n",
       "      <td>0.546414</td>\n",
       "      <td>0.765152</td>\n",
       "    </tr>\n",
       "    <tr>\n",
       "      <td>7</td>\n",
       "      <td>0.532900</td>\n",
       "      <td>0.543242</td>\n",
       "      <td>0.765152</td>\n",
       "    </tr>\n",
       "    <tr>\n",
       "      <td>8</td>\n",
       "      <td>0.527300</td>\n",
       "      <td>0.541061</td>\n",
       "      <td>0.762626</td>\n",
       "    </tr>\n",
       "    <tr>\n",
       "      <td>9</td>\n",
       "      <td>0.524500</td>\n",
       "      <td>0.539746</td>\n",
       "      <td>0.765152</td>\n",
       "    </tr>\n",
       "    <tr>\n",
       "      <td>10</td>\n",
       "      <td>0.521000</td>\n",
       "      <td>0.539427</td>\n",
       "      <td>0.765152</td>\n",
       "    </tr>\n",
       "  </tbody>\n",
       "</table><p>"
      ],
      "text/plain": [
       "<IPython.core.display.HTML object>"
      ]
     },
     "metadata": {},
     "output_type": "display_data"
    },
    {
     "name": "stdout",
     "output_type": "stream",
     "text": [
      "Saved improved model to ./model_output/finetuned_model_all_dora.pth\n",
      "Saved improved model to ./model_output/finetuned_model_all_dora.pth\n",
      "Saved improved model to ./model_output/finetuned_model_all_dora.pth\n",
      "Saved improved model to ./model_output/finetuned_model_all_dora.pth\n",
      "Saved improved model to ./model_output/finetuned_model_all_dora.pth\n",
      "Saved improved model to ./model_output/finetuned_model_all_dora.pth\n",
      "Saved improved model to ./model_output/finetuned_model_all_dora.pth\n",
      "Saved improved model to ./model_output/finetuned_model_all_dora.pth\n",
      "Saved improved model to ./model_output/finetuned_model_all_dora.pth\n",
      "Loaded best model from ./model_output/finetuned_model_all_dora.pth\n"
     ]
    },
    {
     "data": {
      "text/html": [
       "\n",
       "    <div>\n",
       "      \n",
       "      <progress value='50' max='50' style='width:300px; height:20px; vertical-align: middle;'></progress>\n",
       "      [50/50 00:04]\n",
       "    </div>\n",
       "    "
      ],
      "text/plain": [
       "<IPython.core.display.HTML object>"
      ]
     },
     "metadata": {},
     "output_type": "display_data"
    },
    {
     "name": "stdout",
     "output_type": "stream",
     "text": [
      "{'eval_loss': 0.5397463440895081, 'eval_accuracy': 0.7651515151515151, 'eval_runtime': 4.6121, 'eval_samples_per_second': 85.861, 'eval_steps_per_second': 10.841, 'epoch': 10.0}\n"
     ]
    },
    {
     "name": "stderr",
     "output_type": "stream",
     "text": [
      "[I 2024-06-08 21:41:19,902] Trial 17 finished with values: [0.5397463440895081, 0.7651515151515151] and parameters: {'lr': 4.300721675033848e-05, 'batch': 8, 'accum': 2, 'dropout_rate': 0.5143507895365844, 'weight_decay': 0.00021090470169775232, 'warmup_pct': 0.032775615281162664, 'dora_rank': 4, 'dora_init_scale': 0.0022167503393140013}. \n"
     ]
    },
    {
     "name": "stdout",
     "output_type": "stream",
     "text": [
      "History:  [{'loss': 0.6766, 'learning_rate': 4.138167400059567e-05, 'epoch': 1.0, 'step': 99}, {'eval_loss': 0.6389100551605225, 'eval_accuracy': 0.7146464646464646, 'eval_runtime': 5.1044, 'eval_samples_per_second': 77.58, 'eval_steps_per_second': 9.795, 'epoch': 1.0, 'step': 99}, {'loss': 0.6191, 'learning_rate': 3.67837102227517e-05, 'epoch': 2.0, 'step': 198}, {'eval_loss': 0.5977435111999512, 'eval_accuracy': 0.73989898989899, 'eval_runtime': 4.4655, 'eval_samples_per_second': 88.681, 'eval_steps_per_second': 11.197, 'epoch': 2.0, 'step': 198}, {'loss': 0.5852, 'learning_rate': 3.218574644490774e-05, 'epoch': 3.0, 'step': 297}, {'eval_loss': 0.5748893022537231, 'eval_accuracy': 0.76010101010101, 'eval_runtime': 4.4556, 'eval_samples_per_second': 88.878, 'eval_steps_per_second': 11.222, 'epoch': 3.0, 'step': 297}, {'loss': 0.5675, 'learning_rate': 2.7587782667063777e-05, 'epoch': 4.0, 'step': 396}, {'eval_loss': 0.5620913505554199, 'eval_accuracy': 0.7525252525252525, 'eval_runtime': 4.4517, 'eval_samples_per_second': 88.956, 'eval_steps_per_second': 11.232, 'epoch': 4.0, 'step': 396}, {'loss': 0.5495, 'learning_rate': 2.2989818889219813e-05, 'epoch': 5.0, 'step': 495}, {'eval_loss': 0.5529113411903381, 'eval_accuracy': 0.7550505050505051, 'eval_runtime': 4.451, 'eval_samples_per_second': 88.968, 'eval_steps_per_second': 11.233, 'epoch': 5.0, 'step': 495}, {'loss': 0.5407, 'learning_rate': 1.839185511137585e-05, 'epoch': 6.0, 'step': 594}, {'eval_loss': 0.5464142560958862, 'eval_accuracy': 0.7651515151515151, 'eval_runtime': 4.449, 'eval_samples_per_second': 89.009, 'eval_steps_per_second': 11.239, 'epoch': 6.0, 'step': 594}, {'loss': 0.5329, 'learning_rate': 1.3793891333531888e-05, 'epoch': 7.0, 'step': 693}, {'eval_loss': 0.5432424545288086, 'eval_accuracy': 0.7651515151515151, 'eval_runtime': 4.614, 'eval_samples_per_second': 85.826, 'eval_steps_per_second': 10.837, 'epoch': 7.0, 'step': 693}, {'loss': 0.5273, 'learning_rate': 9.195927555687925e-06, 'epoch': 8.0, 'step': 792}, {'eval_loss': 0.5410611033439636, 'eval_accuracy': 0.7626262626262627, 'eval_runtime': 4.6129, 'eval_samples_per_second': 85.846, 'eval_steps_per_second': 10.839, 'epoch': 8.0, 'step': 792}, {'loss': 0.5245, 'learning_rate': 4.5979637778439625e-06, 'epoch': 9.0, 'step': 891}, {'eval_loss': 0.5397463440895081, 'eval_accuracy': 0.7651515151515151, 'eval_runtime': 4.617, 'eval_samples_per_second': 85.771, 'eval_steps_per_second': 10.83, 'epoch': 9.0, 'step': 891}, {'loss': 0.521, 'learning_rate': 0.0, 'epoch': 10.0, 'step': 990}, {'eval_loss': 0.5394274592399597, 'eval_accuracy': 0.7651515151515151, 'eval_runtime': 4.6098, 'eval_samples_per_second': 85.905, 'eval_steps_per_second': 10.847, 'epoch': 10.0, 'step': 990}, {'train_runtime': 408.2893, 'train_samples_per_second': 38.796, 'train_steps_per_second': 2.425, 'total_flos': 3907230233258880.0, 'train_loss': 0.564427138819839, 'epoch': 10.0, 'step': 990}, {'eval_loss': 0.5397463440895081, 'eval_accuracy': 0.7651515151515151, 'eval_runtime': 4.6121, 'eval_samples_per_second': 85.861, 'eval_steps_per_second': 10.841, 'epoch': 10.0, 'step': 990}]\n"
     ]
    },
    {
     "name": "stderr",
     "output_type": "stream",
     "text": [
      "/home/ubuntu/data/miniconda3/envs/finetune-dephos/lib/python3.9/site-packages/huggingface_hub/file_download.py:1132: FutureWarning: `resume_download` is deprecated and will be removed in version 1.0.0. Downloads always resume when possible. If you want to force a new download, use `force_download=True`.\n",
      "  warnings.warn(\n"
     ]
    },
    {
     "name": "stdout",
     "output_type": "stream",
     "text": [
      "ProtT5_Classfier\n",
      "Trainable Parameter: 1209193475.0\n",
      "ProtT5_DoRA_Classfier\n",
      "Trainable Parameter: 1200131.0\n",
      "\n"
     ]
    },
    {
     "name": "stderr",
     "output_type": "stream",
     "text": [
      "/home/ubuntu/data/miniconda3/envs/finetune-dephos/lib/python3.9/site-packages/accelerate/accelerator.py:446: FutureWarning: Passing the following arguments to `Accelerator` is deprecated and will be removed in version 1.0 of Accelerate: dict_keys(['dispatch_batches', 'split_batches']). Please pass an `accelerate.DataLoaderConfiguration` instead: \n",
      "dataloader_config = DataLoaderConfiguration(dispatch_batches=None, split_batches=False)\n",
      "  warnings.warn(\n"
     ]
    },
    {
     "data": {
      "text/html": [
       "\n",
       "    <div>\n",
       "      \n",
       "      <progress value='495' max='990' style='width:300px; height:20px; vertical-align: middle;'></progress>\n",
       "      [495/990 05:50 < 05:51, 1.41 it/s, Epoch 5/10]\n",
       "    </div>\n",
       "    <table border=\"1\" class=\"dataframe\">\n",
       "  <thead>\n",
       " <tr style=\"text-align: left;\">\n",
       "      <th>Epoch</th>\n",
       "      <th>Training Loss</th>\n",
       "      <th>Validation Loss</th>\n",
       "      <th>Accuracy</th>\n",
       "    </tr>\n",
       "  </thead>\n",
       "  <tbody>\n",
       "    <tr>\n",
       "      <td>1</td>\n",
       "      <td>0.655100</td>\n",
       "      <td>0.587504</td>\n",
       "      <td>0.744949</td>\n",
       "    </tr>\n",
       "    <tr>\n",
       "      <td>2</td>\n",
       "      <td>0.551100</td>\n",
       "      <td>0.534366</td>\n",
       "      <td>0.772727</td>\n",
       "    </tr>\n",
       "    <tr>\n",
       "      <td>3</td>\n",
       "      <td>0.503200</td>\n",
       "      <td>0.555157</td>\n",
       "      <td>0.722222</td>\n",
       "    </tr>\n",
       "    <tr>\n",
       "      <td>4</td>\n",
       "      <td>0.499100</td>\n",
       "      <td>0.545786</td>\n",
       "      <td>0.737374</td>\n",
       "    </tr>\n",
       "    <tr>\n",
       "      <td>5</td>\n",
       "      <td>0.492900</td>\n",
       "      <td>0.536572</td>\n",
       "      <td>0.744949</td>\n",
       "    </tr>\n",
       "  </tbody>\n",
       "</table><p>"
      ],
      "text/plain": [
       "<IPython.core.display.HTML object>"
      ]
     },
     "metadata": {},
     "output_type": "display_data"
    },
    {
     "name": "stdout",
     "output_type": "stream",
     "text": [
      "Saved improved model to ./model_output/finetuned_model_all_dora.pth\n",
      "Saved improved model to ./model_output/finetuned_model_all_dora.pth\n",
      "Stopping early at epoch 5.0: No improvement in loss or accuracy for 3 evaluations.\n",
      "Loaded best model from ./model_output/finetuned_model_all_dora.pth\n"
     ]
    },
    {
     "data": {
      "text/html": [
       "\n",
       "    <div>\n",
       "      \n",
       "      <progress value='50' max='50' style='width:300px; height:20px; vertical-align: middle;'></progress>\n",
       "      [50/50 00:04]\n",
       "    </div>\n",
       "    "
      ],
      "text/plain": [
       "<IPython.core.display.HTML object>"
      ]
     },
     "metadata": {},
     "output_type": "display_data"
    },
    {
     "name": "stdout",
     "output_type": "stream",
     "text": [
      "Stopping early at epoch 5.0: No improvement in loss or accuracy for 3 evaluations.\n",
      "{'eval_loss': 0.5343656539916992, 'eval_accuracy': 0.7727272727272727, 'eval_runtime': 4.6104, 'eval_samples_per_second': 85.893, 'eval_steps_per_second': 10.845, 'epoch': 5.0}\n",
      "History:  [{'loss': 0.6551, 'learning_rate': 0.00011773249447471691, 'epoch': 1.0, 'step': 99}, {'eval_loss': 0.5875037312507629, 'eval_accuracy': 0.7449494949494949, 'eval_runtime': 5.0801, 'eval_samples_per_second': 77.951, 'eval_steps_per_second': 9.842, 'epoch': 1.0, 'step': 99}, {'loss': 0.5511, 'learning_rate': 0.00023546498894943383, 'epoch': 2.0, 'step': 198}, {'eval_loss': 0.5343656539916992, 'eval_accuracy': 0.7727272727272727, 'eval_runtime': 4.6165, 'eval_samples_per_second': 85.779, 'eval_steps_per_second': 10.831, 'epoch': 2.0, 'step': 198}, {'loss': 0.5032, 'learning_rate': 0.0003531974834241507, 'epoch': 3.0, 'step': 297}, {'eval_loss': 0.5551570057868958, 'eval_accuracy': 0.7222222222222222, 'eval_runtime': 4.6115, 'eval_samples_per_second': 85.872, 'eval_steps_per_second': 10.842, 'epoch': 3.0, 'step': 297}, {'loss': 0.4991, 'learning_rate': 0.00047092997789886765, 'epoch': 4.0, 'step': 396}, {'eval_loss': 0.5457858443260193, 'eval_accuracy': 0.7373737373737373, 'eval_runtime': 4.6132, 'eval_samples_per_second': 85.84, 'eval_steps_per_second': 10.838, 'epoch': 4.0, 'step': 396}, {'loss': 0.4929, 'learning_rate': 0.0005886624723735846, 'epoch': 5.0, 'step': 495}, {'eval_loss': 0.5365722179412842, 'eval_accuracy': 0.7449494949494949, 'eval_runtime': 4.6148, 'eval_samples_per_second': 85.81, 'eval_steps_per_second': 10.835, 'epoch': 5.0, 'step': 495}, {'train_runtime': 350.7903, 'train_samples_per_second': 45.155, 'train_steps_per_second': 2.822, 'total_flos': 1953615116629440.0, 'train_loss': 0.540286478370127, 'epoch': 5.0, 'step': 495}, {'eval_loss': 0.5343656539916992, 'eval_accuracy': 0.7727272727272727, 'eval_runtime': 4.6104, 'eval_samples_per_second': 85.893, 'eval_steps_per_second': 10.845, 'epoch': 5.0, 'step': 495}]\n"
     ]
    },
    {
     "name": "stderr",
     "output_type": "stream",
     "text": [
      "[I 2024-06-08 21:48:36,483] Trial 18 finished with values: [0.5343656539916992, 0.7727272727272727] and parameters: {'lr': 0.000960887429652235, 'batch': 2, 'accum': 8, 'dropout_rate': 0.3449980557020289, 'weight_decay': 0.00014087304112804863, 'warmup_pct': 0.10205694777795692, 'dora_rank': 16, 'dora_init_scale': 0.005309156242788989}. \n",
      "/home/ubuntu/data/miniconda3/envs/finetune-dephos/lib/python3.9/site-packages/huggingface_hub/file_download.py:1132: FutureWarning: `resume_download` is deprecated and will be removed in version 1.0.0. Downloads always resume when possible. If you want to force a new download, use `force_download=True`.\n",
      "  warnings.warn(\n"
     ]
    },
    {
     "name": "stdout",
     "output_type": "stream",
     "text": [
      "ProtT5_Classfier\n",
      "Trainable Parameter: 1209193475.0\n",
      "ProtT5_DoRA_Classfier\n",
      "Trainable Parameter: 1200131.0\n",
      "\n"
     ]
    },
    {
     "name": "stderr",
     "output_type": "stream",
     "text": [
      "/home/ubuntu/data/miniconda3/envs/finetune-dephos/lib/python3.9/site-packages/accelerate/accelerator.py:446: FutureWarning: Passing the following arguments to `Accelerator` is deprecated and will be removed in version 1.0 of Accelerate: dict_keys(['dispatch_batches', 'split_batches']). Please pass an `accelerate.DataLoaderConfiguration` instead: \n",
      "dataloader_config = DataLoaderConfiguration(dispatch_batches=None, split_batches=False)\n",
      "  warnings.warn(\n"
     ]
    },
    {
     "data": {
      "text/html": [
       "\n",
       "    <div>\n",
       "      \n",
       "      <progress value='3960' max='3960' style='width:300px; height:20px; vertical-align: middle;'></progress>\n",
       "      [3960/3960 12:03, Epoch 10/10]\n",
       "    </div>\n",
       "    <table border=\"1\" class=\"dataframe\">\n",
       "  <thead>\n",
       " <tr style=\"text-align: left;\">\n",
       "      <th>Epoch</th>\n",
       "      <th>Training Loss</th>\n",
       "      <th>Validation Loss</th>\n",
       "      <th>Accuracy</th>\n",
       "    </tr>\n",
       "  </thead>\n",
       "  <tbody>\n",
       "    <tr>\n",
       "      <td>1</td>\n",
       "      <td>0.691500</td>\n",
       "      <td>0.679400</td>\n",
       "      <td>0.606061</td>\n",
       "    </tr>\n",
       "    <tr>\n",
       "      <td>2</td>\n",
       "      <td>0.660900</td>\n",
       "      <td>0.641597</td>\n",
       "      <td>0.689394</td>\n",
       "    </tr>\n",
       "    <tr>\n",
       "      <td>3</td>\n",
       "      <td>0.618000</td>\n",
       "      <td>0.599803</td>\n",
       "      <td>0.717172</td>\n",
       "    </tr>\n",
       "    <tr>\n",
       "      <td>4</td>\n",
       "      <td>0.579200</td>\n",
       "      <td>0.567452</td>\n",
       "      <td>0.760101</td>\n",
       "    </tr>\n",
       "    <tr>\n",
       "      <td>5</td>\n",
       "      <td>0.550900</td>\n",
       "      <td>0.548434</td>\n",
       "      <td>0.760101</td>\n",
       "    </tr>\n",
       "    <tr>\n",
       "      <td>6</td>\n",
       "      <td>0.530600</td>\n",
       "      <td>0.537771</td>\n",
       "      <td>0.762626</td>\n",
       "    </tr>\n",
       "    <tr>\n",
       "      <td>7</td>\n",
       "      <td>0.516100</td>\n",
       "      <td>0.533454</td>\n",
       "      <td>0.770202</td>\n",
       "    </tr>\n",
       "    <tr>\n",
       "      <td>8</td>\n",
       "      <td>0.509700</td>\n",
       "      <td>0.530957</td>\n",
       "      <td>0.777778</td>\n",
       "    </tr>\n",
       "    <tr>\n",
       "      <td>9</td>\n",
       "      <td>0.509200</td>\n",
       "      <td>0.530327</td>\n",
       "      <td>0.777778</td>\n",
       "    </tr>\n",
       "    <tr>\n",
       "      <td>10</td>\n",
       "      <td>0.502600</td>\n",
       "      <td>0.529846</td>\n",
       "      <td>0.777778</td>\n",
       "    </tr>\n",
       "  </tbody>\n",
       "</table><p>"
      ],
      "text/plain": [
       "<IPython.core.display.HTML object>"
      ]
     },
     "metadata": {},
     "output_type": "display_data"
    },
    {
     "name": "stdout",
     "output_type": "stream",
     "text": [
      "Saved improved model to ./model_output/finetuned_model_all_dora.pth\n",
      "Saved improved model to ./model_output/finetuned_model_all_dora.pth\n",
      "Saved improved model to ./model_output/finetuned_model_all_dora.pth\n",
      "Saved improved model to ./model_output/finetuned_model_all_dora.pth\n",
      "Saved improved model to ./model_output/finetuned_model_all_dora.pth\n",
      "Saved improved model to ./model_output/finetuned_model_all_dora.pth\n",
      "Saved improved model to ./model_output/finetuned_model_all_dora.pth\n",
      "Saved improved model to ./model_output/finetuned_model_all_dora.pth\n",
      "Saved improved model to ./model_output/finetuned_model_all_dora.pth\n",
      "Loaded best model from ./model_output/finetuned_model_all_dora.pth\n"
     ]
    },
    {
     "data": {
      "text/html": [
       "\n",
       "    <div>\n",
       "      \n",
       "      <progress value='50' max='50' style='width:300px; height:20px; vertical-align: middle;'></progress>\n",
       "      [50/50 00:04]\n",
       "    </div>\n",
       "    "
      ],
      "text/plain": [
       "<IPython.core.display.HTML object>"
      ]
     },
     "metadata": {},
     "output_type": "display_data"
    },
    {
     "name": "stdout",
     "output_type": "stream",
     "text": [
      "{'eval_loss': 0.5298455357551575, 'eval_accuracy': 0.7777777777777778, 'eval_runtime': 4.6145, 'eval_samples_per_second': 85.816, 'eval_steps_per_second': 10.835, 'epoch': 10.0}\n"
     ]
    },
    {
     "name": "stderr",
     "output_type": "stream",
     "text": [
      "[I 2024-06-08 22:02:08,893] Trial 19 finished with values: [0.5298455357551575, 0.7777777777777778] and parameters: {'lr': 1.7766264479059515e-05, 'batch': 2, 'accum': 2, 'dropout_rate': 0.24107261119395096, 'weight_decay': 2.9581617543411885e-05, 'warmup_pct': 0.2042811860877174, 'dora_rank': 24, 'dora_init_scale': 0.00035088954398140827}. \n"
     ]
    },
    {
     "name": "stdout",
     "output_type": "stream",
     "text": [
      "History:  [{'loss': 0.6915, 'learning_rate': 4.350921913239065e-06, 'epoch': 1.0, 'step': 396}, {'eval_loss': 0.6794003844261169, 'eval_accuracy': 0.6060606060606061, 'eval_runtime': 5.0951, 'eval_samples_per_second': 77.722, 'eval_steps_per_second': 9.813, 'epoch': 1.0, 'step': 396}, {'loss': 0.6609, 'learning_rate': 8.70184382647813e-06, 'epoch': 2.0, 'step': 792}, {'eval_loss': 0.6415967345237732, 'eval_accuracy': 0.6893939393939394, 'eval_runtime': 4.4441, 'eval_samples_per_second': 89.107, 'eval_steps_per_second': 11.251, 'epoch': 2.0, 'step': 792}, {'loss': 0.618, 'learning_rate': 1.3052765739717196e-05, 'epoch': 3.0, 'step': 1188}, {'eval_loss': 0.5998033285140991, 'eval_accuracy': 0.7171717171717171, 'eval_runtime': 4.4499, 'eval_samples_per_second': 88.991, 'eval_steps_per_second': 11.236, 'epoch': 3.0, 'step': 1188}, {'loss': 0.5792, 'learning_rate': 1.740368765295626e-05, 'epoch': 4.0, 'step': 1584}, {'eval_loss': 0.567451536655426, 'eval_accuracy': 0.76010101010101, 'eval_runtime': 4.4545, 'eval_samples_per_second': 88.899, 'eval_steps_per_second': 11.225, 'epoch': 4.0, 'step': 1584}, {'loss': 0.5509, 'learning_rate': 1.501374463019114e-05, 'epoch': 5.0, 'step': 1980}, {'eval_loss': 0.5484338402748108, 'eval_accuracy': 0.76010101010101, 'eval_runtime': 4.6211, 'eval_samples_per_second': 85.694, 'eval_steps_per_second': 10.82, 'epoch': 5.0, 'step': 1980}, {'loss': 0.5306, 'learning_rate': 1.2010995704152911e-05, 'epoch': 6.0, 'step': 2376}, {'eval_loss': 0.5377705097198486, 'eval_accuracy': 0.7626262626262627, 'eval_runtime': 4.6137, 'eval_samples_per_second': 85.831, 'eval_steps_per_second': 10.837, 'epoch': 6.0, 'step': 2376}, {'loss': 0.5161, 'learning_rate': 9.008246778114683e-06, 'epoch': 7.0, 'step': 2772}, {'eval_loss': 0.5334542989730835, 'eval_accuracy': 0.7702020202020202, 'eval_runtime': 4.6292, 'eval_samples_per_second': 85.544, 'eval_steps_per_second': 10.801, 'epoch': 7.0, 'step': 2772}, {'loss': 0.5097, 'learning_rate': 6.0054978520764555e-06, 'epoch': 8.0, 'step': 3168}, {'eval_loss': 0.5309571623802185, 'eval_accuracy': 0.7777777777777778, 'eval_runtime': 4.6234, 'eval_samples_per_second': 85.652, 'eval_steps_per_second': 10.815, 'epoch': 8.0, 'step': 3168}, {'loss': 0.5092, 'learning_rate': 3.0027489260382277e-06, 'epoch': 9.0, 'step': 3564}, {'eval_loss': 0.5303267240524292, 'eval_accuracy': 0.7777777777777778, 'eval_runtime': 4.6118, 'eval_samples_per_second': 85.867, 'eval_steps_per_second': 10.842, 'epoch': 9.0, 'step': 3564}, {'loss': 0.5026, 'learning_rate': 0.0, 'epoch': 10.0, 'step': 3960}, {'eval_loss': 0.5298455357551575, 'eval_accuracy': 0.7777777777777778, 'eval_runtime': 4.615, 'eval_samples_per_second': 85.806, 'eval_steps_per_second': 10.834, 'epoch': 10.0, 'step': 3960}, {'train_runtime': 724.1045, 'train_samples_per_second': 21.875, 'train_steps_per_second': 5.469, 'total_flos': 3907230233258880.0, 'train_loss': 0.566873797021731, 'epoch': 10.0, 'step': 3960}, {'eval_loss': 0.5298455357551575, 'eval_accuracy': 0.7777777777777778, 'eval_runtime': 4.6145, 'eval_samples_per_second': 85.816, 'eval_steps_per_second': 10.835, 'epoch': 10.0, 'step': 3960}]\n"
     ]
    },
    {
     "name": "stderr",
     "output_type": "stream",
     "text": [
      "/home/ubuntu/data/miniconda3/envs/finetune-dephos/lib/python3.9/site-packages/huggingface_hub/file_download.py:1132: FutureWarning: `resume_download` is deprecated and will be removed in version 1.0.0. Downloads always resume when possible. If you want to force a new download, use `force_download=True`.\n",
      "  warnings.warn(\n"
     ]
    },
    {
     "name": "stdout",
     "output_type": "stream",
     "text": [
      "ProtT5_Classfier\n",
      "Trainable Parameter: 1209193475.0\n",
      "ProtT5_DoRA_Classfier\n",
      "Trainable Parameter: 1200131.0\n",
      "\n"
     ]
    },
    {
     "name": "stderr",
     "output_type": "stream",
     "text": [
      "/home/ubuntu/data/miniconda3/envs/finetune-dephos/lib/python3.9/site-packages/accelerate/accelerator.py:446: FutureWarning: Passing the following arguments to `Accelerator` is deprecated and will be removed in version 1.0 of Accelerate: dict_keys(['dispatch_batches', 'split_batches']). Please pass an `accelerate.DataLoaderConfiguration` instead: \n",
      "dataloader_config = DataLoaderConfiguration(dispatch_batches=None, split_batches=False)\n",
      "  warnings.warn(\n"
     ]
    },
    {
     "data": {
      "text/html": [
       "\n",
       "    <div>\n",
       "      \n",
       "      <progress value='1980' max='1980' style='width:300px; height:20px; vertical-align: middle;'></progress>\n",
       "      [1980/1980 11:49, Epoch 10/10]\n",
       "    </div>\n",
       "    <table border=\"1\" class=\"dataframe\">\n",
       "  <thead>\n",
       " <tr style=\"text-align: left;\">\n",
       "      <th>Epoch</th>\n",
       "      <th>Training Loss</th>\n",
       "      <th>Validation Loss</th>\n",
       "      <th>Accuracy</th>\n",
       "    </tr>\n",
       "  </thead>\n",
       "  <tbody>\n",
       "    <tr>\n",
       "      <td>1</td>\n",
       "      <td>0.738700</td>\n",
       "      <td>0.642294</td>\n",
       "      <td>0.699495</td>\n",
       "    </tr>\n",
       "    <tr>\n",
       "      <td>2</td>\n",
       "      <td>0.672400</td>\n",
       "      <td>0.584137</td>\n",
       "      <td>0.722222</td>\n",
       "    </tr>\n",
       "    <tr>\n",
       "      <td>3</td>\n",
       "      <td>0.650200</td>\n",
       "      <td>0.564078</td>\n",
       "      <td>0.747475</td>\n",
       "    </tr>\n",
       "    <tr>\n",
       "      <td>4</td>\n",
       "      <td>0.621300</td>\n",
       "      <td>0.556850</td>\n",
       "      <td>0.755051</td>\n",
       "    </tr>\n",
       "    <tr>\n",
       "      <td>5</td>\n",
       "      <td>0.621500</td>\n",
       "      <td>0.552055</td>\n",
       "      <td>0.752525</td>\n",
       "    </tr>\n",
       "    <tr>\n",
       "      <td>6</td>\n",
       "      <td>0.603600</td>\n",
       "      <td>0.544745</td>\n",
       "      <td>0.755051</td>\n",
       "    </tr>\n",
       "    <tr>\n",
       "      <td>7</td>\n",
       "      <td>0.620500</td>\n",
       "      <td>0.541689</td>\n",
       "      <td>0.755051</td>\n",
       "    </tr>\n",
       "    <tr>\n",
       "      <td>8</td>\n",
       "      <td>0.613100</td>\n",
       "      <td>0.541100</td>\n",
       "      <td>0.762626</td>\n",
       "    </tr>\n",
       "    <tr>\n",
       "      <td>9</td>\n",
       "      <td>0.584400</td>\n",
       "      <td>0.540454</td>\n",
       "      <td>0.757576</td>\n",
       "    </tr>\n",
       "    <tr>\n",
       "      <td>10</td>\n",
       "      <td>0.615500</td>\n",
       "      <td>0.539967</td>\n",
       "      <td>0.757576</td>\n",
       "    </tr>\n",
       "  </tbody>\n",
       "</table><p>"
      ],
      "text/plain": [
       "<IPython.core.display.HTML object>"
      ]
     },
     "metadata": {},
     "output_type": "display_data"
    },
    {
     "name": "stdout",
     "output_type": "stream",
     "text": [
      "Saved improved model to ./model_output/finetuned_model_all_dora.pth\n",
      "Saved improved model to ./model_output/finetuned_model_all_dora.pth\n",
      "Saved improved model to ./model_output/finetuned_model_all_dora.pth\n",
      "Saved improved model to ./model_output/finetuned_model_all_dora.pth\n",
      "Saved improved model to ./model_output/finetuned_model_all_dora.pth\n",
      "Saved improved model to ./model_output/finetuned_model_all_dora.pth\n",
      "Saved improved model to ./model_output/finetuned_model_all_dora.pth\n",
      "Saved improved model to ./model_output/finetuned_model_all_dora.pth\n",
      "Saved improved model to ./model_output/finetuned_model_all_dora.pth\n",
      "Loaded best model from ./model_output/finetuned_model_all_dora.pth\n"
     ]
    },
    {
     "data": {
      "text/html": [
       "\n",
       "    <div>\n",
       "      \n",
       "      <progress value='50' max='50' style='width:300px; height:20px; vertical-align: middle;'></progress>\n",
       "      [50/50 00:04]\n",
       "    </div>\n",
       "    "
      ],
      "text/plain": [
       "<IPython.core.display.HTML object>"
      ]
     },
     "metadata": {},
     "output_type": "display_data"
    },
    {
     "name": "stdout",
     "output_type": "stream",
     "text": [
      "{'eval_loss': 0.5399670600891113, 'eval_accuracy': 0.7575757575757576, 'eval_runtime': 4.6169, 'eval_samples_per_second': 85.772, 'eval_steps_per_second': 10.83, 'epoch': 10.0}\n",
      "History:  [{'loss': 0.7387, 'learning_rate': 0.00017257514088107602, 'epoch': 1.0, 'step': 198}, {'eval_loss': 0.6422942876815796, 'eval_accuracy': 0.6994949494949495, 'eval_runtime': 5.1597, 'eval_samples_per_second': 76.749, 'eval_steps_per_second': 9.691, 'epoch': 1.0, 'step': 198}, {'loss': 0.6724, 'learning_rate': 0.00019950883338852718, 'epoch': 2.0, 'step': 396}, {'eval_loss': 0.5841372013092041, 'eval_accuracy': 0.7222222222222222, 'eval_runtime': 4.7179, 'eval_samples_per_second': 83.936, 'eval_steps_per_second': 10.598, 'epoch': 2.0, 'step': 396}, {'loss': 0.6502, 'learning_rate': 0.00017457022921496128, 'epoch': 3.0, 'step': 594}, {'eval_loss': 0.5640780925750732, 'eval_accuracy': 0.7474747474747475, 'eval_runtime': 4.6524, 'eval_samples_per_second': 85.118, 'eval_steps_per_second': 10.747, 'epoch': 3.0, 'step': 594}, {'loss': 0.6213, 'learning_rate': 0.00014963162504139538, 'epoch': 4.0, 'step': 792}, {'eval_loss': 0.5568501353263855, 'eval_accuracy': 0.7550505050505051, 'eval_runtime': 4.6083, 'eval_samples_per_second': 85.931, 'eval_steps_per_second': 10.85, 'epoch': 4.0, 'step': 792}, {'loss': 0.6215, 'learning_rate': 0.00012469302086782948, 'epoch': 5.0, 'step': 990}, {'eval_loss': 0.5520548820495605, 'eval_accuracy': 0.7525252525252525, 'eval_runtime': 4.6254, 'eval_samples_per_second': 85.614, 'eval_steps_per_second': 10.81, 'epoch': 5.0, 'step': 990}, {'loss': 0.6036, 'learning_rate': 9.975441669426359e-05, 'epoch': 6.0, 'step': 1188}, {'eval_loss': 0.5447449088096619, 'eval_accuracy': 0.7550505050505051, 'eval_runtime': 4.6075, 'eval_samples_per_second': 85.947, 'eval_steps_per_second': 10.852, 'epoch': 6.0, 'step': 1188}, {'loss': 0.6205, 'learning_rate': 7.481581252069769e-05, 'epoch': 7.0, 'step': 1386}, {'eval_loss': 0.5416889190673828, 'eval_accuracy': 0.7550505050505051, 'eval_runtime': 4.6145, 'eval_samples_per_second': 85.816, 'eval_steps_per_second': 10.835, 'epoch': 7.0, 'step': 1386}, {'loss': 0.6131, 'learning_rate': 4.9877208347131794e-05, 'epoch': 8.0, 'step': 1584}, {'eval_loss': 0.5411003828048706, 'eval_accuracy': 0.7626262626262627, 'eval_runtime': 4.6079, 'eval_samples_per_second': 85.939, 'eval_steps_per_second': 10.851, 'epoch': 8.0, 'step': 1584}, {'loss': 0.5844, 'learning_rate': 2.4938604173565897e-05, 'epoch': 9.0, 'step': 1782}, {'eval_loss': 0.5404538512229919, 'eval_accuracy': 0.7575757575757576, 'eval_runtime': 4.6077, 'eval_samples_per_second': 85.943, 'eval_steps_per_second': 10.851, 'epoch': 9.0, 'step': 1782}, {'loss': 0.6155, 'learning_rate': 0.0, 'epoch': 10.0, 'step': 1980}, {'eval_loss': 0.5399670600891113, 'eval_accuracy': 0.7575757575757576, 'eval_runtime': 4.607, 'eval_samples_per_second': 85.955, 'eval_steps_per_second': 10.853, 'epoch': 10.0, 'step': 1980}, {'train_runtime': 709.8142, 'train_samples_per_second': 22.316, 'train_steps_per_second': 2.789, 'total_flos': 3907230233258880.0, 'train_loss': 0.6341269136679293, 'epoch': 10.0, 'step': 1980}, {'eval_loss': 0.5399670600891113, 'eval_accuracy': 0.7575757575757576, 'eval_runtime': 4.6169, 'eval_samples_per_second': 85.772, 'eval_steps_per_second': 10.83, 'epoch': 10.0, 'step': 1980}]\n"
     ]
    },
    {
     "name": "stderr",
     "output_type": "stream",
     "text": [
      "[I 2024-06-08 22:15:47,933] Trial 20 finished with values: [0.5399670600891113, 0.7575757575757576] and parameters: {'lr': 0.00021789790515287376, 'batch': 2, 'accum': 4, 'dropout_rate': 0.8697083825533855, 'weight_decay': 0.00013592059775527796, 'warmup_pct': 0.031627511962186536, 'dora_rank': 8, 'dora_init_scale': 0.005877666243604953}. \n",
      "/home/ubuntu/data/miniconda3/envs/finetune-dephos/lib/python3.9/site-packages/huggingface_hub/file_download.py:1132: FutureWarning: `resume_download` is deprecated and will be removed in version 1.0.0. Downloads always resume when possible. If you want to force a new download, use `force_download=True`.\n",
      "  warnings.warn(\n"
     ]
    },
    {
     "name": "stdout",
     "output_type": "stream",
     "text": [
      "ProtT5_Classfier\n",
      "Trainable Parameter: 1209193475.0\n",
      "ProtT5_DoRA_Classfier\n",
      "Trainable Parameter: 1200131.0\n",
      "\n"
     ]
    },
    {
     "name": "stderr",
     "output_type": "stream",
     "text": [
      "/home/ubuntu/data/miniconda3/envs/finetune-dephos/lib/python3.9/site-packages/accelerate/accelerator.py:446: FutureWarning: Passing the following arguments to `Accelerator` is deprecated and will be removed in version 1.0 of Accelerate: dict_keys(['dispatch_batches', 'split_batches']). Please pass an `accelerate.DataLoaderConfiguration` instead: \n",
      "dataloader_config = DataLoaderConfiguration(dispatch_batches=None, split_batches=False)\n",
      "  warnings.warn(\n"
     ]
    },
    {
     "data": {
      "text/html": [
       "\n",
       "    <div>\n",
       "      \n",
       "      <progress value='1980' max='1980' style='width:300px; height:20px; vertical-align: middle;'></progress>\n",
       "      [1980/1980 11:47, Epoch 10/10]\n",
       "    </div>\n",
       "    <table border=\"1\" class=\"dataframe\">\n",
       "  <thead>\n",
       " <tr style=\"text-align: left;\">\n",
       "      <th>Epoch</th>\n",
       "      <th>Training Loss</th>\n",
       "      <th>Validation Loss</th>\n",
       "      <th>Accuracy</th>\n",
       "    </tr>\n",
       "  </thead>\n",
       "  <tbody>\n",
       "    <tr>\n",
       "      <td>1</td>\n",
       "      <td>0.684600</td>\n",
       "      <td>0.624026</td>\n",
       "      <td>0.727273</td>\n",
       "    </tr>\n",
       "    <tr>\n",
       "      <td>2</td>\n",
       "      <td>0.601500</td>\n",
       "      <td>0.551517</td>\n",
       "      <td>0.752525</td>\n",
       "    </tr>\n",
       "    <tr>\n",
       "      <td>3</td>\n",
       "      <td>0.590600</td>\n",
       "      <td>0.549204</td>\n",
       "      <td>0.727273</td>\n",
       "    </tr>\n",
       "    <tr>\n",
       "      <td>4</td>\n",
       "      <td>0.587100</td>\n",
       "      <td>0.540970</td>\n",
       "      <td>0.750000</td>\n",
       "    </tr>\n",
       "    <tr>\n",
       "      <td>5</td>\n",
       "      <td>0.588200</td>\n",
       "      <td>0.532271</td>\n",
       "      <td>0.744949</td>\n",
       "    </tr>\n",
       "    <tr>\n",
       "      <td>6</td>\n",
       "      <td>0.603100</td>\n",
       "      <td>0.543613</td>\n",
       "      <td>0.757576</td>\n",
       "    </tr>\n",
       "    <tr>\n",
       "      <td>7</td>\n",
       "      <td>0.580900</td>\n",
       "      <td>0.522837</td>\n",
       "      <td>0.762626</td>\n",
       "    </tr>\n",
       "    <tr>\n",
       "      <td>8</td>\n",
       "      <td>0.562700</td>\n",
       "      <td>0.526459</td>\n",
       "      <td>0.760101</td>\n",
       "    </tr>\n",
       "    <tr>\n",
       "      <td>9</td>\n",
       "      <td>0.521500</td>\n",
       "      <td>0.523446</td>\n",
       "      <td>0.767677</td>\n",
       "    </tr>\n",
       "    <tr>\n",
       "      <td>10</td>\n",
       "      <td>0.541600</td>\n",
       "      <td>0.518374</td>\n",
       "      <td>0.772727</td>\n",
       "    </tr>\n",
       "  </tbody>\n",
       "</table><p>"
      ],
      "text/plain": [
       "<IPython.core.display.HTML object>"
      ]
     },
     "metadata": {},
     "output_type": "display_data"
    },
    {
     "name": "stdout",
     "output_type": "stream",
     "text": [
      "Saved improved model to ./model_output/finetuned_model_all_dora.pth\n",
      "Saved improved model to ./model_output/finetuned_model_all_dora.pth\n",
      "Saved improved model to ./model_output/finetuned_model_all_dora.pth\n",
      "Saved improved model to ./model_output/finetuned_model_all_dora.pth\n",
      "Saved improved model to ./model_output/finetuned_model_all_dora.pth\n",
      "Saved improved model to ./model_output/finetuned_model_all_dora.pth\n",
      "Saved improved model to ./model_output/finetuned_model_all_dora.pth\n",
      "Saved improved model to ./model_output/finetuned_model_all_dora.pth\n",
      "Saved improved model to ./model_output/finetuned_model_all_dora.pth\n",
      "Loaded best model from ./model_output/finetuned_model_all_dora.pth\n"
     ]
    },
    {
     "data": {
      "text/html": [
       "\n",
       "    <div>\n",
       "      \n",
       "      <progress value='50' max='50' style='width:300px; height:20px; vertical-align: middle;'></progress>\n",
       "      [50/50 00:04]\n",
       "    </div>\n",
       "    "
      ],
      "text/plain": [
       "<IPython.core.display.HTML object>"
      ]
     },
     "metadata": {},
     "output_type": "display_data"
    },
    {
     "name": "stdout",
     "output_type": "stream",
     "text": [
      "{'eval_loss': 0.5183744430541992, 'eval_accuracy': 0.7727272727272727, 'eval_runtime': 4.6014, 'eval_samples_per_second': 86.061, 'eval_steps_per_second': 10.866, 'epoch': 10.0}\n"
     ]
    },
    {
     "name": "stderr",
     "output_type": "stream",
     "text": [
      "[I 2024-06-08 22:29:02,534] Trial 21 finished with values: [0.5183744430541992, 0.7727272727272727] and parameters: {'lr': 0.0007038896725544714, 'batch': 2, 'accum': 4, 'dropout_rate': 0.7553815832446054, 'weight_decay': 3.127929832611763e-05, 'warmup_pct': 0.14446421887545305, 'dora_rank': 8, 'dora_init_scale': 0.0016542170150214757}. \n"
     ]
    },
    {
     "name": "stdout",
     "output_type": "stream",
     "text": [
      "History:  [{'loss': 0.6846, 'learning_rate': 0.00012182705871135081, 'epoch': 1.0, 'step': 198}, {'eval_loss': 0.624026358127594, 'eval_accuracy': 0.7272727272727273, 'eval_runtime': 5.0953, 'eval_samples_per_second': 77.719, 'eval_steps_per_second': 9.813, 'epoch': 1.0, 'step': 198}, {'loss': 0.6015, 'learning_rate': 0.00024365411742270163, 'epoch': 2.0, 'step': 396}, {'eval_loss': 0.5515167713165283, 'eval_accuracy': 0.7525252525252525, 'eval_runtime': 4.7336, 'eval_samples_per_second': 83.658, 'eval_steps_per_second': 10.563, 'epoch': 2.0, 'step': 396}, {'loss': 0.5906, 'learning_rate': 0.00036548117613405246, 'epoch': 3.0, 'step': 594}, {'eval_loss': 0.5492041110992432, 'eval_accuracy': 0.7272727272727273, 'eval_runtime': 4.5995, 'eval_samples_per_second': 86.097, 'eval_steps_per_second': 10.871, 'epoch': 3.0, 'step': 594}, {'loss': 0.5871, 'learning_rate': 0.00048730823484540326, 'epoch': 4.0, 'step': 792}, {'eval_loss': 0.5409696102142334, 'eval_accuracy': 0.75, 'eval_runtime': 4.6078, 'eval_samples_per_second': 85.942, 'eval_steps_per_second': 10.851, 'epoch': 4.0, 'step': 792}, {'loss': 0.5882, 'learning_rate': 0.0006091352935567541, 'epoch': 5.0, 'step': 990}, {'eval_loss': 0.5322709679603577, 'eval_accuracy': 0.7449494949494949, 'eval_runtime': 4.6185, 'eval_samples_per_second': 85.742, 'eval_steps_per_second': 10.826, 'epoch': 5.0, 'step': 990}, {'loss': 0.6031, 'learning_rate': 0.0006668428476831834, 'epoch': 6.0, 'step': 1188}, {'eval_loss': 0.5436134338378906, 'eval_accuracy': 0.7575757575757576, 'eval_runtime': 4.6157, 'eval_samples_per_second': 85.794, 'eval_steps_per_second': 10.833, 'epoch': 6.0, 'step': 1188}, {'loss': 0.5809, 'learning_rate': 0.0005001321357623876, 'epoch': 7.0, 'step': 1386}, {'eval_loss': 0.5228369235992432, 'eval_accuracy': 0.7626262626262627, 'eval_runtime': 4.6136, 'eval_samples_per_second': 85.833, 'eval_steps_per_second': 10.837, 'epoch': 7.0, 'step': 1386}, {'loss': 0.5627, 'learning_rate': 0.0003334214238415917, 'epoch': 8.0, 'step': 1584}, {'eval_loss': 0.5264590382575989, 'eval_accuracy': 0.76010101010101, 'eval_runtime': 4.6082, 'eval_samples_per_second': 85.933, 'eval_steps_per_second': 10.85, 'epoch': 8.0, 'step': 1584}, {'loss': 0.5215, 'learning_rate': 0.00016671071192079584, 'epoch': 9.0, 'step': 1782}, {'eval_loss': 0.5234456062316895, 'eval_accuracy': 0.7676767676767676, 'eval_runtime': 4.6121, 'eval_samples_per_second': 85.861, 'eval_steps_per_second': 10.841, 'epoch': 9.0, 'step': 1782}, {'loss': 0.5416, 'learning_rate': 0.0, 'epoch': 10.0, 'step': 1980}, {'eval_loss': 0.5183744430541992, 'eval_accuracy': 0.7727272727272727, 'eval_runtime': 4.6058, 'eval_samples_per_second': 85.979, 'eval_steps_per_second': 10.856, 'epoch': 10.0, 'step': 1980}, {'train_runtime': 707.8052, 'train_samples_per_second': 22.379, 'train_steps_per_second': 2.797, 'total_flos': 3907230233258880.0, 'train_loss': 0.5862046444054806, 'epoch': 10.0, 'step': 1980}, {'eval_loss': 0.5183744430541992, 'eval_accuracy': 0.7727272727272727, 'eval_runtime': 4.6014, 'eval_samples_per_second': 86.061, 'eval_steps_per_second': 10.866, 'epoch': 10.0, 'step': 1980}]\n"
     ]
    },
    {
     "name": "stderr",
     "output_type": "stream",
     "text": [
      "/home/ubuntu/data/miniconda3/envs/finetune-dephos/lib/python3.9/site-packages/huggingface_hub/file_download.py:1132: FutureWarning: `resume_download` is deprecated and will be removed in version 1.0.0. Downloads always resume when possible. If you want to force a new download, use `force_download=True`.\n",
      "  warnings.warn(\n"
     ]
    },
    {
     "name": "stdout",
     "output_type": "stream",
     "text": [
      "ProtT5_Classfier\n",
      "Trainable Parameter: 1209193475.0\n",
      "ProtT5_DoRA_Classfier\n",
      "Trainable Parameter: 1200131.0\n",
      "\n"
     ]
    },
    {
     "name": "stderr",
     "output_type": "stream",
     "text": [
      "/home/ubuntu/data/miniconda3/envs/finetune-dephos/lib/python3.9/site-packages/accelerate/accelerator.py:446: FutureWarning: Passing the following arguments to `Accelerator` is deprecated and will be removed in version 1.0 of Accelerate: dict_keys(['dispatch_batches', 'split_batches']). Please pass an `accelerate.DataLoaderConfiguration` instead: \n",
      "dataloader_config = DataLoaderConfiguration(dispatch_batches=None, split_batches=False)\n",
      "  warnings.warn(\n"
     ]
    },
    {
     "data": {
      "text/html": [
       "\n",
       "    <div>\n",
       "      \n",
       "      <progress value='1980' max='1980' style='width:300px; height:20px; vertical-align: middle;'></progress>\n",
       "      [1980/1980 08:20, Epoch 10/10]\n",
       "    </div>\n",
       "    <table border=\"1\" class=\"dataframe\">\n",
       "  <thead>\n",
       " <tr style=\"text-align: left;\">\n",
       "      <th>Epoch</th>\n",
       "      <th>Training Loss</th>\n",
       "      <th>Validation Loss</th>\n",
       "      <th>Accuracy</th>\n",
       "    </tr>\n",
       "  </thead>\n",
       "  <tbody>\n",
       "    <tr>\n",
       "      <td>1</td>\n",
       "      <td>0.635600</td>\n",
       "      <td>0.540021</td>\n",
       "      <td>0.747475</td>\n",
       "    </tr>\n",
       "    <tr>\n",
       "      <td>2</td>\n",
       "      <td>0.584000</td>\n",
       "      <td>0.547348</td>\n",
       "      <td>0.737374</td>\n",
       "    </tr>\n",
       "    <tr>\n",
       "      <td>3</td>\n",
       "      <td>0.578900</td>\n",
       "      <td>0.550993</td>\n",
       "      <td>0.742424</td>\n",
       "    </tr>\n",
       "    <tr>\n",
       "      <td>4</td>\n",
       "      <td>0.528500</td>\n",
       "      <td>0.540533</td>\n",
       "      <td>0.750000</td>\n",
       "    </tr>\n",
       "    <tr>\n",
       "      <td>5</td>\n",
       "      <td>0.516600</td>\n",
       "      <td>0.561804</td>\n",
       "      <td>0.760101</td>\n",
       "    </tr>\n",
       "    <tr>\n",
       "      <td>6</td>\n",
       "      <td>0.510700</td>\n",
       "      <td>0.546893</td>\n",
       "      <td>0.767677</td>\n",
       "    </tr>\n",
       "    <tr>\n",
       "      <td>7</td>\n",
       "      <td>0.496900</td>\n",
       "      <td>0.547985</td>\n",
       "      <td>0.767677</td>\n",
       "    </tr>\n",
       "    <tr>\n",
       "      <td>8</td>\n",
       "      <td>0.474700</td>\n",
       "      <td>0.558872</td>\n",
       "      <td>0.770202</td>\n",
       "    </tr>\n",
       "    <tr>\n",
       "      <td>9</td>\n",
       "      <td>0.485100</td>\n",
       "      <td>0.547045</td>\n",
       "      <td>0.765152</td>\n",
       "    </tr>\n",
       "    <tr>\n",
       "      <td>10</td>\n",
       "      <td>0.455100</td>\n",
       "      <td>0.547332</td>\n",
       "      <td>0.765152</td>\n",
       "    </tr>\n",
       "  </tbody>\n",
       "</table><p>"
      ],
      "text/plain": [
       "<IPython.core.display.HTML object>"
      ]
     },
     "metadata": {},
     "output_type": "display_data"
    },
    {
     "name": "stdout",
     "output_type": "stream",
     "text": [
      "Saved improved model to ./model_output/finetuned_model_all_dora.pth\n",
      "Saved improved model to ./model_output/finetuned_model_all_dora.pth\n",
      "Saved improved model to ./model_output/finetuned_model_all_dora.pth\n",
      "Saved improved model to ./model_output/finetuned_model_all_dora.pth\n",
      "Saved improved model to ./model_output/finetuned_model_all_dora.pth\n",
      "Loaded best model from ./model_output/finetuned_model_all_dora.pth\n"
     ]
    },
    {
     "data": {
      "text/html": [
       "\n",
       "    <div>\n",
       "      \n",
       "      <progress value='50' max='50' style='width:300px; height:20px; vertical-align: middle;'></progress>\n",
       "      [50/50 00:04]\n",
       "    </div>\n",
       "    "
      ],
      "text/plain": [
       "<IPython.core.display.HTML object>"
      ]
     },
     "metadata": {},
     "output_type": "display_data"
    },
    {
     "name": "stdout",
     "output_type": "stream",
     "text": [
      "Stopping early at epoch 10.0: No improvement in loss or accuracy for 3 evaluations.\n",
      "{'eval_loss': 0.5588715076446533, 'eval_accuracy': 0.7702020202020202, 'eval_runtime': 4.5997, 'eval_samples_per_second': 86.092, 'eval_steps_per_second': 10.87, 'epoch': 10.0}\n"
     ]
    },
    {
     "name": "stderr",
     "output_type": "stream",
     "text": [
      "[I 2024-06-08 22:38:44,823] Trial 22 finished with values: [0.5588715076446533, 0.7702020202020202] and parameters: {'lr': 0.000987959655224747, 'batch': 4, 'accum': 2, 'dropout_rate': 0.5975840658593892, 'weight_decay': 0.0003374246180481836, 'warmup_pct': 0.09421509590985637, 'dora_rank': 32, 'dora_init_scale': 0.00022047934304568042}. \n"
     ]
    },
    {
     "name": "stdout",
     "output_type": "stream",
     "text": [
      "History:  [{'loss': 0.6356, 'learning_rate': 0.0005244397097439675, 'epoch': 1.0, 'step': 198}, {'eval_loss': 0.5400214791297913, 'eval_accuracy': 0.7474747474747475, 'eval_runtime': 5.1005, 'eval_samples_per_second': 77.639, 'eval_steps_per_second': 9.803, 'epoch': 1.0, 'step': 198}, {'loss': 0.584, 'learning_rate': 0.0009738195979315489, 'epoch': 2.0, 'step': 396}, {'eval_loss': 0.5473482012748718, 'eval_accuracy': 0.7373737373737373, 'eval_runtime': 4.6483, 'eval_samples_per_second': 85.192, 'eval_steps_per_second': 10.757, 'epoch': 2.0, 'step': 396}, {'loss': 0.5789, 'learning_rate': 0.0008520921481901053, 'epoch': 3.0, 'step': 594}, {'eval_loss': 0.5509933829307556, 'eval_accuracy': 0.7424242424242424, 'eval_runtime': 4.6172, 'eval_samples_per_second': 85.766, 'eval_steps_per_second': 10.829, 'epoch': 3.0, 'step': 594}, {'loss': 0.5285, 'learning_rate': 0.0007303646984486617, 'epoch': 4.0, 'step': 792}, {'eval_loss': 0.5405333042144775, 'eval_accuracy': 0.75, 'eval_runtime': 4.6117, 'eval_samples_per_second': 85.868, 'eval_steps_per_second': 10.842, 'epoch': 4.0, 'step': 792}, {'loss': 0.5166, 'learning_rate': 0.0006086372487072181, 'epoch': 5.0, 'step': 990}, {'eval_loss': 0.5618035197257996, 'eval_accuracy': 0.76010101010101, 'eval_runtime': 4.648, 'eval_samples_per_second': 85.198, 'eval_steps_per_second': 10.757, 'epoch': 5.0, 'step': 990}, {'loss': 0.5107, 'learning_rate': 0.00048690979896577445, 'epoch': 6.0, 'step': 1188}, {'eval_loss': 0.5468934178352356, 'eval_accuracy': 0.7676767676767676, 'eval_runtime': 4.6256, 'eval_samples_per_second': 85.61, 'eval_steps_per_second': 10.809, 'epoch': 6.0, 'step': 1188}, {'loss': 0.4969, 'learning_rate': 0.00036518234922433085, 'epoch': 7.0, 'step': 1386}, {'eval_loss': 0.5479848980903625, 'eval_accuracy': 0.7676767676767676, 'eval_runtime': 4.599, 'eval_samples_per_second': 86.105, 'eval_steps_per_second': 10.872, 'epoch': 7.0, 'step': 1386}, {'loss': 0.4747, 'learning_rate': 0.00024345489948288722, 'epoch': 8.0, 'step': 1584}, {'eval_loss': 0.5588715076446533, 'eval_accuracy': 0.7702020202020202, 'eval_runtime': 4.6125, 'eval_samples_per_second': 85.854, 'eval_steps_per_second': 10.84, 'epoch': 8.0, 'step': 1584}, {'loss': 0.4851, 'learning_rate': 0.00012172744974144361, 'epoch': 9.0, 'step': 1782}, {'eval_loss': 0.5470449328422546, 'eval_accuracy': 0.7651515151515151, 'eval_runtime': 4.6028, 'eval_samples_per_second': 86.034, 'eval_steps_per_second': 10.863, 'epoch': 9.0, 'step': 1782}, {'loss': 0.4551, 'learning_rate': 0.0, 'epoch': 10.0, 'step': 1980}, {'eval_loss': 0.547332227230072, 'eval_accuracy': 0.7651515151515151, 'eval_runtime': 4.604, 'eval_samples_per_second': 86.012, 'eval_steps_per_second': 10.86, 'epoch': 10.0, 'step': 1980}, {'train_runtime': 500.4681, 'train_samples_per_second': 31.65, 'train_steps_per_second': 3.956, 'total_flos': 3907230233258880.0, 'train_loss': 0.5266151890610203, 'epoch': 10.0, 'step': 1980}, {'eval_loss': 0.5588715076446533, 'eval_accuracy': 0.7702020202020202, 'eval_runtime': 4.5997, 'eval_samples_per_second': 86.092, 'eval_steps_per_second': 10.87, 'epoch': 10.0, 'step': 1980}]\n"
     ]
    },
    {
     "name": "stderr",
     "output_type": "stream",
     "text": [
      "/home/ubuntu/data/miniconda3/envs/finetune-dephos/lib/python3.9/site-packages/huggingface_hub/file_download.py:1132: FutureWarning: `resume_download` is deprecated and will be removed in version 1.0.0. Downloads always resume when possible. If you want to force a new download, use `force_download=True`.\n",
      "  warnings.warn(\n"
     ]
    },
    {
     "name": "stdout",
     "output_type": "stream",
     "text": [
      "ProtT5_Classfier\n",
      "Trainable Parameter: 1209193475.0\n",
      "ProtT5_DoRA_Classfier\n",
      "Trainable Parameter: 1200131.0\n",
      "\n"
     ]
    },
    {
     "name": "stderr",
     "output_type": "stream",
     "text": [
      "/home/ubuntu/data/miniconda3/envs/finetune-dephos/lib/python3.9/site-packages/accelerate/accelerator.py:446: FutureWarning: Passing the following arguments to `Accelerator` is deprecated and will be removed in version 1.0 of Accelerate: dict_keys(['dispatch_batches', 'split_batches']). Please pass an `accelerate.DataLoaderConfiguration` instead: \n",
      "dataloader_config = DataLoaderConfiguration(dispatch_batches=None, split_batches=False)\n",
      "  warnings.warn(\n"
     ]
    },
    {
     "data": {
      "text/html": [
       "\n",
       "    <div>\n",
       "      \n",
       "      <progress value='1584' max='3960' style='width:300px; height:20px; vertical-align: middle;'></progress>\n",
       "      [1584/3960 07:08 < 10:43, 3.69 it/s, Epoch 4/10]\n",
       "    </div>\n",
       "    <table border=\"1\" class=\"dataframe\">\n",
       "  <thead>\n",
       " <tr style=\"text-align: left;\">\n",
       "      <th>Epoch</th>\n",
       "      <th>Training Loss</th>\n",
       "      <th>Validation Loss</th>\n",
       "      <th>Accuracy</th>\n",
       "    </tr>\n",
       "  </thead>\n",
       "  <tbody>\n",
       "    <tr>\n",
       "      <td>1</td>\n",
       "      <td>0.620400</td>\n",
       "      <td>0.558668</td>\n",
       "      <td>0.737374</td>\n",
       "    </tr>\n",
       "    <tr>\n",
       "      <td>2</td>\n",
       "      <td>0.623500</td>\n",
       "      <td>0.575428</td>\n",
       "      <td>0.709596</td>\n",
       "    </tr>\n",
       "    <tr>\n",
       "      <td>3</td>\n",
       "      <td>0.671800</td>\n",
       "      <td>0.633814</td>\n",
       "      <td>0.722222</td>\n",
       "    </tr>\n",
       "    <tr>\n",
       "      <td>4</td>\n",
       "      <td>0.688200</td>\n",
       "      <td>0.613762</td>\n",
       "      <td>0.732323</td>\n",
       "    </tr>\n",
       "  </tbody>\n",
       "</table><p>"
      ],
      "text/plain": [
       "<IPython.core.display.HTML object>"
      ]
     },
     "metadata": {},
     "output_type": "display_data"
    },
    {
     "name": "stdout",
     "output_type": "stream",
     "text": [
      "Saved improved model to ./model_output/finetuned_model_all_dora.pth\n",
      "Stopping early at epoch 4.0: No improvement in loss or accuracy for 3 evaluations.\n",
      "Loaded best model from ./model_output/finetuned_model_all_dora.pth\n"
     ]
    },
    {
     "data": {
      "text/html": [
       "\n",
       "    <div>\n",
       "      \n",
       "      <progress value='50' max='50' style='width:300px; height:20px; vertical-align: middle;'></progress>\n",
       "      [50/50 00:04]\n",
       "    </div>\n",
       "    "
      ],
      "text/plain": [
       "<IPython.core.display.HTML object>"
      ]
     },
     "metadata": {},
     "output_type": "display_data"
    },
    {
     "name": "stdout",
     "output_type": "stream",
     "text": [
      "Stopping early at epoch 4.0: No improvement in loss or accuracy for 3 evaluations.\n",
      "{'eval_loss': 0.5586676597595215, 'eval_accuracy': 0.7373737373737373, 'eval_runtime': 4.6137, 'eval_samples_per_second': 85.831, 'eval_steps_per_second': 10.837, 'epoch': 4.0}\n"
     ]
    },
    {
     "name": "stderr",
     "output_type": "stream",
     "text": [
      "[I 2024-06-08 22:47:17,387] Trial 23 finished with values: [0.5586676597595215, 0.7373737373737373] and parameters: {'lr': 0.005268625172444968, 'batch': 1, 'accum': 4, 'dropout_rate': 0.4581756627101894, 'weight_decay': 1.4520894586923526e-05, 'warmup_pct': 0.2175830842150251, 'dora_rank': 8, 'dora_init_scale': 0.0002846959344142834}. \n"
     ]
    },
    {
     "name": "stdout",
     "output_type": "stream",
     "text": [
      "History:  [{'loss': 0.6204, 'learning_rate': 0.0006054485108207218, 'epoch': 1.0, 'step': 396}, {'eval_loss': 0.5586676597595215, 'eval_accuracy': 0.7373737373737373, 'eval_runtime': 5.097, 'eval_samples_per_second': 77.693, 'eval_steps_per_second': 9.81, 'epoch': 1.0, 'step': 396}, {'loss': 0.6235, 'learning_rate': 0.0012108970216414437, 'epoch': 2.0, 'step': 792}, {'eval_loss': 0.5754277110099792, 'eval_accuracy': 0.7095959595959596, 'eval_runtime': 4.7531, 'eval_samples_per_second': 83.314, 'eval_steps_per_second': 10.519, 'epoch': 2.0, 'step': 792}, {'loss': 0.6718, 'learning_rate': 0.0018163455324621653, 'epoch': 3.0, 'step': 1188}, {'eval_loss': 0.63381427526474, 'eval_accuracy': 0.7222222222222222, 'eval_runtime': 4.6134, 'eval_samples_per_second': 85.837, 'eval_steps_per_second': 10.838, 'epoch': 3.0, 'step': 1188}, {'loss': 0.6882, 'learning_rate': 0.0024217940432828874, 'epoch': 4.0, 'step': 1584}, {'eval_loss': 0.6137624979019165, 'eval_accuracy': 0.7323232323232324, 'eval_runtime': 4.6151, 'eval_samples_per_second': 85.806, 'eval_steps_per_second': 10.834, 'epoch': 4.0, 'step': 1584}, {'train_runtime': 428.6226, 'train_samples_per_second': 36.956, 'train_steps_per_second': 9.239, 'total_flos': 1562892093303552.0, 'train_loss': 0.650987461359814, 'epoch': 4.0, 'step': 1584}, {'eval_loss': 0.5586676597595215, 'eval_accuracy': 0.7373737373737373, 'eval_runtime': 4.6137, 'eval_samples_per_second': 85.831, 'eval_steps_per_second': 10.837, 'epoch': 4.0, 'step': 1584}]\n"
     ]
    },
    {
     "name": "stderr",
     "output_type": "stream",
     "text": [
      "/home/ubuntu/data/miniconda3/envs/finetune-dephos/lib/python3.9/site-packages/huggingface_hub/file_download.py:1132: FutureWarning: `resume_download` is deprecated and will be removed in version 1.0.0. Downloads always resume when possible. If you want to force a new download, use `force_download=True`.\n",
      "  warnings.warn(\n"
     ]
    },
    {
     "name": "stdout",
     "output_type": "stream",
     "text": [
      "ProtT5_Classfier\n",
      "Trainable Parameter: 1209193475.0\n",
      "ProtT5_DoRA_Classfier\n",
      "Trainable Parameter: 1200131.0\n",
      "\n"
     ]
    },
    {
     "name": "stderr",
     "output_type": "stream",
     "text": [
      "/home/ubuntu/data/miniconda3/envs/finetune-dephos/lib/python3.9/site-packages/accelerate/accelerator.py:446: FutureWarning: Passing the following arguments to `Accelerator` is deprecated and will be removed in version 1.0 of Accelerate: dict_keys(['dispatch_batches', 'split_batches']). Please pass an `accelerate.DataLoaderConfiguration` instead: \n",
      "dataloader_config = DataLoaderConfiguration(dispatch_batches=None, split_batches=False)\n",
      "  warnings.warn(\n"
     ]
    },
    {
     "data": {
      "text/html": [
       "\n",
       "    <div>\n",
       "      \n",
       "      <progress value='123' max='240' style='width:300px; height:20px; vertical-align: middle;'></progress>\n",
       "      [123/240 03:19 < 03:13, 0.61 it/s, Epoch 4/10]\n",
       "    </div>\n",
       "    <table border=\"1\" class=\"dataframe\">\n",
       "  <thead>\n",
       " <tr style=\"text-align: left;\">\n",
       "      <th>Epoch</th>\n",
       "      <th>Training Loss</th>\n",
       "      <th>Validation Loss</th>\n",
       "      <th>Accuracy</th>\n",
       "    </tr>\n",
       "  </thead>\n",
       "  <tbody>\n",
       "    <tr>\n",
       "      <td>0</td>\n",
       "      <td>0.654100</td>\n",
       "      <td>0.544236</td>\n",
       "      <td>0.760101</td>\n",
       "    </tr>\n",
       "    <tr>\n",
       "      <td>1</td>\n",
       "      <td>0.524600</td>\n",
       "      <td>0.535336</td>\n",
       "      <td>0.747475</td>\n",
       "    </tr>\n",
       "    <tr>\n",
       "      <td>2</td>\n",
       "      <td>0.506000</td>\n",
       "      <td>0.593548</td>\n",
       "      <td>0.717172</td>\n",
       "    </tr>\n",
       "    <tr>\n",
       "      <td>4</td>\n",
       "      <td>0.511400</td>\n",
       "      <td>0.578644</td>\n",
       "      <td>0.729798</td>\n",
       "    </tr>\n",
       "  </tbody>\n",
       "</table><p>"
      ],
      "text/plain": [
       "<IPython.core.display.HTML object>"
      ]
     },
     "metadata": {},
     "output_type": "display_data"
    },
    {
     "name": "stdout",
     "output_type": "stream",
     "text": [
      "Saved improved model to ./model_output/finetuned_model_all_dora.pth\n",
      "Saved improved model to ./model_output/finetuned_model_all_dora.pth\n",
      "Stopping early at epoch 4.96969696969697: No improvement in loss or accuracy for 3 evaluations.\n",
      "Loaded best model from ./model_output/finetuned_model_all_dora.pth\n"
     ]
    },
    {
     "data": {
      "text/html": [
       "\n",
       "    <div>\n",
       "      \n",
       "      <progress value='50' max='50' style='width:300px; height:20px; vertical-align: middle;'></progress>\n",
       "      [50/50 00:04]\n",
       "    </div>\n",
       "    "
      ],
      "text/plain": [
       "<IPython.core.display.HTML object>"
      ]
     },
     "metadata": {},
     "output_type": "display_data"
    },
    {
     "name": "stdout",
     "output_type": "stream",
     "text": [
      "Stopping early at epoch 4.96969696969697: No improvement in loss or accuracy for 3 evaluations.\n",
      "{'eval_loss': 0.5353362560272217, 'eval_accuracy': 0.7474747474747475, 'eval_runtime': 4.6147, 'eval_samples_per_second': 85.813, 'eval_steps_per_second': 10.835, 'epoch': 4.97}\n"
     ]
    },
    {
     "name": "stderr",
     "output_type": "stream",
     "text": [
      "[I 2024-06-08 22:52:25,082] Trial 24 finished with values: [0.5353362560272217, 0.7474747474747475] and parameters: {'lr': 0.008756484876217911, 'batch': 8, 'accum': 8, 'dropout_rate': 0.40515974729553716, 'weight_decay': 0.0009185298438297651, 'warmup_pct': 0.16087338076114774, 'dora_rank': 12, 'dora_init_scale': 0.004331664273123157}. \n"
     ]
    },
    {
     "name": "stdout",
     "output_type": "stream",
     "text": [
      "History:  [{'loss': 0.6541, 'learning_rate': 0.0006608667831107857, 'epoch': 0.97, 'step': 24}, {'eval_loss': 0.5442360043525696, 'eval_accuracy': 0.76010101010101, 'eval_runtime': 5.1079, 'eval_samples_per_second': 77.527, 'eval_steps_per_second': 9.789, 'epoch': 0.97, 'step': 24}, {'loss': 0.5246, 'learning_rate': 0.0013492696821845208, 'epoch': 1.98, 'step': 49}, {'eval_loss': 0.5353362560272217, 'eval_accuracy': 0.7474747474747475, 'eval_runtime': 4.6145, 'eval_samples_per_second': 85.816, 'eval_steps_per_second': 10.835, 'epoch': 1.98, 'step': 49}, {'loss': 0.506, 'learning_rate': 0.002037672581258256, 'epoch': 2.99, 'step': 74}, {'eval_loss': 0.5935481190681458, 'eval_accuracy': 0.7171717171717171, 'eval_runtime': 4.6128, 'eval_samples_per_second': 85.848, 'eval_steps_per_second': 10.839, 'epoch': 2.99, 'step': 74}, {'loss': 0.5045, 'learning_rate': 0.002726075480331991, 'epoch': 4.0, 'step': 99}, {'eval_loss': 0.564755916595459, 'eval_accuracy': 0.7045454545454546, 'eval_runtime': 4.6165, 'eval_samples_per_second': 85.779, 'eval_steps_per_second': 10.831, 'epoch': 4.0, 'step': 99}, {'loss': 0.5114, 'learning_rate': 0.003386942263442777, 'epoch': 4.97, 'step': 123}, {'eval_loss': 0.5786440372467041, 'eval_accuracy': 0.7297979797979798, 'eval_runtime': 4.6156, 'eval_samples_per_second': 85.795, 'eval_steps_per_second': 10.833, 'epoch': 4.97, 'step': 123}, {'train_runtime': 201.4244, 'train_samples_per_second': 78.64, 'train_steps_per_second': 1.192, 'total_flos': 1953615116629440.0, 'train_loss': 0.5394090171751937, 'epoch': 4.97, 'step': 123}, {'eval_loss': 0.5353362560272217, 'eval_accuracy': 0.7474747474747475, 'eval_runtime': 4.6147, 'eval_samples_per_second': 85.813, 'eval_steps_per_second': 10.835, 'epoch': 4.97, 'step': 123}]\n"
     ]
    },
    {
     "name": "stderr",
     "output_type": "stream",
     "text": [
      "/home/ubuntu/data/miniconda3/envs/finetune-dephos/lib/python3.9/site-packages/huggingface_hub/file_download.py:1132: FutureWarning: `resume_download` is deprecated and will be removed in version 1.0.0. Downloads always resume when possible. If you want to force a new download, use `force_download=True`.\n",
      "  warnings.warn(\n"
     ]
    },
    {
     "name": "stdout",
     "output_type": "stream",
     "text": [
      "ProtT5_Classfier\n",
      "Trainable Parameter: 1209193475.0\n",
      "ProtT5_DoRA_Classfier\n",
      "Trainable Parameter: 1200131.0\n",
      "\n"
     ]
    },
    {
     "name": "stderr",
     "output_type": "stream",
     "text": [
      "/home/ubuntu/data/miniconda3/envs/finetune-dephos/lib/python3.9/site-packages/accelerate/accelerator.py:446: FutureWarning: Passing the following arguments to `Accelerator` is deprecated and will be removed in version 1.0 of Accelerate: dict_keys(['dispatch_batches', 'split_batches']). Please pass an `accelerate.DataLoaderConfiguration` instead: \n",
      "dataloader_config = DataLoaderConfiguration(dispatch_batches=None, split_batches=False)\n",
      "  warnings.warn(\n"
     ]
    },
    {
     "data": {
      "text/html": [
       "\n",
       "    <div>\n",
       "      \n",
       "      <progress value='3168' max='3960' style='width:300px; height:20px; vertical-align: middle;'></progress>\n",
       "      [3168/3960 14:42 < 03:40, 3.59 it/s, Epoch 8/10]\n",
       "    </div>\n",
       "    <table border=\"1\" class=\"dataframe\">\n",
       "  <thead>\n",
       " <tr style=\"text-align: left;\">\n",
       "      <th>Epoch</th>\n",
       "      <th>Training Loss</th>\n",
       "      <th>Validation Loss</th>\n",
       "      <th>Accuracy</th>\n",
       "    </tr>\n",
       "  </thead>\n",
       "  <tbody>\n",
       "    <tr>\n",
       "      <td>1</td>\n",
       "      <td>0.659700</td>\n",
       "      <td>0.561776</td>\n",
       "      <td>0.717172</td>\n",
       "    </tr>\n",
       "    <tr>\n",
       "      <td>2</td>\n",
       "      <td>0.789100</td>\n",
       "      <td>1.051781</td>\n",
       "      <td>0.679293</td>\n",
       "    </tr>\n",
       "    <tr>\n",
       "      <td>3</td>\n",
       "      <td>0.926100</td>\n",
       "      <td>0.658540</td>\n",
       "      <td>0.633838</td>\n",
       "    </tr>\n",
       "    <tr>\n",
       "      <td>4</td>\n",
       "      <td>0.877900</td>\n",
       "      <td>0.910031</td>\n",
       "      <td>0.722222</td>\n",
       "    </tr>\n",
       "    <tr>\n",
       "      <td>5</td>\n",
       "      <td>0.849200</td>\n",
       "      <td>0.848109</td>\n",
       "      <td>0.742424</td>\n",
       "    </tr>\n",
       "    <tr>\n",
       "      <td>6</td>\n",
       "      <td>0.765800</td>\n",
       "      <td>0.752959</td>\n",
       "      <td>0.709596</td>\n",
       "    </tr>\n",
       "    <tr>\n",
       "      <td>7</td>\n",
       "      <td>0.706200</td>\n",
       "      <td>0.823581</td>\n",
       "      <td>0.742424</td>\n",
       "    </tr>\n",
       "    <tr>\n",
       "      <td>8</td>\n",
       "      <td>0.599500</td>\n",
       "      <td>0.804150</td>\n",
       "      <td>0.734848</td>\n",
       "    </tr>\n",
       "  </tbody>\n",
       "</table><p>"
      ],
      "text/plain": [
       "<IPython.core.display.HTML object>"
      ]
     },
     "metadata": {},
     "output_type": "display_data"
    },
    {
     "name": "stdout",
     "output_type": "stream",
     "text": [
      "Saved improved model to ./model_output/finetuned_model_all_dora.pth\n",
      "Saved improved model to ./model_output/finetuned_model_all_dora.pth\n",
      "Saved improved model to ./model_output/finetuned_model_all_dora.pth\n",
      "Stopping early at epoch 8.0: No improvement in loss or accuracy for 3 evaluations.\n",
      "Loaded best model from ./model_output/finetuned_model_all_dora.pth\n"
     ]
    },
    {
     "data": {
      "text/html": [
       "\n",
       "    <div>\n",
       "      \n",
       "      <progress value='50' max='50' style='width:300px; height:20px; vertical-align: middle;'></progress>\n",
       "      [50/50 00:04]\n",
       "    </div>\n",
       "    "
      ],
      "text/plain": [
       "<IPython.core.display.HTML object>"
      ]
     },
     "metadata": {},
     "output_type": "display_data"
    },
    {
     "name": "stdout",
     "output_type": "stream",
     "text": [
      "Stopping early at epoch 8.0: No improvement in loss or accuracy for 3 evaluations.\n",
      "{'eval_loss': 0.8481089472770691, 'eval_accuracy': 0.7424242424242424, 'eval_runtime': 4.6525, 'eval_samples_per_second': 85.116, 'eval_steps_per_second': 10.747, 'epoch': 8.0}\n"
     ]
    },
    {
     "name": "stderr",
     "output_type": "stream",
     "text": [
      "[I 2024-06-08 23:08:54,895] Trial 25 finished with values: [0.8481089472770691, 0.7424242424242424] and parameters: {'lr': 0.005252893209768785, 'batch': 1, 'accum': 4, 'dropout_rate': 0.523879489842299, 'weight_decay': 2.5072805221834624e-05, 'warmup_pct': 0.0819982046069511, 'dora_rank': 4, 'dora_init_scale': 0.0006689398182901933}. \n"
     ]
    },
    {
     "name": "stdout",
     "output_type": "stream",
     "text": [
      "History:  [{'loss': 0.6597, 'learning_rate': 0.0016025775894209853, 'epoch': 1.0, 'step': 396}, {'eval_loss': 0.5617760419845581, 'eval_accuracy': 0.7171717171717171, 'eval_runtime': 5.1078, 'eval_samples_per_second': 77.529, 'eval_steps_per_second': 9.789, 'epoch': 1.0, 'step': 396}, {'loss': 0.7891, 'learning_rate': 0.0032051551788419706, 'epoch': 2.0, 'step': 792}, {'eval_loss': 1.051781415939331, 'eval_accuracy': 0.6792929292929293, 'eval_runtime': 4.6309, 'eval_samples_per_second': 85.512, 'eval_steps_per_second': 10.797, 'epoch': 2.0, 'step': 792}, {'loss': 0.9261, 'learning_rate': 0.004807732768262955, 'epoch': 3.0, 'step': 1188}, {'eval_loss': 0.658539891242981, 'eval_accuracy': 0.6338383838383839, 'eval_runtime': 4.6182, 'eval_samples_per_second': 85.747, 'eval_steps_per_second': 10.827, 'epoch': 3.0, 'step': 1188}, {'loss': 0.8779, 'learning_rate': 0.004688532782272965, 'epoch': 4.0, 'step': 1584}, {'eval_loss': 0.9100310802459717, 'eval_accuracy': 0.7222222222222222, 'eval_runtime': 4.6173, 'eval_samples_per_second': 85.764, 'eval_steps_per_second': 10.829, 'epoch': 4.0, 'step': 1584}, {'loss': 0.8492, 'learning_rate': 0.003907110651894137, 'epoch': 5.0, 'step': 1980}, {'eval_loss': 0.8481089472770691, 'eval_accuracy': 0.7424242424242424, 'eval_runtime': 4.6285, 'eval_samples_per_second': 85.557, 'eval_steps_per_second': 10.803, 'epoch': 5.0, 'step': 1980}, {'loss': 0.7658, 'learning_rate': 0.00312568852151531, 'epoch': 6.0, 'step': 2376}, {'eval_loss': 0.7529590725898743, 'eval_accuracy': 0.7095959595959596, 'eval_runtime': 4.6279, 'eval_samples_per_second': 85.568, 'eval_steps_per_second': 10.804, 'epoch': 6.0, 'step': 2376}, {'loss': 0.7062, 'learning_rate': 0.0023442663911364824, 'epoch': 7.0, 'step': 2772}, {'eval_loss': 0.8235805034637451, 'eval_accuracy': 0.7424242424242424, 'eval_runtime': 4.6427, 'eval_samples_per_second': 85.296, 'eval_steps_per_second': 10.77, 'epoch': 7.0, 'step': 2772}, {'loss': 0.5995, 'learning_rate': 0.001562844260757655, 'epoch': 8.0, 'step': 3168}, {'eval_loss': 0.8041497468948364, 'eval_accuracy': 0.7348484848484849, 'eval_runtime': 4.6586, 'eval_samples_per_second': 85.003, 'eval_steps_per_second': 10.733, 'epoch': 8.0, 'step': 3168}, {'train_runtime': 883.1308, 'train_samples_per_second': 17.936, 'train_steps_per_second': 4.484, 'total_flos': 3125784186607104.0, 'train_loss': 0.771680504384667, 'epoch': 8.0, 'step': 3168}, {'eval_loss': 0.8481089472770691, 'eval_accuracy': 0.7424242424242424, 'eval_runtime': 4.6525, 'eval_samples_per_second': 85.116, 'eval_steps_per_second': 10.747, 'epoch': 8.0, 'step': 3168}]\n"
     ]
    },
    {
     "name": "stderr",
     "output_type": "stream",
     "text": [
      "/home/ubuntu/data/miniconda3/envs/finetune-dephos/lib/python3.9/site-packages/huggingface_hub/file_download.py:1132: FutureWarning: `resume_download` is deprecated and will be removed in version 1.0.0. Downloads always resume when possible. If you want to force a new download, use `force_download=True`.\n",
      "  warnings.warn(\n"
     ]
    },
    {
     "name": "stdout",
     "output_type": "stream",
     "text": [
      "ProtT5_Classfier\n",
      "Trainable Parameter: 1209193475.0\n",
      "ProtT5_DoRA_Classfier\n",
      "Trainable Parameter: 1200131.0\n",
      "\n"
     ]
    },
    {
     "name": "stderr",
     "output_type": "stream",
     "text": [
      "/home/ubuntu/data/miniconda3/envs/finetune-dephos/lib/python3.9/site-packages/accelerate/accelerator.py:446: FutureWarning: Passing the following arguments to `Accelerator` is deprecated and will be removed in version 1.0 of Accelerate: dict_keys(['dispatch_batches', 'split_batches']). Please pass an `accelerate.DataLoaderConfiguration` instead: \n",
      "dataloader_config = DataLoaderConfiguration(dispatch_batches=None, split_batches=False)\n",
      "  warnings.warn(\n"
     ]
    },
    {
     "data": {
      "text/html": [
       "\n",
       "    <div>\n",
       "      \n",
       "      <progress value='990' max='990' style='width:300px; height:20px; vertical-align: middle;'></progress>\n",
       "      [990/990 06:48, Epoch 10/10]\n",
       "    </div>\n",
       "    <table border=\"1\" class=\"dataframe\">\n",
       "  <thead>\n",
       " <tr style=\"text-align: left;\">\n",
       "      <th>Epoch</th>\n",
       "      <th>Training Loss</th>\n",
       "      <th>Validation Loss</th>\n",
       "      <th>Accuracy</th>\n",
       "    </tr>\n",
       "  </thead>\n",
       "  <tbody>\n",
       "    <tr>\n",
       "      <td>1</td>\n",
       "      <td>0.691500</td>\n",
       "      <td>0.686731</td>\n",
       "      <td>0.535354</td>\n",
       "    </tr>\n",
       "    <tr>\n",
       "      <td>2</td>\n",
       "      <td>0.676000</td>\n",
       "      <td>0.661064</td>\n",
       "      <td>0.661616</td>\n",
       "    </tr>\n",
       "    <tr>\n",
       "      <td>3</td>\n",
       "      <td>0.647600</td>\n",
       "      <td>0.629983</td>\n",
       "      <td>0.704545</td>\n",
       "    </tr>\n",
       "    <tr>\n",
       "      <td>4</td>\n",
       "      <td>0.613600</td>\n",
       "      <td>0.601066</td>\n",
       "      <td>0.750000</td>\n",
       "    </tr>\n",
       "    <tr>\n",
       "      <td>5</td>\n",
       "      <td>0.585200</td>\n",
       "      <td>0.576740</td>\n",
       "      <td>0.752525</td>\n",
       "    </tr>\n",
       "    <tr>\n",
       "      <td>6</td>\n",
       "      <td>0.559600</td>\n",
       "      <td>0.559898</td>\n",
       "      <td>0.757576</td>\n",
       "    </tr>\n",
       "    <tr>\n",
       "      <td>7</td>\n",
       "      <td>0.542300</td>\n",
       "      <td>0.552104</td>\n",
       "      <td>0.760101</td>\n",
       "    </tr>\n",
       "    <tr>\n",
       "      <td>8</td>\n",
       "      <td>0.535800</td>\n",
       "      <td>0.547084</td>\n",
       "      <td>0.760101</td>\n",
       "    </tr>\n",
       "    <tr>\n",
       "      <td>9</td>\n",
       "      <td>0.531500</td>\n",
       "      <td>0.544368</td>\n",
       "      <td>0.760101</td>\n",
       "    </tr>\n",
       "    <tr>\n",
       "      <td>10</td>\n",
       "      <td>0.525300</td>\n",
       "      <td>0.543640</td>\n",
       "      <td>0.762626</td>\n",
       "    </tr>\n",
       "  </tbody>\n",
       "</table><p>"
      ],
      "text/plain": [
       "<IPython.core.display.HTML object>"
      ]
     },
     "metadata": {},
     "output_type": "display_data"
    },
    {
     "name": "stdout",
     "output_type": "stream",
     "text": [
      "Saved improved model to ./model_output/finetuned_model_all_dora.pth\n",
      "Saved improved model to ./model_output/finetuned_model_all_dora.pth\n",
      "Saved improved model to ./model_output/finetuned_model_all_dora.pth\n",
      "Saved improved model to ./model_output/finetuned_model_all_dora.pth\n",
      "Saved improved model to ./model_output/finetuned_model_all_dora.pth\n",
      "Saved improved model to ./model_output/finetuned_model_all_dora.pth\n",
      "Saved improved model to ./model_output/finetuned_model_all_dora.pth\n",
      "Saved improved model to ./model_output/finetuned_model_all_dora.pth\n",
      "Saved improved model to ./model_output/finetuned_model_all_dora.pth\n",
      "Saved improved model to ./model_output/finetuned_model_all_dora.pth\n",
      "Loaded best model from ./model_output/finetuned_model_all_dora.pth\n"
     ]
    },
    {
     "data": {
      "text/html": [
       "\n",
       "    <div>\n",
       "      \n",
       "      <progress value='50' max='50' style='width:300px; height:20px; vertical-align: middle;'></progress>\n",
       "      [50/50 00:04]\n",
       "    </div>\n",
       "    "
      ],
      "text/plain": [
       "<IPython.core.display.HTML object>"
      ]
     },
     "metadata": {},
     "output_type": "display_data"
    },
    {
     "name": "stdout",
     "output_type": "stream",
     "text": [
      "{'eval_loss': 0.5436404943466187, 'eval_accuracy': 0.7626262626262627, 'eval_runtime': 4.6266, 'eval_samples_per_second': 85.593, 'eval_steps_per_second': 10.807, 'epoch': 10.0}\n"
     ]
    },
    {
     "name": "stderr",
     "output_type": "stream",
     "text": [
      "[I 2024-06-08 23:17:07,916] Trial 26 finished with values: [0.5436404943466187, 0.7626262626262627] and parameters: {'lr': 2.8670770433564708e-05, 'batch': 8, 'accum': 2, 'dropout_rate': 0.35738439146895873, 'weight_decay': 3.349690277311969e-05, 'warmup_pct': 0.23188394204775653, 'dora_rank': 24, 'dora_init_scale': 0.002789755557575516}. \n"
     ]
    },
    {
     "name": "stdout",
     "output_type": "stream",
     "text": [
      "History:  [{'loss': 0.6915, 'learning_rate': 6.183891662141408e-06, 'epoch': 1.0, 'step': 99}, {'eval_loss': 0.6867313385009766, 'eval_accuracy': 0.5353535353535354, 'eval_runtime': 5.1145, 'eval_samples_per_second': 77.426, 'eval_steps_per_second': 9.776, 'epoch': 1.0, 'step': 99}, {'loss': 0.676, 'learning_rate': 1.2367783324282815e-05, 'epoch': 2.0, 'step': 198}, {'eval_loss': 0.6610636711120605, 'eval_accuracy': 0.6616161616161617, 'eval_runtime': 4.6303, 'eval_samples_per_second': 85.523, 'eval_steps_per_second': 10.798, 'epoch': 2.0, 'step': 198}, {'loss': 0.6476, 'learning_rate': 1.8551674986424222e-05, 'epoch': 3.0, 'step': 297}, {'eval_loss': 0.6299834847450256, 'eval_accuracy': 0.7045454545454546, 'eval_runtime': 4.6298, 'eval_samples_per_second': 85.532, 'eval_steps_per_second': 10.8, 'epoch': 3.0, 'step': 297}, {'loss': 0.6136, 'learning_rate': 2.473556664856563e-05, 'epoch': 4.0, 'step': 396}, {'eval_loss': 0.6010661721229553, 'eval_accuracy': 0.75, 'eval_runtime': 4.6274, 'eval_samples_per_second': 85.577, 'eval_steps_per_second': 10.805, 'epoch': 4.0, 'step': 396}, {'loss': 0.5852, 'learning_rate': 2.6726989387221335e-05, 'epoch': 5.0, 'step': 495}, {'eval_loss': 0.5767398476600647, 'eval_accuracy': 0.7525252525252525, 'eval_runtime': 4.6269, 'eval_samples_per_second': 85.587, 'eval_steps_per_second': 10.806, 'epoch': 5.0, 'step': 495}, {'loss': 0.5596, 'learning_rate': 2.138159150977707e-05, 'epoch': 6.0, 'step': 594}, {'eval_loss': 0.5598980188369751, 'eval_accuracy': 0.7575757575757576, 'eval_runtime': 4.6284, 'eval_samples_per_second': 85.559, 'eval_steps_per_second': 10.803, 'epoch': 6.0, 'step': 594}, {'loss': 0.5423, 'learning_rate': 1.60361936323328e-05, 'epoch': 7.0, 'step': 693}, {'eval_loss': 0.5521044731140137, 'eval_accuracy': 0.76010101010101, 'eval_runtime': 4.6237, 'eval_samples_per_second': 85.645, 'eval_steps_per_second': 10.814, 'epoch': 7.0, 'step': 693}, {'loss': 0.5358, 'learning_rate': 1.0690795754888535e-05, 'epoch': 8.0, 'step': 792}, {'eval_loss': 0.5470844507217407, 'eval_accuracy': 0.76010101010101, 'eval_runtime': 4.6172, 'eval_samples_per_second': 85.766, 'eval_steps_per_second': 10.829, 'epoch': 8.0, 'step': 792}, {'loss': 0.5315, 'learning_rate': 5.3453978774442674e-06, 'epoch': 9.0, 'step': 891}, {'eval_loss': 0.5443681478500366, 'eval_accuracy': 0.76010101010101, 'eval_runtime': 4.6247, 'eval_samples_per_second': 85.627, 'eval_steps_per_second': 10.812, 'epoch': 9.0, 'step': 891}, {'loss': 0.5253, 'learning_rate': 0.0, 'epoch': 10.0, 'step': 990}, {'eval_loss': 0.5436404943466187, 'eval_accuracy': 0.7626262626262627, 'eval_runtime': 4.6277, 'eval_samples_per_second': 85.572, 'eval_steps_per_second': 10.805, 'epoch': 10.0, 'step': 990}, {'train_runtime': 408.7451, 'train_samples_per_second': 38.753, 'train_steps_per_second': 2.422, 'total_flos': 3907230233258880.0, 'train_loss': 0.5908536622018525, 'epoch': 10.0, 'step': 990}, {'eval_loss': 0.5436404943466187, 'eval_accuracy': 0.7626262626262627, 'eval_runtime': 4.6266, 'eval_samples_per_second': 85.593, 'eval_steps_per_second': 10.807, 'epoch': 10.0, 'step': 990}]\n"
     ]
    },
    {
     "name": "stderr",
     "output_type": "stream",
     "text": [
      "/home/ubuntu/data/miniconda3/envs/finetune-dephos/lib/python3.9/site-packages/huggingface_hub/file_download.py:1132: FutureWarning: `resume_download` is deprecated and will be removed in version 1.0.0. Downloads always resume when possible. If you want to force a new download, use `force_download=True`.\n",
      "  warnings.warn(\n"
     ]
    },
    {
     "name": "stdout",
     "output_type": "stream",
     "text": [
      "ProtT5_Classfier\n",
      "Trainable Parameter: 1209193475.0\n",
      "ProtT5_DoRA_Classfier\n",
      "Trainable Parameter: 1200131.0\n",
      "\n"
     ]
    },
    {
     "name": "stderr",
     "output_type": "stream",
     "text": [
      "/home/ubuntu/data/miniconda3/envs/finetune-dephos/lib/python3.9/site-packages/accelerate/accelerator.py:446: FutureWarning: Passing the following arguments to `Accelerator` is deprecated and will be removed in version 1.0 of Accelerate: dict_keys(['dispatch_batches', 'split_batches']). Please pass an `accelerate.DataLoaderConfiguration` instead: \n",
      "dataloader_config = DataLoaderConfiguration(dispatch_batches=None, split_batches=False)\n",
      "  warnings.warn(\n"
     ]
    },
    {
     "data": {
      "text/html": [
       "\n",
       "    <div>\n",
       "      \n",
       "      <progress value='7920' max='7920' style='width:300px; height:20px; vertical-align: middle;'></progress>\n",
       "      [7920/7920 20:32, Epoch 10/10]\n",
       "    </div>\n",
       "    <table border=\"1\" class=\"dataframe\">\n",
       "  <thead>\n",
       " <tr style=\"text-align: left;\">\n",
       "      <th>Epoch</th>\n",
       "      <th>Training Loss</th>\n",
       "      <th>Validation Loss</th>\n",
       "      <th>Accuracy</th>\n",
       "    </tr>\n",
       "  </thead>\n",
       "  <tbody>\n",
       "    <tr>\n",
       "      <td>1</td>\n",
       "      <td>0.707900</td>\n",
       "      <td>0.672900</td>\n",
       "      <td>0.638889</td>\n",
       "    </tr>\n",
       "    <tr>\n",
       "      <td>2</td>\n",
       "      <td>0.684100</td>\n",
       "      <td>0.647471</td>\n",
       "      <td>0.669192</td>\n",
       "    </tr>\n",
       "    <tr>\n",
       "      <td>3</td>\n",
       "      <td>0.669500</td>\n",
       "      <td>0.629748</td>\n",
       "      <td>0.699495</td>\n",
       "    </tr>\n",
       "    <tr>\n",
       "      <td>4</td>\n",
       "      <td>0.640300</td>\n",
       "      <td>0.616334</td>\n",
       "      <td>0.699495</td>\n",
       "    </tr>\n",
       "    <tr>\n",
       "      <td>5</td>\n",
       "      <td>0.643300</td>\n",
       "      <td>0.606901</td>\n",
       "      <td>0.714646</td>\n",
       "    </tr>\n",
       "    <tr>\n",
       "      <td>6</td>\n",
       "      <td>0.630400</td>\n",
       "      <td>0.599152</td>\n",
       "      <td>0.724747</td>\n",
       "    </tr>\n",
       "    <tr>\n",
       "      <td>7</td>\n",
       "      <td>0.617500</td>\n",
       "      <td>0.594011</td>\n",
       "      <td>0.729798</td>\n",
       "    </tr>\n",
       "    <tr>\n",
       "      <td>8</td>\n",
       "      <td>0.611300</td>\n",
       "      <td>0.590780</td>\n",
       "      <td>0.722222</td>\n",
       "    </tr>\n",
       "    <tr>\n",
       "      <td>9</td>\n",
       "      <td>0.618700</td>\n",
       "      <td>0.588935</td>\n",
       "      <td>0.727273</td>\n",
       "    </tr>\n",
       "    <tr>\n",
       "      <td>10</td>\n",
       "      <td>0.627200</td>\n",
       "      <td>0.588351</td>\n",
       "      <td>0.729798</td>\n",
       "    </tr>\n",
       "  </tbody>\n",
       "</table><p>"
      ],
      "text/plain": [
       "<IPython.core.display.HTML object>"
      ]
     },
     "metadata": {},
     "output_type": "display_data"
    },
    {
     "name": "stdout",
     "output_type": "stream",
     "text": [
      "Saved improved model to ./model_output/finetuned_model_all_dora.pth\n",
      "Saved improved model to ./model_output/finetuned_model_all_dora.pth\n",
      "Saved improved model to ./model_output/finetuned_model_all_dora.pth\n",
      "Saved improved model to ./model_output/finetuned_model_all_dora.pth\n",
      "Saved improved model to ./model_output/finetuned_model_all_dora.pth\n",
      "Saved improved model to ./model_output/finetuned_model_all_dora.pth\n",
      "Saved improved model to ./model_output/finetuned_model_all_dora.pth\n",
      "Saved improved model to ./model_output/finetuned_model_all_dora.pth\n",
      "Saved improved model to ./model_output/finetuned_model_all_dora.pth\n",
      "Loaded best model from ./model_output/finetuned_model_all_dora.pth\n"
     ]
    },
    {
     "data": {
      "text/html": [
       "\n",
       "    <div>\n",
       "      \n",
       "      <progress value='50' max='50' style='width:300px; height:20px; vertical-align: middle;'></progress>\n",
       "      [50/50 00:04]\n",
       "    </div>\n",
       "    "
      ],
      "text/plain": [
       "<IPython.core.display.HTML object>"
      ]
     },
     "metadata": {},
     "output_type": "display_data"
    },
    {
     "name": "stdout",
     "output_type": "stream",
     "text": [
      "{'eval_loss': 0.5889351963996887, 'eval_accuracy': 0.7272727272727273, 'eval_runtime': 4.6129, 'eval_samples_per_second': 85.845, 'eval_steps_per_second': 10.839, 'epoch': 10.0}\n"
     ]
    },
    {
     "name": "stderr",
     "output_type": "stream",
     "text": [
      "[I 2024-06-08 23:39:04,360] Trial 27 finished with values: [0.5889351963996887, 0.7272727272727273] and parameters: {'lr': 1.241158644285537e-05, 'batch': 1, 'accum': 2, 'dropout_rate': 0.7921618741635614, 'weight_decay': 0.0003773501659633849, 'warmup_pct': 0.03333789184616391, 'dora_rank': 32, 'dora_init_scale': 0.0012263616946244975}. \n"
     ]
    },
    {
     "name": "stdout",
     "output_type": "stream",
     "text": [
      "History:  [{'loss': 0.7079, 'learning_rate': 1.196831549846768e-05, 'epoch': 1.0, 'step': 792}, {'eval_loss': 0.6729002594947815, 'eval_accuracy': 0.6388888888888888, 'eval_runtime': 5.106, 'eval_samples_per_second': 77.555, 'eval_steps_per_second': 9.792, 'epoch': 1.0, 'step': 792}, {'loss': 0.6841, 'learning_rate': 1.0638502665304604e-05, 'epoch': 2.0, 'step': 1584}, {'eval_loss': 0.6474712491035461, 'eval_accuracy': 0.6691919191919192, 'eval_runtime': 4.6237, 'eval_samples_per_second': 85.646, 'eval_steps_per_second': 10.814, 'epoch': 2.0, 'step': 1584}, {'loss': 0.6695, 'learning_rate': 9.308689832141528e-06, 'epoch': 3.0, 'step': 2376}, {'eval_loss': 0.6297478675842285, 'eval_accuracy': 0.6994949494949495, 'eval_runtime': 4.6187, 'eval_samples_per_second': 85.739, 'eval_steps_per_second': 10.826, 'epoch': 3.0, 'step': 2376}, {'loss': 0.6403, 'learning_rate': 7.978876998978452e-06, 'epoch': 4.0, 'step': 3168}, {'eval_loss': 0.6163340210914612, 'eval_accuracy': 0.6994949494949495, 'eval_runtime': 4.626, 'eval_samples_per_second': 85.603, 'eval_steps_per_second': 10.808, 'epoch': 4.0, 'step': 3168}, {'loss': 0.6433, 'learning_rate': 6.649064165815377e-06, 'epoch': 5.0, 'step': 3960}, {'eval_loss': 0.6069011688232422, 'eval_accuracy': 0.7146464646464646, 'eval_runtime': 4.6081, 'eval_samples_per_second': 85.935, 'eval_steps_per_second': 10.85, 'epoch': 5.0, 'step': 3960}, {'loss': 0.6304, 'learning_rate': 5.319251332652302e-06, 'epoch': 6.0, 'step': 4752}, {'eval_loss': 0.5991524457931519, 'eval_accuracy': 0.7247474747474747, 'eval_runtime': 4.6518, 'eval_samples_per_second': 85.128, 'eval_steps_per_second': 10.749, 'epoch': 6.0, 'step': 4752}, {'loss': 0.6175, 'learning_rate': 3.989438499489226e-06, 'epoch': 7.0, 'step': 5544}, {'eval_loss': 0.5940108895301819, 'eval_accuracy': 0.7297979797979798, 'eval_runtime': 4.6368, 'eval_samples_per_second': 85.404, 'eval_steps_per_second': 10.783, 'epoch': 7.0, 'step': 5544}, {'loss': 0.6113, 'learning_rate': 2.659625666326151e-06, 'epoch': 8.0, 'step': 6336}, {'eval_loss': 0.5907796621322632, 'eval_accuracy': 0.7222222222222222, 'eval_runtime': 4.6268, 'eval_samples_per_second': 85.589, 'eval_steps_per_second': 10.807, 'epoch': 8.0, 'step': 6336}, {'loss': 0.6187, 'learning_rate': 1.3298128331630755e-06, 'epoch': 9.0, 'step': 7128}, {'eval_loss': 0.5889351963996887, 'eval_accuracy': 0.7272727272727273, 'eval_runtime': 4.6142, 'eval_samples_per_second': 85.823, 'eval_steps_per_second': 10.836, 'epoch': 9.0, 'step': 7128}, {'loss': 0.6272, 'learning_rate': 0.0, 'epoch': 10.0, 'step': 7920}, {'eval_loss': 0.5883513689041138, 'eval_accuracy': 0.7297979797979798, 'eval_runtime': 4.6218, 'eval_samples_per_second': 85.681, 'eval_steps_per_second': 10.818, 'epoch': 10.0, 'step': 7920}, {'train_runtime': 1232.6881, 'train_samples_per_second': 12.85, 'train_steps_per_second': 6.425, 'total_flos': 3907230233258880.0, 'train_loss': 0.6450261549516157, 'epoch': 10.0, 'step': 7920}, {'eval_loss': 0.5889351963996887, 'eval_accuracy': 0.7272727272727273, 'eval_runtime': 4.6129, 'eval_samples_per_second': 85.845, 'eval_steps_per_second': 10.839, 'epoch': 10.0, 'step': 7920}]\n"
     ]
    },
    {
     "name": "stderr",
     "output_type": "stream",
     "text": [
      "/home/ubuntu/data/miniconda3/envs/finetune-dephos/lib/python3.9/site-packages/huggingface_hub/file_download.py:1132: FutureWarning: `resume_download` is deprecated and will be removed in version 1.0.0. Downloads always resume when possible. If you want to force a new download, use `force_download=True`.\n",
      "  warnings.warn(\n"
     ]
    },
    {
     "name": "stdout",
     "output_type": "stream",
     "text": [
      "ProtT5_Classfier\n",
      "Trainable Parameter: 1209193475.0\n",
      "ProtT5_DoRA_Classfier\n",
      "Trainable Parameter: 1200131.0\n",
      "\n"
     ]
    },
    {
     "name": "stderr",
     "output_type": "stream",
     "text": [
      "/home/ubuntu/data/miniconda3/envs/finetune-dephos/lib/python3.9/site-packages/accelerate/accelerator.py:446: FutureWarning: Passing the following arguments to `Accelerator` is deprecated and will be removed in version 1.0 of Accelerate: dict_keys(['dispatch_batches', 'split_batches']). Please pass an `accelerate.DataLoaderConfiguration` instead: \n",
      "dataloader_config = DataLoaderConfiguration(dispatch_batches=None, split_batches=False)\n",
      "  warnings.warn(\n"
     ]
    },
    {
     "data": {
      "text/html": [
       "\n",
       "    <div>\n",
       "      \n",
       "      <progress value='1980' max='3960' style='width:300px; height:20px; vertical-align: middle;'></progress>\n",
       "      [1980/3960 06:02 < 06:03, 5.45 it/s, Epoch 5/10]\n",
       "    </div>\n",
       "    <table border=\"1\" class=\"dataframe\">\n",
       "  <thead>\n",
       " <tr style=\"text-align: left;\">\n",
       "      <th>Epoch</th>\n",
       "      <th>Training Loss</th>\n",
       "      <th>Validation Loss</th>\n",
       "      <th>Accuracy</th>\n",
       "    </tr>\n",
       "  </thead>\n",
       "  <tbody>\n",
       "    <tr>\n",
       "      <td>1</td>\n",
       "      <td>0.691100</td>\n",
       "      <td>0.571049</td>\n",
       "      <td>0.729798</td>\n",
       "    </tr>\n",
       "    <tr>\n",
       "      <td>2</td>\n",
       "      <td>0.773900</td>\n",
       "      <td>0.553443</td>\n",
       "      <td>0.734848</td>\n",
       "    </tr>\n",
       "    <tr>\n",
       "      <td>3</td>\n",
       "      <td>0.915200</td>\n",
       "      <td>0.606344</td>\n",
       "      <td>0.696970</td>\n",
       "    </tr>\n",
       "    <tr>\n",
       "      <td>4</td>\n",
       "      <td>0.932100</td>\n",
       "      <td>0.636639</td>\n",
       "      <td>0.669192</td>\n",
       "    </tr>\n",
       "    <tr>\n",
       "      <td>5</td>\n",
       "      <td>1.061400</td>\n",
       "      <td>0.704461</td>\n",
       "      <td>0.664141</td>\n",
       "    </tr>\n",
       "  </tbody>\n",
       "</table><p>"
      ],
      "text/plain": [
       "<IPython.core.display.HTML object>"
      ]
     },
     "metadata": {},
     "output_type": "display_data"
    },
    {
     "name": "stdout",
     "output_type": "stream",
     "text": [
      "Saved improved model to ./model_output/finetuned_model_all_dora.pth\n",
      "Saved improved model to ./model_output/finetuned_model_all_dora.pth\n",
      "Stopping early at epoch 5.0: No improvement in loss or accuracy for 3 evaluations.\n",
      "Loaded best model from ./model_output/finetuned_model_all_dora.pth\n"
     ]
    },
    {
     "data": {
      "text/html": [
       "\n",
       "    <div>\n",
       "      \n",
       "      <progress value='50' max='50' style='width:300px; height:20px; vertical-align: middle;'></progress>\n",
       "      [50/50 00:04]\n",
       "    </div>\n",
       "    "
      ],
      "text/plain": [
       "<IPython.core.display.HTML object>"
      ]
     },
     "metadata": {},
     "output_type": "display_data"
    },
    {
     "name": "stdout",
     "output_type": "stream",
     "text": [
      "Stopping early at epoch 5.0: No improvement in loss or accuracy for 3 evaluations.\n",
      "{'eval_loss': 0.5534430146217346, 'eval_accuracy': 0.7348484848484849, 'eval_runtime': 4.6146, 'eval_samples_per_second': 85.815, 'eval_steps_per_second': 10.835, 'epoch': 5.0}\n"
     ]
    },
    {
     "name": "stderr",
     "output_type": "stream",
     "text": [
      "[I 2024-06-08 23:46:31,693] Trial 28 finished with values: [0.5534430146217346, 0.7348484848484849] and parameters: {'lr': 0.003602130464213034, 'batch': 2, 'accum': 2, 'dropout_rate': 0.8378944573923057, 'weight_decay': 0.0005171522235212966, 'warmup_pct': 0.2526405577267268, 'dora_rank': 32, 'dora_init_scale': 0.0009065945095011611}. \n"
     ]
    },
    {
     "name": "stdout",
     "output_type": "stream",
     "text": [
      "History:  [{'loss': 0.6911, 'learning_rate': 0.0007132218319141808, 'epoch': 1.0, 'step': 396}, {'eval_loss': 0.5710489153862, 'eval_accuracy': 0.7297979797979798, 'eval_runtime': 5.1107, 'eval_samples_per_second': 77.485, 'eval_steps_per_second': 9.783, 'epoch': 1.0, 'step': 396}, {'loss': 0.7739, 'learning_rate': 0.0014264436638283615, 'epoch': 2.0, 'step': 792}, {'eval_loss': 0.5534430146217346, 'eval_accuracy': 0.7348484848484849, 'eval_runtime': 4.6193, 'eval_samples_per_second': 85.727, 'eval_steps_per_second': 10.824, 'epoch': 2.0, 'step': 792}, {'loss': 0.9152, 'learning_rate': 0.0021396654957425423, 'epoch': 3.0, 'step': 1188}, {'eval_loss': 0.606343686580658, 'eval_accuracy': 0.696969696969697, 'eval_runtime': 4.6535, 'eval_samples_per_second': 85.097, 'eval_steps_per_second': 10.745, 'epoch': 3.0, 'step': 1188}, {'loss': 0.9321, 'learning_rate': 0.002852887327656723, 'epoch': 4.0, 'step': 1584}, {'eval_loss': 0.6366392374038696, 'eval_accuracy': 0.6691919191919192, 'eval_runtime': 4.647, 'eval_samples_per_second': 85.216, 'eval_steps_per_second': 10.76, 'epoch': 4.0, 'step': 1584}, {'loss': 1.0614, 'learning_rate': 0.003566109159570904, 'epoch': 5.0, 'step': 1980}, {'eval_loss': 0.7044612765312195, 'eval_accuracy': 0.6641414141414141, 'eval_runtime': 4.6206, 'eval_samples_per_second': 85.703, 'eval_steps_per_second': 10.821, 'epoch': 5.0, 'step': 1980}, {'train_runtime': 363.167, 'train_samples_per_second': 43.616, 'train_steps_per_second': 10.904, 'total_flos': 1953615116629440.0, 'train_loss': 0.8747356068004262, 'epoch': 5.0, 'step': 1980}, {'eval_loss': 0.5534430146217346, 'eval_accuracy': 0.7348484848484849, 'eval_runtime': 4.6146, 'eval_samples_per_second': 85.815, 'eval_steps_per_second': 10.835, 'epoch': 5.0, 'step': 1980}]\n"
     ]
    },
    {
     "name": "stderr",
     "output_type": "stream",
     "text": [
      "/home/ubuntu/data/miniconda3/envs/finetune-dephos/lib/python3.9/site-packages/huggingface_hub/file_download.py:1132: FutureWarning: `resume_download` is deprecated and will be removed in version 1.0.0. Downloads always resume when possible. If you want to force a new download, use `force_download=True`.\n",
      "  warnings.warn(\n"
     ]
    },
    {
     "name": "stdout",
     "output_type": "stream",
     "text": [
      "ProtT5_Classfier\n",
      "Trainable Parameter: 1209193475.0\n",
      "ProtT5_DoRA_Classfier\n",
      "Trainable Parameter: 1200131.0\n",
      "\n"
     ]
    },
    {
     "name": "stderr",
     "output_type": "stream",
     "text": [
      "/home/ubuntu/data/miniconda3/envs/finetune-dephos/lib/python3.9/site-packages/accelerate/accelerator.py:446: FutureWarning: Passing the following arguments to `Accelerator` is deprecated and will be removed in version 1.0 of Accelerate: dict_keys(['dispatch_batches', 'split_batches']). Please pass an `accelerate.DataLoaderConfiguration` instead: \n",
      "dataloader_config = DataLoaderConfiguration(dispatch_batches=None, split_batches=False)\n",
      "  warnings.warn(\n"
     ]
    },
    {
     "data": {
      "text/html": [
       "\n",
       "    <div>\n",
       "      \n",
       "      <progress value='792' max='1980' style='width:300px; height:20px; vertical-align: middle;'></progress>\n",
       "      [ 792/1980 03:20 < 05:02, 3.93 it/s, Epoch 4/10]\n",
       "    </div>\n",
       "    <table border=\"1\" class=\"dataframe\">\n",
       "  <thead>\n",
       " <tr style=\"text-align: left;\">\n",
       "      <th>Epoch</th>\n",
       "      <th>Training Loss</th>\n",
       "      <th>Validation Loss</th>\n",
       "      <th>Accuracy</th>\n",
       "    </tr>\n",
       "  </thead>\n",
       "  <tbody>\n",
       "    <tr>\n",
       "      <td>1</td>\n",
       "      <td>0.660600</td>\n",
       "      <td>0.599156</td>\n",
       "      <td>0.686869</td>\n",
       "    </tr>\n",
       "    <tr>\n",
       "      <td>2</td>\n",
       "      <td>0.831700</td>\n",
       "      <td>0.704851</td>\n",
       "      <td>0.502525</td>\n",
       "    </tr>\n",
       "    <tr>\n",
       "      <td>3</td>\n",
       "      <td>0.841400</td>\n",
       "      <td>0.755560</td>\n",
       "      <td>0.593434</td>\n",
       "    </tr>\n",
       "    <tr>\n",
       "      <td>4</td>\n",
       "      <td>0.908800</td>\n",
       "      <td>0.760271</td>\n",
       "      <td>0.570707</td>\n",
       "    </tr>\n",
       "  </tbody>\n",
       "</table><p>"
      ],
      "text/plain": [
       "<IPython.core.display.HTML object>"
      ]
     },
     "metadata": {},
     "output_type": "display_data"
    },
    {
     "name": "stdout",
     "output_type": "stream",
     "text": [
      "Saved improved model to ./model_output/finetuned_model_all_dora.pth\n",
      "Stopping early at epoch 4.0: No improvement in loss or accuracy for 3 evaluations.\n",
      "Loaded best model from ./model_output/finetuned_model_all_dora.pth\n"
     ]
    },
    {
     "data": {
      "text/html": [
       "\n",
       "    <div>\n",
       "      \n",
       "      <progress value='50' max='50' style='width:300px; height:20px; vertical-align: middle;'></progress>\n",
       "      [50/50 00:04]\n",
       "    </div>\n",
       "    "
      ],
      "text/plain": [
       "<IPython.core.display.HTML object>"
      ]
     },
     "metadata": {},
     "output_type": "display_data"
    },
    {
     "name": "stdout",
     "output_type": "stream",
     "text": [
      "Stopping early at epoch 4.0: No improvement in loss or accuracy for 3 evaluations.\n",
      "{'eval_loss': 0.5991560816764832, 'eval_accuracy': 0.6868686868686869, 'eval_runtime': 4.4409, 'eval_samples_per_second': 89.17, 'eval_steps_per_second': 11.259, 'epoch': 4.0}\n"
     ]
    },
    {
     "name": "stderr",
     "output_type": "stream",
     "text": [
      "[I 2024-06-08 23:51:19,858] Trial 29 finished with values: [0.5991560816764832, 0.6868686868686869] and parameters: {'lr': 0.006578779542611282, 'batch': 4, 'accum': 2, 'dropout_rate': 0.7278116404968963, 'weight_decay': 0.00014234613437287967, 'warmup_pct': 0.17765006673832084, 'dora_rank': 32, 'dora_init_scale': 0.014880445509091358}. \n"
     ]
    },
    {
     "name": "stdout",
     "output_type": "stream",
     "text": [
      "History:  [{'loss': 0.6606, 'learning_rate': 0.0018529137260839743, 'epoch': 1.0, 'step': 198}, {'eval_loss': 0.5991560816764832, 'eval_accuracy': 0.6868686868686869, 'eval_runtime': 5.0849, 'eval_samples_per_second': 77.878, 'eval_steps_per_second': 9.833, 'epoch': 1.0, 'step': 198}, {'loss': 0.8317, 'learning_rate': 0.0037058274521679486, 'epoch': 2.0, 'step': 396}, {'eval_loss': 0.7048512697219849, 'eval_accuracy': 0.5025252525252525, 'eval_runtime': 4.4449, 'eval_samples_per_second': 89.091, 'eval_steps_per_second': 11.249, 'epoch': 2.0, 'step': 396}, {'loss': 0.8414, 'learning_rate': 0.005558741178251923, 'epoch': 3.0, 'step': 594}, {'eval_loss': 0.7555602788925171, 'eval_accuracy': 0.5934343434343434, 'eval_runtime': 4.4836, 'eval_samples_per_second': 88.322, 'eval_steps_per_second': 11.152, 'epoch': 3.0, 'step': 594}, {'loss': 0.9088, 'learning_rate': 0.006120274155538139, 'epoch': 4.0, 'step': 792}, {'eval_loss': 0.7602707147598267, 'eval_accuracy': 0.5707070707070707, 'eval_runtime': 4.4525, 'eval_samples_per_second': 88.938, 'eval_steps_per_second': 11.23, 'epoch': 4.0, 'step': 792}, {'train_runtime': 201.1265, 'train_samples_per_second': 78.756, 'train_steps_per_second': 9.845, 'total_flos': 1562892093303552.0, 'train_loss': 0.810606715655086, 'epoch': 4.0, 'step': 792}, {'eval_loss': 0.5991560816764832, 'eval_accuracy': 0.6868686868686869, 'eval_runtime': 4.4409, 'eval_samples_per_second': 89.17, 'eval_steps_per_second': 11.259, 'epoch': 4.0, 'step': 792}]\n"
     ]
    },
    {
     "name": "stderr",
     "output_type": "stream",
     "text": [
      "/home/ubuntu/data/miniconda3/envs/finetune-dephos/lib/python3.9/site-packages/huggingface_hub/file_download.py:1132: FutureWarning: `resume_download` is deprecated and will be removed in version 1.0.0. Downloads always resume when possible. If you want to force a new download, use `force_download=True`.\n",
      "  warnings.warn(\n"
     ]
    },
    {
     "name": "stdout",
     "output_type": "stream",
     "text": [
      "ProtT5_Classfier\n",
      "Trainable Parameter: 1209193475.0\n",
      "ProtT5_DoRA_Classfier\n",
      "Trainable Parameter: 1200131.0\n",
      "\n"
     ]
    },
    {
     "name": "stderr",
     "output_type": "stream",
     "text": [
      "/home/ubuntu/data/miniconda3/envs/finetune-dephos/lib/python3.9/site-packages/accelerate/accelerator.py:446: FutureWarning: Passing the following arguments to `Accelerator` is deprecated and will be removed in version 1.0 of Accelerate: dict_keys(['dispatch_batches', 'split_batches']). Please pass an `accelerate.DataLoaderConfiguration` instead: \n",
      "dataloader_config = DataLoaderConfiguration(dispatch_batches=None, split_batches=False)\n",
      "  warnings.warn(\n"
     ]
    },
    {
     "data": {
      "text/html": [
       "\n",
       "    <div>\n",
       "      \n",
       "      <progress value='1980' max='1980' style='width:300px; height:20px; vertical-align: middle;'></progress>\n",
       "      [1980/1980 19:48, Epoch 10/10]\n",
       "    </div>\n",
       "    <table border=\"1\" class=\"dataframe\">\n",
       "  <thead>\n",
       " <tr style=\"text-align: left;\">\n",
       "      <th>Epoch</th>\n",
       "      <th>Training Loss</th>\n",
       "      <th>Validation Loss</th>\n",
       "      <th>Accuracy</th>\n",
       "    </tr>\n",
       "  </thead>\n",
       "  <tbody>\n",
       "    <tr>\n",
       "      <td>1</td>\n",
       "      <td>0.689000</td>\n",
       "      <td>0.649225</td>\n",
       "      <td>0.681818</td>\n",
       "    </tr>\n",
       "    <tr>\n",
       "      <td>2</td>\n",
       "      <td>0.629000</td>\n",
       "      <td>0.583757</td>\n",
       "      <td>0.762626</td>\n",
       "    </tr>\n",
       "    <tr>\n",
       "      <td>3</td>\n",
       "      <td>0.584800</td>\n",
       "      <td>0.548492</td>\n",
       "      <td>0.744949</td>\n",
       "    </tr>\n",
       "    <tr>\n",
       "      <td>4</td>\n",
       "      <td>0.569200</td>\n",
       "      <td>0.528957</td>\n",
       "      <td>0.757576</td>\n",
       "    </tr>\n",
       "    <tr>\n",
       "      <td>5</td>\n",
       "      <td>0.577300</td>\n",
       "      <td>0.530086</td>\n",
       "      <td>0.757576</td>\n",
       "    </tr>\n",
       "    <tr>\n",
       "      <td>6</td>\n",
       "      <td>0.546700</td>\n",
       "      <td>0.534754</td>\n",
       "      <td>0.747475</td>\n",
       "    </tr>\n",
       "    <tr>\n",
       "      <td>7</td>\n",
       "      <td>0.557200</td>\n",
       "      <td>0.526208</td>\n",
       "      <td>0.744949</td>\n",
       "    </tr>\n",
       "    <tr>\n",
       "      <td>8</td>\n",
       "      <td>0.549400</td>\n",
       "      <td>0.524782</td>\n",
       "      <td>0.737374</td>\n",
       "    </tr>\n",
       "    <tr>\n",
       "      <td>9</td>\n",
       "      <td>0.548700</td>\n",
       "      <td>0.556147</td>\n",
       "      <td>0.734848</td>\n",
       "    </tr>\n",
       "    <tr>\n",
       "      <td>10</td>\n",
       "      <td>0.556000</td>\n",
       "      <td>0.541226</td>\n",
       "      <td>0.739899</td>\n",
       "    </tr>\n",
       "  </tbody>\n",
       "</table><p>"
      ],
      "text/plain": [
       "<IPython.core.display.HTML object>"
      ]
     },
     "metadata": {},
     "output_type": "display_data"
    },
    {
     "name": "stdout",
     "output_type": "stream",
     "text": [
      "Saved improved model to ./model_output/finetuned_model_all_dora.pth\n",
      "Saved improved model to ./model_output/finetuned_model_all_dora.pth\n",
      "Saved improved model to ./model_output/finetuned_model_all_dora.pth\n",
      "Saved improved model to ./model_output/finetuned_model_all_dora.pth\n",
      "Saved improved model to ./model_output/finetuned_model_all_dora.pth\n",
      "Saved improved model to ./model_output/finetuned_model_all_dora.pth\n",
      "Loaded best model from ./model_output/finetuned_model_all_dora.pth\n"
     ]
    },
    {
     "data": {
      "text/html": [
       "\n",
       "    <div>\n",
       "      \n",
       "      <progress value='50' max='50' style='width:300px; height:20px; vertical-align: middle;'></progress>\n",
       "      [50/50 00:04]\n",
       "    </div>\n",
       "    "
      ],
      "text/plain": [
       "<IPython.core.display.HTML object>"
      ]
     },
     "metadata": {},
     "output_type": "display_data"
    },
    {
     "name": "stdout",
     "output_type": "stream",
     "text": [
      "Stopping early at epoch 10.0: No improvement in loss or accuracy for 3 evaluations.\n",
      "{'eval_loss': 0.5247821807861328, 'eval_accuracy': 0.7373737373737373, 'eval_runtime': 4.6197, 'eval_samples_per_second': 85.721, 'eval_steps_per_second': 10.823, 'epoch': 10.0}\n"
     ]
    },
    {
     "name": "stderr",
     "output_type": "stream",
     "text": [
      "[I 2024-06-09 00:12:35,948] Trial 30 finished with values: [0.5247821807861328, 0.7373737373737373] and parameters: {'lr': 0.001002255821002658, 'batch': 1, 'accum': 8, 'dropout_rate': 0.7134685848853661, 'weight_decay': 0.0005346516027448873, 'warmup_pct': 0.2341290219732253, 'dora_rank': 28, 'dora_init_scale': 0.0017090735926069244}. \n"
     ]
    },
    {
     "name": "stdout",
     "output_type": "stream",
     "text": [
      "History:  [{'loss': 0.689, 'learning_rate': 5.3518514713734164e-05, 'epoch': 1.0, 'step': 198}, {'eval_loss': 0.6492251753807068, 'eval_accuracy': 0.6818181818181818, 'eval_runtime': 5.0917, 'eval_samples_per_second': 77.774, 'eval_steps_per_second': 9.82, 'epoch': 1.0, 'step': 198}, {'loss': 0.629, 'learning_rate': 0.00010703702942746833, 'epoch': 2.0, 'step': 396}, {'eval_loss': 0.5837574005126953, 'eval_accuracy': 0.7626262626262627, 'eval_runtime': 4.7274, 'eval_samples_per_second': 83.767, 'eval_steps_per_second': 10.577, 'epoch': 2.0, 'step': 396}, {'loss': 0.5848, 'learning_rate': 0.00016055554414120253, 'epoch': 3.0, 'step': 594}, {'eval_loss': 0.5484922528266907, 'eval_accuracy': 0.7449494949494949, 'eval_runtime': 4.5303, 'eval_samples_per_second': 87.411, 'eval_steps_per_second': 11.037, 'epoch': 3.0, 'step': 594}, {'loss': 0.5692, 'learning_rate': 0.00021407405885493665, 'epoch': 4.0, 'step': 792}, {'eval_loss': 0.5289574265480042, 'eval_accuracy': 0.7575757575757576, 'eval_runtime': 4.4983, 'eval_samples_per_second': 88.034, 'eval_steps_per_second': 11.115, 'epoch': 4.0, 'step': 792}, {'loss': 0.5773, 'learning_rate': 0.00026759257356867084, 'epoch': 5.0, 'step': 990}, {'eval_loss': 0.5300859212875366, 'eval_accuracy': 0.7575757575757576, 'eval_runtime': 4.4743, 'eval_samples_per_second': 88.505, 'eval_steps_per_second': 11.175, 'epoch': 5.0, 'step': 990}, {'loss': 0.5467, 'learning_rate': 0.00032111108828240505, 'epoch': 6.0, 'step': 1188}, {'eval_loss': 0.5347535610198975, 'eval_accuracy': 0.7474747474747475, 'eval_runtime': 4.5985, 'eval_samples_per_second': 86.115, 'eval_steps_per_second': 10.873, 'epoch': 6.0, 'step': 1188}, {'loss': 0.5572, 'learning_rate': 0.0003746296029961392, 'epoch': 7.0, 'step': 1386}, {'eval_loss': 0.5262081623077393, 'eval_accuracy': 0.7449494949494949, 'eval_runtime': 4.4781, 'eval_samples_per_second': 88.43, 'eval_steps_per_second': 11.165, 'epoch': 7.0, 'step': 1386}, {'loss': 0.5494, 'learning_rate': 0.0004281481177098733, 'epoch': 8.0, 'step': 1584}, {'eval_loss': 0.5247821807861328, 'eval_accuracy': 0.7373737373737373, 'eval_runtime': 4.6461, 'eval_samples_per_second': 85.233, 'eval_steps_per_second': 10.762, 'epoch': 8.0, 'step': 1584}, {'loss': 0.5487, 'learning_rate': 0.0004816666324236075, 'epoch': 9.0, 'step': 1782}, {'eval_loss': 0.5561470985412598, 'eval_accuracy': 0.7348484848484849, 'eval_runtime': 4.6023, 'eval_samples_per_second': 86.043, 'eval_steps_per_second': 10.864, 'epoch': 9.0, 'step': 1782}, {'loss': 0.556, 'learning_rate': 0.0005351851471373417, 'epoch': 10.0, 'step': 1980}, {'eval_loss': 0.5412263870239258, 'eval_accuracy': 0.73989898989899, 'eval_runtime': 4.5991, 'eval_samples_per_second': 86.104, 'eval_steps_per_second': 10.872, 'epoch': 10.0, 'step': 1980}, {'train_runtime': 1188.6516, 'train_samples_per_second': 13.326, 'train_steps_per_second': 1.666, 'total_flos': 3907230233258880.0, 'train_loss': 0.5807388344196358, 'epoch': 10.0, 'step': 1980}, {'eval_loss': 0.5247821807861328, 'eval_accuracy': 0.7373737373737373, 'eval_runtime': 4.6197, 'eval_samples_per_second': 85.721, 'eval_steps_per_second': 10.823, 'epoch': 10.0, 'step': 1980}]\n"
     ]
    },
    {
     "name": "stderr",
     "output_type": "stream",
     "text": [
      "/home/ubuntu/data/miniconda3/envs/finetune-dephos/lib/python3.9/site-packages/huggingface_hub/file_download.py:1132: FutureWarning: `resume_download` is deprecated and will be removed in version 1.0.0. Downloads always resume when possible. If you want to force a new download, use `force_download=True`.\n",
      "  warnings.warn(\n"
     ]
    },
    {
     "name": "stdout",
     "output_type": "stream",
     "text": [
      "ProtT5_Classfier\n",
      "Trainable Parameter: 1209193475.0\n",
      "ProtT5_DoRA_Classfier\n",
      "Trainable Parameter: 1200131.0\n",
      "\n"
     ]
    },
    {
     "name": "stderr",
     "output_type": "stream",
     "text": [
      "/home/ubuntu/data/miniconda3/envs/finetune-dephos/lib/python3.9/site-packages/accelerate/accelerator.py:446: FutureWarning: Passing the following arguments to `Accelerator` is deprecated and will be removed in version 1.0 of Accelerate: dict_keys(['dispatch_batches', 'split_batches']). Please pass an `accelerate.DataLoaderConfiguration` instead: \n",
      "dataloader_config = DataLoaderConfiguration(dispatch_batches=None, split_batches=False)\n",
      "  warnings.warn(\n"
     ]
    },
    {
     "data": {
      "text/html": [
       "\n",
       "    <div>\n",
       "      \n",
       "      <progress value='792' max='990' style='width:300px; height:20px; vertical-align: middle;'></progress>\n",
       "      [792/990 05:26 < 01:21, 2.42 it/s, Epoch 8/10]\n",
       "    </div>\n",
       "    <table border=\"1\" class=\"dataframe\">\n",
       "  <thead>\n",
       " <tr style=\"text-align: left;\">\n",
       "      <th>Epoch</th>\n",
       "      <th>Training Loss</th>\n",
       "      <th>Validation Loss</th>\n",
       "      <th>Accuracy</th>\n",
       "    </tr>\n",
       "  </thead>\n",
       "  <tbody>\n",
       "    <tr>\n",
       "      <td>1</td>\n",
       "      <td>0.673300</td>\n",
       "      <td>0.625906</td>\n",
       "      <td>0.722222</td>\n",
       "    </tr>\n",
       "    <tr>\n",
       "      <td>2</td>\n",
       "      <td>0.594800</td>\n",
       "      <td>0.559251</td>\n",
       "      <td>0.755051</td>\n",
       "    </tr>\n",
       "    <tr>\n",
       "      <td>3</td>\n",
       "      <td>0.545700</td>\n",
       "      <td>0.554826</td>\n",
       "      <td>0.732323</td>\n",
       "    </tr>\n",
       "    <tr>\n",
       "      <td>4</td>\n",
       "      <td>0.523200</td>\n",
       "      <td>0.541979</td>\n",
       "      <td>0.737374</td>\n",
       "    </tr>\n",
       "    <tr>\n",
       "      <td>5</td>\n",
       "      <td>0.511000</td>\n",
       "      <td>0.532958</td>\n",
       "      <td>0.734848</td>\n",
       "    </tr>\n",
       "    <tr>\n",
       "      <td>6</td>\n",
       "      <td>0.503800</td>\n",
       "      <td>0.533202</td>\n",
       "      <td>0.732323</td>\n",
       "    </tr>\n",
       "    <tr>\n",
       "      <td>7</td>\n",
       "      <td>0.499000</td>\n",
       "      <td>0.538285</td>\n",
       "      <td>0.727273</td>\n",
       "    </tr>\n",
       "    <tr>\n",
       "      <td>8</td>\n",
       "      <td>0.477700</td>\n",
       "      <td>0.537464</td>\n",
       "      <td>0.732323</td>\n",
       "    </tr>\n",
       "  </tbody>\n",
       "</table><p>"
      ],
      "text/plain": [
       "<IPython.core.display.HTML object>"
      ]
     },
     "metadata": {},
     "output_type": "display_data"
    },
    {
     "name": "stdout",
     "output_type": "stream",
     "text": [
      "Saved improved model to ./model_output/finetuned_model_all_dora.pth\n",
      "Saved improved model to ./model_output/finetuned_model_all_dora.pth\n",
      "Saved improved model to ./model_output/finetuned_model_all_dora.pth\n",
      "Saved improved model to ./model_output/finetuned_model_all_dora.pth\n",
      "Saved improved model to ./model_output/finetuned_model_all_dora.pth\n",
      "Stopping early at epoch 8.0: No improvement in loss or accuracy for 3 evaluations.\n",
      "Loaded best model from ./model_output/finetuned_model_all_dora.pth\n"
     ]
    },
    {
     "data": {
      "text/html": [
       "\n",
       "    <div>\n",
       "      \n",
       "      <progress value='50' max='50' style='width:300px; height:20px; vertical-align: middle;'></progress>\n",
       "      [50/50 00:04]\n",
       "    </div>\n",
       "    "
      ],
      "text/plain": [
       "<IPython.core.display.HTML object>"
      ]
     },
     "metadata": {},
     "output_type": "display_data"
    },
    {
     "name": "stdout",
     "output_type": "stream",
     "text": [
      "Stopping early at epoch 8.0: No improvement in loss or accuracy for 3 evaluations.\n",
      "{'eval_loss': 0.532958447933197, 'eval_accuracy': 0.7348484848484849, 'eval_runtime': 4.6139, 'eval_samples_per_second': 85.827, 'eval_steps_per_second': 10.837, 'epoch': 8.0}\n"
     ]
    },
    {
     "name": "stderr",
     "output_type": "stream",
     "text": [
      "[I 2024-06-09 00:19:31,814] Trial 31 finished with values: [0.532958447933197, 0.7348484848484849] and parameters: {'lr': 0.0002987469749523671, 'batch': 8, 'accum': 2, 'dropout_rate': 0.5628881057142133, 'weight_decay': 0.00011400122614120501, 'warmup_pct': 0.17792990686050358, 'dora_rank': 16, 'dora_init_scale': 0.003900844405949867}. \n"
     ]
    },
    {
     "name": "stdout",
     "output_type": "stream",
     "text": [
      "History:  [{'loss': 0.6733, 'learning_rate': 8.402258670535325e-05, 'epoch': 1.0, 'step': 99}, {'eval_loss': 0.6259058117866516, 'eval_accuracy': 0.7222222222222222, 'eval_runtime': 5.1099, 'eval_samples_per_second': 77.496, 'eval_steps_per_second': 9.785, 'epoch': 1.0, 'step': 99}, {'loss': 0.5948, 'learning_rate': 0.0001680451734107065, 'epoch': 2.0, 'step': 198}, {'eval_loss': 0.5592508912086487, 'eval_accuracy': 0.7550505050505051, 'eval_runtime': 4.7109, 'eval_samples_per_second': 84.061, 'eval_steps_per_second': 10.614, 'epoch': 2.0, 'step': 198}, {'loss': 0.5457, 'learning_rate': 0.00025206776011605975, 'epoch': 3.0, 'step': 297}, {'eval_loss': 0.5548260807991028, 'eval_accuracy': 0.7323232323232324, 'eval_runtime': 4.6174, 'eval_samples_per_second': 85.762, 'eval_steps_per_second': 10.829, 'epoch': 3.0, 'step': 297}, {'loss': 0.5232, 'learning_rate': 0.00027814373530047975, 'epoch': 4.0, 'step': 396}, {'eval_loss': 0.5419791340827942, 'eval_accuracy': 0.7373737373737373, 'eval_runtime': 4.59, 'eval_samples_per_second': 86.274, 'eval_steps_per_second': 10.893, 'epoch': 4.0, 'step': 396}, {'loss': 0.511, 'learning_rate': 0.0002317864460837331, 'epoch': 5.0, 'step': 495}, {'eval_loss': 0.532958447933197, 'eval_accuracy': 0.7348484848484849, 'eval_runtime': 4.6088, 'eval_samples_per_second': 85.923, 'eval_steps_per_second': 10.849, 'epoch': 5.0, 'step': 495}, {'loss': 0.5038, 'learning_rate': 0.0001854291568669865, 'epoch': 6.0, 'step': 594}, {'eval_loss': 0.5332021713256836, 'eval_accuracy': 0.7323232323232324, 'eval_runtime': 4.6052, 'eval_samples_per_second': 85.989, 'eval_steps_per_second': 10.857, 'epoch': 6.0, 'step': 594}, {'loss': 0.499, 'learning_rate': 0.00013907186765023987, 'epoch': 7.0, 'step': 693}, {'eval_loss': 0.5382848381996155, 'eval_accuracy': 0.7272727272727273, 'eval_runtime': 4.6211, 'eval_samples_per_second': 85.694, 'eval_steps_per_second': 10.82, 'epoch': 7.0, 'step': 693}, {'loss': 0.4777, 'learning_rate': 9.271457843349325e-05, 'epoch': 8.0, 'step': 792}, {'eval_loss': 0.5374639630317688, 'eval_accuracy': 0.7323232323232324, 'eval_runtime': 4.6086, 'eval_samples_per_second': 85.927, 'eval_steps_per_second': 10.849, 'epoch': 8.0, 'step': 792}, {'train_runtime': 326.4859, 'train_samples_per_second': 48.517, 'train_steps_per_second': 3.032, 'total_flos': 3125784186607104.0, 'train_loss': 0.5410744204665675, 'epoch': 8.0, 'step': 792}, {'eval_loss': 0.532958447933197, 'eval_accuracy': 0.7348484848484849, 'eval_runtime': 4.6139, 'eval_samples_per_second': 85.827, 'eval_steps_per_second': 10.837, 'epoch': 8.0, 'step': 792}]\n"
     ]
    },
    {
     "name": "stderr",
     "output_type": "stream",
     "text": [
      "/home/ubuntu/data/miniconda3/envs/finetune-dephos/lib/python3.9/site-packages/huggingface_hub/file_download.py:1132: FutureWarning: `resume_download` is deprecated and will be removed in version 1.0.0. Downloads always resume when possible. If you want to force a new download, use `force_download=True`.\n",
      "  warnings.warn(\n"
     ]
    },
    {
     "name": "stdout",
     "output_type": "stream",
     "text": [
      "ProtT5_Classfier\n",
      "Trainable Parameter: 1209193475.0\n",
      "ProtT5_DoRA_Classfier\n",
      "Trainable Parameter: 1200131.0\n",
      "\n"
     ]
    },
    {
     "name": "stderr",
     "output_type": "stream",
     "text": [
      "/home/ubuntu/data/miniconda3/envs/finetune-dephos/lib/python3.9/site-packages/accelerate/accelerator.py:446: FutureWarning: Passing the following arguments to `Accelerator` is deprecated and will be removed in version 1.0 of Accelerate: dict_keys(['dispatch_batches', 'split_batches']). Please pass an `accelerate.DataLoaderConfiguration` instead: \n",
      "dataloader_config = DataLoaderConfiguration(dispatch_batches=None, split_batches=False)\n",
      "  warnings.warn(\n"
     ]
    },
    {
     "data": {
      "text/html": [
       "\n",
       "    <div>\n",
       "      \n",
       "      <progress value='990' max='990' style='width:300px; height:20px; vertical-align: middle;'></progress>\n",
       "      [990/990 08:14, Epoch 10/10]\n",
       "    </div>\n",
       "    <table border=\"1\" class=\"dataframe\">\n",
       "  <thead>\n",
       " <tr style=\"text-align: left;\">\n",
       "      <th>Epoch</th>\n",
       "      <th>Training Loss</th>\n",
       "      <th>Validation Loss</th>\n",
       "      <th>Accuracy</th>\n",
       "    </tr>\n",
       "  </thead>\n",
       "  <tbody>\n",
       "    <tr>\n",
       "      <td>1</td>\n",
       "      <td>0.709500</td>\n",
       "      <td>0.696272</td>\n",
       "      <td>0.469697</td>\n",
       "    </tr>\n",
       "    <tr>\n",
       "      <td>2</td>\n",
       "      <td>0.707600</td>\n",
       "      <td>0.693065</td>\n",
       "      <td>0.482323</td>\n",
       "    </tr>\n",
       "    <tr>\n",
       "      <td>3</td>\n",
       "      <td>0.703400</td>\n",
       "      <td>0.688021</td>\n",
       "      <td>0.535354</td>\n",
       "    </tr>\n",
       "    <tr>\n",
       "      <td>4</td>\n",
       "      <td>0.696700</td>\n",
       "      <td>0.681452</td>\n",
       "      <td>0.593434</td>\n",
       "    </tr>\n",
       "    <tr>\n",
       "      <td>5</td>\n",
       "      <td>0.682100</td>\n",
       "      <td>0.673761</td>\n",
       "      <td>0.638889</td>\n",
       "    </tr>\n",
       "    <tr>\n",
       "      <td>6</td>\n",
       "      <td>0.679900</td>\n",
       "      <td>0.664913</td>\n",
       "      <td>0.659091</td>\n",
       "    </tr>\n",
       "    <tr>\n",
       "      <td>7</td>\n",
       "      <td>0.662600</td>\n",
       "      <td>0.655760</td>\n",
       "      <td>0.666667</td>\n",
       "    </tr>\n",
       "    <tr>\n",
       "      <td>8</td>\n",
       "      <td>0.658000</td>\n",
       "      <td>0.646425</td>\n",
       "      <td>0.686869</td>\n",
       "    </tr>\n",
       "    <tr>\n",
       "      <td>9</td>\n",
       "      <td>0.648200</td>\n",
       "      <td>0.637031</td>\n",
       "      <td>0.699495</td>\n",
       "    </tr>\n",
       "    <tr>\n",
       "      <td>10</td>\n",
       "      <td>0.637200</td>\n",
       "      <td>0.626985</td>\n",
       "      <td>0.722222</td>\n",
       "    </tr>\n",
       "  </tbody>\n",
       "</table><p>"
      ],
      "text/plain": [
       "<IPython.core.display.HTML object>"
      ]
     },
     "metadata": {},
     "output_type": "display_data"
    },
    {
     "name": "stdout",
     "output_type": "stream",
     "text": [
      "Saved improved model to ./model_output/finetuned_model_all_dora.pth\n",
      "Saved improved model to ./model_output/finetuned_model_all_dora.pth\n",
      "Saved improved model to ./model_output/finetuned_model_all_dora.pth\n",
      "Saved improved model to ./model_output/finetuned_model_all_dora.pth\n",
      "Saved improved model to ./model_output/finetuned_model_all_dora.pth\n",
      "Saved improved model to ./model_output/finetuned_model_all_dora.pth\n",
      "Saved improved model to ./model_output/finetuned_model_all_dora.pth\n",
      "Saved improved model to ./model_output/finetuned_model_all_dora.pth\n",
      "Saved improved model to ./model_output/finetuned_model_all_dora.pth\n",
      "Saved improved model to ./model_output/finetuned_model_all_dora.pth\n",
      "Loaded best model from ./model_output/finetuned_model_all_dora.pth\n"
     ]
    },
    {
     "data": {
      "text/html": [
       "\n",
       "    <div>\n",
       "      \n",
       "      <progress value='50' max='50' style='width:300px; height:20px; vertical-align: middle;'></progress>\n",
       "      [50/50 00:04]\n",
       "    </div>\n",
       "    "
      ],
      "text/plain": [
       "<IPython.core.display.HTML object>"
      ]
     },
     "metadata": {},
     "output_type": "display_data"
    },
    {
     "name": "stdout",
     "output_type": "stream",
     "text": [
      "{'eval_loss': 0.6269853115081787, 'eval_accuracy': 0.7222222222222222, 'eval_runtime': 4.5923, 'eval_samples_per_second': 86.231, 'eval_steps_per_second': 10.888, 'epoch': 10.0}\n"
     ]
    },
    {
     "name": "stderr",
     "output_type": "stream",
     "text": [
      "[I 2024-06-09 00:29:14,427] Trial 32 finished with values: [0.6269853115081787, 0.7222222222222222] and parameters: {'lr': 1.3418321875992869e-05, 'batch': 4, 'accum': 4, 'dropout_rate': 0.6725919123377925, 'weight_decay': 0.0001875408467727887, 'warmup_pct': 0.29054586343753996, 'dora_rank': 28, 'dora_init_scale': 0.006407801641987927}. \n"
     ]
    },
    {
     "name": "stdout",
     "output_type": "stream",
     "text": [
      "History:  [{'loss': 0.7095, 'learning_rate': 1.155142491933299e-06, 'epoch': 1.0, 'step': 99}, {'eval_loss': 0.6962721347808838, 'eval_accuracy': 0.4696969696969697, 'eval_runtime': 5.0912, 'eval_samples_per_second': 77.781, 'eval_steps_per_second': 9.821, 'epoch': 1.0, 'step': 99}, {'loss': 0.7076, 'learning_rate': 2.310284983866598e-06, 'epoch': 2.0, 'step': 198}, {'eval_loss': 0.69306480884552, 'eval_accuracy': 0.4823232323232323, 'eval_runtime': 4.5649, 'eval_samples_per_second': 86.75, 'eval_steps_per_second': 10.953, 'epoch': 2.0, 'step': 198}, {'loss': 0.7034, 'learning_rate': 3.4654274757998974e-06, 'epoch': 3.0, 'step': 297}, {'eval_loss': 0.6880214214324951, 'eval_accuracy': 0.5353535353535354, 'eval_runtime': 4.6003, 'eval_samples_per_second': 86.082, 'eval_steps_per_second': 10.869, 'epoch': 3.0, 'step': 297}, {'loss': 0.6967, 'learning_rate': 4.620569967733196e-06, 'epoch': 4.0, 'step': 396}, {'eval_loss': 0.681452214717865, 'eval_accuracy': 0.5934343434343434, 'eval_runtime': 4.6351, 'eval_samples_per_second': 85.436, 'eval_steps_per_second': 10.787, 'epoch': 4.0, 'step': 396}, {'loss': 0.6821, 'learning_rate': 5.7757124596664955e-06, 'epoch': 5.0, 'step': 495}, {'eval_loss': 0.6737609505653381, 'eval_accuracy': 0.6388888888888888, 'eval_runtime': 4.6349, 'eval_samples_per_second': 85.439, 'eval_steps_per_second': 10.788, 'epoch': 5.0, 'step': 495}, {'loss': 0.6799, 'learning_rate': 6.930854951599795e-06, 'epoch': 6.0, 'step': 594}, {'eval_loss': 0.6649134755134583, 'eval_accuracy': 0.6590909090909091, 'eval_runtime': 4.5914, 'eval_samples_per_second': 86.248, 'eval_steps_per_second': 10.89, 'epoch': 6.0, 'step': 594}, {'loss': 0.6626, 'learning_rate': 8.085997443533094e-06, 'epoch': 7.0, 'step': 693}, {'eval_loss': 0.6557601094245911, 'eval_accuracy': 0.6666666666666666, 'eval_runtime': 4.6011, 'eval_samples_per_second': 86.066, 'eval_steps_per_second': 10.867, 'epoch': 7.0, 'step': 693}, {'loss': 0.658, 'learning_rate': 9.241139935466392e-06, 'epoch': 8.0, 'step': 792}, {'eval_loss': 0.6464246511459351, 'eval_accuracy': 0.6868686868686869, 'eval_runtime': 4.5891, 'eval_samples_per_second': 86.292, 'eval_steps_per_second': 10.895, 'epoch': 8.0, 'step': 792}, {'loss': 0.6482, 'learning_rate': 1.0396282427399693e-05, 'epoch': 9.0, 'step': 891}, {'eval_loss': 0.6370306015014648, 'eval_accuracy': 0.6994949494949495, 'eval_runtime': 4.5897, 'eval_samples_per_second': 86.279, 'eval_steps_per_second': 10.894, 'epoch': 9.0, 'step': 891}, {'loss': 0.6372, 'learning_rate': 1.1551424919332991e-05, 'epoch': 10.0, 'step': 990}, {'eval_loss': 0.6269853115081787, 'eval_accuracy': 0.7222222222222222, 'eval_runtime': 4.5952, 'eval_samples_per_second': 86.177, 'eval_steps_per_second': 10.881, 'epoch': 10.0, 'step': 990}, {'train_runtime': 495.0331, 'train_samples_per_second': 31.998, 'train_steps_per_second': 2.0, 'total_flos': 3907230233258880.0, 'train_loss': 0.678532363429214, 'epoch': 10.0, 'step': 990}, {'eval_loss': 0.6269853115081787, 'eval_accuracy': 0.7222222222222222, 'eval_runtime': 4.5923, 'eval_samples_per_second': 86.231, 'eval_steps_per_second': 10.888, 'epoch': 10.0, 'step': 990}]\n"
     ]
    },
    {
     "name": "stderr",
     "output_type": "stream",
     "text": [
      "/home/ubuntu/data/miniconda3/envs/finetune-dephos/lib/python3.9/site-packages/huggingface_hub/file_download.py:1132: FutureWarning: `resume_download` is deprecated and will be removed in version 1.0.0. Downloads always resume when possible. If you want to force a new download, use `force_download=True`.\n",
      "  warnings.warn(\n"
     ]
    },
    {
     "name": "stdout",
     "output_type": "stream",
     "text": [
      "ProtT5_Classfier\n",
      "Trainable Parameter: 1209193475.0\n",
      "ProtT5_DoRA_Classfier\n",
      "Trainable Parameter: 1200131.0\n",
      "\n"
     ]
    },
    {
     "name": "stderr",
     "output_type": "stream",
     "text": [
      "/home/ubuntu/data/miniconda3/envs/finetune-dephos/lib/python3.9/site-packages/accelerate/accelerator.py:446: FutureWarning: Passing the following arguments to `Accelerator` is deprecated and will be removed in version 1.0 of Accelerate: dict_keys(['dispatch_batches', 'split_batches']). Please pass an `accelerate.DataLoaderConfiguration` instead: \n",
      "dataloader_config = DataLoaderConfiguration(dispatch_batches=None, split_batches=False)\n",
      "  warnings.warn(\n"
     ]
    },
    {
     "data": {
      "text/html": [
       "\n",
       "    <div>\n",
       "      \n",
       "      <progress value='396' max='490' style='width:300px; height:20px; vertical-align: middle;'></progress>\n",
       "      [396/490 05:22 < 01:17, 1.22 it/s, Epoch 8/10]\n",
       "    </div>\n",
       "    <table border=\"1\" class=\"dataframe\">\n",
       "  <thead>\n",
       " <tr style=\"text-align: left;\">\n",
       "      <th>Epoch</th>\n",
       "      <th>Training Loss</th>\n",
       "      <th>Validation Loss</th>\n",
       "      <th>Accuracy</th>\n",
       "    </tr>\n",
       "  </thead>\n",
       "  <tbody>\n",
       "    <tr>\n",
       "      <td>0</td>\n",
       "      <td>0.650900</td>\n",
       "      <td>0.539970</td>\n",
       "      <td>0.742424</td>\n",
       "    </tr>\n",
       "    <tr>\n",
       "      <td>2</td>\n",
       "      <td>0.738700</td>\n",
       "      <td>0.595918</td>\n",
       "      <td>0.696970</td>\n",
       "    </tr>\n",
       "    <tr>\n",
       "      <td>4</td>\n",
       "      <td>0.711100</td>\n",
       "      <td>0.532368</td>\n",
       "      <td>0.732323</td>\n",
       "    </tr>\n",
       "    <tr>\n",
       "      <td>6</td>\n",
       "      <td>0.584700</td>\n",
       "      <td>0.556114</td>\n",
       "      <td>0.734848</td>\n",
       "    </tr>\n",
       "    <tr>\n",
       "      <td>8</td>\n",
       "      <td>0.517400</td>\n",
       "      <td>0.555996</td>\n",
       "      <td>0.744949</td>\n",
       "    </tr>\n",
       "  </tbody>\n",
       "</table><p>"
      ],
      "text/plain": [
       "<IPython.core.display.HTML object>"
      ]
     },
     "metadata": {},
     "output_type": "display_data"
    },
    {
     "name": "stdout",
     "output_type": "stream",
     "text": [
      "Saved improved model to ./model_output/finetuned_model_all_dora.pth\n",
      "Saved improved model to ./model_output/finetuned_model_all_dora.pth\n",
      "Saved improved model to ./model_output/finetuned_model_all_dora.pth\n",
      "Stopping early at epoch 8.0: No improvement in loss or accuracy for 3 evaluations.\n",
      "Loaded best model from ./model_output/finetuned_model_all_dora.pth\n"
     ]
    },
    {
     "data": {
      "text/html": [
       "\n",
       "    <div>\n",
       "      \n",
       "      <progress value='50' max='50' style='width:300px; height:20px; vertical-align: middle;'></progress>\n",
       "      [50/50 00:04]\n",
       "    </div>\n",
       "    "
      ],
      "text/plain": [
       "<IPython.core.display.HTML object>"
      ]
     },
     "metadata": {},
     "output_type": "display_data"
    },
    {
     "name": "stdout",
     "output_type": "stream",
     "text": [
      "Stopping early at epoch 8.0: No improvement in loss or accuracy for 3 evaluations.\n",
      "{'eval_loss': 0.5323678851127625, 'eval_accuracy': 0.7323232323232324, 'eval_runtime': 4.6769, 'eval_samples_per_second': 84.671, 'eval_steps_per_second': 10.691, 'epoch': 8.0}\n",
      "History:  [{'loss': 0.6509, 'learning_rate': 0.002198095238223406, 'epoch': 0.99, 'step': 49}, {'eval_loss': 0.5399703979492188, 'eval_accuracy': 0.7424242424242424, 'eval_runtime': 5.1067, 'eval_samples_per_second': 77.546, 'eval_steps_per_second': 9.791, 'epoch': 0.99, 'step': 49}, {'loss': 0.6638, 'learning_rate': 0.004441049562941167, 'epoch': 2.0, 'step': 99}, {'eval_loss': 0.5447016358375549, 'eval_accuracy': 0.75, 'eval_runtime': 4.6203, 'eval_samples_per_second': 85.709, 'eval_steps_per_second': 10.822, 'epoch': 2.0, 'step': 99}, {'loss': 0.7387, 'learning_rate': 0.006639144801164573, 'epoch': 2.99, 'step': 148}, {'eval_loss': 0.5959178805351257, 'eval_accuracy': 0.696969696969697, 'eval_runtime': 4.6205, 'eval_samples_per_second': 85.704, 'eval_steps_per_second': 10.821, 'epoch': 2.99, 'step': 148}, {'loss': 0.7275, 'learning_rate': 0.008882099125882333, 'epoch': 4.0, 'step': 198}, {'eval_loss': 0.5780203938484192, 'eval_accuracy': 0.7222222222222222, 'eval_runtime': 4.6302, 'eval_samples_per_second': 85.526, 'eval_steps_per_second': 10.799, 'epoch': 4.0, 'step': 198}, {'loss': 0.7111, 'learning_rate': 0.007391609889004818, 'epoch': 4.99, 'step': 247}, {'eval_loss': 0.5323678851127625, 'eval_accuracy': 0.7323232323232324, 'eval_runtime': 4.6248, 'eval_samples_per_second': 85.625, 'eval_steps_per_second': 10.811, 'epoch': 4.99, 'step': 247}, {'loss': 0.6385, 'learning_rate': 0.0058707025044359255, 'epoch': 6.0, 'step': 297}, {'eval_loss': 0.6244209408760071, 'eval_accuracy': 0.702020202020202, 'eval_runtime': 4.6283, 'eval_samples_per_second': 85.561, 'eval_steps_per_second': 10.803, 'epoch': 6.0, 'step': 297}, {'loss': 0.5847, 'learning_rate': 0.00438021326755841, 'epoch': 6.99, 'step': 346}, {'eval_loss': 0.5561143755912781, 'eval_accuracy': 0.7348484848484849, 'eval_runtime': 4.631, 'eval_samples_per_second': 85.51, 'eval_steps_per_second': 10.797, 'epoch': 6.99, 'step': 346}, {'loss': 0.5174, 'learning_rate': 0.0028593058829895182, 'epoch': 8.0, 'step': 396}, {'eval_loss': 0.5559958219528198, 'eval_accuracy': 0.7449494949494949, 'eval_runtime': 4.6229, 'eval_samples_per_second': 85.661, 'eval_steps_per_second': 10.816, 'epoch': 8.0, 'step': 396}, {'train_runtime': 323.5933, 'train_samples_per_second': 48.95, 'train_steps_per_second': 1.514, 'total_flos': 3125784186607104.0, 'train_loss': 0.653913367878307, 'epoch': 8.0, 'step': 396}, {'eval_loss': 0.5323678851127625, 'eval_accuracy': 0.7323232323232324, 'eval_runtime': 4.6769, 'eval_samples_per_second': 84.671, 'eval_steps_per_second': 10.691, 'epoch': 8.0, 'step': 396}]\n"
     ]
    },
    {
     "name": "stderr",
     "output_type": "stream",
     "text": [
      "[I 2024-06-09 00:36:01,907] Trial 33 finished with values: [0.5323678851127625, 0.7323232323232324] and parameters: {'lr': 0.008882099125882333, 'batch': 8, 'accum': 4, 'dropout_rate': 0.746437091389031, 'weight_decay': 0.00023206925923081336, 'warmup_pct': 0.10003283440318052, 'dora_rank': 28, 'dora_init_scale': 0.06566085136446104}. \n",
      "/home/ubuntu/data/miniconda3/envs/finetune-dephos/lib/python3.9/site-packages/huggingface_hub/file_download.py:1132: FutureWarning: `resume_download` is deprecated and will be removed in version 1.0.0. Downloads always resume when possible. If you want to force a new download, use `force_download=True`.\n",
      "  warnings.warn(\n"
     ]
    },
    {
     "name": "stdout",
     "output_type": "stream",
     "text": [
      "ProtT5_Classfier\n",
      "Trainable Parameter: 1209193475.0\n",
      "ProtT5_DoRA_Classfier\n",
      "Trainable Parameter: 1200131.0\n",
      "\n"
     ]
    },
    {
     "name": "stderr",
     "output_type": "stream",
     "text": [
      "/home/ubuntu/data/miniconda3/envs/finetune-dephos/lib/python3.9/site-packages/accelerate/accelerator.py:446: FutureWarning: Passing the following arguments to `Accelerator` is deprecated and will be removed in version 1.0 of Accelerate: dict_keys(['dispatch_batches', 'split_batches']). Please pass an `accelerate.DataLoaderConfiguration` instead: \n",
      "dataloader_config = DataLoaderConfiguration(dispatch_batches=None, split_batches=False)\n",
      "  warnings.warn(\n"
     ]
    },
    {
     "data": {
      "text/html": [
       "\n",
       "    <div>\n",
       "      \n",
       "      <progress value='490' max='490' style='width:300px; height:20px; vertical-align: middle;'></progress>\n",
       "      [490/490 08:06, Epoch 9/10]\n",
       "    </div>\n",
       "    <table border=\"1\" class=\"dataframe\">\n",
       "  <thead>\n",
       " <tr style=\"text-align: left;\">\n",
       "      <th>Epoch</th>\n",
       "      <th>Training Loss</th>\n",
       "      <th>Validation Loss</th>\n",
       "      <th>Accuracy</th>\n",
       "    </tr>\n",
       "  </thead>\n",
       "  <tbody>\n",
       "    <tr>\n",
       "      <td>0</td>\n",
       "      <td>0.763500</td>\n",
       "      <td>0.694984</td>\n",
       "      <td>0.474747</td>\n",
       "    </tr>\n",
       "    <tr>\n",
       "      <td>2</td>\n",
       "      <td>0.748500</td>\n",
       "      <td>0.678772</td>\n",
       "      <td>0.603535</td>\n",
       "    </tr>\n",
       "    <tr>\n",
       "      <td>4</td>\n",
       "      <td>0.713100</td>\n",
       "      <td>0.661132</td>\n",
       "      <td>0.659091</td>\n",
       "    </tr>\n",
       "    <tr>\n",
       "      <td>6</td>\n",
       "      <td>0.716800</td>\n",
       "      <td>0.651185</td>\n",
       "      <td>0.676768</td>\n",
       "    </tr>\n",
       "    <tr>\n",
       "      <td>8</td>\n",
       "      <td>0.698800</td>\n",
       "      <td>0.646963</td>\n",
       "      <td>0.684343</td>\n",
       "    </tr>\n",
       "    <tr>\n",
       "      <td>9</td>\n",
       "      <td>0.681000</td>\n",
       "      <td>0.646534</td>\n",
       "      <td>0.686869</td>\n",
       "    </tr>\n",
       "  </tbody>\n",
       "</table><p>"
      ],
      "text/plain": [
       "<IPython.core.display.HTML object>"
      ]
     },
     "metadata": {},
     "output_type": "display_data"
    },
    {
     "name": "stdout",
     "output_type": "stream",
     "text": [
      "Saved improved model to ./model_output/finetuned_model_all_dora.pth\n",
      "Saved improved model to ./model_output/finetuned_model_all_dora.pth\n",
      "Saved improved model to ./model_output/finetuned_model_all_dora.pth\n",
      "Saved improved model to ./model_output/finetuned_model_all_dora.pth\n",
      "Saved improved model to ./model_output/finetuned_model_all_dora.pth\n",
      "Saved improved model to ./model_output/finetuned_model_all_dora.pth\n",
      "Saved improved model to ./model_output/finetuned_model_all_dora.pth\n",
      "Saved improved model to ./model_output/finetuned_model_all_dora.pth\n",
      "Saved improved model to ./model_output/finetuned_model_all_dora.pth\n",
      "Saved improved model to ./model_output/finetuned_model_all_dora.pth\n",
      "Loaded best model from ./model_output/finetuned_model_all_dora.pth\n"
     ]
    },
    {
     "data": {
      "text/html": [
       "\n",
       "    <div>\n",
       "      \n",
       "      <progress value='50' max='50' style='width:300px; height:20px; vertical-align: middle;'></progress>\n",
       "      [50/50 00:04]\n",
       "    </div>\n",
       "    "
      ],
      "text/plain": [
       "<IPython.core.display.HTML object>"
      ]
     },
     "metadata": {},
     "output_type": "display_data"
    },
    {
     "name": "stdout",
     "output_type": "stream",
     "text": [
      "{'eval_loss': 0.6465336680412292, 'eval_accuracy': 0.6868686868686869, 'eval_runtime': 4.6267, 'eval_samples_per_second': 85.59, 'eval_steps_per_second': 10.807, 'epoch': 9.9}\n"
     ]
    },
    {
     "name": "stderr",
     "output_type": "stream",
     "text": [
      "[I 2024-06-09 00:45:40,691] Trial 34 finished with values: [0.6465336680412292, 0.6868686868686869] and parameters: {'lr': 2.5989622187819567e-05, 'batch': 4, 'accum': 8, 'dropout_rate': 0.8580910543352823, 'weight_decay': 0.0006374413945817985, 'warmup_pct': 0.03810183429685109, 'dora_rank': 20, 'dora_init_scale': 0.005901128939086356}. \n"
     ]
    },
    {
     "name": "stdout",
     "output_type": "stream",
     "text": [
      "History:  [{'loss': 0.7635, 'learning_rate': 8.489943248021058e-06, 'epoch': 0.99, 'step': 49}, {'eval_loss': 0.6949838995933533, 'eval_accuracy': 0.47474747474747475, 'eval_runtime': 5.0895, 'eval_samples_per_second': 77.808, 'eval_steps_per_second': 9.824, 'epoch': 0.99, 'step': 49}, {'loss': 0.7448, 'learning_rate': 1.7153150643960915e-05, 'epoch': 2.0, 'step': 99}, {'eval_loss': 0.6883606314659119, 'eval_accuracy': 0.5050505050505051, 'eval_runtime': 4.6225, 'eval_samples_per_second': 85.668, 'eval_steps_per_second': 10.817, 'epoch': 2.0, 'step': 99}, {'loss': 0.7485, 'learning_rate': 2.5643093891981973e-05, 'epoch': 2.99, 'step': 148}, {'eval_loss': 0.6787717342376709, 'eval_accuracy': 0.6035353535353535, 'eval_runtime': 4.6131, 'eval_samples_per_second': 85.842, 'eval_steps_per_second': 10.839, 'epoch': 2.99, 'step': 148}, {'loss': 0.7116, 'learning_rate': 2.232049905542151e-05, 'epoch': 4.0, 'step': 198}, {'eval_loss': 0.6685262322425842, 'eval_accuracy': 0.6287878787878788, 'eval_runtime': 4.613, 'eval_samples_per_second': 85.843, 'eval_steps_per_second': 10.839, 'epoch': 4.0, 'step': 198}, {'loss': 0.7131, 'learning_rate': 1.8574935857765163e-05, 'epoch': 4.99, 'step': 247}, {'eval_loss': 0.6611320972442627, 'eval_accuracy': 0.6590909090909091, 'eval_runtime': 4.6539, 'eval_samples_per_second': 85.091, 'eval_steps_per_second': 10.744, 'epoch': 4.99, 'step': 247}, {'loss': 0.6972, 'learning_rate': 1.4752932594850519e-05, 'epoch': 6.0, 'step': 297}, {'eval_loss': 0.6552696824073792, 'eval_accuracy': 0.6717171717171717, 'eval_runtime': 4.615, 'eval_samples_per_second': 85.807, 'eval_steps_per_second': 10.834, 'epoch': 6.0, 'step': 297}, {'loss': 0.7168, 'learning_rate': 1.100736939719417e-05, 'epoch': 6.99, 'step': 346}, {'eval_loss': 0.6511848568916321, 'eval_accuracy': 0.6767676767676768, 'eval_runtime': 4.61, 'eval_samples_per_second': 85.899, 'eval_steps_per_second': 10.846, 'epoch': 6.99, 'step': 346}, {'loss': 0.6932, 'learning_rate': 7.185366134279528e-06, 'epoch': 8.0, 'step': 396}, {'eval_loss': 0.6484231948852539, 'eval_accuracy': 0.6818181818181818, 'eval_runtime': 4.6434, 'eval_samples_per_second': 85.282, 'eval_steps_per_second': 10.768, 'epoch': 8.0, 'step': 396}, {'loss': 0.6988, 'learning_rate': 3.439802936623178e-06, 'epoch': 8.99, 'step': 445}, {'eval_loss': 0.6469634175300598, 'eval_accuracy': 0.6843434343434344, 'eval_runtime': 4.613, 'eval_samples_per_second': 85.845, 'eval_steps_per_second': 10.839, 'epoch': 8.99, 'step': 445}, {'loss': 0.681, 'learning_rate': 0.0, 'epoch': 9.9, 'step': 490}, {'eval_loss': 0.6465336680412292, 'eval_accuracy': 0.6868686868686869, 'eval_runtime': 4.6247, 'eval_samples_per_second': 85.627, 'eval_steps_per_second': 10.812, 'epoch': 9.9, 'step': 490}, {'train_runtime': 487.0784, 'train_samples_per_second': 32.52, 'train_steps_per_second': 1.006, 'total_flos': 3867763261205760.0, 'train_loss': 0.7170926580623704, 'epoch': 9.9, 'step': 490}, {'eval_loss': 0.6465336680412292, 'eval_accuracy': 0.6868686868686869, 'eval_runtime': 4.6267, 'eval_samples_per_second': 85.59, 'eval_steps_per_second': 10.807, 'epoch': 9.9, 'step': 490}]\n"
     ]
    },
    {
     "name": "stderr",
     "output_type": "stream",
     "text": [
      "/home/ubuntu/data/miniconda3/envs/finetune-dephos/lib/python3.9/site-packages/huggingface_hub/file_download.py:1132: FutureWarning: `resume_download` is deprecated and will be removed in version 1.0.0. Downloads always resume when possible. If you want to force a new download, use `force_download=True`.\n",
      "  warnings.warn(\n"
     ]
    },
    {
     "name": "stdout",
     "output_type": "stream",
     "text": [
      "ProtT5_Classfier\n",
      "Trainable Parameter: 1209193475.0\n",
      "ProtT5_DoRA_Classfier\n",
      "Trainable Parameter: 1200131.0\n",
      "\n"
     ]
    },
    {
     "name": "stderr",
     "output_type": "stream",
     "text": [
      "/home/ubuntu/data/miniconda3/envs/finetune-dephos/lib/python3.9/site-packages/accelerate/accelerator.py:446: FutureWarning: Passing the following arguments to `Accelerator` is deprecated and will be removed in version 1.0 of Accelerate: dict_keys(['dispatch_batches', 'split_batches']). Please pass an `accelerate.DataLoaderConfiguration` instead: \n",
      "dataloader_config = DataLoaderConfiguration(dispatch_batches=None, split_batches=False)\n",
      "  warnings.warn(\n"
     ]
    },
    {
     "data": {
      "text/html": [
       "\n",
       "    <div>\n",
       "      \n",
       "      <progress value='990' max='990' style='width:300px; height:20px; vertical-align: middle;'></progress>\n",
       "      [990/990 06:47, Epoch 10/10]\n",
       "    </div>\n",
       "    <table border=\"1\" class=\"dataframe\">\n",
       "  <thead>\n",
       " <tr style=\"text-align: left;\">\n",
       "      <th>Epoch</th>\n",
       "      <th>Training Loss</th>\n",
       "      <th>Validation Loss</th>\n",
       "      <th>Accuracy</th>\n",
       "    </tr>\n",
       "  </thead>\n",
       "  <tbody>\n",
       "    <tr>\n",
       "      <td>1</td>\n",
       "      <td>0.610600</td>\n",
       "      <td>0.554568</td>\n",
       "      <td>0.732323</td>\n",
       "    </tr>\n",
       "    <tr>\n",
       "      <td>2</td>\n",
       "      <td>0.537400</td>\n",
       "      <td>0.588954</td>\n",
       "      <td>0.714646</td>\n",
       "    </tr>\n",
       "    <tr>\n",
       "      <td>3</td>\n",
       "      <td>0.525400</td>\n",
       "      <td>0.592099</td>\n",
       "      <td>0.737374</td>\n",
       "    </tr>\n",
       "    <tr>\n",
       "      <td>4</td>\n",
       "      <td>0.526300</td>\n",
       "      <td>0.578103</td>\n",
       "      <td>0.732323</td>\n",
       "    </tr>\n",
       "    <tr>\n",
       "      <td>5</td>\n",
       "      <td>0.493600</td>\n",
       "      <td>0.620189</td>\n",
       "      <td>0.722222</td>\n",
       "    </tr>\n",
       "    <tr>\n",
       "      <td>6</td>\n",
       "      <td>0.465300</td>\n",
       "      <td>0.545179</td>\n",
       "      <td>0.729798</td>\n",
       "    </tr>\n",
       "    <tr>\n",
       "      <td>7</td>\n",
       "      <td>0.427800</td>\n",
       "      <td>0.602361</td>\n",
       "      <td>0.732323</td>\n",
       "    </tr>\n",
       "    <tr>\n",
       "      <td>8</td>\n",
       "      <td>0.403900</td>\n",
       "      <td>0.584032</td>\n",
       "      <td>0.747475</td>\n",
       "    </tr>\n",
       "    <tr>\n",
       "      <td>9</td>\n",
       "      <td>0.389400</td>\n",
       "      <td>0.609018</td>\n",
       "      <td>0.734848</td>\n",
       "    </tr>\n",
       "    <tr>\n",
       "      <td>10</td>\n",
       "      <td>0.343200</td>\n",
       "      <td>0.606411</td>\n",
       "      <td>0.737374</td>\n",
       "    </tr>\n",
       "  </tbody>\n",
       "</table><p>"
      ],
      "text/plain": [
       "<IPython.core.display.HTML object>"
      ]
     },
     "metadata": {},
     "output_type": "display_data"
    },
    {
     "name": "stdout",
     "output_type": "stream",
     "text": [
      "Saved improved model to ./model_output/finetuned_model_all_dora.pth\n",
      "Saved improved model to ./model_output/finetuned_model_all_dora.pth\n",
      "Saved improved model to ./model_output/finetuned_model_all_dora.pth\n",
      "Saved improved model to ./model_output/finetuned_model_all_dora.pth\n",
      "Loaded best model from ./model_output/finetuned_model_all_dora.pth\n"
     ]
    },
    {
     "data": {
      "text/html": [
       "\n",
       "    <div>\n",
       "      \n",
       "      <progress value='50' max='50' style='width:300px; height:20px; vertical-align: middle;'></progress>\n",
       "      [50/50 00:04]\n",
       "    </div>\n",
       "    "
      ],
      "text/plain": [
       "<IPython.core.display.HTML object>"
      ]
     },
     "metadata": {},
     "output_type": "display_data"
    },
    {
     "name": "stdout",
     "output_type": "stream",
     "text": [
      "Stopping early at epoch 10.0: No improvement in loss or accuracy for 3 evaluations.\n",
      "{'eval_loss': 0.5840316414833069, 'eval_accuracy': 0.7474747474747475, 'eval_runtime': 4.6191, 'eval_samples_per_second': 85.73, 'eval_steps_per_second': 10.825, 'epoch': 10.0}\n"
     ]
    },
    {
     "name": "stderr",
     "output_type": "stream",
     "text": [
      "[I 2024-06-09 00:53:49,909] Trial 35 finished with values: [0.5840316414833069, 0.7474747474747475] and parameters: {'lr': 0.0019930279490516668, 'batch': 8, 'accum': 2, 'dropout_rate': 0.3392587161241412, 'weight_decay': 0.00018714304078151816, 'warmup_pct': 0.14462975694904265, 'dora_rank': 8, 'dora_init_scale': 0.00033722770631994015}. \n"
     ]
    },
    {
     "name": "stdout",
     "output_type": "stream",
     "text": [
      "History:  [{'loss': 0.6106, 'learning_rate': 0.0006898942900563462, 'epoch': 1.0, 'step': 99}, {'eval_loss': 0.5545682907104492, 'eval_accuracy': 0.7323232323232324, 'eval_runtime': 5.0864, 'eval_samples_per_second': 77.855, 'eval_steps_per_second': 9.83, 'epoch': 1.0, 'step': 99}, {'loss': 0.5374, 'learning_rate': 0.0013797885801126923, 'epoch': 2.0, 'step': 198}, {'eval_loss': 0.5889542102813721, 'eval_accuracy': 0.7146464646464646, 'eval_runtime': 4.6943, 'eval_samples_per_second': 84.358, 'eval_steps_per_second': 10.651, 'epoch': 2.0, 'step': 198}, {'loss': 0.5254, 'learning_rate': 0.0019618868873477343, 'epoch': 3.0, 'step': 297}, {'eval_loss': 0.5920987129211426, 'eval_accuracy': 0.7373737373737373, 'eval_runtime': 4.6112, 'eval_samples_per_second': 85.877, 'eval_steps_per_second': 10.843, 'epoch': 3.0, 'step': 297}, {'loss': 0.5263, 'learning_rate': 0.0016816173320123439, 'epoch': 4.0, 'step': 396}, {'eval_loss': 0.5781034231185913, 'eval_accuracy': 0.7323232323232324, 'eval_runtime': 4.6149, 'eval_samples_per_second': 85.81, 'eval_steps_per_second': 10.835, 'epoch': 4.0, 'step': 396}, {'loss': 0.4936, 'learning_rate': 0.0014013477766769533, 'epoch': 5.0, 'step': 495}, {'eval_loss': 0.6201887130737305, 'eval_accuracy': 0.7222222222222222, 'eval_runtime': 4.6146, 'eval_samples_per_second': 85.815, 'eval_steps_per_second': 10.835, 'epoch': 5.0, 'step': 495}, {'loss': 0.4653, 'learning_rate': 0.0011210782213415624, 'epoch': 6.0, 'step': 594}, {'eval_loss': 0.5451791882514954, 'eval_accuracy': 0.7297979797979798, 'eval_runtime': 4.6117, 'eval_samples_per_second': 85.869, 'eval_steps_per_second': 10.842, 'epoch': 6.0, 'step': 594}, {'loss': 0.4278, 'learning_rate': 0.0008408086660061719, 'epoch': 7.0, 'step': 693}, {'eval_loss': 0.6023609638214111, 'eval_accuracy': 0.7323232323232324, 'eval_runtime': 4.6212, 'eval_samples_per_second': 85.692, 'eval_steps_per_second': 10.82, 'epoch': 7.0, 'step': 693}, {'loss': 0.4039, 'learning_rate': 0.0005605391106707812, 'epoch': 8.0, 'step': 792}, {'eval_loss': 0.5840316414833069, 'eval_accuracy': 0.7474747474747475, 'eval_runtime': 4.6209, 'eval_samples_per_second': 85.697, 'eval_steps_per_second': 10.82, 'epoch': 8.0, 'step': 792}, {'loss': 0.3894, 'learning_rate': 0.0002802695553353906, 'epoch': 9.0, 'step': 891}, {'eval_loss': 0.609018087387085, 'eval_accuracy': 0.7348484848484849, 'eval_runtime': 4.6155, 'eval_samples_per_second': 85.797, 'eval_steps_per_second': 10.833, 'epoch': 9.0, 'step': 891}, {'loss': 0.3432, 'learning_rate': 0.0, 'epoch': 10.0, 'step': 990}, {'eval_loss': 0.6064106822013855, 'eval_accuracy': 0.7373737373737373, 'eval_runtime': 4.6254, 'eval_samples_per_second': 85.614, 'eval_steps_per_second': 10.81, 'epoch': 10.0, 'step': 990}, {'train_runtime': 407.4212, 'train_samples_per_second': 38.879, 'train_steps_per_second': 2.43, 'total_flos': 3907230233258880.0, 'train_loss': 0.472294412478052, 'epoch': 10.0, 'step': 990}, {'eval_loss': 0.5840316414833069, 'eval_accuracy': 0.7474747474747475, 'eval_runtime': 4.6191, 'eval_samples_per_second': 85.73, 'eval_steps_per_second': 10.825, 'epoch': 10.0, 'step': 990}]\n"
     ]
    },
    {
     "name": "stderr",
     "output_type": "stream",
     "text": [
      "/home/ubuntu/data/miniconda3/envs/finetune-dephos/lib/python3.9/site-packages/huggingface_hub/file_download.py:1132: FutureWarning: `resume_download` is deprecated and will be removed in version 1.0.0. Downloads always resume when possible. If you want to force a new download, use `force_download=True`.\n",
      "  warnings.warn(\n"
     ]
    },
    {
     "name": "stdout",
     "output_type": "stream",
     "text": [
      "ProtT5_Classfier\n",
      "Trainable Parameter: 1209193475.0\n",
      "ProtT5_DoRA_Classfier\n",
      "Trainable Parameter: 1200131.0\n",
      "\n"
     ]
    },
    {
     "name": "stderr",
     "output_type": "stream",
     "text": [
      "/home/ubuntu/data/miniconda3/envs/finetune-dephos/lib/python3.9/site-packages/accelerate/accelerator.py:446: FutureWarning: Passing the following arguments to `Accelerator` is deprecated and will be removed in version 1.0 of Accelerate: dict_keys(['dispatch_batches', 'split_batches']). Please pass an `accelerate.DataLoaderConfiguration` instead: \n",
      "dataloader_config = DataLoaderConfiguration(dispatch_batches=None, split_batches=False)\n",
      "  warnings.warn(\n"
     ]
    },
    {
     "data": {
      "text/html": [
       "\n",
       "    <div>\n",
       "      \n",
       "      <progress value='891' max='990' style='width:300px; height:20px; vertical-align: middle;'></progress>\n",
       "      [891/990 06:06 < 00:40, 2.43 it/s, Epoch 9/10]\n",
       "    </div>\n",
       "    <table border=\"1\" class=\"dataframe\">\n",
       "  <thead>\n",
       " <tr style=\"text-align: left;\">\n",
       "      <th>Epoch</th>\n",
       "      <th>Training Loss</th>\n",
       "      <th>Validation Loss</th>\n",
       "      <th>Accuracy</th>\n",
       "    </tr>\n",
       "  </thead>\n",
       "  <tbody>\n",
       "    <tr>\n",
       "      <td>1</td>\n",
       "      <td>0.655500</td>\n",
       "      <td>0.580067</td>\n",
       "      <td>0.737374</td>\n",
       "    </tr>\n",
       "    <tr>\n",
       "      <td>2</td>\n",
       "      <td>0.560900</td>\n",
       "      <td>0.540299</td>\n",
       "      <td>0.755051</td>\n",
       "    </tr>\n",
       "    <tr>\n",
       "      <td>3</td>\n",
       "      <td>0.548600</td>\n",
       "      <td>0.573373</td>\n",
       "      <td>0.712121</td>\n",
       "    </tr>\n",
       "    <tr>\n",
       "      <td>4</td>\n",
       "      <td>0.545000</td>\n",
       "      <td>0.550636</td>\n",
       "      <td>0.737374</td>\n",
       "    </tr>\n",
       "    <tr>\n",
       "      <td>5</td>\n",
       "      <td>0.537000</td>\n",
       "      <td>0.537104</td>\n",
       "      <td>0.732323</td>\n",
       "    </tr>\n",
       "    <tr>\n",
       "      <td>6</td>\n",
       "      <td>0.535300</td>\n",
       "      <td>0.524688</td>\n",
       "      <td>0.744949</td>\n",
       "    </tr>\n",
       "    <tr>\n",
       "      <td>7</td>\n",
       "      <td>0.501800</td>\n",
       "      <td>0.534501</td>\n",
       "      <td>0.742424</td>\n",
       "    </tr>\n",
       "    <tr>\n",
       "      <td>8</td>\n",
       "      <td>0.481400</td>\n",
       "      <td>0.537766</td>\n",
       "      <td>0.737374</td>\n",
       "    </tr>\n",
       "    <tr>\n",
       "      <td>9</td>\n",
       "      <td>0.475800</td>\n",
       "      <td>0.534309</td>\n",
       "      <td>0.752525</td>\n",
       "    </tr>\n",
       "  </tbody>\n",
       "</table><p>"
      ],
      "text/plain": [
       "<IPython.core.display.HTML object>"
      ]
     },
     "metadata": {},
     "output_type": "display_data"
    },
    {
     "name": "stdout",
     "output_type": "stream",
     "text": [
      "Saved improved model to ./model_output/finetuned_model_all_dora.pth\n",
      "Saved improved model to ./model_output/finetuned_model_all_dora.pth\n",
      "Saved improved model to ./model_output/finetuned_model_all_dora.pth\n",
      "Saved improved model to ./model_output/finetuned_model_all_dora.pth\n",
      "Stopping early at epoch 9.0: No improvement in loss or accuracy for 3 evaluations.\n",
      "Loaded best model from ./model_output/finetuned_model_all_dora.pth\n"
     ]
    },
    {
     "data": {
      "text/html": [
       "\n",
       "    <div>\n",
       "      \n",
       "      <progress value='50' max='50' style='width:300px; height:20px; vertical-align: middle;'></progress>\n",
       "      [50/50 00:04]\n",
       "    </div>\n",
       "    "
      ],
      "text/plain": [
       "<IPython.core.display.HTML object>"
      ]
     },
     "metadata": {},
     "output_type": "display_data"
    },
    {
     "name": "stdout",
     "output_type": "stream",
     "text": [
      "Stopping early at epoch 9.0: No improvement in loss or accuracy for 3 evaluations.\n",
      "{'eval_loss': 0.5246883630752563, 'eval_accuracy': 0.7449494949494949, 'eval_runtime': 4.634, 'eval_samples_per_second': 85.455, 'eval_steps_per_second': 10.79, 'epoch': 9.0}\n"
     ]
    },
    {
     "name": "stderr",
     "output_type": "stream",
     "text": [
      "[I 2024-06-09 01:01:18,956] Trial 36 finished with values: [0.5246883630752563, 0.7449494949494949] and parameters: {'lr': 0.000970454431718649, 'batch': 8, 'accum': 2, 'dropout_rate': 0.5946888566963056, 'weight_decay': 3.325455713121012e-05, 'warmup_pct': 0.23420709407185653, 'dora_rank': 28, 'dora_init_scale': 0.000675835826440639}. \n"
     ]
    },
    {
     "name": "stdout",
     "output_type": "stream",
     "text": [
      "History:  [{'loss': 0.6555, 'learning_rate': 0.00020750537524869602, 'epoch': 1.0, 'step': 99}, {'eval_loss': 0.5800668597221375, 'eval_accuracy': 0.7373737373737373, 'eval_runtime': 5.106, 'eval_samples_per_second': 77.556, 'eval_steps_per_second': 9.792, 'epoch': 1.0, 'step': 99}, {'loss': 0.5609, 'learning_rate': 0.00041501075049739204, 'epoch': 2.0, 'step': 198}, {'eval_loss': 0.5402987599372864, 'eval_accuracy': 0.7550505050505051, 'eval_runtime': 4.6156, 'eval_samples_per_second': 85.796, 'eval_steps_per_second': 10.833, 'epoch': 2.0, 'step': 198}, {'loss': 0.5486, 'learning_rate': 0.0006225161257460881, 'epoch': 3.0, 'step': 297}, {'eval_loss': 0.5733726620674133, 'eval_accuracy': 0.7121212121212122, 'eval_runtime': 4.6151, 'eval_samples_per_second': 85.805, 'eval_steps_per_second': 10.834, 'epoch': 3.0, 'step': 297}, {'loss': 0.545, 'learning_rate': 0.0008300215009947841, 'epoch': 4.0, 'step': 396}, {'eval_loss': 0.5506357550621033, 'eval_accuracy': 0.7373737373737373, 'eval_runtime': 4.6126, 'eval_samples_per_second': 85.852, 'eval_steps_per_second': 10.84, 'epoch': 4.0, 'step': 396}, {'loss': 0.537, 'learning_rate': 0.0009115274074017671, 'epoch': 5.0, 'step': 495}, {'eval_loss': 0.537104070186615, 'eval_accuracy': 0.7323232323232324, 'eval_runtime': 4.6149, 'eval_samples_per_second': 85.81, 'eval_steps_per_second': 10.835, 'epoch': 5.0, 'step': 495}, {'loss': 0.5353, 'learning_rate': 0.0007292219259214137, 'epoch': 6.0, 'step': 594}, {'eval_loss': 0.5246883630752563, 'eval_accuracy': 0.7449494949494949, 'eval_runtime': 4.6122, 'eval_samples_per_second': 85.859, 'eval_steps_per_second': 10.841, 'epoch': 6.0, 'step': 594}, {'loss': 0.5018, 'learning_rate': 0.0005469164444410603, 'epoch': 7.0, 'step': 693}, {'eval_loss': 0.5345008969306946, 'eval_accuracy': 0.7424242424242424, 'eval_runtime': 4.6234, 'eval_samples_per_second': 85.652, 'eval_steps_per_second': 10.815, 'epoch': 7.0, 'step': 693}, {'loss': 0.4814, 'learning_rate': 0.00036461096296070685, 'epoch': 8.0, 'step': 792}, {'eval_loss': 0.5377660989761353, 'eval_accuracy': 0.7373737373737373, 'eval_runtime': 4.6312, 'eval_samples_per_second': 85.506, 'eval_steps_per_second': 10.796, 'epoch': 8.0, 'step': 792}, {'loss': 0.4758, 'learning_rate': 0.00018230548148035343, 'epoch': 9.0, 'step': 891}, {'eval_loss': 0.534309446811676, 'eval_accuracy': 0.7525252525252525, 'eval_runtime': 4.6349, 'eval_samples_per_second': 85.439, 'eval_steps_per_second': 10.788, 'epoch': 9.0, 'step': 891}, {'train_runtime': 366.6794, 'train_samples_per_second': 43.198, 'train_steps_per_second': 2.7, 'total_flos': 3516507209932992.0, 'train_loss': 0.5379249238807344, 'epoch': 9.0, 'step': 891}, {'eval_loss': 0.5246883630752563, 'eval_accuracy': 0.7449494949494949, 'eval_runtime': 4.634, 'eval_samples_per_second': 85.455, 'eval_steps_per_second': 10.79, 'epoch': 9.0, 'step': 891}]\n"
     ]
    },
    {
     "name": "stderr",
     "output_type": "stream",
     "text": [
      "/home/ubuntu/data/miniconda3/envs/finetune-dephos/lib/python3.9/site-packages/huggingface_hub/file_download.py:1132: FutureWarning: `resume_download` is deprecated and will be removed in version 1.0.0. Downloads always resume when possible. If you want to force a new download, use `force_download=True`.\n",
      "  warnings.warn(\n"
     ]
    },
    {
     "name": "stdout",
     "output_type": "stream",
     "text": [
      "ProtT5_Classfier\n",
      "Trainable Parameter: 1209193475.0\n",
      "ProtT5_DoRA_Classfier\n",
      "Trainable Parameter: 1200131.0\n",
      "\n"
     ]
    },
    {
     "name": "stderr",
     "output_type": "stream",
     "text": [
      "/home/ubuntu/data/miniconda3/envs/finetune-dephos/lib/python3.9/site-packages/accelerate/accelerator.py:446: FutureWarning: Passing the following arguments to `Accelerator` is deprecated and will be removed in version 1.0 of Accelerate: dict_keys(['dispatch_batches', 'split_batches']). Please pass an `accelerate.DataLoaderConfiguration` instead: \n",
      "dataloader_config = DataLoaderConfiguration(dispatch_batches=None, split_batches=False)\n",
      "  warnings.warn(\n"
     ]
    },
    {
     "data": {
      "text/html": [
       "\n",
       "    <div>\n",
       "      \n",
       "      <progress value='240' max='240' style='width:300px; height:20px; vertical-align: middle;'></progress>\n",
       "      [240/240 06:31, Epoch 9/10]\n",
       "    </div>\n",
       "    <table border=\"1\" class=\"dataframe\">\n",
       "  <thead>\n",
       " <tr style=\"text-align: left;\">\n",
       "      <th>Epoch</th>\n",
       "      <th>Training Loss</th>\n",
       "      <th>Validation Loss</th>\n",
       "      <th>Accuracy</th>\n",
       "    </tr>\n",
       "  </thead>\n",
       "  <tbody>\n",
       "    <tr>\n",
       "      <td>0</td>\n",
       "      <td>0.715900</td>\n",
       "      <td>0.696104</td>\n",
       "      <td>0.469697</td>\n",
       "    </tr>\n",
       "    <tr>\n",
       "      <td>1</td>\n",
       "      <td>0.687500</td>\n",
       "      <td>0.691967</td>\n",
       "      <td>0.492424</td>\n",
       "    </tr>\n",
       "    <tr>\n",
       "      <td>2</td>\n",
       "      <td>0.682800</td>\n",
       "      <td>0.685645</td>\n",
       "      <td>0.558081</td>\n",
       "    </tr>\n",
       "    <tr>\n",
       "      <td>4</td>\n",
       "      <td>0.695400</td>\n",
       "      <td>0.668482</td>\n",
       "      <td>0.646465</td>\n",
       "    </tr>\n",
       "    <tr>\n",
       "      <td>5</td>\n",
       "      <td>0.655400</td>\n",
       "      <td>0.658110</td>\n",
       "      <td>0.664141</td>\n",
       "    </tr>\n",
       "    <tr>\n",
       "      <td>6</td>\n",
       "      <td>0.645200</td>\n",
       "      <td>0.647547</td>\n",
       "      <td>0.691919</td>\n",
       "    </tr>\n",
       "    <tr>\n",
       "      <td>8</td>\n",
       "      <td>0.651300</td>\n",
       "      <td>0.625702</td>\n",
       "      <td>0.722222</td>\n",
       "    </tr>\n",
       "    <tr>\n",
       "      <td>9</td>\n",
       "      <td>0.590700</td>\n",
       "      <td>0.618047</td>\n",
       "      <td>0.737374</td>\n",
       "    </tr>\n",
       "  </tbody>\n",
       "</table><p>"
      ],
      "text/plain": [
       "<IPython.core.display.HTML object>"
      ]
     },
     "metadata": {},
     "output_type": "display_data"
    },
    {
     "name": "stdout",
     "output_type": "stream",
     "text": [
      "Saved improved model to ./model_output/finetuned_model_all_dora.pth\n",
      "Saved improved model to ./model_output/finetuned_model_all_dora.pth\n",
      "Saved improved model to ./model_output/finetuned_model_all_dora.pth\n",
      "Saved improved model to ./model_output/finetuned_model_all_dora.pth\n",
      "Saved improved model to ./model_output/finetuned_model_all_dora.pth\n",
      "Saved improved model to ./model_output/finetuned_model_all_dora.pth\n",
      "Saved improved model to ./model_output/finetuned_model_all_dora.pth\n",
      "Saved improved model to ./model_output/finetuned_model_all_dora.pth\n",
      "Saved improved model to ./model_output/finetuned_model_all_dora.pth\n",
      "Saved improved model to ./model_output/finetuned_model_all_dora.pth\n",
      "Loaded best model from ./model_output/finetuned_model_all_dora.pth\n"
     ]
    },
    {
     "data": {
      "text/html": [
       "\n",
       "    <div>\n",
       "      \n",
       "      <progress value='50' max='50' style='width:300px; height:20px; vertical-align: middle;'></progress>\n",
       "      [50/50 00:04]\n",
       "    </div>\n",
       "    "
      ],
      "text/plain": [
       "<IPython.core.display.HTML object>"
      ]
     },
     "metadata": {},
     "output_type": "display_data"
    },
    {
     "name": "stdout",
     "output_type": "stream",
     "text": [
      "{'eval_loss': 0.6180469989776611, 'eval_accuracy': 0.7373737373737373, 'eval_runtime': 4.618, 'eval_samples_per_second': 85.752, 'eval_steps_per_second': 10.827, 'epoch': 9.7}\n"
     ]
    },
    {
     "name": "stderr",
     "output_type": "stream",
     "text": [
      "[I 2024-06-09 01:09:20,229] Trial 37 finished with values: [0.6180469989776611, 0.7373737373737373] and parameters: {'lr': 3.8741517060995264e-05, 'batch': 8, 'accum': 8, 'dropout_rate': 0.3419404218241292, 'weight_decay': 0.0005013926933401615, 'warmup_pct': 0.2879149030090106, 'dora_rank': 28, 'dora_init_scale': 0.00021712607345476933}. \n"
     ]
    },
    {
     "name": "stdout",
     "output_type": "stream",
     "text": [
      "History:  [{'loss': 0.7159, 'learning_rate': 1.6312217709892743e-06, 'epoch': 0.97, 'step': 24}, {'eval_loss': 0.6961038112640381, 'eval_accuracy': 0.4696969696969697, 'eval_runtime': 5.1112, 'eval_samples_per_second': 77.478, 'eval_steps_per_second': 9.783, 'epoch': 0.97, 'step': 24}, {'loss': 0.6875, 'learning_rate': 3.3304111157697684e-06, 'epoch': 1.98, 'step': 49}, {'eval_loss': 0.6919665336608887, 'eval_accuracy': 0.49242424242424243, 'eval_runtime': 4.635, 'eval_samples_per_second': 85.437, 'eval_steps_per_second': 10.788, 'epoch': 1.98, 'step': 49}, {'loss': 0.6828, 'learning_rate': 5.029600460550262e-06, 'epoch': 2.99, 'step': 74}, {'eval_loss': 0.6856450438499451, 'eval_accuracy': 0.5580808080808081, 'eval_runtime': 4.629, 'eval_samples_per_second': 85.547, 'eval_steps_per_second': 10.801, 'epoch': 2.99, 'step': 74}, {'loss': 0.6732, 'learning_rate': 6.728789805330757e-06, 'epoch': 4.0, 'step': 99}, {'eval_loss': 0.6774117946624756, 'eval_accuracy': 0.6085858585858586, 'eval_runtime': 4.6191, 'eval_samples_per_second': 85.731, 'eval_steps_per_second': 10.825, 'epoch': 4.0, 'step': 99}, {'loss': 0.6954, 'learning_rate': 8.360011576320031e-06, 'epoch': 4.97, 'step': 123}, {'eval_loss': 0.6684820055961609, 'eval_accuracy': 0.6464646464646465, 'eval_runtime': 4.6151, 'eval_samples_per_second': 85.805, 'eval_steps_per_second': 10.834, 'epoch': 4.97, 'step': 123}, {'loss': 0.6554, 'learning_rate': 1.0059200921100524e-05, 'epoch': 5.98, 'step': 148}, {'eval_loss': 0.6581100225448608, 'eval_accuracy': 0.6641414141414141, 'eval_runtime': 4.6163, 'eval_samples_per_second': 85.783, 'eval_steps_per_second': 10.831, 'epoch': 5.98, 'step': 148}, {'loss': 0.6452, 'learning_rate': 1.1758390265881018e-05, 'epoch': 6.99, 'step': 173}, {'eval_loss': 0.6475469470024109, 'eval_accuracy': 0.6919191919191919, 'eval_runtime': 4.6243, 'eval_samples_per_second': 85.635, 'eval_steps_per_second': 10.812, 'epoch': 6.99, 'step': 173}, {'loss': 0.6342, 'learning_rate': 1.3457579610661514e-05, 'epoch': 8.0, 'step': 198}, {'eval_loss': 0.6362327933311462, 'eval_accuracy': 0.7045454545454546, 'eval_runtime': 4.6168, 'eval_samples_per_second': 85.773, 'eval_steps_per_second': 10.83, 'epoch': 8.0, 'step': 198}, {'loss': 0.6513, 'learning_rate': 1.5088801381650787e-05, 'epoch': 8.97, 'step': 222}, {'eval_loss': 0.6257022023200989, 'eval_accuracy': 0.7222222222222222, 'eval_runtime': 4.6644, 'eval_samples_per_second': 84.899, 'eval_steps_per_second': 10.72, 'epoch': 8.97, 'step': 222}, {'loss': 0.5907, 'learning_rate': 1.6312217709892742e-05, 'epoch': 9.7, 'step': 240}, {'eval_loss': 0.6180469989776611, 'eval_accuracy': 0.7373737373737373, 'eval_runtime': 4.6155, 'eval_samples_per_second': 85.799, 'eval_steps_per_second': 10.833, 'epoch': 9.7, 'step': 240}, {'train_runtime': 392.9905, 'train_samples_per_second': 40.306, 'train_steps_per_second': 0.611, 'total_flos': 3788829317099520.0, 'train_loss': 0.6649614254633586, 'epoch': 9.7, 'step': 240}, {'eval_loss': 0.6180469989776611, 'eval_accuracy': 0.7373737373737373, 'eval_runtime': 4.618, 'eval_samples_per_second': 85.752, 'eval_steps_per_second': 10.827, 'epoch': 9.7, 'step': 240}]\n"
     ]
    },
    {
     "name": "stderr",
     "output_type": "stream",
     "text": [
      "/home/ubuntu/data/miniconda3/envs/finetune-dephos/lib/python3.9/site-packages/huggingface_hub/file_download.py:1132: FutureWarning: `resume_download` is deprecated and will be removed in version 1.0.0. Downloads always resume when possible. If you want to force a new download, use `force_download=True`.\n",
      "  warnings.warn(\n"
     ]
    },
    {
     "name": "stdout",
     "output_type": "stream",
     "text": [
      "ProtT5_Classfier\n",
      "Trainable Parameter: 1209193475.0\n",
      "ProtT5_DoRA_Classfier\n",
      "Trainable Parameter: 1200131.0\n",
      "\n"
     ]
    },
    {
     "name": "stderr",
     "output_type": "stream",
     "text": [
      "/home/ubuntu/data/miniconda3/envs/finetune-dephos/lib/python3.9/site-packages/accelerate/accelerator.py:446: FutureWarning: Passing the following arguments to `Accelerator` is deprecated and will be removed in version 1.0 of Accelerate: dict_keys(['dispatch_batches', 'split_batches']). Please pass an `accelerate.DataLoaderConfiguration` instead: \n",
      "dataloader_config = DataLoaderConfiguration(dispatch_batches=None, split_batches=False)\n",
      "  warnings.warn(\n"
     ]
    },
    {
     "data": {
      "text/html": [
       "\n",
       "    <div>\n",
       "      \n",
       "      <progress value='1980' max='1980' style='width:300px; height:20px; vertical-align: middle;'></progress>\n",
       "      [1980/1980 11:53, Epoch 10/10]\n",
       "    </div>\n",
       "    <table border=\"1\" class=\"dataframe\">\n",
       "  <thead>\n",
       " <tr style=\"text-align: left;\">\n",
       "      <th>Epoch</th>\n",
       "      <th>Training Loss</th>\n",
       "      <th>Validation Loss</th>\n",
       "      <th>Accuracy</th>\n",
       "    </tr>\n",
       "  </thead>\n",
       "  <tbody>\n",
       "    <tr>\n",
       "      <td>1</td>\n",
       "      <td>0.695600</td>\n",
       "      <td>0.689004</td>\n",
       "      <td>0.505051</td>\n",
       "    </tr>\n",
       "    <tr>\n",
       "      <td>2</td>\n",
       "      <td>0.679000</td>\n",
       "      <td>0.668087</td>\n",
       "      <td>0.656566</td>\n",
       "    </tr>\n",
       "    <tr>\n",
       "      <td>3</td>\n",
       "      <td>0.655900</td>\n",
       "      <td>0.640827</td>\n",
       "      <td>0.681818</td>\n",
       "    </tr>\n",
       "    <tr>\n",
       "      <td>4</td>\n",
       "      <td>0.631700</td>\n",
       "      <td>0.615057</td>\n",
       "      <td>0.727273</td>\n",
       "    </tr>\n",
       "    <tr>\n",
       "      <td>5</td>\n",
       "      <td>0.598100</td>\n",
       "      <td>0.590332</td>\n",
       "      <td>0.757576</td>\n",
       "    </tr>\n",
       "    <tr>\n",
       "      <td>6</td>\n",
       "      <td>0.578500</td>\n",
       "      <td>0.568215</td>\n",
       "      <td>0.755051</td>\n",
       "    </tr>\n",
       "    <tr>\n",
       "      <td>7</td>\n",
       "      <td>0.556100</td>\n",
       "      <td>0.554128</td>\n",
       "      <td>0.765152</td>\n",
       "    </tr>\n",
       "    <tr>\n",
       "      <td>8</td>\n",
       "      <td>0.540000</td>\n",
       "      <td>0.545802</td>\n",
       "      <td>0.765152</td>\n",
       "    </tr>\n",
       "    <tr>\n",
       "      <td>9</td>\n",
       "      <td>0.534500</td>\n",
       "      <td>0.542726</td>\n",
       "      <td>0.765152</td>\n",
       "    </tr>\n",
       "    <tr>\n",
       "      <td>10</td>\n",
       "      <td>0.531800</td>\n",
       "      <td>0.541551</td>\n",
       "      <td>0.767677</td>\n",
       "    </tr>\n",
       "  </tbody>\n",
       "</table><p>"
      ],
      "text/plain": [
       "<IPython.core.display.HTML object>"
      ]
     },
     "metadata": {},
     "output_type": "display_data"
    },
    {
     "name": "stdout",
     "output_type": "stream",
     "text": [
      "Saved improved model to ./model_output/finetuned_model_all_dora.pth\n",
      "Saved improved model to ./model_output/finetuned_model_all_dora.pth\n",
      "Saved improved model to ./model_output/finetuned_model_all_dora.pth\n",
      "Saved improved model to ./model_output/finetuned_model_all_dora.pth\n",
      "Saved improved model to ./model_output/finetuned_model_all_dora.pth\n",
      "Saved improved model to ./model_output/finetuned_model_all_dora.pth\n",
      "Saved improved model to ./model_output/finetuned_model_all_dora.pth\n",
      "Saved improved model to ./model_output/finetuned_model_all_dora.pth\n",
      "Saved improved model to ./model_output/finetuned_model_all_dora.pth\n",
      "Saved improved model to ./model_output/finetuned_model_all_dora.pth\n",
      "Loaded best model from ./model_output/finetuned_model_all_dora.pth\n"
     ]
    },
    {
     "data": {
      "text/html": [
       "\n",
       "    <div>\n",
       "      \n",
       "      <progress value='50' max='50' style='width:300px; height:20px; vertical-align: middle;'></progress>\n",
       "      [50/50 00:04]\n",
       "    </div>\n",
       "    "
      ],
      "text/plain": [
       "<IPython.core.display.HTML object>"
      ]
     },
     "metadata": {},
     "output_type": "display_data"
    },
    {
     "name": "stdout",
     "output_type": "stream",
     "text": [
      "{'eval_loss': 0.5415512919425964, 'eval_accuracy': 0.7676767676767676, 'eval_runtime': 4.4625, 'eval_samples_per_second': 88.739, 'eval_steps_per_second': 11.204, 'epoch': 10.0}\n"
     ]
    },
    {
     "name": "stderr",
     "output_type": "stream",
     "text": [
      "[I 2024-06-09 01:22:42,470] Trial 38 finished with values: [0.5415512919425964, 0.7676767676767676] and parameters: {'lr': 2.4583329304592677e-05, 'batch': 2, 'accum': 4, 'dropout_rate': 0.4533339249907513, 'weight_decay': 5.712019361983239e-05, 'warmup_pct': 0.15898203435135994, 'dora_rank': 8, 'dora_init_scale': 0.0009549774664821371}. \n"
     ]
    },
    {
     "name": "stdout",
     "output_type": "stream",
     "text": [
      "History:  [{'loss': 0.6956, 'learning_rate': 3.8661629883314935e-06, 'epoch': 1.0, 'step': 198}, {'eval_loss': 0.689004123210907, 'eval_accuracy': 0.5050505050505051, 'eval_runtime': 5.1195, 'eval_samples_per_second': 77.351, 'eval_steps_per_second': 9.767, 'epoch': 1.0, 'step': 198}, {'loss': 0.679, 'learning_rate': 7.732325976662987e-06, 'epoch': 2.0, 'step': 396}, {'eval_loss': 0.6680865287780762, 'eval_accuracy': 0.6565656565656566, 'eval_runtime': 4.6097, 'eval_samples_per_second': 85.907, 'eval_steps_per_second': 10.847, 'epoch': 2.0, 'step': 396}, {'loss': 0.6559, 'learning_rate': 1.159848896499448e-05, 'epoch': 3.0, 'step': 594}, {'eval_loss': 0.6408268213272095, 'eval_accuracy': 0.6818181818181818, 'eval_runtime': 4.6358, 'eval_samples_per_second': 85.423, 'eval_steps_per_second': 10.786, 'epoch': 3.0, 'step': 594}, {'loss': 0.6317, 'learning_rate': 1.5464651953325974e-05, 'epoch': 4.0, 'step': 792}, {'eval_loss': 0.6150565147399902, 'eval_accuracy': 0.7272727272727273, 'eval_runtime': 4.4763, 'eval_samples_per_second': 88.465, 'eval_steps_per_second': 11.17, 'epoch': 4.0, 'step': 792}, {'loss': 0.5981, 'learning_rate': 1.9330814941657464e-05, 'epoch': 5.0, 'step': 990}, {'eval_loss': 0.5903322696685791, 'eval_accuracy': 0.7575757575757576, 'eval_runtime': 4.6663, 'eval_samples_per_second': 84.863, 'eval_steps_per_second': 10.715, 'epoch': 5.0, 'step': 990}, {'loss': 0.5785, 'learning_rate': 2.319697792998896e-05, 'epoch': 6.0, 'step': 1188}, {'eval_loss': 0.5682147741317749, 'eval_accuracy': 0.7550505050505051, 'eval_runtime': 4.4532, 'eval_samples_per_second': 88.924, 'eval_steps_per_second': 11.228, 'epoch': 6.0, 'step': 1188}, {'loss': 0.5561, 'learning_rate': 2.0253117346640845e-05, 'epoch': 7.0, 'step': 1386}, {'eval_loss': 0.5541283488273621, 'eval_accuracy': 0.7651515151515151, 'eval_runtime': 4.4677, 'eval_samples_per_second': 88.637, 'eval_steps_per_second': 11.192, 'epoch': 7.0, 'step': 1386}, {'loss': 0.54, 'learning_rate': 1.3502078231093897e-05, 'epoch': 8.0, 'step': 1584}, {'eval_loss': 0.5458024144172668, 'eval_accuracy': 0.7651515151515151, 'eval_runtime': 4.4906, 'eval_samples_per_second': 88.185, 'eval_steps_per_second': 11.134, 'epoch': 8.0, 'step': 1584}, {'loss': 0.5345, 'learning_rate': 6.751039115546949e-06, 'epoch': 9.0, 'step': 1782}, {'eval_loss': 0.5427260398864746, 'eval_accuracy': 0.7651515151515151, 'eval_runtime': 4.4709, 'eval_samples_per_second': 88.573, 'eval_steps_per_second': 11.183, 'epoch': 9.0, 'step': 1782}, {'loss': 0.5318, 'learning_rate': 0.0, 'epoch': 10.0, 'step': 1980}, {'eval_loss': 0.5415512919425964, 'eval_accuracy': 0.7676767676767676, 'eval_runtime': 4.4613, 'eval_samples_per_second': 88.763, 'eval_steps_per_second': 11.207, 'epoch': 10.0, 'step': 1980}, {'train_runtime': 713.7287, 'train_samples_per_second': 22.193, 'train_steps_per_second': 2.774, 'total_flos': 3907230233258880.0, 'train_loss': 0.6001232070152206, 'epoch': 10.0, 'step': 1980}, {'eval_loss': 0.5415512919425964, 'eval_accuracy': 0.7676767676767676, 'eval_runtime': 4.4625, 'eval_samples_per_second': 88.739, 'eval_steps_per_second': 11.204, 'epoch': 10.0, 'step': 1980}]\n"
     ]
    },
    {
     "name": "stderr",
     "output_type": "stream",
     "text": [
      "/home/ubuntu/data/miniconda3/envs/finetune-dephos/lib/python3.9/site-packages/huggingface_hub/file_download.py:1132: FutureWarning: `resume_download` is deprecated and will be removed in version 1.0.0. Downloads always resume when possible. If you want to force a new download, use `force_download=True`.\n",
      "  warnings.warn(\n"
     ]
    },
    {
     "name": "stdout",
     "output_type": "stream",
     "text": [
      "ProtT5_Classfier\n",
      "Trainable Parameter: 1209193475.0\n",
      "ProtT5_DoRA_Classfier\n",
      "Trainable Parameter: 1200131.0\n",
      "\n"
     ]
    },
    {
     "name": "stderr",
     "output_type": "stream",
     "text": [
      "/home/ubuntu/data/miniconda3/envs/finetune-dephos/lib/python3.9/site-packages/accelerate/accelerator.py:446: FutureWarning: Passing the following arguments to `Accelerator` is deprecated and will be removed in version 1.0 of Accelerate: dict_keys(['dispatch_batches', 'split_batches']). Please pass an `accelerate.DataLoaderConfiguration` instead: \n",
      "dataloader_config = DataLoaderConfiguration(dispatch_batches=None, split_batches=False)\n",
      "  warnings.warn(\n"
     ]
    },
    {
     "data": {
      "text/html": [
       "\n",
       "    <div>\n",
       "      \n",
       "      <progress value='594' max='990' style='width:300px; height:20px; vertical-align: middle;'></progress>\n",
       "      [594/990 04:04 < 02:43, 2.42 it/s, Epoch 6/10]\n",
       "    </div>\n",
       "    <table border=\"1\" class=\"dataframe\">\n",
       "  <thead>\n",
       " <tr style=\"text-align: left;\">\n",
       "      <th>Epoch</th>\n",
       "      <th>Training Loss</th>\n",
       "      <th>Validation Loss</th>\n",
       "      <th>Accuracy</th>\n",
       "    </tr>\n",
       "  </thead>\n",
       "  <tbody>\n",
       "    <tr>\n",
       "      <td>1</td>\n",
       "      <td>0.638200</td>\n",
       "      <td>0.610651</td>\n",
       "      <td>0.694444</td>\n",
       "    </tr>\n",
       "    <tr>\n",
       "      <td>2</td>\n",
       "      <td>0.684300</td>\n",
       "      <td>0.711267</td>\n",
       "      <td>0.654040</td>\n",
       "    </tr>\n",
       "    <tr>\n",
       "      <td>3</td>\n",
       "      <td>0.631700</td>\n",
       "      <td>0.541414</td>\n",
       "      <td>0.752525</td>\n",
       "    </tr>\n",
       "    <tr>\n",
       "      <td>4</td>\n",
       "      <td>0.601200</td>\n",
       "      <td>0.563644</td>\n",
       "      <td>0.729798</td>\n",
       "    </tr>\n",
       "    <tr>\n",
       "      <td>5</td>\n",
       "      <td>0.555200</td>\n",
       "      <td>0.593598</td>\n",
       "      <td>0.727273</td>\n",
       "    </tr>\n",
       "    <tr>\n",
       "      <td>6</td>\n",
       "      <td>0.494600</td>\n",
       "      <td>0.583036</td>\n",
       "      <td>0.722222</td>\n",
       "    </tr>\n",
       "  </tbody>\n",
       "</table><p>"
      ],
      "text/plain": [
       "<IPython.core.display.HTML object>"
      ]
     },
     "metadata": {},
     "output_type": "display_data"
    },
    {
     "name": "stdout",
     "output_type": "stream",
     "text": [
      "Saved improved model to ./model_output/finetuned_model_all_dora.pth\n",
      "Saved improved model to ./model_output/finetuned_model_all_dora.pth\n",
      "Stopping early at epoch 6.0: No improvement in loss or accuracy for 3 evaluations.\n",
      "Loaded best model from ./model_output/finetuned_model_all_dora.pth\n"
     ]
    },
    {
     "data": {
      "text/html": [
       "\n",
       "    <div>\n",
       "      \n",
       "      <progress value='50' max='50' style='width:300px; height:20px; vertical-align: middle;'></progress>\n",
       "      [50/50 00:04]\n",
       "    </div>\n",
       "    "
      ],
      "text/plain": [
       "<IPython.core.display.HTML object>"
      ]
     },
     "metadata": {},
     "output_type": "display_data"
    },
    {
     "name": "stdout",
     "output_type": "stream",
     "text": [
      "Stopping early at epoch 6.0: No improvement in loss or accuracy for 3 evaluations.\n",
      "{'eval_loss': 0.5414135456085205, 'eval_accuracy': 0.7525252525252525, 'eval_runtime': 4.612, 'eval_samples_per_second': 85.863, 'eval_steps_per_second': 10.841, 'epoch': 6.0}\n"
     ]
    },
    {
     "name": "stderr",
     "output_type": "stream",
     "text": [
      "[I 2024-06-09 01:28:12,111] Trial 39 finished with values: [0.5414135456085205, 0.7525252525252525] and parameters: {'lr': 0.003713356930264881, 'batch': 8, 'accum': 2, 'dropout_rate': 0.6154508662970612, 'weight_decay': 1.7248077079111484e-05, 'warmup_pct': 0.06105738698274343, 'dora_rank': 4, 'dora_init_scale': 0.00021277206552725597}. \n"
     ]
    },
    {
     "name": "stdout",
     "output_type": "stream",
     "text": [
      "History:  [{'loss': 0.6382, 'learning_rate': 0.0030635194674685264, 'epoch': 1.0, 'step': 99}, {'eval_loss': 0.610650897026062, 'eval_accuracy': 0.6944444444444444, 'eval_runtime': 5.1196, 'eval_samples_per_second': 77.35, 'eval_steps_per_second': 9.766, 'epoch': 1.0, 'step': 99}, {'loss': 0.6843, 'learning_rate': 0.0033804352744480296, 'epoch': 2.0, 'step': 198}, {'eval_loss': 0.7112670540809631, 'eval_accuracy': 0.6540404040404041, 'eval_runtime': 4.7308, 'eval_samples_per_second': 83.706, 'eval_steps_per_second': 10.569, 'epoch': 2.0, 'step': 198}, {'loss': 0.6317, 'learning_rate': 0.002957880865142026, 'epoch': 3.0, 'step': 297}, {'eval_loss': 0.5414135456085205, 'eval_accuracy': 0.7525252525252525, 'eval_runtime': 4.4625, 'eval_samples_per_second': 88.74, 'eval_steps_per_second': 11.205, 'epoch': 3.0, 'step': 297}, {'loss': 0.6012, 'learning_rate': 0.002535326455836022, 'epoch': 4.0, 'step': 396}, {'eval_loss': 0.5636444091796875, 'eval_accuracy': 0.7297979797979798, 'eval_runtime': 4.6168, 'eval_samples_per_second': 85.774, 'eval_steps_per_second': 10.83, 'epoch': 4.0, 'step': 396}, {'loss': 0.5552, 'learning_rate': 0.0021127720465300187, 'epoch': 5.0, 'step': 495}, {'eval_loss': 0.5935978889465332, 'eval_accuracy': 0.7272727272727273, 'eval_runtime': 4.6184, 'eval_samples_per_second': 85.743, 'eval_steps_per_second': 10.826, 'epoch': 5.0, 'step': 495}, {'loss': 0.4946, 'learning_rate': 0.0016902176372240148, 'epoch': 6.0, 'step': 594}, {'eval_loss': 0.5830360651016235, 'eval_accuracy': 0.7222222222222222, 'eval_runtime': 4.6206, 'eval_samples_per_second': 85.703, 'eval_steps_per_second': 10.821, 'epoch': 6.0, 'step': 594}, {'train_runtime': 245.1834, 'train_samples_per_second': 64.605, 'train_steps_per_second': 4.038, 'total_flos': 2344338139955328.0, 'train_loss': 0.6008737865923229, 'epoch': 6.0, 'step': 594}, {'eval_loss': 0.5414135456085205, 'eval_accuracy': 0.7525252525252525, 'eval_runtime': 4.612, 'eval_samples_per_second': 85.863, 'eval_steps_per_second': 10.841, 'epoch': 6.0, 'step': 594}]\n"
     ]
    },
    {
     "name": "stderr",
     "output_type": "stream",
     "text": [
      "/home/ubuntu/data/miniconda3/envs/finetune-dephos/lib/python3.9/site-packages/huggingface_hub/file_download.py:1132: FutureWarning: `resume_download` is deprecated and will be removed in version 1.0.0. Downloads always resume when possible. If you want to force a new download, use `force_download=True`.\n",
      "  warnings.warn(\n"
     ]
    },
    {
     "name": "stdout",
     "output_type": "stream",
     "text": [
      "ProtT5_Classfier\n",
      "Trainable Parameter: 1209193475.0\n",
      "ProtT5_DoRA_Classfier\n",
      "Trainable Parameter: 1200131.0\n",
      "\n"
     ]
    },
    {
     "name": "stderr",
     "output_type": "stream",
     "text": [
      "/home/ubuntu/data/miniconda3/envs/finetune-dephos/lib/python3.9/site-packages/accelerate/accelerator.py:446: FutureWarning: Passing the following arguments to `Accelerator` is deprecated and will be removed in version 1.0 of Accelerate: dict_keys(['dispatch_batches', 'split_batches']). Please pass an `accelerate.DataLoaderConfiguration` instead: \n",
      "dataloader_config = DataLoaderConfiguration(dispatch_batches=None, split_batches=False)\n",
      "  warnings.warn(\n"
     ]
    },
    {
     "data": {
      "text/html": [
       "\n",
       "    <div>\n",
       "      \n",
       "      <progress value='990' max='990' style='width:300px; height:20px; vertical-align: middle;'></progress>\n",
       "      [990/990 08:14, Epoch 10/10]\n",
       "    </div>\n",
       "    <table border=\"1\" class=\"dataframe\">\n",
       "  <thead>\n",
       " <tr style=\"text-align: left;\">\n",
       "      <th>Epoch</th>\n",
       "      <th>Training Loss</th>\n",
       "      <th>Validation Loss</th>\n",
       "      <th>Accuracy</th>\n",
       "    </tr>\n",
       "  </thead>\n",
       "  <tbody>\n",
       "    <tr>\n",
       "      <td>1</td>\n",
       "      <td>0.700100</td>\n",
       "      <td>0.685131</td>\n",
       "      <td>0.555556</td>\n",
       "    </tr>\n",
       "    <tr>\n",
       "      <td>2</td>\n",
       "      <td>0.682000</td>\n",
       "      <td>0.657767</td>\n",
       "      <td>0.651515</td>\n",
       "    </tr>\n",
       "    <tr>\n",
       "      <td>3</td>\n",
       "      <td>0.653000</td>\n",
       "      <td>0.625932</td>\n",
       "      <td>0.707071</td>\n",
       "    </tr>\n",
       "    <tr>\n",
       "      <td>4</td>\n",
       "      <td>0.613600</td>\n",
       "      <td>0.595894</td>\n",
       "      <td>0.744949</td>\n",
       "    </tr>\n",
       "    <tr>\n",
       "      <td>5</td>\n",
       "      <td>0.578100</td>\n",
       "      <td>0.569626</td>\n",
       "      <td>0.752525</td>\n",
       "    </tr>\n",
       "    <tr>\n",
       "      <td>6</td>\n",
       "      <td>0.565000</td>\n",
       "      <td>0.549892</td>\n",
       "      <td>0.757576</td>\n",
       "    </tr>\n",
       "    <tr>\n",
       "      <td>7</td>\n",
       "      <td>0.539900</td>\n",
       "      <td>0.536529</td>\n",
       "      <td>0.767677</td>\n",
       "    </tr>\n",
       "    <tr>\n",
       "      <td>8</td>\n",
       "      <td>0.531700</td>\n",
       "      <td>0.535782</td>\n",
       "      <td>0.760101</td>\n",
       "    </tr>\n",
       "    <tr>\n",
       "      <td>9</td>\n",
       "      <td>0.528800</td>\n",
       "      <td>0.524823</td>\n",
       "      <td>0.770202</td>\n",
       "    </tr>\n",
       "    <tr>\n",
       "      <td>10</td>\n",
       "      <td>0.504800</td>\n",
       "      <td>0.524701</td>\n",
       "      <td>0.765152</td>\n",
       "    </tr>\n",
       "  </tbody>\n",
       "</table><p>"
      ],
      "text/plain": [
       "<IPython.core.display.HTML object>"
      ]
     },
     "metadata": {},
     "output_type": "display_data"
    },
    {
     "name": "stdout",
     "output_type": "stream",
     "text": [
      "Saved improved model to ./model_output/finetuned_model_all_dora.pth\n",
      "Saved improved model to ./model_output/finetuned_model_all_dora.pth\n",
      "Saved improved model to ./model_output/finetuned_model_all_dora.pth\n",
      "Saved improved model to ./model_output/finetuned_model_all_dora.pth\n",
      "Saved improved model to ./model_output/finetuned_model_all_dora.pth\n",
      "Saved improved model to ./model_output/finetuned_model_all_dora.pth\n",
      "Saved improved model to ./model_output/finetuned_model_all_dora.pth\n",
      "Saved improved model to ./model_output/finetuned_model_all_dora.pth\n",
      "Loaded best model from ./model_output/finetuned_model_all_dora.pth\n"
     ]
    },
    {
     "data": {
      "text/html": [
       "\n",
       "    <div>\n",
       "      \n",
       "      <progress value='50' max='50' style='width:300px; height:20px; vertical-align: middle;'></progress>\n",
       "      [50/50 00:04]\n",
       "    </div>\n",
       "    "
      ],
      "text/plain": [
       "<IPython.core.display.HTML object>"
      ]
     },
     "metadata": {},
     "output_type": "display_data"
    },
    {
     "name": "stdout",
     "output_type": "stream",
     "text": [
      "{'eval_loss': 0.5248231887817383, 'eval_accuracy': 0.7702020202020202, 'eval_runtime': 4.6085, 'eval_samples_per_second': 85.929, 'eval_steps_per_second': 10.85, 'epoch': 10.0}\n"
     ]
    },
    {
     "name": "stderr",
     "output_type": "stream",
     "text": [
      "[I 2024-06-09 01:37:59,559] Trial 40 finished with values: [0.5248231887817383, 0.7702020202020202] and parameters: {'lr': 0.0001215570363375417, 'batch': 4, 'accum': 4, 'dropout_rate': 0.5935449257811941, 'weight_decay': 0.0006540246658185734, 'warmup_pct': 0.27536837687308907, 'dora_rank': 32, 'dora_init_scale': 0.003291350498629429}. \n"
     ]
    },
    {
     "name": "stdout",
     "output_type": "stream",
     "text": [
      "History:  [{'loss': 0.7001, 'learning_rate': 1.1040501465519843e-05, 'epoch': 1.0, 'step': 99}, {'eval_loss': 0.6851311326026917, 'eval_accuracy': 0.5555555555555556, 'eval_runtime': 5.1126, 'eval_samples_per_second': 77.455, 'eval_steps_per_second': 9.78, 'epoch': 1.0, 'step': 99}, {'loss': 0.682, 'learning_rate': 2.2081002931039686e-05, 'epoch': 2.0, 'step': 198}, {'eval_loss': 0.6577667593955994, 'eval_accuracy': 0.6515151515151515, 'eval_runtime': 4.6973, 'eval_samples_per_second': 84.304, 'eval_steps_per_second': 10.644, 'epoch': 2.0, 'step': 198}, {'loss': 0.653, 'learning_rate': 3.3121504396559524e-05, 'epoch': 3.0, 'step': 297}, {'eval_loss': 0.6259320378303528, 'eval_accuracy': 0.7070707070707071, 'eval_runtime': 4.6071, 'eval_samples_per_second': 85.953, 'eval_steps_per_second': 10.853, 'epoch': 3.0, 'step': 297}, {'loss': 0.6136, 'learning_rate': 4.416200586207937e-05, 'epoch': 4.0, 'step': 396}, {'eval_loss': 0.5958936810493469, 'eval_accuracy': 0.7449494949494949, 'eval_runtime': 4.5992, 'eval_samples_per_second': 86.102, 'eval_steps_per_second': 10.871, 'epoch': 4.0, 'step': 396}, {'loss': 0.5781, 'learning_rate': 5.520250732759921e-05, 'epoch': 5.0, 'step': 495}, {'eval_loss': 0.5696257948875427, 'eval_accuracy': 0.7525252525252525, 'eval_runtime': 4.6027, 'eval_samples_per_second': 86.037, 'eval_steps_per_second': 10.863, 'epoch': 5.0, 'step': 495}, {'loss': 0.565, 'learning_rate': 6.624300879311905e-05, 'epoch': 6.0, 'step': 594}, {'eval_loss': 0.5498920679092407, 'eval_accuracy': 0.7575757575757576, 'eval_runtime': 4.6063, 'eval_samples_per_second': 85.969, 'eval_steps_per_second': 10.855, 'epoch': 6.0, 'step': 594}, {'loss': 0.5399, 'learning_rate': 7.72835102586389e-05, 'epoch': 7.0, 'step': 693}, {'eval_loss': 0.5365290641784668, 'eval_accuracy': 0.7676767676767676, 'eval_runtime': 4.6218, 'eval_samples_per_second': 85.681, 'eval_steps_per_second': 10.818, 'epoch': 7.0, 'step': 693}, {'loss': 0.5317, 'learning_rate': 8.832401172415874e-05, 'epoch': 8.0, 'step': 792}, {'eval_loss': 0.5357820391654968, 'eval_accuracy': 0.76010101010101, 'eval_runtime': 4.5989, 'eval_samples_per_second': 86.107, 'eval_steps_per_second': 10.872, 'epoch': 8.0, 'step': 792}, {'loss': 0.5288, 'learning_rate': 9.936451318967858e-05, 'epoch': 9.0, 'step': 891}, {'eval_loss': 0.5248231887817383, 'eval_accuracy': 0.7702020202020202, 'eval_runtime': 4.6207, 'eval_samples_per_second': 85.702, 'eval_steps_per_second': 10.821, 'epoch': 9.0, 'step': 891}, {'loss': 0.5048, 'learning_rate': 0.00011040501465519843, 'epoch': 10.0, 'step': 990}, {'eval_loss': 0.5247012972831726, 'eval_accuracy': 0.7651515151515151, 'eval_runtime': 4.629, 'eval_samples_per_second': 85.548, 'eval_steps_per_second': 10.801, 'epoch': 10.0, 'step': 990}, {'train_runtime': 495.0705, 'train_samples_per_second': 31.995, 'train_steps_per_second': 2.0, 'total_flos': 3907230233258880.0, 'train_loss': 0.5896909733011265, 'epoch': 10.0, 'step': 990}, {'eval_loss': 0.5248231887817383, 'eval_accuracy': 0.7702020202020202, 'eval_runtime': 4.6085, 'eval_samples_per_second': 85.929, 'eval_steps_per_second': 10.85, 'epoch': 10.0, 'step': 990}]\n"
     ]
    },
    {
     "name": "stderr",
     "output_type": "stream",
     "text": [
      "/home/ubuntu/data/miniconda3/envs/finetune-dephos/lib/python3.9/site-packages/huggingface_hub/file_download.py:1132: FutureWarning: `resume_download` is deprecated and will be removed in version 1.0.0. Downloads always resume when possible. If you want to force a new download, use `force_download=True`.\n",
      "  warnings.warn(\n"
     ]
    },
    {
     "name": "stdout",
     "output_type": "stream",
     "text": [
      "ProtT5_Classfier\n",
      "Trainable Parameter: 1209193475.0\n",
      "ProtT5_DoRA_Classfier\n",
      "Trainable Parameter: 1200131.0\n",
      "\n"
     ]
    },
    {
     "name": "stderr",
     "output_type": "stream",
     "text": [
      "/home/ubuntu/data/miniconda3/envs/finetune-dephos/lib/python3.9/site-packages/accelerate/accelerator.py:446: FutureWarning: Passing the following arguments to `Accelerator` is deprecated and will be removed in version 1.0 of Accelerate: dict_keys(['dispatch_batches', 'split_batches']). Please pass an `accelerate.DataLoaderConfiguration` instead: \n",
      "dataloader_config = DataLoaderConfiguration(dispatch_batches=None, split_batches=False)\n",
      "  warnings.warn(\n"
     ]
    },
    {
     "data": {
      "text/html": [
       "\n",
       "    <div>\n",
       "      \n",
       "      <progress value='1980' max='1980' style='width:300px; height:20px; vertical-align: middle;'></progress>\n",
       "      [1980/1980 19:20, Epoch 10/10]\n",
       "    </div>\n",
       "    <table border=\"1\" class=\"dataframe\">\n",
       "  <thead>\n",
       " <tr style=\"text-align: left;\">\n",
       "      <th>Epoch</th>\n",
       "      <th>Training Loss</th>\n",
       "      <th>Validation Loss</th>\n",
       "      <th>Accuracy</th>\n",
       "    </tr>\n",
       "  </thead>\n",
       "  <tbody>\n",
       "    <tr>\n",
       "      <td>1</td>\n",
       "      <td>0.725100</td>\n",
       "      <td>0.694259</td>\n",
       "      <td>0.482323</td>\n",
       "    </tr>\n",
       "    <tr>\n",
       "      <td>2</td>\n",
       "      <td>0.726000</td>\n",
       "      <td>0.685569</td>\n",
       "      <td>0.565657</td>\n",
       "    </tr>\n",
       "    <tr>\n",
       "      <td>3</td>\n",
       "      <td>0.719800</td>\n",
       "      <td>0.672442</td>\n",
       "      <td>0.638889</td>\n",
       "    </tr>\n",
       "    <tr>\n",
       "      <td>4</td>\n",
       "      <td>0.699500</td>\n",
       "      <td>0.657512</td>\n",
       "      <td>0.656566</td>\n",
       "    </tr>\n",
       "    <tr>\n",
       "      <td>5</td>\n",
       "      <td>0.690600</td>\n",
       "      <td>0.641740</td>\n",
       "      <td>0.684343</td>\n",
       "    </tr>\n",
       "    <tr>\n",
       "      <td>6</td>\n",
       "      <td>0.681400</td>\n",
       "      <td>0.625437</td>\n",
       "      <td>0.717172</td>\n",
       "    </tr>\n",
       "    <tr>\n",
       "      <td>7</td>\n",
       "      <td>0.652600</td>\n",
       "      <td>0.610346</td>\n",
       "      <td>0.727273</td>\n",
       "    </tr>\n",
       "    <tr>\n",
       "      <td>8</td>\n",
       "      <td>0.626300</td>\n",
       "      <td>0.596360</td>\n",
       "      <td>0.737374</td>\n",
       "    </tr>\n",
       "    <tr>\n",
       "      <td>9</td>\n",
       "      <td>0.634100</td>\n",
       "      <td>0.585694</td>\n",
       "      <td>0.729798</td>\n",
       "    </tr>\n",
       "    <tr>\n",
       "      <td>10</td>\n",
       "      <td>0.628100</td>\n",
       "      <td>0.575543</td>\n",
       "      <td>0.755051</td>\n",
       "    </tr>\n",
       "  </tbody>\n",
       "</table><p>"
      ],
      "text/plain": [
       "<IPython.core.display.HTML object>"
      ]
     },
     "metadata": {},
     "output_type": "display_data"
    },
    {
     "name": "stdout",
     "output_type": "stream",
     "text": [
      "Saved improved model to ./model_output/finetuned_model_all_dora.pth\n",
      "Saved improved model to ./model_output/finetuned_model_all_dora.pth\n",
      "Saved improved model to ./model_output/finetuned_model_all_dora.pth\n",
      "Saved improved model to ./model_output/finetuned_model_all_dora.pth\n",
      "Saved improved model to ./model_output/finetuned_model_all_dora.pth\n",
      "Saved improved model to ./model_output/finetuned_model_all_dora.pth\n",
      "Saved improved model to ./model_output/finetuned_model_all_dora.pth\n",
      "Saved improved model to ./model_output/finetuned_model_all_dora.pth\n",
      "Saved improved model to ./model_output/finetuned_model_all_dora.pth\n",
      "Saved improved model to ./model_output/finetuned_model_all_dora.pth\n",
      "Loaded best model from ./model_output/finetuned_model_all_dora.pth\n"
     ]
    },
    {
     "data": {
      "text/html": [
       "\n",
       "    <div>\n",
       "      \n",
       "      <progress value='50' max='50' style='width:300px; height:20px; vertical-align: middle;'></progress>\n",
       "      [50/50 00:04]\n",
       "    </div>\n",
       "    "
      ],
      "text/plain": [
       "<IPython.core.display.HTML object>"
      ]
     },
     "metadata": {},
     "output_type": "display_data"
    },
    {
     "name": "stdout",
     "output_type": "stream",
     "text": [
      "{'eval_loss': 0.5755431056022644, 'eval_accuracy': 0.7550505050505051, 'eval_runtime': 4.4841, 'eval_samples_per_second': 88.312, 'eval_steps_per_second': 11.151, 'epoch': 10.0}\n",
      "History:  [{'loss': 0.7251, 'learning_rate': 4.865117094234254e-06, 'epoch': 1.0, 'step': 198}, {'eval_loss': 0.6942591071128845, 'eval_accuracy': 0.4823232323232323, 'eval_runtime': 5.1203, 'eval_samples_per_second': 77.339, 'eval_steps_per_second': 9.765, 'epoch': 1.0, 'step': 198}, {'loss': 0.726, 'learning_rate': 9.730234188468509e-06, 'epoch': 2.0, 'step': 396}, {'eval_loss': 0.6855689883232117, 'eval_accuracy': 0.5656565656565656, 'eval_runtime': 4.6421, 'eval_samples_per_second': 85.307, 'eval_steps_per_second': 10.771, 'epoch': 2.0, 'step': 396}, {'loss': 0.7198, 'learning_rate': 1.4595351282702764e-05, 'epoch': 3.0, 'step': 594}, {'eval_loss': 0.6724416613578796, 'eval_accuracy': 0.6388888888888888, 'eval_runtime': 4.6095, 'eval_samples_per_second': 85.909, 'eval_steps_per_second': 10.847, 'epoch': 3.0, 'step': 594}, {'loss': 0.6995, 'learning_rate': 1.9460468376937017e-05, 'epoch': 4.0, 'step': 792}, {'eval_loss': 0.6575120687484741, 'eval_accuracy': 0.6565656565656566, 'eval_runtime': 4.4524, 'eval_samples_per_second': 88.941, 'eval_steps_per_second': 11.23, 'epoch': 4.0, 'step': 792}, {'loss': 0.6906, 'learning_rate': 2.4325585471171274e-05, 'epoch': 5.0, 'step': 990}, {'eval_loss': 0.6417402625083923, 'eval_accuracy': 0.6843434343434344, 'eval_runtime': 4.4684, 'eval_samples_per_second': 88.623, 'eval_steps_per_second': 11.19, 'epoch': 5.0, 'step': 990}, {'loss': 0.6814, 'learning_rate': 2.9190702565405528e-05, 'epoch': 6.0, 'step': 1188}, {'eval_loss': 0.625436544418335, 'eval_accuracy': 0.7171717171717171, 'eval_runtime': 4.4649, 'eval_samples_per_second': 88.692, 'eval_steps_per_second': 11.198, 'epoch': 6.0, 'step': 1188}, {'loss': 0.6526, 'learning_rate': 3.405581965963978e-05, 'epoch': 7.0, 'step': 1386}, {'eval_loss': 0.6103461384773254, 'eval_accuracy': 0.7272727272727273, 'eval_runtime': 4.4806, 'eval_samples_per_second': 88.38, 'eval_steps_per_second': 11.159, 'epoch': 7.0, 'step': 1386}, {'loss': 0.6263, 'learning_rate': 3.8920936753874035e-05, 'epoch': 8.0, 'step': 1584}, {'eval_loss': 0.5963600873947144, 'eval_accuracy': 0.7373737373737373, 'eval_runtime': 4.4733, 'eval_samples_per_second': 88.526, 'eval_steps_per_second': 11.178, 'epoch': 8.0, 'step': 1584}, {'loss': 0.6341, 'learning_rate': 4.3786053848108295e-05, 'epoch': 9.0, 'step': 1782}, {'eval_loss': 0.5856937170028687, 'eval_accuracy': 0.7297979797979798, 'eval_runtime': 4.4855, 'eval_samples_per_second': 88.285, 'eval_steps_per_second': 11.147, 'epoch': 9.0, 'step': 1782}, {'loss': 0.6281, 'learning_rate': 4.865117094234255e-05, 'epoch': 10.0, 'step': 1980}, {'eval_loss': 0.5755431056022644, 'eval_accuracy': 0.7550505050505051, 'eval_runtime': 4.4799, 'eval_samples_per_second': 88.395, 'eval_steps_per_second': 11.161, 'epoch': 10.0, 'step': 1980}, {'train_runtime': 1161.4503, 'train_samples_per_second': 13.638, 'train_steps_per_second': 1.705, 'total_flos': 3907230233258880.0, 'train_loss': 0.6783496047511245, 'epoch': 10.0, 'step': 1980}, {'eval_loss': 0.5755431056022644, 'eval_accuracy': 0.7550505050505051, 'eval_runtime': 4.4841, 'eval_samples_per_second': 88.312, 'eval_steps_per_second': 11.151, 'epoch': 10.0, 'step': 1980}]\n"
     ]
    },
    {
     "name": "stderr",
     "output_type": "stream",
     "text": [
      "[I 2024-06-09 01:58:44,954] Trial 41 finished with values: [0.5755431056022644, 0.7550505050505051] and parameters: {'lr': 0.000116320526889419, 'batch': 1, 'accum': 8, 'dropout_rate': 0.8361466080660518, 'weight_decay': 1.3328480361890859e-05, 'warmup_pct': 0.2988725482636185, 'dora_rank': 12, 'dora_init_scale': 0.027141557644989357}. \n",
      "/home/ubuntu/data/miniconda3/envs/finetune-dephos/lib/python3.9/site-packages/huggingface_hub/file_download.py:1132: FutureWarning: `resume_download` is deprecated and will be removed in version 1.0.0. Downloads always resume when possible. If you want to force a new download, use `force_download=True`.\n",
      "  warnings.warn(\n"
     ]
    },
    {
     "name": "stdout",
     "output_type": "stream",
     "text": [
      "ProtT5_Classfier\n",
      "Trainable Parameter: 1209193475.0\n",
      "ProtT5_DoRA_Classfier\n",
      "Trainable Parameter: 1200131.0\n",
      "\n"
     ]
    },
    {
     "name": "stderr",
     "output_type": "stream",
     "text": [
      "/home/ubuntu/data/miniconda3/envs/finetune-dephos/lib/python3.9/site-packages/accelerate/accelerator.py:446: FutureWarning: Passing the following arguments to `Accelerator` is deprecated and will be removed in version 1.0 of Accelerate: dict_keys(['dispatch_batches', 'split_batches']). Please pass an `accelerate.DataLoaderConfiguration` instead: \n",
      "dataloader_config = DataLoaderConfiguration(dispatch_batches=None, split_batches=False)\n",
      "  warnings.warn(\n"
     ]
    },
    {
     "data": {
      "text/html": [
       "\n",
       "    <div>\n",
       "      \n",
       "      <progress value='2772' max='3960' style='width:300px; height:20px; vertical-align: middle;'></progress>\n",
       "      [2772/3960 08:28 < 03:38, 5.45 it/s, Epoch 7/10]\n",
       "    </div>\n",
       "    <table border=\"1\" class=\"dataframe\">\n",
       "  <thead>\n",
       " <tr style=\"text-align: left;\">\n",
       "      <th>Epoch</th>\n",
       "      <th>Training Loss</th>\n",
       "      <th>Validation Loss</th>\n",
       "      <th>Accuracy</th>\n",
       "    </tr>\n",
       "  </thead>\n",
       "  <tbody>\n",
       "    <tr>\n",
       "      <td>1</td>\n",
       "      <td>0.687500</td>\n",
       "      <td>0.648718</td>\n",
       "      <td>0.666667</td>\n",
       "    </tr>\n",
       "    <tr>\n",
       "      <td>2</td>\n",
       "      <td>0.611200</td>\n",
       "      <td>0.576313</td>\n",
       "      <td>0.747475</td>\n",
       "    </tr>\n",
       "    <tr>\n",
       "      <td>3</td>\n",
       "      <td>0.567900</td>\n",
       "      <td>0.549338</td>\n",
       "      <td>0.742424</td>\n",
       "    </tr>\n",
       "    <tr>\n",
       "      <td>4</td>\n",
       "      <td>0.553000</td>\n",
       "      <td>0.546173</td>\n",
       "      <td>0.762626</td>\n",
       "    </tr>\n",
       "    <tr>\n",
       "      <td>5</td>\n",
       "      <td>0.543200</td>\n",
       "      <td>0.549346</td>\n",
       "      <td>0.742424</td>\n",
       "    </tr>\n",
       "    <tr>\n",
       "      <td>6</td>\n",
       "      <td>0.564700</td>\n",
       "      <td>0.559744</td>\n",
       "      <td>0.744949</td>\n",
       "    </tr>\n",
       "    <tr>\n",
       "      <td>7</td>\n",
       "      <td>0.548800</td>\n",
       "      <td>0.564033</td>\n",
       "      <td>0.757576</td>\n",
       "    </tr>\n",
       "  </tbody>\n",
       "</table><p>"
      ],
      "text/plain": [
       "<IPython.core.display.HTML object>"
      ]
     },
     "metadata": {},
     "output_type": "display_data"
    },
    {
     "name": "stdout",
     "output_type": "stream",
     "text": [
      "Saved improved model to ./model_output/finetuned_model_all_dora.pth\n",
      "Saved improved model to ./model_output/finetuned_model_all_dora.pth\n",
      "Saved improved model to ./model_output/finetuned_model_all_dora.pth\n",
      "Saved improved model to ./model_output/finetuned_model_all_dora.pth\n",
      "Stopping early at epoch 7.0: No improvement in loss or accuracy for 3 evaluations.\n",
      "Loaded best model from ./model_output/finetuned_model_all_dora.pth\n"
     ]
    },
    {
     "data": {
      "text/html": [
       "\n",
       "    <div>\n",
       "      \n",
       "      <progress value='50' max='50' style='width:300px; height:20px; vertical-align: middle;'></progress>\n",
       "      [50/50 00:04]\n",
       "    </div>\n",
       "    "
      ],
      "text/plain": [
       "<IPython.core.display.HTML object>"
      ]
     },
     "metadata": {},
     "output_type": "display_data"
    },
    {
     "name": "stdout",
     "output_type": "stream",
     "text": [
      "Stopping early at epoch 7.0: No improvement in loss or accuracy for 3 evaluations.\n",
      "{'eval_loss': 0.546172559261322, 'eval_accuracy': 0.7626262626262627, 'eval_runtime': 4.6417, 'eval_samples_per_second': 85.314, 'eval_steps_per_second': 10.772, 'epoch': 7.0}\n"
     ]
    },
    {
     "name": "stderr",
     "output_type": "stream",
     "text": [
      "[I 2024-06-09 02:08:37,140] Trial 42 finished with values: [0.546172559261322, 0.7626262626262627] and parameters: {'lr': 0.0001721894832203884, 'batch': 2, 'accum': 2, 'dropout_rate': 0.6223785632414238, 'weight_decay': 4.155064310555983e-05, 'warmup_pct': 0.29395569880094735, 'dora_rank': 16, 'dora_init_scale': 0.00012526348893689948}. \n"
     ]
    },
    {
     "name": "stdout",
     "output_type": "stream",
     "text": [
      "History:  [{'loss': 0.6875, 'learning_rate': 2.9289963640581532e-05, 'epoch': 1.0, 'step': 396}, {'eval_loss': 0.6487182974815369, 'eval_accuracy': 0.6666666666666666, 'eval_runtime': 5.102, 'eval_samples_per_second': 77.617, 'eval_steps_per_second': 9.8, 'epoch': 1.0, 'step': 396}, {'loss': 0.6112, 'learning_rate': 5.8579927281163065e-05, 'epoch': 2.0, 'step': 792}, {'eval_loss': 0.576313316822052, 'eval_accuracy': 0.7474747474747475, 'eval_runtime': 4.4644, 'eval_samples_per_second': 88.701, 'eval_steps_per_second': 11.2, 'epoch': 2.0, 'step': 792}, {'loss': 0.5679, 'learning_rate': 8.786989092174459e-05, 'epoch': 3.0, 'step': 1188}, {'eval_loss': 0.5493379235267639, 'eval_accuracy': 0.7424242424242424, 'eval_runtime': 4.4555, 'eval_samples_per_second': 88.879, 'eval_steps_per_second': 11.222, 'epoch': 3.0, 'step': 1188}, {'loss': 0.553, 'learning_rate': 0.00011715985456232613, 'epoch': 4.0, 'step': 1584}, {'eval_loss': 0.546172559261322, 'eval_accuracy': 0.7626262626262627, 'eval_runtime': 4.46, 'eval_samples_per_second': 88.789, 'eval_steps_per_second': 11.211, 'epoch': 4.0, 'step': 1584}, {'loss': 0.5432, 'learning_rate': 0.00014644981820290765, 'epoch': 5.0, 'step': 1980}, {'eval_loss': 0.549345850944519, 'eval_accuracy': 0.7424242424242424, 'eval_runtime': 4.4829, 'eval_samples_per_second': 88.336, 'eval_steps_per_second': 11.154, 'epoch': 5.0, 'step': 1980}, {'loss': 0.5647, 'learning_rate': 0.00016712508665508286, 'epoch': 6.0, 'step': 2376}, {'eval_loss': 0.5597442388534546, 'eval_accuracy': 0.7449494949494949, 'eval_runtime': 4.468, 'eval_samples_per_second': 88.631, 'eval_steps_per_second': 11.191, 'epoch': 6.0, 'step': 2376}, {'loss': 0.5488, 'learning_rate': 0.00012534381499131213, 'epoch': 7.0, 'step': 2772}, {'eval_loss': 0.5640334486961365, 'eval_accuracy': 0.7575757575757576, 'eval_runtime': 4.6615, 'eval_samples_per_second': 84.951, 'eval_steps_per_second': 10.726, 'epoch': 7.0, 'step': 2772}, {'train_runtime': 508.8554, 'train_samples_per_second': 31.129, 'train_steps_per_second': 7.782, 'total_flos': 2735061163281216.0, 'train_loss': 0.5823193890019757, 'epoch': 7.0, 'step': 2772}, {'eval_loss': 0.546172559261322, 'eval_accuracy': 0.7626262626262627, 'eval_runtime': 4.6417, 'eval_samples_per_second': 85.314, 'eval_steps_per_second': 10.772, 'epoch': 7.0, 'step': 2772}]\n"
     ]
    },
    {
     "name": "stderr",
     "output_type": "stream",
     "text": [
      "/home/ubuntu/data/miniconda3/envs/finetune-dephos/lib/python3.9/site-packages/huggingface_hub/file_download.py:1132: FutureWarning: `resume_download` is deprecated and will be removed in version 1.0.0. Downloads always resume when possible. If you want to force a new download, use `force_download=True`.\n",
      "  warnings.warn(\n"
     ]
    },
    {
     "name": "stdout",
     "output_type": "stream",
     "text": [
      "ProtT5_Classfier\n",
      "Trainable Parameter: 1209193475.0\n",
      "ProtT5_DoRA_Classfier\n",
      "Trainable Parameter: 1200131.0\n",
      "\n"
     ]
    },
    {
     "name": "stderr",
     "output_type": "stream",
     "text": [
      "/home/ubuntu/data/miniconda3/envs/finetune-dephos/lib/python3.9/site-packages/accelerate/accelerator.py:446: FutureWarning: Passing the following arguments to `Accelerator` is deprecated and will be removed in version 1.0 of Accelerate: dict_keys(['dispatch_batches', 'split_batches']). Please pass an `accelerate.DataLoaderConfiguration` instead: \n",
      "dataloader_config = DataLoaderConfiguration(dispatch_batches=None, split_batches=False)\n",
      "  warnings.warn(\n"
     ]
    },
    {
     "data": {
      "text/html": [
       "\n",
       "    <div>\n",
       "      \n",
       "      <progress value='990' max='1980' style='width:300px; height:20px; vertical-align: middle;'></progress>\n",
       "      [ 990/1980 04:11 < 04:11, 3.93 it/s, Epoch 5/10]\n",
       "    </div>\n",
       "    <table border=\"1\" class=\"dataframe\">\n",
       "  <thead>\n",
       " <tr style=\"text-align: left;\">\n",
       "      <th>Epoch</th>\n",
       "      <th>Training Loss</th>\n",
       "      <th>Validation Loss</th>\n",
       "      <th>Accuracy</th>\n",
       "    </tr>\n",
       "  </thead>\n",
       "  <tbody>\n",
       "    <tr>\n",
       "      <td>1</td>\n",
       "      <td>0.653400</td>\n",
       "      <td>0.563682</td>\n",
       "      <td>0.737374</td>\n",
       "    </tr>\n",
       "    <tr>\n",
       "      <td>2</td>\n",
       "      <td>0.634200</td>\n",
       "      <td>0.545934</td>\n",
       "      <td>0.744949</td>\n",
       "    </tr>\n",
       "    <tr>\n",
       "      <td>3</td>\n",
       "      <td>0.670000</td>\n",
       "      <td>0.603005</td>\n",
       "      <td>0.686869</td>\n",
       "    </tr>\n",
       "    <tr>\n",
       "      <td>4</td>\n",
       "      <td>0.694200</td>\n",
       "      <td>0.556884</td>\n",
       "      <td>0.734848</td>\n",
       "    </tr>\n",
       "    <tr>\n",
       "      <td>5</td>\n",
       "      <td>0.695700</td>\n",
       "      <td>0.742184</td>\n",
       "      <td>0.664141</td>\n",
       "    </tr>\n",
       "  </tbody>\n",
       "</table><p>"
      ],
      "text/plain": [
       "<IPython.core.display.HTML object>"
      ]
     },
     "metadata": {},
     "output_type": "display_data"
    },
    {
     "name": "stdout",
     "output_type": "stream",
     "text": [
      "Saved improved model to ./model_output/finetuned_model_all_dora.pth\n",
      "Saved improved model to ./model_output/finetuned_model_all_dora.pth\n",
      "Stopping early at epoch 5.0: No improvement in loss or accuracy for 3 evaluations.\n",
      "Loaded best model from ./model_output/finetuned_model_all_dora.pth\n"
     ]
    },
    {
     "data": {
      "text/html": [
       "\n",
       "    <div>\n",
       "      \n",
       "      <progress value='50' max='50' style='width:300px; height:20px; vertical-align: middle;'></progress>\n",
       "      [50/50 00:04]\n",
       "    </div>\n",
       "    "
      ],
      "text/plain": [
       "<IPython.core.display.HTML object>"
      ]
     },
     "metadata": {},
     "output_type": "display_data"
    },
    {
     "name": "stdout",
     "output_type": "stream",
     "text": [
      "Stopping early at epoch 5.0: No improvement in loss or accuracy for 3 evaluations.\n",
      "{'eval_loss': 0.5459337830543518, 'eval_accuracy': 0.7449494949494949, 'eval_runtime': 4.6287, 'eval_samples_per_second': 85.553, 'eval_steps_per_second': 10.802, 'epoch': 5.0}\n"
     ]
    },
    {
     "name": "stderr",
     "output_type": "stream",
     "text": [
      "[I 2024-06-09 02:14:21,392] Trial 43 finished with values: [0.5459337830543518, 0.7449494949494949] and parameters: {'lr': 0.002817219674203983, 'batch': 4, 'accum': 2, 'dropout_rate': 0.7267009729491977, 'weight_decay': 9.951920007491992e-05, 'warmup_pct': 0.22398995771984578, 'dora_rank': 32, 'dora_init_scale': 0.05328026686196351}. \n"
     ]
    },
    {
     "name": "stdout",
     "output_type": "stream",
     "text": [
      "History:  [{'loss': 0.6534, 'learning_rate': 0.0006288720355043841, 'epoch': 1.0, 'step': 198}, {'eval_loss': 0.563682496547699, 'eval_accuracy': 0.7373737373737373, 'eval_runtime': 5.0936, 'eval_samples_per_second': 77.744, 'eval_steps_per_second': 9.816, 'epoch': 1.0, 'step': 198}, {'loss': 0.6342, 'learning_rate': 0.0012577440710087682, 'epoch': 2.0, 'step': 396}, {'eval_loss': 0.5459337830543518, 'eval_accuracy': 0.7449494949494949, 'eval_runtime': 4.4716, 'eval_samples_per_second': 88.559, 'eval_steps_per_second': 11.182, 'epoch': 2.0, 'step': 396}, {'loss': 0.67, 'learning_rate': 0.001886616106513152, 'epoch': 3.0, 'step': 594}, {'eval_loss': 0.6030048131942749, 'eval_accuracy': 0.6868686868686869, 'eval_runtime': 4.4741, 'eval_samples_per_second': 88.51, 'eval_steps_per_second': 11.176, 'epoch': 3.0, 'step': 594}, {'loss': 0.6942, 'learning_rate': 0.0025154881420175364, 'epoch': 4.0, 'step': 792}, {'eval_loss': 0.556883692741394, 'eval_accuracy': 0.7348484848484849, 'eval_runtime': 4.6185, 'eval_samples_per_second': 85.742, 'eval_steps_per_second': 10.826, 'epoch': 4.0, 'step': 792}, {'loss': 0.6957, 'learning_rate': 0.0025517360269551176, 'epoch': 5.0, 'step': 990}, {'eval_loss': 0.7421842813491821, 'eval_accuracy': 0.6641414141414141, 'eval_runtime': 4.6162, 'eval_samples_per_second': 85.784, 'eval_steps_per_second': 10.831, 'epoch': 5.0, 'step': 990}, {'train_runtime': 251.6295, 'train_samples_per_second': 62.95, 'train_steps_per_second': 7.869, 'total_flos': 1953615116629440.0, 'train_loss': 0.6694940278024385, 'epoch': 5.0, 'step': 990}, {'eval_loss': 0.5459337830543518, 'eval_accuracy': 0.7449494949494949, 'eval_runtime': 4.6287, 'eval_samples_per_second': 85.553, 'eval_steps_per_second': 10.802, 'epoch': 5.0, 'step': 990}]\n"
     ]
    },
    {
     "name": "stderr",
     "output_type": "stream",
     "text": [
      "/home/ubuntu/data/miniconda3/envs/finetune-dephos/lib/python3.9/site-packages/huggingface_hub/file_download.py:1132: FutureWarning: `resume_download` is deprecated and will be removed in version 1.0.0. Downloads always resume when possible. If you want to force a new download, use `force_download=True`.\n",
      "  warnings.warn(\n"
     ]
    },
    {
     "name": "stdout",
     "output_type": "stream",
     "text": [
      "ProtT5_Classfier\n",
      "Trainable Parameter: 1209193475.0\n",
      "ProtT5_DoRA_Classfier\n",
      "Trainable Parameter: 1200131.0\n",
      "\n"
     ]
    },
    {
     "name": "stderr",
     "output_type": "stream",
     "text": [
      "/home/ubuntu/data/miniconda3/envs/finetune-dephos/lib/python3.9/site-packages/accelerate/accelerator.py:446: FutureWarning: Passing the following arguments to `Accelerator` is deprecated and will be removed in version 1.0 of Accelerate: dict_keys(['dispatch_batches', 'split_batches']). Please pass an `accelerate.DataLoaderConfiguration` instead: \n",
      "dataloader_config = DataLoaderConfiguration(dispatch_batches=None, split_batches=False)\n",
      "  warnings.warn(\n"
     ]
    },
    {
     "data": {
      "text/html": [
       "\n",
       "    <div>\n",
       "      \n",
       "      <progress value='1980' max='1980' style='width:300px; height:20px; vertical-align: middle;'></progress>\n",
       "      [1980/1980 08:22, Epoch 10/10]\n",
       "    </div>\n",
       "    <table border=\"1\" class=\"dataframe\">\n",
       "  <thead>\n",
       " <tr style=\"text-align: left;\">\n",
       "      <th>Epoch</th>\n",
       "      <th>Training Loss</th>\n",
       "      <th>Validation Loss</th>\n",
       "      <th>Accuracy</th>\n",
       "    </tr>\n",
       "  </thead>\n",
       "  <tbody>\n",
       "    <tr>\n",
       "      <td>1</td>\n",
       "      <td>0.763600</td>\n",
       "      <td>0.676785</td>\n",
       "      <td>0.616162</td>\n",
       "    </tr>\n",
       "    <tr>\n",
       "      <td>2</td>\n",
       "      <td>0.748500</td>\n",
       "      <td>0.642115</td>\n",
       "      <td>0.684343</td>\n",
       "    </tr>\n",
       "    <tr>\n",
       "      <td>3</td>\n",
       "      <td>0.696800</td>\n",
       "      <td>0.608286</td>\n",
       "      <td>0.707071</td>\n",
       "    </tr>\n",
       "    <tr>\n",
       "      <td>4</td>\n",
       "      <td>0.656100</td>\n",
       "      <td>0.580059</td>\n",
       "      <td>0.739899</td>\n",
       "    </tr>\n",
       "    <tr>\n",
       "      <td>5</td>\n",
       "      <td>0.647500</td>\n",
       "      <td>0.565803</td>\n",
       "      <td>0.747475</td>\n",
       "    </tr>\n",
       "    <tr>\n",
       "      <td>6</td>\n",
       "      <td>0.639400</td>\n",
       "      <td>0.557076</td>\n",
       "      <td>0.744949</td>\n",
       "    </tr>\n",
       "    <tr>\n",
       "      <td>7</td>\n",
       "      <td>0.627900</td>\n",
       "      <td>0.552006</td>\n",
       "      <td>0.755051</td>\n",
       "    </tr>\n",
       "    <tr>\n",
       "      <td>8</td>\n",
       "      <td>0.635100</td>\n",
       "      <td>0.551496</td>\n",
       "      <td>0.755051</td>\n",
       "    </tr>\n",
       "    <tr>\n",
       "      <td>9</td>\n",
       "      <td>0.624800</td>\n",
       "      <td>0.550131</td>\n",
       "      <td>0.757576</td>\n",
       "    </tr>\n",
       "    <tr>\n",
       "      <td>10</td>\n",
       "      <td>0.616400</td>\n",
       "      <td>0.549533</td>\n",
       "      <td>0.757576</td>\n",
       "    </tr>\n",
       "  </tbody>\n",
       "</table><p>"
      ],
      "text/plain": [
       "<IPython.core.display.HTML object>"
      ]
     },
     "metadata": {},
     "output_type": "display_data"
    },
    {
     "name": "stdout",
     "output_type": "stream",
     "text": [
      "Saved improved model to ./model_output/finetuned_model_all_dora.pth\n",
      "Saved improved model to ./model_output/finetuned_model_all_dora.pth\n",
      "Saved improved model to ./model_output/finetuned_model_all_dora.pth\n",
      "Saved improved model to ./model_output/finetuned_model_all_dora.pth\n",
      "Saved improved model to ./model_output/finetuned_model_all_dora.pth\n",
      "Saved improved model to ./model_output/finetuned_model_all_dora.pth\n",
      "Saved improved model to ./model_output/finetuned_model_all_dora.pth\n",
      "Saved improved model to ./model_output/finetuned_model_all_dora.pth\n",
      "Loaded best model from ./model_output/finetuned_model_all_dora.pth\n"
     ]
    },
    {
     "data": {
      "text/html": [
       "\n",
       "    <div>\n",
       "      \n",
       "      <progress value='50' max='50' style='width:300px; height:20px; vertical-align: middle;'></progress>\n",
       "      [50/50 00:04]\n",
       "    </div>\n",
       "    "
      ],
      "text/plain": [
       "<IPython.core.display.HTML object>"
      ]
     },
     "metadata": {},
     "output_type": "display_data"
    },
    {
     "name": "stdout",
     "output_type": "stream",
     "text": [
      "{'eval_loss': 0.5501305460929871, 'eval_accuracy': 0.7575757575757576, 'eval_runtime': 4.6186, 'eval_samples_per_second': 85.741, 'eval_steps_per_second': 10.826, 'epoch': 10.0}\n"
     ]
    },
    {
     "name": "stderr",
     "output_type": "stream",
     "text": [
      "[I 2024-06-09 02:24:15,043] Trial 44 finished with values: [0.5501305460929871, 0.7575757575757576] and parameters: {'lr': 0.00017612460201516162, 'batch': 4, 'accum': 2, 'dropout_rate': 0.884700964266424, 'weight_decay': 8.935051384847679e-05, 'warmup_pct': 0.1823168607192444, 'dora_rank': 24, 'dora_init_scale': 0.004585661232650188}. \n"
     ]
    },
    {
     "name": "stdout",
     "output_type": "stream",
     "text": [
      "History:  [{'loss': 0.7636, 'learning_rate': 4.836708904161165e-05, 'epoch': 1.0, 'step': 198}, {'eval_loss': 0.6767852306365967, 'eval_accuracy': 0.6161616161616161, 'eval_runtime': 5.1096, 'eval_samples_per_second': 77.502, 'eval_steps_per_second': 9.786, 'epoch': 1.0, 'step': 198}, {'loss': 0.7485, 'learning_rate': 9.67341780832233e-05, 'epoch': 2.0, 'step': 396}, {'eval_loss': 0.6421152353286743, 'eval_accuracy': 0.6843434343434344, 'eval_runtime': 4.4539, 'eval_samples_per_second': 88.91, 'eval_steps_per_second': 11.226, 'epoch': 2.0, 'step': 396}, {'loss': 0.6968, 'learning_rate': 0.00014510126712483494, 'epoch': 3.0, 'step': 594}, {'eval_loss': 0.608286440372467, 'eval_accuracy': 0.7070707070707071, 'eval_runtime': 4.4662, 'eval_samples_per_second': 88.666, 'eval_steps_per_second': 11.195, 'epoch': 3.0, 'step': 594}, {'loss': 0.6561, 'learning_rate': 0.00016619223764417158, 'epoch': 4.0, 'step': 792}, {'eval_loss': 0.5800592303276062, 'eval_accuracy': 0.73989898989899, 'eval_runtime': 4.6576, 'eval_samples_per_second': 85.021, 'eval_steps_per_second': 10.735, 'epoch': 4.0, 'step': 792}, {'loss': 0.6475, 'learning_rate': 0.00013849353137014296, 'epoch': 5.0, 'step': 990}, {'eval_loss': 0.5658031702041626, 'eval_accuracy': 0.7474747474747475, 'eval_runtime': 4.6611, 'eval_samples_per_second': 84.959, 'eval_steps_per_second': 10.727, 'epoch': 5.0, 'step': 990}, {'loss': 0.6394, 'learning_rate': 0.0001107948250961144, 'epoch': 6.0, 'step': 1188}, {'eval_loss': 0.5570756793022156, 'eval_accuracy': 0.7449494949494949, 'eval_runtime': 4.611, 'eval_samples_per_second': 85.881, 'eval_steps_per_second': 10.844, 'epoch': 6.0, 'step': 1188}, {'loss': 0.6279, 'learning_rate': 8.309611882208579e-05, 'epoch': 7.0, 'step': 1386}, {'eval_loss': 0.5520055294036865, 'eval_accuracy': 0.7550505050505051, 'eval_runtime': 4.6663, 'eval_samples_per_second': 84.863, 'eval_steps_per_second': 10.715, 'epoch': 7.0, 'step': 1386}, {'loss': 0.6351, 'learning_rate': 5.53974125480572e-05, 'epoch': 8.0, 'step': 1584}, {'eval_loss': 0.5514964461326599, 'eval_accuracy': 0.7550505050505051, 'eval_runtime': 4.6133, 'eval_samples_per_second': 85.839, 'eval_steps_per_second': 10.838, 'epoch': 8.0, 'step': 1584}, {'loss': 0.6248, 'learning_rate': 2.76987062740286e-05, 'epoch': 9.0, 'step': 1782}, {'eval_loss': 0.5501305460929871, 'eval_accuracy': 0.7575757575757576, 'eval_runtime': 4.6093, 'eval_samples_per_second': 85.913, 'eval_steps_per_second': 10.848, 'epoch': 9.0, 'step': 1782}, {'loss': 0.6164, 'learning_rate': 0.0, 'epoch': 10.0, 'step': 1980}, {'eval_loss': 0.5495328903198242, 'eval_accuracy': 0.7575757575757576, 'eval_runtime': 4.6084, 'eval_samples_per_second': 85.93, 'eval_steps_per_second': 10.85, 'epoch': 10.0, 'step': 1980}, {'train_runtime': 502.9506, 'train_samples_per_second': 31.494, 'train_steps_per_second': 3.937, 'total_flos': 3907230233258880.0, 'train_loss': 0.6656088742342863, 'epoch': 10.0, 'step': 1980}, {'eval_loss': 0.5501305460929871, 'eval_accuracy': 0.7575757575757576, 'eval_runtime': 4.6186, 'eval_samples_per_second': 85.741, 'eval_steps_per_second': 10.826, 'epoch': 10.0, 'step': 1980}]\n"
     ]
    },
    {
     "name": "stderr",
     "output_type": "stream",
     "text": [
      "/home/ubuntu/data/miniconda3/envs/finetune-dephos/lib/python3.9/site-packages/huggingface_hub/file_download.py:1132: FutureWarning: `resume_download` is deprecated and will be removed in version 1.0.0. Downloads always resume when possible. If you want to force a new download, use `force_download=True`.\n",
      "  warnings.warn(\n"
     ]
    },
    {
     "name": "stdout",
     "output_type": "stream",
     "text": [
      "ProtT5_Classfier\n",
      "Trainable Parameter: 1209193475.0\n",
      "ProtT5_DoRA_Classfier\n",
      "Trainable Parameter: 1200131.0\n",
      "\n"
     ]
    },
    {
     "name": "stderr",
     "output_type": "stream",
     "text": [
      "/home/ubuntu/data/miniconda3/envs/finetune-dephos/lib/python3.9/site-packages/accelerate/accelerator.py:446: FutureWarning: Passing the following arguments to `Accelerator` is deprecated and will be removed in version 1.0 of Accelerate: dict_keys(['dispatch_batches', 'split_batches']). Please pass an `accelerate.DataLoaderConfiguration` instead: \n",
      "dataloader_config = DataLoaderConfiguration(dispatch_batches=None, split_batches=False)\n",
      "  warnings.warn(\n"
     ]
    },
    {
     "data": {
      "text/html": [
       "\n",
       "    <div>\n",
       "      \n",
       "      <progress value='240' max='240' style='width:300px; height:20px; vertical-align: middle;'></progress>\n",
       "      [240/240 06:31, Epoch 9/10]\n",
       "    </div>\n",
       "    <table border=\"1\" class=\"dataframe\">\n",
       "  <thead>\n",
       " <tr style=\"text-align: left;\">\n",
       "      <th>Epoch</th>\n",
       "      <th>Training Loss</th>\n",
       "      <th>Validation Loss</th>\n",
       "      <th>Accuracy</th>\n",
       "    </tr>\n",
       "  </thead>\n",
       "  <tbody>\n",
       "    <tr>\n",
       "      <td>0</td>\n",
       "      <td>0.706200</td>\n",
       "      <td>0.662591</td>\n",
       "      <td>0.661616</td>\n",
       "    </tr>\n",
       "    <tr>\n",
       "      <td>1</td>\n",
       "      <td>0.628000</td>\n",
       "      <td>0.601078</td>\n",
       "      <td>0.734848</td>\n",
       "    </tr>\n",
       "    <tr>\n",
       "      <td>2</td>\n",
       "      <td>0.571500</td>\n",
       "      <td>0.561525</td>\n",
       "      <td>0.757576</td>\n",
       "    </tr>\n",
       "    <tr>\n",
       "      <td>4</td>\n",
       "      <td>0.540900</td>\n",
       "      <td>0.539745</td>\n",
       "      <td>0.752525</td>\n",
       "    </tr>\n",
       "    <tr>\n",
       "      <td>5</td>\n",
       "      <td>0.507900</td>\n",
       "      <td>0.533739</td>\n",
       "      <td>0.765152</td>\n",
       "    </tr>\n",
       "    <tr>\n",
       "      <td>6</td>\n",
       "      <td>0.498400</td>\n",
       "      <td>0.531873</td>\n",
       "      <td>0.765152</td>\n",
       "    </tr>\n",
       "    <tr>\n",
       "      <td>8</td>\n",
       "      <td>0.510800</td>\n",
       "      <td>0.529995</td>\n",
       "      <td>0.765152</td>\n",
       "    </tr>\n",
       "    <tr>\n",
       "      <td>9</td>\n",
       "      <td>0.471600</td>\n",
       "      <td>0.529838</td>\n",
       "      <td>0.765152</td>\n",
       "    </tr>\n",
       "  </tbody>\n",
       "</table><p>"
      ],
      "text/plain": [
       "<IPython.core.display.HTML object>"
      ]
     },
     "metadata": {},
     "output_type": "display_data"
    },
    {
     "name": "stdout",
     "output_type": "stream",
     "text": [
      "Saved improved model to ./model_output/finetuned_model_all_dora.pth\n",
      "Saved improved model to ./model_output/finetuned_model_all_dora.pth\n",
      "Saved improved model to ./model_output/finetuned_model_all_dora.pth\n",
      "Saved improved model to ./model_output/finetuned_model_all_dora.pth\n",
      "Saved improved model to ./model_output/finetuned_model_all_dora.pth\n",
      "Saved improved model to ./model_output/finetuned_model_all_dora.pth\n",
      "Saved improved model to ./model_output/finetuned_model_all_dora.pth\n",
      "Saved improved model to ./model_output/finetuned_model_all_dora.pth\n",
      "Loaded best model from ./model_output/finetuned_model_all_dora.pth\n"
     ]
    },
    {
     "data": {
      "text/html": [
       "\n",
       "    <div>\n",
       "      \n",
       "      <progress value='50' max='50' style='width:300px; height:20px; vertical-align: middle;'></progress>\n",
       "      [50/50 00:04]\n",
       "    </div>\n",
       "    "
      ],
      "text/plain": [
       "<IPython.core.display.HTML object>"
      ]
     },
     "metadata": {},
     "output_type": "display_data"
    },
    {
     "name": "stdout",
     "output_type": "stream",
     "text": [
      "Stopping early at epoch 9.696969696969697: No improvement in loss or accuracy for 3 evaluations.\n",
      "{'eval_loss': 0.5306740403175354, 'eval_accuracy': 0.76010101010101, 'eval_runtime': 4.6085, 'eval_samples_per_second': 85.929, 'eval_steps_per_second': 10.85, 'epoch': 9.7}\n"
     ]
    },
    {
     "name": "stderr",
     "output_type": "stream",
     "text": [
      "[I 2024-06-09 02:32:11,980] Trial 45 finished with values: [0.5306740403175354, 0.76010101010101] and parameters: {'lr': 0.00013151077554595102, 'batch': 8, 'accum': 8, 'dropout_rate': 0.4426685402694829, 'weight_decay': 0.0006416368538433254, 'warmup_pct': 0.02664240696182109, 'dora_rank': 16, 'dora_init_scale': 0.00010711231183095555}. \n"
     ]
    },
    {
     "name": "stdout",
     "output_type": "stream",
     "text": [
      "History:  [{'loss': 0.7062, 'learning_rate': 6.069728102120817e-05, 'epoch': 0.97, 'step': 24}, {'eval_loss': 0.6625911593437195, 'eval_accuracy': 0.6616161616161617, 'eval_runtime': 5.1685, 'eval_samples_per_second': 76.618, 'eval_steps_per_second': 9.674, 'epoch': 0.97, 'step': 24}, {'loss': 0.628, 'learning_rate': 0.0001239236154183, 'epoch': 1.98, 'step': 49}, {'eval_loss': 0.6010782122612, 'eval_accuracy': 0.7348484848484849, 'eval_runtime': 4.6572, 'eval_samples_per_second': 85.029, 'eval_steps_per_second': 10.736, 'epoch': 1.98, 'step': 49}, {'loss': 0.5715, 'learning_rate': 0.0001161212167054674, 'epoch': 2.99, 'step': 74}, {'eval_loss': 0.5615253448486328, 'eval_accuracy': 0.7575757575757576, 'eval_runtime': 4.6529, 'eval_samples_per_second': 85.108, 'eval_steps_per_second': 10.746, 'epoch': 2.99, 'step': 74}, {'loss': 0.5407, 'learning_rate': 9.863308165946326e-05, 'epoch': 4.0, 'step': 99}, {'eval_loss': 0.5472946166992188, 'eval_accuracy': 0.7575757575757576, 'eval_runtime': 4.6438, 'eval_samples_per_second': 85.276, 'eval_steps_per_second': 10.767, 'epoch': 4.0, 'step': 99}, {'loss': 0.5409, 'learning_rate': 8.184447201529931e-05, 'epoch': 4.97, 'step': 123}, {'eval_loss': 0.5397454500198364, 'eval_accuracy': 0.7525252525252525, 'eval_runtime': 4.6183, 'eval_samples_per_second': 85.745, 'eval_steps_per_second': 10.826, 'epoch': 4.97, 'step': 123}, {'loss': 0.5079, 'learning_rate': 6.435633696929518e-05, 'epoch': 5.98, 'step': 148}, {'eval_loss': 0.5337393283843994, 'eval_accuracy': 0.7651515151515151, 'eval_runtime': 4.6116, 'eval_samples_per_second': 85.871, 'eval_steps_per_second': 10.842, 'epoch': 5.98, 'step': 148}, {'loss': 0.4984, 'learning_rate': 4.6868201923291055e-05, 'epoch': 6.99, 'step': 173}, {'eval_loss': 0.5318725109100342, 'eval_accuracy': 0.7651515151515151, 'eval_runtime': 4.6091, 'eval_samples_per_second': 85.918, 'eval_steps_per_second': 10.848, 'epoch': 6.99, 'step': 173}, {'loss': 0.494, 'learning_rate': 2.938006687728693e-05, 'epoch': 8.0, 'step': 198}, {'eval_loss': 0.5306740403175354, 'eval_accuracy': 0.76010101010101, 'eval_runtime': 4.6107, 'eval_samples_per_second': 85.888, 'eval_steps_per_second': 10.844, 'epoch': 8.0, 'step': 198}, {'loss': 0.5108, 'learning_rate': 1.259145723312297e-05, 'epoch': 8.97, 'step': 222}, {'eval_loss': 0.5299950242042542, 'eval_accuracy': 0.7651515151515151, 'eval_runtime': 4.6109, 'eval_samples_per_second': 85.883, 'eval_steps_per_second': 10.844, 'epoch': 8.97, 'step': 222}, {'loss': 0.4716, 'learning_rate': 0.0, 'epoch': 9.7, 'step': 240}, {'eval_loss': 0.5298375487327576, 'eval_accuracy': 0.7651515151515151, 'eval_runtime': 4.6087, 'eval_samples_per_second': 85.924, 'eval_steps_per_second': 10.849, 'epoch': 9.7, 'step': 240}, {'train_runtime': 392.8973, 'train_samples_per_second': 40.316, 'train_steps_per_second': 0.611, 'total_flos': 3788829317099520.0, 'train_loss': 0.5487248818079631, 'epoch': 9.7, 'step': 240}, {'eval_loss': 0.5306740403175354, 'eval_accuracy': 0.76010101010101, 'eval_runtime': 4.6085, 'eval_samples_per_second': 85.929, 'eval_steps_per_second': 10.85, 'epoch': 9.7, 'step': 240}]\n"
     ]
    },
    {
     "name": "stderr",
     "output_type": "stream",
     "text": [
      "/home/ubuntu/data/miniconda3/envs/finetune-dephos/lib/python3.9/site-packages/huggingface_hub/file_download.py:1132: FutureWarning: `resume_download` is deprecated and will be removed in version 1.0.0. Downloads always resume when possible. If you want to force a new download, use `force_download=True`.\n",
      "  warnings.warn(\n"
     ]
    },
    {
     "name": "stdout",
     "output_type": "stream",
     "text": [
      "ProtT5_Classfier\n",
      "Trainable Parameter: 1209193475.0\n",
      "ProtT5_DoRA_Classfier\n",
      "Trainable Parameter: 1200131.0\n",
      "\n"
     ]
    },
    {
     "name": "stderr",
     "output_type": "stream",
     "text": [
      "/home/ubuntu/data/miniconda3/envs/finetune-dephos/lib/python3.9/site-packages/accelerate/accelerator.py:446: FutureWarning: Passing the following arguments to `Accelerator` is deprecated and will be removed in version 1.0 of Accelerate: dict_keys(['dispatch_batches', 'split_batches']). Please pass an `accelerate.DataLoaderConfiguration` instead: \n",
      "dataloader_config = DataLoaderConfiguration(dispatch_batches=None, split_batches=False)\n",
      "  warnings.warn(\n"
     ]
    },
    {
     "data": {
      "text/html": [
       "\n",
       "    <div>\n",
       "      \n",
       "      <progress value='198' max='240' style='width:300px; height:20px; vertical-align: middle;'></progress>\n",
       "      [198/240 05:20 < 01:08, 0.61 it/s, Epoch 8/10]\n",
       "    </div>\n",
       "    <table border=\"1\" class=\"dataframe\">\n",
       "  <thead>\n",
       " <tr style=\"text-align: left;\">\n",
       "      <th>Epoch</th>\n",
       "      <th>Training Loss</th>\n",
       "      <th>Validation Loss</th>\n",
       "      <th>Accuracy</th>\n",
       "    </tr>\n",
       "  </thead>\n",
       "  <tbody>\n",
       "    <tr>\n",
       "      <td>0</td>\n",
       "      <td>0.740900</td>\n",
       "      <td>0.649120</td>\n",
       "      <td>0.702020</td>\n",
       "    </tr>\n",
       "    <tr>\n",
       "      <td>1</td>\n",
       "      <td>0.667500</td>\n",
       "      <td>0.585013</td>\n",
       "      <td>0.739899</td>\n",
       "    </tr>\n",
       "    <tr>\n",
       "      <td>2</td>\n",
       "      <td>0.624400</td>\n",
       "      <td>0.556326</td>\n",
       "      <td>0.752525</td>\n",
       "    </tr>\n",
       "    <tr>\n",
       "      <td>4</td>\n",
       "      <td>0.632800</td>\n",
       "      <td>0.543253</td>\n",
       "      <td>0.752525</td>\n",
       "    </tr>\n",
       "    <tr>\n",
       "      <td>5</td>\n",
       "      <td>0.641200</td>\n",
       "      <td>0.546679</td>\n",
       "      <td>0.737374</td>\n",
       "    </tr>\n",
       "    <tr>\n",
       "      <td>6</td>\n",
       "      <td>0.637200</td>\n",
       "      <td>0.548079</td>\n",
       "      <td>0.742424</td>\n",
       "    </tr>\n",
       "    <tr>\n",
       "      <td>8</td>\n",
       "      <td>0.646400</td>\n",
       "      <td>0.554283</td>\n",
       "      <td>0.727273</td>\n",
       "    </tr>\n",
       "  </tbody>\n",
       "</table><p>"
      ],
      "text/plain": [
       "<IPython.core.display.HTML object>"
      ]
     },
     "metadata": {},
     "output_type": "display_data"
    },
    {
     "name": "stdout",
     "output_type": "stream",
     "text": [
      "Saved improved model to ./model_output/finetuned_model_all_dora.pth\n",
      "Saved improved model to ./model_output/finetuned_model_all_dora.pth\n",
      "Saved improved model to ./model_output/finetuned_model_all_dora.pth\n",
      "Saved improved model to ./model_output/finetuned_model_all_dora.pth\n",
      "Saved improved model to ./model_output/finetuned_model_all_dora.pth\n",
      "Stopping early at epoch 8.0: No improvement in loss or accuracy for 3 evaluations.\n",
      "Loaded best model from ./model_output/finetuned_model_all_dora.pth\n"
     ]
    },
    {
     "data": {
      "text/html": [
       "\n",
       "    <div>\n",
       "      \n",
       "      <progress value='50' max='50' style='width:300px; height:20px; vertical-align: middle;'></progress>\n",
       "      [50/50 00:04]\n",
       "    </div>\n",
       "    "
      ],
      "text/plain": [
       "<IPython.core.display.HTML object>"
      ]
     },
     "metadata": {},
     "output_type": "display_data"
    },
    {
     "name": "stdout",
     "output_type": "stream",
     "text": [
      "Stopping early at epoch 8.0: No improvement in loss or accuracy for 3 evaluations.\n",
      "{'eval_loss': 0.5432525277137756, 'eval_accuracy': 0.7525252525252525, 'eval_runtime': 4.6163, 'eval_samples_per_second': 85.783, 'eval_steps_per_second': 10.831, 'epoch': 8.0}\n"
     ]
    },
    {
     "name": "stderr",
     "output_type": "stream",
     "text": [
      "[I 2024-06-09 02:39:02,141] Trial 46 finished with values: [0.5432525277137756, 0.7525252525252525] and parameters: {'lr': 0.009076947146403141, 'batch': 8, 'accum': 8, 'dropout_rate': 0.8656608521821488, 'weight_decay': 0.00015724556501590112, 'warmup_pct': 0.2904387414291622, 'dora_rank': 20, 'dora_init_scale': 0.0003906205232607386}. \n"
     ]
    },
    {
     "name": "stdout",
     "output_type": "stream",
     "text": [
      "History:  [{'loss': 0.7409, 'learning_rate': 0.00037886388089334856, 'epoch': 0.97, 'step': 24}, {'eval_loss': 0.6491201519966125, 'eval_accuracy': 0.702020202020202, 'eval_runtime': 5.1074, 'eval_samples_per_second': 77.534, 'eval_steps_per_second': 9.79, 'epoch': 0.97, 'step': 24}, {'loss': 0.6675, 'learning_rate': 0.0007735137568239199, 'epoch': 1.98, 'step': 49}, {'eval_loss': 0.5850126147270203, 'eval_accuracy': 0.73989898989899, 'eval_runtime': 4.649, 'eval_samples_per_second': 85.18, 'eval_steps_per_second': 10.755, 'epoch': 1.98, 'step': 49}, {'loss': 0.6244, 'learning_rate': 0.0011681636327544912, 'epoch': 2.99, 'step': 74}, {'eval_loss': 0.5563259720802307, 'eval_accuracy': 0.7525252525252525, 'eval_runtime': 4.6544, 'eval_samples_per_second': 85.081, 'eval_steps_per_second': 10.743, 'epoch': 2.99, 'step': 74}, {'loss': 0.6179, 'learning_rate': 0.0015628135086850625, 'epoch': 4.0, 'step': 99}, {'eval_loss': 0.5461607575416565, 'eval_accuracy': 0.7424242424242424, 'eval_runtime': 4.6188, 'eval_samples_per_second': 85.736, 'eval_steps_per_second': 10.825, 'epoch': 4.0, 'step': 99}, {'loss': 0.6328, 'learning_rate': 0.0019416773895784111, 'epoch': 4.97, 'step': 123}, {'eval_loss': 0.5432525277137756, 'eval_accuracy': 0.7525252525252525, 'eval_runtime': 4.6138, 'eval_samples_per_second': 85.83, 'eval_steps_per_second': 10.837, 'epoch': 4.97, 'step': 123}, {'loss': 0.6412, 'learning_rate': 0.0023363272655089824, 'epoch': 5.98, 'step': 148}, {'eval_loss': 0.5466794967651367, 'eval_accuracy': 0.7373737373737373, 'eval_runtime': 4.6132, 'eval_samples_per_second': 85.841, 'eval_steps_per_second': 10.839, 'epoch': 5.98, 'step': 148}, {'loss': 0.6372, 'learning_rate': 0.0027309771414395535, 'epoch': 6.99, 'step': 173}, {'eval_loss': 0.5480794906616211, 'eval_accuracy': 0.7424242424242424, 'eval_runtime': 4.6115, 'eval_samples_per_second': 85.872, 'eval_steps_per_second': 10.842, 'epoch': 6.99, 'step': 173}, {'loss': 0.6464, 'learning_rate': 0.003125627017370125, 'epoch': 8.0, 'step': 198}, {'eval_loss': 0.554282546043396, 'eval_accuracy': 0.7272727272727273, 'eval_runtime': 4.6189, 'eval_samples_per_second': 85.736, 'eval_steps_per_second': 10.825, 'epoch': 8.0, 'step': 198}, {'train_runtime': 322.4059, 'train_samples_per_second': 49.131, 'train_steps_per_second': 0.744, 'total_flos': 3125784186607104.0, 'train_loss': 0.6506898812573365, 'epoch': 8.0, 'step': 198}, {'eval_loss': 0.5432525277137756, 'eval_accuracy': 0.7525252525252525, 'eval_runtime': 4.6163, 'eval_samples_per_second': 85.783, 'eval_steps_per_second': 10.831, 'epoch': 8.0, 'step': 198}]\n"
     ]
    },
    {
     "name": "stderr",
     "output_type": "stream",
     "text": [
      "/home/ubuntu/data/miniconda3/envs/finetune-dephos/lib/python3.9/site-packages/huggingface_hub/file_download.py:1132: FutureWarning: `resume_download` is deprecated and will be removed in version 1.0.0. Downloads always resume when possible. If you want to force a new download, use `force_download=True`.\n",
      "  warnings.warn(\n"
     ]
    },
    {
     "name": "stdout",
     "output_type": "stream",
     "text": [
      "ProtT5_Classfier\n",
      "Trainable Parameter: 1209193475.0\n",
      "ProtT5_DoRA_Classfier\n",
      "Trainable Parameter: 1200131.0\n",
      "\n"
     ]
    },
    {
     "name": "stderr",
     "output_type": "stream",
     "text": [
      "/home/ubuntu/data/miniconda3/envs/finetune-dephos/lib/python3.9/site-packages/accelerate/accelerator.py:446: FutureWarning: Passing the following arguments to `Accelerator` is deprecated and will be removed in version 1.0 of Accelerate: dict_keys(['dispatch_batches', 'split_batches']). Please pass an `accelerate.DataLoaderConfiguration` instead: \n",
      "dataloader_config = DataLoaderConfiguration(dispatch_batches=None, split_batches=False)\n",
      "  warnings.warn(\n"
     ]
    },
    {
     "data": {
      "text/html": [
       "\n",
       "    <div>\n",
       "      \n",
       "      <progress value='396' max='490' style='width:300px; height:20px; vertical-align: middle;'></progress>\n",
       "      [396/490 06:32 < 01:33, 1.00 it/s, Epoch 8/10]\n",
       "    </div>\n",
       "    <table border=\"1\" class=\"dataframe\">\n",
       "  <thead>\n",
       " <tr style=\"text-align: left;\">\n",
       "      <th>Epoch</th>\n",
       "      <th>Training Loss</th>\n",
       "      <th>Validation Loss</th>\n",
       "      <th>Accuracy</th>\n",
       "    </tr>\n",
       "  </thead>\n",
       "  <tbody>\n",
       "    <tr>\n",
       "      <td>0</td>\n",
       "      <td>0.660900</td>\n",
       "      <td>0.574322</td>\n",
       "      <td>0.734848</td>\n",
       "    </tr>\n",
       "    <tr>\n",
       "      <td>2</td>\n",
       "      <td>0.521200</td>\n",
       "      <td>0.547317</td>\n",
       "      <td>0.714646</td>\n",
       "    </tr>\n",
       "    <tr>\n",
       "      <td>4</td>\n",
       "      <td>0.507200</td>\n",
       "      <td>0.513863</td>\n",
       "      <td>0.739899</td>\n",
       "    </tr>\n",
       "    <tr>\n",
       "      <td>6</td>\n",
       "      <td>0.522800</td>\n",
       "      <td>0.541091</td>\n",
       "      <td>0.752525</td>\n",
       "    </tr>\n",
       "    <tr>\n",
       "      <td>8</td>\n",
       "      <td>0.456900</td>\n",
       "      <td>0.542365</td>\n",
       "      <td>0.722222</td>\n",
       "    </tr>\n",
       "  </tbody>\n",
       "</table><p>"
      ],
      "text/plain": [
       "<IPython.core.display.HTML object>"
      ]
     },
     "metadata": {},
     "output_type": "display_data"
    },
    {
     "name": "stdout",
     "output_type": "stream",
     "text": [
      "Saved improved model to ./model_output/finetuned_model_all_dora.pth\n",
      "Saved improved model to ./model_output/finetuned_model_all_dora.pth\n",
      "Saved improved model to ./model_output/finetuned_model_all_dora.pth\n",
      "Stopping early at epoch 8.0: No improvement in loss or accuracy for 3 evaluations.\n",
      "Loaded best model from ./model_output/finetuned_model_all_dora.pth\n"
     ]
    },
    {
     "data": {
      "text/html": [
       "\n",
       "    <div>\n",
       "      \n",
       "      <progress value='50' max='50' style='width:300px; height:20px; vertical-align: middle;'></progress>\n",
       "      [50/50 00:04]\n",
       "    </div>\n",
       "    "
      ],
      "text/plain": [
       "<IPython.core.display.HTML object>"
      ]
     },
     "metadata": {},
     "output_type": "display_data"
    },
    {
     "name": "stdout",
     "output_type": "stream",
     "text": [
      "Stopping early at epoch 8.0: No improvement in loss or accuracy for 3 evaluations.\n",
      "{'eval_loss': 0.5138625502586365, 'eval_accuracy': 0.73989898989899, 'eval_runtime': 4.6412, 'eval_samples_per_second': 85.322, 'eval_steps_per_second': 10.773, 'epoch': 8.0}\n"
     ]
    },
    {
     "name": "stderr",
     "output_type": "stream",
     "text": [
      "[I 2024-06-09 02:46:57,941] Trial 47 finished with values: [0.5138625502586365, 0.73989898989899] and parameters: {'lr': 0.001904894000421922, 'batch': 4, 'accum': 8, 'dropout_rate': 0.47431182371502245, 'weight_decay': 0.00035765291163419573, 'warmup_pct': 0.08892722718737328, 'dora_rank': 16, 'dora_init_scale': 0.053273172385758925}. \n"
     ]
    },
    {
     "name": "stdout",
     "output_type": "stream",
     "text": [
      "History:  [{'loss': 0.6609, 'learning_rate': 0.0002651699034678243, 'epoch': 0.99, 'step': 49}, {'eval_loss': 0.5743219256401062, 'eval_accuracy': 0.7348484848484849, 'eval_runtime': 5.1611, 'eval_samples_per_second': 76.728, 'eval_steps_per_second': 9.688, 'epoch': 0.99, 'step': 49}, {'loss': 0.5477, 'learning_rate': 0.0005357514376186656, 'epoch': 2.0, 'step': 99}, {'eval_loss': 0.5315291881561279, 'eval_accuracy': 0.7525252525252525, 'eval_runtime': 4.6668, 'eval_samples_per_second': 84.855, 'eval_steps_per_second': 10.714, 'epoch': 2.0, 'step': 99}, {'loss': 0.5212, 'learning_rate': 0.0008009213410864899, 'epoch': 2.99, 'step': 148}, {'eval_loss': 0.5473173260688782, 'eval_accuracy': 0.7146464646464646, 'eval_runtime': 4.6076, 'eval_samples_per_second': 85.944, 'eval_steps_per_second': 10.852, 'epoch': 2.99, 'step': 148}, {'loss': 0.4943, 'learning_rate': 0.0010715028752373312, 'epoch': 4.0, 'step': 198}, {'eval_loss': 0.5503821969032288, 'eval_accuracy': 0.73989898989899, 'eval_runtime': 4.6025, 'eval_samples_per_second': 86.04, 'eval_steps_per_second': 10.864, 'epoch': 4.0, 'step': 198}, {'loss': 0.5072, 'learning_rate': 0.0013366727787051554, 'epoch': 4.99, 'step': 247}, {'eval_loss': 0.5138625502586365, 'eval_accuracy': 0.73989898989899, 'eval_runtime': 4.4642, 'eval_samples_per_second': 88.705, 'eval_steps_per_second': 11.2, 'epoch': 4.99, 'step': 247}, {'loss': 0.5157, 'learning_rate': 0.0016072543128559966, 'epoch': 6.0, 'step': 297}, {'eval_loss': 0.5369869470596313, 'eval_accuracy': 0.7348484848484849, 'eval_runtime': 4.4661, 'eval_samples_per_second': 88.668, 'eval_steps_per_second': 11.195, 'epoch': 6.0, 'step': 297}, {'loss': 0.5228, 'learning_rate': 0.001872424216323821, 'epoch': 6.99, 'step': 346}, {'eval_loss': 0.5410908460617065, 'eval_accuracy': 0.7525252525252525, 'eval_runtime': 4.4854, 'eval_samples_per_second': 88.287, 'eval_steps_per_second': 11.147, 'epoch': 6.99, 'step': 346}, {'loss': 0.4569, 'learning_rate': 0.0012975364930410194, 'epoch': 8.0, 'step': 396}, {'eval_loss': 0.5423654317855835, 'eval_accuracy': 0.7222222222222222, 'eval_runtime': 4.6291, 'eval_samples_per_second': 85.545, 'eval_steps_per_second': 10.801, 'epoch': 8.0, 'step': 396}, {'train_runtime': 393.735, 'train_samples_per_second': 40.23, 'train_steps_per_second': 1.244, 'total_flos': 3125784186607104.0, 'train_loss': 0.5280761622419261, 'epoch': 8.0, 'step': 396}, {'eval_loss': 0.5138625502586365, 'eval_accuracy': 0.73989898989899, 'eval_runtime': 4.6412, 'eval_samples_per_second': 85.322, 'eval_steps_per_second': 10.773, 'epoch': 8.0, 'step': 396}]\n"
     ]
    },
    {
     "name": "stderr",
     "output_type": "stream",
     "text": [
      "/home/ubuntu/data/miniconda3/envs/finetune-dephos/lib/python3.9/site-packages/huggingface_hub/file_download.py:1132: FutureWarning: `resume_download` is deprecated and will be removed in version 1.0.0. Downloads always resume when possible. If you want to force a new download, use `force_download=True`.\n",
      "  warnings.warn(\n"
     ]
    },
    {
     "name": "stdout",
     "output_type": "stream",
     "text": [
      "ProtT5_Classfier\n",
      "Trainable Parameter: 1209193475.0\n",
      "ProtT5_DoRA_Classfier\n",
      "Trainable Parameter: 1200131.0\n",
      "\n"
     ]
    },
    {
     "name": "stderr",
     "output_type": "stream",
     "text": [
      "/home/ubuntu/data/miniconda3/envs/finetune-dephos/lib/python3.9/site-packages/accelerate/accelerator.py:446: FutureWarning: Passing the following arguments to `Accelerator` is deprecated and will be removed in version 1.0 of Accelerate: dict_keys(['dispatch_batches', 'split_batches']). Please pass an `accelerate.DataLoaderConfiguration` instead: \n",
      "dataloader_config = DataLoaderConfiguration(dispatch_batches=None, split_batches=False)\n",
      "  warnings.warn(\n"
     ]
    },
    {
     "data": {
      "text/html": [
       "\n",
       "    <div>\n",
       "      \n",
       "      <progress value='5544' max='7920' style='width:300px; height:20px; vertical-align: middle;'></progress>\n",
       "      [5544/7920 14:26 < 06:11, 6.40 it/s, Epoch 7/10]\n",
       "    </div>\n",
       "    <table border=\"1\" class=\"dataframe\">\n",
       "  <thead>\n",
       " <tr style=\"text-align: left;\">\n",
       "      <th>Epoch</th>\n",
       "      <th>Training Loss</th>\n",
       "      <th>Validation Loss</th>\n",
       "      <th>Accuracy</th>\n",
       "    </tr>\n",
       "  </thead>\n",
       "  <tbody>\n",
       "    <tr>\n",
       "      <td>1</td>\n",
       "      <td>0.644100</td>\n",
       "      <td>0.611261</td>\n",
       "      <td>0.737374</td>\n",
       "    </tr>\n",
       "    <tr>\n",
       "      <td>2</td>\n",
       "      <td>0.763300</td>\n",
       "      <td>0.758126</td>\n",
       "      <td>0.737374</td>\n",
       "    </tr>\n",
       "    <tr>\n",
       "      <td>3</td>\n",
       "      <td>0.854600</td>\n",
       "      <td>0.906452</td>\n",
       "      <td>0.750000</td>\n",
       "    </tr>\n",
       "    <tr>\n",
       "      <td>4</td>\n",
       "      <td>0.931400</td>\n",
       "      <td>0.855007</td>\n",
       "      <td>0.757576</td>\n",
       "    </tr>\n",
       "    <tr>\n",
       "      <td>5</td>\n",
       "      <td>0.859200</td>\n",
       "      <td>1.176341</td>\n",
       "      <td>0.742424</td>\n",
       "    </tr>\n",
       "    <tr>\n",
       "      <td>6</td>\n",
       "      <td>0.816900</td>\n",
       "      <td>1.023396</td>\n",
       "      <td>0.737374</td>\n",
       "    </tr>\n",
       "    <tr>\n",
       "      <td>7</td>\n",
       "      <td>0.766200</td>\n",
       "      <td>1.059105</td>\n",
       "      <td>0.747475</td>\n",
       "    </tr>\n",
       "  </tbody>\n",
       "</table><p>"
      ],
      "text/plain": [
       "<IPython.core.display.HTML object>"
      ]
     },
     "metadata": {},
     "output_type": "display_data"
    },
    {
     "name": "stdout",
     "output_type": "stream",
     "text": [
      "Saved improved model to ./model_output/finetuned_model_all_dora.pth\n",
      "Saved improved model to ./model_output/finetuned_model_all_dora.pth\n",
      "Saved improved model to ./model_output/finetuned_model_all_dora.pth\n",
      "Stopping early at epoch 7.0: No improvement in loss or accuracy for 3 evaluations.\n",
      "Loaded best model from ./model_output/finetuned_model_all_dora.pth\n"
     ]
    },
    {
     "data": {
      "text/html": [
       "\n",
       "    <div>\n",
       "      \n",
       "      <progress value='50' max='50' style='width:300px; height:20px; vertical-align: middle;'></progress>\n",
       "      [50/50 00:04]\n",
       "    </div>\n",
       "    "
      ],
      "text/plain": [
       "<IPython.core.display.HTML object>"
      ]
     },
     "metadata": {},
     "output_type": "display_data"
    },
    {
     "name": "stdout",
     "output_type": "stream",
     "text": [
      "Stopping early at epoch 7.0: No improvement in loss or accuracy for 3 evaluations.\n",
      "{'eval_loss': 0.8550066947937012, 'eval_accuracy': 0.7575757575757576, 'eval_runtime': 4.6124, 'eval_samples_per_second': 85.856, 'eval_steps_per_second': 10.84, 'epoch': 7.0}\n"
     ]
    },
    {
     "name": "stderr",
     "output_type": "stream",
     "text": [
      "[I 2024-06-09 03:02:52,651] Trial 48 finished with values: [0.8550066947937012, 0.7575757575757576] and parameters: {'lr': 0.0010545873439114742, 'batch': 1, 'accum': 2, 'dropout_rate': 0.6082326303754246, 'weight_decay': 0.0002191583526532891, 'warmup_pct': 0.17917544990934522, 'dora_rank': 32, 'dora_init_scale': 0.014825544304134845}. \n"
     ]
    },
    {
     "name": "stdout",
     "output_type": "stream",
     "text": [
      "History:  [{'loss': 0.6441, 'learning_rate': 0.0002943034448125044, 'epoch': 1.0, 'step': 792}, {'eval_loss': 0.6112609505653381, 'eval_accuracy': 0.7373737373737373, 'eval_runtime': 5.1647, 'eval_samples_per_second': 76.674, 'eval_steps_per_second': 9.681, 'epoch': 1.0, 'step': 792}, {'loss': 0.7633, 'learning_rate': 0.0005886068896250088, 'epoch': 2.0, 'step': 1584}, {'eval_loss': 0.7581256628036499, 'eval_accuracy': 0.7373737373737373, 'eval_runtime': 4.6526, 'eval_samples_per_second': 85.114, 'eval_steps_per_second': 10.747, 'epoch': 2.0, 'step': 1584}, {'loss': 0.8546, 'learning_rate': 0.0008829103344375134, 'epoch': 3.0, 'step': 2376}, {'eval_loss': 0.9064523577690125, 'eval_accuracy': 0.75, 'eval_runtime': 4.6737, 'eval_samples_per_second': 84.73, 'eval_steps_per_second': 10.698, 'epoch': 3.0, 'step': 2376}, {'loss': 0.9314, 'learning_rate': 0.000986107646254885, 'epoch': 4.0, 'step': 3168}, {'eval_loss': 0.8550066947937012, 'eval_accuracy': 0.7575757575757576, 'eval_runtime': 4.6327, 'eval_samples_per_second': 85.479, 'eval_steps_per_second': 10.793, 'epoch': 4.0, 'step': 3168}, {'loss': 0.8592, 'learning_rate': 0.0008217563718790708, 'epoch': 5.0, 'step': 3960}, {'eval_loss': 1.1763410568237305, 'eval_accuracy': 0.7424242424242424, 'eval_runtime': 4.6404, 'eval_samples_per_second': 85.337, 'eval_steps_per_second': 10.775, 'epoch': 5.0, 'step': 3960}, {'loss': 0.8169, 'learning_rate': 0.0006574050975032567, 'epoch': 6.0, 'step': 4752}, {'eval_loss': 1.0233960151672363, 'eval_accuracy': 0.7373737373737373, 'eval_runtime': 4.6406, 'eval_samples_per_second': 85.334, 'eval_steps_per_second': 10.774, 'epoch': 6.0, 'step': 4752}, {'loss': 0.7662, 'learning_rate': 0.0004930538231274425, 'epoch': 7.0, 'step': 5544}, {'eval_loss': 1.0591049194335938, 'eval_accuracy': 0.7474747474747475, 'eval_runtime': 4.6533, 'eval_samples_per_second': 85.101, 'eval_steps_per_second': 10.745, 'epoch': 7.0, 'step': 5544}, {'train_runtime': 866.7217, 'train_samples_per_second': 18.276, 'train_steps_per_second': 9.138, 'total_flos': 2735061163281216.0, 'train_loss': 0.8050966083917439, 'epoch': 7.0, 'step': 5544}, {'eval_loss': 0.8550066947937012, 'eval_accuracy': 0.7575757575757576, 'eval_runtime': 4.6124, 'eval_samples_per_second': 85.856, 'eval_steps_per_second': 10.84, 'epoch': 7.0, 'step': 5544}]\n"
     ]
    },
    {
     "name": "stderr",
     "output_type": "stream",
     "text": [
      "/home/ubuntu/data/miniconda3/envs/finetune-dephos/lib/python3.9/site-packages/huggingface_hub/file_download.py:1132: FutureWarning: `resume_download` is deprecated and will be removed in version 1.0.0. Downloads always resume when possible. If you want to force a new download, use `force_download=True`.\n",
      "  warnings.warn(\n"
     ]
    },
    {
     "name": "stdout",
     "output_type": "stream",
     "text": [
      "ProtT5_Classfier\n",
      "Trainable Parameter: 1209193475.0\n",
      "ProtT5_DoRA_Classfier\n",
      "Trainable Parameter: 1200131.0\n",
      "\n"
     ]
    },
    {
     "name": "stderr",
     "output_type": "stream",
     "text": [
      "/home/ubuntu/data/miniconda3/envs/finetune-dephos/lib/python3.9/site-packages/accelerate/accelerator.py:446: FutureWarning: Passing the following arguments to `Accelerator` is deprecated and will be removed in version 1.0 of Accelerate: dict_keys(['dispatch_batches', 'split_batches']). Please pass an `accelerate.DataLoaderConfiguration` instead: \n",
      "dataloader_config = DataLoaderConfiguration(dispatch_batches=None, split_batches=False)\n",
      "  warnings.warn(\n"
     ]
    },
    {
     "data": {
      "text/html": [
       "\n",
       "    <div>\n",
       "      \n",
       "      <progress value='490' max='490' style='width:300px; height:20px; vertical-align: middle;'></progress>\n",
       "      [490/490 06:40, Epoch 9/10]\n",
       "    </div>\n",
       "    <table border=\"1\" class=\"dataframe\">\n",
       "  <thead>\n",
       " <tr style=\"text-align: left;\">\n",
       "      <th>Epoch</th>\n",
       "      <th>Training Loss</th>\n",
       "      <th>Validation Loss</th>\n",
       "      <th>Accuracy</th>\n",
       "    </tr>\n",
       "  </thead>\n",
       "  <tbody>\n",
       "    <tr>\n",
       "      <td>0</td>\n",
       "      <td>0.719500</td>\n",
       "      <td>0.696661</td>\n",
       "      <td>0.472222</td>\n",
       "    </tr>\n",
       "    <tr>\n",
       "      <td>2</td>\n",
       "      <td>0.714000</td>\n",
       "      <td>0.690547</td>\n",
       "      <td>0.489899</td>\n",
       "    </tr>\n",
       "    <tr>\n",
       "      <td>4</td>\n",
       "      <td>0.704800</td>\n",
       "      <td>0.679713</td>\n",
       "      <td>0.613636</td>\n",
       "    </tr>\n",
       "    <tr>\n",
       "      <td>6</td>\n",
       "      <td>0.695200</td>\n",
       "      <td>0.666135</td>\n",
       "      <td>0.659091</td>\n",
       "    </tr>\n",
       "    <tr>\n",
       "      <td>8</td>\n",
       "      <td>0.675500</td>\n",
       "      <td>0.650890</td>\n",
       "      <td>0.674242</td>\n",
       "    </tr>\n",
       "    <tr>\n",
       "      <td>9</td>\n",
       "      <td>0.661500</td>\n",
       "      <td>0.648284</td>\n",
       "      <td>0.676768</td>\n",
       "    </tr>\n",
       "  </tbody>\n",
       "</table><p>"
      ],
      "text/plain": [
       "<IPython.core.display.HTML object>"
      ]
     },
     "metadata": {},
     "output_type": "display_data"
    },
    {
     "name": "stdout",
     "output_type": "stream",
     "text": [
      "Saved improved model to ./model_output/finetuned_model_all_dora.pth\n",
      "Saved improved model to ./model_output/finetuned_model_all_dora.pth\n",
      "Saved improved model to ./model_output/finetuned_model_all_dora.pth\n",
      "Saved improved model to ./model_output/finetuned_model_all_dora.pth\n",
      "Saved improved model to ./model_output/finetuned_model_all_dora.pth\n",
      "Saved improved model to ./model_output/finetuned_model_all_dora.pth\n",
      "Saved improved model to ./model_output/finetuned_model_all_dora.pth\n",
      "Saved improved model to ./model_output/finetuned_model_all_dora.pth\n",
      "Saved improved model to ./model_output/finetuned_model_all_dora.pth\n",
      "Saved improved model to ./model_output/finetuned_model_all_dora.pth\n",
      "Loaded best model from ./model_output/finetuned_model_all_dora.pth\n"
     ]
    },
    {
     "data": {
      "text/html": [
       "\n",
       "    <div>\n",
       "      \n",
       "      <progress value='50' max='50' style='width:300px; height:20px; vertical-align: middle;'></progress>\n",
       "      [50/50 00:04]\n",
       "    </div>\n",
       "    "
      ],
      "text/plain": [
       "<IPython.core.display.HTML object>"
      ]
     },
     "metadata": {},
     "output_type": "display_data"
    },
    {
     "name": "stdout",
     "output_type": "stream",
     "text": [
      "{'eval_loss': 0.6482838988304138, 'eval_accuracy': 0.6767676767676768, 'eval_runtime': 4.6062, 'eval_samples_per_second': 85.972, 'eval_steps_per_second': 10.855, 'epoch': 9.9}\n"
     ]
    },
    {
     "name": "stderr",
     "output_type": "stream",
     "text": [
      "[I 2024-06-09 03:11:00,798] Trial 49 finished with values: [0.6482838988304138, 0.6767676767676768] and parameters: {'lr': 1.3115957496573265e-05, 'batch': 8, 'accum': 4, 'dropout_rate': 0.7490840784488857, 'weight_decay': 0.00017070788041978846, 'warmup_pct': 0.21701716335460758, 'dora_rank': 20, 'dora_init_scale': 0.005734589902635784}. \n"
     ]
    },
    {
     "name": "stdout",
     "output_type": "stream",
     "text": [
      "History:  [{'loss': 0.7195, 'learning_rate': 1.4980930473941492e-06, 'epoch': 0.99, 'step': 49}, {'eval_loss': 0.6966609954833984, 'eval_accuracy': 0.4722222222222222, 'eval_runtime': 5.0888, 'eval_samples_per_second': 77.819, 'eval_steps_per_second': 9.826, 'epoch': 0.99, 'step': 49}, {'loss': 0.7012, 'learning_rate': 3.0267594222861383e-06, 'epoch': 2.0, 'step': 99}, {'eval_loss': 0.6942778825759888, 'eval_accuracy': 0.48484848484848486, 'eval_runtime': 4.6103, 'eval_samples_per_second': 85.895, 'eval_steps_per_second': 10.845, 'epoch': 2.0, 'step': 99}, {'loss': 0.714, 'learning_rate': 4.524852469680287e-06, 'epoch': 2.99, 'step': 148}, {'eval_loss': 0.6905474662780762, 'eval_accuracy': 0.4898989898989899, 'eval_runtime': 4.6077, 'eval_samples_per_second': 85.942, 'eval_steps_per_second': 10.851, 'epoch': 2.99, 'step': 148}, {'loss': 0.6983, 'learning_rate': 6.0535188445722765e-06, 'epoch': 4.0, 'step': 198}, {'eval_loss': 0.6855732202529907, 'eval_accuracy': 0.5580808080808081, 'eval_runtime': 4.6039, 'eval_samples_per_second': 86.014, 'eval_steps_per_second': 10.86, 'epoch': 4.0, 'step': 198}, {'loss': 0.7048, 'learning_rate': 7.551611891966426e-06, 'epoch': 4.99, 'step': 247}, {'eval_loss': 0.67971271276474, 'eval_accuracy': 0.6136363636363636, 'eval_runtime': 4.6026, 'eval_samples_per_second': 86.037, 'eval_steps_per_second': 10.863, 'epoch': 4.99, 'step': 247}, {'loss': 0.6811, 'learning_rate': 9.080278266858414e-06, 'epoch': 6.0, 'step': 297}, {'eval_loss': 0.673208475112915, 'eval_accuracy': 0.6363636363636364, 'eval_runtime': 4.6089, 'eval_samples_per_second': 85.921, 'eval_steps_per_second': 10.849, 'epoch': 6.0, 'step': 297}, {'loss': 0.6952, 'learning_rate': 1.0578371314252563e-05, 'epoch': 6.99, 'step': 346}, {'eval_loss': 0.6661353707313538, 'eval_accuracy': 0.6590909090909091, 'eval_runtime': 4.6092, 'eval_samples_per_second': 85.914, 'eval_steps_per_second': 10.848, 'epoch': 6.99, 'step': 346}, {'loss': 0.6638, 'learning_rate': 1.2107037689144553e-05, 'epoch': 8.0, 'step': 396}, {'eval_loss': 0.6582074165344238, 'eval_accuracy': 0.6616161616161617, 'eval_runtime': 4.6075, 'eval_samples_per_second': 85.946, 'eval_steps_per_second': 10.852, 'epoch': 8.0, 'step': 396}, {'loss': 0.6755, 'learning_rate': 9.675706349931097e-06, 'epoch': 8.99, 'step': 445}, {'eval_loss': 0.6508896350860596, 'eval_accuracy': 0.6742424242424242, 'eval_runtime': 4.6078, 'eval_samples_per_second': 85.941, 'eval_steps_per_second': 10.851, 'epoch': 8.99, 'step': 445}, {'loss': 0.6615, 'learning_rate': 0.0, 'epoch': 9.9, 'step': 490}, {'eval_loss': 0.6482838988304138, 'eval_accuracy': 0.6767676767676768, 'eval_runtime': 4.6081, 'eval_samples_per_second': 85.936, 'eval_steps_per_second': 10.85, 'epoch': 9.9, 'step': 490}, {'train_runtime': 400.9244, 'train_samples_per_second': 39.509, 'train_steps_per_second': 1.222, 'total_flos': 3867763261205760.0, 'train_loss': 0.6916824185118383, 'epoch': 9.9, 'step': 490}, {'eval_loss': 0.6482838988304138, 'eval_accuracy': 0.6767676767676768, 'eval_runtime': 4.6062, 'eval_samples_per_second': 85.972, 'eval_steps_per_second': 10.855, 'epoch': 9.9, 'step': 490}]\n",
      "Loss: 0.5298455357551575, Accuracy: 0.7777777777777778\n",
      "Loss: 0.5183744430541992, Accuracy: 0.7727272727272727\n",
      "Loss: 0.5138625502586365, Accuracy: 0.73989898989899\n"
     ]
    }
   ],
   "source": [
    "import optuna\n",
    "\n",
    "def objective(trial):\n",
    "    # Hyperparameters to be optimized\n",
    "    # Updated to use suggest_float with log=True for loguniform distribution\n",
    "    lr = trial.suggest_float('lr', 1e-5, 1e-2, log=True)\n",
    "    batch = trial.suggest_categorical('batch', [1, 2, 4, 8])\n",
    "    accum = trial.suggest_categorical('accum', [2, 4, 8])\n",
    "    # Updated to use suggest_float for uniform distribution\n",
    "    dropout = trial.suggest_float('dropout_rate', 0.1, 0.9)\n",
    "    weight_decay = trial.suggest_float('weight_decay', 1e-5, 1e-3, log=True)\n",
    "    warmup_pct = trial.suggest_float(\"warmup_pct\", 0.01, 0.3)  # Warmup percentage between 1% and 30%\n",
    "    dora_rank = trial.suggest_int('dora_rank', 4, 32, step=4)\n",
    "    dora_init_scale = trial.suggest_float('dora_init_scale', 1e-4, 1e-1, log=True)\n",
    "\n",
    "    # Training and evaluation\n",
    "    tokenizer, model, history = train_per_protein(\n",
    "        train_dataset=train_set, \n",
    "        valid_dataset=valid_set, \n",
    "        num_labels=2, \n",
    "        batch=batch, \n",
    "        accum=accum, \n",
    "        epochs=10,  # Fewer epochs for the trial runs\n",
    "        lr=lr,\n",
    "        dropout=dropout,\n",
    "        weight_decay=weight_decay,\n",
    "        warmup_pct=warmup_pct,\n",
    "        dora_rank=dora_rank,\n",
    "        dora_init_scale=dora_init_scale,\n",
    "    )\n",
    "    \n",
    "    # Clear GPU memory\n",
    "    # torch.cuda.empty_cache()\n",
    "    \n",
    "    print(\"History: \", history)\n",
    "    \n",
    "    # Extract the last validation accuracy from the history\n",
    "    val_accuracy = [entry['eval_accuracy'] for entry in history if 'eval_accuracy' in entry][-1]\n",
    "    val_loss = [entry['eval_loss'] for entry in history if 'eval_loss' in entry][-1]\n",
    "    return val_loss, val_accuracy\n",
    "\n",
    "directions=['minimize', 'maximize']  # Set the direction to maximize the validation accuracy, can also be 'minimize'\n",
    "study = optuna.create_study(directions=directions,\n",
    "                            storage=\"sqlite:///all_dephos_withDORA_datasetloader.sqlite3\",  # Specify the storage URL here.\n",
    "                            study_name=\"all_dephos_withDORA_datasetloader\")\n",
    "study.optimize(objective, n_trials=50)  # Adjust the number of trials based on your computational resources\n",
    "\n",
    "# Analyzing results\n",
    "pareto_front = study.best_trials  # Get the Pareto front (best non-dominated solutions)\n",
    "for trial in pareto_front:\n",
    "    print(f\"Loss: {trial.values[0]}, Accuracy: {trial.values[1]}\")  # Note the negation of accuracy\n",
    "\n",
    "# print(\"Best trial:\")\n",
    "# print(\"  Value: \", study.best_trial.value)\n",
    "# print(\"  Params: \")\n",
    "# for key, value in study.best_trial.params.items():\n",
    "#     print(f\"    {key}: {value}\")\n"
   ]
  },
  {
   "cell_type": "code",
   "execution_count": 15,
   "id": "3a28d3c1-8e24-4437-a1d9-dda9cefccfd7",
   "metadata": {
    "execution": {
     "iopub.execute_input": "2024-04-05T14:04:37.168731Z",
     "iopub.status.busy": "2024-04-05T14:04:37.168220Z",
     "iopub.status.idle": "2024-04-05T14:04:38.081706Z",
     "shell.execute_reply": "2024-04-05T14:04:38.080275Z",
     "shell.execute_reply.started": "2024-04-05T14:04:37.168675Z"
    },
    "tags": []
   },
   "outputs": [
    {
     "data": {
      "image/png": "[encoded data removed]",
      "text/plain": [
       "<Figure size 1000x500 with 2 Axes>"
      ]
     },
     "metadata": {},
     "output_type": "display_data"
    }
   ],
   "source": [
    "# Get loss, val_loss, and the computed metric from history\n",
    "loss = [x['loss'] for x in history if 'loss' in x]\n",
    "val_loss = [x['eval_loss'] for x in history if 'eval_loss' in x]\n",
    "\n",
    "# Truncate the longer list to the size of the shorter one\n",
    "min_length = min(len(loss), len(val_loss))\n",
    "loss = loss[:min_length]\n",
    "val_loss = val_loss[:min_length]\n",
    "\n",
    "# Get spearman (for regression) or accuracy value (for classification)\n",
    "if [x['eval_spearmanr'] for x in history if 'eval_spearmanr' in x] != []:\n",
    "    metric = [x['eval_spearmanr'] for x in history if 'eval_spearmanr' in x]\n",
    "else:\n",
    "    metric = [x['eval_accuracy'] for x in history if 'eval_accuracy' in x]\n",
    "\n",
    "epochs = [x['epoch'] for x in history if 'loss' in x]\n",
    "\n",
    "# Create a figure with two y-axes\n",
    "fig, ax1 = plt.subplots(figsize=(10, 5))\n",
    "ax2 = ax1.twinx()\n",
    "\n",
    "# Plot loss and val_loss on the first y-axis\n",
    "line1 = ax1.plot(epochs, loss, label='train_loss')\n",
    "line2 = ax1.plot(epochs, val_loss, label='validation_loss')\n",
    "ax1.set_xlabel('Epoch')\n",
    "ax1.set_ylabel('Loss')\n",
    "\n",
    "# Plot the computed metric on the second y-axis\n",
    "#line3 = ax2.plot(epochs, metric, color='red', label='validation_metric')\n",
    "ax2.set_ylabel('Metric')\n",
    "ax2.set_ylim([0, 1])\n",
    "\n",
    "# Add grid lines\n",
    "ax1.grid(True)\n",
    "ax2.grid(True)\n",
    "\n",
    "# Combine the lines from both y-axes and create a single legend\n",
    "lines = line1 + line2 \n",
    "labels = [line.get_label() for line in lines]\n",
    "ax1.legend(lines, labels, loc='lower left')\n",
    "\n",
    "# Show the plot\n",
    "plt.title(\"Training History for fine-tuning\")\n",
    "plt.savefig(f\"../Plots/Without_3rdline_Training_History_new.pdf\")\n",
    "plt.show()"
   ]
  },
  {
   "cell_type": "markdown",
   "id": "c09bdab8",
   "metadata": {},
   "source": [
    "dropout_rate 0.24107261119395096\n",
    "\n",
    "dora_rank 24\n",
    "\n",
    "dora_init_scale 0.00035088954398140827"
   ]
  },
  {
   "cell_type": "code",
   "execution_count": 17,
   "id": "ccb1bbda-d70e-4b4c-a8d4-24600495171a",
   "metadata": {
    "execution": {
     "iopub.execute_input": "2024-04-05T14:04:38.083526Z",
     "iopub.status.busy": "2024-04-05T14:04:38.083162Z",
     "iopub.status.idle": "2024-04-05T14:04:38.092729Z",
     "shell.execute_reply": "2024-04-05T14:04:38.091278Z",
     "shell.execute_reply.started": "2024-04-05T14:04:38.083490Z"
    },
    "tags": []
   },
   "outputs": [],
   "source": [
    "def save_model(model,filepath):\n",
    "# Saves all parameters that were changed during finetuning\n",
    "\n",
    "    # Create a dictionary to hold the non-frozen parameters\n",
    "    non_frozen_params = {}\n",
    "\n",
    "    # Iterate through all the model parameters\n",
    "    for param_name, param in model.named_parameters():\n",
    "        # If the parameter has requires_grad=True, add it to the dictionary\n",
    "        if param.requires_grad:\n",
    "            non_frozen_params[param_name] = param\n",
    "\n",
    "    # Save only the finetuned parameters \n",
    "    torch.save(non_frozen_params, filepath)\n",
    "\n",
    "    \n",
    "def load_model(filepath, num_labels=2):\n",
    "# Creates a new PT5 model and loads the finetuned weights from a file\n",
    "\n",
    "    # load a new model\n",
    "    model, tokenizer = PT5_classification_model(num_labels=num_labels, dropout=0.24107261119395096, dora_rank=24, dora_init_scale=0.00035088954398140827)\n",
    "    \n",
    "    # Load the non-frozen parameters from the saved file\n",
    "    non_frozen_params = torch.load(filepath)\n",
    "\n",
    "    # Assign the non-frozen parameters to the corresponding parameters of the model\n",
    "    for param_name, param in model.named_parameters():\n",
    "        if param_name in non_frozen_params:\n",
    "            param.data = non_frozen_params[param_name].data\n",
    "\n",
    "    return tokenizer, model"
   ]
  },
  {
   "cell_type": "code",
   "execution_count": 18,
   "id": "7c97fa52-3aea-42e8-b72f-c4bb84808576",
   "metadata": {
    "execution": {
     "iopub.execute_input": "2024-04-05T14:05:24.020589Z",
     "iopub.status.busy": "2024-04-05T14:05:24.019788Z",
     "iopub.status.idle": "2024-04-05T14:08:10.428922Z",
     "shell.execute_reply": "2024-04-05T14:08:10.426805Z",
     "shell.execute_reply.started": "2024-04-05T14:05:24.020524Z"
    },
    "tags": []
   },
   "outputs": [
    {
     "name": "stderr",
     "output_type": "stream",
     "text": [
      "/home/ubuntu/data/miniconda3/envs/finetune-dephos/lib/python3.9/site-packages/huggingface_hub/file_download.py:1132: FutureWarning: `resume_download` is deprecated and will be removed in version 1.0.0. Downloads always resume when possible. If you want to force a new download, use `force_download=True`.\n",
      "  warnings.warn(\n"
     ]
    },
    {
     "name": "stdout",
     "output_type": "stream",
     "text": [
      "ProtT5_Classfier\n",
      "Trainable Parameter: 1209193475.0\n",
      "ProtT5_DoRA_Classfier\n",
      "Trainable Parameter: 1200131.0\n",
      "\n"
     ]
    }
   ],
   "source": [
    "# tokenizer, model_reload = load_model(\"../finetuned_model.pth\", num_labels=2)\n",
    "tokenizer, model_reload = load_model(\"model_output/finetuned_model_all_dora.pth\",num_labels=2)"
   ]
  },
  {
   "cell_type": "code",
   "execution_count": 19,
   "id": "b2c20e75-5f40-4ca1-9579-5df49b738fd6",
   "metadata": {
    "execution": {
     "iopub.execute_input": "2024-04-05T14:08:10.432313Z",
     "iopub.status.busy": "2024-04-05T14:08:10.431835Z",
     "iopub.status.idle": "2024-04-05T14:08:19.838631Z",
     "shell.execute_reply": "2024-04-05T14:08:19.836988Z",
     "shell.execute_reply.started": "2024-04-05T14:08:10.432274Z"
    },
    "tags": []
   },
   "outputs": [
    {
     "name": "stdout",
     "output_type": "stream",
     "text": [
      "Models have identical weights\n"
     ]
    }
   ],
   "source": [
    "# Put both models to the same device\n",
    "model=model.to(\"cpu\")\n",
    "model_reload=model_reload.to(\"cpu\")\n",
    "\n",
    "# Iterate through the parameters of the two models and compare the data\n",
    "for param1, param2 in zip(model.parameters(), model_reload.parameters()):\n",
    "    if not torch.equal(param1.data, param2.data):\n",
    "        print(\"Models have different weights\")\n",
    "        break\n",
    "else:\n",
    "    print(\"Models have identical weights\")"
   ]
  },
  {
   "cell_type": "code",
   "execution_count": null,
   "id": "60a62aae",
   "metadata": {},
   "outputs": [],
   "source": [
    "# model = from_pretrained(\"model_output\")"
   ]
  },
  {
   "cell_type": "code",
   "execution_count": 20,
   "id": "50b8a403-e7c5-4912-9c7a-f404c060c32a",
   "metadata": {
    "execution": {
     "iopub.execute_input": "2024-04-05T14:08:19.841225Z",
     "iopub.status.busy": "2024-04-05T14:08:19.840752Z",
     "iopub.status.idle": "2024-04-05T14:08:19.864579Z",
     "shell.execute_reply": "2024-04-05T14:08:19.862993Z",
     "shell.execute_reply.started": "2024-04-05T14:08:19.841173Z"
    },
    "tags": []
   },
   "outputs": [
    {
     "data": {
      "text/html": [
       "<div>\n",
       "<style scoped>\n",
       "    .dataframe tbody tr th:only-of-type {\n",
       "        vertical-align: middle;\n",
       "    }\n",
       "\n",
       "    .dataframe tbody tr th {\n",
       "        vertical-align: top;\n",
       "    }\n",
       "\n",
       "    .dataframe thead th {\n",
       "        text-align: right;\n",
       "    }\n",
       "</style>\n",
       "<table border=\"1\" class=\"dataframe\">\n",
       "  <thead>\n",
       "    <tr style=\"text-align: right;\">\n",
       "      <th></th>\n",
       "      <th>name</th>\n",
       "      <th>sequence</th>\n",
       "      <th>label</th>\n",
       "    </tr>\n",
       "  </thead>\n",
       "  <tbody>\n",
       "    <tr>\n",
       "      <th>0</th>\n",
       "      <td>sp|Q8WUI4|HDAC7_HUMAN%342%358</td>\n",
       "      <td>ERLSGSGLHWPLSRTRSEPLPPSATAPPPPGPM</td>\n",
       "      <td>1</td>\n",
       "    </tr>\n",
       "    <tr>\n",
       "      <th>1</th>\n",
       "      <td>sp|Q13950|RUNX2_HUMAN%416%432</td>\n",
       "      <td>THYHTYLPPPYPGSSQSQSGPFQTSSTPYLYYG</td>\n",
       "      <td>1</td>\n",
       "    </tr>\n",
       "    <tr>\n",
       "      <th>2</th>\n",
       "      <td>sp|Q15796|SMAD2_HUMAN%229%245</td>\n",
       "      <td>DGETSDQQLNQSMDTGSPAELSPTTLSPVNHSL</td>\n",
       "      <td>1</td>\n",
       "    </tr>\n",
       "    <tr>\n",
       "      <th>3</th>\n",
       "      <td>sp|P05787|K2C8_HUMAN%416%432</td>\n",
       "      <td>TSGYAGGLSSAYGGLTSPGLSYSLGSSFGSGAG</td>\n",
       "      <td>1</td>\n",
       "    </tr>\n",
       "    <tr>\n",
       "      <th>4</th>\n",
       "      <td>sp|Q92736|RYR2_HUMAN%2798%2814</td>\n",
       "      <td>MALYNRTRRISQTSQVSVDAAHGYSPRAIDMSN</td>\n",
       "      <td>1</td>\n",
       "    </tr>\n",
       "  </tbody>\n",
       "</table>\n",
       "</div>"
      ],
      "text/plain": [
       "                             name                           sequence  label\n",
       "0   sp|Q8WUI4|HDAC7_HUMAN%342%358  ERLSGSGLHWPLSRTRSEPLPPSATAPPPPGPM      1\n",
       "1   sp|Q13950|RUNX2_HUMAN%416%432  THYHTYLPPPYPGSSQSQSGPFQTSSTPYLYYG      1\n",
       "2   sp|Q15796|SMAD2_HUMAN%229%245  DGETSDQQLNQSMDTGSPAELSPTTLSPVNHSL      1\n",
       "3    sp|P05787|K2C8_HUMAN%416%432  TSGYAGGLSSAYGGLTSPGLSYSLGSSFGSGAG      1\n",
       "4  sp|Q92736|RYR2_HUMAN%2798%2814  MALYNRTRRISQTSQVSVDAAHGYSPRAIDMSN      1"
      ]
     },
     "execution_count": 20,
     "metadata": {},
     "output_type": "execute_result"
    }
   ],
   "source": [
    "from Bio import SeqIO\n",
    "import pandas as pd\n",
    "\n",
    "sequences = []\n",
    "\n",
    "local_fasta_path = '../src/input_datasets/test_Pos_Neg_ST.fasta'\n",
    "\n",
    "# Load FASTA file using Biopython\n",
    "for record in SeqIO.parse(local_fasta_path, \"fasta\"):\n",
    "    # Split the description to extract label\n",
    "    description_parts = record.description.split(\"%\")\n",
    "    label = int(description_parts[-1].split(\"LABEL=\")[1])  # Extracting the numeric part of the label\n",
    "    sequences.append([record.name, str(record.seq), label])\n",
    "    \n",
    "local_fasta_path = '../src/input_datasets/test_Pos_Neg_Y.fasta'\n",
    "\n",
    "# Load FASTA file using Biopython\n",
    "for record in SeqIO.parse(local_fasta_path, \"fasta\"):\n",
    "    # Split the description to extract label\n",
    "    description_parts = record.description.split(\"%\")\n",
    "    label = int(description_parts[-1].split(\"LABEL=\")[1])  # Extracting the numeric part of the label\n",
    "    sequences.append([record.name, str(record.seq), label])\n",
    "\n",
    "# Create dataframe\n",
    "df = pd.DataFrame(sequences, columns=[\"name\", \"sequence\", \"label\"])\n",
    "\n",
    "# Display the dataframe\n",
    "df.head(5)\n"
   ]
  },
  {
   "cell_type": "code",
   "execution_count": 21,
   "id": "d2d18716-fd26-49fe-9ba4-b84c936a364c",
   "metadata": {
    "execution": {
     "iopub.execute_input": "2024-04-05T14:08:19.867076Z",
     "iopub.status.busy": "2024-04-05T14:08:19.866598Z",
     "iopub.status.idle": "2024-04-05T14:08:19.887853Z",
     "shell.execute_reply": "2024-04-05T14:08:19.886215Z",
     "shell.execute_reply.started": "2024-04-05T14:08:19.867024Z"
    },
    "tags": []
   },
   "outputs": [
    {
     "name": "stdout",
     "output_type": "stream",
     "text": [
      "                            sequence  label\n",
      "0  ERLSGSGLHWPLSRTRSEPLPPSATAPPPPGPM      1\n",
      "1  THYHTYLPPPYPGSSQSQSGPFQTSSTPYLYYG      1\n",
      "2  DGETSDQQLNQSMDTGSPAELSPTTLSPVNHSL      1\n",
      "3  TSGYAGGLSSAYGGLTSPGLSYSLGSSFGSGAG      1\n",
      "4  MALYNRTRRISQTSQVSVDAAHGYSPRAIDMSN      1\n"
     ]
    }
   ],
   "source": [
    "my_test=df[[\"sequence\", \"label\"]]\n",
    "\n",
    "print(my_test.head(5))\n",
    "\n",
    "'''\n",
    "my_test[\"sequence\"]=my_test[\"sequence\"].str.replace('|'.join([\"O\",\"B\",\"U\",\"Z\"]),\"X\",regex=True)\n",
    "my_test['sequence']=my_test.apply(lambda row : \" \".join(row[\"sequence\"]), axis = 1)\n",
    "'''\n",
    "\n",
    "#Using .loc ensures that you are modifying the original DataFrame rather than a view of it, which helps avoid the SettingWithCopyWarning.\n",
    "# Replace characters in the \"sequence\" column\n",
    "my_test.loc[:, \"sequence\"] = my_test[\"sequence\"].str.replace('|'.join([\"O\", \"B\", \"U\", \"Z\"]), \"X\", regex=True)\n",
    "\n",
    "# Convert each sequence to a space-separated string\n",
    "my_test.loc[:, 'sequence'] = my_test.apply(lambda row: \" \".join(row[\"sequence\"]), axis=1)\n"
   ]
  },
  {
   "cell_type": "code",
   "execution_count": 22,
   "id": "eee8fe3a",
   "metadata": {},
   "outputs": [],
   "source": [
    "# Function to get the middle character\n",
    "def get_middle_char(sequence):\n",
    "    chars = sequence.split()\n",
    "    middle_index = len(chars) // 2\n",
    "    return chars[middle_index]\n",
    "\n",
    "# Apply the function to get the middle characters\n",
    "my_test['middle_char'] = my_test['sequence'].apply(get_middle_char)\n",
    "\n",
    "# Split the DataFrame\n",
    "my_test_S = my_test[my_test['middle_char'] == 'S'].drop(columns=['middle_char'])\n",
    "my_test_T = my_test[my_test['middle_char'] == 'T'].drop(columns=['middle_char'])\n",
    "my_test_Y = my_test[my_test['middle_char'] == 'Y'].drop(columns=['middle_char'])\n",
    "my_test_ST = my_test[my_test['middle_char'].isin(['S', 'T'])].drop(columns=['middle_char'])"
   ]
  },
  {
   "cell_type": "code",
   "execution_count": 23,
   "id": "fcd9ee79",
   "metadata": {},
   "outputs": [],
   "source": [
    "my_test = my_test_Y"
   ]
  },
  {
   "cell_type": "code",
   "execution_count": 24,
   "id": "d0dff151-a667-4717-af18-401818bc4c22",
   "metadata": {
    "execution": {
     "iopub.execute_input": "2024-04-05T14:08:19.889951Z",
     "iopub.status.busy": "2024-04-05T14:08:19.889601Z",
     "iopub.status.idle": "2024-04-05T14:08:22.641629Z",
     "shell.execute_reply": "2024-04-05T14:08:22.639919Z",
     "shell.execute_reply.started": "2024-04-05T14:08:19.889916Z"
    },
    "tags": []
   },
   "outputs": [
    {
     "name": "stderr",
     "output_type": "stream",
     "text": [
      "100%|█████████████████████████████████████████████████████████████████████████████████| 4/4 [00:00<00:00,  6.48it/s]\n"
     ]
    },
    {
     "name": "stdout",
     "output_type": "stream",
     "text": [
      "+----------+---------------+---------------+------------+-----------+\n",
      "|      MCC |   Specificity |   Sensitivity |   Accuracy |   ROC-AUC |\n",
      "+==========+===============+===============+============+===========+\n",
      "| 0.720577 |      0.846154 |         0.875 |       0.86 |  0.926282 |\n",
      "+----------+---------------+---------------+------------+-----------+\n",
      "[[22  4]\n",
      " [ 3 21]]\n"
     ]
    }
   ],
   "source": [
    "from sklearn.metrics import confusion_matrix, matthews_corrcoef, roc_auc_score\n",
    "from tabulate import tabulate\n",
    "\n",
    "# Set the device to use\n",
    "device = torch.device('cuda') if torch.cuda.is_available() else torch.device('cpu')\n",
    "model_reload.to(device)\n",
    "\n",
    "# create Dataset\n",
    "test_set=create_dataset(tokenizer,list(my_test['sequence']),list(my_test['label']))\n",
    "# make compatible with torch DataLoader\n",
    "test_set = test_set.with_format(\"torch\", device=device)\n",
    "\n",
    "# Create a dataloader for the test dataset\n",
    "test_dataloader = DataLoader(test_set, batch_size=16, shuffle=False)\n",
    "\n",
    "# Put the model in evaluation mode\n",
    "model_reload.eval()\n",
    "\n",
    "# Make predictions on the test dataset\n",
    "raw_logits = []\n",
    "labels = []\n",
    "with torch.no_grad():\n",
    "    for batch in tqdm(test_dataloader):\n",
    "        input_ids = batch['input_ids'].to(device)\n",
    "        attention_mask = batch['attention_mask'].to(device)\n",
    "        # add batch results (logits) to predictions\n",
    "        raw_logits += model_reload(input_ids, attention_mask=attention_mask).logits.tolist()\n",
    "        labels += batch[\"labels\"].tolist()\n",
    "\n",
    "# Convert logits to predictions\n",
    "raw_logits = np.array(raw_logits)\n",
    "predictions = np.argmax(raw_logits, axis=1)\n",
    "\n",
    "# Calculate metrics\n",
    "conf_matrix = confusion_matrix(labels, predictions)\n",
    "tn, fp, fn, tp = conf_matrix.ravel()\n",
    "\n",
    "mcc = matthews_corrcoef(labels, predictions)\n",
    "specificity = tn / (tn + fp)\n",
    "sensitivity = tp / (tp + fn)\n",
    "accuracy = accuracy_score(labels, predictions)\n",
    "roc_auc = roc_auc_score(labels, raw_logits[:, 1])  # Assuming binary classification, adjust accordingly\n",
    "\n",
    "\n",
    "metrics_table = [\n",
    "    [\"MCC\", \"Specificity\", \"Sensitivity\", \"Accuracy\", \"ROC-AUC\"],\n",
    "    [mcc, specificity, sensitivity, accuracy, roc_auc]\n",
    "]\n",
    "\n",
    "print(tabulate(metrics_table, headers=\"firstrow\", tablefmt=\"grid\"))\n",
    "print(conf_matrix)\n"
   ]
  },
  {
   "cell_type": "code",
   "execution_count": 25,
   "id": "9ce2f51a-887c-4684-82b9-22ea5fffd334",
   "metadata": {
    "execution": {
     "iopub.execute_input": "2024-04-05T14:08:22.647264Z",
     "iopub.status.busy": "2024-04-05T14:08:22.646121Z",
     "iopub.status.idle": "2024-04-05T14:08:23.557189Z",
     "shell.execute_reply": "2024-04-05T14:08:23.555594Z",
     "shell.execute_reply.started": "2024-04-05T14:08:22.647207Z"
    },
    "tags": []
   },
   "outputs": [
    {
     "data": {
      "image/png": "[encoded data removed]",
      "text/plain": [
       "<Figure size 800x600 with 2 Axes>"
      ]
     },
     "metadata": {},
     "output_type": "display_data"
    }
   ],
   "source": [
    "import seaborn as sns\n",
    "import matplotlib.pyplot as plt\n",
    "\n",
    "# Define class labels\n",
    "class_labels = ['0', '1']\n",
    "\n",
    "# Plot confusion matrix\n",
    "plt.figure(figsize=(8, 6))\n",
    "sns.heatmap(conf_matrix, annot=True, fmt='d', cmap='Blues', xticklabels=class_labels, yticklabels=class_labels)\n",
    "plt.xlabel('Predicted')\n",
    "plt.ylabel('Actual')\n",
    "plt.title('Confusion Matrix')\n",
    "plt.savefig(f\"../Plots/Confusion_matrix_for_dephos_new.pdf\")\n",
    "plt.show()\n"
   ]
  },
  {
   "cell_type": "code",
   "execution_count": 26,
   "id": "07603226",
   "metadata": {},
   "outputs": [],
   "source": [
    "my_test = my_test_ST"
   ]
  },
  {
   "cell_type": "code",
   "execution_count": 27,
   "id": "b5e0d80c",
   "metadata": {},
   "outputs": [
    {
     "name": "stderr",
     "output_type": "stream",
     "text": [
      "100%|███████████████████████████████████████████████████████████████████████████████| 28/28 [00:03<00:00,  7.43it/s]"
     ]
    },
    {
     "name": "stdout",
     "output_type": "stream",
     "text": [
      "+----------+---------------+---------------+------------+-----------+\n",
      "|      MCC |   Specificity |   Sensitivity |   Accuracy |   ROC-AUC |\n",
      "+==========+===============+===============+============+===========+\n",
      "| 0.619497 |      0.834821 |      0.783784 |   0.809417 |  0.865006 |\n",
      "+----------+---------------+---------------+------------+-----------+\n",
      "[[187  37]\n",
      " [ 48 174]]\n"
     ]
    },
    {
     "name": "stderr",
     "output_type": "stream",
     "text": [
      "\n"
     ]
    }
   ],
   "source": [
    "from sklearn.metrics import confusion_matrix, matthews_corrcoef, roc_auc_score\n",
    "from tabulate import tabulate\n",
    "\n",
    "# Set the device to use\n",
    "device = torch.device('cuda') if torch.cuda.is_available() else torch.device('cpu')\n",
    "model_reload.to(device)\n",
    "\n",
    "# create Dataset\n",
    "test_set=create_dataset(tokenizer,list(my_test['sequence']),list(my_test['label']))\n",
    "# make compatible with torch DataLoader\n",
    "test_set = test_set.with_format(\"torch\", device=device)\n",
    "\n",
    "# Create a dataloader for the test dataset\n",
    "test_dataloader = DataLoader(test_set, batch_size=16, shuffle=False)\n",
    "\n",
    "# Put the model in evaluation mode\n",
    "model_reload.eval()\n",
    "\n",
    "# Make predictions on the test dataset\n",
    "raw_logits = []\n",
    "labels = []\n",
    "with torch.no_grad():\n",
    "    for batch in tqdm(test_dataloader):\n",
    "        input_ids = batch['input_ids'].to(device)\n",
    "        attention_mask = batch['attention_mask'].to(device)\n",
    "        # add batch results (logits) to predictions\n",
    "        raw_logits += model_reload(input_ids, attention_mask=attention_mask).logits.tolist()\n",
    "        labels += batch[\"labels\"].tolist()\n",
    "\n",
    "# Convert logits to predictions\n",
    "raw_logits = np.array(raw_logits)\n",
    "predictions = np.argmax(raw_logits, axis=1)\n",
    "\n",
    "# Calculate metrics\n",
    "conf_matrix = confusion_matrix(labels, predictions)\n",
    "tn, fp, fn, tp = conf_matrix.ravel()\n",
    "\n",
    "mcc = matthews_corrcoef(labels, predictions)\n",
    "specificity = tn / (tn + fp)\n",
    "sensitivity = tp / (tp + fn)\n",
    "accuracy = accuracy_score(labels, predictions)\n",
    "roc_auc = roc_auc_score(labels, raw_logits[:, 1])  # Assuming binary classification, adjust accordingly\n",
    "\n",
    "\n",
    "metrics_table = [\n",
    "    [\"MCC\", \"Specificity\", \"Sensitivity\", \"Accuracy\", \"ROC-AUC\"],\n",
    "    [mcc, specificity, sensitivity, accuracy, roc_auc]\n",
    "]\n",
    "\n",
    "print(tabulate(metrics_table, headers=\"firstrow\", tablefmt=\"grid\"))\n",
    "print(conf_matrix)\n"
   ]
  },
  {
   "cell_type": "code",
   "execution_count": 20,
   "id": "5c5528dc-6e06-456d-920f-8f05055d0b8b",
   "metadata": {},
   "outputs": [],
   "source": [
    "import umap\n",
    "\n",
    "def apply_umap(embeddings, n_components=2, n_neighbors=5, min_dist=0.01, metric='euclidean'):\n",
    "    umap_model = umap.UMAP(\n",
    "        n_components=n_components,\n",
    "        n_neighbors=n_neighbors,\n",
    "        min_dist=min_dist,\n",
    "        metric=metric\n",
    "    )\n",
    "    umap_embeddings = umap_model.fit_transform(embeddings)\n",
    "    return umap_embeddings\n",
    "\n",
    "import matplotlib.pyplot as plt\n",
    "import seaborn as sns\n",
    "import pandas as pd\n",
    "\n",
    "def plot_umap(embeddings, labels):\n",
    "    df = pd.DataFrame({\n",
    "        \"UMAP1\": embeddings[:, 0],\n",
    "        \"UMAP2\": embeddings[:, 1],\n",
    "        \"Label\": labels\n",
    "    })\n",
    "    plt.figure(figsize=(10, 8))\n",
    "    scatter = sns.scatterplot(\n",
    "        x=\"UMAP1\", y=\"UMAP2\", hue=\"Label\", data=df, palette={0: \"blue\", 1: \"magenta\"}, s=50, alpha=0.9\n",
    "    )\n",
    "    plt.title(\"UMAP Visualization of Embeddings\")\n",
    "    plt.legend(title='Label', bbox_to_anchor=(1.05, 1), loc=2)\n",
    "    plt.savefig(\"../Plots/UMAP_Visualization_of_Embeddings_ST.pdf\", bbox_inches='tight')\n",
    "    plt.show()\n",
    "    \n",
    "def get_embeddings(model, tokenizer, sequences, batch_size=32, device=\"cuda\"):\n",
    "    embeddings = []\n",
    "    model = model.to(device)\n",
    "    model.eval()\n",
    "\n",
    "    for i in range(0, len(sequences), batch_size):\n",
    "        batch = sequences[i:i + batch_size]\n",
    "        inputs = tokenizer(batch, return_tensors=\"pt\", padding=True, truncation=True, max_length=512).to(device)\n",
    "\n",
    "        with torch.no_grad():\n",
    "            outputs = model(**inputs)\n",
    "            hidden_states = outputs.hidden_states[-2].detach().cpu().numpy()\n",
    "            embeddings.extend(hidden_states[:, 0, :])\n",
    "\n",
    "        print(f\"Processed batch {i // batch_size + 1}/{len(sequences) // batch_size + 1}\")\n",
    "\n",
    "    return np.array(embeddings)"
   ]
  },
  {
   "cell_type": "code",
   "execution_count": 38,
   "id": "7718f400",
   "metadata": {},
   "outputs": [],
   "source": [
    "# Function to get the middle character\n",
    "def get_middle_char(sequence):\n",
    "    chars = list(sequence)\n",
    "    middle_index = len(chars) // 2\n",
    "    return chars[middle_index]\n",
    "\n",
    "valid_df = df\n",
    "\n",
    "# Apply the function to get the middle characters\n",
    "valid_df['middle_char'] = valid_df['sequence'].apply(get_middle_char)\n",
    "\n",
    "valid_df = valid_df[valid_df['middle_char'] == 'T'].drop(columns=['middle_char'])"
   ]
  },
  {
   "cell_type": "code",
   "execution_count": 39,
   "id": "a162964f",
   "metadata": {},
   "outputs": [
    {
     "data": {
      "text/html": [
       "<div>\n",
       "<style scoped>\n",
       "    .dataframe tbody tr th:only-of-type {\n",
       "        vertical-align: middle;\n",
       "    }\n",
       "\n",
       "    .dataframe tbody tr th {\n",
       "        vertical-align: top;\n",
       "    }\n",
       "\n",
       "    .dataframe thead th {\n",
       "        text-align: right;\n",
       "    }\n",
       "</style>\n",
       "<table border=\"1\" class=\"dataframe\">\n",
       "  <thead>\n",
       "    <tr style=\"text-align: right;\">\n",
       "      <th></th>\n",
       "      <th>name</th>\n",
       "      <th>sequence</th>\n",
       "      <th>label</th>\n",
       "    </tr>\n",
       "  </thead>\n",
       "  <tbody>\n",
       "    <tr>\n",
       "      <th>180</th>\n",
       "      <td>sp|Q9GZM8|NDEL1_HUMAN%203%219</td>\n",
       "      <td>CEKMDSAVQASLSLPATPVGKGTENTFPSPKAI</td>\n",
       "      <td>1</td>\n",
       "    </tr>\n",
       "    <tr>\n",
       "      <th>181</th>\n",
       "      <td>sp|Q8N163|CCAR2_HUMAN%438%454</td>\n",
       "      <td>EWEALCQQKAAEAAPPTQEAQGETEPTEQAPDA</td>\n",
       "      <td>1</td>\n",
       "    </tr>\n",
       "    <tr>\n",
       "      <th>182</th>\n",
       "      <td>sp|P10636-8|TAU_HUMAN%196%212</td>\n",
       "      <td>GYSSPGSPGTPGSRSRTPSLPTPPTREPKKVAV</td>\n",
       "      <td>1</td>\n",
       "    </tr>\n",
       "    <tr>\n",
       "      <th>183</th>\n",
       "      <td>sp|Q02241|KIF23_HUMAN%434%450</td>\n",
       "      <td>QEVEVARPVDKAICGLTPGRRYRNQPRGPVGNE</td>\n",
       "      <td>1</td>\n",
       "    </tr>\n",
       "    <tr>\n",
       "      <th>184</th>\n",
       "      <td>sp|Q04206|TF65_HUMAN%419%435</td>\n",
       "      <td>QAVAPPAPKPTQAGEGTLSEALLQLQFDDEDLG</td>\n",
       "      <td>1</td>\n",
       "    </tr>\n",
       "    <tr>\n",
       "      <th>...</th>\n",
       "      <td>...</td>\n",
       "      <td>...</td>\n",
       "      <td>...</td>\n",
       "    </tr>\n",
       "    <tr>\n",
       "      <th>441</th>\n",
       "      <td>sp|Q76N33|STALP_MOUSE%326%342</td>\n",
       "      <td>ENVEELFNVQDQHGLLTLGWIHTHPTQTAFLSS</td>\n",
       "      <td>0</td>\n",
       "    </tr>\n",
       "    <tr>\n",
       "      <th>442</th>\n",
       "      <td>sp|P49790|NU153_HUMAN%1098%1114</td>\n",
       "      <td>FVLGRTEEKQQEPVTSTSLVFGKKADNEEPKCQ</td>\n",
       "      <td>0</td>\n",
       "    </tr>\n",
       "    <tr>\n",
       "      <th>443</th>\n",
       "      <td>sp|Q8NFC6|BD1L1_HUMAN%2789%2805</td>\n",
       "      <td>DVLDSRIETAQRQCPETEPHDTKEENSRDLEEL</td>\n",
       "      <td>0</td>\n",
       "    </tr>\n",
       "    <tr>\n",
       "      <th>444</th>\n",
       "      <td>sp|Q5T6F2|UBAP2_HUMAN%514%530</td>\n",
       "      <td>SKIPASAVEMPGSADVTGLNVQFGALEFGSEPS</td>\n",
       "      <td>0</td>\n",
       "    </tr>\n",
       "    <tr>\n",
       "      <th>445</th>\n",
       "      <td>sp|Q9H040|SPRTN_HUMAN%265%281</td>\n",
       "      <td>NLPSPGKLITSHAINKTQDLLNQNHSANAVRPN</td>\n",
       "      <td>0</td>\n",
       "    </tr>\n",
       "  </tbody>\n",
       "</table>\n",
       "<p>85 rows × 3 columns</p>\n",
       "</div>"
      ],
      "text/plain": [
       "                                name                           sequence  label\n",
       "180    sp|Q9GZM8|NDEL1_HUMAN%203%219  CEKMDSAVQASLSLPATPVGKGTENTFPSPKAI      1\n",
       "181    sp|Q8N163|CCAR2_HUMAN%438%454  EWEALCQQKAAEAAPPTQEAQGETEPTEQAPDA      1\n",
       "182    sp|P10636-8|TAU_HUMAN%196%212  GYSSPGSPGTPGSRSRTPSLPTPPTREPKKVAV      1\n",
       "183    sp|Q02241|KIF23_HUMAN%434%450  QEVEVARPVDKAICGLTPGRRYRNQPRGPVGNE      1\n",
       "184     sp|Q04206|TF65_HUMAN%419%435  QAVAPPAPKPTQAGEGTLSEALLQLQFDDEDLG      1\n",
       "..                               ...                                ...    ...\n",
       "441    sp|Q76N33|STALP_MOUSE%326%342  ENVEELFNVQDQHGLLTLGWIHTHPTQTAFLSS      0\n",
       "442  sp|P49790|NU153_HUMAN%1098%1114  FVLGRTEEKQQEPVTSTSLVFGKKADNEEPKCQ      0\n",
       "443  sp|Q8NFC6|BD1L1_HUMAN%2789%2805  DVLDSRIETAQRQCPETEPHDTKEENSRDLEEL      0\n",
       "444    sp|Q5T6F2|UBAP2_HUMAN%514%530  SKIPASAVEMPGSADVTGLNVQFGALEFGSEPS      0\n",
       "445    sp|Q9H040|SPRTN_HUMAN%265%281  NLPSPGKLITSHAINKTQDLLNQNHSANAVRPN      0\n",
       "\n",
       "[85 rows x 3 columns]"
      ]
     },
     "execution_count": 39,
     "metadata": {},
     "output_type": "execute_result"
    }
   ],
   "source": [
    "valid_df"
   ]
  },
  {
   "cell_type": "code",
   "execution_count": 40,
   "id": "a44d9187-1ac5-4e36-89a0-8f827a7f0077",
   "metadata": {},
   "outputs": [
    {
     "name": "stderr",
     "output_type": "stream",
     "text": [
      "/home/ubuntu/data/miniconda3/envs/finetune-dephos/lib/python3.9/site-packages/huggingface_hub/file_download.py:1132: FutureWarning: `resume_download` is deprecated and will be removed in version 1.0.0. Downloads always resume when possible. If you want to force a new download, use `force_download=True`.\n",
      "  warnings.warn(\n"
     ]
    },
    {
     "name": "stdout",
     "output_type": "stream",
     "text": [
      "ProtT5_Classfier\n",
      "Trainable Parameter: 1209193475.0\n",
      "ProtT5_LoRA_Classfier\n",
      "Trainable Parameter: 3559427.0\n",
      "\n",
      "Processed batch 1/3\n",
      "Processed batch 2/3\n",
      "Processed batch 3/3\n"
     ]
    },
    {
     "data": {
      "image/png": "[encoded data removed]",
      "text/plain": [
       "<Figure size 1000x800 with 1 Axes>"
      ]
     },
     "metadata": {},
     "output_type": "display_data"
    }
   ],
   "source": [
    "# valid_df = my_valid\n",
    "\n",
    "# tokenizer, model_reload = load_model(\"../finetuned_model.pth\", num_labels=2)\n",
    "tokenizer, model_reload = load_model(\"model_output/finetuned_model_ST.pth\",num_labels=2)\n",
    "\n",
    "valid_df[\"sequence\"] = valid_df[\"sequence\"].str.replace('|'.join([\"O\", \"B\", \"U\", \"Z\"]), \"X\", regex=True)\n",
    "valid_df[\"sequence\"] = valid_df[\"sequence\"].apply(lambda x: \" \".join(x))\n",
    "\n",
    "valid_sequences = list(valid_df['sequence'])\n",
    "valid_embeddings = get_embeddings(model_reload, tokenizer, valid_sequences)\n",
    "\n",
    "umap_embeddings = apply_umap(valid_embeddings)\n",
    "\n",
    "\n",
    "labels = list(valid_df['label'])\n",
    "\n",
    "plot_umap(umap_embeddings, labels)\n"
   ]
  },
  {
   "cell_type": "code",
   "execution_count": null,
   "id": "9f029bcf-42ef-4476-b575-3c14adb71b25",
   "metadata": {},
   "outputs": [],
   "source": []
  },
  {
   "cell_type": "code",
   "execution_count": null,
   "id": "f8da0e6c-e921-493b-9304-8ba9aad07d9c",
   "metadata": {},
   "outputs": [],
   "source": []
  }
 ],
 "metadata": {
  "kernelspec": {
   "display_name": "Python 3 (ipykernel)",
   "language": "python",
   "name": "python3"
  },
  "language_info": {
   "codemirror_mode": {
    "name": "ipython",
    "version": 3
   },
   "file_extension": ".py",
   "mimetype": "text/x-python",
   "name": "python",
   "nbconvert_exporter": "python",
   "pygments_lexer": "ipython3",
   "version": "3.9.18"
  }
 },
 "nbformat": 4,
 "nbformat_minor": 5
}
