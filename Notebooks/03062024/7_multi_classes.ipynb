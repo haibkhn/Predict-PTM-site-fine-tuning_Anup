{
 "cells": [
  {
   "cell_type": "markdown",
   "id": "9a2319a5",
   "metadata": {},
   "source": [
    "This notebook will implement multi class"
   ]
  },
  {
   "cell_type": "code",
   "execution_count": 1,
   "id": "8a377270-2995-4da1-a673-5369769a6279",
   "metadata": {
    "execution": {
     "iopub.execute_input": "2024-04-05T12:52:49.264011Z",
     "iopub.status.busy": "2024-04-05T12:52:49.263502Z",
     "iopub.status.idle": "2024-04-05T12:53:29.491461Z",
     "shell.execute_reply": "2024-04-05T12:53:29.490156Z",
     "shell.execute_reply.started": "2024-04-05T12:52:49.263956Z"
    },
    "tags": []
   },
   "outputs": [],
   "source": [
    "import os.path\n",
    "\n",
    "import torch\n",
    "import torch.nn as nn\n",
    "import torch.nn.functional as F\n",
    "from torch.nn import BCEWithLogitsLoss, CrossEntropyLoss, MSELoss\n",
    "from torch.utils.data import DataLoader\n",
    "\n",
    "import re\n",
    "import numpy as np\n",
    "import pandas as pd\n",
    "import copy\n",
    "\n",
    "import transformers, datasets\n",
    "from transformers.modeling_outputs import SequenceClassifierOutput\n",
    "from transformers.models.t5.modeling_t5 import T5Config, T5PreTrainedModel, T5Stack\n",
    "from transformers.utils.model_parallel_utils import assert_device_map, get_device_map\n",
    "from transformers import T5EncoderModel, T5Tokenizer\n",
    "from transformers import TrainingArguments, Trainer, set_seed\n",
    "\n",
    "from evaluate import load\n",
    "from datasets import Dataset\n",
    "\n",
    "from tqdm import tqdm\n",
    "import random\n",
    "\n",
    "from scipy import stats\n",
    "from sklearn.metrics import accuracy_score\n",
    "\n",
    "import matplotlib.pyplot as plt\n",
    "#!pip install umap-learn\n",
    "import umap"
   ]
  },
  {
   "cell_type": "code",
   "execution_count": 2,
   "id": "0148ff8f-80eb-4bbd-aac7-fe1f371da27a",
   "metadata": {
    "execution": {
     "iopub.execute_input": "2024-04-05T12:53:29.508233Z",
     "iopub.status.busy": "2024-04-05T12:53:29.507801Z",
     "iopub.status.idle": "2024-04-05T12:53:29.536614Z",
     "shell.execute_reply": "2024-04-05T12:53:29.514877Z",
     "shell.execute_reply.started": "2024-04-05T12:53:29.508197Z"
    },
    "tags": []
   },
   "outputs": [
    {
     "name": "stdout",
     "output_type": "stream",
     "text": [
      "Torch version:  2.3.0\n",
      "Cuda version:  None\n",
      "Numpy version:  1.26.4\n",
      "Pandas version:  2.2.2\n",
      "Transformers version:  4.40.1\n",
      "Datasets version:  2.19.0\n"
     ]
    }
   ],
   "source": [
    "print(\"Torch version: \",torch.__version__)\n",
    "print(\"Cuda version: \",torch.version.cuda)\n",
    "print(\"Numpy version: \",np.__version__)\n",
    "print(\"Pandas version: \",pd.__version__)\n",
    "print(\"Transformers version: \",transformers.__version__)\n",
    "print(\"Datasets version: \",datasets.__version__)"
   ]
  },
  {
   "cell_type": "code",
   "execution_count": 3,
   "id": "5f5f752a",
   "metadata": {},
   "outputs": [],
   "source": [
    "# df_seq = pd.read_csv('../../src/input_datasets/pdb/pdb_data_seq.csv')\n",
    "# df_char = pd.read_csv('../../src/input_datasets/pdb/pdb_data_no_dups.csv')"
   ]
  },
  {
   "cell_type": "code",
   "execution_count": 4,
   "id": "2de74755",
   "metadata": {},
   "outputs": [
    {
     "data": {
      "text/html": [
       "<div>\n",
       "<style scoped>\n",
       "    .dataframe tbody tr th:only-of-type {\n",
       "        vertical-align: middle;\n",
       "    }\n",
       "\n",
       "    .dataframe tbody tr th {\n",
       "        vertical-align: top;\n",
       "    }\n",
       "\n",
       "    .dataframe thead th {\n",
       "        text-align: right;\n",
       "    }\n",
       "</style>\n",
       "<table border=\"1\" class=\"dataframe\">\n",
       "  <thead>\n",
       "    <tr style=\"text-align: right;\">\n",
       "      <th></th>\n",
       "      <th>structureId</th>\n",
       "      <th>sequence</th>\n",
       "    </tr>\n",
       "  </thead>\n",
       "  <tbody>\n",
       "    <tr>\n",
       "      <th>4</th>\n",
       "      <td>101M</td>\n",
       "      <td>MVLSEGEWQLVLHVWAKVEADVAGHGQDILIRLFKSHPETLEKFDR...</td>\n",
       "    </tr>\n",
       "    <tr>\n",
       "      <th>7</th>\n",
       "      <td>102L</td>\n",
       "      <td>MNIFEMLRIDEGLRLKIYKDTEGYYTIGIGHLLTKSPSLNAAAKSE...</td>\n",
       "    </tr>\n",
       "    <tr>\n",
       "      <th>8</th>\n",
       "      <td>102M</td>\n",
       "      <td>MVLSEGEWQLVLHVWAKVEADVAGHGQDILIRLFKSHPETLEKFDR...</td>\n",
       "    </tr>\n",
       "    <tr>\n",
       "      <th>11</th>\n",
       "      <td>103L</td>\n",
       "      <td>MNIFEMLRIDEGLRLKIYKDTEGYYTIGIGHLLTKSPSLNSLDAAK...</td>\n",
       "    </tr>\n",
       "    <tr>\n",
       "      <th>12</th>\n",
       "      <td>103M</td>\n",
       "      <td>MVLSEGEWQLVLHVWAKVEADVAGHGQDILIRLFKSHPETLEKFDR...</td>\n",
       "    </tr>\n",
       "  </tbody>\n",
       "</table>\n",
       "</div>"
      ],
      "text/plain": [
       "   structureId                                           sequence\n",
       "4         101M  MVLSEGEWQLVLHVWAKVEADVAGHGQDILIRLFKSHPETLEKFDR...\n",
       "7         102L  MNIFEMLRIDEGLRLKIYKDTEGYYTIGIGHLLTKSPSLNAAAKSE...\n",
       "8         102M  MVLSEGEWQLVLHVWAKVEADVAGHGQDILIRLFKSHPETLEKFDR...\n",
       "11        103L  MNIFEMLRIDEGLRLKIYKDTEGYYTIGIGHLLTKSPSLNSLDAAK...\n",
       "12        103M  MVLSEGEWQLVLHVWAKVEADVAGHGQDILIRLFKSHPETLEKFDR..."
      ]
     },
     "execution_count": 4,
     "metadata": {},
     "output_type": "execute_result"
    }
   ],
   "source": [
    "# # Filter for only proteins\n",
    "# protein_char = df_char[df_char.macromoleculeType == 'Protein']\n",
    "# protein_seq = df_seq[df_seq.macromoleculeType == 'Protein']\n",
    "\n",
    "# # Select only necessary variables to join\n",
    "# protein_char = protein_char[['structureId','classification']]\n",
    "# protein_seq = protein_seq[['structureId','sequence']]\n",
    "# protein_seq.head()"
   ]
  },
  {
   "cell_type": "code",
   "execution_count": 5,
   "id": "6f099c32",
   "metadata": {},
   "outputs": [
    {
     "data": {
      "text/html": [
       "<div>\n",
       "<style scoped>\n",
       "    .dataframe tbody tr th:only-of-type {\n",
       "        vertical-align: middle;\n",
       "    }\n",
       "\n",
       "    .dataframe tbody tr th {\n",
       "        vertical-align: top;\n",
       "    }\n",
       "\n",
       "    .dataframe thead th {\n",
       "        text-align: right;\n",
       "    }\n",
       "</style>\n",
       "<table border=\"1\" class=\"dataframe\">\n",
       "  <thead>\n",
       "    <tr style=\"text-align: right;\">\n",
       "      <th></th>\n",
       "      <th>structureId</th>\n",
       "      <th>classification</th>\n",
       "    </tr>\n",
       "  </thead>\n",
       "  <tbody>\n",
       "    <tr>\n",
       "      <th>2</th>\n",
       "      <td>101M</td>\n",
       "      <td>OXYGEN TRANSPORT</td>\n",
       "    </tr>\n",
       "    <tr>\n",
       "      <th>4</th>\n",
       "      <td>102L</td>\n",
       "      <td>HYDROLASE(O-GLYCOSYL)</td>\n",
       "    </tr>\n",
       "    <tr>\n",
       "      <th>5</th>\n",
       "      <td>102M</td>\n",
       "      <td>OXYGEN TRANSPORT</td>\n",
       "    </tr>\n",
       "    <tr>\n",
       "      <th>7</th>\n",
       "      <td>103L</td>\n",
       "      <td>HYDROLASE(O-GLYCOSYL)</td>\n",
       "    </tr>\n",
       "    <tr>\n",
       "      <th>8</th>\n",
       "      <td>103M</td>\n",
       "      <td>OXYGEN TRANSPORT</td>\n",
       "    </tr>\n",
       "  </tbody>\n",
       "</table>\n",
       "</div>"
      ],
      "text/plain": [
       "  structureId         classification\n",
       "2        101M       OXYGEN TRANSPORT\n",
       "4        102L  HYDROLASE(O-GLYCOSYL)\n",
       "5        102M       OXYGEN TRANSPORT\n",
       "7        103L  HYDROLASE(O-GLYCOSYL)\n",
       "8        103M       OXYGEN TRANSPORT"
      ]
     },
     "execution_count": 5,
     "metadata": {},
     "output_type": "execute_result"
    }
   ],
   "source": [
    "# protein_char.head()"
   ]
  },
  {
   "cell_type": "code",
   "execution_count": 6,
   "id": "57be9deb",
   "metadata": {},
   "outputs": [
    {
     "data": {
      "text/html": [
       "<div>\n",
       "<style scoped>\n",
       "    .dataframe tbody tr th:only-of-type {\n",
       "        vertical-align: middle;\n",
       "    }\n",
       "\n",
       "    .dataframe tbody tr th {\n",
       "        vertical-align: top;\n",
       "    }\n",
       "\n",
       "    .dataframe thead th {\n",
       "        text-align: right;\n",
       "    }\n",
       "</style>\n",
       "<table border=\"1\" class=\"dataframe\">\n",
       "  <thead>\n",
       "    <tr style=\"text-align: right;\">\n",
       "      <th></th>\n",
       "      <th>classification</th>\n",
       "      <th>sequence</th>\n",
       "    </tr>\n",
       "    <tr>\n",
       "      <th>structureId</th>\n",
       "      <th></th>\n",
       "      <th></th>\n",
       "    </tr>\n",
       "  </thead>\n",
       "  <tbody>\n",
       "    <tr>\n",
       "      <th>101M</th>\n",
       "      <td>OXYGEN TRANSPORT</td>\n",
       "      <td>MVLSEGEWQLVLHVWAKVEADVAGHGQDILIRLFKSHPETLEKFDR...</td>\n",
       "    </tr>\n",
       "    <tr>\n",
       "      <th>102L</th>\n",
       "      <td>HYDROLASE(O-GLYCOSYL)</td>\n",
       "      <td>MNIFEMLRIDEGLRLKIYKDTEGYYTIGIGHLLTKSPSLNAAAKSE...</td>\n",
       "    </tr>\n",
       "    <tr>\n",
       "      <th>102M</th>\n",
       "      <td>OXYGEN TRANSPORT</td>\n",
       "      <td>MVLSEGEWQLVLHVWAKVEADVAGHGQDILIRLFKSHPETLEKFDR...</td>\n",
       "    </tr>\n",
       "    <tr>\n",
       "      <th>103L</th>\n",
       "      <td>HYDROLASE(O-GLYCOSYL)</td>\n",
       "      <td>MNIFEMLRIDEGLRLKIYKDTEGYYTIGIGHLLTKSPSLNSLDAAK...</td>\n",
       "    </tr>\n",
       "    <tr>\n",
       "      <th>103M</th>\n",
       "      <td>OXYGEN TRANSPORT</td>\n",
       "      <td>MVLSEGEWQLVLHVWAKVEADVAGHGQDILIRLFKSHPETLEKFDR...</td>\n",
       "    </tr>\n",
       "  </tbody>\n",
       "</table>\n",
       "</div>"
      ],
      "text/plain": [
       "                    classification  \\\n",
       "structureId                          \n",
       "101M              OXYGEN TRANSPORT   \n",
       "102L         HYDROLASE(O-GLYCOSYL)   \n",
       "102M              OXYGEN TRANSPORT   \n",
       "103L         HYDROLASE(O-GLYCOSYL)   \n",
       "103M              OXYGEN TRANSPORT   \n",
       "\n",
       "                                                      sequence  \n",
       "structureId                                                     \n",
       "101M         MVLSEGEWQLVLHVWAKVEADVAGHGQDILIRLFKSHPETLEKFDR...  \n",
       "102L         MNIFEMLRIDEGLRLKIYKDTEGYYTIGIGHLLTKSPSLNAAAKSE...  \n",
       "102M         MVLSEGEWQLVLHVWAKVEADVAGHGQDILIRLFKSHPETLEKFDR...  \n",
       "103L         MNIFEMLRIDEGLRLKIYKDTEGYYTIGIGHLLTKSPSLNSLDAAK...  \n",
       "103M         MVLSEGEWQLVLHVWAKVEADVAGHGQDILIRLFKSHPETLEKFDR...  "
      ]
     },
     "execution_count": 6,
     "metadata": {},
     "output_type": "execute_result"
    }
   ],
   "source": [
    "# # Join two datasets on structureId\n",
    "# model_f = protein_char.set_index('structureId').join(protein_seq.set_index('structureId'))\n",
    "# model_f.head()"
   ]
  },
  {
   "cell_type": "code",
   "execution_count": 7,
   "id": "b24dab2d",
   "metadata": {},
   "outputs": [
    {
     "name": "stdout",
     "output_type": "stream",
     "text": [
      "346321 is the number of proteins that have a classification and sequence\n"
     ]
    }
   ],
   "source": [
    "# # Drop rows with missing values\n",
    "# model_f = model_f.dropna()\n",
    "# print('%d is the number of proteins that have a classification and sequence' %model_f.shape[0])"
   ]
  },
  {
   "cell_type": "code",
   "execution_count": 8,
   "id": "e1c386fa",
   "metadata": {},
   "outputs": [],
   "source": [
    "# # Look at classification type counts\n",
    "# counts = model_f.classification.value_counts()\n",
    "\n",
    "# # Get classification types where counts are over 1000\n",
    "# types = np.asarray(counts[(counts > 1000)].index)\n",
    "\n",
    "# # Filter dataset's records for classification types > 1000\n",
    "# data = model_f[model_f.classification.isin(types)]"
   ]
  },
  {
   "cell_type": "code",
   "execution_count": 15,
   "id": "45e8872c",
   "metadata": {},
   "outputs": [],
   "source": [
    "# # Define the allowed classifications\n",
    "# allowed_classifications = [\n",
    "#     \"HYDROLASE\",\n",
    "#     \"ISOMERASE\",\n",
    "#     \"ELECTRON TRANSPORT\",\n",
    "#     \"DE NOVO PROTEIN\",\n",
    "#     \"TRANSLATION\",\n",
    "# ]\n",
    "\n",
    "# # Assuming your data is in a DataFrame called 'data'\n",
    "# # with columns 'classification' and 'sequence'\n",
    "\n",
    "# # Function to balance the dataset\n",
    "# def balance_dataset(df, classifications, n_samples=1000):\n",
    "#     balanced_data = []\n",
    "#     for cls in classifications:\n",
    "#         cls_data = df[df['classification'] == cls]\n",
    "#         if len(cls_data) >= n_samples:\n",
    "#             balanced_data.append(cls_data.sample(n_samples, random_state=42))\n",
    "#         else:\n",
    "#             print(f\"Warning: {cls} has fewer than {n_samples} samples. Using all available samples.\")\n",
    "#             balanced_data.append(cls_data)\n",
    "#     return pd.concat(balanced_data, ignore_index=True)\n",
    "\n",
    "# # Balance the dataset\n",
    "# balanced_data = balance_dataset(data, allowed_classifications)\n",
    "\n",
    "# # Export the balanced dataset to a CSV file\n",
    "# output_file = 'balanced_protein_data.csv'\n",
    "# balanced_data.to_csv(output_file, index=False)"
   ]
  },
  {
   "cell_type": "code",
   "execution_count": 16,
   "id": "ab6fcfd3",
   "metadata": {},
   "outputs": [],
   "source": [
    "import pandas as pd\n",
    "import numpy as np\n",
    "from sklearn.preprocessing import LabelEncoder\n",
    "from sklearn.model_selection import train_test_split\n",
    "\n",
    "balanced_data = pd.read_csv('balanced_protein_data.csv')\n",
    "\n",
    "# Convert text classifications to numeric labels\n",
    "le = LabelEncoder()\n",
    "balanced_data['label'] = le.fit_transform(balanced_data['classification'])\n",
    "\n",
    "# Split the data into train+val and test sets\n",
    "train_val_data, test_data = train_test_split(balanced_data, test_size=0.2, stratify=balanced_data['label'], random_state=42)\n",
    "\n",
    "# Further split train+val into train and validation sets\n",
    "train_data, val_data = train_test_split(train_val_data, test_size=0.25, stratify=train_val_data['label'], random_state=42)\n",
    "# 0.25 * 0.8 = 0.2, so validation set is 20% of the original data\n",
    "\n",
    "# Create datasets\n",
    "my_train = train_data\n",
    "my_valid = val_data\n",
    "my_test = test_data"
   ]
  },
  {
   "cell_type": "code",
   "execution_count": 5,
   "id": "96bd9396-a81c-4d87-a722-0d2020627dbd",
   "metadata": {
    "execution": {
     "iopub.execute_input": "2024-04-05T12:53:29.538488Z",
     "iopub.status.busy": "2024-04-05T12:53:29.538089Z",
     "iopub.status.idle": "2024-04-05T12:53:29.768968Z",
     "shell.execute_reply": "2024-04-05T12:53:29.767620Z",
     "shell.execute_reply.started": "2024-04-05T12:53:29.538452Z"
    },
    "tags": []
   },
   "outputs": [
    {
     "data": {
      "text/html": [
       "<div>\n",
       "<style scoped>\n",
       "    .dataframe tbody tr th:only-of-type {\n",
       "        vertical-align: middle;\n",
       "    }\n",
       "\n",
       "    .dataframe tbody tr th {\n",
       "        vertical-align: top;\n",
       "    }\n",
       "\n",
       "    .dataframe thead th {\n",
       "        text-align: right;\n",
       "    }\n",
       "</style>\n",
       "<table border=\"1\" class=\"dataframe\">\n",
       "  <thead>\n",
       "    <tr style=\"text-align: right;\">\n",
       "      <th></th>\n",
       "      <th>name</th>\n",
       "      <th>sequence</th>\n",
       "      <th>label</th>\n",
       "    </tr>\n",
       "  </thead>\n",
       "  <tbody>\n",
       "    <tr>\n",
       "      <th>0</th>\n",
       "      <td>sp|Q8WWI1|LMO7_HUMAN%260%276</td>\n",
       "      <td>SCSSDITLRGGREGFESDTDSEFTFKMQDYNKD</td>\n",
       "      <td>1</td>\n",
       "    </tr>\n",
       "    <tr>\n",
       "      <th>1</th>\n",
       "      <td>sp|sp|Q07157|ZO1_HUMAN|Tight</td>\n",
       "      <td>RSKGKLKMVVQRDERATLLNVPDLSDSIHSANA</td>\n",
       "      <td>1</td>\n",
       "    </tr>\n",
       "    <tr>\n",
       "      <th>2</th>\n",
       "      <td>sp|P24928|RPB1_HUMAN%1775%1791</td>\n",
       "      <td>NYTPTSPNYSPTSPSYSPTSPSYSPTSPSYSPS</td>\n",
       "      <td>1</td>\n",
       "    </tr>\n",
       "    <tr>\n",
       "      <th>3</th>\n",
       "      <td>sp|sp|Q9Y2U8|MAN1_HUMAN|Inner</td>\n",
       "      <td>PHSWWGARRPAGPELQTPPGKDGAVEDEEGEGE</td>\n",
       "      <td>1</td>\n",
       "    </tr>\n",
       "    <tr>\n",
       "      <th>4</th>\n",
       "      <td>sp|Q14980|NUMA1_HUMAN%2061%2077</td>\n",
       "      <td>NSLLRRGASKKALSKASPNTRSGTRRSPRIATT</td>\n",
       "      <td>1</td>\n",
       "    </tr>\n",
       "  </tbody>\n",
       "</table>\n",
       "</div>"
      ],
      "text/plain": [
       "                              name                           sequence  label\n",
       "0     sp|Q8WWI1|LMO7_HUMAN%260%276  SCSSDITLRGGREGFESDTDSEFTFKMQDYNKD      1\n",
       "1     sp|sp|Q07157|ZO1_HUMAN|Tight  RSKGKLKMVVQRDERATLLNVPDLSDSIHSANA      1\n",
       "2   sp|P24928|RPB1_HUMAN%1775%1791  NYTPTSPNYSPTSPSYSPTSPSYSPTSPSYSPS      1\n",
       "3    sp|sp|Q9Y2U8|MAN1_HUMAN|Inner  PHSWWGARRPAGPELQTPPGKDGAVEDEEGEGE      1\n",
       "4  sp|Q14980|NUMA1_HUMAN%2061%2077  NSLLRRGASKKALSKASPNTRSGTRRSPRIATT      1"
      ]
     },
     "execution_count": 5,
     "metadata": {},
     "output_type": "execute_result"
    }
   ],
   "source": [
    "# from Bio import SeqIO\n",
    "# import pandas as pd\n",
    "\n",
    "# sequences = []\n",
    "\n",
    "# local_fasta_path = '../../src/input_datasets/merged_output_D+P_balance_ST.fasta'\n",
    "\n",
    "# # Load FASTA file using Biopython\n",
    "# for record in SeqIO.parse(local_fasta_path, \"fasta\"):\n",
    "#     # Split the description to extract label\n",
    "#     description_parts = record.description.split(\"%\")\n",
    "#     label = int(description_parts[-1].split(\"LABEL=\")[1])  # Extracting the numeric part of the label\n",
    "#     sequences.append([record.name, str(record.seq), label])\n",
    "\n",
    "# local_fasta_path = '../../src/input_datasets/merged_output_D+P_balance_Y.fasta'\n",
    "\n",
    "# for record in SeqIO.parse(local_fasta_path, \"fasta\"):\n",
    "#     # Split the description to extract label\n",
    "#     description_parts = record.description.split(\"%\")\n",
    "#     label = int(description_parts[-1].split(\"LABEL=\")[1])  # Extracting the numeric part of the label\n",
    "#     sequences.append([record.name, str(record.seq), label])\n",
    "\n",
    "# # Create dataframe\n",
    "# df = pd.DataFrame(sequences, columns=[\"name\", \"sequence\", \"label\"])\n",
    "\n",
    "# # Display the dataframe\n",
    "# df.head(5)\n"
   ]
  },
  {
   "cell_type": "code",
   "execution_count": 6,
   "id": "76760f9d",
   "metadata": {},
   "outputs": [
    {
     "name": "stdout",
     "output_type": "stream",
     "text": [
      "Training Set:\n",
      "(3468, 2)\n",
      "\n",
      "Validation Set:\n",
      "(867, 2)\n"
     ]
    }
   ],
   "source": [
    "# from sklearn.model_selection import train_test_split\n",
    "\n",
    "# # Split the dataset into training and validation sets\n",
    "# my_train, my_valid = train_test_split(df, test_size=0.2, random_state=42)\n",
    "\n",
    "# my_train=my_train[[\"sequence\", \"label\"]]\n",
    "# my_valid=my_valid[[\"sequence\",\"label\"]]\n",
    "\n",
    "\n",
    "# # Print the first 5 rows of the training set\n",
    "# print(\"Training Set:\")\n",
    "# print(my_train.shape)\n",
    "\n",
    "# # Print the first 5 rows of the validation set\n",
    "# print(\"\\nValidation Set:\")\n",
    "# print(my_valid.shape)"
   ]
  },
  {
   "cell_type": "code",
   "execution_count": 5,
   "id": "a424877b-787c-44fe-bf87-33346ffd3be5",
   "metadata": {
    "execution": {
     "iopub.execute_input": "2024-04-05T12:53:29.789138Z",
     "iopub.status.busy": "2024-04-05T12:53:29.788675Z",
     "iopub.status.idle": "2024-04-05T12:53:29.816779Z",
     "shell.execute_reply": "2024-04-05T12:53:29.815341Z",
     "shell.execute_reply.started": "2024-04-05T12:53:29.789094Z"
    },
    "tags": []
   },
   "outputs": [],
   "source": [
    "# Modifies an existing transformer and introduce the LoRA layers\n",
    "\n",
    "class LoRAConfig:\n",
    "    def __init__(self, lora_rank=8, lora_init_scale=0.01, lora_scaling_rank=2):\n",
    "        self.lora_rank = lora_rank\n",
    "        self.lora_init_scale = lora_init_scale\n",
    "        self.lora_modules = \".*SelfAttention|.*EncDecAttention\"\n",
    "        self.lora_layers = \"q|k|v|o\"\n",
    "        self.trainable_param_names = \".*layer_norm.*|.*lora_[ab].*\"\n",
    "        self.lora_scaling_rank = lora_scaling_rank\n",
    "        # lora_modules and lora_layers are specified with regular expressions\n",
    "        # see https://www.w3schools.com/python/python_regex.asp for reference\n",
    "        \n",
    "class LoRALinear(nn.Module):\n",
    "    def __init__(self, linear_layer, rank, scaling_rank, init_scale):\n",
    "        super().__init__()\n",
    "        self.in_features = linear_layer.in_features\n",
    "        self.out_features = linear_layer.out_features\n",
    "        self.rank = rank\n",
    "        self.scaling_rank = scaling_rank\n",
    "        self.weight = linear_layer.weight\n",
    "        self.bias = linear_layer.bias\n",
    "        if self.rank > 0:\n",
    "            self.lora_a = nn.Parameter(torch.randn(rank, linear_layer.in_features) * init_scale)\n",
    "            if init_scale < 0:\n",
    "                self.lora_b = nn.Parameter(torch.randn(linear_layer.out_features, rank) * init_scale)\n",
    "            else:\n",
    "                self.lora_b = nn.Parameter(torch.zeros(linear_layer.out_features, rank))\n",
    "        if self.scaling_rank:\n",
    "            self.multi_lora_a = nn.Parameter(\n",
    "                torch.ones(self.scaling_rank, linear_layer.in_features)\n",
    "                + torch.randn(self.scaling_rank, linear_layer.in_features) * init_scale\n",
    "            )\n",
    "            if init_scale < 0:\n",
    "                self.multi_lora_b = nn.Parameter(\n",
    "                    torch.ones(linear_layer.out_features, self.scaling_rank)\n",
    "                    + torch.randn(linear_layer.out_features, self.scaling_rank) * init_scale\n",
    "                )\n",
    "            else:\n",
    "                self.multi_lora_b = nn.Parameter(torch.ones(linear_layer.out_features, self.scaling_rank))\n",
    "\n",
    "    def forward(self, input):\n",
    "        if self.scaling_rank == 1 and self.rank == 0:\n",
    "            # parsimonious implementation for ia3 and lora scaling\n",
    "            if self.multi_lora_a.requires_grad:\n",
    "                hidden = F.linear((input * self.multi_lora_a.flatten()), self.weight, self.bias)\n",
    "            else:\n",
    "                hidden = F.linear(input, self.weight, self.bias)\n",
    "            if self.multi_lora_b.requires_grad:\n",
    "                hidden = hidden * self.multi_lora_b.flatten()\n",
    "            return hidden\n",
    "        else:\n",
    "            # general implementation for lora (adding and scaling)\n",
    "            weight = self.weight\n",
    "            if self.scaling_rank:\n",
    "                weight = weight * torch.matmul(self.multi_lora_b, self.multi_lora_a) / self.scaling_rank\n",
    "            if self.rank:\n",
    "                weight = weight + torch.matmul(self.lora_b, self.lora_a) / self.rank\n",
    "            return F.linear(input, weight, self.bias)\n",
    "\n",
    "    def extra_repr(self):\n",
    "        return \"in_features={}, out_features={}, bias={}, rank={}, scaling_rank={}\".format(\n",
    "            self.in_features, self.out_features, self.bias is not None, self.rank, self.scaling_rank\n",
    "        )\n",
    "\n",
    "\n",
    "def modify_with_lora(transformer, config):\n",
    "    for m_name, module in dict(transformer.named_modules()).items():\n",
    "        if re.fullmatch(config.lora_modules, m_name):\n",
    "            for c_name, layer in dict(module.named_children()).items():\n",
    "                if re.fullmatch(config.lora_layers, c_name):\n",
    "                    assert isinstance(\n",
    "                        layer, nn.Linear\n",
    "                    ), f\"LoRA can only be applied to torch.nn.Linear, but {layer} is {type(layer)}.\"\n",
    "                    setattr(\n",
    "                        module,\n",
    "                        c_name,\n",
    "                        LoRALinear(layer, config.lora_rank, config.lora_scaling_rank, config.lora_init_scale),\n",
    "                    )\n",
    "    return transformer"
   ]
  },
  {
   "cell_type": "code",
   "execution_count": 6,
   "id": "9e79b323-4677-4723-a5fd-a60dc13a3b0d",
   "metadata": {
    "execution": {
     "iopub.execute_input": "2024-04-05T12:53:29.819433Z",
     "iopub.status.busy": "2024-04-05T12:53:29.818965Z",
     "iopub.status.idle": "2024-04-05T12:53:29.845976Z",
     "shell.execute_reply": "2024-04-05T12:53:29.844438Z",
     "shell.execute_reply.started": "2024-04-05T12:53:29.819335Z"
    },
    "tags": []
   },
   "outputs": [],
   "source": [
    "class ClassConfig:\n",
    "    def __init__(self, dropout=0.7, num_labels=2):\n",
    "        self.dropout_rate = dropout\n",
    "        self.num_labels = num_labels\n",
    "\n",
    "class T5EncoderClassificationHead(nn.Module):\n",
    "    \"\"\"Head for sentence-level classification tasks.\"\"\"\n",
    "\n",
    "    def __init__(self, config, class_config):\n",
    "        super().__init__()\n",
    "        self.dense = nn.Linear(config.hidden_size, config.hidden_size)\n",
    "        self.dropout = nn.Dropout(class_config.dropout_rate)\n",
    "        self.out_proj = nn.Linear(config.hidden_size, class_config.num_labels)\n",
    "        \n",
    "        # Trainable emphasis factor\n",
    "        # self.emphasis_factor = nn.Parameter(torch.tensor(1.0))\n",
    "        \n",
    "    # def forward(self, hidden_states):\n",
    "    #     seq_length = hidden_states.size(1)\n",
    "    #     middle_idx = seq_length // 2\n",
    "    #     middle_embedding = hidden_states[:, middle_idx, :]\n",
    "\n",
    "    #     # Apply trainable emphasis factor\n",
    "    #     emphasized_middle_embedding = middle_embedding * self.emphasis_factor\n",
    "\n",
    "    #     # Combine with the average embedding\n",
    "    #     average_embedding = torch.mean(hidden_states, dim=1)\n",
    "    #     combined_embedding = emphasized_middle_embedding + average_embedding\n",
    "\n",
    "    #     x = self.dropout(combined_embedding)\n",
    "    #     x = self.dense(x)\n",
    "    #     x = torch.tanh(x)\n",
    "    #     x = self.dropout(x)\n",
    "    #     logits = self.out_proj(x)\n",
    "    #     return logits\n",
    "\n",
    "    def forward(self, hidden_states):\n",
    "\n",
    "        hidden_states =  torch.mean(hidden_states,dim=1)  # avg embedding\n",
    "\n",
    "        hidden_states = self.dropout(hidden_states)\n",
    "        hidden_states = self.dense(hidden_states)\n",
    "        hidden_states = torch.tanh(hidden_states)\n",
    "        hidden_states = self.dropout(hidden_states)\n",
    "        hidden_states = self.out_proj(hidden_states)\n",
    "        return hidden_states\n",
    "    \n",
    "    # def forward(self, hidden_states):\n",
    "    #     # Original sequence length and middle index\n",
    "    #     seq_length = hidden_states.size(1)\n",
    "    #     middle_idx = seq_length // 2\n",
    "\n",
    "    #     # Extract the middle embedding vector\n",
    "    #     middle_embedding = hidden_states[:, middle_idx, :]\n",
    "\n",
    "    #     # Amplify the influence of the middle embedding\n",
    "    #     amplified_middle_embedding = middle_embedding * 2\n",
    "\n",
    "    #     # Combine with average to retain context\n",
    "    #     average_embedding = torch.mean(hidden_states, dim=1)\n",
    "    #     combined_embedding = 0.5 * amplified_middle_embedding + 0.5 * average_embedding\n",
    "\n",
    "    #     # Classification layers\n",
    "    #     x = self.dropout(combined_embedding)\n",
    "    #     x = self.dense(x)\n",
    "    #     x = torch.tanh(x)\n",
    "    #     x = self.dropout(x)\n",
    "    #     logits = self.out_proj(x)\n",
    "    #     return logits\n",
    "\n",
    "\n",
    "class T5EncoderForSimpleSequenceClassification(T5PreTrainedModel):\n",
    "\n",
    "    def __init__(self, config: T5Config, class_config):\n",
    "        super().__init__(config)\n",
    "        self.num_labels = class_config.num_labels\n",
    "        self.config = config\n",
    "\n",
    "        self.shared = nn.Embedding(config.vocab_size, config.d_model)\n",
    "\n",
    "        encoder_config = copy.deepcopy(config)\n",
    "        encoder_config.use_cache = False\n",
    "        encoder_config.is_encoder_decoder = False\n",
    "        self.encoder = T5Stack(encoder_config, self.shared)\n",
    "\n",
    "        self.dropout = nn.Dropout(class_config.dropout_rate) \n",
    "        self.classifier = T5EncoderClassificationHead(config, class_config)\n",
    "\n",
    "        # Initialize weights and apply final processing\n",
    "        self.post_init()\n",
    "\n",
    "        # Model parallel\n",
    "        self.model_parallel = False\n",
    "        self.device_map = None\n",
    "\n",
    "    def parallelize(self, device_map=None):\n",
    "        self.device_map = (\n",
    "            get_device_map(len(self.encoder.block), range(torch.cuda.device_count()))\n",
    "            if device_map is None\n",
    "            else device_map\n",
    "        )\n",
    "        assert_device_map(self.device_map, len(self.encoder.block))\n",
    "        self.encoder.parallelize(self.device_map)\n",
    "        self.classifier = self.classifier.to(self.encoder.first_device)\n",
    "        self.model_parallel = True\n",
    "\n",
    "    def deparallelize(self):\n",
    "        self.encoder.deparallelize()\n",
    "        self.encoder = self.encoder.to(\"cpu\")\n",
    "        self.model_parallel = False\n",
    "        self.device_map = None\n",
    "        torch.cuda.empty_cache()\n",
    "\n",
    "    def get_input_embeddings(self):\n",
    "        return self.shared\n",
    "\n",
    "    def set_input_embeddings(self, new_embeddings):\n",
    "        self.shared = new_embeddings\n",
    "        self.encoder.set_input_embeddings(new_embeddings)\n",
    "\n",
    "    def get_encoder(self):\n",
    "        return self.encoder\n",
    "\n",
    "    def _prune_heads(self, heads_to_prune):\n",
    "        \"\"\"\n",
    "        Prunes heads of the model. heads_to_prune: dict of {layer_num: list of heads to prune in this layer} See base\n",
    "        class PreTrainedModel\n",
    "        \"\"\"\n",
    "        for layer, heads in heads_to_prune.items():\n",
    "            self.encoder.layer[layer].attention.prune_heads(heads)\n",
    "\n",
    "    def forward(\n",
    "        self,\n",
    "        input_ids=None,\n",
    "        attention_mask=None,\n",
    "        head_mask=None,\n",
    "        inputs_embeds=None,\n",
    "        labels=None,\n",
    "        output_attentions=None,\n",
    "        output_hidden_states=None,\n",
    "        return_dict=None,\n",
    "    ):\n",
    "        return_dict = return_dict if return_dict is not None else self.config.use_return_dict\n",
    "\n",
    "        outputs = self.encoder(\n",
    "            input_ids=input_ids,\n",
    "            attention_mask=attention_mask,\n",
    "            inputs_embeds=inputs_embeds,\n",
    "            head_mask=head_mask,\n",
    "            output_attentions=output_attentions,\n",
    "            output_hidden_states=True,\n",
    "            return_dict=return_dict,\n",
    "        )\n",
    "\n",
    "        hidden_states = outputs[0]\n",
    "        logits = self.classifier(hidden_states)\n",
    "\n",
    "        loss = None\n",
    "        if labels is not None:\n",
    "            if self.config.problem_type is None:\n",
    "                if self.num_labels == 1:\n",
    "                    self.config.problem_type = \"regression\"\n",
    "                elif self.num_labels > 1 and (labels.dtype == torch.long or labels.dtype == torch.int):\n",
    "                    self.config.problem_type = \"single_label_classification\"\n",
    "                else:\n",
    "                    self.config.problem_type = \"multi_label_classification\"\n",
    "\n",
    "            if self.config.problem_type == \"regression\":\n",
    "                loss_fct = MSELoss()\n",
    "                if self.num_labels == 1:\n",
    "                    loss = loss_fct(logits.squeeze(), labels.squeeze())\n",
    "                else:\n",
    "                    loss = loss_fct(logits, labels)\n",
    "            elif self.config.problem_type == \"single_label_classification\":\n",
    "                loss_fct = CrossEntropyLoss()\n",
    "                loss = loss_fct(logits.view(-1, self.num_labels), labels.view(-1))\n",
    "            elif self.config.problem_type == \"multi_label_classification\":\n",
    "                loss_fct = BCEWithLogitsLoss()\n",
    "                loss = loss_fct(logits, labels)\n",
    "        if not return_dict:\n",
    "            output = (logits,) + outputs[1:]\n",
    "            return ((loss,) + output) if loss is not None else output\n",
    "\n",
    "        return SequenceClassifierOutput(\n",
    "            loss=loss,\n",
    "            logits=logits,\n",
    "            hidden_states=outputs.hidden_states,\n",
    "            attentions=outputs.attentions,\n",
    "        )"
   ]
  },
  {
   "cell_type": "code",
   "execution_count": 7,
   "id": "71394626-6f8b-4ca5-80f3-c697e4320bf7",
   "metadata": {
    "execution": {
     "iopub.execute_input": "2024-04-05T12:53:29.848217Z",
     "iopub.status.busy": "2024-04-05T12:53:29.847782Z",
     "iopub.status.idle": "2024-04-05T12:53:29.859841Z",
     "shell.execute_reply": "2024-04-05T12:53:29.858398Z",
     "shell.execute_reply.started": "2024-04-05T12:53:29.848182Z"
    },
    "tags": []
   },
   "outputs": [],
   "source": [
    "def PT5_classification_model(num_labels, dropout, lora_rank, lora_init_scale, lora_scaling_rank):\n",
    "    # Load PT5 and tokenizer\n",
    "    model = T5EncoderModel.from_pretrained(\"Rostlab/prot_t5_xl_uniref50\")\n",
    "    tokenizer = T5Tokenizer.from_pretrained(\"Rostlab/prot_t5_xl_uniref50\") \n",
    "    \n",
    "    # Create new Classifier model with PT5 dimensions\n",
    "    class_config=ClassConfig(num_labels=num_labels, dropout=dropout)\n",
    "    class_model=T5EncoderForSimpleSequenceClassification(model.config,class_config)\n",
    "    \n",
    "    # Set encoder and embedding weights to checkpoint weights\n",
    "    class_model.shared=model.shared\n",
    "    class_model.encoder=model.encoder    \n",
    "    \n",
    "    # Delete the checkpoint model\n",
    "    model=class_model\n",
    "    del class_model\n",
    "    \n",
    "    # Print number of trainable parameters\n",
    "    model_parameters = filter(lambda p: p.requires_grad, model.parameters())\n",
    "    params = sum([np.prod(p.size()) for p in model_parameters])\n",
    "    print(\"ProtT5_Classfier\\nTrainable Parameter: \"+ str(params))    \n",
    " \n",
    "    # Add model modification lora\n",
    "    config = LoRAConfig(lora_rank=lora_rank, lora_init_scale=lora_init_scale, lora_scaling_rank=lora_scaling_rank)\n",
    "    \n",
    "    # Add LoRA layers\n",
    "    model = modify_with_lora(model, config)\n",
    "    \n",
    "    # Freeze Embeddings and Encoder (except LoRA)\n",
    "    for (param_name, param) in model.shared.named_parameters():\n",
    "                param.requires_grad = False\n",
    "    for (param_name, param) in model.encoder.named_parameters():\n",
    "                param.requires_grad = False       \n",
    "\n",
    "    for (param_name, param) in model.named_parameters():\n",
    "            if re.fullmatch(config.trainable_param_names, param_name):\n",
    "                param.requires_grad = True\n",
    "\n",
    "    # Print trainable Parameter          \n",
    "    model_parameters = filter(lambda p: p.requires_grad, model.parameters())\n",
    "    params = sum([np.prod(p.size()) for p in model_parameters])\n",
    "    print(\"ProtT5_LoRA_Classfier\\nTrainable Parameter: \"+ str(params) + \"\\n\")\n",
    "    \n",
    "    return model, tokenizer"
   ]
  },
  {
   "cell_type": "code",
   "execution_count": 8,
   "id": "6c4d56b2-c9ca-460d-b977-a1e4ae1e9568",
   "metadata": {
    "execution": {
     "iopub.execute_input": "2024-04-05T12:53:29.864172Z",
     "iopub.status.busy": "2024-04-05T12:53:29.863760Z",
     "iopub.status.idle": "2024-04-05T12:53:29.873119Z",
     "shell.execute_reply": "2024-04-05T12:53:29.871609Z",
     "shell.execute_reply.started": "2024-04-05T12:53:29.864135Z"
    },
    "tags": []
   },
   "outputs": [],
   "source": [
    "# Deepspeed config for optimizer CPU offload\n",
    "\n",
    "ds_config = {\n",
    "    \"fp16\": {\n",
    "        \"enabled\": \"auto\",\n",
    "        \"loss_scale\": 0,\n",
    "        \"loss_scale_window\": 1000,\n",
    "        \"initial_scale_power\": 16,\n",
    "        \"hysteresis\": 2,\n",
    "        \"min_loss_scale\": 1\n",
    "    },\n",
    "\n",
    "    \"optimizer\": {\n",
    "        \"type\": \"AdamW\",\n",
    "        \"params\": {\n",
    "            \"lr\": \"auto\",\n",
    "            \"betas\": \"auto\",\n",
    "            \"eps\": \"auto\",\n",
    "            \"weight_decay\": \"auto\"\n",
    "        }\n",
    "    },\n",
    "\n",
    "    \"scheduler\": {\n",
    "        \"type\": \"WarmupLR\",\n",
    "        \"params\": {\n",
    "            \"warmup_min_lr\": \"auto\",\n",
    "            \"warmup_max_lr\": \"auto\",\n",
    "            \"warmup_num_steps\": \"auto\"\n",
    "        }\n",
    "    },\n",
    "\n",
    "    \"zero_optimization\": {\n",
    "        \"stage\": 2,\n",
    "        \"offload_optimizer\": {\n",
    "            \"device\": \"cpu\",\n",
    "            \"pin_memory\": True\n",
    "        },\n",
    "        \"allgather_partitions\": True,\n",
    "        \"allgather_bucket_size\": 2e8,\n",
    "        \"overlap_comm\": True,\n",
    "        \"reduce_scatter\": True,\n",
    "        \"reduce_bucket_size\": 2e8,\n",
    "        \"contiguous_gradients\": True\n",
    "    },\n",
    "\n",
    "    \"gradient_accumulation_steps\": \"auto\",\n",
    "    \"gradient_clipping\": \"auto\",\n",
    "    \"steps_per_print\": 2000,\n",
    "    \"train_batch_size\": \"auto\",\n",
    "    \"train_micro_batch_size_per_gpu\": \"auto\",\n",
    "    \"wall_clock_breakdown\": False\n",
    "}"
   ]
  },
  {
   "cell_type": "code",
   "execution_count": 9,
   "id": "d4550fdb",
   "metadata": {},
   "outputs": [],
   "source": [
    "from transformers import TrainerCallback, TrainerState, TrainerControl\n",
    "\n",
    "class EarlyStoppingCallback(TrainerCallback):\n",
    "    \"\"\"Custom early stopping callback that can monitor loss or accuracy.\"\"\"\n",
    "    \n",
    "    def __init__(self, metric_name='eval_loss', early_stopping_patience=3, minimize=True):\n",
    "        \"\"\"\n",
    "        Args:\n",
    "            metric_name (str): Metric to monitor, default 'eval_loss'.\n",
    "            early_stopping_patience (int): Number of checks with no improvement after which training will be stopped.\n",
    "            minimize (bool): Set to True if the metric should be minimized, False if it should be maximized.\n",
    "        \"\"\"\n",
    "        self.metric_name = metric_name\n",
    "        self.early_stopping_patience = early_stopping_patience\n",
    "        self.early_stopping_counter = 0\n",
    "        self.minimize = minimize\n",
    "        self.best_metric = float('inf') if minimize else float('-inf')\n",
    "    \n",
    "    def on_evaluate(self, args, state, control, **kwargs):\n",
    "        current_metric = kwargs['metrics'][self.metric_name]\n",
    "        \n",
    "        if (self.minimize and current_metric < self.best_metric) or (not self.minimize and current_metric > self.best_metric):\n",
    "            self.best_metric = current_metric\n",
    "            self.early_stopping_counter = 0\n",
    "        else:\n",
    "            self.early_stopping_counter += 1\n",
    "        \n",
    "        if self.early_stopping_counter >= self.early_stopping_patience:\n",
    "            control.should_training_stop = True\n",
    "            print(f'Stopping early! No improvement in {self.metric_name} for {self.early_stopping_patience} evaluation steps.')\n",
    "\n",
    "\n",
    "class MultiObjectiveEarlyStoppingCallback(TrainerCallback):\n",
    "    def __init__(self, early_stopping_patience, min_delta=0.001):\n",
    "        self.early_stopping_patience = early_stopping_patience\n",
    "        self.min_delta = min_delta\n",
    "        self.best_val_loss = float('inf')\n",
    "        self.best_val_accuracy = float('-inf')\n",
    "        self.wait = 0\n",
    "\n",
    "    def on_evaluate(self, args, state: TrainerState, control: TrainerControl, **kwargs):\n",
    "        # Extract current validation loss and accuracy\n",
    "        val_loss = kwargs['metrics']['eval_loss']\n",
    "        val_accuracy = kwargs['metrics']['eval_accuracy']\n",
    "\n",
    "        # Check if current loss and accuracy improved significantly\n",
    "        loss_improved = (self.best_val_loss - val_loss) > self.min_delta\n",
    "        accuracy_improved = (val_accuracy - self.best_val_accuracy) > self.min_delta\n",
    "\n",
    "        if loss_improved or accuracy_improved:\n",
    "            # Update best scores and reset wait time\n",
    "            self.best_val_loss = min(self.best_val_loss, val_loss)\n",
    "            self.best_val_accuracy = max(self.best_val_accuracy, val_accuracy)\n",
    "            self.wait = 0\n",
    "        else:\n",
    "            # If no improvement, increment the wait counter\n",
    "            self.wait += 1\n",
    "            if self.wait >= self.early_stopping_patience:\n",
    "                # If wait exceeds the patience, stop training\n",
    "                control.should_training_stop = True\n",
    "                print(f\"Stopping early at epoch {state.epoch}: No improvement in loss or accuracy for {self.early_stopping_patience} evaluations.\")\n",
    "                \n",
    "class MultiObjectiveEarlyStoppingAndSaveCallback(TrainerCallback):\n",
    "    def __init__(self, early_stopping_patience, min_delta=0.001, output_dir='./model_output', filename='finetuned_model'):\n",
    "        self.early_stopping_patience = early_stopping_patience\n",
    "        self.min_delta = min_delta\n",
    "        self.best_val_loss = float('inf')\n",
    "        self.best_val_accuracy = float('-inf')\n",
    "        self.wait = 0\n",
    "        self.output_dir = output_dir\n",
    "        self.filename = filename\n",
    "        if not os.path.exists(output_dir):\n",
    "            os.makedirs(output_dir)\n",
    "\n",
    "    def on_evaluate(self, args, state: TrainerState, control: TrainerControl, **kwargs):\n",
    "        val_loss = kwargs['metrics']['eval_loss']\n",
    "        val_accuracy = kwargs['metrics']['eval_accuracy']\n",
    "        model = kwargs['model']\n",
    "\n",
    "        loss_improved = (self.best_val_loss - val_loss) > self.min_delta\n",
    "        accuracy_improved = (val_accuracy - self.best_val_accuracy) > self.min_delta\n",
    "\n",
    "        if loss_improved or accuracy_improved:\n",
    "            self.best_val_loss = min(self.best_val_loss, val_loss)\n",
    "            self.best_val_accuracy = max(self.best_val_accuracy, val_accuracy)\n",
    "            self.wait = 0\n",
    "            # Save the model as the best so far\n",
    "            self.save_finetuned_parameters(model, os.path.join(self.output_dir, self.filename))\n",
    "            print(f\"Saved improved model to {self.output_dir}/{self.filename}\")\n",
    "        else:\n",
    "            self.wait += 1\n",
    "            if self.wait >= self.early_stopping_patience:\n",
    "                control.should_training_stop = True\n",
    "                print(f\"Stopping early at epoch {state.epoch}: No improvement in loss or accuracy for {self.early_stopping_patience} evaluations.\")\n",
    "                \n",
    "    def save_finetuned_parameters(self, model, filepath):\n",
    "        # Create a dictionary to hold the non-frozen parameters\n",
    "        non_frozen_params = {n: p for n, p in model.named_parameters() if p.requires_grad}\n",
    "        # Save only the finetuned parameters \n",
    "        torch.save(non_frozen_params, filepath)"
   ]
  },
  {
   "cell_type": "code",
   "execution_count": 10,
   "id": "bfb8bb11-79b0-4936-9099-f9f8ef97e105",
   "metadata": {
    "execution": {
     "iopub.execute_input": "2024-04-05T12:53:29.875565Z",
     "iopub.status.busy": "2024-04-05T12:53:29.875038Z",
     "iopub.status.idle": "2024-04-05T12:53:30.214710Z",
     "shell.execute_reply": "2024-04-05T12:53:30.213349Z",
     "shell.execute_reply.started": "2024-04-05T12:53:29.875495Z"
    },
    "tags": []
   },
   "outputs": [],
   "source": [
    "from sklearn.metrics import accuracy_score\n",
    "#!pip install seaborn\n",
    "import seaborn as sns\n",
    "import gc\n",
    "\n",
    "# Set random seeds for reproducibility of your trainings run\n",
    "def set_seeds(s):\n",
    "    torch.manual_seed(s)\n",
    "    np.random.seed(s)\n",
    "    random.seed(s)\n",
    "    set_seed(s)\n",
    "\n",
    "def apply_umap(embeddings, n_components=2, min_dist=0.01):\n",
    "    umap_model = umap.UMAP(n_components=n_components)\n",
    "    umap_embeddings = umap_model.fit_transform(embeddings)\n",
    "    return umap_embeddings\n",
    "\n",
    "def plot_umap(embeddings, labels):\n",
    "    data = {\"UMAP1\": embeddings[:, 0], \"UMAP2\": embeddings[:, 1], \"Label\": labels}\n",
    "    df = pd.DataFrame(data)\n",
    "    \n",
    "    plt.figure(figsize=(8, 6))\n",
    "    sns.scatterplot(x=\"UMAP1\", y=\"UMAP2\", hue=\"Label\", data=df, palette={0: \"blue\", 1: \"magenta\"}, s=50, alpha=0.9)\n",
    "    plt.title(\"UMAP Visualization of Embeddings\")\n",
    "    plt.savefig(\"../Plots/UMAP_Visualization_of_Embeddings_new.pdf\")\n",
    "    plt.show()\n",
    "    \n",
    "# Main training fuction\n",
    "def train_per_protein(\n",
    "        train_dataset,         #training data\n",
    "        valid_dataset,         #validation data      \n",
    "        weight_decay,\n",
    "        warmup_pct,\n",
    "        num_labels= 2,    #1 for regression, >1 for classification\n",
    "    \n",
    "        # effective training batch size is batch * accum\n",
    "        # we recommend an effective batch size of 8 \n",
    "        batch= 4,         #for training\n",
    "        accum= 2,         #gradient accumulation\n",
    "    \n",
    "        val_batch = 16,   #batch size for evaluation\n",
    "        epochs=1,       #training epochs\n",
    "        lr= 3e-4,         #recommended learning rate\n",
    "        seed= 42,         #random seed\n",
    "        deepspeed=False,  #if gpu is large enough disable deepspeed for training speedup\n",
    "        gpu= 1,\n",
    "        dropout=0.5, #dropout rate\n",
    "         #L2 weight regularization\n",
    "        lora_rank=4,      #lora rank\n",
    "        lora_init_scale=0.01, #lora scaling rank\n",
    "        lora_scaling_rank=1,       #lora a\n",
    "        ):         #gpu selection (1 for first gpu)\n",
    "\n",
    "    # Set gpu device\n",
    "    os.environ[\"CUDA_VISIBLE_DEVICES\"]=str(gpu-1)\n",
    "    \n",
    "    # Set all random seeds\n",
    "    set_seeds(seed)\n",
    "    \n",
    "    # load model\n",
    "    model, tokenizer = PT5_classification_model(num_labels=num_labels, dropout=dropout, lora_rank=lora_rank, lora_init_scale=lora_init_scale, lora_scaling_rank=lora_scaling_rank)\n",
    "\n",
    "    # Huggingface Trainer arguments\n",
    "    total_steps = epochs * len(train_dataset) // batch\n",
    "    warmup_steps = int(warmup_pct * total_steps)\n",
    "     \n",
    "    # Define TrainingArguments\n",
    "    args = TrainingArguments(\n",
    "        output_dir='./results',              # where to save the model\n",
    "        evaluation_strategy='epoch',         # evaluation is done at the end of each epoch\n",
    "        logging_strategy='epoch',\n",
    "        save_strategy='no',\n",
    "        learning_rate=lr,                    # initial learning rate\n",
    "        per_device_train_batch_size=batch,   # batch size per device\n",
    "        gradient_accumulation_steps=accum,   # gradient accumulation steps\n",
    "        num_train_epochs=epochs,             # number of epochs to train\n",
    "        weight_decay=weight_decay,           # L2 weight regularization\n",
    "        warmup_steps=warmup_steps,           # 10% of total steps\n",
    "        load_best_model_at_end=False,         # load the best model at the end of training\n",
    "        seed=seed,                           # random seed\n",
    "        push_to_hub=False,                   # if you want to push model to the hub (Hugging Face Model Hub)\n",
    "        logging_dir='./logs',\n",
    "    )\n",
    "    # metric_for_best_model='eval_loss|accuracy'\n",
    "\n",
    "    # Metric definition for validation data\n",
    "    def compute_metrics(eval_pred):\n",
    "        predictions, labels = eval_pred.predictions, eval_pred.label_ids\n",
    "        # Check if predictions have the expected shape\n",
    "        if isinstance(predictions, tuple):\n",
    "            predictions = predictions[0]\n",
    "        if predictions.ndim > 1 and predictions.shape[1] > 1:\n",
    "            predictions = np.argmax(predictions, axis=1)\n",
    "        # Now, compute the metric (e.g., accuracy)\n",
    "        accuracy = accuracy_score(labels, predictions)\n",
    "        \n",
    "        # Return the metric(s) as a dictionary\n",
    "        return {\"accuracy\": accuracy}\n",
    "    \n",
    "    # For minimizing loss\n",
    "    early_stopping_loss = EarlyStoppingCallback(metric_name='eval_loss', early_stopping_patience=3, minimize=True)\n",
    "\n",
    "    # For maximizing accuracy\n",
    "    early_stopping_accuracy = EarlyStoppingCallback(metric_name='eval_accuracy', early_stopping_patience=3, minimize=False)\n",
    "    # Trainer          \n",
    "    trainer = Trainer(\n",
    "        model,\n",
    "        args,\n",
    "        train_dataset=train_dataset,\n",
    "        eval_dataset=valid_dataset,\n",
    "        tokenizer=tokenizer,\n",
    "        compute_metrics=compute_metrics,\n",
    "        callbacks=[MultiObjectiveEarlyStoppingAndSaveCallback(\n",
    "            early_stopping_patience=3,\n",
    "            min_delta=0.001,\n",
    "            output_dir='./model_output',\n",
    "            filename='finetuned_model_D_and_P_balance_dataset.pth'\n",
    "        )],\n",
    "    )    \n",
    "\n",
    "    def get_embeddings(model, tokenizer, sequences, batch_size=32, device=\"cuda\"):\n",
    "        embeddings = []\n",
    "        model = model.to(device)\n",
    "        model.eval()\n",
    "    \n",
    "        # Iterate over the sequences in batches\n",
    "        for i in range(0, len(sequences), batch_size):\n",
    "            # Extract a batch of sequences\n",
    "            batch = sequences[i:i + batch_size]\n",
    "    \n",
    "            # Tokenize the batch using the specified tokenizer and convert to PyTorch tensors\n",
    "            inputs = tokenizer(batch, return_tensors=\"pt\", padding=True, truncation=True, max_length=512).to(device)\n",
    "    \n",
    "            with torch.no_grad():\n",
    "                # Forward pass through the model to obtain outputs\n",
    "                outputs = model(**inputs)\n",
    "    \n",
    "            # Extract hidden states from the second-to-last layer (penultimate layer)\n",
    "            hidden_states = outputs.hidden_states[-2].detach().cpu().numpy()\n",
    "    \n",
    "            # Take the embeddings from the second-to-last layer\n",
    "            embeddings_from_layer = hidden_states[:, 0, :]\n",
    "    \n",
    "            # Extend the list with the generated embeddings\n",
    "            embeddings.extend(embeddings_from_layer)\n",
    "    \n",
    "            print(f\"Batch {i // batch_size + 1}, Second-to-Last Layer Embeddings Shape: {embeddings_from_layer.shape}\")\n",
    "    \n",
    "        return np.array(embeddings)\n",
    "\n",
    "        \n",
    "    # Train model\n",
    "    trainer.train()\n",
    "\n",
    "    # Get the best model\n",
    "    # model = trainer.model\n",
    "    # Ensure the best model is loaded\n",
    "    best_model_path = os.path.join('./model_output', 'finetuned_model_D_and_P_balance_dataset.pth')\n",
    "    if os.path.exists(best_model_path):\n",
    "        state_dict = torch.load(best_model_path)\n",
    "        model.load_state_dict(state_dict, strict=False)\n",
    "        print(f\"Loaded best model from {best_model_path}\")\n",
    "        \n",
    "    # Evaluate the best model\n",
    "    eval_results = trainer.evaluate()\n",
    "    print(eval_results)\n",
    "    \n",
    "    # Print the current learning rate\n",
    "    # current_lr = trainer.optimizer.param_groups[0]['lr']\n",
    "    # print(f\"Current learning rate: {current_lr}\")\n",
    "    \n",
    "    # valid_sequences = list(valid_dataset['sequence'])\n",
    "    # valid_embeddings = get_embeddings(model, tokenizer, valid_sequences)\n",
    "\n",
    "    # # Apply UMAP for dimensionality reduction\n",
    "    # umap_embeddings = apply_umap(valid_embeddings)\n",
    "\n",
    "    # # Plot UMAP embeddings\n",
    "    # labels = list(valid_dataset['label'])\n",
    "    # plot_umap(umap_embeddings, labels)\n",
    "    \n",
    "    torch.cuda.empty_cache()\n",
    "    gc.collect()\n",
    "\n",
    "    return tokenizer, model, trainer.state.log_history\n"
   ]
  },
  {
   "cell_type": "code",
   "execution_count": 11,
   "id": "b300952b",
   "metadata": {},
   "outputs": [
    {
     "name": "stderr",
     "output_type": "stream",
     "text": [
      "/home/ubuntu/data/miniconda3/envs/finetune-dephos/lib/python3.9/site-packages/huggingface_hub/file_download.py:1132: FutureWarning: `resume_download` is deprecated and will be removed in version 1.0.0. Downloads always resume when possible. If you want to force a new download, use `force_download=True`.\n",
      "  warnings.warn(\n",
      "You are using the default legacy behaviour of the <class 'transformers.models.t5.tokenization_t5.T5Tokenizer'>. This is expected, and simply means that the `legacy` (previous) behavior will be used so nothing changes for you. If you want to use the new behaviour, set `legacy=False`. This should only be set if you understand what it means, and thouroughly read the reason why this was added as explained in https://github.com/huggingface/transformers/pull/24565\n"
     ]
    }
   ],
   "source": [
    "# Dataset creation\n",
    "def create_dataset(tokenizer,seqs,labels):\n",
    "    tokenized = tokenizer(seqs, max_length=1024, padding=True, truncation=True)\n",
    "    dataset = Dataset.from_dict(tokenized)\n",
    "    dataset = dataset.add_column(\"labels\", labels)\n",
    "\n",
    "    return dataset\n",
    "\n",
    "# Initialize the tokenizer\n",
    "tokenizer = T5Tokenizer.from_pretrained(\"Rostlab/prot_t5_xl_uniref50\") \n",
    "\n",
    "train_df = my_train\n",
    "valid_df = my_valid\n",
    "\n",
    "# Preprocess inputs\n",
    "# Replace uncommon AAs with \"X\"\n",
    "train_df[\"sequence\"]=train_df[\"sequence\"].str.replace('|'.join([\"O\",\"B\",\"U\",\"Z\"]),\"X\",regex=True)\n",
    "valid_df[\"sequence\"]=valid_df[\"sequence\"].str.replace('|'.join([\"O\",\"B\",\"U\",\"Z\"]),\"X\",regex=True)\n",
    "# Add spaces between each amino acid for PT5 to correctly use them\n",
    "train_df['sequence']=train_df.apply(lambda row : \" \".join(row[\"sequence\"]), axis = 1)\n",
    "valid_df['sequence']=valid_df.apply(lambda row : \" \".join(row[\"sequence\"]), axis = 1)\n",
    "\n",
    "# Create Datasets\n",
    "train_set=create_dataset(tokenizer,list(train_df['sequence']),list(train_df['label']))\n",
    "valid_set=create_dataset(tokenizer,list(valid_df['sequence']),list(valid_df['label']))"
   ]
  },
  {
   "cell_type": "code",
   "execution_count": 24,
   "id": "f20a2048",
   "metadata": {},
   "outputs": [],
   "source": [
    "# %rm all_dephos_withLORA_datasetloader.sqlite3"
   ]
  },
  {
   "cell_type": "markdown",
   "id": "96bcbe5f",
   "metadata": {},
   "source": [
    "{'lr': 0.00010175943017273118, 'batch': 8, 'accum': 2, 'dropout_rate': 0.4882243131202929, 'weight_decay': 0.00014993579804161342, 'warmup_pct': 0.18496515086758566, 'lora_rank': 24, 'lora_init_scale': 0.01370043600756871, 'lora_scaling_rank': 5}"
   ]
  },
  {
   "cell_type": "code",
   "execution_count": 24,
   "id": "5a57f7fa",
   "metadata": {},
   "outputs": [],
   "source": [
    "# torch.cuda.empty_cache()"
   ]
  },
  {
   "cell_type": "code",
   "execution_count": 12,
   "id": "ddfce510-da2b-4b95-9491-49f9ae8efb06",
   "metadata": {
    "execution": {
     "iopub.execute_input": "2024-04-05T13:08:03.246094Z",
     "iopub.status.busy": "2024-04-05T13:08:03.244479Z",
     "iopub.status.idle": "2024-04-05T14:04:37.162324Z",
     "shell.execute_reply": "2024-04-05T14:04:37.160516Z",
     "shell.execute_reply.started": "2024-04-05T13:08:03.246029Z"
    },
    "tags": []
   },
   "outputs": [
    {
     "name": "stdout",
     "output_type": "stream",
     "text": [
      "ProtT5_Classfier\n",
      "Trainable Parameter: 1209193474\n",
      "ProtT5_LoRA_Classfier\n",
      "Trainable Parameter: 15355906\n",
      "\n"
     ]
    },
    {
     "data": {
      "text/html": [
       "\n",
       "    <div>\n",
       "      \n",
       "      <progress value='2387' max='4340' style='width:300px; height:20px; vertical-align: middle;'></progress>\n",
       "      [2387/4340 21:20 < 17:28, 1.86 it/s, Epoch 11/20]\n",
       "    </div>\n",
       "    <table border=\"1\" class=\"dataframe\">\n",
       "  <thead>\n",
       " <tr style=\"text-align: left;\">\n",
       "      <th>Epoch</th>\n",
       "      <th>Training Loss</th>\n",
       "      <th>Validation Loss</th>\n",
       "      <th>Accuracy</th>\n",
       "    </tr>\n",
       "  </thead>\n",
       "  <tbody>\n",
       "    <tr>\n",
       "      <td>1</td>\n",
       "      <td>0.690300</td>\n",
       "      <td>0.679313</td>\n",
       "      <td>0.688581</td>\n",
       "    </tr>\n",
       "    <tr>\n",
       "      <td>2</td>\n",
       "      <td>0.670500</td>\n",
       "      <td>0.648828</td>\n",
       "      <td>0.695502</td>\n",
       "    </tr>\n",
       "    <tr>\n",
       "      <td>3</td>\n",
       "      <td>0.634800</td>\n",
       "      <td>0.597675</td>\n",
       "      <td>0.700115</td>\n",
       "    </tr>\n",
       "    <tr>\n",
       "      <td>4</td>\n",
       "      <td>0.594700</td>\n",
       "      <td>0.555849</td>\n",
       "      <td>0.725490</td>\n",
       "    </tr>\n",
       "    <tr>\n",
       "      <td>5</td>\n",
       "      <td>0.566400</td>\n",
       "      <td>0.530540</td>\n",
       "      <td>0.734717</td>\n",
       "    </tr>\n",
       "    <tr>\n",
       "      <td>6</td>\n",
       "      <td>0.547200</td>\n",
       "      <td>0.511774</td>\n",
       "      <td>0.750865</td>\n",
       "    </tr>\n",
       "    <tr>\n",
       "      <td>7</td>\n",
       "      <td>0.530000</td>\n",
       "      <td>0.515893</td>\n",
       "      <td>0.745098</td>\n",
       "    </tr>\n",
       "    <tr>\n",
       "      <td>8</td>\n",
       "      <td>0.518800</td>\n",
       "      <td>0.512686</td>\n",
       "      <td>0.753172</td>\n",
       "    </tr>\n",
       "    <tr>\n",
       "      <td>9</td>\n",
       "      <td>0.495200</td>\n",
       "      <td>0.515750</td>\n",
       "      <td>0.753172</td>\n",
       "    </tr>\n",
       "    <tr>\n",
       "      <td>10</td>\n",
       "      <td>0.473400</td>\n",
       "      <td>0.524907</td>\n",
       "      <td>0.745098</td>\n",
       "    </tr>\n",
       "    <tr>\n",
       "      <td>11</td>\n",
       "      <td>0.459000</td>\n",
       "      <td>0.533727</td>\n",
       "      <td>0.749712</td>\n",
       "    </tr>\n",
       "  </tbody>\n",
       "</table><p>"
      ],
      "text/plain": [
       "<IPython.core.display.HTML object>"
      ]
     },
     "metadata": {},
     "output_type": "display_data"
    },
    {
     "name": "stdout",
     "output_type": "stream",
     "text": [
      "Saved improved model to ./model_output/finetuned_model_D_and_P_balance_dataset.pth\n",
      "Saved improved model to ./model_output/finetuned_model_D_and_P_balance_dataset.pth\n",
      "Saved improved model to ./model_output/finetuned_model_D_and_P_balance_dataset.pth\n",
      "Saved improved model to ./model_output/finetuned_model_D_and_P_balance_dataset.pth\n",
      "Saved improved model to ./model_output/finetuned_model_D_and_P_balance_dataset.pth\n",
      "Saved improved model to ./model_output/finetuned_model_D_and_P_balance_dataset.pth\n",
      "Saved improved model to ./model_output/finetuned_model_D_and_P_balance_dataset.pth\n",
      "Stopping early at epoch 11.0: No improvement in loss or accuracy for 3 evaluations.\n",
      "Loaded best model from ./model_output/finetuned_model_D_and_P_balance_dataset.pth\n"
     ]
    },
    {
     "data": {
      "text/html": [
       "\n",
       "    <div>\n",
       "      \n",
       "      <progress value='109' max='109' style='width:300px; height:20px; vertical-align: middle;'></progress>\n",
       "      [109/109 00:11]\n",
       "    </div>\n",
       "    "
      ],
      "text/plain": [
       "<IPython.core.display.HTML object>"
      ]
     },
     "metadata": {},
     "output_type": "display_data"
    },
    {
     "name": "stdout",
     "output_type": "stream",
     "text": [
      "Stopping early at epoch 11.0: No improvement in loss or accuracy for 3 evaluations.\n",
      "{'eval_loss': 0.5126858353614807, 'eval_accuracy': 0.7531718569780853, 'eval_runtime': 14.6159, 'eval_samples_per_second': 59.319, 'eval_steps_per_second': 7.458, 'epoch': 11.0}\n"
     ]
    }
   ],
   "source": [
    "tokenizer, model, history = train_per_protein(train_set, valid_set, num_labels=2, batch=8, accum=2, epochs=20, seed=42, lr=0.00010175943017273118, dropout=0.4882243131202929, weight_decay=0.00014993579804161342, warmup_pct=0.18496515086758566, lora_rank=24, lora_init_scale=0.01370043600756871, lora_scaling_rank=5)"
   ]
  },
  {
   "cell_type": "code",
   "execution_count": 12,
   "id": "8ebf90f6",
   "metadata": {},
   "outputs": [
    {
     "name": "stderr",
     "output_type": "stream",
     "text": [
      "[I 2024-06-16 08:42:45,813] A new study created in RDB with name: finetuned_model_D_and_P_balance_dataset\n"
     ]
    },
    {
     "name": "stdout",
     "output_type": "stream",
     "text": [
      "ProtT5_Classfier\n",
      "Trainable Parameter: 1209193475.0\n",
      "ProtT5_LoRA_Classfier\n",
      "Trainable Parameter: 6508547.0\n",
      "\n"
     ]
    },
    {
     "name": "stderr",
     "output_type": "stream",
     "text": [
      "/home/ubuntu/data/miniconda3/envs/finetune-dephos/lib/python3.9/site-packages/accelerate/accelerator.py:446: FutureWarning: Passing the following arguments to `Accelerator` is deprecated and will be removed in version 1.0 of Accelerate: dict_keys(['dispatch_batches', 'split_batches']). Please pass an `accelerate.DataLoaderConfiguration` instead: \n",
      "dataloader_config = DataLoaderConfiguration(dispatch_batches=None, split_batches=False)\n",
      "  warnings.warn(\n"
     ]
    },
    {
     "data": {
      "text/html": [
       "\n",
       "    <div>\n",
       "      \n",
       "      <progress value='8670' max='8670' style='width:300px; height:20px; vertical-align: middle;'></progress>\n",
       "      [8670/8670 1:04:30, Epoch 10/10]\n",
       "    </div>\n",
       "    <table border=\"1\" class=\"dataframe\">\n",
       "  <thead>\n",
       " <tr style=\"text-align: left;\">\n",
       "      <th>Epoch</th>\n",
       "      <th>Training Loss</th>\n",
       "      <th>Validation Loss</th>\n",
       "      <th>Accuracy</th>\n",
       "    </tr>\n",
       "  </thead>\n",
       "  <tbody>\n",
       "    <tr>\n",
       "      <td>1</td>\n",
       "      <td>0.705400</td>\n",
       "      <td>0.686417</td>\n",
       "      <td>0.573241</td>\n",
       "    </tr>\n",
       "    <tr>\n",
       "      <td>2</td>\n",
       "      <td>0.688400</td>\n",
       "      <td>0.658634</td>\n",
       "      <td>0.707036</td>\n",
       "    </tr>\n",
       "    <tr>\n",
       "      <td>3</td>\n",
       "      <td>0.660600</td>\n",
       "      <td>0.626107</td>\n",
       "      <td>0.717416</td>\n",
       "    </tr>\n",
       "    <tr>\n",
       "      <td>4</td>\n",
       "      <td>0.635100</td>\n",
       "      <td>0.593098</td>\n",
       "      <td>0.712803</td>\n",
       "    </tr>\n",
       "    <tr>\n",
       "      <td>5</td>\n",
       "      <td>0.603600</td>\n",
       "      <td>0.564025</td>\n",
       "      <td>0.720877</td>\n",
       "    </tr>\n",
       "    <tr>\n",
       "      <td>6</td>\n",
       "      <td>0.581500</td>\n",
       "      <td>0.545022</td>\n",
       "      <td>0.728950</td>\n",
       "    </tr>\n",
       "    <tr>\n",
       "      <td>7</td>\n",
       "      <td>0.576500</td>\n",
       "      <td>0.529589</td>\n",
       "      <td>0.749712</td>\n",
       "    </tr>\n",
       "    <tr>\n",
       "      <td>8</td>\n",
       "      <td>0.563600</td>\n",
       "      <td>0.518078</td>\n",
       "      <td>0.756632</td>\n",
       "    </tr>\n",
       "    <tr>\n",
       "      <td>9</td>\n",
       "      <td>0.557200</td>\n",
       "      <td>0.516792</td>\n",
       "      <td>0.761246</td>\n",
       "    </tr>\n",
       "    <tr>\n",
       "      <td>10</td>\n",
       "      <td>0.557500</td>\n",
       "      <td>0.510511</td>\n",
       "      <td>0.769319</td>\n",
       "    </tr>\n",
       "  </tbody>\n",
       "</table><p>"
      ],
      "text/plain": [
       "<IPython.core.display.HTML object>"
      ]
     },
     "metadata": {},
     "output_type": "display_data"
    },
    {
     "name": "stdout",
     "output_type": "stream",
     "text": [
      "Saved improved model to ./model_output/finetuned_model_D_and_P_balance_dataset.pth\n",
      "Saved improved model to ./model_output/finetuned_model_D_and_P_balance_dataset.pth\n",
      "Saved improved model to ./model_output/finetuned_model_D_and_P_balance_dataset.pth\n",
      "Saved improved model to ./model_output/finetuned_model_D_and_P_balance_dataset.pth\n",
      "Saved improved model to ./model_output/finetuned_model_D_and_P_balance_dataset.pth\n",
      "Saved improved model to ./model_output/finetuned_model_D_and_P_balance_dataset.pth\n",
      "Saved improved model to ./model_output/finetuned_model_D_and_P_balance_dataset.pth\n",
      "Saved improved model to ./model_output/finetuned_model_D_and_P_balance_dataset.pth\n",
      "Saved improved model to ./model_output/finetuned_model_D_and_P_balance_dataset.pth\n",
      "Saved improved model to ./model_output/finetuned_model_D_and_P_balance_dataset.pth\n",
      "Loaded best model from ./model_output/finetuned_model_D_and_P_balance_dataset.pth\n"
     ]
    },
    {
     "data": {
      "text/html": [
       "\n",
       "    <div>\n",
       "      \n",
       "      <progress value='109' max='109' style='width:300px; height:20px; vertical-align: middle;'></progress>\n",
       "      [109/109 00:11]\n",
       "    </div>\n",
       "    "
      ],
      "text/plain": [
       "<IPython.core.display.HTML object>"
      ]
     },
     "metadata": {},
     "output_type": "display_data"
    },
    {
     "name": "stdout",
     "output_type": "stream",
     "text": [
      "{'eval_loss': 0.5105111002922058, 'eval_accuracy': 0.7693194925028836, 'eval_runtime': 13.1314, 'eval_samples_per_second': 66.025, 'eval_steps_per_second': 8.301, 'epoch': 10.0}\n"
     ]
    },
    {
     "name": "stderr",
     "output_type": "stream",
     "text": [
      "[I 2024-06-16 09:48:16,368] Trial 0 finished with values: [0.5105111002922058, 0.7693194925028836] and parameters: {'lr': 3.758762055180164e-05, 'batch': 1, 'accum': 4, 'dropout_rate': 0.7320932156900825, 'weight_decay': 0.0005031075722602088, 'warmup_pct': 0.2463007406840469, 'lora_rank': 4, 'lora_init_scale': 0.0008209558837694562, 'lora_scaling_rank': 7}. \n"
     ]
    },
    {
     "name": "stdout",
     "output_type": "stream",
     "text": [
      "History:  [{'loss': 0.7054, 'learning_rate': 3.815532960825667e-06, 'epoch': 1.0, 'step': 867}, {'eval_loss': 0.6864169836044312, 'eval_accuracy': 0.5732410611303345, 'eval_runtime': 14.495, 'eval_samples_per_second': 59.814, 'eval_steps_per_second': 7.52, 'epoch': 1.0, 'step': 867}, {'loss': 0.6884, 'learning_rate': 7.631065921651334e-06, 'epoch': 2.0, 'step': 1734}, {'eval_loss': 0.6586339473724365, 'eval_accuracy': 0.707035755478662, 'eval_runtime': 13.4709, 'eval_samples_per_second': 64.361, 'eval_steps_per_second': 8.092, 'epoch': 2.0, 'step': 1734}, {'loss': 0.6606, 'learning_rate': 1.1446598882477001e-05, 'epoch': 3.0, 'step': 2601}, {'eval_loss': 0.6261072158813477, 'eval_accuracy': 0.7174163783160323, 'eval_runtime': 13.452, 'eval_samples_per_second': 64.451, 'eval_steps_per_second': 8.103, 'epoch': 3.0, 'step': 2601}, {'loss': 0.6351, 'learning_rate': 1.5262131843302667e-05, 'epoch': 4.0, 'step': 3468}, {'eval_loss': 0.5930981040000916, 'eval_accuracy': 0.71280276816609, 'eval_runtime': 13.3781, 'eval_samples_per_second': 64.807, 'eval_steps_per_second': 8.148, 'epoch': 4.0, 'step': 3468}, {'loss': 0.6036, 'learning_rate': 1.9077664804128337e-05, 'epoch': 5.0, 'step': 4335}, {'eval_loss': 0.5640249848365784, 'eval_accuracy': 0.720876585928489, 'eval_runtime': 13.3442, 'eval_samples_per_second': 64.972, 'eval_steps_per_second': 8.168, 'epoch': 5.0, 'step': 4335}, {'loss': 0.5815, 'learning_rate': 2.2893197764954003e-05, 'epoch': 6.0, 'step': 5202}, {'eval_loss': 0.545022189617157, 'eval_accuracy': 0.7289504036908881, 'eval_runtime': 13.3251, 'eval_samples_per_second': 65.065, 'eval_steps_per_second': 8.18, 'epoch': 6.0, 'step': 5202}, {'loss': 0.5765, 'learning_rate': 2.670873072577967e-05, 'epoch': 7.0, 'step': 6069}, {'eval_loss': 0.5295888185501099, 'eval_accuracy': 0.7497116493656286, 'eval_runtime': 13.312, 'eval_samples_per_second': 65.129, 'eval_steps_per_second': 8.188, 'epoch': 7.0, 'step': 6069}, {'loss': 0.5636, 'learning_rate': 3.0524263686605335e-05, 'epoch': 8.0, 'step': 6936}, {'eval_loss': 0.5180782079696655, 'eval_accuracy': 0.7566320645905421, 'eval_runtime': 13.3107, 'eval_samples_per_second': 65.135, 'eval_steps_per_second': 8.189, 'epoch': 8.0, 'step': 6936}, {'loss': 0.5572, 'learning_rate': 3.4339796647431004e-05, 'epoch': 9.0, 'step': 7803}, {'eval_loss': 0.5167917013168335, 'eval_accuracy': 0.7612456747404844, 'eval_runtime': 13.3102, 'eval_samples_per_second': 65.138, 'eval_steps_per_second': 8.189, 'epoch': 9.0, 'step': 7803}, {'loss': 0.5575, 'learning_rate': 0.0, 'epoch': 10.0, 'step': 8670}, {'eval_loss': 0.5105111002922058, 'eval_accuracy': 0.7693194925028836, 'eval_runtime': 13.3025, 'eval_samples_per_second': 65.176, 'eval_steps_per_second': 8.194, 'epoch': 10.0, 'step': 8670}, {'train_runtime': 3872.0185, 'train_samples_per_second': 8.957, 'train_steps_per_second': 2.239, 'total_flos': 8592021749357280.0, 'train_loss': 0.6129382246780836, 'epoch': 10.0, 'step': 8670}, {'eval_loss': 0.5105111002922058, 'eval_accuracy': 0.7693194925028836, 'eval_runtime': 13.1314, 'eval_samples_per_second': 66.025, 'eval_steps_per_second': 8.301, 'epoch': 10.0, 'step': 8670}]\n"
     ]
    },
    {
     "name": "stderr",
     "output_type": "stream",
     "text": [
      "/home/ubuntu/data/miniconda3/envs/finetune-dephos/lib/python3.9/site-packages/huggingface_hub/file_download.py:1132: FutureWarning: `resume_download` is deprecated and will be removed in version 1.0.0. Downloads always resume when possible. If you want to force a new download, use `force_download=True`.\n",
      "  warnings.warn(\n"
     ]
    },
    {
     "name": "stdout",
     "output_type": "stream",
     "text": [
      "ProtT5_Classfier\n",
      "Trainable Parameter: 1209193475.0\n",
      "ProtT5_LoRA_Classfier\n",
      "Trainable Parameter: 15847427.0\n",
      "\n"
     ]
    },
    {
     "name": "stderr",
     "output_type": "stream",
     "text": [
      "/home/ubuntu/data/miniconda3/envs/finetune-dephos/lib/python3.9/site-packages/accelerate/accelerator.py:446: FutureWarning: Passing the following arguments to `Accelerator` is deprecated and will be removed in version 1.0 of Accelerate: dict_keys(['dispatch_batches', 'split_batches']). Please pass an `accelerate.DataLoaderConfiguration` instead: \n",
      "dataloader_config = DataLoaderConfiguration(dispatch_batches=None, split_batches=False)\n",
      "  warnings.warn(\n"
     ]
    },
    {
     "data": {
      "text/html": [
       "\n",
       "    <div>\n",
       "      \n",
       "      <progress value='4330' max='4330' style='width:300px; height:20px; vertical-align: middle;'></progress>\n",
       "      [4330/4330 25:28, Epoch 9/10]\n",
       "    </div>\n",
       "    <table border=\"1\" class=\"dataframe\">\n",
       "  <thead>\n",
       " <tr style=\"text-align: left;\">\n",
       "      <th>Epoch</th>\n",
       "      <th>Training Loss</th>\n",
       "      <th>Validation Loss</th>\n",
       "      <th>Accuracy</th>\n",
       "    </tr>\n",
       "  </thead>\n",
       "  <tbody>\n",
       "    <tr>\n",
       "      <td>0</td>\n",
       "      <td>0.743200</td>\n",
       "      <td>0.673790</td>\n",
       "      <td>0.644752</td>\n",
       "    </tr>\n",
       "    <tr>\n",
       "      <td>2</td>\n",
       "      <td>0.663900</td>\n",
       "      <td>0.588992</td>\n",
       "      <td>0.710496</td>\n",
       "    </tr>\n",
       "    <tr>\n",
       "      <td>4</td>\n",
       "      <td>0.604500</td>\n",
       "      <td>0.532473</td>\n",
       "      <td>0.739331</td>\n",
       "    </tr>\n",
       "    <tr>\n",
       "      <td>6</td>\n",
       "      <td>0.582200</td>\n",
       "      <td>0.510869</td>\n",
       "      <td>0.752018</td>\n",
       "    </tr>\n",
       "    <tr>\n",
       "      <td>8</td>\n",
       "      <td>0.559600</td>\n",
       "      <td>0.504713</td>\n",
       "      <td>0.761246</td>\n",
       "    </tr>\n",
       "    <tr>\n",
       "      <td>9</td>\n",
       "      <td>0.559200</td>\n",
       "      <td>0.504481</td>\n",
       "      <td>0.758939</td>\n",
       "    </tr>\n",
       "  </tbody>\n",
       "</table><p>"
      ],
      "text/plain": [
       "<IPython.core.display.HTML object>"
      ]
     },
     "metadata": {},
     "output_type": "display_data"
    },
    {
     "name": "stdout",
     "output_type": "stream",
     "text": [
      "Saved improved model to ./model_output/finetuned_model_D_and_P_balance_dataset.pth\n",
      "Saved improved model to ./model_output/finetuned_model_D_and_P_balance_dataset.pth\n",
      "Saved improved model to ./model_output/finetuned_model_D_and_P_balance_dataset.pth\n",
      "Saved improved model to ./model_output/finetuned_model_D_and_P_balance_dataset.pth\n",
      "Saved improved model to ./model_output/finetuned_model_D_and_P_balance_dataset.pth\n",
      "Saved improved model to ./model_output/finetuned_model_D_and_P_balance_dataset.pth\n",
      "Saved improved model to ./model_output/finetuned_model_D_and_P_balance_dataset.pth\n",
      "Saved improved model to ./model_output/finetuned_model_D_and_P_balance_dataset.pth\n",
      "Saved improved model to ./model_output/finetuned_model_D_and_P_balance_dataset.pth\n",
      "Loaded best model from ./model_output/finetuned_model_D_and_P_balance_dataset.pth\n"
     ]
    },
    {
     "data": {
      "text/html": [
       "\n",
       "    <div>\n",
       "      \n",
       "      <progress value='109' max='109' style='width:300px; height:20px; vertical-align: middle;'></progress>\n",
       "      [109/109 00:11]\n",
       "    </div>\n",
       "    "
      ],
      "text/plain": [
       "<IPython.core.display.HTML object>"
      ]
     },
     "metadata": {},
     "output_type": "display_data"
    },
    {
     "name": "stdout",
     "output_type": "stream",
     "text": [
      "{'eval_loss': 0.5047129392623901, 'eval_accuracy': 0.7612456747404844, 'eval_runtime': 12.4115, 'eval_samples_per_second': 69.855, 'eval_steps_per_second': 8.782, 'epoch': 9.99}\n"
     ]
    },
    {
     "name": "stderr",
     "output_type": "stream",
     "text": [
      "[I 2024-06-16 10:14:40,692] Trial 1 finished with values: [0.5047129392623901, 0.7612456747404844] and parameters: {'lr': 7.22642175796173e-05, 'batch': 4, 'accum': 2, 'dropout_rate': 0.8559550689440982, 'weight_decay': 0.00043227475326132285, 'warmup_pct': 0.15462277045804768, 'lora_rank': 28, 'lora_init_scale': 0.015547162542323927, 'lora_scaling_rank': 2}. \n"
     ]
    },
    {
     "name": "stdout",
     "output_type": "stream",
     "text": [
      "History:  [{'loss': 0.7432, 'learning_rate': 2.3351049411921112e-05, 'epoch': 1.0, 'step': 433}, {'eval_loss': 0.6737896800041199, 'eval_accuracy': 0.6447520184544406, 'eval_runtime': 14.0524, 'eval_samples_per_second': 61.698, 'eval_steps_per_second': 7.757, 'epoch': 1.0, 'step': 433}, {'loss': 0.6921, 'learning_rate': 4.6756027344424025e-05, 'epoch': 2.0, 'step': 867}, {'eval_loss': 0.6294867396354675, 'eval_accuracy': 0.707035755478662, 'eval_runtime': 12.436, 'eval_samples_per_second': 69.717, 'eval_steps_per_second': 8.765, 'epoch': 2.0, 'step': 867}, {'loss': 0.6639, 'learning_rate': 7.010707675634515e-05, 'epoch': 3.0, 'step': 1300}, {'eval_loss': 0.588991641998291, 'eval_accuracy': 0.7104959630911188, 'eval_runtime': 12.4859, 'eval_samples_per_second': 69.438, 'eval_steps_per_second': 8.73, 'epoch': 3.0, 'step': 1300}, {'loss': 0.6224, 'learning_rate': 6.274177553066439e-05, 'epoch': 4.0, 'step': 1734}, {'eval_loss': 0.5548428893089294, 'eval_accuracy': 0.7277970011534025, 'eval_runtime': 12.4225, 'eval_samples_per_second': 69.793, 'eval_steps_per_second': 8.774, 'epoch': 4.0, 'step': 1734}, {'loss': 0.6045, 'learning_rate': 5.227675673067299e-05, 'epoch': 5.0, 'step': 2167}, {'eval_loss': 0.5324729681015015, 'eval_accuracy': 0.7393310265282583, 'eval_runtime': 12.4924, 'eval_samples_per_second': 69.402, 'eval_steps_per_second': 8.725, 'epoch': 5.0, 'step': 2167}, {'loss': 0.5979, 'learning_rate': 4.178756929603957e-05, 'epoch': 6.0, 'step': 2601}, {'eval_loss': 0.5206310153007507, 'eval_accuracy': 0.7497116493656286, 'eval_runtime': 12.4464, 'eval_samples_per_second': 69.659, 'eval_steps_per_second': 8.758, 'epoch': 6.0, 'step': 2601}, {'loss': 0.5822, 'learning_rate': 3.132255049604817e-05, 'epoch': 7.0, 'step': 3034}, {'eval_loss': 0.5108690857887268, 'eval_accuracy': 0.7520184544405998, 'eval_runtime': 12.4889, 'eval_samples_per_second': 69.422, 'eval_steps_per_second': 8.728, 'epoch': 7.0, 'step': 3034}, {'loss': 0.5779, 'learning_rate': 2.0833363061414752e-05, 'epoch': 8.0, 'step': 3468}, {'eval_loss': 0.5071641206741333, 'eval_accuracy': 0.7566320645905421, 'eval_runtime': 12.4413, 'eval_samples_per_second': 69.688, 'eval_steps_per_second': 8.761, 'epoch': 8.0, 'step': 3468}, {'loss': 0.5596, 'learning_rate': 1.0368344261423352e-05, 'epoch': 9.0, 'step': 3901}, {'eval_loss': 0.5047129392623901, 'eval_accuracy': 0.7612456747404844, 'eval_runtime': 12.4656, 'eval_samples_per_second': 69.552, 'eval_steps_per_second': 8.744, 'epoch': 9.0, 'step': 3901}, {'loss': 0.5592, 'learning_rate': 0.0, 'epoch': 9.99, 'step': 4330}, {'eval_loss': 0.5044806003570557, 'eval_accuracy': 0.7589388696655133, 'eval_runtime': 12.4841, 'eval_samples_per_second': 69.448, 'eval_steps_per_second': 8.731, 'epoch': 9.99, 'step': 4330}, {'train_runtime': 1528.6512, 'train_samples_per_second': 22.687, 'train_steps_per_second': 2.833, 'total_flos': 8648105445522240.0, 'train_loss': 0.6203284353912565, 'epoch': 9.99, 'step': 4330}, {'eval_loss': 0.5047129392623901, 'eval_accuracy': 0.7612456747404844, 'eval_runtime': 12.4115, 'eval_samples_per_second': 69.855, 'eval_steps_per_second': 8.782, 'epoch': 9.99, 'step': 4330}]\n"
     ]
    },
    {
     "name": "stderr",
     "output_type": "stream",
     "text": [
      "/home/ubuntu/data/miniconda3/envs/finetune-dephos/lib/python3.9/site-packages/huggingface_hub/file_download.py:1132: FutureWarning: `resume_download` is deprecated and will be removed in version 1.0.0. Downloads always resume when possible. If you want to force a new download, use `force_download=True`.\n",
      "  warnings.warn(\n"
     ]
    },
    {
     "name": "stdout",
     "output_type": "stream",
     "text": [
      "ProtT5_Classfier\n",
      "Trainable Parameter: 1209193475.0\n",
      "ProtT5_LoRA_Classfier\n",
      "Trainable Parameter: 6017027.0\n",
      "\n"
     ]
    },
    {
     "name": "stderr",
     "output_type": "stream",
     "text": [
      "/home/ubuntu/data/miniconda3/envs/finetune-dephos/lib/python3.9/site-packages/accelerate/accelerator.py:446: FutureWarning: Passing the following arguments to `Accelerator` is deprecated and will be removed in version 1.0 of Accelerate: dict_keys(['dispatch_batches', 'split_batches']). Please pass an `accelerate.DataLoaderConfiguration` instead: \n",
      "dataloader_config = DataLoaderConfiguration(dispatch_batches=None, split_batches=False)\n",
      "  warnings.warn(\n"
     ]
    },
    {
     "data": {
      "text/html": [
       "\n",
       "    <div>\n",
       "      \n",
       "      <progress value='1080' max='1080' style='width:300px; height:20px; vertical-align: middle;'></progress>\n",
       "      [1080/1080 24:29, Epoch 9/10]\n",
       "    </div>\n",
       "    <table border=\"1\" class=\"dataframe\">\n",
       "  <thead>\n",
       " <tr style=\"text-align: left;\">\n",
       "      <th>Epoch</th>\n",
       "      <th>Training Loss</th>\n",
       "      <th>Validation Loss</th>\n",
       "      <th>Accuracy</th>\n",
       "    </tr>\n",
       "  </thead>\n",
       "  <tbody>\n",
       "    <tr>\n",
       "      <td>0</td>\n",
       "      <td>0.699000</td>\n",
       "      <td>0.649077</td>\n",
       "      <td>0.695502</td>\n",
       "    </tr>\n",
       "    <tr>\n",
       "      <td>1</td>\n",
       "      <td>0.638600</td>\n",
       "      <td>0.584898</td>\n",
       "      <td>0.716263</td>\n",
       "    </tr>\n",
       "    <tr>\n",
       "      <td>2</td>\n",
       "      <td>0.585200</td>\n",
       "      <td>0.538216</td>\n",
       "      <td>0.731257</td>\n",
       "    </tr>\n",
       "    <tr>\n",
       "      <td>3</td>\n",
       "      <td>0.562800</td>\n",
       "      <td>0.501300</td>\n",
       "      <td>0.769319</td>\n",
       "    </tr>\n",
       "    <tr>\n",
       "      <td>4</td>\n",
       "      <td>0.538100</td>\n",
       "      <td>0.485238</td>\n",
       "      <td>0.771626</td>\n",
       "    </tr>\n",
       "    <tr>\n",
       "      <td>5</td>\n",
       "      <td>0.506200</td>\n",
       "      <td>0.471656</td>\n",
       "      <td>0.776240</td>\n",
       "    </tr>\n",
       "    <tr>\n",
       "      <td>6</td>\n",
       "      <td>0.487300</td>\n",
       "      <td>0.472879</td>\n",
       "      <td>0.778547</td>\n",
       "    </tr>\n",
       "    <tr>\n",
       "      <td>8</td>\n",
       "      <td>0.402900</td>\n",
       "      <td>0.495871</td>\n",
       "      <td>0.767013</td>\n",
       "    </tr>\n",
       "    <tr>\n",
       "      <td>9</td>\n",
       "      <td>0.339200</td>\n",
       "      <td>0.582072</td>\n",
       "      <td>0.769319</td>\n",
       "    </tr>\n",
       "  </tbody>\n",
       "</table><p>"
      ],
      "text/plain": [
       "<IPython.core.display.HTML object>"
      ]
     },
     "metadata": {},
     "output_type": "display_data"
    },
    {
     "name": "stdout",
     "output_type": "stream",
     "text": [
      "Saved improved model to ./model_output/finetuned_model_D_and_P_balance_dataset.pth\n",
      "Saved improved model to ./model_output/finetuned_model_D_and_P_balance_dataset.pth\n",
      "Saved improved model to ./model_output/finetuned_model_D_and_P_balance_dataset.pth\n",
      "Saved improved model to ./model_output/finetuned_model_D_and_P_balance_dataset.pth\n",
      "Saved improved model to ./model_output/finetuned_model_D_and_P_balance_dataset.pth\n",
      "Saved improved model to ./model_output/finetuned_model_D_and_P_balance_dataset.pth\n",
      "Saved improved model to ./model_output/finetuned_model_D_and_P_balance_dataset.pth\n",
      "Saved improved model to ./model_output/finetuned_model_D_and_P_balance_dataset.pth\n",
      "Loaded best model from ./model_output/finetuned_model_D_and_P_balance_dataset.pth\n"
     ]
    },
    {
     "data": {
      "text/html": [
       "\n",
       "    <div>\n",
       "      \n",
       "      <progress value='109' max='109' style='width:300px; height:20px; vertical-align: middle;'></progress>\n",
       "      [109/109 00:11]\n",
       "    </div>\n",
       "    "
      ],
      "text/plain": [
       "<IPython.core.display.HTML object>"
      ]
     },
     "metadata": {},
     "output_type": "display_data"
    },
    {
     "name": "stdout",
     "output_type": "stream",
     "text": [
      "Stopping early at epoch 9.965397923875432: No improvement in loss or accuracy for 3 evaluations.\n",
      "{'eval_loss': 0.48147228360176086, 'eval_accuracy': 0.7808535178777394, 'eval_runtime': 12.228, 'eval_samples_per_second': 70.903, 'eval_steps_per_second': 8.914, 'epoch': 9.97}\n"
     ]
    },
    {
     "name": "stderr",
     "output_type": "stream",
     "text": [
      "[I 2024-06-16 10:40:06,034] Trial 2 finished with values: [0.48147228360176086, 0.7808535178777394] and parameters: {'lr': 0.0012503640810637153, 'batch': 4, 'accum': 8, 'dropout_rate': 0.7199713439988092, 'weight_decay': 0.00024332594426522476, 'warmup_pct': 0.2775446358093314, 'lora_rank': 4, 'lora_init_scale': 0.07579926522661985, 'lora_scaling_rank': 6}. \n"
     ]
    },
    {
     "name": "stdout",
     "output_type": "stream",
     "text": [
      "History:  [{'loss': 0.699, 'learning_rate': 5.61260684766755e-05, 'epoch': 1.0, 'step': 108}, {'eval_loss': 0.6490774154663086, 'eval_accuracy': 0.6955017301038062, 'eval_runtime': 13.8488, 'eval_samples_per_second': 62.605, 'eval_steps_per_second': 7.871, 'epoch': 1.0, 'step': 108}, {'loss': 0.6386, 'learning_rate': 0.000112252136953351, 'epoch': 1.99, 'step': 216}, {'eval_loss': 0.584898054599762, 'eval_accuracy': 0.7162629757785467, 'eval_runtime': 12.1198, 'eval_samples_per_second': 71.536, 'eval_steps_per_second': 8.994, 'epoch': 1.99, 'step': 216}, {'loss': 0.5852, 'learning_rate': 0.000168897891249255, 'epoch': 3.0, 'step': 325}, {'eval_loss': 0.5382158160209656, 'eval_accuracy': 0.7312572087658593, 'eval_runtime': 12.1553, 'eval_samples_per_second': 71.327, 'eval_steps_per_second': 8.967, 'epoch': 3.0, 'step': 325}, {'loss': 0.5628, 'learning_rate': 0.00022502395972593049, 'epoch': 4.0, 'step': 433}, {'eval_loss': 0.5012996792793274, 'eval_accuracy': 0.7693194925028836, 'eval_runtime': 12.1157, 'eval_samples_per_second': 71.56, 'eval_steps_per_second': 8.997, 'epoch': 4.0, 'step': 433}, {'loss': 0.5381, 'learning_rate': 0.00028115002820260597, 'epoch': 4.99, 'step': 541}, {'eval_loss': 0.4852384924888611, 'eval_accuracy': 0.7716262975778547, 'eval_runtime': 12.1409, 'eval_samples_per_second': 71.412, 'eval_steps_per_second': 8.978, 'epoch': 4.99, 'step': 541}, {'loss': 0.5062, 'learning_rate': 0.00033779578249851, 'epoch': 6.0, 'step': 650}, {'eval_loss': 0.4716556966304779, 'eval_accuracy': 0.776239907727797, 'eval_runtime': 12.1229, 'eval_samples_per_second': 71.518, 'eval_steps_per_second': 8.991, 'epoch': 6.0, 'step': 650}, {'loss': 0.4873, 'learning_rate': 0.00039392185097518543, 'epoch': 6.99, 'step': 758}, {'eval_loss': 0.4728793203830719, 'eval_accuracy': 0.7785467128027682, 'eval_runtime': 12.1275, 'eval_samples_per_second': 71.49, 'eval_steps_per_second': 8.988, 'epoch': 6.99, 'step': 758}, {'loss': 0.4462, 'learning_rate': 0.0004505676052710894, 'epoch': 8.0, 'step': 867}, {'eval_loss': 0.48147228360176086, 'eval_accuracy': 0.7808535178777394, 'eval_runtime': 12.1409, 'eval_samples_per_second': 71.412, 'eval_steps_per_second': 8.978, 'epoch': 8.0, 'step': 867}, {'loss': 0.4029, 'learning_rate': 0.0005066936737477649, 'epoch': 9.0, 'step': 975}, {'eval_loss': 0.4958708584308624, 'eval_accuracy': 0.7670126874279123, 'eval_runtime': 12.099, 'eval_samples_per_second': 71.659, 'eval_steps_per_second': 9.009, 'epoch': 9.0, 'step': 975}, {'loss': 0.3392, 'learning_rate': 0.0005612606847667551, 'epoch': 9.97, 'step': 1080}, {'eval_loss': 0.5820724368095398, 'eval_accuracy': 0.7693194925028836, 'eval_runtime': 12.1419, 'eval_samples_per_second': 71.406, 'eval_steps_per_second': 8.977, 'epoch': 9.97, 'step': 1080}, {'train_runtime': 1471.2501, 'train_samples_per_second': 23.572, 'train_steps_per_second': 0.734, 'total_flos': 8558826236328960.0, 'train_loss': 0.5210253468266239, 'epoch': 9.97, 'step': 1080}, {'eval_loss': 0.48147228360176086, 'eval_accuracy': 0.7808535178777394, 'eval_runtime': 12.228, 'eval_samples_per_second': 70.903, 'eval_steps_per_second': 8.914, 'epoch': 9.97, 'step': 1080}]\n"
     ]
    },
    {
     "name": "stderr",
     "output_type": "stream",
     "text": [
      "/home/ubuntu/data/miniconda3/envs/finetune-dephos/lib/python3.9/site-packages/huggingface_hub/file_download.py:1132: FutureWarning: `resume_download` is deprecated and will be removed in version 1.0.0. Downloads always resume when possible. If you want to force a new download, use `force_download=True`.\n",
      "  warnings.warn(\n"
     ]
    },
    {
     "name": "stdout",
     "output_type": "stream",
     "text": [
      "ProtT5_Classfier\n",
      "Trainable Parameter: 1209193475.0\n",
      "ProtT5_LoRA_Classfier\n",
      "Trainable Parameter: 8966147.0\n",
      "\n"
     ]
    },
    {
     "name": "stderr",
     "output_type": "stream",
     "text": [
      "/home/ubuntu/data/miniconda3/envs/finetune-dephos/lib/python3.9/site-packages/accelerate/accelerator.py:446: FutureWarning: Passing the following arguments to `Accelerator` is deprecated and will be removed in version 1.0 of Accelerate: dict_keys(['dispatch_batches', 'split_batches']). Please pass an `accelerate.DataLoaderConfiguration` instead: \n",
      "dataloader_config = DataLoaderConfiguration(dispatch_batches=None, split_batches=False)\n",
      "  warnings.warn(\n"
     ]
    },
    {
     "data": {
      "text/html": [
       "\n",
       "    <div>\n",
       "      \n",
       "      <progress value='2601' max='4330' style='width:300px; height:20px; vertical-align: middle;'></progress>\n",
       "      [2601/4330 15:10 < 10:05, 2.86 it/s, Epoch 6/10]\n",
       "    </div>\n",
       "    <table border=\"1\" class=\"dataframe\">\n",
       "  <thead>\n",
       " <tr style=\"text-align: left;\">\n",
       "      <th>Epoch</th>\n",
       "      <th>Training Loss</th>\n",
       "      <th>Validation Loss</th>\n",
       "      <th>Accuracy</th>\n",
       "    </tr>\n",
       "  </thead>\n",
       "  <tbody>\n",
       "    <tr>\n",
       "      <td>0</td>\n",
       "      <td>0.638000</td>\n",
       "      <td>0.501384</td>\n",
       "      <td>0.768166</td>\n",
       "    </tr>\n",
       "    <tr>\n",
       "      <td>2</td>\n",
       "      <td>0.483400</td>\n",
       "      <td>0.506311</td>\n",
       "      <td>0.783160</td>\n",
       "    </tr>\n",
       "    <tr>\n",
       "      <td>4</td>\n",
       "      <td>0.303300</td>\n",
       "      <td>0.907130</td>\n",
       "      <td>0.770473</td>\n",
       "    </tr>\n",
       "    <tr>\n",
       "      <td>6</td>\n",
       "      <td>0.211900</td>\n",
       "      <td>0.987812</td>\n",
       "      <td>0.782007</td>\n",
       "    </tr>\n",
       "  </tbody>\n",
       "</table><p>"
      ],
      "text/plain": [
       "<IPython.core.display.HTML object>"
      ]
     },
     "metadata": {},
     "output_type": "display_data"
    },
    {
     "name": "stdout",
     "output_type": "stream",
     "text": [
      "Saved improved model to ./model_output/finetuned_model_D_and_P_balance_dataset.pth\n",
      "Saved improved model to ./model_output/finetuned_model_D_and_P_balance_dataset.pth\n",
      "Saved improved model to ./model_output/finetuned_model_D_and_P_balance_dataset.pth\n",
      "Stopping early at epoch 6.0: No improvement in loss or accuracy for 3 evaluations.\n",
      "Loaded best model from ./model_output/finetuned_model_D_and_P_balance_dataset.pth\n"
     ]
    },
    {
     "data": {
      "text/html": [
       "\n",
       "    <div>\n",
       "      \n",
       "      <progress value='109' max='109' style='width:300px; height:20px; vertical-align: middle;'></progress>\n",
       "      [109/109 00:11]\n",
       "    </div>\n",
       "    "
      ],
      "text/plain": [
       "<IPython.core.display.HTML object>"
      ]
     },
     "metadata": {},
     "output_type": "display_data"
    },
    {
     "name": "stdout",
     "output_type": "stream",
     "text": [
      "Stopping early at epoch 6.0: No improvement in loss or accuracy for 3 evaluations.\n",
      "{'eval_loss': 0.5063105821609497, 'eval_accuracy': 0.7831603229527105, 'eval_runtime': 12.1014, 'eval_samples_per_second': 71.644, 'eval_steps_per_second': 9.007, 'epoch': 6.0}\n"
     ]
    },
    {
     "name": "stderr",
     "output_type": "stream",
     "text": [
      "[I 2024-06-16 10:56:09,884] Trial 3 finished with values: [0.5063105821609497, 0.7831603229527105] and parameters: {'lr': 0.0008810477725102257, 'batch': 4, 'accum': 2, 'dropout_rate': 0.7094520529165736, 'weight_decay': 2.8132302365672252e-05, 'warmup_pct': 0.025195812845497136, 'lora_rank': 12, 'lora_init_scale': 0.01750033378810108, 'lora_scaling_rank': 4}. \n"
     ]
    },
    {
     "name": "stdout",
     "output_type": "stream",
     "text": [
      "History:  [{'loss': 0.638, 'learning_rate': 0.000834981315533159, 'epoch': 1.0, 'step': 433}, {'eval_loss': 0.5013837218284607, 'eval_accuracy': 0.7681660899653979, 'eval_runtime': 13.7977, 'eval_samples_per_second': 62.837, 'eval_steps_per_second': 7.9, 'epoch': 1.0, 'step': 433}, {'loss': 0.5428, 'learning_rate': 0.0007419913512166614, 'epoch': 2.0, 'step': 867}, {'eval_loss': 0.5009746551513672, 'eval_accuracy': 0.7808535178777394, 'eval_runtime': 12.3529, 'eval_samples_per_second': 70.186, 'eval_steps_per_second': 8.824, 'epoch': 2.0, 'step': 867}, {'loss': 0.4834, 'learning_rate': 0.0006492156494907549, 'epoch': 3.0, 'step': 1300}, {'eval_loss': 0.5063105821609497, 'eval_accuracy': 0.7831603229527105, 'eval_runtime': 12.1207, 'eval_samples_per_second': 71.53, 'eval_steps_per_second': 8.993, 'epoch': 3.0, 'step': 1300}, {'loss': 0.3858, 'learning_rate': 0.0005562256851742573, 'epoch': 4.0, 'step': 1734}, {'eval_loss': 0.6334637999534607, 'eval_accuracy': 0.7831603229527105, 'eval_runtime': 12.1225, 'eval_samples_per_second': 71.52, 'eval_steps_per_second': 8.992, 'epoch': 4.0, 'step': 1734}, {'loss': 0.3033, 'learning_rate': 0.00046344998344835075, 'epoch': 5.0, 'step': 2167}, {'eval_loss': 0.9071301221847534, 'eval_accuracy': 0.7704728950403691, 'eval_runtime': 12.1196, 'eval_samples_per_second': 71.537, 'eval_steps_per_second': 8.994, 'epoch': 5.0, 'step': 2167}, {'loss': 0.2119, 'learning_rate': 0.0003704600191318532, 'epoch': 6.0, 'step': 2601}, {'eval_loss': 0.9878118634223938, 'eval_accuracy': 0.7820069204152249, 'eval_runtime': 12.1252, 'eval_samples_per_second': 71.504, 'eval_steps_per_second': 8.99, 'epoch': 6.0, 'step': 2601}, {'train_runtime': 910.6183, 'train_samples_per_second': 38.084, 'train_steps_per_second': 4.755, 'total_flos': 5165645148737568.0, 'train_loss': 0.42746640168350963, 'epoch': 6.0, 'step': 2601}, {'eval_loss': 0.5063105821609497, 'eval_accuracy': 0.7831603229527105, 'eval_runtime': 12.1014, 'eval_samples_per_second': 71.644, 'eval_steps_per_second': 9.007, 'epoch': 6.0, 'step': 2601}]\n"
     ]
    },
    {
     "name": "stderr",
     "output_type": "stream",
     "text": [
      "/home/ubuntu/data/miniconda3/envs/finetune-dephos/lib/python3.9/site-packages/huggingface_hub/file_download.py:1132: FutureWarning: `resume_download` is deprecated and will be removed in version 1.0.0. Downloads always resume when possible. If you want to force a new download, use `force_download=True`.\n",
      "  warnings.warn(\n"
     ]
    },
    {
     "name": "stdout",
     "output_type": "stream",
     "text": [
      "ProtT5_Classfier\n",
      "Trainable Parameter: 1209193475.0\n",
      "ProtT5_LoRA_Classfier\n",
      "Trainable Parameter: 15355907.0\n",
      "\n"
     ]
    },
    {
     "name": "stderr",
     "output_type": "stream",
     "text": [
      "/home/ubuntu/data/miniconda3/envs/finetune-dephos/lib/python3.9/site-packages/accelerate/accelerator.py:446: FutureWarning: Passing the following arguments to `Accelerator` is deprecated and will be removed in version 1.0 of Accelerate: dict_keys(['dispatch_batches', 'split_batches']). Please pass an `accelerate.DataLoaderConfiguration` instead: \n",
      "dataloader_config = DataLoaderConfiguration(dispatch_batches=None, split_batches=False)\n",
      "  warnings.warn(\n"
     ]
    },
    {
     "data": {
      "text/html": [
       "\n",
       "    <div>\n",
       "      \n",
       "      <progress value='2160' max='2160' style='width:300px; height:20px; vertical-align: middle;'></progress>\n",
       "      [2160/2160 37:54, Epoch 9/10]\n",
       "    </div>\n",
       "    <table border=\"1\" class=\"dataframe\">\n",
       "  <thead>\n",
       " <tr style=\"text-align: left;\">\n",
       "      <th>Epoch</th>\n",
       "      <th>Training Loss</th>\n",
       "      <th>Validation Loss</th>\n",
       "      <th>Accuracy</th>\n",
       "    </tr>\n",
       "  </thead>\n",
       "  <tbody>\n",
       "    <tr>\n",
       "      <td>0</td>\n",
       "      <td>0.696500</td>\n",
       "      <td>0.690560</td>\n",
       "      <td>0.525952</td>\n",
       "    </tr>\n",
       "    <tr>\n",
       "      <td>1</td>\n",
       "      <td>0.682100</td>\n",
       "      <td>0.672444</td>\n",
       "      <td>0.658593</td>\n",
       "    </tr>\n",
       "    <tr>\n",
       "      <td>2</td>\n",
       "      <td>0.661300</td>\n",
       "      <td>0.648331</td>\n",
       "      <td>0.718570</td>\n",
       "    </tr>\n",
       "    <tr>\n",
       "      <td>4</td>\n",
       "      <td>0.616800</td>\n",
       "      <td>0.599112</td>\n",
       "      <td>0.719723</td>\n",
       "    </tr>\n",
       "    <tr>\n",
       "      <td>5</td>\n",
       "      <td>0.591100</td>\n",
       "      <td>0.577953</td>\n",
       "      <td>0.718570</td>\n",
       "    </tr>\n",
       "    <tr>\n",
       "      <td>6</td>\n",
       "      <td>0.569400</td>\n",
       "      <td>0.558757</td>\n",
       "      <td>0.726644</td>\n",
       "    </tr>\n",
       "    <tr>\n",
       "      <td>8</td>\n",
       "      <td>0.541700</td>\n",
       "      <td>0.526394</td>\n",
       "      <td>0.754325</td>\n",
       "    </tr>\n",
       "    <tr>\n",
       "      <td>9</td>\n",
       "      <td>0.520700</td>\n",
       "      <td>0.515346</td>\n",
       "      <td>0.761246</td>\n",
       "    </tr>\n",
       "  </tbody>\n",
       "</table><p>"
      ],
      "text/plain": [
       "<IPython.core.display.HTML object>"
      ]
     },
     "metadata": {},
     "output_type": "display_data"
    },
    {
     "name": "stdout",
     "output_type": "stream",
     "text": [
      "Saved improved model to ./model_output/finetuned_model_D_and_P_balance_dataset.pth\n",
      "Saved improved model to ./model_output/finetuned_model_D_and_P_balance_dataset.pth\n",
      "Saved improved model to ./model_output/finetuned_model_D_and_P_balance_dataset.pth\n",
      "Saved improved model to ./model_output/finetuned_model_D_and_P_balance_dataset.pth\n",
      "Saved improved model to ./model_output/finetuned_model_D_and_P_balance_dataset.pth\n",
      "Saved improved model to ./model_output/finetuned_model_D_and_P_balance_dataset.pth\n",
      "Saved improved model to ./model_output/finetuned_model_D_and_P_balance_dataset.pth\n",
      "Saved improved model to ./model_output/finetuned_model_D_and_P_balance_dataset.pth\n",
      "Saved improved model to ./model_output/finetuned_model_D_and_P_balance_dataset.pth\n",
      "Saved improved model to ./model_output/finetuned_model_D_and_P_balance_dataset.pth\n",
      "Loaded best model from ./model_output/finetuned_model_D_and_P_balance_dataset.pth\n"
     ]
    },
    {
     "data": {
      "text/html": [
       "\n",
       "    <div>\n",
       "      \n",
       "      <progress value='109' max='109' style='width:300px; height:20px; vertical-align: middle;'></progress>\n",
       "      [109/109 00:11]\n",
       "    </div>\n",
       "    "
      ],
      "text/plain": [
       "<IPython.core.display.HTML object>"
      ]
     },
     "metadata": {},
     "output_type": "display_data"
    },
    {
     "name": "stdout",
     "output_type": "stream",
     "text": [
      "{'eval_loss': 0.5153459906578064, 'eval_accuracy': 0.7612456747404844, 'eval_runtime': 12.5855, 'eval_samples_per_second': 68.889, 'eval_steps_per_second': 8.661, 'epoch': 9.97}\n"
     ]
    },
    {
     "name": "stderr",
     "output_type": "stream",
     "text": [
      "[I 2024-06-16 11:34:58,024] Trial 4 finished with values: [0.5153459906578064, 0.7612456747404844] and parameters: {'lr': 2.7429739918683985e-05, 'batch': 2, 'accum': 8, 'dropout_rate': 0.11662725570417348, 'weight_decay': 1.3510283385379407e-05, 'warmup_pct': 0.22556147668738605, 'lora_rank': 28, 'lora_init_scale': 0.00017826421089376304, 'lora_scaling_rank': 1}. \n"
     ]
    },
    {
     "name": "stdout",
     "output_type": "stream",
     "text": [
      "History:  [{'loss': 0.6965, 'learning_rate': 1.5149127646217696e-06, 'epoch': 1.0, 'step': 216}, {'eval_loss': 0.6905604004859924, 'eval_accuracy': 0.5259515570934256, 'eval_runtime': 13.8313, 'eval_samples_per_second': 62.684, 'eval_steps_per_second': 7.881, 'epoch': 1.0, 'step': 216}, {'loss': 0.6821, 'learning_rate': 3.0368390142649364e-06, 'epoch': 2.0, 'step': 433}, {'eval_loss': 0.6724444031715393, 'eval_accuracy': 0.6585928489042676, 'eval_runtime': 12.1732, 'eval_samples_per_second': 71.222, 'eval_steps_per_second': 8.954, 'epoch': 2.0, 'step': 433}, {'loss': 0.6613, 'learning_rate': 4.5587652639081025e-06, 'epoch': 3.0, 'step': 650}, {'eval_loss': 0.6483312845230103, 'eval_accuracy': 0.7185697808535179, 'eval_runtime': 12.1933, 'eval_samples_per_second': 71.104, 'eval_steps_per_second': 8.939, 'epoch': 3.0, 'step': 650}, {'loss': 0.6374, 'learning_rate': 6.0806915135512695e-06, 'epoch': 4.0, 'step': 867}, {'eval_loss': 0.6228208541870117, 'eval_accuracy': 0.7162629757785467, 'eval_runtime': 12.2126, 'eval_samples_per_second': 70.992, 'eval_steps_per_second': 8.925, 'epoch': 4.0, 'step': 867}, {'loss': 0.6168, 'learning_rate': 7.595604278173039e-06, 'epoch': 5.0, 'step': 1083}, {'eval_loss': 0.599111795425415, 'eval_accuracy': 0.7197231833910035, 'eval_runtime': 12.2137, 'eval_samples_per_second': 70.986, 'eval_steps_per_second': 8.924, 'epoch': 5.0, 'step': 1083}, {'loss': 0.5911, 'learning_rate': 9.117530527816205e-06, 'epoch': 6.0, 'step': 1300}, {'eval_loss': 0.5779526233673096, 'eval_accuracy': 0.7185697808535179, 'eval_runtime': 12.181, 'eval_samples_per_second': 71.176, 'eval_steps_per_second': 8.948, 'epoch': 6.0, 'step': 1300}, {'loss': 0.5694, 'learning_rate': 1.0639456777459372e-05, 'epoch': 7.0, 'step': 1517}, {'eval_loss': 0.5587568879127502, 'eval_accuracy': 0.726643598615917, 'eval_runtime': 12.1988, 'eval_samples_per_second': 71.073, 'eval_steps_per_second': 8.935, 'epoch': 7.0, 'step': 1517}, {'loss': 0.5515, 'learning_rate': 1.2161383027102539e-05, 'epoch': 8.0, 'step': 1734}, {'eval_loss': 0.5423670411109924, 'eval_accuracy': 0.7393310265282583, 'eval_runtime': 12.2149, 'eval_samples_per_second': 70.979, 'eval_steps_per_second': 8.923, 'epoch': 8.0, 'step': 1734}, {'loss': 0.5417, 'learning_rate': 1.367629579172431e-05, 'epoch': 9.0, 'step': 1950}, {'eval_loss': 0.5263938307762146, 'eval_accuracy': 0.754325259515571, 'eval_runtime': 12.2073, 'eval_samples_per_second': 71.023, 'eval_steps_per_second': 8.929, 'epoch': 9.0, 'step': 1950}, {'loss': 0.5207, 'learning_rate': 1.5149127646217698e-05, 'epoch': 9.97, 'step': 2160}, {'eval_loss': 0.5153459906578064, 'eval_accuracy': 0.7612456747404844, 'eval_runtime': 12.182, 'eval_samples_per_second': 71.171, 'eval_steps_per_second': 8.948, 'epoch': 9.97, 'step': 2160}, {'train_runtime': 2275.2737, 'train_samples_per_second': 15.242, 'train_steps_per_second': 0.949, 'total_flos': 8624667581660160.0, 'train_loss': 0.607126956515842, 'epoch': 9.97, 'step': 2160}, {'eval_loss': 0.5153459906578064, 'eval_accuracy': 0.7612456747404844, 'eval_runtime': 12.5855, 'eval_samples_per_second': 68.889, 'eval_steps_per_second': 8.661, 'epoch': 9.97, 'step': 2160}]\n"
     ]
    },
    {
     "name": "stderr",
     "output_type": "stream",
     "text": [
      "/home/ubuntu/data/miniconda3/envs/finetune-dephos/lib/python3.9/site-packages/huggingface_hub/file_download.py:1132: FutureWarning: `resume_download` is deprecated and will be removed in version 1.0.0. Downloads always resume when possible. If you want to force a new download, use `force_download=True`.\n",
      "  warnings.warn(\n"
     ]
    },
    {
     "name": "stdout",
     "output_type": "stream",
     "text": [
      "ProtT5_Classfier\n",
      "Trainable Parameter: 1209193475.0\n",
      "ProtT5_LoRA_Classfier\n",
      "Trainable Parameter: 12406787.0\n",
      "\n"
     ]
    },
    {
     "name": "stderr",
     "output_type": "stream",
     "text": [
      "/home/ubuntu/data/miniconda3/envs/finetune-dephos/lib/python3.9/site-packages/accelerate/accelerator.py:446: FutureWarning: Passing the following arguments to `Accelerator` is deprecated and will be removed in version 1.0 of Accelerate: dict_keys(['dispatch_batches', 'split_batches']). Please pass an `accelerate.DataLoaderConfiguration` instead: \n",
      "dataloader_config = DataLoaderConfiguration(dispatch_batches=None, split_batches=False)\n",
      "  warnings.warn(\n"
     ]
    },
    {
     "data": {
      "text/html": [
       "\n",
       "    <div>\n",
       "      \n",
       "      <progress value='540' max='540' style='width:300px; height:20px; vertical-align: middle;'></progress>\n",
       "      [540/540 18:12, Epoch 9/10]\n",
       "    </div>\n",
       "    <table border=\"1\" class=\"dataframe\">\n",
       "  <thead>\n",
       " <tr style=\"text-align: left;\">\n",
       "      <th>Epoch</th>\n",
       "      <th>Training Loss</th>\n",
       "      <th>Validation Loss</th>\n",
       "      <th>Accuracy</th>\n",
       "    </tr>\n",
       "  </thead>\n",
       "  <tbody>\n",
       "    <tr>\n",
       "      <td>0</td>\n",
       "      <td>0.714300</td>\n",
       "      <td>0.695676</td>\n",
       "      <td>0.477509</td>\n",
       "    </tr>\n",
       "    <tr>\n",
       "      <td>1</td>\n",
       "      <td>0.709900</td>\n",
       "      <td>0.689695</td>\n",
       "      <td>0.534025</td>\n",
       "    </tr>\n",
       "    <tr>\n",
       "      <td>2</td>\n",
       "      <td>0.707400</td>\n",
       "      <td>0.680298</td>\n",
       "      <td>0.621684</td>\n",
       "    </tr>\n",
       "    <tr>\n",
       "      <td>4</td>\n",
       "      <td>0.685500</td>\n",
       "      <td>0.656084</td>\n",
       "      <td>0.709343</td>\n",
       "    </tr>\n",
       "    <tr>\n",
       "      <td>5</td>\n",
       "      <td>0.677000</td>\n",
       "      <td>0.643747</td>\n",
       "      <td>0.715110</td>\n",
       "    </tr>\n",
       "    <tr>\n",
       "      <td>6</td>\n",
       "      <td>0.660800</td>\n",
       "      <td>0.630438</td>\n",
       "      <td>0.715110</td>\n",
       "    </tr>\n",
       "    <tr>\n",
       "      <td>8</td>\n",
       "      <td>0.631100</td>\n",
       "      <td>0.605129</td>\n",
       "      <td>0.713956</td>\n",
       "    </tr>\n",
       "    <tr>\n",
       "      <td>9</td>\n",
       "      <td>0.621700</td>\n",
       "      <td>0.591674</td>\n",
       "      <td>0.717416</td>\n",
       "    </tr>\n",
       "  </tbody>\n",
       "</table><p>"
      ],
      "text/plain": [
       "<IPython.core.display.HTML object>"
      ]
     },
     "metadata": {},
     "output_type": "display_data"
    },
    {
     "name": "stdout",
     "output_type": "stream",
     "text": [
      "Saved improved model to ./model_output/finetuned_model_D_and_P_balance_dataset.pth\n",
      "Saved improved model to ./model_output/finetuned_model_D_and_P_balance_dataset.pth\n",
      "Saved improved model to ./model_output/finetuned_model_D_and_P_balance_dataset.pth\n",
      "Saved improved model to ./model_output/finetuned_model_D_and_P_balance_dataset.pth\n",
      "Saved improved model to ./model_output/finetuned_model_D_and_P_balance_dataset.pth\n",
      "Saved improved model to ./model_output/finetuned_model_D_and_P_balance_dataset.pth\n",
      "Saved improved model to ./model_output/finetuned_model_D_and_P_balance_dataset.pth\n",
      "Saved improved model to ./model_output/finetuned_model_D_and_P_balance_dataset.pth\n",
      "Saved improved model to ./model_output/finetuned_model_D_and_P_balance_dataset.pth\n",
      "Saved improved model to ./model_output/finetuned_model_D_and_P_balance_dataset.pth\n",
      "Loaded best model from ./model_output/finetuned_model_D_and_P_balance_dataset.pth\n"
     ]
    },
    {
     "data": {
      "text/html": [
       "\n",
       "    <div>\n",
       "      \n",
       "      <progress value='109' max='109' style='width:300px; height:20px; vertical-align: middle;'></progress>\n",
       "      [109/109 00:11]\n",
       "    </div>\n",
       "    "
      ],
      "text/plain": [
       "<IPython.core.display.HTML object>"
      ]
     },
     "metadata": {},
     "output_type": "display_data"
    },
    {
     "name": "stdout",
     "output_type": "stream",
     "text": [
      "{'eval_loss': 0.5916740894317627, 'eval_accuracy': 0.7174163783160323, 'eval_runtime': 12.2157, 'eval_samples_per_second': 70.974, 'eval_steps_per_second': 8.923, 'epoch': 9.95}\n",
      "History:  [{'loss': 0.7143, 'learning_rate': 3.0207259730167245e-06, 'epoch': 1.0, 'step': 54}, {'eval_loss': 0.6956760883331299, 'eval_accuracy': 0.47750865051903113, 'eval_runtime': 13.8055, 'eval_samples_per_second': 62.801, 'eval_steps_per_second': 7.895, 'epoch': 1.0, 'step': 54}, {'loss': 0.7099, 'learning_rate': 6.041451946033449e-06, 'epoch': 1.99, 'step': 108}, {'eval_loss': 0.6896949410438538, 'eval_accuracy': 0.5340253748558247, 'eval_runtime': 12.1777, 'eval_samples_per_second': 71.196, 'eval_steps_per_second': 8.951, 'epoch': 1.99, 'step': 108}, {'loss': 0.7074, 'learning_rate': 9.062177919050173e-06, 'epoch': 2.99, 'step': 162}, {'eval_loss': 0.6802976131439209, 'eval_accuracy': 0.621683967704729, 'eval_runtime': 12.1358, 'eval_samples_per_second': 71.441, 'eval_steps_per_second': 8.982, 'epoch': 2.99, 'step': 162}, {'loss': 0.685, 'learning_rate': 1.2138843261937579e-05, 'epoch': 4.0, 'step': 217}, {'eval_loss': 0.6684548258781433, 'eval_accuracy': 0.6735870818915801, 'eval_runtime': 12.171, 'eval_samples_per_second': 71.235, 'eval_steps_per_second': 8.956, 'epoch': 4.0, 'step': 217}, {'loss': 0.6855, 'learning_rate': 1.5159569234954302e-05, 'epoch': 5.0, 'step': 271}, {'eval_loss': 0.6560840606689453, 'eval_accuracy': 0.7093425605536332, 'eval_runtime': 12.1428, 'eval_samples_per_second': 71.4, 'eval_steps_per_second': 8.977, 'epoch': 5.0, 'step': 271}, {'loss': 0.677, 'learning_rate': 1.8180295207971026e-05, 'epoch': 5.99, 'step': 325}, {'eval_loss': 0.6437474489212036, 'eval_accuracy': 0.7151095732410612, 'eval_runtime': 12.1764, 'eval_samples_per_second': 71.203, 'eval_steps_per_second': 8.952, 'epoch': 5.99, 'step': 325}, {'loss': 0.6608, 'learning_rate': 2.1201021180987752e-05, 'epoch': 6.99, 'step': 379}, {'eval_loss': 0.6304383873939514, 'eval_accuracy': 0.7151095732410612, 'eval_runtime': 12.1542, 'eval_samples_per_second': 71.333, 'eval_steps_per_second': 8.968, 'epoch': 6.99, 'step': 379}, {'loss': 0.6347, 'learning_rate': 2.4277686523875158e-05, 'epoch': 8.0, 'step': 434}, {'eval_loss': 0.6174824833869934, 'eval_accuracy': 0.7104959630911188, 'eval_runtime': 12.1553, 'eval_samples_per_second': 71.327, 'eval_steps_per_second': 8.967, 'epoch': 8.0, 'step': 434}, {'loss': 0.6311, 'learning_rate': 2.729841249689188e-05, 'epoch': 9.0, 'step': 488}, {'eval_loss': 0.6051294207572937, 'eval_accuracy': 0.7139561707035755, 'eval_runtime': 12.1682, 'eval_samples_per_second': 71.251, 'eval_steps_per_second': 8.958, 'epoch': 9.0, 'step': 488}, {'loss': 0.6217, 'learning_rate': 3.0207259730167248e-05, 'epoch': 9.95, 'step': 540}, {'eval_loss': 0.5916740894317627, 'eval_accuracy': 0.7174163783160323, 'eval_runtime': 12.1444, 'eval_samples_per_second': 71.391, 'eval_steps_per_second': 8.975, 'epoch': 9.95, 'step': 540}, {'train_runtime': 1094.7198, 'train_samples_per_second': 31.679, 'train_steps_per_second': 0.493, 'total_flos': 8594913207477744.0, 'train_loss': 0.6728725857204861, 'epoch': 9.95, 'step': 540}, {'eval_loss': 0.5916740894317627, 'eval_accuracy': 0.7174163783160323, 'eval_runtime': 12.2157, 'eval_samples_per_second': 70.974, 'eval_steps_per_second': 8.923, 'epoch': 9.95, 'step': 540}]\n"
     ]
    },
    {
     "name": "stderr",
     "output_type": "stream",
     "text": [
      "[I 2024-06-16 11:54:05,690] Trial 5 finished with values: [0.5916740894317627, 0.7174163783160323] and parameters: {'lr': 6.080609504942925e-05, 'batch': 8, 'accum': 8, 'dropout_rate': 0.7463634565392911, 'weight_decay': 2.212635052362363e-05, 'warmup_pct': 0.25097989698030915, 'lora_rank': 20, 'lora_init_scale': 0.005454792883848043, 'lora_scaling_rank': 3}. \n",
      "/home/ubuntu/data/miniconda3/envs/finetune-dephos/lib/python3.9/site-packages/huggingface_hub/file_download.py:1132: FutureWarning: `resume_download` is deprecated and will be removed in version 1.0.0. Downloads always resume when possible. If you want to force a new download, use `force_download=True`.\n",
      "  warnings.warn(\n"
     ]
    },
    {
     "name": "stdout",
     "output_type": "stream",
     "text": [
      "ProtT5_Classfier\n",
      "Trainable Parameter: 1209193475.0\n",
      "ProtT5_LoRA_Classfier\n",
      "Trainable Parameter: 13389827.0\n",
      "\n"
     ]
    },
    {
     "name": "stderr",
     "output_type": "stream",
     "text": [
      "/home/ubuntu/data/miniconda3/envs/finetune-dephos/lib/python3.9/site-packages/accelerate/accelerator.py:446: FutureWarning: Passing the following arguments to `Accelerator` is deprecated and will be removed in version 1.0 of Accelerate: dict_keys(['dispatch_batches', 'split_batches']). Please pass an `accelerate.DataLoaderConfiguration` instead: \n",
      "dataloader_config = DataLoaderConfiguration(dispatch_batches=None, split_batches=False)\n",
      "  warnings.warn(\n"
     ]
    },
    {
     "data": {
      "text/html": [
       "\n",
       "    <div>\n",
       "      \n",
       "      <progress value='1080' max='1080' style='width:300px; height:20px; vertical-align: middle;'></progress>\n",
       "      [1080/1080 18:20, Epoch 9/10]\n",
       "    </div>\n",
       "    <table border=\"1\" class=\"dataframe\">\n",
       "  <thead>\n",
       " <tr style=\"text-align: left;\">\n",
       "      <th>Epoch</th>\n",
       "      <th>Training Loss</th>\n",
       "      <th>Validation Loss</th>\n",
       "      <th>Accuracy</th>\n",
       "    </tr>\n",
       "  </thead>\n",
       "  <tbody>\n",
       "    <tr>\n",
       "      <td>0</td>\n",
       "      <td>0.689900</td>\n",
       "      <td>0.658595</td>\n",
       "      <td>0.685121</td>\n",
       "    </tr>\n",
       "    <tr>\n",
       "      <td>2</td>\n",
       "      <td>0.581600</td>\n",
       "      <td>0.544177</td>\n",
       "      <td>0.739331</td>\n",
       "    </tr>\n",
       "    <tr>\n",
       "      <td>4</td>\n",
       "      <td>0.517800</td>\n",
       "      <td>0.484297</td>\n",
       "      <td>0.767013</td>\n",
       "    </tr>\n",
       "    <tr>\n",
       "      <td>6</td>\n",
       "      <td>0.488600</td>\n",
       "      <td>0.470537</td>\n",
       "      <td>0.771626</td>\n",
       "    </tr>\n",
       "    <tr>\n",
       "      <td>8</td>\n",
       "      <td>0.468400</td>\n",
       "      <td>0.469961</td>\n",
       "      <td>0.776240</td>\n",
       "    </tr>\n",
       "    <tr>\n",
       "      <td>9</td>\n",
       "      <td>0.457400</td>\n",
       "      <td>0.469624</td>\n",
       "      <td>0.777393</td>\n",
       "    </tr>\n",
       "  </tbody>\n",
       "</table><p>"
      ],
      "text/plain": [
       "<IPython.core.display.HTML object>"
      ]
     },
     "metadata": {},
     "output_type": "display_data"
    },
    {
     "name": "stdout",
     "output_type": "stream",
     "text": [
      "Saved improved model to ./model_output/finetuned_model_D_and_P_balance_dataset.pth\n",
      "Saved improved model to ./model_output/finetuned_model_D_and_P_balance_dataset.pth\n",
      "Saved improved model to ./model_output/finetuned_model_D_and_P_balance_dataset.pth\n",
      "Saved improved model to ./model_output/finetuned_model_D_and_P_balance_dataset.pth\n",
      "Saved improved model to ./model_output/finetuned_model_D_and_P_balance_dataset.pth\n",
      "Saved improved model to ./model_output/finetuned_model_D_and_P_balance_dataset.pth\n",
      "Saved improved model to ./model_output/finetuned_model_D_and_P_balance_dataset.pth\n",
      "Saved improved model to ./model_output/finetuned_model_D_and_P_balance_dataset.pth\n",
      "Saved improved model to ./model_output/finetuned_model_D_and_P_balance_dataset.pth\n",
      "Saved improved model to ./model_output/finetuned_model_D_and_P_balance_dataset.pth\n",
      "Loaded best model from ./model_output/finetuned_model_D_and_P_balance_dataset.pth\n"
     ]
    },
    {
     "data": {
      "text/html": [
       "\n",
       "    <div>\n",
       "      \n",
       "      <progress value='109' max='109' style='width:300px; height:20px; vertical-align: middle;'></progress>\n",
       "      [109/109 00:11]\n",
       "    </div>\n",
       "    "
      ],
      "text/plain": [
       "<IPython.core.display.HTML object>"
      ]
     },
     "metadata": {},
     "output_type": "display_data"
    },
    {
     "name": "stdout",
     "output_type": "stream",
     "text": [
      "{'eval_loss': 0.46962377429008484, 'eval_accuracy': 0.7773933102652826, 'eval_runtime': 12.1172, 'eval_samples_per_second': 71.551, 'eval_steps_per_second': 8.995, 'epoch': 9.95}\n"
     ]
    },
    {
     "name": "stderr",
     "output_type": "stream",
     "text": [
      "[I 2024-06-16 12:13:20,168] Trial 6 finished with values: [0.46962377429008484, 0.7773933102652826] and parameters: {'lr': 9.741175165265519e-05, 'batch': 8, 'accum': 4, 'dropout_rate': 0.410982184611112, 'weight_decay': 8.22011375337804e-05, 'warmup_pct': 0.11539407364307791, 'lora_rank': 20, 'lora_init_scale': 0.00016314225042501977, 'lora_scaling_rank': 5}. \n"
     ]
    },
    {
     "name": "stdout",
     "output_type": "stream",
     "text": [
      "History:  [{'loss': 0.6899, 'learning_rate': 2.1040938356973522e-05, 'epoch': 1.0, 'step': 108}, {'eval_loss': 0.6585950255393982, 'eval_accuracy': 0.6851211072664359, 'eval_runtime': 13.818, 'eval_samples_per_second': 62.744, 'eval_steps_per_second': 7.888, 'epoch': 1.0, 'step': 108}, {'loss': 0.6338, 'learning_rate': 4.227670021725235e-05, 'epoch': 2.0, 'step': 217}, {'eval_loss': 0.5963749289512634, 'eval_accuracy': 0.7185697808535179, 'eval_runtime': 12.1438, 'eval_samples_per_second': 71.394, 'eval_steps_per_second': 8.976, 'epoch': 2.0, 'step': 217}, {'loss': 0.5816, 'learning_rate': 6.331763857422588e-05, 'epoch': 3.0, 'step': 325}, {'eval_loss': 0.5441765785217285, 'eval_accuracy': 0.7393310265282583, 'eval_runtime': 12.1446, 'eval_samples_per_second': 71.39, 'eval_steps_per_second': 8.975, 'epoch': 3.0, 'step': 325}, {'loss': 0.5334, 'learning_rate': 8.45534004345047e-05, 'epoch': 4.0, 'step': 434}, {'eval_loss': 0.5052882432937622, 'eval_accuracy': 0.7716262975778547, 'eval_runtime': 12.1327, 'eval_samples_per_second': 71.459, 'eval_steps_per_second': 8.984, 'epoch': 4.0, 'step': 434}, {'loss': 0.5178, 'learning_rate': 9.035779722263532e-05, 'epoch': 5.0, 'step': 542}, {'eval_loss': 0.48429661989212036, 'eval_accuracy': 0.7670126874279123, 'eval_runtime': 12.1427, 'eval_samples_per_second': 71.401, 'eval_steps_per_second': 8.977, 'epoch': 5.0, 'step': 542}, {'loss': 0.4951, 'learning_rate': 7.205110596377427e-05, 'epoch': 6.0, 'step': 651}, {'eval_loss': 0.47419473528862, 'eval_accuracy': 0.7693194925028836, 'eval_runtime': 12.123, 'eval_samples_per_second': 71.517, 'eval_steps_per_second': 8.991, 'epoch': 6.0, 'step': 651}, {'loss': 0.4886, 'learning_rate': 5.391236600086607e-05, 'epoch': 7.0, 'step': 759}, {'eval_loss': 0.4705365300178528, 'eval_accuracy': 0.7716262975778547, 'eval_runtime': 12.1475, 'eval_samples_per_second': 71.373, 'eval_steps_per_second': 8.973, 'epoch': 7.0, 'step': 759}, {'loss': 0.4733, 'learning_rate': 3.5605674742005e-05, 'epoch': 8.0, 'step': 868}, {'eval_loss': 0.4685320258140564, 'eval_accuracy': 0.7750865051903114, 'eval_runtime': 12.1215, 'eval_samples_per_second': 71.526, 'eval_steps_per_second': 8.992, 'epoch': 8.0, 'step': 868}, {'loss': 0.4684, 'learning_rate': 1.7466934779096792e-05, 'epoch': 9.0, 'step': 976}, {'eval_loss': 0.46996110677719116, 'eval_accuracy': 0.776239907727797, 'eval_runtime': 12.1376, 'eval_samples_per_second': 71.431, 'eval_steps_per_second': 8.98, 'epoch': 9.0, 'step': 976}, {'loss': 0.4574, 'learning_rate': 0.0, 'epoch': 9.95, 'step': 1080}, {'eval_loss': 0.46962377429008484, 'eval_accuracy': 0.7773933102652826, 'eval_runtime': 12.1203, 'eval_samples_per_second': 71.533, 'eval_steps_per_second': 8.993, 'epoch': 9.95, 'step': 1080}, {'train_runtime': 1101.6707, 'train_samples_per_second': 31.479, 'train_steps_per_second': 0.98, 'total_flos': 8601836655961584.0, 'train_loss': 0.5342216950875741, 'epoch': 9.95, 'step': 1080}, {'eval_loss': 0.46962377429008484, 'eval_accuracy': 0.7773933102652826, 'eval_runtime': 12.1172, 'eval_samples_per_second': 71.551, 'eval_steps_per_second': 8.995, 'epoch': 9.95, 'step': 1080}]\n"
     ]
    },
    {
     "name": "stderr",
     "output_type": "stream",
     "text": [
      "/home/ubuntu/data/miniconda3/envs/finetune-dephos/lib/python3.9/site-packages/huggingface_hub/file_download.py:1132: FutureWarning: `resume_download` is deprecated and will be removed in version 1.0.0. Downloads always resume when possible. If you want to force a new download, use `force_download=True`.\n",
      "  warnings.warn(\n"
     ]
    },
    {
     "name": "stdout",
     "output_type": "stream",
     "text": [
      "ProtT5_Classfier\n",
      "Trainable Parameter: 1209193475.0\n",
      "ProtT5_LoRA_Classfier\n",
      "Trainable Parameter: 20762627.0\n",
      "\n"
     ]
    },
    {
     "name": "stderr",
     "output_type": "stream",
     "text": [
      "/home/ubuntu/data/miniconda3/envs/finetune-dephos/lib/python3.9/site-packages/accelerate/accelerator.py:446: FutureWarning: Passing the following arguments to `Accelerator` is deprecated and will be removed in version 1.0 of Accelerate: dict_keys(['dispatch_batches', 'split_batches']). Please pass an `accelerate.DataLoaderConfiguration` instead: \n",
      "dataloader_config = DataLoaderConfiguration(dispatch_batches=None, split_batches=False)\n",
      "  warnings.warn(\n"
     ]
    },
    {
     "data": {
      "text/html": [
       "\n",
       "    <div>\n",
       "      \n",
       "      <progress value='6936' max='17340' style='width:300px; height:20px; vertical-align: middle;'></progress>\n",
       "      [ 6936/17340 26:50 < 40:16, 4.31 it/s, Epoch 4/10]\n",
       "    </div>\n",
       "    <table border=\"1\" class=\"dataframe\">\n",
       "  <thead>\n",
       " <tr style=\"text-align: left;\">\n",
       "      <th>Epoch</th>\n",
       "      <th>Training Loss</th>\n",
       "      <th>Validation Loss</th>\n",
       "      <th>Accuracy</th>\n",
       "    </tr>\n",
       "  </thead>\n",
       "  <tbody>\n",
       "    <tr>\n",
       "      <td>1</td>\n",
       "      <td>1.356700</td>\n",
       "      <td>0.697409</td>\n",
       "      <td>0.532872</td>\n",
       "    </tr>\n",
       "    <tr>\n",
       "      <td>2</td>\n",
       "      <td>0.948600</td>\n",
       "      <td>0.838624</td>\n",
       "      <td>0.532872</td>\n",
       "    </tr>\n",
       "    <tr>\n",
       "      <td>3</td>\n",
       "      <td>0.943200</td>\n",
       "      <td>1.661899</td>\n",
       "      <td>0.467128</td>\n",
       "    </tr>\n",
       "    <tr>\n",
       "      <td>4</td>\n",
       "      <td>0.856700</td>\n",
       "      <td>0.725009</td>\n",
       "      <td>0.467128</td>\n",
       "    </tr>\n",
       "  </tbody>\n",
       "</table><p>"
      ],
      "text/plain": [
       "<IPython.core.display.HTML object>"
      ]
     },
     "metadata": {},
     "output_type": "display_data"
    },
    {
     "name": "stdout",
     "output_type": "stream",
     "text": [
      "Saved improved model to ./model_output/finetuned_model_D_and_P_balance_dataset.pth\n",
      "Stopping early at epoch 4.0: No improvement in loss or accuracy for 3 evaluations.\n",
      "Loaded best model from ./model_output/finetuned_model_D_and_P_balance_dataset.pth\n"
     ]
    },
    {
     "data": {
      "text/html": [
       "\n",
       "    <div>\n",
       "      \n",
       "      <progress value='109' max='109' style='width:300px; height:20px; vertical-align: middle;'></progress>\n",
       "      [109/109 00:11]\n",
       "    </div>\n",
       "    "
      ],
      "text/plain": [
       "<IPython.core.display.HTML object>"
      ]
     },
     "metadata": {},
     "output_type": "display_data"
    },
    {
     "name": "stdout",
     "output_type": "stream",
     "text": [
      "Stopping early at epoch 4.0: No improvement in loss or accuracy for 3 evaluations.\n",
      "{'eval_loss': 0.6974089741706848, 'eval_accuracy': 0.532871972318339, 'eval_runtime': 12.1407, 'eval_samples_per_second': 71.413, 'eval_steps_per_second': 8.978, 'epoch': 4.0}\n"
     ]
    },
    {
     "name": "stderr",
     "output_type": "stream",
     "text": [
      "[I 2024-06-16 12:41:03,518] Trial 7 finished with values: [0.6974089741706848, 0.532871972318339] and parameters: {'lr': 0.003488902870105638, 'batch': 1, 'accum': 2, 'dropout_rate': 0.445921233032751, 'weight_decay': 0.0006951853072945229, 'warmup_pct': 0.0318342806955393, 'lora_rank': 32, 'lora_init_scale': 0.0022330993921392235, 'lora_scaling_rank': 8}. \n"
     ]
    },
    {
     "name": "stdout",
     "output_type": "stream",
     "text": [
      "History:  [{'loss': 1.3567, 'learning_rate': 0.0033535241556336896, 'epoch': 1.0, 'step': 1734}, {'eval_loss': 0.6974089741706848, 'eval_accuracy': 0.532871972318339, 'eval_runtime': 13.8416, 'eval_samples_per_second': 62.637, 'eval_steps_per_second': 7.875, 'epoch': 1.0, 'step': 1734}, {'loss': 0.9486, 'learning_rate': 0.0029809103605632796, 'epoch': 2.0, 'step': 3468}, {'eval_loss': 0.8386238217353821, 'eval_accuracy': 0.532871972318339, 'eval_runtime': 12.1763, 'eval_samples_per_second': 71.204, 'eval_steps_per_second': 8.952, 'epoch': 2.0, 'step': 3468}, {'loss': 0.9432, 'learning_rate': 0.0026082965654928695, 'epoch': 3.0, 'step': 5202}, {'eval_loss': 1.6618987321853638, 'eval_accuracy': 0.4671280276816609, 'eval_runtime': 12.171, 'eval_samples_per_second': 71.235, 'eval_steps_per_second': 8.956, 'epoch': 3.0, 'step': 5202}, {'loss': 0.8567, 'learning_rate': 0.00223568277042246, 'epoch': 4.0, 'step': 6936}, {'eval_loss': 0.7250089645385742, 'eval_accuracy': 0.4671280276816609, 'eval_runtime': 12.1699, 'eval_samples_per_second': 71.241, 'eval_steps_per_second': 8.957, 'epoch': 4.0, 'step': 6936}, {'train_runtime': 1610.6312, 'train_samples_per_second': 21.532, 'train_steps_per_second': 10.766, 'total_flos': 3477146149685952.0, 'train_loss': 1.026306997120999, 'epoch': 4.0, 'step': 6936}, {'eval_loss': 0.6974089741706848, 'eval_accuracy': 0.532871972318339, 'eval_runtime': 12.1407, 'eval_samples_per_second': 71.413, 'eval_steps_per_second': 8.978, 'epoch': 4.0, 'step': 6936}]\n"
     ]
    },
    {
     "name": "stderr",
     "output_type": "stream",
     "text": [
      "/home/ubuntu/data/miniconda3/envs/finetune-dephos/lib/python3.9/site-packages/huggingface_hub/file_download.py:1132: FutureWarning: `resume_download` is deprecated and will be removed in version 1.0.0. Downloads always resume when possible. If you want to force a new download, use `force_download=True`.\n",
      "  warnings.warn(\n"
     ]
    },
    {
     "name": "stdout",
     "output_type": "stream",
     "text": [
      "ProtT5_Classfier\n",
      "Trainable Parameter: 1209193475.0\n",
      "ProtT5_LoRA_Classfier\n",
      "Trainable Parameter: 18796547.0\n",
      "\n"
     ]
    },
    {
     "name": "stderr",
     "output_type": "stream",
     "text": [
      "/home/ubuntu/data/miniconda3/envs/finetune-dephos/lib/python3.9/site-packages/accelerate/accelerator.py:446: FutureWarning: Passing the following arguments to `Accelerator` is deprecated and will be removed in version 1.0 of Accelerate: dict_keys(['dispatch_batches', 'split_batches']). Please pass an `accelerate.DataLoaderConfiguration` instead: \n",
      "dataloader_config = DataLoaderConfiguration(dispatch_batches=None, split_batches=False)\n",
      "  warnings.warn(\n"
     ]
    },
    {
     "data": {
      "text/html": [
       "\n",
       "    <div>\n",
       "      \n",
       "      <progress value='2170' max='2170' style='width:300px; height:20px; vertical-align: middle;'></progress>\n",
       "      [2170/2170 18:42, Epoch 10/10]\n",
       "    </div>\n",
       "    <table border=\"1\" class=\"dataframe\">\n",
       "  <thead>\n",
       " <tr style=\"text-align: left;\">\n",
       "      <th>Epoch</th>\n",
       "      <th>Training Loss</th>\n",
       "      <th>Validation Loss</th>\n",
       "      <th>Accuracy</th>\n",
       "    </tr>\n",
       "  </thead>\n",
       "  <tbody>\n",
       "    <tr>\n",
       "      <td>1</td>\n",
       "      <td>0.662600</td>\n",
       "      <td>0.610622</td>\n",
       "      <td>0.716263</td>\n",
       "    </tr>\n",
       "    <tr>\n",
       "      <td>2</td>\n",
       "      <td>0.596600</td>\n",
       "      <td>0.566639</td>\n",
       "      <td>0.730104</td>\n",
       "    </tr>\n",
       "    <tr>\n",
       "      <td>3</td>\n",
       "      <td>0.562400</td>\n",
       "      <td>0.542956</td>\n",
       "      <td>0.745098</td>\n",
       "    </tr>\n",
       "    <tr>\n",
       "      <td>4</td>\n",
       "      <td>0.540700</td>\n",
       "      <td>0.528132</td>\n",
       "      <td>0.752018</td>\n",
       "    </tr>\n",
       "    <tr>\n",
       "      <td>5</td>\n",
       "      <td>0.533600</td>\n",
       "      <td>0.518131</td>\n",
       "      <td>0.760092</td>\n",
       "    </tr>\n",
       "    <tr>\n",
       "      <td>6</td>\n",
       "      <td>0.527400</td>\n",
       "      <td>0.512817</td>\n",
       "      <td>0.757785</td>\n",
       "    </tr>\n",
       "    <tr>\n",
       "      <td>7</td>\n",
       "      <td>0.522400</td>\n",
       "      <td>0.506105</td>\n",
       "      <td>0.765859</td>\n",
       "    </tr>\n",
       "    <tr>\n",
       "      <td>8</td>\n",
       "      <td>0.516800</td>\n",
       "      <td>0.503390</td>\n",
       "      <td>0.769319</td>\n",
       "    </tr>\n",
       "    <tr>\n",
       "      <td>9</td>\n",
       "      <td>0.512900</td>\n",
       "      <td>0.501940</td>\n",
       "      <td>0.770473</td>\n",
       "    </tr>\n",
       "    <tr>\n",
       "      <td>10</td>\n",
       "      <td>0.514000</td>\n",
       "      <td>0.501128</td>\n",
       "      <td>0.771626</td>\n",
       "    </tr>\n",
       "  </tbody>\n",
       "</table><p>"
      ],
      "text/plain": [
       "<IPython.core.display.HTML object>"
      ]
     },
     "metadata": {},
     "output_type": "display_data"
    },
    {
     "name": "stdout",
     "output_type": "stream",
     "text": [
      "Saved improved model to ./model_output/finetuned_model_D_and_P_balance_dataset.pth\n",
      "Saved improved model to ./model_output/finetuned_model_D_and_P_balance_dataset.pth\n",
      "Saved improved model to ./model_output/finetuned_model_D_and_P_balance_dataset.pth\n",
      "Saved improved model to ./model_output/finetuned_model_D_and_P_balance_dataset.pth\n",
      "Saved improved model to ./model_output/finetuned_model_D_and_P_balance_dataset.pth\n",
      "Saved improved model to ./model_output/finetuned_model_D_and_P_balance_dataset.pth\n",
      "Saved improved model to ./model_output/finetuned_model_D_and_P_balance_dataset.pth\n",
      "Saved improved model to ./model_output/finetuned_model_D_and_P_balance_dataset.pth\n",
      "Saved improved model to ./model_output/finetuned_model_D_and_P_balance_dataset.pth\n",
      "Saved improved model to ./model_output/finetuned_model_D_and_P_balance_dataset.pth\n",
      "Loaded best model from ./model_output/finetuned_model_D_and_P_balance_dataset.pth\n"
     ]
    },
    {
     "data": {
      "text/html": [
       "\n",
       "    <div>\n",
       "      \n",
       "      <progress value='109' max='109' style='width:300px; height:20px; vertical-align: middle;'></progress>\n",
       "      [109/109 00:11]\n",
       "    </div>\n",
       "    "
      ],
      "text/plain": [
       "<IPython.core.display.HTML object>"
      ]
     },
     "metadata": {},
     "output_type": "display_data"
    },
    {
     "name": "stdout",
     "output_type": "stream",
     "text": [
      "{'eval_loss': 0.5011276006698608, 'eval_accuracy': 0.7716262975778547, 'eval_runtime': 12.2766, 'eval_samples_per_second': 70.622, 'eval_steps_per_second': 8.879, 'epoch': 10.0}\n"
     ]
    },
    {
     "name": "stderr",
     "output_type": "stream",
     "text": [
      "[I 2024-06-16 13:00:41,296] Trial 8 finished with values: [0.5011276006698608, 0.7716262975778547] and parameters: {'lr': 2.7857512832582767e-05, 'batch': 8, 'accum': 2, 'dropout_rate': 0.39189323103060525, 'weight_decay': 0.00016125523015716014, 'warmup_pct': 0.019498689030115708, 'lora_rank': 32, 'lora_init_scale': 0.0012783874660457553, 'lora_scaling_rank': 4}. \n"
     ]
    },
    {
     "name": "stdout",
     "output_type": "stream",
     "text": [
      "History:  [{'loss': 0.6626, 'learning_rate': 2.60813626855389e-05, 'epoch': 1.0, 'step': 217}, {'eval_loss': 0.6106218695640564, 'eval_accuracy': 0.7162629757785467, 'eval_runtime': 13.9112, 'eval_samples_per_second': 62.324, 'eval_steps_per_second': 7.835, 'epoch': 1.0, 'step': 217}, {'loss': 0.5966, 'learning_rate': 2.31834334982568e-05, 'epoch': 2.0, 'step': 434}, {'eval_loss': 0.5666386485099792, 'eval_accuracy': 0.7301038062283737, 'eval_runtime': 12.1588, 'eval_samples_per_second': 71.306, 'eval_steps_per_second': 8.965, 'epoch': 2.0, 'step': 434}, {'loss': 0.5624, 'learning_rate': 2.02855043109747e-05, 'epoch': 3.0, 'step': 651}, {'eval_loss': 0.5429564714431763, 'eval_accuracy': 0.7450980392156863, 'eval_runtime': 12.1882, 'eval_samples_per_second': 71.134, 'eval_steps_per_second': 8.943, 'epoch': 3.0, 'step': 651}, {'loss': 0.5407, 'learning_rate': 1.73875751236926e-05, 'epoch': 4.0, 'step': 868}, {'eval_loss': 0.5281320810317993, 'eval_accuracy': 0.7520184544405998, 'eval_runtime': 12.1582, 'eval_samples_per_second': 71.31, 'eval_steps_per_second': 8.965, 'epoch': 4.0, 'step': 868}, {'loss': 0.5336, 'learning_rate': 1.44896459364105e-05, 'epoch': 5.0, 'step': 1085}, {'eval_loss': 0.518130898475647, 'eval_accuracy': 0.7600922722029988, 'eval_runtime': 12.1767, 'eval_samples_per_second': 71.201, 'eval_steps_per_second': 8.952, 'epoch': 5.0, 'step': 1085}, {'loss': 0.5274, 'learning_rate': 1.15917167491284e-05, 'epoch': 6.0, 'step': 1302}, {'eval_loss': 0.5128165483474731, 'eval_accuracy': 0.7577854671280276, 'eval_runtime': 12.1692, 'eval_samples_per_second': 71.245, 'eval_steps_per_second': 8.957, 'epoch': 6.0, 'step': 1302}, {'loss': 0.5224, 'learning_rate': 8.6937875618463e-06, 'epoch': 7.0, 'step': 1519}, {'eval_loss': 0.5061051249504089, 'eval_accuracy': 0.7658592848904268, 'eval_runtime': 12.1617, 'eval_samples_per_second': 71.289, 'eval_steps_per_second': 8.963, 'epoch': 7.0, 'step': 1519}, {'loss': 0.5168, 'learning_rate': 5.7958583745642e-06, 'epoch': 8.0, 'step': 1736}, {'eval_loss': 0.5033898949623108, 'eval_accuracy': 0.7693194925028836, 'eval_runtime': 12.1764, 'eval_samples_per_second': 71.203, 'eval_steps_per_second': 8.952, 'epoch': 8.0, 'step': 1736}, {'loss': 0.5129, 'learning_rate': 2.8979291872821e-06, 'epoch': 9.0, 'step': 1953}, {'eval_loss': 0.5019400119781494, 'eval_accuracy': 0.7704728950403691, 'eval_runtime': 12.1639, 'eval_samples_per_second': 71.277, 'eval_steps_per_second': 8.961, 'epoch': 9.0, 'step': 1953}, {'loss': 0.514, 'learning_rate': 0.0, 'epoch': 10.0, 'step': 2170}, {'eval_loss': 0.5011276006698608, 'eval_accuracy': 0.7716262975778547, 'eval_runtime': 12.1803, 'eval_samples_per_second': 71.18, 'eval_steps_per_second': 8.949, 'epoch': 10.0, 'step': 2170}, {'train_runtime': 1123.4069, 'train_samples_per_second': 30.87, 'train_steps_per_second': 1.932, 'total_flos': 8678955908717280.0, 'train_loss': 0.5489489049955447, 'epoch': 10.0, 'step': 2170}, {'eval_loss': 0.5011276006698608, 'eval_accuracy': 0.7716262975778547, 'eval_runtime': 12.2766, 'eval_samples_per_second': 70.622, 'eval_steps_per_second': 8.879, 'epoch': 10.0, 'step': 2170}]\n"
     ]
    },
    {
     "name": "stderr",
     "output_type": "stream",
     "text": [
      "/home/ubuntu/data/miniconda3/envs/finetune-dephos/lib/python3.9/site-packages/huggingface_hub/file_download.py:1132: FutureWarning: `resume_download` is deprecated and will be removed in version 1.0.0. Downloads always resume when possible. If you want to force a new download, use `force_download=True`.\n",
      "  warnings.warn(\n"
     ]
    },
    {
     "name": "stdout",
     "output_type": "stream",
     "text": [
      "ProtT5_Classfier\n",
      "Trainable Parameter: 1209193475.0\n",
      "ProtT5_LoRA_Classfier\n",
      "Trainable Parameter: 9457667.0\n",
      "\n"
     ]
    },
    {
     "name": "stderr",
     "output_type": "stream",
     "text": [
      "/home/ubuntu/data/miniconda3/envs/finetune-dephos/lib/python3.9/site-packages/accelerate/accelerator.py:446: FutureWarning: Passing the following arguments to `Accelerator` is deprecated and will be removed in version 1.0 of Accelerate: dict_keys(['dispatch_batches', 'split_batches']). Please pass an `accelerate.DataLoaderConfiguration` instead: \n",
      "dataloader_config = DataLoaderConfiguration(dispatch_batches=None, split_batches=False)\n",
      "  warnings.warn(\n"
     ]
    },
    {
     "data": {
      "text/html": [
       "\n",
       "    <div>\n",
       "      \n",
       "      <progress value='4330' max='4330' style='width:300px; height:20px; vertical-align: middle;'></progress>\n",
       "      [4330/4330 38:14, Epoch 9/10]\n",
       "    </div>\n",
       "    <table border=\"1\" class=\"dataframe\">\n",
       "  <thead>\n",
       " <tr style=\"text-align: left;\">\n",
       "      <th>Epoch</th>\n",
       "      <th>Training Loss</th>\n",
       "      <th>Validation Loss</th>\n",
       "      <th>Accuracy</th>\n",
       "    </tr>\n",
       "  </thead>\n",
       "  <tbody>\n",
       "    <tr>\n",
       "      <td>0</td>\n",
       "      <td>0.697400</td>\n",
       "      <td>0.690202</td>\n",
       "      <td>0.530565</td>\n",
       "    </tr>\n",
       "    <tr>\n",
       "      <td>2</td>\n",
       "      <td>0.665400</td>\n",
       "      <td>0.646689</td>\n",
       "      <td>0.710496</td>\n",
       "    </tr>\n",
       "    <tr>\n",
       "      <td>4</td>\n",
       "      <td>0.617300</td>\n",
       "      <td>0.596289</td>\n",
       "      <td>0.718570</td>\n",
       "    </tr>\n",
       "    <tr>\n",
       "      <td>6</td>\n",
       "      <td>0.573400</td>\n",
       "      <td>0.560306</td>\n",
       "      <td>0.726644</td>\n",
       "    </tr>\n",
       "    <tr>\n",
       "      <td>8</td>\n",
       "      <td>0.561000</td>\n",
       "      <td>0.547031</td>\n",
       "      <td>0.731257</td>\n",
       "    </tr>\n",
       "    <tr>\n",
       "      <td>9</td>\n",
       "      <td>0.555800</td>\n",
       "      <td>0.545329</td>\n",
       "      <td>0.735871</td>\n",
       "    </tr>\n",
       "  </tbody>\n",
       "</table><p>"
      ],
      "text/plain": [
       "<IPython.core.display.HTML object>"
      ]
     },
     "metadata": {},
     "output_type": "display_data"
    },
    {
     "name": "stdout",
     "output_type": "stream",
     "text": [
      "Saved improved model to ./model_output/finetuned_model_D_and_P_balance_dataset.pth\n",
      "Saved improved model to ./model_output/finetuned_model_D_and_P_balance_dataset.pth\n",
      "Saved improved model to ./model_output/finetuned_model_D_and_P_balance_dataset.pth\n",
      "Saved improved model to ./model_output/finetuned_model_D_and_P_balance_dataset.pth\n",
      "Saved improved model to ./model_output/finetuned_model_D_and_P_balance_dataset.pth\n",
      "Saved improved model to ./model_output/finetuned_model_D_and_P_balance_dataset.pth\n",
      "Saved improved model to ./model_output/finetuned_model_D_and_P_balance_dataset.pth\n",
      "Saved improved model to ./model_output/finetuned_model_D_and_P_balance_dataset.pth\n",
      "Saved improved model to ./model_output/finetuned_model_D_and_P_balance_dataset.pth\n",
      "Saved improved model to ./model_output/finetuned_model_D_and_P_balance_dataset.pth\n",
      "Loaded best model from ./model_output/finetuned_model_D_and_P_balance_dataset.pth\n"
     ]
    },
    {
     "data": {
      "text/html": [
       "\n",
       "    <div>\n",
       "      \n",
       "      <progress value='109' max='109' style='width:300px; height:20px; vertical-align: middle;'></progress>\n",
       "      [109/109 00:11]\n",
       "    </div>\n",
       "    "
      ],
      "text/plain": [
       "<IPython.core.display.HTML object>"
      ]
     },
     "metadata": {},
     "output_type": "display_data"
    },
    {
     "name": "stdout",
     "output_type": "stream",
     "text": [
      "{'eval_loss': 0.5453286170959473, 'eval_accuracy': 0.7358708189158016, 'eval_runtime': 12.2192, 'eval_samples_per_second': 70.954, 'eval_steps_per_second': 8.92, 'epoch': 9.99}\n",
      "History:  [{'loss': 0.6974, 'learning_rate': 1.7732797878062975e-06, 'epoch': 1.0, 'step': 433}, {'eval_loss': 0.6902021765708923, 'eval_accuracy': 0.5305651672433679, 'eval_runtime': 13.8106, 'eval_samples_per_second': 62.778, 'eval_steps_per_second': 7.893, 'epoch': 1.0, 'step': 433}, {'loss': 0.6839, 'learning_rate': 3.55065490999552e-06, 'epoch': 2.0, 'step': 867}, {'eval_loss': 0.6714340448379517, 'eval_accuracy': 0.6632064590542099, 'eval_runtime': 12.2496, 'eval_samples_per_second': 70.778, 'eval_steps_per_second': 8.898, 'epoch': 2.0, 'step': 867}, {'loss': 0.6654, 'learning_rate': 5.323934697801817e-06, 'epoch': 3.0, 'step': 1300}, {'eval_loss': 0.6466893553733826, 'eval_accuracy': 0.7104959630911188, 'eval_runtime': 12.1286, 'eval_samples_per_second': 71.484, 'eval_steps_per_second': 8.987, 'epoch': 3.0, 'step': 1300}, {'loss': 0.64, 'learning_rate': 7.10130981999104e-06, 'epoch': 4.0, 'step': 1734}, {'eval_loss': 0.6207638382911682, 'eval_accuracy': 0.7116493656286044, 'eval_runtime': 12.1194, 'eval_samples_per_second': 71.538, 'eval_steps_per_second': 8.994, 'epoch': 4.0, 'step': 1734}, {'loss': 0.6173, 'learning_rate': 8.874589607797337e-06, 'epoch': 5.0, 'step': 2167}, {'eval_loss': 0.5962885022163391, 'eval_accuracy': 0.7185697808535179, 'eval_runtime': 12.1291, 'eval_samples_per_second': 71.481, 'eval_steps_per_second': 8.987, 'epoch': 5.0, 'step': 2167}, {'loss': 0.5965, 'learning_rate': 1.0105269728140448e-05, 'epoch': 6.0, 'step': 2601}, {'eval_loss': 0.5751367807388306, 'eval_accuracy': 0.7197231833910035, 'eval_runtime': 12.1694, 'eval_samples_per_second': 71.244, 'eval_steps_per_second': 8.957, 'epoch': 6.0, 'step': 2601}, {'loss': 0.5734, 'learning_rate': 7.574568865049172e-06, 'epoch': 7.0, 'step': 3034}, {'eval_loss': 0.5603064298629761, 'eval_accuracy': 0.726643598615917, 'eval_runtime': 12.124, 'eval_samples_per_second': 71.511, 'eval_steps_per_second': 8.99, 'epoch': 7.0, 'step': 3034}, {'loss': 0.5601, 'learning_rate': 5.038023427216348e-06, 'epoch': 8.0, 'step': 3468}, {'eval_loss': 0.5518162846565247, 'eval_accuracy': 0.726643598615917, 'eval_runtime': 12.1218, 'eval_samples_per_second': 71.524, 'eval_steps_per_second': 8.992, 'epoch': 8.0, 'step': 3468}, {'loss': 0.561, 'learning_rate': 2.507322564125073e-06, 'epoch': 9.0, 'step': 3901}, {'eval_loss': 0.5470306277275085, 'eval_accuracy': 0.7312572087658593, 'eval_runtime': 12.1167, 'eval_samples_per_second': 71.554, 'eval_steps_per_second': 8.996, 'epoch': 9.0, 'step': 3901}, {'loss': 0.5558, 'learning_rate': 0.0, 'epoch': 9.99, 'step': 4330}, {'eval_loss': 0.5453286170959473, 'eval_accuracy': 0.7358708189158016, 'eval_runtime': 12.1052, 'eval_samples_per_second': 71.622, 'eval_steps_per_second': 9.004, 'epoch': 9.99, 'step': 4330}, {'train_runtime': 2294.9162, 'train_samples_per_second': 15.112, 'train_steps_per_second': 1.887, 'total_flos': 8602951823096640.0, 'train_loss': 0.6151437455457022, 'epoch': 9.99, 'step': 4330}, {'eval_loss': 0.5453286170959473, 'eval_accuracy': 0.7358708189158016, 'eval_runtime': 12.2192, 'eval_samples_per_second': 70.954, 'eval_steps_per_second': 8.92, 'epoch': 9.99, 'step': 4330}]\n"
     ]
    },
    {
     "name": "stderr",
     "output_type": "stream",
     "text": [
      "[I 2024-06-16 13:39:51,961] Trial 9 finished with values: [0.5453286170959473, 0.7358708189158016] and parameters: {'lr': 1.0426721338925713e-05, 'batch': 2, 'accum': 4, 'dropout_rate': 0.4748596845801991, 'weight_decay': 0.00015750528343988309, 'warmup_pct': 0.14682840320265267, 'lora_rank': 16, 'lora_init_scale': 0.00010609772427179262, 'lora_scaling_rank': 1}. \n",
      "/home/ubuntu/data/miniconda3/envs/finetune-dephos/lib/python3.9/site-packages/huggingface_hub/file_download.py:1132: FutureWarning: `resume_download` is deprecated and will be removed in version 1.0.0. Downloads always resume when possible. If you want to force a new download, use `force_download=True`.\n",
      "  warnings.warn(\n"
     ]
    },
    {
     "name": "stdout",
     "output_type": "stream",
     "text": [
      "ProtT5_Classfier\n",
      "Trainable Parameter: 1209193475.0\n",
      "ProtT5_LoRA_Classfier\n",
      "Trainable Parameter: 7983107.0\n",
      "\n"
     ]
    },
    {
     "name": "stderr",
     "output_type": "stream",
     "text": [
      "/home/ubuntu/data/miniconda3/envs/finetune-dephos/lib/python3.9/site-packages/accelerate/accelerator.py:446: FutureWarning: Passing the following arguments to `Accelerator` is deprecated and will be removed in version 1.0 of Accelerate: dict_keys(['dispatch_batches', 'split_batches']). Please pass an `accelerate.DataLoaderConfiguration` instead: \n",
      "dataloader_config = DataLoaderConfiguration(dispatch_batches=None, split_batches=False)\n",
      "  warnings.warn(\n"
     ]
    },
    {
     "data": {
      "text/html": [
       "\n",
       "    <div>\n",
       "      \n",
       "      <progress value='1080' max='1080' style='width:300px; height:20px; vertical-align: middle;'></progress>\n",
       "      [1080/1080 24:31, Epoch 9/10]\n",
       "    </div>\n",
       "    <table border=\"1\" class=\"dataframe\">\n",
       "  <thead>\n",
       " <tr style=\"text-align: left;\">\n",
       "      <th>Epoch</th>\n",
       "      <th>Training Loss</th>\n",
       "      <th>Validation Loss</th>\n",
       "      <th>Accuracy</th>\n",
       "    </tr>\n",
       "  </thead>\n",
       "  <tbody>\n",
       "    <tr>\n",
       "      <td>0</td>\n",
       "      <td>0.691400</td>\n",
       "      <td>0.671192</td>\n",
       "      <td>0.647059</td>\n",
       "    </tr>\n",
       "    <tr>\n",
       "      <td>1</td>\n",
       "      <td>0.653000</td>\n",
       "      <td>0.622122</td>\n",
       "      <td>0.715110</td>\n",
       "    </tr>\n",
       "    <tr>\n",
       "      <td>2</td>\n",
       "      <td>0.601300</td>\n",
       "      <td>0.577509</td>\n",
       "      <td>0.715110</td>\n",
       "    </tr>\n",
       "    <tr>\n",
       "      <td>3</td>\n",
       "      <td>0.570600</td>\n",
       "      <td>0.541891</td>\n",
       "      <td>0.741638</td>\n",
       "    </tr>\n",
       "    <tr>\n",
       "      <td>4</td>\n",
       "      <td>0.539600</td>\n",
       "      <td>0.513356</td>\n",
       "      <td>0.760092</td>\n",
       "    </tr>\n",
       "    <tr>\n",
       "      <td>5</td>\n",
       "      <td>0.511300</td>\n",
       "      <td>0.492808</td>\n",
       "      <td>0.767013</td>\n",
       "    </tr>\n",
       "    <tr>\n",
       "      <td>6</td>\n",
       "      <td>0.503500</td>\n",
       "      <td>0.483660</td>\n",
       "      <td>0.772780</td>\n",
       "    </tr>\n",
       "    <tr>\n",
       "      <td>8</td>\n",
       "      <td>0.472600</td>\n",
       "      <td>0.478434</td>\n",
       "      <td>0.762399</td>\n",
       "    </tr>\n",
       "    <tr>\n",
       "      <td>9</td>\n",
       "      <td>0.453900</td>\n",
       "      <td>0.474064</td>\n",
       "      <td>0.772780</td>\n",
       "    </tr>\n",
       "  </tbody>\n",
       "</table><p>"
      ],
      "text/plain": [
       "<IPython.core.display.HTML object>"
      ]
     },
     "metadata": {},
     "output_type": "display_data"
    },
    {
     "name": "stdout",
     "output_type": "stream",
     "text": [
      "Saved improved model to ./model_output/finetuned_model_D_and_P_balance_dataset.pth\n",
      "Saved improved model to ./model_output/finetuned_model_D_and_P_balance_dataset.pth\n",
      "Saved improved model to ./model_output/finetuned_model_D_and_P_balance_dataset.pth\n",
      "Saved improved model to ./model_output/finetuned_model_D_and_P_balance_dataset.pth\n",
      "Saved improved model to ./model_output/finetuned_model_D_and_P_balance_dataset.pth\n",
      "Saved improved model to ./model_output/finetuned_model_D_and_P_balance_dataset.pth\n",
      "Saved improved model to ./model_output/finetuned_model_D_and_P_balance_dataset.pth\n",
      "Saved improved model to ./model_output/finetuned_model_D_and_P_balance_dataset.pth\n",
      "Saved improved model to ./model_output/finetuned_model_D_and_P_balance_dataset.pth\n",
      "Loaded best model from ./model_output/finetuned_model_D_and_P_balance_dataset.pth\n"
     ]
    },
    {
     "data": {
      "text/html": [
       "\n",
       "    <div>\n",
       "      \n",
       "      <progress value='109' max='109' style='width:300px; height:20px; vertical-align: middle;'></progress>\n",
       "      [109/109 00:11]\n",
       "    </div>\n",
       "    "
      ],
      "text/plain": [
       "<IPython.core.display.HTML object>"
      ]
     },
     "metadata": {},
     "output_type": "display_data"
    },
    {
     "name": "stdout",
     "output_type": "stream",
     "text": [
      "{'eval_loss': 0.47406354546546936, 'eval_accuracy': 0.7727797001153403, 'eval_runtime': 12.0897, 'eval_samples_per_second': 71.714, 'eval_steps_per_second': 9.016, 'epoch': 9.97}\n"
     ]
    },
    {
     "name": "stderr",
     "output_type": "stream",
     "text": [
      "[I 2024-06-16 14:05:16,910] Trial 10 finished with values: [0.47406354546546936, 0.7727797001153403] and parameters: {'lr': 0.00017217988685369333, 'batch': 4, 'accum': 8, 'dropout_rate': 0.2506796479437915, 'weight_decay': 4.1002548507731495e-05, 'warmup_pct': 0.19855362274271587, 'lora_rank': 8, 'lora_init_scale': 0.08991398196540609, 'lora_scaling_rank': 6}. \n"
     ]
    },
    {
     "name": "stdout",
     "output_type": "stream",
     "text": [
      "History:  [{'loss': 0.6914, 'learning_rate': 1.0805013236605973e-05, 'epoch': 1.0, 'step': 108}, {'eval_loss': 0.6711915135383606, 'eval_accuracy': 0.6470588235294118, 'eval_runtime': 13.7737, 'eval_samples_per_second': 62.946, 'eval_steps_per_second': 7.914, 'epoch': 1.0, 'step': 108}, {'loss': 0.653, 'learning_rate': 2.1610026473211947e-05, 'epoch': 1.99, 'step': 216}, {'eval_loss': 0.6221221685409546, 'eval_accuracy': 0.7151095732410612, 'eval_runtime': 12.1138, 'eval_samples_per_second': 71.571, 'eval_steps_per_second': 8.998, 'epoch': 1.99, 'step': 216}, {'loss': 0.6013, 'learning_rate': 3.251508612867538e-05, 'epoch': 3.0, 'step': 325}, {'eval_loss': 0.5775094628334045, 'eval_accuracy': 0.7151095732410612, 'eval_runtime': 12.1136, 'eval_samples_per_second': 71.572, 'eval_steps_per_second': 8.998, 'epoch': 3.0, 'step': 325}, {'loss': 0.5706, 'learning_rate': 4.3320099365281355e-05, 'epoch': 4.0, 'step': 433}, {'eval_loss': 0.5418911576271057, 'eval_accuracy': 0.7416378316032295, 'eval_runtime': 12.1162, 'eval_samples_per_second': 71.557, 'eval_steps_per_second': 8.996, 'epoch': 4.0, 'step': 433}, {'loss': 0.5396, 'learning_rate': 5.412511260188732e-05, 'epoch': 4.99, 'step': 541}, {'eval_loss': 0.5133557319641113, 'eval_accuracy': 0.7600922722029988, 'eval_runtime': 12.1137, 'eval_samples_per_second': 71.572, 'eval_steps_per_second': 8.998, 'epoch': 4.99, 'step': 541}, {'loss': 0.5113, 'learning_rate': 6.503017225735076e-05, 'epoch': 6.0, 'step': 650}, {'eval_loss': 0.4928078353404999, 'eval_accuracy': 0.7670126874279123, 'eval_runtime': 12.11, 'eval_samples_per_second': 71.594, 'eval_steps_per_second': 9.001, 'epoch': 6.0, 'step': 650}, {'loss': 0.5035, 'learning_rate': 7.583518549395674e-05, 'epoch': 6.99, 'step': 758}, {'eval_loss': 0.4836598336696625, 'eval_accuracy': 0.7727797001153403, 'eval_runtime': 12.1198, 'eval_samples_per_second': 71.536, 'eval_steps_per_second': 8.994, 'epoch': 6.99, 'step': 758}, {'loss': 0.4815, 'learning_rate': 8.674024514942017e-05, 'epoch': 8.0, 'step': 867}, {'eval_loss': 0.48582154512405396, 'eval_accuracy': 0.7716262975778547, 'eval_runtime': 12.113, 'eval_samples_per_second': 71.576, 'eval_steps_per_second': 8.999, 'epoch': 8.0, 'step': 867}, {'loss': 0.4726, 'learning_rate': 9.754525838602615e-05, 'epoch': 9.0, 'step': 975}, {'eval_loss': 0.4784338176250458, 'eval_accuracy': 0.76239907727797, 'eval_runtime': 12.1161, 'eval_samples_per_second': 71.558, 'eval_steps_per_second': 8.996, 'epoch': 9.0, 'step': 975}, {'loss': 0.4539, 'learning_rate': 0.00010805013236605973, 'epoch': 9.97, 'step': 1080}, {'eval_loss': 0.47406354546546936, 'eval_accuracy': 0.7727797001153403, 'eval_runtime': 12.107, 'eval_samples_per_second': 71.611, 'eval_steps_per_second': 9.003, 'epoch': 9.97, 'step': 1080}, {'train_runtime': 1472.3775, 'train_samples_per_second': 23.554, 'train_steps_per_second': 0.734, 'total_flos': 8572687572188160.0, 'train_loss': 0.5480722250761809, 'epoch': 9.97, 'step': 1080}, {'eval_loss': 0.47406354546546936, 'eval_accuracy': 0.7727797001153403, 'eval_runtime': 12.0897, 'eval_samples_per_second': 71.714, 'eval_steps_per_second': 9.016, 'epoch': 9.97, 'step': 1080}]\n"
     ]
    },
    {
     "name": "stderr",
     "output_type": "stream",
     "text": [
      "/home/ubuntu/data/miniconda3/envs/finetune-dephos/lib/python3.9/site-packages/huggingface_hub/file_download.py:1132: FutureWarning: `resume_download` is deprecated and will be removed in version 1.0.0. Downloads always resume when possible. If you want to force a new download, use `force_download=True`.\n",
      "  warnings.warn(\n"
     ]
    },
    {
     "name": "stdout",
     "output_type": "stream",
     "text": [
      "ProtT5_Classfier\n",
      "Trainable Parameter: 1209193475.0\n",
      "ProtT5_LoRA_Classfier\n",
      "Trainable Parameter: 5525507.0\n",
      "\n"
     ]
    },
    {
     "name": "stderr",
     "output_type": "stream",
     "text": [
      "/home/ubuntu/data/miniconda3/envs/finetune-dephos/lib/python3.9/site-packages/accelerate/accelerator.py:446: FutureWarning: Passing the following arguments to `Accelerator` is deprecated and will be removed in version 1.0 of Accelerate: dict_keys(['dispatch_batches', 'split_batches']). Please pass an `accelerate.DataLoaderConfiguration` instead: \n",
      "dataloader_config = DataLoaderConfiguration(dispatch_batches=None, split_batches=False)\n",
      "  warnings.warn(\n"
     ]
    },
    {
     "data": {
      "text/html": [
       "\n",
       "    <div>\n",
       "      \n",
       "      <progress value='4330' max='4330' style='width:300px; height:20px; vertical-align: middle;'></progress>\n",
       "      [4330/4330 25:13, Epoch 9/10]\n",
       "    </div>\n",
       "    <table border=\"1\" class=\"dataframe\">\n",
       "  <thead>\n",
       " <tr style=\"text-align: left;\">\n",
       "      <th>Epoch</th>\n",
       "      <th>Training Loss</th>\n",
       "      <th>Validation Loss</th>\n",
       "      <th>Accuracy</th>\n",
       "    </tr>\n",
       "  </thead>\n",
       "  <tbody>\n",
       "    <tr>\n",
       "      <td>0</td>\n",
       "      <td>0.619700</td>\n",
       "      <td>0.513237</td>\n",
       "      <td>0.767013</td>\n",
       "    </tr>\n",
       "    <tr>\n",
       "      <td>2</td>\n",
       "      <td>0.551200</td>\n",
       "      <td>0.471431</td>\n",
       "      <td>0.775087</td>\n",
       "    </tr>\n",
       "    <tr>\n",
       "      <td>4</td>\n",
       "      <td>0.441800</td>\n",
       "      <td>0.520613</td>\n",
       "      <td>0.771626</td>\n",
       "    </tr>\n",
       "    <tr>\n",
       "      <td>6</td>\n",
       "      <td>0.324900</td>\n",
       "      <td>0.789064</td>\n",
       "      <td>0.764706</td>\n",
       "    </tr>\n",
       "    <tr>\n",
       "      <td>8</td>\n",
       "      <td>0.198800</td>\n",
       "      <td>0.986994</td>\n",
       "      <td>0.786621</td>\n",
       "    </tr>\n",
       "    <tr>\n",
       "      <td>9</td>\n",
       "      <td>0.144500</td>\n",
       "      <td>1.100539</td>\n",
       "      <td>0.790081</td>\n",
       "    </tr>\n",
       "  </tbody>\n",
       "</table><p>"
      ],
      "text/plain": [
       "<IPython.core.display.HTML object>"
      ]
     },
     "metadata": {},
     "output_type": "display_data"
    },
    {
     "name": "stdout",
     "output_type": "stream",
     "text": [
      "Saved improved model to ./model_output/finetuned_model_D_and_P_balance_dataset.pth\n",
      "Saved improved model to ./model_output/finetuned_model_D_and_P_balance_dataset.pth\n",
      "Saved improved model to ./model_output/finetuned_model_D_and_P_balance_dataset.pth\n",
      "Saved improved model to ./model_output/finetuned_model_D_and_P_balance_dataset.pth\n",
      "Saved improved model to ./model_output/finetuned_model_D_and_P_balance_dataset.pth\n",
      "Saved improved model to ./model_output/finetuned_model_D_and_P_balance_dataset.pth\n",
      "Loaded best model from ./model_output/finetuned_model_D_and_P_balance_dataset.pth\n"
     ]
    },
    {
     "data": {
      "text/html": [
       "\n",
       "    <div>\n",
       "      \n",
       "      <progress value='109' max='109' style='width:300px; height:20px; vertical-align: middle;'></progress>\n",
       "      [109/109 00:11]\n",
       "    </div>\n",
       "    "
      ],
      "text/plain": [
       "<IPython.core.display.HTML object>"
      ]
     },
     "metadata": {},
     "output_type": "display_data"
    },
    {
     "name": "stdout",
     "output_type": "stream",
     "text": [
      "Stopping early at epoch 9.988465974625145: No improvement in loss or accuracy for 3 evaluations.\n",
      "{'eval_loss': 0.9660893082618713, 'eval_accuracy': 0.7912341407151096, 'eval_runtime': 12.2798, 'eval_samples_per_second': 70.604, 'eval_steps_per_second': 8.876, 'epoch': 9.99}\n"
     ]
    },
    {
     "name": "stderr",
     "output_type": "stream",
     "text": [
      "[I 2024-06-16 14:31:23,536] Trial 11 finished with values: [0.9660893082618713, 0.7912341407151096] and parameters: {'lr': 0.0017007276558301762, 'batch': 4, 'accum': 2, 'dropout_rate': 0.5912121439542763, 'weight_decay': 1.7695724868609444e-05, 'warmup_pct': 0.08557794125611791, 'lora_rank': 4, 'lora_init_scale': 0.00012360041069115667, 'lora_scaling_rank': 5}. \n"
     ]
    },
    {
     "name": "stdout",
     "output_type": "stream",
     "text": [
      "History:  [{'loss': 0.6197, 'learning_rate': 0.0009938125168346373, 'epoch': 1.0, 'step': 433}, {'eval_loss': 0.5132373571395874, 'eval_accuracy': 0.7670126874279123, 'eval_runtime': 13.8524, 'eval_samples_per_second': 62.589, 'eval_steps_per_second': 7.869, 'epoch': 1.0, 'step': 433}, {'loss': 0.5877, 'learning_rate': 0.0016410197470437169, 'epoch': 2.0, 'step': 867}, {'eval_loss': 0.4990178346633911, 'eval_accuracy': 0.7566320645905421, 'eval_runtime': 12.2526, 'eval_samples_per_second': 70.761, 'eval_steps_per_second': 8.896, 'epoch': 2.0, 'step': 867}, {'loss': 0.5512, 'learning_rate': 0.0014358330446267579, 'epoch': 3.0, 'step': 1300}, {'eval_loss': 0.47143104672431946, 'eval_accuracy': 0.7750865051903114, 'eval_runtime': 12.1192, 'eval_samples_per_second': 71.54, 'eval_steps_per_second': 8.994, 'epoch': 3.0, 'step': 1300}, {'loss': 0.4869, 'learning_rate': 0.0012301724699178426, 'epoch': 4.0, 'step': 1734}, {'eval_loss': 0.49834349751472473, 'eval_accuracy': 0.776239907727797, 'eval_runtime': 12.1318, 'eval_samples_per_second': 71.465, 'eval_steps_per_second': 8.985, 'epoch': 4.0, 'step': 1734}, {'loss': 0.4418, 'learning_rate': 0.0010249857675008836, 'epoch': 5.0, 'step': 2167}, {'eval_loss': 0.5206127762794495, 'eval_accuracy': 0.7716262975778547, 'eval_runtime': 12.1212, 'eval_samples_per_second': 71.527, 'eval_steps_per_second': 8.992, 'epoch': 5.0, 'step': 2167}, {'loss': 0.359, 'learning_rate': 0.0008193251927919684, 'epoch': 6.0, 'step': 2601}, {'eval_loss': 0.6332070231437683, 'eval_accuracy': 0.7831603229527105, 'eval_runtime': 12.1342, 'eval_samples_per_second': 71.451, 'eval_steps_per_second': 8.983, 'epoch': 6.0, 'step': 2601}, {'loss': 0.3249, 'learning_rate': 0.0006141384903750092, 'epoch': 7.0, 'step': 3034}, {'eval_loss': 0.7890641093254089, 'eval_accuracy': 0.7647058823529411, 'eval_runtime': 12.1265, 'eval_samples_per_second': 71.497, 'eval_steps_per_second': 8.989, 'epoch': 7.0, 'step': 3034}, {'loss': 0.2392, 'learning_rate': 0.00040847791566609414, 'epoch': 8.0, 'step': 3468}, {'eval_loss': 0.9660893082618713, 'eval_accuracy': 0.7912341407151096, 'eval_runtime': 12.1243, 'eval_samples_per_second': 71.51, 'eval_steps_per_second': 8.99, 'epoch': 8.0, 'step': 3468}, {'loss': 0.1988, 'learning_rate': 0.00020329121324913501, 'epoch': 9.0, 'step': 3901}, {'eval_loss': 0.9869940876960754, 'eval_accuracy': 0.7866205305651672, 'eval_runtime': 12.1438, 'eval_samples_per_second': 71.395, 'eval_steps_per_second': 8.976, 'epoch': 9.0, 'step': 3901}, {'loss': 0.1445, 'learning_rate': 0.0, 'epoch': 9.99, 'step': 4330}, {'eval_loss': 1.1005394458770752, 'eval_accuracy': 0.790080738177624, 'eval_runtime': 12.1149, 'eval_samples_per_second': 71.565, 'eval_steps_per_second': 8.997, 'epoch': 9.99, 'step': 4330}, {'train_runtime': 1513.3606, 'train_samples_per_second': 22.916, 'train_steps_per_second': 2.861, 'total_flos': 8575164978527040.0, 'train_loss': 0.395638876864321, 'epoch': 9.99, 'step': 4330}, {'eval_loss': 0.9660893082618713, 'eval_accuracy': 0.7912341407151096, 'eval_runtime': 12.2798, 'eval_samples_per_second': 70.604, 'eval_steps_per_second': 8.876, 'epoch': 9.99, 'step': 4330}]\n"
     ]
    },
    {
     "name": "stderr",
     "output_type": "stream",
     "text": [
      "/home/ubuntu/data/miniconda3/envs/finetune-dephos/lib/python3.9/site-packages/huggingface_hub/file_download.py:1132: FutureWarning: `resume_download` is deprecated and will be removed in version 1.0.0. Downloads always resume when possible. If you want to force a new download, use `force_download=True`.\n",
      "  warnings.warn(\n"
     ]
    },
    {
     "name": "stdout",
     "output_type": "stream",
     "text": [
      "ProtT5_Classfier\n",
      "Trainable Parameter: 1209193475.0\n",
      "ProtT5_LoRA_Classfier\n",
      "Trainable Parameter: 7491587.0\n",
      "\n"
     ]
    },
    {
     "name": "stderr",
     "output_type": "stream",
     "text": [
      "/home/ubuntu/data/miniconda3/envs/finetune-dephos/lib/python3.9/site-packages/accelerate/accelerator.py:446: FutureWarning: Passing the following arguments to `Accelerator` is deprecated and will be removed in version 1.0 of Accelerate: dict_keys(['dispatch_batches', 'split_batches']). Please pass an `accelerate.DataLoaderConfiguration` instead: \n",
      "dataloader_config = DataLoaderConfiguration(dispatch_batches=None, split_batches=False)\n",
      "  warnings.warn(\n"
     ]
    },
    {
     "data": {
      "text/html": [
       "\n",
       "    <div>\n",
       "      \n",
       "      <progress value='4330' max='4330' style='width:300px; height:20px; vertical-align: middle;'></progress>\n",
       "      [4330/4330 24:51, Epoch 9/10]\n",
       "    </div>\n",
       "    <table border=\"1\" class=\"dataframe\">\n",
       "  <thead>\n",
       " <tr style=\"text-align: left;\">\n",
       "      <th>Epoch</th>\n",
       "      <th>Training Loss</th>\n",
       "      <th>Validation Loss</th>\n",
       "      <th>Accuracy</th>\n",
       "    </tr>\n",
       "  </thead>\n",
       "  <tbody>\n",
       "    <tr>\n",
       "      <td>0</td>\n",
       "      <td>0.589100</td>\n",
       "      <td>0.495428</td>\n",
       "      <td>0.749712</td>\n",
       "    </tr>\n",
       "    <tr>\n",
       "      <td>2</td>\n",
       "      <td>0.499200</td>\n",
       "      <td>0.550767</td>\n",
       "      <td>0.737024</td>\n",
       "    </tr>\n",
       "    <tr>\n",
       "      <td>4</td>\n",
       "      <td>0.321600</td>\n",
       "      <td>0.647373</td>\n",
       "      <td>0.792388</td>\n",
       "    </tr>\n",
       "    <tr>\n",
       "      <td>6</td>\n",
       "      <td>0.165900</td>\n",
       "      <td>1.296712</td>\n",
       "      <td>0.795848</td>\n",
       "    </tr>\n",
       "    <tr>\n",
       "      <td>8</td>\n",
       "      <td>0.065800</td>\n",
       "      <td>1.699357</td>\n",
       "      <td>0.803922</td>\n",
       "    </tr>\n",
       "    <tr>\n",
       "      <td>9</td>\n",
       "      <td>0.033100</td>\n",
       "      <td>1.786019</td>\n",
       "      <td>0.806228</td>\n",
       "    </tr>\n",
       "  </tbody>\n",
       "</table><p>"
      ],
      "text/plain": [
       "<IPython.core.display.HTML object>"
      ]
     },
     "metadata": {},
     "output_type": "display_data"
    },
    {
     "name": "stdout",
     "output_type": "stream",
     "text": [
      "Saved improved model to ./model_output/finetuned_model_D_and_P_balance_dataset.pth\n",
      "Saved improved model to ./model_output/finetuned_model_D_and_P_balance_dataset.pth\n",
      "Saved improved model to ./model_output/finetuned_model_D_and_P_balance_dataset.pth\n",
      "Saved improved model to ./model_output/finetuned_model_D_and_P_balance_dataset.pth\n",
      "Saved improved model to ./model_output/finetuned_model_D_and_P_balance_dataset.pth\n",
      "Saved improved model to ./model_output/finetuned_model_D_and_P_balance_dataset.pth\n",
      "Loaded best model from ./model_output/finetuned_model_D_and_P_balance_dataset.pth\n"
     ]
    },
    {
     "data": {
      "text/html": [
       "\n",
       "    <div>\n",
       "      \n",
       "      <progress value='109' max='109' style='width:300px; height:20px; vertical-align: middle;'></progress>\n",
       "      [109/109 00:11]\n",
       "    </div>\n",
       "    "
      ],
      "text/plain": [
       "<IPython.core.display.HTML object>"
      ]
     },
     "metadata": {},
     "output_type": "display_data"
    },
    {
     "name": "stdout",
     "output_type": "stream",
     "text": [
      "Stopping early at epoch 9.988465974625145: No improvement in loss or accuracy for 3 evaluations.\n",
      "{'eval_loss': 1.6030584573745728, 'eval_accuracy': 0.8073817762399077, 'eval_runtime': 12.1122, 'eval_samples_per_second': 71.581, 'eval_steps_per_second': 8.999, 'epoch': 9.99}\n",
      "History:  [{'loss': 0.5891, 'learning_rate': 0.000600875883008678, 'epoch': 1.0, 'step': 433}, {'eval_loss': 0.49542805552482605, 'eval_accuracy': 0.7497116493656286, 'eval_runtime': 13.855, 'eval_samples_per_second': 62.577, 'eval_steps_per_second': 7.867, 'epoch': 1.0, 'step': 433}, {'loss': 0.5318, 'learning_rate': 0.0012031394701351587, 'epoch': 2.0, 'step': 867}, {'eval_loss': 0.5047907829284668, 'eval_accuracy': 0.7681660899653979, 'eval_runtime': 12.417, 'eval_samples_per_second': 69.824, 'eval_steps_per_second': 8.778, 'epoch': 2.0, 'step': 867}, {'loss': 0.4992, 'learning_rate': 0.0012235628006846489, 'epoch': 3.0, 'step': 1300}, {'eval_loss': 0.5507667660713196, 'eval_accuracy': 0.7370242214532872, 'eval_runtime': 12.1352, 'eval_samples_per_second': 71.445, 'eval_steps_per_second': 8.982, 'epoch': 3.0, 'step': 1300}, {'loss': 0.4193, 'learning_rate': 0.0010483066107516, 'epoch': 4.0, 'step': 1734}, {'eval_loss': 0.6031402349472046, 'eval_accuracy': 0.7797001153402537, 'eval_runtime': 12.14, 'eval_samples_per_second': 71.417, 'eval_steps_per_second': 8.979, 'epoch': 4.0, 'step': 1734}, {'loss': 0.3216, 'learning_rate': 0.0008734542369243878, 'epoch': 5.0, 'step': 2167}, {'eval_loss': 0.6473729610443115, 'eval_accuracy': 0.7923875432525952, 'eval_runtime': 12.1266, 'eval_samples_per_second': 71.496, 'eval_steps_per_second': 8.989, 'epoch': 5.0, 'step': 2167}, {'loss': 0.2183, 'learning_rate': 0.0006981980469913392, 'epoch': 6.0, 'step': 2601}, {'eval_loss': 1.0801066160202026, 'eval_accuracy': 0.7912341407151096, 'eval_runtime': 12.1562, 'eval_samples_per_second': 71.322, 'eval_steps_per_second': 8.967, 'epoch': 6.0, 'step': 2601}, {'loss': 0.1659, 'learning_rate': 0.000523345673164127, 'epoch': 7.0, 'step': 3034}, {'eval_loss': 1.2967115640640259, 'eval_accuracy': 0.7958477508650519, 'eval_runtime': 12.1394, 'eval_samples_per_second': 71.42, 'eval_steps_per_second': 8.979, 'epoch': 7.0, 'step': 3034}, {'loss': 0.0959, 'learning_rate': 0.0003480894832310783, 'epoch': 8.0, 'step': 3468}, {'eval_loss': 1.6030584573745728, 'eval_accuracy': 0.8073817762399077, 'eval_runtime': 12.1497, 'eval_samples_per_second': 71.36, 'eval_steps_per_second': 8.971, 'epoch': 8.0, 'step': 3468}, {'loss': 0.0658, 'learning_rate': 0.00017323710940386612, 'epoch': 9.0, 'step': 3901}, {'eval_loss': 1.6993566751480103, 'eval_accuracy': 0.803921568627451, 'eval_runtime': 12.145, 'eval_samples_per_second': 71.388, 'eval_steps_per_second': 8.975, 'epoch': 9.0, 'step': 3901}, {'loss': 0.0331, 'learning_rate': 0.0, 'epoch': 9.99, 'step': 4330}, {'eval_loss': 1.7860190868377686, 'eval_accuracy': 0.8062283737024222, 'eval_runtime': 12.146, 'eval_samples_per_second': 71.382, 'eval_steps_per_second': 8.974, 'epoch': 9.99, 'step': 4330}, {'train_runtime': 1491.9477, 'train_samples_per_second': 23.245, 'train_steps_per_second': 2.902, 'total_flos': 8589058400811840.0, 'train_loss': 0.29425881145732785, 'epoch': 9.99, 'step': 4330}, {'eval_loss': 1.6030584573745728, 'eval_accuracy': 0.8073817762399077, 'eval_runtime': 12.1122, 'eval_samples_per_second': 71.581, 'eval_steps_per_second': 8.999, 'epoch': 9.99, 'step': 4330}]\n"
     ]
    },
    {
     "name": "stderr",
     "output_type": "stream",
     "text": [
      "[I 2024-06-16 14:57:09,284] Trial 12 finished with values: [1.6030584573745728, 0.8073817762399077] and parameters: {'lr': 0.0013543992189756805, 'batch': 4, 'accum': 2, 'dropout_rate': 0.13587545441638396, 'weight_decay': 5.237543549739713e-05, 'warmup_pct': 0.11257683544453856, 'lora_rank': 12, 'lora_init_scale': 0.0008342401720737065, 'lora_scaling_rank': 1}. \n",
      "/home/ubuntu/data/miniconda3/envs/finetune-dephos/lib/python3.9/site-packages/huggingface_hub/file_download.py:1132: FutureWarning: `resume_download` is deprecated and will be removed in version 1.0.0. Downloads always resume when possible. If you want to force a new download, use `force_download=True`.\n",
      "  warnings.warn(\n"
     ]
    },
    {
     "name": "stdout",
     "output_type": "stream",
     "text": [
      "ProtT5_Classfier\n",
      "Trainable Parameter: 1209193475.0\n",
      "ProtT5_LoRA_Classfier\n",
      "Trainable Parameter: 10440707.0\n",
      "\n"
     ]
    },
    {
     "name": "stderr",
     "output_type": "stream",
     "text": [
      "/home/ubuntu/data/miniconda3/envs/finetune-dephos/lib/python3.9/site-packages/accelerate/accelerator.py:446: FutureWarning: Passing the following arguments to `Accelerator` is deprecated and will be removed in version 1.0 of Accelerate: dict_keys(['dispatch_batches', 'split_batches']). Please pass an `accelerate.DataLoaderConfiguration` instead: \n",
      "dataloader_config = DataLoaderConfiguration(dispatch_batches=None, split_batches=False)\n",
      "  warnings.warn(\n"
     ]
    },
    {
     "data": {
      "text/html": [
       "\n",
       "    <div>\n",
       "      \n",
       "      <progress value='4330' max='4330' style='width:300px; height:20px; vertical-align: middle;'></progress>\n",
       "      [4330/4330 39:04, Epoch 9/10]\n",
       "    </div>\n",
       "    <table border=\"1\" class=\"dataframe\">\n",
       "  <thead>\n",
       " <tr style=\"text-align: left;\">\n",
       "      <th>Epoch</th>\n",
       "      <th>Training Loss</th>\n",
       "      <th>Validation Loss</th>\n",
       "      <th>Accuracy</th>\n",
       "    </tr>\n",
       "  </thead>\n",
       "  <tbody>\n",
       "    <tr>\n",
       "      <td>0</td>\n",
       "      <td>0.670000</td>\n",
       "      <td>0.612449</td>\n",
       "      <td>0.712803</td>\n",
       "    </tr>\n",
       "    <tr>\n",
       "      <td>2</td>\n",
       "      <td>0.533700</td>\n",
       "      <td>0.492470</td>\n",
       "      <td>0.758939</td>\n",
       "    </tr>\n",
       "    <tr>\n",
       "      <td>4</td>\n",
       "      <td>0.498600</td>\n",
       "      <td>0.512558</td>\n",
       "      <td>0.767013</td>\n",
       "    </tr>\n",
       "    <tr>\n",
       "      <td>6</td>\n",
       "      <td>0.448700</td>\n",
       "      <td>0.509526</td>\n",
       "      <td>0.771626</td>\n",
       "    </tr>\n",
       "    <tr>\n",
       "      <td>8</td>\n",
       "      <td>0.363000</td>\n",
       "      <td>0.560017</td>\n",
       "      <td>0.790081</td>\n",
       "    </tr>\n",
       "    <tr>\n",
       "      <td>9</td>\n",
       "      <td>0.302800</td>\n",
       "      <td>0.764132</td>\n",
       "      <td>0.784314</td>\n",
       "    </tr>\n",
       "  </tbody>\n",
       "</table><p>"
      ],
      "text/plain": [
       "<IPython.core.display.HTML object>"
      ]
     },
     "metadata": {},
     "output_type": "display_data"
    },
    {
     "name": "stdout",
     "output_type": "stream",
     "text": [
      "Saved improved model to ./model_output/finetuned_model_D_and_P_balance_dataset.pth\n",
      "Saved improved model to ./model_output/finetuned_model_D_and_P_balance_dataset.pth\n",
      "Saved improved model to ./model_output/finetuned_model_D_and_P_balance_dataset.pth\n",
      "Saved improved model to ./model_output/finetuned_model_D_and_P_balance_dataset.pth\n",
      "Saved improved model to ./model_output/finetuned_model_D_and_P_balance_dataset.pth\n",
      "Saved improved model to ./model_output/finetuned_model_D_and_P_balance_dataset.pth\n",
      "Saved improved model to ./model_output/finetuned_model_D_and_P_balance_dataset.pth\n",
      "Saved improved model to ./model_output/finetuned_model_D_and_P_balance_dataset.pth\n",
      "Saved improved model to ./model_output/finetuned_model_D_and_P_balance_dataset.pth\n",
      "Loaded best model from ./model_output/finetuned_model_D_and_P_balance_dataset.pth\n"
     ]
    },
    {
     "data": {
      "text/html": [
       "\n",
       "    <div>\n",
       "      \n",
       "      <progress value='109' max='109' style='width:300px; height:20px; vertical-align: middle;'></progress>\n",
       "      [109/109 00:11]\n",
       "    </div>\n",
       "    "
      ],
      "text/plain": [
       "<IPython.core.display.HTML object>"
      ]
     },
     "metadata": {},
     "output_type": "display_data"
    },
    {
     "name": "stdout",
     "output_type": "stream",
     "text": [
      "{'eval_loss': 0.5600172281265259, 'eval_accuracy': 0.790080738177624, 'eval_runtime': 12.241, 'eval_samples_per_second': 70.828, 'eval_steps_per_second': 8.905, 'epoch': 9.99}\n"
     ]
    },
    {
     "name": "stderr",
     "output_type": "stream",
     "text": [
      "[I 2024-06-16 15:37:09,749] Trial 13 finished with values: [0.5600172281265259, 0.790080738177624] and parameters: {'lr': 0.0002961775717294789, 'batch': 2, 'accum': 4, 'dropout_rate': 0.4302902527418263, 'weight_decay': 2.6661703110606258e-05, 'warmup_pct': 0.2310492292719728, 'lora_rank': 16, 'lora_init_scale': 0.022315586481149657, 'lora_scaling_rank': 3}. \n"
     ]
    },
    {
     "name": "stdout",
     "output_type": "stream",
     "text": [
      "History:  [{'loss': 0.67, 'learning_rate': 3.201320233621178e-05, 'epoch': 1.0, 'step': 433}, {'eval_loss': 0.6124491691589355, 'eval_accuracy': 0.71280276816609, 'eval_runtime': 13.8255, 'eval_samples_per_second': 62.71, 'eval_steps_per_second': 7.884, 'epoch': 1.0, 'step': 433}, {'loss': 0.5819, 'learning_rate': 6.410033816511688e-05, 'epoch': 2.0, 'step': 867}, {'eval_loss': 0.5307042598724365, 'eval_accuracy': 0.748558246828143, 'eval_runtime': 12.1877, 'eval_samples_per_second': 71.137, 'eval_steps_per_second': 8.943, 'epoch': 2.0, 'step': 867}, {'loss': 0.5337, 'learning_rate': 9.611354050132866e-05, 'epoch': 3.0, 'step': 1300}, {'eval_loss': 0.49247029423713684, 'eval_accuracy': 0.7589388696655133, 'eval_runtime': 12.1602, 'eval_samples_per_second': 71.298, 'eval_steps_per_second': 8.964, 'epoch': 3.0, 'step': 1300}, {'loss': 0.5048, 'learning_rate': 0.00012820067633023376, 'epoch': 4.0, 'step': 1734}, {'eval_loss': 0.47576770186424255, 'eval_accuracy': 0.7635524798154556, 'eval_runtime': 12.1524, 'eval_samples_per_second': 71.344, 'eval_steps_per_second': 8.969, 'epoch': 4.0, 'step': 1734}, {'loss': 0.4986, 'learning_rate': 0.00016021387866644554, 'epoch': 5.0, 'step': 2167}, {'eval_loss': 0.5125581622123718, 'eval_accuracy': 0.7670126874279123, 'eval_runtime': 12.1463, 'eval_samples_per_second': 71.38, 'eval_steps_per_second': 8.974, 'epoch': 5.0, 'step': 2167}, {'loss': 0.4784, 'learning_rate': 0.00019230101449535064, 'epoch': 6.0, 'step': 2601}, {'eval_loss': 0.49828872084617615, 'eval_accuracy': 0.7693194925028836, 'eval_runtime': 12.1454, 'eval_samples_per_second': 71.385, 'eval_steps_per_second': 8.975, 'epoch': 6.0, 'step': 2601}, {'loss': 0.4487, 'learning_rate': 0.00022431421683156242, 'epoch': 7.0, 'step': 3034}, {'eval_loss': 0.5095263123512268, 'eval_accuracy': 0.7716262975778547, 'eval_runtime': 12.1632, 'eval_samples_per_second': 71.281, 'eval_steps_per_second': 8.961, 'epoch': 7.0, 'step': 3034}, {'loss': 0.4096, 'learning_rate': 0.0002564013526604675, 'epoch': 8.0, 'step': 3468}, {'eval_loss': 0.515697181224823, 'eval_accuracy': 0.7773933102652826, 'eval_runtime': 12.1655, 'eval_samples_per_second': 71.267, 'eval_steps_per_second': 8.96, 'epoch': 8.0, 'step': 3468}, {'loss': 0.363, 'learning_rate': 0.00028841455499667933, 'epoch': 9.0, 'step': 3901}, {'eval_loss': 0.5600172281265259, 'eval_accuracy': 0.790080738177624, 'eval_runtime': 12.1532, 'eval_samples_per_second': 71.339, 'eval_steps_per_second': 8.969, 'epoch': 9.0, 'step': 3901}, {'loss': 0.3028, 'learning_rate': 0.0, 'epoch': 9.99, 'step': 4330}, {'eval_loss': 0.7641316652297974, 'eval_accuracy': 0.7843137254901961, 'eval_runtime': 12.1544, 'eval_samples_per_second': 71.332, 'eval_steps_per_second': 8.968, 'epoch': 9.99, 'step': 4330}, {'train_runtime': 2345.3239, 'train_samples_per_second': 14.787, 'train_steps_per_second': 1.846, 'total_flos': 8609898534239040.0, 'train_loss': 0.4793419148575076, 'epoch': 9.99, 'step': 4330}, {'eval_loss': 0.5600172281265259, 'eval_accuracy': 0.790080738177624, 'eval_runtime': 12.241, 'eval_samples_per_second': 70.828, 'eval_steps_per_second': 8.905, 'epoch': 9.99, 'step': 4330}]\n"
     ]
    },
    {
     "name": "stderr",
     "output_type": "stream",
     "text": [
      "/home/ubuntu/data/miniconda3/envs/finetune-dephos/lib/python3.9/site-packages/huggingface_hub/file_download.py:1132: FutureWarning: `resume_download` is deprecated and will be removed in version 1.0.0. Downloads always resume when possible. If you want to force a new download, use `force_download=True`.\n",
      "  warnings.warn(\n"
     ]
    },
    {
     "name": "stdout",
     "output_type": "stream",
     "text": [
      "ProtT5_Classfier\n",
      "Trainable Parameter: 1209193475.0\n",
      "ProtT5_LoRA_Classfier\n",
      "Trainable Parameter: 20762627.0\n",
      "\n"
     ]
    },
    {
     "name": "stderr",
     "output_type": "stream",
     "text": [
      "/home/ubuntu/data/miniconda3/envs/finetune-dephos/lib/python3.9/site-packages/accelerate/accelerator.py:446: FutureWarning: Passing the following arguments to `Accelerator` is deprecated and will be removed in version 1.0 of Accelerate: dict_keys(['dispatch_batches', 'split_batches']). Please pass an `accelerate.DataLoaderConfiguration` instead: \n",
      "dataloader_config = DataLoaderConfiguration(dispatch_batches=None, split_batches=False)\n",
      "  warnings.warn(\n"
     ]
    },
    {
     "data": {
      "text/html": [
       "\n",
       "    <div>\n",
       "      \n",
       "      <progress value='3034' max='4330' style='width:300px; height:20px; vertical-align: middle;'></progress>\n",
       "      [3034/4330 17:49 < 07:37, 2.83 it/s, Epoch 6/10]\n",
       "    </div>\n",
       "    <table border=\"1\" class=\"dataframe\">\n",
       "  <thead>\n",
       " <tr style=\"text-align: left;\">\n",
       "      <th>Epoch</th>\n",
       "      <th>Training Loss</th>\n",
       "      <th>Validation Loss</th>\n",
       "      <th>Accuracy</th>\n",
       "    </tr>\n",
       "  </thead>\n",
       "  <tbody>\n",
       "    <tr>\n",
       "      <td>0</td>\n",
       "      <td>0.615800</td>\n",
       "      <td>0.510056</td>\n",
       "      <td>0.761246</td>\n",
       "    </tr>\n",
       "    <tr>\n",
       "      <td>2</td>\n",
       "      <td>0.551500</td>\n",
       "      <td>0.534072</td>\n",
       "      <td>0.728950</td>\n",
       "    </tr>\n",
       "    <tr>\n",
       "      <td>4</td>\n",
       "      <td>0.634300</td>\n",
       "      <td>0.554237</td>\n",
       "      <td>0.686275</td>\n",
       "    </tr>\n",
       "    <tr>\n",
       "      <td>6</td>\n",
       "      <td>0.599600</td>\n",
       "      <td>0.626010</td>\n",
       "      <td>0.678201</td>\n",
       "    </tr>\n",
       "  </tbody>\n",
       "</table><p>"
      ],
      "text/plain": [
       "<IPython.core.display.HTML object>"
      ]
     },
     "metadata": {},
     "output_type": "display_data"
    },
    {
     "name": "stdout",
     "output_type": "stream",
     "text": [
      "Saved improved model to ./model_output/finetuned_model_D_and_P_balance_dataset.pth\n",
      "Saved improved model to ./model_output/finetuned_model_D_and_P_balance_dataset.pth\n",
      "Saved improved model to ./model_output/finetuned_model_D_and_P_balance_dataset.pth\n",
      "Stopping early at epoch 6.9988465974625145: No improvement in loss or accuracy for 3 evaluations.\n",
      "Loaded best model from ./model_output/finetuned_model_D_and_P_balance_dataset.pth\n"
     ]
    },
    {
     "data": {
      "text/html": [
       "\n",
       "    <div>\n",
       "      \n",
       "      <progress value='109' max='109' style='width:300px; height:20px; vertical-align: middle;'></progress>\n",
       "      [109/109 00:11]\n",
       "    </div>\n",
       "    "
      ],
      "text/plain": [
       "<IPython.core.display.HTML object>"
      ]
     },
     "metadata": {},
     "output_type": "display_data"
    },
    {
     "name": "stdout",
     "output_type": "stream",
     "text": [
      "Stopping early at epoch 6.9988465974625145: No improvement in loss or accuracy for 3 evaluations.\n",
      "{'eval_loss': 0.5197371244430542, 'eval_accuracy': 0.7716262975778547, 'eval_runtime': 12.228, 'eval_samples_per_second': 70.903, 'eval_steps_per_second': 8.914, 'epoch': 7.0}\n"
     ]
    },
    {
     "name": "stderr",
     "output_type": "stream",
     "text": [
      "[I 2024-06-16 15:55:54,785] Trial 14 finished with values: [0.5197371244430542, 0.7716262975778547] and parameters: {'lr': 0.0029073895670711004, 'batch': 4, 'accum': 2, 'dropout_rate': 0.5950449403198204, 'weight_decay': 1.4692382946264017e-05, 'warmup_pct': 0.26774223987597806, 'lora_rank': 32, 'lora_init_scale': 0.010004801704867143, 'lora_scaling_rank': 8}. \n"
     ]
    },
    {
     "name": "stdout",
     "output_type": "stream",
     "text": [
      "History:  [{'loss': 0.6158, 'learning_rate': 0.0005423953823962889, 'epoch': 1.0, 'step': 433}, {'eval_loss': 0.5100557804107666, 'eval_accuracy': 0.7612456747404844, 'eval_runtime': 13.8956, 'eval_samples_per_second': 62.394, 'eval_steps_per_second': 7.844, 'epoch': 1.0, 'step': 433}, {'loss': 0.5665, 'learning_rate': 0.0010860434100175113, 'epoch': 2.0, 'step': 867}, {'eval_loss': 0.5227491855621338, 'eval_accuracy': 0.76239907727797, 'eval_runtime': 12.1795, 'eval_samples_per_second': 71.185, 'eval_steps_per_second': 8.949, 'epoch': 2.0, 'step': 867}, {'loss': 0.5515, 'learning_rate': 0.0016284387924138002, 'epoch': 3.0, 'step': 1300}, {'eval_loss': 0.5340721607208252, 'eval_accuracy': 0.7289504036908881, 'eval_runtime': 12.1606, 'eval_samples_per_second': 71.296, 'eval_steps_per_second': 8.963, 'epoch': 3.0, 'step': 1300}, {'loss': 0.5251, 'learning_rate': 0.0021720868200350227, 'epoch': 4.0, 'step': 1734}, {'eval_loss': 0.5197371244430542, 'eval_accuracy': 0.7716262975778547, 'eval_runtime': 12.1529, 'eval_samples_per_second': 71.341, 'eval_steps_per_second': 8.969, 'epoch': 4.0, 'step': 1734}, {'loss': 0.6343, 'learning_rate': 0.0027144822024313116, 'epoch': 5.0, 'step': 2167}, {'eval_loss': 0.5542365908622742, 'eval_accuracy': 0.6862745098039216, 'eval_runtime': 12.1877, 'eval_samples_per_second': 71.137, 'eval_steps_per_second': 8.943, 'epoch': 5.0, 'step': 2167}, {'loss': 0.6258, 'learning_rate': 0.002502178477583839, 'epoch': 6.0, 'step': 2601}, {'eval_loss': 0.6569838523864746, 'eval_accuracy': 0.6678200692041523, 'eval_runtime': 12.1712, 'eval_samples_per_second': 71.234, 'eval_steps_per_second': 8.956, 'epoch': 6.0, 'step': 2601}, {'loss': 0.5996, 'learning_rate': 0.0018755484713410381, 'epoch': 7.0, 'step': 3034}, {'eval_loss': 0.6260102391242981, 'eval_accuracy': 0.6782006920415224, 'eval_runtime': 12.1757, 'eval_samples_per_second': 71.208, 'eval_steps_per_second': 8.952, 'epoch': 7.0, 'step': 3034}, {'train_runtime': 1070.0698, 'train_samples_per_second': 32.409, 'train_steps_per_second': 4.046, 'total_flos': 6085005761950416.0, 'train_loss': 0.588367263502248, 'epoch': 7.0, 'step': 3034}, {'eval_loss': 0.5197371244430542, 'eval_accuracy': 0.7716262975778547, 'eval_runtime': 12.228, 'eval_samples_per_second': 70.903, 'eval_steps_per_second': 8.914, 'epoch': 7.0, 'step': 3034}]\n"
     ]
    },
    {
     "name": "stderr",
     "output_type": "stream",
     "text": [
      "/home/ubuntu/data/miniconda3/envs/finetune-dephos/lib/python3.9/site-packages/huggingface_hub/file_download.py:1132: FutureWarning: `resume_download` is deprecated and will be removed in version 1.0.0. Downloads always resume when possible. If you want to force a new download, use `force_download=True`.\n",
      "  warnings.warn(\n"
     ]
    },
    {
     "name": "stdout",
     "output_type": "stream",
     "text": [
      "ProtT5_Classfier\n",
      "Trainable Parameter: 1209193475.0\n",
      "ProtT5_LoRA_Classfier\n",
      "Trainable Parameter: 15355907.0\n",
      "\n"
     ]
    },
    {
     "name": "stderr",
     "output_type": "stream",
     "text": [
      "/home/ubuntu/data/miniconda3/envs/finetune-dephos/lib/python3.9/site-packages/accelerate/accelerator.py:446: FutureWarning: Passing the following arguments to `Accelerator` is deprecated and will be removed in version 1.0 of Accelerate: dict_keys(['dispatch_batches', 'split_batches']). Please pass an `accelerate.DataLoaderConfiguration` instead: \n",
      "dataloader_config = DataLoaderConfiguration(dispatch_batches=None, split_batches=False)\n",
      "  warnings.warn(\n"
     ]
    },
    {
     "data": {
      "text/html": [
       "\n",
       "    <div>\n",
       "      \n",
       "      <progress value='8670' max='8670' style='width:300px; height:20px; vertical-align: middle;'></progress>\n",
       "      [8670/8670 40:02, Epoch 10/10]\n",
       "    </div>\n",
       "    <table border=\"1\" class=\"dataframe\">\n",
       "  <thead>\n",
       " <tr style=\"text-align: left;\">\n",
       "      <th>Epoch</th>\n",
       "      <th>Training Loss</th>\n",
       "      <th>Validation Loss</th>\n",
       "      <th>Accuracy</th>\n",
       "    </tr>\n",
       "  </thead>\n",
       "  <tbody>\n",
       "    <tr>\n",
       "      <td>1</td>\n",
       "      <td>0.639300</td>\n",
       "      <td>0.511262</td>\n",
       "      <td>0.756632</td>\n",
       "    </tr>\n",
       "    <tr>\n",
       "      <td>2</td>\n",
       "      <td>0.594500</td>\n",
       "      <td>0.504704</td>\n",
       "      <td>0.775087</td>\n",
       "    </tr>\n",
       "    <tr>\n",
       "      <td>3</td>\n",
       "      <td>0.570700</td>\n",
       "      <td>0.567855</td>\n",
       "      <td>0.776240</td>\n",
       "    </tr>\n",
       "    <tr>\n",
       "      <td>4</td>\n",
       "      <td>0.572300</td>\n",
       "      <td>0.901183</td>\n",
       "      <td>0.778547</td>\n",
       "    </tr>\n",
       "    <tr>\n",
       "      <td>5</td>\n",
       "      <td>0.574800</td>\n",
       "      <td>0.582358</td>\n",
       "      <td>0.782007</td>\n",
       "    </tr>\n",
       "    <tr>\n",
       "      <td>6</td>\n",
       "      <td>0.509300</td>\n",
       "      <td>0.877928</td>\n",
       "      <td>0.773933</td>\n",
       "    </tr>\n",
       "    <tr>\n",
       "      <td>7</td>\n",
       "      <td>0.400600</td>\n",
       "      <td>0.986768</td>\n",
       "      <td>0.776240</td>\n",
       "    </tr>\n",
       "    <tr>\n",
       "      <td>8</td>\n",
       "      <td>0.307600</td>\n",
       "      <td>1.248542</td>\n",
       "      <td>0.787774</td>\n",
       "    </tr>\n",
       "    <tr>\n",
       "      <td>9</td>\n",
       "      <td>0.219200</td>\n",
       "      <td>1.169265</td>\n",
       "      <td>0.788927</td>\n",
       "    </tr>\n",
       "    <tr>\n",
       "      <td>10</td>\n",
       "      <td>0.154400</td>\n",
       "      <td>1.361581</td>\n",
       "      <td>0.784314</td>\n",
       "    </tr>\n",
       "  </tbody>\n",
       "</table><p>"
      ],
      "text/plain": [
       "<IPython.core.display.HTML object>"
      ]
     },
     "metadata": {},
     "output_type": "display_data"
    },
    {
     "name": "stdout",
     "output_type": "stream",
     "text": [
      "Saved improved model to ./model_output/finetuned_model_D_and_P_balance_dataset.pth\n",
      "Saved improved model to ./model_output/finetuned_model_D_and_P_balance_dataset.pth\n",
      "Saved improved model to ./model_output/finetuned_model_D_and_P_balance_dataset.pth\n",
      "Saved improved model to ./model_output/finetuned_model_D_and_P_balance_dataset.pth\n",
      "Saved improved model to ./model_output/finetuned_model_D_and_P_balance_dataset.pth\n",
      "Saved improved model to ./model_output/finetuned_model_D_and_P_balance_dataset.pth\n",
      "Saved improved model to ./model_output/finetuned_model_D_and_P_balance_dataset.pth\n",
      "Loaded best model from ./model_output/finetuned_model_D_and_P_balance_dataset.pth\n"
     ]
    },
    {
     "data": {
      "text/html": [
       "\n",
       "    <div>\n",
       "      \n",
       "      <progress value='109' max='109' style='width:300px; height:20px; vertical-align: middle;'></progress>\n",
       "      [109/109 00:11]\n",
       "    </div>\n",
       "    "
      ],
      "text/plain": [
       "<IPython.core.display.HTML object>"
      ]
     },
     "metadata": {},
     "output_type": "display_data"
    },
    {
     "name": "stdout",
     "output_type": "stream",
     "text": [
      "{'eval_loss': 1.1692651510238647, 'eval_accuracy': 0.7889273356401384, 'eval_runtime': 12.101, 'eval_samples_per_second': 71.647, 'eval_steps_per_second': 9.008, 'epoch': 10.0}\n"
     ]
    },
    {
     "name": "stderr",
     "output_type": "stream",
     "text": [
      "[I 2024-06-16 16:36:50,567] Trial 15 finished with values: [1.1692651510238647, 0.7889273356401384] and parameters: {'lr': 0.000972482262056014, 'batch': 2, 'accum': 2, 'dropout_rate': 0.6478358562211909, 'weight_decay': 2.6745850083470124e-05, 'warmup_pct': 0.2285211298578528, 'lora_rank': 24, 'lora_init_scale': 0.00018857623865166026, 'lora_scaling_rank': 5}. \n"
     ]
    },
    {
     "name": "stdout",
     "output_type": "stream",
     "text": [
      "History:  [{'loss': 0.6393, 'learning_rate': 0.00021280719868817875, 'epoch': 1.0, 'step': 867}, {'eval_loss': 0.5112622976303101, 'eval_accuracy': 0.7566320645905421, 'eval_runtime': 13.8275, 'eval_samples_per_second': 62.701, 'eval_steps_per_second': 7.883, 'epoch': 1.0, 'step': 867}, {'loss': 0.5945, 'learning_rate': 0.0004256143973763575, 'epoch': 2.0, 'step': 1734}, {'eval_loss': 0.5047042965888977, 'eval_accuracy': 0.7750865051903114, 'eval_runtime': 12.1709, 'eval_samples_per_second': 71.236, 'eval_steps_per_second': 8.956, 'epoch': 2.0, 'step': 1734}, {'loss': 0.5707, 'learning_rate': 0.0006384215960645362, 'epoch': 3.0, 'step': 2601}, {'eval_loss': 0.5678554773330688, 'eval_accuracy': 0.776239907727797, 'eval_runtime': 12.2031, 'eval_samples_per_second': 71.047, 'eval_steps_per_second': 8.932, 'epoch': 3.0, 'step': 2601}, {'loss': 0.5723, 'learning_rate': 0.000851228794752715, 'epoch': 4.0, 'step': 3468}, {'eval_loss': 0.9011834263801575, 'eval_accuracy': 0.7785467128027682, 'eval_runtime': 12.1658, 'eval_samples_per_second': 71.265, 'eval_steps_per_second': 8.96, 'epoch': 4.0, 'step': 3468}, {'loss': 0.5748, 'learning_rate': 0.0008954355577767249, 'epoch': 5.0, 'step': 4335}, {'eval_loss': 0.5823583006858826, 'eval_accuracy': 0.7820069204152249, 'eval_runtime': 12.1492, 'eval_samples_per_second': 71.363, 'eval_steps_per_second': 8.972, 'epoch': 5.0, 'step': 4335}, {'loss': 0.5093, 'learning_rate': 0.00071634844622138, 'epoch': 6.0, 'step': 5202}, {'eval_loss': 0.8779280185699463, 'eval_accuracy': 0.7739331026528259, 'eval_runtime': 12.1434, 'eval_samples_per_second': 71.397, 'eval_steps_per_second': 8.976, 'epoch': 6.0, 'step': 5202}, {'loss': 0.4006, 'learning_rate': 0.0005372613346660349, 'epoch': 7.0, 'step': 6069}, {'eval_loss': 0.9867682456970215, 'eval_accuracy': 0.776239907727797, 'eval_runtime': 12.1779, 'eval_samples_per_second': 71.195, 'eval_steps_per_second': 8.951, 'epoch': 7.0, 'step': 6069}, {'loss': 0.3076, 'learning_rate': 0.00035817422311069, 'epoch': 8.0, 'step': 6936}, {'eval_loss': 1.2485424280166626, 'eval_accuracy': 0.7877739331026529, 'eval_runtime': 12.1336, 'eval_samples_per_second': 71.455, 'eval_steps_per_second': 8.983, 'epoch': 8.0, 'step': 6936}, {'loss': 0.2192, 'learning_rate': 0.000179087111555345, 'epoch': 9.0, 'step': 7803}, {'eval_loss': 1.1692651510238647, 'eval_accuracy': 0.7889273356401384, 'eval_runtime': 12.1438, 'eval_samples_per_second': 71.394, 'eval_steps_per_second': 8.976, 'epoch': 9.0, 'step': 7803}, {'loss': 0.1544, 'learning_rate': 0.0, 'epoch': 10.0, 'step': 8670}, {'eval_loss': 1.3615809679031372, 'eval_accuracy': 0.7843137254901961, 'eval_runtime': 12.1432, 'eval_samples_per_second': 71.398, 'eval_steps_per_second': 8.976, 'epoch': 10.0, 'step': 8670}, {'train_runtime': 2402.9752, 'train_samples_per_second': 14.432, 'train_steps_per_second': 3.608, 'total_flos': 8654614344096480.0, 'train_loss': 0.4542701026010128, 'epoch': 10.0, 'step': 8670}, {'eval_loss': 1.1692651510238647, 'eval_accuracy': 0.7889273356401384, 'eval_runtime': 12.101, 'eval_samples_per_second': 71.647, 'eval_steps_per_second': 9.008, 'epoch': 10.0, 'step': 8670}]\n"
     ]
    },
    {
     "name": "stderr",
     "output_type": "stream",
     "text": [
      "/home/ubuntu/data/miniconda3/envs/finetune-dephos/lib/python3.9/site-packages/huggingface_hub/file_download.py:1132: FutureWarning: `resume_download` is deprecated and will be removed in version 1.0.0. Downloads always resume when possible. If you want to force a new download, use `force_download=True`.\n",
      "  warnings.warn(\n"
     ]
    },
    {
     "name": "stdout",
     "output_type": "stream",
     "text": [
      "ProtT5_Classfier\n",
      "Trainable Parameter: 1209193475.0\n",
      "ProtT5_LoRA_Classfier\n",
      "Trainable Parameter: 20762627.0\n",
      "\n"
     ]
    },
    {
     "name": "stderr",
     "output_type": "stream",
     "text": [
      "/home/ubuntu/data/miniconda3/envs/finetune-dephos/lib/python3.9/site-packages/accelerate/accelerator.py:446: FutureWarning: Passing the following arguments to `Accelerator` is deprecated and will be removed in version 1.0 of Accelerate: dict_keys(['dispatch_batches', 'split_batches']). Please pass an `accelerate.DataLoaderConfiguration` instead: \n",
      "dataloader_config = DataLoaderConfiguration(dispatch_batches=None, split_batches=False)\n",
      "  warnings.warn(\n"
     ]
    },
    {
     "data": {
      "text/html": [
       "\n",
       "    <div>\n",
       "      \n",
       "      <progress value='4330' max='4330' style='width:300px; height:20px; vertical-align: middle;'></progress>\n",
       "      [4330/4330 25:27, Epoch 9/10]\n",
       "    </div>\n",
       "    <table border=\"1\" class=\"dataframe\">\n",
       "  <thead>\n",
       " <tr style=\"text-align: left;\">\n",
       "      <th>Epoch</th>\n",
       "      <th>Training Loss</th>\n",
       "      <th>Validation Loss</th>\n",
       "      <th>Accuracy</th>\n",
       "    </tr>\n",
       "  </thead>\n",
       "  <tbody>\n",
       "    <tr>\n",
       "      <td>0</td>\n",
       "      <td>0.669400</td>\n",
       "      <td>0.615327</td>\n",
       "      <td>0.717416</td>\n",
       "    </tr>\n",
       "    <tr>\n",
       "      <td>2</td>\n",
       "      <td>0.535200</td>\n",
       "      <td>0.514450</td>\n",
       "      <td>0.757785</td>\n",
       "    </tr>\n",
       "    <tr>\n",
       "      <td>4</td>\n",
       "      <td>0.501300</td>\n",
       "      <td>0.490668</td>\n",
       "      <td>0.773933</td>\n",
       "    </tr>\n",
       "    <tr>\n",
       "      <td>6</td>\n",
       "      <td>0.486900</td>\n",
       "      <td>0.483202</td>\n",
       "      <td>0.775087</td>\n",
       "    </tr>\n",
       "    <tr>\n",
       "      <td>8</td>\n",
       "      <td>0.474100</td>\n",
       "      <td>0.481677</td>\n",
       "      <td>0.771626</td>\n",
       "    </tr>\n",
       "    <tr>\n",
       "      <td>9</td>\n",
       "      <td>0.473300</td>\n",
       "      <td>0.481871</td>\n",
       "      <td>0.772780</td>\n",
       "    </tr>\n",
       "  </tbody>\n",
       "</table><p>"
      ],
      "text/plain": [
       "<IPython.core.display.HTML object>"
      ]
     },
     "metadata": {},
     "output_type": "display_data"
    },
    {
     "name": "stdout",
     "output_type": "stream",
     "text": [
      "Saved improved model to ./model_output/finetuned_model_D_and_P_balance_dataset.pth\n",
      "Saved improved model to ./model_output/finetuned_model_D_and_P_balance_dataset.pth\n",
      "Saved improved model to ./model_output/finetuned_model_D_and_P_balance_dataset.pth\n",
      "Saved improved model to ./model_output/finetuned_model_D_and_P_balance_dataset.pth\n",
      "Saved improved model to ./model_output/finetuned_model_D_and_P_balance_dataset.pth\n",
      "Saved improved model to ./model_output/finetuned_model_D_and_P_balance_dataset.pth\n",
      "Saved improved model to ./model_output/finetuned_model_D_and_P_balance_dataset.pth\n",
      "Saved improved model to ./model_output/finetuned_model_D_and_P_balance_dataset.pth\n",
      "Loaded best model from ./model_output/finetuned_model_D_and_P_balance_dataset.pth\n"
     ]
    },
    {
     "data": {
      "text/html": [
       "\n",
       "    <div>\n",
       "      \n",
       "      <progress value='109' max='109' style='width:300px; height:20px; vertical-align: middle;'></progress>\n",
       "      [109/109 00:11]\n",
       "    </div>\n",
       "    "
      ],
      "text/plain": [
       "<IPython.core.display.HTML object>"
      ]
     },
     "metadata": {},
     "output_type": "display_data"
    },
    {
     "name": "stdout",
     "output_type": "stream",
     "text": [
      "{'eval_loss': 0.4816770553588867, 'eval_accuracy': 0.7716262975778547, 'eval_runtime': 12.1896, 'eval_samples_per_second': 71.126, 'eval_steps_per_second': 8.942, 'epoch': 9.99}\n"
     ]
    },
    {
     "name": "stderr",
     "output_type": "stream",
     "text": [
      "[I 2024-06-16 17:03:10,645] Trial 16 finished with values: [0.4816770553588867, 0.7716262975778547] and parameters: {'lr': 2.7872807374972613e-05, 'batch': 4, 'accum': 2, 'dropout_rate': 0.1271500923890403, 'weight_decay': 0.00016140349133256677, 'warmup_pct': 0.07067302585418075, 'lora_rank': 32, 'lora_init_scale': 0.04528129489724986, 'lora_scaling_rank': 8}. \n"
     ]
    },
    {
     "name": "stdout",
     "output_type": "stream",
     "text": [
      "History:  [{'loss': 0.6694, 'learning_rate': 1.9720466655822126e-05, 'epoch': 1.0, 'step': 433}, {'eval_loss': 0.6153268218040466, 'eval_accuracy': 0.7174163783160323, 'eval_runtime': 13.9041, 'eval_samples_per_second': 62.356, 'eval_steps_per_second': 7.839, 'epoch': 1.0, 'step': 433}, {'loss': 0.5805, 'learning_rate': 2.5961143609341085e-05, 'epoch': 2.0, 'step': 867}, {'eval_loss': 0.5390207171440125, 'eval_accuracy': 0.7439446366782007, 'eval_runtime': 12.2069, 'eval_samples_per_second': 71.026, 'eval_steps_per_second': 8.929, 'epoch': 2.0, 'step': 867}, {'loss': 0.5352, 'learning_rate': 2.271506356809226e-05, 'epoch': 3.0, 'step': 1300}, {'eval_loss': 0.5144504308700562, 'eval_accuracy': 0.7577854671280276, 'eval_runtime': 12.1875, 'eval_samples_per_second': 71.138, 'eval_steps_per_second': 8.944, 'epoch': 3.0, 'step': 1300}, {'loss': 0.5158, 'learning_rate': 1.9461486806193896e-05, 'epoch': 4.0, 'step': 1734}, {'eval_loss': 0.4968010187149048, 'eval_accuracy': 0.7716262975778547, 'eval_runtime': 12.1669, 'eval_samples_per_second': 71.259, 'eval_steps_per_second': 8.959, 'epoch': 4.0, 'step': 1734}, {'loss': 0.5013, 'learning_rate': 1.6215406764945067e-05, 'epoch': 5.0, 'step': 2167}, {'eval_loss': 0.4906676411628723, 'eval_accuracy': 0.7739331026528259, 'eval_runtime': 12.1653, 'eval_samples_per_second': 71.268, 'eval_steps_per_second': 8.96, 'epoch': 5.0, 'step': 2167}, {'loss': 0.4889, 'learning_rate': 1.2961830003046705e-05, 'epoch': 6.0, 'step': 2601}, {'eval_loss': 0.4857884645462036, 'eval_accuracy': 0.7739331026528259, 'eval_runtime': 12.1719, 'eval_samples_per_second': 71.23, 'eval_steps_per_second': 8.955, 'epoch': 6.0, 'step': 2601}, {'loss': 0.4869, 'learning_rate': 9.715749961797877e-06, 'epoch': 7.0, 'step': 3034}, {'eval_loss': 0.48320236802101135, 'eval_accuracy': 0.7750865051903114, 'eval_runtime': 12.1521, 'eval_samples_per_second': 71.346, 'eval_steps_per_second': 8.97, 'epoch': 7.0, 'step': 3034}, {'loss': 0.483, 'learning_rate': 6.462173199899514e-06, 'epoch': 8.0, 'step': 3468}, {'eval_loss': 0.48230740427970886, 'eval_accuracy': 0.7727797001153403, 'eval_runtime': 12.1759, 'eval_samples_per_second': 71.206, 'eval_steps_per_second': 8.952, 'epoch': 8.0, 'step': 3468}, {'loss': 0.4741, 'learning_rate': 3.2160931586506864e-06, 'epoch': 9.0, 'step': 3901}, {'eval_loss': 0.4816770553588867, 'eval_accuracy': 0.7716262975778547, 'eval_runtime': 12.1649, 'eval_samples_per_second': 71.271, 'eval_steps_per_second': 8.96, 'epoch': 9.0, 'step': 3901}, {'loss': 0.4733, 'learning_rate': 0.0, 'epoch': 9.99, 'step': 4330}, {'eval_loss': 0.48187127709388733, 'eval_accuracy': 0.7727797001153403, 'eval_runtime': 12.1953, 'eval_samples_per_second': 71.093, 'eval_steps_per_second': 8.938, 'epoch': 9.99, 'step': 4330}, {'train_runtime': 1527.4825, 'train_samples_per_second': 22.704, 'train_steps_per_second': 2.835, 'total_flos': 8682839001234240.0, 'train_loss': 0.5208771809144053, 'epoch': 9.99, 'step': 4330}, {'eval_loss': 0.4816770553588867, 'eval_accuracy': 0.7716262975778547, 'eval_runtime': 12.1896, 'eval_samples_per_second': 71.126, 'eval_steps_per_second': 8.942, 'epoch': 9.99, 'step': 4330}]\n"
     ]
    },
    {
     "name": "stderr",
     "output_type": "stream",
     "text": [
      "/home/ubuntu/data/miniconda3/envs/finetune-dephos/lib/python3.9/site-packages/huggingface_hub/file_download.py:1132: FutureWarning: `resume_download` is deprecated and will be removed in version 1.0.0. Downloads always resume when possible. If you want to force a new download, use `force_download=True`.\n",
      "  warnings.warn(\n"
     ]
    },
    {
     "name": "stdout",
     "output_type": "stream",
     "text": [
      "ProtT5_Classfier\n",
      "Trainable Parameter: 1209193475.0\n",
      "ProtT5_LoRA_Classfier\n",
      "Trainable Parameter: 15355907.0\n",
      "\n"
     ]
    },
    {
     "name": "stderr",
     "output_type": "stream",
     "text": [
      "/home/ubuntu/data/miniconda3/envs/finetune-dephos/lib/python3.9/site-packages/accelerate/accelerator.py:446: FutureWarning: Passing the following arguments to `Accelerator` is deprecated and will be removed in version 1.0 of Accelerate: dict_keys(['dispatch_batches', 'split_batches']). Please pass an `accelerate.DataLoaderConfiguration` instead: \n",
      "dataloader_config = DataLoaderConfiguration(dispatch_batches=None, split_batches=False)\n",
      "  warnings.warn(\n"
     ]
    },
    {
     "data": {
      "text/html": [
       "\n",
       "    <div>\n",
       "      \n",
       "      <progress value='8670' max='8670' style='width:300px; height:20px; vertical-align: middle;'></progress>\n",
       "      [8670/8670 1:05:02, Epoch 10/10]\n",
       "    </div>\n",
       "    <table border=\"1\" class=\"dataframe\">\n",
       "  <thead>\n",
       " <tr style=\"text-align: left;\">\n",
       "      <th>Epoch</th>\n",
       "      <th>Training Loss</th>\n",
       "      <th>Validation Loss</th>\n",
       "      <th>Accuracy</th>\n",
       "    </tr>\n",
       "  </thead>\n",
       "  <tbody>\n",
       "    <tr>\n",
       "      <td>1</td>\n",
       "      <td>0.673300</td>\n",
       "      <td>0.624790</td>\n",
       "      <td>0.722030</td>\n",
       "    </tr>\n",
       "    <tr>\n",
       "      <td>2</td>\n",
       "      <td>0.590400</td>\n",
       "      <td>0.542267</td>\n",
       "      <td>0.734717</td>\n",
       "    </tr>\n",
       "    <tr>\n",
       "      <td>3</td>\n",
       "      <td>0.535400</td>\n",
       "      <td>0.515584</td>\n",
       "      <td>0.760092</td>\n",
       "    </tr>\n",
       "    <tr>\n",
       "      <td>4</td>\n",
       "      <td>0.518000</td>\n",
       "      <td>0.480431</td>\n",
       "      <td>0.772780</td>\n",
       "    </tr>\n",
       "    <tr>\n",
       "      <td>5</td>\n",
       "      <td>0.508400</td>\n",
       "      <td>0.512112</td>\n",
       "      <td>0.767013</td>\n",
       "    </tr>\n",
       "    <tr>\n",
       "      <td>6</td>\n",
       "      <td>0.494100</td>\n",
       "      <td>0.527156</td>\n",
       "      <td>0.773933</td>\n",
       "    </tr>\n",
       "    <tr>\n",
       "      <td>7</td>\n",
       "      <td>0.500100</td>\n",
       "      <td>0.540841</td>\n",
       "      <td>0.771626</td>\n",
       "    </tr>\n",
       "    <tr>\n",
       "      <td>8</td>\n",
       "      <td>0.484000</td>\n",
       "      <td>0.553183</td>\n",
       "      <td>0.780854</td>\n",
       "    </tr>\n",
       "    <tr>\n",
       "      <td>9</td>\n",
       "      <td>0.467400</td>\n",
       "      <td>0.568626</td>\n",
       "      <td>0.779700</td>\n",
       "    </tr>\n",
       "    <tr>\n",
       "      <td>10</td>\n",
       "      <td>0.437300</td>\n",
       "      <td>0.607876</td>\n",
       "      <td>0.787774</td>\n",
       "    </tr>\n",
       "  </tbody>\n",
       "</table><p>"
      ],
      "text/plain": [
       "<IPython.core.display.HTML object>"
      ]
     },
     "metadata": {},
     "output_type": "display_data"
    },
    {
     "name": "stdout",
     "output_type": "stream",
     "text": [
      "Saved improved model to ./model_output/finetuned_model_D_and_P_balance_dataset.pth\n",
      "Saved improved model to ./model_output/finetuned_model_D_and_P_balance_dataset.pth\n",
      "Saved improved model to ./model_output/finetuned_model_D_and_P_balance_dataset.pth\n",
      "Saved improved model to ./model_output/finetuned_model_D_and_P_balance_dataset.pth\n",
      "Saved improved model to ./model_output/finetuned_model_D_and_P_balance_dataset.pth\n",
      "Saved improved model to ./model_output/finetuned_model_D_and_P_balance_dataset.pth\n",
      "Saved improved model to ./model_output/finetuned_model_D_and_P_balance_dataset.pth\n",
      "Loaded best model from ./model_output/finetuned_model_D_and_P_balance_dataset.pth\n"
     ]
    },
    {
     "data": {
      "text/html": [
       "\n",
       "    <div>\n",
       "      \n",
       "      <progress value='109' max='109' style='width:300px; height:20px; vertical-align: middle;'></progress>\n",
       "      [109/109 00:11]\n",
       "    </div>\n",
       "    "
      ],
      "text/plain": [
       "<IPython.core.display.HTML object>"
      ]
     },
     "metadata": {},
     "output_type": "display_data"
    },
    {
     "name": "stdout",
     "output_type": "stream",
     "text": [
      "{'eval_loss': 0.6078755855560303, 'eval_accuracy': 0.7877739331026529, 'eval_runtime': 12.1316, 'eval_samples_per_second': 71.466, 'eval_steps_per_second': 8.985, 'epoch': 10.0}\n"
     ]
    },
    {
     "name": "stderr",
     "output_type": "stream",
     "text": [
      "[I 2024-06-16 18:09:08,283] Trial 17 finished with values: [0.6078755855560303, 0.7877739331026529] and parameters: {'lr': 0.00010228861175811826, 'batch': 1, 'accum': 4, 'dropout_rate': 0.15089605117222096, 'weight_decay': 0.0005848959498769158, 'warmup_pct': 0.22688248079209683, 'lora_rank': 24, 'lora_init_scale': 0.00016071693300725813, 'lora_scaling_rank': 5}. \n"
     ]
    },
    {
     "name": "stdout",
     "output_type": "stream",
     "text": [
      "History:  [{'loss': 0.6733, 'learning_rate': 1.127150818432747e-05, 'epoch': 1.0, 'step': 867}, {'eval_loss': 0.6247900128364563, 'eval_accuracy': 0.7220299884659747, 'eval_runtime': 13.8548, 'eval_samples_per_second': 62.578, 'eval_steps_per_second': 7.867, 'epoch': 1.0, 'step': 867}, {'loss': 0.5904, 'learning_rate': 2.254301636865494e-05, 'epoch': 2.0, 'step': 1734}, {'eval_loss': 0.5422666668891907, 'eval_accuracy': 0.734717416378316, 'eval_runtime': 12.5055, 'eval_samples_per_second': 69.33, 'eval_steps_per_second': 8.716, 'epoch': 2.0, 'step': 1734}, {'loss': 0.5354, 'learning_rate': 3.3814524552982416e-05, 'epoch': 3.0, 'step': 2601}, {'eval_loss': 0.5155836939811707, 'eval_accuracy': 0.7600922722029988, 'eval_runtime': 12.178, 'eval_samples_per_second': 71.194, 'eval_steps_per_second': 8.951, 'epoch': 3.0, 'step': 2601}, {'loss': 0.518, 'learning_rate': 4.508603273730988e-05, 'epoch': 4.0, 'step': 3468}, {'eval_loss': 0.48043128848075867, 'eval_accuracy': 0.7727797001153403, 'eval_runtime': 12.1796, 'eval_samples_per_second': 71.184, 'eval_steps_per_second': 8.949, 'epoch': 4.0, 'step': 3468}, {'loss': 0.5084, 'learning_rate': 5.6357540921637346e-05, 'epoch': 5.0, 'step': 4335}, {'eval_loss': 0.5121115446090698, 'eval_accuracy': 0.7670126874279123, 'eval_runtime': 12.1651, 'eval_samples_per_second': 71.27, 'eval_steps_per_second': 8.96, 'epoch': 5.0, 'step': 4335}, {'loss': 0.4941, 'learning_rate': 6.762904910596483e-05, 'epoch': 6.0, 'step': 5202}, {'eval_loss': 0.527155876159668, 'eval_accuracy': 0.7739331026528259, 'eval_runtime': 12.1798, 'eval_samples_per_second': 71.183, 'eval_steps_per_second': 8.949, 'epoch': 6.0, 'step': 5202}, {'loss': 0.5001, 'learning_rate': 7.890055729029229e-05, 'epoch': 7.0, 'step': 6069}, {'eval_loss': 0.5408408045768738, 'eval_accuracy': 0.7716262975778547, 'eval_runtime': 12.1812, 'eval_samples_per_second': 71.175, 'eval_steps_per_second': 8.948, 'epoch': 7.0, 'step': 6069}, {'loss': 0.484, 'learning_rate': 9.017206547461976e-05, 'epoch': 8.0, 'step': 6936}, {'eval_loss': 0.5531830787658691, 'eval_accuracy': 0.7808535178777394, 'eval_runtime': 12.1815, 'eval_samples_per_second': 71.174, 'eval_steps_per_second': 8.948, 'epoch': 8.0, 'step': 6936}, {'loss': 0.4674, 'learning_rate': 0.00010144357365894723, 'epoch': 9.0, 'step': 7803}, {'eval_loss': 0.5686255693435669, 'eval_accuracy': 0.7797001153402537, 'eval_runtime': 12.1818, 'eval_samples_per_second': 71.172, 'eval_steps_per_second': 8.948, 'epoch': 9.0, 'step': 7803}, {'loss': 0.4373, 'learning_rate': 0.0, 'epoch': 10.0, 'step': 8670}, {'eval_loss': 0.6078755855560303, 'eval_accuracy': 0.7877739331026529, 'eval_runtime': 12.1713, 'eval_samples_per_second': 71.233, 'eval_steps_per_second': 8.956, 'epoch': 10.0, 'step': 8670}, {'train_runtime': 3903.1989, 'train_samples_per_second': 8.885, 'train_steps_per_second': 2.221, 'total_flos': 8654614344096480.0, 'train_loss': 0.520851862114331, 'epoch': 10.0, 'step': 8670}, {'eval_loss': 0.6078755855560303, 'eval_accuracy': 0.7877739331026529, 'eval_runtime': 12.1316, 'eval_samples_per_second': 71.466, 'eval_steps_per_second': 8.985, 'epoch': 10.0, 'step': 8670}]\n"
     ]
    },
    {
     "name": "stderr",
     "output_type": "stream",
     "text": [
      "/home/ubuntu/data/miniconda3/envs/finetune-dephos/lib/python3.9/site-packages/huggingface_hub/file_download.py:1132: FutureWarning: `resume_download` is deprecated and will be removed in version 1.0.0. Downloads always resume when possible. If you want to force a new download, use `force_download=True`.\n",
      "  warnings.warn(\n"
     ]
    },
    {
     "name": "stdout",
     "output_type": "stream",
     "text": [
      "ProtT5_Classfier\n",
      "Trainable Parameter: 1209193475.0\n",
      "ProtT5_LoRA_Classfier\n",
      "Trainable Parameter: 8474627.0\n",
      "\n"
     ]
    },
    {
     "name": "stderr",
     "output_type": "stream",
     "text": [
      "/home/ubuntu/data/miniconda3/envs/finetune-dephos/lib/python3.9/site-packages/accelerate/accelerator.py:446: FutureWarning: Passing the following arguments to `Accelerator` is deprecated and will be removed in version 1.0 of Accelerate: dict_keys(['dispatch_batches', 'split_batches']). Please pass an `accelerate.DataLoaderConfiguration` instead: \n",
      "dataloader_config = DataLoaderConfiguration(dispatch_batches=None, split_batches=False)\n",
      "  warnings.warn(\n"
     ]
    },
    {
     "data": {
      "text/html": [
       "\n",
       "    <div>\n",
       "      \n",
       "      <progress value='1080' max='1080' style='width:300px; height:20px; vertical-align: middle;'></progress>\n",
       "      [1080/1080 24:37, Epoch 9/10]\n",
       "    </div>\n",
       "    <table border=\"1\" class=\"dataframe\">\n",
       "  <thead>\n",
       " <tr style=\"text-align: left;\">\n",
       "      <th>Epoch</th>\n",
       "      <th>Training Loss</th>\n",
       "      <th>Validation Loss</th>\n",
       "      <th>Accuracy</th>\n",
       "    </tr>\n",
       "  </thead>\n",
       "  <tbody>\n",
       "    <tr>\n",
       "      <td>0</td>\n",
       "      <td>0.780600</td>\n",
       "      <td>0.694232</td>\n",
       "      <td>0.493656</td>\n",
       "    </tr>\n",
       "    <tr>\n",
       "      <td>1</td>\n",
       "      <td>0.757900</td>\n",
       "      <td>0.684389</td>\n",
       "      <td>0.597463</td>\n",
       "    </tr>\n",
       "    <tr>\n",
       "      <td>2</td>\n",
       "      <td>0.740800</td>\n",
       "      <td>0.670192</td>\n",
       "      <td>0.658593</td>\n",
       "    </tr>\n",
       "    <tr>\n",
       "      <td>3</td>\n",
       "      <td>0.739200</td>\n",
       "      <td>0.654492</td>\n",
       "      <td>0.704729</td>\n",
       "    </tr>\n",
       "    <tr>\n",
       "      <td>4</td>\n",
       "      <td>0.724100</td>\n",
       "      <td>0.638543</td>\n",
       "      <td>0.717416</td>\n",
       "    </tr>\n",
       "    <tr>\n",
       "      <td>5</td>\n",
       "      <td>0.700900</td>\n",
       "      <td>0.623777</td>\n",
       "      <td>0.713956</td>\n",
       "    </tr>\n",
       "    <tr>\n",
       "      <td>6</td>\n",
       "      <td>0.703300</td>\n",
       "      <td>0.610851</td>\n",
       "      <td>0.711649</td>\n",
       "    </tr>\n",
       "    <tr>\n",
       "      <td>8</td>\n",
       "      <td>0.663600</td>\n",
       "      <td>0.584043</td>\n",
       "      <td>0.717416</td>\n",
       "    </tr>\n",
       "    <tr>\n",
       "      <td>9</td>\n",
       "      <td>0.645000</td>\n",
       "      <td>0.571783</td>\n",
       "      <td>0.720877</td>\n",
       "    </tr>\n",
       "  </tbody>\n",
       "</table><p>"
      ],
      "text/plain": [
       "<IPython.core.display.HTML object>"
      ]
     },
     "metadata": {},
     "output_type": "display_data"
    },
    {
     "name": "stdout",
     "output_type": "stream",
     "text": [
      "Saved improved model to ./model_output/finetuned_model_D_and_P_balance_dataset.pth\n",
      "Saved improved model to ./model_output/finetuned_model_D_and_P_balance_dataset.pth\n",
      "Saved improved model to ./model_output/finetuned_model_D_and_P_balance_dataset.pth\n",
      "Saved improved model to ./model_output/finetuned_model_D_and_P_balance_dataset.pth\n",
      "Saved improved model to ./model_output/finetuned_model_D_and_P_balance_dataset.pth\n",
      "Saved improved model to ./model_output/finetuned_model_D_and_P_balance_dataset.pth\n",
      "Saved improved model to ./model_output/finetuned_model_D_and_P_balance_dataset.pth\n",
      "Saved improved model to ./model_output/finetuned_model_D_and_P_balance_dataset.pth\n",
      "Saved improved model to ./model_output/finetuned_model_D_and_P_balance_dataset.pth\n",
      "Saved improved model to ./model_output/finetuned_model_D_and_P_balance_dataset.pth\n",
      "Loaded best model from ./model_output/finetuned_model_D_and_P_balance_dataset.pth\n"
     ]
    },
    {
     "data": {
      "text/html": [
       "\n",
       "    <div>\n",
       "      \n",
       "      <progress value='109' max='109' style='width:300px; height:20px; vertical-align: middle;'></progress>\n",
       "      [109/109 00:11]\n",
       "    </div>\n",
       "    "
      ],
      "text/plain": [
       "<IPython.core.display.HTML object>"
      ]
     },
     "metadata": {},
     "output_type": "display_data"
    },
    {
     "name": "stdout",
     "output_type": "stream",
     "text": [
      "{'eval_loss': 0.5717834234237671, 'eval_accuracy': 0.720876585928489, 'eval_runtime': 12.1372, 'eval_samples_per_second': 71.433, 'eval_steps_per_second': 8.981, 'epoch': 9.97}\n"
     ]
    },
    {
     "name": "stderr",
     "output_type": "stream",
     "text": [
      "[I 2024-06-16 18:34:40,868] Trial 18 finished with values: [0.5717834234237671, 0.720876585928489] and parameters: {'lr': 0.00011458998338605231, 'batch': 4, 'accum': 8, 'dropout_rate': 0.8889810712391235, 'weight_decay': 0.0002104362553864315, 'warmup_pct': 0.17551683751835567, 'lora_rank': 12, 'lora_init_scale': 0.00015938126565652648, 'lora_scaling_rank': 3}. \n"
     ]
    },
    {
     "name": "stdout",
     "output_type": "stream",
     "text": [
      "History:  [{'loss': 0.7806, 'learning_rate': 8.136566867648685e-06, 'epoch': 1.0, 'step': 108}, {'eval_loss': 0.6942320466041565, 'eval_accuracy': 0.4936562860438293, 'eval_runtime': 13.8588, 'eval_samples_per_second': 62.56, 'eval_steps_per_second': 7.865, 'epoch': 1.0, 'step': 108}, {'loss': 0.7579, 'learning_rate': 1.627313373529737e-05, 'epoch': 1.99, 'step': 216}, {'eval_loss': 0.6843894124031067, 'eval_accuracy': 0.5974625144175317, 'eval_runtime': 12.4038, 'eval_samples_per_second': 69.898, 'eval_steps_per_second': 8.788, 'epoch': 1.99, 'step': 216}, {'loss': 0.7408, 'learning_rate': 2.448503918505391e-05, 'epoch': 3.0, 'step': 325}, {'eval_loss': 0.6701919436454773, 'eval_accuracy': 0.6585928489042676, 'eval_runtime': 12.167, 'eval_samples_per_second': 71.259, 'eval_steps_per_second': 8.959, 'epoch': 3.0, 'step': 325}, {'loss': 0.7392, 'learning_rate': 3.2621606052702596e-05, 'epoch': 4.0, 'step': 433}, {'eval_loss': 0.6544920206069946, 'eval_accuracy': 0.7047289504036909, 'eval_runtime': 12.1525, 'eval_samples_per_second': 71.343, 'eval_steps_per_second': 8.969, 'epoch': 4.0, 'step': 433}, {'loss': 0.7241, 'learning_rate': 4.075817292035129e-05, 'epoch': 4.99, 'step': 541}, {'eval_loss': 0.638542652130127, 'eval_accuracy': 0.7174163783160323, 'eval_runtime': 12.1735, 'eval_samples_per_second': 71.22, 'eval_steps_per_second': 8.954, 'epoch': 4.99, 'step': 541}, {'loss': 0.7009, 'learning_rate': 4.897007837010782e-05, 'epoch': 6.0, 'step': 650}, {'eval_loss': 0.6237766146659851, 'eval_accuracy': 0.7139561707035755, 'eval_runtime': 12.158, 'eval_samples_per_second': 71.311, 'eval_steps_per_second': 8.965, 'epoch': 6.0, 'step': 650}, {'loss': 0.7033, 'learning_rate': 5.710664523775651e-05, 'epoch': 6.99, 'step': 758}, {'eval_loss': 0.6108508110046387, 'eval_accuracy': 0.7116493656286044, 'eval_runtime': 12.1654, 'eval_samples_per_second': 71.268, 'eval_steps_per_second': 8.96, 'epoch': 6.99, 'step': 758}, {'loss': 0.6746, 'learning_rate': 6.531855068751306e-05, 'epoch': 8.0, 'step': 867}, {'eval_loss': 0.5987720489501953, 'eval_accuracy': 0.7139561707035755, 'eval_runtime': 12.1691, 'eval_samples_per_second': 71.246, 'eval_steps_per_second': 8.957, 'epoch': 8.0, 'step': 867}, {'loss': 0.6636, 'learning_rate': 7.345511755516175e-05, 'epoch': 9.0, 'step': 975}, {'eval_loss': 0.5840430855751038, 'eval_accuracy': 0.7174163783160323, 'eval_runtime': 12.1386, 'eval_samples_per_second': 71.425, 'eval_steps_per_second': 8.98, 'epoch': 9.0, 'step': 975}, {'loss': 0.645, 'learning_rate': 8.136566867648684e-05, 'epoch': 9.97, 'step': 1080}, {'eval_loss': 0.5717834234237671, 'eval_accuracy': 0.720876585928489, 'eval_runtime': 12.1538, 'eval_samples_per_second': 71.336, 'eval_steps_per_second': 8.968, 'epoch': 9.97, 'step': 1080}, {'train_runtime': 1478.3012, 'train_samples_per_second': 23.459, 'train_steps_per_second': 0.731, 'total_flos': 8576152906152960.0, 'train_loss': 0.7131701434100116, 'epoch': 9.97, 'step': 1080}, {'eval_loss': 0.5717834234237671, 'eval_accuracy': 0.720876585928489, 'eval_runtime': 12.1372, 'eval_samples_per_second': 71.433, 'eval_steps_per_second': 8.981, 'epoch': 9.97, 'step': 1080}]\n"
     ]
    },
    {
     "name": "stderr",
     "output_type": "stream",
     "text": [
      "/home/ubuntu/data/miniconda3/envs/finetune-dephos/lib/python3.9/site-packages/huggingface_hub/file_download.py:1132: FutureWarning: `resume_download` is deprecated and will be removed in version 1.0.0. Downloads always resume when possible. If you want to force a new download, use `force_download=True`.\n",
      "  warnings.warn(\n"
     ]
    },
    {
     "name": "stdout",
     "output_type": "stream",
     "text": [
      "ProtT5_Classfier\n",
      "Trainable Parameter: 1209193475.0\n",
      "ProtT5_LoRA_Classfier\n",
      "Trainable Parameter: 15355907.0\n",
      "\n"
     ]
    },
    {
     "name": "stderr",
     "output_type": "stream",
     "text": [
      "/home/ubuntu/data/miniconda3/envs/finetune-dephos/lib/python3.9/site-packages/accelerate/accelerator.py:446: FutureWarning: Passing the following arguments to `Accelerator` is deprecated and will be removed in version 1.0 of Accelerate: dict_keys(['dispatch_batches', 'split_batches']). Please pass an `accelerate.DataLoaderConfiguration` instead: \n",
      "dataloader_config = DataLoaderConfiguration(dispatch_batches=None, split_batches=False)\n",
      "  warnings.warn(\n"
     ]
    },
    {
     "data": {
      "text/html": [
       "\n",
       "    <div>\n",
       "      \n",
       "      <progress value='2170' max='2170' style='width:300px; height:20px; vertical-align: middle;'></progress>\n",
       "      [2170/2170 18:37, Epoch 10/10]\n",
       "    </div>\n",
       "    <table border=\"1\" class=\"dataframe\">\n",
       "  <thead>\n",
       " <tr style=\"text-align: left;\">\n",
       "      <th>Epoch</th>\n",
       "      <th>Training Loss</th>\n",
       "      <th>Validation Loss</th>\n",
       "      <th>Accuracy</th>\n",
       "    </tr>\n",
       "  </thead>\n",
       "  <tbody>\n",
       "    <tr>\n",
       "      <td>1</td>\n",
       "      <td>0.681800</td>\n",
       "      <td>0.640165</td>\n",
       "      <td>0.705882</td>\n",
       "    </tr>\n",
       "    <tr>\n",
       "      <td>2</td>\n",
       "      <td>0.615700</td>\n",
       "      <td>0.565092</td>\n",
       "      <td>0.727797</td>\n",
       "    </tr>\n",
       "    <tr>\n",
       "      <td>3</td>\n",
       "      <td>0.555700</td>\n",
       "      <td>0.515241</td>\n",
       "      <td>0.756632</td>\n",
       "    </tr>\n",
       "    <tr>\n",
       "      <td>4</td>\n",
       "      <td>0.518800</td>\n",
       "      <td>0.483168</td>\n",
       "      <td>0.767013</td>\n",
       "    </tr>\n",
       "    <tr>\n",
       "      <td>5</td>\n",
       "      <td>0.508000</td>\n",
       "      <td>0.478990</td>\n",
       "      <td>0.773933</td>\n",
       "    </tr>\n",
       "    <tr>\n",
       "      <td>6</td>\n",
       "      <td>0.484600</td>\n",
       "      <td>0.472042</td>\n",
       "      <td>0.776240</td>\n",
       "    </tr>\n",
       "    <tr>\n",
       "      <td>7</td>\n",
       "      <td>0.478400</td>\n",
       "      <td>0.468585</td>\n",
       "      <td>0.778547</td>\n",
       "    </tr>\n",
       "    <tr>\n",
       "      <td>8</td>\n",
       "      <td>0.462600</td>\n",
       "      <td>0.469887</td>\n",
       "      <td>0.778547</td>\n",
       "    </tr>\n",
       "    <tr>\n",
       "      <td>9</td>\n",
       "      <td>0.449800</td>\n",
       "      <td>0.472126</td>\n",
       "      <td>0.786621</td>\n",
       "    </tr>\n",
       "    <tr>\n",
       "      <td>10</td>\n",
       "      <td>0.444000</td>\n",
       "      <td>0.472196</td>\n",
       "      <td>0.782007</td>\n",
       "    </tr>\n",
       "  </tbody>\n",
       "</table><p>"
      ],
      "text/plain": [
       "<IPython.core.display.HTML object>"
      ]
     },
     "metadata": {},
     "output_type": "display_data"
    },
    {
     "name": "stdout",
     "output_type": "stream",
     "text": [
      "Saved improved model to ./model_output/finetuned_model_D_and_P_balance_dataset.pth\n",
      "Saved improved model to ./model_output/finetuned_model_D_and_P_balance_dataset.pth\n",
      "Saved improved model to ./model_output/finetuned_model_D_and_P_balance_dataset.pth\n",
      "Saved improved model to ./model_output/finetuned_model_D_and_P_balance_dataset.pth\n",
      "Saved improved model to ./model_output/finetuned_model_D_and_P_balance_dataset.pth\n",
      "Saved improved model to ./model_output/finetuned_model_D_and_P_balance_dataset.pth\n",
      "Saved improved model to ./model_output/finetuned_model_D_and_P_balance_dataset.pth\n",
      "Saved improved model to ./model_output/finetuned_model_D_and_P_balance_dataset.pth\n",
      "Loaded best model from ./model_output/finetuned_model_D_and_P_balance_dataset.pth\n"
     ]
    },
    {
     "data": {
      "text/html": [
       "\n",
       "    <div>\n",
       "      \n",
       "      <progress value='109' max='109' style='width:300px; height:20px; vertical-align: middle;'></progress>\n",
       "      [109/109 00:11]\n",
       "    </div>\n",
       "    "
      ],
      "text/plain": [
       "<IPython.core.display.HTML object>"
      ]
     },
     "metadata": {},
     "output_type": "display_data"
    },
    {
     "name": "stdout",
     "output_type": "stream",
     "text": [
      "{'eval_loss': 0.472126305103302, 'eval_accuracy': 0.7866205305651672, 'eval_runtime': 12.3196, 'eval_samples_per_second': 70.376, 'eval_steps_per_second': 8.848, 'epoch': 10.0}\n"
     ]
    },
    {
     "name": "stderr",
     "output_type": "stream",
     "text": [
      "[I 2024-06-16 18:54:12,148] Trial 19 finished with values: [0.472126305103302, 0.7866205305651672] and parameters: {'lr': 0.00010175943017273118, 'batch': 8, 'accum': 2, 'dropout_rate': 0.4882243131202929, 'weight_decay': 0.00014993579804161342, 'warmup_pct': 0.18496515086758566, 'lora_rank': 24, 'lora_init_scale': 0.01370043600756871, 'lora_scaling_rank': 5}. \n"
     ]
    },
    {
     "name": "stdout",
     "output_type": "stream",
     "text": [
      "History:  [{'loss': 0.6818, 'learning_rate': 2.756778570222555e-05, 'epoch': 1.0, 'step': 217}, {'eval_loss': 0.6401650905609131, 'eval_accuracy': 0.7058823529411765, 'eval_runtime': 13.8461, 'eval_samples_per_second': 62.617, 'eval_steps_per_second': 7.872, 'epoch': 1.0, 'step': 217}, {'loss': 0.6157, 'learning_rate': 5.51355714044511e-05, 'epoch': 2.0, 'step': 434}, {'eval_loss': 0.5650923252105713, 'eval_accuracy': 0.7277970011534025, 'eval_runtime': 12.3136, 'eval_samples_per_second': 70.41, 'eval_steps_per_second': 8.852, 'epoch': 2.0, 'step': 434}, {'loss': 0.5557, 'learning_rate': 8.270335710667665e-05, 'epoch': 3.0, 'step': 651}, {'eval_loss': 0.5152411460876465, 'eval_accuracy': 0.7566320645905421, 'eval_runtime': 12.1375, 'eval_samples_per_second': 71.432, 'eval_steps_per_second': 8.98, 'epoch': 3.0, 'step': 651}, {'loss': 0.5188, 'learning_rate': 9.677923892249525e-05, 'epoch': 4.0, 'step': 868}, {'eval_loss': 0.48316794633865356, 'eval_accuracy': 0.7670126874279123, 'eval_runtime': 12.1648, 'eval_samples_per_second': 71.271, 'eval_steps_per_second': 8.96, 'epoch': 4.0, 'step': 868}, {'loss': 0.508, 'learning_rate': 8.064936576874604e-05, 'epoch': 5.0, 'step': 1085}, {'eval_loss': 0.478990375995636, 'eval_accuracy': 0.7739331026528259, 'eval_runtime': 12.1325, 'eval_samples_per_second': 71.461, 'eval_steps_per_second': 8.984, 'epoch': 5.0, 'step': 1085}, {'loss': 0.4846, 'learning_rate': 6.451949261499683e-05, 'epoch': 6.0, 'step': 1302}, {'eval_loss': 0.4720420837402344, 'eval_accuracy': 0.776239907727797, 'eval_runtime': 12.1694, 'eval_samples_per_second': 71.245, 'eval_steps_per_second': 8.957, 'epoch': 6.0, 'step': 1302}, {'loss': 0.4784, 'learning_rate': 4.8389619461247624e-05, 'epoch': 7.0, 'step': 1519}, {'eval_loss': 0.4685846269130707, 'eval_accuracy': 0.7785467128027682, 'eval_runtime': 12.1325, 'eval_samples_per_second': 71.461, 'eval_steps_per_second': 8.984, 'epoch': 7.0, 'step': 1519}, {'loss': 0.4626, 'learning_rate': 3.2259746307498416e-05, 'epoch': 8.0, 'step': 1736}, {'eval_loss': 0.46988677978515625, 'eval_accuracy': 0.7785467128027682, 'eval_runtime': 12.1633, 'eval_samples_per_second': 71.28, 'eval_steps_per_second': 8.961, 'epoch': 8.0, 'step': 1736}, {'loss': 0.4498, 'learning_rate': 1.6129873153749208e-05, 'epoch': 9.0, 'step': 1953}, {'eval_loss': 0.472126305103302, 'eval_accuracy': 0.7866205305651672, 'eval_runtime': 12.1435, 'eval_samples_per_second': 71.396, 'eval_steps_per_second': 8.976, 'epoch': 9.0, 'step': 1953}, {'loss': 0.444, 'learning_rate': 0.0, 'epoch': 10.0, 'step': 2170}, {'eval_loss': 0.472196489572525, 'eval_accuracy': 0.7820069204152249, 'eval_runtime': 12.1796, 'eval_samples_per_second': 71.185, 'eval_steps_per_second': 8.949, 'epoch': 10.0, 'step': 2170}, {'train_runtime': 1118.0872, 'train_samples_per_second': 31.017, 'train_steps_per_second': 1.941, 'total_flos': 8654614344096480.0, 'train_loss': 0.5199425446822347, 'epoch': 10.0, 'step': 2170}, {'eval_loss': 0.472126305103302, 'eval_accuracy': 0.7866205305651672, 'eval_runtime': 12.3196, 'eval_samples_per_second': 70.376, 'eval_steps_per_second': 8.848, 'epoch': 10.0, 'step': 2170}]\n"
     ]
    },
    {
     "name": "stderr",
     "output_type": "stream",
     "text": [
      "/home/ubuntu/data/miniconda3/envs/finetune-dephos/lib/python3.9/site-packages/huggingface_hub/file_download.py:1132: FutureWarning: `resume_download` is deprecated and will be removed in version 1.0.0. Downloads always resume when possible. If you want to force a new download, use `force_download=True`.\n",
      "  warnings.warn(\n"
     ]
    },
    {
     "name": "stdout",
     "output_type": "stream",
     "text": [
      "ProtT5_Classfier\n",
      "Trainable Parameter: 1209193475.0\n",
      "ProtT5_LoRA_Classfier\n",
      "Trainable Parameter: 15847427.0\n",
      "\n"
     ]
    },
    {
     "name": "stderr",
     "output_type": "stream",
     "text": [
      "/home/ubuntu/data/miniconda3/envs/finetune-dephos/lib/python3.9/site-packages/accelerate/accelerator.py:446: FutureWarning: Passing the following arguments to `Accelerator` is deprecated and will be removed in version 1.0 of Accelerate: dict_keys(['dispatch_batches', 'split_batches']). Please pass an `accelerate.DataLoaderConfiguration` instead: \n",
      "dataloader_config = DataLoaderConfiguration(dispatch_batches=None, split_batches=False)\n",
      "  warnings.warn(\n"
     ]
    },
    {
     "data": {
      "text/html": [
       "\n",
       "    <div>\n",
       "      \n",
       "      <progress value='4330' max='4330' style='width:300px; height:20px; vertical-align: middle;'></progress>\n",
       "      [4330/4330 1:04:29, Epoch 9/10]\n",
       "    </div>\n",
       "    <table border=\"1\" class=\"dataframe\">\n",
       "  <thead>\n",
       " <tr style=\"text-align: left;\">\n",
       "      <th>Epoch</th>\n",
       "      <th>Training Loss</th>\n",
       "      <th>Validation Loss</th>\n",
       "      <th>Accuracy</th>\n",
       "    </tr>\n",
       "  </thead>\n",
       "  <tbody>\n",
       "    <tr>\n",
       "      <td>0</td>\n",
       "      <td>0.670400</td>\n",
       "      <td>0.616133</td>\n",
       "      <td>0.720877</td>\n",
       "    </tr>\n",
       "    <tr>\n",
       "      <td>2</td>\n",
       "      <td>0.527700</td>\n",
       "      <td>0.498453</td>\n",
       "      <td>0.760092</td>\n",
       "    </tr>\n",
       "    <tr>\n",
       "      <td>4</td>\n",
       "      <td>0.485900</td>\n",
       "      <td>0.498460</td>\n",
       "      <td>0.764706</td>\n",
       "    </tr>\n",
       "    <tr>\n",
       "      <td>6</td>\n",
       "      <td>0.446200</td>\n",
       "      <td>0.491190</td>\n",
       "      <td>0.780854</td>\n",
       "    </tr>\n",
       "    <tr>\n",
       "      <td>8</td>\n",
       "      <td>0.401800</td>\n",
       "      <td>0.517331</td>\n",
       "      <td>0.780854</td>\n",
       "    </tr>\n",
       "    <tr>\n",
       "      <td>9</td>\n",
       "      <td>0.396800</td>\n",
       "      <td>0.512216</td>\n",
       "      <td>0.776240</td>\n",
       "    </tr>\n",
       "  </tbody>\n",
       "</table><p>"
      ],
      "text/plain": [
       "<IPython.core.display.HTML object>"
      ]
     },
     "metadata": {},
     "output_type": "display_data"
    },
    {
     "name": "stdout",
     "output_type": "stream",
     "text": [
      "Saved improved model to ./model_output/finetuned_model_D_and_P_balance_dataset.pth\n",
      "Saved improved model to ./model_output/finetuned_model_D_and_P_balance_dataset.pth\n",
      "Saved improved model to ./model_output/finetuned_model_D_and_P_balance_dataset.pth\n",
      "Saved improved model to ./model_output/finetuned_model_D_and_P_balance_dataset.pth\n",
      "Saved improved model to ./model_output/finetuned_model_D_and_P_balance_dataset.pth\n",
      "Saved improved model to ./model_output/finetuned_model_D_and_P_balance_dataset.pth\n",
      "Loaded best model from ./model_output/finetuned_model_D_and_P_balance_dataset.pth\n"
     ]
    },
    {
     "data": {
      "text/html": [
       "\n",
       "    <div>\n",
       "      \n",
       "      <progress value='109' max='109' style='width:300px; height:20px; vertical-align: middle;'></progress>\n",
       "      [109/109 00:11]\n",
       "    </div>\n",
       "    "
      ],
      "text/plain": [
       "<IPython.core.display.HTML object>"
      ]
     },
     "metadata": {},
     "output_type": "display_data"
    },
    {
     "name": "stdout",
     "output_type": "stream",
     "text": [
      "Stopping early at epoch 9.988465974625145: No improvement in loss or accuracy for 3 evaluations.\n",
      "{'eval_loss': 0.5015458464622498, 'eval_accuracy': 0.7854671280276817, 'eval_runtime': 12.1567, 'eval_samples_per_second': 71.319, 'eval_steps_per_second': 8.966, 'epoch': 9.99}\n"
     ]
    },
    {
     "name": "stderr",
     "output_type": "stream",
     "text": [
      "[I 2024-06-16 19:59:35,577] Trial 20 finished with values: [0.5015458464622498, 0.7854671280276817] and parameters: {'lr': 9.81833165594484e-05, 'batch': 1, 'accum': 8, 'dropout_rate': 0.14904399426138495, 'weight_decay': 2.1520637807282497e-05, 'warmup_pct': 0.06255151975729772, 'lora_rank': 28, 'lora_init_scale': 0.009225575377661381, 'lora_scaling_rank': 2}. \n"
     ]
    },
    {
     "name": "stdout",
     "output_type": "stream",
     "text": [
      "History:  [{'loss': 0.6704, 'learning_rate': 1.9600450009332026e-05, 'epoch': 1.0, 'step': 433}, {'eval_loss': 0.6161328554153442, 'eval_accuracy': 0.720876585928489, 'eval_runtime': 13.8992, 'eval_samples_per_second': 62.378, 'eval_steps_per_second': 7.842, 'epoch': 1.0, 'step': 433}, {'loss': 0.5825, 'learning_rate': 3.924616664686112e-05, 'epoch': 2.0, 'step': 867}, {'eval_loss': 0.5331746339797974, 'eval_accuracy': 0.7508650519031141, 'eval_runtime': 12.2728, 'eval_samples_per_second': 70.644, 'eval_steps_per_second': 8.881, 'epoch': 2.0, 'step': 867}, {'loss': 0.5277, 'learning_rate': 5.884661665619314e-05, 'epoch': 3.0, 'step': 1300}, {'eval_loss': 0.49845337867736816, 'eval_accuracy': 0.7600922722029988, 'eval_runtime': 12.2421, 'eval_samples_per_second': 70.821, 'eval_steps_per_second': 8.904, 'epoch': 3.0, 'step': 1300}, {'loss': 0.5005, 'learning_rate': 7.849233329372224e-05, 'epoch': 4.0, 'step': 1734}, {'eval_loss': 0.4718185067176819, 'eval_accuracy': 0.7773933102652826, 'eval_runtime': 12.3108, 'eval_samples_per_second': 70.426, 'eval_steps_per_second': 8.854, 'epoch': 4.0, 'step': 1734}, {'loss': 0.4859, 'learning_rate': 9.809278330305426e-05, 'epoch': 5.0, 'step': 2167}, {'eval_loss': 0.4984603822231293, 'eval_accuracy': 0.7647058823529411, 'eval_runtime': 12.2767, 'eval_samples_per_second': 70.622, 'eval_steps_per_second': 8.879, 'epoch': 5.0, 'step': 2167}, {'loss': 0.4602, 'learning_rate': 7.855574008851748e-05, 'epoch': 6.0, 'step': 2601}, {'eval_loss': 0.49249815940856934, 'eval_accuracy': 0.7739331026528259, 'eval_runtime': 12.4597, 'eval_samples_per_second': 69.585, 'eval_steps_per_second': 8.748, 'epoch': 6.0, 'step': 2601}, {'loss': 0.4462, 'learning_rate': 5.888272941279275e-05, 'epoch': 7.0, 'step': 3034}, {'eval_loss': 0.4911901652812958, 'eval_accuracy': 0.7808535178777394, 'eval_runtime': 12.3629, 'eval_samples_per_second': 70.129, 'eval_steps_per_second': 8.817, 'epoch': 7.0, 'step': 3034}, {'loss': 0.4304, 'learning_rate': 3.916428453227419e-05, 'epoch': 8.0, 'step': 3468}, {'eval_loss': 0.5015458464622498, 'eval_accuracy': 0.7854671280276817, 'eval_runtime': 12.3605, 'eval_samples_per_second': 70.143, 'eval_steps_per_second': 8.818, 'epoch': 8.0, 'step': 3468}, {'loss': 0.4018, 'learning_rate': 1.9491273856549454e-05, 'epoch': 9.0, 'step': 3901}, {'eval_loss': 0.517330527305603, 'eval_accuracy': 0.7808535178777394, 'eval_runtime': 12.3496, 'eval_samples_per_second': 70.205, 'eval_steps_per_second': 8.826, 'epoch': 9.0, 'step': 3901}, {'loss': 0.3968, 'learning_rate': 0.0, 'epoch': 9.99, 'step': 4330}, {'eval_loss': 0.5122155547142029, 'eval_accuracy': 0.776239907727797, 'eval_runtime': 12.3309, 'eval_samples_per_second': 70.311, 'eval_steps_per_second': 8.84, 'epoch': 9.99, 'step': 4330}, {'train_runtime': 3870.546, 'train_samples_per_second': 8.96, 'train_steps_per_second': 1.119, 'total_flos': 8648105445522240.0, 'train_loss': 0.4903423952450653, 'epoch': 9.99, 'step': 4330}, {'eval_loss': 0.5015458464622498, 'eval_accuracy': 0.7854671280276817, 'eval_runtime': 12.1567, 'eval_samples_per_second': 71.319, 'eval_steps_per_second': 8.966, 'epoch': 9.99, 'step': 4330}]\n"
     ]
    },
    {
     "name": "stderr",
     "output_type": "stream",
     "text": [
      "/home/ubuntu/data/miniconda3/envs/finetune-dephos/lib/python3.9/site-packages/huggingface_hub/file_download.py:1132: FutureWarning: `resume_download` is deprecated and will be removed in version 1.0.0. Downloads always resume when possible. If you want to force a new download, use `force_download=True`.\n",
      "  warnings.warn(\n"
     ]
    },
    {
     "name": "stdout",
     "output_type": "stream",
     "text": [
      "ProtT5_Classfier\n",
      "Trainable Parameter: 1209193475.0\n",
      "ProtT5_LoRA_Classfier\n",
      "Trainable Parameter: 12406787.0\n",
      "\n"
     ]
    },
    {
     "name": "stderr",
     "output_type": "stream",
     "text": [
      "/home/ubuntu/data/miniconda3/envs/finetune-dephos/lib/python3.9/site-packages/accelerate/accelerator.py:446: FutureWarning: Passing the following arguments to `Accelerator` is deprecated and will be removed in version 1.0 of Accelerate: dict_keys(['dispatch_batches', 'split_batches']). Please pass an `accelerate.DataLoaderConfiguration` instead: \n",
      "dataloader_config = DataLoaderConfiguration(dispatch_batches=None, split_batches=False)\n",
      "  warnings.warn(\n"
     ]
    },
    {
     "data": {
      "text/html": [
       "\n",
       "    <div>\n",
       "      \n",
       "      <progress value='8670' max='17340' style='width:300px; height:20px; vertical-align: middle;'></progress>\n",
       "      [ 8670/17340 33:26 < 33:27, 4.32 it/s, Epoch 5/10]\n",
       "    </div>\n",
       "    <table border=\"1\" class=\"dataframe\">\n",
       "  <thead>\n",
       " <tr style=\"text-align: left;\">\n",
       "      <th>Epoch</th>\n",
       "      <th>Training Loss</th>\n",
       "      <th>Validation Loss</th>\n",
       "      <th>Accuracy</th>\n",
       "    </tr>\n",
       "  </thead>\n",
       "  <tbody>\n",
       "    <tr>\n",
       "      <td>1</td>\n",
       "      <td>0.718700</td>\n",
       "      <td>0.528246</td>\n",
       "      <td>0.749712</td>\n",
       "    </tr>\n",
       "    <tr>\n",
       "      <td>2</td>\n",
       "      <td>0.678100</td>\n",
       "      <td>0.622431</td>\n",
       "      <td>0.786621</td>\n",
       "    </tr>\n",
       "    <tr>\n",
       "      <td>3</td>\n",
       "      <td>0.578300</td>\n",
       "      <td>0.856225</td>\n",
       "      <td>0.771626</td>\n",
       "    </tr>\n",
       "    <tr>\n",
       "      <td>4</td>\n",
       "      <td>0.465600</td>\n",
       "      <td>0.977599</td>\n",
       "      <td>0.775087</td>\n",
       "    </tr>\n",
       "    <tr>\n",
       "      <td>5</td>\n",
       "      <td>0.333500</td>\n",
       "      <td>1.160793</td>\n",
       "      <td>0.786621</td>\n",
       "    </tr>\n",
       "  </tbody>\n",
       "</table><p>"
      ],
      "text/plain": [
       "<IPython.core.display.HTML object>"
      ]
     },
     "metadata": {},
     "output_type": "display_data"
    },
    {
     "name": "stdout",
     "output_type": "stream",
     "text": [
      "Saved improved model to ./model_output/finetuned_model_D_and_P_balance_dataset.pth\n",
      "Saved improved model to ./model_output/finetuned_model_D_and_P_balance_dataset.pth\n",
      "Stopping early at epoch 5.0: No improvement in loss or accuracy for 3 evaluations.\n",
      "Loaded best model from ./model_output/finetuned_model_D_and_P_balance_dataset.pth\n"
     ]
    },
    {
     "data": {
      "text/html": [
       "\n",
       "    <div>\n",
       "      \n",
       "      <progress value='109' max='109' style='width:300px; height:20px; vertical-align: middle;'></progress>\n",
       "      [109/109 00:11]\n",
       "    </div>\n",
       "    "
      ],
      "text/plain": [
       "<IPython.core.display.HTML object>"
      ]
     },
     "metadata": {},
     "output_type": "display_data"
    },
    {
     "name": "stdout",
     "output_type": "stream",
     "text": [
      "Stopping early at epoch 5.0: No improvement in loss or accuracy for 3 evaluations.\n",
      "{'eval_loss': 0.6224311590194702, 'eval_accuracy': 0.7866205305651672, 'eval_runtime': 12.1147, 'eval_samples_per_second': 71.566, 'eval_steps_per_second': 8.997, 'epoch': 5.0}\n"
     ]
    },
    {
     "name": "stderr",
     "output_type": "stream",
     "text": [
      "[I 2024-06-16 20:34:00,503] Trial 21 finished with values: [0.6224311590194702, 0.7866205305651672] and parameters: {'lr': 0.0005968434843149745, 'batch': 1, 'accum': 2, 'dropout_rate': 0.24140355409911365, 'weight_decay': 2.4682778193751892e-05, 'warmup_pct': 0.02893006659693323, 'lora_rank': 20, 'lora_init_scale': 0.009333935071644909, 'lora_scaling_rank': 3}. \n"
     ]
    },
    {
     "name": "stdout",
     "output_type": "stream",
     "text": [
      "History:  [{'loss': 0.7187, 'learning_rate': 0.0005701376884507249, 'epoch': 1.0, 'step': 1734}, {'eval_loss': 0.5282460451126099, 'eval_accuracy': 0.7497116493656286, 'eval_runtime': 14.0258, 'eval_samples_per_second': 61.815, 'eval_steps_per_second': 7.771, 'epoch': 1.0, 'step': 1734}, {'loss': 0.6781, 'learning_rate': 0.0005067890564006444, 'epoch': 2.0, 'step': 3468}, {'eval_loss': 0.6224311590194702, 'eval_accuracy': 0.7866205305651672, 'eval_runtime': 12.354, 'eval_samples_per_second': 70.18, 'eval_steps_per_second': 8.823, 'epoch': 2.0, 'step': 3468}, {'loss': 0.5783, 'learning_rate': 0.0004434404243505638, 'epoch': 3.0, 'step': 5202}, {'eval_loss': 0.8562248349189758, 'eval_accuracy': 0.7716262975778547, 'eval_runtime': 12.3116, 'eval_samples_per_second': 70.422, 'eval_steps_per_second': 8.853, 'epoch': 3.0, 'step': 5202}, {'loss': 0.4656, 'learning_rate': 0.00038009179230048324, 'epoch': 4.0, 'step': 6936}, {'eval_loss': 0.9775992035865784, 'eval_accuracy': 0.7750865051903114, 'eval_runtime': 12.2603, 'eval_samples_per_second': 70.716, 'eval_steps_per_second': 8.89, 'epoch': 4.0, 'step': 6936}, {'loss': 0.3335, 'learning_rate': 0.0003167431602504027, 'epoch': 5.0, 'step': 8670}, {'eval_loss': 1.1607928276062012, 'eval_accuracy': 0.7866205305651672, 'eval_runtime': 12.202, 'eval_samples_per_second': 71.054, 'eval_steps_per_second': 8.933, 'epoch': 5.0, 'step': 8670}, {'train_runtime': 2007.2237, 'train_samples_per_second': 17.278, 'train_steps_per_second': 8.639, 'total_flos': 4316875072925040.0, 'train_loss': 0.5548425307048371, 'epoch': 5.0, 'step': 8670}, {'eval_loss': 0.6224311590194702, 'eval_accuracy': 0.7866205305651672, 'eval_runtime': 12.1147, 'eval_samples_per_second': 71.566, 'eval_steps_per_second': 8.997, 'epoch': 5.0, 'step': 8670}]\n"
     ]
    },
    {
     "name": "stderr",
     "output_type": "stream",
     "text": [
      "/home/ubuntu/data/miniconda3/envs/finetune-dephos/lib/python3.9/site-packages/huggingface_hub/file_download.py:1132: FutureWarning: `resume_download` is deprecated and will be removed in version 1.0.0. Downloads always resume when possible. If you want to force a new download, use `force_download=True`.\n",
      "  warnings.warn(\n"
     ]
    },
    {
     "name": "stdout",
     "output_type": "stream",
     "text": [
      "ProtT5_Classfier\n",
      "Trainable Parameter: 1209193475.0\n",
      "ProtT5_LoRA_Classfier\n",
      "Trainable Parameter: 16338947.0\n",
      "\n"
     ]
    },
    {
     "name": "stderr",
     "output_type": "stream",
     "text": [
      "/home/ubuntu/data/miniconda3/envs/finetune-dephos/lib/python3.9/site-packages/accelerate/accelerator.py:446: FutureWarning: Passing the following arguments to `Accelerator` is deprecated and will be removed in version 1.0 of Accelerate: dict_keys(['dispatch_batches', 'split_batches']). Please pass an `accelerate.DataLoaderConfiguration` instead: \n",
      "dataloader_config = DataLoaderConfiguration(dispatch_batches=None, split_batches=False)\n",
      "  warnings.warn(\n"
     ]
    },
    {
     "data": {
      "text/html": [
       "\n",
       "    <div>\n",
       "      \n",
       "      <progress value='1080' max='1080' style='width:300px; height:20px; vertical-align: middle;'></progress>\n",
       "      [1080/1080 24:42, Epoch 9/10]\n",
       "    </div>\n",
       "    <table border=\"1\" class=\"dataframe\">\n",
       "  <thead>\n",
       " <tr style=\"text-align: left;\">\n",
       "      <th>Epoch</th>\n",
       "      <th>Training Loss</th>\n",
       "      <th>Validation Loss</th>\n",
       "      <th>Accuracy</th>\n",
       "    </tr>\n",
       "  </thead>\n",
       "  <tbody>\n",
       "    <tr>\n",
       "      <td>0</td>\n",
       "      <td>0.693500</td>\n",
       "      <td>0.607423</td>\n",
       "      <td>0.713956</td>\n",
       "    </tr>\n",
       "    <tr>\n",
       "      <td>1</td>\n",
       "      <td>0.602200</td>\n",
       "      <td>0.533444</td>\n",
       "      <td>0.742791</td>\n",
       "    </tr>\n",
       "    <tr>\n",
       "      <td>2</td>\n",
       "      <td>0.561800</td>\n",
       "      <td>0.495114</td>\n",
       "      <td>0.765859</td>\n",
       "    </tr>\n",
       "    <tr>\n",
       "      <td>3</td>\n",
       "      <td>0.534100</td>\n",
       "      <td>0.478021</td>\n",
       "      <td>0.771626</td>\n",
       "    </tr>\n",
       "    <tr>\n",
       "      <td>4</td>\n",
       "      <td>0.508200</td>\n",
       "      <td>0.468608</td>\n",
       "      <td>0.773933</td>\n",
       "    </tr>\n",
       "    <tr>\n",
       "      <td>5</td>\n",
       "      <td>0.486900</td>\n",
       "      <td>0.464343</td>\n",
       "      <td>0.784314</td>\n",
       "    </tr>\n",
       "    <tr>\n",
       "      <td>6</td>\n",
       "      <td>0.480800</td>\n",
       "      <td>0.471820</td>\n",
       "      <td>0.784314</td>\n",
       "    </tr>\n",
       "    <tr>\n",
       "      <td>8</td>\n",
       "      <td>0.446400</td>\n",
       "      <td>0.479024</td>\n",
       "      <td>0.784314</td>\n",
       "    </tr>\n",
       "    <tr>\n",
       "      <td>9</td>\n",
       "      <td>0.433100</td>\n",
       "      <td>0.478897</td>\n",
       "      <td>0.785467</td>\n",
       "    </tr>\n",
       "  </tbody>\n",
       "</table><p>"
      ],
      "text/plain": [
       "<IPython.core.display.HTML object>"
      ]
     },
     "metadata": {},
     "output_type": "display_data"
    },
    {
     "name": "stdout",
     "output_type": "stream",
     "text": [
      "Saved improved model to ./model_output/finetuned_model_D_and_P_balance_dataset.pth\n",
      "Saved improved model to ./model_output/finetuned_model_D_and_P_balance_dataset.pth\n",
      "Saved improved model to ./model_output/finetuned_model_D_and_P_balance_dataset.pth\n",
      "Saved improved model to ./model_output/finetuned_model_D_and_P_balance_dataset.pth\n",
      "Saved improved model to ./model_output/finetuned_model_D_and_P_balance_dataset.pth\n",
      "Saved improved model to ./model_output/finetuned_model_D_and_P_balance_dataset.pth\n",
      "Saved improved model to ./model_output/finetuned_model_D_and_P_balance_dataset.pth\n",
      "Loaded best model from ./model_output/finetuned_model_D_and_P_balance_dataset.pth\n"
     ]
    },
    {
     "data": {
      "text/html": [
       "\n",
       "    <div>\n",
       "      \n",
       "      <progress value='109' max='109' style='width:300px; height:20px; vertical-align: middle;'></progress>\n",
       "      [109/109 00:11]\n",
       "    </div>\n",
       "    "
      ],
      "text/plain": [
       "<IPython.core.display.HTML object>"
      ]
     },
     "metadata": {},
     "output_type": "display_data"
    },
    {
     "name": "stdout",
     "output_type": "stream",
     "text": [
      "Stopping early at epoch 9.965397923875432: No improvement in loss or accuracy for 3 evaluations.\n",
      "{'eval_loss': 0.47510308027267456, 'eval_accuracy': 0.7889273356401384, 'eval_runtime': 12.1854, 'eval_samples_per_second': 71.151, 'eval_steps_per_second': 8.945, 'epoch': 9.97}\n"
     ]
    },
    {
     "name": "stderr",
     "output_type": "stream",
     "text": [
      "[I 2024-06-16 20:59:40,018] Trial 22 finished with values: [0.47510308027267456, 0.7889273356401384] and parameters: {'lr': 0.00027931534083516736, 'batch': 4, 'accum': 8, 'dropout_rate': 0.7764293495201305, 'weight_decay': 0.0005674347244327496, 'warmup_pct': 0.01875664251543504, 'lora_rank': 24, 'lora_init_scale': 0.020967068638031418, 'lora_scaling_rank': 7}. \n"
     ]
    },
    {
     "name": "stdout",
     "output_type": "stream",
     "text": [
      "History:  [{'loss': 0.6935, 'learning_rate': 0.0001862102272234449, 'epoch': 1.0, 'step': 108}, {'eval_loss': 0.6074228882789612, 'eval_accuracy': 0.7139561707035755, 'eval_runtime': 13.9421, 'eval_samples_per_second': 62.186, 'eval_steps_per_second': 7.818, 'epoch': 1.0, 'step': 108}, {'loss': 0.6022, 'learning_rate': 0.0002628850266683928, 'epoch': 1.99, 'step': 216}, {'eval_loss': 0.5334439873695374, 'eval_accuracy': 0.7427912341407151, 'eval_runtime': 12.2126, 'eval_samples_per_second': 70.992, 'eval_steps_per_second': 8.925, 'epoch': 1.99, 'step': 216}, {'loss': 0.5618, 'learning_rate': 0.00022972013325768122, 'epoch': 3.0, 'step': 325}, {'eval_loss': 0.49511387944221497, 'eval_accuracy': 0.7658592848904268, 'eval_runtime': 12.449, 'eval_samples_per_second': 69.644, 'eval_steps_per_second': 8.756, 'epoch': 3.0, 'step': 325}, {'loss': 0.5341, 'learning_rate': 0.00019685950492413212, 'epoch': 4.0, 'step': 433}, {'eval_loss': 0.478020578622818, 'eval_accuracy': 0.7716262975778547, 'eval_runtime': 12.1533, 'eval_samples_per_second': 71.339, 'eval_steps_per_second': 8.969, 'epoch': 4.0, 'step': 433}, {'loss': 0.5082, 'learning_rate': 0.000163998876590583, 'epoch': 4.99, 'step': 541}, {'eval_loss': 0.4686082899570465, 'eval_accuracy': 0.7739331026528259, 'eval_runtime': 12.2176, 'eval_samples_per_second': 70.963, 'eval_steps_per_second': 8.922, 'epoch': 4.99, 'step': 541}, {'loss': 0.4869, 'learning_rate': 0.00013083398317987143, 'epoch': 6.0, 'step': 650}, {'eval_loss': 0.46434250473976135, 'eval_accuracy': 0.7843137254901961, 'eval_runtime': 12.1712, 'eval_samples_per_second': 71.234, 'eval_steps_per_second': 8.956, 'epoch': 6.0, 'step': 650}, {'loss': 0.4808, 'learning_rate': 9.797335484632232e-05, 'epoch': 6.99, 'step': 758}, {'eval_loss': 0.4718196988105774, 'eval_accuracy': 0.7843137254901961, 'eval_runtime': 12.2187, 'eval_samples_per_second': 70.957, 'eval_steps_per_second': 8.921, 'epoch': 6.99, 'step': 758}, {'loss': 0.4599, 'learning_rate': 6.480846143561073e-05, 'epoch': 8.0, 'step': 867}, {'eval_loss': 0.47510308027267456, 'eval_accuracy': 0.7889273356401384, 'eval_runtime': 12.1575, 'eval_samples_per_second': 71.314, 'eval_steps_per_second': 8.966, 'epoch': 8.0, 'step': 867}, {'loss': 0.4464, 'learning_rate': 3.1947833102061625e-05, 'epoch': 9.0, 'step': 975}, {'eval_loss': 0.4790240526199341, 'eval_accuracy': 0.7843137254901961, 'eval_runtime': 12.2088, 'eval_samples_per_second': 71.014, 'eval_steps_per_second': 8.928, 'epoch': 9.0, 'step': 975}, {'loss': 0.4331, 'learning_rate': 0.0, 'epoch': 9.97, 'step': 1080}, {'eval_loss': 0.4788965582847595, 'eval_accuracy': 0.7854671280276817, 'eval_runtime': 12.167, 'eval_samples_per_second': 71.259, 'eval_steps_per_second': 8.959, 'epoch': 9.97, 'step': 1080}, {'train_runtime': 1483.3505, 'train_samples_per_second': 23.38, 'train_steps_per_second': 0.728, 'total_flos': 8631598249589760.0, 'train_loss': 0.5208851284450955, 'epoch': 9.97, 'step': 1080}, {'eval_loss': 0.47510308027267456, 'eval_accuracy': 0.7889273356401384, 'eval_runtime': 12.1854, 'eval_samples_per_second': 71.151, 'eval_steps_per_second': 8.945, 'epoch': 9.97, 'step': 1080}]\n"
     ]
    },
    {
     "name": "stderr",
     "output_type": "stream",
     "text": [
      "/home/ubuntu/data/miniconda3/envs/finetune-dephos/lib/python3.9/site-packages/huggingface_hub/file_download.py:1132: FutureWarning: `resume_download` is deprecated and will be removed in version 1.0.0. Downloads always resume when possible. If you want to force a new download, use `force_download=True`.\n",
      "  warnings.warn(\n"
     ]
    },
    {
     "name": "stdout",
     "output_type": "stream",
     "text": [
      "ProtT5_Classfier\n",
      "Trainable Parameter: 1209193475.0\n",
      "ProtT5_LoRA_Classfier\n",
      "Trainable Parameter: 4050947.0\n",
      "\n"
     ]
    },
    {
     "name": "stderr",
     "output_type": "stream",
     "text": [
      "/home/ubuntu/data/miniconda3/envs/finetune-dephos/lib/python3.9/site-packages/accelerate/accelerator.py:446: FutureWarning: Passing the following arguments to `Accelerator` is deprecated and will be removed in version 1.0 of Accelerate: dict_keys(['dispatch_batches', 'split_batches']). Please pass an `accelerate.DataLoaderConfiguration` instead: \n",
      "dataloader_config = DataLoaderConfiguration(dispatch_batches=None, split_batches=False)\n",
      "  warnings.warn(\n"
     ]
    },
    {
     "data": {
      "text/html": [
       "\n",
       "    <div>\n",
       "      \n",
       "      <progress value='3468' max='4330' style='width:300px; height:20px; vertical-align: middle;'></progress>\n",
       "      [3468/4330 20:11 < 05:01, 2.86 it/s, Epoch 8/10]\n",
       "    </div>\n",
       "    <table border=\"1\" class=\"dataframe\">\n",
       "  <thead>\n",
       " <tr style=\"text-align: left;\">\n",
       "      <th>Epoch</th>\n",
       "      <th>Training Loss</th>\n",
       "      <th>Validation Loss</th>\n",
       "      <th>Accuracy</th>\n",
       "    </tr>\n",
       "  </thead>\n",
       "  <tbody>\n",
       "    <tr>\n",
       "      <td>0</td>\n",
       "      <td>0.616200</td>\n",
       "      <td>0.513943</td>\n",
       "      <td>0.748558</td>\n",
       "    </tr>\n",
       "    <tr>\n",
       "      <td>2</td>\n",
       "      <td>0.500300</td>\n",
       "      <td>0.496461</td>\n",
       "      <td>0.770473</td>\n",
       "    </tr>\n",
       "    <tr>\n",
       "      <td>4</td>\n",
       "      <td>0.395400</td>\n",
       "      <td>0.552235</td>\n",
       "      <td>0.779700</td>\n",
       "    </tr>\n",
       "    <tr>\n",
       "      <td>6</td>\n",
       "      <td>0.303600</td>\n",
       "      <td>0.698879</td>\n",
       "      <td>0.778547</td>\n",
       "    </tr>\n",
       "    <tr>\n",
       "      <td>8</td>\n",
       "      <td>0.259800</td>\n",
       "      <td>0.803209</td>\n",
       "      <td>0.778547</td>\n",
       "    </tr>\n",
       "  </tbody>\n",
       "</table><p>"
      ],
      "text/plain": [
       "<IPython.core.display.HTML object>"
      ]
     },
     "metadata": {},
     "output_type": "display_data"
    },
    {
     "name": "stdout",
     "output_type": "stream",
     "text": [
      "Saved improved model to ./model_output/finetuned_model_D_and_P_balance_dataset.pth\n",
      "Saved improved model to ./model_output/finetuned_model_D_and_P_balance_dataset.pth\n",
      "Saved improved model to ./model_output/finetuned_model_D_and_P_balance_dataset.pth\n",
      "Saved improved model to ./model_output/finetuned_model_D_and_P_balance_dataset.pth\n",
      "Stopping early at epoch 8.0: No improvement in loss or accuracy for 3 evaluations.\n",
      "Loaded best model from ./model_output/finetuned_model_D_and_P_balance_dataset.pth\n"
     ]
    },
    {
     "data": {
      "text/html": [
       "\n",
       "    <div>\n",
       "      \n",
       "      <progress value='109' max='109' style='width:300px; height:20px; vertical-align: middle;'></progress>\n",
       "      [109/109 00:11]\n",
       "    </div>\n",
       "    "
      ],
      "text/plain": [
       "<IPython.core.display.HTML object>"
      ]
     },
     "metadata": {},
     "output_type": "display_data"
    },
    {
     "name": "stdout",
     "output_type": "stream",
     "text": [
      "Stopping early at epoch 8.0: No improvement in loss or accuracy for 3 evaluations.\n",
      "{'eval_loss': 0.5522353053092957, 'eval_accuracy': 0.7797001153402537, 'eval_runtime': 12.0795, 'eval_samples_per_second': 71.775, 'eval_steps_per_second': 9.024, 'epoch': 8.0}\n"
     ]
    },
    {
     "name": "stderr",
     "output_type": "stream",
     "text": [
      "[I 2024-06-16 21:20:45,352] Trial 23 finished with values: [0.5522353053092957, 0.7797001153402537] and parameters: {'lr': 0.0003198497851818602, 'batch': 4, 'accum': 2, 'dropout_rate': 0.311842510839078, 'weight_decay': 0.00044495852902112657, 'warmup_pct': 0.09157933131279024, 'lora_rank': 4, 'lora_init_scale': 0.0349471319445897, 'lora_scaling_rank': 2}. \n"
     ]
    },
    {
     "name": "stdout",
     "output_type": "stream",
     "text": [
      "History:  [{'loss': 0.6162, 'learning_rate': 0.000174646856221621, 'epoch': 1.0, 'step': 433}, {'eval_loss': 0.5139427185058594, 'eval_accuracy': 0.748558246828143, 'eval_runtime': 13.8051, 'eval_samples_per_second': 62.803, 'eval_steps_per_second': 7.896, 'epoch': 1.0, 'step': 433}, {'loss': 0.5341, 'learning_rate': 0.00031315798871495105, 'epoch': 2.0, 'step': 867}, {'eval_loss': 0.4877302050590515, 'eval_accuracy': 0.7716262975778547, 'eval_runtime': 12.2522, 'eval_samples_per_second': 70.763, 'eval_steps_per_second': 8.896, 'epoch': 2.0, 'step': 867}, {'loss': 0.5003, 'learning_rate': 0.000274001936415334, 'epoch': 3.0, 'step': 1300}, {'eval_loss': 0.4964606761932373, 'eval_accuracy': 0.7704728950403691, 'eval_runtime': 12.1313, 'eval_samples_per_second': 71.468, 'eval_steps_per_second': 8.985, 'epoch': 3.0, 'step': 1300}, {'loss': 0.4499, 'learning_rate': 0.00023475545443373173, 'epoch': 4.0, 'step': 1734}, {'eval_loss': 0.5118134617805481, 'eval_accuracy': 0.7773933102652826, 'eval_runtime': 12.3054, 'eval_samples_per_second': 70.457, 'eval_steps_per_second': 8.858, 'epoch': 4.0, 'step': 1734}, {'loss': 0.3954, 'learning_rate': 0.00019559940213411469, 'epoch': 5.0, 'step': 2167}, {'eval_loss': 0.5522353053092957, 'eval_accuracy': 0.7797001153402537, 'eval_runtime': 12.097, 'eval_samples_per_second': 71.671, 'eval_steps_per_second': 9.011, 'epoch': 5.0, 'step': 2167}, {'loss': 0.3338, 'learning_rate': 0.00015635292015251238, 'epoch': 6.0, 'step': 2601}, {'eval_loss': 0.6400648951530457, 'eval_accuracy': 0.7785467128027682, 'eval_runtime': 12.1082, 'eval_samples_per_second': 71.604, 'eval_steps_per_second': 9.002, 'epoch': 6.0, 'step': 2601}, {'loss': 0.3036, 'learning_rate': 0.00011719686785289535, 'epoch': 7.0, 'step': 3034}, {'eval_loss': 0.698879063129425, 'eval_accuracy': 0.7785467128027682, 'eval_runtime': 12.13, 'eval_samples_per_second': 71.476, 'eval_steps_per_second': 8.986, 'epoch': 7.0, 'step': 3034}, {'loss': 0.2598, 'learning_rate': 7.795038587129305e-05, 'epoch': 8.0, 'step': 3468}, {'eval_loss': 0.8032094836235046, 'eval_accuracy': 0.7785467128027682, 'eval_runtime': 12.1548, 'eval_samples_per_second': 71.33, 'eval_steps_per_second': 8.968, 'epoch': 8.0, 'step': 3468}, {'train_runtime': 1211.5033, 'train_samples_per_second': 28.626, 'train_steps_per_second': 3.574, 'total_flos': 6859707933988224.0, 'train_loss': 0.42410826765542214, 'epoch': 8.0, 'step': 3468}, {'eval_loss': 0.5522353053092957, 'eval_accuracy': 0.7797001153402537, 'eval_runtime': 12.0795, 'eval_samples_per_second': 71.775, 'eval_steps_per_second': 9.024, 'epoch': 8.0, 'step': 3468}]\n"
     ]
    },
    {
     "name": "stderr",
     "output_type": "stream",
     "text": [
      "/home/ubuntu/data/miniconda3/envs/finetune-dephos/lib/python3.9/site-packages/huggingface_hub/file_download.py:1132: FutureWarning: `resume_download` is deprecated and will be removed in version 1.0.0. Downloads always resume when possible. If you want to force a new download, use `force_download=True`.\n",
      "  warnings.warn(\n"
     ]
    },
    {
     "name": "stdout",
     "output_type": "stream",
     "text": [
      "ProtT5_Classfier\n",
      "Trainable Parameter: 1209193475.0\n",
      "ProtT5_LoRA_Classfier\n",
      "Trainable Parameter: 5525507.0\n",
      "\n"
     ]
    },
    {
     "name": "stderr",
     "output_type": "stream",
     "text": [
      "/home/ubuntu/data/miniconda3/envs/finetune-dephos/lib/python3.9/site-packages/accelerate/accelerator.py:446: FutureWarning: Passing the following arguments to `Accelerator` is deprecated and will be removed in version 1.0 of Accelerate: dict_keys(['dispatch_batches', 'split_batches']). Please pass an `accelerate.DataLoaderConfiguration` instead: \n",
      "dataloader_config = DataLoaderConfiguration(dispatch_batches=None, split_batches=False)\n",
      "  warnings.warn(\n"
     ]
    },
    {
     "data": {
      "text/html": [
       "\n",
       "    <div>\n",
       "      \n",
       "      <progress value='1080' max='1080' style='width:300px; height:20px; vertical-align: middle;'></progress>\n",
       "      [1080/1080 18:01, Epoch 9/10]\n",
       "    </div>\n",
       "    <table border=\"1\" class=\"dataframe\">\n",
       "  <thead>\n",
       " <tr style=\"text-align: left;\">\n",
       "      <th>Epoch</th>\n",
       "      <th>Training Loss</th>\n",
       "      <th>Validation Loss</th>\n",
       "      <th>Accuracy</th>\n",
       "    </tr>\n",
       "  </thead>\n",
       "  <tbody>\n",
       "    <tr>\n",
       "      <td>0</td>\n",
       "      <td>0.722500</td>\n",
       "      <td>0.676876</td>\n",
       "      <td>0.626298</td>\n",
       "    </tr>\n",
       "    <tr>\n",
       "      <td>2</td>\n",
       "      <td>0.687500</td>\n",
       "      <td>0.636341</td>\n",
       "      <td>0.712803</td>\n",
       "    </tr>\n",
       "    <tr>\n",
       "      <td>4</td>\n",
       "      <td>0.663800</td>\n",
       "      <td>0.615132</td>\n",
       "      <td>0.717416</td>\n",
       "    </tr>\n",
       "    <tr>\n",
       "      <td>6</td>\n",
       "      <td>0.644400</td>\n",
       "      <td>0.603991</td>\n",
       "      <td>0.717416</td>\n",
       "    </tr>\n",
       "    <tr>\n",
       "      <td>8</td>\n",
       "      <td>0.630300</td>\n",
       "      <td>0.599034</td>\n",
       "      <td>0.722030</td>\n",
       "    </tr>\n",
       "    <tr>\n",
       "      <td>9</td>\n",
       "      <td>0.633300</td>\n",
       "      <td>0.598271</td>\n",
       "      <td>0.720877</td>\n",
       "    </tr>\n",
       "  </tbody>\n",
       "</table><p>"
      ],
      "text/plain": [
       "<IPython.core.display.HTML object>"
      ]
     },
     "metadata": {},
     "output_type": "display_data"
    },
    {
     "name": "stdout",
     "output_type": "stream",
     "text": [
      "Saved improved model to ./model_output/finetuned_model_D_and_P_balance_dataset.pth\n",
      "Saved improved model to ./model_output/finetuned_model_D_and_P_balance_dataset.pth\n",
      "Saved improved model to ./model_output/finetuned_model_D_and_P_balance_dataset.pth\n",
      "Saved improved model to ./model_output/finetuned_model_D_and_P_balance_dataset.pth\n",
      "Saved improved model to ./model_output/finetuned_model_D_and_P_balance_dataset.pth\n",
      "Saved improved model to ./model_output/finetuned_model_D_and_P_balance_dataset.pth\n",
      "Saved improved model to ./model_output/finetuned_model_D_and_P_balance_dataset.pth\n",
      "Saved improved model to ./model_output/finetuned_model_D_and_P_balance_dataset.pth\n",
      "Saved improved model to ./model_output/finetuned_model_D_and_P_balance_dataset.pth\n",
      "Loaded best model from ./model_output/finetuned_model_D_and_P_balance_dataset.pth\n"
     ]
    },
    {
     "data": {
      "text/html": [
       "\n",
       "    <div>\n",
       "      \n",
       "      <progress value='109' max='109' style='width:300px; height:20px; vertical-align: middle;'></progress>\n",
       "      [109/109 00:11]\n",
       "    </div>\n",
       "    "
      ],
      "text/plain": [
       "<IPython.core.display.HTML object>"
      ]
     },
     "metadata": {},
     "output_type": "display_data"
    },
    {
     "name": "stdout",
     "output_type": "stream",
     "text": [
      "{'eval_loss': 0.5990336537361145, 'eval_accuracy': 0.7220299884659747, 'eval_runtime': 12.0664, 'eval_samples_per_second': 71.852, 'eval_steps_per_second': 9.033, 'epoch': 9.95}\n"
     ]
    },
    {
     "name": "stderr",
     "output_type": "stream",
     "text": [
      "[I 2024-06-16 21:39:40,985] Trial 24 finished with values: [0.5990336537361145, 0.7220299884659747] and parameters: {'lr': 2.6341069367238703e-05, 'batch': 8, 'accum': 4, 'dropout_rate': 0.8076835748405067, 'weight_decay': 0.0002452720685722943, 'warmup_pct': 0.022835850984960264, 'lora_rank': 8, 'lora_init_scale': 0.0002155081781119327, 'lora_scaling_rank': 1}. \n"
     ]
    },
    {
     "name": "stdout",
     "output_type": "stream",
     "text": [
      "History:  [{'loss': 0.7225, 'learning_rate': 2.607283037164564e-05, 'epoch': 1.0, 'step': 108}, {'eval_loss': 0.6768763065338135, 'eval_accuracy': 0.6262975778546713, 'eval_runtime': 13.7895, 'eval_samples_per_second': 62.874, 'eval_steps_per_second': 7.905, 'epoch': 1.0, 'step': 108}, {'loss': 0.6935, 'learning_rate': 2.3149025319681262e-05, 'epoch': 2.0, 'step': 217}, {'eval_loss': 0.6531267166137695, 'eval_accuracy': 0.7139561707035755, 'eval_runtime': 12.2851, 'eval_samples_per_second': 70.573, 'eval_steps_per_second': 8.873, 'epoch': 2.0, 'step': 217}, {'loss': 0.6875, 'learning_rate': 2.0252044167276192e-05, 'epoch': 3.0, 'step': 325}, {'eval_loss': 0.6363407373428345, 'eval_accuracy': 0.71280276816609, 'eval_runtime': 12.1157, 'eval_samples_per_second': 71.56, 'eval_steps_per_second': 8.997, 'epoch': 3.0, 'step': 325}, {'loss': 0.6605, 'learning_rate': 1.7328239115311814e-05, 'epoch': 4.0, 'step': 434}, {'eval_loss': 0.6236370801925659, 'eval_accuracy': 0.7162629757785467, 'eval_runtime': 12.0816, 'eval_samples_per_second': 71.762, 'eval_steps_per_second': 9.022, 'epoch': 4.0, 'step': 434}, {'loss': 0.6638, 'learning_rate': 1.4431257962906744e-05, 'epoch': 5.0, 'step': 542}, {'eval_loss': 0.6151316165924072, 'eval_accuracy': 0.7174163783160323, 'eval_runtime': 12.0803, 'eval_samples_per_second': 71.77, 'eval_steps_per_second': 9.023, 'epoch': 5.0, 'step': 542}, {'loss': 0.6474, 'learning_rate': 1.1507452910942366e-05, 'epoch': 6.0, 'step': 651}, {'eval_loss': 0.6092596650123596, 'eval_accuracy': 0.7151095732410612, 'eval_runtime': 12.0708, 'eval_samples_per_second': 71.826, 'eval_steps_per_second': 9.03, 'epoch': 6.0, 'step': 651}, {'loss': 0.6444, 'learning_rate': 8.610471758537295e-06, 'epoch': 7.0, 'step': 759}, {'eval_loss': 0.6039906740188599, 'eval_accuracy': 0.7174163783160323, 'eval_runtime': 12.0771, 'eval_samples_per_second': 71.789, 'eval_steps_per_second': 9.025, 'epoch': 7.0, 'step': 759}, {'loss': 0.6331, 'learning_rate': 5.686666706572918e-06, 'epoch': 8.0, 'step': 868}, {'eval_loss': 0.6007812023162842, 'eval_accuracy': 0.7197231833910035, 'eval_runtime': 12.1081, 'eval_samples_per_second': 71.605, 'eval_steps_per_second': 9.002, 'epoch': 8.0, 'step': 868}, {'loss': 0.6303, 'learning_rate': 2.7896855541678464e-06, 'epoch': 9.0, 'step': 976}, {'eval_loss': 0.5990336537361145, 'eval_accuracy': 0.7220299884659747, 'eval_runtime': 12.0895, 'eval_samples_per_second': 71.715, 'eval_steps_per_second': 9.016, 'epoch': 9.0, 'step': 976}, {'loss': 0.6333, 'learning_rate': 0.0, 'epoch': 9.95, 'step': 1080}, {'eval_loss': 0.5982711315155029, 'eval_accuracy': 0.720876585928489, 'eval_runtime': 12.0814, 'eval_samples_per_second': 71.763, 'eval_steps_per_second': 9.022, 'epoch': 9.95, 'step': 1080}, {'train_runtime': 1082.4376, 'train_samples_per_second': 32.039, 'train_steps_per_second': 0.998, 'total_flos': 8546449068090864.0, 'train_loss': 0.6617395330358434, 'epoch': 9.95, 'step': 1080}, {'eval_loss': 0.5990336537361145, 'eval_accuracy': 0.7220299884659747, 'eval_runtime': 12.0664, 'eval_samples_per_second': 71.852, 'eval_steps_per_second': 9.033, 'epoch': 9.95, 'step': 1080}]\n"
     ]
    },
    {
     "name": "stderr",
     "output_type": "stream",
     "text": [
      "/home/ubuntu/data/miniconda3/envs/finetune-dephos/lib/python3.9/site-packages/huggingface_hub/file_download.py:1132: FutureWarning: `resume_download` is deprecated and will be removed in version 1.0.0. Downloads always resume when possible. If you want to force a new download, use `force_download=True`.\n",
      "  warnings.warn(\n"
     ]
    },
    {
     "name": "stdout",
     "output_type": "stream",
     "text": [
      "ProtT5_Classfier\n",
      "Trainable Parameter: 1209193475.0\n",
      "ProtT5_LoRA_Classfier\n",
      "Trainable Parameter: 17813507.0\n",
      "\n"
     ]
    },
    {
     "name": "stderr",
     "output_type": "stream",
     "text": [
      "/home/ubuntu/data/miniconda3/envs/finetune-dephos/lib/python3.9/site-packages/accelerate/accelerator.py:446: FutureWarning: Passing the following arguments to `Accelerator` is deprecated and will be removed in version 1.0 of Accelerate: dict_keys(['dispatch_batches', 'split_batches']). Please pass an `accelerate.DataLoaderConfiguration` instead: \n",
      "dataloader_config = DataLoaderConfiguration(dispatch_batches=None, split_batches=False)\n",
      "  warnings.warn(\n"
     ]
    },
    {
     "data": {
      "text/html": [
       "\n",
       "    <div>\n",
       "      \n",
       "      <progress value='8670' max='8670' style='width:300px; height:20px; vertical-align: middle;'></progress>\n",
       "      [8670/8670 40:16, Epoch 10/10]\n",
       "    </div>\n",
       "    <table border=\"1\" class=\"dataframe\">\n",
       "  <thead>\n",
       " <tr style=\"text-align: left;\">\n",
       "      <th>Epoch</th>\n",
       "      <th>Training Loss</th>\n",
       "      <th>Validation Loss</th>\n",
       "      <th>Accuracy</th>\n",
       "    </tr>\n",
       "  </thead>\n",
       "  <tbody>\n",
       "    <tr>\n",
       "      <td>1</td>\n",
       "      <td>0.682500</td>\n",
       "      <td>0.651746</td>\n",
       "      <td>0.705882</td>\n",
       "    </tr>\n",
       "    <tr>\n",
       "      <td>2</td>\n",
       "      <td>0.621300</td>\n",
       "      <td>0.582316</td>\n",
       "      <td>0.711649</td>\n",
       "    </tr>\n",
       "    <tr>\n",
       "      <td>3</td>\n",
       "      <td>0.564000</td>\n",
       "      <td>0.539301</td>\n",
       "      <td>0.730104</td>\n",
       "    </tr>\n",
       "    <tr>\n",
       "      <td>4</td>\n",
       "      <td>0.531300</td>\n",
       "      <td>0.511163</td>\n",
       "      <td>0.758939</td>\n",
       "    </tr>\n",
       "    <tr>\n",
       "      <td>5</td>\n",
       "      <td>0.521700</td>\n",
       "      <td>0.505596</td>\n",
       "      <td>0.761246</td>\n",
       "    </tr>\n",
       "    <tr>\n",
       "      <td>6</td>\n",
       "      <td>0.506600</td>\n",
       "      <td>0.501802</td>\n",
       "      <td>0.767013</td>\n",
       "    </tr>\n",
       "    <tr>\n",
       "      <td>7</td>\n",
       "      <td>0.498600</td>\n",
       "      <td>0.499873</td>\n",
       "      <td>0.768166</td>\n",
       "    </tr>\n",
       "    <tr>\n",
       "      <td>8</td>\n",
       "      <td>0.490500</td>\n",
       "      <td>0.502653</td>\n",
       "      <td>0.770473</td>\n",
       "    </tr>\n",
       "    <tr>\n",
       "      <td>9</td>\n",
       "      <td>0.490700</td>\n",
       "      <td>0.503599</td>\n",
       "      <td>0.768166</td>\n",
       "    </tr>\n",
       "    <tr>\n",
       "      <td>10</td>\n",
       "      <td>0.485200</td>\n",
       "      <td>0.504707</td>\n",
       "      <td>0.771626</td>\n",
       "    </tr>\n",
       "  </tbody>\n",
       "</table><p>"
      ],
      "text/plain": [
       "<IPython.core.display.HTML object>"
      ]
     },
     "metadata": {},
     "output_type": "display_data"
    },
    {
     "name": "stdout",
     "output_type": "stream",
     "text": [
      "Saved improved model to ./model_output/finetuned_model_D_and_P_balance_dataset.pth\n",
      "Saved improved model to ./model_output/finetuned_model_D_and_P_balance_dataset.pth\n",
      "Saved improved model to ./model_output/finetuned_model_D_and_P_balance_dataset.pth\n",
      "Saved improved model to ./model_output/finetuned_model_D_and_P_balance_dataset.pth\n",
      "Saved improved model to ./model_output/finetuned_model_D_and_P_balance_dataset.pth\n",
      "Saved improved model to ./model_output/finetuned_model_D_and_P_balance_dataset.pth\n",
      "Saved improved model to ./model_output/finetuned_model_D_and_P_balance_dataset.pth\n",
      "Saved improved model to ./model_output/finetuned_model_D_and_P_balance_dataset.pth\n",
      "Saved improved model to ./model_output/finetuned_model_D_and_P_balance_dataset.pth\n",
      "Loaded best model from ./model_output/finetuned_model_D_and_P_balance_dataset.pth\n"
     ]
    },
    {
     "data": {
      "text/html": [
       "\n",
       "    <div>\n",
       "      \n",
       "      <progress value='109' max='109' style='width:300px; height:20px; vertical-align: middle;'></progress>\n",
       "      [109/109 00:11]\n",
       "    </div>\n",
       "    "
      ],
      "text/plain": [
       "<IPython.core.display.HTML object>"
      ]
     },
     "metadata": {},
     "output_type": "display_data"
    },
    {
     "name": "stdout",
     "output_type": "stream",
     "text": [
      "{'eval_loss': 0.5047073364257812, 'eval_accuracy': 0.7716262975778547, 'eval_runtime': 12.1542, 'eval_samples_per_second': 71.333, 'eval_steps_per_second': 8.968, 'epoch': 10.0}\n",
      "History:  [{'loss': 0.6825, 'learning_rate': 6.412546116415441e-06, 'epoch': 1.0, 'step': 867}, {'eval_loss': 0.6517459154129028, 'eval_accuracy': 0.7058823529411765, 'eval_runtime': 13.9151, 'eval_samples_per_second': 62.307, 'eval_steps_per_second': 7.833, 'epoch': 1.0, 'step': 867}, {'loss': 0.6213, 'learning_rate': 1.2825092232830882e-05, 'epoch': 2.0, 'step': 1734}, {'eval_loss': 0.5823163390159607, 'eval_accuracy': 0.7116493656286044, 'eval_runtime': 12.3779, 'eval_samples_per_second': 70.044, 'eval_steps_per_second': 8.806, 'epoch': 2.0, 'step': 1734}, {'loss': 0.564, 'learning_rate': 1.9237638349246322e-05, 'epoch': 3.0, 'step': 2601}, {'eval_loss': 0.539301335811615, 'eval_accuracy': 0.7301038062283737, 'eval_runtime': 12.2118, 'eval_samples_per_second': 70.997, 'eval_steps_per_second': 8.926, 'epoch': 3.0, 'step': 2601}, {'loss': 0.5313, 'learning_rate': 2.5650184465661763e-05, 'epoch': 4.0, 'step': 3468}, {'eval_loss': 0.5111632347106934, 'eval_accuracy': 0.7589388696655133, 'eval_runtime': 12.2821, 'eval_samples_per_second': 70.591, 'eval_steps_per_second': 8.875, 'epoch': 4.0, 'step': 3468}, {'loss': 0.5217, 'learning_rate': 2.7297481706329664e-05, 'epoch': 5.0, 'step': 4335}, {'eval_loss': 0.5055961608886719, 'eval_accuracy': 0.7612456747404844, 'eval_runtime': 12.2069, 'eval_samples_per_second': 71.025, 'eval_steps_per_second': 8.929, 'epoch': 5.0, 'step': 4335}, {'loss': 0.5066, 'learning_rate': 2.183798536506373e-05, 'epoch': 6.0, 'step': 5202}, {'eval_loss': 0.5018021464347839, 'eval_accuracy': 0.7670126874279123, 'eval_runtime': 12.2112, 'eval_samples_per_second': 71.001, 'eval_steps_per_second': 8.926, 'epoch': 6.0, 'step': 5202}, {'loss': 0.4986, 'learning_rate': 1.63784890237978e-05, 'epoch': 7.0, 'step': 6069}, {'eval_loss': 0.49987301230430603, 'eval_accuracy': 0.7681660899653979, 'eval_runtime': 12.1828, 'eval_samples_per_second': 71.166, 'eval_steps_per_second': 8.947, 'epoch': 7.0, 'step': 6069}, {'loss': 0.4905, 'learning_rate': 1.0918992682531864e-05, 'epoch': 8.0, 'step': 6936}, {'eval_loss': 0.5026528239250183, 'eval_accuracy': 0.7704728950403691, 'eval_runtime': 12.2054, 'eval_samples_per_second': 71.034, 'eval_steps_per_second': 8.93, 'epoch': 8.0, 'step': 6936}, {'loss': 0.4907, 'learning_rate': 5.459496341265932e-06, 'epoch': 9.0, 'step': 7803}, {'eval_loss': 0.5035994648933411, 'eval_accuracy': 0.7681660899653979, 'eval_runtime': 12.2109, 'eval_samples_per_second': 71.002, 'eval_steps_per_second': 8.926, 'epoch': 9.0, 'step': 7803}, {'loss': 0.4852, 'learning_rate': 0.0, 'epoch': 10.0, 'step': 8670}, {'eval_loss': 0.5047073364257812, 'eval_accuracy': 0.7716262975778547, 'eval_runtime': 12.1798, 'eval_samples_per_second': 71.183, 'eval_steps_per_second': 8.949, 'epoch': 10.0, 'step': 8670}, {'train_runtime': 2416.4562, 'train_samples_per_second': 14.352, 'train_steps_per_second': 3.588, 'total_flos': 8672001175968480.0, 'train_loss': 0.5392434442469543, 'epoch': 10.0, 'step': 8670}, {'eval_loss': 0.5047073364257812, 'eval_accuracy': 0.7716262975778547, 'eval_runtime': 12.1542, 'eval_samples_per_second': 71.333, 'eval_steps_per_second': 8.968, 'epoch': 10.0, 'step': 8670}]\n"
     ]
    },
    {
     "name": "stderr",
     "output_type": "stream",
     "text": [
      "[I 2024-06-16 22:20:51,531] Trial 25 finished with values: [0.5047073364257812, 0.7716262975778547] and parameters: {'lr': 2.9488836639156127e-05, 'batch': 2, 'accum': 2, 'dropout_rate': 0.2066959589161308, 'weight_decay': 3.152012130710034e-05, 'warmup_pct': 0.2299453124987169, 'lora_rank': 32, 'lora_init_scale': 0.057397598959444816, 'lora_scaling_rank': 2}. \n",
      "/home/ubuntu/data/miniconda3/envs/finetune-dephos/lib/python3.9/site-packages/huggingface_hub/file_download.py:1132: FutureWarning: `resume_download` is deprecated and will be removed in version 1.0.0. Downloads always resume when possible. If you want to force a new download, use `force_download=True`.\n",
      "  warnings.warn(\n"
     ]
    },
    {
     "name": "stdout",
     "output_type": "stream",
     "text": [
      "ProtT5_Classfier\n",
      "Trainable Parameter: 1209193475.0\n",
      "ProtT5_LoRA_Classfier\n",
      "Trainable Parameter: 7491587.0\n",
      "\n"
     ]
    },
    {
     "name": "stderr",
     "output_type": "stream",
     "text": [
      "/home/ubuntu/data/miniconda3/envs/finetune-dephos/lib/python3.9/site-packages/accelerate/accelerator.py:446: FutureWarning: Passing the following arguments to `Accelerator` is deprecated and will be removed in version 1.0 of Accelerate: dict_keys(['dispatch_batches', 'split_batches']). Please pass an `accelerate.DataLoaderConfiguration` instead: \n",
      "dataloader_config = DataLoaderConfiguration(dispatch_batches=None, split_batches=False)\n",
      "  warnings.warn(\n"
     ]
    },
    {
     "data": {
      "text/html": [
       "\n",
       "    <div>\n",
       "      \n",
       "      <progress value='8670' max='8670' style='width:300px; height:20px; vertical-align: middle;'></progress>\n",
       "      [8670/8670 1:03:11, Epoch 10/10]\n",
       "    </div>\n",
       "    <table border=\"1\" class=\"dataframe\">\n",
       "  <thead>\n",
       " <tr style=\"text-align: left;\">\n",
       "      <th>Epoch</th>\n",
       "      <th>Training Loss</th>\n",
       "      <th>Validation Loss</th>\n",
       "      <th>Accuracy</th>\n",
       "    </tr>\n",
       "  </thead>\n",
       "  <tbody>\n",
       "    <tr>\n",
       "      <td>1</td>\n",
       "      <td>0.695800</td>\n",
       "      <td>0.686429</td>\n",
       "      <td>0.566321</td>\n",
       "    </tr>\n",
       "    <tr>\n",
       "      <td>2</td>\n",
       "      <td>0.676100</td>\n",
       "      <td>0.659804</td>\n",
       "      <td>0.702422</td>\n",
       "    </tr>\n",
       "    <tr>\n",
       "      <td>3</td>\n",
       "      <td>0.648300</td>\n",
       "      <td>0.626751</td>\n",
       "      <td>0.713956</td>\n",
       "    </tr>\n",
       "    <tr>\n",
       "      <td>4</td>\n",
       "      <td>0.618900</td>\n",
       "      <td>0.595146</td>\n",
       "      <td>0.718570</td>\n",
       "    </tr>\n",
       "    <tr>\n",
       "      <td>5</td>\n",
       "      <td>0.586400</td>\n",
       "      <td>0.567764</td>\n",
       "      <td>0.718570</td>\n",
       "    </tr>\n",
       "    <tr>\n",
       "      <td>6</td>\n",
       "      <td>0.562100</td>\n",
       "      <td>0.547778</td>\n",
       "      <td>0.732411</td>\n",
       "    </tr>\n",
       "    <tr>\n",
       "      <td>7</td>\n",
       "      <td>0.546700</td>\n",
       "      <td>0.532136</td>\n",
       "      <td>0.748558</td>\n",
       "    </tr>\n",
       "    <tr>\n",
       "      <td>8</td>\n",
       "      <td>0.540700</td>\n",
       "      <td>0.520105</td>\n",
       "      <td>0.755479</td>\n",
       "    </tr>\n",
       "    <tr>\n",
       "      <td>9</td>\n",
       "      <td>0.528200</td>\n",
       "      <td>0.512365</td>\n",
       "      <td>0.764706</td>\n",
       "    </tr>\n",
       "    <tr>\n",
       "      <td>10</td>\n",
       "      <td>0.520800</td>\n",
       "      <td>0.510080</td>\n",
       "      <td>0.765859</td>\n",
       "    </tr>\n",
       "  </tbody>\n",
       "</table><p>"
      ],
      "text/plain": [
       "<IPython.core.display.HTML object>"
      ]
     },
     "metadata": {},
     "output_type": "display_data"
    },
    {
     "name": "stdout",
     "output_type": "stream",
     "text": [
      "Saved improved model to ./model_output/finetuned_model_D_and_P_balance_dataset.pth\n",
      "Saved improved model to ./model_output/finetuned_model_D_and_P_balance_dataset.pth\n",
      "Saved improved model to ./model_output/finetuned_model_D_and_P_balance_dataset.pth\n",
      "Saved improved model to ./model_output/finetuned_model_D_and_P_balance_dataset.pth\n",
      "Saved improved model to ./model_output/finetuned_model_D_and_P_balance_dataset.pth\n",
      "Saved improved model to ./model_output/finetuned_model_D_and_P_balance_dataset.pth\n",
      "Saved improved model to ./model_output/finetuned_model_D_and_P_balance_dataset.pth\n",
      "Saved improved model to ./model_output/finetuned_model_D_and_P_balance_dataset.pth\n",
      "Saved improved model to ./model_output/finetuned_model_D_and_P_balance_dataset.pth\n",
      "Saved improved model to ./model_output/finetuned_model_D_and_P_balance_dataset.pth\n",
      "Loaded best model from ./model_output/finetuned_model_D_and_P_balance_dataset.pth\n"
     ]
    },
    {
     "data": {
      "text/html": [
       "\n",
       "    <div>\n",
       "      \n",
       "      <progress value='109' max='109' style='width:300px; height:20px; vertical-align: middle;'></progress>\n",
       "      [109/109 00:11]\n",
       "    </div>\n",
       "    "
      ],
      "text/plain": [
       "<IPython.core.display.HTML object>"
      ]
     },
     "metadata": {},
     "output_type": "display_data"
    },
    {
     "name": "stdout",
     "output_type": "stream",
     "text": [
      "{'eval_loss': 0.5100799202919006, 'eval_accuracy': 0.7658592848904268, 'eval_runtime': 12.119, 'eval_samples_per_second': 71.541, 'eval_steps_per_second': 8.994, 'epoch': 10.0}\n"
     ]
    },
    {
     "name": "stderr",
     "output_type": "stream",
     "text": [
      "[I 2024-06-16 23:24:56,875] Trial 26 finished with values: [0.5100799202919006, 0.7658592848904268] and parameters: {'lr': 1.2950330583920711e-05, 'batch': 1, 'accum': 4, 'dropout_rate': 0.34356337977240714, 'weight_decay': 1.014633767671602e-05, 'warmup_pct': 0.21045539786396336, 'lora_rank': 12, 'lora_init_scale': 0.00021823609442865146, 'lora_scaling_rank': 1}. \n"
     ]
    },
    {
     "name": "stdout",
     "output_type": "stream",
     "text": [
      "History:  [{'loss': 0.6958, 'learning_rate': 1.5384950145600515e-06, 'epoch': 1.0, 'step': 867}, {'eval_loss': 0.686428964138031, 'eval_accuracy': 0.566320645905421, 'eval_runtime': 13.8646, 'eval_samples_per_second': 62.533, 'eval_steps_per_second': 7.862, 'epoch': 1.0, 'step': 867}, {'loss': 0.6761, 'learning_rate': 3.076990029120103e-06, 'epoch': 2.0, 'step': 1734}, {'eval_loss': 0.6598038077354431, 'eval_accuracy': 0.7024221453287197, 'eval_runtime': 12.1982, 'eval_samples_per_second': 71.076, 'eval_steps_per_second': 8.936, 'epoch': 2.0, 'step': 1734}, {'loss': 0.6483, 'learning_rate': 4.615485043680155e-06, 'epoch': 3.0, 'step': 2601}, {'eval_loss': 0.626750648021698, 'eval_accuracy': 0.7139561707035755, 'eval_runtime': 12.3187, 'eval_samples_per_second': 70.381, 'eval_steps_per_second': 8.848, 'epoch': 3.0, 'step': 2601}, {'loss': 0.6189, 'learning_rate': 6.153980058240206e-06, 'epoch': 4.0, 'step': 3468}, {'eval_loss': 0.5951456427574158, 'eval_accuracy': 0.7185697808535179, 'eval_runtime': 12.1795, 'eval_samples_per_second': 71.185, 'eval_steps_per_second': 8.949, 'epoch': 4.0, 'step': 3468}, {'loss': 0.5864, 'learning_rate': 7.692475072800259e-06, 'epoch': 5.0, 'step': 4335}, {'eval_loss': 0.5677642226219177, 'eval_accuracy': 0.7185697808535179, 'eval_runtime': 12.2632, 'eval_samples_per_second': 70.7, 'eval_steps_per_second': 8.888, 'epoch': 5.0, 'step': 4335}, {'loss': 0.5621, 'learning_rate': 9.23097008736031e-06, 'epoch': 6.0, 'step': 5202}, {'eval_loss': 0.5477780103683472, 'eval_accuracy': 0.7324106113033448, 'eval_runtime': 12.1948, 'eval_samples_per_second': 71.096, 'eval_steps_per_second': 8.938, 'epoch': 6.0, 'step': 5202}, {'loss': 0.5467, 'learning_rate': 1.0769465101920361e-05, 'epoch': 7.0, 'step': 6069}, {'eval_loss': 0.5321357846260071, 'eval_accuracy': 0.748558246828143, 'eval_runtime': 12.1326, 'eval_samples_per_second': 71.46, 'eval_steps_per_second': 8.984, 'epoch': 7.0, 'step': 6069}, {'loss': 0.5407, 'learning_rate': 1.2307960116480412e-05, 'epoch': 8.0, 'step': 6936}, {'eval_loss': 0.5201047658920288, 'eval_accuracy': 0.7554786620530565, 'eval_runtime': 12.1666, 'eval_samples_per_second': 71.261, 'eval_steps_per_second': 8.959, 'epoch': 8.0, 'step': 6936}, {'loss': 0.5282, 'learning_rate': 8.18362727132599e-06, 'epoch': 9.0, 'step': 7803}, {'eval_loss': 0.5123647451400757, 'eval_accuracy': 0.7647058823529411, 'eval_runtime': 12.1304, 'eval_samples_per_second': 71.473, 'eval_steps_per_second': 8.986, 'epoch': 9.0, 'step': 7803}, {'loss': 0.5208, 'learning_rate': 0.0, 'epoch': 10.0, 'step': 8670}, {'eval_loss': 0.5100799202919006, 'eval_accuracy': 0.7658592848904268, 'eval_runtime': 12.1937, 'eval_samples_per_second': 71.102, 'eval_steps_per_second': 8.939, 'epoch': 10.0, 'step': 8670}, {'train_runtime': 3792.025, 'train_samples_per_second': 9.146, 'train_steps_per_second': 2.286, 'total_flos': 8598976482106080.0, 'train_loss': 0.5924025239691465, 'epoch': 10.0, 'step': 8670}, {'eval_loss': 0.5100799202919006, 'eval_accuracy': 0.7658592848904268, 'eval_runtime': 12.119, 'eval_samples_per_second': 71.541, 'eval_steps_per_second': 8.994, 'epoch': 10.0, 'step': 8670}]\n"
     ]
    },
    {
     "name": "stderr",
     "output_type": "stream",
     "text": [
      "/home/ubuntu/data/miniconda3/envs/finetune-dephos/lib/python3.9/site-packages/huggingface_hub/file_download.py:1132: FutureWarning: `resume_download` is deprecated and will be removed in version 1.0.0. Downloads always resume when possible. If you want to force a new download, use `force_download=True`.\n",
      "  warnings.warn(\n"
     ]
    },
    {
     "name": "stdout",
     "output_type": "stream",
     "text": [
      "ProtT5_Classfier\n",
      "Trainable Parameter: 1209193475.0\n",
      "ProtT5_LoRA_Classfier\n",
      "Trainable Parameter: 11915267.0\n",
      "\n"
     ]
    },
    {
     "name": "stderr",
     "output_type": "stream",
     "text": [
      "/home/ubuntu/data/miniconda3/envs/finetune-dephos/lib/python3.9/site-packages/accelerate/accelerator.py:446: FutureWarning: Passing the following arguments to `Accelerator` is deprecated and will be removed in version 1.0 of Accelerate: dict_keys(['dispatch_batches', 'split_batches']). Please pass an `accelerate.DataLoaderConfiguration` instead: \n",
      "dataloader_config = DataLoaderConfiguration(dispatch_batches=None, split_batches=False)\n",
      "  warnings.warn(\n"
     ]
    },
    {
     "data": {
      "text/html": [
       "\n",
       "    <div>\n",
       "      \n",
       "      <progress value='8670' max='8670' style='width:300px; height:20px; vertical-align: middle;'></progress>\n",
       "      [8670/8670 1:05:01, Epoch 10/10]\n",
       "    </div>\n",
       "    <table border=\"1\" class=\"dataframe\">\n",
       "  <thead>\n",
       " <tr style=\"text-align: left;\">\n",
       "      <th>Epoch</th>\n",
       "      <th>Training Loss</th>\n",
       "      <th>Validation Loss</th>\n",
       "      <th>Accuracy</th>\n",
       "    </tr>\n",
       "  </thead>\n",
       "  <tbody>\n",
       "    <tr>\n",
       "      <td>1</td>\n",
       "      <td>0.605400</td>\n",
       "      <td>0.505748</td>\n",
       "      <td>0.754325</td>\n",
       "    </tr>\n",
       "    <tr>\n",
       "      <td>2</td>\n",
       "      <td>0.561600</td>\n",
       "      <td>0.537317</td>\n",
       "      <td>0.765859</td>\n",
       "    </tr>\n",
       "    <tr>\n",
       "      <td>3</td>\n",
       "      <td>0.526400</td>\n",
       "      <td>0.565148</td>\n",
       "      <td>0.757785</td>\n",
       "    </tr>\n",
       "    <tr>\n",
       "      <td>4</td>\n",
       "      <td>0.505900</td>\n",
       "      <td>0.585615</td>\n",
       "      <td>0.775087</td>\n",
       "    </tr>\n",
       "    <tr>\n",
       "      <td>5</td>\n",
       "      <td>0.476600</td>\n",
       "      <td>0.568846</td>\n",
       "      <td>0.777393</td>\n",
       "    </tr>\n",
       "    <tr>\n",
       "      <td>6</td>\n",
       "      <td>0.428900</td>\n",
       "      <td>0.992668</td>\n",
       "      <td>0.777393</td>\n",
       "    </tr>\n",
       "    <tr>\n",
       "      <td>7</td>\n",
       "      <td>0.434100</td>\n",
       "      <td>0.924367</td>\n",
       "      <td>0.778547</td>\n",
       "    </tr>\n",
       "    <tr>\n",
       "      <td>8</td>\n",
       "      <td>0.330800</td>\n",
       "      <td>1.173546</td>\n",
       "      <td>0.767013</td>\n",
       "    </tr>\n",
       "    <tr>\n",
       "      <td>9</td>\n",
       "      <td>0.223000</td>\n",
       "      <td>1.277030</td>\n",
       "      <td>0.785467</td>\n",
       "    </tr>\n",
       "    <tr>\n",
       "      <td>10</td>\n",
       "      <td>0.119900</td>\n",
       "      <td>1.514849</td>\n",
       "      <td>0.783160</td>\n",
       "    </tr>\n",
       "  </tbody>\n",
       "</table><p>"
      ],
      "text/plain": [
       "<IPython.core.display.HTML object>"
      ]
     },
     "metadata": {},
     "output_type": "display_data"
    },
    {
     "name": "stdout",
     "output_type": "stream",
     "text": [
      "Saved improved model to ./model_output/finetuned_model_D_and_P_balance_dataset.pth\n",
      "Saved improved model to ./model_output/finetuned_model_D_and_P_balance_dataset.pth\n",
      "Saved improved model to ./model_output/finetuned_model_D_and_P_balance_dataset.pth\n",
      "Saved improved model to ./model_output/finetuned_model_D_and_P_balance_dataset.pth\n",
      "Saved improved model to ./model_output/finetuned_model_D_and_P_balance_dataset.pth\n",
      "Saved improved model to ./model_output/finetuned_model_D_and_P_balance_dataset.pth\n",
      "Loaded best model from ./model_output/finetuned_model_D_and_P_balance_dataset.pth\n"
     ]
    },
    {
     "data": {
      "text/html": [
       "\n",
       "    <div>\n",
       "      \n",
       "      <progress value='109' max='109' style='width:300px; height:20px; vertical-align: middle;'></progress>\n",
       "      [109/109 00:11]\n",
       "    </div>\n",
       "    "
      ],
      "text/plain": [
       "<IPython.core.display.HTML object>"
      ]
     },
     "metadata": {},
     "output_type": "display_data"
    },
    {
     "name": "stdout",
     "output_type": "stream",
     "text": [
      "{'eval_loss': 1.2770304679870605, 'eval_accuracy': 0.7854671280276817, 'eval_runtime': 12.2436, 'eval_samples_per_second': 70.812, 'eval_steps_per_second': 8.903, 'epoch': 10.0}\n"
     ]
    },
    {
     "name": "stderr",
     "output_type": "stream",
     "text": [
      "[I 2024-06-17 00:30:52,410] Trial 27 finished with values: [1.2770304679870605, 0.7854671280276817] and parameters: {'lr': 0.0010324348512860502, 'batch': 1, 'accum': 4, 'dropout_rate': 0.25975794671734587, 'weight_decay': 2.5566039657984235e-05, 'warmup_pct': 0.16846290950398396, 'lora_rank': 16, 'lora_init_scale': 0.00042970877502568024, 'lora_scaling_rank': 6}. \n"
     ]
    },
    {
     "name": "stdout",
     "output_type": "stream",
     "text": [
      "History:  [{'loss': 0.6054, 'learning_rate': 0.00015322167341064798, 'epoch': 1.0, 'step': 867}, {'eval_loss': 0.5057482719421387, 'eval_accuracy': 0.754325259515571, 'eval_runtime': 13.8605, 'eval_samples_per_second': 62.552, 'eval_steps_per_second': 7.864, 'epoch': 1.0, 'step': 867}, {'loss': 0.5616, 'learning_rate': 0.00030644334682129596, 'epoch': 2.0, 'step': 1734}, {'eval_loss': 0.5373168587684631, 'eval_accuracy': 0.7658592848904268, 'eval_runtime': 12.2161, 'eval_samples_per_second': 70.972, 'eval_steps_per_second': 8.923, 'epoch': 2.0, 'step': 1734}, {'loss': 0.5264, 'learning_rate': 0.00045966502023194394, 'epoch': 3.0, 'step': 2601}, {'eval_loss': 0.5651479959487915, 'eval_accuracy': 0.7577854671280276, 'eval_runtime': 12.1883, 'eval_samples_per_second': 71.134, 'eval_steps_per_second': 8.943, 'epoch': 3.0, 'step': 2601}, {'loss': 0.5059, 'learning_rate': 0.0006128866936425919, 'epoch': 4.0, 'step': 3468}, {'eval_loss': 0.5856146216392517, 'eval_accuracy': 0.7750865051903114, 'eval_runtime': 12.1821, 'eval_samples_per_second': 71.17, 'eval_steps_per_second': 8.948, 'epoch': 4.0, 'step': 3468}, {'loss': 0.4766, 'learning_rate': 0.0007661083670532398, 'epoch': 5.0, 'step': 4335}, {'eval_loss': 0.5688461661338806, 'eval_accuracy': 0.7773933102652826, 'eval_runtime': 12.2101, 'eval_samples_per_second': 71.007, 'eval_steps_per_second': 8.927, 'epoch': 5.0, 'step': 4335}, {'loss': 0.4289, 'learning_rate': 0.0009193300404638879, 'epoch': 6.0, 'step': 5202}, {'eval_loss': 0.9926683306694031, 'eval_accuracy': 0.7773933102652826, 'eval_runtime': 12.1826, 'eval_samples_per_second': 71.167, 'eval_steps_per_second': 8.947, 'epoch': 6.0, 'step': 5202}, {'loss': 0.4341, 'learning_rate': 0.0009495626054437823, 'epoch': 7.0, 'step': 6069}, {'eval_loss': 0.9243665337562561, 'eval_accuracy': 0.7785467128027682, 'eval_runtime': 12.2321, 'eval_samples_per_second': 70.879, 'eval_steps_per_second': 8.911, 'epoch': 7.0, 'step': 6069}, {'loss': 0.3308, 'learning_rate': 0.0006330417369625216, 'epoch': 8.0, 'step': 6936}, {'eval_loss': 1.1735460758209229, 'eval_accuracy': 0.7670126874279123, 'eval_runtime': 12.1814, 'eval_samples_per_second': 71.174, 'eval_steps_per_second': 8.948, 'epoch': 8.0, 'step': 6936}, {'loss': 0.223, 'learning_rate': 0.0003165208684812608, 'epoch': 9.0, 'step': 7803}, {'eval_loss': 1.2770304679870605, 'eval_accuracy': 0.7854671280276817, 'eval_runtime': 12.2124, 'eval_samples_per_second': 70.993, 'eval_steps_per_second': 8.925, 'epoch': 9.0, 'step': 7803}, {'loss': 0.1199, 'learning_rate': 0.0, 'epoch': 10.0, 'step': 8670}, {'eval_loss': 1.514849066734314, 'eval_accuracy': 0.7831603229527105, 'eval_runtime': 12.1658, 'eval_samples_per_second': 71.265, 'eval_steps_per_second': 8.96, 'epoch': 10.0, 'step': 8670}, {'train_runtime': 3902.1759, 'train_samples_per_second': 8.887, 'train_steps_per_second': 2.222, 'total_flos': 8630272779475680.0, 'train_loss': 0.42127388994861503, 'epoch': 10.0, 'step': 8670}, {'eval_loss': 1.2770304679870605, 'eval_accuracy': 0.7854671280276817, 'eval_runtime': 12.2436, 'eval_samples_per_second': 70.812, 'eval_steps_per_second': 8.903, 'epoch': 10.0, 'step': 8670}]\n"
     ]
    },
    {
     "name": "stderr",
     "output_type": "stream",
     "text": [
      "/home/ubuntu/data/miniconda3/envs/finetune-dephos/lib/python3.9/site-packages/huggingface_hub/file_download.py:1132: FutureWarning: `resume_download` is deprecated and will be removed in version 1.0.0. Downloads always resume when possible. If you want to force a new download, use `force_download=True`.\n",
      "  warnings.warn(\n"
     ]
    },
    {
     "name": "stdout",
     "output_type": "stream",
     "text": [
      "ProtT5_Classfier\n",
      "Trainable Parameter: 1209193475.0\n",
      "ProtT5_LoRA_Classfier\n",
      "Trainable Parameter: 3559427.0\n",
      "\n"
     ]
    },
    {
     "name": "stderr",
     "output_type": "stream",
     "text": [
      "/home/ubuntu/data/miniconda3/envs/finetune-dephos/lib/python3.9/site-packages/accelerate/accelerator.py:446: FutureWarning: Passing the following arguments to `Accelerator` is deprecated and will be removed in version 1.0 of Accelerate: dict_keys(['dispatch_batches', 'split_batches']). Please pass an `accelerate.DataLoaderConfiguration` instead: \n",
      "dataloader_config = DataLoaderConfiguration(dispatch_batches=None, split_batches=False)\n",
      "  warnings.warn(\n"
     ]
    },
    {
     "data": {
      "text/html": [
       "\n",
       "    <div>\n",
       "      \n",
       "      <progress value='3034' max='4330' style='width:300px; height:20px; vertical-align: middle;'></progress>\n",
       "      [3034/4330 43:23 < 18:32, 1.16 it/s, Epoch 6/10]\n",
       "    </div>\n",
       "    <table border=\"1\" class=\"dataframe\">\n",
       "  <thead>\n",
       " <tr style=\"text-align: left;\">\n",
       "      <th>Epoch</th>\n",
       "      <th>Training Loss</th>\n",
       "      <th>Validation Loss</th>\n",
       "      <th>Accuracy</th>\n",
       "    </tr>\n",
       "  </thead>\n",
       "  <tbody>\n",
       "    <tr>\n",
       "      <td>0</td>\n",
       "      <td>0.664900</td>\n",
       "      <td>0.585309</td>\n",
       "      <td>0.709343</td>\n",
       "    </tr>\n",
       "    <tr>\n",
       "      <td>2</td>\n",
       "      <td>0.536500</td>\n",
       "      <td>0.502088</td>\n",
       "      <td>0.765859</td>\n",
       "    </tr>\n",
       "    <tr>\n",
       "      <td>4</td>\n",
       "      <td>0.494700</td>\n",
       "      <td>0.522103</td>\n",
       "      <td>0.764706</td>\n",
       "    </tr>\n",
       "    <tr>\n",
       "      <td>6</td>\n",
       "      <td>0.406900</td>\n",
       "      <td>0.603018</td>\n",
       "      <td>0.764706</td>\n",
       "    </tr>\n",
       "  </tbody>\n",
       "</table><p>"
      ],
      "text/plain": [
       "<IPython.core.display.HTML object>"
      ]
     },
     "metadata": {},
     "output_type": "display_data"
    },
    {
     "name": "stdout",
     "output_type": "stream",
     "text": [
      "Saved improved model to ./model_output/finetuned_model_D_and_P_balance_dataset.pth\n",
      "Saved improved model to ./model_output/finetuned_model_D_and_P_balance_dataset.pth\n",
      "Saved improved model to ./model_output/finetuned_model_D_and_P_balance_dataset.pth\n",
      "Saved improved model to ./model_output/finetuned_model_D_and_P_balance_dataset.pth\n",
      "Stopping early at epoch 6.9988465974625145: No improvement in loss or accuracy for 3 evaluations.\n",
      "Loaded best model from ./model_output/finetuned_model_D_and_P_balance_dataset.pth\n"
     ]
    },
    {
     "data": {
      "text/html": [
       "\n",
       "    <div>\n",
       "      \n",
       "      <progress value='109' max='109' style='width:300px; height:20px; vertical-align: middle;'></progress>\n",
       "      [109/109 00:11]\n",
       "    </div>\n",
       "    "
      ],
      "text/plain": [
       "<IPython.core.display.HTML object>"
      ]
     },
     "metadata": {},
     "output_type": "display_data"
    },
    {
     "name": "stdout",
     "output_type": "stream",
     "text": [
      "Stopping early at epoch 6.9988465974625145: No improvement in loss or accuracy for 3 evaluations.\n",
      "{'eval_loss': 0.493902325630188, 'eval_accuracy': 0.7843137254901961, 'eval_runtime': 12.1225, 'eval_samples_per_second': 71.52, 'eval_steps_per_second': 8.992, 'epoch': 7.0}\n"
     ]
    },
    {
     "name": "stderr",
     "output_type": "stream",
     "text": [
      "[I 2024-06-17 01:15:10,354] Trial 28 finished with values: [0.493902325630188, 0.7843137254901961] and parameters: {'lr': 0.0006536702577510741, 'batch': 1, 'accum': 8, 'dropout_rate': 0.6379424072856527, 'weight_decay': 0.00017102693572973834, 'warmup_pct': 0.10222157877969572, 'lora_rank': 4, 'lora_init_scale': 0.00029526840889784614, 'lora_scaling_rank': 1}. \n"
     ]
    },
    {
     "name": "stdout",
     "output_type": "stream",
     "text": [
      "History:  [{'loss': 0.6649, 'learning_rate': 7.984181145450355e-05, 'epoch': 1.0, 'step': 433}, {'eval_loss': 0.5853091478347778, 'eval_accuracy': 0.7093425605536332, 'eval_runtime': 13.8422, 'eval_samples_per_second': 62.635, 'eval_steps_per_second': 7.874, 'epoch': 1.0, 'step': 433}, {'loss': 0.5711, 'learning_rate': 0.00015986801508326693, 'epoch': 2.0, 'step': 867}, {'eval_loss': 0.500209391117096, 'eval_accuracy': 0.76239907727797, 'eval_runtime': 12.359, 'eval_samples_per_second': 70.151, 'eval_steps_per_second': 8.819, 'epoch': 2.0, 'step': 867}, {'loss': 0.5365, 'learning_rate': 0.00023970982653777047, 'epoch': 3.0, 'step': 1300}, {'eval_loss': 0.5020877718925476, 'eval_accuracy': 0.7658592848904268, 'eval_runtime': 12.2056, 'eval_samples_per_second': 71.033, 'eval_steps_per_second': 8.93, 'epoch': 3.0, 'step': 1300}, {'loss': 0.5074, 'learning_rate': 0.00031973603016653387, 'epoch': 4.0, 'step': 1734}, {'eval_loss': 0.493902325630188, 'eval_accuracy': 0.7843137254901961, 'eval_runtime': 12.1721, 'eval_samples_per_second': 71.229, 'eval_steps_per_second': 8.955, 'epoch': 4.0, 'step': 1734}, {'loss': 0.4947, 'learning_rate': 0.0003995778416210374, 'epoch': 5.0, 'step': 2167}, {'eval_loss': 0.5221025347709656, 'eval_accuracy': 0.7647058823529411, 'eval_runtime': 12.151, 'eval_samples_per_second': 71.352, 'eval_steps_per_second': 8.97, 'epoch': 5.0, 'step': 2167}, {'loss': 0.4447, 'learning_rate': 0.0004796040452498008, 'epoch': 6.0, 'step': 2601}, {'eval_loss': 0.6286039352416992, 'eval_accuracy': 0.7681660899653979, 'eval_runtime': 12.1579, 'eval_samples_per_second': 71.312, 'eval_steps_per_second': 8.965, 'epoch': 6.0, 'step': 2601}, {'loss': 0.4069, 'learning_rate': 0.0005594458567043044, 'epoch': 7.0, 'step': 3034}, {'eval_loss': 0.6030178666114807, 'eval_accuracy': 0.7647058823529411, 'eval_runtime': 12.1913, 'eval_samples_per_second': 71.117, 'eval_steps_per_second': 8.941, 'epoch': 7.0, 'step': 3034}, {'train_runtime': 2604.4765, 'train_samples_per_second': 13.316, 'train_steps_per_second': 1.663, 'total_flos': 5999810285777616.0, 'train_loss': 0.518018447181938, 'epoch': 7.0, 'step': 3034}, {'eval_loss': 0.493902325630188, 'eval_accuracy': 0.7843137254901961, 'eval_runtime': 12.1225, 'eval_samples_per_second': 71.52, 'eval_steps_per_second': 8.992, 'epoch': 7.0, 'step': 3034}]\n"
     ]
    },
    {
     "name": "stderr",
     "output_type": "stream",
     "text": [
      "/home/ubuntu/data/miniconda3/envs/finetune-dephos/lib/python3.9/site-packages/huggingface_hub/file_download.py:1132: FutureWarning: `resume_download` is deprecated and will be removed in version 1.0.0. Downloads always resume when possible. If you want to force a new download, use `force_download=True`.\n",
      "  warnings.warn(\n"
     ]
    },
    {
     "name": "stdout",
     "output_type": "stream",
     "text": [
      "ProtT5_Classfier\n",
      "Trainable Parameter: 1209193475.0\n",
      "ProtT5_LoRA_Classfier\n",
      "Trainable Parameter: 17813507.0\n",
      "\n"
     ]
    },
    {
     "name": "stderr",
     "output_type": "stream",
     "text": [
      "/home/ubuntu/data/miniconda3/envs/finetune-dephos/lib/python3.9/site-packages/accelerate/accelerator.py:446: FutureWarning: Passing the following arguments to `Accelerator` is deprecated and will be removed in version 1.0 of Accelerate: dict_keys(['dispatch_batches', 'split_batches']). Please pass an `accelerate.DataLoaderConfiguration` instead: \n",
      "dataloader_config = DataLoaderConfiguration(dispatch_batches=None, split_batches=False)\n",
      "  warnings.warn(\n"
     ]
    },
    {
     "data": {
      "text/html": [
       "\n",
       "    <div>\n",
       "      \n",
       "      <progress value='4330' max='4330' style='width:300px; height:20px; vertical-align: middle;'></progress>\n",
       "      [4330/4330 1:04:31, Epoch 9/10]\n",
       "    </div>\n",
       "    <table border=\"1\" class=\"dataframe\">\n",
       "  <thead>\n",
       " <tr style=\"text-align: left;\">\n",
       "      <th>Epoch</th>\n",
       "      <th>Training Loss</th>\n",
       "      <th>Validation Loss</th>\n",
       "      <th>Accuracy</th>\n",
       "    </tr>\n",
       "  </thead>\n",
       "  <tbody>\n",
       "    <tr>\n",
       "      <td>0</td>\n",
       "      <td>0.697400</td>\n",
       "      <td>0.692594</td>\n",
       "      <td>0.502884</td>\n",
       "    </tr>\n",
       "    <tr>\n",
       "      <td>2</td>\n",
       "      <td>0.672600</td>\n",
       "      <td>0.659977</td>\n",
       "      <td>0.700115</td>\n",
       "    </tr>\n",
       "    <tr>\n",
       "      <td>4</td>\n",
       "      <td>0.632400</td>\n",
       "      <td>0.617555</td>\n",
       "      <td>0.715110</td>\n",
       "    </tr>\n",
       "    <tr>\n",
       "      <td>6</td>\n",
       "      <td>0.593200</td>\n",
       "      <td>0.579617</td>\n",
       "      <td>0.715110</td>\n",
       "    </tr>\n",
       "    <tr>\n",
       "      <td>8</td>\n",
       "      <td>0.562100</td>\n",
       "      <td>0.548970</td>\n",
       "      <td>0.733564</td>\n",
       "    </tr>\n",
       "    <tr>\n",
       "      <td>9</td>\n",
       "      <td>0.551500</td>\n",
       "      <td>0.538559</td>\n",
       "      <td>0.741638</td>\n",
       "    </tr>\n",
       "  </tbody>\n",
       "</table><p>"
      ],
      "text/plain": [
       "<IPython.core.display.HTML object>"
      ]
     },
     "metadata": {},
     "output_type": "display_data"
    },
    {
     "name": "stdout",
     "output_type": "stream",
     "text": [
      "Saved improved model to ./model_output/finetuned_model_D_and_P_balance_dataset.pth\n",
      "Saved improved model to ./model_output/finetuned_model_D_and_P_balance_dataset.pth\n",
      "Saved improved model to ./model_output/finetuned_model_D_and_P_balance_dataset.pth\n",
      "Saved improved model to ./model_output/finetuned_model_D_and_P_balance_dataset.pth\n",
      "Saved improved model to ./model_output/finetuned_model_D_and_P_balance_dataset.pth\n",
      "Saved improved model to ./model_output/finetuned_model_D_and_P_balance_dataset.pth\n",
      "Saved improved model to ./model_output/finetuned_model_D_and_P_balance_dataset.pth\n",
      "Saved improved model to ./model_output/finetuned_model_D_and_P_balance_dataset.pth\n",
      "Saved improved model to ./model_output/finetuned_model_D_and_P_balance_dataset.pth\n",
      "Saved improved model to ./model_output/finetuned_model_D_and_P_balance_dataset.pth\n",
      "Loaded best model from ./model_output/finetuned_model_D_and_P_balance_dataset.pth\n"
     ]
    },
    {
     "data": {
      "text/html": [
       "\n",
       "    <div>\n",
       "      \n",
       "      <progress value='109' max='109' style='width:300px; height:20px; vertical-align: middle;'></progress>\n",
       "      [109/109 00:11]\n",
       "    </div>\n",
       "    "
      ],
      "text/plain": [
       "<IPython.core.display.HTML object>"
      ]
     },
     "metadata": {},
     "output_type": "display_data"
    },
    {
     "name": "stdout",
     "output_type": "stream",
     "text": [
      "{'eval_loss': 0.5385587215423584, 'eval_accuracy': 0.7416378316032295, 'eval_runtime': 12.1546, 'eval_samples_per_second': 71.331, 'eval_steps_per_second': 8.968, 'epoch': 9.99}\n"
     ]
    },
    {
     "name": "stderr",
     "output_type": "stream",
     "text": [
      "[I 2024-06-17 02:20:35,965] Trial 29 finished with values: [0.5385587215423584, 0.7416378316032295] and parameters: {'lr': 1.248794881486996e-05, 'batch': 1, 'accum': 8, 'dropout_rate': 0.24568882538347997, 'weight_decay': 0.00044108723597006456, 'warmup_pct': 0.1840727638819394, 'lora_rank': 32, 'lora_init_scale': 0.004927830932678862, 'lora_scaling_rank': 2}. \n"
     ]
    },
    {
     "name": "stdout",
     "output_type": "stream",
     "text": [
      "History:  [{'loss': 0.6974, 'learning_rate': 8.47137997311404e-07, 'epoch': 1.0, 'step': 433}, {'eval_loss': 0.6925938725471497, 'eval_accuracy': 0.5028835063437139, 'eval_runtime': 13.8939, 'eval_samples_per_second': 62.402, 'eval_steps_per_second': 7.845, 'epoch': 1.0, 'step': 433}, {'loss': 0.6858, 'learning_rate': 1.6962324334156755e-06, 'epoch': 2.0, 'step': 867}, {'eval_loss': 0.6792370080947876, 'eval_accuracy': 0.6332179930795848, 'eval_runtime': 12.2925, 'eval_samples_per_second': 70.531, 'eval_steps_per_second': 8.867, 'epoch': 2.0, 'step': 867}, {'loss': 0.6726, 'learning_rate': 2.5433704307270797e-06, 'epoch': 3.0, 'step': 1300}, {'eval_loss': 0.6599773168563843, 'eval_accuracy': 0.7001153402537486, 'eval_runtime': 12.1872, 'eval_samples_per_second': 71.14, 'eval_steps_per_second': 8.944, 'epoch': 3.0, 'step': 1300}, {'loss': 0.6539, 'learning_rate': 3.392464866831351e-06, 'epoch': 4.0, 'step': 1734}, {'eval_loss': 0.6389437317848206, 'eval_accuracy': 0.7231833910034602, 'eval_runtime': 12.2264, 'eval_samples_per_second': 70.912, 'eval_steps_per_second': 8.915, 'epoch': 4.0, 'step': 1734}, {'loss': 0.6324, 'learning_rate': 4.239602864142755e-06, 'epoch': 5.0, 'step': 2167}, {'eval_loss': 0.6175552606582642, 'eval_accuracy': 0.7151095732410612, 'eval_runtime': 12.2165, 'eval_samples_per_second': 70.97, 'eval_steps_per_second': 8.922, 'epoch': 5.0, 'step': 2167}, {'loss': 0.6101, 'learning_rate': 5.088697300247026e-06, 'epoch': 6.0, 'step': 2601}, {'eval_loss': 0.5979918241500854, 'eval_accuracy': 0.7151095732410612, 'eval_runtime': 12.203, 'eval_samples_per_second': 71.048, 'eval_steps_per_second': 8.932, 'epoch': 6.0, 'step': 2601}, {'loss': 0.5932, 'learning_rate': 5.935835297558431e-06, 'epoch': 7.0, 'step': 3034}, {'eval_loss': 0.5796173810958862, 'eval_accuracy': 0.7151095732410612, 'eval_runtime': 12.2097, 'eval_samples_per_second': 71.009, 'eval_steps_per_second': 8.927, 'epoch': 7.0, 'step': 3034}, {'loss': 0.578, 'learning_rate': 6.784929733662702e-06, 'epoch': 8.0, 'step': 3468}, {'eval_loss': 0.5640504360198975, 'eval_accuracy': 0.7243367935409458, 'eval_runtime': 12.1916, 'eval_samples_per_second': 71.115, 'eval_steps_per_second': 8.941, 'epoch': 8.0, 'step': 3468}, {'loss': 0.5621, 'learning_rate': 7.632067730974105e-06, 'epoch': 9.0, 'step': 3901}, {'eval_loss': 0.548969566822052, 'eval_accuracy': 0.7335640138408305, 'eval_runtime': 12.2063, 'eval_samples_per_second': 71.029, 'eval_steps_per_second': 8.93, 'epoch': 9.0, 'step': 3901}, {'loss': 0.5515, 'learning_rate': 8.471379973114041e-06, 'epoch': 9.99, 'step': 4330}, {'eval_loss': 0.5385587215423584, 'eval_accuracy': 0.7416378316032295, 'eval_runtime': 12.1803, 'eval_samples_per_second': 71.18, 'eval_steps_per_second': 8.949, 'epoch': 9.99, 'step': 4330}, {'train_runtime': 3871.9168, 'train_samples_per_second': 8.957, 'train_steps_per_second': 1.118, 'total_flos': 8661998867807040.0, 'train_loss': 0.6237618743685046, 'epoch': 9.99, 'step': 4330}, {'eval_loss': 0.5385587215423584, 'eval_accuracy': 0.7416378316032295, 'eval_runtime': 12.1546, 'eval_samples_per_second': 71.331, 'eval_steps_per_second': 8.968, 'epoch': 9.99, 'step': 4330}]\n",
      "Loss: 0.46962377429008484, Accuracy: 0.7773933102652826\n",
      "Loss: 0.9660893082618713, Accuracy: 0.7912341407151096\n",
      "Loss: 1.6030584573745728, Accuracy: 0.8073817762399077\n",
      "Loss: 0.5600172281265259, Accuracy: 0.790080738177624\n",
      "Loss: 0.472126305103302, Accuracy: 0.7866205305651672\n",
      "Loss: 0.47510308027267456, Accuracy: 0.7889273356401384\n"
     ]
    }
   ],
   "source": [
    "import optuna\n",
    "\n",
    "def objective(trial):\n",
    "    # Set the seed for reproducibility in each trial\n",
    "    # seed = trial.suggest_int('seed', 0, 10000)\n",
    "    # set_seeds(seed)\n",
    "    \n",
    "    # Hyperparameters to be optimized\n",
    "    # Updated to use suggest_float with log=True for loguniform distribution\n",
    "    lr = trial.suggest_float('lr', 1e-5, 1e-2, log=True)\n",
    "    batch = trial.suggest_categorical('batch', [1, 2, 4, 8])\n",
    "    accum = trial.suggest_categorical('accum', [2, 4, 8])\n",
    "    # Updated to use suggest_float for uniform distribution\n",
    "    dropout = trial.suggest_float('dropout_rate', 0.1, 0.9)\n",
    "    weight_decay = trial.suggest_float('weight_decay', 1e-5, 1e-3, log=True)\n",
    "    warmup_pct = trial.suggest_float(\"warmup_pct\", 0.01, 0.3)  # Warmup percentage between 1% and 30%\n",
    "    lora_rank = trial.suggest_int('lora_rank', 4, 32, step=4)\n",
    "    lora_init_scale = trial.suggest_float('lora_init_scale', 1e-4, 1e-1, log=True)\n",
    "    lora_scaling_rank = trial.suggest_int('lora_scaling_rank', 1, 8)\n",
    "\n",
    "\n",
    "    # Training and evaluation\n",
    "    tokenizer, model, history = train_per_protein(\n",
    "        train_dataset=train_set, \n",
    "        valid_dataset=valid_set, \n",
    "        num_labels=2, \n",
    "        batch=batch, \n",
    "        accum=accum, \n",
    "        epochs=10,  # Fewer epochs for the trial runs\n",
    "        lr=lr,\n",
    "        dropout=dropout,\n",
    "        weight_decay=weight_decay,\n",
    "        warmup_pct=warmup_pct,\n",
    "        lora_rank=lora_rank,\n",
    "        lora_init_scale=lora_init_scale,\n",
    "        lora_scaling_rank=lora_scaling_rank,\n",
    "        # seed=seed\n",
    "    )\n",
    "    \n",
    "    # Clear GPU memory\n",
    "    # torch.cuda.empty_cache()\n",
    "    \n",
    "    print(\"History: \", history)\n",
    "    \n",
    "    # Extract the last validation accuracy from the history\n",
    "    val_accuracy = [entry['eval_accuracy'] for entry in history if 'eval_accuracy' in entry][-1]\n",
    "    val_loss = [entry['eval_loss'] for entry in history if 'eval_loss' in entry][-1]\n",
    "    return val_loss, val_accuracy\n",
    "\n",
    "directions=['minimize', 'maximize']  # Set the direction to maximize the validation accuracy, can also be 'minimize'\n",
    "study = optuna.create_study(directions=directions,\n",
    "                            storage=\"sqlite:///finetuned_model_D_and_P_balance_dataset.sqlite3\",  # Specify the storage URL here.\n",
    "                            study_name=\"finetuned_model_D_and_P_balance_dataset\")\n",
    "study.optimize(objective, n_trials=30)  # Adjust the number of trials based on your computational resources\n",
    "\n",
    "# Analyzing results\n",
    "pareto_front = study.best_trials  # Get the Pareto front (best non-dominated solutions)\n",
    "for trial in pareto_front:\n",
    "    print(f\"Loss: {trial.values[0]}, Accuracy: {trial.values[1]}\")  # Note the negation of accuracy\n",
    "\n",
    "# print(\"Best trial:\")\n",
    "# print(\"  Value: \", study.best_trial.value)\n",
    "# print(\"  Params: \")\n",
    "# for key, value in study.best_trial.params.items():\n",
    "#     print(f\"    {key}: {value}\")\n"
   ]
  },
  {
   "cell_type": "code",
   "execution_count": 13,
   "id": "3a28d3c1-8e24-4437-a1d9-dda9cefccfd7",
   "metadata": {
    "execution": {
     "iopub.execute_input": "2024-04-05T14:04:37.168731Z",
     "iopub.status.busy": "2024-04-05T14:04:37.168220Z",
     "iopub.status.idle": "2024-04-05T14:04:38.081706Z",
     "shell.execute_reply": "2024-04-05T14:04:38.080275Z",
     "shell.execute_reply.started": "2024-04-05T14:04:37.168675Z"
    },
    "tags": []
   },
   "outputs": [
    {
     "data": {
      "image/png": "[encoded data removed]",
      "text/plain": [
       "<Figure size 1000x500 with 2 Axes>"
      ]
     },
     "metadata": {},
     "output_type": "display_data"
    }
   ],
   "source": [
    "# Get loss, val_loss, and the computed metric from history\n",
    "loss = [x['loss'] for x in history if 'loss' in x]\n",
    "val_loss = [x['eval_loss'] for x in history if 'eval_loss' in x]\n",
    "\n",
    "# Truncate the longer list to the size of the shorter one\n",
    "min_length = min(len(loss), len(val_loss))\n",
    "loss = loss[:min_length]\n",
    "val_loss = val_loss[:min_length]\n",
    "\n",
    "# Get spearman (for regression) or accuracy value (for classification)\n",
    "if [x['eval_spearmanr'] for x in history if 'eval_spearmanr' in x] != []:\n",
    "    metric = [x['eval_spearmanr'] for x in history if 'eval_spearmanr' in x]\n",
    "else:\n",
    "    metric = [x['eval_accuracy'] for x in history if 'eval_accuracy' in x]\n",
    "\n",
    "epochs = [x['epoch'] for x in history if 'loss' in x]\n",
    "\n",
    "# Create a figure with two y-axes\n",
    "fig, ax1 = plt.subplots(figsize=(10, 5))\n",
    "ax2 = ax1.twinx()\n",
    "\n",
    "# Plot loss and val_loss on the first y-axis\n",
    "line1 = ax1.plot(epochs, loss, label='train_loss')\n",
    "line2 = ax1.plot(epochs, val_loss, label='validation_loss')\n",
    "ax1.set_xlabel('Epoch')\n",
    "ax1.set_ylabel('Loss')\n",
    "\n",
    "# Plot the computed metric on the second y-axis\n",
    "#line3 = ax2.plot(epochs, metric, color='red', label='validation_metric')\n",
    "ax2.set_ylabel('Metric')\n",
    "ax2.set_ylim([0, 1])\n",
    "\n",
    "# Add grid lines\n",
    "ax1.grid(True)\n",
    "ax2.grid(True)\n",
    "\n",
    "# Combine the lines from both y-axes and create a single legend\n",
    "lines = line1 + line2 \n",
    "labels = [line.get_label() for line in lines]\n",
    "ax1.legend(lines, labels, loc='lower left')\n",
    "\n",
    "# Show the plot\n",
    "plt.title(\"Training History for fine-tuning\")\n",
    "plt.savefig(f\"../Plots/Without_3rdline_Training_History_new.pdf\")\n",
    "plt.show()"
   ]
  },
  {
   "cell_type": "code",
   "execution_count": 14,
   "id": "ccb1bbda-d70e-4b4c-a8d4-24600495171a",
   "metadata": {
    "execution": {
     "iopub.execute_input": "2024-04-05T14:04:38.083526Z",
     "iopub.status.busy": "2024-04-05T14:04:38.083162Z",
     "iopub.status.idle": "2024-04-05T14:04:38.092729Z",
     "shell.execute_reply": "2024-04-05T14:04:38.091278Z",
     "shell.execute_reply.started": "2024-04-05T14:04:38.083490Z"
    },
    "tags": []
   },
   "outputs": [],
   "source": [
    "def save_model(model,filepath):\n",
    "# Saves all parameters that were changed during finetuning\n",
    "\n",
    "    # Create a dictionary to hold the non-frozen parameters\n",
    "    non_frozen_params = {}\n",
    "\n",
    "    # Iterate through all the model parameters\n",
    "    for param_name, param in model.named_parameters():\n",
    "        # If the parameter has requires_grad=True, add it to the dictionary\n",
    "        if param.requires_grad:\n",
    "            non_frozen_params[param_name] = param\n",
    "\n",
    "    # Save only the finetuned parameters \n",
    "    torch.save(non_frozen_params, filepath)\n",
    "\n",
    "    \n",
    "def load_model(filepath, num_labels=2):\n",
    "# Creates a new PT5 model and loads the finetuned weights from a file\n",
    "\n",
    "    # load a new model\n",
    "    model, tokenizer = PT5_classification_model(num_labels=num_labels, dropout=0.4882243131202929, lora_rank=24, lora_init_scale=0.01370043600756871, lora_scaling_rank=5)\n",
    "    \n",
    "    # Load the non-frozen parameters from the saved file\n",
    "    non_frozen_params = torch.load(filepath)\n",
    "\n",
    "    # Assign the non-frozen parameters to the corresponding parameters of the model\n",
    "    for param_name, param in model.named_parameters():\n",
    "        if param_name in non_frozen_params:\n",
    "            param.data = non_frozen_params[param_name].data\n",
    "\n",
    "    return tokenizer, model"
   ]
  },
  {
   "cell_type": "code",
   "execution_count": null,
   "id": "cd98e915-c8a8-433a-870a-c6dcaf191e59",
   "metadata": {
    "execution": {
     "iopub.execute_input": "2024-04-05T14:04:38.095733Z",
     "iopub.status.busy": "2024-04-05T14:04:38.095313Z",
     "iopub.status.idle": "2024-04-05T14:05:24.016922Z",
     "shell.execute_reply": "2024-04-05T14:05:24.014560Z",
     "shell.execute_reply.started": "2024-04-05T14:04:38.095698Z"
    },
    "tags": []
   },
   "outputs": [],
   "source": [
    "# def save_model(model, filepath):\n",
    "#     torch.save(model.state_dict(), filepath)\n",
    "\n",
    "# save_model(model, \"../finetuned_model.pth\")"
   ]
  },
  {
   "cell_type": "markdown",
   "id": "dafa9b15",
   "metadata": {},
   "source": [
    "{'lr': 0.00010175943017273118, 'batch': 8, 'accum': 2, 'dropout_rate': 0.4882243131202929, 'weight_decay': 0.00014993579804161342, 'warmup_pct': 0.18496515086758566, 'lora_rank': 24, 'lora_init_scale': 0.01370043600756871, 'lora_scaling_rank': 5}"
   ]
  },
  {
   "cell_type": "code",
   "execution_count": 15,
   "id": "7c97fa52-3aea-42e8-b72f-c4bb84808576",
   "metadata": {
    "execution": {
     "iopub.execute_input": "2024-04-05T14:05:24.020589Z",
     "iopub.status.busy": "2024-04-05T14:05:24.019788Z",
     "iopub.status.idle": "2024-04-05T14:08:10.428922Z",
     "shell.execute_reply": "2024-04-05T14:08:10.426805Z",
     "shell.execute_reply.started": "2024-04-05T14:05:24.020524Z"
    },
    "tags": []
   },
   "outputs": [
    {
     "name": "stderr",
     "output_type": "stream",
     "text": [
      "/home/ubuntu/data/miniconda3/envs/finetune-dephos/lib/python3.9/site-packages/huggingface_hub/file_download.py:1132: FutureWarning: `resume_download` is deprecated and will be removed in version 1.0.0. Downloads always resume when possible. If you want to force a new download, use `force_download=True`.\n",
      "  warnings.warn(\n"
     ]
    },
    {
     "name": "stdout",
     "output_type": "stream",
     "text": [
      "ProtT5_Classfier\n",
      "Trainable Parameter: 1209193474\n",
      "ProtT5_LoRA_Classfier\n",
      "Trainable Parameter: 15355906\n",
      "\n"
     ]
    }
   ],
   "source": [
    "# tokenizer, model_reload = load_model(\"../finetuned_model.pth\", num_labels=2)\n",
    "tokenizer, model_reload = load_model(\"model_output/finetuned_model_D_and_P_balance_dataset.pth\",num_labels=2)"
   ]
  },
  {
   "cell_type": "code",
   "execution_count": 16,
   "id": "b2c20e75-5f40-4ca1-9579-5df49b738fd6",
   "metadata": {
    "execution": {
     "iopub.execute_input": "2024-04-05T14:08:10.432313Z",
     "iopub.status.busy": "2024-04-05T14:08:10.431835Z",
     "iopub.status.idle": "2024-04-05T14:08:19.838631Z",
     "shell.execute_reply": "2024-04-05T14:08:19.836988Z",
     "shell.execute_reply.started": "2024-04-05T14:08:10.432274Z"
    },
    "tags": []
   },
   "outputs": [
    {
     "name": "stdout",
     "output_type": "stream",
     "text": [
      "Models have identical weights\n"
     ]
    }
   ],
   "source": [
    "# Put both models to the same device\n",
    "model=model.to(\"cpu\")\n",
    "model_reload=model_reload.to(\"cpu\")\n",
    "\n",
    "# Iterate through the parameters of the two models and compare the data\n",
    "for param1, param2 in zip(model.parameters(), model_reload.parameters()):\n",
    "    if not torch.equal(param1.data, param2.data):\n",
    "        print(\"Models have different weights\")\n",
    "        break\n",
    "else:\n",
    "    print(\"Models have identical weights\")"
   ]
  },
  {
   "cell_type": "code",
   "execution_count": null,
   "id": "60a62aae",
   "metadata": {},
   "outputs": [],
   "source": [
    "# model = from_pretrained(\"model_output\")"
   ]
  },
  {
   "cell_type": "code",
   "execution_count": 17,
   "id": "50b8a403-e7c5-4912-9c7a-f404c060c32a",
   "metadata": {
    "execution": {
     "iopub.execute_input": "2024-04-05T14:08:19.841225Z",
     "iopub.status.busy": "2024-04-05T14:08:19.840752Z",
     "iopub.status.idle": "2024-04-05T14:08:19.864579Z",
     "shell.execute_reply": "2024-04-05T14:08:19.862993Z",
     "shell.execute_reply.started": "2024-04-05T14:08:19.841173Z"
    },
    "tags": []
   },
   "outputs": [
    {
     "data": {
      "text/html": [
       "<div>\n",
       "<style scoped>\n",
       "    .dataframe tbody tr th:only-of-type {\n",
       "        vertical-align: middle;\n",
       "    }\n",
       "\n",
       "    .dataframe tbody tr th {\n",
       "        vertical-align: top;\n",
       "    }\n",
       "\n",
       "    .dataframe thead th {\n",
       "        text-align: right;\n",
       "    }\n",
       "</style>\n",
       "<table border=\"1\" class=\"dataframe\">\n",
       "  <thead>\n",
       "    <tr style=\"text-align: right;\">\n",
       "      <th></th>\n",
       "      <th>name</th>\n",
       "      <th>sequence</th>\n",
       "      <th>label</th>\n",
       "    </tr>\n",
       "  </thead>\n",
       "  <tbody>\n",
       "    <tr>\n",
       "      <th>0</th>\n",
       "      <td>sp|Q8WUI4|HDAC7_HUMAN%342%358</td>\n",
       "      <td>ERLSGSGLHWPLSRTRSEPLPPSATAPPPPGPM</td>\n",
       "      <td>1</td>\n",
       "    </tr>\n",
       "    <tr>\n",
       "      <th>1</th>\n",
       "      <td>sp|Q13950|RUNX2_HUMAN%416%432</td>\n",
       "      <td>THYHTYLPPPYPGSSQSQSGPFQTSSTPYLYYG</td>\n",
       "      <td>1</td>\n",
       "    </tr>\n",
       "    <tr>\n",
       "      <th>2</th>\n",
       "      <td>sp|Q15796|SMAD2_HUMAN%229%245</td>\n",
       "      <td>DGETSDQQLNQSMDTGSPAELSPTTLSPVNHSL</td>\n",
       "      <td>1</td>\n",
       "    </tr>\n",
       "    <tr>\n",
       "      <th>3</th>\n",
       "      <td>sp|P05787|K2C8_HUMAN%416%432</td>\n",
       "      <td>TSGYAGGLSSAYGGLTSPGLSYSLGSSFGSGAG</td>\n",
       "      <td>1</td>\n",
       "    </tr>\n",
       "    <tr>\n",
       "      <th>4</th>\n",
       "      <td>sp|Q92736|RYR2_HUMAN%2798%2814</td>\n",
       "      <td>MALYNRTRRISQTSQVSVDAAHGYSPRAIDMSN</td>\n",
       "      <td>1</td>\n",
       "    </tr>\n",
       "  </tbody>\n",
       "</table>\n",
       "</div>"
      ],
      "text/plain": [
       "                             name                           sequence  label\n",
       "0   sp|Q8WUI4|HDAC7_HUMAN%342%358  ERLSGSGLHWPLSRTRSEPLPPSATAPPPPGPM      1\n",
       "1   sp|Q13950|RUNX2_HUMAN%416%432  THYHTYLPPPYPGSSQSQSGPFQTSSTPYLYYG      1\n",
       "2   sp|Q15796|SMAD2_HUMAN%229%245  DGETSDQQLNQSMDTGSPAELSPTTLSPVNHSL      1\n",
       "3    sp|P05787|K2C8_HUMAN%416%432  TSGYAGGLSSAYGGLTSPGLSYSLGSSFGSGAG      1\n",
       "4  sp|Q92736|RYR2_HUMAN%2798%2814  MALYNRTRRISQTSQVSVDAAHGYSPRAIDMSN      1"
      ]
     },
     "execution_count": 17,
     "metadata": {},
     "output_type": "execute_result"
    }
   ],
   "source": [
    "from Bio import SeqIO\n",
    "import pandas as pd\n",
    "\n",
    "sequences = []\n",
    "\n",
    "local_fasta_path = '../src/input_datasets/test_Pos_Neg_ST.fasta'\n",
    "\n",
    "# Load FASTA file using Biopython\n",
    "for record in SeqIO.parse(local_fasta_path, \"fasta\"):\n",
    "    # Split the description to extract label\n",
    "    description_parts = record.description.split(\"%\")\n",
    "    label = int(description_parts[-1].split(\"LABEL=\")[1])  # Extracting the numeric part of the label\n",
    "    sequences.append([record.name, str(record.seq), label])\n",
    "    \n",
    "local_fasta_path = '../src/input_datasets/test_Pos_Neg_Y.fasta'\n",
    "\n",
    "# Load FASTA file using Biopython\n",
    "for record in SeqIO.parse(local_fasta_path, \"fasta\"):\n",
    "    # Split the description to extract label\n",
    "    description_parts = record.description.split(\"%\")\n",
    "    label = int(description_parts[-1].split(\"LABEL=\")[1])  # Extracting the numeric part of the label\n",
    "    sequences.append([record.name, str(record.seq), label])\n",
    "\n",
    "# Create dataframe\n",
    "df = pd.DataFrame(sequences, columns=[\"name\", \"sequence\", \"label\"])\n",
    "\n",
    "# Display the dataframe\n",
    "df.head(5)\n"
   ]
  },
  {
   "cell_type": "code",
   "execution_count": 18,
   "id": "d2d18716-fd26-49fe-9ba4-b84c936a364c",
   "metadata": {
    "execution": {
     "iopub.execute_input": "2024-04-05T14:08:19.867076Z",
     "iopub.status.busy": "2024-04-05T14:08:19.866598Z",
     "iopub.status.idle": "2024-04-05T14:08:19.887853Z",
     "shell.execute_reply": "2024-04-05T14:08:19.886215Z",
     "shell.execute_reply.started": "2024-04-05T14:08:19.867024Z"
    },
    "tags": []
   },
   "outputs": [
    {
     "name": "stdout",
     "output_type": "stream",
     "text": [
      "                            sequence  label\n",
      "0  ERLSGSGLHWPLSRTRSEPLPPSATAPPPPGPM      1\n",
      "1  THYHTYLPPPYPGSSQSQSGPFQTSSTPYLYYG      1\n",
      "2  DGETSDQQLNQSMDTGSPAELSPTTLSPVNHSL      1\n",
      "3  TSGYAGGLSSAYGGLTSPGLSYSLGSSFGSGAG      1\n",
      "4  MALYNRTRRISQTSQVSVDAAHGYSPRAIDMSN      1\n"
     ]
    }
   ],
   "source": [
    "my_test=df[[\"sequence\", \"label\"]]\n",
    "\n",
    "print(my_test.head(5))\n",
    "\n",
    "'''\n",
    "my_test[\"sequence\"]=my_test[\"sequence\"].str.replace('|'.join([\"O\",\"B\",\"U\",\"Z\"]),\"X\",regex=True)\n",
    "my_test['sequence']=my_test.apply(lambda row : \" \".join(row[\"sequence\"]), axis = 1)\n",
    "'''\n",
    "\n",
    "#Using .loc ensures that you are modifying the original DataFrame rather than a view of it, which helps avoid the SettingWithCopyWarning.\n",
    "# Replace characters in the \"sequence\" column\n",
    "my_test.loc[:, \"sequence\"] = my_test[\"sequence\"].str.replace('|'.join([\"O\", \"B\", \"U\", \"Z\"]), \"X\", regex=True)\n",
    "\n",
    "# Convert each sequence to a space-separated string\n",
    "my_test.loc[:, 'sequence'] = my_test.apply(lambda row: \" \".join(row[\"sequence\"]), axis=1)\n"
   ]
  },
  {
   "cell_type": "code",
   "execution_count": 19,
   "id": "eee8fe3a",
   "metadata": {},
   "outputs": [],
   "source": [
    "# Function to get the middle character\n",
    "def get_middle_char(sequence):\n",
    "    chars = sequence.split()\n",
    "    middle_index = len(chars) // 2\n",
    "    return chars[middle_index]\n",
    "\n",
    "# Apply the function to get the middle characters\n",
    "my_test['middle_char'] = my_test['sequence'].apply(get_middle_char)\n",
    "\n",
    "# Split the DataFrame\n",
    "my_test_S = my_test[my_test['middle_char'] == 'S'].drop(columns=['middle_char'])\n",
    "my_test_T = my_test[my_test['middle_char'] == 'T'].drop(columns=['middle_char'])\n",
    "my_test_Y = my_test[my_test['middle_char'] == 'Y'].drop(columns=['middle_char'])\n",
    "my_test_ST = my_test[my_test['middle_char'].isin(['S', 'T'])].drop(columns=['middle_char'])"
   ]
  },
  {
   "cell_type": "code",
   "execution_count": 20,
   "id": "fcd9ee79",
   "metadata": {},
   "outputs": [],
   "source": [
    "my_test = my_test_Y"
   ]
  },
  {
   "cell_type": "code",
   "execution_count": 21,
   "id": "d0dff151-a667-4717-af18-401818bc4c22",
   "metadata": {
    "execution": {
     "iopub.execute_input": "2024-04-05T14:08:19.889951Z",
     "iopub.status.busy": "2024-04-05T14:08:19.889601Z",
     "iopub.status.idle": "2024-04-05T14:08:22.641629Z",
     "shell.execute_reply": "2024-04-05T14:08:22.639919Z",
     "shell.execute_reply.started": "2024-04-05T14:08:19.889916Z"
    },
    "tags": []
   },
   "outputs": [
    {
     "name": "stderr",
     "output_type": "stream",
     "text": [
      "100%|██████████████████████████████████████████████████████████████████| 4/4 [00:00<00:00,  7.41it/s]"
     ]
    },
    {
     "name": "stdout",
     "output_type": "stream",
     "text": [
      "+----------+---------------+---------------+------------+-----------+\n",
      "|      MCC |   Specificity |   Sensitivity |   Accuracy |   ROC-AUC |\n",
      "+==========+===============+===============+============+===========+\n",
      "| 0.762821 |      0.846154 |      0.916667 |       0.88 |  0.927885 |\n",
      "+----------+---------------+---------------+------------+-----------+\n",
      "[[22  4]\n",
      " [ 2 22]]\n"
     ]
    },
    {
     "name": "stderr",
     "output_type": "stream",
     "text": [
      "\n"
     ]
    }
   ],
   "source": [
    "from sklearn.metrics import confusion_matrix, matthews_corrcoef, roc_auc_score\n",
    "from tabulate import tabulate\n",
    "\n",
    "# Set the device to use\n",
    "device = torch.device('cuda') if torch.cuda.is_available() else torch.device('cpu')\n",
    "model_reload.to(device)\n",
    "\n",
    "# create Dataset\n",
    "test_set=create_dataset(tokenizer,list(my_test['sequence']),list(my_test['label']))\n",
    "# make compatible with torch DataLoader\n",
    "test_set = test_set.with_format(\"torch\", device=device)\n",
    "\n",
    "# Create a dataloader for the test dataset\n",
    "test_dataloader = DataLoader(test_set, batch_size=16, shuffle=False)\n",
    "\n",
    "# Put the model in evaluation mode\n",
    "model_reload.eval()\n",
    "\n",
    "# Make predictions on the test dataset\n",
    "raw_logits = []\n",
    "labels = []\n",
    "with torch.no_grad():\n",
    "    for batch in tqdm(test_dataloader):\n",
    "        input_ids = batch['input_ids'].to(device)\n",
    "        attention_mask = batch['attention_mask'].to(device)\n",
    "        # add batch results (logits) to predictions\n",
    "        raw_logits += model_reload(input_ids, attention_mask=attention_mask).logits.tolist()\n",
    "        labels += batch[\"labels\"].tolist()\n",
    "\n",
    "# Convert logits to predictions\n",
    "raw_logits = np.array(raw_logits)\n",
    "predictions = np.argmax(raw_logits, axis=1)\n",
    "\n",
    "# Calculate metrics\n",
    "conf_matrix = confusion_matrix(labels, predictions)\n",
    "tn, fp, fn, tp = conf_matrix.ravel()\n",
    "\n",
    "mcc = matthews_corrcoef(labels, predictions)\n",
    "specificity = tn / (tn + fp)\n",
    "sensitivity = tp / (tp + fn)\n",
    "accuracy = accuracy_score(labels, predictions)\n",
    "roc_auc = roc_auc_score(labels, raw_logits[:, 1])  # Assuming binary classification, adjust accordingly\n",
    "\n",
    "\n",
    "metrics_table = [\n",
    "    [\"MCC\", \"Specificity\", \"Sensitivity\", \"Accuracy\", \"ROC-AUC\"],\n",
    "    [mcc, specificity, sensitivity, accuracy, roc_auc]\n",
    "]\n",
    "\n",
    "print(tabulate(metrics_table, headers=\"firstrow\", tablefmt=\"grid\"))\n",
    "print(conf_matrix)\n"
   ]
  },
  {
   "cell_type": "code",
   "execution_count": 22,
   "id": "9ce2f51a-887c-4684-82b9-22ea5fffd334",
   "metadata": {
    "execution": {
     "iopub.execute_input": "2024-04-05T14:08:22.647264Z",
     "iopub.status.busy": "2024-04-05T14:08:22.646121Z",
     "iopub.status.idle": "2024-04-05T14:08:23.557189Z",
     "shell.execute_reply": "2024-04-05T14:08:23.555594Z",
     "shell.execute_reply.started": "2024-04-05T14:08:22.647207Z"
    },
    "tags": []
   },
   "outputs": [
    {
     "data": {
      "image/png": "[encoded data removed]",
      "text/plain": [
       "<Figure size 800x600 with 2 Axes>"
      ]
     },
     "metadata": {},
     "output_type": "display_data"
    }
   ],
   "source": [
    "import seaborn as sns\n",
    "import matplotlib.pyplot as plt\n",
    "\n",
    "# Define class labels\n",
    "class_labels = ['0', '1']\n",
    "\n",
    "# Plot confusion matrix\n",
    "plt.figure(figsize=(8, 6))\n",
    "sns.heatmap(conf_matrix, annot=True, fmt='d', cmap='Blues', xticklabels=class_labels, yticklabels=class_labels)\n",
    "plt.xlabel('Predicted')\n",
    "plt.ylabel('Actual')\n",
    "plt.title('Confusion Matrix')\n",
    "plt.savefig(f\"../Plots/Confusion_matrix_for_dephos_new.pdf\")\n",
    "plt.show()\n"
   ]
  },
  {
   "cell_type": "code",
   "execution_count": 23,
   "id": "07603226",
   "metadata": {},
   "outputs": [],
   "source": [
    "my_test = my_test_ST"
   ]
  },
  {
   "cell_type": "code",
   "execution_count": 24,
   "id": "b5e0d80c",
   "metadata": {},
   "outputs": [
    {
     "name": "stderr",
     "output_type": "stream",
     "text": [
      "100%|████████████████████████████████████████████████████████████████| 28/28 [00:04<00:00,  6.58it/s]"
     ]
    },
    {
     "name": "stdout",
     "output_type": "stream",
     "text": [
      "+----------+---------------+---------------+------------+-----------+\n",
      "|      MCC |   Specificity |   Sensitivity |   Accuracy |   ROC-AUC |\n",
      "+==========+===============+===============+============+===========+\n",
      "| 0.456646 |      0.633929 |      0.815315 |   0.724215 |   0.79778 |\n",
      "+----------+---------------+---------------+------------+-----------+\n",
      "[[142  82]\n",
      " [ 41 181]]\n"
     ]
    },
    {
     "name": "stderr",
     "output_type": "stream",
     "text": [
      "\n"
     ]
    }
   ],
   "source": [
    "from sklearn.metrics import confusion_matrix, matthews_corrcoef, roc_auc_score\n",
    "from tabulate import tabulate\n",
    "\n",
    "# Set the device to use\n",
    "device = torch.device('cuda') if torch.cuda.is_available() else torch.device('cpu')\n",
    "model_reload.to(device)\n",
    "\n",
    "# create Dataset\n",
    "test_set=create_dataset(tokenizer,list(my_test['sequence']),list(my_test['label']))\n",
    "# make compatible with torch DataLoader\n",
    "test_set = test_set.with_format(\"torch\", device=device)\n",
    "\n",
    "# Create a dataloader for the test dataset\n",
    "test_dataloader = DataLoader(test_set, batch_size=16, shuffle=False)\n",
    "\n",
    "# Put the model in evaluation mode\n",
    "model_reload.eval()\n",
    "\n",
    "# Make predictions on the test dataset\n",
    "raw_logits = []\n",
    "labels = []\n",
    "with torch.no_grad():\n",
    "    for batch in tqdm(test_dataloader):\n",
    "        input_ids = batch['input_ids'].to(device)\n",
    "        attention_mask = batch['attention_mask'].to(device)\n",
    "        # add batch results (logits) to predictions\n",
    "        raw_logits += model_reload(input_ids, attention_mask=attention_mask).logits.tolist()\n",
    "        labels += batch[\"labels\"].tolist()\n",
    "\n",
    "# Convert logits to predictions\n",
    "raw_logits = np.array(raw_logits)\n",
    "predictions = np.argmax(raw_logits, axis=1)\n",
    "\n",
    "# Calculate metrics\n",
    "conf_matrix = confusion_matrix(labels, predictions)\n",
    "tn, fp, fn, tp = conf_matrix.ravel()\n",
    "\n",
    "mcc = matthews_corrcoef(labels, predictions)\n",
    "specificity = tn / (tn + fp)\n",
    "sensitivity = tp / (tp + fn)\n",
    "accuracy = accuracy_score(labels, predictions)\n",
    "roc_auc = roc_auc_score(labels, raw_logits[:, 1])  # Assuming binary classification, adjust accordingly\n",
    "\n",
    "\n",
    "metrics_table = [\n",
    "    [\"MCC\", \"Specificity\", \"Sensitivity\", \"Accuracy\", \"ROC-AUC\"],\n",
    "    [mcc, specificity, sensitivity, accuracy, roc_auc]\n",
    "]\n",
    "\n",
    "print(tabulate(metrics_table, headers=\"firstrow\", tablefmt=\"grid\"))\n",
    "print(conf_matrix)\n"
   ]
  },
  {
   "cell_type": "code",
   "execution_count": 20,
   "id": "5c5528dc-6e06-456d-920f-8f05055d0b8b",
   "metadata": {},
   "outputs": [],
   "source": [
    "import umap\n",
    "\n",
    "def apply_umap(embeddings, n_components=2, n_neighbors=5, min_dist=0.01, metric='euclidean'):\n",
    "    umap_model = umap.UMAP(\n",
    "        n_components=n_components,\n",
    "        n_neighbors=n_neighbors,\n",
    "        min_dist=min_dist,\n",
    "        metric=metric\n",
    "    )\n",
    "    umap_embeddings = umap_model.fit_transform(embeddings)\n",
    "    return umap_embeddings\n",
    "\n",
    "import matplotlib.pyplot as plt\n",
    "import seaborn as sns\n",
    "import pandas as pd\n",
    "\n",
    "def plot_umap(embeddings, labels):\n",
    "    df = pd.DataFrame({\n",
    "        \"UMAP1\": embeddings[:, 0],\n",
    "        \"UMAP2\": embeddings[:, 1],\n",
    "        \"Label\": labels\n",
    "    })\n",
    "    plt.figure(figsize=(10, 8))\n",
    "    scatter = sns.scatterplot(\n",
    "        x=\"UMAP1\", y=\"UMAP2\", hue=\"Label\", data=df, palette={0: \"blue\", 1: \"magenta\"}, s=50, alpha=0.9\n",
    "    )\n",
    "    plt.title(\"UMAP Visualization of Embeddings\")\n",
    "    plt.legend(title='Label', bbox_to_anchor=(1.05, 1), loc=2)\n",
    "    plt.savefig(\"../Plots/UMAP_Visualization_of_Embeddings_ST.pdf\", bbox_inches='tight')\n",
    "    plt.show()\n",
    "    \n",
    "def get_embeddings(model, tokenizer, sequences, batch_size=32, device=\"cuda\"):\n",
    "    embeddings = []\n",
    "    model = model.to(device)\n",
    "    model.eval()\n",
    "\n",
    "    for i in range(0, len(sequences), batch_size):\n",
    "        batch = sequences[i:i + batch_size]\n",
    "        inputs = tokenizer(batch, return_tensors=\"pt\", padding=True, truncation=True, max_length=512).to(device)\n",
    "\n",
    "        with torch.no_grad():\n",
    "            outputs = model(**inputs)\n",
    "            hidden_states = outputs.hidden_states[-2].detach().cpu().numpy()\n",
    "            embeddings.extend(hidden_states[:, 0, :])\n",
    "\n",
    "        print(f\"Processed batch {i // batch_size + 1}/{len(sequences) // batch_size + 1}\")\n",
    "\n",
    "    return np.array(embeddings)"
   ]
  },
  {
   "cell_type": "code",
   "execution_count": 38,
   "id": "7718f400",
   "metadata": {},
   "outputs": [],
   "source": [
    "# Function to get the middle character\n",
    "def get_middle_char(sequence):\n",
    "    chars = list(sequence)\n",
    "    middle_index = len(chars) // 2\n",
    "    return chars[middle_index]\n",
    "\n",
    "valid_df = df\n",
    "\n",
    "# Apply the function to get the middle characters\n",
    "valid_df['middle_char'] = valid_df['sequence'].apply(get_middle_char)\n",
    "\n",
    "valid_df = valid_df[valid_df['middle_char'] == 'T'].drop(columns=['middle_char'])"
   ]
  },
  {
   "cell_type": "code",
   "execution_count": 39,
   "id": "a162964f",
   "metadata": {},
   "outputs": [
    {
     "data": {
      "text/html": [
       "<div>\n",
       "<style scoped>\n",
       "    .dataframe tbody tr th:only-of-type {\n",
       "        vertical-align: middle;\n",
       "    }\n",
       "\n",
       "    .dataframe tbody tr th {\n",
       "        vertical-align: top;\n",
       "    }\n",
       "\n",
       "    .dataframe thead th {\n",
       "        text-align: right;\n",
       "    }\n",
       "</style>\n",
       "<table border=\"1\" class=\"dataframe\">\n",
       "  <thead>\n",
       "    <tr style=\"text-align: right;\">\n",
       "      <th></th>\n",
       "      <th>name</th>\n",
       "      <th>sequence</th>\n",
       "      <th>label</th>\n",
       "    </tr>\n",
       "  </thead>\n",
       "  <tbody>\n",
       "    <tr>\n",
       "      <th>180</th>\n",
       "      <td>sp|Q9GZM8|NDEL1_HUMAN%203%219</td>\n",
       "      <td>CEKMDSAVQASLSLPATPVGKGTENTFPSPKAI</td>\n",
       "      <td>1</td>\n",
       "    </tr>\n",
       "    <tr>\n",
       "      <th>181</th>\n",
       "      <td>sp|Q8N163|CCAR2_HUMAN%438%454</td>\n",
       "      <td>EWEALCQQKAAEAAPPTQEAQGETEPTEQAPDA</td>\n",
       "      <td>1</td>\n",
       "    </tr>\n",
       "    <tr>\n",
       "      <th>182</th>\n",
       "      <td>sp|P10636-8|TAU_HUMAN%196%212</td>\n",
       "      <td>GYSSPGSPGTPGSRSRTPSLPTPPTREPKKVAV</td>\n",
       "      <td>1</td>\n",
       "    </tr>\n",
       "    <tr>\n",
       "      <th>183</th>\n",
       "      <td>sp|Q02241|KIF23_HUMAN%434%450</td>\n",
       "      <td>QEVEVARPVDKAICGLTPGRRYRNQPRGPVGNE</td>\n",
       "      <td>1</td>\n",
       "    </tr>\n",
       "    <tr>\n",
       "      <th>184</th>\n",
       "      <td>sp|Q04206|TF65_HUMAN%419%435</td>\n",
       "      <td>QAVAPPAPKPTQAGEGTLSEALLQLQFDDEDLG</td>\n",
       "      <td>1</td>\n",
       "    </tr>\n",
       "    <tr>\n",
       "      <th>...</th>\n",
       "      <td>...</td>\n",
       "      <td>...</td>\n",
       "      <td>...</td>\n",
       "    </tr>\n",
       "    <tr>\n",
       "      <th>441</th>\n",
       "      <td>sp|Q76N33|STALP_MOUSE%326%342</td>\n",
       "      <td>ENVEELFNVQDQHGLLTLGWIHTHPTQTAFLSS</td>\n",
       "      <td>0</td>\n",
       "    </tr>\n",
       "    <tr>\n",
       "      <th>442</th>\n",
       "      <td>sp|P49790|NU153_HUMAN%1098%1114</td>\n",
       "      <td>FVLGRTEEKQQEPVTSTSLVFGKKADNEEPKCQ</td>\n",
       "      <td>0</td>\n",
       "    </tr>\n",
       "    <tr>\n",
       "      <th>443</th>\n",
       "      <td>sp|Q8NFC6|BD1L1_HUMAN%2789%2805</td>\n",
       "      <td>DVLDSRIETAQRQCPETEPHDTKEENSRDLEEL</td>\n",
       "      <td>0</td>\n",
       "    </tr>\n",
       "    <tr>\n",
       "      <th>444</th>\n",
       "      <td>sp|Q5T6F2|UBAP2_HUMAN%514%530</td>\n",
       "      <td>SKIPASAVEMPGSADVTGLNVQFGALEFGSEPS</td>\n",
       "      <td>0</td>\n",
       "    </tr>\n",
       "    <tr>\n",
       "      <th>445</th>\n",
       "      <td>sp|Q9H040|SPRTN_HUMAN%265%281</td>\n",
       "      <td>NLPSPGKLITSHAINKTQDLLNQNHSANAVRPN</td>\n",
       "      <td>0</td>\n",
       "    </tr>\n",
       "  </tbody>\n",
       "</table>\n",
       "<p>85 rows × 3 columns</p>\n",
       "</div>"
      ],
      "text/plain": [
       "                                name                           sequence  label\n",
       "180    sp|Q9GZM8|NDEL1_HUMAN%203%219  CEKMDSAVQASLSLPATPVGKGTENTFPSPKAI      1\n",
       "181    sp|Q8N163|CCAR2_HUMAN%438%454  EWEALCQQKAAEAAPPTQEAQGETEPTEQAPDA      1\n",
       "182    sp|P10636-8|TAU_HUMAN%196%212  GYSSPGSPGTPGSRSRTPSLPTPPTREPKKVAV      1\n",
       "183    sp|Q02241|KIF23_HUMAN%434%450  QEVEVARPVDKAICGLTPGRRYRNQPRGPVGNE      1\n",
       "184     sp|Q04206|TF65_HUMAN%419%435  QAVAPPAPKPTQAGEGTLSEALLQLQFDDEDLG      1\n",
       "..                               ...                                ...    ...\n",
       "441    sp|Q76N33|STALP_MOUSE%326%342  ENVEELFNVQDQHGLLTLGWIHTHPTQTAFLSS      0\n",
       "442  sp|P49790|NU153_HUMAN%1098%1114  FVLGRTEEKQQEPVTSTSLVFGKKADNEEPKCQ      0\n",
       "443  sp|Q8NFC6|BD1L1_HUMAN%2789%2805  DVLDSRIETAQRQCPETEPHDTKEENSRDLEEL      0\n",
       "444    sp|Q5T6F2|UBAP2_HUMAN%514%530  SKIPASAVEMPGSADVTGLNVQFGALEFGSEPS      0\n",
       "445    sp|Q9H040|SPRTN_HUMAN%265%281  NLPSPGKLITSHAINKTQDLLNQNHSANAVRPN      0\n",
       "\n",
       "[85 rows x 3 columns]"
      ]
     },
     "execution_count": 39,
     "metadata": {},
     "output_type": "execute_result"
    }
   ],
   "source": [
    "valid_df"
   ]
  },
  {
   "cell_type": "code",
   "execution_count": 40,
   "id": "a44d9187-1ac5-4e36-89a0-8f827a7f0077",
   "metadata": {},
   "outputs": [
    {
     "name": "stderr",
     "output_type": "stream",
     "text": [
      "/home/ubuntu/data/miniconda3/envs/finetune-dephos/lib/python3.9/site-packages/huggingface_hub/file_download.py:1132: FutureWarning: `resume_download` is deprecated and will be removed in version 1.0.0. Downloads always resume when possible. If you want to force a new download, use `force_download=True`.\n",
      "  warnings.warn(\n"
     ]
    },
    {
     "name": "stdout",
     "output_type": "stream",
     "text": [
      "ProtT5_Classfier\n",
      "Trainable Parameter: 1209193475.0\n",
      "ProtT5_LoRA_Classfier\n",
      "Trainable Parameter: 3559427.0\n",
      "\n",
      "Processed batch 1/3\n",
      "Processed batch 2/3\n",
      "Processed batch 3/3\n"
     ]
    },
    {
     "data": {
      "image/png": "[encoded data removed]",
      "text/plain": [
       "<Figure size 1000x800 with 1 Axes>"
      ]
     },
     "metadata": {},
     "output_type": "display_data"
    }
   ],
   "source": [
    "# valid_df = my_valid\n",
    "\n",
    "# tokenizer, model_reload = load_model(\"../finetuned_model.pth\", num_labels=2)\n",
    "tokenizer, model_reload = load_model(\"model_output/finetuned_model_ST.pth\",num_labels=2)\n",
    "\n",
    "valid_df[\"sequence\"] = valid_df[\"sequence\"].str.replace('|'.join([\"O\", \"B\", \"U\", \"Z\"]), \"X\", regex=True)\n",
    "valid_df[\"sequence\"] = valid_df[\"sequence\"].apply(lambda x: \" \".join(x))\n",
    "\n",
    "valid_sequences = list(valid_df['sequence'])\n",
    "valid_embeddings = get_embeddings(model_reload, tokenizer, valid_sequences)\n",
    "\n",
    "umap_embeddings = apply_umap(valid_embeddings)\n",
    "\n",
    "\n",
    "labels = list(valid_df['label'])\n",
    "\n",
    "plot_umap(umap_embeddings, labels)\n"
   ]
  },
  {
   "cell_type": "code",
   "execution_count": null,
   "id": "9f029bcf-42ef-4476-b575-3c14adb71b25",
   "metadata": {},
   "outputs": [],
   "source": []
  },
  {
   "cell_type": "code",
   "execution_count": null,
   "id": "f8da0e6c-e921-493b-9304-8ba9aad07d9c",
   "metadata": {},
   "outputs": [],
   "source": []
  }
 ],
 "metadata": {
  "kernelspec": {
   "display_name": "Python 3 (ipykernel)",
   "language": "python",
   "name": "python3"
  },
  "language_info": {
   "codemirror_mode": {
    "name": "ipython",
    "version": 3
   },
   "file_extension": ".py",
   "mimetype": "text/x-python",
   "name": "python",
   "nbconvert_exporter": "python",
   "pygments_lexer": "ipython3",
   "version": "3.9.19"
  }
 },
 "nbformat": 4,
 "nbformat_minor": 5
}
