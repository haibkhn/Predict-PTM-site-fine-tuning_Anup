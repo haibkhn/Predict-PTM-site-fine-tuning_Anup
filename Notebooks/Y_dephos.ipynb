{
 "cells": [
  {
   "cell_type": "code",
   "execution_count": 1,
   "id": "1f1959ca-a3c9-46d8-8519-064c38f52007",
   "metadata": {
    "execution": {
     "iopub.execute_input": "2024-04-05T12:48:44.051741Z",
     "iopub.status.busy": "2024-04-05T12:48:44.050047Z",
     "iopub.status.idle": "2024-04-05T12:52:49.260801Z",
     "shell.execute_reply": "2024-04-05T12:52:49.259100Z",
     "shell.execute_reply.started": "2024-04-05T12:48:44.051657Z"
    },
    "tags": []
   },
   "outputs": [],
   "source": [
    "# !pip install torch==2.1.1 torchaudio torchvision tqdm==4.66.1 accelerate==0.24.1 biopython==1.81 numpy==1.26.2 pandas==2.1.3 \\\n",
    "# transformers==4.35.2 datasets==2.15.0 scikit-learn==1.3.2 umap-learn==0.5.5 sentencepiece==0.1.99 seaborn==0.13.0 scipy==1.11.4 \\\n",
    "# matplotlib==3.8.2 evaluate==0.4.1 deepspeed==0.12.3"
   ]
  },
  {
   "cell_type": "code",
   "execution_count": null,
   "id": "1c7fd121-5f81-456d-8d68-5b3daaefd6f7",
   "metadata": {
    "tags": []
   },
   "outputs": [],
   "source": []
  },
  {
   "cell_type": "code",
   "execution_count": null,
   "id": "060d0bba-32ad-4dc9-b1b8-d1124da1336c",
   "metadata": {
    "tags": []
   },
   "outputs": [],
   "source": []
  },
  {
   "cell_type": "code",
   "execution_count": 2,
   "id": "8a377270-2995-4da1-a673-5369769a6279",
   "metadata": {
    "execution": {
     "iopub.execute_input": "2024-04-05T12:52:49.264011Z",
     "iopub.status.busy": "2024-04-05T12:52:49.263502Z",
     "iopub.status.idle": "2024-04-05T12:53:29.491461Z",
     "shell.execute_reply": "2024-04-05T12:53:29.490156Z",
     "shell.execute_reply.started": "2024-04-05T12:52:49.263956Z"
    },
    "tags": []
   },
   "outputs": [
    {
     "name": "stderr",
     "output_type": "stream",
     "text": [
      "2024-05-20 20:17:55.355218: I tensorflow/core/platform/cpu_feature_guard.cc:193] This TensorFlow binary is optimized with oneAPI Deep Neural Network Library (oneDNN) to use the following CPU instructions in performance-critical operations:  AVX2 FMA\n",
      "To enable them in other operations, rebuild TensorFlow with the appropriate compiler flags.\n",
      "2024-05-20 20:17:55.752937: E tensorflow/stream_executor/cuda/cuda_blas.cc:2981] Unable to register cuBLAS factory: Attempting to register factory for plugin cuBLAS when one has already been registered\n",
      "2024-05-20 20:17:57.314770: W tensorflow/stream_executor/platform/default/dso_loader.cc:64] Could not load dynamic library 'libnvinfer.so.7'; dlerror: libnvinfer.so.7: cannot open shared object file: No such file or directory\n",
      "2024-05-20 20:17:57.315009: W tensorflow/stream_executor/platform/default/dso_loader.cc:64] Could not load dynamic library 'libnvinfer_plugin.so.7'; dlerror: libnvinfer_plugin.so.7: cannot open shared object file: No such file or directory\n",
      "2024-05-20 20:17:57.315035: W tensorflow/compiler/tf2tensorrt/utils/py_utils.cc:38] TF-TRT Warning: Cannot dlopen some TensorRT libraries. If you would like to use Nvidia GPU with TensorRT, please make sure the missing libraries mentioned above are installed properly.\n"
     ]
    }
   ],
   "source": [
    "import os.path\n",
    "\n",
    "import torch\n",
    "import torch.nn as nn\n",
    "import torch.nn.functional as F\n",
    "from torch.nn import BCEWithLogitsLoss, CrossEntropyLoss, MSELoss\n",
    "from torch.utils.data import DataLoader\n",
    "\n",
    "import re\n",
    "import numpy as np\n",
    "import pandas as pd\n",
    "import copy\n",
    "\n",
    "import transformers, datasets\n",
    "from transformers.modeling_outputs import SequenceClassifierOutput\n",
    "from transformers.models.t5.modeling_t5 import T5Config, T5PreTrainedModel, T5Stack\n",
    "from transformers.utils.model_parallel_utils import assert_device_map, get_device_map\n",
    "from transformers import T5EncoderModel, T5Tokenizer\n",
    "from transformers import TrainingArguments, Trainer, set_seed\n",
    "\n",
    "from evaluate import load\n",
    "from datasets import Dataset\n",
    "\n",
    "from tqdm import tqdm\n",
    "import random\n",
    "\n",
    "from scipy import stats\n",
    "from sklearn.metrics import accuracy_score\n",
    "\n",
    "import matplotlib.pyplot as plt\n",
    "#!pip install umap-learn\n",
    "import umap"
   ]
  },
  {
   "cell_type": "code",
   "execution_count": null,
   "id": "9aeee887-484f-462d-b0ed-a33c0862ee45",
   "metadata": {
    "execution": {
     "iopub.execute_input": "2024-04-05T12:53:29.493781Z",
     "iopub.status.busy": "2024-04-05T12:53:29.492978Z",
     "iopub.status.idle": "2024-04-05T12:53:29.505306Z",
     "shell.execute_reply": "2024-04-05T12:53:29.504063Z",
     "shell.execute_reply.started": "2024-04-05T12:53:29.493739Z"
    },
    "tags": []
   },
   "outputs": [],
   "source": []
  },
  {
   "cell_type": "code",
   "execution_count": 3,
   "id": "0148ff8f-80eb-4bbd-aac7-fe1f371da27a",
   "metadata": {
    "execution": {
     "iopub.execute_input": "2024-04-05T12:53:29.508233Z",
     "iopub.status.busy": "2024-04-05T12:53:29.507801Z",
     "iopub.status.idle": "2024-04-05T12:53:29.536614Z",
     "shell.execute_reply": "2024-04-05T12:53:29.514877Z",
     "shell.execute_reply.started": "2024-04-05T12:53:29.508197Z"
    },
    "tags": []
   },
   "outputs": [
    {
     "name": "stdout",
     "output_type": "stream",
     "text": [
      "Torch version:  2.1.1+cu121\n",
      "Cuda version:  12.1\n",
      "Numpy version:  1.26.2\n",
      "Pandas version:  2.1.3\n",
      "Transformers version:  4.35.2\n",
      "Datasets version:  2.15.0\n"
     ]
    }
   ],
   "source": [
    "print(\"Torch version: \",torch.__version__)\n",
    "print(\"Cuda version: \",torch.version.cuda)\n",
    "print(\"Numpy version: \",np.__version__)\n",
    "print(\"Pandas version: \",pd.__version__)\n",
    "print(\"Transformers version: \",transformers.__version__)\n",
    "print(\"Datasets version: \",datasets.__version__)"
   ]
  },
  {
   "cell_type": "code",
   "execution_count": 4,
   "id": "96bd9396-a81c-4d87-a722-0d2020627dbd",
   "metadata": {
    "execution": {
     "iopub.execute_input": "2024-04-05T12:53:29.538488Z",
     "iopub.status.busy": "2024-04-05T12:53:29.538089Z",
     "iopub.status.idle": "2024-04-05T12:53:29.768968Z",
     "shell.execute_reply": "2024-04-05T12:53:29.767620Z",
     "shell.execute_reply.started": "2024-04-05T12:53:29.538452Z"
    },
    "tags": []
   },
   "outputs": [
    {
     "data": {
      "text/html": [
       "<div>\n",
       "<style scoped>\n",
       "    .dataframe tbody tr th:only-of-type {\n",
       "        vertical-align: middle;\n",
       "    }\n",
       "\n",
       "    .dataframe tbody tr th {\n",
       "        vertical-align: top;\n",
       "    }\n",
       "\n",
       "    .dataframe thead th {\n",
       "        text-align: right;\n",
       "    }\n",
       "</style>\n",
       "<table border=\"1\" class=\"dataframe\">\n",
       "  <thead>\n",
       "    <tr style=\"text-align: right;\">\n",
       "      <th></th>\n",
       "      <th>name</th>\n",
       "      <th>sequence</th>\n",
       "      <th>label</th>\n",
       "    </tr>\n",
       "  </thead>\n",
       "  <tbody>\n",
       "    <tr>\n",
       "      <th>0</th>\n",
       "      <td>sp|Q9UQC2|GAB2_HUMAN%598%614</td>\n",
       "      <td>SGTNSPAPKKSTGSVDYLALDFQPSSPSPHRKP</td>\n",
       "      <td>1</td>\n",
       "    </tr>\n",
       "    <tr>\n",
       "      <th>1</th>\n",
       "      <td>sp|P18031|PTN1_HUMAN%137%153</td>\n",
       "      <td>DTNLKLTLISEDIKSYYTVRQLELENLTTQETR</td>\n",
       "      <td>1</td>\n",
       "    </tr>\n",
       "    <tr>\n",
       "      <th>2</th>\n",
       "      <td>sp|P08581|MET_HUMAN%1340%1356</td>\n",
       "      <td>IFSTFIGEHYVHVNATYVNVKCVAPYPSLLSSE</td>\n",
       "      <td>1</td>\n",
       "    </tr>\n",
       "    <tr>\n",
       "      <th>3</th>\n",
       "      <td>sp|P35968|VGFR2_HUMAN%980%996</td>\n",
       "      <td>EKSLSDVEEEEAPEDLYKDFLTLEHLICYSFQV</td>\n",
       "      <td>1</td>\n",
       "    </tr>\n",
       "    <tr>\n",
       "      <th>4</th>\n",
       "      <td>sp|P35568|IRS1_HUMAN%880%896</td>\n",
       "      <td>QQQPLLHPPEPKSPGEYVNIEFGSDQSGYLSGP</td>\n",
       "      <td>1</td>\n",
       "    </tr>\n",
       "  </tbody>\n",
       "</table>\n",
       "</div>"
      ],
      "text/plain": [
       "                            name                           sequence  label\n",
       "0   sp|Q9UQC2|GAB2_HUMAN%598%614  SGTNSPAPKKSTGSVDYLALDFQPSSPSPHRKP      1\n",
       "1   sp|P18031|PTN1_HUMAN%137%153  DTNLKLTLISEDIKSYYTVRQLELENLTTQETR      1\n",
       "2  sp|P08581|MET_HUMAN%1340%1356  IFSTFIGEHYVHVNATYVNVKCVAPYPSLLSSE      1\n",
       "3  sp|P35968|VGFR2_HUMAN%980%996  EKSLSDVEEEEAPEDLYKDFLTLEHLICYSFQV      1\n",
       "4   sp|P35568|IRS1_HUMAN%880%896  QQQPLLHPPEPKSPGEYVNIEFGSDQSGYLSGP      1"
      ]
     },
     "execution_count": 4,
     "metadata": {},
     "output_type": "execute_result"
    }
   ],
   "source": [
    "from Bio import SeqIO\n",
    "import pandas as pd\n",
    "\n",
    "local_fasta_path = '../src/input_datasets/train_Pos_Neg_Y.fasta'\n",
    "\n",
    "# Load FASTA file using Biopython\n",
    "sequences = []\n",
    "for record in SeqIO.parse(local_fasta_path, \"fasta\"):\n",
    "    # Split the description to extract label\n",
    "    description_parts = record.description.split(\"%\")\n",
    "    label = int(description_parts[-1].split(\"LABEL=\")[1])  # Extracting the numeric part of the label\n",
    "    sequences.append([record.name, str(record.seq), label])\n",
    "\n",
    "# Create dataframe\n",
    "df = pd.DataFrame(sequences, columns=[\"name\", \"sequence\", \"label\"])\n",
    "\n",
    "# Display the dataframe\n",
    "df.head(5)\n"
   ]
  },
  {
   "cell_type": "code",
   "execution_count": 5,
   "id": "46617eaa-de6d-4d12-82cb-08ec66b4f56a",
   "metadata": {
    "execution": {
     "iopub.execute_input": "2024-04-05T12:53:29.771322Z",
     "iopub.status.busy": "2024-04-05T12:53:29.770859Z",
     "iopub.status.idle": "2024-04-05T12:53:29.786558Z",
     "shell.execute_reply": "2024-04-05T12:53:29.785263Z",
     "shell.execute_reply.started": "2024-04-05T12:53:29.771275Z"
    },
    "tags": []
   },
   "outputs": [
    {
     "name": "stdout",
     "output_type": "stream",
     "text": [
      "Training Set:\n",
      "(160, 2)\n",
      "\n",
      "Validation Set:\n",
      "(41, 2)\n"
     ]
    }
   ],
   "source": [
    "from sklearn.model_selection import train_test_split\n",
    "\n",
    "# Split the dataset into training and validation sets\n",
    "my_train, my_valid = train_test_split(df, test_size=0.2, random_state=42)\n",
    "\n",
    "my_train=my_train[[\"sequence\", \"label\"]]\n",
    "my_valid=my_valid[[\"sequence\",\"label\"]]\n",
    "\n",
    "\n",
    "# Print the first 5 rows of the training set\n",
    "print(\"Training Set:\")\n",
    "print(my_train.shape)\n",
    "\n",
    "# Print the first 5 rows of the validation set\n",
    "print(\"\\nValidation Set:\")\n",
    "print(my_valid.shape)"
   ]
  },
  {
   "cell_type": "code",
   "execution_count": 6,
   "id": "a424877b-787c-44fe-bf87-33346ffd3be5",
   "metadata": {
    "execution": {
     "iopub.execute_input": "2024-04-05T12:53:29.789138Z",
     "iopub.status.busy": "2024-04-05T12:53:29.788675Z",
     "iopub.status.idle": "2024-04-05T12:53:29.816779Z",
     "shell.execute_reply": "2024-04-05T12:53:29.815341Z",
     "shell.execute_reply.started": "2024-04-05T12:53:29.789094Z"
    },
    "tags": []
   },
   "outputs": [],
   "source": [
    "# Modifies an existing transformer and introduce the LoRA layers\n",
    "\n",
    "class LoRAConfig:\n",
    "    def __init__(self):\n",
    "        self.lora_rank = 2\n",
    "        self.lora_init_scale = 0.01\n",
    "        self.lora_modules = \".*SelfAttention|.*EncDecAttention\"\n",
    "        self.lora_layers = \"q|k|v|o\"\n",
    "        self.trainable_param_names = \".*layer_norm.*|.*lora_[ab].*\"\n",
    "        self.lora_scaling_rank = 1\n",
    "        # lora_modules and lora_layers are speicified with regular expressions\n",
    "        # see https://www.w3schools.com/python/python_regex.asp for reference\n",
    "        \n",
    "class LoRALinear(nn.Module):\n",
    "    def __init__(self, linear_layer, rank, scaling_rank, init_scale):\n",
    "        super().__init__()\n",
    "        self.in_features = linear_layer.in_features\n",
    "        self.out_features = linear_layer.out_features\n",
    "        self.rank = rank\n",
    "        self.scaling_rank = scaling_rank\n",
    "        self.weight = linear_layer.weight\n",
    "        self.bias = linear_layer.bias\n",
    "        if self.rank > 0:\n",
    "            self.lora_a = nn.Parameter(torch.randn(rank, linear_layer.in_features) * init_scale)\n",
    "            if init_scale < 0:\n",
    "                self.lora_b = nn.Parameter(torch.randn(linear_layer.out_features, rank) * init_scale)\n",
    "            else:\n",
    "                self.lora_b = nn.Parameter(torch.zeros(linear_layer.out_features, rank))\n",
    "        if self.scaling_rank:\n",
    "            self.multi_lora_a = nn.Parameter(\n",
    "                torch.ones(self.scaling_rank, linear_layer.in_features)\n",
    "                + torch.randn(self.scaling_rank, linear_layer.in_features) * init_scale\n",
    "            )\n",
    "            if init_scale < 0:\n",
    "                self.multi_lora_b = nn.Parameter(\n",
    "                    torch.ones(linear_layer.out_features, self.scaling_rank)\n",
    "                    + torch.randn(linear_layer.out_features, self.scaling_rank) * init_scale\n",
    "                )\n",
    "            else:\n",
    "                self.multi_lora_b = nn.Parameter(torch.ones(linear_layer.out_features, self.scaling_rank))\n",
    "\n",
    "    def forward(self, input):\n",
    "        if self.scaling_rank == 1 and self.rank == 0:\n",
    "            # parsimonious implementation for ia3 and lora scaling\n",
    "            if self.multi_lora_a.requires_grad:\n",
    "                hidden = F.linear((input * self.multi_lora_a.flatten()), self.weight, self.bias)\n",
    "            else:\n",
    "                hidden = F.linear(input, self.weight, self.bias)\n",
    "            if self.multi_lora_b.requires_grad:\n",
    "                hidden = hidden * self.multi_lora_b.flatten()\n",
    "            return hidden\n",
    "        else:\n",
    "            # general implementation for lora (adding and scaling)\n",
    "            weight = self.weight\n",
    "            if self.scaling_rank:\n",
    "                weight = weight * torch.matmul(self.multi_lora_b, self.multi_lora_a) / self.scaling_rank\n",
    "            if self.rank:\n",
    "                weight = weight + torch.matmul(self.lora_b, self.lora_a) / self.rank\n",
    "            return F.linear(input, weight, self.bias)\n",
    "\n",
    "    def extra_repr(self):\n",
    "        return \"in_features={}, out_features={}, bias={}, rank={}, scaling_rank={}\".format(\n",
    "            self.in_features, self.out_features, self.bias is not None, self.rank, self.scaling_rank\n",
    "        )\n",
    "\n",
    "\n",
    "def modify_with_lora(transformer, config):\n",
    "    for m_name, module in dict(transformer.named_modules()).items():\n",
    "        if re.fullmatch(config.lora_modules, m_name):\n",
    "            for c_name, layer in dict(module.named_children()).items():\n",
    "                if re.fullmatch(config.lora_layers, c_name):\n",
    "                    assert isinstance(\n",
    "                        layer, nn.Linear\n",
    "                    ), f\"LoRA can only be applied to torch.nn.Linear, but {layer} is {type(layer)}.\"\n",
    "                    setattr(\n",
    "                        module,\n",
    "                        c_name,\n",
    "                        LoRALinear(layer, config.lora_rank, config.lora_scaling_rank, config.lora_init_scale),\n",
    "                    )\n",
    "    return transformer"
   ]
  },
  {
   "cell_type": "code",
   "execution_count": 7,
   "id": "9e79b323-4677-4723-a5fd-a60dc13a3b0d",
   "metadata": {
    "execution": {
     "iopub.execute_input": "2024-04-05T12:53:29.819433Z",
     "iopub.status.busy": "2024-04-05T12:53:29.818965Z",
     "iopub.status.idle": "2024-04-05T12:53:29.845976Z",
     "shell.execute_reply": "2024-04-05T12:53:29.844438Z",
     "shell.execute_reply.started": "2024-04-05T12:53:29.819335Z"
    },
    "tags": []
   },
   "outputs": [],
   "source": [
    "class ClassConfig:\n",
    "    def __init__(self, dropout=0.7, num_labels=2):\n",
    "        self.dropout_rate = dropout\n",
    "        self.num_labels = num_labels\n",
    "\n",
    "class T5EncoderClassificationHead(nn.Module):\n",
    "    \"\"\"Head for sentence-level classification tasks.\"\"\"\n",
    "\n",
    "    def __init__(self, config, class_config):\n",
    "        super().__init__()\n",
    "        self.dense = nn.Linear(config.hidden_size, config.hidden_size)\n",
    "        self.dropout = nn.Dropout(class_config.dropout_rate)\n",
    "        self.out_proj = nn.Linear(config.hidden_size, class_config.num_labels)\n",
    "        \n",
    "        # Trainable emphasis factor\n",
    "        self.emphasis_factor = nn.Parameter(torch.tensor(1.0))\n",
    "        \n",
    "    def forward(self, hidden_states):\n",
    "        seq_length = hidden_states.size(1)\n",
    "        middle_idx = seq_length // 2\n",
    "        middle_embedding = hidden_states[:, middle_idx, :]\n",
    "\n",
    "        # Apply trainable emphasis factor\n",
    "        emphasized_middle_embedding = middle_embedding * self.emphasis_factor\n",
    "\n",
    "        # Combine with the average embedding\n",
    "        average_embedding = torch.mean(hidden_states, dim=1)\n",
    "        combined_embedding = emphasized_middle_embedding + average_embedding\n",
    "\n",
    "        x = self.dropout(combined_embedding)\n",
    "        x = self.dense(x)\n",
    "        x = torch.tanh(x)\n",
    "        x = self.dropout(x)\n",
    "        logits = self.out_proj(x)\n",
    "        return logits\n",
    "\n",
    "    # def forward(self, hidden_states):\n",
    "\n",
    "    #     hidden_states =  torch.mean(hidden_states,dim=1)  # avg embedding\n",
    "\n",
    "    #     hidden_states = self.dropout(hidden_states)\n",
    "    #     hidden_states = self.dense(hidden_states)\n",
    "    #     hidden_states = torch.tanh(hidden_states)\n",
    "    #     hidden_states = self.dropout(hidden_states)\n",
    "    #     hidden_states = self.out_proj(hidden_states)\n",
    "    #     return hidden_states\n",
    "    \n",
    "    # def forward(self, hidden_states):\n",
    "    #     # Original sequence length and middle index\n",
    "    #     seq_length = hidden_states.size(1)\n",
    "    #     middle_idx = seq_length // 2\n",
    "\n",
    "    #     # Extract the middle embedding vector\n",
    "    #     middle_embedding = hidden_states[:, middle_idx, :]\n",
    "\n",
    "    #     # Amplify the influence of the middle embedding\n",
    "    #     amplified_middle_embedding = middle_embedding * 2\n",
    "\n",
    "    #     # Combine with average to retain context\n",
    "    #     average_embedding = torch.mean(hidden_states, dim=1)\n",
    "    #     combined_embedding = 0.5 * amplified_middle_embedding + 0.5 * average_embedding\n",
    "\n",
    "    #     # Classification layers\n",
    "    #     x = self.dropout(combined_embedding)\n",
    "    #     x = self.dense(x)\n",
    "    #     x = torch.tanh(x)\n",
    "    #     x = self.dropout(x)\n",
    "    #     logits = self.out_proj(x)\n",
    "    #     return logits\n",
    "\n",
    "\n",
    "class T5EncoderForSimpleSequenceClassification(T5PreTrainedModel):\n",
    "\n",
    "    def __init__(self, config: T5Config, class_config):\n",
    "        super().__init__(config)\n",
    "        self.num_labels = class_config.num_labels\n",
    "        self.config = config\n",
    "\n",
    "        self.shared = nn.Embedding(config.vocab_size, config.d_model)\n",
    "\n",
    "        encoder_config = copy.deepcopy(config)\n",
    "        encoder_config.use_cache = False\n",
    "        encoder_config.is_encoder_decoder = False\n",
    "        self.encoder = T5Stack(encoder_config, self.shared)\n",
    "\n",
    "        self.dropout = nn.Dropout(class_config.dropout_rate) \n",
    "        self.classifier = T5EncoderClassificationHead(config, class_config)\n",
    "\n",
    "        # Initialize weights and apply final processing\n",
    "        self.post_init()\n",
    "\n",
    "        # Model parallel\n",
    "        self.model_parallel = False\n",
    "        self.device_map = None\n",
    "\n",
    "    def parallelize(self, device_map=None):\n",
    "        self.device_map = (\n",
    "            get_device_map(len(self.encoder.block), range(torch.cuda.device_count()))\n",
    "            if device_map is None\n",
    "            else device_map\n",
    "        )\n",
    "        assert_device_map(self.device_map, len(self.encoder.block))\n",
    "        self.encoder.parallelize(self.device_map)\n",
    "        self.classifier = self.classifier.to(self.encoder.first_device)\n",
    "        self.model_parallel = True\n",
    "\n",
    "    def deparallelize(self):\n",
    "        self.encoder.deparallelize()\n",
    "        self.encoder = self.encoder.to(\"cpu\")\n",
    "        self.model_parallel = False\n",
    "        self.device_map = None\n",
    "        torch.cuda.empty_cache()\n",
    "\n",
    "    def get_input_embeddings(self):\n",
    "        return self.shared\n",
    "\n",
    "    def set_input_embeddings(self, new_embeddings):\n",
    "        self.shared = new_embeddings\n",
    "        self.encoder.set_input_embeddings(new_embeddings)\n",
    "\n",
    "    def get_encoder(self):\n",
    "        return self.encoder\n",
    "\n",
    "    def _prune_heads(self, heads_to_prune):\n",
    "        \"\"\"\n",
    "        Prunes heads of the model. heads_to_prune: dict of {layer_num: list of heads to prune in this layer} See base\n",
    "        class PreTrainedModel\n",
    "        \"\"\"\n",
    "        for layer, heads in heads_to_prune.items():\n",
    "            self.encoder.layer[layer].attention.prune_heads(heads)\n",
    "\n",
    "    def forward(\n",
    "        self,\n",
    "        input_ids=None,\n",
    "        attention_mask=None,\n",
    "        head_mask=None,\n",
    "        inputs_embeds=None,\n",
    "        labels=None,\n",
    "        output_attentions=None,\n",
    "        output_hidden_states=None,\n",
    "        return_dict=None,\n",
    "    ):\n",
    "        return_dict = return_dict if return_dict is not None else self.config.use_return_dict\n",
    "\n",
    "        outputs = self.encoder(\n",
    "            input_ids=input_ids,\n",
    "            attention_mask=attention_mask,\n",
    "            inputs_embeds=inputs_embeds,\n",
    "            head_mask=head_mask,\n",
    "            output_attentions=output_attentions,\n",
    "            output_hidden_states=True,\n",
    "            return_dict=return_dict,\n",
    "        )\n",
    "\n",
    "        hidden_states = outputs[0]\n",
    "        logits = self.classifier(hidden_states)\n",
    "\n",
    "        loss = None\n",
    "        if labels is not None:\n",
    "            if self.config.problem_type is None:\n",
    "                if self.num_labels == 1:\n",
    "                    self.config.problem_type = \"regression\"\n",
    "                elif self.num_labels > 1 and (labels.dtype == torch.long or labels.dtype == torch.int):\n",
    "                    self.config.problem_type = \"single_label_classification\"\n",
    "                else:\n",
    "                    self.config.problem_type = \"multi_label_classification\"\n",
    "\n",
    "            if self.config.problem_type == \"regression\":\n",
    "                loss_fct = MSELoss()\n",
    "                if self.num_labels == 1:\n",
    "                    loss = loss_fct(logits.squeeze(), labels.squeeze())\n",
    "                else:\n",
    "                    loss = loss_fct(logits, labels)\n",
    "            elif self.config.problem_type == \"single_label_classification\":\n",
    "                loss_fct = CrossEntropyLoss()\n",
    "                loss = loss_fct(logits.view(-1, self.num_labels), labels.view(-1))\n",
    "            elif self.config.problem_type == \"multi_label_classification\":\n",
    "                loss_fct = BCEWithLogitsLoss()\n",
    "                loss = loss_fct(logits, labels)\n",
    "        if not return_dict:\n",
    "            output = (logits,) + outputs[1:]\n",
    "            return ((loss,) + output) if loss is not None else output\n",
    "\n",
    "        return SequenceClassifierOutput(\n",
    "            loss=loss,\n",
    "            logits=logits,\n",
    "            hidden_states=outputs.hidden_states,\n",
    "            attentions=outputs.attentions,\n",
    "        )"
   ]
  },
  {
   "cell_type": "code",
   "execution_count": 8,
   "id": "71394626-6f8b-4ca5-80f3-c697e4320bf7",
   "metadata": {
    "execution": {
     "iopub.execute_input": "2024-04-05T12:53:29.848217Z",
     "iopub.status.busy": "2024-04-05T12:53:29.847782Z",
     "iopub.status.idle": "2024-04-05T12:53:29.859841Z",
     "shell.execute_reply": "2024-04-05T12:53:29.858398Z",
     "shell.execute_reply.started": "2024-04-05T12:53:29.848182Z"
    },
    "tags": []
   },
   "outputs": [],
   "source": [
    "def PT5_classification_model(num_labels, dropout):\n",
    "    # Load PT5 and tokenizer\n",
    "    model = T5EncoderModel.from_pretrained(\"Rostlab/prot_t5_xl_uniref50\")\n",
    "    tokenizer = T5Tokenizer.from_pretrained(\"Rostlab/prot_t5_xl_uniref50\") \n",
    "    \n",
    "    # Create new Classifier model with PT5 dimensions\n",
    "    class_config=ClassConfig(num_labels=num_labels, dropout=dropout)\n",
    "    class_model=T5EncoderForSimpleSequenceClassification(model.config,class_config)\n",
    "    \n",
    "    # Set encoder and embedding weights to checkpoint weights\n",
    "    class_model.shared=model.shared\n",
    "    class_model.encoder=model.encoder    \n",
    "    \n",
    "    # Delete the checkpoint model\n",
    "    model=class_model\n",
    "    del class_model\n",
    "    \n",
    "    # Print number of trainable parameters\n",
    "    model_parameters = filter(lambda p: p.requires_grad, model.parameters())\n",
    "    params = sum([np.prod(p.size()) for p in model_parameters])\n",
    "    print(\"ProtT5_Classfier\\nTrainable Parameter: \"+ str(params))    \n",
    " \n",
    "    # Add model modification lora\n",
    "    config = LoRAConfig()\n",
    "    \n",
    "    # Add LoRA layers\n",
    "    model = modify_with_lora(model, config)\n",
    "    \n",
    "    # Freeze Embeddings and Encoder (except LoRA)\n",
    "    for (param_name, param) in model.shared.named_parameters():\n",
    "                param.requires_grad = False\n",
    "    for (param_name, param) in model.encoder.named_parameters():\n",
    "                param.requires_grad = False       \n",
    "\n",
    "    for (param_name, param) in model.named_parameters():\n",
    "            if re.fullmatch(config.trainable_param_names, param_name):\n",
    "                param.requires_grad = True\n",
    "\n",
    "    # Print trainable Parameter          \n",
    "    model_parameters = filter(lambda p: p.requires_grad, model.parameters())\n",
    "    params = sum([np.prod(p.size()) for p in model_parameters])\n",
    "    print(\"ProtT5_LoRA_Classfier\\nTrainable Parameter: \"+ str(params) + \"\\n\")\n",
    "    \n",
    "    return model, tokenizer"
   ]
  },
  {
   "cell_type": "code",
   "execution_count": 9,
   "id": "6c4d56b2-c9ca-460d-b977-a1e4ae1e9568",
   "metadata": {
    "execution": {
     "iopub.execute_input": "2024-04-05T12:53:29.864172Z",
     "iopub.status.busy": "2024-04-05T12:53:29.863760Z",
     "iopub.status.idle": "2024-04-05T12:53:29.873119Z",
     "shell.execute_reply": "2024-04-05T12:53:29.871609Z",
     "shell.execute_reply.started": "2024-04-05T12:53:29.864135Z"
    },
    "tags": []
   },
   "outputs": [],
   "source": [
    "# Deepspeed config for optimizer CPU offload\n",
    "\n",
    "ds_config = {\n",
    "    \"fp16\": {\n",
    "        \"enabled\": \"auto\",\n",
    "        \"loss_scale\": 0,\n",
    "        \"loss_scale_window\": 1000,\n",
    "        \"initial_scale_power\": 16,\n",
    "        \"hysteresis\": 2,\n",
    "        \"min_loss_scale\": 1\n",
    "    },\n",
    "\n",
    "    \"optimizer\": {\n",
    "        \"type\": \"AdamW\",\n",
    "        \"params\": {\n",
    "            \"lr\": \"auto\",\n",
    "            \"betas\": \"auto\",\n",
    "            \"eps\": \"auto\",\n",
    "            \"weight_decay\": \"auto\"\n",
    "        }\n",
    "    },\n",
    "\n",
    "    \"scheduler\": {\n",
    "        \"type\": \"WarmupLR\",\n",
    "        \"params\": {\n",
    "            \"warmup_min_lr\": \"auto\",\n",
    "            \"warmup_max_lr\": \"auto\",\n",
    "            \"warmup_num_steps\": \"auto\"\n",
    "        }\n",
    "    },\n",
    "\n",
    "    \"zero_optimization\": {\n",
    "        \"stage\": 2,\n",
    "        \"offload_optimizer\": {\n",
    "            \"device\": \"cpu\",\n",
    "            \"pin_memory\": True\n",
    "        },\n",
    "        \"allgather_partitions\": True,\n",
    "        \"allgather_bucket_size\": 2e8,\n",
    "        \"overlap_comm\": True,\n",
    "        \"reduce_scatter\": True,\n",
    "        \"reduce_bucket_size\": 2e8,\n",
    "        \"contiguous_gradients\": True\n",
    "    },\n",
    "\n",
    "    \"gradient_accumulation_steps\": \"auto\",\n",
    "    \"gradient_clipping\": \"auto\",\n",
    "    \"steps_per_print\": 2000,\n",
    "    \"train_batch_size\": \"auto\",\n",
    "    \"train_micro_batch_size_per_gpu\": \"auto\",\n",
    "    \"wall_clock_breakdown\": False\n",
    "}"
   ]
  },
  {
   "cell_type": "code",
   "execution_count": 10,
   "id": "d4550fdb",
   "metadata": {},
   "outputs": [],
   "source": [
    "from transformers import TrainerCallback, TrainerState, TrainerControl\n",
    "\n",
    "class EarlyStoppingCallback(TrainerCallback):\n",
    "    \"\"\"Custom early stopping callback that can monitor loss or accuracy.\"\"\"\n",
    "    \n",
    "    def __init__(self, metric_name='eval_loss', early_stopping_patience=3, minimize=True):\n",
    "        \"\"\"\n",
    "        Args:\n",
    "            metric_name (str): Metric to monitor, default 'eval_loss'.\n",
    "            early_stopping_patience (int): Number of checks with no improvement after which training will be stopped.\n",
    "            minimize (bool): Set to True if the metric should be minimized, False if it should be maximized.\n",
    "        \"\"\"\n",
    "        self.metric_name = metric_name\n",
    "        self.early_stopping_patience = early_stopping_patience\n",
    "        self.early_stopping_counter = 0\n",
    "        self.minimize = minimize\n",
    "        self.best_metric = float('inf') if minimize else float('-inf')\n",
    "    \n",
    "    def on_evaluate(self, args, state, control, **kwargs):\n",
    "        current_metric = kwargs['metrics'][self.metric_name]\n",
    "        \n",
    "        if (self.minimize and current_metric < self.best_metric) or (not self.minimize and current_metric > self.best_metric):\n",
    "            self.best_metric = current_metric\n",
    "            self.early_stopping_counter = 0\n",
    "        else:\n",
    "            self.early_stopping_counter += 1\n",
    "        \n",
    "        if self.early_stopping_counter >= self.early_stopping_patience:\n",
    "            control.should_training_stop = True\n",
    "            print(f'Stopping early! No improvement in {self.metric_name} for {self.early_stopping_patience} evaluation steps.')\n",
    "\n",
    "\n",
    "class MultiObjectiveEarlyStoppingCallback(TrainerCallback):\n",
    "    def __init__(self, early_stopping_patience, min_delta=0.001):\n",
    "        self.early_stopping_patience = early_stopping_patience\n",
    "        self.min_delta = min_delta\n",
    "        self.best_val_loss = float('inf')\n",
    "        self.best_val_accuracy = float('-inf')\n",
    "        self.wait = 0\n",
    "\n",
    "    def on_evaluate(self, args, state: TrainerState, control: TrainerControl, **kwargs):\n",
    "        # Extract current validation loss and accuracy\n",
    "        val_loss = kwargs['metrics']['eval_loss']\n",
    "        val_accuracy = kwargs['metrics']['eval_accuracy']\n",
    "\n",
    "        # Check if current loss and accuracy improved significantly\n",
    "        loss_improved = (self.best_val_loss - val_loss) > self.min_delta\n",
    "        accuracy_improved = (val_accuracy - self.best_val_accuracy) > self.min_delta\n",
    "\n",
    "        if loss_improved or accuracy_improved:\n",
    "            # Update best scores and reset wait time\n",
    "            self.best_val_loss = min(self.best_val_loss, val_loss)\n",
    "            self.best_val_accuracy = max(self.best_val_accuracy, val_accuracy)\n",
    "            self.wait = 0\n",
    "        else:\n",
    "            # If no improvement, increment the wait counter\n",
    "            self.wait += 1\n",
    "            if self.wait >= self.early_stopping_patience:\n",
    "                # If wait exceeds the patience, stop training\n",
    "                control.should_training_stop = True\n",
    "                print(f\"Stopping early at epoch {state.epoch}: No improvement in loss or accuracy for {self.early_stopping_patience} evaluations.\")\n",
    "                \n",
    "class MultiObjectiveEarlyStoppingAndSaveCallback(TrainerCallback):\n",
    "    def __init__(self, early_stopping_patience, min_delta=0.001, output_dir='./model_output'):\n",
    "        self.early_stopping_patience = early_stopping_patience\n",
    "        self.min_delta = min_delta\n",
    "        self.best_val_loss = float('inf')\n",
    "        self.best_val_accuracy = float('-inf')\n",
    "        self.wait = 0\n",
    "        self.output_dir = output_dir\n",
    "\n",
    "    def on_evaluate(self, args, state: TrainerState, control: TrainerControl, **kwargs):\n",
    "        val_loss = kwargs['metrics']['eval_loss']\n",
    "        val_accuracy = kwargs['metrics']['eval_accuracy']\n",
    "        model = kwargs['model']\n",
    "\n",
    "        loss_improved = (self.best_val_loss - val_loss) > self.min_delta\n",
    "        accuracy_improved = (val_accuracy - self.best_val_accuracy) > self.min_delta\n",
    "\n",
    "        if loss_improved or accuracy_improved:\n",
    "            self.best_val_loss = min(self.best_val_loss, val_loss)\n",
    "            self.best_val_accuracy = max(self.best_val_accuracy, val_accuracy)\n",
    "            self.wait = 0\n",
    "            # Save the model as the best so far\n",
    "            self.save_finetuned_parameters(model, os.path.join(self.output_dir, 'finetuned_model.pth'))\n",
    "            print(f\"Saved improved model to {self.output_dir}\")\n",
    "        else:\n",
    "            self.wait += 1\n",
    "            if self.wait >= self.early_stopping_patience:\n",
    "                control.should_training_stop = True\n",
    "                print(f\"Stopping early at epoch {state.epoch}: No improvement in loss or accuracy for {self.early_stopping_patience} evaluations.\")\n",
    "                \n",
    "    def save_finetuned_parameters(self, model, filepath):\n",
    "        # Create a dictionary to hold the non-frozen parameters\n",
    "        non_frozen_params = {n: p for n, p in model.named_parameters() if p.requires_grad}\n",
    "        # Save only the finetuned parameters \n",
    "        torch.save(non_frozen_params, filepath)"
   ]
  },
  {
   "cell_type": "code",
   "execution_count": 12,
   "id": "bfb8bb11-79b0-4936-9099-f9f8ef97e105",
   "metadata": {
    "execution": {
     "iopub.execute_input": "2024-04-05T12:53:29.875565Z",
     "iopub.status.busy": "2024-04-05T12:53:29.875038Z",
     "iopub.status.idle": "2024-04-05T12:53:30.214710Z",
     "shell.execute_reply": "2024-04-05T12:53:30.213349Z",
     "shell.execute_reply.started": "2024-04-05T12:53:29.875495Z"
    },
    "tags": []
   },
   "outputs": [],
   "source": [
    "from sklearn.metrics import accuracy_score\n",
    "#!pip install seaborn\n",
    "import seaborn as sns\n",
    "\n",
    "# Set random seeds for reproducibility of your trainings run\n",
    "def set_seeds(s):\n",
    "    torch.manual_seed(s)\n",
    "    np.random.seed(s)\n",
    "    random.seed(s)\n",
    "    set_seed(s)\n",
    "\n",
    "# Dataset creation\n",
    "def create_dataset(tokenizer,seqs,labels):\n",
    "    tokenized = tokenizer(seqs, max_length=1024, padding=True, truncation=True)\n",
    "    dataset = Dataset.from_dict(tokenized)\n",
    "    dataset = dataset.add_column(\"labels\", labels)\n",
    "\n",
    "    return dataset\n",
    "\n",
    "def apply_umap(embeddings, n_components=2, min_dist=0.01):\n",
    "    umap_model = umap.UMAP(n_components=n_components)\n",
    "    umap_embeddings = umap_model.fit_transform(embeddings)\n",
    "    return umap_embeddings\n",
    "\n",
    "def plot_umap(embeddings, labels):\n",
    "    data = {\"UMAP1\": embeddings[:, 0], \"UMAP2\": embeddings[:, 1], \"Label\": labels}\n",
    "    df = pd.DataFrame(data)\n",
    "    \n",
    "    plt.figure(figsize=(8, 6))\n",
    "    sns.scatterplot(x=\"UMAP1\", y=\"UMAP2\", hue=\"Label\", data=df, palette={0: \"blue\", 1: \"magenta\"}, s=50, alpha=0.9)\n",
    "    plt.title(\"UMAP Visualization of Embeddings\")\n",
    "    plt.savefig(\"../Plots/UMAP_Visualization_of_Embeddings_new.pdf\")\n",
    "    plt.show()\n",
    "    \n",
    "# Main training fuction\n",
    "def train_per_protein(\n",
    "        train_df,         #training data\n",
    "        valid_df,         #validation data      \n",
    "        weight_decay,\n",
    "        warmup_pct,\n",
    "        num_labels= 2,    #1 for regression, >1 for classification\n",
    "    \n",
    "        # effective training batch size is batch * accum\n",
    "        # we recommend an effective batch size of 8 \n",
    "        batch= 4,         #for training\n",
    "        accum= 2,         #gradient accumulation\n",
    "    \n",
    "        val_batch = 16,   #batch size for evaluation\n",
    "        epochs=1,       #training epochs\n",
    "        lr= 3e-4,         #recommended learning rate\n",
    "        seed= 42,         #random seed\n",
    "        deepspeed=False,  #if gpu is large enough disable deepspeed for training speedup\n",
    "        gpu= 1,\n",
    "        dropout=0.5, #dropout rate\n",
    "         #L2 weight regularization\n",
    "        ):         #gpu selection (1 for first gpu)\n",
    "\n",
    "    # Set gpu device\n",
    "    os.environ[\"CUDA_VISIBLE_DEVICES\"]=str(gpu-1)\n",
    "    \n",
    "    # Set all random seeds\n",
    "    set_seeds(seed)\n",
    "    \n",
    "    # load model\n",
    "    model, tokenizer = PT5_classification_model(num_labels=num_labels, dropout=dropout)\n",
    "\n",
    "    # Preprocess inputs\n",
    "    # Replace uncommon AAs with \"X\"\n",
    "    train_df[\"sequence\"]=train_df[\"sequence\"].str.replace('|'.join([\"O\",\"B\",\"U\",\"Z\"]),\"X\",regex=True)\n",
    "    valid_df[\"sequence\"]=valid_df[\"sequence\"].str.replace('|'.join([\"O\",\"B\",\"U\",\"Z\"]),\"X\",regex=True)\n",
    "    # Add spaces between each amino acid for PT5 to correctly use them\n",
    "    train_df['sequence']=train_df.apply(lambda row : \" \".join(row[\"sequence\"]), axis = 1)\n",
    "    valid_df['sequence']=valid_df.apply(lambda row : \" \".join(row[\"sequence\"]), axis = 1)\n",
    "\n",
    "    # Create Datasets\n",
    "    train_set=create_dataset(tokenizer,list(train_df['sequence']),list(train_df['label']))\n",
    "    valid_set=create_dataset(tokenizer,list(valid_df['sequence']),list(valid_df['label']))\n",
    "\n",
    "    # Huggingface Trainer arguments\n",
    "    # args = TrainingArguments(\n",
    "    #     \"./\",\n",
    "    #     evaluation_strategy = \"epoch\",\n",
    "    #     logging_strategy = \"epoch\",\n",
    "    #     save_strategy = \"epoch\",\n",
    "    #     learning_rate=lr,\n",
    "    #     per_device_train_batch_size=batch,\n",
    "    #     per_device_eval_batch_size=val_batch,\n",
    "    #     gradient_accumulation_steps=accum,\n",
    "    #     num_train_epochs=epochs,\n",
    "    #     seed = seed,\n",
    "    #     deepspeed=None, #ds_config if deepspeed else None,\n",
    "    #     load_best_model_at_end=True,\n",
    "    #     metric_for_best_model=\"accuracy\",  # specify the metric to determine the best model\n",
    "    # )\n",
    "    total_steps = epochs * len(train_df) // batch\n",
    "    warmup_steps = int(warmup_pct * total_steps)\n",
    "     \n",
    "    # Define TrainingArguments\n",
    "    args = TrainingArguments(\n",
    "        output_dir='./results',              # where to save the model\n",
    "        evaluation_strategy='epoch',         # evaluation is done at the end of each epoch\n",
    "        logging_strategy='epoch',\n",
    "        save_strategy='epoch',\n",
    "        save_total_limit=1,\n",
    "        learning_rate=lr,                    # initial learning rate\n",
    "        per_device_train_batch_size=batch,   # batch size per device\n",
    "        gradient_accumulation_steps=accum,   # gradient accumulation steps\n",
    "        num_train_epochs=epochs,             # number of epochs to train\n",
    "        weight_decay=weight_decay,           # L2 weight regularization\n",
    "        warmup_steps=warmup_steps,           # 10% of total steps\n",
    "        load_best_model_at_end=False,         # load the best model at the end of training\n",
    "        metric_for_best_model='eval_loss',    # use accuracy to find the best model\n",
    "        seed=seed,                           # random seed\n",
    "        push_to_hub=False,                   # if you want to push model to the hub (Hugging Face Model Hub)\n",
    "    )\n",
    "    # metric_for_best_model='eval_loss|accuracy'\n",
    "\n",
    "    # Metric definition for validation data\n",
    "    def compute_metrics(eval_pred):\n",
    "        predictions, labels = eval_pred.predictions, eval_pred.label_ids\n",
    "        # Check if predictions have the expected shape\n",
    "        if isinstance(predictions, tuple):\n",
    "            predictions = predictions[0]\n",
    "        if predictions.ndim > 1 and predictions.shape[1] > 1:\n",
    "            predictions = np.argmax(predictions, axis=1)\n",
    "        # Now, compute the metric (e.g., accuracy)\n",
    "        accuracy = accuracy_score(labels, predictions)\n",
    "        \n",
    "        # Return the metric(s) as a dictionary\n",
    "        return {\"accuracy\": accuracy}\n",
    "    \n",
    "    # For minimizing loss\n",
    "    early_stopping_loss = EarlyStoppingCallback(metric_name='eval_loss', early_stopping_patience=3, minimize=True)\n",
    "\n",
    "    # For maximizing accuracy\n",
    "    early_stopping_accuracy = EarlyStoppingCallback(metric_name='eval_accuracy', early_stopping_patience=3, minimize=False)\n",
    "    # Trainer          \n",
    "    trainer = Trainer(\n",
    "        model,\n",
    "        args,\n",
    "        train_dataset=train_set,\n",
    "        eval_dataset=valid_set,\n",
    "        tokenizer=tokenizer,\n",
    "        compute_metrics=compute_metrics,\n",
    "        callbacks=[MultiObjectiveEarlyStoppingAndSaveCallback(early_stopping_patience=3, min_delta=0.001, output_dir='./model_output')],\n",
    "    )    \n",
    "\n",
    "    def get_embeddings(model, tokenizer, sequences, batch_size=32, device=\"cuda\"):\n",
    "        embeddings = []\n",
    "        model = model.to(device)\n",
    "        model.eval()\n",
    "    \n",
    "        # Iterate over the sequences in batches\n",
    "        for i in range(0, len(sequences), batch_size):\n",
    "            # Extract a batch of sequences\n",
    "            batch = sequences[i:i + batch_size]\n",
    "    \n",
    "            # Tokenize the batch using the specified tokenizer and convert to PyTorch tensors\n",
    "            inputs = tokenizer(batch, return_tensors=\"pt\", padding=True, truncation=True, max_length=512).to(device)\n",
    "    \n",
    "            with torch.no_grad():\n",
    "                # Forward pass through the model to obtain outputs\n",
    "                outputs = model(**inputs)\n",
    "    \n",
    "            # Extract hidden states from the second-to-last layer (penultimate layer)\n",
    "            hidden_states = outputs.hidden_states[-2].detach().cpu().numpy()\n",
    "    \n",
    "            # Take the embeddings from the second-to-last layer\n",
    "            embeddings_from_layer = hidden_states[:, 0, :]\n",
    "    \n",
    "            # Extend the list with the generated embeddings\n",
    "            embeddings.extend(embeddings_from_layer)\n",
    "    \n",
    "            print(f\"Batch {i // batch_size + 1}, Second-to-Last Layer Embeddings Shape: {embeddings_from_layer.shape}\")\n",
    "    \n",
    "        return np.array(embeddings)\n",
    "\n",
    "        \n",
    "    # Train model\n",
    "    trainer.train()\n",
    "\n",
    "    # Get the best model\n",
    "    # model = trainer.model\n",
    "    # Ensure the best model is loaded\n",
    "    best_model_path = os.path.join('./model_output', 'finetuned_model.pth')\n",
    "    if os.path.exists(best_model_path):\n",
    "        state_dict = torch.load(best_model_path)\n",
    "        model.load_state_dict(state_dict, strict=False)\n",
    "        print(f\"Loaded best model from {best_model_path}\")\n",
    "        \n",
    "    # Evaluate the best model\n",
    "    eval_results = trainer.evaluate()\n",
    "    print(eval_results)\n",
    "    \n",
    "    # Print the current learning rate\n",
    "    # current_lr = trainer.optimizer.param_groups[0]['lr']\n",
    "    # print(f\"Current learning rate: {current_lr}\")\n",
    "    \n",
    "    valid_sequences = list(valid_df['sequence'])\n",
    "    valid_embeddings = get_embeddings(model, tokenizer, valid_sequences)\n",
    "\n",
    "    # Apply UMAP for dimensionality reduction\n",
    "    umap_embeddings = apply_umap(valid_embeddings)\n",
    "\n",
    "    # Plot UMAP embeddings\n",
    "    labels = list(valid_df['label'])\n",
    "    plot_umap(umap_embeddings, labels)\n",
    "\n",
    "    return tokenizer, model, trainer.state.log_history\n"
   ]
  },
  {
   "cell_type": "code",
   "execution_count": 12,
   "id": "f20a2048",
   "metadata": {},
   "outputs": [],
   "source": [
    "%rm Y_dephos.sqlite3"
   ]
  },
  {
   "cell_type": "code",
   "execution_count": 13,
   "id": "8ebf90f6",
   "metadata": {},
   "outputs": [
    {
     "name": "stderr",
     "output_type": "stream",
     "text": [
      "[I 2024-05-15 23:29:08,647] A new study created in RDB with name: Y_dephos\n",
      "You are using the default legacy behaviour of the <class 'transformers.models.t5.tokenization_t5.T5Tokenizer'>. This is expected, and simply means that the `legacy` (previous) behavior will be used so nothing changes for you. If you want to use the new behaviour, set `legacy=False`. This should only be set if you understand what it means, and thouroughly read the reason why this was added as explained in https://github.com/huggingface/transformers/pull/24565\n"
     ]
    },
    {
     "name": "stdout",
     "output_type": "stream",
     "text": [
      "ProtT5_Classfier\n",
      "Trainable Parameter: 1209193475.0\n",
      "ProtT5_LoRA_Classfier\n",
      "Trainable Parameter: 3559427.0\n",
      "\n"
     ]
    },
    {
     "name": "stderr",
     "output_type": "stream",
     "text": [
      "Detected kernel version 4.18.0, which is below the recommended minimum of 5.5.0; this can cause the process to hang. It is recommended to upgrade the kernel to the minimum version or higher.\n"
     ]
    },
    {
     "data": {
      "text/html": [
       "\n",
       "    <div>\n",
       "      \n",
       "      <progress value='200' max='200' style='width:300px; height:20px; vertical-align: middle;'></progress>\n",
       "      [200/200 29:21, Epoch 10/10]\n",
       "    </div>\n",
       "    <table border=\"1\" class=\"dataframe\">\n",
       "  <thead>\n",
       " <tr style=\"text-align: left;\">\n",
       "      <th>Epoch</th>\n",
       "      <th>Training Loss</th>\n",
       "      <th>Validation Loss</th>\n",
       "      <th>Accuracy</th>\n",
       "    </tr>\n",
       "  </thead>\n",
       "  <tbody>\n",
       "    <tr>\n",
       "      <td>1</td>\n",
       "      <td>0.714200</td>\n",
       "      <td>0.678653</td>\n",
       "      <td>0.682927</td>\n",
       "    </tr>\n",
       "    <tr>\n",
       "      <td>2</td>\n",
       "      <td>0.721900</td>\n",
       "      <td>0.676738</td>\n",
       "      <td>0.682927</td>\n",
       "    </tr>\n",
       "    <tr>\n",
       "      <td>3</td>\n",
       "      <td>0.700900</td>\n",
       "      <td>0.673793</td>\n",
       "      <td>0.682927</td>\n",
       "    </tr>\n",
       "    <tr>\n",
       "      <td>4</td>\n",
       "      <td>0.713500</td>\n",
       "      <td>0.670841</td>\n",
       "      <td>0.634146</td>\n",
       "    </tr>\n",
       "    <tr>\n",
       "      <td>5</td>\n",
       "      <td>0.700100</td>\n",
       "      <td>0.667263</td>\n",
       "      <td>0.634146</td>\n",
       "    </tr>\n",
       "    <tr>\n",
       "      <td>6</td>\n",
       "      <td>0.697700</td>\n",
       "      <td>0.661284</td>\n",
       "      <td>0.682927</td>\n",
       "    </tr>\n",
       "    <tr>\n",
       "      <td>7</td>\n",
       "      <td>0.671000</td>\n",
       "      <td>0.656515</td>\n",
       "      <td>0.682927</td>\n",
       "    </tr>\n",
       "    <tr>\n",
       "      <td>8</td>\n",
       "      <td>0.653300</td>\n",
       "      <td>0.651695</td>\n",
       "      <td>0.731707</td>\n",
       "    </tr>\n",
       "    <tr>\n",
       "      <td>9</td>\n",
       "      <td>0.671700</td>\n",
       "      <td>0.644967</td>\n",
       "      <td>0.780488</td>\n",
       "    </tr>\n",
       "    <tr>\n",
       "      <td>10</td>\n",
       "      <td>0.680700</td>\n",
       "      <td>0.635483</td>\n",
       "      <td>0.780488</td>\n",
       "    </tr>\n",
       "  </tbody>\n",
       "</table><p>"
      ],
      "text/plain": [
       "<IPython.core.display.HTML object>"
      ]
     },
     "metadata": {},
     "output_type": "display_data"
    },
    {
     "name": "stdout",
     "output_type": "stream",
     "text": [
      "Saved improved model to ./model_output\n"
     ]
    },
    {
     "name": "stderr",
     "output_type": "stream",
     "text": [
      "Removed shared tensor {'encoder.embed_tokens.weight'} while saving. This should be OK, but check by verifying that you don't receive any warning while reloading\n"
     ]
    },
    {
     "name": "stdout",
     "output_type": "stream",
     "text": [
      "Saved improved model to ./model_output\n",
      "Saved improved model to ./model_output\n",
      "Saved improved model to ./model_output\n",
      "Saved improved model to ./model_output\n",
      "Saved improved model to ./model_output\n",
      "Saved improved model to ./model_output\n",
      "Saved improved model to ./model_output\n",
      "Saved improved model to ./model_output\n",
      "Saved improved model to ./model_output\n",
      "Loaded best model from ./model_output/finetuned_model.pth\n"
     ]
    },
    {
     "data": {
      "text/html": [
       "\n",
       "    <div>\n",
       "      \n",
       "      <progress value='6' max='6' style='width:300px; height:20px; vertical-align: middle;'></progress>\n",
       "      [6/6 00:04]\n",
       "    </div>\n",
       "    "
      ],
      "text/plain": [
       "<IPython.core.display.HTML object>"
      ]
     },
     "metadata": {},
     "output_type": "display_data"
    },
    {
     "name": "stdout",
     "output_type": "stream",
     "text": [
      "{'eval_loss': 0.6354833245277405, 'eval_accuracy': 0.7804878048780488, 'eval_runtime': 5.1742, 'eval_samples_per_second': 7.924, 'eval_steps_per_second': 1.16, 'epoch': 10.0}\n",
      "Batch 1, Second-to-Last Layer Embeddings Shape: (32, 1024)\n",
      "Batch 2, Second-to-Last Layer Embeddings Shape: (9, 1024)\n"
     ]
    },
    {
     "data": {
      "image/png": "[encoded data removed]",
      "text/plain": [
       "<Figure size 800x600 with 1 Axes>"
      ]
     },
     "metadata": {},
     "output_type": "display_data"
    },
    {
     "name": "stderr",
     "output_type": "stream",
     "text": [
      "[I 2024-05-15 23:59:54,530] Trial 0 finished with values: [0.6354833245277405, 0.7804878048780488] and parameters: {'lr': 0.00011058231722699195, 'batch': 1, 'accum': 8, 'dropout_rate': 0.7666761129724191, 'weight_decay': 0.0002354692781896927, 'warmup_pct': 0.2700675001933709}. \n"
     ]
    },
    {
     "name": "stdout",
     "output_type": "stream",
     "text": [
      "History:  [{'loss': 0.7142, 'learning_rate': 5.119551723471849e-06, 'epoch': 1.0, 'step': 20}, {'eval_loss': 0.6786525845527649, 'eval_accuracy': 0.6829268292682927, 'eval_runtime': 1.826, 'eval_samples_per_second': 22.453, 'eval_steps_per_second': 3.286, 'epoch': 1.0, 'step': 20}, {'loss': 0.7219, 'learning_rate': 1.0239103446943699e-05, 'epoch': 2.0, 'step': 40}, {'eval_loss': 0.676737904548645, 'eval_accuracy': 0.6829268292682927, 'eval_runtime': 4.0213, 'eval_samples_per_second': 10.196, 'eval_steps_per_second': 1.492, 'epoch': 2.0, 'step': 40}, {'loss': 0.7009, 'learning_rate': 1.535865517041555e-05, 'epoch': 3.0, 'step': 60}, {'eval_loss': 0.6737927198410034, 'eval_accuracy': 0.6829268292682927, 'eval_runtime': 6.9439, 'eval_samples_per_second': 5.904, 'eval_steps_per_second': 0.864, 'epoch': 3.0, 'step': 60}, {'loss': 0.7135, 'learning_rate': 2.0478206893887398e-05, 'epoch': 4.0, 'step': 80}, {'eval_loss': 0.6708405613899231, 'eval_accuracy': 0.6341463414634146, 'eval_runtime': 6.956, 'eval_samples_per_second': 5.894, 'eval_steps_per_second': 0.863, 'epoch': 4.0, 'step': 80}, {'loss': 0.7001, 'learning_rate': 2.5597758617359248e-05, 'epoch': 5.0, 'step': 100}, {'eval_loss': 0.6672625541687012, 'eval_accuracy': 0.6341463414634146, 'eval_runtime': 6.9522, 'eval_samples_per_second': 5.897, 'eval_steps_per_second': 0.863, 'epoch': 5.0, 'step': 100}, {'loss': 0.6977, 'learning_rate': 3.07173103408311e-05, 'epoch': 6.0, 'step': 120}, {'eval_loss': 0.661283552646637, 'eval_accuracy': 0.6829268292682927, 'eval_runtime': 6.9601, 'eval_samples_per_second': 5.891, 'eval_steps_per_second': 0.862, 'epoch': 6.0, 'step': 120}, {'loss': 0.671, 'learning_rate': 3.5836862064302945e-05, 'epoch': 7.0, 'step': 140}, {'eval_loss': 0.6565151810646057, 'eval_accuracy': 0.6829268292682927, 'eval_runtime': 6.9871, 'eval_samples_per_second': 5.868, 'eval_steps_per_second': 0.859, 'epoch': 7.0, 'step': 140}, {'loss': 0.6533, 'learning_rate': 4.0956413787774795e-05, 'epoch': 8.0, 'step': 160}, {'eval_loss': 0.6516945958137512, 'eval_accuracy': 0.7317073170731707, 'eval_runtime': 6.9611, 'eval_samples_per_second': 5.89, 'eval_steps_per_second': 0.862, 'epoch': 8.0, 'step': 160}, {'loss': 0.6717, 'learning_rate': 4.607596551124665e-05, 'epoch': 9.0, 'step': 180}, {'eval_loss': 0.6449666619300842, 'eval_accuracy': 0.7804878048780488, 'eval_runtime': 6.9583, 'eval_samples_per_second': 5.892, 'eval_steps_per_second': 0.862, 'epoch': 9.0, 'step': 180}, {'loss': 0.6807, 'learning_rate': 5.1195517234718496e-05, 'epoch': 10.0, 'step': 200}, {'eval_loss': 0.6354833245277405, 'eval_accuracy': 0.7804878048780488, 'eval_runtime': 6.9854, 'eval_samples_per_second': 5.869, 'eval_steps_per_second': 0.859, 'epoch': 10.0, 'step': 200}, {'train_runtime': 1764.697, 'train_samples_per_second': 0.907, 'train_steps_per_second': 0.113, 'total_flos': 395439794745600.0, 'train_loss': 0.6924784898757934, 'epoch': 10.0, 'step': 200}, {'eval_loss': 0.6354833245277405, 'eval_accuracy': 0.7804878048780488, 'eval_runtime': 5.1742, 'eval_samples_per_second': 7.924, 'eval_steps_per_second': 1.16, 'epoch': 10.0, 'step': 200}]\n"
     ]
    },
    {
     "name": "stderr",
     "output_type": "stream",
     "text": [
      "Detected kernel version 4.18.0, which is below the recommended minimum of 5.5.0; this can cause the process to hang. It is recommended to upgrade the kernel to the minimum version or higher.\n"
     ]
    },
    {
     "name": "stdout",
     "output_type": "stream",
     "text": [
      "ProtT5_Classfier\n",
      "Trainable Parameter: 1209193475.0\n",
      "ProtT5_LoRA_Classfier\n",
      "Trainable Parameter: 3559427.0\n",
      "\n"
     ]
    },
    {
     "data": {
      "text/html": [
       "\n",
       "    <div>\n",
       "      \n",
       "      <progress value='80' max='100' style='width:300px; height:20px; vertical-align: middle;'></progress>\n",
       "      [ 80/100 13:43 < 03:31, 0.09 it/s, Epoch 8/10]\n",
       "    </div>\n",
       "    <table border=\"1\" class=\"dataframe\">\n",
       "  <thead>\n",
       " <tr style=\"text-align: left;\">\n",
       "      <th>Epoch</th>\n",
       "      <th>Training Loss</th>\n",
       "      <th>Validation Loss</th>\n",
       "      <th>Accuracy</th>\n",
       "    </tr>\n",
       "  </thead>\n",
       "  <tbody>\n",
       "    <tr>\n",
       "      <td>1</td>\n",
       "      <td>0.693900</td>\n",
       "      <td>0.663615</td>\n",
       "      <td>0.585366</td>\n",
       "    </tr>\n",
       "    <tr>\n",
       "      <td>2</td>\n",
       "      <td>0.643400</td>\n",
       "      <td>0.623436</td>\n",
       "      <td>0.780488</td>\n",
       "    </tr>\n",
       "    <tr>\n",
       "      <td>3</td>\n",
       "      <td>0.589000</td>\n",
       "      <td>0.576932</td>\n",
       "      <td>0.756098</td>\n",
       "    </tr>\n",
       "    <tr>\n",
       "      <td>4</td>\n",
       "      <td>0.530500</td>\n",
       "      <td>0.538753</td>\n",
       "      <td>0.682927</td>\n",
       "    </tr>\n",
       "    <tr>\n",
       "      <td>5</td>\n",
       "      <td>0.419700</td>\n",
       "      <td>0.513712</td>\n",
       "      <td>0.731707</td>\n",
       "    </tr>\n",
       "    <tr>\n",
       "      <td>6</td>\n",
       "      <td>0.392300</td>\n",
       "      <td>0.539723</td>\n",
       "      <td>0.707317</td>\n",
       "    </tr>\n",
       "    <tr>\n",
       "      <td>7</td>\n",
       "      <td>0.334600</td>\n",
       "      <td>0.567228</td>\n",
       "      <td>0.756098</td>\n",
       "    </tr>\n",
       "    <tr>\n",
       "      <td>8</td>\n",
       "      <td>0.354100</td>\n",
       "      <td>0.607680</td>\n",
       "      <td>0.707317</td>\n",
       "    </tr>\n",
       "  </tbody>\n",
       "</table><p>"
      ],
      "text/plain": [
       "<IPython.core.display.HTML object>"
      ]
     },
     "metadata": {},
     "output_type": "display_data"
    },
    {
     "name": "stdout",
     "output_type": "stream",
     "text": [
      "Saved improved model to ./model_output\n",
      "Saved improved model to ./model_output\n",
      "Saved improved model to ./model_output\n",
      "Saved improved model to ./model_output\n",
      "Saved improved model to ./model_output\n",
      "Stopping early at epoch 8.0: No improvement in loss or accuracy for 3 evaluations.\n",
      "Loaded best model from ./model_output/finetuned_model.pth\n"
     ]
    },
    {
     "data": {
      "text/html": [
       "\n",
       "    <div>\n",
       "      \n",
       "      <progress value='6' max='6' style='width:300px; height:20px; vertical-align: middle;'></progress>\n",
       "      [6/6 00:01]\n",
       "    </div>\n",
       "    "
      ],
      "text/plain": [
       "<IPython.core.display.HTML object>"
      ]
     },
     "metadata": {},
     "output_type": "display_data"
    },
    {
     "name": "stdout",
     "output_type": "stream",
     "text": [
      "Stopping early at epoch 8.0: No improvement in loss or accuracy for 3 evaluations.\n",
      "{'eval_loss': 0.51371169090271, 'eval_accuracy': 0.7317073170731707, 'eval_runtime': 1.8147, 'eval_samples_per_second': 22.594, 'eval_steps_per_second': 3.306, 'epoch': 8.0}\n",
      "Batch 1, Second-to-Last Layer Embeddings Shape: (32, 1024)\n",
      "Batch 2, Second-to-Last Layer Embeddings Shape: (9, 1024)\n"
     ]
    },
    {
     "data": {
      "image/png": "[encoded data removed]",
      "text/plain": [
       "<Figure size 800x600 with 1 Axes>"
      ]
     },
     "metadata": {},
     "output_type": "display_data"
    },
    {
     "name": "stderr",
     "output_type": "stream",
     "text": [
      "[I 2024-05-16 00:15:02,253] Trial 1 finished with values: [0.51371169090271, 0.7317073170731707] and parameters: {'lr': 0.0018193194307591226, 'batch': 2, 'accum': 8, 'dropout_rate': 0.6756701963482429, 'weight_decay': 0.0005415087410139336, 'warmup_pct': 0.12441671274485655}. \n"
     ]
    },
    {
     "name": "stdout",
     "output_type": "stream",
     "text": [
      "History:  [{'loss': 0.6939, 'learning_rate': 0.00018376963947061843, 'epoch': 1.0, 'step': 10}, {'eval_loss': 0.6636154651641846, 'eval_accuracy': 0.5853658536585366, 'eval_runtime': 6.887, 'eval_samples_per_second': 5.953, 'eval_steps_per_second': 0.871, 'epoch': 1.0, 'step': 10}, {'loss': 0.6434, 'learning_rate': 0.00036753927894123687, 'epoch': 2.0, 'step': 20}, {'eval_loss': 0.6234356164932251, 'eval_accuracy': 0.7804878048780488, 'eval_runtime': 6.7415, 'eval_samples_per_second': 6.082, 'eval_steps_per_second': 0.89, 'epoch': 2.0, 'step': 20}, {'loss': 0.589, 'learning_rate': 0.0005513089184118554, 'epoch': 3.0, 'step': 30}, {'eval_loss': 0.5769320130348206, 'eval_accuracy': 0.7560975609756098, 'eval_runtime': 5.0387, 'eval_samples_per_second': 8.137, 'eval_steps_per_second': 1.191, 'epoch': 3.0, 'step': 30}, {'loss': 0.5305, 'learning_rate': 0.0007350785578824737, 'epoch': 4.0, 'step': 40}, {'eval_loss': 0.5387529730796814, 'eval_accuracy': 0.6829268292682927, 'eval_runtime': 5.8844, 'eval_samples_per_second': 6.968, 'eval_steps_per_second': 1.02, 'epoch': 4.0, 'step': 40}, {'loss': 0.4197, 'learning_rate': 0.0009188481973530923, 'epoch': 5.0, 'step': 50}, {'eval_loss': 0.51371169090271, 'eval_accuracy': 0.7317073170731707, 'eval_runtime': 6.9818, 'eval_samples_per_second': 5.872, 'eval_steps_per_second': 0.859, 'epoch': 5.0, 'step': 50}, {'loss': 0.3923, 'learning_rate': 0.0011026178368237108, 'epoch': 6.0, 'step': 60}, {'eval_loss': 0.539722740650177, 'eval_accuracy': 0.7073170731707317, 'eval_runtime': 4.0445, 'eval_samples_per_second': 10.137, 'eval_steps_per_second': 1.484, 'epoch': 6.0, 'step': 60}, {'loss': 0.3346, 'learning_rate': 0.0012863874762943292, 'epoch': 7.0, 'step': 70}, {'eval_loss': 0.5672284364700317, 'eval_accuracy': 0.7560975609756098, 'eval_runtime': 4.3908, 'eval_samples_per_second': 9.338, 'eval_steps_per_second': 1.367, 'epoch': 7.0, 'step': 70}, {'loss': 0.3541, 'learning_rate': 0.0014701571157649475, 'epoch': 8.0, 'step': 80}, {'eval_loss': 0.6076796650886536, 'eval_accuracy': 0.7073170731707317, 'eval_runtime': 4.6492, 'eval_samples_per_second': 8.819, 'eval_steps_per_second': 1.291, 'epoch': 8.0, 'step': 80}, {'train_runtime': 825.8732, 'train_samples_per_second': 1.937, 'train_steps_per_second': 0.121, 'total_flos': 316351835796480.0, 'train_loss': 0.4946843534708023, 'epoch': 8.0, 'step': 80}, {'eval_loss': 0.51371169090271, 'eval_accuracy': 0.7317073170731707, 'eval_runtime': 1.8147, 'eval_samples_per_second': 22.594, 'eval_steps_per_second': 3.306, 'epoch': 8.0, 'step': 80}]\n"
     ]
    },
    {
     "name": "stderr",
     "output_type": "stream",
     "text": [
      "Detected kernel version 4.18.0, which is below the recommended minimum of 5.5.0; this can cause the process to hang. It is recommended to upgrade the kernel to the minimum version or higher.\n"
     ]
    },
    {
     "name": "stdout",
     "output_type": "stream",
     "text": [
      "ProtT5_Classfier\n",
      "Trainable Parameter: 1209193475.0\n",
      "ProtT5_LoRA_Classfier\n",
      "Trainable Parameter: 3559427.0\n",
      "\n"
     ]
    },
    {
     "data": {
      "text/html": [
       "\n",
       "    <div>\n",
       "      \n",
       "      <progress value='400' max='400' style='width:300px; height:20px; vertical-align: middle;'></progress>\n",
       "      [400/400 17:26, Epoch 10/10]\n",
       "    </div>\n",
       "    <table border=\"1\" class=\"dataframe\">\n",
       "  <thead>\n",
       " <tr style=\"text-align: left;\">\n",
       "      <th>Epoch</th>\n",
       "      <th>Training Loss</th>\n",
       "      <th>Validation Loss</th>\n",
       "      <th>Accuracy</th>\n",
       "    </tr>\n",
       "  </thead>\n",
       "  <tbody>\n",
       "    <tr>\n",
       "      <td>1</td>\n",
       "      <td>0.775900</td>\n",
       "      <td>0.672054</td>\n",
       "      <td>0.658537</td>\n",
       "    </tr>\n",
       "    <tr>\n",
       "      <td>2</td>\n",
       "      <td>0.788000</td>\n",
       "      <td>0.651242</td>\n",
       "      <td>0.658537</td>\n",
       "    </tr>\n",
       "    <tr>\n",
       "      <td>3</td>\n",
       "      <td>0.705400</td>\n",
       "      <td>0.638199</td>\n",
       "      <td>0.682927</td>\n",
       "    </tr>\n",
       "    <tr>\n",
       "      <td>4</td>\n",
       "      <td>0.697100</td>\n",
       "      <td>0.628229</td>\n",
       "      <td>0.585366</td>\n",
       "    </tr>\n",
       "    <tr>\n",
       "      <td>5</td>\n",
       "      <td>0.662100</td>\n",
       "      <td>0.618123</td>\n",
       "      <td>0.658537</td>\n",
       "    </tr>\n",
       "    <tr>\n",
       "      <td>6</td>\n",
       "      <td>0.751300</td>\n",
       "      <td>0.609649</td>\n",
       "      <td>0.707317</td>\n",
       "    </tr>\n",
       "    <tr>\n",
       "      <td>7</td>\n",
       "      <td>0.627200</td>\n",
       "      <td>0.603024</td>\n",
       "      <td>0.707317</td>\n",
       "    </tr>\n",
       "    <tr>\n",
       "      <td>8</td>\n",
       "      <td>0.637600</td>\n",
       "      <td>0.597376</td>\n",
       "      <td>0.682927</td>\n",
       "    </tr>\n",
       "    <tr>\n",
       "      <td>9</td>\n",
       "      <td>0.648600</td>\n",
       "      <td>0.595515</td>\n",
       "      <td>0.682927</td>\n",
       "    </tr>\n",
       "    <tr>\n",
       "      <td>10</td>\n",
       "      <td>0.646300</td>\n",
       "      <td>0.594918</td>\n",
       "      <td>0.682927</td>\n",
       "    </tr>\n",
       "  </tbody>\n",
       "</table><p>"
      ],
      "text/plain": [
       "<IPython.core.display.HTML object>"
      ]
     },
     "metadata": {},
     "output_type": "display_data"
    },
    {
     "name": "stdout",
     "output_type": "stream",
     "text": [
      "Saved improved model to ./model_output\n",
      "Saved improved model to ./model_output\n",
      "Saved improved model to ./model_output\n",
      "Saved improved model to ./model_output\n",
      "Saved improved model to ./model_output\n",
      "Saved improved model to ./model_output\n",
      "Saved improved model to ./model_output\n",
      "Saved improved model to ./model_output\n",
      "Saved improved model to ./model_output\n",
      "Loaded best model from ./model_output/finetuned_model.pth\n"
     ]
    },
    {
     "data": {
      "text/html": [
       "\n",
       "    <div>\n",
       "      \n",
       "      <progress value='6' max='6' style='width:300px; height:20px; vertical-align: middle;'></progress>\n",
       "      [6/6 00:01]\n",
       "    </div>\n",
       "    "
      ],
      "text/plain": [
       "<IPython.core.display.HTML object>"
      ]
     },
     "metadata": {},
     "output_type": "display_data"
    },
    {
     "name": "stdout",
     "output_type": "stream",
     "text": [
      "{'eval_loss': 0.5955148339271545, 'eval_accuracy': 0.6829268292682927, 'eval_runtime': 1.9213, 'eval_samples_per_second': 21.34, 'eval_steps_per_second': 3.123, 'epoch': 10.0}\n",
      "Batch 1, Second-to-Last Layer Embeddings Shape: (32, 1024)\n",
      "Batch 2, Second-to-Last Layer Embeddings Shape: (9, 1024)\n"
     ]
    },
    {
     "data": {
      "image/png": "[encoded data removed]",
      "text/plain": [
       "<Figure size 800x600 with 1 Axes>"
      ]
     },
     "metadata": {},
     "output_type": "display_data"
    },
    {
     "name": "stdout",
     "output_type": "stream",
     "text": [
      "History:  [{'loss': 0.7759, 'learning_rate': 0.00024314891443210878, 'epoch': 1.0, 'step': 40}, {'eval_loss': 0.6720536947250366, 'eval_accuracy': 0.6585365853658537, 'eval_runtime': 6.5836, 'eval_samples_per_second': 6.228, 'eval_steps_per_second': 0.911, 'epoch': 1.0, 'step': 40}, {'loss': 0.788, 'learning_rate': 0.00021613236838409668, 'epoch': 2.0, 'step': 80}, {'eval_loss': 0.6512420773506165, 'eval_accuracy': 0.6585365853658537, 'eval_runtime': 6.9244, 'eval_samples_per_second': 5.921, 'eval_steps_per_second': 0.866, 'epoch': 2.0, 'step': 80}, {'loss': 0.7054, 'learning_rate': 0.00018911582233608462, 'epoch': 3.0, 'step': 120}, {'eval_loss': 0.6381993889808655, 'eval_accuracy': 0.6829268292682927, 'eval_runtime': 6.9618, 'eval_samples_per_second': 5.889, 'eval_steps_per_second': 0.862, 'epoch': 3.0, 'step': 120}, {'loss': 0.6971, 'learning_rate': 0.00016209927628807252, 'epoch': 4.0, 'step': 160}, {'eval_loss': 0.6282294392585754, 'eval_accuracy': 0.5853658536585366, 'eval_runtime': 6.4572, 'eval_samples_per_second': 6.349, 'eval_steps_per_second': 0.929, 'epoch': 4.0, 'step': 160}, {'loss': 0.6621, 'learning_rate': 0.00013508273024006044, 'epoch': 5.0, 'step': 200}, {'eval_loss': 0.6181229948997498, 'eval_accuracy': 0.6585365853658537, 'eval_runtime': 6.9342, 'eval_samples_per_second': 5.913, 'eval_steps_per_second': 0.865, 'epoch': 5.0, 'step': 200}, {'loss': 0.7513, 'learning_rate': 0.00010806618419204834, 'epoch': 6.0, 'step': 240}, {'eval_loss': 0.6096493601799011, 'eval_accuracy': 0.7073170731707317, 'eval_runtime': 6.9186, 'eval_samples_per_second': 5.926, 'eval_steps_per_second': 0.867, 'epoch': 6.0, 'step': 240}, {'loss': 0.6272, 'learning_rate': 8.104963814403626e-05, 'epoch': 7.0, 'step': 280}, {'eval_loss': 0.6030242443084717, 'eval_accuracy': 0.7073170731707317, 'eval_runtime': 3.038, 'eval_samples_per_second': 13.496, 'eval_steps_per_second': 1.975, 'epoch': 7.0, 'step': 280}, {'loss': 0.6376, 'learning_rate': 5.403309209602417e-05, 'epoch': 8.0, 'step': 320}, {'eval_loss': 0.5973759293556213, 'eval_accuracy': 0.6829268292682927, 'eval_runtime': 6.8485, 'eval_samples_per_second': 5.987, 'eval_steps_per_second': 0.876, 'epoch': 8.0, 'step': 320}, {'loss': 0.6486, 'learning_rate': 2.7016546048012084e-05, 'epoch': 9.0, 'step': 360}, {'eval_loss': 0.5955148339271545, 'eval_accuracy': 0.6829268292682927, 'eval_runtime': 6.8006, 'eval_samples_per_second': 6.029, 'eval_steps_per_second': 0.882, 'epoch': 9.0, 'step': 360}, {'loss': 0.6463, 'learning_rate': 0.0, 'epoch': 10.0, 'step': 400}, {'eval_loss': 0.5949184894561768, 'eval_accuracy': 0.6829268292682927, 'eval_runtime': 6.9626, 'eval_samples_per_second': 5.889, 'eval_steps_per_second': 0.862, 'epoch': 10.0, 'step': 400}, {'train_runtime': 1047.6076, 'train_samples_per_second': 1.527, 'train_steps_per_second': 0.382, 'total_flos': 395439794745600.0, 'train_loss': 0.693947811126709, 'epoch': 10.0, 'step': 400}, {'eval_loss': 0.5955148339271545, 'eval_accuracy': 0.6829268292682927, 'eval_runtime': 1.9213, 'eval_samples_per_second': 21.34, 'eval_steps_per_second': 3.123, 'epoch': 10.0, 'step': 400}]\n"
     ]
    },
    {
     "name": "stderr",
     "output_type": "stream",
     "text": [
      "[I 2024-05-16 00:33:55,371] Trial 2 finished with values: [0.5955148339271545, 0.6829268292682927] and parameters: {'lr': 0.0002444997417345094, 'batch': 2, 'accum': 2, 'dropout_rate': 0.8896441520140961, 'weight_decay': 1.9256572659743762e-05, 'warmup_pct': 0.04855582062193914}. \n",
      "Detected kernel version 4.18.0, which is below the recommended minimum of 5.5.0; this can cause the process to hang. It is recommended to upgrade the kernel to the minimum version or higher.\n"
     ]
    },
    {
     "name": "stdout",
     "output_type": "stream",
     "text": [
      "ProtT5_Classfier\n",
      "Trainable Parameter: 1209193475.0\n",
      "ProtT5_LoRA_Classfier\n",
      "Trainable Parameter: 3559427.0\n",
      "\n"
     ]
    },
    {
     "data": {
      "text/html": [
       "\n",
       "    <div>\n",
       "      \n",
       "      <progress value='50' max='50' style='width:300px; height:20px; vertical-align: middle;'></progress>\n",
       "      [50/50 13:21, Epoch 10/10]\n",
       "    </div>\n",
       "    <table border=\"1\" class=\"dataframe\">\n",
       "  <thead>\n",
       " <tr style=\"text-align: left;\">\n",
       "      <th>Epoch</th>\n",
       "      <th>Training Loss</th>\n",
       "      <th>Validation Loss</th>\n",
       "      <th>Accuracy</th>\n",
       "    </tr>\n",
       "  </thead>\n",
       "  <tbody>\n",
       "    <tr>\n",
       "      <td>1</td>\n",
       "      <td>0.699600</td>\n",
       "      <td>0.674735</td>\n",
       "      <td>0.634146</td>\n",
       "    </tr>\n",
       "    <tr>\n",
       "      <td>2</td>\n",
       "      <td>0.675900</td>\n",
       "      <td>0.658453</td>\n",
       "      <td>0.707317</td>\n",
       "    </tr>\n",
       "    <tr>\n",
       "      <td>3</td>\n",
       "      <td>0.649900</td>\n",
       "      <td>0.633475</td>\n",
       "      <td>0.731707</td>\n",
       "    </tr>\n",
       "    <tr>\n",
       "      <td>4</td>\n",
       "      <td>0.602300</td>\n",
       "      <td>0.603354</td>\n",
       "      <td>0.707317</td>\n",
       "    </tr>\n",
       "    <tr>\n",
       "      <td>5</td>\n",
       "      <td>0.541300</td>\n",
       "      <td>0.572654</td>\n",
       "      <td>0.682927</td>\n",
       "    </tr>\n",
       "    <tr>\n",
       "      <td>6</td>\n",
       "      <td>0.505000</td>\n",
       "      <td>0.544585</td>\n",
       "      <td>0.731707</td>\n",
       "    </tr>\n",
       "    <tr>\n",
       "      <td>7</td>\n",
       "      <td>0.442200</td>\n",
       "      <td>0.532325</td>\n",
       "      <td>0.682927</td>\n",
       "    </tr>\n",
       "    <tr>\n",
       "      <td>8</td>\n",
       "      <td>0.381800</td>\n",
       "      <td>0.525056</td>\n",
       "      <td>0.731707</td>\n",
       "    </tr>\n",
       "    <tr>\n",
       "      <td>9</td>\n",
       "      <td>0.350600</td>\n",
       "      <td>0.519312</td>\n",
       "      <td>0.756098</td>\n",
       "    </tr>\n",
       "    <tr>\n",
       "      <td>10</td>\n",
       "      <td>0.289500</td>\n",
       "      <td>0.520680</td>\n",
       "      <td>0.756098</td>\n",
       "    </tr>\n",
       "  </tbody>\n",
       "</table><p>"
      ],
      "text/plain": [
       "<IPython.core.display.HTML object>"
      ]
     },
     "metadata": {},
     "output_type": "display_data"
    },
    {
     "name": "stdout",
     "output_type": "stream",
     "text": [
      "Saved improved model to ./model_output\n",
      "Saved improved model to ./model_output\n",
      "Saved improved model to ./model_output\n",
      "Saved improved model to ./model_output\n",
      "Saved improved model to ./model_output\n",
      "Saved improved model to ./model_output\n",
      "Saved improved model to ./model_output\n",
      "Saved improved model to ./model_output\n",
      "Saved improved model to ./model_output\n",
      "Loaded best model from ./model_output/finetuned_model.pth\n"
     ]
    },
    {
     "data": {
      "text/html": [
       "\n",
       "    <div>\n",
       "      \n",
       "      <progress value='6' max='6' style='width:300px; height:20px; vertical-align: middle;'></progress>\n",
       "      [6/6 00:01]\n",
       "    </div>\n",
       "    "
      ],
      "text/plain": [
       "<IPython.core.display.HTML object>"
      ]
     },
     "metadata": {},
     "output_type": "display_data"
    },
    {
     "name": "stdout",
     "output_type": "stream",
     "text": [
      "{'eval_loss': 0.5193122029304504, 'eval_accuracy': 0.7560975609756098, 'eval_runtime': 1.8272, 'eval_samples_per_second': 22.439, 'eval_steps_per_second': 3.284, 'epoch': 10.0}\n",
      "Batch 1, Second-to-Last Layer Embeddings Shape: (32, 1024)\n",
      "Batch 2, Second-to-Last Layer Embeddings Shape: (9, 1024)\n"
     ]
    },
    {
     "data": {
      "image/png": "[encoded data removed]",
      "text/plain": [
       "<Figure size 800x600 with 1 Axes>"
      ]
     },
     "metadata": {},
     "output_type": "display_data"
    },
    {
     "name": "stderr",
     "output_type": "stream",
     "text": [
      "[I 2024-05-16 00:48:51,907] Trial 3 finished with values: [0.5193122029304504, 0.7560975609756098] and parameters: {'lr': 0.0012567035595427748, 'batch': 4, 'accum': 8, 'dropout_rate': 0.3667307864770569, 'weight_decay': 0.00013194757024765502, 'warmup_pct': 0.2863591655616572}. \n"
     ]
    },
    {
     "name": "stdout",
     "output_type": "stream",
     "text": [
      "History:  [{'loss': 0.6996, 'learning_rate': 5.511857717292872e-05, 'epoch': 1.0, 'step': 5}, {'eval_loss': 0.6747348308563232, 'eval_accuracy': 0.6341463414634146, 'eval_runtime': 2.6228, 'eval_samples_per_second': 15.632, 'eval_steps_per_second': 2.288, 'epoch': 1.0, 'step': 5}, {'loss': 0.6759, 'learning_rate': 0.00011023715434585743, 'epoch': 2.0, 'step': 10}, {'eval_loss': 0.6584533452987671, 'eval_accuracy': 0.7073170731707317, 'eval_runtime': 5.1525, 'eval_samples_per_second': 7.957, 'eval_steps_per_second': 1.164, 'epoch': 2.0, 'step': 10}, {'loss': 0.6499, 'learning_rate': 0.00016535573151878614, 'epoch': 3.0, 'step': 15}, {'eval_loss': 0.6334750652313232, 'eval_accuracy': 0.7317073170731707, 'eval_runtime': 4.0166, 'eval_samples_per_second': 10.208, 'eval_steps_per_second': 1.494, 'epoch': 3.0, 'step': 15}, {'loss': 0.6023, 'learning_rate': 0.00022047430869171487, 'epoch': 4.0, 'step': 20}, {'eval_loss': 0.6033544540405273, 'eval_accuracy': 0.7073170731707317, 'eval_runtime': 3.0813, 'eval_samples_per_second': 13.306, 'eval_steps_per_second': 1.947, 'epoch': 4.0, 'step': 20}, {'loss': 0.5413, 'learning_rate': 0.0002755928858646436, 'epoch': 5.0, 'step': 25}, {'eval_loss': 0.5726544857025146, 'eval_accuracy': 0.6829268292682927, 'eval_runtime': 5.1752, 'eval_samples_per_second': 7.922, 'eval_steps_per_second': 1.159, 'epoch': 5.0, 'step': 25}, {'loss': 0.505, 'learning_rate': 0.0003307114630375723, 'epoch': 6.0, 'step': 30}, {'eval_loss': 0.5445852875709534, 'eval_accuracy': 0.7317073170731707, 'eval_runtime': 6.4654, 'eval_samples_per_second': 6.341, 'eval_steps_per_second': 0.928, 'epoch': 6.0, 'step': 30}, {'loss': 0.4422, 'learning_rate': 0.00038583004021050104, 'epoch': 7.0, 'step': 35}, {'eval_loss': 0.5323251485824585, 'eval_accuracy': 0.6829268292682927, 'eval_runtime': 4.928, 'eval_samples_per_second': 8.32, 'eval_steps_per_second': 1.218, 'epoch': 7.0, 'step': 35}, {'loss': 0.3818, 'learning_rate': 0.00044094861738342973, 'epoch': 8.0, 'step': 40}, {'eval_loss': 0.5250555276870728, 'eval_accuracy': 0.7317073170731707, 'eval_runtime': 4.7964, 'eval_samples_per_second': 8.548, 'eval_steps_per_second': 1.251, 'epoch': 8.0, 'step': 40}, {'loss': 0.3506, 'learning_rate': 0.0004960671945563585, 'epoch': 9.0, 'step': 45}, {'eval_loss': 0.5193122029304504, 'eval_accuracy': 0.7560975609756098, 'eval_runtime': 4.5689, 'eval_samples_per_second': 8.974, 'eval_steps_per_second': 1.313, 'epoch': 9.0, 'step': 45}, {'loss': 0.2895, 'learning_rate': 0.0005511857717292872, 'epoch': 10.0, 'step': 50}, {'eval_loss': 0.5206798911094666, 'eval_accuracy': 0.7560975609756098, 'eval_runtime': 3.2377, 'eval_samples_per_second': 12.663, 'eval_steps_per_second': 1.853, 'epoch': 10.0, 'step': 50}, {'train_runtime': 805.4101, 'train_samples_per_second': 1.987, 'train_steps_per_second': 0.062, 'total_flos': 395439794745600.0, 'train_loss': 0.5138111400604248, 'epoch': 10.0, 'step': 50}, {'eval_loss': 0.5193122029304504, 'eval_accuracy': 0.7560975609756098, 'eval_runtime': 1.8272, 'eval_samples_per_second': 22.439, 'eval_steps_per_second': 3.284, 'epoch': 10.0, 'step': 50}]\n",
      "ProtT5_Classfier\n",
      "Trainable Parameter: 1209193475.0\n",
      "ProtT5_LoRA_Classfier\n",
      "Trainable Parameter: 3559427.0\n",
      "\n"
     ]
    },
    {
     "name": "stderr",
     "output_type": "stream",
     "text": [
      "Detected kernel version 4.18.0, which is below the recommended minimum of 5.5.0; this can cause the process to hang. It is recommended to upgrade the kernel to the minimum version or higher.\n"
     ]
    },
    {
     "data": {
      "text/html": [
       "\n",
       "    <div>\n",
       "      \n",
       "      <progress value='120' max='200' style='width:300px; height:20px; vertical-align: middle;'></progress>\n",
       "      [120/200 06:53 < 04:40, 0.29 it/s, Epoch 6/10]\n",
       "    </div>\n",
       "    <table border=\"1\" class=\"dataframe\">\n",
       "  <thead>\n",
       " <tr style=\"text-align: left;\">\n",
       "      <th>Epoch</th>\n",
       "      <th>Training Loss</th>\n",
       "      <th>Validation Loss</th>\n",
       "      <th>Accuracy</th>\n",
       "    </tr>\n",
       "  </thead>\n",
       "  <tbody>\n",
       "    <tr>\n",
       "      <td>1</td>\n",
       "      <td>0.683800</td>\n",
       "      <td>0.619712</td>\n",
       "      <td>0.707317</td>\n",
       "    </tr>\n",
       "    <tr>\n",
       "      <td>2</td>\n",
       "      <td>0.641400</td>\n",
       "      <td>0.576015</td>\n",
       "      <td>0.634146</td>\n",
       "    </tr>\n",
       "    <tr>\n",
       "      <td>3</td>\n",
       "      <td>0.685500</td>\n",
       "      <td>0.567434</td>\n",
       "      <td>0.756098</td>\n",
       "    </tr>\n",
       "    <tr>\n",
       "      <td>4</td>\n",
       "      <td>0.611700</td>\n",
       "      <td>0.778197</td>\n",
       "      <td>0.634146</td>\n",
       "    </tr>\n",
       "    <tr>\n",
       "      <td>5</td>\n",
       "      <td>0.680200</td>\n",
       "      <td>0.927348</td>\n",
       "      <td>0.707317</td>\n",
       "    </tr>\n",
       "    <tr>\n",
       "      <td>6</td>\n",
       "      <td>0.585800</td>\n",
       "      <td>1.744062</td>\n",
       "      <td>0.658537</td>\n",
       "    </tr>\n",
       "  </tbody>\n",
       "</table><p>"
      ],
      "text/plain": [
       "<IPython.core.display.HTML object>"
      ]
     },
     "metadata": {},
     "output_type": "display_data"
    },
    {
     "name": "stdout",
     "output_type": "stream",
     "text": [
      "Saved improved model to ./model_output\n",
      "Saved improved model to ./model_output\n",
      "Saved improved model to ./model_output\n",
      "Stopping early at epoch 6.0: No improvement in loss or accuracy for 3 evaluations.\n",
      "Loaded best model from ./model_output/finetuned_model.pth\n"
     ]
    },
    {
     "data": {
      "text/html": [
       "\n",
       "    <div>\n",
       "      \n",
       "      <progress value='6' max='6' style='width:300px; height:20px; vertical-align: middle;'></progress>\n",
       "      [6/6 00:01]\n",
       "    </div>\n",
       "    "
      ],
      "text/plain": [
       "<IPython.core.display.HTML object>"
      ]
     },
     "metadata": {},
     "output_type": "display_data"
    },
    {
     "name": "stdout",
     "output_type": "stream",
     "text": [
      "Stopping early at epoch 6.0: No improvement in loss or accuracy for 3 evaluations.\n",
      "{'eval_loss': 0.5674338936805725, 'eval_accuracy': 0.7560975609756098, 'eval_runtime': 1.8995, 'eval_samples_per_second': 21.584, 'eval_steps_per_second': 3.159, 'epoch': 6.0}\n",
      "Batch 1, Second-to-Last Layer Embeddings Shape: (32, 1024)\n",
      "Batch 2, Second-to-Last Layer Embeddings Shape: (9, 1024)\n"
     ]
    },
    {
     "data": {
      "image/png": "[encoded data removed]",
      "text/plain": [
       "<Figure size 800x600 with 1 Axes>"
      ]
     },
     "metadata": {},
     "output_type": "display_data"
    },
    {
     "name": "stdout",
     "output_type": "stream",
     "text": [
      "History:  [{'loss': 0.6838, 'learning_rate': 0.001168028807004327, 'epoch': 1.0, 'step': 20}, {'eval_loss': 0.6197122931480408, 'eval_accuracy': 0.7073170731707317, 'eval_runtime': 1.8213, 'eval_samples_per_second': 22.511, 'eval_steps_per_second': 3.294, 'epoch': 1.0, 'step': 20}, {'loss': 0.6414, 'learning_rate': 0.002336057614008654, 'epoch': 2.0, 'step': 40}, {'eval_loss': 0.5760149955749512, 'eval_accuracy': 0.6341463414634146, 'eval_runtime': 2.3513, 'eval_samples_per_second': 17.437, 'eval_steps_per_second': 2.552, 'epoch': 2.0, 'step': 40}, {'loss': 0.6855, 'learning_rate': 0.0035040864210129814, 'epoch': 3.0, 'step': 60}, {'eval_loss': 0.5674338936805725, 'eval_accuracy': 0.7560975609756098, 'eval_runtime': 2.9204, 'eval_samples_per_second': 14.039, 'eval_steps_per_second': 2.054, 'epoch': 3.0, 'step': 60}, {'loss': 0.6117, 'learning_rate': 0.004672115228017308, 'epoch': 4.0, 'step': 80}, {'eval_loss': 0.7781972885131836, 'eval_accuracy': 0.6341463414634146, 'eval_runtime': 6.02, 'eval_samples_per_second': 6.811, 'eval_steps_per_second': 0.997, 'epoch': 4.0, 'step': 80}, {'loss': 0.6802, 'learning_rate': 0.0038934293566810904, 'epoch': 5.0, 'step': 100}, {'eval_loss': 0.9273480772972107, 'eval_accuracy': 0.7073170731707317, 'eval_runtime': 6.8232, 'eval_samples_per_second': 6.009, 'eval_steps_per_second': 0.879, 'epoch': 5.0, 'step': 100}, {'loss': 0.5858, 'learning_rate': 0.003114743485344872, 'epoch': 6.0, 'step': 120}, {'eval_loss': 1.7440615892410278, 'eval_accuracy': 0.6585365853658537, 'eval_runtime': 4.671, 'eval_samples_per_second': 8.778, 'eval_steps_per_second': 1.285, 'epoch': 6.0, 'step': 120}, {'train_runtime': 414.5047, 'train_samples_per_second': 3.86, 'train_steps_per_second': 0.483, 'total_flos': 237263876847360.0, 'train_loss': 0.6480375448862712, 'epoch': 6.0, 'step': 120}, {'eval_loss': 0.5674338936805725, 'eval_accuracy': 0.7560975609756098, 'eval_runtime': 1.8995, 'eval_samples_per_second': 21.584, 'eval_steps_per_second': 3.159, 'epoch': 6.0, 'step': 120}]\n"
     ]
    },
    {
     "name": "stderr",
     "output_type": "stream",
     "text": [
      "[I 2024-05-16 00:57:04,792] Trial 4 finished with values: [0.5674338936805725, 0.7560975609756098] and parameters: {'lr': 0.004672115228017308, 'batch': 4, 'accum': 2, 'dropout_rate': 0.8171911170504492, 'weight_decay': 1.85934778252727e-05, 'warmup_pct': 0.20138353779423512}. \n"
     ]
    },
    {
     "name": "stdout",
     "output_type": "stream",
     "text": [
      "ProtT5_Classfier\n",
      "Trainable Parameter: 1209193475.0\n",
      "ProtT5_LoRA_Classfier\n",
      "Trainable Parameter: 3559427.0\n",
      "\n"
     ]
    },
    {
     "name": "stderr",
     "output_type": "stream",
     "text": [
      "Detected kernel version 4.18.0, which is below the recommended minimum of 5.5.0; this can cause the process to hang. It is recommended to upgrade the kernel to the minimum version or higher.\n"
     ]
    },
    {
     "data": {
      "text/html": [
       "\n",
       "    <div>\n",
       "      \n",
       "      <progress value='200' max='400' style='width:300px; height:20px; vertical-align: middle;'></progress>\n",
       "      [200/400 09:25 < 09:31, 0.35 it/s, Epoch 5/10]\n",
       "    </div>\n",
       "    <table border=\"1\" class=\"dataframe\">\n",
       "  <thead>\n",
       " <tr style=\"text-align: left;\">\n",
       "      <th>Epoch</th>\n",
       "      <th>Training Loss</th>\n",
       "      <th>Validation Loss</th>\n",
       "      <th>Accuracy</th>\n",
       "    </tr>\n",
       "  </thead>\n",
       "  <tbody>\n",
       "    <tr>\n",
       "      <td>1</td>\n",
       "      <td>0.678500</td>\n",
       "      <td>0.605548</td>\n",
       "      <td>0.804878</td>\n",
       "    </tr>\n",
       "    <tr>\n",
       "      <td>2</td>\n",
       "      <td>0.531600</td>\n",
       "      <td>0.531581</td>\n",
       "      <td>0.707317</td>\n",
       "    </tr>\n",
       "    <tr>\n",
       "      <td>3</td>\n",
       "      <td>0.451300</td>\n",
       "      <td>0.630641</td>\n",
       "      <td>0.707317</td>\n",
       "    </tr>\n",
       "    <tr>\n",
       "      <td>4</td>\n",
       "      <td>0.348900</td>\n",
       "      <td>0.772277</td>\n",
       "      <td>0.756098</td>\n",
       "    </tr>\n",
       "    <tr>\n",
       "      <td>5</td>\n",
       "      <td>0.276700</td>\n",
       "      <td>1.265728</td>\n",
       "      <td>0.707317</td>\n",
       "    </tr>\n",
       "  </tbody>\n",
       "</table><p>"
      ],
      "text/plain": [
       "<IPython.core.display.HTML object>"
      ]
     },
     "metadata": {},
     "output_type": "display_data"
    },
    {
     "name": "stdout",
     "output_type": "stream",
     "text": [
      "Saved improved model to ./model_output\n",
      "Saved improved model to ./model_output\n",
      "Stopping early at epoch 5.0: No improvement in loss or accuracy for 3 evaluations.\n",
      "Loaded best model from ./model_output/finetuned_model.pth\n"
     ]
    },
    {
     "data": {
      "text/html": [
       "\n",
       "    <div>\n",
       "      \n",
       "      <progress value='6' max='6' style='width:300px; height:20px; vertical-align: middle;'></progress>\n",
       "      [6/6 00:05]\n",
       "    </div>\n",
       "    "
      ],
      "text/plain": [
       "<IPython.core.display.HTML object>"
      ]
     },
     "metadata": {},
     "output_type": "display_data"
    },
    {
     "name": "stdout",
     "output_type": "stream",
     "text": [
      "Stopping early at epoch 5.0: No improvement in loss or accuracy for 3 evaluations.\n",
      "{'eval_loss': 0.5315811634063721, 'eval_accuracy': 0.7073170731707317, 'eval_runtime': 6.9808, 'eval_samples_per_second': 5.873, 'eval_steps_per_second': 0.86, 'epoch': 5.0}\n",
      "Batch 1, Second-to-Last Layer Embeddings Shape: (32, 1024)\n",
      "Batch 2, Second-to-Last Layer Embeddings Shape: (9, 1024)\n"
     ]
    },
    {
     "data": {
      "image/png": "[encoded data removed]",
      "text/plain": [
       "<Figure size 800x600 with 1 Axes>"
      ]
     },
     "metadata": {},
     "output_type": "display_data"
    },
    {
     "name": "stdout",
     "output_type": "stream",
     "text": [
      "History:  [{'loss': 0.6785, 'learning_rate': 0.00037302838826364787, 'epoch': 1.0, 'step': 40}, {'eval_loss': 0.6055484414100647, 'eval_accuracy': 0.8048780487804879, 'eval_runtime': 6.9722, 'eval_samples_per_second': 5.88, 'eval_steps_per_second': 0.861, 'epoch': 1.0, 'step': 40}, {'loss': 0.5316, 'learning_rate': 0.0007460567765272957, 'epoch': 2.0, 'step': 80}, {'eval_loss': 0.5315811634063721, 'eval_accuracy': 0.7073170731707317, 'eval_runtime': 6.8598, 'eval_samples_per_second': 5.977, 'eval_steps_per_second': 0.875, 'epoch': 2.0, 'step': 80}, {'loss': 0.4513, 'learning_rate': 0.0011190851647909436, 'epoch': 3.0, 'step': 120}, {'eval_loss': 0.6306410431861877, 'eval_accuracy': 0.7073170731707317, 'eval_runtime': 6.9823, 'eval_samples_per_second': 5.872, 'eval_steps_per_second': 0.859, 'epoch': 3.0, 'step': 120}, {'loss': 0.3489, 'learning_rate': 0.0014921135530545915, 'epoch': 4.0, 'step': 160}, {'eval_loss': 0.7722765207290649, 'eval_accuracy': 0.7560975609756098, 'eval_runtime': 6.9684, 'eval_samples_per_second': 5.884, 'eval_steps_per_second': 0.861, 'epoch': 4.0, 'step': 160}, {'loss': 0.2767, 'learning_rate': 0.0014954741691650749, 'epoch': 5.0, 'step': 200}, {'eval_loss': 1.2657283544540405, 'eval_accuracy': 0.7073170731707317, 'eval_runtime': 6.9783, 'eval_samples_per_second': 5.875, 'eval_steps_per_second': 0.86, 'epoch': 5.0, 'step': 200}, {'train_runtime': 566.4584, 'train_samples_per_second': 2.825, 'train_steps_per_second': 0.706, 'total_flos': 197719897372800.0, 'train_loss': 0.4573982810974121, 'epoch': 5.0, 'step': 200}, {'eval_loss': 0.5315811634063721, 'eval_accuracy': 0.7073170731707317, 'eval_runtime': 6.9808, 'eval_samples_per_second': 5.873, 'eval_steps_per_second': 0.86, 'epoch': 5.0, 'step': 200}]\n"
     ]
    },
    {
     "name": "stderr",
     "output_type": "stream",
     "text": [
      "[I 2024-05-16 01:07:56,310] Trial 5 finished with values: [0.5315811634063721, 0.7073170731707317] and parameters: {'lr': 0.001659976327773233, 'batch': 2, 'accum': 2, 'dropout_rate': 0.604125241215519, 'weight_decay': 7.493224381291337e-05, 'warmup_pct': 0.22323694666052363}. \n"
     ]
    },
    {
     "name": "stdout",
     "output_type": "stream",
     "text": [
      "ProtT5_Classfier\n",
      "Trainable Parameter: 1209193475.0\n",
      "ProtT5_LoRA_Classfier\n",
      "Trainable Parameter: 3559427.0\n",
      "\n"
     ]
    },
    {
     "name": "stderr",
     "output_type": "stream",
     "text": [
      "Detected kernel version 4.18.0, which is below the recommended minimum of 5.5.0; this can cause the process to hang. It is recommended to upgrade the kernel to the minimum version or higher.\n"
     ]
    },
    {
     "data": {
      "text/html": [
       "\n",
       "    <div>\n",
       "      \n",
       "      <progress value='200' max='200' style='width:300px; height:20px; vertical-align: middle;'></progress>\n",
       "      [200/200 13:02, Epoch 10/10]\n",
       "    </div>\n",
       "    <table border=\"1\" class=\"dataframe\">\n",
       "  <thead>\n",
       " <tr style=\"text-align: left;\">\n",
       "      <th>Epoch</th>\n",
       "      <th>Training Loss</th>\n",
       "      <th>Validation Loss</th>\n",
       "      <th>Accuracy</th>\n",
       "    </tr>\n",
       "  </thead>\n",
       "  <tbody>\n",
       "    <tr>\n",
       "      <td>1</td>\n",
       "      <td>0.769600</td>\n",
       "      <td>0.678767</td>\n",
       "      <td>0.682927</td>\n",
       "    </tr>\n",
       "    <tr>\n",
       "      <td>2</td>\n",
       "      <td>0.770100</td>\n",
       "      <td>0.676902</td>\n",
       "      <td>0.682927</td>\n",
       "    </tr>\n",
       "    <tr>\n",
       "      <td>3</td>\n",
       "      <td>0.782100</td>\n",
       "      <td>0.675335</td>\n",
       "      <td>0.682927</td>\n",
       "    </tr>\n",
       "    <tr>\n",
       "      <td>4</td>\n",
       "      <td>0.749000</td>\n",
       "      <td>0.674076</td>\n",
       "      <td>0.658537</td>\n",
       "    </tr>\n",
       "    <tr>\n",
       "      <td>5</td>\n",
       "      <td>0.791300</td>\n",
       "      <td>0.672442</td>\n",
       "      <td>0.609756</td>\n",
       "    </tr>\n",
       "    <tr>\n",
       "      <td>6</td>\n",
       "      <td>0.693700</td>\n",
       "      <td>0.670977</td>\n",
       "      <td>0.585366</td>\n",
       "    </tr>\n",
       "    <tr>\n",
       "      <td>7</td>\n",
       "      <td>0.762000</td>\n",
       "      <td>0.670031</td>\n",
       "      <td>0.585366</td>\n",
       "    </tr>\n",
       "    <tr>\n",
       "      <td>8</td>\n",
       "      <td>0.767700</td>\n",
       "      <td>0.669465</td>\n",
       "      <td>0.585366</td>\n",
       "    </tr>\n",
       "    <tr>\n",
       "      <td>9</td>\n",
       "      <td>0.750200</td>\n",
       "      <td>0.669049</td>\n",
       "      <td>0.609756</td>\n",
       "    </tr>\n",
       "    <tr>\n",
       "      <td>10</td>\n",
       "      <td>0.793100</td>\n",
       "      <td>0.668911</td>\n",
       "      <td>0.609756</td>\n",
       "    </tr>\n",
       "  </tbody>\n",
       "</table><p>"
      ],
      "text/plain": [
       "<IPython.core.display.HTML object>"
      ]
     },
     "metadata": {},
     "output_type": "display_data"
    },
    {
     "name": "stdout",
     "output_type": "stream",
     "text": [
      "Saved improved model to ./model_output\n",
      "Saved improved model to ./model_output\n",
      "Saved improved model to ./model_output\n",
      "Saved improved model to ./model_output\n",
      "Saved improved model to ./model_output\n",
      "Saved improved model to ./model_output\n",
      "Saved improved model to ./model_output\n",
      "Loaded best model from ./model_output/finetuned_model.pth\n"
     ]
    },
    {
     "data": {
      "text/html": [
       "\n",
       "    <div>\n",
       "      \n",
       "      <progress value='6' max='6' style='width:300px; height:20px; vertical-align: middle;'></progress>\n",
       "      [6/6 00:01]\n",
       "    </div>\n",
       "    "
      ],
      "text/plain": [
       "<IPython.core.display.HTML object>"
      ]
     },
     "metadata": {},
     "output_type": "display_data"
    },
    {
     "name": "stdout",
     "output_type": "stream",
     "text": [
      "Stopping early at epoch 10.0: No improvement in loss or accuracy for 3 evaluations.\n",
      "{'eval_loss': 0.6694649457931519, 'eval_accuracy': 0.5853658536585366, 'eval_runtime': 1.785, 'eval_samples_per_second': 22.969, 'eval_steps_per_second': 3.361, 'epoch': 10.0}\n",
      "Batch 1, Second-to-Last Layer Embeddings Shape: (32, 1024)\n",
      "Batch 2, Second-to-Last Layer Embeddings Shape: (9, 1024)\n"
     ]
    },
    {
     "data": {
      "image/png": "[encoded data removed]",
      "text/plain": [
       "<Figure size 800x600 with 1 Axes>"
      ]
     },
     "metadata": {},
     "output_type": "display_data"
    },
    {
     "name": "stderr",
     "output_type": "stream",
     "text": [
      "[I 2024-05-16 01:22:20,765] Trial 6 finished with values: [0.6694649457931519, 0.5853658536585366] and parameters: {'lr': 2.246864152799188e-05, 'batch': 4, 'accum': 2, 'dropout_rate': 0.8843809010266548, 'weight_decay': 1.8045727637869314e-05, 'warmup_pct': 0.0843788559844972}. \n"
     ]
    },
    {
     "name": "stdout",
     "output_type": "stream",
     "text": [
      "History:  [{'loss': 0.7696, 'learning_rate': 1.3617358501813261e-05, 'epoch': 1.0, 'step': 20}, {'eval_loss': 0.6787671446800232, 'eval_accuracy': 0.6829268292682927, 'eval_runtime': 6.9437, 'eval_samples_per_second': 5.905, 'eval_steps_per_second': 0.864, 'epoch': 1.0, 'step': 20}, {'loss': 0.7701, 'learning_rate': 2.152684218250719e-05, 'epoch': 2.0, 'step': 40}, {'eval_loss': 0.6769017577171326, 'eval_accuracy': 0.6829268292682927, 'eval_runtime': 1.8919, 'eval_samples_per_second': 21.671, 'eval_steps_per_second': 3.171, 'epoch': 2.0, 'step': 40}, {'loss': 0.7821, 'learning_rate': 1.883598690969379e-05, 'epoch': 3.0, 'step': 60}, {'eval_loss': 0.6753345131874084, 'eval_accuracy': 0.6829268292682927, 'eval_runtime': 1.7169, 'eval_samples_per_second': 23.88, 'eval_steps_per_second': 3.495, 'epoch': 3.0, 'step': 60}, {'loss': 0.749, 'learning_rate': 1.6145131636880394e-05, 'epoch': 4.0, 'step': 80}, {'eval_loss': 0.674075722694397, 'eval_accuracy': 0.6585365853658537, 'eval_runtime': 1.6635, 'eval_samples_per_second': 24.647, 'eval_steps_per_second': 3.607, 'epoch': 4.0, 'step': 80}, {'loss': 0.7913, 'learning_rate': 1.3454276364066994e-05, 'epoch': 5.0, 'step': 100}, {'eval_loss': 0.6724417209625244, 'eval_accuracy': 0.6097560975609756, 'eval_runtime': 1.6702, 'eval_samples_per_second': 24.548, 'eval_steps_per_second': 3.592, 'epoch': 5.0, 'step': 100}, {'loss': 0.6937, 'learning_rate': 1.0763421091253595e-05, 'epoch': 6.0, 'step': 120}, {'eval_loss': 0.6709768176078796, 'eval_accuracy': 0.5853658536585366, 'eval_runtime': 1.6994, 'eval_samples_per_second': 24.126, 'eval_steps_per_second': 3.531, 'epoch': 6.0, 'step': 120}, {'loss': 0.762, 'learning_rate': 8.072565818440197e-06, 'epoch': 7.0, 'step': 140}, {'eval_loss': 0.6700307130813599, 'eval_accuracy': 0.5853658536585366, 'eval_runtime': 1.7564, 'eval_samples_per_second': 23.343, 'eval_steps_per_second': 3.416, 'epoch': 7.0, 'step': 140}, {'loss': 0.7677, 'learning_rate': 5.381710545626798e-06, 'epoch': 8.0, 'step': 160}, {'eval_loss': 0.6694649457931519, 'eval_accuracy': 0.5853658536585366, 'eval_runtime': 1.822, 'eval_samples_per_second': 22.503, 'eval_steps_per_second': 3.293, 'epoch': 8.0, 'step': 160}, {'loss': 0.7502, 'learning_rate': 2.690855272813399e-06, 'epoch': 9.0, 'step': 180}, {'eval_loss': 0.6690490245819092, 'eval_accuracy': 0.6097560975609756, 'eval_runtime': 3.2008, 'eval_samples_per_second': 12.809, 'eval_steps_per_second': 1.875, 'epoch': 9.0, 'step': 180}, {'loss': 0.7931, 'learning_rate': 0.0, 'epoch': 10.0, 'step': 200}, {'eval_loss': 0.6689110994338989, 'eval_accuracy': 0.6097560975609756, 'eval_runtime': 1.8877, 'eval_samples_per_second': 21.72, 'eval_steps_per_second': 3.178, 'epoch': 10.0, 'step': 200}, {'train_runtime': 783.6778, 'train_samples_per_second': 2.042, 'train_steps_per_second': 0.255, 'total_flos': 395439794745600.0, 'train_loss': 0.7628747272491455, 'epoch': 10.0, 'step': 200}, {'eval_loss': 0.6694649457931519, 'eval_accuracy': 0.5853658536585366, 'eval_runtime': 1.785, 'eval_samples_per_second': 22.969, 'eval_steps_per_second': 3.361, 'epoch': 10.0, 'step': 200}]\n",
      "ProtT5_Classfier\n",
      "Trainable Parameter: 1209193475.0\n",
      "ProtT5_LoRA_Classfier\n",
      "Trainable Parameter: 3559427.0\n",
      "\n"
     ]
    },
    {
     "name": "stderr",
     "output_type": "stream",
     "text": [
      "Detected kernel version 4.18.0, which is below the recommended minimum of 5.5.0; this can cause the process to hang. It is recommended to upgrade the kernel to the minimum version or higher.\n"
     ]
    },
    {
     "data": {
      "text/html": [
       "\n",
       "    <div>\n",
       "      \n",
       "      <progress value='400' max='400' style='width:300px; height:20px; vertical-align: middle;'></progress>\n",
       "      [400/400 18:33, Epoch 10/10]\n",
       "    </div>\n",
       "    <table border=\"1\" class=\"dataframe\">\n",
       "  <thead>\n",
       " <tr style=\"text-align: left;\">\n",
       "      <th>Epoch</th>\n",
       "      <th>Training Loss</th>\n",
       "      <th>Validation Loss</th>\n",
       "      <th>Accuracy</th>\n",
       "    </tr>\n",
       "  </thead>\n",
       "  <tbody>\n",
       "    <tr>\n",
       "      <td>1</td>\n",
       "      <td>0.689100</td>\n",
       "      <td>0.669574</td>\n",
       "      <td>0.634146</td>\n",
       "    </tr>\n",
       "    <tr>\n",
       "      <td>2</td>\n",
       "      <td>0.663800</td>\n",
       "      <td>0.639680</td>\n",
       "      <td>0.707317</td>\n",
       "    </tr>\n",
       "    <tr>\n",
       "      <td>3</td>\n",
       "      <td>0.623900</td>\n",
       "      <td>0.602355</td>\n",
       "      <td>0.731707</td>\n",
       "    </tr>\n",
       "    <tr>\n",
       "      <td>4</td>\n",
       "      <td>0.574900</td>\n",
       "      <td>0.568299</td>\n",
       "      <td>0.707317</td>\n",
       "    </tr>\n",
       "    <tr>\n",
       "      <td>5</td>\n",
       "      <td>0.490500</td>\n",
       "      <td>0.530683</td>\n",
       "      <td>0.804878</td>\n",
       "    </tr>\n",
       "    <tr>\n",
       "      <td>6</td>\n",
       "      <td>0.420700</td>\n",
       "      <td>0.508478</td>\n",
       "      <td>0.731707</td>\n",
       "    </tr>\n",
       "    <tr>\n",
       "      <td>7</td>\n",
       "      <td>0.381600</td>\n",
       "      <td>0.489588</td>\n",
       "      <td>0.756098</td>\n",
       "    </tr>\n",
       "    <tr>\n",
       "      <td>8</td>\n",
       "      <td>0.289300</td>\n",
       "      <td>0.533999</td>\n",
       "      <td>0.804878</td>\n",
       "    </tr>\n",
       "    <tr>\n",
       "      <td>9</td>\n",
       "      <td>0.219400</td>\n",
       "      <td>0.602970</td>\n",
       "      <td>0.780488</td>\n",
       "    </tr>\n",
       "    <tr>\n",
       "      <td>10</td>\n",
       "      <td>0.172300</td>\n",
       "      <td>0.596297</td>\n",
       "      <td>0.780488</td>\n",
       "    </tr>\n",
       "  </tbody>\n",
       "</table><p>"
      ],
      "text/plain": [
       "<IPython.core.display.HTML object>"
      ]
     },
     "metadata": {},
     "output_type": "display_data"
    },
    {
     "name": "stdout",
     "output_type": "stream",
     "text": [
      "Saved improved model to ./model_output\n",
      "Saved improved model to ./model_output\n",
      "Saved improved model to ./model_output\n",
      "Saved improved model to ./model_output\n",
      "Saved improved model to ./model_output\n",
      "Saved improved model to ./model_output\n",
      "Saved improved model to ./model_output\n",
      "Stopping early at epoch 10.0: No improvement in loss or accuracy for 3 evaluations.\n",
      "Loaded best model from ./model_output/finetuned_model.pth\n"
     ]
    },
    {
     "data": {
      "text/html": [
       "\n",
       "    <div>\n",
       "      \n",
       "      <progress value='6' max='6' style='width:300px; height:20px; vertical-align: middle;'></progress>\n",
       "      [6/6 00:01]\n",
       "    </div>\n",
       "    "
      ],
      "text/plain": [
       "<IPython.core.display.HTML object>"
      ]
     },
     "metadata": {},
     "output_type": "display_data"
    },
    {
     "name": "stdout",
     "output_type": "stream",
     "text": [
      "Stopping early at epoch 10.0: No improvement in loss or accuracy for 3 evaluations.\n",
      "{'eval_loss': 0.4895881116390228, 'eval_accuracy': 0.7560975609756098, 'eval_runtime': 1.9168, 'eval_samples_per_second': 21.39, 'eval_steps_per_second': 3.13, 'epoch': 10.0}\n",
      "Batch 1, Second-to-Last Layer Embeddings Shape: (32, 1024)\n",
      "Batch 2, Second-to-Last Layer Embeddings Shape: (9, 1024)\n"
     ]
    },
    {
     "data": {
      "image/png": "[encoded data removed]",
      "text/plain": [
       "<Figure size 800x600 with 1 Axes>"
      ]
     },
     "metadata": {},
     "output_type": "display_data"
    },
    {
     "name": "stdout",
     "output_type": "stream",
     "text": [
      "History:  [{'loss': 0.6891, 'learning_rate': 2.6714209463702214e-05, 'epoch': 1.0, 'step': 40}, {'eval_loss': 0.6695742607116699, 'eval_accuracy': 0.6341463414634146, 'eval_runtime': 1.8409, 'eval_samples_per_second': 22.272, 'eval_steps_per_second': 3.259, 'epoch': 1.0, 'step': 40}, {'loss': 0.6638, 'learning_rate': 5.342841892740443e-05, 'epoch': 2.0, 'step': 80}, {'eval_loss': 0.6396796703338623, 'eval_accuracy': 0.7073170731707317, 'eval_runtime': 1.8785, 'eval_samples_per_second': 21.826, 'eval_steps_per_second': 3.194, 'epoch': 2.0, 'step': 80}, {'loss': 0.6239, 'learning_rate': 8.014262839110664e-05, 'epoch': 3.0, 'step': 120}, {'eval_loss': 0.6023549437522888, 'eval_accuracy': 0.7317073170731707, 'eval_runtime': 1.8975, 'eval_samples_per_second': 21.607, 'eval_steps_per_second': 3.162, 'epoch': 3.0, 'step': 120}, {'loss': 0.5749, 'learning_rate': 0.00010685683785480886, 'epoch': 4.0, 'step': 160}, {'eval_loss': 0.5682985186576843, 'eval_accuracy': 0.7073170731707317, 'eval_runtime': 2.1818, 'eval_samples_per_second': 18.792, 'eval_steps_per_second': 2.75, 'epoch': 4.0, 'step': 160}, {'loss': 0.4905, 'learning_rate': 0.0001335710473185111, 'epoch': 5.0, 'step': 200}, {'eval_loss': 0.5306829810142517, 'eval_accuracy': 0.8048780487804879, 'eval_runtime': 1.9162, 'eval_samples_per_second': 21.397, 'eval_steps_per_second': 3.131, 'epoch': 5.0, 'step': 200}, {'loss': 0.4207, 'learning_rate': 0.00016028525678221328, 'epoch': 6.0, 'step': 240}, {'eval_loss': 0.5084784626960754, 'eval_accuracy': 0.7317073170731707, 'eval_runtime': 2.8132, 'eval_samples_per_second': 14.574, 'eval_steps_per_second': 2.133, 'epoch': 6.0, 'step': 240}, {'loss': 0.3816, 'learning_rate': 0.0001869994662459155, 'epoch': 7.0, 'step': 280}, {'eval_loss': 0.4895881116390228, 'eval_accuracy': 0.7560975609756098, 'eval_runtime': 5.4141, 'eval_samples_per_second': 7.573, 'eval_steps_per_second': 1.108, 'epoch': 7.0, 'step': 280}, {'loss': 0.2893, 'learning_rate': 0.0001922194841870987, 'epoch': 8.0, 'step': 320}, {'eval_loss': 0.5339987874031067, 'eval_accuracy': 0.8048780487804879, 'eval_runtime': 4.6718, 'eval_samples_per_second': 8.776, 'eval_steps_per_second': 1.284, 'epoch': 8.0, 'step': 320}, {'loss': 0.2194, 'learning_rate': 9.610974209354936e-05, 'epoch': 9.0, 'step': 360}, {'eval_loss': 0.602969765663147, 'eval_accuracy': 0.7804878048780488, 'eval_runtime': 6.3316, 'eval_samples_per_second': 6.476, 'eval_steps_per_second': 0.948, 'epoch': 9.0, 'step': 360}, {'loss': 0.1723, 'learning_rate': 0.0, 'epoch': 10.0, 'step': 400}, {'eval_loss': 0.596297025680542, 'eval_accuracy': 0.7804878048780488, 'eval_runtime': 6.7369, 'eval_samples_per_second': 6.086, 'eval_steps_per_second': 0.891, 'epoch': 10.0, 'step': 400}, {'train_runtime': 1114.3809, 'train_samples_per_second': 1.436, 'train_steps_per_second': 0.359, 'total_flos': 395439794745600.0, 'train_loss': 0.4525374722480774, 'epoch': 10.0, 'step': 400}, {'eval_loss': 0.4895881116390228, 'eval_accuracy': 0.7560975609756098, 'eval_runtime': 1.9168, 'eval_samples_per_second': 21.39, 'eval_steps_per_second': 3.13, 'epoch': 10.0, 'step': 400}]\n"
     ]
    },
    {
     "name": "stderr",
     "output_type": "stream",
     "text": [
      "[I 2024-05-16 01:42:08,077] Trial 7 finished with values: [0.4895881116390228, 0.7560975609756098] and parameters: {'lr': 0.00020903868905346984, 'batch': 1, 'accum': 4, 'dropout_rate': 0.38832674503593423, 'weight_decay': 0.0005933215687317266, 'warmup_pct': 0.19578188258995016}. \n"
     ]
    },
    {
     "name": "stdout",
     "output_type": "stream",
     "text": [
      "ProtT5_Classfier\n",
      "Trainable Parameter: 1209193475.0\n",
      "ProtT5_LoRA_Classfier\n",
      "Trainable Parameter: 3559427.0\n",
      "\n"
     ]
    },
    {
     "name": "stderr",
     "output_type": "stream",
     "text": [
      "Detected kernel version 4.18.0, which is below the recommended minimum of 5.5.0; this can cause the process to hang. It is recommended to upgrade the kernel to the minimum version or higher.\n"
     ]
    },
    {
     "data": {
      "text/html": [
       "\n",
       "    <div>\n",
       "      \n",
       "      <progress value='140' max='200' style='width:300px; height:20px; vertical-align: middle;'></progress>\n",
       "      [140/200 13:41 < 05:57, 0.17 it/s, Epoch 7/10]\n",
       "    </div>\n",
       "    <table border=\"1\" class=\"dataframe\">\n",
       "  <thead>\n",
       " <tr style=\"text-align: left;\">\n",
       "      <th>Epoch</th>\n",
       "      <th>Training Loss</th>\n",
       "      <th>Validation Loss</th>\n",
       "      <th>Accuracy</th>\n",
       "    </tr>\n",
       "  </thead>\n",
       "  <tbody>\n",
       "    <tr>\n",
       "      <td>1</td>\n",
       "      <td>0.684600</td>\n",
       "      <td>0.650659</td>\n",
       "      <td>0.731707</td>\n",
       "    </tr>\n",
       "    <tr>\n",
       "      <td>2</td>\n",
       "      <td>0.617700</td>\n",
       "      <td>0.586546</td>\n",
       "      <td>0.780488</td>\n",
       "    </tr>\n",
       "    <tr>\n",
       "      <td>3</td>\n",
       "      <td>0.516000</td>\n",
       "      <td>0.534028</td>\n",
       "      <td>0.658537</td>\n",
       "    </tr>\n",
       "    <tr>\n",
       "      <td>4</td>\n",
       "      <td>0.416200</td>\n",
       "      <td>0.476395</td>\n",
       "      <td>0.804878</td>\n",
       "    </tr>\n",
       "    <tr>\n",
       "      <td>5</td>\n",
       "      <td>0.305400</td>\n",
       "      <td>0.524813</td>\n",
       "      <td>0.804878</td>\n",
       "    </tr>\n",
       "    <tr>\n",
       "      <td>6</td>\n",
       "      <td>0.217200</td>\n",
       "      <td>0.566688</td>\n",
       "      <td>0.707317</td>\n",
       "    </tr>\n",
       "    <tr>\n",
       "      <td>7</td>\n",
       "      <td>0.129400</td>\n",
       "      <td>0.621553</td>\n",
       "      <td>0.707317</td>\n",
       "    </tr>\n",
       "  </tbody>\n",
       "</table><p>"
      ],
      "text/plain": [
       "<IPython.core.display.HTML object>"
      ]
     },
     "metadata": {},
     "output_type": "display_data"
    },
    {
     "name": "stdout",
     "output_type": "stream",
     "text": [
      "Saved improved model to ./model_output\n",
      "Saved improved model to ./model_output\n",
      "Saved improved model to ./model_output\n",
      "Saved improved model to ./model_output\n",
      "Stopping early at epoch 7.0: No improvement in loss or accuracy for 3 evaluations.\n",
      "Loaded best model from ./model_output/finetuned_model.pth\n"
     ]
    },
    {
     "data": {
      "text/html": [
       "\n",
       "    <div>\n",
       "      \n",
       "      <progress value='6' max='6' style='width:300px; height:20px; vertical-align: middle;'></progress>\n",
       "      [6/6 00:01]\n",
       "    </div>\n",
       "    "
      ],
      "text/plain": [
       "<IPython.core.display.HTML object>"
      ]
     },
     "metadata": {},
     "output_type": "display_data"
    },
    {
     "name": "stdout",
     "output_type": "stream",
     "text": [
      "Stopping early at epoch 7.0: No improvement in loss or accuracy for 3 evaluations.\n",
      "{'eval_loss': 0.4763951301574707, 'eval_accuracy': 0.8048780487804879, 'eval_runtime': 1.7957, 'eval_samples_per_second': 22.832, 'eval_steps_per_second': 3.341, 'epoch': 7.0}\n",
      "Batch 1, Second-to-Last Layer Embeddings Shape: (32, 1024)\n",
      "Batch 2, Second-to-Last Layer Embeddings Shape: (9, 1024)\n"
     ]
    },
    {
     "data": {
      "image/png": "[encoded data removed]",
      "text/plain": [
       "<Figure size 800x600 with 1 Axes>"
      ]
     },
     "metadata": {},
     "output_type": "display_data"
    },
    {
     "name": "stderr",
     "output_type": "stream",
     "text": [
      "[I 2024-05-16 01:57:13,682] Trial 8 finished with values: [0.4763951301574707, 0.8048780487804879] and parameters: {'lr': 0.0005230835468331856, 'batch': 1, 'accum': 8, 'dropout_rate': 0.249393371466119, 'weight_decay': 0.00022371572349701594, 'warmup_pct': 0.0659331898500009}. \n"
     ]
    },
    {
     "name": "stdout",
     "output_type": "stream",
     "text": [
      "History:  [{'loss': 0.6846, 'learning_rate': 9.963496130155916e-05, 'epoch': 1.0, 'step': 20}, {'eval_loss': 0.6506590247154236, 'eval_accuracy': 0.7317073170731707, 'eval_runtime': 5.4424, 'eval_samples_per_second': 7.533, 'eval_steps_per_second': 1.102, 'epoch': 1.0, 'step': 20}, {'loss': 0.6177, 'learning_rate': 0.00019926992260311833, 'epoch': 2.0, 'step': 40}, {'eval_loss': 0.5865455269813538, 'eval_accuracy': 0.7804878048780488, 'eval_runtime': 5.1792, 'eval_samples_per_second': 7.916, 'eval_steps_per_second': 1.158, 'epoch': 2.0, 'step': 40}, {'loss': 0.516, 'learning_rate': 0.0002989048839046775, 'epoch': 3.0, 'step': 60}, {'eval_loss': 0.534028172492981, 'eval_accuracy': 0.6585365853658537, 'eval_runtime': 4.9507, 'eval_samples_per_second': 8.282, 'eval_steps_per_second': 1.212, 'epoch': 3.0, 'step': 60}, {'loss': 0.4162, 'learning_rate': 0.00039853984520623665, 'epoch': 4.0, 'step': 80}, {'eval_loss': 0.4763951301574707, 'eval_accuracy': 0.8048780487804879, 'eval_runtime': 2.8033, 'eval_samples_per_second': 14.626, 'eval_steps_per_second': 2.14, 'epoch': 4.0, 'step': 80}, {'loss': 0.3054, 'learning_rate': 0.0004981748065077959, 'epoch': 5.0, 'step': 100}, {'eval_loss': 0.5248131155967712, 'eval_accuracy': 0.8048780487804879, 'eval_runtime': 2.9035, 'eval_samples_per_second': 14.121, 'eval_steps_per_second': 2.066, 'epoch': 5.0, 'step': 100}, {'loss': 0.2172, 'learning_rate': 0.00044049140785952474, 'epoch': 6.0, 'step': 120}, {'eval_loss': 0.5666877627372742, 'eval_accuracy': 0.7073170731707317, 'eval_runtime': 4.178, 'eval_samples_per_second': 9.813, 'eval_steps_per_second': 1.436, 'epoch': 6.0, 'step': 120}, {'loss': 0.1294, 'learning_rate': 0.00033036855589464357, 'epoch': 7.0, 'step': 140}, {'eval_loss': 0.6215528249740601, 'eval_accuracy': 0.7073170731707317, 'eval_runtime': 3.5205, 'eval_samples_per_second': 11.646, 'eval_steps_per_second': 1.704, 'epoch': 7.0, 'step': 140}, {'train_runtime': 824.0297, 'train_samples_per_second': 1.942, 'train_steps_per_second': 0.243, 'total_flos': 276807856321920.0, 'train_loss': 0.4123696071760995, 'epoch': 7.0, 'step': 140}, {'eval_loss': 0.4763951301574707, 'eval_accuracy': 0.8048780487804879, 'eval_runtime': 1.7957, 'eval_samples_per_second': 22.832, 'eval_steps_per_second': 3.341, 'epoch': 7.0, 'step': 140}]\n",
      "ProtT5_Classfier\n",
      "Trainable Parameter: 1209193475.0\n",
      "ProtT5_LoRA_Classfier\n",
      "Trainable Parameter: 3559427.0\n",
      "\n"
     ]
    },
    {
     "name": "stderr",
     "output_type": "stream",
     "text": [
      "Detected kernel version 4.18.0, which is below the recommended minimum of 5.5.0; this can cause the process to hang. It is recommended to upgrade the kernel to the minimum version or higher.\n"
     ]
    },
    {
     "data": {
      "text/html": [
       "\n",
       "    <div>\n",
       "      \n",
       "      <progress value='90' max='100' style='width:300px; height:20px; vertical-align: middle;'></progress>\n",
       "      [ 90/100 11:21 < 01:17, 0.13 it/s, Epoch 9/10]\n",
       "    </div>\n",
       "    <table border=\"1\" class=\"dataframe\">\n",
       "  <thead>\n",
       " <tr style=\"text-align: left;\">\n",
       "      <th>Epoch</th>\n",
       "      <th>Training Loss</th>\n",
       "      <th>Validation Loss</th>\n",
       "      <th>Accuracy</th>\n",
       "    </tr>\n",
       "  </thead>\n",
       "  <tbody>\n",
       "    <tr>\n",
       "      <td>1</td>\n",
       "      <td>0.699800</td>\n",
       "      <td>0.657528</td>\n",
       "      <td>0.707317</td>\n",
       "    </tr>\n",
       "    <tr>\n",
       "      <td>2</td>\n",
       "      <td>0.646600</td>\n",
       "      <td>0.610323</td>\n",
       "      <td>0.731707</td>\n",
       "    </tr>\n",
       "    <tr>\n",
       "      <td>3</td>\n",
       "      <td>0.538600</td>\n",
       "      <td>0.571020</td>\n",
       "      <td>0.658537</td>\n",
       "    </tr>\n",
       "    <tr>\n",
       "      <td>4</td>\n",
       "      <td>0.446000</td>\n",
       "      <td>0.504600</td>\n",
       "      <td>0.731707</td>\n",
       "    </tr>\n",
       "    <tr>\n",
       "      <td>5</td>\n",
       "      <td>0.316300</td>\n",
       "      <td>0.562854</td>\n",
       "      <td>0.658537</td>\n",
       "    </tr>\n",
       "    <tr>\n",
       "      <td>6</td>\n",
       "      <td>0.396900</td>\n",
       "      <td>0.598876</td>\n",
       "      <td>0.756098</td>\n",
       "    </tr>\n",
       "    <tr>\n",
       "      <td>7</td>\n",
       "      <td>0.368000</td>\n",
       "      <td>0.671532</td>\n",
       "      <td>0.707317</td>\n",
       "    </tr>\n",
       "    <tr>\n",
       "      <td>8</td>\n",
       "      <td>0.285600</td>\n",
       "      <td>0.902916</td>\n",
       "      <td>0.658537</td>\n",
       "    </tr>\n",
       "    <tr>\n",
       "      <td>9</td>\n",
       "      <td>0.548200</td>\n",
       "      <td>1.020296</td>\n",
       "      <td>0.731707</td>\n",
       "    </tr>\n",
       "  </tbody>\n",
       "</table><p>"
      ],
      "text/plain": [
       "<IPython.core.display.HTML object>"
      ]
     },
     "metadata": {},
     "output_type": "display_data"
    },
    {
     "name": "stdout",
     "output_type": "stream",
     "text": [
      "Saved improved model to ./model_output\n",
      "Saved improved model to ./model_output\n",
      "Saved improved model to ./model_output\n",
      "Saved improved model to ./model_output\n",
      "Saved improved model to ./model_output\n",
      "Stopping early at epoch 9.0: No improvement in loss or accuracy for 3 evaluations.\n",
      "Loaded best model from ./model_output/finetuned_model.pth\n"
     ]
    },
    {
     "data": {
      "text/html": [
       "\n",
       "    <div>\n",
       "      \n",
       "      <progress value='6' max='6' style='width:300px; height:20px; vertical-align: middle;'></progress>\n",
       "      [6/6 00:01]\n",
       "    </div>\n",
       "    "
      ],
      "text/plain": [
       "<IPython.core.display.HTML object>"
      ]
     },
     "metadata": {},
     "output_type": "display_data"
    },
    {
     "name": "stdout",
     "output_type": "stream",
     "text": [
      "Stopping early at epoch 9.0: No improvement in loss or accuracy for 3 evaluations.\n",
      "{'eval_loss': 0.5988759994506836, 'eval_accuracy': 0.7560975609756098, 'eval_runtime': 1.7878, 'eval_samples_per_second': 22.933, 'eval_steps_per_second': 3.356, 'epoch': 9.0}\n",
      "Batch 1, Second-to-Last Layer Embeddings Shape: (32, 1024)\n",
      "Batch 2, Second-to-Last Layer Embeddings Shape: (9, 1024)\n"
     ]
    },
    {
     "data": {
      "image/png": "[encoded data removed]",
      "text/plain": [
       "<Figure size 800x600 with 1 Axes>"
      ]
     },
     "metadata": {},
     "output_type": "display_data"
    },
    {
     "name": "stderr",
     "output_type": "stream",
     "text": [
      "[I 2024-05-16 02:09:48,460] Trial 9 finished with values: [0.5988759994506836, 0.7560975609756098] and parameters: {'lr': 0.0040769606648794095, 'batch': 4, 'accum': 4, 'dropout_rate': 0.7180895011249031, 'weight_decay': 0.0007876119678321857, 'warmup_pct': 0.26905599143582104}. \n"
     ]
    },
    {
     "name": "stdout",
     "output_type": "stream",
     "text": [
      "History:  [{'loss': 0.6998, 'learning_rate': 0.0003810243612036831, 'epoch': 1.0, 'step': 10}, {'eval_loss': 0.6575279235839844, 'eval_accuracy': 0.7073170731707317, 'eval_runtime': 1.7584, 'eval_samples_per_second': 23.316, 'eval_steps_per_second': 3.412, 'epoch': 1.0, 'step': 10}, {'loss': 0.6466, 'learning_rate': 0.0007620487224073662, 'epoch': 2.0, 'step': 20}, {'eval_loss': 0.6103232502937317, 'eval_accuracy': 0.7317073170731707, 'eval_runtime': 1.8157, 'eval_samples_per_second': 22.581, 'eval_steps_per_second': 3.305, 'epoch': 2.0, 'step': 20}, {'loss': 0.5386, 'learning_rate': 0.0011430730836110494, 'epoch': 3.0, 'step': 30}, {'eval_loss': 0.57101970911026, 'eval_accuracy': 0.6585365853658537, 'eval_runtime': 1.8086, 'eval_samples_per_second': 22.67, 'eval_steps_per_second': 3.318, 'epoch': 3.0, 'step': 30}, {'loss': 0.446, 'learning_rate': 0.0015240974448147324, 'epoch': 4.0, 'step': 40}, {'eval_loss': 0.5045999884605408, 'eval_accuracy': 0.7317073170731707, 'eval_runtime': 1.8205, 'eval_samples_per_second': 22.521, 'eval_steps_per_second': 3.296, 'epoch': 4.0, 'step': 40}, {'loss': 0.3163, 'learning_rate': 0.0019051218060184157, 'epoch': 5.0, 'step': 50}, {'eval_loss': 0.5628536343574524, 'eval_accuracy': 0.6585365853658537, 'eval_runtime': 1.7989, 'eval_samples_per_second': 22.792, 'eval_steps_per_second': 3.335, 'epoch': 5.0, 'step': 50}, {'loss': 0.3969, 'learning_rate': 0.0022861461672220988, 'epoch': 6.0, 'step': 60}, {'eval_loss': 0.5988759994506836, 'eval_accuracy': 0.7560975609756098, 'eval_runtime': 1.842, 'eval_samples_per_second': 22.258, 'eval_steps_per_second': 3.257, 'epoch': 6.0, 'step': 60}, {'loss': 0.368, 'learning_rate': 0.002667170528425782, 'epoch': 7.0, 'step': 70}, {'eval_loss': 0.6715320944786072, 'eval_accuracy': 0.7073170731707317, 'eval_runtime': 1.8488, 'eval_samples_per_second': 22.177, 'eval_steps_per_second': 3.245, 'epoch': 7.0, 'step': 70}, {'loss': 0.2856, 'learning_rate': 0.003048194889629465, 'epoch': 8.0, 'step': 80}, {'eval_loss': 0.9029158353805542, 'eval_accuracy': 0.6585365853658537, 'eval_runtime': 1.8192, 'eval_samples_per_second': 22.537, 'eval_steps_per_second': 3.298, 'epoch': 8.0, 'step': 80}, {'loss': 0.5482, 'learning_rate': 0.003429219250833148, 'epoch': 9.0, 'step': 90}, {'eval_loss': 1.0202958583831787, 'eval_accuracy': 0.7317073170731707, 'eval_runtime': 1.8162, 'eval_samples_per_second': 22.575, 'eval_steps_per_second': 3.304, 'epoch': 9.0, 'step': 90}, {'train_runtime': 683.0413, 'train_samples_per_second': 2.342, 'train_steps_per_second': 0.146, 'total_flos': 355895815271040.0, 'train_loss': 0.47178467114766437, 'epoch': 9.0, 'step': 90}, {'eval_loss': 0.5988759994506836, 'eval_accuracy': 0.7560975609756098, 'eval_runtime': 1.7878, 'eval_samples_per_second': 22.933, 'eval_steps_per_second': 3.356, 'epoch': 9.0, 'step': 90}]\n",
      "Loss: 0.4763951301574707, Accuracy: 0.8048780487804879\n"
     ]
    }
   ],
   "source": [
    "import optuna\n",
    "\n",
    "def objective(trial):\n",
    "    # Hyperparameters to be optimized\n",
    "    # Updated to use suggest_float with log=True for loguniform distribution\n",
    "    lr = trial.suggest_float('lr', 1e-5, 1e-2, log=True)\n",
    "    batch = trial.suggest_categorical('batch', [1, 2, 4])\n",
    "    accum = trial.suggest_categorical('accum', [2, 4, 8])\n",
    "    # Updated to use suggest_float for uniform distribution\n",
    "    dropout = trial.suggest_float('dropout_rate', 0.1, 0.9)\n",
    "    weight_decay = trial.suggest_float('weight_decay', 1e-5, 1e-3, log=True)\n",
    "    warmup_pct = trial.suggest_float(\"warmup_pct\", 0.01, 0.3)  # Warmup percentage between 1% and 30%\n",
    "\n",
    "\n",
    "    # Training and evaluation\n",
    "    tokenizer, model, history = train_per_protein(\n",
    "        train_df=my_train, \n",
    "        valid_df=my_valid, \n",
    "        num_labels=2, \n",
    "        batch=batch, \n",
    "        accum=accum, \n",
    "        epochs=10,  # Fewer epochs for the trial runs\n",
    "        lr=lr,\n",
    "        dropout=dropout,\n",
    "        weight_decay=weight_decay,\n",
    "        warmup_pct=warmup_pct,\n",
    "    )\n",
    "    print(\"History: \", history)\n",
    "    # Extract the last validation accuracy from the history\n",
    "    val_accuracy = [entry['eval_accuracy'] for entry in history if 'eval_accuracy' in entry][-1]\n",
    "    val_loss = [entry['eval_loss'] for entry in history if 'eval_loss' in entry][-1]\n",
    "    return val_loss, val_accuracy\n",
    "\n",
    "directions=['minimize', 'maximize']  # Set the direction to maximize the validation accuracy, can also be 'minimize'\n",
    "study = optuna.create_study(directions=directions,\n",
    "                            storage=\"sqlite:///Y_dephos.sqlite3\",  # Specify the storage URL here.\n",
    "                            study_name=\"Y_dephos\")\n",
    "study.optimize(objective, n_trials=10)  # Adjust the number of trials based on your computational resources\n",
    "\n",
    "# Analyzing results\n",
    "pareto_front = study.best_trials  # Get the Pareto front (best non-dominated solutions)\n",
    "for trial in pareto_front:\n",
    "    print(f\"Loss: {trial.values[0]}, Accuracy: {trial.values[1]}\")  # Note the negation of accuracy\n",
    "\n",
    "# print(\"Best trial:\")\n",
    "# print(\"  Value: \", study.best_trial.value)\n",
    "# print(\"  Params: \")\n",
    "# for key, value in study.best_trial.params.items():\n",
    "#     print(f\"    {key}: {value}\")\n"
   ]
  },
  {
   "cell_type": "markdown",
   "id": "96bcbe5f",
   "metadata": {},
   "source": [
    "{'lr': 0.0005230835468331856, 'batch': 1, 'accum': 8, 'dropout_rate': 0.249393371466119, 'weight_decay': 0.00022371572349701594, 'warmup_pct': 0.0659331898500009}. "
   ]
  },
  {
   "cell_type": "code",
   "execution_count": 13,
   "id": "ddfce510-da2b-4b95-9491-49f9ae8efb06",
   "metadata": {
    "execution": {
     "iopub.execute_input": "2024-04-05T13:08:03.246094Z",
     "iopub.status.busy": "2024-04-05T13:08:03.244479Z",
     "iopub.status.idle": "2024-04-05T14:04:37.162324Z",
     "shell.execute_reply": "2024-04-05T14:04:37.160516Z",
     "shell.execute_reply.started": "2024-04-05T13:08:03.246029Z"
    },
    "tags": []
   },
   "outputs": [
    {
     "name": "stderr",
     "output_type": "stream",
     "text": [
      "You are using the default legacy behaviour of the <class 'transformers.models.t5.tokenization_t5.T5Tokenizer'>. This is expected, and simply means that the `legacy` (previous) behavior will be used so nothing changes for you. If you want to use the new behaviour, set `legacy=False`. This should only be set if you understand what it means, and thouroughly read the reason why this was added as explained in https://github.com/huggingface/transformers/pull/24565\n"
     ]
    },
    {
     "name": "stdout",
     "output_type": "stream",
     "text": [
      "ProtT5_Classfier\n",
      "Trainable Parameter: 1209193475.0\n",
      "ProtT5_LoRA_Classfier\n",
      "Trainable Parameter: 2576387.0\n",
      "\n"
     ]
    },
    {
     "name": "stderr",
     "output_type": "stream",
     "text": [
      "Detected kernel version 4.18.0, which is below the recommended minimum of 5.5.0; this can cause the process to hang. It is recommended to upgrade the kernel to the minimum version or higher.\n"
     ]
    },
    {
     "data": {
      "text/html": [
       "\n",
       "    <div>\n",
       "      \n",
       "      <progress value='180' max='400' style='width:300px; height:20px; vertical-align: middle;'></progress>\n",
       "      [180/400 16:39 < 20:35, 0.18 it/s, Epoch 9/20]\n",
       "    </div>\n",
       "    <table border=\"1\" class=\"dataframe\">\n",
       "  <thead>\n",
       " <tr style=\"text-align: left;\">\n",
       "      <th>Epoch</th>\n",
       "      <th>Training Loss</th>\n",
       "      <th>Validation Loss</th>\n",
       "      <th>Accuracy</th>\n",
       "    </tr>\n",
       "  </thead>\n",
       "  <tbody>\n",
       "    <tr>\n",
       "      <td>1</td>\n",
       "      <td>0.688700</td>\n",
       "      <td>0.664146</td>\n",
       "      <td>0.609756</td>\n",
       "    </tr>\n",
       "    <tr>\n",
       "      <td>2</td>\n",
       "      <td>0.651000</td>\n",
       "      <td>0.623391</td>\n",
       "      <td>0.804878</td>\n",
       "    </tr>\n",
       "    <tr>\n",
       "      <td>3</td>\n",
       "      <td>0.589700</td>\n",
       "      <td>0.577956</td>\n",
       "      <td>0.731707</td>\n",
       "    </tr>\n",
       "    <tr>\n",
       "      <td>4</td>\n",
       "      <td>0.517600</td>\n",
       "      <td>0.534253</td>\n",
       "      <td>0.731707</td>\n",
       "    </tr>\n",
       "    <tr>\n",
       "      <td>5</td>\n",
       "      <td>0.421800</td>\n",
       "      <td>0.512990</td>\n",
       "      <td>0.780488</td>\n",
       "    </tr>\n",
       "    <tr>\n",
       "      <td>6</td>\n",
       "      <td>0.338400</td>\n",
       "      <td>0.510645</td>\n",
       "      <td>0.707317</td>\n",
       "    </tr>\n",
       "    <tr>\n",
       "      <td>7</td>\n",
       "      <td>0.266500</td>\n",
       "      <td>0.540723</td>\n",
       "      <td>0.682927</td>\n",
       "    </tr>\n",
       "    <tr>\n",
       "      <td>8</td>\n",
       "      <td>0.188400</td>\n",
       "      <td>0.589105</td>\n",
       "      <td>0.731707</td>\n",
       "    </tr>\n",
       "    <tr>\n",
       "      <td>9</td>\n",
       "      <td>0.119500</td>\n",
       "      <td>0.797069</td>\n",
       "      <td>0.731707</td>\n",
       "    </tr>\n",
       "  </tbody>\n",
       "</table><p>"
      ],
      "text/plain": [
       "<IPython.core.display.HTML object>"
      ]
     },
     "metadata": {},
     "output_type": "display_data"
    },
    {
     "name": "stdout",
     "output_type": "stream",
     "text": [
      "Saved improved model to ./model_output\n"
     ]
    },
    {
     "name": "stderr",
     "output_type": "stream",
     "text": [
      "Removed shared tensor {'encoder.embed_tokens.weight'} while saving. This should be OK, but check by verifying that you don't receive any warning while reloading\n"
     ]
    },
    {
     "name": "stdout",
     "output_type": "stream",
     "text": [
      "Saved improved model to ./model_output\n",
      "Saved improved model to ./model_output\n",
      "Saved improved model to ./model_output\n",
      "Saved improved model to ./model_output\n",
      "Saved improved model to ./model_output\n",
      "Stopping early at epoch 9.0: No improvement in loss or accuracy for 3 evaluations.\n",
      "Loaded best model from ./model_output/finetuned_model.pth\n"
     ]
    },
    {
     "data": {
      "text/html": [
       "\n",
       "    <div>\n",
       "      \n",
       "      <progress value='6' max='6' style='width:300px; height:20px; vertical-align: middle;'></progress>\n",
       "      [6/6 00:01]\n",
       "    </div>\n",
       "    "
      ],
      "text/plain": [
       "<IPython.core.display.HTML object>"
      ]
     },
     "metadata": {},
     "output_type": "display_data"
    },
    {
     "name": "stdout",
     "output_type": "stream",
     "text": [
      "Stopping early at epoch 9.0: No improvement in loss or accuracy for 3 evaluations.\n",
      "{'eval_loss': 0.5106452107429504, 'eval_accuracy': 0.7073170731707317, 'eval_runtime': 1.8516, 'eval_samples_per_second': 22.143, 'eval_steps_per_second': 3.24, 'epoch': 9.0}\n",
      "Batch 1, Second-to-Last Layer Embeddings Shape: (32, 1024)\n",
      "Batch 2, Second-to-Last Layer Embeddings Shape: (9, 1024)\n"
     ]
    },
    {
     "data": {
      "image/png": "[encoded data removed]",
      "text/plain": [
       "<Figure size 800x600 with 1 Axes>"
      ]
     },
     "metadata": {},
     "output_type": "display_data"
    }
   ],
   "source": [
    "tokenizer, model, history = train_per_protein(my_train, my_valid, num_labels=2, batch=1, accum=8, epochs=20, seed=42, lr=0.0005230835468331856, dropout=0.249393371466119, weight_decay=0.00022371572349701594, warmup_pct=0.0659331898500009)"
   ]
  },
  {
   "cell_type": "code",
   "execution_count": 20,
   "id": "378e27f8",
   "metadata": {},
   "outputs": [
    {
     "data": {
      "text/plain": [
       "[0.6357417702674866,\n",
       " 0.5537726879119873,\n",
       " 0.5104828476905823,\n",
       " 0.47216400504112244,\n",
       " 0.6357417702674866]"
      ]
     },
     "execution_count": 20,
     "metadata": {},
     "output_type": "execute_result"
    }
   ],
   "source": [
    "val_loss"
   ]
  },
  {
   "cell_type": "code",
   "execution_count": 21,
   "id": "a20449e4",
   "metadata": {},
   "outputs": [
    {
     "data": {
      "text/plain": [
       "[0.6798, 0.594, 0.4781, 0.4014]"
      ]
     },
     "execution_count": 21,
     "metadata": {},
     "output_type": "execute_result"
    }
   ],
   "source": [
    "loss"
   ]
  },
  {
   "cell_type": "code",
   "execution_count": 14,
   "id": "3a28d3c1-8e24-4437-a1d9-dda9cefccfd7",
   "metadata": {
    "execution": {
     "iopub.execute_input": "2024-04-05T14:04:37.168731Z",
     "iopub.status.busy": "2024-04-05T14:04:37.168220Z",
     "iopub.status.idle": "2024-04-05T14:04:38.081706Z",
     "shell.execute_reply": "2024-04-05T14:04:38.080275Z",
     "shell.execute_reply.started": "2024-04-05T14:04:37.168675Z"
    },
    "tags": []
   },
   "outputs": [
    {
     "data": {
      "image/png": "[encoded data removed]",
      "text/plain": [
       "<Figure size 1000x500 with 2 Axes>"
      ]
     },
     "metadata": {},
     "output_type": "display_data"
    }
   ],
   "source": [
    "# Get loss, val_loss, and the computed metric from history\n",
    "loss = [x['loss'] for x in history if 'loss' in x]\n",
    "val_loss = [x['eval_loss'] for x in history if 'eval_loss' in x]\n",
    "\n",
    "# Truncate the longer list to the size of the shorter one\n",
    "min_length = min(len(loss), len(val_loss))\n",
    "loss = loss[:min_length]\n",
    "val_loss = val_loss[:min_length]\n",
    "\n",
    "# Get spearman (for regression) or accuracy value (for classification)\n",
    "if [x['eval_spearmanr'] for x in history if 'eval_spearmanr' in x] != []:\n",
    "    metric = [x['eval_spearmanr'] for x in history if 'eval_spearmanr' in x]\n",
    "else:\n",
    "    metric = [x['eval_accuracy'] for x in history if 'eval_accuracy' in x]\n",
    "\n",
    "epochs = [x['epoch'] for x in history if 'loss' in x]\n",
    "\n",
    "# Create a figure with two y-axes\n",
    "fig, ax1 = plt.subplots(figsize=(10, 5))\n",
    "ax2 = ax1.twinx()\n",
    "\n",
    "# Plot loss and val_loss on the first y-axis\n",
    "line1 = ax1.plot(epochs, loss, label='train_loss')\n",
    "line2 = ax1.plot(epochs, val_loss, label='validation_loss')\n",
    "ax1.set_xlabel('Epoch')\n",
    "ax1.set_ylabel('Loss')\n",
    "\n",
    "# Plot the computed metric on the second y-axis\n",
    "#line3 = ax2.plot(epochs, metric, color='red', label='validation_metric')\n",
    "ax2.set_ylabel('Metric')\n",
    "ax2.set_ylim([0, 1])\n",
    "\n",
    "# Add grid lines\n",
    "ax1.grid(True)\n",
    "ax2.grid(True)\n",
    "\n",
    "# Combine the lines from both y-axes and create a single legend\n",
    "lines = line1 + line2 \n",
    "labels = [line.get_label() for line in lines]\n",
    "ax1.legend(lines, labels, loc='lower left')\n",
    "\n",
    "# Show the plot\n",
    "plt.title(\"Training History for fine-tuning\")\n",
    "plt.savefig(f\"../Plots/Without_3rdline_Training_History_new.pdf\")\n",
    "plt.show()"
   ]
  },
  {
   "cell_type": "code",
   "execution_count": 15,
   "id": "ccb1bbda-d70e-4b4c-a8d4-24600495171a",
   "metadata": {
    "execution": {
     "iopub.execute_input": "2024-04-05T14:04:38.083526Z",
     "iopub.status.busy": "2024-04-05T14:04:38.083162Z",
     "iopub.status.idle": "2024-04-05T14:04:38.092729Z",
     "shell.execute_reply": "2024-04-05T14:04:38.091278Z",
     "shell.execute_reply.started": "2024-04-05T14:04:38.083490Z"
    },
    "tags": []
   },
   "outputs": [],
   "source": [
    "def save_model(model,filepath):\n",
    "# Saves all parameters that were changed during finetuning\n",
    "\n",
    "    # Create a dictionary to hold the non-frozen parameters\n",
    "    non_frozen_params = {}\n",
    "\n",
    "    # Iterate through all the model parameters\n",
    "    for param_name, param in model.named_parameters():\n",
    "        # If the parameter has requires_grad=True, add it to the dictionary\n",
    "        if param.requires_grad:\n",
    "            non_frozen_params[param_name] = param\n",
    "\n",
    "    # Save only the finetuned parameters \n",
    "    torch.save(non_frozen_params, filepath)\n",
    "\n",
    "    \n",
    "def load_model(filepath, num_labels=2):\n",
    "# Creates a new PT5 model and loads the finetuned weights from a file\n",
    "\n",
    "    # load a new model\n",
    "    model, tokenizer = PT5_classification_model(num_labels=num_labels, dropout=0.5)\n",
    "    \n",
    "    # Load the non-frozen parameters from the saved file\n",
    "    non_frozen_params = torch.load(filepath)\n",
    "\n",
    "    # Assign the non-frozen parameters to the corresponding parameters of the model\n",
    "    for param_name, param in model.named_parameters():\n",
    "        if param_name in non_frozen_params:\n",
    "            param.data = non_frozen_params[param_name].data\n",
    "\n",
    "    return tokenizer, model"
   ]
  },
  {
   "cell_type": "code",
   "execution_count": null,
   "id": "cd98e915-c8a8-433a-870a-c6dcaf191e59",
   "metadata": {
    "execution": {
     "iopub.execute_input": "2024-04-05T14:04:38.095733Z",
     "iopub.status.busy": "2024-04-05T14:04:38.095313Z",
     "iopub.status.idle": "2024-04-05T14:05:24.016922Z",
     "shell.execute_reply": "2024-04-05T14:05:24.014560Z",
     "shell.execute_reply.started": "2024-04-05T14:04:38.095698Z"
    },
    "tags": []
   },
   "outputs": [],
   "source": [
    "# def save_model(model, filepath):\n",
    "#     torch.save(model.state_dict(), filepath)\n",
    "\n",
    "# save_model(model, \"../finetuned_model.pth\")"
   ]
  },
  {
   "cell_type": "code",
   "execution_count": 16,
   "id": "7c97fa52-3aea-42e8-b72f-c4bb84808576",
   "metadata": {
    "execution": {
     "iopub.execute_input": "2024-04-05T14:05:24.020589Z",
     "iopub.status.busy": "2024-04-05T14:05:24.019788Z",
     "iopub.status.idle": "2024-04-05T14:08:10.428922Z",
     "shell.execute_reply": "2024-04-05T14:08:10.426805Z",
     "shell.execute_reply.started": "2024-04-05T14:05:24.020524Z"
    },
    "tags": []
   },
   "outputs": [
    {
     "name": "stdout",
     "output_type": "stream",
     "text": [
      "ProtT5_Classfier\n",
      "Trainable Parameter: 1209193475.0\n",
      "ProtT5_LoRA_Classfier\n",
      "Trainable Parameter: 2576387.0\n",
      "\n"
     ]
    }
   ],
   "source": [
    "# tokenizer, model_reload = load_model(\"../finetuned_model.pth\", num_labels=2)\n",
    "tokenizer, model_reload = load_model(\"model_output/finetuned_model.pth\",num_labels=2)"
   ]
  },
  {
   "cell_type": "code",
   "execution_count": 17,
   "id": "b2c20e75-5f40-4ca1-9579-5df49b738fd6",
   "metadata": {
    "execution": {
     "iopub.execute_input": "2024-04-05T14:08:10.432313Z",
     "iopub.status.busy": "2024-04-05T14:08:10.431835Z",
     "iopub.status.idle": "2024-04-05T14:08:19.838631Z",
     "shell.execute_reply": "2024-04-05T14:08:19.836988Z",
     "shell.execute_reply.started": "2024-04-05T14:08:10.432274Z"
    },
    "tags": []
   },
   "outputs": [
    {
     "name": "stdout",
     "output_type": "stream",
     "text": [
      "Models have identical weights\n"
     ]
    }
   ],
   "source": [
    "# Put both models to the same device\n",
    "model=model.to(\"cpu\")\n",
    "model_reload=model_reload.to(\"cpu\")\n",
    "\n",
    "# Iterate through the parameters of the two models and compare the data\n",
    "for param1, param2 in zip(model.parameters(), model_reload.parameters()):\n",
    "    if not torch.equal(param1.data, param2.data):\n",
    "        print(\"Models have different weights\")\n",
    "        break\n",
    "else:\n",
    "    print(\"Models have identical weights\")"
   ]
  },
  {
   "cell_type": "code",
   "execution_count": 20,
   "id": "60a62aae",
   "metadata": {},
   "outputs": [],
   "source": [
    "# model = from_pretrained(\"model_output\")"
   ]
  },
  {
   "cell_type": "code",
   "execution_count": 18,
   "id": "50b8a403-e7c5-4912-9c7a-f404c060c32a",
   "metadata": {
    "execution": {
     "iopub.execute_input": "2024-04-05T14:08:19.841225Z",
     "iopub.status.busy": "2024-04-05T14:08:19.840752Z",
     "iopub.status.idle": "2024-04-05T14:08:19.864579Z",
     "shell.execute_reply": "2024-04-05T14:08:19.862993Z",
     "shell.execute_reply.started": "2024-04-05T14:08:19.841173Z"
    },
    "tags": []
   },
   "outputs": [
    {
     "data": {
      "text/html": [
       "<div>\n",
       "<style scoped>\n",
       "    .dataframe tbody tr th:only-of-type {\n",
       "        vertical-align: middle;\n",
       "    }\n",
       "\n",
       "    .dataframe tbody tr th {\n",
       "        vertical-align: top;\n",
       "    }\n",
       "\n",
       "    .dataframe thead th {\n",
       "        text-align: right;\n",
       "    }\n",
       "</style>\n",
       "<table border=\"1\" class=\"dataframe\">\n",
       "  <thead>\n",
       "    <tr style=\"text-align: right;\">\n",
       "      <th></th>\n",
       "      <th>name</th>\n",
       "      <th>sequence</th>\n",
       "      <th>label</th>\n",
       "    </tr>\n",
       "  </thead>\n",
       "  <tbody>\n",
       "    <tr>\n",
       "      <th>0</th>\n",
       "      <td>sp|P20963|CD3Z_HUMAN%126%142</td>\n",
       "      <td>IGMKGERRRGKGHDGLYQGLSTATKDTYDALHM</td>\n",
       "      <td>1</td>\n",
       "    </tr>\n",
       "    <tr>\n",
       "      <th>1</th>\n",
       "      <td>sp|P00533|EGFR_HUMAN%1076%1092</td>\n",
       "      <td>ALTEDSIDDTFLPVPEYINQSVPKRPAGSVQNP</td>\n",
       "      <td>1</td>\n",
       "    </tr>\n",
       "    <tr>\n",
       "      <th>2</th>\n",
       "      <td>sp|P08581|MET_HUMAN%1349%1365</td>\n",
       "      <td>YVHVNATYVNVKCVAPYPSLLSSEDNADDEVDT</td>\n",
       "      <td>1</td>\n",
       "    </tr>\n",
       "    <tr>\n",
       "      <th>3</th>\n",
       "      <td>sp|P09619|PGFRB_HUMAN%841%857</td>\n",
       "      <td>KICDFGLARDIMRDSNYISKGSTFLPLKWMAPE</td>\n",
       "      <td>1</td>\n",
       "    </tr>\n",
       "    <tr>\n",
       "      <th>4</th>\n",
       "      <td>sp|Q13480|GAB1_HUMAN%573%589</td>\n",
       "      <td>VHSTTSSSDSHDSEENYVPMNPNLSSEDPNLFG</td>\n",
       "      <td>1</td>\n",
       "    </tr>\n",
       "  </tbody>\n",
       "</table>\n",
       "</div>"
      ],
      "text/plain": [
       "                             name                           sequence  label\n",
       "0    sp|P20963|CD3Z_HUMAN%126%142  IGMKGERRRGKGHDGLYQGLSTATKDTYDALHM      1\n",
       "1  sp|P00533|EGFR_HUMAN%1076%1092  ALTEDSIDDTFLPVPEYINQSVPKRPAGSVQNP      1\n",
       "2   sp|P08581|MET_HUMAN%1349%1365  YVHVNATYVNVKCVAPYPSLLSSEDNADDEVDT      1\n",
       "3   sp|P09619|PGFRB_HUMAN%841%857  KICDFGLARDIMRDSNYISKGSTFLPLKWMAPE      1\n",
       "4    sp|Q13480|GAB1_HUMAN%573%589  VHSTTSSSDSHDSEENYVPMNPNLSSEDPNLFG      1"
      ]
     },
     "execution_count": 18,
     "metadata": {},
     "output_type": "execute_result"
    }
   ],
   "source": [
    "from Bio import SeqIO\n",
    "import pandas as pd\n",
    "\n",
    "local_fasta_path = '../src/input_datasets/test_Pos_Neg_Y.fasta'\n",
    "\n",
    "# Load FASTA file using Biopython\n",
    "sequences = []\n",
    "for record in SeqIO.parse(local_fasta_path, \"fasta\"):\n",
    "    # Split the description to extract label\n",
    "    description_parts = record.description.split(\"%\")\n",
    "    label = int(description_parts[-1].split(\"LABEL=\")[1])  # Extracting the numeric part of the label\n",
    "    sequences.append([record.name, str(record.seq), label])\n",
    "\n",
    "# Create dataframe\n",
    "df = pd.DataFrame(sequences, columns=[\"name\", \"sequence\", \"label\"])\n",
    "\n",
    "# Display the dataframe\n",
    "df.head(5)\n"
   ]
  },
  {
   "cell_type": "code",
   "execution_count": 19,
   "id": "d2d18716-fd26-49fe-9ba4-b84c936a364c",
   "metadata": {
    "execution": {
     "iopub.execute_input": "2024-04-05T14:08:19.867076Z",
     "iopub.status.busy": "2024-04-05T14:08:19.866598Z",
     "iopub.status.idle": "2024-04-05T14:08:19.887853Z",
     "shell.execute_reply": "2024-04-05T14:08:19.886215Z",
     "shell.execute_reply.started": "2024-04-05T14:08:19.867024Z"
    },
    "tags": []
   },
   "outputs": [
    {
     "name": "stdout",
     "output_type": "stream",
     "text": [
      "                            sequence  label\n",
      "0  IGMKGERRRGKGHDGLYQGLSTATKDTYDALHM      1\n",
      "1  ALTEDSIDDTFLPVPEYINQSVPKRPAGSVQNP      1\n",
      "2  YVHVNATYVNVKCVAPYPSLLSSEDNADDEVDT      1\n",
      "3  KICDFGLARDIMRDSNYISKGSTFLPLKWMAPE      1\n",
      "4  VHSTTSSSDSHDSEENYVPMNPNLSSEDPNLFG      1\n"
     ]
    }
   ],
   "source": [
    "my_test=df[[\"sequence\", \"label\"]]\n",
    "\n",
    "print(my_test.head(5))\n",
    "\n",
    "'''\n",
    "my_test[\"sequence\"]=my_test[\"sequence\"].str.replace('|'.join([\"O\",\"B\",\"U\",\"Z\"]),\"X\",regex=True)\n",
    "my_test['sequence']=my_test.apply(lambda row : \" \".join(row[\"sequence\"]), axis = 1)\n",
    "'''\n",
    "\n",
    "#Using .loc ensures that you are modifying the original DataFrame rather than a view of it, which helps avoid the SettingWithCopyWarning.\n",
    "# Replace characters in the \"sequence\" column\n",
    "my_test.loc[:, \"sequence\"] = my_test[\"sequence\"].str.replace('|'.join([\"O\", \"B\", \"U\", \"Z\"]), \"X\", regex=True)\n",
    "\n",
    "# Convert each sequence to a space-separated string\n",
    "my_test.loc[:, 'sequence'] = my_test.apply(lambda row: \" \".join(row[\"sequence\"]), axis=1)\n"
   ]
  },
  {
   "cell_type": "code",
   "execution_count": 20,
   "id": "d0dff151-a667-4717-af18-401818bc4c22",
   "metadata": {
    "execution": {
     "iopub.execute_input": "2024-04-05T14:08:19.889951Z",
     "iopub.status.busy": "2024-04-05T14:08:19.889601Z",
     "iopub.status.idle": "2024-04-05T14:08:22.641629Z",
     "shell.execute_reply": "2024-04-05T14:08:22.639919Z",
     "shell.execute_reply.started": "2024-04-05T14:08:19.889916Z"
    },
    "tags": []
   },
   "outputs": [
    {
     "name": "stderr",
     "output_type": "stream",
     "text": [
      "100%|█████████████████████████████████████████████████████████████████████████████████| 4/4 [00:01<00:00,  2.41it/s]"
     ]
    },
    {
     "name": "stdout",
     "output_type": "stream",
     "text": [
      "+----------+---------------+---------------+------------+-----------+\n",
      "|      MCC |   Specificity |   Sensitivity |   Accuracy |   ROC-AUC |\n",
      "+==========+===============+===============+============+===========+\n",
      "| 0.639359 |      0.846154 |      0.791667 |       0.82 |  0.894231 |\n",
      "+----------+---------------+---------------+------------+-----------+\n",
      "[[22  4]\n",
      " [ 5 19]]\n"
     ]
    },
    {
     "name": "stderr",
     "output_type": "stream",
     "text": [
      "\n"
     ]
    }
   ],
   "source": [
    "from sklearn.metrics import confusion_matrix, matthews_corrcoef, roc_auc_score\n",
    "from tabulate import tabulate\n",
    "\n",
    "# Set the device to use\n",
    "device = torch.device('cuda') if torch.cuda.is_available() else torch.device('cpu')\n",
    "model.to(device)\n",
    "\n",
    "# create Dataset\n",
    "test_set=create_dataset(tokenizer,list(my_test['sequence']),list(my_test['label']))\n",
    "# make compatible with torch DataLoader\n",
    "test_set = test_set.with_format(\"torch\", device=device)\n",
    "\n",
    "# Create a dataloader for the test dataset\n",
    "test_dataloader = DataLoader(test_set, batch_size=16, shuffle=False)\n",
    "\n",
    "# Put the model in evaluation mode\n",
    "model.eval()\n",
    "\n",
    "# Make predictions on the test dataset\n",
    "raw_logits = []\n",
    "labels = []\n",
    "with torch.no_grad():\n",
    "    for batch in tqdm(test_dataloader):\n",
    "        input_ids = batch['input_ids'].to(device)\n",
    "        attention_mask = batch['attention_mask'].to(device)\n",
    "        # add batch results (logits) to predictions\n",
    "        raw_logits += model(input_ids, attention_mask=attention_mask).logits.tolist()\n",
    "        labels += batch[\"labels\"].tolist()\n",
    "\n",
    "# Convert logits to predictions\n",
    "raw_logits = np.array(raw_logits)\n",
    "predictions = np.argmax(raw_logits, axis=1)\n",
    "\n",
    "# Calculate metrics\n",
    "conf_matrix = confusion_matrix(labels, predictions)\n",
    "tn, fp, fn, tp = conf_matrix.ravel()\n",
    "\n",
    "mcc = matthews_corrcoef(labels, predictions)\n",
    "specificity = tn / (tn + fp)\n",
    "sensitivity = tp / (tp + fn)\n",
    "accuracy = accuracy_score(labels, predictions)\n",
    "roc_auc = roc_auc_score(labels, raw_logits[:, 1])  # Assuming binary classification, adjust accordingly\n",
    "\n",
    "\n",
    "metrics_table = [\n",
    "    [\"MCC\", \"Specificity\", \"Sensitivity\", \"Accuracy\", \"ROC-AUC\"],\n",
    "    [mcc, specificity, sensitivity, accuracy, roc_auc]\n",
    "]\n",
    "\n",
    "print(tabulate(metrics_table, headers=\"firstrow\", tablefmt=\"grid\"))\n",
    "print(conf_matrix)\n"
   ]
  },
  {
   "cell_type": "code",
   "execution_count": 21,
   "id": "9ce2f51a-887c-4684-82b9-22ea5fffd334",
   "metadata": {
    "execution": {
     "iopub.execute_input": "2024-04-05T14:08:22.647264Z",
     "iopub.status.busy": "2024-04-05T14:08:22.646121Z",
     "iopub.status.idle": "2024-04-05T14:08:23.557189Z",
     "shell.execute_reply": "2024-04-05T14:08:23.555594Z",
     "shell.execute_reply.started": "2024-04-05T14:08:22.647207Z"
    },
    "tags": []
   },
   "outputs": [
    {
     "data": {
      "image/png": "[encoded data removed]",
      "text/plain": [
       "<Figure size 800x600 with 2 Axes>"
      ]
     },
     "metadata": {},
     "output_type": "display_data"
    }
   ],
   "source": [
    "import seaborn as sns\n",
    "import matplotlib.pyplot as plt\n",
    "\n",
    "# Define class labels\n",
    "class_labels = ['0', '1']\n",
    "\n",
    "# Plot confusion matrix\n",
    "plt.figure(figsize=(8, 6))\n",
    "sns.heatmap(conf_matrix, annot=True, fmt='d', cmap='Blues', xticklabels=class_labels, yticklabels=class_labels)\n",
    "plt.xlabel('Predicted')\n",
    "plt.ylabel('Actual')\n",
    "plt.title('Confusion Matrix')\n",
    "plt.savefig(f\"../Plots/Confusion_matrix_for_dephos_new.pdf\")\n",
    "plt.show()\n"
   ]
  },
  {
   "cell_type": "code",
   "execution_count": null,
   "id": "5c5528dc-6e06-456d-920f-8f05055d0b8b",
   "metadata": {},
   "outputs": [],
   "source": []
  },
  {
   "cell_type": "code",
   "execution_count": null,
   "id": "a44d9187-1ac5-4e36-89a0-8f827a7f0077",
   "metadata": {},
   "outputs": [],
   "source": []
  },
  {
   "cell_type": "code",
   "execution_count": null,
   "id": "9f029bcf-42ef-4476-b575-3c14adb71b25",
   "metadata": {},
   "outputs": [],
   "source": []
  },
  {
   "cell_type": "code",
   "execution_count": null,
   "id": "f8da0e6c-e921-493b-9304-8ba9aad07d9c",
   "metadata": {},
   "outputs": [],
   "source": []
  }
 ],
 "metadata": {
  "kernelspec": {
   "display_name": "Python 3 (ipykernel)",
   "language": "python",
   "name": "python3"
  }
 },
 "nbformat": 4,
 "nbformat_minor": 5
}
